{
 "cells": [
  {
   "cell_type": "markdown",
   "metadata": {
    "id": "45p7xwlLAJfS"
   },
   "source": [
    "# Аналитика в стартапе, продающий продукты питания.\n",
    "\n",
    "**Цель**: Разобраться, как ведут себя пользователи в приложении.\n",
    "\n",
    "**Задачи**:\n",
    "* Подготовить данные\n",
    "* Изучить и проверить данные\n",
    "* Изучить воронку продаж\n",
    "* Исследовать результаты A/A/B-эксперимента\n",
    "\n",
    "**Данные для исследования**:\n",
    "\n",
    "Каждая запись в логе — это действие пользователя, или событие.\n",
    "* EventName — название события;\n",
    "* DeviceIDHash — уникальный идентификатор пользователя;\n",
    "* EventTimestamp — время события;\n",
    "* ExpId — номер эксперимента: 246 и 247 — контрольные группы, а 248 — экспериментальная.\n",
    "\n",
    "\n"
   ]
  },
  {
   "cell_type": "markdown",
   "metadata": {
    "id": "lIEEJ6acAJfU"
   },
   "source": [
    "## Изучение данных"
   ]
  },
  {
   "cell_type": "code",
   "execution_count": 1,
   "metadata": {
    "executionInfo": {
     "elapsed": 1906,
     "status": "ok",
     "timestamp": 1628873495046,
     "user": {
      "displayName": "Арсен",
      "photoUrl": "https://lh3.googleusercontent.com/a-/AOh14GjPCG8vWVVB43Ax1wpE_vEPLjGP-XH0UWc12vB7wg=s64",
      "userId": "17661651445996378067"
     },
     "user_tz": -180
    },
    "id": "ngAMwwlQAJfV"
   },
   "outputs": [],
   "source": [
    "import pandas as pd\n",
    "import plotly.express as px\n",
    "import numpy as np\n",
    "import math as mth\n",
    "\n",
    "import plotly.io as pio\n",
    "pio.renderers.default = 'svg'\n",
    "\n",
    "from plotly import graph_objects as go\n",
    "from scipy import stats as st\n",
    "\n",
    "import warnings\n",
    "warnings.filterwarnings('ignore')"
   ]
  },
  {
   "cell_type": "code",
   "execution_count": 2,
   "metadata": {
    "executionInfo": {
     "elapsed": 2364,
     "status": "ok",
     "timestamp": 1628873497409,
     "user": {
      "displayName": "Арсен",
      "photoUrl": "https://lh3.googleusercontent.com/a-/AOh14GjPCG8vWVVB43Ax1wpE_vEPLjGP-XH0UWc12vB7wg=s64",
      "userId": "17661651445996378067"
     },
     "user_tz": -180
    },
    "id": "16fToOepAJfW"
   },
   "outputs": [],
   "source": [
    "try:\n",
    "    df = pd.read_csv('secret.csv',\n",
    "                     sep='\\t')\n",
    "except Exception as err:\n",
    "    print('Error:', err)    "
   ]
  },
  {
   "cell_type": "code",
   "execution_count": 3,
   "metadata": {
    "colab": {
     "base_uri": "https://localhost:8080/",
     "height": 419
    },
    "executionInfo": {
     "elapsed": 15,
     "status": "ok",
     "timestamp": 1628873497410,
     "user": {
      "displayName": "Арсен",
      "photoUrl": "https://lh3.googleusercontent.com/a-/AOh14GjPCG8vWVVB43Ax1wpE_vEPLjGP-XH0UWc12vB7wg=s64",
      "userId": "17661651445996378067"
     },
     "user_tz": -180
    },
    "id": "dTqXft26AJfW",
    "outputId": "76285a18-0ea3-4fe3-b273-2660851a5aad"
   },
   "outputs": [
    {
     "data": {
      "text/html": [
       "<div>\n",
       "<style scoped>\n",
       "    .dataframe tbody tr th:only-of-type {\n",
       "        vertical-align: middle;\n",
       "    }\n",
       "\n",
       "    .dataframe tbody tr th {\n",
       "        vertical-align: top;\n",
       "    }\n",
       "\n",
       "    .dataframe thead th {\n",
       "        text-align: right;\n",
       "    }\n",
       "</style>\n",
       "<table border=\"1\" class=\"dataframe\">\n",
       "  <thead>\n",
       "    <tr style=\"text-align: right;\">\n",
       "      <th></th>\n",
       "      <th>EventName</th>\n",
       "      <th>DeviceIDHash</th>\n",
       "      <th>EventTimestamp</th>\n",
       "      <th>ExpId</th>\n",
       "    </tr>\n",
       "  </thead>\n",
       "  <tbody>\n",
       "    <tr>\n",
       "      <th>0</th>\n",
       "      <td>MainScreenAppear</td>\n",
       "      <td>4575588528974610257</td>\n",
       "      <td>1564029816</td>\n",
       "      <td>246</td>\n",
       "    </tr>\n",
       "    <tr>\n",
       "      <th>1</th>\n",
       "      <td>MainScreenAppear</td>\n",
       "      <td>7416695313311560658</td>\n",
       "      <td>1564053102</td>\n",
       "      <td>246</td>\n",
       "    </tr>\n",
       "    <tr>\n",
       "      <th>2</th>\n",
       "      <td>PaymentScreenSuccessful</td>\n",
       "      <td>3518123091307005509</td>\n",
       "      <td>1564054127</td>\n",
       "      <td>248</td>\n",
       "    </tr>\n",
       "    <tr>\n",
       "      <th>3</th>\n",
       "      <td>CartScreenAppear</td>\n",
       "      <td>3518123091307005509</td>\n",
       "      <td>1564054127</td>\n",
       "      <td>248</td>\n",
       "    </tr>\n",
       "    <tr>\n",
       "      <th>4</th>\n",
       "      <td>PaymentScreenSuccessful</td>\n",
       "      <td>6217807653094995999</td>\n",
       "      <td>1564055322</td>\n",
       "      <td>248</td>\n",
       "    </tr>\n",
       "    <tr>\n",
       "      <th>...</th>\n",
       "      <td>...</td>\n",
       "      <td>...</td>\n",
       "      <td>...</td>\n",
       "      <td>...</td>\n",
       "    </tr>\n",
       "    <tr>\n",
       "      <th>244121</th>\n",
       "      <td>MainScreenAppear</td>\n",
       "      <td>4599628364049201812</td>\n",
       "      <td>1565212345</td>\n",
       "      <td>247</td>\n",
       "    </tr>\n",
       "    <tr>\n",
       "      <th>244122</th>\n",
       "      <td>MainScreenAppear</td>\n",
       "      <td>5849806612437486590</td>\n",
       "      <td>1565212439</td>\n",
       "      <td>246</td>\n",
       "    </tr>\n",
       "    <tr>\n",
       "      <th>244123</th>\n",
       "      <td>MainScreenAppear</td>\n",
       "      <td>5746969938801999050</td>\n",
       "      <td>1565212483</td>\n",
       "      <td>246</td>\n",
       "    </tr>\n",
       "    <tr>\n",
       "      <th>244124</th>\n",
       "      <td>MainScreenAppear</td>\n",
       "      <td>5746969938801999050</td>\n",
       "      <td>1565212498</td>\n",
       "      <td>246</td>\n",
       "    </tr>\n",
       "    <tr>\n",
       "      <th>244125</th>\n",
       "      <td>OffersScreenAppear</td>\n",
       "      <td>5746969938801999050</td>\n",
       "      <td>1565212517</td>\n",
       "      <td>246</td>\n",
       "    </tr>\n",
       "  </tbody>\n",
       "</table>\n",
       "<p>244126 rows × 4 columns</p>\n",
       "</div>"
      ],
      "text/plain": [
       "                      EventName         DeviceIDHash  EventTimestamp  ExpId\n",
       "0              MainScreenAppear  4575588528974610257      1564029816    246\n",
       "1              MainScreenAppear  7416695313311560658      1564053102    246\n",
       "2       PaymentScreenSuccessful  3518123091307005509      1564054127    248\n",
       "3              CartScreenAppear  3518123091307005509      1564054127    248\n",
       "4       PaymentScreenSuccessful  6217807653094995999      1564055322    248\n",
       "...                         ...                  ...             ...    ...\n",
       "244121         MainScreenAppear  4599628364049201812      1565212345    247\n",
       "244122         MainScreenAppear  5849806612437486590      1565212439    246\n",
       "244123         MainScreenAppear  5746969938801999050      1565212483    246\n",
       "244124         MainScreenAppear  5746969938801999050      1565212498    246\n",
       "244125       OffersScreenAppear  5746969938801999050      1565212517    246\n",
       "\n",
       "[244126 rows x 4 columns]"
      ]
     },
     "execution_count": 3,
     "metadata": {},
     "output_type": "execute_result"
    }
   ],
   "source": [
    "df"
   ]
  },
  {
   "cell_type": "markdown",
   "metadata": {
    "id": "cO5BRwHhAJfW"
   },
   "source": [
    "Данные успешно прочитаны, перейдем к предобработке"
   ]
  },
  {
   "cell_type": "markdown",
   "metadata": {
    "id": "RkVBgPzMAJfW"
   },
   "source": [
    "## Предобработка данных"
   ]
  },
  {
   "cell_type": "markdown",
   "metadata": {
    "id": "RBCckuGhAJfW"
   },
   "source": [
    "Напишем функцию, которая вернет нам основную информацию по датафрейму (количество пропусков, тип данных, дубликаты)"
   ]
  },
  {
   "cell_type": "code",
   "execution_count": 4,
   "metadata": {
    "executionInfo": {
     "elapsed": 14,
     "status": "ok",
     "timestamp": 1628873497411,
     "user": {
      "displayName": "Арсен",
      "photoUrl": "https://lh3.googleusercontent.com/a-/AOh14GjPCG8vWVVB43Ax1wpE_vEPLjGP-XH0UWc12vB7wg=s64",
      "userId": "17661651445996378067"
     },
     "user_tz": -180
    },
    "id": "TE_gw53eAJfX"
   },
   "outputs": [],
   "source": [
    "def primary_info(df):\n",
    "    display(df.head())\n",
    "    print()\n",
    "    print('Проверка на пропущенные значения:')\n",
    "    display(pd.DataFrame(round((df.isna().mean()*100),2)).style.background_gradient('coolwarm'))\n",
    "    print('----------------')\n",
    "    print()\n",
    "    print('Проверка типа данных на корректность:')\n",
    "    print(df.info())\n",
    "    print('----------------')\n",
    "    print()\n",
    "    print('Количество дубликатов:', df.duplicated().sum())"
   ]
  },
  {
   "cell_type": "code",
   "execution_count": 5,
   "metadata": {
    "colab": {
     "base_uri": "https://localhost:8080/",
     "height": 651
    },
    "executionInfo": {
     "elapsed": 386,
     "status": "ok",
     "timestamp": 1628873497784,
     "user": {
      "displayName": "Арсен",
      "photoUrl": "https://lh3.googleusercontent.com/a-/AOh14GjPCG8vWVVB43Ax1wpE_vEPLjGP-XH0UWc12vB7wg=s64",
      "userId": "17661651445996378067"
     },
     "user_tz": -180
    },
    "id": "fWUX33L4AJfX",
    "outputId": "06a8cb71-cc97-4e41-d903-d3f5ee1ff5b0"
   },
   "outputs": [
    {
     "data": {
      "text/html": [
       "<div>\n",
       "<style scoped>\n",
       "    .dataframe tbody tr th:only-of-type {\n",
       "        vertical-align: middle;\n",
       "    }\n",
       "\n",
       "    .dataframe tbody tr th {\n",
       "        vertical-align: top;\n",
       "    }\n",
       "\n",
       "    .dataframe thead th {\n",
       "        text-align: right;\n",
       "    }\n",
       "</style>\n",
       "<table border=\"1\" class=\"dataframe\">\n",
       "  <thead>\n",
       "    <tr style=\"text-align: right;\">\n",
       "      <th></th>\n",
       "      <th>EventName</th>\n",
       "      <th>DeviceIDHash</th>\n",
       "      <th>EventTimestamp</th>\n",
       "      <th>ExpId</th>\n",
       "    </tr>\n",
       "  </thead>\n",
       "  <tbody>\n",
       "    <tr>\n",
       "      <th>0</th>\n",
       "      <td>MainScreenAppear</td>\n",
       "      <td>4575588528974610257</td>\n",
       "      <td>1564029816</td>\n",
       "      <td>246</td>\n",
       "    </tr>\n",
       "    <tr>\n",
       "      <th>1</th>\n",
       "      <td>MainScreenAppear</td>\n",
       "      <td>7416695313311560658</td>\n",
       "      <td>1564053102</td>\n",
       "      <td>246</td>\n",
       "    </tr>\n",
       "    <tr>\n",
       "      <th>2</th>\n",
       "      <td>PaymentScreenSuccessful</td>\n",
       "      <td>3518123091307005509</td>\n",
       "      <td>1564054127</td>\n",
       "      <td>248</td>\n",
       "    </tr>\n",
       "    <tr>\n",
       "      <th>3</th>\n",
       "      <td>CartScreenAppear</td>\n",
       "      <td>3518123091307005509</td>\n",
       "      <td>1564054127</td>\n",
       "      <td>248</td>\n",
       "    </tr>\n",
       "    <tr>\n",
       "      <th>4</th>\n",
       "      <td>PaymentScreenSuccessful</td>\n",
       "      <td>6217807653094995999</td>\n",
       "      <td>1564055322</td>\n",
       "      <td>248</td>\n",
       "    </tr>\n",
       "  </tbody>\n",
       "</table>\n",
       "</div>"
      ],
      "text/plain": [
       "                 EventName         DeviceIDHash  EventTimestamp  ExpId\n",
       "0         MainScreenAppear  4575588528974610257      1564029816    246\n",
       "1         MainScreenAppear  7416695313311560658      1564053102    246\n",
       "2  PaymentScreenSuccessful  3518123091307005509      1564054127    248\n",
       "3         CartScreenAppear  3518123091307005509      1564054127    248\n",
       "4  PaymentScreenSuccessful  6217807653094995999      1564055322    248"
      ]
     },
     "metadata": {},
     "output_type": "display_data"
    },
    {
     "name": "stdout",
     "output_type": "stream",
     "text": [
      "\n",
      "Проверка на пропущенные значения:\n"
     ]
    },
    {
     "data": {
      "text/html": [
       "<style  type=\"text/css\" >\n",
       "#T_4b70c_row0_col0,#T_4b70c_row1_col0,#T_4b70c_row2_col0,#T_4b70c_row3_col0{\n",
       "            background-color:  #3b4cc0;\n",
       "            color:  #f1f1f1;\n",
       "        }</style><table id=\"T_4b70c_\" ><thead>    <tr>        <th class=\"blank level0\" ></th>        <th class=\"col_heading level0 col0\" >0</th>    </tr></thead><tbody>\n",
       "                <tr>\n",
       "                        <th id=\"T_4b70c_level0_row0\" class=\"row_heading level0 row0\" >EventName</th>\n",
       "                        <td id=\"T_4b70c_row0_col0\" class=\"data row0 col0\" >0.000000</td>\n",
       "            </tr>\n",
       "            <tr>\n",
       "                        <th id=\"T_4b70c_level0_row1\" class=\"row_heading level0 row1\" >DeviceIDHash</th>\n",
       "                        <td id=\"T_4b70c_row1_col0\" class=\"data row1 col0\" >0.000000</td>\n",
       "            </tr>\n",
       "            <tr>\n",
       "                        <th id=\"T_4b70c_level0_row2\" class=\"row_heading level0 row2\" >EventTimestamp</th>\n",
       "                        <td id=\"T_4b70c_row2_col0\" class=\"data row2 col0\" >0.000000</td>\n",
       "            </tr>\n",
       "            <tr>\n",
       "                        <th id=\"T_4b70c_level0_row3\" class=\"row_heading level0 row3\" >ExpId</th>\n",
       "                        <td id=\"T_4b70c_row3_col0\" class=\"data row3 col0\" >0.000000</td>\n",
       "            </tr>\n",
       "    </tbody></table>"
      ],
      "text/plain": [
       "<pandas.io.formats.style.Styler at 0x23f547d1d30>"
      ]
     },
     "metadata": {},
     "output_type": "display_data"
    },
    {
     "name": "stdout",
     "output_type": "stream",
     "text": [
      "----------------\n",
      "\n",
      "Проверка типа данных на корректность:\n",
      "<class 'pandas.core.frame.DataFrame'>\n",
      "RangeIndex: 244126 entries, 0 to 244125\n",
      "Data columns (total 4 columns):\n",
      " #   Column          Non-Null Count   Dtype \n",
      "---  ------          --------------   ----- \n",
      " 0   EventName       244126 non-null  object\n",
      " 1   DeviceIDHash    244126 non-null  int64 \n",
      " 2   EventTimestamp  244126 non-null  int64 \n",
      " 3   ExpId           244126 non-null  int64 \n",
      "dtypes: int64(3), object(1)\n",
      "memory usage: 7.5+ MB\n",
      "None\n",
      "----------------\n",
      "\n",
      "Количество дубликатов: 413\n"
     ]
    }
   ],
   "source": [
    "primary_info(df)"
   ]
  },
  {
   "cell_type": "markdown",
   "metadata": {
    "id": "RpDMB7haAJfX"
   },
   "source": [
    "* Пропусков нет, это отлично\n",
    "* Я бы исправил названия столбцов, приведя их к нижнему регистру и добавив андерскор\n",
    "* И можно еще рассмотреть столбцы EventName и ExpId на возможность смены типа данных на category\n",
    "* Есть 413 дубликатов, сейчас на них поглядим\n",
    "\n",
    "Начнем по порядку"
   ]
  },
  {
   "cell_type": "code",
   "execution_count": 6,
   "metadata": {
    "colab": {
     "base_uri": "https://localhost:8080/",
     "height": 204
    },
    "executionInfo": {
     "elapsed": 20,
     "status": "ok",
     "timestamp": 1628873497785,
     "user": {
      "displayName": "Арсен",
      "photoUrl": "https://lh3.googleusercontent.com/a-/AOh14GjPCG8vWVVB43Ax1wpE_vEPLjGP-XH0UWc12vB7wg=s64",
      "userId": "17661651445996378067"
     },
     "user_tz": -180
    },
    "id": "PtlMu2WgAJfX",
    "outputId": "82398b77-bc53-413f-b471-8330cfa2ec72"
   },
   "outputs": [
    {
     "data": {
      "text/html": [
       "<div>\n",
       "<style scoped>\n",
       "    .dataframe tbody tr th:only-of-type {\n",
       "        vertical-align: middle;\n",
       "    }\n",
       "\n",
       "    .dataframe tbody tr th {\n",
       "        vertical-align: top;\n",
       "    }\n",
       "\n",
       "    .dataframe thead th {\n",
       "        text-align: right;\n",
       "    }\n",
       "</style>\n",
       "<table border=\"1\" class=\"dataframe\">\n",
       "  <thead>\n",
       "    <tr style=\"text-align: right;\">\n",
       "      <th></th>\n",
       "      <th>event_name</th>\n",
       "      <th>device_id</th>\n",
       "      <th>event_timestamp</th>\n",
       "      <th>exp_id</th>\n",
       "    </tr>\n",
       "  </thead>\n",
       "  <tbody>\n",
       "    <tr>\n",
       "      <th>0</th>\n",
       "      <td>MainScreenAppear</td>\n",
       "      <td>4575588528974610257</td>\n",
       "      <td>1564029816</td>\n",
       "      <td>246</td>\n",
       "    </tr>\n",
       "    <tr>\n",
       "      <th>1</th>\n",
       "      <td>MainScreenAppear</td>\n",
       "      <td>7416695313311560658</td>\n",
       "      <td>1564053102</td>\n",
       "      <td>246</td>\n",
       "    </tr>\n",
       "    <tr>\n",
       "      <th>2</th>\n",
       "      <td>PaymentScreenSuccessful</td>\n",
       "      <td>3518123091307005509</td>\n",
       "      <td>1564054127</td>\n",
       "      <td>248</td>\n",
       "    </tr>\n",
       "    <tr>\n",
       "      <th>3</th>\n",
       "      <td>CartScreenAppear</td>\n",
       "      <td>3518123091307005509</td>\n",
       "      <td>1564054127</td>\n",
       "      <td>248</td>\n",
       "    </tr>\n",
       "    <tr>\n",
       "      <th>4</th>\n",
       "      <td>PaymentScreenSuccessful</td>\n",
       "      <td>6217807653094995999</td>\n",
       "      <td>1564055322</td>\n",
       "      <td>248</td>\n",
       "    </tr>\n",
       "  </tbody>\n",
       "</table>\n",
       "</div>"
      ],
      "text/plain": [
       "                event_name            device_id  event_timestamp  exp_id\n",
       "0         MainScreenAppear  4575588528974610257       1564029816     246\n",
       "1         MainScreenAppear  7416695313311560658       1564053102     246\n",
       "2  PaymentScreenSuccessful  3518123091307005509       1564054127     248\n",
       "3         CartScreenAppear  3518123091307005509       1564054127     248\n",
       "4  PaymentScreenSuccessful  6217807653094995999       1564055322     248"
      ]
     },
     "execution_count": 6,
     "metadata": {},
     "output_type": "execute_result"
    }
   ],
   "source": [
    "new_columns = {\n",
    "    'EventName':'event_name',\n",
    "    'DeviceIDHash':'device_id',\n",
    "    'EventTimestamp':'event_timestamp',\n",
    "    'ExpId':'exp_id'\n",
    "}\n",
    "\n",
    "df.rename(columns=new_columns, inplace=True)\n",
    "df.head()"
   ]
  },
  {
   "cell_type": "markdown",
   "metadata": {
    "id": "ZULNZ9WwAJfY"
   },
   "source": [
    "Готово, теперь разберемся с типами данных"
   ]
  },
  {
   "cell_type": "code",
   "execution_count": 7,
   "metadata": {
    "colab": {
     "base_uri": "https://localhost:8080/"
    },
    "executionInfo": {
     "elapsed": 19,
     "status": "ok",
     "timestamp": 1628873497786,
     "user": {
      "displayName": "Арсен",
      "photoUrl": "https://lh3.googleusercontent.com/a-/AOh14GjPCG8vWVVB43Ax1wpE_vEPLjGP-XH0UWc12vB7wg=s64",
      "userId": "17661651445996378067"
     },
     "user_tz": -180
    },
    "id": "2KtG7AdEAJfY",
    "outputId": "8d618bf3-33da-4fef-cb41-21ca3a0f5ceb"
   },
   "outputs": [
    {
     "data": {
      "text/plain": [
       "array(['MainScreenAppear', 'PaymentScreenSuccessful', 'CartScreenAppear',\n",
       "       'OffersScreenAppear', 'Tutorial'], dtype=object)"
      ]
     },
     "execution_count": 7,
     "metadata": {},
     "output_type": "execute_result"
    }
   ],
   "source": [
    "df['event_name'].unique()"
   ]
  },
  {
   "cell_type": "markdown",
   "metadata": {
    "id": "rTfRdupUAJfY"
   },
   "source": [
    "5 значений, значит здесь идеально подойдет category. Можно и не менять, но так сэкономим память."
   ]
  },
  {
   "cell_type": "code",
   "execution_count": 8,
   "metadata": {
    "executionInfo": {
     "elapsed": 15,
     "status": "ok",
     "timestamp": 1628873497787,
     "user": {
      "displayName": "Арсен",
      "photoUrl": "https://lh3.googleusercontent.com/a-/AOh14GjPCG8vWVVB43Ax1wpE_vEPLjGP-XH0UWc12vB7wg=s64",
      "userId": "17661651445996378067"
     },
     "user_tz": -180
    },
    "id": "NwFzsSEAAJfY"
   },
   "outputs": [],
   "source": [
    "df1 = df.copy()"
   ]
  },
  {
   "cell_type": "code",
   "execution_count": 9,
   "metadata": {
    "colab": {
     "base_uri": "https://localhost:8080/"
    },
    "executionInfo": {
     "elapsed": 15,
     "status": "ok",
     "timestamp": 1628873497787,
     "user": {
      "displayName": "Арсен",
      "photoUrl": "https://lh3.googleusercontent.com/a-/AOh14GjPCG8vWVVB43Ax1wpE_vEPLjGP-XH0UWc12vB7wg=s64",
      "userId": "17661651445996378067"
     },
     "user_tz": -180
    },
    "id": "ib7-RnTzAJfY",
    "outputId": "4ea8f1f9-dbae-4ed3-9b9a-6e829f8d02c7"
   },
   "outputs": [
    {
     "data": {
      "text/plain": [
       "event_name         category\n",
       "device_id             int64\n",
       "event_timestamp       int64\n",
       "exp_id                int64\n",
       "dtype: object"
      ]
     },
     "execution_count": 9,
     "metadata": {},
     "output_type": "execute_result"
    }
   ],
   "source": [
    "df['event_name'] = df['event_name'].astype('category')\n",
    "df.dtypes"
   ]
  },
  {
   "cell_type": "markdown",
   "metadata": {
    "id": "p2o7DyVkAJfY"
   },
   "source": [
    "Что касается exp_id - можно просто поменять тип на category, а можно еще и заменить 246,247 на A1 и A2 (контрольные группы), а 248 на B (экспериментальная группа). Вот так и сделаем"
   ]
  },
  {
   "cell_type": "code",
   "execution_count": 10,
   "metadata": {
    "executionInfo": {
     "elapsed": 11,
     "status": "ok",
     "timestamp": 1628873497788,
     "user": {
      "displayName": "Арсен",
      "photoUrl": "https://lh3.googleusercontent.com/a-/AOh14GjPCG8vWVVB43Ax1wpE_vEPLjGP-XH0UWc12vB7wg=s64",
      "userId": "17661651445996378067"
     },
     "user_tz": -180
    },
    "id": "bA8oXmZ1AJfZ"
   },
   "outputs": [],
   "source": [
    "mapping = {\n",
    "    246:'A1',\n",
    "    247:'A2',\n",
    "    248:'B'\n",
    "}\n",
    "\n",
    "df['exp_id'] = df['exp_id'].map(mapping)"
   ]
  },
  {
   "cell_type": "code",
   "execution_count": 11,
   "metadata": {
    "colab": {
     "base_uri": "https://localhost:8080/"
    },
    "executionInfo": {
     "elapsed": 607,
     "status": "ok",
     "timestamp": 1628873498385,
     "user": {
      "displayName": "Арсен",
      "photoUrl": "https://lh3.googleusercontent.com/a-/AOh14GjPCG8vWVVB43Ax1wpE_vEPLjGP-XH0UWc12vB7wg=s64",
      "userId": "17661651445996378067"
     },
     "user_tz": -180
    },
    "id": "A5FtXUTaAJfZ",
    "outputId": "8beaa3fb-e26f-4489-b160-d1537bcf9d61"
   },
   "outputs": [
    {
     "data": {
      "text/plain": [
       "array(['A1', 'B', 'A2'], dtype=object)"
      ]
     },
     "execution_count": 11,
     "metadata": {},
     "output_type": "execute_result"
    }
   ],
   "source": [
    "df['exp_id'].unique()"
   ]
  },
  {
   "cell_type": "code",
   "execution_count": 12,
   "metadata": {
    "colab": {
     "base_uri": "https://localhost:8080/"
    },
    "executionInfo": {
     "elapsed": 59,
     "status": "ok",
     "timestamp": 1628873498388,
     "user": {
      "displayName": "Арсен",
      "photoUrl": "https://lh3.googleusercontent.com/a-/AOh14GjPCG8vWVVB43Ax1wpE_vEPLjGP-XH0UWc12vB7wg=s64",
      "userId": "17661651445996378067"
     },
     "user_tz": -180
    },
    "id": "nbCJSkG5AJfZ",
    "outputId": "e28e6a69-c1f9-4962-afdd-8e876148bfc6"
   },
   "outputs": [
    {
     "data": {
      "text/plain": [
       "event_name         category\n",
       "device_id             int64\n",
       "event_timestamp       int64\n",
       "exp_id             category\n",
       "dtype: object"
      ]
     },
     "execution_count": 12,
     "metadata": {},
     "output_type": "execute_result"
    }
   ],
   "source": [
    "df['exp_id'] = df['exp_id'].astype('category')\n",
    "df.dtypes"
   ]
  },
  {
   "cell_type": "markdown",
   "metadata": {
    "id": "T7EAqT_oAJfZ"
   },
   "source": [
    "Теперь сравним сколько памяти используют оба датафрейма (df1 без category)"
   ]
  },
  {
   "cell_type": "code",
   "execution_count": 13,
   "metadata": {
    "colab": {
     "base_uri": "https://localhost:8080/"
    },
    "executionInfo": {
     "elapsed": 57,
     "status": "ok",
     "timestamp": 1628873498390,
     "user": {
      "displayName": "Арсен",
      "photoUrl": "https://lh3.googleusercontent.com/a-/AOh14GjPCG8vWVVB43Ax1wpE_vEPLjGP-XH0UWc12vB7wg=s64",
      "userId": "17661651445996378067"
     },
     "user_tz": -180
    },
    "id": "06GxS42lAJfZ",
    "outputId": "9482171f-ceca-491d-d4b8-16eb0cb676d9"
   },
   "outputs": [
    {
     "name": "stdout",
     "output_type": "stream",
     "text": [
      "Без category: 7.45 mb\n",
      "Category: 4.19 mb\n"
     ]
    }
   ],
   "source": [
    "print('Без category: {} mb'.format(round(df1.memory_usage().sum()*0.00000095367432, 2)))\n",
    "print('Category: {} mb'.format(round(df.memory_usage().sum()*0.00000095367432, 2)))"
   ]
  },
  {
   "cell_type": "markdown",
   "metadata": {
    "id": "dlcPB5pWAJfZ"
   },
   "source": [
    "Почти в 2 раза меньше теперь кушает памяти"
   ]
  },
  {
   "cell_type": "code",
   "execution_count": 14,
   "metadata": {
    "executionInfo": {
     "elapsed": 54,
     "status": "ok",
     "timestamp": 1628873498391,
     "user": {
      "displayName": "Арсен",
      "photoUrl": "https://lh3.googleusercontent.com/a-/AOh14GjPCG8vWVVB43Ax1wpE_vEPLjGP-XH0UWc12vB7wg=s64",
      "userId": "17661651445996378067"
     },
     "user_tz": -180
    },
    "id": "gfpAjyKZAJfZ"
   },
   "outputs": [],
   "source": [
    "del(df1)"
   ]
  },
  {
   "cell_type": "markdown",
   "metadata": {
    "id": "_lbb-g8iAJfa"
   },
   "source": [
    "Перейдем к дубликатам"
   ]
  },
  {
   "cell_type": "code",
   "execution_count": 15,
   "metadata": {
    "colab": {
     "base_uri": "https://localhost:8080/",
     "height": 419
    },
    "executionInfo": {
     "elapsed": 56,
     "status": "ok",
     "timestamp": 1628873498393,
     "user": {
      "displayName": "Арсен",
      "photoUrl": "https://lh3.googleusercontent.com/a-/AOh14GjPCG8vWVVB43Ax1wpE_vEPLjGP-XH0UWc12vB7wg=s64",
      "userId": "17661651445996378067"
     },
     "user_tz": -180
    },
    "id": "y5Am-RMpAJfa",
    "outputId": "fff3a429-3432-4852-9d8e-a86db6925c6f"
   },
   "outputs": [
    {
     "data": {
      "text/html": [
       "<div>\n",
       "<style scoped>\n",
       "    .dataframe tbody tr th:only-of-type {\n",
       "        vertical-align: middle;\n",
       "    }\n",
       "\n",
       "    .dataframe tbody tr th {\n",
       "        vertical-align: top;\n",
       "    }\n",
       "\n",
       "    .dataframe thead th {\n",
       "        text-align: right;\n",
       "    }\n",
       "</style>\n",
       "<table border=\"1\" class=\"dataframe\">\n",
       "  <thead>\n",
       "    <tr style=\"text-align: right;\">\n",
       "      <th></th>\n",
       "      <th>event_name</th>\n",
       "      <th>device_id</th>\n",
       "      <th>event_timestamp</th>\n",
       "      <th>exp_id</th>\n",
       "    </tr>\n",
       "  </thead>\n",
       "  <tbody>\n",
       "    <tr>\n",
       "      <th>452</th>\n",
       "      <td>MainScreenAppear</td>\n",
       "      <td>5613408041324010552</td>\n",
       "      <td>1564474784</td>\n",
       "      <td>B</td>\n",
       "    </tr>\n",
       "    <tr>\n",
       "      <th>453</th>\n",
       "      <td>MainScreenAppear</td>\n",
       "      <td>5613408041324010552</td>\n",
       "      <td>1564474784</td>\n",
       "      <td>B</td>\n",
       "    </tr>\n",
       "    <tr>\n",
       "      <th>2348</th>\n",
       "      <td>CartScreenAppear</td>\n",
       "      <td>1694940645335807244</td>\n",
       "      <td>1564609899</td>\n",
       "      <td>B</td>\n",
       "    </tr>\n",
       "    <tr>\n",
       "      <th>2350</th>\n",
       "      <td>CartScreenAppear</td>\n",
       "      <td>1694940645335807244</td>\n",
       "      <td>1564609899</td>\n",
       "      <td>B</td>\n",
       "    </tr>\n",
       "    <tr>\n",
       "      <th>3572</th>\n",
       "      <td>MainScreenAppear</td>\n",
       "      <td>434103746454591587</td>\n",
       "      <td>1564628377</td>\n",
       "      <td>B</td>\n",
       "    </tr>\n",
       "    <tr>\n",
       "      <th>...</th>\n",
       "      <td>...</td>\n",
       "      <td>...</td>\n",
       "      <td>...</td>\n",
       "      <td>...</td>\n",
       "    </tr>\n",
       "    <tr>\n",
       "      <th>242359</th>\n",
       "      <td>PaymentScreenSuccessful</td>\n",
       "      <td>2382591782303281935</td>\n",
       "      <td>1565206049</td>\n",
       "      <td>A1</td>\n",
       "    </tr>\n",
       "    <tr>\n",
       "      <th>242360</th>\n",
       "      <td>PaymentScreenSuccessful</td>\n",
       "      <td>2382591782303281935</td>\n",
       "      <td>1565206049</td>\n",
       "      <td>A1</td>\n",
       "    </tr>\n",
       "    <tr>\n",
       "      <th>242362</th>\n",
       "      <td>CartScreenAppear</td>\n",
       "      <td>2382591782303281935</td>\n",
       "      <td>1565206049</td>\n",
       "      <td>A1</td>\n",
       "    </tr>\n",
       "    <tr>\n",
       "      <th>242634</th>\n",
       "      <td>MainScreenAppear</td>\n",
       "      <td>4097782667445790512</td>\n",
       "      <td>1565206618</td>\n",
       "      <td>A1</td>\n",
       "    </tr>\n",
       "    <tr>\n",
       "      <th>242635</th>\n",
       "      <td>MainScreenAppear</td>\n",
       "      <td>4097782667445790512</td>\n",
       "      <td>1565206618</td>\n",
       "      <td>A1</td>\n",
       "    </tr>\n",
       "  </tbody>\n",
       "</table>\n",
       "<p>768 rows × 4 columns</p>\n",
       "</div>"
      ],
      "text/plain": [
       "                     event_name            device_id  event_timestamp exp_id\n",
       "452            MainScreenAppear  5613408041324010552       1564474784      B\n",
       "453            MainScreenAppear  5613408041324010552       1564474784      B\n",
       "2348           CartScreenAppear  1694940645335807244       1564609899      B\n",
       "2350           CartScreenAppear  1694940645335807244       1564609899      B\n",
       "3572           MainScreenAppear   434103746454591587       1564628377      B\n",
       "...                         ...                  ...              ...    ...\n",
       "242359  PaymentScreenSuccessful  2382591782303281935       1565206049     A1\n",
       "242360  PaymentScreenSuccessful  2382591782303281935       1565206049     A1\n",
       "242362         CartScreenAppear  2382591782303281935       1565206049     A1\n",
       "242634         MainScreenAppear  4097782667445790512       1565206618     A1\n",
       "242635         MainScreenAppear  4097782667445790512       1565206618     A1\n",
       "\n",
       "[768 rows x 4 columns]"
      ]
     },
     "execution_count": 15,
     "metadata": {},
     "output_type": "execute_result"
    }
   ],
   "source": [
    "df[df.duplicated(keep=False)]"
   ]
  },
  {
   "cell_type": "markdown",
   "metadata": {
    "id": "B1SuZ_T5AJfa"
   },
   "source": [
    "И правда 413 записей - дубликаты, удалим их"
   ]
  },
  {
   "cell_type": "code",
   "execution_count": 16,
   "metadata": {
    "executionInfo": {
     "elapsed": 55,
     "status": "ok",
     "timestamp": 1628873498394,
     "user": {
      "displayName": "Арсен",
      "photoUrl": "https://lh3.googleusercontent.com/a-/AOh14GjPCG8vWVVB43Ax1wpE_vEPLjGP-XH0UWc12vB7wg=s64",
      "userId": "17661651445996378067"
     },
     "user_tz": -180
    },
    "id": "ai6VZv_yAJfa"
   },
   "outputs": [],
   "source": [
    "df.drop_duplicates(inplace=True)"
   ]
  },
  {
   "cell_type": "markdown",
   "metadata": {
    "id": "VQpJdNdRAJfa"
   },
   "source": [
    "И добавим 2 столбца - один с датой и временем, другой просто с датой.\n",
    "\n",
    "Столбец event_timestamp - это unix-время. Для его конвертации в datetime будем использовать pd.to_datetime() с параметром unit = 's'"
   ]
  },
  {
   "cell_type": "code",
   "execution_count": 17,
   "metadata": {
    "executionInfo": {
     "elapsed": 56,
     "status": "ok",
     "timestamp": 1628873498395,
     "user": {
      "displayName": "Арсен",
      "photoUrl": "https://lh3.googleusercontent.com/a-/AOh14GjPCG8vWVVB43Ax1wpE_vEPLjGP-XH0UWc12vB7wg=s64",
      "userId": "17661651445996378067"
     },
     "user_tz": -180
    },
    "id": "eiAvSCoGAJfa"
   },
   "outputs": [],
   "source": [
    "df['event_datetime'] = pd.to_datetime(df['event_timestamp'], unit='s')"
   ]
  },
  {
   "cell_type": "code",
   "execution_count": 18,
   "metadata": {
    "colab": {
     "base_uri": "https://localhost:8080/",
     "height": 419
    },
    "executionInfo": {
     "elapsed": 56,
     "status": "ok",
     "timestamp": 1628873498396,
     "user": {
      "displayName": "Арсен",
      "photoUrl": "https://lh3.googleusercontent.com/a-/AOh14GjPCG8vWVVB43Ax1wpE_vEPLjGP-XH0UWc12vB7wg=s64",
      "userId": "17661651445996378067"
     },
     "user_tz": -180
    },
    "id": "qSivgzLAAJfa",
    "outputId": "d4b4fe68-39cd-4c62-eddc-89e6618cab55"
   },
   "outputs": [
    {
     "data": {
      "text/html": [
       "<div>\n",
       "<style scoped>\n",
       "    .dataframe tbody tr th:only-of-type {\n",
       "        vertical-align: middle;\n",
       "    }\n",
       "\n",
       "    .dataframe tbody tr th {\n",
       "        vertical-align: top;\n",
       "    }\n",
       "\n",
       "    .dataframe thead th {\n",
       "        text-align: right;\n",
       "    }\n",
       "</style>\n",
       "<table border=\"1\" class=\"dataframe\">\n",
       "  <thead>\n",
       "    <tr style=\"text-align: right;\">\n",
       "      <th></th>\n",
       "      <th>event_name</th>\n",
       "      <th>device_id</th>\n",
       "      <th>event_timestamp</th>\n",
       "      <th>exp_id</th>\n",
       "      <th>event_datetime</th>\n",
       "    </tr>\n",
       "  </thead>\n",
       "  <tbody>\n",
       "    <tr>\n",
       "      <th>0</th>\n",
       "      <td>MainScreenAppear</td>\n",
       "      <td>4575588528974610257</td>\n",
       "      <td>1564029816</td>\n",
       "      <td>A1</td>\n",
       "      <td>2019-07-25 04:43:36</td>\n",
       "    </tr>\n",
       "    <tr>\n",
       "      <th>1</th>\n",
       "      <td>MainScreenAppear</td>\n",
       "      <td>7416695313311560658</td>\n",
       "      <td>1564053102</td>\n",
       "      <td>A1</td>\n",
       "      <td>2019-07-25 11:11:42</td>\n",
       "    </tr>\n",
       "    <tr>\n",
       "      <th>2</th>\n",
       "      <td>PaymentScreenSuccessful</td>\n",
       "      <td>3518123091307005509</td>\n",
       "      <td>1564054127</td>\n",
       "      <td>B</td>\n",
       "      <td>2019-07-25 11:28:47</td>\n",
       "    </tr>\n",
       "    <tr>\n",
       "      <th>3</th>\n",
       "      <td>CartScreenAppear</td>\n",
       "      <td>3518123091307005509</td>\n",
       "      <td>1564054127</td>\n",
       "      <td>B</td>\n",
       "      <td>2019-07-25 11:28:47</td>\n",
       "    </tr>\n",
       "    <tr>\n",
       "      <th>4</th>\n",
       "      <td>PaymentScreenSuccessful</td>\n",
       "      <td>6217807653094995999</td>\n",
       "      <td>1564055322</td>\n",
       "      <td>B</td>\n",
       "      <td>2019-07-25 11:48:42</td>\n",
       "    </tr>\n",
       "    <tr>\n",
       "      <th>...</th>\n",
       "      <td>...</td>\n",
       "      <td>...</td>\n",
       "      <td>...</td>\n",
       "      <td>...</td>\n",
       "      <td>...</td>\n",
       "    </tr>\n",
       "    <tr>\n",
       "      <th>244121</th>\n",
       "      <td>MainScreenAppear</td>\n",
       "      <td>4599628364049201812</td>\n",
       "      <td>1565212345</td>\n",
       "      <td>A2</td>\n",
       "      <td>2019-08-07 21:12:25</td>\n",
       "    </tr>\n",
       "    <tr>\n",
       "      <th>244122</th>\n",
       "      <td>MainScreenAppear</td>\n",
       "      <td>5849806612437486590</td>\n",
       "      <td>1565212439</td>\n",
       "      <td>A1</td>\n",
       "      <td>2019-08-07 21:13:59</td>\n",
       "    </tr>\n",
       "    <tr>\n",
       "      <th>244123</th>\n",
       "      <td>MainScreenAppear</td>\n",
       "      <td>5746969938801999050</td>\n",
       "      <td>1565212483</td>\n",
       "      <td>A1</td>\n",
       "      <td>2019-08-07 21:14:43</td>\n",
       "    </tr>\n",
       "    <tr>\n",
       "      <th>244124</th>\n",
       "      <td>MainScreenAppear</td>\n",
       "      <td>5746969938801999050</td>\n",
       "      <td>1565212498</td>\n",
       "      <td>A1</td>\n",
       "      <td>2019-08-07 21:14:58</td>\n",
       "    </tr>\n",
       "    <tr>\n",
       "      <th>244125</th>\n",
       "      <td>OffersScreenAppear</td>\n",
       "      <td>5746969938801999050</td>\n",
       "      <td>1565212517</td>\n",
       "      <td>A1</td>\n",
       "      <td>2019-08-07 21:15:17</td>\n",
       "    </tr>\n",
       "  </tbody>\n",
       "</table>\n",
       "<p>243713 rows × 5 columns</p>\n",
       "</div>"
      ],
      "text/plain": [
       "                     event_name            device_id  event_timestamp exp_id  \\\n",
       "0              MainScreenAppear  4575588528974610257       1564029816     A1   \n",
       "1              MainScreenAppear  7416695313311560658       1564053102     A1   \n",
       "2       PaymentScreenSuccessful  3518123091307005509       1564054127      B   \n",
       "3              CartScreenAppear  3518123091307005509       1564054127      B   \n",
       "4       PaymentScreenSuccessful  6217807653094995999       1564055322      B   \n",
       "...                         ...                  ...              ...    ...   \n",
       "244121         MainScreenAppear  4599628364049201812       1565212345     A2   \n",
       "244122         MainScreenAppear  5849806612437486590       1565212439     A1   \n",
       "244123         MainScreenAppear  5746969938801999050       1565212483     A1   \n",
       "244124         MainScreenAppear  5746969938801999050       1565212498     A1   \n",
       "244125       OffersScreenAppear  5746969938801999050       1565212517     A1   \n",
       "\n",
       "            event_datetime  \n",
       "0      2019-07-25 04:43:36  \n",
       "1      2019-07-25 11:11:42  \n",
       "2      2019-07-25 11:28:47  \n",
       "3      2019-07-25 11:28:47  \n",
       "4      2019-07-25 11:48:42  \n",
       "...                    ...  \n",
       "244121 2019-08-07 21:12:25  \n",
       "244122 2019-08-07 21:13:59  \n",
       "244123 2019-08-07 21:14:43  \n",
       "244124 2019-08-07 21:14:58  \n",
       "244125 2019-08-07 21:15:17  \n",
       "\n",
       "[243713 rows x 5 columns]"
      ]
     },
     "execution_count": 18,
     "metadata": {},
     "output_type": "execute_result"
    }
   ],
   "source": [
    "df"
   ]
  },
  {
   "cell_type": "code",
   "execution_count": 19,
   "metadata": {
    "executionInfo": {
     "elapsed": 56,
     "status": "ok",
     "timestamp": 1628873498397,
     "user": {
      "displayName": "Арсен",
      "photoUrl": "https://lh3.googleusercontent.com/a-/AOh14GjPCG8vWVVB43Ax1wpE_vEPLjGP-XH0UWc12vB7wg=s64",
      "userId": "17661651445996378067"
     },
     "user_tz": -180
    },
    "id": "uhnbBl6RAJfa"
   },
   "outputs": [],
   "source": [
    "df['event_date'] = df['event_datetime'].dt.date\n",
    "df['event_date'] = pd.to_datetime(df['event_date'])"
   ]
  },
  {
   "cell_type": "code",
   "execution_count": 20,
   "metadata": {
    "colab": {
     "base_uri": "https://localhost:8080/",
     "height": 419
    },
    "executionInfo": {
     "elapsed": 57,
     "status": "ok",
     "timestamp": 1628873498398,
     "user": {
      "displayName": "Арсен",
      "photoUrl": "https://lh3.googleusercontent.com/a-/AOh14GjPCG8vWVVB43Ax1wpE_vEPLjGP-XH0UWc12vB7wg=s64",
      "userId": "17661651445996378067"
     },
     "user_tz": -180
    },
    "id": "MkUKBwEBAJfb",
    "outputId": "77415014-36b9-4b8e-cea5-e0ccfbac3f56"
   },
   "outputs": [
    {
     "data": {
      "text/html": [
       "<div>\n",
       "<style scoped>\n",
       "    .dataframe tbody tr th:only-of-type {\n",
       "        vertical-align: middle;\n",
       "    }\n",
       "\n",
       "    .dataframe tbody tr th {\n",
       "        vertical-align: top;\n",
       "    }\n",
       "\n",
       "    .dataframe thead th {\n",
       "        text-align: right;\n",
       "    }\n",
       "</style>\n",
       "<table border=\"1\" class=\"dataframe\">\n",
       "  <thead>\n",
       "    <tr style=\"text-align: right;\">\n",
       "      <th></th>\n",
       "      <th>event_name</th>\n",
       "      <th>device_id</th>\n",
       "      <th>event_timestamp</th>\n",
       "      <th>exp_id</th>\n",
       "      <th>event_datetime</th>\n",
       "      <th>event_date</th>\n",
       "    </tr>\n",
       "  </thead>\n",
       "  <tbody>\n",
       "    <tr>\n",
       "      <th>0</th>\n",
       "      <td>MainScreenAppear</td>\n",
       "      <td>4575588528974610257</td>\n",
       "      <td>1564029816</td>\n",
       "      <td>A1</td>\n",
       "      <td>2019-07-25 04:43:36</td>\n",
       "      <td>2019-07-25</td>\n",
       "    </tr>\n",
       "    <tr>\n",
       "      <th>1</th>\n",
       "      <td>MainScreenAppear</td>\n",
       "      <td>7416695313311560658</td>\n",
       "      <td>1564053102</td>\n",
       "      <td>A1</td>\n",
       "      <td>2019-07-25 11:11:42</td>\n",
       "      <td>2019-07-25</td>\n",
       "    </tr>\n",
       "    <tr>\n",
       "      <th>2</th>\n",
       "      <td>PaymentScreenSuccessful</td>\n",
       "      <td>3518123091307005509</td>\n",
       "      <td>1564054127</td>\n",
       "      <td>B</td>\n",
       "      <td>2019-07-25 11:28:47</td>\n",
       "      <td>2019-07-25</td>\n",
       "    </tr>\n",
       "    <tr>\n",
       "      <th>3</th>\n",
       "      <td>CartScreenAppear</td>\n",
       "      <td>3518123091307005509</td>\n",
       "      <td>1564054127</td>\n",
       "      <td>B</td>\n",
       "      <td>2019-07-25 11:28:47</td>\n",
       "      <td>2019-07-25</td>\n",
       "    </tr>\n",
       "    <tr>\n",
       "      <th>4</th>\n",
       "      <td>PaymentScreenSuccessful</td>\n",
       "      <td>6217807653094995999</td>\n",
       "      <td>1564055322</td>\n",
       "      <td>B</td>\n",
       "      <td>2019-07-25 11:48:42</td>\n",
       "      <td>2019-07-25</td>\n",
       "    </tr>\n",
       "    <tr>\n",
       "      <th>...</th>\n",
       "      <td>...</td>\n",
       "      <td>...</td>\n",
       "      <td>...</td>\n",
       "      <td>...</td>\n",
       "      <td>...</td>\n",
       "      <td>...</td>\n",
       "    </tr>\n",
       "    <tr>\n",
       "      <th>244121</th>\n",
       "      <td>MainScreenAppear</td>\n",
       "      <td>4599628364049201812</td>\n",
       "      <td>1565212345</td>\n",
       "      <td>A2</td>\n",
       "      <td>2019-08-07 21:12:25</td>\n",
       "      <td>2019-08-07</td>\n",
       "    </tr>\n",
       "    <tr>\n",
       "      <th>244122</th>\n",
       "      <td>MainScreenAppear</td>\n",
       "      <td>5849806612437486590</td>\n",
       "      <td>1565212439</td>\n",
       "      <td>A1</td>\n",
       "      <td>2019-08-07 21:13:59</td>\n",
       "      <td>2019-08-07</td>\n",
       "    </tr>\n",
       "    <tr>\n",
       "      <th>244123</th>\n",
       "      <td>MainScreenAppear</td>\n",
       "      <td>5746969938801999050</td>\n",
       "      <td>1565212483</td>\n",
       "      <td>A1</td>\n",
       "      <td>2019-08-07 21:14:43</td>\n",
       "      <td>2019-08-07</td>\n",
       "    </tr>\n",
       "    <tr>\n",
       "      <th>244124</th>\n",
       "      <td>MainScreenAppear</td>\n",
       "      <td>5746969938801999050</td>\n",
       "      <td>1565212498</td>\n",
       "      <td>A1</td>\n",
       "      <td>2019-08-07 21:14:58</td>\n",
       "      <td>2019-08-07</td>\n",
       "    </tr>\n",
       "    <tr>\n",
       "      <th>244125</th>\n",
       "      <td>OffersScreenAppear</td>\n",
       "      <td>5746969938801999050</td>\n",
       "      <td>1565212517</td>\n",
       "      <td>A1</td>\n",
       "      <td>2019-08-07 21:15:17</td>\n",
       "      <td>2019-08-07</td>\n",
       "    </tr>\n",
       "  </tbody>\n",
       "</table>\n",
       "<p>243713 rows × 6 columns</p>\n",
       "</div>"
      ],
      "text/plain": [
       "                     event_name            device_id  event_timestamp exp_id  \\\n",
       "0              MainScreenAppear  4575588528974610257       1564029816     A1   \n",
       "1              MainScreenAppear  7416695313311560658       1564053102     A1   \n",
       "2       PaymentScreenSuccessful  3518123091307005509       1564054127      B   \n",
       "3              CartScreenAppear  3518123091307005509       1564054127      B   \n",
       "4       PaymentScreenSuccessful  6217807653094995999       1564055322      B   \n",
       "...                         ...                  ...              ...    ...   \n",
       "244121         MainScreenAppear  4599628364049201812       1565212345     A2   \n",
       "244122         MainScreenAppear  5849806612437486590       1565212439     A1   \n",
       "244123         MainScreenAppear  5746969938801999050       1565212483     A1   \n",
       "244124         MainScreenAppear  5746969938801999050       1565212498     A1   \n",
       "244125       OffersScreenAppear  5746969938801999050       1565212517     A1   \n",
       "\n",
       "            event_datetime event_date  \n",
       "0      2019-07-25 04:43:36 2019-07-25  \n",
       "1      2019-07-25 11:11:42 2019-07-25  \n",
       "2      2019-07-25 11:28:47 2019-07-25  \n",
       "3      2019-07-25 11:28:47 2019-07-25  \n",
       "4      2019-07-25 11:48:42 2019-07-25  \n",
       "...                    ...        ...  \n",
       "244121 2019-08-07 21:12:25 2019-08-07  \n",
       "244122 2019-08-07 21:13:59 2019-08-07  \n",
       "244123 2019-08-07 21:14:43 2019-08-07  \n",
       "244124 2019-08-07 21:14:58 2019-08-07  \n",
       "244125 2019-08-07 21:15:17 2019-08-07  \n",
       "\n",
       "[243713 rows x 6 columns]"
      ]
     },
     "execution_count": 20,
     "metadata": {},
     "output_type": "execute_result"
    }
   ],
   "source": [
    "df"
   ]
  },
  {
   "cell_type": "code",
   "execution_count": 21,
   "metadata": {
    "colab": {
     "base_uri": "https://localhost:8080/"
    },
    "executionInfo": {
     "elapsed": 57,
     "status": "ok",
     "timestamp": 1628873498399,
     "user": {
      "displayName": "Арсен",
      "photoUrl": "https://lh3.googleusercontent.com/a-/AOh14GjPCG8vWVVB43Ax1wpE_vEPLjGP-XH0UWc12vB7wg=s64",
      "userId": "17661651445996378067"
     },
     "user_tz": -180
    },
    "id": "K56V5htIAJfb",
    "outputId": "b4208144-baf4-456e-8085-0c8be9f1ba75"
   },
   "outputs": [
    {
     "data": {
      "text/plain": [
       "event_name               category\n",
       "device_id                   int64\n",
       "event_timestamp             int64\n",
       "exp_id                   category\n",
       "event_datetime     datetime64[ns]\n",
       "event_date         datetime64[ns]\n",
       "dtype: object"
      ]
     },
     "execution_count": 21,
     "metadata": {},
     "output_type": "execute_result"
    }
   ],
   "source": [
    "df.dtypes"
   ]
  },
  {
   "cell_type": "markdown",
   "metadata": {
    "id": "43SyjgHTAJfb"
   },
   "source": [
    "Данные готовы, приступим к изучению и проверке данных"
   ]
  },
  {
   "cell_type": "markdown",
   "metadata": {
    "id": "ddytMXm0AJfb"
   },
   "source": [
    "## Изучение и проверка данных"
   ]
  },
  {
   "cell_type": "markdown",
   "metadata": {
    "id": "6yqwJMMuAJfc"
   },
   "source": [
    "### Количество событий в логе"
   ]
  },
  {
   "cell_type": "markdown",
   "metadata": {
    "id": "KAXq8r6dAJfc"
   },
   "source": [
    "Если говорить про общее число событий, то это количество записей в нашем датафрейме, так как каждая запись - это какое-то событие"
   ]
  },
  {
   "cell_type": "code",
   "execution_count": 22,
   "metadata": {
    "colab": {
     "base_uri": "https://localhost:8080/"
    },
    "executionInfo": {
     "elapsed": 53,
     "status": "ok",
     "timestamp": 1628873498400,
     "user": {
      "displayName": "Арсен",
      "photoUrl": "https://lh3.googleusercontent.com/a-/AOh14GjPCG8vWVVB43Ax1wpE_vEPLjGP-XH0UWc12vB7wg=s64",
      "userId": "17661651445996378067"
     },
     "user_tz": -180
    },
    "id": "SuqXWo_dAJfc",
    "outputId": "c3429afb-18af-4a65-cf64-4d3658bc8fa7"
   },
   "outputs": [
    {
     "name": "stdout",
     "output_type": "stream",
     "text": [
      "Всего событий в логе - 243713\n"
     ]
    }
   ],
   "source": [
    "event_count = df.shape[0]\n",
    "\n",
    "print('Всего событий в логе -', event_count)"
   ]
  },
  {
   "cell_type": "markdown",
   "metadata": {
    "id": "Y_8tELaEAJfc"
   },
   "source": [
    "### Количество пользователей в логе"
   ]
  },
  {
   "cell_type": "code",
   "execution_count": 23,
   "metadata": {
    "colab": {
     "base_uri": "https://localhost:8080/"
    },
    "executionInfo": {
     "elapsed": 53,
     "status": "ok",
     "timestamp": 1628873498404,
     "user": {
      "displayName": "Арсен",
      "photoUrl": "https://lh3.googleusercontent.com/a-/AOh14GjPCG8vWVVB43Ax1wpE_vEPLjGP-XH0UWc12vB7wg=s64",
      "userId": "17661651445996378067"
     },
     "user_tz": -180
    },
    "id": "AAAYCKl4AJfc",
    "outputId": "3b81685e-b138-41fd-865e-cfdc30d3c720"
   },
   "outputs": [
    {
     "name": "stdout",
     "output_type": "stream",
     "text": [
      "Всего пользователей в логе - 7551\n"
     ]
    }
   ],
   "source": [
    "user_count = df['device_id'].nunique()\n",
    "\n",
    "print('Всего пользователей в логе -', user_count)"
   ]
  },
  {
   "cell_type": "markdown",
   "metadata": {
    "id": "TVMprlH1AJfc"
   },
   "source": [
    "### Среднее количество событий на одного пользователя"
   ]
  },
  {
   "cell_type": "code",
   "execution_count": 24,
   "metadata": {
    "colab": {
     "base_uri": "https://localhost:8080/"
    },
    "executionInfo": {
     "elapsed": 52,
     "status": "ok",
     "timestamp": 1628873498406,
     "user": {
      "displayName": "Арсен",
      "photoUrl": "https://lh3.googleusercontent.com/a-/AOh14GjPCG8vWVVB43Ax1wpE_vEPLjGP-XH0UWc12vB7wg=s64",
      "userId": "17661651445996378067"
     },
     "user_tz": -180
    },
    "id": "IEBM8DlRAJfc",
    "outputId": "b6425395-341f-42ee-d5e4-1aa08bc43b02"
   },
   "outputs": [
    {
     "name": "stdout",
     "output_type": "stream",
     "text": [
      "В среднем на пользователя приходится 32 события\n"
     ]
    }
   ],
   "source": [
    "print('В среднем на пользователя приходится {} события'.format(int(event_count/user_count)))"
   ]
  },
  {
   "cell_type": "markdown",
   "metadata": {
    "id": "MKxkO4hIAJfd"
   },
   "source": [
    "### Проверим, за какой период времени наши данные. Определим, с какого момента данные полные и отбросим более старые"
   ]
  },
  {
   "cell_type": "code",
   "execution_count": 25,
   "metadata": {
    "colab": {
     "base_uri": "https://localhost:8080/",
     "height": 323
    },
    "executionInfo": {
     "elapsed": 47,
     "status": "ok",
     "timestamp": 1628873498407,
     "user": {
      "displayName": "Арсен",
      "photoUrl": "https://lh3.googleusercontent.com/a-/AOh14GjPCG8vWVVB43Ax1wpE_vEPLjGP-XH0UWc12vB7wg=s64",
      "userId": "17661651445996378067"
     },
     "user_tz": -180
    },
    "id": "EFT1-8q3AJfd",
    "outputId": "5e684300-f81f-4a12-a64a-b1a47487e8a0"
   },
   "outputs": [
    {
     "data": {
      "text/html": [
       "<div>\n",
       "<style scoped>\n",
       "    .dataframe tbody tr th:only-of-type {\n",
       "        vertical-align: middle;\n",
       "    }\n",
       "\n",
       "    .dataframe tbody tr th {\n",
       "        vertical-align: top;\n",
       "    }\n",
       "\n",
       "    .dataframe thead th {\n",
       "        text-align: right;\n",
       "    }\n",
       "</style>\n",
       "<table border=\"1\" class=\"dataframe\">\n",
       "  <thead>\n",
       "    <tr style=\"text-align: right;\">\n",
       "      <th></th>\n",
       "      <th>event_datetime</th>\n",
       "    </tr>\n",
       "  </thead>\n",
       "  <tbody>\n",
       "    <tr>\n",
       "      <th>count</th>\n",
       "      <td>243713</td>\n",
       "    </tr>\n",
       "    <tr>\n",
       "      <th>unique</th>\n",
       "      <td>176654</td>\n",
       "    </tr>\n",
       "    <tr>\n",
       "      <th>top</th>\n",
       "      <td>2019-08-01 14:40:35</td>\n",
       "    </tr>\n",
       "    <tr>\n",
       "      <th>freq</th>\n",
       "      <td>9</td>\n",
       "    </tr>\n",
       "    <tr>\n",
       "      <th>first</th>\n",
       "      <td>2019-07-25 04:43:36</td>\n",
       "    </tr>\n",
       "    <tr>\n",
       "      <th>last</th>\n",
       "      <td>2019-08-07 21:15:17</td>\n",
       "    </tr>\n",
       "  </tbody>\n",
       "</table>\n",
       "</div>"
      ],
      "text/plain": [
       "             event_datetime\n",
       "count                243713\n",
       "unique               176654\n",
       "top     2019-08-01 14:40:35\n",
       "freq                      9\n",
       "first   2019-07-25 04:43:36\n",
       "last    2019-08-07 21:15:17"
      ]
     },
     "execution_count": 25,
     "metadata": {},
     "output_type": "execute_result"
    }
   ],
   "source": [
    "pd.DataFrame(df['event_datetime'].describe())"
   ]
  },
  {
   "cell_type": "code",
   "execution_count": 26,
   "metadata": {
    "colab": {
     "base_uri": "https://localhost:8080/"
    },
    "executionInfo": {
     "elapsed": 41,
     "status": "ok",
     "timestamp": 1628873498408,
     "user": {
      "displayName": "Арсен",
      "photoUrl": "https://lh3.googleusercontent.com/a-/AOh14GjPCG8vWVVB43Ax1wpE_vEPLjGP-XH0UWc12vB7wg=s64",
      "userId": "17661651445996378067"
     },
     "user_tz": -180
    },
    "id": "L-qwdegKAJfd",
    "outputId": "ac36d192-7518-4d8a-d52c-916ecfc35e62"
   },
   "outputs": [
    {
     "data": {
      "text/plain": [
       "Timedelta('13 days 16:31:41')"
      ]
     },
     "execution_count": 26,
     "metadata": {},
     "output_type": "execute_result"
    }
   ],
   "source": [
    "df['event_datetime'].max()-df['event_datetime'].min()"
   ]
  },
  {
   "cell_type": "markdown",
   "metadata": {
    "id": "d1Wv6_8GAJfd"
   },
   "source": [
    "Максимальная дата - 7 августа 2019, минимальная - 25 июля 2019. Данные за 13 дней"
   ]
  },
  {
   "cell_type": "markdown",
   "metadata": {
    "id": "0SRXF9oJAJfd"
   },
   "source": [
    "Посмотрим на распределение событий в логе по дате и времени"
   ]
  },
  {
   "cell_type": "code",
   "execution_count": 27,
   "metadata": {
    "colab": {
     "base_uri": "https://localhost:8080/",
     "height": 542,
     "output_embedded_package_id": "1DA_ltnSGv4UZ6wzgwN8Y4fY0hnx1hgGC"
    },
    "executionInfo": {
     "elapsed": 10706,
     "status": "ok",
     "timestamp": 1628873509077,
     "user": {
      "displayName": "Арсен",
      "photoUrl": "https://lh3.googleusercontent.com/a-/AOh14GjPCG8vWVVB43Ax1wpE_vEPLjGP-XH0UWc12vB7wg=s64",
      "userId": "17661651445996378067"
     },
     "user_tz": -180
    },
    "id": "SIkq_kBUAJfe",
    "outputId": "bc1b62c5-f216-4797-b3f1-862ca4212f57"
   },
   "outputs": [
    {
     "data": {
      "image/svg+xml": [
       "<svg class=\"main-svg\" xmlns=\"http://www.w3.org/2000/svg\" xmlns:xlink=\"http://www.w3.org/1999/xlink\" width=\"700\" height=\"500\" style=\"\" viewBox=\"0 0 700 500\"><rect x=\"0\" y=\"0\" width=\"700\" height=\"500\" style=\"fill: rgb(255, 255, 255); fill-opacity: 1;\"/><defs id=\"defs-587cbb\"><g class=\"clips\"><clipPath id=\"clip587cbbxyplot\" class=\"plotclip\"><rect width=\"540\" height=\"320\"/></clipPath><clipPath class=\"axesclip\" id=\"clip587cbbx\"><rect x=\"80\" y=\"0\" width=\"540\" height=\"500\"/></clipPath><clipPath class=\"axesclip\" id=\"clip587cbby\"><rect x=\"0\" y=\"100\" width=\"700\" height=\"320\"/></clipPath><clipPath class=\"axesclip\" id=\"clip587cbbxy\"><rect x=\"80\" y=\"100\" width=\"540\" height=\"320\"/></clipPath></g><g class=\"gradients\"/><g class=\"patterns\"/></defs><g class=\"bglayer\"><rect class=\"bg\" x=\"80\" y=\"100\" width=\"540\" height=\"320\" style=\"fill: rgb(229, 236, 246); fill-opacity: 1; stroke-width: 0;\"/></g><g class=\"layer-below\"><g class=\"imagelayer\"/><g class=\"shapelayer\"/></g><g class=\"cartesianlayer\"><g class=\"subplot xy\"><g class=\"layer-subplot\"><g class=\"shapelayer\"/><g class=\"imagelayer\"/></g><g class=\"gridlayer\"><g class=\"x\"/><g class=\"y\"><path class=\"ygrid crisp\" transform=\"translate(0,368.35)\" d=\"M80,0h540\" style=\"stroke: rgb(255, 255, 255); stroke-opacity: 1; stroke-width: 1px;\"/><path class=\"ygrid crisp\" transform=\"translate(0,316.7)\" d=\"M80,0h540\" style=\"stroke: rgb(255, 255, 255); stroke-opacity: 1; stroke-width: 1px;\"/><path class=\"ygrid crisp\" transform=\"translate(0,265.06)\" d=\"M80,0h540\" style=\"stroke: rgb(255, 255, 255); stroke-opacity: 1; stroke-width: 1px;\"/><path class=\"ygrid crisp\" transform=\"translate(0,213.41)\" d=\"M80,0h540\" style=\"stroke: rgb(255, 255, 255); stroke-opacity: 1; stroke-width: 1px;\"/><path class=\"ygrid crisp\" transform=\"translate(0,161.76)\" d=\"M80,0h540\" style=\"stroke: rgb(255, 255, 255); stroke-opacity: 1; stroke-width: 1px;\"/><path class=\"ygrid crisp\" transform=\"translate(0,110.11)\" d=\"M80,0h540\" style=\"stroke: rgb(255, 255, 255); stroke-opacity: 1; stroke-width: 1px;\"/></g></g><g class=\"zerolinelayer\"><path class=\"yzl zl crisp\" transform=\"translate(0,420)\" d=\"M80,0h540\" style=\"stroke: rgb(255, 255, 255); stroke-opacity: 1; stroke-width: 2px;\"/></g><path class=\"xlines-below\"/><path class=\"ylines-below\"/><g class=\"overlines-below\"/><g class=\"xaxislayer-below\"/><g class=\"yaxislayer-below\"/><g class=\"overaxes-below\"/><g class=\"plot\" transform=\"translate(80,100)\" clip-path=\"url(#clip587cbbxyplot)\"><g class=\"barlayer mlayer\"><g class=\"trace bars\" shape-rendering=\"crispEdges\" style=\"opacity: 1;\"><g class=\"points\"><g class=\"point\"><path d=\"M0,320V319.9H1.64V320Z\" style=\"vector-effect: non-scaling-stroke; opacity: 1; stroke-width: 0px; fill: rgb(99, 110, 250); fill-opacity: 1;\"/></g><g class=\"point\"><path d=\"M0,0Z\" style=\"vector-effect: non-scaling-stroke; opacity: 1; stroke-width: 0px; fill: rgb(99, 110, 250); fill-opacity: 1;\"/></g><g class=\"point\"><path d=\"M0,0Z\" style=\"vector-effect: non-scaling-stroke; opacity: 1; stroke-width: 0px; fill: rgb(99, 110, 250); fill-opacity: 1;\"/></g><g class=\"point\"><path d=\"M0,0Z\" style=\"vector-effect: non-scaling-stroke; opacity: 1; stroke-width: 0px; fill: rgb(99, 110, 250); fill-opacity: 1;\"/></g><g class=\"point\"><path d=\"M0,0Z\" style=\"vector-effect: non-scaling-stroke; opacity: 1; stroke-width: 0px; fill: rgb(99, 110, 250); fill-opacity: 1;\"/></g><g class=\"point\"><path d=\"M0,0Z\" style=\"vector-effect: non-scaling-stroke; opacity: 1; stroke-width: 0px; fill: rgb(99, 110, 250); fill-opacity: 1;\"/></g><g class=\"point\"><path d=\"M0,0Z\" style=\"vector-effect: non-scaling-stroke; opacity: 1; stroke-width: 0px; fill: rgb(99, 110, 250); fill-opacity: 1;\"/></g><g class=\"point\"><path d=\"M11.45,320V319.48H13.09V320Z\" style=\"vector-effect: non-scaling-stroke; opacity: 1; stroke-width: 0px; fill: rgb(99, 110, 250); fill-opacity: 1;\"/></g><g class=\"point\"><path d=\"M0,0Z\" style=\"vector-effect: non-scaling-stroke; opacity: 1; stroke-width: 0px; fill: rgb(99, 110, 250); fill-opacity: 1;\"/></g><g class=\"point\"><path d=\"M0,0Z\" style=\"vector-effect: non-scaling-stroke; opacity: 1; stroke-width: 0px; fill: rgb(99, 110, 250); fill-opacity: 1;\"/></g><g class=\"point\"><path d=\"M16.36,320V319.9H18V320Z\" style=\"vector-effect: non-scaling-stroke; opacity: 1; stroke-width: 0px; fill: rgb(99, 110, 250); fill-opacity: 1;\"/></g><g class=\"point\"><path d=\"M0,0Z\" style=\"vector-effect: non-scaling-stroke; opacity: 1; stroke-width: 0px; fill: rgb(99, 110, 250); fill-opacity: 1;\"/></g><g class=\"point\"><path d=\"M0,0Z\" style=\"vector-effect: non-scaling-stroke; opacity: 1; stroke-width: 0px; fill: rgb(99, 110, 250); fill-opacity: 1;\"/></g><g class=\"point\"><path d=\"M0,0Z\" style=\"vector-effect: non-scaling-stroke; opacity: 1; stroke-width: 0px; fill: rgb(99, 110, 250); fill-opacity: 1;\"/></g><g class=\"point\"><path d=\"M0,0Z\" style=\"vector-effect: non-scaling-stroke; opacity: 1; stroke-width: 0px; fill: rgb(99, 110, 250); fill-opacity: 1;\"/></g><g class=\"point\"><path d=\"M0,0Z\" style=\"vector-effect: non-scaling-stroke; opacity: 1; stroke-width: 0px; fill: rgb(99, 110, 250); fill-opacity: 1;\"/></g><g class=\"point\"><path d=\"M26.18,320V319.79H27.82V320Z\" style=\"vector-effect: non-scaling-stroke; opacity: 1; stroke-width: 0px; fill: rgb(99, 110, 250); fill-opacity: 1;\"/></g><g class=\"point\"><path d=\"M0,0Z\" style=\"vector-effect: non-scaling-stroke; opacity: 1; stroke-width: 0px; fill: rgb(99, 110, 250); fill-opacity: 1;\"/></g><g class=\"point\"><path d=\"M0,0Z\" style=\"vector-effect: non-scaling-stroke; opacity: 1; stroke-width: 0px; fill: rgb(99, 110, 250); fill-opacity: 1;\"/></g><g class=\"point\"><path d=\"M0,0Z\" style=\"vector-effect: non-scaling-stroke; opacity: 1; stroke-width: 0px; fill: rgb(99, 110, 250); fill-opacity: 1;\"/></g><g class=\"point\"><path d=\"M0,0Z\" style=\"vector-effect: non-scaling-stroke; opacity: 1; stroke-width: 0px; fill: rgb(99, 110, 250); fill-opacity: 1;\"/></g><g class=\"point\"><path d=\"M0,0Z\" style=\"vector-effect: non-scaling-stroke; opacity: 1; stroke-width: 0px; fill: rgb(99, 110, 250); fill-opacity: 1;\"/></g><g class=\"point\"><path d=\"M0,0Z\" style=\"vector-effect: non-scaling-stroke; opacity: 1; stroke-width: 0px; fill: rgb(99, 110, 250); fill-opacity: 1;\"/></g><g class=\"point\"><path d=\"M37.64,320V319.9H39.27V320Z\" style=\"vector-effect: non-scaling-stroke; opacity: 1; stroke-width: 0px; fill: rgb(99, 110, 250); fill-opacity: 1;\"/></g><g class=\"point\"><path d=\"M0,0Z\" style=\"vector-effect: non-scaling-stroke; opacity: 1; stroke-width: 0px; fill: rgb(99, 110, 250); fill-opacity: 1;\"/></g><g class=\"point\"><path d=\"M40.91,320V319.9H42.55V320Z\" style=\"vector-effect: non-scaling-stroke; opacity: 1; stroke-width: 0px; fill: rgb(99, 110, 250); fill-opacity: 1;\"/></g><g class=\"point\"><path d=\"M42.55,320V319.79H44.18V320Z\" style=\"vector-effect: non-scaling-stroke; opacity: 1; stroke-width: 0px; fill: rgb(99, 110, 250); fill-opacity: 1;\"/></g><g class=\"point\"><path d=\"M44.18,320V319.9H45.82V320Z\" style=\"vector-effect: non-scaling-stroke; opacity: 1; stroke-width: 0px; fill: rgb(99, 110, 250); fill-opacity: 1;\"/></g><g class=\"point\"><path d=\"M0,0Z\" style=\"vector-effect: non-scaling-stroke; opacity: 1; stroke-width: 0px; fill: rgb(99, 110, 250); fill-opacity: 1;\"/></g><g class=\"point\"><path d=\"M0,0Z\" style=\"vector-effect: non-scaling-stroke; opacity: 1; stroke-width: 0px; fill: rgb(99, 110, 250); fill-opacity: 1;\"/></g><g class=\"point\"><path d=\"M49.09,320V319.9H50.73V320Z\" style=\"vector-effect: non-scaling-stroke; opacity: 1; stroke-width: 0px; fill: rgb(99, 110, 250); fill-opacity: 1;\"/></g><g class=\"point\"><path d=\"M50.73,320V319.79H52.36V320Z\" style=\"vector-effect: non-scaling-stroke; opacity: 1; stroke-width: 0px; fill: rgb(99, 110, 250); fill-opacity: 1;\"/></g><g class=\"point\"><path d=\"M52.36,320V319.9H54V320Z\" style=\"vector-effect: non-scaling-stroke; opacity: 1; stroke-width: 0px; fill: rgb(99, 110, 250); fill-opacity: 1;\"/></g><g class=\"point\"><path d=\"M54,320V319.9H55.64V320Z\" style=\"vector-effect: non-scaling-stroke; opacity: 1; stroke-width: 0px; fill: rgb(99, 110, 250); fill-opacity: 1;\"/></g><g class=\"point\"><path d=\"M55.64,320V319.48H57.27V320Z\" style=\"vector-effect: non-scaling-stroke; opacity: 1; stroke-width: 0px; fill: rgb(99, 110, 250); fill-opacity: 1;\"/></g><g class=\"point\"><path d=\"M57.27,320V319.9H58.91V320Z\" style=\"vector-effect: non-scaling-stroke; opacity: 1; stroke-width: 0px; fill: rgb(99, 110, 250); fill-opacity: 1;\"/></g><g class=\"point\"><path d=\"M58.91,320V319.9H60.55V320Z\" style=\"vector-effect: non-scaling-stroke; opacity: 1; stroke-width: 0px; fill: rgb(99, 110, 250); fill-opacity: 1;\"/></g><g class=\"point\"><path d=\"M60.55,320V319.69H62.18V320Z\" style=\"vector-effect: non-scaling-stroke; opacity: 1; stroke-width: 0px; fill: rgb(99, 110, 250); fill-opacity: 1;\"/></g><g class=\"point\"><path d=\"M62.18,320V319.38H63.82V320Z\" style=\"vector-effect: non-scaling-stroke; opacity: 1; stroke-width: 0px; fill: rgb(99, 110, 250); fill-opacity: 1;\"/></g><g class=\"point\"><path d=\"M63.82,320V319.59H65.45V320Z\" style=\"vector-effect: non-scaling-stroke; opacity: 1; stroke-width: 0px; fill: rgb(99, 110, 250); fill-opacity: 1;\"/></g><g class=\"point\"><path d=\"M0,0Z\" style=\"vector-effect: non-scaling-stroke; opacity: 1; stroke-width: 0px; fill: rgb(99, 110, 250); fill-opacity: 1;\"/></g><g class=\"point\"><path d=\"M0,0Z\" style=\"vector-effect: non-scaling-stroke; opacity: 1; stroke-width: 0px; fill: rgb(99, 110, 250); fill-opacity: 1;\"/></g><g class=\"point\"><path d=\"M0,0Z\" style=\"vector-effect: non-scaling-stroke; opacity: 1; stroke-width: 0px; fill: rgb(99, 110, 250); fill-opacity: 1;\"/></g><g class=\"point\"><path d=\"M70.36,320V319.9H72V320Z\" style=\"vector-effect: non-scaling-stroke; opacity: 1; stroke-width: 0px; fill: rgb(99, 110, 250); fill-opacity: 1;\"/></g><g class=\"point\"><path d=\"M0,0Z\" style=\"vector-effect: non-scaling-stroke; opacity: 1; stroke-width: 0px; fill: rgb(99, 110, 250); fill-opacity: 1;\"/></g><g class=\"point\"><path d=\"M0,0Z\" style=\"vector-effect: non-scaling-stroke; opacity: 1; stroke-width: 0px; fill: rgb(99, 110, 250); fill-opacity: 1;\"/></g><g class=\"point\"><path d=\"M0,0Z\" style=\"vector-effect: non-scaling-stroke; opacity: 1; stroke-width: 0px; fill: rgb(99, 110, 250); fill-opacity: 1;\"/></g><g class=\"point\"><path d=\"M0,0Z\" style=\"vector-effect: non-scaling-stroke; opacity: 1; stroke-width: 0px; fill: rgb(99, 110, 250); fill-opacity: 1;\"/></g><g class=\"point\"><path d=\"M78.55,320V319.9H80.18V320Z\" style=\"vector-effect: non-scaling-stroke; opacity: 1; stroke-width: 0px; fill: rgb(99, 110, 250); fill-opacity: 1;\"/></g><g class=\"point\"><path d=\"M0,0Z\" style=\"vector-effect: non-scaling-stroke; opacity: 1; stroke-width: 0px; fill: rgb(99, 110, 250); fill-opacity: 1;\"/></g><g class=\"point\"><path d=\"M81.82,320V319.59H83.45V320Z\" style=\"vector-effect: non-scaling-stroke; opacity: 1; stroke-width: 0px; fill: rgb(99, 110, 250); fill-opacity: 1;\"/></g><g class=\"point\"><path d=\"M0,0Z\" style=\"vector-effect: non-scaling-stroke; opacity: 1; stroke-width: 0px; fill: rgb(99, 110, 250); fill-opacity: 1;\"/></g><g class=\"point\"><path d=\"M85.09,320V319.07H86.73V320Z\" style=\"vector-effect: non-scaling-stroke; opacity: 1; stroke-width: 0px; fill: rgb(99, 110, 250); fill-opacity: 1;\"/></g><g class=\"point\"><path d=\"M0,0Z\" style=\"vector-effect: non-scaling-stroke; opacity: 1; stroke-width: 0px; fill: rgb(99, 110, 250); fill-opacity: 1;\"/></g><g class=\"point\"><path d=\"M88.36,320V318.66H90V320Z\" style=\"vector-effect: non-scaling-stroke; opacity: 1; stroke-width: 0px; fill: rgb(99, 110, 250); fill-opacity: 1;\"/></g><g class=\"point\"><path d=\"M90,320V319.9H91.64V320Z\" style=\"vector-effect: non-scaling-stroke; opacity: 1; stroke-width: 0px; fill: rgb(99, 110, 250); fill-opacity: 1;\"/></g><g class=\"point\"><path d=\"M91.64,320V319.79H93.27V320Z\" style=\"vector-effect: non-scaling-stroke; opacity: 1; stroke-width: 0px; fill: rgb(99, 110, 250); fill-opacity: 1;\"/></g><g class=\"point\"><path d=\"M93.27,320V319.9H94.91V320Z\" style=\"vector-effect: non-scaling-stroke; opacity: 1; stroke-width: 0px; fill: rgb(99, 110, 250); fill-opacity: 1;\"/></g><g class=\"point\"><path d=\"M94.91,320V319.59H96.55V320Z\" style=\"vector-effect: non-scaling-stroke; opacity: 1; stroke-width: 0px; fill: rgb(99, 110, 250); fill-opacity: 1;\"/></g><g class=\"point\"><path d=\"M96.55,320V319.79H98.18V320Z\" style=\"vector-effect: non-scaling-stroke; opacity: 1; stroke-width: 0px; fill: rgb(99, 110, 250); fill-opacity: 1;\"/></g><g class=\"point\"><path d=\"M98.18,320V319.48H99.82V320Z\" style=\"vector-effect: non-scaling-stroke; opacity: 1; stroke-width: 0px; fill: rgb(99, 110, 250); fill-opacity: 1;\"/></g><g class=\"point\"><path d=\"M99.82,320V319.38H101.45V320Z\" style=\"vector-effect: non-scaling-stroke; opacity: 1; stroke-width: 0px; fill: rgb(99, 110, 250); fill-opacity: 1;\"/></g><g class=\"point\"><path d=\"M101.45,320V319.59H103.09V320Z\" style=\"vector-effect: non-scaling-stroke; opacity: 1; stroke-width: 0px; fill: rgb(99, 110, 250); fill-opacity: 1;\"/></g><g class=\"point\"><path d=\"M103.09,320V319.79H104.73V320Z\" style=\"vector-effect: non-scaling-stroke; opacity: 1; stroke-width: 0px; fill: rgb(99, 110, 250); fill-opacity: 1;\"/></g><g class=\"point\"><path d=\"M0,0Z\" style=\"vector-effect: non-scaling-stroke; opacity: 1; stroke-width: 0px; fill: rgb(99, 110, 250); fill-opacity: 1;\"/></g><g class=\"point\"><path d=\"M0,0Z\" style=\"vector-effect: non-scaling-stroke; opacity: 1; stroke-width: 0px; fill: rgb(99, 110, 250); fill-opacity: 1;\"/></g><g class=\"point\"><path d=\"M0,0Z\" style=\"vector-effect: non-scaling-stroke; opacity: 1; stroke-width: 0px; fill: rgb(99, 110, 250); fill-opacity: 1;\"/></g><g class=\"point\"><path d=\"M109.64,320V319.9H111.27V320Z\" style=\"vector-effect: non-scaling-stroke; opacity: 1; stroke-width: 0px; fill: rgb(99, 110, 250); fill-opacity: 1;\"/></g><g class=\"point\"><path d=\"M0,0Z\" style=\"vector-effect: non-scaling-stroke; opacity: 1; stroke-width: 0px; fill: rgb(99, 110, 250); fill-opacity: 1;\"/></g><g class=\"point\"><path d=\"M0,0Z\" style=\"vector-effect: non-scaling-stroke; opacity: 1; stroke-width: 0px; fill: rgb(99, 110, 250); fill-opacity: 1;\"/></g><g class=\"point\"><path d=\"M114.55,320V319.9H116.18V320Z\" style=\"vector-effect: non-scaling-stroke; opacity: 1; stroke-width: 0px; fill: rgb(99, 110, 250); fill-opacity: 1;\"/></g><g class=\"point\"><path d=\"M0,0Z\" style=\"vector-effect: non-scaling-stroke; opacity: 1; stroke-width: 0px; fill: rgb(99, 110, 250); fill-opacity: 1;\"/></g><g class=\"point\"><path d=\"M117.82,320V319.07H119.45V320Z\" style=\"vector-effect: non-scaling-stroke; opacity: 1; stroke-width: 0px; fill: rgb(99, 110, 250); fill-opacity: 1;\"/></g><g class=\"point\"><path d=\"M119.45,320V319.79H121.09V320Z\" style=\"vector-effect: non-scaling-stroke; opacity: 1; stroke-width: 0px; fill: rgb(99, 110, 250); fill-opacity: 1;\"/></g><g class=\"point\"><path d=\"M121.09,320V319.69H122.73V320Z\" style=\"vector-effect: non-scaling-stroke; opacity: 1; stroke-width: 0px; fill: rgb(99, 110, 250); fill-opacity: 1;\"/></g><g class=\"point\"><path d=\"M122.73,320V319.28H124.36V320Z\" style=\"vector-effect: non-scaling-stroke; opacity: 1; stroke-width: 0px; fill: rgb(99, 110, 250); fill-opacity: 1;\"/></g><g class=\"point\"><path d=\"M124.36,320V319.48H126V320Z\" style=\"vector-effect: non-scaling-stroke; opacity: 1; stroke-width: 0px; fill: rgb(99, 110, 250); fill-opacity: 1;\"/></g><g class=\"point\"><path d=\"M126,320V319.79H127.64V320Z\" style=\"vector-effect: non-scaling-stroke; opacity: 1; stroke-width: 0px; fill: rgb(99, 110, 250); fill-opacity: 1;\"/></g><g class=\"point\"><path d=\"M127.64,320V319.69H129.27V320Z\" style=\"vector-effect: non-scaling-stroke; opacity: 1; stroke-width: 0px; fill: rgb(99, 110, 250); fill-opacity: 1;\"/></g><g class=\"point\"><path d=\"M129.27,320V319.9H130.91V320Z\" style=\"vector-effect: non-scaling-stroke; opacity: 1; stroke-width: 0px; fill: rgb(99, 110, 250); fill-opacity: 1;\"/></g><g class=\"point\"><path d=\"M130.91,320V318.97H132.55V320Z\" style=\"vector-effect: non-scaling-stroke; opacity: 1; stroke-width: 0px; fill: rgb(99, 110, 250); fill-opacity: 1;\"/></g><g class=\"point\"><path d=\"M132.55,320V318.55H134.18V320Z\" style=\"vector-effect: non-scaling-stroke; opacity: 1; stroke-width: 0px; fill: rgb(99, 110, 250); fill-opacity: 1;\"/></g><g class=\"point\"><path d=\"M134.18,320V319.28H135.82V320Z\" style=\"vector-effect: non-scaling-stroke; opacity: 1; stroke-width: 0px; fill: rgb(99, 110, 250); fill-opacity: 1;\"/></g><g class=\"point\"><path d=\"M135.82,320V319.28H137.45V320Z\" style=\"vector-effect: non-scaling-stroke; opacity: 1; stroke-width: 0px; fill: rgb(99, 110, 250); fill-opacity: 1;\"/></g><g class=\"point\"><path d=\"M137.45,320V318.86H139.09V320Z\" style=\"vector-effect: non-scaling-stroke; opacity: 1; stroke-width: 0px; fill: rgb(99, 110, 250); fill-opacity: 1;\"/></g><g class=\"point\"><path d=\"M139.09,320V319.38H140.73V320Z\" style=\"vector-effect: non-scaling-stroke; opacity: 1; stroke-width: 0px; fill: rgb(99, 110, 250); fill-opacity: 1;\"/></g><g class=\"point\"><path d=\"M140.73,320V319.17H142.36V320Z\" style=\"vector-effect: non-scaling-stroke; opacity: 1; stroke-width: 0px; fill: rgb(99, 110, 250); fill-opacity: 1;\"/></g><g class=\"point\"><path d=\"M142.36,320V319.38H144V320Z\" style=\"vector-effect: non-scaling-stroke; opacity: 1; stroke-width: 0px; fill: rgb(99, 110, 250); fill-opacity: 1;\"/></g><g class=\"point\"><path d=\"M144,320V319.9H145.64V320Z\" style=\"vector-effect: non-scaling-stroke; opacity: 1; stroke-width: 0px; fill: rgb(99, 110, 250); fill-opacity: 1;\"/></g><g class=\"point\"><path d=\"M145.64,320V319.79H147.27V320Z\" style=\"vector-effect: non-scaling-stroke; opacity: 1; stroke-width: 0px; fill: rgb(99, 110, 250); fill-opacity: 1;\"/></g><g class=\"point\"><path d=\"M0,0Z\" style=\"vector-effect: non-scaling-stroke; opacity: 1; stroke-width: 0px; fill: rgb(99, 110, 250); fill-opacity: 1;\"/></g><g class=\"point\"><path d=\"M0,0Z\" style=\"vector-effect: non-scaling-stroke; opacity: 1; stroke-width: 0px; fill: rgb(99, 110, 250); fill-opacity: 1;\"/></g><g class=\"point\"><path d=\"M0,0Z\" style=\"vector-effect: non-scaling-stroke; opacity: 1; stroke-width: 0px; fill: rgb(99, 110, 250); fill-opacity: 1;\"/></g><g class=\"point\"><path d=\"M0,0Z\" style=\"vector-effect: non-scaling-stroke; opacity: 1; stroke-width: 0px; fill: rgb(99, 110, 250); fill-opacity: 1;\"/></g><g class=\"point\"><path d=\"M153.82,320V319.79H155.45V320Z\" style=\"vector-effect: non-scaling-stroke; opacity: 1; stroke-width: 0px; fill: rgb(99, 110, 250); fill-opacity: 1;\"/></g><g class=\"point\"><path d=\"M0,0Z\" style=\"vector-effect: non-scaling-stroke; opacity: 1; stroke-width: 0px; fill: rgb(99, 110, 250); fill-opacity: 1;\"/></g><g class=\"point\"><path d=\"M157.09,320V319.9H158.73V320Z\" style=\"vector-effect: non-scaling-stroke; opacity: 1; stroke-width: 0px; fill: rgb(99, 110, 250); fill-opacity: 1;\"/></g><g class=\"point\"><path d=\"M158.73,320V319.48H160.36V320Z\" style=\"vector-effect: non-scaling-stroke; opacity: 1; stroke-width: 0px; fill: rgb(99, 110, 250); fill-opacity: 1;\"/></g><g class=\"point\"><path d=\"M160.36,320V319.79H162V320Z\" style=\"vector-effect: non-scaling-stroke; opacity: 1; stroke-width: 0px; fill: rgb(99, 110, 250); fill-opacity: 1;\"/></g><g class=\"point\"><path d=\"M162,320V319.69H163.64V320Z\" style=\"vector-effect: non-scaling-stroke; opacity: 1; stroke-width: 0px; fill: rgb(99, 110, 250); fill-opacity: 1;\"/></g><g class=\"point\"><path d=\"M163.64,320V319.48H165.27V320Z\" style=\"vector-effect: non-scaling-stroke; opacity: 1; stroke-width: 0px; fill: rgb(99, 110, 250); fill-opacity: 1;\"/></g><g class=\"point\"><path d=\"M165.27,320V319.17H166.91V320Z\" style=\"vector-effect: non-scaling-stroke; opacity: 1; stroke-width: 0px; fill: rgb(99, 110, 250); fill-opacity: 1;\"/></g><g class=\"point\"><path d=\"M166.91,320V318.86H168.55V320Z\" style=\"vector-effect: non-scaling-stroke; opacity: 1; stroke-width: 0px; fill: rgb(99, 110, 250); fill-opacity: 1;\"/></g><g class=\"point\"><path d=\"M168.55,320V319.28H170.18V320Z\" style=\"vector-effect: non-scaling-stroke; opacity: 1; stroke-width: 0px; fill: rgb(99, 110, 250); fill-opacity: 1;\"/></g><g class=\"point\"><path d=\"M170.18,320V319.07H171.82V320Z\" style=\"vector-effect: non-scaling-stroke; opacity: 1; stroke-width: 0px; fill: rgb(99, 110, 250); fill-opacity: 1;\"/></g><g class=\"point\"><path d=\"M171.82,320V318.86H173.45V320Z\" style=\"vector-effect: non-scaling-stroke; opacity: 1; stroke-width: 0px; fill: rgb(99, 110, 250); fill-opacity: 1;\"/></g><g class=\"point\"><path d=\"M173.45,320V317.21H175.09V320Z\" style=\"vector-effect: non-scaling-stroke; opacity: 1; stroke-width: 0px; fill: rgb(99, 110, 250); fill-opacity: 1;\"/></g><g class=\"point\"><path d=\"M175.09,320V318.97H176.73V320Z\" style=\"vector-effect: non-scaling-stroke; opacity: 1; stroke-width: 0px; fill: rgb(99, 110, 250); fill-opacity: 1;\"/></g><g class=\"point\"><path d=\"M176.73,320V318.04H178.36V320Z\" style=\"vector-effect: non-scaling-stroke; opacity: 1; stroke-width: 0px; fill: rgb(99, 110, 250); fill-opacity: 1;\"/></g><g class=\"point\"><path d=\"M178.36,320V317.21H180V320Z\" style=\"vector-effect: non-scaling-stroke; opacity: 1; stroke-width: 0px; fill: rgb(99, 110, 250); fill-opacity: 1;\"/></g><g class=\"point\"><path d=\"M180,320V318.66H181.64V320Z\" style=\"vector-effect: non-scaling-stroke; opacity: 1; stroke-width: 0px; fill: rgb(99, 110, 250); fill-opacity: 1;\"/></g><g class=\"point\"><path d=\"M181.64,320V318.35H183.27V320Z\" style=\"vector-effect: non-scaling-stroke; opacity: 1; stroke-width: 0px; fill: rgb(99, 110, 250); fill-opacity: 1;\"/></g><g class=\"point\"><path d=\"M183.27,320V319.69H184.91V320Z\" style=\"vector-effect: non-scaling-stroke; opacity: 1; stroke-width: 0px; fill: rgb(99, 110, 250); fill-opacity: 1;\"/></g><g class=\"point\"><path d=\"M184.91,320V319.59H186.55V320Z\" style=\"vector-effect: non-scaling-stroke; opacity: 1; stroke-width: 0px; fill: rgb(99, 110, 250); fill-opacity: 1;\"/></g><g class=\"point\"><path d=\"M186.55,320V319.9H188.18V320Z\" style=\"vector-effect: non-scaling-stroke; opacity: 1; stroke-width: 0px; fill: rgb(99, 110, 250); fill-opacity: 1;\"/></g><g class=\"point\"><path d=\"M0,0Z\" style=\"vector-effect: non-scaling-stroke; opacity: 1; stroke-width: 0px; fill: rgb(99, 110, 250); fill-opacity: 1;\"/></g><g class=\"point\"><path d=\"M0,0Z\" style=\"vector-effect: non-scaling-stroke; opacity: 1; stroke-width: 0px; fill: rgb(99, 110, 250); fill-opacity: 1;\"/></g><g class=\"point\"><path d=\"M191.45,320V319.79H193.09V320Z\" style=\"vector-effect: non-scaling-stroke; opacity: 1; stroke-width: 0px; fill: rgb(99, 110, 250); fill-opacity: 1;\"/></g><g class=\"point\"><path d=\"M193.09,320V319.79H194.73V320Z\" style=\"vector-effect: non-scaling-stroke; opacity: 1; stroke-width: 0px; fill: rgb(99, 110, 250); fill-opacity: 1;\"/></g><g class=\"point\"><path d=\"M194.73,320V319.79H196.36V320Z\" style=\"vector-effect: non-scaling-stroke; opacity: 1; stroke-width: 0px; fill: rgb(99, 110, 250); fill-opacity: 1;\"/></g><g class=\"point\"><path d=\"M196.36,320V318.76H198V320Z\" style=\"vector-effect: non-scaling-stroke; opacity: 1; stroke-width: 0px; fill: rgb(99, 110, 250); fill-opacity: 1;\"/></g><g class=\"point\"><path d=\"M198,320V318.45H199.64V320Z\" style=\"vector-effect: non-scaling-stroke; opacity: 1; stroke-width: 0px; fill: rgb(99, 110, 250); fill-opacity: 1;\"/></g><g class=\"point\"><path d=\"M199.64,320V318.55H201.27V320Z\" style=\"vector-effect: non-scaling-stroke; opacity: 1; stroke-width: 0px; fill: rgb(99, 110, 250); fill-opacity: 1;\"/></g><g class=\"point\"><path d=\"M201.27,320V319.07H202.91V320Z\" style=\"vector-effect: non-scaling-stroke; opacity: 1; stroke-width: 0px; fill: rgb(99, 110, 250); fill-opacity: 1;\"/></g><g class=\"point\"><path d=\"M202.91,320V317.42H204.55V320Z\" style=\"vector-effect: non-scaling-stroke; opacity: 1; stroke-width: 0px; fill: rgb(99, 110, 250); fill-opacity: 1;\"/></g><g class=\"point\"><path d=\"M204.55,320V318.04H206.18V320Z\" style=\"vector-effect: non-scaling-stroke; opacity: 1; stroke-width: 0px; fill: rgb(99, 110, 250); fill-opacity: 1;\"/></g><g class=\"point\"><path d=\"M206.18,320V316.8H207.82V320Z\" style=\"vector-effect: non-scaling-stroke; opacity: 1; stroke-width: 0px; fill: rgb(99, 110, 250); fill-opacity: 1;\"/></g><g class=\"point\"><path d=\"M207.82,320V316.69H209.45V320Z\" style=\"vector-effect: non-scaling-stroke; opacity: 1; stroke-width: 0px; fill: rgb(99, 110, 250); fill-opacity: 1;\"/></g><g class=\"point\"><path d=\"M209.45,320V317.73H211.09V320Z\" style=\"vector-effect: non-scaling-stroke; opacity: 1; stroke-width: 0px; fill: rgb(99, 110, 250); fill-opacity: 1;\"/></g><g class=\"point\"><path d=\"M211.09,320V317.31H212.73V320Z\" style=\"vector-effect: non-scaling-stroke; opacity: 1; stroke-width: 0px; fill: rgb(99, 110, 250); fill-opacity: 1;\"/></g><g class=\"point\"><path d=\"M212.73,320V317.52H214.36V320Z\" style=\"vector-effect: non-scaling-stroke; opacity: 1; stroke-width: 0px; fill: rgb(99, 110, 250); fill-opacity: 1;\"/></g><g class=\"point\"><path d=\"M214.36,320V317.11H216V320Z\" style=\"vector-effect: non-scaling-stroke; opacity: 1; stroke-width: 0px; fill: rgb(99, 110, 250); fill-opacity: 1;\"/></g><g class=\"point\"><path d=\"M216,320V315.76H217.64V320Z\" style=\"vector-effect: non-scaling-stroke; opacity: 1; stroke-width: 0px; fill: rgb(99, 110, 250); fill-opacity: 1;\"/></g><g class=\"point\"><path d=\"M217.64,320V316.9H219.27V320Z\" style=\"vector-effect: non-scaling-stroke; opacity: 1; stroke-width: 0px; fill: rgb(99, 110, 250); fill-opacity: 1;\"/></g><g class=\"point\"><path d=\"M219.27,320V317.62H220.91V320Z\" style=\"vector-effect: non-scaling-stroke; opacity: 1; stroke-width: 0px; fill: rgb(99, 110, 250); fill-opacity: 1;\"/></g><g class=\"point\"><path d=\"M220.91,320V317.83H222.55V320Z\" style=\"vector-effect: non-scaling-stroke; opacity: 1; stroke-width: 0px; fill: rgb(99, 110, 250); fill-opacity: 1;\"/></g><g class=\"point\"><path d=\"M222.55,320V318.55H224.18V320Z\" style=\"vector-effect: non-scaling-stroke; opacity: 1; stroke-width: 0px; fill: rgb(99, 110, 250); fill-opacity: 1;\"/></g><g class=\"point\"><path d=\"M224.18,320V318.97H225.82V320Z\" style=\"vector-effect: non-scaling-stroke; opacity: 1; stroke-width: 0px; fill: rgb(99, 110, 250); fill-opacity: 1;\"/></g><g class=\"point\"><path d=\"M225.82,320V319.59H227.45V320Z\" style=\"vector-effect: non-scaling-stroke; opacity: 1; stroke-width: 0px; fill: rgb(99, 110, 250); fill-opacity: 1;\"/></g><g class=\"point\"><path d=\"M227.45,320V319.38H229.09V320Z\" style=\"vector-effect: non-scaling-stroke; opacity: 1; stroke-width: 0px; fill: rgb(99, 110, 250); fill-opacity: 1;\"/></g><g class=\"point\"><path d=\"M0,0Z\" style=\"vector-effect: non-scaling-stroke; opacity: 1; stroke-width: 0px; fill: rgb(99, 110, 250); fill-opacity: 1;\"/></g><g class=\"point\"><path d=\"M230.73,320V319.69H232.36V320Z\" style=\"vector-effect: non-scaling-stroke; opacity: 1; stroke-width: 0px; fill: rgb(99, 110, 250); fill-opacity: 1;\"/></g><g class=\"point\"><path d=\"M232.36,320V319.79H234V320Z\" style=\"vector-effect: non-scaling-stroke; opacity: 1; stroke-width: 0px; fill: rgb(99, 110, 250); fill-opacity: 1;\"/></g><g class=\"point\"><path d=\"M234,320V318.76H235.64V320Z\" style=\"vector-effect: non-scaling-stroke; opacity: 1; stroke-width: 0px; fill: rgb(99, 110, 250); fill-opacity: 1;\"/></g><g class=\"point\"><path d=\"M235.64,320V317.73H237.27V320Z\" style=\"vector-effect: non-scaling-stroke; opacity: 1; stroke-width: 0px; fill: rgb(99, 110, 250); fill-opacity: 1;\"/></g><g class=\"point\"><path d=\"M237.27,320V317.21H238.91V320Z\" style=\"vector-effect: non-scaling-stroke; opacity: 1; stroke-width: 0px; fill: rgb(99, 110, 250); fill-opacity: 1;\"/></g><g class=\"point\"><path d=\"M238.91,320V316.8H240.55V320Z\" style=\"vector-effect: non-scaling-stroke; opacity: 1; stroke-width: 0px; fill: rgb(99, 110, 250); fill-opacity: 1;\"/></g><g class=\"point\"><path d=\"M240.55,320V315.35H242.18V320Z\" style=\"vector-effect: non-scaling-stroke; opacity: 1; stroke-width: 0px; fill: rgb(99, 110, 250); fill-opacity: 1;\"/></g><g class=\"point\"><path d=\"M242.18,320V316.8H243.82V320Z\" style=\"vector-effect: non-scaling-stroke; opacity: 1; stroke-width: 0px; fill: rgb(99, 110, 250); fill-opacity: 1;\"/></g><g class=\"point\"><path d=\"M243.82,320V314.94H245.45V320Z\" style=\"vector-effect: non-scaling-stroke; opacity: 1; stroke-width: 0px; fill: rgb(99, 110, 250); fill-opacity: 1;\"/></g><g class=\"point\"><path d=\"M245.45,320V310.91H247.09V320Z\" style=\"vector-effect: non-scaling-stroke; opacity: 1; stroke-width: 0px; fill: rgb(99, 110, 250); fill-opacity: 1;\"/></g><g class=\"point\"><path d=\"M247.09,320V314.53H248.73V320Z\" style=\"vector-effect: non-scaling-stroke; opacity: 1; stroke-width: 0px; fill: rgb(99, 110, 250); fill-opacity: 1;\"/></g><g class=\"point\"><path d=\"M248.73,320V311.53H250.36V320Z\" style=\"vector-effect: non-scaling-stroke; opacity: 1; stroke-width: 0px; fill: rgb(99, 110, 250); fill-opacity: 1;\"/></g><g class=\"point\"><path d=\"M250.36,320V310.5H252V320Z\" style=\"vector-effect: non-scaling-stroke; opacity: 1; stroke-width: 0px; fill: rgb(99, 110, 250); fill-opacity: 1;\"/></g><g class=\"point\"><path d=\"M252,320V309.98H253.64V320Z\" style=\"vector-effect: non-scaling-stroke; opacity: 1; stroke-width: 0px; fill: rgb(99, 110, 250); fill-opacity: 1;\"/></g><g class=\"point\"><path d=\"M253.64,320V308.53H255.27V320Z\" style=\"vector-effect: non-scaling-stroke; opacity: 1; stroke-width: 0px; fill: rgb(99, 110, 250); fill-opacity: 1;\"/></g><g class=\"point\"><path d=\"M255.27,320V308.84H256.91V320Z\" style=\"vector-effect: non-scaling-stroke; opacity: 1; stroke-width: 0px; fill: rgb(99, 110, 250); fill-opacity: 1;\"/></g><g class=\"point\"><path d=\"M256.91,320V308.33H258.55V320Z\" style=\"vector-effect: non-scaling-stroke; opacity: 1; stroke-width: 0px; fill: rgb(99, 110, 250); fill-opacity: 1;\"/></g><g class=\"point\"><path d=\"M258.55,320V309.05H260.18V320Z\" style=\"vector-effect: non-scaling-stroke; opacity: 1; stroke-width: 0px; fill: rgb(99, 110, 250); fill-opacity: 1;\"/></g><g class=\"point\"><path d=\"M260.18,320V313.29H261.82V320Z\" style=\"vector-effect: non-scaling-stroke; opacity: 1; stroke-width: 0px; fill: rgb(99, 110, 250); fill-opacity: 1;\"/></g><g class=\"point\"><path d=\"M261.82,320V314.22H263.45V320Z\" style=\"vector-effect: non-scaling-stroke; opacity: 1; stroke-width: 0px; fill: rgb(99, 110, 250); fill-opacity: 1;\"/></g><g class=\"point\"><path d=\"M263.45,320V276.2H265.09V320Z\" style=\"vector-effect: non-scaling-stroke; opacity: 1; stroke-width: 0px; fill: rgb(99, 110, 250); fill-opacity: 1;\"/></g><g class=\"point\"><path d=\"M265.09,320V288.08H266.73V320Z\" style=\"vector-effect: non-scaling-stroke; opacity: 1; stroke-width: 0px; fill: rgb(99, 110, 250); fill-opacity: 1;\"/></g><g class=\"point\"><path d=\"M266.73,320V309.26H268.36V320Z\" style=\"vector-effect: non-scaling-stroke; opacity: 1; stroke-width: 0px; fill: rgb(99, 110, 250); fill-opacity: 1;\"/></g><g class=\"point\"><path d=\"M268.36,320V300.17H270V320Z\" style=\"vector-effect: non-scaling-stroke; opacity: 1; stroke-width: 0px; fill: rgb(99, 110, 250); fill-opacity: 1;\"/></g><g class=\"point\"><path d=\"M270,320V296.45H271.64V320Z\" style=\"vector-effect: non-scaling-stroke; opacity: 1; stroke-width: 0px; fill: rgb(99, 110, 250); fill-opacity: 1;\"/></g><g class=\"point\"><path d=\"M271.64,320V286.12H273.27V320Z\" style=\"vector-effect: non-scaling-stroke; opacity: 1; stroke-width: 0px; fill: rgb(99, 110, 250); fill-opacity: 1;\"/></g><g class=\"point\"><path d=\"M273.27,320V252.13H274.91V320Z\" style=\"vector-effect: non-scaling-stroke; opacity: 1; stroke-width: 0px; fill: rgb(99, 110, 250); fill-opacity: 1;\"/></g><g class=\"point\"><path d=\"M274.91,320V233.54H276.55V320Z\" style=\"vector-effect: non-scaling-stroke; opacity: 1; stroke-width: 0px; fill: rgb(99, 110, 250); fill-opacity: 1;\"/></g><g class=\"point\"><path d=\"M276.55,320V204.93H278.18V320Z\" style=\"vector-effect: non-scaling-stroke; opacity: 1; stroke-width: 0px; fill: rgb(99, 110, 250); fill-opacity: 1;\"/></g><g class=\"point\"><path d=\"M278.18,320V172.08H279.82V320Z\" style=\"vector-effect: non-scaling-stroke; opacity: 1; stroke-width: 0px; fill: rgb(99, 110, 250); fill-opacity: 1;\"/></g><g class=\"point\"><path d=\"M279.82,320V138.61H281.45V320Z\" style=\"vector-effect: non-scaling-stroke; opacity: 1; stroke-width: 0px; fill: rgb(99, 110, 250); fill-opacity: 1;\"/></g><g class=\"point\"><path d=\"M281.45,320V123.63H283.09V320Z\" style=\"vector-effect: non-scaling-stroke; opacity: 1; stroke-width: 0px; fill: rgb(99, 110, 250); fill-opacity: 1;\"/></g><g class=\"point\"><path d=\"M283.09,320V112.99H284.73V320Z\" style=\"vector-effect: non-scaling-stroke; opacity: 1; stroke-width: 0px; fill: rgb(99, 110, 250); fill-opacity: 1;\"/></g><g class=\"point\"><path d=\"M284.73,320V117.33H286.36V320Z\" style=\"vector-effect: non-scaling-stroke; opacity: 1; stroke-width: 0px; fill: rgb(99, 110, 250); fill-opacity: 1;\"/></g><g class=\"point\"><path d=\"M286.36,320V57.73H288V320Z\" style=\"vector-effect: non-scaling-stroke; opacity: 1; stroke-width: 0px; fill: rgb(99, 110, 250); fill-opacity: 1;\"/></g><g class=\"point\"><path d=\"M288,320V55.98H289.64V320Z\" style=\"vector-effect: non-scaling-stroke; opacity: 1; stroke-width: 0px; fill: rgb(99, 110, 250); fill-opacity: 1;\"/></g><g class=\"point\"><path d=\"M289.64,320V83.56H291.27V320Z\" style=\"vector-effect: non-scaling-stroke; opacity: 1; stroke-width: 0px; fill: rgb(99, 110, 250); fill-opacity: 1;\"/></g><g class=\"point\"><path d=\"M291.27,320V30.15H292.91V320Z\" style=\"vector-effect: non-scaling-stroke; opacity: 1; stroke-width: 0px; fill: rgb(99, 110, 250); fill-opacity: 1;\"/></g><g class=\"point\"><path d=\"M292.91,320V77.56H294.55V320Z\" style=\"vector-effect: non-scaling-stroke; opacity: 1; stroke-width: 0px; fill: rgb(99, 110, 250); fill-opacity: 1;\"/></g><g class=\"point\"><path d=\"M294.55,320V48.13H296.18V320Z\" style=\"vector-effect: non-scaling-stroke; opacity: 1; stroke-width: 0px; fill: rgb(99, 110, 250); fill-opacity: 1;\"/></g><g class=\"point\"><path d=\"M296.18,320V69.2H297.82V320Z\" style=\"vector-effect: non-scaling-stroke; opacity: 1; stroke-width: 0px; fill: rgb(99, 110, 250); fill-opacity: 1;\"/></g><g class=\"point\"><path d=\"M297.82,320V103.08H299.45V320Z\" style=\"vector-effect: non-scaling-stroke; opacity: 1; stroke-width: 0px; fill: rgb(99, 110, 250); fill-opacity: 1;\"/></g><g class=\"point\"><path d=\"M299.45,320V132.72H301.09V320Z\" style=\"vector-effect: non-scaling-stroke; opacity: 1; stroke-width: 0px; fill: rgb(99, 110, 250); fill-opacity: 1;\"/></g><g class=\"point\"><path d=\"M301.09,320V215.77H302.73V320Z\" style=\"vector-effect: non-scaling-stroke; opacity: 1; stroke-width: 0px; fill: rgb(99, 110, 250); fill-opacity: 1;\"/></g><g class=\"point\"><path d=\"M302.73,320V250.48H304.36V320Z\" style=\"vector-effect: non-scaling-stroke; opacity: 1; stroke-width: 0px; fill: rgb(99, 110, 250); fill-opacity: 1;\"/></g><g class=\"point\"><path d=\"M304.36,320V289.73H306V320Z\" style=\"vector-effect: non-scaling-stroke; opacity: 1; stroke-width: 0px; fill: rgb(99, 110, 250); fill-opacity: 1;\"/></g><g class=\"point\"><path d=\"M306,320V294.69H307.64V320Z\" style=\"vector-effect: non-scaling-stroke; opacity: 1; stroke-width: 0px; fill: rgb(99, 110, 250); fill-opacity: 1;\"/></g><g class=\"point\"><path d=\"M307.64,320V253.17H309.27V320Z\" style=\"vector-effect: non-scaling-stroke; opacity: 1; stroke-width: 0px; fill: rgb(99, 110, 250); fill-opacity: 1;\"/></g><g class=\"point\"><path d=\"M309.27,320V237.26H310.91V320Z\" style=\"vector-effect: non-scaling-stroke; opacity: 1; stroke-width: 0px; fill: rgb(99, 110, 250); fill-opacity: 1;\"/></g><g class=\"point\"><path d=\"M310.91,320V246.97H312.55V320Z\" style=\"vector-effect: non-scaling-stroke; opacity: 1; stroke-width: 0px; fill: rgb(99, 110, 250); fill-opacity: 1;\"/></g><g class=\"point\"><path d=\"M312.55,320V232.2H314.18V320Z\" style=\"vector-effect: non-scaling-stroke; opacity: 1; stroke-width: 0px; fill: rgb(99, 110, 250); fill-opacity: 1;\"/></g><g class=\"point\"><path d=\"M314.18,320V239.64H315.82V320Z\" style=\"vector-effect: non-scaling-stroke; opacity: 1; stroke-width: 0px; fill: rgb(99, 110, 250); fill-opacity: 1;\"/></g><g class=\"point\"><path d=\"M315.82,320V213.61H317.45V320Z\" style=\"vector-effect: non-scaling-stroke; opacity: 1; stroke-width: 0px; fill: rgb(99, 110, 250); fill-opacity: 1;\"/></g><g class=\"point\"><path d=\"M317.45,320V182.82H319.09V320Z\" style=\"vector-effect: non-scaling-stroke; opacity: 1; stroke-width: 0px; fill: rgb(99, 110, 250); fill-opacity: 1;\"/></g><g class=\"point\"><path d=\"M319.09,320V145.02H320.73V320Z\" style=\"vector-effect: non-scaling-stroke; opacity: 1; stroke-width: 0px; fill: rgb(99, 110, 250); fill-opacity: 1;\"/></g><g class=\"point\"><path d=\"M320.73,320V116.92H322.36V320Z\" style=\"vector-effect: non-scaling-stroke; opacity: 1; stroke-width: 0px; fill: rgb(99, 110, 250); fill-opacity: 1;\"/></g><g class=\"point\"><path d=\"M322.36,320V93.99H324V320Z\" style=\"vector-effect: non-scaling-stroke; opacity: 1; stroke-width: 0px; fill: rgb(99, 110, 250); fill-opacity: 1;\"/></g><g class=\"point\"><path d=\"M324,320V108.66H325.64V320Z\" style=\"vector-effect: non-scaling-stroke; opacity: 1; stroke-width: 0px; fill: rgb(99, 110, 250); fill-opacity: 1;\"/></g><g class=\"point\"><path d=\"M325.64,320V83.14H327.27V320Z\" style=\"vector-effect: non-scaling-stroke; opacity: 1; stroke-width: 0px; fill: rgb(99, 110, 250); fill-opacity: 1;\"/></g><g class=\"point\"><path d=\"M327.27,320V126.53H328.91V320Z\" style=\"vector-effect: non-scaling-stroke; opacity: 1; stroke-width: 0px; fill: rgb(99, 110, 250); fill-opacity: 1;\"/></g><g class=\"point\"><path d=\"M328.91,320V76.74H330.55V320Z\" style=\"vector-effect: non-scaling-stroke; opacity: 1; stroke-width: 0px; fill: rgb(99, 110, 250); fill-opacity: 1;\"/></g><g class=\"point\"><path d=\"M330.55,320V75.09H332.18V320Z\" style=\"vector-effect: non-scaling-stroke; opacity: 1; stroke-width: 0px; fill: rgb(99, 110, 250); fill-opacity: 1;\"/></g><g class=\"point\"><path d=\"M332.18,320V58.35H333.82V320Z\" style=\"vector-effect: non-scaling-stroke; opacity: 1; stroke-width: 0px; fill: rgb(99, 110, 250); fill-opacity: 1;\"/></g><g class=\"point\"><path d=\"M333.82,320V84.07H335.45V320Z\" style=\"vector-effect: non-scaling-stroke; opacity: 1; stroke-width: 0px; fill: rgb(99, 110, 250); fill-opacity: 1;\"/></g><g class=\"point\"><path d=\"M335.45,320V126.73H337.09V320Z\" style=\"vector-effect: non-scaling-stroke; opacity: 1; stroke-width: 0px; fill: rgb(99, 110, 250); fill-opacity: 1;\"/></g><g class=\"point\"><path d=\"M337.09,320V143.05H338.73V320Z\" style=\"vector-effect: non-scaling-stroke; opacity: 1; stroke-width: 0px; fill: rgb(99, 110, 250); fill-opacity: 1;\"/></g><g class=\"point\"><path d=\"M338.73,320V140.68H340.36V320Z\" style=\"vector-effect: non-scaling-stroke; opacity: 1; stroke-width: 0px; fill: rgb(99, 110, 250); fill-opacity: 1;\"/></g><g class=\"point\"><path d=\"M340.36,320V186.13H342V320Z\" style=\"vector-effect: non-scaling-stroke; opacity: 1; stroke-width: 0px; fill: rgb(99, 110, 250); fill-opacity: 1;\"/></g><g class=\"point\"><path d=\"M342,320V244.8H343.64V320Z\" style=\"vector-effect: non-scaling-stroke; opacity: 1; stroke-width: 0px; fill: rgb(99, 110, 250); fill-opacity: 1;\"/></g><g class=\"point\"><path d=\"M343.64,320V291.8H345.27V320Z\" style=\"vector-effect: non-scaling-stroke; opacity: 1; stroke-width: 0px; fill: rgb(99, 110, 250); fill-opacity: 1;\"/></g><g class=\"point\"><path d=\"M345.27,320V300.06H346.91V320Z\" style=\"vector-effect: non-scaling-stroke; opacity: 1; stroke-width: 0px; fill: rgb(99, 110, 250); fill-opacity: 1;\"/></g><g class=\"point\"><path d=\"M346.91,320V311.63H348.55V320Z\" style=\"vector-effect: non-scaling-stroke; opacity: 1; stroke-width: 0px; fill: rgb(99, 110, 250); fill-opacity: 1;\"/></g><g class=\"point\"><path d=\"M348.55,320V302.23H350.18V320Z\" style=\"vector-effect: non-scaling-stroke; opacity: 1; stroke-width: 0px; fill: rgb(99, 110, 250); fill-opacity: 1;\"/></g><g class=\"point\"><path d=\"M350.18,320V272.28H351.82V320Z\" style=\"vector-effect: non-scaling-stroke; opacity: 1; stroke-width: 0px; fill: rgb(99, 110, 250); fill-opacity: 1;\"/></g><g class=\"point\"><path d=\"M351.82,320V276.41H353.45V320Z\" style=\"vector-effect: non-scaling-stroke; opacity: 1; stroke-width: 0px; fill: rgb(99, 110, 250); fill-opacity: 1;\"/></g><g class=\"point\"><path d=\"M353.45,320V255.65H355.09V320Z\" style=\"vector-effect: non-scaling-stroke; opacity: 1; stroke-width: 0px; fill: rgb(99, 110, 250); fill-opacity: 1;\"/></g><g class=\"point\"><path d=\"M355.09,320V213.61H356.73V320Z\" style=\"vector-effect: non-scaling-stroke; opacity: 1; stroke-width: 0px; fill: rgb(99, 110, 250); fill-opacity: 1;\"/></g><g class=\"point\"><path d=\"M356.73,320V179.1H358.36V320Z\" style=\"vector-effect: non-scaling-stroke; opacity: 1; stroke-width: 0px; fill: rgb(99, 110, 250); fill-opacity: 1;\"/></g><g class=\"point\"><path d=\"M358.36,320V149.77H360V320Z\" style=\"vector-effect: non-scaling-stroke; opacity: 1; stroke-width: 0px; fill: rgb(99, 110, 250); fill-opacity: 1;\"/></g><g class=\"point\"><path d=\"M360,320V114.34H361.64V320Z\" style=\"vector-effect: non-scaling-stroke; opacity: 1; stroke-width: 0px; fill: rgb(99, 110, 250); fill-opacity: 1;\"/></g><g class=\"point\"><path d=\"M361.64,320V68.99H363.27V320Z\" style=\"vector-effect: non-scaling-stroke; opacity: 1; stroke-width: 0px; fill: rgb(99, 110, 250); fill-opacity: 1;\"/></g><g class=\"point\"><path d=\"M363.27,320V112.99H364.91V320Z\" style=\"vector-effect: non-scaling-stroke; opacity: 1; stroke-width: 0px; fill: rgb(99, 110, 250); fill-opacity: 1;\"/></g><g class=\"point\"><path d=\"M364.91,320V19.93H366.55V320Z\" style=\"vector-effect: non-scaling-stroke; opacity: 1; stroke-width: 0px; fill: rgb(99, 110, 250); fill-opacity: 1;\"/></g><g class=\"point\"><path d=\"M366.55,320V90.06H368.18V320Z\" style=\"vector-effect: non-scaling-stroke; opacity: 1; stroke-width: 0px; fill: rgb(99, 110, 250); fill-opacity: 1;\"/></g><g class=\"point\"><path d=\"M368.18,320V109.48H369.82V320Z\" style=\"vector-effect: non-scaling-stroke; opacity: 1; stroke-width: 0px; fill: rgb(99, 110, 250); fill-opacity: 1;\"/></g><g class=\"point\"><path d=\"M369.82,320V43.89H371.45V320Z\" style=\"vector-effect: non-scaling-stroke; opacity: 1; stroke-width: 0px; fill: rgb(99, 110, 250); fill-opacity: 1;\"/></g><g class=\"point\"><path d=\"M371.45,320V90.48H373.09V320Z\" style=\"vector-effect: non-scaling-stroke; opacity: 1; stroke-width: 0px; fill: rgb(99, 110, 250); fill-opacity: 1;\"/></g><g class=\"point\"><path d=\"M373.09,320V93.58H374.73V320Z\" style=\"vector-effect: non-scaling-stroke; opacity: 1; stroke-width: 0px; fill: rgb(99, 110, 250); fill-opacity: 1;\"/></g><g class=\"point\"><path d=\"M374.73,320V112.58H376.36V320Z\" style=\"vector-effect: non-scaling-stroke; opacity: 1; stroke-width: 0px; fill: rgb(99, 110, 250); fill-opacity: 1;\"/></g><g class=\"point\"><path d=\"M376.36,320V147.81H378V320Z\" style=\"vector-effect: non-scaling-stroke; opacity: 1; stroke-width: 0px; fill: rgb(99, 110, 250); fill-opacity: 1;\"/></g><g class=\"point\"><path d=\"M378,320V166.19H379.64V320Z\" style=\"vector-effect: non-scaling-stroke; opacity: 1; stroke-width: 0px; fill: rgb(99, 110, 250); fill-opacity: 1;\"/></g><g class=\"point\"><path d=\"M379.64,320V241.39H381.27V320Z\" style=\"vector-effect: non-scaling-stroke; opacity: 1; stroke-width: 0px; fill: rgb(99, 110, 250); fill-opacity: 1;\"/></g><g class=\"point\"><path d=\"M381.27,320V267.22H382.91V320Z\" style=\"vector-effect: non-scaling-stroke; opacity: 1; stroke-width: 0px; fill: rgb(99, 110, 250); fill-opacity: 1;\"/></g><g class=\"point\"><path d=\"M382.91,320V293.56H384.55V320Z\" style=\"vector-effect: non-scaling-stroke; opacity: 1; stroke-width: 0px; fill: rgb(99, 110, 250); fill-opacity: 1;\"/></g><g class=\"point\"><path d=\"M384.55,320V308.95H386.18V320Z\" style=\"vector-effect: non-scaling-stroke; opacity: 1; stroke-width: 0px; fill: rgb(99, 110, 250); fill-opacity: 1;\"/></g><g class=\"point\"><path d=\"M386.18,320V307.71H387.82V320Z\" style=\"vector-effect: non-scaling-stroke; opacity: 1; stroke-width: 0px; fill: rgb(99, 110, 250); fill-opacity: 1;\"/></g><g class=\"point\"><path d=\"M387.82,320V298.72H389.45V320Z\" style=\"vector-effect: non-scaling-stroke; opacity: 1; stroke-width: 0px; fill: rgb(99, 110, 250); fill-opacity: 1;\"/></g><g class=\"point\"><path d=\"M389.45,320V295.83H391.09V320Z\" style=\"vector-effect: non-scaling-stroke; opacity: 1; stroke-width: 0px; fill: rgb(99, 110, 250); fill-opacity: 1;\"/></g><g class=\"point\"><path d=\"M391.09,320V271.04H392.73V320Z\" style=\"vector-effect: non-scaling-stroke; opacity: 1; stroke-width: 0px; fill: rgb(99, 110, 250); fill-opacity: 1;\"/></g><g class=\"point\"><path d=\"M392.73,320V249.55H394.36V320Z\" style=\"vector-effect: non-scaling-stroke; opacity: 1; stroke-width: 0px; fill: rgb(99, 110, 250); fill-opacity: 1;\"/></g><g class=\"point\"><path d=\"M394.36,320V211.23H396V320Z\" style=\"vector-effect: non-scaling-stroke; opacity: 1; stroke-width: 0px; fill: rgb(99, 110, 250); fill-opacity: 1;\"/></g><g class=\"point\"><path d=\"M396,320V179.83H397.64V320Z\" style=\"vector-effect: non-scaling-stroke; opacity: 1; stroke-width: 0px; fill: rgb(99, 110, 250); fill-opacity: 1;\"/></g><g class=\"point\"><path d=\"M397.64,320V158.86H399.27V320Z\" style=\"vector-effect: non-scaling-stroke; opacity: 1; stroke-width: 0px; fill: rgb(99, 110, 250); fill-opacity: 1;\"/></g><g class=\"point\"><path d=\"M399.27,320V129.94H400.91V320Z\" style=\"vector-effect: non-scaling-stroke; opacity: 1; stroke-width: 0px; fill: rgb(99, 110, 250); fill-opacity: 1;\"/></g><g class=\"point\"><path d=\"M400.91,320V114.34H402.55V320Z\" style=\"vector-effect: non-scaling-stroke; opacity: 1; stroke-width: 0px; fill: rgb(99, 110, 250); fill-opacity: 1;\"/></g><g class=\"point\"><path d=\"M402.55,320V62.79H404.18V320Z\" style=\"vector-effect: non-scaling-stroke; opacity: 1; stroke-width: 0px; fill: rgb(99, 110, 250); fill-opacity: 1;\"/></g><g class=\"point\"><path d=\"M404.18,320V63.41H405.82V320Z\" style=\"vector-effect: non-scaling-stroke; opacity: 1; stroke-width: 0px; fill: rgb(99, 110, 250); fill-opacity: 1;\"/></g><g class=\"point\"><path d=\"M405.82,320V75.71H407.45V320Z\" style=\"vector-effect: non-scaling-stroke; opacity: 1; stroke-width: 0px; fill: rgb(99, 110, 250); fill-opacity: 1;\"/></g><g class=\"point\"><path d=\"M407.45,320V101.32H409.09V320Z\" style=\"vector-effect: non-scaling-stroke; opacity: 1; stroke-width: 0px; fill: rgb(99, 110, 250); fill-opacity: 1;\"/></g><g class=\"point\"><path d=\"M409.09,320V112.89H410.73V320Z\" style=\"vector-effect: non-scaling-stroke; opacity: 1; stroke-width: 0px; fill: rgb(99, 110, 250); fill-opacity: 1;\"/></g><g class=\"point\"><path d=\"M410.73,320V65.17H412.36V320Z\" style=\"vector-effect: non-scaling-stroke; opacity: 1; stroke-width: 0px; fill: rgb(99, 110, 250); fill-opacity: 1;\"/></g><g class=\"point\"><path d=\"M412.36,320V95.74H414V320Z\" style=\"vector-effect: non-scaling-stroke; opacity: 1; stroke-width: 0px; fill: rgb(99, 110, 250); fill-opacity: 1;\"/></g><g class=\"point\"><path d=\"M414,320V96.78H415.64V320Z\" style=\"vector-effect: non-scaling-stroke; opacity: 1; stroke-width: 0px; fill: rgb(99, 110, 250); fill-opacity: 1;\"/></g><g class=\"point\"><path d=\"M415.64,320V143.57H417.27V320Z\" style=\"vector-effect: non-scaling-stroke; opacity: 1; stroke-width: 0px; fill: rgb(99, 110, 250); fill-opacity: 1;\"/></g><g class=\"point\"><path d=\"M417.27,320V183.96H418.91V320Z\" style=\"vector-effect: non-scaling-stroke; opacity: 1; stroke-width: 0px; fill: rgb(99, 110, 250); fill-opacity: 1;\"/></g><g class=\"point\"><path d=\"M418.91,320V226.21H420.55V320Z\" style=\"vector-effect: non-scaling-stroke; opacity: 1; stroke-width: 0px; fill: rgb(99, 110, 250); fill-opacity: 1;\"/></g><g class=\"point\"><path d=\"M420.55,320V253.58H422.18V320Z\" style=\"vector-effect: non-scaling-stroke; opacity: 1; stroke-width: 0px; fill: rgb(99, 110, 250); fill-opacity: 1;\"/></g><g class=\"point\"><path d=\"M422.18,320V274.76H423.82V320Z\" style=\"vector-effect: non-scaling-stroke; opacity: 1; stroke-width: 0px; fill: rgb(99, 110, 250); fill-opacity: 1;\"/></g><g class=\"point\"><path d=\"M423.82,320V301.61H425.45V320Z\" style=\"vector-effect: non-scaling-stroke; opacity: 1; stroke-width: 0px; fill: rgb(99, 110, 250); fill-opacity: 1;\"/></g><g class=\"point\"><path d=\"M425.45,320V302.03H427.09V320Z\" style=\"vector-effect: non-scaling-stroke; opacity: 1; stroke-width: 0px; fill: rgb(99, 110, 250); fill-opacity: 1;\"/></g><g class=\"point\"><path d=\"M427.09,320V303.58H428.73V320Z\" style=\"vector-effect: non-scaling-stroke; opacity: 1; stroke-width: 0px; fill: rgb(99, 110, 250); fill-opacity: 1;\"/></g><g class=\"point\"><path d=\"M428.73,320V286.02H430.36V320Z\" style=\"vector-effect: non-scaling-stroke; opacity: 1; stroke-width: 0px; fill: rgb(99, 110, 250); fill-opacity: 1;\"/></g><g class=\"point\"><path d=\"M430.36,320V264.63H432V320Z\" style=\"vector-effect: non-scaling-stroke; opacity: 1; stroke-width: 0px; fill: rgb(99, 110, 250); fill-opacity: 1;\"/></g><g class=\"point\"><path d=\"M432,320V229.1H433.64V320Z\" style=\"vector-effect: non-scaling-stroke; opacity: 1; stroke-width: 0px; fill: rgb(99, 110, 250); fill-opacity: 1;\"/></g><g class=\"point\"><path d=\"M433.64,320V183.13H435.27V320Z\" style=\"vector-effect: non-scaling-stroke; opacity: 1; stroke-width: 0px; fill: rgb(99, 110, 250); fill-opacity: 1;\"/></g><g class=\"point\"><path d=\"M435.27,320V164.64H436.91V320Z\" style=\"vector-effect: non-scaling-stroke; opacity: 1; stroke-width: 0px; fill: rgb(99, 110, 250); fill-opacity: 1;\"/></g><g class=\"point\"><path d=\"M436.91,320V167.12H438.55V320Z\" style=\"vector-effect: non-scaling-stroke; opacity: 1; stroke-width: 0px; fill: rgb(99, 110, 250); fill-opacity: 1;\"/></g><g class=\"point\"><path d=\"M438.55,320V119.3H440.18V320Z\" style=\"vector-effect: non-scaling-stroke; opacity: 1; stroke-width: 0px; fill: rgb(99, 110, 250); fill-opacity: 1;\"/></g><g class=\"point\"><path d=\"M440.18,320V114.13H441.82V320Z\" style=\"vector-effect: non-scaling-stroke; opacity: 1; stroke-width: 0px; fill: rgb(99, 110, 250); fill-opacity: 1;\"/></g><g class=\"point\"><path d=\"M441.82,320V73.74H443.45V320Z\" style=\"vector-effect: non-scaling-stroke; opacity: 1; stroke-width: 0px; fill: rgb(99, 110, 250); fill-opacity: 1;\"/></g><g class=\"point\"><path d=\"M443.45,320V101.32H445.09V320Z\" style=\"vector-effect: non-scaling-stroke; opacity: 1; stroke-width: 0px; fill: rgb(99, 110, 250); fill-opacity: 1;\"/></g><g class=\"point\"><path d=\"M445.09,320V99.15H446.73V320Z\" style=\"vector-effect: non-scaling-stroke; opacity: 1; stroke-width: 0px; fill: rgb(99, 110, 250); fill-opacity: 1;\"/></g><g class=\"point\"><path d=\"M446.73,320V60.31H448.36V320Z\" style=\"vector-effect: non-scaling-stroke; opacity: 1; stroke-width: 0px; fill: rgb(99, 110, 250); fill-opacity: 1;\"/></g><g class=\"point\"><path d=\"M448.36,320V16H450V320Z\" style=\"vector-effect: non-scaling-stroke; opacity: 1; stroke-width: 0px; fill: rgb(99, 110, 250); fill-opacity: 1;\"/></g><g class=\"point\"><path d=\"M450,320V29.53H451.64V320Z\" style=\"vector-effect: non-scaling-stroke; opacity: 1; stroke-width: 0px; fill: rgb(99, 110, 250); fill-opacity: 1;\"/></g><g class=\"point\"><path d=\"M451.64,320V44.2H453.27V320Z\" style=\"vector-effect: non-scaling-stroke; opacity: 1; stroke-width: 0px; fill: rgb(99, 110, 250); fill-opacity: 1;\"/></g><g class=\"point\"><path d=\"M453.27,320V51.33H454.91V320Z\" style=\"vector-effect: non-scaling-stroke; opacity: 1; stroke-width: 0px; fill: rgb(99, 110, 250); fill-opacity: 1;\"/></g><g class=\"point\"><path d=\"M454.91,320V143.57H456.55V320Z\" style=\"vector-effect: non-scaling-stroke; opacity: 1; stroke-width: 0px; fill: rgb(99, 110, 250); fill-opacity: 1;\"/></g><g class=\"point\"><path d=\"M456.55,320V153.59H458.18V320Z\" style=\"vector-effect: non-scaling-stroke; opacity: 1; stroke-width: 0px; fill: rgb(99, 110, 250); fill-opacity: 1;\"/></g><g class=\"point\"><path d=\"M458.18,320V217.22H459.82V320Z\" style=\"vector-effect: non-scaling-stroke; opacity: 1; stroke-width: 0px; fill: rgb(99, 110, 250); fill-opacity: 1;\"/></g><g class=\"point\"><path d=\"M459.82,320V242.42H461.45V320Z\" style=\"vector-effect: non-scaling-stroke; opacity: 1; stroke-width: 0px; fill: rgb(99, 110, 250); fill-opacity: 1;\"/></g><g class=\"point\"><path d=\"M461.45,320V293.35H463.09V320Z\" style=\"vector-effect: non-scaling-stroke; opacity: 1; stroke-width: 0px; fill: rgb(99, 110, 250); fill-opacity: 1;\"/></g><g class=\"point\"><path d=\"M463.09,320V295.93H464.73V320Z\" style=\"vector-effect: non-scaling-stroke; opacity: 1; stroke-width: 0px; fill: rgb(99, 110, 250); fill-opacity: 1;\"/></g><g class=\"point\"><path d=\"M464.73,320V303.58H466.36V320Z\" style=\"vector-effect: non-scaling-stroke; opacity: 1; stroke-width: 0px; fill: rgb(99, 110, 250); fill-opacity: 1;\"/></g><g class=\"point\"><path d=\"M466.36,320V301.51H468V320Z\" style=\"vector-effect: non-scaling-stroke; opacity: 1; stroke-width: 0px; fill: rgb(99, 110, 250); fill-opacity: 1;\"/></g><g class=\"point\"><path d=\"M468,320V277.34H469.64V320Z\" style=\"vector-effect: non-scaling-stroke; opacity: 1; stroke-width: 0px; fill: rgb(99, 110, 250); fill-opacity: 1;\"/></g><g class=\"point\"><path d=\"M469.64,320V248.21H471.27V320Z\" style=\"vector-effect: non-scaling-stroke; opacity: 1; stroke-width: 0px; fill: rgb(99, 110, 250); fill-opacity: 1;\"/></g><g class=\"point\"><path d=\"M471.27,320V201.73H472.91V320Z\" style=\"vector-effect: non-scaling-stroke; opacity: 1; stroke-width: 0px; fill: rgb(99, 110, 250); fill-opacity: 1;\"/></g><g class=\"point\"><path d=\"M472.91,320V129.63H474.55V320Z\" style=\"vector-effect: non-scaling-stroke; opacity: 1; stroke-width: 0px; fill: rgb(99, 110, 250); fill-opacity: 1;\"/></g><g class=\"point\"><path d=\"M474.55,320V150.18H476.18V320Z\" style=\"vector-effect: non-scaling-stroke; opacity: 1; stroke-width: 0px; fill: rgb(99, 110, 250); fill-opacity: 1;\"/></g><g class=\"point\"><path d=\"M476.18,320V146.77H477.82V320Z\" style=\"vector-effect: non-scaling-stroke; opacity: 1; stroke-width: 0px; fill: rgb(99, 110, 250); fill-opacity: 1;\"/></g><g class=\"point\"><path d=\"M477.82,320V128.39H479.45V320Z\" style=\"vector-effect: non-scaling-stroke; opacity: 1; stroke-width: 0px; fill: rgb(99, 110, 250); fill-opacity: 1;\"/></g><g class=\"point\"><path d=\"M479.45,320V109.07H481.09V320Z\" style=\"vector-effect: non-scaling-stroke; opacity: 1; stroke-width: 0px; fill: rgb(99, 110, 250); fill-opacity: 1;\"/></g><g class=\"point\"><path d=\"M481.09,320V131.69H482.73V320Z\" style=\"vector-effect: non-scaling-stroke; opacity: 1; stroke-width: 0px; fill: rgb(99, 110, 250); fill-opacity: 1;\"/></g><g class=\"point\"><path d=\"M482.73,320V106.07H484.36V320Z\" style=\"vector-effect: non-scaling-stroke; opacity: 1; stroke-width: 0px; fill: rgb(99, 110, 250); fill-opacity: 1;\"/></g><g class=\"point\"><path d=\"M484.36,320V132H486V320Z\" style=\"vector-effect: non-scaling-stroke; opacity: 1; stroke-width: 0px; fill: rgb(99, 110, 250); fill-opacity: 1;\"/></g><g class=\"point\"><path d=\"M486,320V84.38H487.64V320Z\" style=\"vector-effect: non-scaling-stroke; opacity: 1; stroke-width: 0px; fill: rgb(99, 110, 250); fill-opacity: 1;\"/></g><g class=\"point\"><path d=\"M487.64,320V37.59H489.27V320Z\" style=\"vector-effect: non-scaling-stroke; opacity: 1; stroke-width: 0px; fill: rgb(99, 110, 250); fill-opacity: 1;\"/></g><g class=\"point\"><path d=\"M489.27,320V37.49H490.91V320Z\" style=\"vector-effect: non-scaling-stroke; opacity: 1; stroke-width: 0px; fill: rgb(99, 110, 250); fill-opacity: 1;\"/></g><g class=\"point\"><path d=\"M490.91,320V65.48H492.55V320Z\" style=\"vector-effect: non-scaling-stroke; opacity: 1; stroke-width: 0px; fill: rgb(99, 110, 250); fill-opacity: 1;\"/></g><g class=\"point\"><path d=\"M492.55,320V70.13H494.18V320Z\" style=\"vector-effect: non-scaling-stroke; opacity: 1; stroke-width: 0px; fill: rgb(99, 110, 250); fill-opacity: 1;\"/></g><g class=\"point\"><path d=\"M494.18,320V86.45H495.82V320Z\" style=\"vector-effect: non-scaling-stroke; opacity: 1; stroke-width: 0px; fill: rgb(99, 110, 250); fill-opacity: 1;\"/></g><g class=\"point\"><path d=\"M495.82,320V147.19H497.45V320Z\" style=\"vector-effect: non-scaling-stroke; opacity: 1; stroke-width: 0px; fill: rgb(99, 110, 250); fill-opacity: 1;\"/></g><g class=\"point\"><path d=\"M497.45,320V206.89H499.09V320Z\" style=\"vector-effect: non-scaling-stroke; opacity: 1; stroke-width: 0px; fill: rgb(99, 110, 250); fill-opacity: 1;\"/></g><g class=\"point\"><path d=\"M499.09,320V275.69H500.73V320Z\" style=\"vector-effect: non-scaling-stroke; opacity: 1; stroke-width: 0px; fill: rgb(99, 110, 250); fill-opacity: 1;\"/></g><g class=\"point\"><path d=\"M500.73,320V298.93H502.36V320Z\" style=\"vector-effect: non-scaling-stroke; opacity: 1; stroke-width: 0px; fill: rgb(99, 110, 250); fill-opacity: 1;\"/></g><g class=\"point\"><path d=\"M502.36,320V306.88H504V320Z\" style=\"vector-effect: non-scaling-stroke; opacity: 1; stroke-width: 0px; fill: rgb(99, 110, 250); fill-opacity: 1;\"/></g><g class=\"point\"><path d=\"M504,320V308.12H505.64V320Z\" style=\"vector-effect: non-scaling-stroke; opacity: 1; stroke-width: 0px; fill: rgb(99, 110, 250); fill-opacity: 1;\"/></g><g class=\"point\"><path d=\"M505.64,320V295.62H507.27V320Z\" style=\"vector-effect: non-scaling-stroke; opacity: 1; stroke-width: 0px; fill: rgb(99, 110, 250); fill-opacity: 1;\"/></g><g class=\"point\"><path d=\"M507.27,320V288.49H508.91V320Z\" style=\"vector-effect: non-scaling-stroke; opacity: 1; stroke-width: 0px; fill: rgb(99, 110, 250); fill-opacity: 1;\"/></g><g class=\"point\"><path d=\"M508.91,320V248.11H510.55V320Z\" style=\"vector-effect: non-scaling-stroke; opacity: 1; stroke-width: 0px; fill: rgb(99, 110, 250); fill-opacity: 1;\"/></g><g class=\"point\"><path d=\"M510.55,320V199.04H512.18V320Z\" style=\"vector-effect: non-scaling-stroke; opacity: 1; stroke-width: 0px; fill: rgb(99, 110, 250); fill-opacity: 1;\"/></g><g class=\"point\"><path d=\"M512.18,320V206.37H513.82V320Z\" style=\"vector-effect: non-scaling-stroke; opacity: 1; stroke-width: 0px; fill: rgb(99, 110, 250); fill-opacity: 1;\"/></g><g class=\"point\"><path d=\"M513.82,320V174.97H515.45V320Z\" style=\"vector-effect: non-scaling-stroke; opacity: 1; stroke-width: 0px; fill: rgb(99, 110, 250); fill-opacity: 1;\"/></g><g class=\"point\"><path d=\"M515.45,320V174.15H517.09V320Z\" style=\"vector-effect: non-scaling-stroke; opacity: 1; stroke-width: 0px; fill: rgb(99, 110, 250); fill-opacity: 1;\"/></g><g class=\"point\"><path d=\"M517.09,320V157.72H518.73V320Z\" style=\"vector-effect: non-scaling-stroke; opacity: 1; stroke-width: 0px; fill: rgb(99, 110, 250); fill-opacity: 1;\"/></g><g class=\"point\"><path d=\"M518.73,320V111.96H520.36V320Z\" style=\"vector-effect: non-scaling-stroke; opacity: 1; stroke-width: 0px; fill: rgb(99, 110, 250); fill-opacity: 1;\"/></g><g class=\"point\"><path d=\"M520.36,320V148.43H522V320Z\" style=\"vector-effect: non-scaling-stroke; opacity: 1; stroke-width: 0px; fill: rgb(99, 110, 250); fill-opacity: 1;\"/></g><g class=\"point\"><path d=\"M522,320V129.11H523.64V320Z\" style=\"vector-effect: non-scaling-stroke; opacity: 1; stroke-width: 0px; fill: rgb(99, 110, 250); fill-opacity: 1;\"/></g><g class=\"point\"><path d=\"M523.64,320V123.94H525.27V320Z\" style=\"vector-effect: non-scaling-stroke; opacity: 1; stroke-width: 0px; fill: rgb(99, 110, 250); fill-opacity: 1;\"/></g><g class=\"point\"><path d=\"M525.27,320V116.3H526.91V320Z\" style=\"vector-effect: non-scaling-stroke; opacity: 1; stroke-width: 0px; fill: rgb(99, 110, 250); fill-opacity: 1;\"/></g><g class=\"point\"><path d=\"M526.91,320V70.85H528.55V320Z\" style=\"vector-effect: non-scaling-stroke; opacity: 1; stroke-width: 0px; fill: rgb(99, 110, 250); fill-opacity: 1;\"/></g><g class=\"point\"><path d=\"M528.55,320V33.25H530.18V320Z\" style=\"vector-effect: non-scaling-stroke; opacity: 1; stroke-width: 0px; fill: rgb(99, 110, 250); fill-opacity: 1;\"/></g><g class=\"point\"><path d=\"M530.18,320V72.5H531.82V320Z\" style=\"vector-effect: non-scaling-stroke; opacity: 1; stroke-width: 0px; fill: rgb(99, 110, 250); fill-opacity: 1;\"/></g><g class=\"point\"><path d=\"M531.82,320V123.12H533.45V320Z\" style=\"vector-effect: non-scaling-stroke; opacity: 1; stroke-width: 0px; fill: rgb(99, 110, 250); fill-opacity: 1;\"/></g><g class=\"point\"><path d=\"M533.45,320V146.57H535.09V320Z\" style=\"vector-effect: non-scaling-stroke; opacity: 1; stroke-width: 0px; fill: rgb(99, 110, 250); fill-opacity: 1;\"/></g><g class=\"point\"><path d=\"M535.09,320V164.33H536.73V320Z\" style=\"vector-effect: non-scaling-stroke; opacity: 1; stroke-width: 0px; fill: rgb(99, 110, 250); fill-opacity: 1;\"/></g><g class=\"point\"><path d=\"M536.73,320V221.97H538.36V320Z\" style=\"vector-effect: non-scaling-stroke; opacity: 1; stroke-width: 0px; fill: rgb(99, 110, 250); fill-opacity: 1;\"/></g><g class=\"point\"><path d=\"M538.36,320V312.98H540V320Z\" style=\"vector-effect: non-scaling-stroke; opacity: 1; stroke-width: 0px; fill: rgb(99, 110, 250); fill-opacity: 1;\"/></g></g></g></g></g><g class=\"overplot\"/><path class=\"xlines-above crisp\" d=\"M0,0\" style=\"fill: none;\"/><path class=\"ylines-above crisp\" d=\"M0,0\" style=\"fill: none;\"/><g class=\"overlines-above\"/><g class=\"xaxislayer-above\"><g class=\"xtick\"><text text-anchor=\"middle\" x=\"0\" y=\"433\" transform=\"translate(152,0)\" style=\"font-family: 'Open Sans', verdana, arial, sans-serif; font-size: 12px; fill: rgb(42, 63, 95); fill-opacity: 1; white-space: pre; opacity: 1;\"><tspan class=\"line\" dy=\"0em\" x=\"0\" y=\"433\">Jul 27</tspan><tspan class=\"line\" dy=\"1.3em\" x=\"0\" y=\"433\">2019</tspan></text></g><g class=\"xtick\"><text text-anchor=\"middle\" x=\"0\" y=\"433\" style=\"font-family: 'Open Sans', verdana, arial, sans-serif; font-size: 12px; fill: rgb(42, 63, 95); fill-opacity: 1; white-space: pre; opacity: 1;\" transform=\"translate(230.55,0)\">Jul 29</text></g><g class=\"xtick\"><text text-anchor=\"middle\" x=\"0\" y=\"433\" style=\"font-family: 'Open Sans', verdana, arial, sans-serif; font-size: 12px; fill: rgb(42, 63, 95); fill-opacity: 1; white-space: pre; opacity: 1;\" transform=\"translate(309.09000000000003,0)\">Jul 31</text></g><g class=\"xtick\"><text text-anchor=\"middle\" x=\"0\" y=\"433\" style=\"font-family: 'Open Sans', verdana, arial, sans-serif; font-size: 12px; fill: rgb(42, 63, 95); fill-opacity: 1; white-space: pre; opacity: 1;\" transform=\"translate(387.64,0)\">Aug 2</text></g><g class=\"xtick\"><text text-anchor=\"middle\" x=\"0\" y=\"433\" style=\"font-family: 'Open Sans', verdana, arial, sans-serif; font-size: 12px; fill: rgb(42, 63, 95); fill-opacity: 1; white-space: pre; opacity: 1;\" transform=\"translate(466.18,0)\">Aug 4</text></g><g class=\"xtick\"><text text-anchor=\"middle\" x=\"0\" y=\"433\" style=\"font-family: 'Open Sans', verdana, arial, sans-serif; font-size: 12px; fill: rgb(42, 63, 95); fill-opacity: 1; white-space: pre; opacity: 1;\" transform=\"translate(544.73,0)\">Aug 6</text></g></g><g class=\"yaxislayer-above\"><g class=\"ytick\"><text text-anchor=\"end\" x=\"79\" y=\"4.199999999999999\" transform=\"translate(0,420)\" style=\"font-family: 'Open Sans', verdana, arial, sans-serif; font-size: 12px; fill: rgb(42, 63, 95); fill-opacity: 1; white-space: pre; opacity: 1;\">0</text></g><g class=\"ytick\"><text text-anchor=\"end\" x=\"79\" y=\"4.199999999999999\" style=\"font-family: 'Open Sans', verdana, arial, sans-serif; font-size: 12px; fill: rgb(42, 63, 95); fill-opacity: 1; white-space: pre; opacity: 1;\" transform=\"translate(0,368.35)\">500</text></g><g class=\"ytick\"><text text-anchor=\"end\" x=\"79\" y=\"4.199999999999999\" style=\"font-family: 'Open Sans', verdana, arial, sans-serif; font-size: 12px; fill: rgb(42, 63, 95); fill-opacity: 1; white-space: pre; opacity: 1;\" transform=\"translate(0,316.7)\">1000</text></g><g class=\"ytick\"><text text-anchor=\"end\" x=\"79\" y=\"4.199999999999999\" style=\"font-family: 'Open Sans', verdana, arial, sans-serif; font-size: 12px; fill: rgb(42, 63, 95); fill-opacity: 1; white-space: pre; opacity: 1;\" transform=\"translate(0,265.06)\">1500</text></g><g class=\"ytick\"><text text-anchor=\"end\" x=\"79\" y=\"4.199999999999999\" style=\"font-family: 'Open Sans', verdana, arial, sans-serif; font-size: 12px; fill: rgb(42, 63, 95); fill-opacity: 1; white-space: pre; opacity: 1;\" transform=\"translate(0,213.41)\">2000</text></g><g class=\"ytick\"><text text-anchor=\"end\" x=\"79\" y=\"4.199999999999999\" style=\"font-family: 'Open Sans', verdana, arial, sans-serif; font-size: 12px; fill: rgb(42, 63, 95); fill-opacity: 1; white-space: pre; opacity: 1;\" transform=\"translate(0,161.76)\">2500</text></g><g class=\"ytick\"><text text-anchor=\"end\" x=\"79\" y=\"4.199999999999999\" style=\"font-family: 'Open Sans', verdana, arial, sans-serif; font-size: 12px; fill: rgb(42, 63, 95); fill-opacity: 1; white-space: pre; opacity: 1;\" transform=\"translate(0,110.11)\">3000</text></g></g><g class=\"overaxes-above\"/></g></g><g class=\"polarlayer\"/><g class=\"ternarylayer\"/><g class=\"geolayer\"/><g class=\"funnelarealayer\"/><g class=\"pielayer\"/><g class=\"iciclelayer\"/><g class=\"treemaplayer\"/><g class=\"sunburstlayer\"/><g class=\"glimages\"/><defs id=\"topdefs-587cbb\"><g class=\"clips\"/></defs><g class=\"layer-above\"><g class=\"imagelayer\"/><g class=\"shapelayer\"/></g><g class=\"infolayer\"><g class=\"g-gtitle\"><text class=\"gtitle\" x=\"35\" y=\"50\" text-anchor=\"start\" dy=\"0em\" style=\"font-family: 'Open Sans', verdana, arial, sans-serif; font-size: 17px; fill: rgb(42, 63, 95); opacity: 1; font-weight: normal; white-space: pre;\">Распределение событий в логе по дате и времени</text></g><g class=\"g-xtitle\"><text class=\"xtitle\" x=\"350\" y=\"476.409375\" text-anchor=\"middle\" style=\"font-family: 'Open Sans', verdana, arial, sans-serif; font-size: 14px; fill: rgb(42, 63, 95); opacity: 1; font-weight: normal; white-space: pre;\">event_datetime</text></g><g class=\"g-ytitle\"><text class=\"ytitle\" transform=\"rotate(-90,23.684375000000003,260)\" x=\"23.684375000000003\" y=\"260\" text-anchor=\"middle\" style=\"font-family: 'Open Sans', verdana, arial, sans-serif; font-size: 14px; fill: rgb(42, 63, 95); opacity: 1; font-weight: normal; white-space: pre;\">count</text></g></g></svg>"
      ]
     },
     "metadata": {},
     "output_type": "display_data"
    }
   ],
   "source": [
    "fig = px.histogram(df, x='event_datetime',\n",
    "                   title='Распределение событий в логе по дате и времени')\n",
    "fig.show()"
   ]
  },
  {
   "cell_type": "markdown",
   "metadata": {
    "id": "hbauM9fBAJfe"
   },
   "source": [
    "Отчетливо видно, что данные у нас неполные. Верным будет отбросить все данные до 1 августа. Выходит, на самом деле данные у нас не за 13 дней, а за 7"
   ]
  },
  {
   "cell_type": "code",
   "execution_count": 28,
   "metadata": {
    "executionInfo": {
     "elapsed": 17,
     "status": "ok",
     "timestamp": 1628873509078,
     "user": {
      "displayName": "Арсен",
      "photoUrl": "https://lh3.googleusercontent.com/a-/AOh14GjPCG8vWVVB43Ax1wpE_vEPLjGP-XH0UWc12vB7wg=s64",
      "userId": "17661651445996378067"
     },
     "user_tz": -180
    },
    "id": "l5M5T2VYAJfe"
   },
   "outputs": [],
   "source": [
    "df = df.query('event_date >= \"2019-08-01\"')"
   ]
  },
  {
   "cell_type": "markdown",
   "metadata": {
    "id": "JIOqka6kAJfe"
   },
   "source": [
    "Посмотрим еще раз на гистограмму"
   ]
  },
  {
   "cell_type": "code",
   "execution_count": 29,
   "metadata": {
    "colab": {
     "base_uri": "https://localhost:8080/",
     "height": 542,
     "output_embedded_package_id": "1yKxpk6wjNdSM7nHqE8ASz-rs_Jlb7Y8b"
    },
    "executionInfo": {
     "elapsed": 7703,
     "status": "ok",
     "timestamp": 1628873516766,
     "user": {
      "displayName": "Арсен",
      "photoUrl": "https://lh3.googleusercontent.com/a-/AOh14GjPCG8vWVVB43Ax1wpE_vEPLjGP-XH0UWc12vB7wg=s64",
      "userId": "17661651445996378067"
     },
     "user_tz": -180
    },
    "id": "Fnd5LKRhAJfe",
    "outputId": "615daa9f-9c57-4095-ce61-4b0981e14042"
   },
   "outputs": [
    {
     "data": {
      "image/svg+xml": [
       "<svg class=\"main-svg\" xmlns=\"http://www.w3.org/2000/svg\" xmlns:xlink=\"http://www.w3.org/1999/xlink\" width=\"700\" height=\"500\" style=\"\" viewBox=\"0 0 700 500\"><rect x=\"0\" y=\"0\" width=\"700\" height=\"500\" style=\"fill: rgb(255, 255, 255); fill-opacity: 1;\"/><defs id=\"defs-21308d\"><g class=\"clips\"><clipPath id=\"clip21308dxyplot\" class=\"plotclip\"><rect width=\"540\" height=\"320\"/></clipPath><clipPath class=\"axesclip\" id=\"clip21308dx\"><rect x=\"80\" y=\"0\" width=\"540\" height=\"500\"/></clipPath><clipPath class=\"axesclip\" id=\"clip21308dy\"><rect x=\"0\" y=\"100\" width=\"700\" height=\"320\"/></clipPath><clipPath class=\"axesclip\" id=\"clip21308dxy\"><rect x=\"80\" y=\"100\" width=\"540\" height=\"320\"/></clipPath></g><g class=\"gradients\"/><g class=\"patterns\"/></defs><g class=\"bglayer\"><rect class=\"bg\" x=\"80\" y=\"100\" width=\"540\" height=\"320\" style=\"fill: rgb(229, 236, 246); fill-opacity: 1; stroke-width: 0;\"/></g><g class=\"layer-below\"><g class=\"imagelayer\"/><g class=\"shapelayer\"/></g><g class=\"cartesianlayer\"><g class=\"subplot xy\"><g class=\"layer-subplot\"><g class=\"shapelayer\"/><g class=\"imagelayer\"/></g><g class=\"gridlayer\"><g class=\"x\"/><g class=\"y\"><path class=\"ygrid crisp\" transform=\"translate(0,368.35)\" d=\"M80,0h540\" style=\"stroke: rgb(255, 255, 255); stroke-opacity: 1; stroke-width: 1px;\"/><path class=\"ygrid crisp\" transform=\"translate(0,316.7)\" d=\"M80,0h540\" style=\"stroke: rgb(255, 255, 255); stroke-opacity: 1; stroke-width: 1px;\"/><path class=\"ygrid crisp\" transform=\"translate(0,265.06)\" d=\"M80,0h540\" style=\"stroke: rgb(255, 255, 255); stroke-opacity: 1; stroke-width: 1px;\"/><path class=\"ygrid crisp\" transform=\"translate(0,213.41)\" d=\"M80,0h540\" style=\"stroke: rgb(255, 255, 255); stroke-opacity: 1; stroke-width: 1px;\"/><path class=\"ygrid crisp\" transform=\"translate(0,161.76)\" d=\"M80,0h540\" style=\"stroke: rgb(255, 255, 255); stroke-opacity: 1; stroke-width: 1px;\"/><path class=\"ygrid crisp\" transform=\"translate(0,110.11)\" d=\"M80,0h540\" style=\"stroke: rgb(255, 255, 255); stroke-opacity: 1; stroke-width: 1px;\"/></g></g><g class=\"zerolinelayer\"><path class=\"yzl zl crisp\" transform=\"translate(0,420)\" d=\"M80,0h540\" style=\"stroke: rgb(255, 255, 255); stroke-opacity: 1; stroke-width: 2px;\"/></g><path class=\"xlines-below\"/><path class=\"ylines-below\"/><g class=\"overlines-below\"/><g class=\"xaxislayer-below\"/><g class=\"yaxislayer-below\"/><g class=\"overaxes-below\"/><g class=\"plot\" transform=\"translate(80,100)\" clip-path=\"url(#clip21308dxyplot)\"><g class=\"barlayer mlayer\"><g class=\"trace bars\" shape-rendering=\"crispEdges\" style=\"opacity: 1;\"><g class=\"points\"><g class=\"point\"><path d=\"M0,320V300.17H3.25V320Z\" style=\"vector-effect: non-scaling-stroke; opacity: 1; stroke-width: 0px; fill: rgb(99, 110, 250); fill-opacity: 1;\"/></g><g class=\"point\"><path d=\"M3.25,320V296.45H6.51V320Z\" style=\"vector-effect: non-scaling-stroke; opacity: 1; stroke-width: 0px; fill: rgb(99, 110, 250); fill-opacity: 1;\"/></g><g class=\"point\"><path d=\"M6.51,320V286.12H9.76V320Z\" style=\"vector-effect: non-scaling-stroke; opacity: 1; stroke-width: 0px; fill: rgb(99, 110, 250); fill-opacity: 1;\"/></g><g class=\"point\"><path d=\"M9.76,320V252.13H13.01V320Z\" style=\"vector-effect: non-scaling-stroke; opacity: 1; stroke-width: 0px; fill: rgb(99, 110, 250); fill-opacity: 1;\"/></g><g class=\"point\"><path d=\"M13.01,320V233.54H16.27V320Z\" style=\"vector-effect: non-scaling-stroke; opacity: 1; stroke-width: 0px; fill: rgb(99, 110, 250); fill-opacity: 1;\"/></g><g class=\"point\"><path d=\"M16.27,320V204.93H19.52V320Z\" style=\"vector-effect: non-scaling-stroke; opacity: 1; stroke-width: 0px; fill: rgb(99, 110, 250); fill-opacity: 1;\"/></g><g class=\"point\"><path d=\"M19.52,320V172.08H22.77V320Z\" style=\"vector-effect: non-scaling-stroke; opacity: 1; stroke-width: 0px; fill: rgb(99, 110, 250); fill-opacity: 1;\"/></g><g class=\"point\"><path d=\"M22.77,320V138.61H26.02V320Z\" style=\"vector-effect: non-scaling-stroke; opacity: 1; stroke-width: 0px; fill: rgb(99, 110, 250); fill-opacity: 1;\"/></g><g class=\"point\"><path d=\"M26.02,320V123.63H29.28V320Z\" style=\"vector-effect: non-scaling-stroke; opacity: 1; stroke-width: 0px; fill: rgb(99, 110, 250); fill-opacity: 1;\"/></g><g class=\"point\"><path d=\"M29.28,320V112.99H32.53V320Z\" style=\"vector-effect: non-scaling-stroke; opacity: 1; stroke-width: 0px; fill: rgb(99, 110, 250); fill-opacity: 1;\"/></g><g class=\"point\"><path d=\"M32.53,320V117.33H35.78V320Z\" style=\"vector-effect: non-scaling-stroke; opacity: 1; stroke-width: 0px; fill: rgb(99, 110, 250); fill-opacity: 1;\"/></g><g class=\"point\"><path d=\"M35.78,320V57.73H39.04V320Z\" style=\"vector-effect: non-scaling-stroke; opacity: 1; stroke-width: 0px; fill: rgb(99, 110, 250); fill-opacity: 1;\"/></g><g class=\"point\"><path d=\"M39.04,320V55.98H42.29V320Z\" style=\"vector-effect: non-scaling-stroke; opacity: 1; stroke-width: 0px; fill: rgb(99, 110, 250); fill-opacity: 1;\"/></g><g class=\"point\"><path d=\"M42.29,320V83.56H45.54V320Z\" style=\"vector-effect: non-scaling-stroke; opacity: 1; stroke-width: 0px; fill: rgb(99, 110, 250); fill-opacity: 1;\"/></g><g class=\"point\"><path d=\"M45.54,320V30.15H48.8V320Z\" style=\"vector-effect: non-scaling-stroke; opacity: 1; stroke-width: 0px; fill: rgb(99, 110, 250); fill-opacity: 1;\"/></g><g class=\"point\"><path d=\"M48.8,320V77.56H52.05V320Z\" style=\"vector-effect: non-scaling-stroke; opacity: 1; stroke-width: 0px; fill: rgb(99, 110, 250); fill-opacity: 1;\"/></g><g class=\"point\"><path d=\"M52.05,320V48.13H55.3V320Z\" style=\"vector-effect: non-scaling-stroke; opacity: 1; stroke-width: 0px; fill: rgb(99, 110, 250); fill-opacity: 1;\"/></g><g class=\"point\"><path d=\"M55.3,320V69.2H58.55V320Z\" style=\"vector-effect: non-scaling-stroke; opacity: 1; stroke-width: 0px; fill: rgb(99, 110, 250); fill-opacity: 1;\"/></g><g class=\"point\"><path d=\"M58.55,320V103.08H61.81V320Z\" style=\"vector-effect: non-scaling-stroke; opacity: 1; stroke-width: 0px; fill: rgb(99, 110, 250); fill-opacity: 1;\"/></g><g class=\"point\"><path d=\"M61.81,320V132.72H65.06V320Z\" style=\"vector-effect: non-scaling-stroke; opacity: 1; stroke-width: 0px; fill: rgb(99, 110, 250); fill-opacity: 1;\"/></g><g class=\"point\"><path d=\"M65.06,320V215.77H68.31V320Z\" style=\"vector-effect: non-scaling-stroke; opacity: 1; stroke-width: 0px; fill: rgb(99, 110, 250); fill-opacity: 1;\"/></g><g class=\"point\"><path d=\"M68.31,320V250.48H71.57V320Z\" style=\"vector-effect: non-scaling-stroke; opacity: 1; stroke-width: 0px; fill: rgb(99, 110, 250); fill-opacity: 1;\"/></g><g class=\"point\"><path d=\"M71.57,320V289.73H74.82V320Z\" style=\"vector-effect: non-scaling-stroke; opacity: 1; stroke-width: 0px; fill: rgb(99, 110, 250); fill-opacity: 1;\"/></g><g class=\"point\"><path d=\"M74.82,320V294.69H78.07V320Z\" style=\"vector-effect: non-scaling-stroke; opacity: 1; stroke-width: 0px; fill: rgb(99, 110, 250); fill-opacity: 1;\"/></g><g class=\"point\"><path d=\"M78.07,320V253.17H81.33V320Z\" style=\"vector-effect: non-scaling-stroke; opacity: 1; stroke-width: 0px; fill: rgb(99, 110, 250); fill-opacity: 1;\"/></g><g class=\"point\"><path d=\"M81.33,320V237.26H84.58V320Z\" style=\"vector-effect: non-scaling-stroke; opacity: 1; stroke-width: 0px; fill: rgb(99, 110, 250); fill-opacity: 1;\"/></g><g class=\"point\"><path d=\"M84.58,320V246.97H87.83V320Z\" style=\"vector-effect: non-scaling-stroke; opacity: 1; stroke-width: 0px; fill: rgb(99, 110, 250); fill-opacity: 1;\"/></g><g class=\"point\"><path d=\"M87.83,320V232.2H91.08V320Z\" style=\"vector-effect: non-scaling-stroke; opacity: 1; stroke-width: 0px; fill: rgb(99, 110, 250); fill-opacity: 1;\"/></g><g class=\"point\"><path d=\"M91.08,320V239.64H94.34V320Z\" style=\"vector-effect: non-scaling-stroke; opacity: 1; stroke-width: 0px; fill: rgb(99, 110, 250); fill-opacity: 1;\"/></g><g class=\"point\"><path d=\"M94.34,320V213.61H97.59V320Z\" style=\"vector-effect: non-scaling-stroke; opacity: 1; stroke-width: 0px; fill: rgb(99, 110, 250); fill-opacity: 1;\"/></g><g class=\"point\"><path d=\"M97.59,320V182.82H100.84V320Z\" style=\"vector-effect: non-scaling-stroke; opacity: 1; stroke-width: 0px; fill: rgb(99, 110, 250); fill-opacity: 1;\"/></g><g class=\"point\"><path d=\"M100.84,320V145.02H104.1V320Z\" style=\"vector-effect: non-scaling-stroke; opacity: 1; stroke-width: 0px; fill: rgb(99, 110, 250); fill-opacity: 1;\"/></g><g class=\"point\"><path d=\"M104.1,320V116.92H107.35V320Z\" style=\"vector-effect: non-scaling-stroke; opacity: 1; stroke-width: 0px; fill: rgb(99, 110, 250); fill-opacity: 1;\"/></g><g class=\"point\"><path d=\"M107.35,320V93.99H110.6V320Z\" style=\"vector-effect: non-scaling-stroke; opacity: 1; stroke-width: 0px; fill: rgb(99, 110, 250); fill-opacity: 1;\"/></g><g class=\"point\"><path d=\"M110.6,320V108.66H113.86V320Z\" style=\"vector-effect: non-scaling-stroke; opacity: 1; stroke-width: 0px; fill: rgb(99, 110, 250); fill-opacity: 1;\"/></g><g class=\"point\"><path d=\"M113.86,320V83.14H117.11V320Z\" style=\"vector-effect: non-scaling-stroke; opacity: 1; stroke-width: 0px; fill: rgb(99, 110, 250); fill-opacity: 1;\"/></g><g class=\"point\"><path d=\"M117.11,320V126.53H120.36V320Z\" style=\"vector-effect: non-scaling-stroke; opacity: 1; stroke-width: 0px; fill: rgb(99, 110, 250); fill-opacity: 1;\"/></g><g class=\"point\"><path d=\"M120.36,320V76.74H123.61V320Z\" style=\"vector-effect: non-scaling-stroke; opacity: 1; stroke-width: 0px; fill: rgb(99, 110, 250); fill-opacity: 1;\"/></g><g class=\"point\"><path d=\"M123.61,320V75.09H126.87V320Z\" style=\"vector-effect: non-scaling-stroke; opacity: 1; stroke-width: 0px; fill: rgb(99, 110, 250); fill-opacity: 1;\"/></g><g class=\"point\"><path d=\"M126.87,320V58.35H130.12V320Z\" style=\"vector-effect: non-scaling-stroke; opacity: 1; stroke-width: 0px; fill: rgb(99, 110, 250); fill-opacity: 1;\"/></g><g class=\"point\"><path d=\"M130.12,320V84.07H133.37V320Z\" style=\"vector-effect: non-scaling-stroke; opacity: 1; stroke-width: 0px; fill: rgb(99, 110, 250); fill-opacity: 1;\"/></g><g class=\"point\"><path d=\"M133.37,320V126.73H136.63V320Z\" style=\"vector-effect: non-scaling-stroke; opacity: 1; stroke-width: 0px; fill: rgb(99, 110, 250); fill-opacity: 1;\"/></g><g class=\"point\"><path d=\"M136.63,320V143.05H139.88V320Z\" style=\"vector-effect: non-scaling-stroke; opacity: 1; stroke-width: 0px; fill: rgb(99, 110, 250); fill-opacity: 1;\"/></g><g class=\"point\"><path d=\"M139.88,320V140.68H143.13V320Z\" style=\"vector-effect: non-scaling-stroke; opacity: 1; stroke-width: 0px; fill: rgb(99, 110, 250); fill-opacity: 1;\"/></g><g class=\"point\"><path d=\"M143.13,320V186.13H146.39V320Z\" style=\"vector-effect: non-scaling-stroke; opacity: 1; stroke-width: 0px; fill: rgb(99, 110, 250); fill-opacity: 1;\"/></g><g class=\"point\"><path d=\"M146.39,320V244.8H149.64V320Z\" style=\"vector-effect: non-scaling-stroke; opacity: 1; stroke-width: 0px; fill: rgb(99, 110, 250); fill-opacity: 1;\"/></g><g class=\"point\"><path d=\"M149.64,320V291.8H152.89V320Z\" style=\"vector-effect: non-scaling-stroke; opacity: 1; stroke-width: 0px; fill: rgb(99, 110, 250); fill-opacity: 1;\"/></g><g class=\"point\"><path d=\"M152.89,320V300.06H156.14V320Z\" style=\"vector-effect: non-scaling-stroke; opacity: 1; stroke-width: 0px; fill: rgb(99, 110, 250); fill-opacity: 1;\"/></g><g class=\"point\"><path d=\"M156.14,320V311.63H159.4V320Z\" style=\"vector-effect: non-scaling-stroke; opacity: 1; stroke-width: 0px; fill: rgb(99, 110, 250); fill-opacity: 1;\"/></g><g class=\"point\"><path d=\"M159.4,320V302.23H162.65V320Z\" style=\"vector-effect: non-scaling-stroke; opacity: 1; stroke-width: 0px; fill: rgb(99, 110, 250); fill-opacity: 1;\"/></g><g class=\"point\"><path d=\"M162.65,320V272.28H165.9V320Z\" style=\"vector-effect: non-scaling-stroke; opacity: 1; stroke-width: 0px; fill: rgb(99, 110, 250); fill-opacity: 1;\"/></g><g class=\"point\"><path d=\"M165.9,320V276.41H169.16V320Z\" style=\"vector-effect: non-scaling-stroke; opacity: 1; stroke-width: 0px; fill: rgb(99, 110, 250); fill-opacity: 1;\"/></g><g class=\"point\"><path d=\"M169.16,320V255.65H172.41V320Z\" style=\"vector-effect: non-scaling-stroke; opacity: 1; stroke-width: 0px; fill: rgb(99, 110, 250); fill-opacity: 1;\"/></g><g class=\"point\"><path d=\"M172.41,320V213.61H175.66V320Z\" style=\"vector-effect: non-scaling-stroke; opacity: 1; stroke-width: 0px; fill: rgb(99, 110, 250); fill-opacity: 1;\"/></g><g class=\"point\"><path d=\"M175.66,320V179.1H178.92V320Z\" style=\"vector-effect: non-scaling-stroke; opacity: 1; stroke-width: 0px; fill: rgb(99, 110, 250); fill-opacity: 1;\"/></g><g class=\"point\"><path d=\"M178.92,320V149.77H182.17V320Z\" style=\"vector-effect: non-scaling-stroke; opacity: 1; stroke-width: 0px; fill: rgb(99, 110, 250); fill-opacity: 1;\"/></g><g class=\"point\"><path d=\"M182.17,320V114.34H185.42V320Z\" style=\"vector-effect: non-scaling-stroke; opacity: 1; stroke-width: 0px; fill: rgb(99, 110, 250); fill-opacity: 1;\"/></g><g class=\"point\"><path d=\"M185.42,320V68.99H188.67V320Z\" style=\"vector-effect: non-scaling-stroke; opacity: 1; stroke-width: 0px; fill: rgb(99, 110, 250); fill-opacity: 1;\"/></g><g class=\"point\"><path d=\"M188.67,320V112.99H191.93V320Z\" style=\"vector-effect: non-scaling-stroke; opacity: 1; stroke-width: 0px; fill: rgb(99, 110, 250); fill-opacity: 1;\"/></g><g class=\"point\"><path d=\"M191.93,320V19.93H195.18V320Z\" style=\"vector-effect: non-scaling-stroke; opacity: 1; stroke-width: 0px; fill: rgb(99, 110, 250); fill-opacity: 1;\"/></g><g class=\"point\"><path d=\"M195.18,320V90.06H198.43V320Z\" style=\"vector-effect: non-scaling-stroke; opacity: 1; stroke-width: 0px; fill: rgb(99, 110, 250); fill-opacity: 1;\"/></g><g class=\"point\"><path d=\"M198.43,320V109.48H201.69V320Z\" style=\"vector-effect: non-scaling-stroke; opacity: 1; stroke-width: 0px; fill: rgb(99, 110, 250); fill-opacity: 1;\"/></g><g class=\"point\"><path d=\"M201.69,320V43.89H204.94V320Z\" style=\"vector-effect: non-scaling-stroke; opacity: 1; stroke-width: 0px; fill: rgb(99, 110, 250); fill-opacity: 1;\"/></g><g class=\"point\"><path d=\"M204.94,320V90.48H208.19V320Z\" style=\"vector-effect: non-scaling-stroke; opacity: 1; stroke-width: 0px; fill: rgb(99, 110, 250); fill-opacity: 1;\"/></g><g class=\"point\"><path d=\"M208.19,320V93.58H211.45V320Z\" style=\"vector-effect: non-scaling-stroke; opacity: 1; stroke-width: 0px; fill: rgb(99, 110, 250); fill-opacity: 1;\"/></g><g class=\"point\"><path d=\"M211.45,320V112.58H214.7V320Z\" style=\"vector-effect: non-scaling-stroke; opacity: 1; stroke-width: 0px; fill: rgb(99, 110, 250); fill-opacity: 1;\"/></g><g class=\"point\"><path d=\"M214.7,320V147.81H217.95V320Z\" style=\"vector-effect: non-scaling-stroke; opacity: 1; stroke-width: 0px; fill: rgb(99, 110, 250); fill-opacity: 1;\"/></g><g class=\"point\"><path d=\"M217.95,320V166.19H221.2V320Z\" style=\"vector-effect: non-scaling-stroke; opacity: 1; stroke-width: 0px; fill: rgb(99, 110, 250); fill-opacity: 1;\"/></g><g class=\"point\"><path d=\"M221.2,320V241.39H224.46V320Z\" style=\"vector-effect: non-scaling-stroke; opacity: 1; stroke-width: 0px; fill: rgb(99, 110, 250); fill-opacity: 1;\"/></g><g class=\"point\"><path d=\"M224.46,320V267.22H227.71V320Z\" style=\"vector-effect: non-scaling-stroke; opacity: 1; stroke-width: 0px; fill: rgb(99, 110, 250); fill-opacity: 1;\"/></g><g class=\"point\"><path d=\"M227.71,320V293.56H230.96V320Z\" style=\"vector-effect: non-scaling-stroke; opacity: 1; stroke-width: 0px; fill: rgb(99, 110, 250); fill-opacity: 1;\"/></g><g class=\"point\"><path d=\"M230.96,320V308.95H234.22V320Z\" style=\"vector-effect: non-scaling-stroke; opacity: 1; stroke-width: 0px; fill: rgb(99, 110, 250); fill-opacity: 1;\"/></g><g class=\"point\"><path d=\"M234.22,320V307.71H237.47V320Z\" style=\"vector-effect: non-scaling-stroke; opacity: 1; stroke-width: 0px; fill: rgb(99, 110, 250); fill-opacity: 1;\"/></g><g class=\"point\"><path d=\"M237.47,320V298.72H240.72V320Z\" style=\"vector-effect: non-scaling-stroke; opacity: 1; stroke-width: 0px; fill: rgb(99, 110, 250); fill-opacity: 1;\"/></g><g class=\"point\"><path d=\"M240.72,320V295.83H243.98V320Z\" style=\"vector-effect: non-scaling-stroke; opacity: 1; stroke-width: 0px; fill: rgb(99, 110, 250); fill-opacity: 1;\"/></g><g class=\"point\"><path d=\"M243.98,320V271.04H247.23V320Z\" style=\"vector-effect: non-scaling-stroke; opacity: 1; stroke-width: 0px; fill: rgb(99, 110, 250); fill-opacity: 1;\"/></g><g class=\"point\"><path d=\"M247.23,320V249.55H250.48V320Z\" style=\"vector-effect: non-scaling-stroke; opacity: 1; stroke-width: 0px; fill: rgb(99, 110, 250); fill-opacity: 1;\"/></g><g class=\"point\"><path d=\"M250.48,320V211.23H253.73V320Z\" style=\"vector-effect: non-scaling-stroke; opacity: 1; stroke-width: 0px; fill: rgb(99, 110, 250); fill-opacity: 1;\"/></g><g class=\"point\"><path d=\"M253.73,320V179.83H256.99V320Z\" style=\"vector-effect: non-scaling-stroke; opacity: 1; stroke-width: 0px; fill: rgb(99, 110, 250); fill-opacity: 1;\"/></g><g class=\"point\"><path d=\"M256.99,320V158.86H260.24V320Z\" style=\"vector-effect: non-scaling-stroke; opacity: 1; stroke-width: 0px; fill: rgb(99, 110, 250); fill-opacity: 1;\"/></g><g class=\"point\"><path d=\"M260.24,320V129.94H263.49V320Z\" style=\"vector-effect: non-scaling-stroke; opacity: 1; stroke-width: 0px; fill: rgb(99, 110, 250); fill-opacity: 1;\"/></g><g class=\"point\"><path d=\"M263.49,320V114.34H266.75V320Z\" style=\"vector-effect: non-scaling-stroke; opacity: 1; stroke-width: 0px; fill: rgb(99, 110, 250); fill-opacity: 1;\"/></g><g class=\"point\"><path d=\"M266.75,320V62.79H270V320Z\" style=\"vector-effect: non-scaling-stroke; opacity: 1; stroke-width: 0px; fill: rgb(99, 110, 250); fill-opacity: 1;\"/></g><g class=\"point\"><path d=\"M270,320V63.41H273.25V320Z\" style=\"vector-effect: non-scaling-stroke; opacity: 1; stroke-width: 0px; fill: rgb(99, 110, 250); fill-opacity: 1;\"/></g><g class=\"point\"><path d=\"M273.25,320V75.71H276.51V320Z\" style=\"vector-effect: non-scaling-stroke; opacity: 1; stroke-width: 0px; fill: rgb(99, 110, 250); fill-opacity: 1;\"/></g><g class=\"point\"><path d=\"M276.51,320V101.32H279.76V320Z\" style=\"vector-effect: non-scaling-stroke; opacity: 1; stroke-width: 0px; fill: rgb(99, 110, 250); fill-opacity: 1;\"/></g><g class=\"point\"><path d=\"M279.76,320V112.89H283.01V320Z\" style=\"vector-effect: non-scaling-stroke; opacity: 1; stroke-width: 0px; fill: rgb(99, 110, 250); fill-opacity: 1;\"/></g><g class=\"point\"><path d=\"M283.01,320V65.17H286.27V320Z\" style=\"vector-effect: non-scaling-stroke; opacity: 1; stroke-width: 0px; fill: rgb(99, 110, 250); fill-opacity: 1;\"/></g><g class=\"point\"><path d=\"M286.27,320V95.74H289.52V320Z\" style=\"vector-effect: non-scaling-stroke; opacity: 1; stroke-width: 0px; fill: rgb(99, 110, 250); fill-opacity: 1;\"/></g><g class=\"point\"><path d=\"M289.52,320V96.78H292.77V320Z\" style=\"vector-effect: non-scaling-stroke; opacity: 1; stroke-width: 0px; fill: rgb(99, 110, 250); fill-opacity: 1;\"/></g><g class=\"point\"><path d=\"M292.77,320V143.57H296.02V320Z\" style=\"vector-effect: non-scaling-stroke; opacity: 1; stroke-width: 0px; fill: rgb(99, 110, 250); fill-opacity: 1;\"/></g><g class=\"point\"><path d=\"M296.02,320V183.96H299.28V320Z\" style=\"vector-effect: non-scaling-stroke; opacity: 1; stroke-width: 0px; fill: rgb(99, 110, 250); fill-opacity: 1;\"/></g><g class=\"point\"><path d=\"M299.28,320V226.21H302.53V320Z\" style=\"vector-effect: non-scaling-stroke; opacity: 1; stroke-width: 0px; fill: rgb(99, 110, 250); fill-opacity: 1;\"/></g><g class=\"point\"><path d=\"M302.53,320V253.58H305.78V320Z\" style=\"vector-effect: non-scaling-stroke; opacity: 1; stroke-width: 0px; fill: rgb(99, 110, 250); fill-opacity: 1;\"/></g><g class=\"point\"><path d=\"M305.78,320V274.76H309.04V320Z\" style=\"vector-effect: non-scaling-stroke; opacity: 1; stroke-width: 0px; fill: rgb(99, 110, 250); fill-opacity: 1;\"/></g><g class=\"point\"><path d=\"M309.04,320V301.61H312.29V320Z\" style=\"vector-effect: non-scaling-stroke; opacity: 1; stroke-width: 0px; fill: rgb(99, 110, 250); fill-opacity: 1;\"/></g><g class=\"point\"><path d=\"M312.29,320V302.03H315.54V320Z\" style=\"vector-effect: non-scaling-stroke; opacity: 1; stroke-width: 0px; fill: rgb(99, 110, 250); fill-opacity: 1;\"/></g><g class=\"point\"><path d=\"M315.54,320V303.58H318.8V320Z\" style=\"vector-effect: non-scaling-stroke; opacity: 1; stroke-width: 0px; fill: rgb(99, 110, 250); fill-opacity: 1;\"/></g><g class=\"point\"><path d=\"M318.8,320V286.02H322.05V320Z\" style=\"vector-effect: non-scaling-stroke; opacity: 1; stroke-width: 0px; fill: rgb(99, 110, 250); fill-opacity: 1;\"/></g><g class=\"point\"><path d=\"M322.05,320V264.63H325.3V320Z\" style=\"vector-effect: non-scaling-stroke; opacity: 1; stroke-width: 0px; fill: rgb(99, 110, 250); fill-opacity: 1;\"/></g><g class=\"point\"><path d=\"M325.3,320V229.1H328.55V320Z\" style=\"vector-effect: non-scaling-stroke; opacity: 1; stroke-width: 0px; fill: rgb(99, 110, 250); fill-opacity: 1;\"/></g><g class=\"point\"><path d=\"M328.55,320V183.13H331.81V320Z\" style=\"vector-effect: non-scaling-stroke; opacity: 1; stroke-width: 0px; fill: rgb(99, 110, 250); fill-opacity: 1;\"/></g><g class=\"point\"><path d=\"M331.81,320V164.64H335.06V320Z\" style=\"vector-effect: non-scaling-stroke; opacity: 1; stroke-width: 0px; fill: rgb(99, 110, 250); fill-opacity: 1;\"/></g><g class=\"point\"><path d=\"M335.06,320V167.12H338.31V320Z\" style=\"vector-effect: non-scaling-stroke; opacity: 1; stroke-width: 0px; fill: rgb(99, 110, 250); fill-opacity: 1;\"/></g><g class=\"point\"><path d=\"M338.31,320V119.3H341.57V320Z\" style=\"vector-effect: non-scaling-stroke; opacity: 1; stroke-width: 0px; fill: rgb(99, 110, 250); fill-opacity: 1;\"/></g><g class=\"point\"><path d=\"M341.57,320V114.13H344.82V320Z\" style=\"vector-effect: non-scaling-stroke; opacity: 1; stroke-width: 0px; fill: rgb(99, 110, 250); fill-opacity: 1;\"/></g><g class=\"point\"><path d=\"M344.82,320V73.74H348.07V320Z\" style=\"vector-effect: non-scaling-stroke; opacity: 1; stroke-width: 0px; fill: rgb(99, 110, 250); fill-opacity: 1;\"/></g><g class=\"point\"><path d=\"M348.07,320V101.32H351.33V320Z\" style=\"vector-effect: non-scaling-stroke; opacity: 1; stroke-width: 0px; fill: rgb(99, 110, 250); fill-opacity: 1;\"/></g><g class=\"point\"><path d=\"M351.33,320V99.15H354.58V320Z\" style=\"vector-effect: non-scaling-stroke; opacity: 1; stroke-width: 0px; fill: rgb(99, 110, 250); fill-opacity: 1;\"/></g><g class=\"point\"><path d=\"M354.58,320V60.31H357.83V320Z\" style=\"vector-effect: non-scaling-stroke; opacity: 1; stroke-width: 0px; fill: rgb(99, 110, 250); fill-opacity: 1;\"/></g><g class=\"point\"><path d=\"M357.83,320V16H361.08V320Z\" style=\"vector-effect: non-scaling-stroke; opacity: 1; stroke-width: 0px; fill: rgb(99, 110, 250); fill-opacity: 1;\"/></g><g class=\"point\"><path d=\"M361.08,320V29.53H364.34V320Z\" style=\"vector-effect: non-scaling-stroke; opacity: 1; stroke-width: 0px; fill: rgb(99, 110, 250); fill-opacity: 1;\"/></g><g class=\"point\"><path d=\"M364.34,320V44.2H367.59V320Z\" style=\"vector-effect: non-scaling-stroke; opacity: 1; stroke-width: 0px; fill: rgb(99, 110, 250); fill-opacity: 1;\"/></g><g class=\"point\"><path d=\"M367.59,320V51.33H370.84V320Z\" style=\"vector-effect: non-scaling-stroke; opacity: 1; stroke-width: 0px; fill: rgb(99, 110, 250); fill-opacity: 1;\"/></g><g class=\"point\"><path d=\"M370.84,320V143.57H374.1V320Z\" style=\"vector-effect: non-scaling-stroke; opacity: 1; stroke-width: 0px; fill: rgb(99, 110, 250); fill-opacity: 1;\"/></g><g class=\"point\"><path d=\"M374.1,320V153.59H377.35V320Z\" style=\"vector-effect: non-scaling-stroke; opacity: 1; stroke-width: 0px; fill: rgb(99, 110, 250); fill-opacity: 1;\"/></g><g class=\"point\"><path d=\"M377.35,320V217.22H380.6V320Z\" style=\"vector-effect: non-scaling-stroke; opacity: 1; stroke-width: 0px; fill: rgb(99, 110, 250); fill-opacity: 1;\"/></g><g class=\"point\"><path d=\"M380.6,320V242.42H383.86V320Z\" style=\"vector-effect: non-scaling-stroke; opacity: 1; stroke-width: 0px; fill: rgb(99, 110, 250); fill-opacity: 1;\"/></g><g class=\"point\"><path d=\"M383.86,320V293.35H387.11V320Z\" style=\"vector-effect: non-scaling-stroke; opacity: 1; stroke-width: 0px; fill: rgb(99, 110, 250); fill-opacity: 1;\"/></g><g class=\"point\"><path d=\"M387.11,320V295.93H390.36V320Z\" style=\"vector-effect: non-scaling-stroke; opacity: 1; stroke-width: 0px; fill: rgb(99, 110, 250); fill-opacity: 1;\"/></g><g class=\"point\"><path d=\"M390.36,320V303.58H393.61V320Z\" style=\"vector-effect: non-scaling-stroke; opacity: 1; stroke-width: 0px; fill: rgb(99, 110, 250); fill-opacity: 1;\"/></g><g class=\"point\"><path d=\"M393.61,320V301.51H396.87V320Z\" style=\"vector-effect: non-scaling-stroke; opacity: 1; stroke-width: 0px; fill: rgb(99, 110, 250); fill-opacity: 1;\"/></g><g class=\"point\"><path d=\"M396.87,320V277.34H400.12V320Z\" style=\"vector-effect: non-scaling-stroke; opacity: 1; stroke-width: 0px; fill: rgb(99, 110, 250); fill-opacity: 1;\"/></g><g class=\"point\"><path d=\"M400.12,320V248.21H403.37V320Z\" style=\"vector-effect: non-scaling-stroke; opacity: 1; stroke-width: 0px; fill: rgb(99, 110, 250); fill-opacity: 1;\"/></g><g class=\"point\"><path d=\"M403.37,320V201.73H406.63V320Z\" style=\"vector-effect: non-scaling-stroke; opacity: 1; stroke-width: 0px; fill: rgb(99, 110, 250); fill-opacity: 1;\"/></g><g class=\"point\"><path d=\"M406.63,320V129.63H409.88V320Z\" style=\"vector-effect: non-scaling-stroke; opacity: 1; stroke-width: 0px; fill: rgb(99, 110, 250); fill-opacity: 1;\"/></g><g class=\"point\"><path d=\"M409.88,320V150.18H413.13V320Z\" style=\"vector-effect: non-scaling-stroke; opacity: 1; stroke-width: 0px; fill: rgb(99, 110, 250); fill-opacity: 1;\"/></g><g class=\"point\"><path d=\"M413.13,320V146.77H416.39V320Z\" style=\"vector-effect: non-scaling-stroke; opacity: 1; stroke-width: 0px; fill: rgb(99, 110, 250); fill-opacity: 1;\"/></g><g class=\"point\"><path d=\"M416.39,320V128.39H419.64V320Z\" style=\"vector-effect: non-scaling-stroke; opacity: 1; stroke-width: 0px; fill: rgb(99, 110, 250); fill-opacity: 1;\"/></g><g class=\"point\"><path d=\"M419.64,320V109.07H422.89V320Z\" style=\"vector-effect: non-scaling-stroke; opacity: 1; stroke-width: 0px; fill: rgb(99, 110, 250); fill-opacity: 1;\"/></g><g class=\"point\"><path d=\"M422.89,320V131.69H426.14V320Z\" style=\"vector-effect: non-scaling-stroke; opacity: 1; stroke-width: 0px; fill: rgb(99, 110, 250); fill-opacity: 1;\"/></g><g class=\"point\"><path d=\"M426.14,320V106.07H429.4V320Z\" style=\"vector-effect: non-scaling-stroke; opacity: 1; stroke-width: 0px; fill: rgb(99, 110, 250); fill-opacity: 1;\"/></g><g class=\"point\"><path d=\"M429.4,320V132H432.65V320Z\" style=\"vector-effect: non-scaling-stroke; opacity: 1; stroke-width: 0px; fill: rgb(99, 110, 250); fill-opacity: 1;\"/></g><g class=\"point\"><path d=\"M432.65,320V84.38H435.9V320Z\" style=\"vector-effect: non-scaling-stroke; opacity: 1; stroke-width: 0px; fill: rgb(99, 110, 250); fill-opacity: 1;\"/></g><g class=\"point\"><path d=\"M435.9,320V37.59H439.16V320Z\" style=\"vector-effect: non-scaling-stroke; opacity: 1; stroke-width: 0px; fill: rgb(99, 110, 250); fill-opacity: 1;\"/></g><g class=\"point\"><path d=\"M439.16,320V37.49H442.41V320Z\" style=\"vector-effect: non-scaling-stroke; opacity: 1; stroke-width: 0px; fill: rgb(99, 110, 250); fill-opacity: 1;\"/></g><g class=\"point\"><path d=\"M442.41,320V65.48H445.66V320Z\" style=\"vector-effect: non-scaling-stroke; opacity: 1; stroke-width: 0px; fill: rgb(99, 110, 250); fill-opacity: 1;\"/></g><g class=\"point\"><path d=\"M445.66,320V70.13H448.92V320Z\" style=\"vector-effect: non-scaling-stroke; opacity: 1; stroke-width: 0px; fill: rgb(99, 110, 250); fill-opacity: 1;\"/></g><g class=\"point\"><path d=\"M448.92,320V86.45H452.17V320Z\" style=\"vector-effect: non-scaling-stroke; opacity: 1; stroke-width: 0px; fill: rgb(99, 110, 250); fill-opacity: 1;\"/></g><g class=\"point\"><path d=\"M452.17,320V147.19H455.42V320Z\" style=\"vector-effect: non-scaling-stroke; opacity: 1; stroke-width: 0px; fill: rgb(99, 110, 250); fill-opacity: 1;\"/></g><g class=\"point\"><path d=\"M455.42,320V206.89H458.67V320Z\" style=\"vector-effect: non-scaling-stroke; opacity: 1; stroke-width: 0px; fill: rgb(99, 110, 250); fill-opacity: 1;\"/></g><g class=\"point\"><path d=\"M458.67,320V275.69H461.93V320Z\" style=\"vector-effect: non-scaling-stroke; opacity: 1; stroke-width: 0px; fill: rgb(99, 110, 250); fill-opacity: 1;\"/></g><g class=\"point\"><path d=\"M461.93,320V298.93H465.18V320Z\" style=\"vector-effect: non-scaling-stroke; opacity: 1; stroke-width: 0px; fill: rgb(99, 110, 250); fill-opacity: 1;\"/></g><g class=\"point\"><path d=\"M465.18,320V306.88H468.43V320Z\" style=\"vector-effect: non-scaling-stroke; opacity: 1; stroke-width: 0px; fill: rgb(99, 110, 250); fill-opacity: 1;\"/></g><g class=\"point\"><path d=\"M468.43,320V308.12H471.69V320Z\" style=\"vector-effect: non-scaling-stroke; opacity: 1; stroke-width: 0px; fill: rgb(99, 110, 250); fill-opacity: 1;\"/></g><g class=\"point\"><path d=\"M471.69,320V295.62H474.94V320Z\" style=\"vector-effect: non-scaling-stroke; opacity: 1; stroke-width: 0px; fill: rgb(99, 110, 250); fill-opacity: 1;\"/></g><g class=\"point\"><path d=\"M474.94,320V288.49H478.19V320Z\" style=\"vector-effect: non-scaling-stroke; opacity: 1; stroke-width: 0px; fill: rgb(99, 110, 250); fill-opacity: 1;\"/></g><g class=\"point\"><path d=\"M478.19,320V248.11H481.45V320Z\" style=\"vector-effect: non-scaling-stroke; opacity: 1; stroke-width: 0px; fill: rgb(99, 110, 250); fill-opacity: 1;\"/></g><g class=\"point\"><path d=\"M481.45,320V199.04H484.7V320Z\" style=\"vector-effect: non-scaling-stroke; opacity: 1; stroke-width: 0px; fill: rgb(99, 110, 250); fill-opacity: 1;\"/></g><g class=\"point\"><path d=\"M484.7,320V206.37H487.95V320Z\" style=\"vector-effect: non-scaling-stroke; opacity: 1; stroke-width: 0px; fill: rgb(99, 110, 250); fill-opacity: 1;\"/></g><g class=\"point\"><path d=\"M487.95,320V174.97H491.2V320Z\" style=\"vector-effect: non-scaling-stroke; opacity: 1; stroke-width: 0px; fill: rgb(99, 110, 250); fill-opacity: 1;\"/></g><g class=\"point\"><path d=\"M491.2,320V174.15H494.46V320Z\" style=\"vector-effect: non-scaling-stroke; opacity: 1; stroke-width: 0px; fill: rgb(99, 110, 250); fill-opacity: 1;\"/></g><g class=\"point\"><path d=\"M494.46,320V157.72H497.71V320Z\" style=\"vector-effect: non-scaling-stroke; opacity: 1; stroke-width: 0px; fill: rgb(99, 110, 250); fill-opacity: 1;\"/></g><g class=\"point\"><path d=\"M497.71,320V111.96H500.96V320Z\" style=\"vector-effect: non-scaling-stroke; opacity: 1; stroke-width: 0px; fill: rgb(99, 110, 250); fill-opacity: 1;\"/></g><g class=\"point\"><path d=\"M500.96,320V148.43H504.22V320Z\" style=\"vector-effect: non-scaling-stroke; opacity: 1; stroke-width: 0px; fill: rgb(99, 110, 250); fill-opacity: 1;\"/></g><g class=\"point\"><path d=\"M504.22,320V129.11H507.47V320Z\" style=\"vector-effect: non-scaling-stroke; opacity: 1; stroke-width: 0px; fill: rgb(99, 110, 250); fill-opacity: 1;\"/></g><g class=\"point\"><path d=\"M507.47,320V123.94H510.72V320Z\" style=\"vector-effect: non-scaling-stroke; opacity: 1; stroke-width: 0px; fill: rgb(99, 110, 250); fill-opacity: 1;\"/></g><g class=\"point\"><path d=\"M510.72,320V116.3H513.98V320Z\" style=\"vector-effect: non-scaling-stroke; opacity: 1; stroke-width: 0px; fill: rgb(99, 110, 250); fill-opacity: 1;\"/></g><g class=\"point\"><path d=\"M513.98,320V70.85H517.23V320Z\" style=\"vector-effect: non-scaling-stroke; opacity: 1; stroke-width: 0px; fill: rgb(99, 110, 250); fill-opacity: 1;\"/></g><g class=\"point\"><path d=\"M517.23,320V33.25H520.48V320Z\" style=\"vector-effect: non-scaling-stroke; opacity: 1; stroke-width: 0px; fill: rgb(99, 110, 250); fill-opacity: 1;\"/></g><g class=\"point\"><path d=\"M520.48,320V72.5H523.73V320Z\" style=\"vector-effect: non-scaling-stroke; opacity: 1; stroke-width: 0px; fill: rgb(99, 110, 250); fill-opacity: 1;\"/></g><g class=\"point\"><path d=\"M523.73,320V123.12H526.99V320Z\" style=\"vector-effect: non-scaling-stroke; opacity: 1; stroke-width: 0px; fill: rgb(99, 110, 250); fill-opacity: 1;\"/></g><g class=\"point\"><path d=\"M526.99,320V146.57H530.24V320Z\" style=\"vector-effect: non-scaling-stroke; opacity: 1; stroke-width: 0px; fill: rgb(99, 110, 250); fill-opacity: 1;\"/></g><g class=\"point\"><path d=\"M530.24,320V164.33H533.49V320Z\" style=\"vector-effect: non-scaling-stroke; opacity: 1; stroke-width: 0px; fill: rgb(99, 110, 250); fill-opacity: 1;\"/></g><g class=\"point\"><path d=\"M533.49,320V221.97H536.75V320Z\" style=\"vector-effect: non-scaling-stroke; opacity: 1; stroke-width: 0px; fill: rgb(99, 110, 250); fill-opacity: 1;\"/></g><g class=\"point\"><path d=\"M536.75,320V312.98H540V320Z\" style=\"vector-effect: non-scaling-stroke; opacity: 1; stroke-width: 0px; fill: rgb(99, 110, 250); fill-opacity: 1;\"/></g></g></g></g></g><g class=\"overplot\"/><path class=\"xlines-above crisp\" d=\"M0,0\" style=\"fill: none;\"/><path class=\"ylines-above crisp\" d=\"M0,0\" style=\"fill: none;\"/><g class=\"overlines-above\"/><g class=\"xaxislayer-above\"><g class=\"xtick\"><text text-anchor=\"middle\" x=\"0\" y=\"433\" transform=\"translate(80,0)\" style=\"font-family: 'Open Sans', verdana, arial, sans-serif; font-size: 12px; fill: rgb(42, 63, 95); fill-opacity: 1; white-space: pre; opacity: 1;\"><tspan class=\"line\" dy=\"0em\" x=\"0\" y=\"433\">Aug 1</tspan><tspan class=\"line\" dy=\"1.3em\" x=\"0\" y=\"433\">2019</tspan></text></g><g class=\"xtick\"><text text-anchor=\"middle\" x=\"0\" y=\"433\" style=\"font-family: 'Open Sans', verdana, arial, sans-serif; font-size: 12px; fill: rgb(42, 63, 95); fill-opacity: 1; white-space: pre; opacity: 1;\" transform=\"translate(158.07,0)\">Aug 2</text></g><g class=\"xtick\"><text text-anchor=\"middle\" x=\"0\" y=\"433\" style=\"font-family: 'Open Sans', verdana, arial, sans-serif; font-size: 12px; fill: rgb(42, 63, 95); fill-opacity: 1; white-space: pre; opacity: 1;\" transform=\"translate(236.14,0)\">Aug 3</text></g><g class=\"xtick\"><text text-anchor=\"middle\" x=\"0\" y=\"433\" style=\"font-family: 'Open Sans', verdana, arial, sans-serif; font-size: 12px; fill: rgb(42, 63, 95); fill-opacity: 1; white-space: pre; opacity: 1;\" transform=\"translate(314.22,0)\">Aug 4</text></g><g class=\"xtick\"><text text-anchor=\"middle\" x=\"0\" y=\"433\" style=\"font-family: 'Open Sans', verdana, arial, sans-serif; font-size: 12px; fill: rgb(42, 63, 95); fill-opacity: 1; white-space: pre; opacity: 1;\" transform=\"translate(392.29,0)\">Aug 5</text></g><g class=\"xtick\"><text text-anchor=\"middle\" x=\"0\" y=\"433\" style=\"font-family: 'Open Sans', verdana, arial, sans-serif; font-size: 12px; fill: rgb(42, 63, 95); fill-opacity: 1; white-space: pre; opacity: 1;\" transform=\"translate(470.36,0)\">Aug 6</text></g><g class=\"xtick\"><text text-anchor=\"middle\" x=\"0\" y=\"433\" style=\"font-family: 'Open Sans', verdana, arial, sans-serif; font-size: 12px; fill: rgb(42, 63, 95); fill-opacity: 1; white-space: pre; opacity: 1;\" transform=\"translate(548.4300000000001,0)\">Aug 7</text></g></g><g class=\"yaxislayer-above\"><g class=\"ytick\"><text text-anchor=\"end\" x=\"79\" y=\"4.199999999999999\" transform=\"translate(0,420)\" style=\"font-family: 'Open Sans', verdana, arial, sans-serif; font-size: 12px; fill: rgb(42, 63, 95); fill-opacity: 1; white-space: pre; opacity: 1;\">0</text></g><g class=\"ytick\"><text text-anchor=\"end\" x=\"79\" y=\"4.199999999999999\" style=\"font-family: 'Open Sans', verdana, arial, sans-serif; font-size: 12px; fill: rgb(42, 63, 95); fill-opacity: 1; white-space: pre; opacity: 1;\" transform=\"translate(0,368.35)\">500</text></g><g class=\"ytick\"><text text-anchor=\"end\" x=\"79\" y=\"4.199999999999999\" style=\"font-family: 'Open Sans', verdana, arial, sans-serif; font-size: 12px; fill: rgb(42, 63, 95); fill-opacity: 1; white-space: pre; opacity: 1;\" transform=\"translate(0,316.7)\">1000</text></g><g class=\"ytick\"><text text-anchor=\"end\" x=\"79\" y=\"4.199999999999999\" style=\"font-family: 'Open Sans', verdana, arial, sans-serif; font-size: 12px; fill: rgb(42, 63, 95); fill-opacity: 1; white-space: pre; opacity: 1;\" transform=\"translate(0,265.06)\">1500</text></g><g class=\"ytick\"><text text-anchor=\"end\" x=\"79\" y=\"4.199999999999999\" style=\"font-family: 'Open Sans', verdana, arial, sans-serif; font-size: 12px; fill: rgb(42, 63, 95); fill-opacity: 1; white-space: pre; opacity: 1;\" transform=\"translate(0,213.41)\">2000</text></g><g class=\"ytick\"><text text-anchor=\"end\" x=\"79\" y=\"4.199999999999999\" style=\"font-family: 'Open Sans', verdana, arial, sans-serif; font-size: 12px; fill: rgb(42, 63, 95); fill-opacity: 1; white-space: pre; opacity: 1;\" transform=\"translate(0,161.76)\">2500</text></g><g class=\"ytick\"><text text-anchor=\"end\" x=\"79\" y=\"4.199999999999999\" style=\"font-family: 'Open Sans', verdana, arial, sans-serif; font-size: 12px; fill: rgb(42, 63, 95); fill-opacity: 1; white-space: pre; opacity: 1;\" transform=\"translate(0,110.11)\">3000</text></g></g><g class=\"overaxes-above\"/></g></g><g class=\"polarlayer\"/><g class=\"ternarylayer\"/><g class=\"geolayer\"/><g class=\"funnelarealayer\"/><g class=\"pielayer\"/><g class=\"iciclelayer\"/><g class=\"treemaplayer\"/><g class=\"sunburstlayer\"/><g class=\"glimages\"/><defs id=\"topdefs-21308d\"><g class=\"clips\"/></defs><g class=\"layer-above\"><g class=\"imagelayer\"/><g class=\"shapelayer\"/></g><g class=\"infolayer\"><g class=\"g-gtitle\"><text class=\"gtitle\" x=\"35\" y=\"50\" text-anchor=\"start\" dy=\"0em\" style=\"font-family: 'Open Sans', verdana, arial, sans-serif; font-size: 17px; fill: rgb(42, 63, 95); opacity: 1; font-weight: normal; white-space: pre;\">Распределение событий в логе по дате и времени</text></g><g class=\"g-xtitle\"><text class=\"xtitle\" x=\"350\" y=\"476.409375\" text-anchor=\"middle\" style=\"font-family: 'Open Sans', verdana, arial, sans-serif; font-size: 14px; fill: rgb(42, 63, 95); opacity: 1; font-weight: normal; white-space: pre;\">event_datetime</text></g><g class=\"g-ytitle\"><text class=\"ytitle\" transform=\"rotate(-90,23.684375000000003,260)\" x=\"23.684375000000003\" y=\"260\" text-anchor=\"middle\" style=\"font-family: 'Open Sans', verdana, arial, sans-serif; font-size: 14px; fill: rgb(42, 63, 95); opacity: 1; font-weight: normal; white-space: pre;\">count</text></g></g></svg>"
      ]
     },
     "metadata": {},
     "output_type": "display_data"
    }
   ],
   "source": [
    "fig = px.histogram(df, x='event_datetime',\n",
    "                   title='Распределение событий в логе по дате и времени')\n",
    "fig.show()"
   ]
  },
  {
   "cell_type": "markdown",
   "metadata": {
    "id": "Lz3UbZ-SAJfe"
   },
   "source": [
    "### Количество событий и пользователей, которое мы потеряли, отбросив старые данные"
   ]
  },
  {
   "cell_type": "code",
   "execution_count": 30,
   "metadata": {
    "colab": {
     "base_uri": "https://localhost:8080/"
    },
    "executionInfo": {
     "elapsed": 55,
     "status": "ok",
     "timestamp": 1628873516767,
     "user": {
      "displayName": "Арсен",
      "photoUrl": "https://lh3.googleusercontent.com/a-/AOh14GjPCG8vWVVB43Ax1wpE_vEPLjGP-XH0UWc12vB7wg=s64",
      "userId": "17661651445996378067"
     },
     "user_tz": -180
    },
    "id": "s9Y7ZaBiAJff",
    "outputId": "441936ff-66ea-429b-88ab-b6780aaefd9e"
   },
   "outputs": [
    {
     "name": "stdout",
     "output_type": "stream",
     "text": [
      "Всего событий в логе - 240887\n",
      "Потеряли 1.16% событий\n"
     ]
    }
   ],
   "source": [
    "print('Всего событий в логе -', df.shape[0])\n",
    "print('Потеряли {:.2%} событий'.format(1-(df.shape[0]/event_count)))"
   ]
  },
  {
   "cell_type": "code",
   "execution_count": 31,
   "metadata": {
    "colab": {
     "base_uri": "https://localhost:8080/"
    },
    "executionInfo": {
     "elapsed": 49,
     "status": "ok",
     "timestamp": 1628873516768,
     "user": {
      "displayName": "Арсен",
      "photoUrl": "https://lh3.googleusercontent.com/a-/AOh14GjPCG8vWVVB43Ax1wpE_vEPLjGP-XH0UWc12vB7wg=s64",
      "userId": "17661651445996378067"
     },
     "user_tz": -180
    },
    "id": "sM-bcPvLAJff",
    "outputId": "e3b0de00-49ba-44a7-99f1-6010eac7d431"
   },
   "outputs": [
    {
     "name": "stdout",
     "output_type": "stream",
     "text": [
      "Всего пользователей в логе - 7534\n",
      "Потеряли 0.23% пользователей\n"
     ]
    }
   ],
   "source": [
    "print('Всего пользователей в логе -', df['device_id'].nunique())\n",
    "print('Потеряли {:.2%} пользователей'.format(1-(df['device_id'].nunique()/user_count)))"
   ]
  },
  {
   "cell_type": "markdown",
   "metadata": {
    "id": "2sjfQvG_AJff"
   },
   "source": [
    "Итак, потеряли мы данных:"
   ]
  },
  {
   "cell_type": "markdown",
   "metadata": {
    "id": "NsMGew19AJff"
   },
   "source": [
    "![image.jpg](https://www.meme-arsenal.com/memes/e37c687a7e894eb7b8822b16db8a2d4b.jpg)"
   ]
  },
  {
   "cell_type": "markdown",
   "metadata": {
    "id": "9FNR3edKAJff"
   },
   "source": [
    "### Проверим, что у нас есть пользователи из всех трёх экспериментальных групп"
   ]
  },
  {
   "cell_type": "code",
   "execution_count": 32,
   "metadata": {
    "colab": {
     "base_uri": "https://localhost:8080/",
     "height": 173
    },
    "executionInfo": {
     "elapsed": 45,
     "status": "ok",
     "timestamp": 1628873516769,
     "user": {
      "displayName": "Арсен",
      "photoUrl": "https://lh3.googleusercontent.com/a-/AOh14GjPCG8vWVVB43Ax1wpE_vEPLjGP-XH0UWc12vB7wg=s64",
      "userId": "17661651445996378067"
     },
     "user_tz": -180
    },
    "id": "4inHNIC8AJff",
    "outputId": "971c1d39-9cb2-4dfe-e0eb-092878b844ad"
   },
   "outputs": [
    {
     "data": {
      "text/html": [
       "<div>\n",
       "<style scoped>\n",
       "    .dataframe tbody tr th:only-of-type {\n",
       "        vertical-align: middle;\n",
       "    }\n",
       "\n",
       "    .dataframe tbody tr th {\n",
       "        vertical-align: top;\n",
       "    }\n",
       "\n",
       "    .dataframe thead th {\n",
       "        text-align: right;\n",
       "    }\n",
       "</style>\n",
       "<table border=\"1\" class=\"dataframe\">\n",
       "  <thead>\n",
       "    <tr style=\"text-align: right;\">\n",
       "      <th></th>\n",
       "      <th>device_id</th>\n",
       "    </tr>\n",
       "    <tr>\n",
       "      <th>exp_id</th>\n",
       "      <th></th>\n",
       "    </tr>\n",
       "  </thead>\n",
       "  <tbody>\n",
       "    <tr>\n",
       "      <th>A1</th>\n",
       "      <td>2484</td>\n",
       "    </tr>\n",
       "    <tr>\n",
       "      <th>A2</th>\n",
       "      <td>2513</td>\n",
       "    </tr>\n",
       "    <tr>\n",
       "      <th>B</th>\n",
       "      <td>2537</td>\n",
       "    </tr>\n",
       "  </tbody>\n",
       "</table>\n",
       "</div>"
      ],
      "text/plain": [
       "        device_id\n",
       "exp_id           \n",
       "A1           2484\n",
       "A2           2513\n",
       "B            2537"
      ]
     },
     "execution_count": 32,
     "metadata": {},
     "output_type": "execute_result"
    }
   ],
   "source": [
    "pd.DataFrame(df.groupby('exp_id').agg({'device_id':'nunique'}))"
   ]
  },
  {
   "cell_type": "markdown",
   "metadata": {
    "id": "fFzvT9d9AJff"
   },
   "source": [
    "К тому же распределены почти одинаково, отлично"
   ]
  },
  {
   "cell_type": "markdown",
   "metadata": {
    "id": "GCmS09aEAJfg"
   },
   "source": [
    "## Изучение воронки событий"
   ]
  },
  {
   "cell_type": "markdown",
   "metadata": {
    "id": "mKKgnFszAJfg"
   },
   "source": [
    "### Посмотрим, какие события есть в логах, как часто они встречаются"
   ]
  },
  {
   "cell_type": "code",
   "execution_count": 33,
   "metadata": {
    "colab": {
     "base_uri": "https://localhost:8080/"
    },
    "executionInfo": {
     "elapsed": 45,
     "status": "ok",
     "timestamp": 1628873516770,
     "user": {
      "displayName": "Арсен",
      "photoUrl": "https://lh3.googleusercontent.com/a-/AOh14GjPCG8vWVVB43Ax1wpE_vEPLjGP-XH0UWc12vB7wg=s64",
      "userId": "17661651445996378067"
     },
     "user_tz": -180
    },
    "id": "XwQnuyRdAJfg",
    "outputId": "9ecfe02b-938e-415d-865c-de287a5efd5c"
   },
   "outputs": [
    {
     "data": {
      "text/plain": [
       "['Tutorial', 'MainScreenAppear', 'OffersScreenAppear', 'CartScreenAppear', 'PaymentScreenSuccessful']\n",
       "Categories (5, object): ['Tutorial', 'MainScreenAppear', 'OffersScreenAppear', 'CartScreenAppear', 'PaymentScreenSuccessful']"
      ]
     },
     "execution_count": 33,
     "metadata": {},
     "output_type": "execute_result"
    }
   ],
   "source": [
    "df['event_name'].unique()"
   ]
  },
  {
   "cell_type": "markdown",
   "metadata": {
    "id": "XtZ0vB6UAJfg"
   },
   "source": [
    "То есть всего у нас 5 разных событий: \n",
    "- MainScreenAppear - главный экран\n",
    "- PaymentScreenSuccessful - экран успешной оплаты\n",
    "- CartScreenAppear - экран оплаты\n",
    "- OffersScreenAppear - экран предложений\n",
    "- Tutorial - руководство по использованию (обучение)"
   ]
  },
  {
   "cell_type": "markdown",
   "metadata": {
    "id": "HS2p5jkKAJfg"
   },
   "source": [
    "Посмотрим, как часто они встречаются"
   ]
  },
  {
   "cell_type": "code",
   "execution_count": 34,
   "metadata": {
    "colab": {
     "base_uri": "https://localhost:8080/",
     "height": 204
    },
    "executionInfo": {
     "elapsed": 40,
     "status": "ok",
     "timestamp": 1628873516770,
     "user": {
      "displayName": "Арсен",
      "photoUrl": "https://lh3.googleusercontent.com/a-/AOh14GjPCG8vWVVB43Ax1wpE_vEPLjGP-XH0UWc12vB7wg=s64",
      "userId": "17661651445996378067"
     },
     "user_tz": -180
    },
    "id": "r1rh9wPyAJfg",
    "outputId": "3b39166a-2bba-429a-db49-2410a4083a0c"
   },
   "outputs": [
    {
     "data": {
      "text/html": [
       "<div>\n",
       "<style scoped>\n",
       "    .dataframe tbody tr th:only-of-type {\n",
       "        vertical-align: middle;\n",
       "    }\n",
       "\n",
       "    .dataframe tbody tr th {\n",
       "        vertical-align: top;\n",
       "    }\n",
       "\n",
       "    .dataframe thead th {\n",
       "        text-align: right;\n",
       "    }\n",
       "</style>\n",
       "<table border=\"1\" class=\"dataframe\">\n",
       "  <thead>\n",
       "    <tr style=\"text-align: right;\">\n",
       "      <th></th>\n",
       "      <th>event_name</th>\n",
       "    </tr>\n",
       "  </thead>\n",
       "  <tbody>\n",
       "    <tr>\n",
       "      <th>MainScreenAppear</th>\n",
       "      <td>117328</td>\n",
       "    </tr>\n",
       "    <tr>\n",
       "      <th>OffersScreenAppear</th>\n",
       "      <td>46333</td>\n",
       "    </tr>\n",
       "    <tr>\n",
       "      <th>CartScreenAppear</th>\n",
       "      <td>42303</td>\n",
       "    </tr>\n",
       "    <tr>\n",
       "      <th>PaymentScreenSuccessful</th>\n",
       "      <td>33918</td>\n",
       "    </tr>\n",
       "    <tr>\n",
       "      <th>Tutorial</th>\n",
       "      <td>1005</td>\n",
       "    </tr>\n",
       "  </tbody>\n",
       "</table>\n",
       "</div>"
      ],
      "text/plain": [
       "                         event_name\n",
       "MainScreenAppear             117328\n",
       "OffersScreenAppear            46333\n",
       "CartScreenAppear              42303\n",
       "PaymentScreenSuccessful       33918\n",
       "Tutorial                       1005"
      ]
     },
     "execution_count": 34,
     "metadata": {},
     "output_type": "execute_result"
    }
   ],
   "source": [
    "pd.DataFrame(df['event_name'].value_counts())"
   ]
  },
  {
   "cell_type": "markdown",
   "metadata": {
    "id": "GUGsqp78AJfg"
   },
   "source": [
    "### Посчитаем, сколько пользователей совершали каждое из этих событий. Посчитаем долю пользователей, которые хоть раз совершали событие"
   ]
  },
  {
   "cell_type": "code",
   "execution_count": 35,
   "metadata": {
    "colab": {
     "base_uri": "https://localhost:8080/",
     "height": 235
    },
    "executionInfo": {
     "elapsed": 40,
     "status": "ok",
     "timestamp": 1628873516771,
     "user": {
      "displayName": "Арсен",
      "photoUrl": "https://lh3.googleusercontent.com/a-/AOh14GjPCG8vWVVB43Ax1wpE_vEPLjGP-XH0UWc12vB7wg=s64",
      "userId": "17661651445996378067"
     },
     "user_tz": -180
    },
    "id": "rNzneFOKAJfh",
    "outputId": "799afa54-b2d9-4271-bd52-6b0b22f07c86"
   },
   "outputs": [
    {
     "data": {
      "text/html": [
       "<div>\n",
       "<style scoped>\n",
       "    .dataframe tbody tr th:only-of-type {\n",
       "        vertical-align: middle;\n",
       "    }\n",
       "\n",
       "    .dataframe tbody tr th {\n",
       "        vertical-align: top;\n",
       "    }\n",
       "\n",
       "    .dataframe thead th {\n",
       "        text-align: right;\n",
       "    }\n",
       "</style>\n",
       "<table border=\"1\" class=\"dataframe\">\n",
       "  <thead>\n",
       "    <tr style=\"text-align: right;\">\n",
       "      <th></th>\n",
       "      <th>count_users</th>\n",
       "    </tr>\n",
       "    <tr>\n",
       "      <th>event_name</th>\n",
       "      <th></th>\n",
       "    </tr>\n",
       "  </thead>\n",
       "  <tbody>\n",
       "    <tr>\n",
       "      <th>MainScreenAppear</th>\n",
       "      <td>7419</td>\n",
       "    </tr>\n",
       "    <tr>\n",
       "      <th>OffersScreenAppear</th>\n",
       "      <td>4593</td>\n",
       "    </tr>\n",
       "    <tr>\n",
       "      <th>CartScreenAppear</th>\n",
       "      <td>3734</td>\n",
       "    </tr>\n",
       "    <tr>\n",
       "      <th>PaymentScreenSuccessful</th>\n",
       "      <td>3539</td>\n",
       "    </tr>\n",
       "    <tr>\n",
       "      <th>Tutorial</th>\n",
       "      <td>840</td>\n",
       "    </tr>\n",
       "  </tbody>\n",
       "</table>\n",
       "</div>"
      ],
      "text/plain": [
       "                         count_users\n",
       "event_name                          \n",
       "MainScreenAppear                7419\n",
       "OffersScreenAppear              4593\n",
       "CartScreenAppear                3734\n",
       "PaymentScreenSuccessful         3539\n",
       "Tutorial                         840"
      ]
     },
     "execution_count": 35,
     "metadata": {},
     "output_type": "execute_result"
    }
   ],
   "source": [
    "users_by_event = (\n",
    "    df\n",
    "        .groupby('event_name')\n",
    "        .agg({'device_id':'nunique'})\n",
    "        .sort_values(by='device_id', ascending=False)\n",
    "        .rename(columns={'device_id':'count_users'})\n",
    ")\n",
    "\n",
    "users_by_event"
   ]
  },
  {
   "cell_type": "markdown",
   "metadata": {
    "id": "Bc4PymAmAJfh"
   },
   "source": [
    "Доля пользователей, которые хоть раз совершали событие"
   ]
  },
  {
   "cell_type": "code",
   "execution_count": 36,
   "metadata": {
    "colab": {
     "base_uri": "https://localhost:8080/",
     "height": 235
    },
    "executionInfo": {
     "elapsed": 40,
     "status": "ok",
     "timestamp": 1628873516772,
     "user": {
      "displayName": "Арсен",
      "photoUrl": "https://lh3.googleusercontent.com/a-/AOh14GjPCG8vWVVB43Ax1wpE_vEPLjGP-XH0UWc12vB7wg=s64",
      "userId": "17661651445996378067"
     },
     "user_tz": -180
    },
    "id": "CavH7M25AJfh",
    "outputId": "a3025a0a-e603-40fb-f4ee-78912fb19a13"
   },
   "outputs": [
    {
     "data": {
      "text/html": [
       "<div>\n",
       "<style scoped>\n",
       "    .dataframe tbody tr th:only-of-type {\n",
       "        vertical-align: middle;\n",
       "    }\n",
       "\n",
       "    .dataframe tbody tr th {\n",
       "        vertical-align: top;\n",
       "    }\n",
       "\n",
       "    .dataframe thead th {\n",
       "        text-align: right;\n",
       "    }\n",
       "</style>\n",
       "<table border=\"1\" class=\"dataframe\">\n",
       "  <thead>\n",
       "    <tr style=\"text-align: right;\">\n",
       "      <th></th>\n",
       "      <th>count_users</th>\n",
       "      <th>ratio_of_total</th>\n",
       "    </tr>\n",
       "    <tr>\n",
       "      <th>event_name</th>\n",
       "      <th></th>\n",
       "      <th></th>\n",
       "    </tr>\n",
       "  </thead>\n",
       "  <tbody>\n",
       "    <tr>\n",
       "      <th>MainScreenAppear</th>\n",
       "      <td>7419</td>\n",
       "      <td>0.985</td>\n",
       "    </tr>\n",
       "    <tr>\n",
       "      <th>OffersScreenAppear</th>\n",
       "      <td>4593</td>\n",
       "      <td>0.610</td>\n",
       "    </tr>\n",
       "    <tr>\n",
       "      <th>CartScreenAppear</th>\n",
       "      <td>3734</td>\n",
       "      <td>0.496</td>\n",
       "    </tr>\n",
       "    <tr>\n",
       "      <th>PaymentScreenSuccessful</th>\n",
       "      <td>3539</td>\n",
       "      <td>0.470</td>\n",
       "    </tr>\n",
       "    <tr>\n",
       "      <th>Tutorial</th>\n",
       "      <td>840</td>\n",
       "      <td>0.111</td>\n",
       "    </tr>\n",
       "  </tbody>\n",
       "</table>\n",
       "</div>"
      ],
      "text/plain": [
       "                         count_users  ratio_of_total\n",
       "event_name                                          \n",
       "MainScreenAppear                7419           0.985\n",
       "OffersScreenAppear              4593           0.610\n",
       "CartScreenAppear                3734           0.496\n",
       "PaymentScreenSuccessful         3539           0.470\n",
       "Tutorial                         840           0.111"
      ]
     },
     "execution_count": 36,
     "metadata": {},
     "output_type": "execute_result"
    }
   ],
   "source": [
    "users_by_event['ratio_of_total'] = round(users_by_event['count_users'] / df['device_id'].nunique(), 3)\n",
    "users_by_event"
   ]
  },
  {
   "cell_type": "markdown",
   "metadata": {
    "id": "_U6sx2nNAJfh"
   },
   "source": [
    "Конверсия на 1 шаге меньше 1, значит необязтельно проходить по всем шагам воронки. Вероятно, у таких пользователей уже есть ссылка на определенный товар в магазине, и при переходе по этой ссылке, они попадают сразу на страницу с товаром - OffersScreenAppear"
   ]
  },
  {
   "cell_type": "markdown",
   "metadata": {
    "id": "iUGok3KwAJfi"
   },
   "source": [
    "### Предположим, в каком порядке происходят события. Все ли они выстраиваются в последовательную цепочку?"
   ]
  },
  {
   "cell_type": "markdown",
   "metadata": {
    "id": "YJ76SppEAJfi"
   },
   "source": [
    "Какая воронка по сути должна быть:\n",
    "1. Руководство по использованию / Обучение. Максимальное число событий, и далее на каждом пункте мы либо теряем пользователей, либо их количество сохраняется.\n",
    "2. Главный экран.\n",
    "3. Экран предложения / товара.\n",
    "4. Экран оплаты\n",
    "5. Экран с успешной оплатой"
   ]
  },
  {
   "cell_type": "markdown",
   "metadata": {
    "id": "L5YvNApSAJfi"
   },
   "source": [
    "Какая получается у нас:\n",
    "1. Руководство по использованию / Обучение (1005)\n",
    "2. Главный экран (117 328)\n",
    "3. Экран предложения/товара (46 333)\n",
    "4. Экран оплаты (42 303)\n",
    "5. Экран с успешной оплатой (33 918)"
   ]
  },
  {
   "cell_type": "markdown",
   "metadata": {
    "id": "WKmoNBPpAJfi"
   },
   "source": [
    "Обучение никто не проходит... Видимо, мы не предлагаем пройти обучение при первом запуске или кнопка с руководством по использованию может быть интуитивно непонятна пользователю, и он ее просто не может найти. Так что при построении воронки не будем учитывать события, связанные с обучением (tutorial)"
   ]
  },
  {
   "cell_type": "markdown",
   "metadata": {
    "id": "3CiWBFvhDUt1"
   },
   "source": [
    "Посмотрим на распределение пользователей по группам эксперимента"
   ]
  },
  {
   "cell_type": "code",
   "execution_count": 37,
   "metadata": {
    "colab": {
     "base_uri": "https://localhost:8080/",
     "height": 235
    },
    "executionInfo": {
     "elapsed": 40,
     "status": "ok",
     "timestamp": 1628873516773,
     "user": {
      "displayName": "Арсен",
      "photoUrl": "https://lh3.googleusercontent.com/a-/AOh14GjPCG8vWVVB43Ax1wpE_vEPLjGP-XH0UWc12vB7wg=s64",
      "userId": "17661651445996378067"
     },
     "user_tz": -180
    },
    "id": "S2aMTc0vAJfj",
    "outputId": "4dc9c076-478a-479b-b00b-35b48968b38b"
   },
   "outputs": [
    {
     "data": {
      "text/html": [
       "<div>\n",
       "<style scoped>\n",
       "    .dataframe tbody tr th:only-of-type {\n",
       "        vertical-align: middle;\n",
       "    }\n",
       "\n",
       "    .dataframe tbody tr th {\n",
       "        vertical-align: top;\n",
       "    }\n",
       "\n",
       "    .dataframe thead th {\n",
       "        text-align: right;\n",
       "    }\n",
       "</style>\n",
       "<table border=\"1\" class=\"dataframe\">\n",
       "  <thead>\n",
       "    <tr style=\"text-align: right;\">\n",
       "      <th>exp_id</th>\n",
       "      <th>A1</th>\n",
       "      <th>A2</th>\n",
       "      <th>B</th>\n",
       "    </tr>\n",
       "    <tr>\n",
       "      <th>event_name</th>\n",
       "      <th></th>\n",
       "      <th></th>\n",
       "      <th></th>\n",
       "    </tr>\n",
       "  </thead>\n",
       "  <tbody>\n",
       "    <tr>\n",
       "      <th>MainScreenAppear</th>\n",
       "      <td>2450</td>\n",
       "      <td>2476</td>\n",
       "      <td>2493</td>\n",
       "    </tr>\n",
       "    <tr>\n",
       "      <th>OffersScreenAppear</th>\n",
       "      <td>1542</td>\n",
       "      <td>1520</td>\n",
       "      <td>1531</td>\n",
       "    </tr>\n",
       "    <tr>\n",
       "      <th>CartScreenAppear</th>\n",
       "      <td>1266</td>\n",
       "      <td>1238</td>\n",
       "      <td>1230</td>\n",
       "    </tr>\n",
       "    <tr>\n",
       "      <th>PaymentScreenSuccessful</th>\n",
       "      <td>1200</td>\n",
       "      <td>1158</td>\n",
       "      <td>1181</td>\n",
       "    </tr>\n",
       "    <tr>\n",
       "      <th>Tutorial</th>\n",
       "      <td>278</td>\n",
       "      <td>283</td>\n",
       "      <td>279</td>\n",
       "    </tr>\n",
       "  </tbody>\n",
       "</table>\n",
       "</div>"
      ],
      "text/plain": [
       "exp_id                     A1    A2     B\n",
       "event_name                               \n",
       "MainScreenAppear         2450  2476  2493\n",
       "OffersScreenAppear       1542  1520  1531\n",
       "CartScreenAppear         1266  1238  1230\n",
       "PaymentScreenSuccessful  1200  1158  1181\n",
       "Tutorial                  278   283   279"
      ]
     },
     "execution_count": 37,
     "metadata": {},
     "output_type": "execute_result"
    }
   ],
   "source": [
    "df.pivot_table(\n",
    "    index='event_name',\n",
    "    columns='exp_id',\n",
    "    values='device_id',\n",
    "    aggfunc='nunique'\n",
    ").sort_values(by='A1', ascending=False)"
   ]
  },
  {
   "cell_type": "markdown",
   "metadata": {
    "id": "8oVk977hAJfj"
   },
   "source": [
    "Распределение по группам практически идентично"
   ]
  },
  {
   "cell_type": "markdown",
   "metadata": {
    "id": "qjQYuGApAJfj"
   },
   "source": [
    "### По воронке событий посчитаем, какая доля пользователей проходит на следующий шаг воронки"
   ]
  },
  {
   "cell_type": "markdown",
   "metadata": {
    "id": "9vK1UslZDd6Q"
   },
   "source": [
    "Спева рассмотрим строгую воронку, то есть в расчет берем только последовательные шаги пользователя"
   ]
  },
  {
   "cell_type": "code",
   "execution_count": 38,
   "metadata": {
    "colab": {
     "base_uri": "https://localhost:8080/",
     "height": 450
    },
    "executionInfo": {
     "elapsed": 40,
     "status": "ok",
     "timestamp": 1628873516774,
     "user": {
      "displayName": "Арсен",
      "photoUrl": "https://lh3.googleusercontent.com/a-/AOh14GjPCG8vWVVB43Ax1wpE_vEPLjGP-XH0UWc12vB7wg=s64",
      "userId": "17661651445996378067"
     },
     "user_tz": -180
    },
    "id": "R5xTGC8nAJfj",
    "outputId": "081090dc-dbf5-499e-be1d-237280c05b75"
   },
   "outputs": [
    {
     "data": {
      "text/html": [
       "<div>\n",
       "<style scoped>\n",
       "    .dataframe tbody tr th:only-of-type {\n",
       "        vertical-align: middle;\n",
       "    }\n",
       "\n",
       "    .dataframe tbody tr th {\n",
       "        vertical-align: top;\n",
       "    }\n",
       "\n",
       "    .dataframe thead th {\n",
       "        text-align: right;\n",
       "    }\n",
       "</style>\n",
       "<table border=\"1\" class=\"dataframe\">\n",
       "  <thead>\n",
       "    <tr style=\"text-align: right;\">\n",
       "      <th>event_name</th>\n",
       "      <th>CartScreenAppear</th>\n",
       "      <th>MainScreenAppear</th>\n",
       "      <th>OffersScreenAppear</th>\n",
       "      <th>PaymentScreenSuccessful</th>\n",
       "    </tr>\n",
       "    <tr>\n",
       "      <th>device_id</th>\n",
       "      <th></th>\n",
       "      <th></th>\n",
       "      <th></th>\n",
       "      <th></th>\n",
       "    </tr>\n",
       "  </thead>\n",
       "  <tbody>\n",
       "    <tr>\n",
       "      <th>6888746892508752</th>\n",
       "      <td>NaT</td>\n",
       "      <td>2019-08-06 14:06:34</td>\n",
       "      <td>NaT</td>\n",
       "      <td>NaT</td>\n",
       "    </tr>\n",
       "    <tr>\n",
       "      <th>6909561520679493</th>\n",
       "      <td>2019-08-06 18:52:58</td>\n",
       "      <td>2019-08-06 18:52:54</td>\n",
       "      <td>2019-08-06 18:53:04</td>\n",
       "      <td>2019-08-06 18:52:58</td>\n",
       "    </tr>\n",
       "    <tr>\n",
       "      <th>6922444491712477</th>\n",
       "      <td>2019-08-04 14:19:40</td>\n",
       "      <td>2019-08-04 14:19:33</td>\n",
       "      <td>2019-08-04 14:19:46</td>\n",
       "      <td>2019-08-04 14:19:40</td>\n",
       "    </tr>\n",
       "    <tr>\n",
       "      <th>7435777799948366</th>\n",
       "      <td>NaT</td>\n",
       "      <td>2019-08-05 08:06:34</td>\n",
       "      <td>NaT</td>\n",
       "      <td>NaT</td>\n",
       "    </tr>\n",
       "    <tr>\n",
       "      <th>7702139951469979</th>\n",
       "      <td>2019-08-02 14:28:45</td>\n",
       "      <td>2019-08-01 04:29:54</td>\n",
       "      <td>2019-08-01 04:29:56</td>\n",
       "      <td>2019-08-02 14:28:45</td>\n",
       "    </tr>\n",
       "    <tr>\n",
       "      <th>...</th>\n",
       "      <td>...</td>\n",
       "      <td>...</td>\n",
       "      <td>...</td>\n",
       "      <td>...</td>\n",
       "    </tr>\n",
       "    <tr>\n",
       "      <th>9217594193087726423</th>\n",
       "      <td>2019-08-02 09:00:58</td>\n",
       "      <td>NaT</td>\n",
       "      <td>2019-08-02 09:01:08</td>\n",
       "      <td>2019-08-02 09:00:57</td>\n",
       "    </tr>\n",
       "    <tr>\n",
       "      <th>9219463515465815368</th>\n",
       "      <td>2019-08-06 16:49:40</td>\n",
       "      <td>2019-08-05 05:26:26</td>\n",
       "      <td>2019-08-06 16:48:57</td>\n",
       "      <td>2019-08-06 16:52:16</td>\n",
       "    </tr>\n",
       "    <tr>\n",
       "      <th>9220879493065341500</th>\n",
       "      <td>2019-08-02 17:59:16</td>\n",
       "      <td>2019-08-02 17:58:48</td>\n",
       "      <td>2019-08-02 17:59:00</td>\n",
       "      <td>NaT</td>\n",
       "    </tr>\n",
       "    <tr>\n",
       "      <th>9221926045299980007</th>\n",
       "      <td>NaT</td>\n",
       "      <td>2019-08-01 17:30:27</td>\n",
       "      <td>NaT</td>\n",
       "      <td>NaT</td>\n",
       "    </tr>\n",
       "    <tr>\n",
       "      <th>9222603179720523844</th>\n",
       "      <td>NaT</td>\n",
       "      <td>2019-08-01 06:52:13</td>\n",
       "      <td>NaT</td>\n",
       "      <td>NaT</td>\n",
       "    </tr>\n",
       "  </tbody>\n",
       "</table>\n",
       "<p>7530 rows × 4 columns</p>\n",
       "</div>"
      ],
      "text/plain": [
       "event_name             CartScreenAppear    MainScreenAppear  \\\n",
       "device_id                                                     \n",
       "6888746892508752                    NaT 2019-08-06 14:06:34   \n",
       "6909561520679493    2019-08-06 18:52:58 2019-08-06 18:52:54   \n",
       "6922444491712477    2019-08-04 14:19:40 2019-08-04 14:19:33   \n",
       "7435777799948366                    NaT 2019-08-05 08:06:34   \n",
       "7702139951469979    2019-08-02 14:28:45 2019-08-01 04:29:54   \n",
       "...                                 ...                 ...   \n",
       "9217594193087726423 2019-08-02 09:00:58                 NaT   \n",
       "9219463515465815368 2019-08-06 16:49:40 2019-08-05 05:26:26   \n",
       "9220879493065341500 2019-08-02 17:59:16 2019-08-02 17:58:48   \n",
       "9221926045299980007                 NaT 2019-08-01 17:30:27   \n",
       "9222603179720523844                 NaT 2019-08-01 06:52:13   \n",
       "\n",
       "event_name           OffersScreenAppear PaymentScreenSuccessful  \n",
       "device_id                                                        \n",
       "6888746892508752                    NaT                     NaT  \n",
       "6909561520679493    2019-08-06 18:53:04     2019-08-06 18:52:58  \n",
       "6922444491712477    2019-08-04 14:19:46     2019-08-04 14:19:40  \n",
       "7435777799948366                    NaT                     NaT  \n",
       "7702139951469979    2019-08-01 04:29:56     2019-08-02 14:28:45  \n",
       "...                                 ...                     ...  \n",
       "9217594193087726423 2019-08-02 09:01:08     2019-08-02 09:00:57  \n",
       "9219463515465815368 2019-08-06 16:48:57     2019-08-06 16:52:16  \n",
       "9220879493065341500 2019-08-02 17:59:00                     NaT  \n",
       "9221926045299980007                 NaT                     NaT  \n",
       "9222603179720523844                 NaT                     NaT  \n",
       "\n",
       "[7530 rows x 4 columns]"
      ]
     },
     "execution_count": 38,
     "metadata": {},
     "output_type": "execute_result"
    }
   ],
   "source": [
    "users = df.query('event_name != \"Tutorial\"').pivot_table(\n",
    "    index='device_id',\n",
    "    columns='event_name',\n",
    "    values='event_datetime',\n",
    "    aggfunc='min'\n",
    ")\n",
    "\n",
    "users"
   ]
  },
  {
   "cell_type": "code",
   "execution_count": 39,
   "metadata": {
    "executionInfo": {
     "elapsed": 39,
     "status": "ok",
     "timestamp": 1628873516774,
     "user": {
      "displayName": "Арсен",
      "photoUrl": "https://lh3.googleusercontent.com/a-/AOh14GjPCG8vWVVB43Ax1wpE_vEPLjGP-XH0UWc12vB7wg=s64",
      "userId": "17661651445996378067"
     },
     "user_tz": -180
    },
    "id": "wceqhGQXAJfj"
   },
   "outputs": [],
   "source": [
    "step_1 = ~users['MainScreenAppear'].isna()\n",
    "step_2 = step_1 & (users['OffersScreenAppear'] > users['MainScreenAppear'])\n",
    "step_3 = step_2 & (users['CartScreenAppear'] > users['OffersScreenAppear'])\n",
    "step_4 = step_3 & (users['PaymentScreenSuccessful'] > users['CartScreenAppear'])\n",
    "\n",
    "n_main_screen_appear = users[step_1].shape[0]\n",
    "n_offers_screen_appear = users[step_2].shape[0]\n",
    "n_cart_screen_appear = users[step_3].shape[0]\n",
    "n_payment_screen_successful = users[step_4].shape[0]"
   ]
  },
  {
   "cell_type": "code",
   "execution_count": 40,
   "metadata": {
    "colab": {
     "base_uri": "https://localhost:8080/",
     "height": 204
    },
    "executionInfo": {
     "elapsed": 39,
     "status": "ok",
     "timestamp": 1628873516774,
     "user": {
      "displayName": "Арсен",
      "photoUrl": "https://lh3.googleusercontent.com/a-/AOh14GjPCG8vWVVB43Ax1wpE_vEPLjGP-XH0UWc12vB7wg=s64",
      "userId": "17661651445996378067"
     },
     "user_tz": -180
    },
    "id": "F4ugLhSJAJfk",
    "outputId": "fdfee648-7b88-4014-ce3b-ae8665d2a0a5"
   },
   "outputs": [
    {
     "data": {
      "text/html": [
       "<div>\n",
       "<style scoped>\n",
       "    .dataframe tbody tr th:only-of-type {\n",
       "        vertical-align: middle;\n",
       "    }\n",
       "\n",
       "    .dataframe tbody tr th {\n",
       "        vertical-align: top;\n",
       "    }\n",
       "\n",
       "    .dataframe thead th {\n",
       "        text-align: right;\n",
       "    }\n",
       "</style>\n",
       "<table border=\"1\" class=\"dataframe\">\n",
       "  <thead>\n",
       "    <tr style=\"text-align: right;\">\n",
       "      <th></th>\n",
       "      <th>users</th>\n",
       "    </tr>\n",
       "    <tr>\n",
       "      <th>event_name</th>\n",
       "      <th></th>\n",
       "    </tr>\n",
       "  </thead>\n",
       "  <tbody>\n",
       "    <tr>\n",
       "      <th>Главный экран</th>\n",
       "      <td>7419</td>\n",
       "    </tr>\n",
       "    <tr>\n",
       "      <th>Экран с товаром</th>\n",
       "      <td>4201</td>\n",
       "    </tr>\n",
       "    <tr>\n",
       "      <th>Начали оформлять заказ</th>\n",
       "      <td>1767</td>\n",
       "    </tr>\n",
       "    <tr>\n",
       "      <th>Оплатили</th>\n",
       "      <td>454</td>\n",
       "    </tr>\n",
       "  </tbody>\n",
       "</table>\n",
       "</div>"
      ],
      "text/plain": [
       "                        users\n",
       "event_name                   \n",
       "Главный экран            7419\n",
       "Экран с товаром          4201\n",
       "Начали оформлять заказ   1767\n",
       "Оплатили                  454"
      ]
     },
     "execution_count": 40,
     "metadata": {},
     "output_type": "execute_result"
    }
   ],
   "source": [
    "dr = pd.DataFrame({'event_name':['Главный экран', 'Экран с товаром', 'Начали оформлять заказ', 'Оплатили'],\n",
    "                   'users':[n_main_screen_appear, n_offers_screen_appear, n_cart_screen_appear, n_payment_screen_successful]})\n",
    "dr = dr.set_index('event_name')\n",
    "dr"
   ]
  },
  {
   "cell_type": "code",
   "execution_count": 41,
   "metadata": {
    "colab": {
     "base_uri": "https://localhost:8080/",
     "height": 204
    },
    "executionInfo": {
     "elapsed": 305,
     "status": "ok",
     "timestamp": 1628873523035,
     "user": {
      "displayName": "Арсен",
      "photoUrl": "https://lh3.googleusercontent.com/a-/AOh14GjPCG8vWVVB43Ax1wpE_vEPLjGP-XH0UWc12vB7wg=s64",
      "userId": "17661651445996378067"
     },
     "user_tz": -180
    },
    "id": "ZYyOBNZrAJfk",
    "outputId": "384e7ee4-d9ec-4933-b678-1f1a0593b20b"
   },
   "outputs": [
    {
     "data": {
      "text/html": [
       "<div>\n",
       "<style scoped>\n",
       "    .dataframe tbody tr th:only-of-type {\n",
       "        vertical-align: middle;\n",
       "    }\n",
       "\n",
       "    .dataframe tbody tr th {\n",
       "        vertical-align: top;\n",
       "    }\n",
       "\n",
       "    .dataframe thead th {\n",
       "        text-align: right;\n",
       "    }\n",
       "</style>\n",
       "<table border=\"1\" class=\"dataframe\">\n",
       "  <thead>\n",
       "    <tr style=\"text-align: right;\">\n",
       "      <th></th>\n",
       "      <th>users</th>\n",
       "      <th>ratio_of_previous</th>\n",
       "    </tr>\n",
       "    <tr>\n",
       "      <th>event_name</th>\n",
       "      <th></th>\n",
       "      <th></th>\n",
       "    </tr>\n",
       "  </thead>\n",
       "  <tbody>\n",
       "    <tr>\n",
       "      <th>Главный экран</th>\n",
       "      <td>7419</td>\n",
       "      <td>1.00</td>\n",
       "    </tr>\n",
       "    <tr>\n",
       "      <th>Экран с товаром</th>\n",
       "      <td>4201</td>\n",
       "      <td>0.57</td>\n",
       "    </tr>\n",
       "    <tr>\n",
       "      <th>Начали оформлять заказ</th>\n",
       "      <td>1767</td>\n",
       "      <td>0.42</td>\n",
       "    </tr>\n",
       "    <tr>\n",
       "      <th>Оплатили</th>\n",
       "      <td>454</td>\n",
       "      <td>0.26</td>\n",
       "    </tr>\n",
       "  </tbody>\n",
       "</table>\n",
       "</div>"
      ],
      "text/plain": [
       "                        users  ratio_of_previous\n",
       "event_name                                      \n",
       "Главный экран            7419               1.00\n",
       "Экран с товаром          4201               0.57\n",
       "Начали оформлять заказ   1767               0.42\n",
       "Оплатили                  454               0.26"
      ]
     },
     "execution_count": 41,
     "metadata": {},
     "output_type": "execute_result"
    }
   ],
   "source": [
    "dr['ratio_of_previous'] = round(dr['users'] / dr.shift(1)['users'], 2)\n",
    "dr.fillna(1, inplace=True)\n",
    "\n",
    "dr"
   ]
  },
  {
   "cell_type": "markdown",
   "metadata": {
    "id": "xWHPeKGFAJfk"
   },
   "source": [
    "- На экран с товаром проходят 57% пользователей от количества пользователей с главного экрана\n",
    "- Оформлять заказ начали 42% пользователей от количества пользователей, попавших на экран с товаром\n",
    "- Оплатили заказ только 26% пользователей от количества пользователей, начавших его оформлять"
   ]
  },
  {
   "cell_type": "markdown",
   "metadata": {
    "id": "owylFrFIAJfk"
   },
   "source": [
    "Для наглядности построим график воронки с помощью plotly"
   ]
  },
  {
   "cell_type": "code",
   "execution_count": 42,
   "metadata": {
    "colab": {
     "base_uri": "https://localhost:8080/",
     "height": 1000
    },
    "executionInfo": {
     "elapsed": 607,
     "status": "error",
     "timestamp": 1628873532213,
     "user": {
      "displayName": "Арсен",
      "photoUrl": "https://lh3.googleusercontent.com/a-/AOh14GjPCG8vWVVB43Ax1wpE_vEPLjGP-XH0UWc12vB7wg=s64",
      "userId": "17661651445996378067"
     },
     "user_tz": -180
    },
    "id": "yirrfZX8AJfk",
    "outputId": "2523fd03-2668-4b35-c3f6-501a2ee17383"
   },
   "outputs": [
    {
     "data": {
      "image/svg+xml": [
       "<svg class=\"main-svg\" xmlns=\"http://www.w3.org/2000/svg\" xmlns:xlink=\"http://www.w3.org/1999/xlink\" width=\"700\" height=\"500\" style=\"\" viewBox=\"0 0 700 500\"><rect x=\"0\" y=\"0\" width=\"700\" height=\"500\" style=\"fill: rgb(255, 255, 255); fill-opacity: 1;\"/><defs id=\"defs-87e3ba\"><g class=\"clips\"><clipPath id=\"clip87e3baxyplot\" class=\"plotclip\"><rect width=\"451\" height=\"320\"/></clipPath><clipPath class=\"axesclip\" id=\"clip87e3bax\"><rect x=\"169\" y=\"0\" width=\"451\" height=\"500\"/></clipPath><clipPath class=\"axesclip\" id=\"clip87e3bay\"><rect x=\"0\" y=\"100\" width=\"700\" height=\"320\"/></clipPath><clipPath class=\"axesclip\" id=\"clip87e3baxy\"><rect x=\"169\" y=\"100\" width=\"451\" height=\"320\"/></clipPath></g><g class=\"gradients\"/><g class=\"patterns\"/></defs><g class=\"bglayer\"><rect class=\"bg\" x=\"169\" y=\"100\" width=\"451\" height=\"320\" style=\"fill: rgb(229, 236, 246); fill-opacity: 1; stroke-width: 0;\"/></g><g class=\"layer-below\"><g class=\"imagelayer\"/><g class=\"shapelayer\"/></g><g class=\"cartesianlayer\"><g class=\"subplot xy\"><g class=\"layer-subplot\"><g class=\"shapelayer\"/><g class=\"imagelayer\"/></g><g class=\"gridlayer\"><g class=\"x\"/><g class=\"y\"/></g><g class=\"zerolinelayer\"/><path class=\"xlines-below\"/><path class=\"ylines-below\"/><g class=\"overlines-below\"/><g class=\"xaxislayer-below\"/><g class=\"yaxislayer-below\"/><g class=\"overaxes-below\"/><g class=\"plot\" transform=\"translate(169,100)\" clip-path=\"url(#clip87e3baxyplot)\"><g class=\"funnellayer mlayer\"><g class=\"trace bars\" style=\"opacity: 1;\"><g class=\"regions\"><g class=\"region\"><path d=\"M22.55,72L110.58,88H340.42L428.45,72Z\" style=\"stroke-width: 0; fill: rgb(99, 110, 250); fill-opacity: 0.5;\"/></g><g class=\"region\"><path d=\"M110.58,152L177.16,168H273.84L340.42,152Z\" style=\"stroke-width: 0; fill: rgb(99, 110, 250); fill-opacity: 0.5;\"/></g><g class=\"region\"><path d=\"M177.16,232L213.08,248H237.92L273.84,232Z\" style=\"stroke-width: 0; fill: rgb(99, 110, 250); fill-opacity: 0.5;\"/></g><g class=\"region\"><path d=\"M0,0Z\" style=\"stroke-width: 0; fill: rgb(99, 110, 250); fill-opacity: 0.5;\"/></g></g><g class=\"points\"><g class=\"point\"><path d=\"M22.55,8V72H428.45V8Z\" style=\"vector-effect: non-scaling-stroke; fill: rgb(99, 110, 250); fill-opacity: 1; stroke: rgb(68, 68, 68); stroke-opacity: 1; stroke-width: 0px; opacity: 1;\"/><text class=\"bartext bartext-inside\" text-anchor=\"middle\" data-notex=\"1\" x=\"0\" y=\"0\" style=\"font-family: 'Open Sans', verdana, arial, sans-serif; font-size: 12px; fill: rgb(255, 255, 255); fill-opacity: 1; white-space: pre;\" transform=\"translate(225.3125,44.5)\">7419</text></g><g class=\"point\"><path d=\"M110.58,88V152H340.42V88Z\" style=\"vector-effect: non-scaling-stroke; fill: rgb(99, 110, 250); fill-opacity: 1; stroke: rgb(68, 68, 68); stroke-opacity: 1; stroke-width: 0px; opacity: 1;\"/><text class=\"bartext bartext-inside\" text-anchor=\"middle\" data-notex=\"1\" x=\"0\" y=\"0\" style=\"font-family: 'Open Sans', verdana, arial, sans-serif; font-size: 12px; fill: rgb(255, 255, 255); fill-opacity: 1; white-space: pre;\" transform=\"translate(225.5,124.5)\">4201</text></g><g class=\"point\"><path d=\"M177.16,168V232H273.84V168Z\" style=\"vector-effect: non-scaling-stroke; fill: rgb(99, 110, 250); fill-opacity: 1; stroke: rgb(68, 68, 68); stroke-opacity: 1; stroke-width: 0px; opacity: 1;\"/><text class=\"bartext bartext-inside\" text-anchor=\"middle\" data-notex=\"1\" x=\"0\" y=\"0\" style=\"font-family: 'Open Sans', verdana, arial, sans-serif; font-size: 12px; fill: rgb(255, 255, 255); fill-opacity: 1; white-space: pre;\" transform=\"translate(225.3125,204.5)\">1767</text></g><g class=\"point\"><path d=\"M213.08,248V312H237.92V248Z\" style=\"vector-effect: non-scaling-stroke; fill: rgb(99, 110, 250); fill-opacity: 1; stroke: rgb(68, 68, 68); stroke-opacity: 1; stroke-width: 0px; opacity: 1;\"/><text class=\"bartext bartext-inside\" text-anchor=\"middle\" data-notex=\"1\" x=\"0\" y=\"0\" style=\"font-family: 'Open Sans', verdana, arial, sans-serif; font-size: 12px; fill: rgb(255, 255, 255); fill-opacity: 1; white-space: pre;\" transform=\"translate(225.34826845637585,283.64155704697987)scale(0.809234899328858)\">454</text></g></g></g></g></g><g class=\"overplot\"/><path class=\"xlines-above crisp\" d=\"M0,0\" style=\"fill: none;\"/><path class=\"ylines-above crisp\" d=\"M0,0\" style=\"fill: none;\"/><g class=\"overlines-above\"/><g class=\"xaxislayer-above\"/><g class=\"yaxislayer-above\"><g class=\"ytick\"><text text-anchor=\"end\" x=\"168\" y=\"4.199999999999999\" transform=\"translate(0,380)\" style=\"font-family: 'Open Sans', verdana, arial, sans-serif; font-size: 12px; fill: rgb(42, 63, 95); fill-opacity: 1; white-space: pre; opacity: 1;\">Оплатили</text></g><g class=\"ytick\"><text text-anchor=\"end\" x=\"168\" y=\"4.199999999999999\" transform=\"translate(0,300)\" style=\"font-family: 'Open Sans', verdana, arial, sans-serif; font-size: 12px; fill: rgb(42, 63, 95); fill-opacity: 1; white-space: pre; opacity: 1;\">Начали оформлять заказ</text></g><g class=\"ytick\"><text text-anchor=\"end\" x=\"168\" y=\"4.199999999999999\" transform=\"translate(0,220)\" style=\"font-family: 'Open Sans', verdana, arial, sans-serif; font-size: 12px; fill: rgb(42, 63, 95); fill-opacity: 1; white-space: pre; opacity: 1;\">Экран с товаром</text></g><g class=\"ytick\"><text text-anchor=\"end\" x=\"168\" y=\"4.199999999999999\" transform=\"translate(0,140)\" style=\"font-family: 'Open Sans', verdana, arial, sans-serif; font-size: 12px; fill: rgb(42, 63, 95); fill-opacity: 1; white-space: pre; opacity: 1;\">Главный экран</text></g></g><g class=\"overaxes-above\"/></g></g><g class=\"polarlayer\"/><g class=\"ternarylayer\"/><g class=\"geolayer\"/><g class=\"funnelarealayer\"/><g class=\"pielayer\"/><g class=\"iciclelayer\"/><g class=\"treemaplayer\"/><g class=\"sunburstlayer\"/><g class=\"glimages\"/><defs id=\"topdefs-87e3ba\"><g class=\"clips\"/></defs><g class=\"layer-above\"><g class=\"imagelayer\"/><g class=\"shapelayer\"/></g><g class=\"infolayer\"><g class=\"g-gtitle\"/><g class=\"g-ytitle\"/></g></svg>"
      ]
     },
     "metadata": {},
     "output_type": "display_data"
    }
   ],
   "source": [
    "funnel = go.Figure(\n",
    "    go.Funnel(\n",
    "        y=[\n",
    "            'Главный экран',\n",
    "            'Экран с товаром',\n",
    "            'Начали оформлять заказ',\n",
    "            'Оплатили'],\n",
    "        x=[\n",
    "            n_main_screen_appear,\n",
    "            n_offers_screen_appear,\n",
    "            n_cart_screen_appear,\n",
    "            n_payment_screen_successful]\n",
    "    )\n",
    ")\n",
    "funnel.show()"
   ]
  },
  {
   "cell_type": "markdown",
   "metadata": {
    "id": "-v1Ze4mEAJfk"
   },
   "source": [
    "При наведение на каждый шаг воронки мы видим:\n",
    "1. Количество пользователей на данном шаге и название события\n",
    "2. Процент числа пользователей на данном шаге от числа пользователей на первом шаге (% of initial)\n",
    "3. Процент числа пользователей на данном шаге от числа пользователей на предыдущем шаге (% of previous)\n",
    "4. Доля пользователей на каждом шаге от общего количества пользователей"
   ]
  },
  {
   "cell_type": "markdown",
   "metadata": {
    "id": "7xtznlVOAJfl"
   },
   "source": [
    "Анализ нестрогой воронки"
   ]
  },
  {
   "cell_type": "code",
   "execution_count": 43,
   "metadata": {
    "id": "yUjzN1BsAJfl"
   },
   "outputs": [
    {
     "data": {
      "text/html": [
       "<div>\n",
       "<style scoped>\n",
       "    .dataframe tbody tr th:only-of-type {\n",
       "        vertical-align: middle;\n",
       "    }\n",
       "\n",
       "    .dataframe tbody tr th {\n",
       "        vertical-align: top;\n",
       "    }\n",
       "\n",
       "    .dataframe thead th {\n",
       "        text-align: right;\n",
       "    }\n",
       "</style>\n",
       "<table border=\"1\" class=\"dataframe\">\n",
       "  <thead>\n",
       "    <tr style=\"text-align: right;\">\n",
       "      <th></th>\n",
       "      <th>count_users</th>\n",
       "      <th>ratio_of_total</th>\n",
       "    </tr>\n",
       "    <tr>\n",
       "      <th>event_name</th>\n",
       "      <th></th>\n",
       "      <th></th>\n",
       "    </tr>\n",
       "  </thead>\n",
       "  <tbody>\n",
       "    <tr>\n",
       "      <th>MainScreenAppear</th>\n",
       "      <td>7419</td>\n",
       "      <td>0.985</td>\n",
       "    </tr>\n",
       "    <tr>\n",
       "      <th>OffersScreenAppear</th>\n",
       "      <td>4593</td>\n",
       "      <td>0.610</td>\n",
       "    </tr>\n",
       "    <tr>\n",
       "      <th>CartScreenAppear</th>\n",
       "      <td>3734</td>\n",
       "      <td>0.496</td>\n",
       "    </tr>\n",
       "    <tr>\n",
       "      <th>PaymentScreenSuccessful</th>\n",
       "      <td>3539</td>\n",
       "      <td>0.470</td>\n",
       "    </tr>\n",
       "  </tbody>\n",
       "</table>\n",
       "</div>"
      ],
      "text/plain": [
       "                         count_users  ratio_of_total\n",
       "event_name                                          \n",
       "MainScreenAppear                7419           0.985\n",
       "OffersScreenAppear              4593           0.610\n",
       "CartScreenAppear                3734           0.496\n",
       "PaymentScreenSuccessful         3539           0.470"
      ]
     },
     "execution_count": 43,
     "metadata": {},
     "output_type": "execute_result"
    }
   ],
   "source": [
    "users_by_event = users_by_event.query('index != \"Tutorial\"')\n",
    "users_by_event"
   ]
  },
  {
   "cell_type": "code",
   "execution_count": 44,
   "metadata": {
    "id": "m80Ngr47AJfl"
   },
   "outputs": [
    {
     "data": {
      "image/svg+xml": [
       "<svg class=\"main-svg\" xmlns=\"http://www.w3.org/2000/svg\" xmlns:xlink=\"http://www.w3.org/1999/xlink\" width=\"700\" height=\"500\" style=\"\" viewBox=\"0 0 700 500\"><rect x=\"0\" y=\"0\" width=\"700\" height=\"500\" style=\"fill: rgb(255, 255, 255); fill-opacity: 1;\"/><defs id=\"defs-c90cd0\"><g class=\"clips\"><clipPath id=\"clipc90cd0xyplot\" class=\"plotclip\"><rect width=\"451\" height=\"320\"/></clipPath><clipPath class=\"axesclip\" id=\"clipc90cd0x\"><rect x=\"169\" y=\"0\" width=\"451\" height=\"500\"/></clipPath><clipPath class=\"axesclip\" id=\"clipc90cd0y\"><rect x=\"0\" y=\"100\" width=\"700\" height=\"320\"/></clipPath><clipPath class=\"axesclip\" id=\"clipc90cd0xy\"><rect x=\"169\" y=\"100\" width=\"451\" height=\"320\"/></clipPath></g><g class=\"gradients\"/><g class=\"patterns\"/></defs><g class=\"bglayer\"><rect class=\"bg\" x=\"169\" y=\"100\" width=\"451\" height=\"320\" style=\"fill: rgb(229, 236, 246); fill-opacity: 1; stroke-width: 0;\"/></g><g class=\"layer-below\"><g class=\"imagelayer\"/><g class=\"shapelayer\"/></g><g class=\"cartesianlayer\"><g class=\"subplot xy\"><g class=\"layer-subplot\"><g class=\"shapelayer\"/><g class=\"imagelayer\"/></g><g class=\"gridlayer\"><g class=\"x\"/><g class=\"y\"/></g><g class=\"zerolinelayer\"/><path class=\"xlines-below\"/><path class=\"ylines-below\"/><g class=\"overlines-below\"/><g class=\"xaxislayer-below\"/><g class=\"yaxislayer-below\"/><g class=\"overaxes-below\"/><g class=\"plot\" transform=\"translate(169,100)\" clip-path=\"url(#clipc90cd0xyplot)\"><g class=\"funnellayer mlayer\"><g class=\"trace bars\" style=\"opacity: 1;\"><g class=\"regions\"><g class=\"region\"><path d=\"M22.55,72L99.86,88H351.14L428.45,72Z\" style=\"stroke-width: 0; fill: rgb(99, 110, 250); fill-opacity: 0.5;\"/></g><g class=\"region\"><path d=\"M99.86,152L123.35,168H327.65L351.14,152Z\" style=\"stroke-width: 0; fill: rgb(99, 110, 250); fill-opacity: 0.5;\"/></g><g class=\"region\"><path d=\"M123.35,232L128.69,248H322.31L327.65,232Z\" style=\"stroke-width: 0; fill: rgb(99, 110, 250); fill-opacity: 0.5;\"/></g><g class=\"region\"><path d=\"M0,0Z\" style=\"stroke-width: 0; fill: rgb(99, 110, 250); fill-opacity: 0.5;\"/></g></g><g class=\"points\"><g class=\"point\"><path d=\"M22.55,8V72H428.45V8Z\" style=\"vector-effect: non-scaling-stroke; fill: rgb(99, 110, 250); fill-opacity: 1; stroke: rgb(68, 68, 68); stroke-opacity: 1; stroke-width: 0px; opacity: 1;\"/><text class=\"bartext bartext-inside\" text-anchor=\"middle\" data-notex=\"1\" x=\"0\" y=\"0\" style=\"font-family: 'Open Sans', verdana, arial, sans-serif; font-size: 12px; fill: rgb(255, 255, 255); fill-opacity: 1; white-space: pre;\" transform=\"translate(225.3125,44.5)\">7419</text></g><g class=\"point\"><path d=\"M99.86,88V152H351.14V88Z\" style=\"vector-effect: non-scaling-stroke; fill: rgb(99, 110, 250); fill-opacity: 1; stroke: rgb(68, 68, 68); stroke-opacity: 1; stroke-width: 0px; opacity: 1;\"/><text class=\"bartext bartext-inside\" text-anchor=\"middle\" data-notex=\"1\" x=\"0\" y=\"0\" style=\"font-family: 'Open Sans', verdana, arial, sans-serif; font-size: 12px; fill: rgb(255, 255, 255); fill-opacity: 1; white-space: pre;\" transform=\"translate(225.5,124.5)\">4593</text></g><g class=\"point\"><path d=\"M123.35,168V232H327.65V168Z\" style=\"vector-effect: non-scaling-stroke; fill: rgb(99, 110, 250); fill-opacity: 1; stroke: rgb(68, 68, 68); stroke-opacity: 1; stroke-width: 0px; opacity: 1;\"/><text class=\"bartext bartext-inside\" text-anchor=\"middle\" data-notex=\"1\" x=\"0\" y=\"0\" style=\"font-family: 'Open Sans', verdana, arial, sans-serif; font-size: 12px; fill: rgb(255, 255, 255); fill-opacity: 1; white-space: pre;\" transform=\"translate(225.3125,204.5)\">3734</text></g><g class=\"point\"><path d=\"M128.69,248V312H322.31V248Z\" style=\"vector-effect: non-scaling-stroke; fill: rgb(99, 110, 250); fill-opacity: 1; stroke: rgb(68, 68, 68); stroke-opacity: 1; stroke-width: 0px; opacity: 1;\"/><text class=\"bartext bartext-inside\" text-anchor=\"middle\" data-notex=\"1\" x=\"0\" y=\"0\" style=\"font-family: 'Open Sans', verdana, arial, sans-serif; font-size: 12px; fill: rgb(255, 255, 255); fill-opacity: 1; white-space: pre;\" transform=\"translate(225.3125,284.5)\">3539</text></g></g></g></g></g><g class=\"overplot\"/><path class=\"xlines-above crisp\" d=\"M0,0\" style=\"fill: none;\"/><path class=\"ylines-above crisp\" d=\"M0,0\" style=\"fill: none;\"/><g class=\"overlines-above\"/><g class=\"xaxislayer-above\"/><g class=\"yaxislayer-above\"><g class=\"ytick\"><text text-anchor=\"end\" x=\"168\" y=\"4.199999999999999\" transform=\"translate(0,380)\" style=\"font-family: 'Open Sans', verdana, arial, sans-serif; font-size: 12px; fill: rgb(42, 63, 95); fill-opacity: 1; white-space: pre; opacity: 1;\">Оплатили</text></g><g class=\"ytick\"><text text-anchor=\"end\" x=\"168\" y=\"4.199999999999999\" transform=\"translate(0,300)\" style=\"font-family: 'Open Sans', verdana, arial, sans-serif; font-size: 12px; fill: rgb(42, 63, 95); fill-opacity: 1; white-space: pre; opacity: 1;\">Начали оформлять заказ</text></g><g class=\"ytick\"><text text-anchor=\"end\" x=\"168\" y=\"4.199999999999999\" transform=\"translate(0,220)\" style=\"font-family: 'Open Sans', verdana, arial, sans-serif; font-size: 12px; fill: rgb(42, 63, 95); fill-opacity: 1; white-space: pre; opacity: 1;\">Экран с товаром</text></g><g class=\"ytick\"><text text-anchor=\"end\" x=\"168\" y=\"4.199999999999999\" transform=\"translate(0,140)\" style=\"font-family: 'Open Sans', verdana, arial, sans-serif; font-size: 12px; fill: rgb(42, 63, 95); fill-opacity: 1; white-space: pre; opacity: 1;\">Главный экран</text></g></g><g class=\"overaxes-above\"/></g></g><g class=\"polarlayer\"/><g class=\"ternarylayer\"/><g class=\"geolayer\"/><g class=\"funnelarealayer\"/><g class=\"pielayer\"/><g class=\"iciclelayer\"/><g class=\"treemaplayer\"/><g class=\"sunburstlayer\"/><g class=\"glimages\"/><defs id=\"topdefs-c90cd0\"><g class=\"clips\"/></defs><g class=\"layer-above\"><g class=\"imagelayer\"/><g class=\"shapelayer\"/></g><g class=\"infolayer\"><g class=\"g-gtitle\"/><g class=\"g-ytitle\"/></g></svg>"
      ]
     },
     "metadata": {},
     "output_type": "display_data"
    }
   ],
   "source": [
    "fig = go.Figure(\n",
    "    go.Funnel(\n",
    "        y=[\n",
    "            'Главный экран',\n",
    "            'Экран с товаром',\n",
    "            'Начали оформлять заказ',\n",
    "            'Оплатили'],\n",
    "        x=[\n",
    "            users_by_event.iloc[0]['count_users'],\n",
    "            users_by_event.iloc[1]['count_users'],\n",
    "            users_by_event.iloc[2]['count_users'],\n",
    "            users_by_event.iloc[3]['count_users']]\n",
    "    )\n",
    ")\n",
    "fig.show()"
   ]
  },
  {
   "cell_type": "markdown",
   "metadata": {
    "id": "SsSI7eYhAJfl"
   },
   "source": [
    "От общего количества пользователей проходят:\n",
    "- На главный экран - 98.5% пользователей\n",
    "- На экран с товаром - 61% пользователей\n",
    "- Оформлять заказ начали 50% пользователей\n",
    "- Оплатили заказ - 47% пользователей"
   ]
  },
  {
   "cell_type": "markdown",
   "metadata": {
    "id": "GCLT5ZstAJfl"
   },
   "source": [
    "### На каком шаге теряем больше всего пользователей?"
   ]
  },
  {
   "cell_type": "markdown",
   "metadata": {
    "id": "yRkF91hnAJfm"
   },
   "source": [
    "Строгая воронка"
   ]
  },
  {
   "cell_type": "markdown",
   "metadata": {
    "id": "nApUvjrLAJfm"
   },
   "source": [
    "Отобразим график воронки еще раз"
   ]
  },
  {
   "cell_type": "code",
   "execution_count": 45,
   "metadata": {
    "id": "zi7z1kDCAJfm"
   },
   "outputs": [
    {
     "data": {
      "image/svg+xml": [
       "<svg class=\"main-svg\" xmlns=\"http://www.w3.org/2000/svg\" xmlns:xlink=\"http://www.w3.org/1999/xlink\" width=\"700\" height=\"500\" style=\"\" viewBox=\"0 0 700 500\"><rect x=\"0\" y=\"0\" width=\"700\" height=\"500\" style=\"fill: rgb(255, 255, 255); fill-opacity: 1;\"/><defs id=\"defs-c72fdf\"><g class=\"clips\"><clipPath id=\"clipc72fdfxyplot\" class=\"plotclip\"><rect width=\"451\" height=\"320\"/></clipPath><clipPath class=\"axesclip\" id=\"clipc72fdfx\"><rect x=\"169\" y=\"0\" width=\"451\" height=\"500\"/></clipPath><clipPath class=\"axesclip\" id=\"clipc72fdfy\"><rect x=\"0\" y=\"100\" width=\"700\" height=\"320\"/></clipPath><clipPath class=\"axesclip\" id=\"clipc72fdfxy\"><rect x=\"169\" y=\"100\" width=\"451\" height=\"320\"/></clipPath></g><g class=\"gradients\"/><g class=\"patterns\"/></defs><g class=\"bglayer\"><rect class=\"bg\" x=\"169\" y=\"100\" width=\"451\" height=\"320\" style=\"fill: rgb(229, 236, 246); fill-opacity: 1; stroke-width: 0;\"/></g><g class=\"layer-below\"><g class=\"imagelayer\"/><g class=\"shapelayer\"/></g><g class=\"cartesianlayer\"><g class=\"subplot xy\"><g class=\"layer-subplot\"><g class=\"shapelayer\"/><g class=\"imagelayer\"/></g><g class=\"gridlayer\"><g class=\"x\"/><g class=\"y\"/></g><g class=\"zerolinelayer\"/><path class=\"xlines-below\"/><path class=\"ylines-below\"/><g class=\"overlines-below\"/><g class=\"xaxislayer-below\"/><g class=\"yaxislayer-below\"/><g class=\"overaxes-below\"/><g class=\"plot\" transform=\"translate(169,100)\" clip-path=\"url(#clipc72fdfxyplot)\"><g class=\"funnellayer mlayer\"><g class=\"trace bars\" style=\"opacity: 1;\"><g class=\"regions\"><g class=\"region\"><path d=\"M22.55,72L110.58,88H340.42L428.45,72Z\" style=\"stroke-width: 0; fill: rgb(99, 110, 250); fill-opacity: 0.5;\"/></g><g class=\"region\"><path d=\"M110.58,152L177.16,168H273.84L340.42,152Z\" style=\"stroke-width: 0; fill: rgb(99, 110, 250); fill-opacity: 0.5;\"/></g><g class=\"region\"><path d=\"M177.16,232L213.08,248H237.92L273.84,232Z\" style=\"stroke-width: 0; fill: rgb(99, 110, 250); fill-opacity: 0.5;\"/></g><g class=\"region\"><path d=\"M0,0Z\" style=\"stroke-width: 0; fill: rgb(99, 110, 250); fill-opacity: 0.5;\"/></g></g><g class=\"points\"><g class=\"point\"><path d=\"M22.55,8V72H428.45V8Z\" style=\"vector-effect: non-scaling-stroke; fill: rgb(99, 110, 250); fill-opacity: 1; stroke: rgb(68, 68, 68); stroke-opacity: 1; stroke-width: 0px; opacity: 1;\"/><text class=\"bartext bartext-inside\" text-anchor=\"middle\" data-notex=\"1\" x=\"0\" y=\"0\" style=\"font-family: 'Open Sans', verdana, arial, sans-serif; font-size: 12px; fill: rgb(255, 255, 255); fill-opacity: 1; white-space: pre;\" transform=\"translate(225.3125,44.5)\">7419</text></g><g class=\"point\"><path d=\"M110.58,88V152H340.42V88Z\" style=\"vector-effect: non-scaling-stroke; fill: rgb(99, 110, 250); fill-opacity: 1; stroke: rgb(68, 68, 68); stroke-opacity: 1; stroke-width: 0px; opacity: 1;\"/><text class=\"bartext bartext-inside\" text-anchor=\"middle\" data-notex=\"1\" x=\"0\" y=\"0\" style=\"font-family: 'Open Sans', verdana, arial, sans-serif; font-size: 12px; fill: rgb(255, 255, 255); fill-opacity: 1; white-space: pre;\" transform=\"translate(225.5,124.5)\">4201</text></g><g class=\"point\"><path d=\"M177.16,168V232H273.84V168Z\" style=\"vector-effect: non-scaling-stroke; fill: rgb(99, 110, 250); fill-opacity: 1; stroke: rgb(68, 68, 68); stroke-opacity: 1; stroke-width: 0px; opacity: 1;\"/><text class=\"bartext bartext-inside\" text-anchor=\"middle\" data-notex=\"1\" x=\"0\" y=\"0\" style=\"font-family: 'Open Sans', verdana, arial, sans-serif; font-size: 12px; fill: rgb(255, 255, 255); fill-opacity: 1; white-space: pre;\" transform=\"translate(225.3125,204.5)\">1767</text></g><g class=\"point\"><path d=\"M213.08,248V312H237.92V248Z\" style=\"vector-effect: non-scaling-stroke; fill: rgb(99, 110, 250); fill-opacity: 1; stroke: rgb(68, 68, 68); stroke-opacity: 1; stroke-width: 0px; opacity: 1;\"/><text class=\"bartext bartext-inside\" text-anchor=\"middle\" data-notex=\"1\" x=\"0\" y=\"0\" style=\"font-family: 'Open Sans', verdana, arial, sans-serif; font-size: 12px; fill: rgb(255, 255, 255); fill-opacity: 1; white-space: pre;\" transform=\"translate(225.34826845637585,283.64155704697987)scale(0.809234899328858)\">454</text></g></g></g></g></g><g class=\"overplot\"/><path class=\"xlines-above crisp\" d=\"M0,0\" style=\"fill: none;\"/><path class=\"ylines-above crisp\" d=\"M0,0\" style=\"fill: none;\"/><g class=\"overlines-above\"/><g class=\"xaxislayer-above\"/><g class=\"yaxislayer-above\"><g class=\"ytick\"><text text-anchor=\"end\" x=\"168\" y=\"4.199999999999999\" transform=\"translate(0,380)\" style=\"font-family: 'Open Sans', verdana, arial, sans-serif; font-size: 12px; fill: rgb(42, 63, 95); fill-opacity: 1; white-space: pre; opacity: 1;\">Оплатили</text></g><g class=\"ytick\"><text text-anchor=\"end\" x=\"168\" y=\"4.199999999999999\" transform=\"translate(0,300)\" style=\"font-family: 'Open Sans', verdana, arial, sans-serif; font-size: 12px; fill: rgb(42, 63, 95); fill-opacity: 1; white-space: pre; opacity: 1;\">Начали оформлять заказ</text></g><g class=\"ytick\"><text text-anchor=\"end\" x=\"168\" y=\"4.199999999999999\" transform=\"translate(0,220)\" style=\"font-family: 'Open Sans', verdana, arial, sans-serif; font-size: 12px; fill: rgb(42, 63, 95); fill-opacity: 1; white-space: pre; opacity: 1;\">Экран с товаром</text></g><g class=\"ytick\"><text text-anchor=\"end\" x=\"168\" y=\"4.199999999999999\" transform=\"translate(0,140)\" style=\"font-family: 'Open Sans', verdana, arial, sans-serif; font-size: 12px; fill: rgb(42, 63, 95); fill-opacity: 1; white-space: pre; opacity: 1;\">Главный экран</text></g></g><g class=\"overaxes-above\"/></g></g><g class=\"polarlayer\"/><g class=\"ternarylayer\"/><g class=\"geolayer\"/><g class=\"funnelarealayer\"/><g class=\"pielayer\"/><g class=\"iciclelayer\"/><g class=\"treemaplayer\"/><g class=\"sunburstlayer\"/><g class=\"glimages\"/><defs id=\"topdefs-c72fdf\"><g class=\"clips\"/></defs><g class=\"layer-above\"><g class=\"imagelayer\"/><g class=\"shapelayer\"/></g><g class=\"infolayer\"><g class=\"g-gtitle\"/><g class=\"g-ytitle\"/></g></svg>"
      ]
     },
     "metadata": {},
     "output_type": "display_data"
    }
   ],
   "source": [
    "funnel.show()"
   ]
  },
  {
   "cell_type": "markdown",
   "metadata": {
    "id": "0qnPveSFAJfm"
   },
   "source": [
    "По шагам:\n",
    "1. 7419 пользователей - 100%.\n",
    "2. 4201 пользователей (-3218) - потеряли 44% пользователей с 1 шага\n",
    "3. 1767 пользователей (-2434) - потеряли 58% пользователей с 2 шага\n",
    "4. 454 пользователей (-1313) - потеряли 75% пользователей с 3 шага"
   ]
  },
  {
   "cell_type": "markdown",
   "metadata": {
    "id": "kG5B12tCAJfm"
   },
   "source": [
    "В абсолютных показателях мы теряем больше всего пользователей на 2 шаге. Однако, думаю, здесь правильнее будет рассматривать относительный показатель, и по нему мы теряем больше всего пользователей на последнем шаге - 75%. Где-то у нас проблема с оплатой товара..."
   ]
  },
  {
   "cell_type": "markdown",
   "metadata": {
    "id": "z9o3nOtHAJfm"
   },
   "source": [
    "Нестрогая воронка"
   ]
  },
  {
   "cell_type": "code",
   "execution_count": 46,
   "metadata": {
    "id": "3KsLValAAJfm"
   },
   "outputs": [
    {
     "data": {
      "text/html": [
       "<div>\n",
       "<style scoped>\n",
       "    .dataframe tbody tr th:only-of-type {\n",
       "        vertical-align: middle;\n",
       "    }\n",
       "\n",
       "    .dataframe tbody tr th {\n",
       "        vertical-align: top;\n",
       "    }\n",
       "\n",
       "    .dataframe thead th {\n",
       "        text-align: right;\n",
       "    }\n",
       "</style>\n",
       "<table border=\"1\" class=\"dataframe\">\n",
       "  <thead>\n",
       "    <tr style=\"text-align: right;\">\n",
       "      <th></th>\n",
       "      <th>count_users</th>\n",
       "      <th>ratio_of_total</th>\n",
       "    </tr>\n",
       "    <tr>\n",
       "      <th>event_name</th>\n",
       "      <th></th>\n",
       "      <th></th>\n",
       "    </tr>\n",
       "  </thead>\n",
       "  <tbody>\n",
       "    <tr>\n",
       "      <th>MainScreenAppear</th>\n",
       "      <td>7419</td>\n",
       "      <td>0.985</td>\n",
       "    </tr>\n",
       "    <tr>\n",
       "      <th>OffersScreenAppear</th>\n",
       "      <td>4593</td>\n",
       "      <td>0.610</td>\n",
       "    </tr>\n",
       "    <tr>\n",
       "      <th>CartScreenAppear</th>\n",
       "      <td>3734</td>\n",
       "      <td>0.496</td>\n",
       "    </tr>\n",
       "    <tr>\n",
       "      <th>PaymentScreenSuccessful</th>\n",
       "      <td>3539</td>\n",
       "      <td>0.470</td>\n",
       "    </tr>\n",
       "  </tbody>\n",
       "</table>\n",
       "</div>"
      ],
      "text/plain": [
       "                         count_users  ratio_of_total\n",
       "event_name                                          \n",
       "MainScreenAppear                7419           0.985\n",
       "OffersScreenAppear              4593           0.610\n",
       "CartScreenAppear                3734           0.496\n",
       "PaymentScreenSuccessful         3539           0.470"
      ]
     },
     "execution_count": 46,
     "metadata": {},
     "output_type": "execute_result"
    }
   ],
   "source": [
    "users_by_event"
   ]
  },
  {
   "cell_type": "markdown",
   "metadata": {
    "id": "d7em_IdZAJfm"
   },
   "source": [
    "Потеряли пользователей от общего количества:\n",
    "1. 7419 пользователей (-115) - 98.5% от общего числа пользователей.\n",
    "2. 4593 пользователей (-2941) - потеряли 39% пользователей\n",
    "3. 3734 пользователей (-3800) - потеряли 50% пользователей\n",
    "4. 3539 пользователей (-3995) - потеряли 53% пользователей"
   ]
  },
  {
   "cell_type": "markdown",
   "metadata": {
    "id": "7flJorvCAJfn"
   },
   "source": [
    "Больше всего пользователей теряем на шаге с оплатой товара - 53% (3995) от общего числа пользователей"
   ]
  },
  {
   "cell_type": "markdown",
   "metadata": {
    "id": "1z6L2yXRAJfn"
   },
   "source": [
    "### Какая доля пользователей доходит от первого события до оплаты?"
   ]
  },
  {
   "cell_type": "markdown",
   "metadata": {
    "id": "30KwhQAMD0o_"
   },
   "source": [
    "Строгая воронка"
   ]
  },
  {
   "cell_type": "code",
   "execution_count": 47,
   "metadata": {
    "id": "tw7kybfeD1sf"
   },
   "outputs": [
    {
     "data": {
      "image/svg+xml": [
       "<svg class=\"main-svg\" xmlns=\"http://www.w3.org/2000/svg\" xmlns:xlink=\"http://www.w3.org/1999/xlink\" width=\"700\" height=\"500\" style=\"\" viewBox=\"0 0 700 500\"><rect x=\"0\" y=\"0\" width=\"700\" height=\"500\" style=\"fill: rgb(255, 255, 255); fill-opacity: 1;\"/><defs id=\"defs-d6a07c\"><g class=\"clips\"><clipPath id=\"clipd6a07cxyplot\" class=\"plotclip\"><rect width=\"451\" height=\"320\"/></clipPath><clipPath class=\"axesclip\" id=\"clipd6a07cx\"><rect x=\"169\" y=\"0\" width=\"451\" height=\"500\"/></clipPath><clipPath class=\"axesclip\" id=\"clipd6a07cy\"><rect x=\"0\" y=\"100\" width=\"700\" height=\"320\"/></clipPath><clipPath class=\"axesclip\" id=\"clipd6a07cxy\"><rect x=\"169\" y=\"100\" width=\"451\" height=\"320\"/></clipPath></g><g class=\"gradients\"/><g class=\"patterns\"/></defs><g class=\"bglayer\"><rect class=\"bg\" x=\"169\" y=\"100\" width=\"451\" height=\"320\" style=\"fill: rgb(229, 236, 246); fill-opacity: 1; stroke-width: 0;\"/></g><g class=\"layer-below\"><g class=\"imagelayer\"/><g class=\"shapelayer\"/></g><g class=\"cartesianlayer\"><g class=\"subplot xy\"><g class=\"layer-subplot\"><g class=\"shapelayer\"/><g class=\"imagelayer\"/></g><g class=\"gridlayer\"><g class=\"x\"/><g class=\"y\"/></g><g class=\"zerolinelayer\"/><path class=\"xlines-below\"/><path class=\"ylines-below\"/><g class=\"overlines-below\"/><g class=\"xaxislayer-below\"/><g class=\"yaxislayer-below\"/><g class=\"overaxes-below\"/><g class=\"plot\" transform=\"translate(169,100)\" clip-path=\"url(#clipd6a07cxyplot)\"><g class=\"funnellayer mlayer\"><g class=\"trace bars\" style=\"opacity: 1;\"><g class=\"regions\"><g class=\"region\"><path d=\"M22.55,72L110.58,88H340.42L428.45,72Z\" style=\"stroke-width: 0; fill: rgb(99, 110, 250); fill-opacity: 0.5;\"/></g><g class=\"region\"><path d=\"M110.58,152L177.16,168H273.84L340.42,152Z\" style=\"stroke-width: 0; fill: rgb(99, 110, 250); fill-opacity: 0.5;\"/></g><g class=\"region\"><path d=\"M177.16,232L213.08,248H237.92L273.84,232Z\" style=\"stroke-width: 0; fill: rgb(99, 110, 250); fill-opacity: 0.5;\"/></g><g class=\"region\"><path d=\"M0,0Z\" style=\"stroke-width: 0; fill: rgb(99, 110, 250); fill-opacity: 0.5;\"/></g></g><g class=\"points\"><g class=\"point\"><path d=\"M22.55,8V72H428.45V8Z\" style=\"vector-effect: non-scaling-stroke; fill: rgb(99, 110, 250); fill-opacity: 1; stroke: rgb(68, 68, 68); stroke-opacity: 1; stroke-width: 0px; opacity: 1;\"/><text class=\"bartext bartext-inside\" text-anchor=\"middle\" data-notex=\"1\" x=\"0\" y=\"0\" style=\"font-family: 'Open Sans', verdana, arial, sans-serif; font-size: 12px; fill: rgb(255, 255, 255); fill-opacity: 1; white-space: pre;\" transform=\"translate(225.3125,44.5)\">7419</text></g><g class=\"point\"><path d=\"M110.58,88V152H340.42V88Z\" style=\"vector-effect: non-scaling-stroke; fill: rgb(99, 110, 250); fill-opacity: 1; stroke: rgb(68, 68, 68); stroke-opacity: 1; stroke-width: 0px; opacity: 1;\"/><text class=\"bartext bartext-inside\" text-anchor=\"middle\" data-notex=\"1\" x=\"0\" y=\"0\" style=\"font-family: 'Open Sans', verdana, arial, sans-serif; font-size: 12px; fill: rgb(255, 255, 255); fill-opacity: 1; white-space: pre;\" transform=\"translate(225.5,124.5)\">4201</text></g><g class=\"point\"><path d=\"M177.16,168V232H273.84V168Z\" style=\"vector-effect: non-scaling-stroke; fill: rgb(99, 110, 250); fill-opacity: 1; stroke: rgb(68, 68, 68); stroke-opacity: 1; stroke-width: 0px; opacity: 1;\"/><text class=\"bartext bartext-inside\" text-anchor=\"middle\" data-notex=\"1\" x=\"0\" y=\"0\" style=\"font-family: 'Open Sans', verdana, arial, sans-serif; font-size: 12px; fill: rgb(255, 255, 255); fill-opacity: 1; white-space: pre;\" transform=\"translate(225.3125,204.5)\">1767</text></g><g class=\"point\"><path d=\"M213.08,248V312H237.92V248Z\" style=\"vector-effect: non-scaling-stroke; fill: rgb(99, 110, 250); fill-opacity: 1; stroke: rgb(68, 68, 68); stroke-opacity: 1; stroke-width: 0px; opacity: 1;\"/><text class=\"bartext bartext-inside\" text-anchor=\"middle\" data-notex=\"1\" x=\"0\" y=\"0\" style=\"font-family: 'Open Sans', verdana, arial, sans-serif; font-size: 12px; fill: rgb(255, 255, 255); fill-opacity: 1; white-space: pre;\" transform=\"translate(225.34826845637585,283.64155704697987)scale(0.809234899328858)\">454</text></g></g></g></g></g><g class=\"overplot\"/><path class=\"xlines-above crisp\" d=\"M0,0\" style=\"fill: none;\"/><path class=\"ylines-above crisp\" d=\"M0,0\" style=\"fill: none;\"/><g class=\"overlines-above\"/><g class=\"xaxislayer-above\"/><g class=\"yaxislayer-above\"><g class=\"ytick\"><text text-anchor=\"end\" x=\"168\" y=\"4.199999999999999\" transform=\"translate(0,380)\" style=\"font-family: 'Open Sans', verdana, arial, sans-serif; font-size: 12px; fill: rgb(42, 63, 95); fill-opacity: 1; white-space: pre; opacity: 1;\">Оплатили</text></g><g class=\"ytick\"><text text-anchor=\"end\" x=\"168\" y=\"4.199999999999999\" transform=\"translate(0,300)\" style=\"font-family: 'Open Sans', verdana, arial, sans-serif; font-size: 12px; fill: rgb(42, 63, 95); fill-opacity: 1; white-space: pre; opacity: 1;\">Начали оформлять заказ</text></g><g class=\"ytick\"><text text-anchor=\"end\" x=\"168\" y=\"4.199999999999999\" transform=\"translate(0,220)\" style=\"font-family: 'Open Sans', verdana, arial, sans-serif; font-size: 12px; fill: rgb(42, 63, 95); fill-opacity: 1; white-space: pre; opacity: 1;\">Экран с товаром</text></g><g class=\"ytick\"><text text-anchor=\"end\" x=\"168\" y=\"4.199999999999999\" transform=\"translate(0,140)\" style=\"font-family: 'Open Sans', verdana, arial, sans-serif; font-size: 12px; fill: rgb(42, 63, 95); fill-opacity: 1; white-space: pre; opacity: 1;\">Главный экран</text></g></g><g class=\"overaxes-above\"/></g></g><g class=\"polarlayer\"/><g class=\"ternarylayer\"/><g class=\"geolayer\"/><g class=\"funnelarealayer\"/><g class=\"pielayer\"/><g class=\"iciclelayer\"/><g class=\"treemaplayer\"/><g class=\"sunburstlayer\"/><g class=\"glimages\"/><defs id=\"topdefs-d6a07c\"><g class=\"clips\"/></defs><g class=\"layer-above\"><g class=\"imagelayer\"/><g class=\"shapelayer\"/></g><g class=\"infolayer\"><g class=\"g-gtitle\"/><g class=\"g-ytitle\"/></g></svg>"
      ]
     },
     "metadata": {},
     "output_type": "display_data"
    }
   ],
   "source": [
    "funnel.show()"
   ]
  },
  {
   "cell_type": "markdown",
   "metadata": {
    "id": "gukWCFBMD3Rp"
   },
   "source": [
    "По воронке видим, что до последнего шага доходят только 6% пользователей"
   ]
  },
  {
   "cell_type": "markdown",
   "metadata": {
    "id": "NU_t5sUuDxI-"
   },
   "source": [
    "Нестрогая воронка"
   ]
  },
  {
   "cell_type": "code",
   "execution_count": 48,
   "metadata": {
    "id": "GqXSlnWLAJfn"
   },
   "outputs": [
    {
     "data": {
      "text/html": [
       "<div>\n",
       "<style scoped>\n",
       "    .dataframe tbody tr th:only-of-type {\n",
       "        vertical-align: middle;\n",
       "    }\n",
       "\n",
       "    .dataframe tbody tr th {\n",
       "        vertical-align: top;\n",
       "    }\n",
       "\n",
       "    .dataframe thead th {\n",
       "        text-align: right;\n",
       "    }\n",
       "</style>\n",
       "<table border=\"1\" class=\"dataframe\">\n",
       "  <thead>\n",
       "    <tr style=\"text-align: right;\">\n",
       "      <th></th>\n",
       "      <th>count_users</th>\n",
       "      <th>ratio_of_total</th>\n",
       "    </tr>\n",
       "    <tr>\n",
       "      <th>event_name</th>\n",
       "      <th></th>\n",
       "      <th></th>\n",
       "    </tr>\n",
       "  </thead>\n",
       "  <tbody>\n",
       "    <tr>\n",
       "      <th>MainScreenAppear</th>\n",
       "      <td>7419</td>\n",
       "      <td>0.985</td>\n",
       "    </tr>\n",
       "    <tr>\n",
       "      <th>OffersScreenAppear</th>\n",
       "      <td>4593</td>\n",
       "      <td>0.610</td>\n",
       "    </tr>\n",
       "    <tr>\n",
       "      <th>CartScreenAppear</th>\n",
       "      <td>3734</td>\n",
       "      <td>0.496</td>\n",
       "    </tr>\n",
       "    <tr>\n",
       "      <th>PaymentScreenSuccessful</th>\n",
       "      <td>3539</td>\n",
       "      <td>0.470</td>\n",
       "    </tr>\n",
       "  </tbody>\n",
       "</table>\n",
       "</div>"
      ],
      "text/plain": [
       "                         count_users  ratio_of_total\n",
       "event_name                                          \n",
       "MainScreenAppear                7419           0.985\n",
       "OffersScreenAppear              4593           0.610\n",
       "CartScreenAppear                3734           0.496\n",
       "PaymentScreenSuccessful         3539           0.470"
      ]
     },
     "execution_count": 48,
     "metadata": {},
     "output_type": "execute_result"
    }
   ],
   "source": [
    "users_by_event"
   ]
  },
  {
   "cell_type": "code",
   "execution_count": 49,
   "metadata": {
    "id": "gVEgIrdMAJfn"
   },
   "outputs": [
    {
     "name": "stdout",
     "output_type": "stream",
     "text": [
      "От первого события до оплаты доходят 47% пользователей\n"
     ]
    }
   ],
   "source": [
    "print('От первого события до оплаты доходят {:.0%} пользователей'.format(users_by_event.iloc[-1]['ratio_of_total']))"
   ]
  },
  {
   "cell_type": "markdown",
   "metadata": {
    "id": "hg0TRlt0EH2D"
   },
   "source": [
    "По нестрогой воронке ситуация в разы лучше - 47% пользователей доходят до оплаты"
   ]
  },
  {
   "cell_type": "markdown",
   "metadata": {
    "id": "91otVrXSAJfn"
   },
   "source": [
    "##  Изучим результаты эксперимента"
   ]
  },
  {
   "cell_type": "markdown",
   "metadata": {
    "id": "pP1P4lbxAJfn"
   },
   "source": [
    "### Сколько пользователей в каждой экспериментальной группе?"
   ]
  },
  {
   "cell_type": "code",
   "execution_count": 50,
   "metadata": {
    "id": "-q24ln4gAJfo"
   },
   "outputs": [
    {
     "data": {
      "text/html": [
       "<div>\n",
       "<style scoped>\n",
       "    .dataframe tbody tr th:only-of-type {\n",
       "        vertical-align: middle;\n",
       "    }\n",
       "\n",
       "    .dataframe tbody tr th {\n",
       "        vertical-align: top;\n",
       "    }\n",
       "\n",
       "    .dataframe thead th {\n",
       "        text-align: right;\n",
       "    }\n",
       "</style>\n",
       "<table border=\"1\" class=\"dataframe\">\n",
       "  <thead>\n",
       "    <tr style=\"text-align: right;\">\n",
       "      <th></th>\n",
       "      <th>device_id</th>\n",
       "    </tr>\n",
       "    <tr>\n",
       "      <th>exp_id</th>\n",
       "      <th></th>\n",
       "    </tr>\n",
       "  </thead>\n",
       "  <tbody>\n",
       "    <tr>\n",
       "      <th>A1</th>\n",
       "      <td>2484</td>\n",
       "    </tr>\n",
       "    <tr>\n",
       "      <th>A2</th>\n",
       "      <td>2513</td>\n",
       "    </tr>\n",
       "    <tr>\n",
       "      <th>B</th>\n",
       "      <td>2537</td>\n",
       "    </tr>\n",
       "  </tbody>\n",
       "</table>\n",
       "</div>"
      ],
      "text/plain": [
       "        device_id\n",
       "exp_id           \n",
       "A1           2484\n",
       "A2           2513\n",
       "B            2537"
      ]
     },
     "execution_count": 50,
     "metadata": {},
     "output_type": "execute_result"
    }
   ],
   "source": [
    "total_count_by_exp_id = pd.DataFrame(df.groupby('exp_id').agg({'device_id':'nunique'}))\n",
    "total_count_by_exp_id"
   ]
  },
  {
   "cell_type": "markdown",
   "metadata": {
    "id": "HzAlKEkdAJfo"
   },
   "source": [
    "Так же проверим датафрейм на наличие фликеров - пользователей, попавших в несколько групп эксперимента."
   ]
  },
  {
   "cell_type": "code",
   "execution_count": 51,
   "metadata": {
    "id": "CN2R_oOJI0vU"
   },
   "outputs": [
    {
     "data": {
      "text/html": [
       "<div>\n",
       "<style scoped>\n",
       "    .dataframe tbody tr th:only-of-type {\n",
       "        vertical-align: middle;\n",
       "    }\n",
       "\n",
       "    .dataframe tbody tr th {\n",
       "        vertical-align: top;\n",
       "    }\n",
       "\n",
       "    .dataframe thead th {\n",
       "        text-align: right;\n",
       "    }\n",
       "</style>\n",
       "<table border=\"1\" class=\"dataframe\">\n",
       "  <thead>\n",
       "    <tr style=\"text-align: right;\">\n",
       "      <th></th>\n",
       "      <th>device_id</th>\n",
       "      <th>exp_id</th>\n",
       "    </tr>\n",
       "  </thead>\n",
       "  <tbody>\n",
       "    <tr>\n",
       "      <th>0</th>\n",
       "      <td>6888746892508752</td>\n",
       "      <td>1</td>\n",
       "    </tr>\n",
       "    <tr>\n",
       "      <th>1</th>\n",
       "      <td>6909561520679493</td>\n",
       "      <td>1</td>\n",
       "    </tr>\n",
       "    <tr>\n",
       "      <th>2</th>\n",
       "      <td>6922444491712477</td>\n",
       "      <td>1</td>\n",
       "    </tr>\n",
       "    <tr>\n",
       "      <th>3</th>\n",
       "      <td>7435777799948366</td>\n",
       "      <td>1</td>\n",
       "    </tr>\n",
       "    <tr>\n",
       "      <th>4</th>\n",
       "      <td>7702139951469979</td>\n",
       "      <td>1</td>\n",
       "    </tr>\n",
       "    <tr>\n",
       "      <th>...</th>\n",
       "      <td>...</td>\n",
       "      <td>...</td>\n",
       "    </tr>\n",
       "    <tr>\n",
       "      <th>7529</th>\n",
       "      <td>9217594193087726423</td>\n",
       "      <td>1</td>\n",
       "    </tr>\n",
       "    <tr>\n",
       "      <th>7530</th>\n",
       "      <td>9219463515465815368</td>\n",
       "      <td>1</td>\n",
       "    </tr>\n",
       "    <tr>\n",
       "      <th>7531</th>\n",
       "      <td>9220879493065341500</td>\n",
       "      <td>1</td>\n",
       "    </tr>\n",
       "    <tr>\n",
       "      <th>7532</th>\n",
       "      <td>9221926045299980007</td>\n",
       "      <td>1</td>\n",
       "    </tr>\n",
       "    <tr>\n",
       "      <th>7533</th>\n",
       "      <td>9222603179720523844</td>\n",
       "      <td>1</td>\n",
       "    </tr>\n",
       "  </tbody>\n",
       "</table>\n",
       "<p>7534 rows × 2 columns</p>\n",
       "</div>"
      ],
      "text/plain": [
       "                device_id  exp_id\n",
       "0        6888746892508752       1\n",
       "1        6909561520679493       1\n",
       "2        6922444491712477       1\n",
       "3        7435777799948366       1\n",
       "4        7702139951469979       1\n",
       "...                   ...     ...\n",
       "7529  9217594193087726423       1\n",
       "7530  9219463515465815368       1\n",
       "7531  9220879493065341500       1\n",
       "7532  9221926045299980007       1\n",
       "7533  9222603179720523844       1\n",
       "\n",
       "[7534 rows x 2 columns]"
      ]
     },
     "execution_count": 51,
     "metadata": {},
     "output_type": "execute_result"
    }
   ],
   "source": [
    "clear_data = (\n",
    "    df\n",
    "        .groupby('device_id', as_index=False)\n",
    "        .agg({'exp_id':'nunique'})\n",
    ")\n",
    "\n",
    "clear_data"
   ]
  },
  {
   "cell_type": "markdown",
   "metadata": {
    "id": "JZD2gTWPJmgQ"
   },
   "source": [
    "Каждая строка - это уникальный пользователь с количеством групп, в которых он был - если больше 1, то значит пользователь использовал приложение и в контрольной группе, и в экспериментальной"
   ]
  },
  {
   "cell_type": "markdown",
   "metadata": {
    "id": "gJIGwvhRKKWn"
   },
   "source": [
    "Теперь подсчитаем количество пользователей, у которых значение в столбце exp_id больше 1"
   ]
  },
  {
   "cell_type": "code",
   "execution_count": 52,
   "metadata": {
    "id": "YEcRG-tYJfnI"
   },
   "outputs": [
    {
     "data": {
      "text/plain": [
       "0"
      ]
     },
     "execution_count": 52,
     "metadata": {},
     "output_type": "execute_result"
    }
   ],
   "source": [
    "to_die = clear_data.query('exp_id > 1')\n",
    "to_die.shape[0]"
   ]
  },
  {
   "cell_type": "markdown",
   "metadata": {
    "id": "Ch6xC4YXAJfp"
   },
   "source": [
    "Все пользователи на своем месте, отлично"
   ]
  },
  {
   "cell_type": "markdown",
   "metadata": {
    "id": "ap1TeudrAJfp"
   },
   "source": [
    "### Проверим, находят ли статистические критерии разницу между выборками A1 и A2"
   ]
  },
  {
   "cell_type": "code",
   "execution_count": 53,
   "metadata": {
    "id": "x-5jC4hwAJfp"
   },
   "outputs": [
    {
     "data": {
      "text/html": [
       "<div>\n",
       "<style scoped>\n",
       "    .dataframe tbody tr th:only-of-type {\n",
       "        vertical-align: middle;\n",
       "    }\n",
       "\n",
       "    .dataframe tbody tr th {\n",
       "        vertical-align: top;\n",
       "    }\n",
       "\n",
       "    .dataframe thead th {\n",
       "        text-align: right;\n",
       "    }\n",
       "</style>\n",
       "<table border=\"1\" class=\"dataframe\">\n",
       "  <thead>\n",
       "    <tr style=\"text-align: right;\">\n",
       "      <th>exp_id</th>\n",
       "      <th>A1</th>\n",
       "      <th>A2</th>\n",
       "      <th>B</th>\n",
       "    </tr>\n",
       "    <tr>\n",
       "      <th>event_name</th>\n",
       "      <th></th>\n",
       "      <th></th>\n",
       "      <th></th>\n",
       "    </tr>\n",
       "  </thead>\n",
       "  <tbody>\n",
       "    <tr>\n",
       "      <th>MainScreenAppear</th>\n",
       "      <td>2450</td>\n",
       "      <td>2476</td>\n",
       "      <td>2493</td>\n",
       "    </tr>\n",
       "    <tr>\n",
       "      <th>OffersScreenAppear</th>\n",
       "      <td>1542</td>\n",
       "      <td>1520</td>\n",
       "      <td>1531</td>\n",
       "    </tr>\n",
       "    <tr>\n",
       "      <th>CartScreenAppear</th>\n",
       "      <td>1266</td>\n",
       "      <td>1238</td>\n",
       "      <td>1230</td>\n",
       "    </tr>\n",
       "    <tr>\n",
       "      <th>PaymentScreenSuccessful</th>\n",
       "      <td>1200</td>\n",
       "      <td>1158</td>\n",
       "      <td>1181</td>\n",
       "    </tr>\n",
       "    <tr>\n",
       "      <th>Tutorial</th>\n",
       "      <td>0</td>\n",
       "      <td>0</td>\n",
       "      <td>0</td>\n",
       "    </tr>\n",
       "  </tbody>\n",
       "</table>\n",
       "</div>"
      ],
      "text/plain": [
       "exp_id                     A1    A2     B\n",
       "event_name                               \n",
       "MainScreenAppear         2450  2476  2493\n",
       "OffersScreenAppear       1542  1520  1531\n",
       "CartScreenAppear         1266  1238  1230\n",
       "PaymentScreenSuccessful  1200  1158  1181\n",
       "Tutorial                    0     0     0"
      ]
     },
     "execution_count": 53,
     "metadata": {},
     "output_type": "execute_result"
    }
   ],
   "source": [
    "users_by_event_name = df.query('event_name != \"Tutorial\"').pivot_table(\n",
    "    index='event_name',\n",
    "    columns='exp_id',\n",
    "    values='device_id',\n",
    "    aggfunc='nunique'\n",
    ").sort_values(by='A1', ascending=False)\n",
    "\n",
    "users_by_event_name"
   ]
  },
  {
   "cell_type": "markdown",
   "metadata": {
    "id": "8oSFzfSSAJfp"
   },
   "source": [
    "Формулируем гипотезы:\n",
    "* H0 - нет статистически значимой разницы между долями двух генеральных совокупностей по выборокам A1 и A2\n",
    "* H1 - присутствует статистически значимая разница между долями двух генеральных совокупностей по выборокам A1 и A2"
   ]
  },
  {
   "cell_type": "code",
   "execution_count": 54,
   "metadata": {
    "id": "MtX-JbfZAJfq"
   },
   "outputs": [],
   "source": [
    "def check_group(group1, group2, event):\n",
    "    alpha = 0.003125 # критический уровень статистической значимости\n",
    "    \n",
    "    # пропорция успехов в первой группе:\n",
    "    p1 = users_by_event_name[group1][event] / total_count_by_exp_id.loc[group1]['device_id']\n",
    "\n",
    "    # пропорция успехов во второй группе:\n",
    "    p2 = users_by_event_name[group2][event] / total_count_by_exp_id.loc[group2]['device_id']\n",
    "\n",
    "    # пропорция успехов в комбинированном датасете:\n",
    "    p_combined = ((users_by_event_name[group1][event] + users_by_event_name[group2][event]) / \n",
    "        (total_count_by_exp_id.loc[group1]['device_id'] + total_count_by_exp_id.loc[group2]['device_id']))\n",
    "\n",
    "    # разница пропорций в датасетах\n",
    "    difference = p1 - p2\n",
    "    \n",
    "    # считаем статистику в ст.отклонениях стандартного нормального распределения\n",
    "    z_value = (difference / mth.sqrt(p_combined * (1 - p_combined) * \n",
    "              (1/total_count_by_exp_id.loc[group1]['device_id'] + 1/total_count_by_exp_id.loc[group2]['device_id'])))\n",
    "\n",
    "    # задаем стандартное нормальное распределение (среднее 0, ст.отклонение 1)\n",
    "    distr = st.norm(0, 1) \n",
    "\n",
    "    # считаем статистику в ст.отклонениях стандартного нормального распределения\n",
    "    z_value = (difference / mth.sqrt(\n",
    "        p_combined * (1 - p_combined) * \n",
    "        (1 / total_count_by_exp_id.loc[group1]['device_id'] + 1 / total_count_by_exp_id.loc[group2]['device_id'])\n",
    "    ))\n",
    "\n",
    "    # задаем стандартное нормальное распределение (среднее 0, ст.отклонение 1)\n",
    "    distr = st.norm(0, 1)\n",
    "\n",
    "    p_value = (1 - distr.cdf(abs(z_value))) * 2\n",
    "\n",
    "    print(event,'p-значение: ', p_value)\n",
    "\n",
    "    if p_value < alpha:\n",
    "        print('Отвергаем нулевую гипотезу: между долями есть значимая разница')\n",
    "    else:\n",
    "        print('Не получилось отвергнуть нулевую гипотезу, нет оснований считать доли разными')"
   ]
  },
  {
   "cell_type": "code",
   "execution_count": 55,
   "metadata": {
    "id": "mB2QtlXSAJfq"
   },
   "outputs": [
    {
     "name": "stdout",
     "output_type": "stream",
     "text": [
      "MainScreenAppear p-значение:  0.7570597232046099\n",
      "Не получилось отвергнуть нулевую гипотезу, нет оснований считать доли разными\n",
      "\n",
      "OffersScreenAppear p-значение:  0.2480954578522181\n",
      "Не получилось отвергнуть нулевую гипотезу, нет оснований считать доли разными\n",
      "\n",
      "CartScreenAppear p-значение:  0.22883372237997213\n",
      "Не получилось отвергнуть нулевую гипотезу, нет оснований считать доли разными\n",
      "\n",
      "PaymentScreenSuccessful p-значение:  0.11456679313141849\n",
      "Не получилось отвергнуть нулевую гипотезу, нет оснований считать доли разными\n",
      "\n",
      "Tutorial p-значение:  nan\n",
      "Не получилось отвергнуть нулевую гипотезу, нет оснований считать доли разными\n",
      "\n"
     ]
    }
   ],
   "source": [
    "for event in users_by_event_name.index:\n",
    "    check_group('A1', 'A2', event)\n",
    "    print('')"
   ]
  },
  {
   "cell_type": "markdown",
   "metadata": {
    "id": "2agRR-hhAJfq"
   },
   "source": [
    "**Вывод** - нет оснований полагать, что доли по каждому шагу в выборках A1 и A2 различны, значит выборки корректны. "
   ]
  },
  {
   "cell_type": "markdown",
   "metadata": {
    "id": "ykjK-1thAJfr"
   },
   "source": [
    "### Выберем самое популярное событие. Посчитаем число пользователей, совершивших это событие в каждой из контрольных групп. Посчитаем долю пользователей, совершивших это событие"
   ]
  },
  {
   "cell_type": "code",
   "execution_count": 56,
   "metadata": {
    "id": "pKREP-v0AJfr"
   },
   "outputs": [
    {
     "data": {
      "text/html": [
       "<div>\n",
       "<style scoped>\n",
       "    .dataframe tbody tr th:only-of-type {\n",
       "        vertical-align: middle;\n",
       "    }\n",
       "\n",
       "    .dataframe tbody tr th {\n",
       "        vertical-align: top;\n",
       "    }\n",
       "\n",
       "    .dataframe thead th {\n",
       "        text-align: right;\n",
       "    }\n",
       "</style>\n",
       "<table border=\"1\" class=\"dataframe\">\n",
       "  <thead>\n",
       "    <tr style=\"text-align: right;\">\n",
       "      <th>exp_id</th>\n",
       "      <th>A1</th>\n",
       "      <th>A2</th>\n",
       "      <th>B</th>\n",
       "    </tr>\n",
       "    <tr>\n",
       "      <th>event_name</th>\n",
       "      <th></th>\n",
       "      <th></th>\n",
       "      <th></th>\n",
       "    </tr>\n",
       "  </thead>\n",
       "  <tbody>\n",
       "    <tr>\n",
       "      <th>MainScreenAppear</th>\n",
       "      <td>2450</td>\n",
       "      <td>2476</td>\n",
       "      <td>2493</td>\n",
       "    </tr>\n",
       "    <tr>\n",
       "      <th>OffersScreenAppear</th>\n",
       "      <td>1542</td>\n",
       "      <td>1520</td>\n",
       "      <td>1531</td>\n",
       "    </tr>\n",
       "    <tr>\n",
       "      <th>CartScreenAppear</th>\n",
       "      <td>1266</td>\n",
       "      <td>1238</td>\n",
       "      <td>1230</td>\n",
       "    </tr>\n",
       "    <tr>\n",
       "      <th>PaymentScreenSuccessful</th>\n",
       "      <td>1200</td>\n",
       "      <td>1158</td>\n",
       "      <td>1181</td>\n",
       "    </tr>\n",
       "    <tr>\n",
       "      <th>Tutorial</th>\n",
       "      <td>0</td>\n",
       "      <td>0</td>\n",
       "      <td>0</td>\n",
       "    </tr>\n",
       "  </tbody>\n",
       "</table>\n",
       "</div>"
      ],
      "text/plain": [
       "exp_id                     A1    A2     B\n",
       "event_name                               \n",
       "MainScreenAppear         2450  2476  2493\n",
       "OffersScreenAppear       1542  1520  1531\n",
       "CartScreenAppear         1266  1238  1230\n",
       "PaymentScreenSuccessful  1200  1158  1181\n",
       "Tutorial                    0     0     0"
      ]
     },
     "execution_count": 56,
     "metadata": {},
     "output_type": "execute_result"
    }
   ],
   "source": [
    "users_by_event_name"
   ]
  },
  {
   "cell_type": "markdown",
   "metadata": {
    "id": "933wzogLAJfr"
   },
   "source": [
    "Самое популярное событие - это, конечно, главный экран - MainScreenAppear."
   ]
  },
  {
   "cell_type": "markdown",
   "metadata": {
    "id": "c151GX3RAJfr"
   },
   "source": [
    "Посчитаем долю пользователей, совершивших это событие в каждой из контрольных групп"
   ]
  },
  {
   "cell_type": "code",
   "execution_count": 57,
   "metadata": {
    "id": "-4Rr4sYMAJfr"
   },
   "outputs": [
    {
     "data": {
      "text/html": [
       "<div>\n",
       "<style scoped>\n",
       "    .dataframe tbody tr th:only-of-type {\n",
       "        vertical-align: middle;\n",
       "    }\n",
       "\n",
       "    .dataframe tbody tr th {\n",
       "        vertical-align: top;\n",
       "    }\n",
       "\n",
       "    .dataframe thead th {\n",
       "        text-align: right;\n",
       "    }\n",
       "</style>\n",
       "<table border=\"1\" class=\"dataframe\">\n",
       "  <thead>\n",
       "    <tr style=\"text-align: right;\">\n",
       "      <th></th>\n",
       "      <th>MainScreenAppear</th>\n",
       "      <th>total_users</th>\n",
       "    </tr>\n",
       "    <tr>\n",
       "      <th>exp_id</th>\n",
       "      <th></th>\n",
       "      <th></th>\n",
       "    </tr>\n",
       "  </thead>\n",
       "  <tbody>\n",
       "    <tr>\n",
       "      <th>A1</th>\n",
       "      <td>2450</td>\n",
       "      <td>2484</td>\n",
       "    </tr>\n",
       "    <tr>\n",
       "      <th>A2</th>\n",
       "      <td>2476</td>\n",
       "      <td>2513</td>\n",
       "    </tr>\n",
       "  </tbody>\n",
       "</table>\n",
       "</div>"
      ],
      "text/plain": [
       "        MainScreenAppear  total_users\n",
       "exp_id                               \n",
       "A1                  2450         2484\n",
       "A2                  2476         2513"
      ]
     },
     "execution_count": 57,
     "metadata": {},
     "output_type": "execute_result"
    }
   ],
   "source": [
    "top_event = pd.concat([pd.DataFrame(users_by_event_name.loc['MainScreenAppear']),\n",
    "                 pd.DataFrame(df.groupby('exp_id')['device_id'].nunique())], axis=1)\n",
    "\n",
    "top_event.rename(columns={'device_id':'total_users'}, inplace=True)\n",
    "top_event = top_event.query('index != \"B\"')\n",
    "top_event"
   ]
  },
  {
   "cell_type": "code",
   "execution_count": 58,
   "metadata": {
    "id": "JwrHzGe1AJfr"
   },
   "outputs": [
    {
     "data": {
      "text/html": [
       "<div>\n",
       "<style scoped>\n",
       "    .dataframe tbody tr th:only-of-type {\n",
       "        vertical-align: middle;\n",
       "    }\n",
       "\n",
       "    .dataframe tbody tr th {\n",
       "        vertical-align: top;\n",
       "    }\n",
       "\n",
       "    .dataframe thead th {\n",
       "        text-align: right;\n",
       "    }\n",
       "</style>\n",
       "<table border=\"1\" class=\"dataframe\">\n",
       "  <thead>\n",
       "    <tr style=\"text-align: right;\">\n",
       "      <th></th>\n",
       "      <th>MainScreenAppear</th>\n",
       "      <th>total_users</th>\n",
       "      <th>ratio</th>\n",
       "    </tr>\n",
       "    <tr>\n",
       "      <th>exp_id</th>\n",
       "      <th></th>\n",
       "      <th></th>\n",
       "      <th></th>\n",
       "    </tr>\n",
       "  </thead>\n",
       "  <tbody>\n",
       "    <tr>\n",
       "      <th>A1</th>\n",
       "      <td>2450</td>\n",
       "      <td>2484</td>\n",
       "      <td>0.986</td>\n",
       "    </tr>\n",
       "    <tr>\n",
       "      <th>A2</th>\n",
       "      <td>2476</td>\n",
       "      <td>2513</td>\n",
       "      <td>0.985</td>\n",
       "    </tr>\n",
       "  </tbody>\n",
       "</table>\n",
       "</div>"
      ],
      "text/plain": [
       "        MainScreenAppear  total_users  ratio\n",
       "exp_id                                      \n",
       "A1                  2450         2484  0.986\n",
       "A2                  2476         2513  0.985"
      ]
     },
     "execution_count": 58,
     "metadata": {},
     "output_type": "execute_result"
    }
   ],
   "source": [
    "top_event['ratio'] = round(top_event['MainScreenAppear'] / top_event['total_users'], 3)\n",
    "top_event"
   ]
  },
  {
   "cell_type": "markdown",
   "metadata": {
    "id": "Y6puSGnlAJfs"
   },
   "source": [
    "### Аналогично поступим с группой с изменённым шрифтом. Сравним результаты с каждой из контрольных групп в отдельности по каждому событию. Сравним результаты с объединённой контрольной группой"
   ]
  },
  {
   "cell_type": "markdown",
   "metadata": {
    "id": "R_V8Ss5gAJfs"
   },
   "source": [
    "Формулируем гипотезы:\n",
    "* H0 - нет статистически значимой разницы между долями двух генеральных совокупностей по выборокам A1/A2 и B\n",
    "* H1 - присутствует статистически значимая разница между долями двух генеральных совокупностей по выборокам A1/A2 и B"
   ]
  },
  {
   "cell_type": "markdown",
   "metadata": {
    "id": "2WamjM1pAJfs"
   },
   "source": [
    "Сперва проверим между группами A1 и B"
   ]
  },
  {
   "cell_type": "code",
   "execution_count": 59,
   "metadata": {
    "id": "sw-GTIM2AJfs"
   },
   "outputs": [
    {
     "name": "stdout",
     "output_type": "stream",
     "text": [
      "MainScreenAppear p-значение:  0.2949721933554552\n",
      "Не получилось отвергнуть нулевую гипотезу, нет оснований считать доли разными\n",
      "\n",
      "OffersScreenAppear p-значение:  0.20836205402738917\n",
      "Не получилось отвергнуть нулевую гипотезу, нет оснований считать доли разными\n",
      "\n",
      "CartScreenAppear p-значение:  0.07842923237520116\n",
      "Не получилось отвергнуть нулевую гипотезу, нет оснований считать доли разными\n",
      "\n",
      "PaymentScreenSuccessful p-значение:  0.2122553275697796\n",
      "Не получилось отвергнуть нулевую гипотезу, нет оснований считать доли разными\n",
      "\n",
      "Tutorial p-значение:  nan\n",
      "Не получилось отвергнуть нулевую гипотезу, нет оснований считать доли разными\n",
      "\n"
     ]
    }
   ],
   "source": [
    "for event in users_by_event_name.index:\n",
    "    check_group('A1', 'B', event)\n",
    "    print('')"
   ]
  },
  {
   "cell_type": "markdown",
   "metadata": {
    "id": "TXnMwQrAAJfs"
   },
   "source": [
    "Теперь между группами A2 и B"
   ]
  },
  {
   "cell_type": "code",
   "execution_count": 60,
   "metadata": {
    "id": "h_LvV0miAJfs"
   },
   "outputs": [
    {
     "name": "stdout",
     "output_type": "stream",
     "text": [
      "MainScreenAppear p-значение:  0.4587053616621515\n",
      "Не получилось отвергнуть нулевую гипотезу, нет оснований считать доли разными\n",
      "\n",
      "OffersScreenAppear p-значение:  0.9197817830592261\n",
      "Не получилось отвергнуть нулевую гипотезу, нет оснований считать доли разными\n",
      "\n",
      "CartScreenAppear p-значение:  0.5786197879539783\n",
      "Не получилось отвергнуть нулевую гипотезу, нет оснований считать доли разными\n",
      "\n",
      "PaymentScreenSuccessful p-значение:  0.7373415053803964\n",
      "Не получилось отвергнуть нулевую гипотезу, нет оснований считать доли разными\n",
      "\n",
      "Tutorial p-значение:  nan\n",
      "Не получилось отвергнуть нулевую гипотезу, нет оснований считать доли разными\n",
      "\n"
     ]
    }
   ],
   "source": [
    "for event in users_by_event_name.index:\n",
    "    check_group('A2', 'B', event)\n",
    "    print('')"
   ]
  },
  {
   "cell_type": "markdown",
   "metadata": {
    "id": "F5hW7D8EAJfs"
   },
   "source": [
    "**Вывод** - нет оснований считать, что доли между группами разные, а значит можно сделать вывод, что разбиение на группы работает корректно"
   ]
  },
  {
   "cell_type": "markdown",
   "metadata": {
    "id": "U36m3mz6AJft"
   },
   "source": [
    "Пересоздаем переменную, объединив контрольные группы"
   ]
  },
  {
   "cell_type": "code",
   "execution_count": 61,
   "metadata": {
    "id": "t-UfLrO2AJft"
   },
   "outputs": [
    {
     "data": {
      "text/html": [
       "<div>\n",
       "<style scoped>\n",
       "    .dataframe tbody tr th:only-of-type {\n",
       "        vertical-align: middle;\n",
       "    }\n",
       "\n",
       "    .dataframe tbody tr th {\n",
       "        vertical-align: top;\n",
       "    }\n",
       "\n",
       "    .dataframe thead th {\n",
       "        text-align: right;\n",
       "    }\n",
       "</style>\n",
       "<table border=\"1\" class=\"dataframe\">\n",
       "  <thead>\n",
       "    <tr style=\"text-align: right;\">\n",
       "      <th>exp_id</th>\n",
       "      <th>A</th>\n",
       "      <th>B</th>\n",
       "    </tr>\n",
       "    <tr>\n",
       "      <th>event_name</th>\n",
       "      <th></th>\n",
       "      <th></th>\n",
       "    </tr>\n",
       "  </thead>\n",
       "  <tbody>\n",
       "    <tr>\n",
       "      <th>MainScreenAppear</th>\n",
       "      <td>4926</td>\n",
       "      <td>2493</td>\n",
       "    </tr>\n",
       "    <tr>\n",
       "      <th>OffersScreenAppear</th>\n",
       "      <td>3062</td>\n",
       "      <td>1531</td>\n",
       "    </tr>\n",
       "    <tr>\n",
       "      <th>CartScreenAppear</th>\n",
       "      <td>2504</td>\n",
       "      <td>1230</td>\n",
       "    </tr>\n",
       "    <tr>\n",
       "      <th>PaymentScreenSuccessful</th>\n",
       "      <td>2358</td>\n",
       "      <td>1181</td>\n",
       "    </tr>\n",
       "  </tbody>\n",
       "</table>\n",
       "</div>"
      ],
      "text/plain": [
       "exp_id                      A     B\n",
       "event_name                         \n",
       "MainScreenAppear         4926  2493\n",
       "OffersScreenAppear       3062  1531\n",
       "CartScreenAppear         2504  1230\n",
       "PaymentScreenSuccessful  2358  1181"
      ]
     },
     "execution_count": 61,
     "metadata": {},
     "output_type": "execute_result"
    }
   ],
   "source": [
    "dr = df.query('event_name != \"Tutorial\"').copy()\n",
    "dr['exp_id'] = dr['exp_id'].map({'A1':'A', 'A2':'A', 'B':'B'})\n",
    "\n",
    "users_by_event_name = dr.pivot_table(\n",
    "    index='event_name',\n",
    "    columns='exp_id',\n",
    "    values='device_id',\n",
    "    aggfunc='nunique'\n",
    ").sort_values(by='A', ascending=False)\n",
    "\n",
    "users_by_event_name = users_by_event_name.query('index != \"Tutorial\"')\n",
    "users_by_event_name"
   ]
  },
  {
   "cell_type": "code",
   "execution_count": 62,
   "metadata": {
    "id": "M95U8Bl6AJft"
   },
   "outputs": [
    {
     "data": {
      "text/html": [
       "<div>\n",
       "<style scoped>\n",
       "    .dataframe tbody tr th:only-of-type {\n",
       "        vertical-align: middle;\n",
       "    }\n",
       "\n",
       "    .dataframe tbody tr th {\n",
       "        vertical-align: top;\n",
       "    }\n",
       "\n",
       "    .dataframe thead th {\n",
       "        text-align: right;\n",
       "    }\n",
       "</style>\n",
       "<table border=\"1\" class=\"dataframe\">\n",
       "  <thead>\n",
       "    <tr style=\"text-align: right;\">\n",
       "      <th></th>\n",
       "      <th>device_id</th>\n",
       "    </tr>\n",
       "    <tr>\n",
       "      <th>exp_id</th>\n",
       "      <th></th>\n",
       "    </tr>\n",
       "  </thead>\n",
       "  <tbody>\n",
       "    <tr>\n",
       "      <th>A</th>\n",
       "      <td>4995</td>\n",
       "    </tr>\n",
       "    <tr>\n",
       "      <th>B</th>\n",
       "      <td>2535</td>\n",
       "    </tr>\n",
       "  </tbody>\n",
       "</table>\n",
       "</div>"
      ],
      "text/plain": [
       "        device_id\n",
       "exp_id           \n",
       "A            4995\n",
       "B            2535"
      ]
     },
     "execution_count": 62,
     "metadata": {},
     "output_type": "execute_result"
    }
   ],
   "source": [
    "total_count_by_exp_id = (\n",
    "    dr\n",
    "        .groupby('exp_id')\n",
    "        .agg({'device_id':'nunique'})\n",
    ")\n",
    "\n",
    "total_count_by_exp_id"
   ]
  },
  {
   "cell_type": "code",
   "execution_count": 63,
   "metadata": {
    "id": "N3hsI11FAJft"
   },
   "outputs": [
    {
     "name": "stdout",
     "output_type": "stream",
     "text": [
      "MainScreenAppear p-значение:  0.3486684291093256\n",
      "Не получилось отвергнуть нулевую гипотезу, нет оснований считать доли разными\n",
      "\n",
      "OffersScreenAppear p-значение:  0.44582745409482394\n",
      "Не получилось отвергнуть нулевую гипотезу, нет оснований считать доли разными\n",
      "\n",
      "CartScreenAppear p-значение:  0.18683558686831558\n",
      "Не получилось отвергнуть нулевую гипотезу, нет оснований считать доли разными\n",
      "\n",
      "PaymentScreenSuccessful p-значение:  0.6107918742187335\n",
      "Не получилось отвергнуть нулевую гипотезу, нет оснований считать доли разными\n",
      "\n"
     ]
    }
   ],
   "source": [
    "for event in users_by_event_name.index:\n",
    "    check_group('A', 'B', event)\n",
    "    print('')"
   ]
  },
  {
   "cell_type": "markdown",
   "metadata": {
    "id": "Zi16u0A4AJft"
   },
   "source": [
    "**Вывод** - нет оснований полагать, что измененный шрифт как-то повлиял на пользователей. Для нас это хорошо, так как менеджеры полагали, что пользователям будет непривычно пользоваться приложением."
   ]
  },
  {
   "cell_type": "markdown",
   "metadata": {
    "id": "SQVKsf78AJfu"
   },
   "source": [
    "### Какой уровень значимости стоит применить?"
   ]
  },
  {
   "cell_type": "markdown",
   "metadata": {
    "id": "sjyQh5MAAJfu"
   },
   "source": [
    "Наш уровень значимости - 5%. Провели мы 16 тестов. Был бы у нас уровень значимости 10%, то в 1 тесте мы бы получили ложный результат. В нашем случае 5% вполне подходит, но можно воспользоваться поправой Бонферрони. \n",
    "\n",
    "Тогда верным будем выбрать уровень значимости в 0.003125, так как формула для расчета уровня значимости согласно поправке Бонферрони имеет вид:"
   ]
  },
  {
   "cell_type": "markdown",
   "metadata": {
    "id": "fFTuZSryAJfu"
   },
   "source": [
    "$$p = \\frac{a}{m}$$\n",
    "* α - уровень значимости (в нашем случае 0.05)\n",
    "* m - количество тестов (в нашем случае 16)"
   ]
  },
  {
   "cell_type": "markdown",
   "metadata": {
    "id": "9AlzIucXAJfu"
   },
   "source": [
    "## Общий вывод"
   ]
  },
  {
   "cell_type": "markdown",
   "metadata": {
    "id": "AeB5C_0UAJfu"
   },
   "source": [
    "1. Судя по воронке продаж, до оплаты доходят 47% пользователей от общего количества. Конверсия в 47% - это отличный показатель для стартапа.\n",
    "2. По результатам A/A/B-эксперимента, можно сделать вывод, что новый шрифт не повлиял на пользователей, так что можно выкатывать обновление для всех пользователей."
   ]
  }
 ],
 "metadata": {
  "ExecuteTimeLog": [
   {
    "duration": 1008,
    "start_time": "2021-07-19T13:08:37.646Z"
   },
   {
    "duration": 634,
    "start_time": "2021-07-19T13:09:05.417Z"
   },
   {
    "duration": 22,
    "start_time": "2021-07-19T13:09:06.988Z"
   },
   {
    "duration": 343,
    "start_time": "2021-07-19T13:09:20.321Z"
   },
   {
    "duration": 14,
    "start_time": "2021-07-19T13:09:20.694Z"
   },
   {
    "duration": 356,
    "start_time": "2021-07-19T13:10:12.982Z"
   },
   {
    "duration": 365,
    "start_time": "2021-07-19T13:10:20.132Z"
   },
   {
    "duration": 14,
    "start_time": "2021-07-19T13:10:20.532Z"
   },
   {
    "duration": 6,
    "start_time": "2021-07-19T13:12:11.598Z"
   },
   {
    "duration": 803,
    "start_time": "2021-07-19T13:12:17.907Z"
   },
   {
    "duration": 6,
    "start_time": "2021-07-19T13:12:26.366Z"
   },
   {
    "duration": 115,
    "start_time": "2021-07-19T13:12:26.631Z"
   },
   {
    "duration": 5,
    "start_time": "2021-07-19T13:13:02.010Z"
   },
   {
    "duration": 129,
    "start_time": "2021-07-19T13:13:02.270Z"
   },
   {
    "duration": 9192,
    "start_time": "2021-07-19T13:14:13.045Z"
   },
   {
    "duration": 21,
    "start_time": "2021-07-19T13:14:36.166Z"
   },
   {
    "duration": 13,
    "start_time": "2021-07-19T13:18:34.426Z"
   },
   {
    "duration": 779,
    "start_time": "2021-07-19T13:21:59.761Z"
   },
   {
    "duration": 698,
    "start_time": "2021-07-19T13:22:00.542Z"
   },
   {
    "duration": 25,
    "start_time": "2021-07-19T13:22:01.243Z"
   },
   {
    "duration": 8,
    "start_time": "2021-07-19T13:22:01.271Z"
   },
   {
    "duration": 858,
    "start_time": "2021-07-19T13:22:01.281Z"
   },
   {
    "duration": 22,
    "start_time": "2021-07-19T13:22:02.142Z"
   },
   {
    "duration": 25,
    "start_time": "2021-07-19T13:22:02.166Z"
   },
   {
    "duration": 641,
    "start_time": "2021-07-19T13:23:14.506Z"
   },
   {
    "duration": 358,
    "start_time": "2021-07-19T13:24:21.753Z"
   },
   {
    "duration": 3581,
    "start_time": "2021-07-19T13:24:30.755Z"
   },
   {
    "duration": 4,
    "start_time": "2021-07-19T13:27:07.273Z"
   },
   {
    "duration": 541,
    "start_time": "2021-07-19T13:28:27.602Z"
   },
   {
    "duration": 615,
    "start_time": "2021-07-19T13:29:04.389Z"
   },
   {
    "duration": 4,
    "start_time": "2021-07-19T13:29:12.394Z"
   },
   {
    "duration": 15,
    "start_time": "2021-07-19T13:29:16.422Z"
   },
   {
    "duration": 768,
    "start_time": "2021-07-19T13:29:31.147Z"
   },
   {
    "duration": 441,
    "start_time": "2021-07-19T13:29:31.918Z"
   },
   {
    "duration": 24,
    "start_time": "2021-07-19T13:29:32.362Z"
   },
   {
    "duration": 14,
    "start_time": "2021-07-19T13:29:32.388Z"
   },
   {
    "duration": 2596,
    "start_time": "2021-07-19T13:29:32.404Z"
   },
   {
    "duration": 15,
    "start_time": "2021-07-19T13:29:35.004Z"
   },
   {
    "duration": 42,
    "start_time": "2021-07-19T13:29:35.021Z"
   },
   {
    "duration": 6,
    "start_time": "2021-07-19T13:30:00.855Z"
   },
   {
    "duration": 14,
    "start_time": "2021-07-19T13:30:04.438Z"
   },
   {
    "duration": 5,
    "start_time": "2021-07-19T13:30:58.773Z"
   },
   {
    "duration": 16,
    "start_time": "2021-07-19T13:31:01.704Z"
   },
   {
    "duration": 10,
    "start_time": "2021-07-19T13:32:11.830Z"
   },
   {
    "duration": 8224,
    "start_time": "2021-07-19T13:32:26.010Z"
   },
   {
    "duration": 34,
    "start_time": "2021-07-19T13:32:35.198Z"
   },
   {
    "duration": 25,
    "start_time": "2021-07-19T13:34:19.001Z"
   },
   {
    "duration": 373,
    "start_time": "2021-07-19T13:34:24.770Z"
   },
   {
    "duration": 8,
    "start_time": "2021-07-19T13:34:27.266Z"
   },
   {
    "duration": 54,
    "start_time": "2021-07-19T13:34:43.814Z"
   },
   {
    "duration": 73,
    "start_time": "2021-07-19T13:34:46.525Z"
   },
   {
    "duration": 68,
    "start_time": "2021-07-19T13:34:57.653Z"
   },
   {
    "duration": 72,
    "start_time": "2021-07-19T13:35:34.793Z"
   },
   {
    "duration": 12,
    "start_time": "2021-07-19T13:39:53.492Z"
   },
   {
    "duration": 73,
    "start_time": "2021-07-19T13:39:57.239Z"
   },
   {
    "duration": 336,
    "start_time": "2021-07-19T13:39:57.670Z"
   },
   {
    "duration": 27,
    "start_time": "2021-07-19T13:40:33.225Z"
   },
   {
    "duration": 24,
    "start_time": "2021-07-19T13:40:46.541Z"
   },
   {
    "duration": 58,
    "start_time": "2021-07-19T13:42:38.810Z"
   },
   {
    "duration": 386,
    "start_time": "2021-07-19T13:42:43.285Z"
   },
   {
    "duration": 51,
    "start_time": "2021-07-19T13:42:46.239Z"
   },
   {
    "duration": 65,
    "start_time": "2021-07-19T13:42:50.131Z"
   },
   {
    "duration": 17,
    "start_time": "2021-07-19T13:43:04.319Z"
   },
   {
    "duration": 8,
    "start_time": "2021-07-19T13:44:46.710Z"
   },
   {
    "duration": 20,
    "start_time": "2021-07-19T13:47:31.558Z"
   },
   {
    "duration": 18,
    "start_time": "2021-07-19T13:47:35.033Z"
   },
   {
    "duration": 17,
    "start_time": "2021-07-19T13:47:46.817Z"
   },
   {
    "duration": 733,
    "start_time": "2021-07-19T13:50:02.691Z"
   },
   {
    "duration": 460,
    "start_time": "2021-07-19T13:50:03.427Z"
   },
   {
    "duration": 26,
    "start_time": "2021-07-19T13:50:03.893Z"
   },
   {
    "duration": 6,
    "start_time": "2021-07-19T13:50:03.921Z"
   },
   {
    "duration": 2751,
    "start_time": "2021-07-19T13:50:03.930Z"
   },
   {
    "duration": 13,
    "start_time": "2021-07-19T13:50:06.684Z"
   },
   {
    "duration": 29,
    "start_time": "2021-07-19T13:50:06.701Z"
   },
   {
    "duration": 49,
    "start_time": "2021-07-19T13:50:06.732Z"
   },
   {
    "duration": 28,
    "start_time": "2021-07-19T13:50:06.783Z"
   },
   {
    "duration": 19,
    "start_time": "2021-07-19T13:50:06.814Z"
   },
   {
    "duration": 40,
    "start_time": "2021-07-19T13:50:06.836Z"
   },
   {
    "duration": 103,
    "start_time": "2021-07-19T13:50:06.878Z"
   },
   {
    "duration": 64,
    "start_time": "2021-07-19T13:50:06.983Z"
   },
   {
    "duration": 474,
    "start_time": "2021-07-19T13:50:44.236Z"
   },
   {
    "duration": 304,
    "start_time": "2021-07-19T13:53:48.794Z"
   },
   {
    "duration": 321,
    "start_time": "2021-07-19T13:55:10.621Z"
   },
   {
    "duration": 8,
    "start_time": "2021-07-19T13:55:13.876Z"
   },
   {
    "duration": 48,
    "start_time": "2021-07-19T14:03:27.852Z"
   },
   {
    "duration": 25,
    "start_time": "2021-07-19T14:03:29.013Z"
   },
   {
    "duration": 10,
    "start_time": "2021-07-19T14:04:37.584Z"
   },
   {
    "duration": 25,
    "start_time": "2021-07-19T14:04:38.082Z"
   },
   {
    "duration": 112,
    "start_time": "2021-07-19T14:06:29.958Z"
   },
   {
    "duration": 26,
    "start_time": "2021-07-19T14:06:30.766Z"
   },
   {
    "duration": 7,
    "start_time": "2021-07-19T14:07:13.011Z"
   },
   {
    "duration": 11,
    "start_time": "2021-07-19T14:09:18.856Z"
   },
   {
    "duration": 7,
    "start_time": "2021-07-19T14:09:20.950Z"
   },
   {
    "duration": 27,
    "start_time": "2021-07-19T14:09:23.209Z"
   },
   {
    "duration": 156,
    "start_time": "2021-07-19T14:09:43.994Z"
   },
   {
    "duration": 25,
    "start_time": "2021-07-19T14:09:44.170Z"
   },
   {
    "duration": 7,
    "start_time": "2021-07-19T14:09:47.904Z"
   },
   {
    "duration": 15,
    "start_time": "2021-07-19T14:09:51.154Z"
   },
   {
    "duration": 27,
    "start_time": "2021-07-19T14:09:56.653Z"
   },
   {
    "duration": 8,
    "start_time": "2021-07-19T14:10:01.245Z"
   },
   {
    "duration": 900,
    "start_time": "2021-07-19T17:54:37.965Z"
   },
   {
    "duration": 2,
    "start_time": "2021-07-19T17:54:53.866Z"
   },
   {
    "duration": 336,
    "start_time": "2021-07-19T17:54:53.883Z"
   },
   {
    "duration": 29,
    "start_time": "2021-07-19T17:54:54.221Z"
   },
   {
    "duration": 5,
    "start_time": "2021-07-19T17:54:54.253Z"
   },
   {
    "duration": 762,
    "start_time": "2021-07-19T17:54:54.260Z"
   },
   {
    "duration": 18,
    "start_time": "2021-07-19T17:54:55.024Z"
   },
   {
    "duration": 16,
    "start_time": "2021-07-19T17:54:55.044Z"
   },
   {
    "duration": 19,
    "start_time": "2021-07-19T17:54:55.062Z"
   },
   {
    "duration": 12,
    "start_time": "2021-07-19T17:54:55.083Z"
   },
   {
    "duration": 44,
    "start_time": "2021-07-19T17:54:55.097Z"
   },
   {
    "duration": 15,
    "start_time": "2021-07-19T17:54:55.143Z"
   },
   {
    "duration": 46,
    "start_time": "2021-07-19T17:54:55.160Z"
   },
   {
    "duration": 53,
    "start_time": "2021-07-19T17:54:55.207Z"
   },
   {
    "duration": 9,
    "start_time": "2021-07-19T17:54:55.262Z"
   },
   {
    "duration": 15,
    "start_time": "2021-07-19T17:54:55.272Z"
   },
   {
    "duration": 118,
    "start_time": "2021-07-19T17:54:55.289Z"
   },
   {
    "duration": 16,
    "start_time": "2021-07-19T17:54:55.408Z"
   },
   {
    "duration": 17,
    "start_time": "2021-07-19T17:54:55.426Z"
   },
   {
    "duration": 16,
    "start_time": "2021-07-19T17:55:09.450Z"
   },
   {
    "duration": 8,
    "start_time": "2021-07-19T17:56:38.805Z"
   },
   {
    "duration": 6,
    "start_time": "2021-07-19T17:57:52.142Z"
   },
   {
    "duration": 7,
    "start_time": "2021-07-19T17:58:01.408Z"
   },
   {
    "duration": 431,
    "start_time": "2021-07-19T17:58:57.473Z"
   },
   {
    "duration": 4,
    "start_time": "2021-07-19T17:59:02.214Z"
   },
   {
    "duration": 4,
    "start_time": "2021-07-19T17:59:27.275Z"
   },
   {
    "duration": 7,
    "start_time": "2021-07-19T18:00:04.588Z"
   },
   {
    "duration": 6,
    "start_time": "2021-07-19T18:01:16.422Z"
   },
   {
    "duration": 6,
    "start_time": "2021-07-19T18:02:30.298Z"
   },
   {
    "duration": 5,
    "start_time": "2021-07-19T18:02:49.616Z"
   },
   {
    "duration": 9,
    "start_time": "2021-07-19T18:03:03.760Z"
   },
   {
    "duration": 5,
    "start_time": "2021-07-19T18:03:22.460Z"
   },
   {
    "duration": 979,
    "start_time": "2021-07-19T18:03:29.111Z"
   },
   {
    "duration": 411,
    "start_time": "2021-07-19T18:03:30.096Z"
   },
   {
    "duration": 16,
    "start_time": "2021-07-19T18:03:30.510Z"
   },
   {
    "duration": 14,
    "start_time": "2021-07-19T18:03:30.528Z"
   },
   {
    "duration": 2370,
    "start_time": "2021-07-19T18:03:30.544Z"
   },
   {
    "duration": 9,
    "start_time": "2021-07-19T18:03:32.916Z"
   },
   {
    "duration": 21,
    "start_time": "2021-07-19T18:03:32.941Z"
   },
   {
    "duration": 6,
    "start_time": "2021-07-19T18:03:32.965Z"
   },
   {
    "duration": 25,
    "start_time": "2021-07-19T18:03:32.973Z"
   },
   {
    "duration": 44,
    "start_time": "2021-07-19T18:03:33.001Z"
   },
   {
    "duration": 17,
    "start_time": "2021-07-19T18:03:33.047Z"
   },
   {
    "duration": 21,
    "start_time": "2021-07-19T18:03:33.066Z"
   },
   {
    "duration": 13,
    "start_time": "2021-07-19T18:03:33.089Z"
   },
   {
    "duration": 6,
    "start_time": "2021-07-19T18:03:33.105Z"
   },
   {
    "duration": 71,
    "start_time": "2021-07-19T18:03:33.141Z"
   },
   {
    "duration": 49,
    "start_time": "2021-07-19T18:03:33.214Z"
   },
   {
    "duration": 8,
    "start_time": "2021-07-19T18:03:33.265Z"
   },
   {
    "duration": 99,
    "start_time": "2021-07-19T18:03:33.275Z"
   },
   {
    "duration": 171,
    "start_time": "2021-07-19T18:03:33.376Z"
   },
   {
    "duration": 22,
    "start_time": "2021-07-19T18:03:33.549Z"
   },
   {
    "duration": 11,
    "start_time": "2021-07-19T18:03:33.573Z"
   },
   {
    "duration": 23,
    "start_time": "2021-07-19T18:03:33.585Z"
   },
   {
    "duration": 5,
    "start_time": "2021-07-19T18:04:05.119Z"
   },
   {
    "duration": 5,
    "start_time": "2021-07-19T18:04:40.357Z"
   },
   {
    "duration": 6,
    "start_time": "2021-07-19T18:04:45.023Z"
   },
   {
    "duration": 7,
    "start_time": "2021-07-19T18:07:02.970Z"
   },
   {
    "duration": 88,
    "start_time": "2021-07-19T18:07:53.248Z"
   },
   {
    "duration": 8,
    "start_time": "2021-07-19T18:07:58.280Z"
   },
   {
    "duration": 6,
    "start_time": "2021-07-19T18:08:15.840Z"
   },
   {
    "duration": 4,
    "start_time": "2021-07-19T18:08:35.528Z"
   },
   {
    "duration": 5,
    "start_time": "2021-07-19T18:08:38.665Z"
   },
   {
    "duration": 872,
    "start_time": "2021-07-19T18:09:03.601Z"
   },
   {
    "duration": 434,
    "start_time": "2021-07-19T18:09:04.475Z"
   },
   {
    "duration": 15,
    "start_time": "2021-07-19T18:09:04.911Z"
   },
   {
    "duration": 16,
    "start_time": "2021-07-19T18:09:04.928Z"
   },
   {
    "duration": 2286,
    "start_time": "2021-07-19T18:09:04.945Z"
   },
   {
    "duration": 13,
    "start_time": "2021-07-19T18:09:07.233Z"
   },
   {
    "duration": 17,
    "start_time": "2021-07-19T18:09:07.248Z"
   },
   {
    "duration": 5,
    "start_time": "2021-07-19T18:09:07.268Z"
   },
   {
    "duration": 18,
    "start_time": "2021-07-19T18:09:07.275Z"
   },
   {
    "duration": 11,
    "start_time": "2021-07-19T18:09:07.295Z"
   },
   {
    "duration": 41,
    "start_time": "2021-07-19T18:09:07.308Z"
   },
   {
    "duration": 16,
    "start_time": "2021-07-19T18:09:07.350Z"
   },
   {
    "duration": 7,
    "start_time": "2021-07-19T18:09:07.368Z"
   },
   {
    "duration": 72,
    "start_time": "2021-07-19T18:09:07.377Z"
   },
   {
    "duration": 35,
    "start_time": "2021-07-19T18:09:07.452Z"
   },
   {
    "duration": 9,
    "start_time": "2021-07-19T18:09:07.489Z"
   },
   {
    "duration": 21,
    "start_time": "2021-07-19T18:09:07.499Z"
   },
   {
    "duration": 121,
    "start_time": "2021-07-19T18:09:07.522Z"
   },
   {
    "duration": 80,
    "start_time": "2021-07-19T18:09:07.645Z"
   },
   {
    "duration": 18,
    "start_time": "2021-07-19T18:09:07.727Z"
   },
   {
    "duration": 18,
    "start_time": "2021-07-19T18:09:07.746Z"
   },
   {
    "duration": 3,
    "start_time": "2021-07-19T18:09:48.662Z"
   },
   {
    "duration": 356,
    "start_time": "2021-07-19T18:09:53.218Z"
   },
   {
    "duration": 7,
    "start_time": "2021-07-19T18:14:33.405Z"
   },
   {
    "duration": 3,
    "start_time": "2021-07-19T18:20:49.959Z"
   },
   {
    "duration": 5,
    "start_time": "2021-07-19T18:21:13.668Z"
   },
   {
    "duration": 5,
    "start_time": "2021-07-19T18:21:27.908Z"
   },
   {
    "duration": 6,
    "start_time": "2021-07-19T18:21:30.838Z"
   },
   {
    "duration": 6,
    "start_time": "2021-07-19T18:21:32.839Z"
   },
   {
    "duration": 3,
    "start_time": "2021-07-19T18:21:35.694Z"
   },
   {
    "duration": 5,
    "start_time": "2021-07-19T18:22:32.056Z"
   },
   {
    "duration": 3,
    "start_time": "2021-07-19T18:22:50.413Z"
   },
   {
    "duration": 3,
    "start_time": "2021-07-19T18:23:26.778Z"
   },
   {
    "duration": 132,
    "start_time": "2021-07-19T18:23:42.359Z"
   },
   {
    "duration": 3,
    "start_time": "2021-07-19T18:23:44.191Z"
   },
   {
    "duration": 3,
    "start_time": "2021-07-19T18:23:56.134Z"
   },
   {
    "duration": 7053,
    "start_time": "2021-07-19T18:24:12.259Z"
   },
   {
    "duration": 12,
    "start_time": "2021-07-19T18:24:20.111Z"
   },
   {
    "duration": 5,
    "start_time": "2021-07-19T18:25:39.912Z"
   },
   {
    "duration": 23,
    "start_time": "2021-07-19T18:27:06.490Z"
   },
   {
    "duration": 6,
    "start_time": "2021-07-19T18:27:12.673Z"
   },
   {
    "duration": 364,
    "start_time": "2021-07-19T18:30:00.159Z"
   },
   {
    "duration": 417,
    "start_time": "2021-07-19T18:30:09.744Z"
   },
   {
    "duration": 292,
    "start_time": "2021-07-19T18:30:28.811Z"
   },
   {
    "duration": 434,
    "start_time": "2021-07-19T18:30:36.927Z"
   },
   {
    "duration": 282,
    "start_time": "2021-07-19T18:31:30.355Z"
   },
   {
    "duration": 264,
    "start_time": "2021-07-19T18:31:40.170Z"
   },
   {
    "duration": 467,
    "start_time": "2021-07-19T18:31:47.067Z"
   },
   {
    "duration": 3,
    "start_time": "2021-07-19T18:32:34.132Z"
   },
   {
    "duration": 171,
    "start_time": "2021-07-19T18:32:48.247Z"
   },
   {
    "duration": 2,
    "start_time": "2021-07-19T18:33:30.766Z"
   },
   {
    "duration": 181,
    "start_time": "2021-07-19T18:33:36.122Z"
   },
   {
    "duration": 474,
    "start_time": "2021-07-19T18:33:56.174Z"
   },
   {
    "duration": 235,
    "start_time": "2021-07-19T18:34:18.941Z"
   },
   {
    "duration": 274,
    "start_time": "2021-07-19T18:34:38.107Z"
   },
   {
    "duration": 6820,
    "start_time": "2021-07-19T18:34:54.255Z"
   },
   {
    "duration": 6010,
    "start_time": "2021-07-19T18:35:03.885Z"
   },
   {
    "duration": 17,
    "start_time": "2021-07-19T18:40:40.411Z"
   },
   {
    "duration": 13,
    "start_time": "2021-07-19T18:41:24.812Z"
   },
   {
    "duration": 6349,
    "start_time": "2021-07-19T18:41:27.585Z"
   },
   {
    "duration": 17,
    "start_time": "2021-07-19T18:41:47.629Z"
   },
   {
    "duration": 4,
    "start_time": "2021-07-19T18:42:14.611Z"
   },
   {
    "duration": 5,
    "start_time": "2021-07-19T18:42:17.772Z"
   },
   {
    "duration": 1110,
    "start_time": "2021-07-19T18:46:13.448Z"
   },
   {
    "duration": 342,
    "start_time": "2021-07-19T18:46:14.560Z"
   },
   {
    "duration": 15,
    "start_time": "2021-07-19T18:46:14.905Z"
   },
   {
    "duration": 6,
    "start_time": "2021-07-19T18:46:14.922Z"
   },
   {
    "duration": 2306,
    "start_time": "2021-07-19T18:46:14.929Z"
   },
   {
    "duration": 10,
    "start_time": "2021-07-19T18:46:17.238Z"
   },
   {
    "duration": 17,
    "start_time": "2021-07-19T18:46:17.249Z"
   },
   {
    "duration": 5,
    "start_time": "2021-07-19T18:46:17.268Z"
   },
   {
    "duration": 18,
    "start_time": "2021-07-19T18:46:17.276Z"
   },
   {
    "duration": 11,
    "start_time": "2021-07-19T18:46:17.297Z"
   },
   {
    "duration": 41,
    "start_time": "2021-07-19T18:46:17.310Z"
   },
   {
    "duration": 23,
    "start_time": "2021-07-19T18:46:17.353Z"
   },
   {
    "duration": 7,
    "start_time": "2021-07-19T18:46:17.377Z"
   },
   {
    "duration": 21,
    "start_time": "2021-07-19T18:46:17.385Z"
   },
   {
    "duration": 57,
    "start_time": "2021-07-19T18:46:17.407Z"
   },
   {
    "duration": 36,
    "start_time": "2021-07-19T18:46:17.466Z"
   },
   {
    "duration": 94,
    "start_time": "2021-07-19T18:46:17.504Z"
   },
   {
    "duration": 18,
    "start_time": "2021-07-19T18:46:17.600Z"
   },
   {
    "duration": 108,
    "start_time": "2021-07-19T18:46:17.620Z"
   },
   {
    "duration": 22,
    "start_time": "2021-07-19T18:46:17.729Z"
   },
   {
    "duration": 7,
    "start_time": "2021-07-19T18:46:17.752Z"
   },
   {
    "duration": 8,
    "start_time": "2021-07-19T18:46:17.761Z"
   },
   {
    "duration": 6,
    "start_time": "2021-07-19T18:46:17.771Z"
   },
   {
    "duration": 6,
    "start_time": "2021-07-19T18:46:17.779Z"
   },
   {
    "duration": 4,
    "start_time": "2021-07-19T18:46:17.786Z"
   },
   {
    "duration": 50,
    "start_time": "2021-07-19T18:46:17.792Z"
   },
   {
    "duration": 6,
    "start_time": "2021-07-19T18:46:17.846Z"
   },
   {
    "duration": 7362,
    "start_time": "2021-07-19T18:46:17.854Z"
   },
   {
    "duration": 37,
    "start_time": "2021-07-19T18:46:25.218Z"
   },
   {
    "duration": 13,
    "start_time": "2021-07-19T18:46:25.257Z"
   },
   {
    "duration": 15,
    "start_time": "2021-07-19T18:46:25.271Z"
   },
   {
    "duration": 9,
    "start_time": "2021-07-19T18:46:25.287Z"
   },
   {
    "duration": 10,
    "start_time": "2021-07-19T18:46:25.297Z"
   },
   {
    "duration": 4,
    "start_time": "2021-07-19T18:46:41.371Z"
   },
   {
    "duration": 3,
    "start_time": "2021-07-19T18:46:43.344Z"
   },
   {
    "duration": 8,
    "start_time": "2021-07-19T18:46:43.500Z"
   },
   {
    "duration": 9,
    "start_time": "2021-07-19T18:46:57.412Z"
   },
   {
    "duration": 4,
    "start_time": "2021-07-19T18:46:59.255Z"
   },
   {
    "duration": 642,
    "start_time": "2021-07-19T18:48:59.549Z"
   },
   {
    "duration": 609,
    "start_time": "2021-07-19T18:49:18.514Z"
   },
   {
    "duration": 7,
    "start_time": "2021-07-19T18:56:11.193Z"
   },
   {
    "duration": 421,
    "start_time": "2021-07-19T18:56:18.529Z"
   },
   {
    "duration": 9,
    "start_time": "2021-07-19T18:56:34.312Z"
   },
   {
    "duration": 9,
    "start_time": "2021-07-19T18:56:41.375Z"
   },
   {
    "duration": 308,
    "start_time": "2021-07-19T19:00:03.428Z"
   },
   {
    "duration": 49,
    "start_time": "2021-07-19T19:00:12.521Z"
   },
   {
    "duration": 12,
    "start_time": "2021-07-19T19:00:32.903Z"
   },
   {
    "duration": 288,
    "start_time": "2021-07-19T19:03:56.596Z"
   },
   {
    "duration": 46,
    "start_time": "2021-07-19T19:04:02.722Z"
   },
   {
    "duration": 471,
    "start_time": "2021-07-19T19:04:03.312Z"
   },
   {
    "duration": 291,
    "start_time": "2021-07-19T19:04:22.603Z"
   },
   {
    "duration": 34,
    "start_time": "2021-07-19T19:04:35.557Z"
   },
   {
    "duration": 287,
    "start_time": "2021-07-19T19:04:37.731Z"
   },
   {
    "duration": 14,
    "start_time": "2021-07-19T19:05:46.143Z"
   },
   {
    "duration": 13,
    "start_time": "2021-07-19T19:05:48.571Z"
   },
   {
    "duration": 13,
    "start_time": "2021-07-19T19:05:50.884Z"
   },
   {
    "duration": 89,
    "start_time": "2021-07-19T19:06:09.512Z"
   },
   {
    "duration": 13,
    "start_time": "2021-07-19T19:06:14.028Z"
   },
   {
    "duration": 288,
    "start_time": "2021-07-19T19:06:23.342Z"
   },
   {
    "duration": 299,
    "start_time": "2021-07-19T19:06:33.965Z"
   },
   {
    "duration": 18,
    "start_time": "2021-07-19T19:06:37.204Z"
   },
   {
    "duration": 10,
    "start_time": "2021-07-19T19:07:04.700Z"
   },
   {
    "duration": 11,
    "start_time": "2021-07-19T19:07:10.033Z"
   },
   {
    "duration": 20,
    "start_time": "2021-07-19T19:07:17.838Z"
   },
   {
    "duration": 10,
    "start_time": "2021-07-19T19:07:19.822Z"
   },
   {
    "duration": 24,
    "start_time": "2021-07-19T19:07:56.536Z"
   },
   {
    "duration": 1494,
    "start_time": "2021-07-20T07:46:38.511Z"
   },
   {
    "duration": 433,
    "start_time": "2021-07-20T07:46:40.009Z"
   },
   {
    "duration": 24,
    "start_time": "2021-07-20T07:46:40.445Z"
   },
   {
    "duration": 5,
    "start_time": "2021-07-20T07:46:40.472Z"
   },
   {
    "duration": 2424,
    "start_time": "2021-07-20T07:46:40.500Z"
   },
   {
    "duration": 14,
    "start_time": "2021-07-20T07:46:42.928Z"
   },
   {
    "duration": 29,
    "start_time": "2021-07-20T07:46:42.944Z"
   },
   {
    "duration": 8,
    "start_time": "2021-07-20T07:46:43.000Z"
   },
   {
    "duration": 57,
    "start_time": "2021-07-20T07:46:43.013Z"
   },
   {
    "duration": 45,
    "start_time": "2021-07-20T07:46:43.073Z"
   },
   {
    "duration": 32,
    "start_time": "2021-07-20T07:46:43.122Z"
   },
   {
    "duration": 53,
    "start_time": "2021-07-20T07:46:43.157Z"
   },
   {
    "duration": 9,
    "start_time": "2021-07-20T07:46:43.213Z"
   },
   {
    "duration": 11,
    "start_time": "2021-07-20T07:46:43.225Z"
   },
   {
    "duration": 98,
    "start_time": "2021-07-20T07:46:43.238Z"
   },
   {
    "duration": 66,
    "start_time": "2021-07-20T07:46:43.339Z"
   },
   {
    "duration": 9,
    "start_time": "2021-07-20T07:46:43.407Z"
   },
   {
    "duration": 116,
    "start_time": "2021-07-20T07:46:43.418Z"
   },
   {
    "duration": 164,
    "start_time": "2021-07-20T07:46:43.536Z"
   },
   {
    "duration": 25,
    "start_time": "2021-07-20T07:46:43.703Z"
   },
   {
    "duration": 11,
    "start_time": "2021-07-20T07:46:43.730Z"
   },
   {
    "duration": 23,
    "start_time": "2021-07-20T07:46:43.743Z"
   },
   {
    "duration": 8,
    "start_time": "2021-07-20T07:46:43.771Z"
   },
   {
    "duration": 24,
    "start_time": "2021-07-20T07:46:43.802Z"
   },
   {
    "duration": 9,
    "start_time": "2021-07-20T07:46:43.829Z"
   },
   {
    "duration": 41,
    "start_time": "2021-07-20T07:46:43.841Z"
   },
   {
    "duration": 18,
    "start_time": "2021-07-20T07:46:43.884Z"
   },
   {
    "duration": 11394,
    "start_time": "2021-07-20T07:46:43.905Z"
   },
   {
    "duration": 34,
    "start_time": "2021-07-20T07:46:55.302Z"
   },
   {
    "duration": 80,
    "start_time": "2021-07-20T07:46:55.339Z"
   },
   {
    "duration": 85,
    "start_time": "2021-07-20T07:46:55.422Z"
   },
   {
    "duration": 6,
    "start_time": "2021-07-20T07:46:55.510Z"
   },
   {
    "duration": 16,
    "start_time": "2021-07-20T07:46:55.519Z"
   },
   {
    "duration": 72,
    "start_time": "2021-07-20T07:46:55.538Z"
   },
   {
    "duration": 187,
    "start_time": "2021-07-20T07:46:55.613Z"
   },
   {
    "duration": 31,
    "start_time": "2021-07-20T07:46:55.804Z"
   },
   {
    "duration": 106,
    "start_time": "2021-07-20T07:46:55.839Z"
   },
   {
    "duration": 18967,
    "start_time": "2021-07-20T07:47:33.080Z"
   },
   {
    "duration": 15573,
    "start_time": "2021-07-20T07:48:07.267Z"
   },
   {
    "duration": 28,
    "start_time": "2021-07-20T07:50:58.789Z"
   },
   {
    "duration": 2187,
    "start_time": "2021-07-20T07:51:02.738Z"
   },
   {
    "duration": 22,
    "start_time": "2021-07-20T07:51:08.974Z"
   },
   {
    "duration": 43,
    "start_time": "2021-07-20T07:51:26.928Z"
   },
   {
    "duration": 27,
    "start_time": "2021-07-20T07:51:31.257Z"
   },
   {
    "duration": 23,
    "start_time": "2021-07-20T07:51:35.864Z"
   },
   {
    "duration": 287,
    "start_time": "2021-07-20T07:52:29.973Z"
   },
   {
    "duration": 11,
    "start_time": "2021-07-20T07:52:35.788Z"
   },
   {
    "duration": 13,
    "start_time": "2021-07-20T07:52:51.271Z"
   },
   {
    "duration": 11,
    "start_time": "2021-07-20T08:04:08.073Z"
   },
   {
    "duration": 11,
    "start_time": "2021-07-20T08:04:12.796Z"
   },
   {
    "duration": 46,
    "start_time": "2021-07-20T08:04:29.408Z"
   },
   {
    "duration": 310,
    "start_time": "2021-07-20T08:04:40.402Z"
   },
   {
    "duration": 73,
    "start_time": "2021-07-20T08:04:47.764Z"
   },
   {
    "duration": 48,
    "start_time": "2021-07-20T08:07:33.281Z"
   },
   {
    "duration": 700,
    "start_time": "2021-07-20T08:23:57.562Z"
   },
   {
    "duration": 405,
    "start_time": "2021-07-20T08:24:10.325Z"
   },
   {
    "duration": 289,
    "start_time": "2021-07-20T08:25:43.158Z"
   },
   {
    "duration": 5,
    "start_time": "2021-07-20T08:33:03.873Z"
   },
   {
    "duration": 285,
    "start_time": "2021-07-20T08:34:26.577Z"
   },
   {
    "duration": 290,
    "start_time": "2021-07-20T08:34:41.524Z"
   },
   {
    "duration": 398,
    "start_time": "2021-07-20T08:34:55.571Z"
   },
   {
    "duration": 12,
    "start_time": "2021-07-20T08:42:46.579Z"
   },
   {
    "duration": 13,
    "start_time": "2021-07-20T08:54:07.066Z"
   },
   {
    "duration": 308,
    "start_time": "2021-07-20T08:57:27.932Z"
   },
   {
    "duration": 7,
    "start_time": "2021-07-20T08:57:50.510Z"
   },
   {
    "duration": 319,
    "start_time": "2021-07-20T08:58:00.213Z"
   },
   {
    "duration": 5,
    "start_time": "2021-07-20T08:58:27.274Z"
   },
   {
    "duration": 5,
    "start_time": "2021-07-20T08:58:32.021Z"
   },
   {
    "duration": 4,
    "start_time": "2021-07-20T08:58:40.366Z"
   },
   {
    "duration": 123,
    "start_time": "2021-07-20T09:02:39.826Z"
   },
   {
    "duration": 827,
    "start_time": "2021-07-20T09:04:22.036Z"
   },
   {
    "duration": 537,
    "start_time": "2021-07-20T09:04:24.444Z"
   },
   {
    "duration": 98,
    "start_time": "2021-07-20T09:06:05.444Z"
   },
   {
    "duration": 11,
    "start_time": "2021-07-20T09:06:12.757Z"
   },
   {
    "duration": 11,
    "start_time": "2021-07-20T09:08:06.785Z"
   },
   {
    "duration": 281,
    "start_time": "2021-07-20T09:09:02.570Z"
   },
   {
    "duration": 12,
    "start_time": "2021-07-20T09:09:06.598Z"
   },
   {
    "duration": 16,
    "start_time": "2021-07-20T09:09:30.328Z"
   },
   {
    "duration": 10,
    "start_time": "2021-07-20T09:09:37.990Z"
   },
   {
    "duration": 14,
    "start_time": "2021-07-20T09:09:38.003Z"
   },
   {
    "duration": 334,
    "start_time": "2021-07-20T09:10:05.205Z"
   },
   {
    "duration": -58,
    "start_time": "2021-07-20T09:10:05.599Z"
   },
   {
    "duration": 7,
    "start_time": "2021-07-20T09:10:10.826Z"
   },
   {
    "duration": 10,
    "start_time": "2021-07-20T09:10:11.233Z"
   },
   {
    "duration": 10,
    "start_time": "2021-07-20T09:12:31.040Z"
   },
   {
    "duration": 10,
    "start_time": "2021-07-20T09:12:39.420Z"
   },
   {
    "duration": 9,
    "start_time": "2021-07-20T09:12:42.017Z"
   },
   {
    "duration": 9,
    "start_time": "2021-07-20T09:12:46.579Z"
   },
   {
    "duration": 6,
    "start_time": "2021-07-20T09:13:07.300Z"
   },
   {
    "duration": 9,
    "start_time": "2021-07-20T09:13:11.842Z"
   },
   {
    "duration": 6,
    "start_time": "2021-07-20T09:14:07.648Z"
   },
   {
    "duration": 14,
    "start_time": "2021-07-20T09:14:11.060Z"
   },
   {
    "duration": 10,
    "start_time": "2021-07-20T09:15:05.715Z"
   },
   {
    "duration": 12,
    "start_time": "2021-07-20T09:15:10.842Z"
   },
   {
    "duration": 12,
    "start_time": "2021-07-20T09:15:11.018Z"
   },
   {
    "duration": 13,
    "start_time": "2021-07-20T09:15:11.227Z"
   },
   {
    "duration": 408,
    "start_time": "2021-07-20T09:19:05.043Z"
   },
   {
    "duration": 16,
    "start_time": "2021-07-20T09:19:16.330Z"
   },
   {
    "duration": 12,
    "start_time": "2021-07-20T09:19:22.695Z"
   },
   {
    "duration": 179,
    "start_time": "2021-07-20T09:19:31.725Z"
   },
   {
    "duration": 294,
    "start_time": "2021-07-20T09:33:06.416Z"
   },
   {
    "duration": 50,
    "start_time": "2021-07-20T09:40:05.227Z"
   },
   {
    "duration": 7269,
    "start_time": "2021-07-20T09:40:05.452Z"
   },
   {
    "duration": 13,
    "start_time": "2021-07-20T09:40:14.180Z"
   },
   {
    "duration": 7,
    "start_time": "2021-07-20T09:40:16.279Z"
   },
   {
    "duration": 9,
    "start_time": "2021-07-20T09:40:18.757Z"
   },
   {
    "duration": 8,
    "start_time": "2021-07-20T09:42:00.176Z"
   },
   {
    "duration": 2611,
    "start_time": "2021-07-20T17:12:37.102Z"
   },
   {
    "duration": 2005,
    "start_time": "2021-07-20T17:12:39.715Z"
   },
   {
    "duration": 15,
    "start_time": "2021-07-20T17:12:41.722Z"
   },
   {
    "duration": 10,
    "start_time": "2021-07-20T17:12:41.739Z"
   },
   {
    "duration": 449,
    "start_time": "2021-07-20T17:12:41.751Z"
   },
   {
    "duration": 7,
    "start_time": "2021-07-20T17:12:42.202Z"
   },
   {
    "duration": 16,
    "start_time": "2021-07-20T17:12:42.211Z"
   },
   {
    "duration": 4,
    "start_time": "2021-07-20T17:12:42.229Z"
   },
   {
    "duration": 17,
    "start_time": "2021-07-20T17:12:42.235Z"
   },
   {
    "duration": 31,
    "start_time": "2021-07-20T17:12:42.254Z"
   },
   {
    "duration": 12,
    "start_time": "2021-07-20T17:12:42.286Z"
   },
   {
    "duration": 15,
    "start_time": "2021-07-20T17:12:42.299Z"
   },
   {
    "duration": 6,
    "start_time": "2021-07-20T17:12:42.315Z"
   },
   {
    "duration": 6,
    "start_time": "2021-07-20T17:12:42.322Z"
   },
   {
    "duration": 72,
    "start_time": "2021-07-20T17:12:42.329Z"
   },
   {
    "duration": 37,
    "start_time": "2021-07-20T17:12:42.402Z"
   },
   {
    "duration": 91,
    "start_time": "2021-07-20T17:12:42.440Z"
   },
   {
    "duration": 14,
    "start_time": "2021-07-20T17:12:42.532Z"
   },
   {
    "duration": 111,
    "start_time": "2021-07-20T17:12:42.548Z"
   },
   {
    "duration": 25,
    "start_time": "2021-07-20T17:12:42.660Z"
   },
   {
    "duration": 4,
    "start_time": "2021-07-20T17:12:42.687Z"
   },
   {
    "duration": 6,
    "start_time": "2021-07-20T17:12:42.692Z"
   },
   {
    "duration": 6,
    "start_time": "2021-07-20T17:12:42.700Z"
   },
   {
    "duration": 3,
    "start_time": "2021-07-20T17:12:42.707Z"
   },
   {
    "duration": 26,
    "start_time": "2021-07-20T17:12:42.711Z"
   },
   {
    "duration": 6,
    "start_time": "2021-07-20T17:12:42.739Z"
   },
   {
    "duration": 6784,
    "start_time": "2021-07-20T17:12:42.747Z"
   },
   {
    "duration": 14,
    "start_time": "2021-07-20T17:12:49.533Z"
   },
   {
    "duration": 6503,
    "start_time": "2021-07-20T17:12:49.584Z"
   },
   {
    "duration": 4,
    "start_time": "2021-07-20T17:12:56.088Z"
   },
   {
    "duration": 9,
    "start_time": "2021-07-20T17:12:56.094Z"
   },
   {
    "duration": 9,
    "start_time": "2021-07-20T17:12:56.105Z"
   },
   {
    "duration": 86,
    "start_time": "2021-07-20T17:12:56.115Z"
   },
   {
    "duration": 14,
    "start_time": "2021-07-20T17:12:56.202Z"
   },
   {
    "duration": 75,
    "start_time": "2021-07-20T17:12:56.218Z"
   },
   {
    "duration": 7,
    "start_time": "2021-07-20T17:12:56.294Z"
   },
   {
    "duration": 11,
    "start_time": "2021-07-20T17:12:56.303Z"
   },
   {
    "duration": 87,
    "start_time": "2021-07-20T17:12:56.316Z"
   },
   {
    "duration": 581,
    "start_time": "2021-07-20T17:12:56.405Z"
   },
   {
    "duration": 8,
    "start_time": "2021-07-20T17:12:56.987Z"
   },
   {
    "duration": 7,
    "start_time": "2021-07-20T17:12:56.997Z"
   },
   {
    "duration": 5,
    "start_time": "2021-07-20T17:12:57.006Z"
   },
   {
    "duration": 10,
    "start_time": "2021-07-20T17:12:57.012Z"
   },
   {
    "duration": 129,
    "start_time": "2021-07-20T17:12:57.023Z"
   },
   {
    "duration": 6,
    "start_time": "2021-07-20T17:12:57.154Z"
   },
   {
    "duration": 23,
    "start_time": "2021-07-20T17:12:57.162Z"
   },
   {
    "duration": 3,
    "start_time": "2021-07-20T17:12:57.186Z"
   },
   {
    "duration": 9,
    "start_time": "2021-07-20T17:13:26.532Z"
   },
   {
    "duration": 28,
    "start_time": "2021-07-20T17:13:48.894Z"
   },
   {
    "duration": 29,
    "start_time": "2021-07-20T17:14:21.835Z"
   },
   {
    "duration": 1078,
    "start_time": "2021-07-20T17:22:42.036Z"
   },
   {
    "duration": 310,
    "start_time": "2021-07-20T17:22:43.115Z"
   },
   {
    "duration": 15,
    "start_time": "2021-07-20T17:22:43.427Z"
   },
   {
    "duration": 3,
    "start_time": "2021-07-20T17:22:43.444Z"
   },
   {
    "duration": 476,
    "start_time": "2021-07-20T17:22:43.449Z"
   },
   {
    "duration": 8,
    "start_time": "2021-07-20T17:22:43.927Z"
   },
   {
    "duration": 16,
    "start_time": "2021-07-20T17:22:43.936Z"
   },
   {
    "duration": 4,
    "start_time": "2021-07-20T17:22:43.954Z"
   },
   {
    "duration": 39,
    "start_time": "2021-07-20T17:22:43.960Z"
   },
   {
    "duration": 11,
    "start_time": "2021-07-20T17:22:44.000Z"
   },
   {
    "duration": 10,
    "start_time": "2021-07-20T17:22:44.013Z"
   },
   {
    "duration": 15,
    "start_time": "2021-07-20T17:22:44.024Z"
   },
   {
    "duration": 6,
    "start_time": "2021-07-20T17:22:44.041Z"
   },
   {
    "duration": 38,
    "start_time": "2021-07-20T17:22:44.048Z"
   },
   {
    "duration": 65,
    "start_time": "2021-07-20T17:22:44.087Z"
   },
   {
    "duration": 38,
    "start_time": "2021-07-20T17:22:44.153Z"
   },
   {
    "duration": 8,
    "start_time": "2021-07-20T17:22:44.192Z"
   },
   {
    "duration": 19,
    "start_time": "2021-07-20T17:22:44.201Z"
   },
   {
    "duration": 113,
    "start_time": "2021-07-20T17:22:44.222Z"
   },
   {
    "duration": 15,
    "start_time": "2021-07-20T17:22:44.337Z"
   },
   {
    "duration": 7,
    "start_time": "2021-07-20T17:22:44.354Z"
   },
   {
    "duration": 18,
    "start_time": "2021-07-20T17:22:44.362Z"
   },
   {
    "duration": 7,
    "start_time": "2021-07-20T17:22:44.387Z"
   },
   {
    "duration": 6,
    "start_time": "2021-07-20T17:22:44.396Z"
   },
   {
    "duration": 27,
    "start_time": "2021-07-20T17:22:44.403Z"
   },
   {
    "duration": 6,
    "start_time": "2021-07-20T17:22:44.431Z"
   },
   {
    "duration": 6707,
    "start_time": "2021-07-20T17:22:44.439Z"
   },
   {
    "duration": 41,
    "start_time": "2021-07-20T17:22:51.149Z"
   },
   {
    "duration": 6551,
    "start_time": "2021-07-20T17:22:51.192Z"
   },
   {
    "duration": 4,
    "start_time": "2021-07-20T17:22:57.746Z"
   },
   {
    "duration": 34,
    "start_time": "2021-07-20T17:22:57.753Z"
   },
   {
    "duration": 29,
    "start_time": "2021-07-20T17:22:57.788Z"
   },
   {
    "duration": 87,
    "start_time": "2021-07-20T17:22:57.818Z"
   },
   {
    "duration": 13,
    "start_time": "2021-07-20T17:22:57.907Z"
   },
   {
    "duration": 73,
    "start_time": "2021-07-20T17:22:57.922Z"
   },
   {
    "duration": 12,
    "start_time": "2021-07-20T17:22:57.997Z"
   },
   {
    "duration": 14,
    "start_time": "2021-07-20T17:22:58.011Z"
   },
   {
    "duration": 83,
    "start_time": "2021-07-20T17:22:58.026Z"
   },
   {
    "duration": 595,
    "start_time": "2021-07-20T17:22:58.110Z"
   },
   {
    "duration": 8,
    "start_time": "2021-07-20T17:22:58.707Z"
   },
   {
    "duration": 14,
    "start_time": "2021-07-20T17:22:58.716Z"
   },
   {
    "duration": 8,
    "start_time": "2021-07-20T17:22:58.731Z"
   },
   {
    "duration": 9,
    "start_time": "2021-07-20T17:22:58.740Z"
   },
   {
    "duration": 117,
    "start_time": "2021-07-20T17:22:58.750Z"
   },
   {
    "duration": 16,
    "start_time": "2021-07-20T17:22:58.868Z"
   },
   {
    "duration": 6,
    "start_time": "2021-07-20T17:22:58.886Z"
   },
   {
    "duration": 6,
    "start_time": "2021-07-20T17:22:58.894Z"
   },
   {
    "duration": 30,
    "start_time": "2021-07-20T17:22:58.902Z"
   },
   {
    "duration": 66,
    "start_time": "2021-07-20T17:22:58.933Z"
   },
   {
    "duration": 16,
    "start_time": "2021-07-20T17:23:08.608Z"
   },
   {
    "duration": 13,
    "start_time": "2021-07-20T17:31:42.956Z"
   },
   {
    "duration": 31,
    "start_time": "2021-07-20T17:31:48.120Z"
   },
   {
    "duration": 20,
    "start_time": "2021-07-20T17:32:14.224Z"
   },
   {
    "duration": 23508,
    "start_time": "2021-07-20T17:32:22.084Z"
   },
   {
    "duration": 181,
    "start_time": "2021-07-20T17:33:36.517Z"
   },
   {
    "duration": 183,
    "start_time": "2021-07-20T17:33:42.526Z"
   },
   {
    "duration": 1503,
    "start_time": "2021-07-20T17:33:50.236Z"
   },
   {
    "duration": 16,
    "start_time": "2021-07-20T17:34:01.743Z"
   },
   {
    "duration": 1220,
    "start_time": "2021-07-21T13:23:25.794Z"
   },
   {
    "duration": 335,
    "start_time": "2021-07-21T13:23:27.016Z"
   },
   {
    "duration": 15,
    "start_time": "2021-07-21T13:23:27.353Z"
   },
   {
    "duration": 4,
    "start_time": "2021-07-21T13:23:27.370Z"
   },
   {
    "duration": 573,
    "start_time": "2021-07-21T13:23:27.375Z"
   },
   {
    "duration": 7,
    "start_time": "2021-07-21T13:23:27.950Z"
   },
   {
    "duration": 19,
    "start_time": "2021-07-21T13:23:27.959Z"
   },
   {
    "duration": 12,
    "start_time": "2021-07-21T13:23:27.981Z"
   },
   {
    "duration": 16,
    "start_time": "2021-07-21T13:23:27.996Z"
   },
   {
    "duration": 11,
    "start_time": "2021-07-21T13:23:28.014Z"
   },
   {
    "duration": 10,
    "start_time": "2021-07-21T13:23:28.026Z"
   },
   {
    "duration": 18,
    "start_time": "2021-07-21T13:23:28.038Z"
   },
   {
    "duration": 5,
    "start_time": "2021-07-21T13:23:28.058Z"
   },
   {
    "duration": 3,
    "start_time": "2021-07-21T13:23:28.092Z"
   },
   {
    "duration": 59,
    "start_time": "2021-07-21T13:23:28.097Z"
   },
   {
    "duration": 39,
    "start_time": "2021-07-21T13:23:28.158Z"
   },
   {
    "duration": 7,
    "start_time": "2021-07-21T13:23:28.199Z"
   },
   {
    "duration": 17,
    "start_time": "2021-07-21T13:23:28.207Z"
   },
   {
    "duration": 107,
    "start_time": "2021-07-21T13:23:28.226Z"
   },
   {
    "duration": 15,
    "start_time": "2021-07-21T13:23:28.334Z"
   },
   {
    "duration": 4,
    "start_time": "2021-07-21T13:23:28.351Z"
   },
   {
    "duration": 5,
    "start_time": "2021-07-21T13:23:28.356Z"
   },
   {
    "duration": 29,
    "start_time": "2021-07-21T13:23:28.364Z"
   },
   {
    "duration": 3,
    "start_time": "2021-07-21T13:23:28.394Z"
   },
   {
    "duration": 28,
    "start_time": "2021-07-21T13:23:28.399Z"
   },
   {
    "duration": 6,
    "start_time": "2021-07-21T13:23:28.428Z"
   },
   {
    "duration": 6566,
    "start_time": "2021-07-21T13:23:28.436Z"
   },
   {
    "duration": 13,
    "start_time": "2021-07-21T13:23:35.004Z"
   },
   {
    "duration": 6320,
    "start_time": "2021-07-21T13:23:35.019Z"
   },
   {
    "duration": 5,
    "start_time": "2021-07-21T13:23:41.341Z"
   },
   {
    "duration": 11,
    "start_time": "2021-07-21T13:23:41.348Z"
   },
   {
    "duration": 29,
    "start_time": "2021-07-21T13:23:41.392Z"
   },
   {
    "duration": 86,
    "start_time": "2021-07-21T13:23:41.423Z"
   },
   {
    "duration": 13,
    "start_time": "2021-07-21T13:23:41.511Z"
   },
   {
    "duration": 79,
    "start_time": "2021-07-21T13:23:41.525Z"
   },
   {
    "duration": 12,
    "start_time": "2021-07-21T13:23:41.605Z"
   },
   {
    "duration": 13,
    "start_time": "2021-07-21T13:23:41.619Z"
   },
   {
    "duration": 78,
    "start_time": "2021-07-21T13:23:41.634Z"
   },
   {
    "duration": 525,
    "start_time": "2021-07-21T13:23:41.713Z"
   },
   {
    "duration": 7,
    "start_time": "2021-07-21T13:23:42.240Z"
   },
   {
    "duration": 13,
    "start_time": "2021-07-21T13:23:42.249Z"
   },
   {
    "duration": 8,
    "start_time": "2021-07-21T13:23:42.264Z"
   },
   {
    "duration": 18,
    "start_time": "2021-07-21T13:23:42.274Z"
   },
   {
    "duration": 111,
    "start_time": "2021-07-21T13:23:42.293Z"
   },
   {
    "duration": 6,
    "start_time": "2021-07-21T13:23:42.406Z"
   },
   {
    "duration": 14,
    "start_time": "2021-07-21T13:23:42.414Z"
   },
   {
    "duration": 2,
    "start_time": "2021-07-21T13:23:42.430Z"
   },
   {
    "duration": 31,
    "start_time": "2021-07-21T13:23:42.434Z"
   },
   {
    "duration": 413,
    "start_time": "2021-07-21T13:23:42.466Z"
   },
   {
    "duration": -584,
    "start_time": "2021-07-21T13:23:43.465Z"
   },
   {
    "duration": -598,
    "start_time": "2021-07-21T13:23:43.480Z"
   },
   {
    "duration": -600,
    "start_time": "2021-07-21T13:23:43.483Z"
   },
   {
    "duration": 1209,
    "start_time": "2021-07-23T12:33:45.580Z"
   },
   {
    "duration": 387,
    "start_time": "2021-07-23T12:33:46.791Z"
   },
   {
    "duration": 15,
    "start_time": "2021-07-23T12:33:47.180Z"
   },
   {
    "duration": 3,
    "start_time": "2021-07-23T12:33:47.197Z"
   },
   {
    "duration": 1165,
    "start_time": "2021-07-23T12:33:47.201Z"
   },
   {
    "duration": 17,
    "start_time": "2021-07-23T12:33:48.368Z"
   },
   {
    "duration": 13,
    "start_time": "2021-07-23T12:33:48.387Z"
   },
   {
    "duration": 4,
    "start_time": "2021-07-23T12:33:48.402Z"
   },
   {
    "duration": 16,
    "start_time": "2021-07-23T12:33:48.408Z"
   },
   {
    "duration": 10,
    "start_time": "2021-07-23T12:33:48.426Z"
   },
   {
    "duration": 10,
    "start_time": "2021-07-23T12:33:48.437Z"
   },
   {
    "duration": 47,
    "start_time": "2021-07-23T12:33:48.448Z"
   },
   {
    "duration": 6,
    "start_time": "2021-07-23T12:33:48.496Z"
   },
   {
    "duration": 4,
    "start_time": "2021-07-23T12:33:48.504Z"
   },
   {
    "duration": 48,
    "start_time": "2021-07-23T12:33:48.510Z"
   },
   {
    "duration": 63,
    "start_time": "2021-07-23T12:33:48.560Z"
   },
   {
    "duration": 7,
    "start_time": "2021-07-23T12:33:48.624Z"
   },
   {
    "duration": 17,
    "start_time": "2021-07-23T12:33:48.633Z"
   },
   {
    "duration": 126,
    "start_time": "2021-07-23T12:33:48.652Z"
   },
   {
    "duration": 16,
    "start_time": "2021-07-23T12:33:48.780Z"
   },
   {
    "duration": 4,
    "start_time": "2021-07-23T12:33:48.798Z"
   },
   {
    "duration": 6,
    "start_time": "2021-07-23T12:33:48.804Z"
   },
   {
    "duration": 5,
    "start_time": "2021-07-23T12:33:48.814Z"
   },
   {
    "duration": 3,
    "start_time": "2021-07-23T12:33:48.821Z"
   },
   {
    "duration": 36,
    "start_time": "2021-07-23T12:33:48.825Z"
   },
   {
    "duration": 7,
    "start_time": "2021-07-23T12:33:48.885Z"
   },
   {
    "duration": 6767,
    "start_time": "2021-07-23T12:33:48.894Z"
   },
   {
    "duration": 25,
    "start_time": "2021-07-23T12:33:55.662Z"
   },
   {
    "duration": 6626,
    "start_time": "2021-07-23T12:33:55.690Z"
   },
   {
    "duration": 5,
    "start_time": "2021-07-23T12:34:02.318Z"
   },
   {
    "duration": 15,
    "start_time": "2021-07-23T12:34:02.325Z"
   },
   {
    "duration": 72,
    "start_time": "2021-07-23T12:34:02.342Z"
   },
   {
    "duration": 88,
    "start_time": "2021-07-23T12:34:02.415Z"
   },
   {
    "duration": 13,
    "start_time": "2021-07-23T12:34:02.505Z"
   },
   {
    "duration": 78,
    "start_time": "2021-07-23T12:34:02.520Z"
   },
   {
    "duration": 9,
    "start_time": "2021-07-23T12:34:02.600Z"
   },
   {
    "duration": 14,
    "start_time": "2021-07-23T12:34:02.610Z"
   },
   {
    "duration": 83,
    "start_time": "2021-07-23T12:34:02.626Z"
   },
   {
    "duration": 612,
    "start_time": "2021-07-23T12:34:02.710Z"
   },
   {
    "duration": 9,
    "start_time": "2021-07-23T12:34:03.323Z"
   },
   {
    "duration": 8,
    "start_time": "2021-07-23T12:34:03.334Z"
   },
   {
    "duration": 7,
    "start_time": "2021-07-23T12:34:03.343Z"
   },
   {
    "duration": 9,
    "start_time": "2021-07-23T12:34:03.351Z"
   },
   {
    "duration": 139,
    "start_time": "2021-07-23T12:34:03.361Z"
   },
   {
    "duration": 7,
    "start_time": "2021-07-23T12:34:03.501Z"
   },
   {
    "duration": 10,
    "start_time": "2021-07-23T12:34:03.510Z"
   },
   {
    "duration": 4,
    "start_time": "2021-07-23T12:34:03.521Z"
   },
   {
    "duration": 59,
    "start_time": "2021-07-23T12:34:03.526Z"
   },
   {
    "duration": 327,
    "start_time": "2021-07-23T12:34:03.586Z"
   },
   {
    "duration": -1036,
    "start_time": "2021-07-23T12:34:04.952Z"
   },
   {
    "duration": -1038,
    "start_time": "2021-07-23T12:34:04.955Z"
   },
   {
    "duration": -1039,
    "start_time": "2021-07-23T12:34:04.958Z"
   },
   {
    "duration": 3,
    "start_time": "2021-07-23T12:34:22.141Z"
   },
   {
    "duration": 22,
    "start_time": "2021-07-23T12:34:28.171Z"
   },
   {
    "duration": 4,
    "start_time": "2021-07-23T13:17:54.768Z"
   },
   {
    "duration": 372,
    "start_time": "2021-07-23T13:17:54.774Z"
   },
   {
    "duration": 11,
    "start_time": "2021-07-23T13:17:55.148Z"
   },
   {
    "duration": 4,
    "start_time": "2021-07-23T13:17:55.162Z"
   },
   {
    "duration": 77,
    "start_time": "2021-07-23T13:17:55.185Z"
   },
   {
    "duration": 26,
    "start_time": "2021-07-23T13:17:55.265Z"
   },
   {
    "duration": 15,
    "start_time": "2021-07-23T13:17:55.295Z"
   },
   {
    "duration": 6,
    "start_time": "2021-07-23T13:17:55.313Z"
   },
   {
    "duration": 19,
    "start_time": "2021-07-23T13:17:55.321Z"
   },
   {
    "duration": 43,
    "start_time": "2021-07-23T13:17:55.342Z"
   },
   {
    "duration": 12,
    "start_time": "2021-07-23T13:17:55.387Z"
   },
   {
    "duration": 15,
    "start_time": "2021-07-23T13:17:55.401Z"
   },
   {
    "duration": 6,
    "start_time": "2021-07-23T13:17:55.418Z"
   },
   {
    "duration": 4,
    "start_time": "2021-07-23T13:17:55.426Z"
   },
   {
    "duration": 80,
    "start_time": "2021-07-23T13:17:55.432Z"
   },
   {
    "duration": 37,
    "start_time": "2021-07-23T13:17:55.514Z"
   },
   {
    "duration": 8,
    "start_time": "2021-07-23T13:17:55.552Z"
   },
   {
    "duration": 34,
    "start_time": "2021-07-23T13:17:55.561Z"
   },
   {
    "duration": 106,
    "start_time": "2021-07-23T13:17:55.598Z"
   },
   {
    "duration": 16,
    "start_time": "2021-07-23T13:17:55.706Z"
   },
   {
    "duration": 4,
    "start_time": "2021-07-23T13:17:55.724Z"
   },
   {
    "duration": 4,
    "start_time": "2021-07-23T13:17:55.729Z"
   },
   {
    "duration": 6,
    "start_time": "2021-07-23T13:17:55.735Z"
   },
   {
    "duration": 4,
    "start_time": "2021-07-23T13:17:55.743Z"
   },
   {
    "duration": 56,
    "start_time": "2021-07-23T13:17:55.748Z"
   },
   {
    "duration": 7,
    "start_time": "2021-07-23T13:17:55.806Z"
   },
   {
    "duration": 6197,
    "start_time": "2021-07-23T13:17:55.815Z"
   },
   {
    "duration": 18,
    "start_time": "2021-07-23T13:18:02.014Z"
   },
   {
    "duration": 6659,
    "start_time": "2021-07-23T13:18:02.034Z"
   },
   {
    "duration": 3,
    "start_time": "2021-07-23T13:18:08.695Z"
   },
   {
    "duration": 9,
    "start_time": "2021-07-23T13:18:08.700Z"
   },
   {
    "duration": 80,
    "start_time": "2021-07-23T13:18:08.710Z"
   },
   {
    "duration": 37,
    "start_time": "2021-07-23T13:18:08.791Z"
   },
   {
    "duration": 61,
    "start_time": "2021-07-23T13:18:08.830Z"
   },
   {
    "duration": 25,
    "start_time": "2021-07-23T13:18:08.893Z"
   },
   {
    "duration": 8,
    "start_time": "2021-07-23T13:18:08.920Z"
   },
   {
    "duration": 62,
    "start_time": "2021-07-23T13:18:08.929Z"
   },
   {
    "duration": 38,
    "start_time": "2021-07-23T13:18:08.993Z"
   },
   {
    "duration": 577,
    "start_time": "2021-07-23T13:18:09.086Z"
   },
   {
    "duration": 9,
    "start_time": "2021-07-23T13:18:09.664Z"
   },
   {
    "duration": 16,
    "start_time": "2021-07-23T13:18:09.674Z"
   },
   {
    "duration": 6,
    "start_time": "2021-07-23T13:18:09.691Z"
   },
   {
    "duration": 10,
    "start_time": "2021-07-23T13:18:09.698Z"
   },
   {
    "duration": 125,
    "start_time": "2021-07-23T13:18:09.709Z"
   },
   {
    "duration": 7,
    "start_time": "2021-07-23T13:18:09.835Z"
   },
   {
    "duration": 9,
    "start_time": "2021-07-23T13:18:09.843Z"
   },
   {
    "duration": 3,
    "start_time": "2021-07-23T13:18:09.853Z"
   },
   {
    "duration": 51,
    "start_time": "2021-07-23T13:18:09.858Z"
   },
   {
    "duration": 22,
    "start_time": "2021-07-23T13:18:09.910Z"
   },
   {
    "duration": 5287,
    "start_time": "2021-07-23T13:18:09.934Z"
   },
   {
    "duration": 189,
    "start_time": "2021-07-23T13:19:05.281Z"
   },
   {
    "duration": 18,
    "start_time": "2021-07-23T13:19:11.373Z"
   },
   {
    "duration": 26,
    "start_time": "2021-07-23T13:19:29.481Z"
   },
   {
    "duration": 24,
    "start_time": "2021-07-23T13:20:20.932Z"
   },
   {
    "duration": 206,
    "start_time": "2021-07-23T13:20:25.312Z"
   },
   {
    "duration": 276,
    "start_time": "2021-07-23T13:20:30.865Z"
   },
   {
    "duration": 471,
    "start_time": "2021-07-23T13:20:42.361Z"
   },
   {
    "duration": 438,
    "start_time": "2021-07-23T13:20:46.493Z"
   },
   {
    "duration": 456,
    "start_time": "2021-07-23T13:20:48.886Z"
   },
   {
    "duration": 255,
    "start_time": "2021-07-23T13:20:52.514Z"
   },
   {
    "duration": 258,
    "start_time": "2021-07-23T13:21:04.636Z"
   },
   {
    "duration": 258,
    "start_time": "2021-07-23T13:21:31.231Z"
   },
   {
    "duration": 186,
    "start_time": "2021-07-23T13:35:25.958Z"
   },
   {
    "duration": 264,
    "start_time": "2021-07-23T13:41:20.304Z"
   },
   {
    "duration": 4,
    "start_time": "2021-07-23T13:41:25.507Z"
   },
   {
    "duration": 4,
    "start_time": "2021-07-23T13:41:34.531Z"
   },
   {
    "duration": 29,
    "start_time": "2021-07-23T13:42:17.211Z"
   },
   {
    "duration": 5020,
    "start_time": "2021-07-23T13:42:52.714Z"
   },
   {
    "duration": 185,
    "start_time": "2021-07-23T13:42:58.564Z"
   },
   {
    "duration": 6,
    "start_time": "2021-07-23T13:43:05.316Z"
   },
   {
    "duration": 4,
    "start_time": "2021-07-23T13:43:13.784Z"
   },
   {
    "duration": 4,
    "start_time": "2021-07-23T13:43:24.898Z"
   },
   {
    "duration": 4647,
    "start_time": "2021-07-23T13:47:15.218Z"
   },
   {
    "duration": 4515,
    "start_time": "2021-07-23T13:47:24.921Z"
   },
   {
    "duration": 5,
    "start_time": "2021-07-23T13:47:58.002Z"
   },
   {
    "duration": 5,
    "start_time": "2021-07-23T13:48:03.994Z"
   },
   {
    "duration": 66,
    "start_time": "2021-07-23T13:50:18.201Z"
   },
   {
    "duration": 6,
    "start_time": "2021-07-23T13:50:27.110Z"
   },
   {
    "duration": 24,
    "start_time": "2021-07-23T13:51:14.216Z"
   },
   {
    "duration": 25,
    "start_time": "2021-07-23T13:51:23.155Z"
   },
   {
    "duration": 7,
    "start_time": "2021-07-23T13:51:58.316Z"
   },
   {
    "duration": 24,
    "start_time": "2021-07-23T13:51:58.522Z"
   },
   {
    "duration": 6,
    "start_time": "2021-07-23T13:52:04.644Z"
   },
   {
    "duration": 24,
    "start_time": "2021-07-23T13:52:05.024Z"
   },
   {
    "duration": 7,
    "start_time": "2021-07-23T13:52:13.597Z"
   },
   {
    "duration": 23,
    "start_time": "2021-07-23T13:52:13.781Z"
   },
   {
    "duration": 6,
    "start_time": "2021-07-23T13:54:40.738Z"
   },
   {
    "duration": 23,
    "start_time": "2021-07-23T13:54:40.931Z"
   },
   {
    "duration": 7,
    "start_time": "2021-07-23T14:00:39.510Z"
   },
   {
    "duration": 5,
    "start_time": "2021-07-23T14:00:55.122Z"
   },
   {
    "duration": 210,
    "start_time": "2021-07-23T14:00:55.713Z"
   },
   {
    "duration": 6,
    "start_time": "2021-07-23T14:01:04.582Z"
   },
   {
    "duration": 7,
    "start_time": "2021-07-23T14:01:12.025Z"
   },
   {
    "duration": 33,
    "start_time": "2021-07-23T14:02:04.500Z"
   },
   {
    "duration": 28,
    "start_time": "2021-07-23T14:02:19.073Z"
   },
   {
    "duration": 25,
    "start_time": "2021-07-23T14:03:35.050Z"
   },
   {
    "duration": 8,
    "start_time": "2021-07-23T14:03:37.589Z"
   },
   {
    "duration": 5,
    "start_time": "2021-07-23T14:03:38.450Z"
   },
   {
    "duration": 28,
    "start_time": "2021-07-23T14:03:49.680Z"
   },
   {
    "duration": 7,
    "start_time": "2021-07-23T14:03:49.958Z"
   },
   {
    "duration": 28,
    "start_time": "2021-07-23T14:04:24.727Z"
   },
   {
    "duration": 6,
    "start_time": "2021-07-23T14:04:25.122Z"
   },
   {
    "duration": 29,
    "start_time": "2021-07-23T14:04:50.028Z"
   },
   {
    "duration": 8,
    "start_time": "2021-07-23T14:04:50.441Z"
   },
   {
    "duration": 29,
    "start_time": "2021-07-23T14:05:16.164Z"
   },
   {
    "duration": 6,
    "start_time": "2021-07-23T14:05:16.442Z"
   },
   {
    "duration": 30,
    "start_time": "2021-07-23T14:06:03.945Z"
   },
   {
    "duration": 8,
    "start_time": "2021-07-23T14:06:04.090Z"
   },
   {
    "duration": 30,
    "start_time": "2021-07-23T14:06:13.184Z"
   },
   {
    "duration": 7,
    "start_time": "2021-07-23T14:06:13.800Z"
   },
   {
    "duration": 32,
    "start_time": "2021-07-23T14:06:28.657Z"
   },
   {
    "duration": 7,
    "start_time": "2021-07-23T14:06:29.593Z"
   },
   {
    "duration": 31,
    "start_time": "2021-07-23T14:06:32.893Z"
   },
   {
    "duration": 7,
    "start_time": "2021-07-23T14:06:33.097Z"
   },
   {
    "duration": 29,
    "start_time": "2021-07-23T14:06:39.489Z"
   },
   {
    "duration": 6,
    "start_time": "2021-07-23T14:06:39.669Z"
   },
   {
    "duration": 4400,
    "start_time": "2021-07-23T14:07:16.600Z"
   },
   {
    "duration": 8,
    "start_time": "2021-07-23T14:07:22.497Z"
   },
   {
    "duration": 9,
    "start_time": "2021-07-23T14:07:28.844Z"
   },
   {
    "duration": 8,
    "start_time": "2021-07-23T14:07:31.633Z"
   },
   {
    "duration": 261,
    "start_time": "2021-07-23T14:09:37.874Z"
   },
   {
    "duration": 7,
    "start_time": "2021-07-23T14:09:42.891Z"
   },
   {
    "duration": 21,
    "start_time": "2021-07-23T14:09:43.186Z"
   },
   {
    "duration": 7,
    "start_time": "2021-07-23T14:09:46.687Z"
   },
   {
    "duration": 31,
    "start_time": "2021-07-23T14:10:02.140Z"
   },
   {
    "duration": 8,
    "start_time": "2021-07-23T14:10:03.713Z"
   },
   {
    "duration": 32,
    "start_time": "2021-07-23T14:10:39.828Z"
   },
   {
    "duration": 10,
    "start_time": "2021-07-23T14:10:39.999Z"
   },
   {
    "duration": 6,
    "start_time": "2021-07-23T14:15:18.753Z"
   },
   {
    "duration": 5811,
    "start_time": "2021-07-23T14:15:19.189Z"
   },
   {
    "duration": 6,
    "start_time": "2021-07-23T14:16:05.580Z"
   },
   {
    "duration": 4787,
    "start_time": "2021-07-23T14:16:05.919Z"
   },
   {
    "duration": 8,
    "start_time": "2021-07-23T14:16:32.319Z"
   },
   {
    "duration": 4,
    "start_time": "2021-07-23T14:16:39.076Z"
   },
   {
    "duration": 5,
    "start_time": "2021-07-23T14:16:46.865Z"
   },
   {
    "duration": 30,
    "start_time": "2021-07-23T14:17:02.964Z"
   },
   {
    "duration": 207,
    "start_time": "2021-07-23T14:18:57.522Z"
   },
   {
    "duration": 5,
    "start_time": "2021-07-23T14:19:00.958Z"
   },
   {
    "duration": 4,
    "start_time": "2021-07-23T14:19:05.290Z"
   },
   {
    "duration": 23,
    "start_time": "2021-07-23T14:19:56.004Z"
   },
   {
    "duration": 26,
    "start_time": "2021-07-23T14:20:02.582Z"
   },
   {
    "duration": 1696,
    "start_time": "2021-07-23T17:25:59.373Z"
   },
   {
    "duration": 509,
    "start_time": "2021-07-23T17:26:01.072Z"
   },
   {
    "duration": 35,
    "start_time": "2021-07-23T17:26:01.585Z"
   },
   {
    "duration": 10,
    "start_time": "2021-07-23T17:26:01.623Z"
   },
   {
    "duration": 2632,
    "start_time": "2021-07-23T17:26:01.636Z"
   },
   {
    "duration": 12,
    "start_time": "2021-07-23T17:26:04.270Z"
   },
   {
    "duration": 22,
    "start_time": "2021-07-23T17:26:04.285Z"
   },
   {
    "duration": 6,
    "start_time": "2021-07-23T17:26:04.311Z"
   },
   {
    "duration": 64,
    "start_time": "2021-07-23T17:26:04.320Z"
   },
   {
    "duration": 20,
    "start_time": "2021-07-23T17:26:04.388Z"
   },
   {
    "duration": 17,
    "start_time": "2021-07-23T17:26:04.410Z"
   },
   {
    "duration": 49,
    "start_time": "2021-07-23T17:26:04.429Z"
   },
   {
    "duration": 9,
    "start_time": "2021-07-23T17:26:04.481Z"
   },
   {
    "duration": 13,
    "start_time": "2021-07-23T17:26:04.492Z"
   },
   {
    "duration": 108,
    "start_time": "2021-07-23T17:26:04.508Z"
   },
   {
    "duration": 74,
    "start_time": "2021-07-23T17:26:04.619Z"
   },
   {
    "duration": 10,
    "start_time": "2021-07-23T17:26:04.695Z"
   },
   {
    "duration": 37,
    "start_time": "2021-07-23T17:26:04.707Z"
   },
   {
    "duration": 166,
    "start_time": "2021-07-23T17:26:04.746Z"
   },
   {
    "duration": 26,
    "start_time": "2021-07-23T17:26:04.914Z"
   },
   {
    "duration": 7,
    "start_time": "2021-07-23T17:26:04.963Z"
   },
   {
    "duration": 7,
    "start_time": "2021-07-23T17:26:04.972Z"
   },
   {
    "duration": 8,
    "start_time": "2021-07-23T17:26:04.985Z"
   },
   {
    "duration": 4,
    "start_time": "2021-07-23T17:26:04.997Z"
   },
   {
    "duration": 78,
    "start_time": "2021-07-23T17:26:05.004Z"
   },
   {
    "duration": 9,
    "start_time": "2021-07-23T17:26:05.084Z"
   },
   {
    "duration": 11916,
    "start_time": "2021-07-23T17:26:05.095Z"
   },
   {
    "duration": 58,
    "start_time": "2021-07-23T17:26:17.013Z"
   },
   {
    "duration": 11940,
    "start_time": "2021-07-23T17:26:17.074Z"
   },
   {
    "duration": 5,
    "start_time": "2021-07-23T17:26:29.016Z"
   },
   {
    "duration": 45,
    "start_time": "2021-07-23T17:26:29.026Z"
   },
   {
    "duration": 100,
    "start_time": "2021-07-23T17:26:29.074Z"
   },
   {
    "duration": 12,
    "start_time": "2021-07-23T17:26:29.177Z"
   },
   {
    "duration": 12,
    "start_time": "2021-07-23T17:26:29.191Z"
   },
   {
    "duration": 158,
    "start_time": "2021-07-23T17:26:29.205Z"
   },
   {
    "duration": 942,
    "start_time": "2021-07-23T17:26:29.366Z"
   },
   {
    "duration": 14,
    "start_time": "2021-07-23T17:26:30.311Z"
   },
   {
    "duration": 42,
    "start_time": "2021-07-23T17:26:30.327Z"
   },
   {
    "duration": 44,
    "start_time": "2021-07-23T17:26:30.371Z"
   },
   {
    "duration": 17,
    "start_time": "2021-07-23T17:26:30.417Z"
   },
   {
    "duration": 183,
    "start_time": "2021-07-23T17:26:30.436Z"
   },
   {
    "duration": 10,
    "start_time": "2021-07-23T17:26:30.621Z"
   },
   {
    "duration": 32,
    "start_time": "2021-07-23T17:26:30.633Z"
   },
   {
    "duration": 4,
    "start_time": "2021-07-23T17:26:30.667Z"
   },
   {
    "duration": 45,
    "start_time": "2021-07-23T17:26:30.673Z"
   },
   {
    "duration": 79,
    "start_time": "2021-07-23T17:26:30.720Z"
   },
   {
    "duration": 22,
    "start_time": "2021-07-23T17:26:30.802Z"
   },
   {
    "duration": 52,
    "start_time": "2021-07-23T17:26:30.826Z"
   },
   {
    "duration": 445,
    "start_time": "2021-07-23T17:26:30.880Z"
   },
   {
    "duration": 10,
    "start_time": "2021-07-23T17:26:31.327Z"
   },
   {
    "duration": 60,
    "start_time": "2021-07-23T17:26:31.339Z"
   },
   {
    "duration": 25,
    "start_time": "2021-07-23T17:26:31.402Z"
   },
   {
    "duration": 50,
    "start_time": "2021-07-23T17:26:31.429Z"
   },
   {
    "duration": 16,
    "start_time": "2021-07-23T17:26:31.482Z"
   },
   {
    "duration": 72,
    "start_time": "2021-07-23T17:26:31.501Z"
   },
   {
    "duration": 50,
    "start_time": "2021-07-23T17:26:31.577Z"
   },
   {
    "duration": 69,
    "start_time": "2021-07-23T17:30:29.275Z"
   },
   {
    "duration": 7,
    "start_time": "2021-07-23T17:30:30.339Z"
   },
   {
    "duration": 7,
    "start_time": "2021-07-23T17:30:31.133Z"
   },
   {
    "duration": 6,
    "start_time": "2021-07-23T17:30:37.617Z"
   },
   {
    "duration": 600,
    "start_time": "2021-07-23T17:30:42.886Z"
   },
   {
    "duration": 61,
    "start_time": "2021-07-23T17:30:43.427Z"
   },
   {
    "duration": 27,
    "start_time": "2021-07-23T17:30:55.824Z"
   },
   {
    "duration": 21,
    "start_time": "2021-07-23T17:30:59.393Z"
   },
   {
    "duration": 48,
    "start_time": "2021-07-23T17:31:12.268Z"
   },
   {
    "duration": 22,
    "start_time": "2021-07-23T17:31:13.170Z"
   },
   {
    "duration": 6,
    "start_time": "2021-07-23T17:31:15.800Z"
   },
   {
    "duration": 7,
    "start_time": "2021-07-23T17:31:16.306Z"
   },
   {
    "duration": 23,
    "start_time": "2021-07-23T17:31:27.772Z"
   },
   {
    "duration": 5,
    "start_time": "2021-07-23T17:31:44.225Z"
   },
   {
    "duration": 48,
    "start_time": "2021-07-23T17:31:55.838Z"
   },
   {
    "duration": 5,
    "start_time": "2021-07-23T17:31:56.210Z"
   },
   {
    "duration": 48,
    "start_time": "2021-07-23T17:32:06.747Z"
   },
   {
    "duration": 4,
    "start_time": "2021-07-23T17:32:07.095Z"
   },
   {
    "duration": 26,
    "start_time": "2021-07-23T17:32:12.391Z"
   },
   {
    "duration": 44,
    "start_time": "2021-07-23T17:32:36.975Z"
   },
   {
    "duration": 43,
    "start_time": "2021-07-23T17:32:38.277Z"
   },
   {
    "duration": 6,
    "start_time": "2021-07-23T17:32:38.990Z"
   },
   {
    "duration": 7,
    "start_time": "2021-07-23T17:32:39.586Z"
   },
   {
    "duration": 24,
    "start_time": "2021-07-23T17:32:43.832Z"
   },
   {
    "duration": 25,
    "start_time": "2021-07-23T17:32:45.668Z"
   },
   {
    "duration": 41,
    "start_time": "2021-07-23T17:32:48.063Z"
   },
   {
    "duration": 48,
    "start_time": "2021-07-23T17:38:17.346Z"
   },
   {
    "duration": 12,
    "start_time": "2021-07-23T17:38:19.376Z"
   },
   {
    "duration": 36,
    "start_time": "2021-07-23T17:41:48.720Z"
   },
   {
    "duration": 36,
    "start_time": "2021-07-23T17:41:49.731Z"
   },
   {
    "duration": 12,
    "start_time": "2021-07-23T17:42:31.628Z"
   },
   {
    "duration": 9,
    "start_time": "2021-07-23T17:42:52.103Z"
   },
   {
    "duration": 10,
    "start_time": "2021-07-23T17:42:54.248Z"
   },
   {
    "duration": 6399,
    "start_time": "2021-07-23T17:43:10.664Z"
   },
   {
    "duration": 9,
    "start_time": "2021-07-23T17:43:40.527Z"
   },
   {
    "duration": 8,
    "start_time": "2021-07-23T17:43:58.529Z"
   },
   {
    "duration": 9,
    "start_time": "2021-07-23T17:44:38.703Z"
   },
   {
    "duration": 18,
    "start_time": "2021-07-23T17:44:38.716Z"
   },
   {
    "duration": 9,
    "start_time": "2021-07-23T17:44:42.404Z"
   },
   {
    "duration": 11,
    "start_time": "2021-07-23T17:45:27.540Z"
   },
   {
    "duration": 17,
    "start_time": "2021-07-23T17:45:30.861Z"
   },
   {
    "duration": 23,
    "start_time": "2021-07-23T17:45:49.639Z"
   },
   {
    "duration": 7248,
    "start_time": "2021-07-23T17:45:56.670Z"
   },
   {
    "duration": 12,
    "start_time": "2021-07-23T17:46:19.227Z"
   },
   {
    "duration": 14,
    "start_time": "2021-07-23T17:46:35.726Z"
   },
   {
    "duration": 299,
    "start_time": "2021-07-23T17:47:30.803Z"
   },
   {
    "duration": 10,
    "start_time": "2021-07-23T17:47:56.044Z"
   },
   {
    "duration": 8,
    "start_time": "2021-07-23T17:48:03.375Z"
   },
   {
    "duration": 11,
    "start_time": "2021-07-23T17:48:51.130Z"
   },
   {
    "duration": 286,
    "start_time": "2021-07-23T17:48:55.601Z"
   },
   {
    "duration": 24,
    "start_time": "2021-07-23T17:49:13.053Z"
   },
   {
    "duration": 284,
    "start_time": "2021-07-23T17:50:28.391Z"
   },
   {
    "duration": 282,
    "start_time": "2021-07-23T17:50:59.439Z"
   },
   {
    "duration": 290,
    "start_time": "2021-07-23T17:51:47.180Z"
   },
   {
    "duration": 697,
    "start_time": "2021-07-23T17:52:21.933Z"
   },
   {
    "duration": 397,
    "start_time": "2021-07-23T17:52:28.136Z"
   },
   {
    "duration": 11,
    "start_time": "2021-07-23T17:52:45.176Z"
   },
   {
    "duration": 393,
    "start_time": "2021-07-23T17:53:38.586Z"
   },
   {
    "duration": 6578,
    "start_time": "2021-07-23T17:54:43.057Z"
   },
   {
    "duration": 10,
    "start_time": "2021-07-23T17:55:02.877Z"
   },
   {
    "duration": 8,
    "start_time": "2021-07-23T17:55:14.879Z"
   },
   {
    "duration": 11,
    "start_time": "2021-07-23T17:55:26.948Z"
   },
   {
    "duration": 282,
    "start_time": "2021-07-23T17:56:52.217Z"
   },
   {
    "duration": 288,
    "start_time": "2021-07-23T17:57:07.606Z"
   },
   {
    "duration": 8,
    "start_time": "2021-07-23T17:57:24.396Z"
   },
   {
    "duration": 7,
    "start_time": "2021-07-23T17:58:50.696Z"
   },
   {
    "duration": 21,
    "start_time": "2021-07-23T17:59:12.214Z"
   },
   {
    "duration": 46,
    "start_time": "2021-07-23T17:59:17.909Z"
   },
   {
    "duration": 34,
    "start_time": "2021-07-23T17:59:21.809Z"
   },
   {
    "duration": 5,
    "start_time": "2021-07-23T18:16:00.681Z"
   },
   {
    "duration": 437,
    "start_time": "2021-07-23T18:16:00.690Z"
   },
   {
    "duration": 15,
    "start_time": "2021-07-23T18:16:01.131Z"
   },
   {
    "duration": 23,
    "start_time": "2021-07-23T18:16:01.149Z"
   },
   {
    "duration": 195,
    "start_time": "2021-07-23T18:16:01.175Z"
   },
   {
    "duration": 11,
    "start_time": "2021-07-23T18:16:01.373Z"
   },
   {
    "duration": 27,
    "start_time": "2021-07-23T18:16:01.387Z"
   },
   {
    "duration": 9,
    "start_time": "2021-07-23T18:16:01.416Z"
   },
   {
    "duration": 52,
    "start_time": "2021-07-23T18:16:01.428Z"
   },
   {
    "duration": 24,
    "start_time": "2021-07-23T18:16:01.483Z"
   },
   {
    "duration": 20,
    "start_time": "2021-07-23T18:16:01.509Z"
   },
   {
    "duration": 47,
    "start_time": "2021-07-23T18:16:01.531Z"
   },
   {
    "duration": 10,
    "start_time": "2021-07-23T18:16:01.580Z"
   },
   {
    "duration": 69,
    "start_time": "2021-07-23T18:16:01.593Z"
   },
   {
    "duration": 131,
    "start_time": "2021-07-23T18:16:01.665Z"
   },
   {
    "duration": 167,
    "start_time": "2021-07-23T18:16:01.798Z"
   },
   {
    "duration": 8,
    "start_time": "2021-07-23T18:16:01.968Z"
   },
   {
    "duration": 92,
    "start_time": "2021-07-23T18:16:01.978Z"
   },
   {
    "duration": 300,
    "start_time": "2021-07-23T18:16:02.072Z"
   },
   {
    "duration": 27,
    "start_time": "2021-07-23T18:16:02.375Z"
   },
   {
    "duration": 19,
    "start_time": "2021-07-23T18:16:02.405Z"
   },
   {
    "duration": 21,
    "start_time": "2021-07-23T18:16:02.426Z"
   },
   {
    "duration": 17,
    "start_time": "2021-07-23T18:16:02.449Z"
   },
   {
    "duration": 17,
    "start_time": "2021-07-23T18:16:02.468Z"
   },
   {
    "duration": 45,
    "start_time": "2021-07-23T18:16:02.487Z"
   },
   {
    "duration": 8,
    "start_time": "2021-07-23T18:16:02.534Z"
   },
   {
    "duration": 10728,
    "start_time": "2021-07-23T18:16:02.564Z"
   },
   {
    "duration": 19,
    "start_time": "2021-07-23T18:16:13.295Z"
   },
   {
    "duration": 11331,
    "start_time": "2021-07-23T18:16:13.362Z"
   },
   {
    "duration": 8,
    "start_time": "2021-07-23T18:16:24.696Z"
   },
   {
    "duration": 55,
    "start_time": "2021-07-23T18:16:24.707Z"
   },
   {
    "duration": 111,
    "start_time": "2021-07-23T18:16:24.765Z"
   },
   {
    "duration": 12,
    "start_time": "2021-07-23T18:16:24.880Z"
   },
   {
    "duration": 68,
    "start_time": "2021-07-23T18:16:24.896Z"
   },
   {
    "duration": 102,
    "start_time": "2021-07-23T18:16:24.967Z"
   },
   {
    "duration": 617,
    "start_time": "2021-07-23T18:16:25.072Z"
   },
   {
    "duration": 15,
    "start_time": "2021-07-23T18:16:25.691Z"
   },
   {
    "duration": 12,
    "start_time": "2021-07-23T18:16:25.763Z"
   },
   {
    "duration": 10,
    "start_time": "2021-07-23T18:16:25.777Z"
   },
   {
    "duration": 22,
    "start_time": "2021-07-23T18:16:25.790Z"
   },
   {
    "duration": 187,
    "start_time": "2021-07-23T18:16:25.862Z"
   },
   {
    "duration": 15,
    "start_time": "2021-07-23T18:16:26.051Z"
   },
   {
    "duration": 14,
    "start_time": "2021-07-23T18:16:26.068Z"
   },
   {
    "duration": 10,
    "start_time": "2021-07-23T18:16:26.085Z"
   },
   {
    "duration": 67,
    "start_time": "2021-07-23T18:16:26.098Z"
   },
   {
    "duration": 22,
    "start_time": "2021-07-23T18:16:26.167Z"
   },
   {
    "duration": 70,
    "start_time": "2021-07-23T18:16:26.192Z"
   },
   {
    "duration": 6,
    "start_time": "2021-07-23T18:16:26.265Z"
   },
   {
    "duration": 14,
    "start_time": "2021-07-23T18:16:26.273Z"
   },
   {
    "duration": 422,
    "start_time": "2021-07-23T18:16:26.290Z"
   },
   {
    "duration": 9,
    "start_time": "2021-07-23T18:16:26.715Z"
   },
   {
    "duration": 55,
    "start_time": "2021-07-23T18:16:26.727Z"
   },
   {
    "duration": 10,
    "start_time": "2021-07-23T18:16:26.785Z"
   },
   {
    "duration": 72,
    "start_time": "2021-07-23T18:16:26.797Z"
   },
   {
    "duration": 12,
    "start_time": "2021-07-23T18:16:26.871Z"
   },
   {
    "duration": 48,
    "start_time": "2021-07-23T18:16:26.885Z"
   },
   {
    "duration": 60,
    "start_time": "2021-07-23T18:16:26.936Z"
   },
   {
    "duration": 417,
    "start_time": "2021-07-23T18:16:26.998Z"
   },
   {
    "duration": 63,
    "start_time": "2021-07-23T18:16:27.418Z"
   },
   {
    "duration": 33,
    "start_time": "2021-07-23T18:16:27.484Z"
   },
   {
    "duration": 55462,
    "start_time": "2021-07-24T09:53:19.339Z"
   },
   {
    "duration": 3547,
    "start_time": "2021-07-24T09:54:14.803Z"
   },
   {
    "duration": 33,
    "start_time": "2021-07-24T09:54:18.355Z"
   },
   {
    "duration": 569,
    "start_time": "2021-07-24T09:54:18.391Z"
   },
   {
    "duration": 185275,
    "start_time": "2021-07-24T09:54:18.963Z"
   },
   {
    "duration": 21,
    "start_time": "2021-07-24T09:57:24.242Z"
   },
   {
    "duration": 25,
    "start_time": "2021-07-24T09:57:24.266Z"
   },
   {
    "duration": 7,
    "start_time": "2021-07-24T09:57:24.293Z"
   },
   {
    "duration": 59,
    "start_time": "2021-07-24T09:57:24.305Z"
   },
   {
    "duration": 20,
    "start_time": "2021-07-24T09:57:24.368Z"
   },
   {
    "duration": 20,
    "start_time": "2021-07-24T09:57:24.390Z"
   },
   {
    "duration": 67,
    "start_time": "2021-07-24T09:57:24.413Z"
   },
   {
    "duration": 9,
    "start_time": "2021-07-24T09:57:24.482Z"
   },
   {
    "duration": 8,
    "start_time": "2021-07-24T09:57:24.494Z"
   },
   {
    "duration": 108,
    "start_time": "2021-07-24T09:57:24.504Z"
   },
   {
    "duration": 82,
    "start_time": "2021-07-24T09:57:24.615Z"
   },
   {
    "duration": 10,
    "start_time": "2021-07-24T09:57:24.699Z"
   },
   {
    "duration": 22,
    "start_time": "2021-07-24T09:57:24.711Z"
   },
   {
    "duration": 210,
    "start_time": "2021-07-24T09:57:24.735Z"
   },
   {
    "duration": 36,
    "start_time": "2021-07-24T09:57:24.947Z"
   },
   {
    "duration": 8,
    "start_time": "2021-07-24T09:57:24.986Z"
   },
   {
    "duration": 9,
    "start_time": "2021-07-24T09:57:24.997Z"
   },
   {
    "duration": 13,
    "start_time": "2021-07-24T09:57:25.009Z"
   },
   {
    "duration": 5,
    "start_time": "2021-07-24T09:57:25.061Z"
   },
   {
    "duration": 48,
    "start_time": "2021-07-24T09:57:25.068Z"
   },
   {
    "duration": 9,
    "start_time": "2021-07-24T09:57:25.119Z"
   },
   {
    "duration": 13902,
    "start_time": "2021-07-24T09:57:25.136Z"
   },
   {
    "duration": 38,
    "start_time": "2021-07-24T09:57:39.041Z"
   },
   {
    "duration": 17705,
    "start_time": "2021-07-24T09:57:39.082Z"
   },
   {
    "duration": 8,
    "start_time": "2021-07-24T09:57:56.791Z"
   },
   {
    "duration": 73,
    "start_time": "2021-07-24T09:57:56.802Z"
   },
   {
    "duration": 104,
    "start_time": "2021-07-24T09:57:56.879Z"
   },
   {
    "duration": 8,
    "start_time": "2021-07-24T09:57:56.985Z"
   },
   {
    "duration": 67,
    "start_time": "2021-07-24T09:57:56.996Z"
   },
   {
    "duration": 119,
    "start_time": "2021-07-24T09:57:57.067Z"
   },
   {
    "duration": 986,
    "start_time": "2021-07-24T09:57:57.189Z"
   },
   {
    "duration": 14,
    "start_time": "2021-07-24T09:57:58.177Z"
   },
   {
    "duration": 11,
    "start_time": "2021-07-24T09:57:58.194Z"
   },
   {
    "duration": 59,
    "start_time": "2021-07-24T09:57:58.207Z"
   },
   {
    "duration": 12,
    "start_time": "2021-07-24T09:57:58.269Z"
   },
   {
    "duration": 291,
    "start_time": "2021-07-24T09:57:58.284Z"
   },
   {
    "duration": 10,
    "start_time": "2021-07-24T09:57:58.578Z"
   },
   {
    "duration": 11,
    "start_time": "2021-07-24T09:57:58.590Z"
   },
   {
    "duration": 14,
    "start_time": "2021-07-24T09:57:58.603Z"
   },
   {
    "duration": 68,
    "start_time": "2021-07-24T09:57:58.621Z"
   },
   {
    "duration": 20,
    "start_time": "2021-07-24T09:57:58.691Z"
   },
   {
    "duration": 67,
    "start_time": "2021-07-24T09:57:58.713Z"
   },
   {
    "duration": 7,
    "start_time": "2021-07-24T09:57:58.783Z"
   },
   {
    "duration": 9,
    "start_time": "2021-07-24T09:57:58.793Z"
   },
   {
    "duration": 514,
    "start_time": "2021-07-24T09:57:58.805Z"
   },
   {
    "duration": 10,
    "start_time": "2021-07-24T09:57:59.322Z"
   },
   {
    "duration": 56,
    "start_time": "2021-07-24T09:57:59.335Z"
   },
   {
    "duration": 12,
    "start_time": "2021-07-24T09:57:59.394Z"
   },
   {
    "duration": 75,
    "start_time": "2021-07-24T09:57:59.409Z"
   },
   {
    "duration": 15,
    "start_time": "2021-07-24T09:57:59.487Z"
   },
   {
    "duration": 74,
    "start_time": "2021-07-24T09:57:59.505Z"
   },
   {
    "duration": 49,
    "start_time": "2021-07-24T09:57:59.582Z"
   },
   {
    "duration": 461,
    "start_time": "2021-07-24T09:57:59.634Z"
   },
   {
    "duration": 66,
    "start_time": "2021-07-24T09:58:00.097Z"
   },
   {
    "duration": 46,
    "start_time": "2021-07-24T09:58:00.166Z"
   },
   {
    "duration": 1594,
    "start_time": "2021-07-24T10:41:13.306Z"
   },
   {
    "duration": 445,
    "start_time": "2021-07-24T10:41:14.903Z"
   },
   {
    "duration": 25,
    "start_time": "2021-07-24T10:41:16.540Z"
   },
   {
    "duration": 6,
    "start_time": "2021-07-24T10:41:18.162Z"
   },
   {
    "duration": 922,
    "start_time": "2021-07-24T10:41:18.349Z"
   },
   {
    "duration": 1740,
    "start_time": "2021-07-24T10:44:43.846Z"
   },
   {
    "duration": 408,
    "start_time": "2021-07-24T10:44:45.589Z"
   },
   {
    "duration": 25,
    "start_time": "2021-07-24T10:44:46.000Z"
   },
   {
    "duration": 6,
    "start_time": "2021-07-24T10:44:46.027Z"
   },
   {
    "duration": 905,
    "start_time": "2021-07-24T10:44:46.170Z"
   },
   {
    "duration": 17,
    "start_time": "2021-07-24T10:44:52.479Z"
   },
   {
    "duration": 21,
    "start_time": "2021-07-24T10:45:31.884Z"
   },
   {
    "duration": 8,
    "start_time": "2021-07-24T10:45:32.139Z"
   },
   {
    "duration": 28,
    "start_time": "2021-07-24T10:45:32.304Z"
   },
   {
    "duration": 25,
    "start_time": "2021-07-24T10:45:32.606Z"
   },
   {
    "duration": 27,
    "start_time": "2021-07-24T10:45:32.773Z"
   },
   {
    "duration": 34,
    "start_time": "2021-07-24T10:45:32.935Z"
   },
   {
    "duration": 10,
    "start_time": "2021-07-24T10:45:33.265Z"
   },
   {
    "duration": 4,
    "start_time": "2021-07-24T10:45:33.585Z"
   },
   {
    "duration": 79,
    "start_time": "2021-07-24T10:45:33.922Z"
   },
   {
    "duration": 56,
    "start_time": "2021-07-24T10:45:34.268Z"
   },
   {
    "duration": 10,
    "start_time": "2021-07-24T10:45:34.621Z"
   },
   {
    "duration": 24,
    "start_time": "2021-07-24T10:45:34.792Z"
   },
   {
    "duration": 165,
    "start_time": "2021-07-24T10:45:34.939Z"
   },
   {
    "duration": 27,
    "start_time": "2021-07-24T10:45:35.111Z"
   },
   {
    "duration": 7,
    "start_time": "2021-07-24T10:45:35.309Z"
   },
   {
    "duration": 4,
    "start_time": "2021-07-24T10:45:43.072Z"
   },
   {
    "duration": 9,
    "start_time": "2021-07-24T10:45:43.543Z"
   },
   {
    "duration": 5,
    "start_time": "2021-07-24T10:45:44.068Z"
   },
   {
    "duration": 50,
    "start_time": "2021-07-24T10:46:28.106Z"
   },
   {
    "duration": 60,
    "start_time": "2021-07-24T10:47:27.176Z"
   },
   {
    "duration": 35,
    "start_time": "2021-07-24T10:47:35.467Z"
   },
   {
    "duration": 36,
    "start_time": "2021-07-24T10:48:43.817Z"
   },
   {
    "duration": 40,
    "start_time": "2021-07-24T10:48:48.032Z"
   },
   {
    "duration": 39,
    "start_time": "2021-07-24T10:49:59.570Z"
   },
   {
    "duration": 19,
    "start_time": "2021-07-24T10:52:26.665Z"
   },
   {
    "duration": 521,
    "start_time": "2021-07-24T10:59:38.224Z"
   },
   {
    "duration": 391,
    "start_time": "2021-07-24T10:59:53.098Z"
   },
   {
    "duration": 1702,
    "start_time": "2021-07-24T11:07:03.791Z"
   },
   {
    "duration": 347,
    "start_time": "2021-07-24T11:07:05.496Z"
   },
   {
    "duration": 23,
    "start_time": "2021-07-24T11:07:05.846Z"
   },
   {
    "duration": 6,
    "start_time": "2021-07-24T11:07:05.883Z"
   },
   {
    "duration": 910,
    "start_time": "2021-07-24T11:07:05.891Z"
   },
   {
    "duration": 17,
    "start_time": "2021-07-24T11:07:06.804Z"
   },
   {
    "duration": 21,
    "start_time": "2021-07-24T11:07:06.823Z"
   },
   {
    "duration": 35,
    "start_time": "2021-07-24T11:07:06.848Z"
   },
   {
    "duration": 26,
    "start_time": "2021-07-24T11:07:06.886Z"
   },
   {
    "duration": 16,
    "start_time": "2021-07-24T11:07:06.915Z"
   },
   {
    "duration": 17,
    "start_time": "2021-07-24T11:07:06.934Z"
   },
   {
    "duration": 23,
    "start_time": "2021-07-24T11:07:06.984Z"
   },
   {
    "duration": 8,
    "start_time": "2021-07-24T11:07:07.010Z"
   },
   {
    "duration": 10,
    "start_time": "2021-07-24T11:07:07.021Z"
   },
   {
    "duration": 102,
    "start_time": "2021-07-24T11:07:07.034Z"
   },
   {
    "duration": 62,
    "start_time": "2021-07-24T11:07:07.139Z"
   },
   {
    "duration": 10,
    "start_time": "2021-07-24T11:07:07.203Z"
   },
   {
    "duration": 22,
    "start_time": "2021-07-24T11:07:07.216Z"
   },
   {
    "duration": 277,
    "start_time": "2021-07-24T11:07:07.241Z"
   },
   {
    "duration": 79,
    "start_time": "2021-07-24T11:07:07.521Z"
   },
   {
    "duration": 6,
    "start_time": "2021-07-24T11:07:07.603Z"
   },
   {
    "duration": 8,
    "start_time": "2021-07-24T11:07:07.612Z"
   },
   {
    "duration": 62,
    "start_time": "2021-07-24T11:07:07.626Z"
   },
   {
    "duration": 4,
    "start_time": "2021-07-24T11:07:07.692Z"
   },
   {
    "duration": 100,
    "start_time": "2021-07-24T11:07:07.699Z"
   },
   {
    "duration": 89,
    "start_time": "2021-07-24T11:07:07.802Z"
   },
   {
    "duration": 8,
    "start_time": "2021-07-24T11:07:07.893Z"
   },
   {
    "duration": 11674,
    "start_time": "2021-07-24T11:07:07.904Z"
   },
   {
    "duration": 18,
    "start_time": "2021-07-24T11:07:19.583Z"
   },
   {
    "duration": 11160,
    "start_time": "2021-07-24T11:07:19.603Z"
   },
   {
    "duration": 19,
    "start_time": "2021-07-24T11:07:30.767Z"
   },
   {
    "duration": 20,
    "start_time": "2021-07-24T11:07:30.788Z"
   },
   {
    "duration": 94,
    "start_time": "2021-07-24T11:07:30.810Z"
   },
   {
    "duration": 9,
    "start_time": "2021-07-24T11:07:30.906Z"
   },
   {
    "duration": 71,
    "start_time": "2021-07-24T11:07:30.918Z"
   },
   {
    "duration": 103,
    "start_time": "2021-07-24T11:07:30.991Z"
   },
   {
    "duration": 1188,
    "start_time": "2021-07-24T11:07:31.097Z"
   },
   {
    "duration": 16,
    "start_time": "2021-07-24T11:07:32.288Z"
   },
   {
    "duration": 17,
    "start_time": "2021-07-24T11:07:32.306Z"
   },
   {
    "duration": 9,
    "start_time": "2021-07-24T11:07:32.325Z"
   },
   {
    "duration": 15,
    "start_time": "2021-07-24T11:07:32.336Z"
   },
   {
    "duration": 212,
    "start_time": "2021-07-24T11:07:32.353Z"
   },
   {
    "duration": 15,
    "start_time": "2021-07-24T11:07:32.568Z"
   },
   {
    "duration": 9,
    "start_time": "2021-07-24T11:07:32.586Z"
   },
   {
    "duration": 6,
    "start_time": "2021-07-24T11:07:32.598Z"
   },
   {
    "duration": 44,
    "start_time": "2021-07-24T11:07:32.607Z"
   },
   {
    "duration": 22,
    "start_time": "2021-07-24T11:07:32.683Z"
   },
   {
    "duration": 43,
    "start_time": "2021-07-24T11:07:32.707Z"
   },
   {
    "duration": 6,
    "start_time": "2021-07-24T11:07:32.752Z"
   },
   {
    "duration": 28,
    "start_time": "2021-07-24T11:07:32.760Z"
   },
   {
    "duration": 418,
    "start_time": "2021-07-24T11:07:32.790Z"
   },
   {
    "duration": 9,
    "start_time": "2021-07-24T11:07:33.210Z"
   },
   {
    "duration": 63,
    "start_time": "2021-07-24T11:07:33.221Z"
   },
   {
    "duration": 11,
    "start_time": "2021-07-24T11:07:33.286Z"
   },
   {
    "duration": 52,
    "start_time": "2021-07-24T11:07:33.300Z"
   },
   {
    "duration": 38,
    "start_time": "2021-07-24T11:07:33.355Z"
   },
   {
    "duration": 36,
    "start_time": "2021-07-24T11:07:33.396Z"
   },
   {
    "duration": 69,
    "start_time": "2021-07-24T11:07:33.435Z"
   },
   {
    "duration": 404,
    "start_time": "2021-07-24T11:07:33.507Z"
   },
   {
    "duration": 46,
    "start_time": "2021-07-24T11:07:33.913Z"
   },
   {
    "duration": 51,
    "start_time": "2021-07-24T11:07:33.961Z"
   },
   {
    "duration": 57,
    "start_time": "2021-07-24T11:09:29.252Z"
   },
   {
    "duration": 61,
    "start_time": "2021-07-24T11:09:44.978Z"
   },
   {
    "duration": 404,
    "start_time": "2021-07-24T11:10:28.869Z"
   },
   {
    "duration": 386,
    "start_time": "2021-07-24T11:10:45.702Z"
   },
   {
    "duration": 9,
    "start_time": "2021-07-24T11:15:00.820Z"
   },
   {
    "duration": 467,
    "start_time": "2021-07-24T11:15:25.262Z"
   },
   {
    "duration": 48,
    "start_time": "2021-07-24T11:15:30.520Z"
   },
   {
    "duration": 9,
    "start_time": "2021-07-24T11:15:35.035Z"
   },
   {
    "duration": 15,
    "start_time": "2021-07-24T11:15:55.312Z"
   },
   {
    "duration": 9,
    "start_time": "2021-07-24T11:16:13.586Z"
   },
   {
    "duration": 9,
    "start_time": "2021-07-24T11:16:30.587Z"
   },
   {
    "duration": 9,
    "start_time": "2021-07-24T11:16:33.722Z"
   },
   {
    "duration": 13,
    "start_time": "2021-07-24T11:16:36.533Z"
   },
   {
    "duration": 265,
    "start_time": "2021-07-24T11:16:55.401Z"
   },
   {
    "duration": 169,
    "start_time": "2021-07-24T11:17:11.334Z"
   },
   {
    "duration": 175,
    "start_time": "2021-07-24T11:19:57.956Z"
   },
   {
    "duration": 12,
    "start_time": "2021-07-24T11:21:30.219Z"
   },
   {
    "duration": 6,
    "start_time": "2021-07-24T11:22:12.780Z"
   },
   {
    "duration": 6,
    "start_time": "2021-07-24T11:22:33.899Z"
   },
   {
    "duration": 7,
    "start_time": "2021-07-24T11:22:57.841Z"
   },
   {
    "duration": 12,
    "start_time": "2021-07-24T11:23:27.584Z"
   },
   {
    "duration": 13,
    "start_time": "2021-07-24T11:23:31.300Z"
   },
   {
    "duration": 9,
    "start_time": "2021-07-24T11:24:06.649Z"
   },
   {
    "duration": 7,
    "start_time": "2021-07-24T11:24:43.160Z"
   },
   {
    "duration": 7188,
    "start_time": "2021-07-24T11:24:51.214Z"
   },
   {
    "duration": 8,
    "start_time": "2021-07-24T11:25:07.032Z"
   },
   {
    "duration": 14,
    "start_time": "2021-07-24T11:25:13.262Z"
   },
   {
    "duration": 323,
    "start_time": "2021-07-24T11:27:50.659Z"
   },
   {
    "duration": 355,
    "start_time": "2021-07-24T11:28:02.070Z"
   },
   {
    "duration": 49,
    "start_time": "2021-07-24T11:28:06.714Z"
   },
   {
    "duration": 15,
    "start_time": "2021-07-24T11:28:10.370Z"
   },
   {
    "duration": 9,
    "start_time": "2021-07-24T11:33:48.378Z"
   },
   {
    "duration": 348,
    "start_time": "2021-07-24T11:34:01.560Z"
   },
   {
    "duration": 8,
    "start_time": "2021-07-24T11:35:31.551Z"
   },
   {
    "duration": 11,
    "start_time": "2021-07-24T11:40:26.841Z"
   },
   {
    "duration": 10,
    "start_time": "2021-07-24T11:41:01.016Z"
   },
   {
    "duration": 13,
    "start_time": "2021-07-24T11:41:23.757Z"
   },
   {
    "duration": 11,
    "start_time": "2021-07-24T11:41:44.818Z"
   },
   {
    "duration": 10,
    "start_time": "2021-07-24T11:42:34.348Z"
   },
   {
    "duration": 5,
    "start_time": "2021-07-24T11:43:16.514Z"
   },
   {
    "duration": 6,
    "start_time": "2021-07-24T11:43:27.347Z"
   },
   {
    "duration": 5,
    "start_time": "2021-07-24T11:43:39.676Z"
   },
   {
    "duration": 8,
    "start_time": "2021-07-24T11:44:42.431Z"
   },
   {
    "duration": 5,
    "start_time": "2021-07-24T11:45:12.972Z"
   },
   {
    "duration": 6,
    "start_time": "2021-07-24T11:45:19.244Z"
   },
   {
    "duration": 6,
    "start_time": "2021-07-24T11:45:31.430Z"
   },
   {
    "duration": 5,
    "start_time": "2021-07-24T11:45:33.772Z"
   },
   {
    "duration": 5,
    "start_time": "2021-07-24T11:45:51.945Z"
   },
   {
    "duration": 6,
    "start_time": "2021-07-24T11:46:14.391Z"
   },
   {
    "duration": 5,
    "start_time": "2021-07-24T11:46:19.248Z"
   },
   {
    "duration": 6,
    "start_time": "2021-07-24T11:46:39.970Z"
   },
   {
    "duration": 5,
    "start_time": "2021-07-24T11:46:52.568Z"
   },
   {
    "duration": 5,
    "start_time": "2021-07-24T11:47:05.145Z"
   },
   {
    "duration": 6,
    "start_time": "2021-07-24T11:47:11.676Z"
   },
   {
    "duration": 7,
    "start_time": "2021-07-24T12:15:49.476Z"
   },
   {
    "duration": 5,
    "start_time": "2021-07-24T12:15:57.326Z"
   },
   {
    "duration": 5,
    "start_time": "2021-07-24T12:16:04.098Z"
   },
   {
    "duration": 6,
    "start_time": "2021-07-24T12:16:11.585Z"
   },
   {
    "duration": 6,
    "start_time": "2021-07-24T12:16:19.659Z"
   },
   {
    "duration": 17,
    "start_time": "2021-07-24T12:17:55.483Z"
   },
   {
    "duration": 11,
    "start_time": "2021-07-24T12:20:27.091Z"
   },
   {
    "duration": 10,
    "start_time": "2021-07-24T12:20:48.764Z"
   },
   {
    "duration": 106,
    "start_time": "2021-07-24T12:22:21.237Z"
   },
   {
    "duration": 7,
    "start_time": "2021-07-24T12:22:22.561Z"
   },
   {
    "duration": 6,
    "start_time": "2021-07-24T12:22:33.875Z"
   },
   {
    "duration": 6,
    "start_time": "2021-07-24T12:22:42.558Z"
   },
   {
    "duration": 6,
    "start_time": "2021-07-24T12:22:47.415Z"
   },
   {
    "duration": 87,
    "start_time": "2021-07-24T12:23:49.651Z"
   },
   {
    "duration": 6774,
    "start_time": "2021-07-24T12:23:52.438Z"
   },
   {
    "duration": 6,
    "start_time": "2021-07-24T12:24:06.983Z"
   },
   {
    "duration": 241,
    "start_time": "2021-07-24T12:24:10.569Z"
   },
   {
    "duration": 7,
    "start_time": "2021-07-24T12:24:12.946Z"
   },
   {
    "duration": 9,
    "start_time": "2021-07-24T12:25:24.318Z"
   },
   {
    "duration": 8,
    "start_time": "2021-07-24T12:25:49.730Z"
   },
   {
    "duration": 1710,
    "start_time": "2021-07-24T12:34:34.679Z"
   },
   {
    "duration": 412,
    "start_time": "2021-07-24T12:34:36.392Z"
   },
   {
    "duration": 24,
    "start_time": "2021-07-24T12:34:36.807Z"
   },
   {
    "duration": 5,
    "start_time": "2021-07-24T12:34:36.834Z"
   },
   {
    "duration": 1195,
    "start_time": "2021-07-24T12:34:36.841Z"
   },
   {
    "duration": 17,
    "start_time": "2021-07-24T12:34:38.038Z"
   },
   {
    "duration": 40,
    "start_time": "2021-07-24T12:34:38.058Z"
   },
   {
    "duration": 6,
    "start_time": "2021-07-24T12:34:38.102Z"
   },
   {
    "duration": 30,
    "start_time": "2021-07-24T12:34:38.111Z"
   },
   {
    "duration": 41,
    "start_time": "2021-07-24T12:34:38.143Z"
   },
   {
    "duration": 17,
    "start_time": "2021-07-24T12:34:38.186Z"
   },
   {
    "duration": 26,
    "start_time": "2021-07-24T12:34:38.206Z"
   },
   {
    "duration": 13,
    "start_time": "2021-07-24T12:34:38.235Z"
   },
   {
    "duration": 33,
    "start_time": "2021-07-24T12:34:38.250Z"
   },
   {
    "duration": 83,
    "start_time": "2021-07-24T12:34:38.285Z"
   },
   {
    "duration": 63,
    "start_time": "2021-07-24T12:34:38.371Z"
   },
   {
    "duration": 9,
    "start_time": "2021-07-24T12:34:38.436Z"
   },
   {
    "duration": 46,
    "start_time": "2021-07-24T12:34:38.448Z"
   },
   {
    "duration": 171,
    "start_time": "2021-07-24T12:34:38.497Z"
   },
   {
    "duration": 33,
    "start_time": "2021-07-24T12:34:38.670Z"
   },
   {
    "duration": 6,
    "start_time": "2021-07-24T12:34:38.705Z"
   },
   {
    "duration": 9,
    "start_time": "2021-07-24T12:34:38.713Z"
   },
   {
    "duration": 9,
    "start_time": "2021-07-24T12:34:38.727Z"
   },
   {
    "duration": 6,
    "start_time": "2021-07-24T12:34:38.739Z"
   },
   {
    "duration": 44,
    "start_time": "2021-07-24T12:34:38.783Z"
   },
   {
    "duration": 53,
    "start_time": "2021-07-24T12:34:38.829Z"
   },
   {
    "duration": 10,
    "start_time": "2021-07-24T12:34:38.885Z"
   },
   {
    "duration": 11343,
    "start_time": "2021-07-24T12:34:38.897Z"
   },
   {
    "duration": 43,
    "start_time": "2021-07-24T12:34:50.243Z"
   },
   {
    "duration": 11456,
    "start_time": "2021-07-24T12:34:50.289Z"
   },
   {
    "duration": 33,
    "start_time": "2021-07-24T12:35:01.748Z"
   },
   {
    "duration": 21,
    "start_time": "2021-07-24T12:35:01.784Z"
   },
   {
    "duration": 91,
    "start_time": "2021-07-24T12:35:01.808Z"
   },
   {
    "duration": 10,
    "start_time": "2021-07-24T12:35:01.901Z"
   },
   {
    "duration": 71,
    "start_time": "2021-07-24T12:35:01.913Z"
   },
   {
    "duration": 106,
    "start_time": "2021-07-24T12:35:01.986Z"
   },
   {
    "duration": 18,
    "start_time": "2021-07-24T12:35:02.095Z"
   },
   {
    "duration": 1019,
    "start_time": "2021-07-24T12:35:02.115Z"
   },
   {
    "duration": 501,
    "start_time": "2021-07-24T12:35:03.136Z"
   },
   {
    "duration": 14,
    "start_time": "2021-07-24T12:35:03.639Z"
   },
   {
    "duration": 29,
    "start_time": "2021-07-24T12:35:03.655Z"
   },
   {
    "duration": 18,
    "start_time": "2021-07-24T12:35:03.687Z"
   },
   {
    "duration": 22,
    "start_time": "2021-07-24T12:35:03.707Z"
   },
   {
    "duration": 191,
    "start_time": "2021-07-24T12:35:03.731Z"
   },
   {
    "duration": 15,
    "start_time": "2021-07-24T12:35:03.925Z"
   },
   {
    "duration": 194,
    "start_time": "2021-07-24T12:35:03.943Z"
   },
   {
    "duration": 10,
    "start_time": "2021-07-24T12:35:04.140Z"
   },
   {
    "duration": 34,
    "start_time": "2021-07-24T12:35:04.152Z"
   },
   {
    "duration": 20,
    "start_time": "2021-07-24T12:35:04.189Z"
   },
   {
    "duration": 15,
    "start_time": "2021-07-24T12:35:04.212Z"
   },
   {
    "duration": 53,
    "start_time": "2021-07-24T12:35:04.229Z"
   },
   {
    "duration": 20,
    "start_time": "2021-07-24T12:35:04.285Z"
   },
   {
    "duration": 46,
    "start_time": "2021-07-24T12:35:04.308Z"
   },
   {
    "duration": 5,
    "start_time": "2021-07-24T12:35:04.357Z"
   },
   {
    "duration": 7,
    "start_time": "2021-07-24T12:35:04.383Z"
   },
   {
    "duration": 434,
    "start_time": "2021-07-24T12:35:04.392Z"
   },
   {
    "duration": 10,
    "start_time": "2021-07-24T12:35:04.829Z"
   },
   {
    "duration": 56,
    "start_time": "2021-07-24T12:35:04.841Z"
   },
   {
    "duration": 10,
    "start_time": "2021-07-24T12:35:04.899Z"
   },
   {
    "duration": 10,
    "start_time": "2021-07-24T12:36:01.906Z"
   },
   {
    "duration": 12,
    "start_time": "2021-07-24T12:36:12.824Z"
   },
   {
    "duration": 47,
    "start_time": "2021-07-24T12:36:15.768Z"
   },
   {
    "duration": 12,
    "start_time": "2021-07-24T12:36:15.967Z"
   },
   {
    "duration": 35,
    "start_time": "2021-07-24T12:37:45.468Z"
   },
   {
    "duration": 37,
    "start_time": "2021-07-24T12:37:45.505Z"
   },
   {
    "duration": 417,
    "start_time": "2021-07-24T12:38:00.630Z"
   },
   {
    "duration": 53,
    "start_time": "2021-07-24T12:38:01.050Z"
   },
   {
    "duration": 39,
    "start_time": "2021-07-24T12:38:01.106Z"
   },
   {
    "duration": 10,
    "start_time": "2021-07-24T12:50:38.403Z"
   },
   {
    "duration": 7183,
    "start_time": "2021-07-24T12:50:43.263Z"
   },
   {
    "duration": 1774,
    "start_time": "2021-07-24T12:51:11.525Z"
   },
   {
    "duration": 408,
    "start_time": "2021-07-24T12:51:13.302Z"
   },
   {
    "duration": 24,
    "start_time": "2021-07-24T12:51:13.713Z"
   },
   {
    "duration": 5,
    "start_time": "2021-07-24T12:51:13.740Z"
   },
   {
    "duration": 905,
    "start_time": "2021-07-24T12:51:13.747Z"
   },
   {
    "duration": 17,
    "start_time": "2021-07-24T12:51:14.654Z"
   },
   {
    "duration": 21,
    "start_time": "2021-07-24T12:51:14.683Z"
   },
   {
    "duration": 6,
    "start_time": "2021-07-24T12:51:14.707Z"
   },
   {
    "duration": 31,
    "start_time": "2021-07-24T12:51:14.717Z"
   },
   {
    "duration": 46,
    "start_time": "2021-07-24T12:51:14.751Z"
   },
   {
    "duration": 18,
    "start_time": "2021-07-24T12:51:14.799Z"
   },
   {
    "duration": 23,
    "start_time": "2021-07-24T12:51:14.819Z"
   },
   {
    "duration": 9,
    "start_time": "2021-07-24T12:51:14.845Z"
   },
   {
    "duration": 4,
    "start_time": "2021-07-24T12:51:14.884Z"
   },
   {
    "duration": 98,
    "start_time": "2021-07-24T12:51:14.891Z"
   },
   {
    "duration": 56,
    "start_time": "2021-07-24T12:51:14.992Z"
   },
   {
    "duration": 9,
    "start_time": "2021-07-24T12:51:15.051Z"
   },
   {
    "duration": 42,
    "start_time": "2021-07-24T12:51:15.063Z"
   },
   {
    "duration": 171,
    "start_time": "2021-07-24T12:51:15.107Z"
   },
   {
    "duration": 25,
    "start_time": "2021-07-24T12:51:15.284Z"
   },
   {
    "duration": 7,
    "start_time": "2021-07-24T12:51:15.312Z"
   },
   {
    "duration": 11,
    "start_time": "2021-07-24T12:51:15.321Z"
   },
   {
    "duration": 10,
    "start_time": "2021-07-24T12:51:15.334Z"
   },
   {
    "duration": 39,
    "start_time": "2021-07-24T12:51:15.346Z"
   },
   {
    "duration": 47,
    "start_time": "2021-07-24T12:51:15.387Z"
   },
   {
    "duration": 55,
    "start_time": "2021-07-24T12:51:15.436Z"
   },
   {
    "duration": 8,
    "start_time": "2021-07-24T12:51:15.497Z"
   },
   {
    "duration": 11505,
    "start_time": "2021-07-24T12:51:15.508Z"
   },
   {
    "duration": 66,
    "start_time": "2021-07-24T12:51:27.016Z"
   },
   {
    "duration": 11077,
    "start_time": "2021-07-24T12:51:27.085Z"
   },
   {
    "duration": 20,
    "start_time": "2021-07-24T12:51:38.166Z"
   },
   {
    "duration": 15,
    "start_time": "2021-07-24T12:51:38.189Z"
   },
   {
    "duration": 97,
    "start_time": "2021-07-24T12:51:38.206Z"
   },
   {
    "duration": 8,
    "start_time": "2021-07-24T12:51:38.306Z"
   },
   {
    "duration": 68,
    "start_time": "2021-07-24T12:51:38.316Z"
   },
   {
    "duration": 106,
    "start_time": "2021-07-24T12:51:38.387Z"
   },
   {
    "duration": 15,
    "start_time": "2021-07-24T12:51:38.495Z"
   },
   {
    "duration": 778,
    "start_time": "2021-07-24T12:51:38.512Z"
   },
   {
    "duration": 468,
    "start_time": "2021-07-24T12:51:39.293Z"
   },
   {
    "duration": 22,
    "start_time": "2021-07-24T12:51:39.763Z"
   },
   {
    "duration": 12,
    "start_time": "2021-07-24T12:51:39.787Z"
   },
   {
    "duration": 9,
    "start_time": "2021-07-24T12:51:39.801Z"
   },
   {
    "duration": 15,
    "start_time": "2021-07-24T12:51:39.812Z"
   },
   {
    "duration": 210,
    "start_time": "2021-07-24T12:51:39.830Z"
   },
   {
    "duration": 15,
    "start_time": "2021-07-24T12:51:40.042Z"
   },
   {
    "duration": 195,
    "start_time": "2021-07-24T12:51:40.060Z"
   },
   {
    "duration": 26,
    "start_time": "2021-07-24T12:51:40.258Z"
   },
   {
    "duration": 12,
    "start_time": "2021-07-24T12:51:40.286Z"
   },
   {
    "duration": 12,
    "start_time": "2021-07-24T12:51:40.301Z"
   },
   {
    "duration": 9,
    "start_time": "2021-07-24T12:51:40.315Z"
   },
   {
    "duration": 88,
    "start_time": "2021-07-24T12:51:40.327Z"
   },
   {
    "duration": 22,
    "start_time": "2021-07-24T12:51:40.417Z"
   },
   {
    "duration": 68,
    "start_time": "2021-07-24T12:51:40.442Z"
   },
   {
    "duration": 7,
    "start_time": "2021-07-24T12:51:40.513Z"
   },
   {
    "duration": 10,
    "start_time": "2021-07-24T12:51:40.523Z"
   },
   {
    "duration": 432,
    "start_time": "2021-07-24T12:51:40.536Z"
   },
   {
    "duration": 16,
    "start_time": "2021-07-24T12:51:40.971Z"
   },
   {
    "duration": 43,
    "start_time": "2021-07-24T12:51:40.989Z"
   },
   {
    "duration": 12,
    "start_time": "2021-07-24T12:52:01.448Z"
   },
   {
    "duration": 47,
    "start_time": "2021-07-24T12:52:03.451Z"
   },
   {
    "duration": 12,
    "start_time": "2021-07-24T12:52:03.604Z"
   },
   {
    "duration": 34,
    "start_time": "2021-07-24T12:52:06.429Z"
   },
   {
    "duration": 35,
    "start_time": "2021-07-24T12:52:06.733Z"
   },
   {
    "duration": 385,
    "start_time": "2021-07-24T12:52:15.717Z"
   },
   {
    "duration": 47,
    "start_time": "2021-07-24T12:52:16.147Z"
   },
   {
    "duration": 34,
    "start_time": "2021-07-24T12:52:16.426Z"
   },
   {
    "duration": 10,
    "start_time": "2021-07-24T12:53:56.510Z"
   },
   {
    "duration": 6,
    "start_time": "2021-07-24T13:02:25.031Z"
   },
   {
    "duration": 35,
    "start_time": "2021-07-24T13:16:36.466Z"
   },
   {
    "duration": 40,
    "start_time": "2021-07-24T13:16:44.911Z"
   },
   {
    "duration": 1629,
    "start_time": "2021-07-24T13:23:33.296Z"
   },
   {
    "duration": 389,
    "start_time": "2021-07-24T13:23:34.927Z"
   },
   {
    "duration": 24,
    "start_time": "2021-07-24T13:23:35.319Z"
   },
   {
    "duration": 5,
    "start_time": "2021-07-24T13:23:35.346Z"
   },
   {
    "duration": 936,
    "start_time": "2021-07-24T13:23:35.354Z"
   },
   {
    "duration": 19,
    "start_time": "2021-07-24T13:23:36.294Z"
   },
   {
    "duration": 22,
    "start_time": "2021-07-24T13:23:36.316Z"
   },
   {
    "duration": 39,
    "start_time": "2021-07-24T13:23:36.344Z"
   },
   {
    "duration": 34,
    "start_time": "2021-07-24T13:23:36.388Z"
   },
   {
    "duration": 19,
    "start_time": "2021-07-24T13:23:36.425Z"
   },
   {
    "duration": 47,
    "start_time": "2021-07-24T13:23:36.446Z"
   },
   {
    "duration": 22,
    "start_time": "2021-07-24T13:23:36.496Z"
   },
   {
    "duration": 9,
    "start_time": "2021-07-24T13:23:36.520Z"
   },
   {
    "duration": 8,
    "start_time": "2021-07-24T13:23:36.531Z"
   },
   {
    "duration": 105,
    "start_time": "2021-07-24T13:23:36.542Z"
   },
   {
    "duration": 66,
    "start_time": "2021-07-24T13:23:36.650Z"
   },
   {
    "duration": 9,
    "start_time": "2021-07-24T13:23:36.719Z"
   },
   {
    "duration": 23,
    "start_time": "2021-07-24T13:23:36.732Z"
   },
   {
    "duration": 196,
    "start_time": "2021-07-24T13:23:36.758Z"
   },
   {
    "duration": 34,
    "start_time": "2021-07-24T13:23:36.957Z"
   },
   {
    "duration": 9,
    "start_time": "2021-07-24T13:23:36.994Z"
   },
   {
    "duration": 8,
    "start_time": "2021-07-24T13:23:37.005Z"
   },
   {
    "duration": 8,
    "start_time": "2021-07-24T13:23:37.020Z"
   },
   {
    "duration": 5,
    "start_time": "2021-07-24T13:23:37.032Z"
   },
   {
    "duration": 34,
    "start_time": "2021-07-24T13:23:37.083Z"
   },
   {
    "duration": 10,
    "start_time": "2021-07-24T13:23:37.120Z"
   },
   {
    "duration": 11573,
    "start_time": "2021-07-24T13:23:37.132Z"
   },
   {
    "duration": 18,
    "start_time": "2021-07-24T13:23:48.707Z"
   },
   {
    "duration": 11256,
    "start_time": "2021-07-24T13:23:48.728Z"
   },
   {
    "duration": 7,
    "start_time": "2021-07-24T13:23:59.986Z"
   },
   {
    "duration": 14,
    "start_time": "2021-07-24T13:23:59.995Z"
   },
   {
    "duration": 98,
    "start_time": "2021-07-24T13:24:00.012Z"
   },
   {
    "duration": 9,
    "start_time": "2021-07-24T13:24:00.112Z"
   },
   {
    "duration": 65,
    "start_time": "2021-07-24T13:24:00.123Z"
   },
   {
    "duration": 104,
    "start_time": "2021-07-24T13:24:00.191Z"
   },
   {
    "duration": 14,
    "start_time": "2021-07-24T13:24:00.297Z"
   },
   {
    "duration": 777,
    "start_time": "2021-07-24T13:24:00.313Z"
   },
   {
    "duration": 726,
    "start_time": "2021-07-24T13:24:01.093Z"
   },
   {
    "duration": 16,
    "start_time": "2021-07-24T13:24:01.823Z"
   },
   {
    "duration": 12,
    "start_time": "2021-07-24T13:24:01.842Z"
   },
   {
    "duration": 31,
    "start_time": "2021-07-24T13:24:01.856Z"
   },
   {
    "duration": 25,
    "start_time": "2021-07-24T13:24:01.890Z"
   },
   {
    "duration": 220,
    "start_time": "2021-07-24T13:24:01.918Z"
   },
   {
    "duration": 17,
    "start_time": "2021-07-24T13:24:02.141Z"
   },
   {
    "duration": 209,
    "start_time": "2021-07-24T13:24:02.162Z"
   },
   {
    "duration": 15,
    "start_time": "2021-07-24T13:24:02.373Z"
   },
   {
    "duration": 15,
    "start_time": "2021-07-24T13:24:02.390Z"
   },
   {
    "duration": 17,
    "start_time": "2021-07-24T13:24:02.408Z"
   },
   {
    "duration": 13,
    "start_time": "2021-07-24T13:24:02.427Z"
   },
   {
    "duration": 74,
    "start_time": "2021-07-24T13:24:02.443Z"
   },
   {
    "duration": 23,
    "start_time": "2021-07-24T13:24:02.520Z"
   },
   {
    "duration": 71,
    "start_time": "2021-07-24T13:24:02.546Z"
   },
   {
    "duration": 6,
    "start_time": "2021-07-24T13:24:02.619Z"
   },
   {
    "duration": 11,
    "start_time": "2021-07-24T13:24:02.627Z"
   },
   {
    "duration": 450,
    "start_time": "2021-07-24T13:24:02.641Z"
   },
   {
    "duration": 10,
    "start_time": "2021-07-24T13:24:03.094Z"
   },
   {
    "duration": 49,
    "start_time": "2021-07-24T13:24:03.106Z"
   },
   {
    "duration": 28,
    "start_time": "2021-07-24T13:24:03.157Z"
   },
   {
    "duration": 62,
    "start_time": "2021-07-24T13:24:03.187Z"
   },
   {
    "duration": 12,
    "start_time": "2021-07-24T13:24:03.251Z"
   },
   {
    "duration": 33,
    "start_time": "2021-07-24T13:24:03.283Z"
   },
   {
    "duration": 66,
    "start_time": "2021-07-24T13:24:03.319Z"
   },
   {
    "duration": 414,
    "start_time": "2021-07-24T13:24:03.388Z"
   },
   {
    "duration": 52,
    "start_time": "2021-07-24T13:24:03.805Z"
   },
   {
    "duration": 53,
    "start_time": "2021-07-24T13:24:03.860Z"
   },
   {
    "duration": 11,
    "start_time": "2021-07-24T13:24:03.916Z"
   },
   {
    "duration": 1662,
    "start_time": "2021-07-24T14:05:24.130Z"
   },
   {
    "duration": 423,
    "start_time": "2021-07-24T14:05:25.795Z"
   },
   {
    "duration": 25,
    "start_time": "2021-07-24T14:05:26.221Z"
   },
   {
    "duration": 6,
    "start_time": "2021-07-24T14:05:26.248Z"
   },
   {
    "duration": 954,
    "start_time": "2021-07-24T14:05:26.256Z"
   },
   {
    "duration": 18,
    "start_time": "2021-07-24T14:05:27.213Z"
   },
   {
    "duration": 21,
    "start_time": "2021-07-24T14:05:27.233Z"
   },
   {
    "duration": 7,
    "start_time": "2021-07-24T14:05:27.285Z"
   },
   {
    "duration": 26,
    "start_time": "2021-07-24T14:05:27.295Z"
   },
   {
    "duration": 16,
    "start_time": "2021-07-24T14:05:27.324Z"
   },
   {
    "duration": 46,
    "start_time": "2021-07-24T14:05:27.342Z"
   },
   {
    "duration": 23,
    "start_time": "2021-07-24T14:05:27.390Z"
   },
   {
    "duration": 8,
    "start_time": "2021-07-24T14:05:27.415Z"
   },
   {
    "duration": 14,
    "start_time": "2021-07-24T14:05:27.426Z"
   },
   {
    "duration": 111,
    "start_time": "2021-07-24T14:05:27.442Z"
   },
   {
    "duration": 72,
    "start_time": "2021-07-24T14:05:27.555Z"
   },
   {
    "duration": 10,
    "start_time": "2021-07-24T14:05:27.629Z"
   },
   {
    "duration": 42,
    "start_time": "2021-07-24T14:05:27.641Z"
   },
   {
    "duration": 173,
    "start_time": "2021-07-24T14:05:27.687Z"
   },
   {
    "duration": 34,
    "start_time": "2021-07-24T14:05:27.863Z"
   },
   {
    "duration": 7,
    "start_time": "2021-07-24T14:05:27.900Z"
   },
   {
    "duration": 6,
    "start_time": "2021-07-24T14:05:27.910Z"
   },
   {
    "duration": 7,
    "start_time": "2021-07-24T14:05:27.924Z"
   },
   {
    "duration": 50,
    "start_time": "2021-07-24T14:05:27.935Z"
   },
   {
    "duration": 42,
    "start_time": "2021-07-24T14:05:27.987Z"
   },
   {
    "duration": 7,
    "start_time": "2021-07-24T14:05:28.032Z"
   },
   {
    "duration": 12564,
    "start_time": "2021-07-24T14:05:28.042Z"
   },
   {
    "duration": 19,
    "start_time": "2021-07-24T14:05:40.608Z"
   },
   {
    "duration": 11271,
    "start_time": "2021-07-24T14:05:40.630Z"
   },
   {
    "duration": 5,
    "start_time": "2021-07-24T14:05:51.904Z"
   },
   {
    "duration": 19,
    "start_time": "2021-07-24T14:05:51.911Z"
   },
   {
    "duration": 84,
    "start_time": "2021-07-24T14:05:51.933Z"
   },
   {
    "duration": 65,
    "start_time": "2021-07-24T14:05:52.020Z"
   },
   {
    "duration": 12,
    "start_time": "2021-07-24T14:05:52.087Z"
   },
   {
    "duration": 108,
    "start_time": "2021-07-24T14:05:52.101Z"
   },
   {
    "duration": 71,
    "start_time": "2021-07-24T14:05:52.211Z"
   },
   {
    "duration": 717,
    "start_time": "2021-07-24T14:05:52.285Z"
   },
   {
    "duration": 462,
    "start_time": "2021-07-24T14:05:53.004Z"
   },
   {
    "duration": 19,
    "start_time": "2021-07-24T14:05:53.469Z"
   },
   {
    "duration": 12,
    "start_time": "2021-07-24T14:05:53.490Z"
   },
   {
    "duration": 24,
    "start_time": "2021-07-24T14:05:53.505Z"
   },
   {
    "duration": 18,
    "start_time": "2021-07-24T14:05:53.531Z"
   },
   {
    "duration": 197,
    "start_time": "2021-07-24T14:05:53.551Z"
   },
   {
    "duration": 15,
    "start_time": "2021-07-24T14:05:53.751Z"
   },
   {
    "duration": 192,
    "start_time": "2021-07-24T14:05:53.768Z"
   },
   {
    "duration": 23,
    "start_time": "2021-07-24T14:05:53.962Z"
   },
   {
    "duration": 10,
    "start_time": "2021-07-24T14:05:53.988Z"
   },
   {
    "duration": 13,
    "start_time": "2021-07-24T14:05:54.002Z"
   },
   {
    "duration": 9,
    "start_time": "2021-07-24T14:05:54.018Z"
   },
   {
    "duration": 73,
    "start_time": "2021-07-24T14:05:54.030Z"
   },
   {
    "duration": 23,
    "start_time": "2021-07-24T14:05:54.106Z"
   },
   {
    "duration": 74,
    "start_time": "2021-07-24T14:05:54.133Z"
   },
   {
    "duration": 7,
    "start_time": "2021-07-24T14:05:54.210Z"
   },
   {
    "duration": 29,
    "start_time": "2021-07-24T14:05:54.220Z"
   },
   {
    "duration": 416,
    "start_time": "2021-07-24T14:05:54.252Z"
   },
   {
    "duration": 13,
    "start_time": "2021-07-24T14:05:54.671Z"
   },
   {
    "duration": 60,
    "start_time": "2021-07-24T14:05:54.687Z"
   },
   {
    "duration": 11,
    "start_time": "2021-07-24T14:05:54.749Z"
   },
   {
    "duration": 58,
    "start_time": "2021-07-24T14:05:54.762Z"
   },
   {
    "duration": 11,
    "start_time": "2021-07-24T14:05:54.822Z"
   },
   {
    "duration": 53,
    "start_time": "2021-07-24T14:05:54.835Z"
   },
   {
    "duration": 34,
    "start_time": "2021-07-24T14:05:54.890Z"
   },
   {
    "duration": 409,
    "start_time": "2021-07-24T14:05:54.927Z"
   },
   {
    "duration": 55,
    "start_time": "2021-07-24T14:05:55.339Z"
   },
   {
    "duration": 35,
    "start_time": "2021-07-24T14:05:55.396Z"
   },
   {
    "duration": 21,
    "start_time": "2021-07-24T14:05:55.433Z"
   },
   {
    "duration": 9,
    "start_time": "2021-07-24T14:06:27.219Z"
   }
  ],
  "colab": {
   "collapsed_sections": [],
   "name": "project_9 - startup.ipynb",
   "provenance": [
    {
     "file_id": "1k_uYIf1p-GCmOa-9mzgetCky47ulIwxx",
     "timestamp": 1627138339410
    }
   ],
   "toc_visible": true
  },
  "kernelspec": {
   "display_name": "Python 3",
   "language": "python",
   "name": "python3"
  },
  "language_info": {
   "codemirror_mode": {
    "name": "ipython",
    "version": 3
   },
   "file_extension": ".py",
   "mimetype": "text/x-python",
   "name": "python",
   "nbconvert_exporter": "python",
   "pygments_lexer": "ipython3",
   "version": "3.8.8"
  },
  "toc": {
   "base_numbering": 1,
   "nav_menu": {},
   "number_sections": true,
   "sideBar": true,
   "skip_h1_title": true,
   "title_cell": "Table of Contents",
   "title_sidebar": "Contents",
   "toc_cell": false,
   "toc_position": {
    "height": "calc(100% - 180px)",
    "left": "10px",
    "top": "150px",
    "width": "234.391px"
   },
   "toc_section_display": true,
   "toc_window_display": false
  }
 },
 "nbformat": 4,
 "nbformat_minor": 1
}
