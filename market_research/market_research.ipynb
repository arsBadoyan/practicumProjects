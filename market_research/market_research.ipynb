{
 "cells": [
  {
   "cell_type": "markdown",
   "metadata": {
    "id": "hq7U231A6l0O"
   },
   "source": [
    "# Исследование рынка общественного питания Москвы\n",
    "\n",
    "Вы решили открыть небольшое кафе в Москве. Оно оригинальное — гостей должны обслуживать роботы. Проект многообещающий, но дорогой. \n",
    "\n",
    "Вместе с партнёрами вы решились обратиться к инвесторам. Их интересует текущее положение дел на рынке — сможете ли вы снискать популярность на долгое время, когда все зеваки насмотрятся на роботов-официантов?\n",
    "\n",
    "**Цель:** Исследовать рынок общественного питания Москвы и дать рекомендации о виде заведения, количество посадочных мест и районе расположения.\n",
    "\n",
    "Описание данных:\n",
    "* id — идентификатор объекта;\n",
    "* object_name — название объекта общественного питания;\n",
    "* chain — сетевой ресторан;\n",
    "* object_type — тип объекта общественного питания;\n",
    "* address — адрес;\n",
    "* number — количество посадочных мест.\n"
   ]
  },
  {
   "cell_type": "markdown",
   "metadata": {
    "id": "P-L7IyZV6l0P"
   },
   "source": [
    "## Изучение данных из файла"
   ]
  },
  {
   "cell_type": "markdown",
   "metadata": {
    "id": "IJhBIQLFWHj6"
   },
   "source": [
    "Установим модуль Dadata для стандартизации адресов"
   ]
  },
  {
   "cell_type": "code",
   "execution_count": 1,
   "metadata": {
    "colab": {
     "base_uri": "https://localhost:8080/"
    },
    "executionInfo": {
     "elapsed": 4839,
     "status": "ok",
     "timestamp": 1627985153047,
     "user": {
      "displayName": "Арсен",
      "photoUrl": "https://lh3.googleusercontent.com/a-/AOh14GjPCG8vWVVB43Ax1wpE_vEPLjGP-XH0UWc12vB7wg=s64",
      "userId": "17661651445996378067"
     },
     "user_tz": -180
    },
    "id": "EXRH3XyCWAbk",
    "outputId": "ff1f0c02-a113-4de5-fbd7-5bf6d35343b6"
   },
   "outputs": [
    {
     "name": "stdout",
     "output_type": "stream",
     "text": [
      "Collecting dadata\n",
      "  Downloading dadata-20.7.0-py3-none-any.whl (10 kB)\n",
      "Collecting httpx\n",
      "  Downloading httpx-0.18.2-py3-none-any.whl (76 kB)\n",
      "Requirement already satisfied: certifi in g:\\programs\\anaconda\\lib\\site-packages (from httpx->dadata) (2020.12.5)\n",
      "Collecting rfc3986[idna2008]<2,>=1.3\n",
      "  Downloading rfc3986-1.5.0-py2.py3-none-any.whl (31 kB)\n",
      "Collecting httpcore<0.14.0,>=0.13.3\n",
      "  Downloading httpcore-0.13.6-py3-none-any.whl (58 kB)\n",
      "Requirement already satisfied: sniffio in g:\\programs\\anaconda\\lib\\site-packages (from httpx->dadata) (1.2.0)\n",
      "Collecting h11<0.13,>=0.11\n",
      "  Downloading h11-0.12.0-py3-none-any.whl (54 kB)\n",
      "Collecting anyio==3.*\n",
      "  Downloading anyio-3.3.0-py3-none-any.whl (77 kB)\n",
      "Requirement already satisfied: idna>=2.8 in g:\\programs\\anaconda\\lib\\site-packages (from anyio==3.*->httpcore<0.14.0,>=0.13.3->httpx->dadata) (2.10)\n",
      "Installing collected packages: rfc3986, h11, anyio, httpcore, httpx, dadata\n",
      "  Attempting uninstall: anyio\n",
      "    Found existing installation: anyio 2.2.0\n",
      "    Uninstalling anyio-2.2.0:\n",
      "      Successfully uninstalled anyio-2.2.0\n",
      "Successfully installed anyio-3.3.0 dadata-20.7.0 h11-0.12.0 httpcore-0.13.6 httpx-0.18.2 rfc3986-1.5.0\n",
      "Note: you may need to restart the kernel to use updated packages.\n"
     ]
    }
   ],
   "source": [
    "pip install dadata -U"
   ]
  },
  {
   "cell_type": "markdown",
   "metadata": {
    "id": "h4Mmv4CiY0b5"
   },
   "source": [
    "И еще folium для геопространственной визуализации"
   ]
  },
  {
   "cell_type": "code",
   "execution_count": 2,
   "metadata": {
    "colab": {
     "base_uri": "https://localhost:8080/"
    },
    "executionInfo": {
     "elapsed": 2841,
     "status": "ok",
     "timestamp": 1627985155881,
     "user": {
      "displayName": "Арсен",
      "photoUrl": "https://lh3.googleusercontent.com/a-/AOh14GjPCG8vWVVB43Ax1wpE_vEPLjGP-XH0UWc12vB7wg=s64",
      "userId": "17661651445996378067"
     },
     "user_tz": -180
    },
    "id": "3fO7XWy4Y8M4",
    "outputId": "a881acfb-bc1b-439f-eacb-05ae72bc7872"
   },
   "outputs": [
    {
     "name": "stdout",
     "output_type": "stream",
     "text": [
      "Collecting folium\n",
      "  Downloading folium-0.12.1-py2.py3-none-any.whl (94 kB)\n",
      "Collecting branca>=0.3.0\n",
      "  Downloading branca-0.4.2-py3-none-any.whl (24 kB)\n",
      "Requirement already satisfied: jinja2>=2.9 in g:\\programs\\anaconda\\lib\\site-packages (from folium) (2.11.3)\n",
      "Requirement already satisfied: requests in g:\\programs\\anaconda\\lib\\site-packages (from folium) (2.25.1)\n",
      "Requirement already satisfied: numpy in g:\\programs\\anaconda\\lib\\site-packages (from folium) (1.20.1)\n",
      "Requirement already satisfied: MarkupSafe>=0.23 in g:\\programs\\anaconda\\lib\\site-packages (from jinja2>=2.9->folium) (1.1.1)\n",
      "Requirement already satisfied: idna<3,>=2.5 in g:\\programs\\anaconda\\lib\\site-packages (from requests->folium) (2.10)\n",
      "Requirement already satisfied: certifi>=2017.4.17 in g:\\programs\\anaconda\\lib\\site-packages (from requests->folium) (2020.12.5)\n",
      "Requirement already satisfied: urllib3<1.27,>=1.21.1 in g:\\programs\\anaconda\\lib\\site-packages (from requests->folium) (1.26.4)\n",
      "Requirement already satisfied: chardet<5,>=3.0.2 in g:\\programs\\anaconda\\lib\\site-packages (from requests->folium) (4.0.0)\n",
      "Installing collected packages: branca, folium\n",
      "Successfully installed branca-0.4.2 folium-0.12.1\n",
      "Note: you may need to restart the kernel to use updated packages.\n"
     ]
    }
   ],
   "source": [
    "pip install folium -U"
   ]
  },
  {
   "cell_type": "markdown",
   "metadata": {
    "id": "8JJNaJaI-PRM"
   },
   "source": [
    "И обновим плотли"
   ]
  },
  {
   "cell_type": "code",
   "execution_count": 3,
   "metadata": {
    "colab": {
     "base_uri": "https://localhost:8080/"
    },
    "executionInfo": {
     "elapsed": 18526,
     "status": "ok",
     "timestamp": 1627985174403,
     "user": {
      "displayName": "Арсен",
      "photoUrl": "https://lh3.googleusercontent.com/a-/AOh14GjPCG8vWVVB43Ax1wpE_vEPLjGP-XH0UWc12vB7wg=s64",
      "userId": "17661651445996378067"
     },
     "user_tz": -180
    },
    "id": "NRZuKkGt-QWt",
    "outputId": "60eacfd3-da75-421a-def4-077662826422"
   },
   "outputs": [
    {
     "name": "stdout",
     "output_type": "stream",
     "text": [
      "Requirement already satisfied: plotly in g:\\programs\\anaconda\\lib\\site-packages (5.1.0)\n",
      "Requirement already satisfied: tenacity>=6.2.0 in g:\\programs\\anaconda\\lib\\site-packages (from plotly) (6.3.1)\n",
      "Requirement already satisfied: six in g:\\programs\\anaconda\\lib\\site-packages (from plotly) (1.15.0)\n",
      "Note: you may need to restart the kernel to use updated packages.\n"
     ]
    }
   ],
   "source": [
    "pip install plotly -U"
   ]
  },
  {
   "cell_type": "code",
   "execution_count": 4,
   "metadata": {
    "id": "pTkxrrZk6l0P"
   },
   "outputs": [],
   "source": [
    "import pandas as pd\n",
    "import matplotlib.pyplot as plt\n",
    "import plotly.express as px\n",
    "import numpy as np\n",
    "import re\n",
    "import folium\n",
    "import folium.plugins as plugins\n",
    "import requests\n",
    "\n",
    "import plotly.io as pio\n",
    "pio.renderers.default = 'svg'\n",
    "\n",
    "from dadata import Dadata\n",
    "from tqdm.notebook import tqdm\n",
    "\n",
    "pd.set_option('chained_assignment', None)"
   ]
  },
  {
   "cell_type": "code",
   "execution_count": 5,
   "metadata": {
    "id": "tuTwiKFWoqb0"
   },
   "outputs": [],
   "source": [
    "try:\n",
    "    rest_data = pd.read_csv('https://code.s3.yandex.net/datasets/rest_data.csv')\n",
    "except Exception as err:\n",
    "    print('Ошибка:', err)"
   ]
  },
  {
   "cell_type": "code",
   "execution_count": 6,
   "metadata": {
    "colab": {
     "base_uri": "https://localhost:8080/",
     "height": 204
    },
    "executionInfo": {
     "elapsed": 30,
     "status": "ok",
     "timestamp": 1627985178630,
     "user": {
      "displayName": "Арсен",
      "photoUrl": "https://lh3.googleusercontent.com/a-/AOh14GjPCG8vWVVB43Ax1wpE_vEPLjGP-XH0UWc12vB7wg=s64",
      "userId": "17661651445996378067"
     },
     "user_tz": -180
    },
    "id": "eAgSzSbNk0RI",
    "outputId": "7652451c-3876-44a3-f4d7-539a4daf1a2c"
   },
   "outputs": [
    {
     "data": {
      "text/html": [
       "<div>\n",
       "<style scoped>\n",
       "    .dataframe tbody tr th:only-of-type {\n",
       "        vertical-align: middle;\n",
       "    }\n",
       "\n",
       "    .dataframe tbody tr th {\n",
       "        vertical-align: top;\n",
       "    }\n",
       "\n",
       "    .dataframe thead th {\n",
       "        text-align: right;\n",
       "    }\n",
       "</style>\n",
       "<table border=\"1\" class=\"dataframe\">\n",
       "  <thead>\n",
       "    <tr style=\"text-align: right;\">\n",
       "      <th></th>\n",
       "      <th>id</th>\n",
       "      <th>object_name</th>\n",
       "      <th>chain</th>\n",
       "      <th>object_type</th>\n",
       "      <th>address</th>\n",
       "      <th>number</th>\n",
       "    </tr>\n",
       "  </thead>\n",
       "  <tbody>\n",
       "    <tr>\n",
       "      <th>0</th>\n",
       "      <td>151635</td>\n",
       "      <td>СМЕТАНА</td>\n",
       "      <td>нет</td>\n",
       "      <td>кафе</td>\n",
       "      <td>город Москва, улица Егора Абакумова, дом 9</td>\n",
       "      <td>48</td>\n",
       "    </tr>\n",
       "    <tr>\n",
       "      <th>1</th>\n",
       "      <td>77874</td>\n",
       "      <td>Родник</td>\n",
       "      <td>нет</td>\n",
       "      <td>кафе</td>\n",
       "      <td>город Москва, улица Талалихина, дом 2/1, корпус 1</td>\n",
       "      <td>35</td>\n",
       "    </tr>\n",
       "    <tr>\n",
       "      <th>2</th>\n",
       "      <td>24309</td>\n",
       "      <td>Кафе «Академия»</td>\n",
       "      <td>нет</td>\n",
       "      <td>кафе</td>\n",
       "      <td>город Москва, Абельмановская улица, дом 6</td>\n",
       "      <td>95</td>\n",
       "    </tr>\n",
       "    <tr>\n",
       "      <th>3</th>\n",
       "      <td>21894</td>\n",
       "      <td>ПИЦЦЕТОРИЯ</td>\n",
       "      <td>да</td>\n",
       "      <td>кафе</td>\n",
       "      <td>город Москва, Абрамцевская улица, дом 1</td>\n",
       "      <td>40</td>\n",
       "    </tr>\n",
       "    <tr>\n",
       "      <th>4</th>\n",
       "      <td>119365</td>\n",
       "      <td>Кафе «Вишневая метель»</td>\n",
       "      <td>нет</td>\n",
       "      <td>кафе</td>\n",
       "      <td>город Москва, Абрамцевская улица, дом 9, корпус 1</td>\n",
       "      <td>50</td>\n",
       "    </tr>\n",
       "  </tbody>\n",
       "</table>\n",
       "</div>"
      ],
      "text/plain": [
       "       id             object_name chain object_type  \\\n",
       "0  151635                 СМЕТАНА   нет        кафе   \n",
       "1   77874                  Родник   нет        кафе   \n",
       "2   24309         Кафе «Академия»   нет        кафе   \n",
       "3   21894              ПИЦЦЕТОРИЯ    да        кафе   \n",
       "4  119365  Кафе «Вишневая метель»   нет        кафе   \n",
       "\n",
       "                                             address  number  \n",
       "0         город Москва, улица Егора Абакумова, дом 9      48  \n",
       "1  город Москва, улица Талалихина, дом 2/1, корпус 1      35  \n",
       "2          город Москва, Абельмановская улица, дом 6      95  \n",
       "3            город Москва, Абрамцевская улица, дом 1      40  \n",
       "4  город Москва, Абрамцевская улица, дом 9, корпус 1      50  "
      ]
     },
     "execution_count": 6,
     "metadata": {},
     "output_type": "execute_result"
    }
   ],
   "source": [
    "rest_data.head()"
   ]
  },
  {
   "cell_type": "markdown",
   "metadata": {
    "id": "CzePINhEApAs"
   },
   "source": [
    "## Предобработка данных"
   ]
  },
  {
   "cell_type": "code",
   "execution_count": 7,
   "metadata": {
    "id": "NmbQmwG8Aokk"
   },
   "outputs": [],
   "source": [
    "def primary_info(df):\n",
    "    display(df.head())\n",
    "    print()\n",
    "    print('Проверка на пропущенные значения:')\n",
    "    display(pd.DataFrame(round((df.isna().mean()*100),2)).style.background_gradient('coolwarm'))\n",
    "    print('----------------')\n",
    "    print()\n",
    "    print('Проверка типа данных на корректность:')\n",
    "    print(df.info())\n",
    "    print('----------------')\n",
    "    print()\n",
    "    print('Количество дубликатов:', df.duplicated().sum())"
   ]
  },
  {
   "cell_type": "code",
   "execution_count": 8,
   "metadata": {
    "colab": {
     "base_uri": "https://localhost:8080/",
     "height": 727
    },
    "executionInfo": {
     "elapsed": 28,
     "status": "ok",
     "timestamp": 1627985178632,
     "user": {
      "displayName": "Арсен",
      "photoUrl": "https://lh3.googleusercontent.com/a-/AOh14GjPCG8vWVVB43Ax1wpE_vEPLjGP-XH0UWc12vB7wg=s64",
      "userId": "17661651445996378067"
     },
     "user_tz": -180
    },
    "id": "icDkrthFCWAm",
    "outputId": "c5e25e85-4aca-412e-93cb-61bcfd36dcab"
   },
   "outputs": [
    {
     "data": {
      "text/html": [
       "<div>\n",
       "<style scoped>\n",
       "    .dataframe tbody tr th:only-of-type {\n",
       "        vertical-align: middle;\n",
       "    }\n",
       "\n",
       "    .dataframe tbody tr th {\n",
       "        vertical-align: top;\n",
       "    }\n",
       "\n",
       "    .dataframe thead th {\n",
       "        text-align: right;\n",
       "    }\n",
       "</style>\n",
       "<table border=\"1\" class=\"dataframe\">\n",
       "  <thead>\n",
       "    <tr style=\"text-align: right;\">\n",
       "      <th></th>\n",
       "      <th>id</th>\n",
       "      <th>object_name</th>\n",
       "      <th>chain</th>\n",
       "      <th>object_type</th>\n",
       "      <th>address</th>\n",
       "      <th>number</th>\n",
       "    </tr>\n",
       "  </thead>\n",
       "  <tbody>\n",
       "    <tr>\n",
       "      <th>0</th>\n",
       "      <td>151635</td>\n",
       "      <td>СМЕТАНА</td>\n",
       "      <td>нет</td>\n",
       "      <td>кафе</td>\n",
       "      <td>город Москва, улица Егора Абакумова, дом 9</td>\n",
       "      <td>48</td>\n",
       "    </tr>\n",
       "    <tr>\n",
       "      <th>1</th>\n",
       "      <td>77874</td>\n",
       "      <td>Родник</td>\n",
       "      <td>нет</td>\n",
       "      <td>кафе</td>\n",
       "      <td>город Москва, улица Талалихина, дом 2/1, корпус 1</td>\n",
       "      <td>35</td>\n",
       "    </tr>\n",
       "    <tr>\n",
       "      <th>2</th>\n",
       "      <td>24309</td>\n",
       "      <td>Кафе «Академия»</td>\n",
       "      <td>нет</td>\n",
       "      <td>кафе</td>\n",
       "      <td>город Москва, Абельмановская улица, дом 6</td>\n",
       "      <td>95</td>\n",
       "    </tr>\n",
       "    <tr>\n",
       "      <th>3</th>\n",
       "      <td>21894</td>\n",
       "      <td>ПИЦЦЕТОРИЯ</td>\n",
       "      <td>да</td>\n",
       "      <td>кафе</td>\n",
       "      <td>город Москва, Абрамцевская улица, дом 1</td>\n",
       "      <td>40</td>\n",
       "    </tr>\n",
       "    <tr>\n",
       "      <th>4</th>\n",
       "      <td>119365</td>\n",
       "      <td>Кафе «Вишневая метель»</td>\n",
       "      <td>нет</td>\n",
       "      <td>кафе</td>\n",
       "      <td>город Москва, Абрамцевская улица, дом 9, корпус 1</td>\n",
       "      <td>50</td>\n",
       "    </tr>\n",
       "  </tbody>\n",
       "</table>\n",
       "</div>"
      ],
      "text/plain": [
       "       id             object_name chain object_type  \\\n",
       "0  151635                 СМЕТАНА   нет        кафе   \n",
       "1   77874                  Родник   нет        кафе   \n",
       "2   24309         Кафе «Академия»   нет        кафе   \n",
       "3   21894              ПИЦЦЕТОРИЯ    да        кафе   \n",
       "4  119365  Кафе «Вишневая метель»   нет        кафе   \n",
       "\n",
       "                                             address  number  \n",
       "0         город Москва, улица Егора Абакумова, дом 9      48  \n",
       "1  город Москва, улица Талалихина, дом 2/1, корпус 1      35  \n",
       "2          город Москва, Абельмановская улица, дом 6      95  \n",
       "3            город Москва, Абрамцевская улица, дом 1      40  \n",
       "4  город Москва, Абрамцевская улица, дом 9, корпус 1      50  "
      ]
     },
     "metadata": {},
     "output_type": "display_data"
    },
    {
     "name": "stdout",
     "output_type": "stream",
     "text": [
      "\n",
      "Проверка на пропущенные значения:\n"
     ]
    },
    {
     "data": {
      "text/html": [
       "<style  type=\"text/css\" >\n",
       "#T_b7f5d_row0_col0,#T_b7f5d_row1_col0,#T_b7f5d_row2_col0,#T_b7f5d_row3_col0,#T_b7f5d_row4_col0,#T_b7f5d_row5_col0{\n",
       "            background-color:  #3b4cc0;\n",
       "            color:  #f1f1f1;\n",
       "        }</style><table id=\"T_b7f5d_\" ><thead>    <tr>        <th class=\"blank level0\" ></th>        <th class=\"col_heading level0 col0\" >0</th>    </tr></thead><tbody>\n",
       "                <tr>\n",
       "                        <th id=\"T_b7f5d_level0_row0\" class=\"row_heading level0 row0\" >id</th>\n",
       "                        <td id=\"T_b7f5d_row0_col0\" class=\"data row0 col0\" >0.000000</td>\n",
       "            </tr>\n",
       "            <tr>\n",
       "                        <th id=\"T_b7f5d_level0_row1\" class=\"row_heading level0 row1\" >object_name</th>\n",
       "                        <td id=\"T_b7f5d_row1_col0\" class=\"data row1 col0\" >0.000000</td>\n",
       "            </tr>\n",
       "            <tr>\n",
       "                        <th id=\"T_b7f5d_level0_row2\" class=\"row_heading level0 row2\" >chain</th>\n",
       "                        <td id=\"T_b7f5d_row2_col0\" class=\"data row2 col0\" >0.000000</td>\n",
       "            </tr>\n",
       "            <tr>\n",
       "                        <th id=\"T_b7f5d_level0_row3\" class=\"row_heading level0 row3\" >object_type</th>\n",
       "                        <td id=\"T_b7f5d_row3_col0\" class=\"data row3 col0\" >0.000000</td>\n",
       "            </tr>\n",
       "            <tr>\n",
       "                        <th id=\"T_b7f5d_level0_row4\" class=\"row_heading level0 row4\" >address</th>\n",
       "                        <td id=\"T_b7f5d_row4_col0\" class=\"data row4 col0\" >0.000000</td>\n",
       "            </tr>\n",
       "            <tr>\n",
       "                        <th id=\"T_b7f5d_level0_row5\" class=\"row_heading level0 row5\" >number</th>\n",
       "                        <td id=\"T_b7f5d_row5_col0\" class=\"data row5 col0\" >0.000000</td>\n",
       "            </tr>\n",
       "    </tbody></table>"
      ],
      "text/plain": [
       "<pandas.io.formats.style.Styler at 0x28761229f10>"
      ]
     },
     "metadata": {},
     "output_type": "display_data"
    },
    {
     "name": "stdout",
     "output_type": "stream",
     "text": [
      "----------------\n",
      "\n",
      "Проверка типа данных на корректность:\n",
      "<class 'pandas.core.frame.DataFrame'>\n",
      "RangeIndex: 15366 entries, 0 to 15365\n",
      "Data columns (total 6 columns):\n",
      " #   Column       Non-Null Count  Dtype \n",
      "---  ------       --------------  ----- \n",
      " 0   id           15366 non-null  int64 \n",
      " 1   object_name  15366 non-null  object\n",
      " 2   chain        15366 non-null  object\n",
      " 3   object_type  15366 non-null  object\n",
      " 4   address      15366 non-null  object\n",
      " 5   number       15366 non-null  int64 \n",
      "dtypes: int64(2), object(4)\n",
      "memory usage: 720.4+ KB\n",
      "None\n",
      "----------------\n",
      "\n",
      "Количество дубликатов: 0\n"
     ]
    }
   ],
   "source": [
    "primary_info(rest_data)"
   ]
  },
  {
   "cell_type": "markdown",
   "metadata": {
    "id": "uXkGnS0MsYdG"
   },
   "source": [
    "Полных дубликатов нет, проверим датафрейм без столбца id"
   ]
  },
  {
   "cell_type": "code",
   "execution_count": 9,
   "metadata": {
    "colab": {
     "base_uri": "https://localhost:8080/",
     "height": 419
    },
    "executionInfo": {
     "elapsed": 27,
     "status": "ok",
     "timestamp": 1627985178633,
     "user": {
      "displayName": "Арсен",
      "photoUrl": "https://lh3.googleusercontent.com/a-/AOh14GjPCG8vWVVB43Ax1wpE_vEPLjGP-XH0UWc12vB7wg=s64",
      "userId": "17661651445996378067"
     },
     "user_tz": -180
    },
    "id": "smNFFtccsdgw",
    "outputId": "5d5f062a-3408-4d10-f33b-146b99ba2bc9"
   },
   "outputs": [
    {
     "data": {
      "text/html": [
       "<div>\n",
       "<style scoped>\n",
       "    .dataframe tbody tr th:only-of-type {\n",
       "        vertical-align: middle;\n",
       "    }\n",
       "\n",
       "    .dataframe tbody tr th {\n",
       "        vertical-align: top;\n",
       "    }\n",
       "\n",
       "    .dataframe thead th {\n",
       "        text-align: right;\n",
       "    }\n",
       "</style>\n",
       "<table border=\"1\" class=\"dataframe\">\n",
       "  <thead>\n",
       "    <tr style=\"text-align: right;\">\n",
       "      <th></th>\n",
       "      <th>id</th>\n",
       "      <th>object_name</th>\n",
       "      <th>chain</th>\n",
       "      <th>object_type</th>\n",
       "      <th>address</th>\n",
       "      <th>number</th>\n",
       "    </tr>\n",
       "  </thead>\n",
       "  <tbody>\n",
       "    <tr>\n",
       "      <th>2381</th>\n",
       "      <td>28611</td>\n",
       "      <td>КОМБИНАТ ПИТАНИЯ МГТУ ИМ.Н.Э.БАУМАНА</td>\n",
       "      <td>нет</td>\n",
       "      <td>столовая</td>\n",
       "      <td>город Москва, 2-я Бауманская улица, дом 5, стр...</td>\n",
       "      <td>100</td>\n",
       "    </tr>\n",
       "    <tr>\n",
       "      <th>3481</th>\n",
       "      <td>20914</td>\n",
       "      <td>Буфет Мади</td>\n",
       "      <td>нет</td>\n",
       "      <td>буфет</td>\n",
       "      <td>город Москва, Ленинградский проспект, дом 64</td>\n",
       "      <td>40</td>\n",
       "    </tr>\n",
       "    <tr>\n",
       "      <th>4431</th>\n",
       "      <td>23759</td>\n",
       "      <td>СТОЛОВАЯ ГБОУ города Москвы № 384</td>\n",
       "      <td>нет</td>\n",
       "      <td>буфет</td>\n",
       "      <td>город Москва, Беловежская улица, дом 67</td>\n",
       "      <td>100</td>\n",
       "    </tr>\n",
       "    <tr>\n",
       "      <th>4537</th>\n",
       "      <td>23391</td>\n",
       "      <td>Столовая «Комбинат питания КОСМОС»</td>\n",
       "      <td>нет</td>\n",
       "      <td>столовая</td>\n",
       "      <td>город Москва, Новозаводская улица, дом 12/11</td>\n",
       "      <td>15</td>\n",
       "    </tr>\n",
       "    <tr>\n",
       "      <th>5059</th>\n",
       "      <td>20021</td>\n",
       "      <td>LIFT</td>\n",
       "      <td>нет</td>\n",
       "      <td>кафе</td>\n",
       "      <td>город Москва, Багратионовский проезд, дом 7, к...</td>\n",
       "      <td>20</td>\n",
       "    </tr>\n",
       "    <tr>\n",
       "      <th>...</th>\n",
       "      <td>...</td>\n",
       "      <td>...</td>\n",
       "      <td>...</td>\n",
       "      <td>...</td>\n",
       "      <td>...</td>\n",
       "      <td>...</td>\n",
       "    </tr>\n",
       "    <tr>\n",
       "      <th>14578</th>\n",
       "      <td>222932</td>\n",
       "      <td>Старый Баку</td>\n",
       "      <td>нет</td>\n",
       "      <td>кафе</td>\n",
       "      <td>город Москва, Кировоградская улица, владение 15А</td>\n",
       "      <td>120</td>\n",
       "    </tr>\n",
       "    <tr>\n",
       "      <th>14596</th>\n",
       "      <td>204947</td>\n",
       "      <td>Буфет при кинотеатре</td>\n",
       "      <td>нет</td>\n",
       "      <td>буфет</td>\n",
       "      <td>город Москва, Ореховый бульвар, дом 22А</td>\n",
       "      <td>0</td>\n",
       "    </tr>\n",
       "    <tr>\n",
       "      <th>14844</th>\n",
       "      <td>219518</td>\n",
       "      <td>Sushi-Make</td>\n",
       "      <td>нет</td>\n",
       "      <td>предприятие быстрого обслуживания</td>\n",
       "      <td>город Москва, Ярцевская улица, дом 19</td>\n",
       "      <td>0</td>\n",
       "    </tr>\n",
       "    <tr>\n",
       "      <th>15173</th>\n",
       "      <td>218542</td>\n",
       "      <td>Кофе с собой</td>\n",
       "      <td>да</td>\n",
       "      <td>предприятие быстрого обслуживания</td>\n",
       "      <td>город Москва, Алтуфьевское шоссе, дом 70, корп...</td>\n",
       "      <td>0</td>\n",
       "    </tr>\n",
       "    <tr>\n",
       "      <th>15217</th>\n",
       "      <td>214146</td>\n",
       "      <td>Макдоналдс</td>\n",
       "      <td>да</td>\n",
       "      <td>предприятие быстрого обслуживания</td>\n",
       "      <td>город Москва, Кировоградская улица, дом 13А</td>\n",
       "      <td>0</td>\n",
       "    </tr>\n",
       "  </tbody>\n",
       "</table>\n",
       "<p>82 rows × 6 columns</p>\n",
       "</div>"
      ],
      "text/plain": [
       "           id                           object_name chain  \\\n",
       "2381    28611  КОМБИНАТ ПИТАНИЯ МГТУ ИМ.Н.Э.БАУМАНА   нет   \n",
       "3481    20914                            Буфет Мади   нет   \n",
       "4431    23759     СТОЛОВАЯ ГБОУ города Москвы № 384   нет   \n",
       "4537    23391    Столовая «Комбинат питания КОСМОС»   нет   \n",
       "5059    20021                                  LIFT   нет   \n",
       "...       ...                                   ...   ...   \n",
       "14578  222932                           Старый Баку   нет   \n",
       "14596  204947                  Буфет при кинотеатре   нет   \n",
       "14844  219518                            Sushi-Make   нет   \n",
       "15173  218542                          Кофе с собой    да   \n",
       "15217  214146                            Макдоналдс    да   \n",
       "\n",
       "                             object_type  \\\n",
       "2381                            столовая   \n",
       "3481                               буфет   \n",
       "4431                               буфет   \n",
       "4537                            столовая   \n",
       "5059                                кафе   \n",
       "...                                  ...   \n",
       "14578                               кафе   \n",
       "14596                              буфет   \n",
       "14844  предприятие быстрого обслуживания   \n",
       "15173  предприятие быстрого обслуживания   \n",
       "15217  предприятие быстрого обслуживания   \n",
       "\n",
       "                                                 address  number  \n",
       "2381   город Москва, 2-я Бауманская улица, дом 5, стр...     100  \n",
       "3481        город Москва, Ленинградский проспект, дом 64      40  \n",
       "4431             город Москва, Беловежская улица, дом 67     100  \n",
       "4537        город Москва, Новозаводская улица, дом 12/11      15  \n",
       "5059   город Москва, Багратионовский проезд, дом 7, к...      20  \n",
       "...                                                  ...     ...  \n",
       "14578   город Москва, Кировоградская улица, владение 15А     120  \n",
       "14596            город Москва, Ореховый бульвар, дом 22А       0  \n",
       "14844              город Москва, Ярцевская улица, дом 19       0  \n",
       "15173  город Москва, Алтуфьевское шоссе, дом 70, корп...       0  \n",
       "15217        город Москва, Кировоградская улица, дом 13А       0  \n",
       "\n",
       "[82 rows x 6 columns]"
      ]
     },
     "execution_count": 9,
     "metadata": {},
     "output_type": "execute_result"
    }
   ],
   "source": [
    "rest_data[rest_data.loc[:, ('object_name', 'chain', 'object_type', 'address', 'number')].duplicated()]"
   ]
  },
  {
   "cell_type": "markdown",
   "metadata": {
    "id": "KSiEdwUutQR1"
   },
   "source": [
    "Вот и они - 82 дубликата. Удалим их"
   ]
  },
  {
   "cell_type": "code",
   "execution_count": 10,
   "metadata": {
    "id": "cifCjENmuCEq"
   },
   "outputs": [],
   "source": [
    "rest_data.drop_duplicates(subset=['object_name', 'chain', 'object_type', 'address', 'number'], inplace=True)"
   ]
  },
  {
   "cell_type": "code",
   "execution_count": 11,
   "metadata": {
    "colab": {
     "base_uri": "https://localhost:8080/",
     "height": 419
    },
    "executionInfo": {
     "elapsed": 27,
     "status": "ok",
     "timestamp": 1627985178635,
     "user": {
      "displayName": "Арсен",
      "photoUrl": "https://lh3.googleusercontent.com/a-/AOh14GjPCG8vWVVB43Ax1wpE_vEPLjGP-XH0UWc12vB7wg=s64",
      "userId": "17661651445996378067"
     },
     "user_tz": -180
    },
    "id": "dasGWQD4uUat",
    "outputId": "18490983-6a95-456a-e20f-e02496dd0571"
   },
   "outputs": [
    {
     "data": {
      "text/html": [
       "<div>\n",
       "<style scoped>\n",
       "    .dataframe tbody tr th:only-of-type {\n",
       "        vertical-align: middle;\n",
       "    }\n",
       "\n",
       "    .dataframe tbody tr th {\n",
       "        vertical-align: top;\n",
       "    }\n",
       "\n",
       "    .dataframe thead th {\n",
       "        text-align: right;\n",
       "    }\n",
       "</style>\n",
       "<table border=\"1\" class=\"dataframe\">\n",
       "  <thead>\n",
       "    <tr style=\"text-align: right;\">\n",
       "      <th></th>\n",
       "      <th>id</th>\n",
       "      <th>object_name</th>\n",
       "      <th>chain</th>\n",
       "      <th>object_type</th>\n",
       "      <th>address</th>\n",
       "      <th>number</th>\n",
       "    </tr>\n",
       "  </thead>\n",
       "  <tbody>\n",
       "    <tr>\n",
       "      <th>115</th>\n",
       "      <td>28614</td>\n",
       "      <td>КОМБИНАТ ПИТАНИЯ МГТУ ИМ.Н.Э.БАУМАНА</td>\n",
       "      <td>нет</td>\n",
       "      <td>буфет</td>\n",
       "      <td>город Москва, Бригадирский переулок, дом 3-5</td>\n",
       "      <td>12</td>\n",
       "    </tr>\n",
       "    <tr>\n",
       "      <th>580</th>\n",
       "      <td>149205</td>\n",
       "      <td>Общественное питание</td>\n",
       "      <td>нет</td>\n",
       "      <td>кафе</td>\n",
       "      <td>город Москва, Павелецкая площадь, дом 1</td>\n",
       "      <td>35</td>\n",
       "    </tr>\n",
       "    <tr>\n",
       "      <th>581</th>\n",
       "      <td>149131</td>\n",
       "      <td>Общественное питание</td>\n",
       "      <td>нет</td>\n",
       "      <td>кафе</td>\n",
       "      <td>город Москва, Павелецкая площадь, дом 1</td>\n",
       "      <td>39</td>\n",
       "    </tr>\n",
       "    <tr>\n",
       "      <th>1409</th>\n",
       "      <td>151267</td>\n",
       "      <td>Альфорно</td>\n",
       "      <td>нет</td>\n",
       "      <td>кафе</td>\n",
       "      <td>город Москва, город Зеленоград, корпус 438</td>\n",
       "      <td>45</td>\n",
       "    </tr>\n",
       "    <tr>\n",
       "      <th>2375</th>\n",
       "      <td>28604</td>\n",
       "      <td>КОМБИНАТ ПИТАНИЯ МГТУ ИМ.Н.Э.БАУМАНА</td>\n",
       "      <td>нет</td>\n",
       "      <td>столовая</td>\n",
       "      <td>город Москва, 2-я Бауманская улица, дом 5, стр...</td>\n",
       "      <td>150</td>\n",
       "    </tr>\n",
       "    <tr>\n",
       "      <th>...</th>\n",
       "      <td>...</td>\n",
       "      <td>...</td>\n",
       "      <td>...</td>\n",
       "      <td>...</td>\n",
       "      <td>...</td>\n",
       "      <td>...</td>\n",
       "    </tr>\n",
       "    <tr>\n",
       "      <th>15006</th>\n",
       "      <td>219563</td>\n",
       "      <td>Кафе</td>\n",
       "      <td>нет</td>\n",
       "      <td>кафе</td>\n",
       "      <td>город Москва, Береговой проезд, дом 5А, корпус 1</td>\n",
       "      <td>25</td>\n",
       "    </tr>\n",
       "    <tr>\n",
       "      <th>15007</th>\n",
       "      <td>219569</td>\n",
       "      <td>Кафе</td>\n",
       "      <td>нет</td>\n",
       "      <td>кафе</td>\n",
       "      <td>город Москва, Береговой проезд, дом 5А, корпус 1</td>\n",
       "      <td>2</td>\n",
       "    </tr>\n",
       "    <tr>\n",
       "      <th>15216</th>\n",
       "      <td>214468</td>\n",
       "      <td>Макдоналдс</td>\n",
       "      <td>да</td>\n",
       "      <td>предприятие быстрого обслуживания</td>\n",
       "      <td>город Москва, Варшавское шоссе, дом 87Б</td>\n",
       "      <td>0</td>\n",
       "    </tr>\n",
       "    <tr>\n",
       "      <th>15363</th>\n",
       "      <td>209186</td>\n",
       "      <td>Шоколадница</td>\n",
       "      <td>да</td>\n",
       "      <td>кафе</td>\n",
       "      <td>город Москва, улица Земляной Вал, дом 33</td>\n",
       "      <td>20</td>\n",
       "    </tr>\n",
       "    <tr>\n",
       "      <th>15365</th>\n",
       "      <td>222535</td>\n",
       "      <td>Шоколадница</td>\n",
       "      <td>да</td>\n",
       "      <td>кафе</td>\n",
       "      <td>город Москва, Ходынский бульвар, дом 4</td>\n",
       "      <td>10</td>\n",
       "    </tr>\n",
       "  </tbody>\n",
       "</table>\n",
       "<p>88 rows × 6 columns</p>\n",
       "</div>"
      ],
      "text/plain": [
       "           id                           object_name chain  \\\n",
       "115     28614  КОМБИНАТ ПИТАНИЯ МГТУ ИМ.Н.Э.БАУМАНА   нет   \n",
       "580    149205                  Общественное питание   нет   \n",
       "581    149131                  Общественное питание   нет   \n",
       "1409   151267                              Альфорно   нет   \n",
       "2375    28604  КОМБИНАТ ПИТАНИЯ МГТУ ИМ.Н.Э.БАУМАНА   нет   \n",
       "...       ...                                   ...   ...   \n",
       "15006  219563                                  Кафе   нет   \n",
       "15007  219569                                  Кафе   нет   \n",
       "15216  214468                            Макдоналдс    да   \n",
       "15363  209186                           Шоколадница    да   \n",
       "15365  222535                           Шоколадница    да   \n",
       "\n",
       "                             object_type  \\\n",
       "115                                буфет   \n",
       "580                                 кафе   \n",
       "581                                 кафе   \n",
       "1409                                кафе   \n",
       "2375                            столовая   \n",
       "...                                  ...   \n",
       "15006                               кафе   \n",
       "15007                               кафе   \n",
       "15216  предприятие быстрого обслуживания   \n",
       "15363                               кафе   \n",
       "15365                               кафе   \n",
       "\n",
       "                                                 address  number  \n",
       "115         город Москва, Бригадирский переулок, дом 3-5      12  \n",
       "580              город Москва, Павелецкая площадь, дом 1      35  \n",
       "581              город Москва, Павелецкая площадь, дом 1      39  \n",
       "1409          город Москва, город Зеленоград, корпус 438      45  \n",
       "2375   город Москва, 2-я Бауманская улица, дом 5, стр...     150  \n",
       "...                                                  ...     ...  \n",
       "15006   город Москва, Береговой проезд, дом 5А, корпус 1      25  \n",
       "15007   город Москва, Береговой проезд, дом 5А, корпус 1       2  \n",
       "15216            город Москва, Варшавское шоссе, дом 87Б       0  \n",
       "15363           город Москва, улица Земляной Вал, дом 33      20  \n",
       "15365             город Москва, Ходынский бульвар, дом 4      10  \n",
       "\n",
       "[88 rows x 6 columns]"
      ]
     },
     "execution_count": 11,
     "metadata": {},
     "output_type": "execute_result"
    }
   ],
   "source": [
    "rest_data[rest_data.loc[:, ('object_name', 'chain', 'object_type', 'address')].duplicated()]"
   ]
  },
  {
   "cell_type": "markdown",
   "metadata": {
    "id": "OmLiG2kvubYP"
   },
   "source": [
    "Если убрать столбец с количеством посадочных мест, то появятся еще 88 дубликатов. Но ввиду недостаточной информации, их обработать не получится. Это могут быть как реальные дубликаты, к примеру, ресторан увеличил/уменьшил количество посадочных мест, добавили новую информацию, а старую запись удалить забыли, так и ресторан с несколькими залами - к примеру, банкетный и гостевой залы с разным количеством посадочных мест."
   ]
  },
  {
   "cell_type": "markdown",
   "metadata": {
    "id": "CwiLR-pz6CuQ"
   },
   "source": [
    "Приведем все названия заведений к нижнему регистру, сохранив заглавной первую букву"
   ]
  },
  {
   "cell_type": "code",
   "execution_count": 12,
   "metadata": {
    "id": "Qz6tgQCD6G4p"
   },
   "outputs": [],
   "source": [
    "rest_data['object_name'] = rest_data['object_name'].str.capitalize()"
   ]
  },
  {
   "cell_type": "code",
   "execution_count": 13,
   "metadata": {
    "colab": {
     "base_uri": "https://localhost:8080/",
     "height": 419
    },
    "executionInfo": {
     "elapsed": 29,
     "status": "ok",
     "timestamp": 1627985178638,
     "user": {
      "displayName": "Арсен",
      "photoUrl": "https://lh3.googleusercontent.com/a-/AOh14GjPCG8vWVVB43Ax1wpE_vEPLjGP-XH0UWc12vB7wg=s64",
      "userId": "17661651445996378067"
     },
     "user_tz": -180
    },
    "id": "ScLAasxmxpnT",
    "outputId": "98f06a34-1802-4e04-b808-4daffcf1f7ac"
   },
   "outputs": [
    {
     "data": {
      "text/html": [
       "<div>\n",
       "<style scoped>\n",
       "    .dataframe tbody tr th:only-of-type {\n",
       "        vertical-align: middle;\n",
       "    }\n",
       "\n",
       "    .dataframe tbody tr th {\n",
       "        vertical-align: top;\n",
       "    }\n",
       "\n",
       "    .dataframe thead th {\n",
       "        text-align: right;\n",
       "    }\n",
       "</style>\n",
       "<table border=\"1\" class=\"dataframe\">\n",
       "  <thead>\n",
       "    <tr style=\"text-align: right;\">\n",
       "      <th></th>\n",
       "      <th>id</th>\n",
       "      <th>object_name</th>\n",
       "      <th>chain</th>\n",
       "      <th>object_type</th>\n",
       "      <th>address</th>\n",
       "      <th>number</th>\n",
       "    </tr>\n",
       "  </thead>\n",
       "  <tbody>\n",
       "    <tr>\n",
       "      <th>0</th>\n",
       "      <td>151635</td>\n",
       "      <td>Сметана</td>\n",
       "      <td>нет</td>\n",
       "      <td>кафе</td>\n",
       "      <td>город Москва, улица Егора Абакумова, дом 9</td>\n",
       "      <td>48</td>\n",
       "    </tr>\n",
       "    <tr>\n",
       "      <th>1</th>\n",
       "      <td>77874</td>\n",
       "      <td>Родник</td>\n",
       "      <td>нет</td>\n",
       "      <td>кафе</td>\n",
       "      <td>город Москва, улица Талалихина, дом 2/1, корпус 1</td>\n",
       "      <td>35</td>\n",
       "    </tr>\n",
       "    <tr>\n",
       "      <th>2</th>\n",
       "      <td>24309</td>\n",
       "      <td>Кафе «академия»</td>\n",
       "      <td>нет</td>\n",
       "      <td>кафе</td>\n",
       "      <td>город Москва, Абельмановская улица, дом 6</td>\n",
       "      <td>95</td>\n",
       "    </tr>\n",
       "    <tr>\n",
       "      <th>3</th>\n",
       "      <td>21894</td>\n",
       "      <td>Пиццетория</td>\n",
       "      <td>да</td>\n",
       "      <td>кафе</td>\n",
       "      <td>город Москва, Абрамцевская улица, дом 1</td>\n",
       "      <td>40</td>\n",
       "    </tr>\n",
       "    <tr>\n",
       "      <th>4</th>\n",
       "      <td>119365</td>\n",
       "      <td>Кафе «вишневая метель»</td>\n",
       "      <td>нет</td>\n",
       "      <td>кафе</td>\n",
       "      <td>город Москва, Абрамцевская улица, дом 9, корпус 1</td>\n",
       "      <td>50</td>\n",
       "    </tr>\n",
       "    <tr>\n",
       "      <th>...</th>\n",
       "      <td>...</td>\n",
       "      <td>...</td>\n",
       "      <td>...</td>\n",
       "      <td>...</td>\n",
       "      <td>...</td>\n",
       "      <td>...</td>\n",
       "    </tr>\n",
       "    <tr>\n",
       "      <th>15361</th>\n",
       "      <td>208537</td>\n",
       "      <td>Шоколадница</td>\n",
       "      <td>да</td>\n",
       "      <td>кафе</td>\n",
       "      <td>город Москва, 3-й Крутицкий переулок, дом 18</td>\n",
       "      <td>50</td>\n",
       "    </tr>\n",
       "    <tr>\n",
       "      <th>15362</th>\n",
       "      <td>209264</td>\n",
       "      <td>Шоколадница</td>\n",
       "      <td>да</td>\n",
       "      <td>кафе</td>\n",
       "      <td>город Москва, улица Земляной Вал, дом 33</td>\n",
       "      <td>10</td>\n",
       "    </tr>\n",
       "    <tr>\n",
       "      <th>15363</th>\n",
       "      <td>209186</td>\n",
       "      <td>Шоколадница</td>\n",
       "      <td>да</td>\n",
       "      <td>кафе</td>\n",
       "      <td>город Москва, улица Земляной Вал, дом 33</td>\n",
       "      <td>20</td>\n",
       "    </tr>\n",
       "    <tr>\n",
       "      <th>15364</th>\n",
       "      <td>221900</td>\n",
       "      <td>Шоколадница</td>\n",
       "      <td>да</td>\n",
       "      <td>кафе</td>\n",
       "      <td>город Москва, поселение Московский, Киевское ш...</td>\n",
       "      <td>36</td>\n",
       "    </tr>\n",
       "    <tr>\n",
       "      <th>15365</th>\n",
       "      <td>222535</td>\n",
       "      <td>Шоколадница</td>\n",
       "      <td>да</td>\n",
       "      <td>кафе</td>\n",
       "      <td>город Москва, Ходынский бульвар, дом 4</td>\n",
       "      <td>10</td>\n",
       "    </tr>\n",
       "  </tbody>\n",
       "</table>\n",
       "<p>15284 rows × 6 columns</p>\n",
       "</div>"
      ],
      "text/plain": [
       "           id             object_name chain object_type  \\\n",
       "0      151635                 Сметана   нет        кафе   \n",
       "1       77874                  Родник   нет        кафе   \n",
       "2       24309         Кафе «академия»   нет        кафе   \n",
       "3       21894              Пиццетория    да        кафе   \n",
       "4      119365  Кафе «вишневая метель»   нет        кафе   \n",
       "...       ...                     ...   ...         ...   \n",
       "15361  208537             Шоколадница    да        кафе   \n",
       "15362  209264             Шоколадница    да        кафе   \n",
       "15363  209186             Шоколадница    да        кафе   \n",
       "15364  221900             Шоколадница    да        кафе   \n",
       "15365  222535             Шоколадница    да        кафе   \n",
       "\n",
       "                                                 address  number  \n",
       "0             город Москва, улица Егора Абакумова, дом 9      48  \n",
       "1      город Москва, улица Талалихина, дом 2/1, корпус 1      35  \n",
       "2              город Москва, Абельмановская улица, дом 6      95  \n",
       "3                город Москва, Абрамцевская улица, дом 1      40  \n",
       "4      город Москва, Абрамцевская улица, дом 9, корпус 1      50  \n",
       "...                                                  ...     ...  \n",
       "15361       город Москва, 3-й Крутицкий переулок, дом 18      50  \n",
       "15362           город Москва, улица Земляной Вал, дом 33      10  \n",
       "15363           город Москва, улица Земляной Вал, дом 33      20  \n",
       "15364  город Москва, поселение Московский, Киевское ш...      36  \n",
       "15365             город Москва, Ходынский бульвар, дом 4      10  \n",
       "\n",
       "[15284 rows x 6 columns]"
      ]
     },
     "execution_count": 13,
     "metadata": {},
     "output_type": "execute_result"
    }
   ],
   "source": [
    "rest_data"
   ]
  },
  {
   "cell_type": "markdown",
   "metadata": {
    "id": "a4oTu9Rzgkek"
   },
   "source": [
    "**Вывод**\n",
    "* Пропущенных значений нет\n",
    "* С типами данных все в порядке\n",
    "* Удалили 82 дубликата\n",
    "* Исправили регистр в названиях заведений\n",
    "\n",
    "Можно приступать к анализу"
   ]
  },
  {
   "cell_type": "markdown",
   "metadata": {
    "id": "bd1dub7DGITF"
   },
   "source": [
    "## Анализ данных"
   ]
  },
  {
   "cell_type": "markdown",
   "metadata": {
    "id": "i4b4MBNIGTHi"
   },
   "source": [
    "### Исследуем соотношение видов объектов общественного питания по количеству.\n"
   ]
  },
  {
   "cell_type": "code",
   "execution_count": 14,
   "metadata": {
    "colab": {
     "base_uri": "https://localhost:8080/",
     "height": 328
    },
    "executionInfo": {
     "elapsed": 29,
     "status": "ok",
     "timestamp": 1627985178639,
     "user": {
      "displayName": "Арсен",
      "photoUrl": "https://lh3.googleusercontent.com/a-/AOh14GjPCG8vWVVB43Ax1wpE_vEPLjGP-XH0UWc12vB7wg=s64",
      "userId": "17661651445996378067"
     },
     "user_tz": -180
    },
    "id": "f3HE_5qmi3BH",
    "outputId": "90d13a73-260c-4c75-c59f-c2e1eb478b2b"
   },
   "outputs": [
    {
     "data": {
      "text/html": [
       "<div>\n",
       "<style scoped>\n",
       "    .dataframe tbody tr th:only-of-type {\n",
       "        vertical-align: middle;\n",
       "    }\n",
       "\n",
       "    .dataframe tbody tr th {\n",
       "        vertical-align: top;\n",
       "    }\n",
       "\n",
       "    .dataframe thead th {\n",
       "        text-align: right;\n",
       "    }\n",
       "</style>\n",
       "<table border=\"1\" class=\"dataframe\">\n",
       "  <thead>\n",
       "    <tr style=\"text-align: right;\">\n",
       "      <th></th>\n",
       "      <th>object_type</th>\n",
       "      <th>count</th>\n",
       "    </tr>\n",
       "  </thead>\n",
       "  <tbody>\n",
       "    <tr>\n",
       "      <th>0</th>\n",
       "      <td>кафе</td>\n",
       "      <td>6071</td>\n",
       "    </tr>\n",
       "    <tr>\n",
       "      <th>1</th>\n",
       "      <td>столовая</td>\n",
       "      <td>2584</td>\n",
       "    </tr>\n",
       "    <tr>\n",
       "      <th>2</th>\n",
       "      <td>ресторан</td>\n",
       "      <td>2282</td>\n",
       "    </tr>\n",
       "    <tr>\n",
       "      <th>3</th>\n",
       "      <td>предприятие быстрого обслуживания</td>\n",
       "      <td>1898</td>\n",
       "    </tr>\n",
       "    <tr>\n",
       "      <th>4</th>\n",
       "      <td>бар</td>\n",
       "      <td>855</td>\n",
       "    </tr>\n",
       "    <tr>\n",
       "      <th>5</th>\n",
       "      <td>буфет</td>\n",
       "      <td>577</td>\n",
       "    </tr>\n",
       "    <tr>\n",
       "      <th>6</th>\n",
       "      <td>кафетерий</td>\n",
       "      <td>395</td>\n",
       "    </tr>\n",
       "    <tr>\n",
       "      <th>7</th>\n",
       "      <td>закусочная</td>\n",
       "      <td>349</td>\n",
       "    </tr>\n",
       "    <tr>\n",
       "      <th>8</th>\n",
       "      <td>магазин (отдел кулинарии)</td>\n",
       "      <td>273</td>\n",
       "    </tr>\n",
       "  </tbody>\n",
       "</table>\n",
       "</div>"
      ],
      "text/plain": [
       "                         object_type  count\n",
       "0                               кафе   6071\n",
       "1                           столовая   2584\n",
       "2                           ресторан   2282\n",
       "3  предприятие быстрого обслуживания   1898\n",
       "4                                бар    855\n",
       "5                              буфет    577\n",
       "6                          кафетерий    395\n",
       "7                         закусочная    349\n",
       "8          магазин (отдел кулинарии)    273"
      ]
     },
     "execution_count": 14,
     "metadata": {},
     "output_type": "execute_result"
    }
   ],
   "source": [
    "object_type_count = rest_data['object_type'].value_counts().reset_index()\n",
    "object_type_count.columns = ['object_type', 'count']\n",
    "object_type_count"
   ]
  },
  {
   "cell_type": "code",
   "execution_count": 15,
   "metadata": {
    "colab": {
     "base_uri": "https://localhost:8080/",
     "height": 542
    },
    "executionInfo": {
     "elapsed": 697,
     "status": "ok",
     "timestamp": 1627985179308,
     "user": {
      "displayName": "Арсен",
      "photoUrl": "https://lh3.googleusercontent.com/a-/AOh14GjPCG8vWVVB43Ax1wpE_vEPLjGP-XH0UWc12vB7wg=s64",
      "userId": "17661651445996378067"
     },
     "user_tz": -180
    },
    "id": "lyVP8R3ugyq1",
    "outputId": "13185e7d-8a02-454d-b21b-addcb519b2dc"
   },
   "outputs": [
    {
     "data": {
      "image/svg+xml": [
       "<svg class=\"main-svg\" xmlns=\"http://www.w3.org/2000/svg\" xmlns:xlink=\"http://www.w3.org/1999/xlink\" width=\"700\" height=\"500\" style=\"\" viewBox=\"0 0 700 500\"><rect x=\"0\" y=\"0\" width=\"700\" height=\"500\" style=\"fill: rgb(255, 255, 255); fill-opacity: 1;\"/><defs id=\"defs-c5b793\"><g class=\"clips\"><clipPath id=\"clipc5b793xyplot\" class=\"plotclip\"><rect width=\"347\" height=\"320\"/></clipPath><clipPath class=\"axesclip\" id=\"clipc5b793x\"><rect x=\"273\" y=\"0\" width=\"347\" height=\"500\"/></clipPath><clipPath class=\"axesclip\" id=\"clipc5b793y\"><rect x=\"0\" y=\"100\" width=\"700\" height=\"320\"/></clipPath><clipPath class=\"axesclip\" id=\"clipc5b793xy\"><rect x=\"273\" y=\"100\" width=\"347\" height=\"320\"/></clipPath></g><g class=\"gradients\"/><g class=\"patterns\"/></defs><g class=\"bglayer\"><rect class=\"bg\" x=\"273\" y=\"100\" width=\"347\" height=\"320\" style=\"fill: rgb(229, 236, 246); fill-opacity: 1; stroke-width: 0;\"/></g><g class=\"layer-below\"><g class=\"imagelayer\"/><g class=\"shapelayer\"/></g><g class=\"cartesianlayer\"><g class=\"subplot xy\"><g class=\"layer-subplot\"><g class=\"shapelayer\"/><g class=\"imagelayer\"/></g><g class=\"gridlayer\"><g class=\"x\"><path class=\"xgrid crisp\" transform=\"translate(381.6,0)\" d=\"M0,100v320\" style=\"stroke: rgb(255, 255, 255); stroke-opacity: 1; stroke-width: 1px;\"/><path class=\"xgrid crisp\" transform=\"translate(490.2,0)\" d=\"M0,100v320\" style=\"stroke: rgb(255, 255, 255); stroke-opacity: 1; stroke-width: 1px;\"/><path class=\"xgrid crisp\" transform=\"translate(598.79,0)\" d=\"M0,100v320\" style=\"stroke: rgb(255, 255, 255); stroke-opacity: 1; stroke-width: 1px;\"/></g><g class=\"y\"/></g><g class=\"zerolinelayer\"><path class=\"xzl zl crisp\" transform=\"translate(273,0)\" d=\"M0,100v320\" style=\"stroke: rgb(255, 255, 255); stroke-opacity: 1; stroke-width: 2px;\"/></g><path class=\"xlines-below\"/><path class=\"ylines-below\"/><g class=\"overlines-below\"/><g class=\"xaxislayer-below\"/><g class=\"yaxislayer-below\"/><g class=\"overaxes-below\"/><g class=\"plot\" transform=\"translate(273,100)\" clip-path=\"url(#clipc5b793xyplot)\"><g class=\"barlayer mlayer\"><g class=\"trace bars\" style=\"opacity: 1;\"><g class=\"points\"><g class=\"point\"><path d=\"M0,316.44V288H329.65V316.44Z\" style=\"vector-effect: non-scaling-stroke; opacity: 1; stroke-width: 0.5px; fill: rgb(99, 110, 250); fill-opacity: 1; stroke: rgb(229, 236, 246); stroke-opacity: 1;\"/></g><g class=\"point\"><path d=\"M0,280.89V252.44H140.31V280.89Z\" style=\"vector-effect: non-scaling-stroke; opacity: 1; stroke-width: 0.5px; fill: rgb(99, 110, 250); fill-opacity: 1; stroke: rgb(229, 236, 246); stroke-opacity: 1;\"/></g><g class=\"point\"><path d=\"M0,245.33V216.89H123.91V245.33Z\" style=\"vector-effect: non-scaling-stroke; opacity: 1; stroke-width: 0.5px; fill: rgb(99, 110, 250); fill-opacity: 1; stroke: rgb(229, 236, 246); stroke-opacity: 1;\"/></g><g class=\"point\"><path d=\"M0,209.78V181.33H103.06V209.78Z\" style=\"vector-effect: non-scaling-stroke; opacity: 1; stroke-width: 0.5px; fill: rgb(99, 110, 250); fill-opacity: 1; stroke: rgb(229, 236, 246); stroke-opacity: 1;\"/></g><g class=\"point\"><path d=\"M0,174.22V145.78H46.43V174.22Z\" style=\"vector-effect: non-scaling-stroke; opacity: 1; stroke-width: 0.5px; fill: rgb(99, 110, 250); fill-opacity: 1; stroke: rgb(229, 236, 246); stroke-opacity: 1;\"/></g><g class=\"point\"><path d=\"M0,138.67V110.22H31.33V138.67Z\" style=\"vector-effect: non-scaling-stroke; opacity: 1; stroke-width: 0.5px; fill: rgb(99, 110, 250); fill-opacity: 1; stroke: rgb(229, 236, 246); stroke-opacity: 1;\"/></g><g class=\"point\"><path d=\"M0,103.11V74.67H21.45V103.11Z\" style=\"vector-effect: non-scaling-stroke; opacity: 1; stroke-width: 0.5px; fill: rgb(99, 110, 250); fill-opacity: 1; stroke: rgb(229, 236, 246); stroke-opacity: 1;\"/></g><g class=\"point\"><path d=\"M0,67.56V39.11H18.95V67.56Z\" style=\"vector-effect: non-scaling-stroke; opacity: 1; stroke-width: 0.5px; fill: rgb(99, 110, 250); fill-opacity: 1; stroke: rgb(229, 236, 246); stroke-opacity: 1;\"/></g><g class=\"point\"><path d=\"M0,32V3.56H14.82V32Z\" style=\"vector-effect: non-scaling-stroke; opacity: 1; stroke-width: 0.5px; fill: rgb(99, 110, 250); fill-opacity: 1; stroke: rgb(229, 236, 246); stroke-opacity: 1;\"/></g></g></g></g></g><g class=\"overplot\"/><path class=\"xlines-above crisp\" d=\"M0,0\" style=\"fill: none;\"/><path class=\"ylines-above crisp\" d=\"M0,0\" style=\"fill: none;\"/><g class=\"overlines-above\"/><g class=\"xaxislayer-above\"><g class=\"xtick\"><text text-anchor=\"middle\" x=\"0\" y=\"433\" transform=\"translate(273,0)\" style=\"font-family: 'Open Sans', verdana, arial, sans-serif; font-size: 12px; fill: rgb(42, 63, 95); fill-opacity: 1; white-space: pre; opacity: 1;\">0</text></g><g class=\"xtick\"><text text-anchor=\"middle\" x=\"0\" y=\"433\" style=\"font-family: 'Open Sans', verdana, arial, sans-serif; font-size: 12px; fill: rgb(42, 63, 95); fill-opacity: 1; white-space: pre; opacity: 1;\" transform=\"translate(381.6,0)\">2000</text></g><g class=\"xtick\"><text text-anchor=\"middle\" x=\"0\" y=\"433\" style=\"font-family: 'Open Sans', verdana, arial, sans-serif; font-size: 12px; fill: rgb(42, 63, 95); fill-opacity: 1; white-space: pre; opacity: 1;\" transform=\"translate(490.2,0)\">4000</text></g><g class=\"xtick\"><text text-anchor=\"middle\" x=\"0\" y=\"433\" style=\"font-family: 'Open Sans', verdana, arial, sans-serif; font-size: 12px; fill: rgb(42, 63, 95); fill-opacity: 1; white-space: pre; opacity: 1;\" transform=\"translate(598.79,0)\">6000</text></g></g><g class=\"yaxislayer-above\"><g class=\"ytick\"><text text-anchor=\"end\" x=\"272\" y=\"4.199999999999999\" transform=\"translate(0,402.22)\" style=\"font-family: 'Open Sans', verdana, arial, sans-serif; font-size: 12px; fill: rgb(42, 63, 95); fill-opacity: 1; white-space: pre; opacity: 1;\">кафе</text></g><g class=\"ytick\"><text text-anchor=\"end\" x=\"272\" y=\"4.199999999999999\" transform=\"translate(0,366.67)\" style=\"font-family: 'Open Sans', verdana, arial, sans-serif; font-size: 12px; fill: rgb(42, 63, 95); fill-opacity: 1; white-space: pre; opacity: 1;\">столовая</text></g><g class=\"ytick\"><text text-anchor=\"end\" x=\"272\" y=\"4.199999999999999\" transform=\"translate(0,331.11)\" style=\"font-family: 'Open Sans', verdana, arial, sans-serif; font-size: 12px; fill: rgb(42, 63, 95); fill-opacity: 1; white-space: pre; opacity: 1;\">ресторан</text></g><g class=\"ytick\"><text text-anchor=\"end\" x=\"272\" y=\"4.199999999999999\" transform=\"translate(0,295.56)\" style=\"font-family: 'Open Sans', verdana, arial, sans-serif; font-size: 12px; fill: rgb(42, 63, 95); fill-opacity: 1; white-space: pre; opacity: 1;\">предприятие быстрого обслуживания</text></g><g class=\"ytick\"><text text-anchor=\"end\" x=\"272\" y=\"4.199999999999999\" transform=\"translate(0,260)\" style=\"font-family: 'Open Sans', verdana, arial, sans-serif; font-size: 12px; fill: rgb(42, 63, 95); fill-opacity: 1; white-space: pre; opacity: 1;\">бар</text></g><g class=\"ytick\"><text text-anchor=\"end\" x=\"272\" y=\"4.199999999999999\" transform=\"translate(0,224.44)\" style=\"font-family: 'Open Sans', verdana, arial, sans-serif; font-size: 12px; fill: rgb(42, 63, 95); fill-opacity: 1; white-space: pre; opacity: 1;\">буфет</text></g><g class=\"ytick\"><text text-anchor=\"end\" x=\"272\" y=\"4.199999999999999\" transform=\"translate(0,188.89)\" style=\"font-family: 'Open Sans', verdana, arial, sans-serif; font-size: 12px; fill: rgb(42, 63, 95); fill-opacity: 1; white-space: pre; opacity: 1;\">кафетерий</text></g><g class=\"ytick\"><text text-anchor=\"end\" x=\"272\" y=\"4.199999999999999\" transform=\"translate(0,153.32999999999998)\" style=\"font-family: 'Open Sans', verdana, arial, sans-serif; font-size: 12px; fill: rgb(42, 63, 95); fill-opacity: 1; white-space: pre; opacity: 1;\">закусочная</text></g><g class=\"ytick\"><text text-anchor=\"end\" x=\"272\" y=\"4.199999999999999\" transform=\"translate(0,117.78)\" style=\"font-family: 'Open Sans', verdana, arial, sans-serif; font-size: 12px; fill: rgb(42, 63, 95); fill-opacity: 1; white-space: pre; opacity: 1;\">магазин (отдел кулинарии)</text></g></g><g class=\"overaxes-above\"/></g></g><g class=\"polarlayer\"/><g class=\"ternarylayer\"/><g class=\"geolayer\"/><g class=\"funnelarealayer\"/><g class=\"pielayer\"/><g class=\"iciclelayer\"/><g class=\"treemaplayer\"/><g class=\"sunburstlayer\"/><g class=\"glimages\"/><defs id=\"topdefs-c5b793\"><g class=\"clips\"/></defs><g class=\"layer-above\"><g class=\"imagelayer\"/><g class=\"shapelayer\"/></g><g class=\"infolayer\"><g class=\"g-gtitle\"><text class=\"gtitle\" x=\"35\" y=\"50\" text-anchor=\"start\" dy=\"0em\" style=\"font-family: 'Open Sans', verdana, arial, sans-serif; font-size: 17px; fill: rgb(42, 63, 95); opacity: 1; font-weight: normal; white-space: pre;\">Соотношение видов объектов общественного питания по количеству</text></g><g class=\"g-xtitle\"><text class=\"xtitle\" x=\"446.5\" y=\"460.8\" text-anchor=\"middle\" style=\"font-family: 'Open Sans', verdana, arial, sans-serif; font-size: 14px; fill: rgb(42, 63, 95); opacity: 1; font-weight: normal; white-space: pre;\">count</text></g><g class=\"g-ytitle\" transform=\"translate(2.4560546875,0)\"><text class=\"ytitle\" transform=\"rotate(-90,11.543749999999989,260)\" x=\"11.543749999999989\" y=\"260\" text-anchor=\"middle\" style=\"font-family: 'Open Sans', verdana, arial, sans-serif; font-size: 14px; fill: rgb(42, 63, 95); opacity: 1; font-weight: normal; white-space: pre;\">object_type</text></g></g></svg>"
      ]
     },
     "metadata": {},
     "output_type": "display_data"
    }
   ],
   "source": [
    "fig = px.bar(object_type_count,\n",
    "             x='count', y='object_type', orientation='h',\n",
    "             title='Соотношение видов объектов общественного питания по количеству')\n",
    "\n",
    "fig.show()"
   ]
  },
  {
   "cell_type": "code",
   "execution_count": 16,
   "metadata": {
    "colab": {
     "base_uri": "https://localhost:8080/",
     "height": 542
    },
    "executionInfo": {
     "elapsed": 16,
     "status": "ok",
     "timestamp": 1627985179309,
     "user": {
      "displayName": "Арсен",
      "photoUrl": "https://lh3.googleusercontent.com/a-/AOh14GjPCG8vWVVB43Ax1wpE_vEPLjGP-XH0UWc12vB7wg=s64",
      "userId": "17661651445996378067"
     },
     "user_tz": -180
    },
    "id": "HHoUZi3ilnE4",
    "outputId": "85886168-b235-4235-875c-52016c0cb739"
   },
   "outputs": [
    {
     "data": {
      "image/svg+xml": [
       "<svg class=\"main-svg\" xmlns=\"http://www.w3.org/2000/svg\" xmlns:xlink=\"http://www.w3.org/1999/xlink\" width=\"700\" height=\"500\" style=\"\" viewBox=\"0 0 700 500\"><rect x=\"0\" y=\"0\" width=\"700\" height=\"500\" style=\"fill: rgb(255, 255, 255); fill-opacity: 1;\"/><defs id=\"defs-774d2d\"><g class=\"clips\"/><g class=\"gradients\"/><g class=\"patterns\"/></defs><g class=\"bglayer\"/><g class=\"layer-below\"><g class=\"imagelayer\"/><g class=\"shapelayer\"/></g><g class=\"cartesianlayer\"/><g class=\"polarlayer\"/><g class=\"ternarylayer\"/><g class=\"geolayer\"/><g class=\"funnelarealayer\"/><g class=\"pielayer\"><g class=\"trace\" stroke-linejoin=\"round\" style=\"opacity: 1;\"><g class=\"slice\"><path class=\"surface\" d=\"M240.5,260l0,-160a160,160 0 0 1 96.29799127177178,287.7759636121824Z\" style=\"pointer-events: all; stroke-width: 0; fill: rgb(99, 110, 250); fill-opacity: 1; stroke: rgb(68, 68, 68); stroke-opacity: 1;\"/><g class=\"slicetext\"><text data-notex=\"1\" class=\"slicetext\" transform=\"translate(318.3386611171699,238.43990708946683)\" text-anchor=\"middle\" x=\"0\" y=\"0\" style=\"font-family: 'Open Sans', verdana, arial, sans-serif; font-size: 12px; fill: rgb(255, 255, 255); fill-opacity: 1; white-space: pre;\">39.7%</text></g></g><g class=\"slice\"><path class=\"surface\" d=\"M240.5,260l-139.75415808568607,-77.90234462300265a160,160 0 0 1 139.75415808568607,-82.09765537699735Z\" style=\"pointer-events: all; stroke-width: 0; fill: rgb(239, 85, 59); fill-opacity: 1; stroke: rgb(68, 68, 68); stroke-opacity: 1;\"/><g class=\"slicetext\"><text data-notex=\"1\" class=\"slicetext\" transform=\"translate(186.66647691636717,172.9261357524021)\" text-anchor=\"middle\" x=\"0\" y=\"0\" style=\"font-family: 'Open Sans', verdana, arial, sans-serif; font-size: 12px; fill: rgb(68, 68, 68); fill-opacity: 1; white-space: pre;\">16.9%</text></g></g><g class=\"slice\"><path class=\"surface\" d=\"M240.5,260l-145.4615270642104,66.64040924355119a160,160 0 0 1 5.707368978524329,-144.54275386655382Z\" style=\"pointer-events: all; stroke-width: 0; fill: rgb(0, 204, 150); fill-opacity: 1; stroke: rgb(68, 68, 68); stroke-opacity: 1;\"/><g class=\"slicetext\"><text data-notex=\"1\" class=\"slicetext\" transform=\"translate(130.35754839553016,260.15249277051)\" text-anchor=\"middle\" x=\"0\" y=\"0\" style=\"font-family: 'Open Sans', verdana, arial, sans-serif; font-size: 12px; fill: rgb(68, 68, 68); fill-opacity: 1; white-space: pre;\">14.9%</text></g></g><g class=\"slice\"><path class=\"surface\" d=\"M240.5,260l-56.504902552510394,149.69033364760497a160,160 0 0 1 -88.9566245117,-83.04992440405378Z\" style=\"pointer-events: all; stroke-width: 0; fill: rgb(171, 99, 250); fill-opacity: 1; stroke: rgb(68, 68, 68); stroke-opacity: 1;\"/><g class=\"slicetext\"><text data-notex=\"1\" class=\"slicetext\" transform=\"translate(161.3571658906626,349.2298123268084)\" text-anchor=\"middle\" x=\"0\" y=\"0\" style=\"font-family: 'Open Sans', verdana, arial, sans-serif; font-size: 12px; fill: rgb(68, 68, 68); fill-opacity: 1; white-space: pre;\">12.4%</text></g></g><g class=\"slice\"><path class=\"surface\" d=\"M240.5,260l-1.5128093044559685,159.99284799017846a160,160 0 0 1 -54.992093248054424,-10.302514342573488Z\" style=\"pointer-events: all; stroke-width: 0; fill: rgb(255, 161, 90); fill-opacity: 1; stroke: rgb(68, 68, 68); stroke-opacity: 1;\"/><g class=\"slicetext\"><text data-notex=\"1\" class=\"slicetext\" transform=\"translate(215.38290857904892,398.35987721458133)\" text-anchor=\"middle\" x=\"0\" y=\"0\" style=\"font-family: 'Open Sans', verdana, arial, sans-serif; font-size: 12px; fill: rgb(68, 68, 68); fill-opacity: 1; white-space: pre;\">5.59%</text></g></g><g class=\"slice\"><path class=\"surface\" d=\"M240.5,260l36.12531924837303,155.86841023505414a160,160 0 0 1 -37.638128552829,4.124437755124319Z\" style=\"pointer-events: all; stroke-width: 0; fill: rgb(25, 211, 243); fill-opacity: 1; stroke: rgb(68, 68, 68); stroke-opacity: 1;\"/><g class=\"slicetext\"><text data-notex=\"1\" class=\"slicetext\" transform=\"translate(250.0144993823853,388.13707943102406)rotate(83.746401465585)\" text-anchor=\"middle\" x=\"0\" y=\"0\" style=\"font-family: 'Open Sans', verdana, arial, sans-serif; font-size: 12px; fill: rgb(68, 68, 68); fill-opacity: 1; white-space: pre;\">3.78%</text></g></g><g class=\"slice\"><path class=\"surface\" d=\"M240.5,260l60.849344671973725,147.97755658542056a160,160 0 0 1 -24.724025423600693,7.890853649633584Z\" style=\"pointer-events: all; stroke-width: 0; fill: rgb(255, 102, 146); fill-opacity: 1; stroke: rgb(68, 68, 68); stroke-opacity: 1;\"/><g class=\"slicetext\"><text data-notex=\"1\" class=\"slicetext\" transform=\"translate(277.38752091917627,390.3781862561741)rotate(72.29913635174034)\" text-anchor=\"middle\" x=\"0\" y=\"0\" style=\"font-family: 'Open Sans', verdana, arial, sans-serif; font-size: 12px; fill: rgb(68, 68, 68); fill-opacity: 1; white-space: pre;\">2.58%</text></g></g><g class=\"slice\"><path class=\"surface\" d=\"M240.5,260l81.3820758364431,137.75687907524411a160,160 0 0 1 -20.532731164469368,10.220677510176444Z\" style=\"pointer-events: all; stroke-width: 0; fill: rgb(182, 232, 128); fill-opacity: 1; stroke: rgb(68, 68, 68); stroke-opacity: 1;\"/><g class=\"slicetext\"><text data-notex=\"1\" class=\"slicetext\" transform=\"translate(297.7463277139796,385.10276203657173)rotate(63.53703219052602)\" text-anchor=\"middle\" x=\"0\" y=\"0\" style=\"font-family: 'Open Sans', verdana, arial, sans-serif; font-size: 12px; fill: rgb(68, 68, 68); fill-opacity: 1; white-space: pre;\">2.28%</text></g></g><g class=\"slice\"><path class=\"surface\" d=\"M240.5,260l96.29799127177174,127.77596361218245a160,160 0 0 1 -14.915915435328643,9.980915463061663Z\" style=\"pointer-events: all; stroke-width: 0; fill: rgb(255, 151, 255); fill-opacity: 1; stroke: rgb(68, 68, 68); stroke-opacity: 1;\"/><g class=\"slicetext\"><text data-notex=\"1\" class=\"slicetext\" transform=\"translate(353.3238389540189,402.65615898759427)\" text-anchor=\"middle\" x=\"0\" y=\"0\" style=\"font-family: 'Open Sans', verdana, arial, sans-serif; font-size: 12px; fill: rgb(42, 63, 95); fill-opacity: 1; white-space: pre;\">1.79%</text></g></g></g></g><g class=\"iciclelayer\"/><g class=\"treemaplayer\"/><g class=\"sunburstlayer\"/><g class=\"glimages\"/><defs id=\"topdefs-774d2d\"><g class=\"clips\"/><clipPath id=\"legend774d2d\"><rect width=\"281\" height=\"181\" x=\"0\" y=\"0\"/></clipPath></defs><g class=\"layer-above\"><g class=\"imagelayer\"/><g class=\"shapelayer\"/></g><g class=\"infolayer\"><g class=\"legend\" pointer-events=\"all\" transform=\"translate(407.42,100)\"><rect class=\"bg\" shape-rendering=\"crispEdges\" style=\"stroke: rgb(68, 68, 68); stroke-opacity: 1; fill: rgb(255, 255, 255); fill-opacity: 1; stroke-width: 0px;\" width=\"281\" height=\"181\" x=\"0\" y=\"0\"/><g class=\"scrollbox\" transform=\"\" clip-path=\"url(#legend774d2d)\"><g class=\"groups\"><g class=\"traces\" style=\"opacity: 1;\" transform=\"translate(0,14.5)\"><text class=\"legendtext\" text-anchor=\"start\" x=\"40\" y=\"4.680000000000001\" style=\"font-family: 'Open Sans', verdana, arial, sans-serif; font-size: 12px; fill: rgb(42, 63, 95); fill-opacity: 1; white-space: pre;\">кафе</text><g class=\"layers\" style=\"opacity: 1;\"><g class=\"legendfill\"/><g class=\"legendlines\"/><g class=\"legendsymbols\"><g class=\"legendpoints\"><path class=\"legendpie\" d=\"M6,6H-6V-6H6Z\" transform=\"translate(20,0)\" style=\"stroke-width: 0; fill: rgb(99, 110, 250); fill-opacity: 1; stroke: rgb(68, 68, 68); stroke-opacity: 1;\"/></g></g></g><rect class=\"legendtoggle\" x=\"0\" y=\"-9.5\" width=\"275.65625\" height=\"19\" style=\"fill: rgb(0, 0, 0); fill-opacity: 0;\"/></g><g class=\"traces\" style=\"opacity: 1;\" transform=\"translate(0,33.5)\"><text class=\"legendtext\" text-anchor=\"start\" x=\"40\" y=\"4.680000000000001\" style=\"font-family: 'Open Sans', verdana, arial, sans-serif; font-size: 12px; fill: rgb(42, 63, 95); fill-opacity: 1; white-space: pre;\">столовая</text><g class=\"layers\" style=\"opacity: 1;\"><g class=\"legendfill\"/><g class=\"legendlines\"/><g class=\"legendsymbols\"><g class=\"legendpoints\"><path class=\"legendpie\" d=\"M6,6H-6V-6H6Z\" transform=\"translate(20,0)\" style=\"stroke-width: 0; fill: rgb(239, 85, 59); fill-opacity: 1; stroke: rgb(68, 68, 68); stroke-opacity: 1;\"/></g></g></g><rect class=\"legendtoggle\" x=\"0\" y=\"-9.5\" width=\"275.65625\" height=\"19\" style=\"fill: rgb(0, 0, 0); fill-opacity: 0;\"/></g><g class=\"traces\" style=\"opacity: 1;\" transform=\"translate(0,52.5)\"><text class=\"legendtext\" text-anchor=\"start\" x=\"40\" y=\"4.680000000000001\" style=\"font-family: 'Open Sans', verdana, arial, sans-serif; font-size: 12px; fill: rgb(42, 63, 95); fill-opacity: 1; white-space: pre;\">ресторан</text><g class=\"layers\" style=\"opacity: 1;\"><g class=\"legendfill\"/><g class=\"legendlines\"/><g class=\"legendsymbols\"><g class=\"legendpoints\"><path class=\"legendpie\" d=\"M6,6H-6V-6H6Z\" transform=\"translate(20,0)\" style=\"stroke-width: 0; fill: rgb(0, 204, 150); fill-opacity: 1; stroke: rgb(68, 68, 68); stroke-opacity: 1;\"/></g></g></g><rect class=\"legendtoggle\" x=\"0\" y=\"-9.5\" width=\"275.65625\" height=\"19\" style=\"fill: rgb(0, 0, 0); fill-opacity: 0;\"/></g><g class=\"traces\" style=\"opacity: 1;\" transform=\"translate(0,71.5)\"><text class=\"legendtext\" text-anchor=\"start\" x=\"40\" y=\"4.680000000000001\" style=\"font-family: 'Open Sans', verdana, arial, sans-serif; font-size: 12px; fill: rgb(42, 63, 95); fill-opacity: 1; white-space: pre;\">предприятие быстрого обслуживания</text><g class=\"layers\" style=\"opacity: 1;\"><g class=\"legendfill\"/><g class=\"legendlines\"/><g class=\"legendsymbols\"><g class=\"legendpoints\"><path class=\"legendpie\" d=\"M6,6H-6V-6H6Z\" transform=\"translate(20,0)\" style=\"stroke-width: 0; fill: rgb(171, 99, 250); fill-opacity: 1; stroke: rgb(68, 68, 68); stroke-opacity: 1;\"/></g></g></g><rect class=\"legendtoggle\" x=\"0\" y=\"-9.5\" width=\"275.65625\" height=\"19\" style=\"fill: rgb(0, 0, 0); fill-opacity: 0;\"/></g><g class=\"traces\" style=\"opacity: 1;\" transform=\"translate(0,90.5)\"><text class=\"legendtext\" text-anchor=\"start\" x=\"40\" y=\"4.680000000000001\" style=\"font-family: 'Open Sans', verdana, arial, sans-serif; font-size: 12px; fill: rgb(42, 63, 95); fill-opacity: 1; white-space: pre;\">бар</text><g class=\"layers\" style=\"opacity: 1;\"><g class=\"legendfill\"/><g class=\"legendlines\"/><g class=\"legendsymbols\"><g class=\"legendpoints\"><path class=\"legendpie\" d=\"M6,6H-6V-6H6Z\" transform=\"translate(20,0)\" style=\"stroke-width: 0; fill: rgb(255, 161, 90); fill-opacity: 1; stroke: rgb(68, 68, 68); stroke-opacity: 1;\"/></g></g></g><rect class=\"legendtoggle\" x=\"0\" y=\"-9.5\" width=\"275.65625\" height=\"19\" style=\"fill: rgb(0, 0, 0); fill-opacity: 0;\"/></g><g class=\"traces\" style=\"opacity: 1;\" transform=\"translate(0,109.5)\"><text class=\"legendtext\" text-anchor=\"start\" x=\"40\" y=\"4.680000000000001\" style=\"font-family: 'Open Sans', verdana, arial, sans-serif; font-size: 12px; fill: rgb(42, 63, 95); fill-opacity: 1; white-space: pre;\">буфет</text><g class=\"layers\" style=\"opacity: 1;\"><g class=\"legendfill\"/><g class=\"legendlines\"/><g class=\"legendsymbols\"><g class=\"legendpoints\"><path class=\"legendpie\" d=\"M6,6H-6V-6H6Z\" transform=\"translate(20,0)\" style=\"stroke-width: 0; fill: rgb(25, 211, 243); fill-opacity: 1; stroke: rgb(68, 68, 68); stroke-opacity: 1;\"/></g></g></g><rect class=\"legendtoggle\" x=\"0\" y=\"-9.5\" width=\"275.65625\" height=\"19\" style=\"fill: rgb(0, 0, 0); fill-opacity: 0;\"/></g><g class=\"traces\" style=\"opacity: 1;\" transform=\"translate(0,128.5)\"><text class=\"legendtext\" text-anchor=\"start\" x=\"40\" y=\"4.680000000000001\" style=\"font-family: 'Open Sans', verdana, arial, sans-serif; font-size: 12px; fill: rgb(42, 63, 95); fill-opacity: 1; white-space: pre;\">кафетерий</text><g class=\"layers\" style=\"opacity: 1;\"><g class=\"legendfill\"/><g class=\"legendlines\"/><g class=\"legendsymbols\"><g class=\"legendpoints\"><path class=\"legendpie\" d=\"M6,6H-6V-6H6Z\" transform=\"translate(20,0)\" style=\"stroke-width: 0; fill: rgb(255, 102, 146); fill-opacity: 1; stroke: rgb(68, 68, 68); stroke-opacity: 1;\"/></g></g></g><rect class=\"legendtoggle\" x=\"0\" y=\"-9.5\" width=\"275.65625\" height=\"19\" style=\"fill: rgb(0, 0, 0); fill-opacity: 0;\"/></g><g class=\"traces\" style=\"opacity: 1;\" transform=\"translate(0,147.5)\"><text class=\"legendtext\" text-anchor=\"start\" x=\"40\" y=\"4.680000000000001\" style=\"font-family: 'Open Sans', verdana, arial, sans-serif; font-size: 12px; fill: rgb(42, 63, 95); fill-opacity: 1; white-space: pre;\">закусочная</text><g class=\"layers\" style=\"opacity: 1;\"><g class=\"legendfill\"/><g class=\"legendlines\"/><g class=\"legendsymbols\"><g class=\"legendpoints\"><path class=\"legendpie\" d=\"M6,6H-6V-6H6Z\" transform=\"translate(20,0)\" style=\"stroke-width: 0; fill: rgb(182, 232, 128); fill-opacity: 1; stroke: rgb(68, 68, 68); stroke-opacity: 1;\"/></g></g></g><rect class=\"legendtoggle\" x=\"0\" y=\"-9.5\" width=\"275.65625\" height=\"19\" style=\"fill: rgb(0, 0, 0); fill-opacity: 0;\"/></g><g class=\"traces\" style=\"opacity: 1;\" transform=\"translate(0,166.5)\"><text class=\"legendtext\" text-anchor=\"start\" x=\"40\" y=\"4.680000000000001\" style=\"font-family: 'Open Sans', verdana, arial, sans-serif; font-size: 12px; fill: rgb(42, 63, 95); fill-opacity: 1; white-space: pre;\">магазин (отдел кулинарии)</text><g class=\"layers\" style=\"opacity: 1;\"><g class=\"legendfill\"/><g class=\"legendlines\"/><g class=\"legendsymbols\"><g class=\"legendpoints\"><path class=\"legendpie\" d=\"M6,6H-6V-6H6Z\" transform=\"translate(20,0)\" style=\"stroke-width: 0; fill: rgb(255, 151, 255); fill-opacity: 1; stroke: rgb(68, 68, 68); stroke-opacity: 1;\"/></g></g></g><rect class=\"legendtoggle\" x=\"0\" y=\"-9.5\" width=\"275.65625\" height=\"19\" style=\"fill: rgb(0, 0, 0); fill-opacity: 0;\"/></g></g></g><rect class=\"scrollbar\" rx=\"20\" ry=\"3\" width=\"0\" height=\"0\" style=\"fill: rgb(128, 139, 164); fill-opacity: 1;\" x=\"0\" y=\"0\"/></g><g class=\"g-gtitle\"><text class=\"gtitle\" x=\"35\" y=\"50\" text-anchor=\"start\" dy=\"0em\" style=\"font-family: 'Open Sans', verdana, arial, sans-serif; font-size: 17px; fill: rgb(42, 63, 95); opacity: 1; font-weight: normal; white-space: pre;\">Соотношение видов объектов общественного питания по количеству</text></g></g></svg>"
      ]
     },
     "metadata": {},
     "output_type": "display_data"
    }
   ],
   "source": [
    "fig = px.pie(object_type_count, values='count', names='object_type', \n",
    "             title='Соотношение видов объектов общественного питания по количеству')\n",
    "\n",
    "fig.show()"
   ]
  },
  {
   "cell_type": "markdown",
   "metadata": {
    "id": "DLk4S9c5w38w"
   },
   "source": [
    "* Абсолютный лидер в этой категории - кафе. Почти 40% (6099) всех заведений общественного питания приходится на него;\n",
    "* Далее по популярности - столовые (16.8%) и рестораны (14.9%);\n",
    "* Наименее популярны по количеству заведений - это отделы кулинарии (1.78%) и закусочные (2.34%)."
   ]
  },
  {
   "cell_type": "markdown",
   "metadata": {
    "id": "20u98ysMGWg5"
   },
   "source": [
    "### Исследуем соотношение сетевых и несетевых заведений по количеству.\n"
   ]
  },
  {
   "cell_type": "code",
   "execution_count": 17,
   "metadata": {
    "colab": {
     "base_uri": "https://localhost:8080/",
     "height": 111
    },
    "executionInfo": {
     "elapsed": 16,
     "status": "ok",
     "timestamp": 1627985179310,
     "user": {
      "displayName": "Арсен",
      "photoUrl": "https://lh3.googleusercontent.com/a-/AOh14GjPCG8vWVVB43Ax1wpE_vEPLjGP-XH0UWc12vB7wg=s64",
      "userId": "17661651445996378067"
     },
     "user_tz": -180
    },
    "id": "122AzXyw0Twa",
    "outputId": "f9b524c8-49b3-44a3-fafd-cf33b27e2b54"
   },
   "outputs": [
    {
     "data": {
      "text/html": [
       "<div>\n",
       "<style scoped>\n",
       "    .dataframe tbody tr th:only-of-type {\n",
       "        vertical-align: middle;\n",
       "    }\n",
       "\n",
       "    .dataframe tbody tr th {\n",
       "        vertical-align: top;\n",
       "    }\n",
       "\n",
       "    .dataframe thead th {\n",
       "        text-align: right;\n",
       "    }\n",
       "</style>\n",
       "<table border=\"1\" class=\"dataframe\">\n",
       "  <thead>\n",
       "    <tr style=\"text-align: right;\">\n",
       "      <th></th>\n",
       "      <th>chain</th>\n",
       "      <th>count</th>\n",
       "    </tr>\n",
       "  </thead>\n",
       "  <tbody>\n",
       "    <tr>\n",
       "      <th>0</th>\n",
       "      <td>нет</td>\n",
       "      <td>12320</td>\n",
       "    </tr>\n",
       "    <tr>\n",
       "      <th>1</th>\n",
       "      <td>да</td>\n",
       "      <td>2964</td>\n",
       "    </tr>\n",
       "  </tbody>\n",
       "</table>\n",
       "</div>"
      ],
      "text/plain": [
       "  chain  count\n",
       "0   нет  12320\n",
       "1    да   2964"
      ]
     },
     "execution_count": 17,
     "metadata": {},
     "output_type": "execute_result"
    }
   ],
   "source": [
    "chain_count = rest_data['chain'].value_counts().reset_index()\n",
    "chain_count.columns = ['chain', 'count']\n",
    "chain_count"
   ]
  },
  {
   "cell_type": "code",
   "execution_count": 18,
   "metadata": {
    "colab": {
     "base_uri": "https://localhost:8080/",
     "height": 542
    },
    "executionInfo": {
     "elapsed": 16,
     "status": "ok",
     "timestamp": 1627985179311,
     "user": {
      "displayName": "Арсен",
      "photoUrl": "https://lh3.googleusercontent.com/a-/AOh14GjPCG8vWVVB43Ax1wpE_vEPLjGP-XH0UWc12vB7wg=s64",
      "userId": "17661651445996378067"
     },
     "user_tz": -180
    },
    "id": "A1b_0yTR0rVn",
    "outputId": "b3f72b78-c097-4ed0-dcc0-b0c4fdd2ac01"
   },
   "outputs": [
    {
     "data": {
      "image/svg+xml": [
       "<svg class=\"main-svg\" xmlns=\"http://www.w3.org/2000/svg\" xmlns:xlink=\"http://www.w3.org/1999/xlink\" width=\"700\" height=\"500\" style=\"\" viewBox=\"0 0 700 500\"><rect x=\"0\" y=\"0\" width=\"700\" height=\"500\" style=\"fill: rgb(255, 255, 255); fill-opacity: 1;\"/><defs id=\"defs-03822d\"><g class=\"clips\"/><g class=\"gradients\"/><g class=\"patterns\"/></defs><g class=\"bglayer\"/><g class=\"layer-below\"><g class=\"imagelayer\"/><g class=\"shapelayer\"/></g><g class=\"cartesianlayer\"/><g class=\"polarlayer\"/><g class=\"ternarylayer\"/><g class=\"geolayer\"/><g class=\"funnelarealayer\"/><g class=\"pielayer\"><g class=\"trace\" stroke-linejoin=\"round\" style=\"opacity: 1;\"><g class=\"slice\"><path class=\"surface\" d=\"M307.5,260l0,-160a160,160 0 1 1 -150.172556766072,104.78946482471954Z\" style=\"pointer-events: all; stroke-width: 0; fill: rgb(99, 110, 250); fill-opacity: 1; stroke: rgb(68, 68, 68); stroke-opacity: 1;\"/><g class=\"slicetext\"><text data-notex=\"1\" class=\"slicetext\" transform=\"translate(353.2407288548587,330.1064837002076)\" text-anchor=\"middle\" x=\"0\" y=\"0\" style=\"font-family: 'Open Sans', verdana, arial, sans-serif; font-size: 12px; fill: rgb(255, 255, 255); fill-opacity: 1; white-space: pre;\">80.6%</text></g></g><g class=\"slice\"><path class=\"surface\" d=\"M307.5,260l-150.17255676607203,-55.210535175280384a160,160 0 0 1 150.17255676607203,-104.78946482471962Z\" style=\"pointer-events: all; stroke-width: 0; fill: rgb(239, 85, 59); fill-opacity: 1; stroke: rgb(68, 68, 68); stroke-opacity: 1;\"/><g class=\"slicetext\"><text data-notex=\"1\" class=\"slicetext\" transform=\"translate(249.22609279341077,181.0443249749219)\" text-anchor=\"middle\" x=\"0\" y=\"0\" style=\"font-family: 'Open Sans', verdana, arial, sans-serif; font-size: 12px; fill: rgb(68, 68, 68); fill-opacity: 1; white-space: pre;\">19.4%</text></g></g></g></g><g class=\"iciclelayer\"/><g class=\"treemaplayer\"/><g class=\"sunburstlayer\"/><g class=\"glimages\"/><defs id=\"topdefs-03822d\"><g class=\"clips\"/><clipPath id=\"legend03822d\"><rect width=\"144\" height=\"67\" x=\"0\" y=\"0\"/></clipPath></defs><g class=\"layer-above\"><g class=\"imagelayer\"/><g class=\"shapelayer\"/></g><g class=\"infolayer\"><g class=\"legend\" pointer-events=\"all\" transform=\"translate(544.1,100)\"><rect class=\"bg\" shape-rendering=\"crispEdges\" style=\"stroke: rgb(68, 68, 68); stroke-opacity: 1; fill: rgb(255, 255, 255); fill-opacity: 1; stroke-width: 0px;\" width=\"144\" height=\"67\" x=\"0\" y=\"0\"/><g class=\"scrollbox\" transform=\"\" clip-path=\"url(#legend03822d)\"><text class=\"legendtitletext\" text-anchor=\"start\" x=\"2\" y=\"18.2\" style=\"font-family: 'Open Sans', verdana, arial, sans-serif; font-size: 14px; fill: rgb(42, 63, 95); fill-opacity: 1; white-space: pre;\">Сетевое заведение</text><g class=\"groups\"><g class=\"traces\" transform=\"translate(0,32.7)\" style=\"opacity: 1;\"><text class=\"legendtext\" text-anchor=\"start\" x=\"40\" y=\"4.680000000000001\" style=\"font-family: 'Open Sans', verdana, arial, sans-serif; font-size: 12px; fill: rgb(42, 63, 95); fill-opacity: 1; white-space: pre;\">нет</text><g class=\"layers\" style=\"opacity: 1;\"><g class=\"legendfill\"/><g class=\"legendlines\"/><g class=\"legendsymbols\"><g class=\"legendpoints\"><path class=\"legendpie\" d=\"M6,6H-6V-6H6Z\" transform=\"translate(20,0)\" style=\"stroke-width: 0; fill: rgb(99, 110, 250); fill-opacity: 1; stroke: rgb(68, 68, 68); stroke-opacity: 1;\"/></g></g></g><rect class=\"legendtoggle\" x=\"0\" y=\"-9.5\" width=\"61.796875\" height=\"19\" style=\"fill: rgb(0, 0, 0); fill-opacity: 0;\"/></g><g class=\"traces\" transform=\"translate(0,51.7)\" style=\"opacity: 1;\"><text class=\"legendtext\" text-anchor=\"start\" x=\"40\" y=\"4.680000000000001\" style=\"font-family: 'Open Sans', verdana, arial, sans-serif; font-size: 12px; fill: rgb(42, 63, 95); fill-opacity: 1; white-space: pre;\">да</text><g class=\"layers\" style=\"opacity: 1;\"><g class=\"legendfill\"/><g class=\"legendlines\"/><g class=\"legendsymbols\"><g class=\"legendpoints\"><path class=\"legendpie\" d=\"M6,6H-6V-6H6Z\" transform=\"translate(20,0)\" style=\"stroke-width: 0; fill: rgb(239, 85, 59); fill-opacity: 1; stroke: rgb(68, 68, 68); stroke-opacity: 1;\"/></g></g></g><rect class=\"legendtoggle\" x=\"0\" y=\"-9.5\" width=\"61.796875\" height=\"19\" style=\"fill: rgb(0, 0, 0); fill-opacity: 0;\"/></g></g></g><rect class=\"scrollbar\" rx=\"20\" ry=\"3\" width=\"0\" height=\"0\" style=\"fill: rgb(128, 139, 164); fill-opacity: 1;\" x=\"0\" y=\"0\"/></g><g class=\"g-gtitle\"><text class=\"gtitle\" x=\"35\" y=\"50\" text-anchor=\"start\" dy=\"0em\" style=\"font-family: 'Open Sans', verdana, arial, sans-serif; font-size: 17px; fill: rgb(42, 63, 95); opacity: 1; font-weight: normal; white-space: pre;\">Соотношение сетевых и несетевых заведений по количеству</text></g></g></svg>"
      ]
     },
     "metadata": {},
     "output_type": "display_data"
    }
   ],
   "source": [
    "fig = px.pie(chain_count, values='count', names='chain', \n",
    "             title='Соотношение сетевых и несетевых заведений по количеству')\n",
    "\n",
    "fig.update_layout(\n",
    "    legend_title_text='Сетевое заведение'\n",
    ")\n",
    "fig.show()"
   ]
  },
  {
   "cell_type": "markdown",
   "metadata": {
    "id": "abfmWJIi4O7m"
   },
   "source": [
    "Подавляющее большинство заведений (80%) - несетевые."
   ]
  },
  {
   "cell_type": "markdown",
   "metadata": {
    "id": "p-GPToDoGZ5I"
   },
   "source": [
    "### Для какого вида объекта общественного питания характерно сетевое распространение?"
   ]
  },
  {
   "cell_type": "code",
   "execution_count": 19,
   "metadata": {
    "colab": {
     "base_uri": "https://localhost:8080/",
     "height": 328
    },
    "executionInfo": {
     "elapsed": 228,
     "status": "ok",
     "timestamp": 1627829081504,
     "user": {
      "displayName": "Арсен",
      "photoUrl": "https://lh3.googleusercontent.com/a-/AOh14GjPCG8vWVVB43Ax1wpE_vEPLjGP-XH0UWc12vB7wg=s64",
      "userId": "17661651445996378067"
     },
     "user_tz": -180
    },
    "id": "WXBQHKAVmWvM",
    "outputId": "99ae4eba-5858-413c-8916-1af9df3b23fc"
   },
   "outputs": [
    {
     "data": {
      "text/html": [
       "<div>\n",
       "<style scoped>\n",
       "    .dataframe tbody tr th:only-of-type {\n",
       "        vertical-align: middle;\n",
       "    }\n",
       "\n",
       "    .dataframe tbody tr th {\n",
       "        vertical-align: top;\n",
       "    }\n",
       "\n",
       "    .dataframe thead th {\n",
       "        text-align: right;\n",
       "    }\n",
       "</style>\n",
       "<table border=\"1\" class=\"dataframe\">\n",
       "  <thead>\n",
       "    <tr style=\"text-align: right;\">\n",
       "      <th></th>\n",
       "      <th>object_type</th>\n",
       "      <th>count</th>\n",
       "    </tr>\n",
       "  </thead>\n",
       "  <tbody>\n",
       "    <tr>\n",
       "      <th>8</th>\n",
       "      <td>столовая</td>\n",
       "      <td>3</td>\n",
       "    </tr>\n",
       "    <tr>\n",
       "      <th>1</th>\n",
       "      <td>буфет</td>\n",
       "      <td>11</td>\n",
       "    </tr>\n",
       "    <tr>\n",
       "      <th>0</th>\n",
       "      <td>бар</td>\n",
       "      <td>37</td>\n",
       "    </tr>\n",
       "    <tr>\n",
       "      <th>4</th>\n",
       "      <td>кафетерий</td>\n",
       "      <td>52</td>\n",
       "    </tr>\n",
       "    <tr>\n",
       "      <th>2</th>\n",
       "      <td>закусочная</td>\n",
       "      <td>56</td>\n",
       "    </tr>\n",
       "    <tr>\n",
       "      <th>5</th>\n",
       "      <td>магазин (отдел кулинарии)</td>\n",
       "      <td>78</td>\n",
       "    </tr>\n",
       "    <tr>\n",
       "      <th>7</th>\n",
       "      <td>ресторан</td>\n",
       "      <td>543</td>\n",
       "    </tr>\n",
       "    <tr>\n",
       "      <th>6</th>\n",
       "      <td>предприятие быстрого обслуживания</td>\n",
       "      <td>788</td>\n",
       "    </tr>\n",
       "    <tr>\n",
       "      <th>3</th>\n",
       "      <td>кафе</td>\n",
       "      <td>1396</td>\n",
       "    </tr>\n",
       "  </tbody>\n",
       "</table>\n",
       "</div>"
      ],
      "text/plain": [
       "                         object_type  count\n",
       "8                           столовая      3\n",
       "1                              буфет     11\n",
       "0                                бар     37\n",
       "4                          кафетерий     52\n",
       "2                         закусочная     56\n",
       "5          магазин (отдел кулинарии)     78\n",
       "7                           ресторан    543\n",
       "6  предприятие быстрого обслуживания    788\n",
       "3                               кафе   1396"
      ]
     },
     "execution_count": 19,
     "metadata": {},
     "output_type": "execute_result"
    }
   ],
   "source": [
    "object_type_chain_count = (\n",
    "    rest_data\n",
    "        .query('chain == \"да\"')\n",
    "        .groupby('object_type', as_index=False)\n",
    "        .agg({'id':'count'})\n",
    "        .rename(columns={'id':'count'})\n",
    "        .sort_values(by='count')\n",
    ")\n",
    "\n",
    "object_type_chain_count"
   ]
  },
  {
   "cell_type": "code",
   "execution_count": 20,
   "metadata": {
    "colab": {
     "base_uri": "https://localhost:8080/",
     "height": 542
    },
    "executionInfo": {
     "elapsed": 256,
     "status": "ok",
     "timestamp": 1627829086248,
     "user": {
      "displayName": "Арсен",
      "photoUrl": "https://lh3.googleusercontent.com/a-/AOh14GjPCG8vWVVB43Ax1wpE_vEPLjGP-XH0UWc12vB7wg=s64",
      "userId": "17661651445996378067"
     },
     "user_tz": -180
    },
    "id": "KBGjyYvFmE1O",
    "outputId": "70632277-13b6-49c4-8001-6d479fcd803e"
   },
   "outputs": [
    {
     "data": {
      "image/svg+xml": [
       "<svg class=\"main-svg\" xmlns=\"http://www.w3.org/2000/svg\" xmlns:xlink=\"http://www.w3.org/1999/xlink\" width=\"700\" height=\"500\" style=\"\" viewBox=\"0 0 700 500\"><rect x=\"0\" y=\"0\" width=\"700\" height=\"500\" style=\"fill: rgb(255, 255, 255); fill-opacity: 1;\"/><defs id=\"defs-8588cf\"><g class=\"clips\"><clipPath id=\"clip8588cfxyplot\" class=\"plotclip\"><rect width=\"347\" height=\"320\"/></clipPath><clipPath class=\"axesclip\" id=\"clip8588cfx\"><rect x=\"273\" y=\"0\" width=\"347\" height=\"500\"/></clipPath><clipPath class=\"axesclip\" id=\"clip8588cfy\"><rect x=\"0\" y=\"100\" width=\"700\" height=\"320\"/></clipPath><clipPath class=\"axesclip\" id=\"clip8588cfxy\"><rect x=\"273\" y=\"100\" width=\"347\" height=\"320\"/></clipPath></g><g class=\"gradients\"/><g class=\"patterns\"/></defs><g class=\"bglayer\"><rect class=\"bg\" x=\"273\" y=\"100\" width=\"347\" height=\"320\" style=\"fill: rgb(229, 236, 246); fill-opacity: 1; stroke-width: 0;\"/></g><g class=\"layer-below\"><g class=\"imagelayer\"/><g class=\"shapelayer\"/></g><g class=\"cartesianlayer\"><g class=\"subplot xy\"><g class=\"layer-subplot\"><g class=\"shapelayer\"/><g class=\"imagelayer\"/></g><g class=\"gridlayer\"><g class=\"x\"><path class=\"xgrid crisp\" transform=\"translate(391.07,0)\" d=\"M0,100v320\" style=\"stroke: rgb(255, 255, 255); stroke-opacity: 1; stroke-width: 1px;\"/><path class=\"xgrid crisp\" transform=\"translate(509.14,0)\" d=\"M0,100v320\" style=\"stroke: rgb(255, 255, 255); stroke-opacity: 1; stroke-width: 1px;\"/></g><g class=\"y\"/></g><g class=\"zerolinelayer\"><path class=\"xzl zl crisp\" transform=\"translate(273,0)\" d=\"M0,100v320\" style=\"stroke: rgb(255, 255, 255); stroke-opacity: 1; stroke-width: 2px;\"/></g><path class=\"xlines-below\"/><path class=\"ylines-below\"/><g class=\"overlines-below\"/><g class=\"xaxislayer-below\"/><g class=\"yaxislayer-below\"/><g class=\"overaxes-below\"/><g class=\"plot\" transform=\"translate(273,100)\" clip-path=\"url(#clip8588cfxyplot)\"><g class=\"barlayer mlayer\"><g class=\"trace bars\" style=\"opacity: 1;\"><g class=\"points\"><g class=\"point\"><path d=\"M0,316.44V288H0.71V316.44Z\" style=\"vector-effect: non-scaling-stroke; opacity: 1; stroke-width: 0.5px; fill: rgb(99, 110, 250); fill-opacity: 1; stroke: rgb(229, 236, 246); stroke-opacity: 1;\"/></g><g class=\"point\"><path d=\"M0,280.89V252.44H2.6V280.89Z\" style=\"vector-effect: non-scaling-stroke; opacity: 1; stroke-width: 0.5px; fill: rgb(99, 110, 250); fill-opacity: 1; stroke: rgb(229, 236, 246); stroke-opacity: 1;\"/></g><g class=\"point\"><path d=\"M0,245.33V216.89H8.74V245.33Z\" style=\"vector-effect: non-scaling-stroke; opacity: 1; stroke-width: 0.5px; fill: rgb(99, 110, 250); fill-opacity: 1; stroke: rgb(229, 236, 246); stroke-opacity: 1;\"/></g><g class=\"point\"><path d=\"M0,209.78V181.33H12.28V209.78Z\" style=\"vector-effect: non-scaling-stroke; opacity: 1; stroke-width: 0.5px; fill: rgb(99, 110, 250); fill-opacity: 1; stroke: rgb(229, 236, 246); stroke-opacity: 1;\"/></g><g class=\"point\"><path d=\"M0,174.22V145.78H13.22V174.22Z\" style=\"vector-effect: non-scaling-stroke; opacity: 1; stroke-width: 0.5px; fill: rgb(99, 110, 250); fill-opacity: 1; stroke: rgb(229, 236, 246); stroke-opacity: 1;\"/></g><g class=\"point\"><path d=\"M0,138.67V110.22H18.42V138.67Z\" style=\"vector-effect: non-scaling-stroke; opacity: 1; stroke-width: 0.5px; fill: rgb(99, 110, 250); fill-opacity: 1; stroke: rgb(229, 236, 246); stroke-opacity: 1;\"/></g><g class=\"point\"><path d=\"M0,103.11V74.67H128.22V103.11Z\" style=\"vector-effect: non-scaling-stroke; opacity: 1; stroke-width: 0.5px; fill: rgb(99, 110, 250); fill-opacity: 1; stroke: rgb(229, 236, 246); stroke-opacity: 1;\"/></g><g class=\"point\"><path d=\"M0,67.56V39.11H186.08V67.56Z\" style=\"vector-effect: non-scaling-stroke; opacity: 1; stroke-width: 0.5px; fill: rgb(99, 110, 250); fill-opacity: 1; stroke: rgb(229, 236, 246); stroke-opacity: 1;\"/></g><g class=\"point\"><path d=\"M0,32V3.56H329.65V32Z\" style=\"vector-effect: non-scaling-stroke; opacity: 1; stroke-width: 0.5px; fill: rgb(99, 110, 250); fill-opacity: 1; stroke: rgb(229, 236, 246); stroke-opacity: 1;\"/></g></g></g></g></g><g class=\"overplot\"/><path class=\"xlines-above crisp\" d=\"M0,0\" style=\"fill: none;\"/><path class=\"ylines-above crisp\" d=\"M0,0\" style=\"fill: none;\"/><g class=\"overlines-above\"/><g class=\"xaxislayer-above\"><g class=\"xtick\"><text text-anchor=\"middle\" x=\"0\" y=\"433\" transform=\"translate(273,0)\" style=\"font-family: 'Open Sans', verdana, arial, sans-serif; font-size: 12px; fill: rgb(42, 63, 95); fill-opacity: 1; white-space: pre; opacity: 1;\">0</text></g><g class=\"xtick\"><text text-anchor=\"middle\" x=\"0\" y=\"433\" style=\"font-family: 'Open Sans', verdana, arial, sans-serif; font-size: 12px; fill: rgb(42, 63, 95); fill-opacity: 1; white-space: pre; opacity: 1;\" transform=\"translate(391.07,0)\">500</text></g><g class=\"xtick\"><text text-anchor=\"middle\" x=\"0\" y=\"433\" style=\"font-family: 'Open Sans', verdana, arial, sans-serif; font-size: 12px; fill: rgb(42, 63, 95); fill-opacity: 1; white-space: pre; opacity: 1;\" transform=\"translate(509.14,0)\">1000</text></g></g><g class=\"yaxislayer-above\"><g class=\"ytick\"><text text-anchor=\"end\" x=\"272\" y=\"4.199999999999999\" transform=\"translate(0,402.22)\" style=\"font-family: 'Open Sans', verdana, arial, sans-serif; font-size: 12px; fill: rgb(42, 63, 95); fill-opacity: 1; white-space: pre; opacity: 1;\">столовая</text></g><g class=\"ytick\"><text text-anchor=\"end\" x=\"272\" y=\"4.199999999999999\" transform=\"translate(0,366.67)\" style=\"font-family: 'Open Sans', verdana, arial, sans-serif; font-size: 12px; fill: rgb(42, 63, 95); fill-opacity: 1; white-space: pre; opacity: 1;\">буфет</text></g><g class=\"ytick\"><text text-anchor=\"end\" x=\"272\" y=\"4.199999999999999\" transform=\"translate(0,331.11)\" style=\"font-family: 'Open Sans', verdana, arial, sans-serif; font-size: 12px; fill: rgb(42, 63, 95); fill-opacity: 1; white-space: pre; opacity: 1;\">бар</text></g><g class=\"ytick\"><text text-anchor=\"end\" x=\"272\" y=\"4.199999999999999\" transform=\"translate(0,295.56)\" style=\"font-family: 'Open Sans', verdana, arial, sans-serif; font-size: 12px; fill: rgb(42, 63, 95); fill-opacity: 1; white-space: pre; opacity: 1;\">кафетерий</text></g><g class=\"ytick\"><text text-anchor=\"end\" x=\"272\" y=\"4.199999999999999\" transform=\"translate(0,260)\" style=\"font-family: 'Open Sans', verdana, arial, sans-serif; font-size: 12px; fill: rgb(42, 63, 95); fill-opacity: 1; white-space: pre; opacity: 1;\">закусочная</text></g><g class=\"ytick\"><text text-anchor=\"end\" x=\"272\" y=\"4.199999999999999\" transform=\"translate(0,224.44)\" style=\"font-family: 'Open Sans', verdana, arial, sans-serif; font-size: 12px; fill: rgb(42, 63, 95); fill-opacity: 1; white-space: pre; opacity: 1;\">магазин (отдел кулинарии)</text></g><g class=\"ytick\"><text text-anchor=\"end\" x=\"272\" y=\"4.199999999999999\" transform=\"translate(0,188.89)\" style=\"font-family: 'Open Sans', verdana, arial, sans-serif; font-size: 12px; fill: rgb(42, 63, 95); fill-opacity: 1; white-space: pre; opacity: 1;\">ресторан</text></g><g class=\"ytick\"><text text-anchor=\"end\" x=\"272\" y=\"4.199999999999999\" transform=\"translate(0,153.32999999999998)\" style=\"font-family: 'Open Sans', verdana, arial, sans-serif; font-size: 12px; fill: rgb(42, 63, 95); fill-opacity: 1; white-space: pre; opacity: 1;\">предприятие быстрого обслуживания</text></g><g class=\"ytick\"><text text-anchor=\"end\" x=\"272\" y=\"4.199999999999999\" transform=\"translate(0,117.78)\" style=\"font-family: 'Open Sans', verdana, arial, sans-serif; font-size: 12px; fill: rgb(42, 63, 95); fill-opacity: 1; white-space: pre; opacity: 1;\">кафе</text></g></g><g class=\"overaxes-above\"/></g></g><g class=\"polarlayer\"/><g class=\"ternarylayer\"/><g class=\"geolayer\"/><g class=\"funnelarealayer\"/><g class=\"pielayer\"/><g class=\"iciclelayer\"/><g class=\"treemaplayer\"/><g class=\"sunburstlayer\"/><g class=\"glimages\"/><defs id=\"topdefs-8588cf\"><g class=\"clips\"/></defs><g class=\"layer-above\"><g class=\"imagelayer\"/><g class=\"shapelayer\"/></g><g class=\"infolayer\"><g class=\"g-gtitle\"><text class=\"gtitle\" x=\"35\" y=\"50\" text-anchor=\"start\" dy=\"0em\" style=\"font-family: 'Open Sans', verdana, arial, sans-serif; font-size: 17px; fill: rgb(42, 63, 95); opacity: 1; font-weight: normal; white-space: pre;\">Сетевые заведения по видам объектов общественного питания</text></g><g class=\"g-xtitle\"><text class=\"xtitle\" x=\"446.5\" y=\"460.8\" text-anchor=\"middle\" style=\"font-family: 'Open Sans', verdana, arial, sans-serif; font-size: 14px; fill: rgb(42, 63, 95); opacity: 1; font-weight: normal; white-space: pre;\">count</text></g><g class=\"g-ytitle\" transform=\"translate(2.4560546875,0)\"><text class=\"ytitle\" transform=\"rotate(-90,11.543749999999989,260)\" x=\"11.543749999999989\" y=\"260\" text-anchor=\"middle\" style=\"font-family: 'Open Sans', verdana, arial, sans-serif; font-size: 14px; fill: rgb(42, 63, 95); opacity: 1; font-weight: normal; white-space: pre;\">object_type</text></g></g></svg>"
      ]
     },
     "metadata": {},
     "output_type": "display_data"
    }
   ],
   "source": [
    "fig = px.bar(object_type_chain_count,\n",
    "             x='count', y='object_type', orientation='h',\n",
    "             title='Сетевые заведения по видам объектов общественного питания')\n",
    "\n",
    "fig.show()"
   ]
  },
  {
   "cell_type": "markdown",
   "metadata": {
    "id": "VA7frvSX5GHo"
   },
   "source": [
    "Больше всего сетевых заведений у кафе, но в данном случае, я считаю, лучше посчитать не в абсолютных показателях, а в относительных"
   ]
  },
  {
   "cell_type": "code",
   "execution_count": 21,
   "metadata": {
    "colab": {
     "base_uri": "https://localhost:8080/",
     "height": 328
    },
    "executionInfo": {
     "elapsed": 350,
     "status": "ok",
     "timestamp": 1627829168728,
     "user": {
      "displayName": "Арсен",
      "photoUrl": "https://lh3.googleusercontent.com/a-/AOh14GjPCG8vWVVB43Ax1wpE_vEPLjGP-XH0UWc12vB7wg=s64",
      "userId": "17661651445996378067"
     },
     "user_tz": -180
    },
    "id": "lO-wSaWm7LFU",
    "outputId": "b370a0e4-6c63-4493-e1a7-e438f82f09e1"
   },
   "outputs": [
    {
     "data": {
      "text/html": [
       "<div>\n",
       "<style scoped>\n",
       "    .dataframe tbody tr th:only-of-type {\n",
       "        vertical-align: middle;\n",
       "    }\n",
       "\n",
       "    .dataframe tbody tr th {\n",
       "        vertical-align: top;\n",
       "    }\n",
       "\n",
       "    .dataframe thead th {\n",
       "        text-align: right;\n",
       "    }\n",
       "</style>\n",
       "<table border=\"1\" class=\"dataframe\">\n",
       "  <thead>\n",
       "    <tr style=\"text-align: right;\">\n",
       "      <th></th>\n",
       "      <th>object_type</th>\n",
       "      <th>chain_count</th>\n",
       "      <th>total_count</th>\n",
       "      <th>rate</th>\n",
       "    </tr>\n",
       "  </thead>\n",
       "  <tbody>\n",
       "    <tr>\n",
       "      <th>0</th>\n",
       "      <td>столовая</td>\n",
       "      <td>3</td>\n",
       "      <td>2584</td>\n",
       "      <td>0.001161</td>\n",
       "    </tr>\n",
       "    <tr>\n",
       "      <th>1</th>\n",
       "      <td>буфет</td>\n",
       "      <td>11</td>\n",
       "      <td>577</td>\n",
       "      <td>0.019064</td>\n",
       "    </tr>\n",
       "    <tr>\n",
       "      <th>2</th>\n",
       "      <td>бар</td>\n",
       "      <td>37</td>\n",
       "      <td>855</td>\n",
       "      <td>0.043275</td>\n",
       "    </tr>\n",
       "    <tr>\n",
       "      <th>3</th>\n",
       "      <td>кафетерий</td>\n",
       "      <td>52</td>\n",
       "      <td>395</td>\n",
       "      <td>0.131646</td>\n",
       "    </tr>\n",
       "    <tr>\n",
       "      <th>4</th>\n",
       "      <td>закусочная</td>\n",
       "      <td>56</td>\n",
       "      <td>349</td>\n",
       "      <td>0.160458</td>\n",
       "    </tr>\n",
       "    <tr>\n",
       "      <th>5</th>\n",
       "      <td>магазин (отдел кулинарии)</td>\n",
       "      <td>78</td>\n",
       "      <td>273</td>\n",
       "      <td>0.285714</td>\n",
       "    </tr>\n",
       "    <tr>\n",
       "      <th>6</th>\n",
       "      <td>ресторан</td>\n",
       "      <td>543</td>\n",
       "      <td>2282</td>\n",
       "      <td>0.237949</td>\n",
       "    </tr>\n",
       "    <tr>\n",
       "      <th>7</th>\n",
       "      <td>предприятие быстрого обслуживания</td>\n",
       "      <td>788</td>\n",
       "      <td>1898</td>\n",
       "      <td>0.415174</td>\n",
       "    </tr>\n",
       "    <tr>\n",
       "      <th>8</th>\n",
       "      <td>кафе</td>\n",
       "      <td>1396</td>\n",
       "      <td>6071</td>\n",
       "      <td>0.229946</td>\n",
       "    </tr>\n",
       "  </tbody>\n",
       "</table>\n",
       "</div>"
      ],
      "text/plain": [
       "                         object_type  chain_count  total_count      rate\n",
       "0                           столовая            3         2584  0.001161\n",
       "1                              буфет           11          577  0.019064\n",
       "2                                бар           37          855  0.043275\n",
       "3                          кафетерий           52          395  0.131646\n",
       "4                         закусочная           56          349  0.160458\n",
       "5          магазин (отдел кулинарии)           78          273  0.285714\n",
       "6                           ресторан          543         2282  0.237949\n",
       "7  предприятие быстрого обслуживания          788         1898  0.415174\n",
       "8                               кафе         1396         6071  0.229946"
      ]
     },
     "execution_count": 21,
     "metadata": {},
     "output_type": "execute_result"
    }
   ],
   "source": [
    "object_type_chain_rate = pd.merge(object_type_chain_count, object_type_count, on='object_type')\n",
    "object_type_chain_rate.rename(columns={'count_x':'chain_count',\n",
    "                                       'count_y':'total_count'}, inplace=True)\n",
    "\n",
    "object_type_chain_rate['rate'] = object_type_chain_rate['chain_count'] / object_type_chain_rate['total_count']\n",
    "object_type_chain_rate"
   ]
  },
  {
   "cell_type": "code",
   "execution_count": 22,
   "metadata": {
    "colab": {
     "base_uri": "https://localhost:8080/",
     "height": 542
    },
    "executionInfo": {
     "elapsed": 523,
     "status": "ok",
     "timestamp": 1627829169246,
     "user": {
      "displayName": "Арсен",
      "photoUrl": "https://lh3.googleusercontent.com/a-/AOh14GjPCG8vWVVB43Ax1wpE_vEPLjGP-XH0UWc12vB7wg=s64",
      "userId": "17661651445996378067"
     },
     "user_tz": -180
    },
    "id": "dOTU5mR776N-",
    "outputId": "c921f02a-0d81-4a18-acb7-e9ed5dfba403"
   },
   "outputs": [
    {
     "data": {
      "image/svg+xml": [
       "<svg class=\"main-svg\" xmlns=\"http://www.w3.org/2000/svg\" xmlns:xlink=\"http://www.w3.org/1999/xlink\" width=\"700\" height=\"500\" style=\"\" viewBox=\"0 0 700 500\"><rect x=\"0\" y=\"0\" width=\"700\" height=\"500\" style=\"fill: rgb(255, 255, 255); fill-opacity: 1;\"/><defs id=\"defs-28b734\"><g class=\"clips\"><clipPath id=\"clip28b734xyplot\" class=\"plotclip\"><rect width=\"347\" height=\"320\"/></clipPath><clipPath class=\"axesclip\" id=\"clip28b734x\"><rect x=\"273\" y=\"0\" width=\"347\" height=\"500\"/></clipPath><clipPath class=\"axesclip\" id=\"clip28b734y\"><rect x=\"0\" y=\"100\" width=\"700\" height=\"320\"/></clipPath><clipPath class=\"axesclip\" id=\"clip28b734xy\"><rect x=\"273\" y=\"100\" width=\"347\" height=\"320\"/></clipPath></g><g class=\"gradients\"/><g class=\"patterns\"/></defs><g class=\"bglayer\"><rect class=\"bg\" x=\"273\" y=\"100\" width=\"347\" height=\"320\" style=\"fill: rgb(229, 236, 246); fill-opacity: 1; stroke-width: 0;\"/></g><g class=\"layer-below\"><g class=\"imagelayer\"/><g class=\"shapelayer\"/></g><g class=\"cartesianlayer\"><g class=\"subplot xy\"><g class=\"layer-subplot\"><g class=\"shapelayer\"/><g class=\"imagelayer\"/></g><g class=\"gridlayer\"><g class=\"x\"><path class=\"xgrid crisp\" transform=\"translate(352.4,0)\" d=\"M0,100v320\" style=\"stroke: rgb(255, 255, 255); stroke-opacity: 1; stroke-width: 1px;\"/><path class=\"xgrid crisp\" transform=\"translate(431.8,0)\" d=\"M0,100v320\" style=\"stroke: rgb(255, 255, 255); stroke-opacity: 1; stroke-width: 1px;\"/><path class=\"xgrid crisp\" transform=\"translate(511.2,0)\" d=\"M0,100v320\" style=\"stroke: rgb(255, 255, 255); stroke-opacity: 1; stroke-width: 1px;\"/><path class=\"xgrid crisp\" transform=\"translate(590.6,0)\" d=\"M0,100v320\" style=\"stroke: rgb(255, 255, 255); stroke-opacity: 1; stroke-width: 1px;\"/></g><g class=\"y\"/></g><g class=\"zerolinelayer\"><path class=\"xzl zl crisp\" transform=\"translate(273,0)\" d=\"M0,100v320\" style=\"stroke: rgb(255, 255, 255); stroke-opacity: 1; stroke-width: 2px;\"/></g><path class=\"xlines-below\"/><path class=\"ylines-below\"/><g class=\"overlines-below\"/><g class=\"xaxislayer-below\"/><g class=\"yaxislayer-below\"/><g class=\"overaxes-below\"/><g class=\"plot\" transform=\"translate(273,100)\" clip-path=\"url(#clip28b734xyplot)\"><g class=\"barlayer mlayer\"><g class=\"trace bars\" style=\"opacity: 1;\"><g class=\"points\"><g class=\"point\"><path d=\"M0,316.44V288H0.92V316.44Z\" style=\"vector-effect: non-scaling-stroke; opacity: 1; stroke-width: 0.5px; fill: rgb(99, 110, 250); fill-opacity: 1; stroke: rgb(229, 236, 246); stroke-opacity: 1;\"/></g><g class=\"point\"><path d=\"M0,280.89V252.44H15.14V280.89Z\" style=\"vector-effect: non-scaling-stroke; opacity: 1; stroke-width: 0.5px; fill: rgb(99, 110, 250); fill-opacity: 1; stroke: rgb(229, 236, 246); stroke-opacity: 1;\"/></g><g class=\"point\"><path d=\"M0,245.33V216.89H34.36V245.33Z\" style=\"vector-effect: non-scaling-stroke; opacity: 1; stroke-width: 0.5px; fill: rgb(99, 110, 250); fill-opacity: 1; stroke: rgb(229, 236, 246); stroke-opacity: 1;\"/></g><g class=\"point\"><path d=\"M0,209.78V181.33H104.53V209.78Z\" style=\"vector-effect: non-scaling-stroke; opacity: 1; stroke-width: 0.5px; fill: rgb(99, 110, 250); fill-opacity: 1; stroke: rgb(229, 236, 246); stroke-opacity: 1;\"/></g><g class=\"point\"><path d=\"M0,174.22V145.78H127.4V174.22Z\" style=\"vector-effect: non-scaling-stroke; opacity: 1; stroke-width: 0.5px; fill: rgb(99, 110, 250); fill-opacity: 1; stroke: rgb(229, 236, 246); stroke-opacity: 1;\"/></g><g class=\"point\"><path d=\"M0,138.67V110.22H182.58V138.67Z\" style=\"vector-effect: non-scaling-stroke; opacity: 1; stroke-width: 0.5px; fill: rgb(99, 110, 250); fill-opacity: 1; stroke: rgb(229, 236, 246); stroke-opacity: 1;\"/></g><g class=\"point\"><path d=\"M0,103.11V74.67H188.93V103.11Z\" style=\"vector-effect: non-scaling-stroke; opacity: 1; stroke-width: 0.5px; fill: rgb(99, 110, 250); fill-opacity: 1; stroke: rgb(229, 236, 246); stroke-opacity: 1;\"/></g><g class=\"point\"><path d=\"M0,67.56V39.11H226.86V67.56Z\" style=\"vector-effect: non-scaling-stroke; opacity: 1; stroke-width: 0.5px; fill: rgb(99, 110, 250); fill-opacity: 1; stroke: rgb(229, 236, 246); stroke-opacity: 1;\"/></g><g class=\"point\"><path d=\"M0,32V3.56H329.65V32Z\" style=\"vector-effect: non-scaling-stroke; opacity: 1; stroke-width: 0.5px; fill: rgb(99, 110, 250); fill-opacity: 1; stroke: rgb(229, 236, 246); stroke-opacity: 1;\"/></g></g></g></g></g><g class=\"overplot\"/><path class=\"xlines-above crisp\" d=\"M0,0\" style=\"fill: none;\"/><path class=\"ylines-above crisp\" d=\"M0,0\" style=\"fill: none;\"/><g class=\"overlines-above\"/><g class=\"xaxislayer-above\"><g class=\"xtick\"><text text-anchor=\"middle\" x=\"0\" y=\"433\" transform=\"translate(273,0)\" style=\"font-family: 'Open Sans', verdana, arial, sans-serif; font-size: 12px; fill: rgb(42, 63, 95); fill-opacity: 1; white-space: pre; opacity: 1;\">0</text></g><g class=\"xtick\"><text text-anchor=\"middle\" x=\"0\" y=\"433\" style=\"font-family: 'Open Sans', verdana, arial, sans-serif; font-size: 12px; fill: rgb(42, 63, 95); fill-opacity: 1; white-space: pre; opacity: 1;\" transform=\"translate(352.4,0)\">0.1</text></g><g class=\"xtick\"><text text-anchor=\"middle\" x=\"0\" y=\"433\" style=\"font-family: 'Open Sans', verdana, arial, sans-serif; font-size: 12px; fill: rgb(42, 63, 95); fill-opacity: 1; white-space: pre; opacity: 1;\" transform=\"translate(431.8,0)\">0.2</text></g><g class=\"xtick\"><text text-anchor=\"middle\" x=\"0\" y=\"433\" style=\"font-family: 'Open Sans', verdana, arial, sans-serif; font-size: 12px; fill: rgb(42, 63, 95); fill-opacity: 1; white-space: pre; opacity: 1;\" transform=\"translate(511.2,0)\">0.3</text></g><g class=\"xtick\"><text text-anchor=\"middle\" x=\"0\" y=\"433\" style=\"font-family: 'Open Sans', verdana, arial, sans-serif; font-size: 12px; fill: rgb(42, 63, 95); fill-opacity: 1; white-space: pre; opacity: 1;\" transform=\"translate(590.6,0)\">0.4</text></g></g><g class=\"yaxislayer-above\"><g class=\"ytick\"><text text-anchor=\"end\" x=\"272\" y=\"4.199999999999999\" transform=\"translate(0,402.22)\" style=\"font-family: 'Open Sans', verdana, arial, sans-serif; font-size: 12px; fill: rgb(42, 63, 95); fill-opacity: 1; white-space: pre; opacity: 1;\">столовая</text></g><g class=\"ytick\"><text text-anchor=\"end\" x=\"272\" y=\"4.199999999999999\" transform=\"translate(0,366.67)\" style=\"font-family: 'Open Sans', verdana, arial, sans-serif; font-size: 12px; fill: rgb(42, 63, 95); fill-opacity: 1; white-space: pre; opacity: 1;\">буфет</text></g><g class=\"ytick\"><text text-anchor=\"end\" x=\"272\" y=\"4.199999999999999\" transform=\"translate(0,331.11)\" style=\"font-family: 'Open Sans', verdana, arial, sans-serif; font-size: 12px; fill: rgb(42, 63, 95); fill-opacity: 1; white-space: pre; opacity: 1;\">бар</text></g><g class=\"ytick\"><text text-anchor=\"end\" x=\"272\" y=\"4.199999999999999\" transform=\"translate(0,295.56)\" style=\"font-family: 'Open Sans', verdana, arial, sans-serif; font-size: 12px; fill: rgb(42, 63, 95); fill-opacity: 1; white-space: pre; opacity: 1;\">кафетерий</text></g><g class=\"ytick\"><text text-anchor=\"end\" x=\"272\" y=\"4.199999999999999\" transform=\"translate(0,260)\" style=\"font-family: 'Open Sans', verdana, arial, sans-serif; font-size: 12px; fill: rgb(42, 63, 95); fill-opacity: 1; white-space: pre; opacity: 1;\">закусочная</text></g><g class=\"ytick\"><text text-anchor=\"end\" x=\"272\" y=\"4.199999999999999\" transform=\"translate(0,224.44)\" style=\"font-family: 'Open Sans', verdana, arial, sans-serif; font-size: 12px; fill: rgb(42, 63, 95); fill-opacity: 1; white-space: pre; opacity: 1;\">кафе</text></g><g class=\"ytick\"><text text-anchor=\"end\" x=\"272\" y=\"4.199999999999999\" transform=\"translate(0,188.89)\" style=\"font-family: 'Open Sans', verdana, arial, sans-serif; font-size: 12px; fill: rgb(42, 63, 95); fill-opacity: 1; white-space: pre; opacity: 1;\">ресторан</text></g><g class=\"ytick\"><text text-anchor=\"end\" x=\"272\" y=\"4.199999999999999\" transform=\"translate(0,153.32999999999998)\" style=\"font-family: 'Open Sans', verdana, arial, sans-serif; font-size: 12px; fill: rgb(42, 63, 95); fill-opacity: 1; white-space: pre; opacity: 1;\">магазин (отдел кулинарии)</text></g><g class=\"ytick\"><text text-anchor=\"end\" x=\"272\" y=\"4.199999999999999\" transform=\"translate(0,117.78)\" style=\"font-family: 'Open Sans', verdana, arial, sans-serif; font-size: 12px; fill: rgb(42, 63, 95); fill-opacity: 1; white-space: pre; opacity: 1;\">предприятие быстрого обслуживания</text></g></g><g class=\"overaxes-above\"/></g></g><g class=\"polarlayer\"/><g class=\"ternarylayer\"/><g class=\"geolayer\"/><g class=\"funnelarealayer\"/><g class=\"pielayer\"/><g class=\"iciclelayer\"/><g class=\"treemaplayer\"/><g class=\"sunburstlayer\"/><g class=\"glimages\"/><defs id=\"topdefs-28b734\"><g class=\"clips\"/></defs><g class=\"layer-above\"><g class=\"imagelayer\"/><g class=\"shapelayer\"/></g><g class=\"infolayer\"><g class=\"g-gtitle\"><text class=\"gtitle\" x=\"35\" y=\"50\" text-anchor=\"start\" dy=\"0em\" style=\"font-family: 'Open Sans', verdana, arial, sans-serif; font-size: 17px; fill: rgb(42, 63, 95); opacity: 1; font-weight: normal; white-space: pre;\">Сетевые заведения по видам объектов общественного питания</text></g><g class=\"g-xtitle\"><text class=\"xtitle\" x=\"446.5\" y=\"460.8\" text-anchor=\"middle\" style=\"font-family: 'Open Sans', verdana, arial, sans-serif; font-size: 14px; fill: rgb(42, 63, 95); opacity: 1; font-weight: normal; white-space: pre;\">rate</text></g><g class=\"g-ytitle\" transform=\"translate(2.4560546875,0)\"><text class=\"ytitle\" transform=\"rotate(-90,11.543749999999989,260)\" x=\"11.543749999999989\" y=\"260\" text-anchor=\"middle\" style=\"font-family: 'Open Sans', verdana, arial, sans-serif; font-size: 14px; fill: rgb(42, 63, 95); opacity: 1; font-weight: normal; white-space: pre;\">object_type</text></g></g></svg>"
      ]
     },
     "metadata": {},
     "output_type": "display_data"
    }
   ],
   "source": [
    "fig = px.bar(object_type_chain_rate.sort_values(by='rate'),\n",
    "             x='rate', y='object_type', orientation='h',\n",
    "             title='Сетевые заведения по видам объектов общественного питания')\n",
    "\n",
    "fig.show()"
   ]
  },
  {
   "cell_type": "markdown",
   "metadata": {
    "id": "DfmtBePl8Gle"
   },
   "source": [
    "Ну вот, выходит для кафе вовсе не характерно сетевое распространение.\n",
    "\n",
    "А лидер здесь - предприятия быстрого обслуживания. Почти 42% из всех организаций - сетевые. Оно и логично - такие заведения относительно легко масштабируются и пользуются спросом для франчайзинга."
   ]
  },
  {
   "cell_type": "markdown",
   "metadata": {
    "id": "WFyEi3S_Gcoa"
   },
   "source": [
    "### Что характерно для сетевых заведений: много заведений с небольшим числом посадочных мест в каждом или мало заведений с большим количеством посадочных мест?\n"
   ]
  },
  {
   "cell_type": "code",
   "execution_count": 23,
   "metadata": {
    "colab": {
     "base_uri": "https://localhost:8080/",
     "height": 450
    },
    "executionInfo": {
     "elapsed": 228,
     "status": "ok",
     "timestamp": 1627829247728,
     "user": {
      "displayName": "Арсен",
      "photoUrl": "https://lh3.googleusercontent.com/a-/AOh14GjPCG8vWVVB43Ax1wpE_vEPLjGP-XH0UWc12vB7wg=s64",
      "userId": "17661651445996378067"
     },
     "user_tz": -180
    },
    "id": "0KM4kvB1oqcA",
    "outputId": "ae116e11-3253-4a92-dc40-cf5899839ccb"
   },
   "outputs": [
    {
     "data": {
      "text/html": [
       "<div>\n",
       "<style scoped>\n",
       "    .dataframe tbody tr th:only-of-type {\n",
       "        vertical-align: middle;\n",
       "    }\n",
       "\n",
       "    .dataframe tbody tr th {\n",
       "        vertical-align: top;\n",
       "    }\n",
       "\n",
       "    .dataframe thead th {\n",
       "        text-align: right;\n",
       "    }\n",
       "</style>\n",
       "<table border=\"1\" class=\"dataframe\">\n",
       "  <thead>\n",
       "    <tr style=\"text-align: right;\">\n",
       "      <th></th>\n",
       "      <th>object_count</th>\n",
       "      <th>number</th>\n",
       "    </tr>\n",
       "    <tr>\n",
       "      <th>object_name</th>\n",
       "      <th></th>\n",
       "      <th></th>\n",
       "    </tr>\n",
       "  </thead>\n",
       "  <tbody>\n",
       "    <tr>\n",
       "      <th>Beverly hills diner</th>\n",
       "      <td>1</td>\n",
       "      <td>88.000000</td>\n",
       "    </tr>\n",
       "    <tr>\n",
       "      <th>Bierloga</th>\n",
       "      <td>1</td>\n",
       "      <td>75.000000</td>\n",
       "    </tr>\n",
       "    <tr>\n",
       "      <th>Black &amp; white</th>\n",
       "      <td>1</td>\n",
       "      <td>40.000000</td>\n",
       "    </tr>\n",
       "    <tr>\n",
       "      <th>Bocconcino</th>\n",
       "      <td>3</td>\n",
       "      <td>66.666667</td>\n",
       "    </tr>\n",
       "    <tr>\n",
       "      <th>Boobo</th>\n",
       "      <td>1</td>\n",
       "      <td>46.000000</td>\n",
       "    </tr>\n",
       "    <tr>\n",
       "      <th>...</th>\n",
       "      <td>...</td>\n",
       "      <td>...</td>\n",
       "    </tr>\n",
       "    <tr>\n",
       "      <th>Якитория и ян примус</th>\n",
       "      <td>1</td>\n",
       "      <td>282.000000</td>\n",
       "    </tr>\n",
       "    <tr>\n",
       "      <th>Ямми микс</th>\n",
       "      <td>1</td>\n",
       "      <td>2.000000</td>\n",
       "    </tr>\n",
       "    <tr>\n",
       "      <th>Ян примус</th>\n",
       "      <td>1</td>\n",
       "      <td>300.000000</td>\n",
       "    </tr>\n",
       "    <tr>\n",
       "      <th>Японский ресторан «ваби-саби»</th>\n",
       "      <td>1</td>\n",
       "      <td>155.000000</td>\n",
       "    </tr>\n",
       "    <tr>\n",
       "      <th>Япоша</th>\n",
       "      <td>2</td>\n",
       "      <td>105.000000</td>\n",
       "    </tr>\n",
       "  </tbody>\n",
       "</table>\n",
       "<p>577 rows × 2 columns</p>\n",
       "</div>"
      ],
      "text/plain": [
       "                               object_count      number\n",
       "object_name                                            \n",
       "Beverly hills diner                       1   88.000000\n",
       "Bierloga                                  1   75.000000\n",
       "Black & white                             1   40.000000\n",
       "Bocconcino                                3   66.666667\n",
       "Boobo                                     1   46.000000\n",
       "...                                     ...         ...\n",
       "Якитория и ян примус                      1  282.000000\n",
       "Ямми микс                                 1    2.000000\n",
       "Ян примус                                 1  300.000000\n",
       "Японский ресторан «ваби-саби»             1  155.000000\n",
       "Япоша                                     2  105.000000\n",
       "\n",
       "[577 rows x 2 columns]"
      ]
     },
     "execution_count": 23,
     "metadata": {},
     "output_type": "execute_result"
    }
   ],
   "source": [
    "df = (\n",
    "    rest_data\n",
    "        .query('chain == \"да\"')\n",
    "        .groupby('object_name')\n",
    "        .agg({'id':'count',\n",
    "              'number':'mean'})\n",
    "        .rename(columns={'id':'object_count'})\n",
    ")\n",
    "\n",
    "df"
   ]
  },
  {
   "cell_type": "code",
   "execution_count": 24,
   "metadata": {
    "colab": {
     "base_uri": "https://localhost:8080/",
     "height": 542
    },
    "executionInfo": {
     "elapsed": 357,
     "status": "ok",
     "timestamp": 1627829448292,
     "user": {
      "displayName": "Арсен",
      "photoUrl": "https://lh3.googleusercontent.com/a-/AOh14GjPCG8vWVVB43Ax1wpE_vEPLjGP-XH0UWc12vB7wg=s64",
      "userId": "17661651445996378067"
     },
     "user_tz": -180
    },
    "id": "bGQCyl3KoqcA",
    "outputId": "b191da66-fe46-4608-e02f-8eb6ab0dc4e8"
   },
   "outputs": [
    {
     "data": {
      "image/svg+xml": [
       "<svg class=\"main-svg\" xmlns=\"http://www.w3.org/2000/svg\" xmlns:xlink=\"http://www.w3.org/1999/xlink\" width=\"700\" height=\"500\" style=\"\" viewBox=\"0 0 700 500\"><rect x=\"0\" y=\"0\" width=\"700\" height=\"500\" style=\"fill: rgb(255, 255, 255); fill-opacity: 1;\"/><defs id=\"defs-551527\"><g class=\"clips\"><clipPath id=\"clip551527xyplot\" class=\"plotclip\"><rect width=\"540\" height=\"320\"/></clipPath><clipPath class=\"axesclip\" id=\"clip551527x\"><rect x=\"80\" y=\"0\" width=\"540\" height=\"500\"/></clipPath><clipPath class=\"axesclip\" id=\"clip551527y\"><rect x=\"0\" y=\"100\" width=\"700\" height=\"320\"/></clipPath><clipPath class=\"axesclip\" id=\"clip551527xy\"><rect x=\"80\" y=\"100\" width=\"540\" height=\"320\"/></clipPath></g><g class=\"gradients\"/><g class=\"patterns\"/></defs><g class=\"bglayer\"><rect class=\"bg\" x=\"80\" y=\"100\" width=\"540\" height=\"320\" style=\"fill: rgb(229, 236, 246); fill-opacity: 1; stroke-width: 0;\"/></g><g class=\"layer-below\"><g class=\"imagelayer\"/><g class=\"shapelayer\"/></g><g class=\"cartesianlayer\"><g class=\"subplot xy\"><g class=\"layer-subplot\"><g class=\"shapelayer\"/><g class=\"imagelayer\"/></g><g class=\"gridlayer\"><g class=\"x\"><path class=\"xgrid crisp\" transform=\"translate(200,0)\" d=\"M0,100v320\" style=\"stroke: rgb(255, 255, 255); stroke-opacity: 1; stroke-width: 1px;\"/><path class=\"xgrid crisp\" transform=\"translate(320,0)\" d=\"M0,100v320\" style=\"stroke: rgb(255, 255, 255); stroke-opacity: 1; stroke-width: 1px;\"/><path class=\"xgrid crisp\" transform=\"translate(440,0)\" d=\"M0,100v320\" style=\"stroke: rgb(255, 255, 255); stroke-opacity: 1; stroke-width: 1px;\"/><path class=\"xgrid crisp\" transform=\"translate(560,0)\" d=\"M0,100v320\" style=\"stroke: rgb(255, 255, 255); stroke-opacity: 1; stroke-width: 1px;\"/></g><g class=\"y\"><path class=\"ygrid crisp\" transform=\"translate(0,335.78999999999996)\" d=\"M80,0h540\" style=\"stroke: rgb(255, 255, 255); stroke-opacity: 1; stroke-width: 1px;\"/><path class=\"ygrid crisp\" transform=\"translate(0,251.58)\" d=\"M80,0h540\" style=\"stroke: rgb(255, 255, 255); stroke-opacity: 1; stroke-width: 1px;\"/><path class=\"ygrid crisp\" transform=\"translate(0,167.37)\" d=\"M80,0h540\" style=\"stroke: rgb(255, 255, 255); stroke-opacity: 1; stroke-width: 1px;\"/></g></g><g class=\"zerolinelayer\"><path class=\"xzl zl crisp\" transform=\"translate(80,0)\" d=\"M0,100v320\" style=\"stroke: rgb(255, 255, 255); stroke-opacity: 1; stroke-width: 2px;\"/><path class=\"yzl zl crisp\" transform=\"translate(0,420)\" d=\"M80,0h540\" style=\"stroke: rgb(255, 255, 255); stroke-opacity: 1; stroke-width: 2px;\"/></g><path class=\"xlines-below\"/><path class=\"ylines-below\"/><g class=\"overlines-below\"/><g class=\"xaxislayer-below\"/><g class=\"yaxislayer-below\"/><g class=\"overaxes-below\"/><g class=\"plot\" transform=\"translate(80,100)\" clip-path=\"url(#clip551527xyplot)\"><g class=\"scatterlayer mlayer\"><g class=\"trace scatter traceaf89ac\" style=\"stroke-miterlimit: 2; opacity: 1;\"><g class=\"fills\"/><g class=\"errorbars\"/><g class=\"lines\"/><g class=\"points\"><path class=\"point\" transform=\"translate(60,171.79)\" d=\"M3,0A3,3 0 1,1 0,-3A3,3 0 0,1 3,0Z\" style=\"opacity: 1; stroke-width: 1px; fill: rgb(135, 206, 250); fill-opacity: 0.5; stroke: rgb(147, 112, 219); stroke-opacity: 1;\"/><path class=\"point\" transform=\"translate(60,193.68)\" d=\"M3,0A3,3 0 1,1 0,-3A3,3 0 0,1 3,0Z\" style=\"opacity: 1; stroke-width: 1px; fill: rgb(135, 206, 250); fill-opacity: 0.5; stroke: rgb(147, 112, 219); stroke-opacity: 1;\"/><path class=\"point\" transform=\"translate(60,252.63)\" d=\"M3,0A3,3 0 1,1 0,-3A3,3 0 0,1 3,0Z\" style=\"opacity: 1; stroke-width: 1px; fill: rgb(135, 206, 250); fill-opacity: 0.5; stroke: rgb(147, 112, 219); stroke-opacity: 1;\"/><path class=\"point\" transform=\"translate(180,207.72)\" d=\"M3,0A3,3 0 1,1 0,-3A3,3 0 0,1 3,0Z\" style=\"opacity: 1; stroke-width: 1px; fill: rgb(135, 206, 250); fill-opacity: 0.5; stroke: rgb(147, 112, 219); stroke-opacity: 1;\"/><path class=\"point\" transform=\"translate(60,242.53)\" d=\"M3,0A3,3 0 1,1 0,-3A3,3 0 0,1 3,0Z\" style=\"opacity: 1; stroke-width: 1px; fill: rgb(135, 206, 250); fill-opacity: 0.5; stroke: rgb(147, 112, 219); stroke-opacity: 1;\"/><path class=\"point\" transform=\"translate(60,309.89)\" d=\"M3,0A3,3 0 1,1 0,-3A3,3 0 0,1 3,0Z\" style=\"opacity: 1; stroke-width: 1px; fill: rgb(135, 206, 250); fill-opacity: 0.5; stroke: rgb(147, 112, 219); stroke-opacity: 1;\"/><path class=\"point\" transform=\"translate(180,285.75)\" d=\"M3,0A3,3 0 1,1 0,-3A3,3 0 0,1 3,0Z\" style=\"opacity: 1; stroke-width: 1px; fill: rgb(135, 206, 250); fill-opacity: 0.5; stroke: rgb(147, 112, 219); stroke-opacity: 1;\"/><path class=\"point\" transform=\"translate(60,320)\" d=\"M3,0A3,3 0 1,1 0,-3A3,3 0 0,1 3,0Z\" style=\"opacity: 1; stroke-width: 1px; fill: rgb(135, 206, 250); fill-opacity: 0.5; stroke: rgb(147, 112, 219); stroke-opacity: 1;\"/><path class=\"point\" transform=\"translate(240,240.42)\" d=\"M3,0A3,3 0 1,1 0,-3A3,3 0 0,1 3,0Z\" style=\"opacity: 1; stroke-width: 1px; fill: rgb(135, 206, 250); fill-opacity: 0.5; stroke: rgb(147, 112, 219); stroke-opacity: 1;\"/><path class=\"point\" transform=\"translate(1500,303.83)\" d=\"M3,0A3,3 0 1,1 0,-3A3,3 0 0,1 3,0Z\" style=\"opacity: 1; stroke-width: 1px; fill: rgb(135, 206, 250); fill-opacity: 0.5; stroke: rgb(147, 112, 219); stroke-opacity: 1;\"/><path class=\"point\" transform=\"translate(60,313.26)\" d=\"M3,0A3,3 0 1,1 0,-3A3,3 0 0,1 3,0Z\" style=\"opacity: 1; stroke-width: 1px; fill: rgb(135, 206, 250); fill-opacity: 0.5; stroke: rgb(147, 112, 219); stroke-opacity: 1;\"/><path class=\"point\" transform=\"translate(180,245.89)\" d=\"M3,0A3,3 0 1,1 0,-3A3,3 0 0,1 3,0Z\" style=\"opacity: 1; stroke-width: 1px; fill: rgb(135, 206, 250); fill-opacity: 0.5; stroke: rgb(147, 112, 219); stroke-opacity: 1;\"/><path class=\"point\" transform=\"translate(300,288.34)\" d=\"M3,0A3,3 0 1,1 0,-3A3,3 0 0,1 3,0Z\" style=\"opacity: 1; stroke-width: 1px; fill: rgb(135, 206, 250); fill-opacity: 0.5; stroke: rgb(147, 112, 219); stroke-opacity: 1;\"/><path class=\"point\" transform=\"translate(60,252.63)\" d=\"M3,0A3,3 0 1,1 0,-3A3,3 0 0,1 3,0Z\" style=\"opacity: 1; stroke-width: 1px; fill: rgb(135, 206, 250); fill-opacity: 0.5; stroke: rgb(147, 112, 219); stroke-opacity: 1;\"/><path class=\"point\" transform=\"translate(360,300.63)\" d=\"M3,0A3,3 0 1,1 0,-3A3,3 0 0,1 3,0Z\" style=\"opacity: 1; stroke-width: 1px; fill: rgb(135, 206, 250); fill-opacity: 0.5; stroke: rgb(147, 112, 219); stroke-opacity: 1;\"/><path class=\"point\" transform=\"translate(60,185.26)\" d=\"M3,0A3,3 0 1,1 0,-3A3,3 0 0,1 3,0Z\" style=\"opacity: 1; stroke-width: 1px; fill: rgb(135, 206, 250); fill-opacity: 0.5; stroke: rgb(147, 112, 219); stroke-opacity: 1;\"/><path class=\"point\" transform=\"translate(60,202.11)\" d=\"M3,0A3,3 0 1,1 0,-3A3,3 0 0,1 3,0Z\" style=\"opacity: 1; stroke-width: 1px; fill: rgb(135, 206, 250); fill-opacity: 0.5; stroke: rgb(147, 112, 219); stroke-opacity: 1;\"/><path class=\"point\" transform=\"translate(60,235.79)\" d=\"M3,0A3,3 0 1,1 0,-3A3,3 0 0,1 3,0Z\" style=\"opacity: 1; stroke-width: 1px; fill: rgb(135, 206, 250); fill-opacity: 0.5; stroke: rgb(147, 112, 219); stroke-opacity: 1;\"/><path class=\"point\" transform=\"translate(180,290.81)\" d=\"M3,0A3,3 0 1,1 0,-3A3,3 0 0,1 3,0Z\" style=\"opacity: 1; stroke-width: 1px; fill: rgb(135, 206, 250); fill-opacity: 0.5; stroke: rgb(147, 112, 219); stroke-opacity: 1;\"/><path class=\"point\" transform=\"translate(60,210.53)\" d=\"M3,0A3,3 0 1,1 0,-3A3,3 0 0,1 3,0Z\" style=\"opacity: 1; stroke-width: 1px; fill: rgb(135, 206, 250); fill-opacity: 0.5; stroke: rgb(147, 112, 219); stroke-opacity: 1;\"/><path class=\"point\" transform=\"translate(60,244.21)\" d=\"M3,0A3,3 0 1,1 0,-3A3,3 0 0,1 3,0Z\" style=\"opacity: 1; stroke-width: 1px; fill: rgb(135, 206, 250); fill-opacity: 0.5; stroke: rgb(147, 112, 219); stroke-opacity: 1;\"/><path class=\"point\" transform=\"translate(60,158.32)\" d=\"M3,0A3,3 0 1,1 0,-3A3,3 0 0,1 3,0Z\" style=\"opacity: 1; stroke-width: 1px; fill: rgb(135, 206, 250); fill-opacity: 0.5; stroke: rgb(147, 112, 219); stroke-opacity: 1;\"/><path class=\"point\" transform=\"translate(240,300.63)\" d=\"M3,0A3,3 0 1,1 0,-3A3,3 0 0,1 3,0Z\" style=\"opacity: 1; stroke-width: 1px; fill: rgb(135, 206, 250); fill-opacity: 0.5; stroke: rgb(147, 112, 219); stroke-opacity: 1;\"/><path class=\"point\" transform=\"translate(60,181.89)\" d=\"M3,0A3,3 0 1,1 0,-3A3,3 0 0,1 3,0Z\" style=\"opacity: 1; stroke-width: 1px; fill: rgb(135, 206, 250); fill-opacity: 0.5; stroke: rgb(147, 112, 219); stroke-opacity: 1;\"/><path class=\"point\" transform=\"translate(300,277.89)\" d=\"M3,0A3,3 0 1,1 0,-3A3,3 0 0,1 3,0Z\" style=\"opacity: 1; stroke-width: 1px; fill: rgb(135, 206, 250); fill-opacity: 0.5; stroke: rgb(147, 112, 219); stroke-opacity: 1;\"/><path class=\"point\" transform=\"translate(9300,226.79)\" d=\"M3,0A3,3 0 1,1 0,-3A3,3 0 0,1 3,0Z\" style=\"opacity: 1; stroke-width: 1px; fill: rgb(135, 206, 250); fill-opacity: 0.5; stroke: rgb(147, 112, 219); stroke-opacity: 1;\"/><path class=\"point\" transform=\"translate(60,74.11)\" d=\"M3,0A3,3 0 1,1 0,-3A3,3 0 0,1 3,0Z\" style=\"opacity: 1; stroke-width: 1px; fill: rgb(135, 206, 250); fill-opacity: 0.5; stroke: rgb(147, 112, 219); stroke-opacity: 1;\"/><path class=\"point\" transform=\"translate(420,282.23)\" d=\"M3,0A3,3 0 1,1 0,-3A3,3 0 0,1 3,0Z\" style=\"opacity: 1; stroke-width: 1px; fill: rgb(135, 206, 250); fill-opacity: 0.5; stroke: rgb(147, 112, 219); stroke-opacity: 1;\"/><path class=\"point\" transform=\"translate(180,274.53)\" d=\"M3,0A3,3 0 1,1 0,-3A3,3 0 0,1 3,0Z\" style=\"opacity: 1; stroke-width: 1px; fill: rgb(135, 206, 250); fill-opacity: 0.5; stroke: rgb(147, 112, 219); stroke-opacity: 1;\"/><path class=\"point\" transform=\"translate(120,283.79)\" d=\"M3,0A3,3 0 1,1 0,-3A3,3 0 0,1 3,0Z\" style=\"opacity: 1; stroke-width: 1px; fill: rgb(135, 206, 250); fill-opacity: 0.5; stroke: rgb(147, 112, 219); stroke-opacity: 1;\"/><path class=\"point\" transform=\"translate(120,214.74)\" d=\"M3,0A3,3 0 1,1 0,-3A3,3 0 0,1 3,0Z\" style=\"opacity: 1; stroke-width: 1px; fill: rgb(135, 206, 250); fill-opacity: 0.5; stroke: rgb(147, 112, 219); stroke-opacity: 1;\"/><path class=\"point\" transform=\"translate(60,67.37)\" d=\"M3,0A3,3 0 1,1 0,-3A3,3 0 0,1 3,0Z\" style=\"opacity: 1; stroke-width: 1px; fill: rgb(135, 206, 250); fill-opacity: 0.5; stroke: rgb(147, 112, 219); stroke-opacity: 1;\"/><path class=\"point\" transform=\"translate(60,168.42)\" d=\"M3,0A3,3 0 1,1 0,-3A3,3 0 0,1 3,0Z\" style=\"opacity: 1; stroke-width: 1px; fill: rgb(135, 206, 250); fill-opacity: 0.5; stroke: rgb(147, 112, 219); stroke-opacity: 1;\"/><path class=\"point\" transform=\"translate(60,320)\" d=\"M3,0A3,3 0 1,1 0,-3A3,3 0 0,1 3,0Z\" style=\"opacity: 1; stroke-width: 1px; fill: rgb(135, 206, 250); fill-opacity: 0.5; stroke: rgb(147, 112, 219); stroke-opacity: 1;\"/><path class=\"point\" transform=\"translate(60,210.53)\" d=\"M3,0A3,3 0 1,1 0,-3A3,3 0 0,1 3,0Z\" style=\"opacity: 1; stroke-width: 1px; fill: rgb(135, 206, 250); fill-opacity: 0.5; stroke: rgb(147, 112, 219); stroke-opacity: 1;\"/><path class=\"point\" transform=\"translate(300,260.38)\" d=\"M3,0A3,3 0 1,1 0,-3A3,3 0 0,1 3,0Z\" style=\"opacity: 1; stroke-width: 1px; fill: rgb(135, 206, 250); fill-opacity: 0.5; stroke: rgb(147, 112, 219); stroke-opacity: 1;\"/><path class=\"point\" transform=\"translate(60,320)\" d=\"M3,0A3,3 0 1,1 0,-3A3,3 0 0,1 3,0Z\" style=\"opacity: 1; stroke-width: 1px; fill: rgb(135, 206, 250); fill-opacity: 0.5; stroke: rgb(147, 112, 219); stroke-opacity: 1;\"/><path class=\"point\" transform=\"translate(120,320)\" d=\"M3,0A3,3 0 1,1 0,-3A3,3 0 0,1 3,0Z\" style=\"opacity: 1; stroke-width: 1px; fill: rgb(135, 206, 250); fill-opacity: 0.5; stroke: rgb(147, 112, 219); stroke-opacity: 1;\"/><path class=\"point\" transform=\"translate(240,208.42)\" d=\"M3,0A3,3 0 1,1 0,-3A3,3 0 0,1 3,0Z\" style=\"opacity: 1; stroke-width: 1px; fill: rgb(135, 206, 250); fill-opacity: 0.5; stroke: rgb(147, 112, 219); stroke-opacity: 1;\"/><path class=\"point\" transform=\"translate(60,303.16)\" d=\"M3,0A3,3 0 1,1 0,-3A3,3 0 0,1 3,0Z\" style=\"opacity: 1; stroke-width: 1px; fill: rgb(135, 206, 250); fill-opacity: 0.5; stroke: rgb(147, 112, 219); stroke-opacity: 1;\"/><path class=\"point\" transform=\"translate(120,256)\" d=\"M3,0A3,3 0 1,1 0,-3A3,3 0 0,1 3,0Z\" style=\"opacity: 1; stroke-width: 1px; fill: rgb(135, 206, 250); fill-opacity: 0.5; stroke: rgb(147, 112, 219); stroke-opacity: 1;\"/><path class=\"point\" transform=\"translate(60,261.05)\" d=\"M3,0A3,3 0 1,1 0,-3A3,3 0 0,1 3,0Z\" style=\"opacity: 1; stroke-width: 1px; fill: rgb(135, 206, 250); fill-opacity: 0.5; stroke: rgb(147, 112, 219); stroke-opacity: 1;\"/><path class=\"point\" transform=\"translate(60,286.32)\" d=\"M3,0A3,3 0 1,1 0,-3A3,3 0 0,1 3,0Z\" style=\"opacity: 1; stroke-width: 1px; fill: rgb(135, 206, 250); fill-opacity: 0.5; stroke: rgb(147, 112, 219); stroke-opacity: 1;\"/><path class=\"point\" transform=\"translate(240,279.16)\" d=\"M3,0A3,3 0 1,1 0,-3A3,3 0 0,1 3,0Z\" style=\"opacity: 1; stroke-width: 1px; fill: rgb(135, 206, 250); fill-opacity: 0.5; stroke: rgb(147, 112, 219); stroke-opacity: 1;\"/><path class=\"point\" transform=\"translate(60,309.89)\" d=\"M3,0A3,3 0 1,1 0,-3A3,3 0 0,1 3,0Z\" style=\"opacity: 1; stroke-width: 1px; fill: rgb(135, 206, 250); fill-opacity: 0.5; stroke: rgb(147, 112, 219); stroke-opacity: 1;\"/><path class=\"point\" transform=\"translate(1800,244.94)\" d=\"M3,0A3,3 0 1,1 0,-3A3,3 0 0,1 3,0Z\" style=\"opacity: 1; stroke-width: 1px; fill: rgb(135, 206, 250); fill-opacity: 0.5; stroke: rgb(147, 112, 219); stroke-opacity: 1;\"/><path class=\"point\" transform=\"translate(60,264.42)\" d=\"M3,0A3,3 0 1,1 0,-3A3,3 0 0,1 3,0Z\" style=\"opacity: 1; stroke-width: 1px; fill: rgb(135, 206, 250); fill-opacity: 0.5; stroke: rgb(147, 112, 219); stroke-opacity: 1;\"/><path class=\"point\" transform=\"translate(60,272.84)\" d=\"M3,0A3,3 0 1,1 0,-3A3,3 0 0,1 3,0Z\" style=\"opacity: 1; stroke-width: 1px; fill: rgb(135, 206, 250); fill-opacity: 0.5; stroke: rgb(147, 112, 219); stroke-opacity: 1;\"/><path class=\"point\" transform=\"translate(60,262.74)\" d=\"M3,0A3,3 0 1,1 0,-3A3,3 0 0,1 3,0Z\" style=\"opacity: 1; stroke-width: 1px; fill: rgb(135, 206, 250); fill-opacity: 0.5; stroke: rgb(147, 112, 219); stroke-opacity: 1;\"/><path class=\"point\" transform=\"translate(60,252.63)\" d=\"M3,0A3,3 0 1,1 0,-3A3,3 0 0,1 3,0Z\" style=\"opacity: 1; stroke-width: 1px; fill: rgb(135, 206, 250); fill-opacity: 0.5; stroke: rgb(147, 112, 219); stroke-opacity: 1;\"/><path class=\"point\" transform=\"translate(120,168.42)\" d=\"M3,0A3,3 0 1,1 0,-3A3,3 0 0,1 3,0Z\" style=\"opacity: 1; stroke-width: 1px; fill: rgb(135, 206, 250); fill-opacity: 0.5; stroke: rgb(147, 112, 219); stroke-opacity: 1;\"/><path class=\"point\" transform=\"translate(2040,290.77)\" d=\"M3,0A3,3 0 1,1 0,-3A3,3 0 0,1 3,0Z\" style=\"opacity: 1; stroke-width: 1px; fill: rgb(135, 206, 250); fill-opacity: 0.5; stroke: rgb(147, 112, 219); stroke-opacity: 1;\"/><path class=\"point\" transform=\"translate(180,269.47)\" d=\"M3,0A3,3 0 1,1 0,-3A3,3 0 0,1 3,0Z\" style=\"opacity: 1; stroke-width: 1px; fill: rgb(135, 206, 250); fill-opacity: 0.5; stroke: rgb(147, 112, 219); stroke-opacity: 1;\"/><path class=\"point\" transform=\"translate(60,151.58)\" d=\"M3,0A3,3 0 1,1 0,-3A3,3 0 0,1 3,0Z\" style=\"opacity: 1; stroke-width: 1px; fill: rgb(135, 206, 250); fill-opacity: 0.5; stroke: rgb(147, 112, 219); stroke-opacity: 1;\"/><path class=\"point\" transform=\"translate(120,254.32)\" d=\"M3,0A3,3 0 1,1 0,-3A3,3 0 0,1 3,0Z\" style=\"opacity: 1; stroke-width: 1px; fill: rgb(135, 206, 250); fill-opacity: 0.5; stroke: rgb(147, 112, 219); stroke-opacity: 1;\"/><path class=\"point\" transform=\"translate(60,244.21)\" d=\"M3,0A3,3 0 1,1 0,-3A3,3 0 0,1 3,0Z\" style=\"opacity: 1; stroke-width: 1px; fill: rgb(135, 206, 250); fill-opacity: 0.5; stroke: rgb(147, 112, 219); stroke-opacity: 1;\"/><path class=\"point\" transform=\"translate(60,235.79)\" d=\"M3,0A3,3 0 1,1 0,-3A3,3 0 0,1 3,0Z\" style=\"opacity: 1; stroke-width: 1px; fill: rgb(135, 206, 250); fill-opacity: 0.5; stroke: rgb(147, 112, 219); stroke-opacity: 1;\"/><path class=\"point\" transform=\"translate(60,168.42)\" d=\"M3,0A3,3 0 1,1 0,-3A3,3 0 0,1 3,0Z\" style=\"opacity: 1; stroke-width: 1px; fill: rgb(135, 206, 250); fill-opacity: 0.5; stroke: rgb(147, 112, 219); stroke-opacity: 1;\"/><path class=\"point\" transform=\"translate(60,286.32)\" d=\"M3,0A3,3 0 1,1 0,-3A3,3 0 0,1 3,0Z\" style=\"opacity: 1; stroke-width: 1px; fill: rgb(135, 206, 250); fill-opacity: 0.5; stroke: rgb(147, 112, 219); stroke-opacity: 1;\"/><path class=\"point\" transform=\"translate(180,276.21)\" d=\"M3,0A3,3 0 1,1 0,-3A3,3 0 0,1 3,0Z\" style=\"opacity: 1; stroke-width: 1px; fill: rgb(135, 206, 250); fill-opacity: 0.5; stroke: rgb(147, 112, 219); stroke-opacity: 1;\"/><path class=\"point\" transform=\"translate(60,320)\" d=\"M3,0A3,3 0 1,1 0,-3A3,3 0 0,1 3,0Z\" style=\"opacity: 1; stroke-width: 1px; fill: rgb(135, 206, 250); fill-opacity: 0.5; stroke: rgb(147, 112, 219); stroke-opacity: 1;\"/><path class=\"point\" transform=\"translate(120,299.79)\" d=\"M3,0A3,3 0 1,1 0,-3A3,3 0 0,1 3,0Z\" style=\"opacity: 1; stroke-width: 1px; fill: rgb(135, 206, 250); fill-opacity: 0.5; stroke: rgb(147, 112, 219); stroke-opacity: 1;\"/><path class=\"point\" transform=\"translate(60,252.63)\" d=\"M3,0A3,3 0 1,1 0,-3A3,3 0 0,1 3,0Z\" style=\"opacity: 1; stroke-width: 1px; fill: rgb(135, 206, 250); fill-opacity: 0.5; stroke: rgb(147, 112, 219); stroke-opacity: 1;\"/><path class=\"point\" transform=\"translate(120,246.74)\" d=\"M3,0A3,3 0 1,1 0,-3A3,3 0 0,1 3,0Z\" style=\"opacity: 1; stroke-width: 1px; fill: rgb(135, 206, 250); fill-opacity: 0.5; stroke: rgb(147, 112, 219); stroke-opacity: 1;\"/><path class=\"point\" transform=\"translate(60,286.32)\" d=\"M3,0A3,3 0 1,1 0,-3A3,3 0 0,1 3,0Z\" style=\"opacity: 1; stroke-width: 1px; fill: rgb(135, 206, 250); fill-opacity: 0.5; stroke: rgb(147, 112, 219); stroke-opacity: 1;\"/><path class=\"point\" transform=\"translate(60,286.32)\" d=\"M3,0A3,3 0 1,1 0,-3A3,3 0 0,1 3,0Z\" style=\"opacity: 1; stroke-width: 1px; fill: rgb(135, 206, 250); fill-opacity: 0.5; stroke: rgb(147, 112, 219); stroke-opacity: 1;\"/><path class=\"point\" transform=\"translate(60,239.16)\" d=\"M3,0A3,3 0 1,1 0,-3A3,3 0 0,1 3,0Z\" style=\"opacity: 1; stroke-width: 1px; fill: rgb(135, 206, 250); fill-opacity: 0.5; stroke: rgb(147, 112, 219); stroke-opacity: 1;\"/><path class=\"point\" transform=\"translate(60,67.37)\" d=\"M3,0A3,3 0 1,1 0,-3A3,3 0 0,1 3,0Z\" style=\"opacity: 1; stroke-width: 1px; fill: rgb(135, 206, 250); fill-opacity: 0.5; stroke: rgb(147, 112, 219); stroke-opacity: 1;\"/><path class=\"point\" transform=\"translate(300,294.74)\" d=\"M3,0A3,3 0 1,1 0,-3A3,3 0 0,1 3,0Z\" style=\"opacity: 1; stroke-width: 1px; fill: rgb(135, 206, 250); fill-opacity: 0.5; stroke: rgb(147, 112, 219); stroke-opacity: 1;\"/><path class=\"point\" transform=\"translate(120,320)\" d=\"M3,0A3,3 0 1,1 0,-3A3,3 0 0,1 3,0Z\" style=\"opacity: 1; stroke-width: 1px; fill: rgb(135, 206, 250); fill-opacity: 0.5; stroke: rgb(147, 112, 219); stroke-opacity: 1;\"/><path class=\"point\" transform=\"translate(120,316.63)\" d=\"M3,0A3,3 0 1,1 0,-3A3,3 0 0,1 3,0Z\" style=\"opacity: 1; stroke-width: 1px; fill: rgb(135, 206, 250); fill-opacity: 0.5; stroke: rgb(147, 112, 219); stroke-opacity: 1;\"/><path class=\"point\" transform=\"translate(60,306.53)\" d=\"M3,0A3,3 0 1,1 0,-3A3,3 0 0,1 3,0Z\" style=\"opacity: 1; stroke-width: 1px; fill: rgb(135, 206, 250); fill-opacity: 0.5; stroke: rgb(147, 112, 219); stroke-opacity: 1;\"/><path class=\"point\" transform=\"translate(60,303.16)\" d=\"M3,0A3,3 0 1,1 0,-3A3,3 0 0,1 3,0Z\" style=\"opacity: 1; stroke-width: 1px; fill: rgb(135, 206, 250); fill-opacity: 0.5; stroke: rgb(147, 112, 219); stroke-opacity: 1;\"/><path class=\"point\" transform=\"translate(240,130.95)\" d=\"M3,0A3,3 0 1,1 0,-3A3,3 0 0,1 3,0Z\" style=\"opacity: 1; stroke-width: 1px; fill: rgb(135, 206, 250); fill-opacity: 0.5; stroke: rgb(147, 112, 219); stroke-opacity: 1;\"/><path class=\"point\" transform=\"translate(60,286.32)\" d=\"M3,0A3,3 0 1,1 0,-3A3,3 0 0,1 3,0Z\" style=\"opacity: 1; stroke-width: 1px; fill: rgb(135, 206, 250); fill-opacity: 0.5; stroke: rgb(147, 112, 219); stroke-opacity: 1;\"/><path class=\"point\" transform=\"translate(420,300.27)\" d=\"M3,0A3,3 0 1,1 0,-3A3,3 0 0,1 3,0Z\" style=\"opacity: 1; stroke-width: 1px; fill: rgb(135, 206, 250); fill-opacity: 0.5; stroke: rgb(147, 112, 219); stroke-opacity: 1;\"/><path class=\"point\" transform=\"translate(360,185.26)\" d=\"M3,0A3,3 0 1,1 0,-3A3,3 0 0,1 3,0Z\" style=\"opacity: 1; stroke-width: 1px; fill: rgb(135, 206, 250); fill-opacity: 0.5; stroke: rgb(147, 112, 219); stroke-opacity: 1;\"/><path class=\"point\" transform=\"translate(900,255.21)\" d=\"M3,0A3,3 0 1,1 0,-3A3,3 0 0,1 3,0Z\" style=\"opacity: 1; stroke-width: 1px; fill: rgb(135, 206, 250); fill-opacity: 0.5; stroke: rgb(147, 112, 219); stroke-opacity: 1;\"/><path class=\"point\" transform=\"translate(60,252.63)\" d=\"M3,0A3,3 0 1,1 0,-3A3,3 0 0,1 3,0Z\" style=\"opacity: 1; stroke-width: 1px; fill: rgb(135, 206, 250); fill-opacity: 0.5; stroke: rgb(147, 112, 219); stroke-opacity: 1;\"/><path class=\"point\" transform=\"translate(60,320)\" d=\"M3,0A3,3 0 1,1 0,-3A3,3 0 0,1 3,0Z\" style=\"opacity: 1; stroke-width: 1px; fill: rgb(135, 206, 250); fill-opacity: 0.5; stroke: rgb(147, 112, 219); stroke-opacity: 1;\"/><path class=\"point\" transform=\"translate(1140,195.72)\" d=\"M3,0A3,3 0 1,1 0,-3A3,3 0 0,1 3,0Z\" style=\"opacity: 1; stroke-width: 1px; fill: rgb(135, 206, 250); fill-opacity: 0.5; stroke: rgb(147, 112, 219); stroke-opacity: 1;\"/><path class=\"point\" transform=\"translate(60,218.95)\" d=\"M3,0A3,3 0 1,1 0,-3A3,3 0 0,1 3,0Z\" style=\"opacity: 1; stroke-width: 1px; fill: rgb(135, 206, 250); fill-opacity: 0.5; stroke: rgb(147, 112, 219); stroke-opacity: 1;\"/><path class=\"point\" transform=\"translate(60,67.37)\" d=\"M3,0A3,3 0 1,1 0,-3A3,3 0 0,1 3,0Z\" style=\"opacity: 1; stroke-width: 1px; fill: rgb(135, 206, 250); fill-opacity: 0.5; stroke: rgb(147, 112, 219); stroke-opacity: 1;\"/><path class=\"point\" transform=\"translate(60,202.11)\" d=\"M3,0A3,3 0 1,1 0,-3A3,3 0 0,1 3,0Z\" style=\"opacity: 1; stroke-width: 1px; fill: rgb(135, 206, 250); fill-opacity: 0.5; stroke: rgb(147, 112, 219); stroke-opacity: 1;\"/><path class=\"point\" transform=\"translate(180,-115.65)\" d=\"M3,0A3,3 0 1,1 0,-3A3,3 0 0,1 3,0Z\" style=\"opacity: 1; stroke-width: 1px; fill: rgb(135, 206, 250); fill-opacity: 0.5; stroke: rgb(147, 112, 219); stroke-opacity: 1;\"/><path class=\"point\" transform=\"translate(60,320)\" d=\"M3,0A3,3 0 1,1 0,-3A3,3 0 0,1 3,0Z\" style=\"opacity: 1; stroke-width: 1px; fill: rgb(135, 206, 250); fill-opacity: 0.5; stroke: rgb(147, 112, 219); stroke-opacity: 1;\"/><path class=\"point\" transform=\"translate(60,309.89)\" d=\"M3,0A3,3 0 1,1 0,-3A3,3 0 0,1 3,0Z\" style=\"opacity: 1; stroke-width: 1px; fill: rgb(135, 206, 250); fill-opacity: 0.5; stroke: rgb(147, 112, 219); stroke-opacity: 1;\"/><path class=\"point\" transform=\"translate(60,254.32)\" d=\"M3,0A3,3 0 1,1 0,-3A3,3 0 0,1 3,0Z\" style=\"opacity: 1; stroke-width: 1px; fill: rgb(135, 206, 250); fill-opacity: 0.5; stroke: rgb(147, 112, 219); stroke-opacity: 1;\"/><path class=\"point\" transform=\"translate(60,311.58)\" d=\"M3,0A3,3 0 1,1 0,-3A3,3 0 0,1 3,0Z\" style=\"opacity: 1; stroke-width: 1px; fill: rgb(135, 206, 250); fill-opacity: 0.5; stroke: rgb(147, 112, 219); stroke-opacity: 1;\"/><path class=\"point\" transform=\"translate(60,210.53)\" d=\"M3,0A3,3 0 1,1 0,-3A3,3 0 0,1 3,0Z\" style=\"opacity: 1; stroke-width: 1px; fill: rgb(135, 206, 250); fill-opacity: 0.5; stroke: rgb(147, 112, 219); stroke-opacity: 1;\"/><path class=\"point\" transform=\"translate(60,247.58)\" d=\"M3,0A3,3 0 1,1 0,-3A3,3 0 0,1 3,0Z\" style=\"opacity: 1; stroke-width: 1px; fill: rgb(135, 206, 250); fill-opacity: 0.5; stroke: rgb(147, 112, 219); stroke-opacity: 1;\"/><path class=\"point\" transform=\"translate(60,244.21)\" d=\"M3,0A3,3 0 1,1 0,-3A3,3 0 0,1 3,0Z\" style=\"opacity: 1; stroke-width: 1px; fill: rgb(135, 206, 250); fill-opacity: 0.5; stroke: rgb(147, 112, 219); stroke-opacity: 1;\"/><path class=\"point\" transform=\"translate(120,163.37)\" d=\"M3,0A3,3 0 1,1 0,-3A3,3 0 0,1 3,0Z\" style=\"opacity: 1; stroke-width: 1px; fill: rgb(135, 206, 250); fill-opacity: 0.5; stroke: rgb(147, 112, 219); stroke-opacity: 1;\"/><path class=\"point\" transform=\"translate(60,277.89)\" d=\"M3,0A3,3 0 1,1 0,-3A3,3 0 0,1 3,0Z\" style=\"opacity: 1; stroke-width: 1px; fill: rgb(135, 206, 250); fill-opacity: 0.5; stroke: rgb(147, 112, 219); stroke-opacity: 1;\"/><path class=\"point\" transform=\"translate(120,282.11)\" d=\"M3,0A3,3 0 1,1 0,-3A3,3 0 0,1 3,0Z\" style=\"opacity: 1; stroke-width: 1px; fill: rgb(135, 206, 250); fill-opacity: 0.5; stroke: rgb(147, 112, 219); stroke-opacity: 1;\"/><path class=\"point\" transform=\"translate(720,301.05)\" d=\"M3,0A3,3 0 1,1 0,-3A3,3 0 0,1 3,0Z\" style=\"opacity: 1; stroke-width: 1px; fill: rgb(135, 206, 250); fill-opacity: 0.5; stroke: rgb(147, 112, 219); stroke-opacity: 1;\"/><path class=\"point\" transform=\"translate(60,261.05)\" d=\"M3,0A3,3 0 1,1 0,-3A3,3 0 0,1 3,0Z\" style=\"opacity: 1; stroke-width: 1px; fill: rgb(135, 206, 250); fill-opacity: 0.5; stroke: rgb(147, 112, 219); stroke-opacity: 1;\"/><path class=\"point\" transform=\"translate(120,289.68)\" d=\"M3,0A3,3 0 1,1 0,-3A3,3 0 0,1 3,0Z\" style=\"opacity: 1; stroke-width: 1px; fill: rgb(135, 206, 250); fill-opacity: 0.5; stroke: rgb(147, 112, 219); stroke-opacity: 1;\"/><path class=\"point\" transform=\"translate(60,318.32)\" d=\"M3,0A3,3 0 1,1 0,-3A3,3 0 0,1 3,0Z\" style=\"opacity: 1; stroke-width: 1px; fill: rgb(135, 206, 250); fill-opacity: 0.5; stroke: rgb(147, 112, 219); stroke-opacity: 1;\"/><path class=\"point\" transform=\"translate(60,168.42)\" d=\"M3,0A3,3 0 1,1 0,-3A3,3 0 0,1 3,0Z\" style=\"opacity: 1; stroke-width: 1px; fill: rgb(135, 206, 250); fill-opacity: 0.5; stroke: rgb(147, 112, 219); stroke-opacity: 1;\"/><path class=\"point\" transform=\"translate(60,185.26)\" d=\"M3,0A3,3 0 1,1 0,-3A3,3 0 0,1 3,0Z\" style=\"opacity: 1; stroke-width: 1px; fill: rgb(135, 206, 250); fill-opacity: 0.5; stroke: rgb(147, 112, 219); stroke-opacity: 1;\"/><path class=\"point\" transform=\"translate(60,185.26)\" d=\"M3,0A3,3 0 1,1 0,-3A3,3 0 0,1 3,0Z\" style=\"opacity: 1; stroke-width: 1px; fill: rgb(135, 206, 250); fill-opacity: 0.5; stroke: rgb(147, 112, 219); stroke-opacity: 1;\"/><path class=\"point\" transform=\"translate(180,289.68)\" d=\"M3,0A3,3 0 1,1 0,-3A3,3 0 0,1 3,0Z\" style=\"opacity: 1; stroke-width: 1px; fill: rgb(135, 206, 250); fill-opacity: 0.5; stroke: rgb(147, 112, 219); stroke-opacity: 1;\"/><path class=\"point\" transform=\"translate(60,303.16)\" d=\"M3,0A3,3 0 1,1 0,-3A3,3 0 0,1 3,0Z\" style=\"opacity: 1; stroke-width: 1px; fill: rgb(135, 206, 250); fill-opacity: 0.5; stroke: rgb(147, 112, 219); stroke-opacity: 1;\"/><path class=\"point\" transform=\"translate(120,227.37)\" d=\"M3,0A3,3 0 1,1 0,-3A3,3 0 0,1 3,0Z\" style=\"opacity: 1; stroke-width: 1px; fill: rgb(135, 206, 250); fill-opacity: 0.5; stroke: rgb(147, 112, 219); stroke-opacity: 1;\"/><path class=\"point\" transform=\"translate(60,235.79)\" d=\"M3,0A3,3 0 1,1 0,-3A3,3 0 0,1 3,0Z\" style=\"opacity: 1; stroke-width: 1px; fill: rgb(135, 206, 250); fill-opacity: 0.5; stroke: rgb(147, 112, 219); stroke-opacity: 1;\"/><path class=\"point\" transform=\"translate(540,271.35)\" d=\"M3,0A3,3 0 1,1 0,-3A3,3 0 0,1 3,0Z\" style=\"opacity: 1; stroke-width: 1px; fill: rgb(135, 206, 250); fill-opacity: 0.5; stroke: rgb(147, 112, 219); stroke-opacity: 1;\"/><path class=\"point\" transform=\"translate(60,239.16)\" d=\"M3,0A3,3 0 1,1 0,-3A3,3 0 0,1 3,0Z\" style=\"opacity: 1; stroke-width: 1px; fill: rgb(135, 206, 250); fill-opacity: 0.5; stroke: rgb(147, 112, 219); stroke-opacity: 1;\"/><path class=\"point\" transform=\"translate(60,0)\" d=\"M3,0A3,3 0 1,1 0,-3A3,3 0 0,1 3,0Z\" style=\"opacity: 1; stroke-width: 1px; fill: rgb(135, 206, 250); fill-opacity: 0.5; stroke: rgb(147, 112, 219); stroke-opacity: 1;\"/><path class=\"point\" transform=\"translate(480,259.37)\" d=\"M3,0A3,3 0 1,1 0,-3A3,3 0 0,1 3,0Z\" style=\"opacity: 1; stroke-width: 1px; fill: rgb(135, 206, 250); fill-opacity: 0.5; stroke: rgb(147, 112, 219); stroke-opacity: 1;\"/><path class=\"point\" transform=\"translate(8220,241.43)\" d=\"M3,0A3,3 0 1,1 0,-3A3,3 0 0,1 3,0Z\" style=\"opacity: 1; stroke-width: 1px; fill: rgb(135, 206, 250); fill-opacity: 0.5; stroke: rgb(147, 112, 219); stroke-opacity: 1;\"/><path class=\"point\" transform=\"translate(420,179.73)\" d=\"M3,0A3,3 0 1,1 0,-3A3,3 0 0,1 3,0Z\" style=\"opacity: 1; stroke-width: 1px; fill: rgb(135, 206, 250); fill-opacity: 0.5; stroke: rgb(147, 112, 219); stroke-opacity: 1;\"/><path class=\"point\" transform=\"translate(300,294.06)\" d=\"M3,0A3,3 0 1,1 0,-3A3,3 0 0,1 3,0Z\" style=\"opacity: 1; stroke-width: 1px; fill: rgb(135, 206, 250); fill-opacity: 0.5; stroke: rgb(147, 112, 219); stroke-opacity: 1;\"/><path class=\"point\" transform=\"translate(60,176.84)\" d=\"M3,0A3,3 0 1,1 0,-3A3,3 0 0,1 3,0Z\" style=\"opacity: 1; stroke-width: 1px; fill: rgb(135, 206, 250); fill-opacity: 0.5; stroke: rgb(147, 112, 219); stroke-opacity: 1;\"/><path class=\"point\" transform=\"translate(60,242.53)\" d=\"M3,0A3,3 0 1,1 0,-3A3,3 0 0,1 3,0Z\" style=\"opacity: 1; stroke-width: 1px; fill: rgb(135, 206, 250); fill-opacity: 0.5; stroke: rgb(147, 112, 219); stroke-opacity: 1;\"/><path class=\"point\" transform=\"translate(60,252.63)\" d=\"M3,0A3,3 0 1,1 0,-3A3,3 0 0,1 3,0Z\" style=\"opacity: 1; stroke-width: 1px; fill: rgb(135, 206, 250); fill-opacity: 0.5; stroke: rgb(147, 112, 219); stroke-opacity: 1;\"/><path class=\"point\" transform=\"translate(660,190.01)\" d=\"M3,0A3,3 0 1,1 0,-3A3,3 0 0,1 3,0Z\" style=\"opacity: 1; stroke-width: 1px; fill: rgb(135, 206, 250); fill-opacity: 0.5; stroke: rgb(147, 112, 219); stroke-opacity: 1;\"/><path class=\"point\" transform=\"translate(60,294.74)\" d=\"M3,0A3,3 0 1,1 0,-3A3,3 0 0,1 3,0Z\" style=\"opacity: 1; stroke-width: 1px; fill: rgb(135, 206, 250); fill-opacity: 0.5; stroke: rgb(147, 112, 219); stroke-opacity: 1;\"/><path class=\"point\" transform=\"translate(600,195.2)\" d=\"M3,0A3,3 0 1,1 0,-3A3,3 0 0,1 3,0Z\" style=\"opacity: 1; stroke-width: 1px; fill: rgb(135, 206, 250); fill-opacity: 0.5; stroke: rgb(147, 112, 219); stroke-opacity: 1;\"/><path class=\"point\" transform=\"translate(60,320)\" d=\"M3,0A3,3 0 1,1 0,-3A3,3 0 0,1 3,0Z\" style=\"opacity: 1; stroke-width: 1px; fill: rgb(135, 206, 250); fill-opacity: 0.5; stroke: rgb(147, 112, 219); stroke-opacity: 1;\"/><path class=\"point\" transform=\"translate(60,158.32)\" d=\"M3,0A3,3 0 1,1 0,-3A3,3 0 0,1 3,0Z\" style=\"opacity: 1; stroke-width: 1px; fill: rgb(135, 206, 250); fill-opacity: 0.5; stroke: rgb(147, 112, 219); stroke-opacity: 1;\"/><path class=\"point\" transform=\"translate(120,155.79)\" d=\"M3,0A3,3 0 1,1 0,-3A3,3 0 0,1 3,0Z\" style=\"opacity: 1; stroke-width: 1px; fill: rgb(135, 206, 250); fill-opacity: 0.5; stroke: rgb(147, 112, 219); stroke-opacity: 1;\"/><path class=\"point\" transform=\"translate(60,249.26)\" d=\"M3,0A3,3 0 1,1 0,-3A3,3 0 0,1 3,0Z\" style=\"opacity: 1; stroke-width: 1px; fill: rgb(135, 206, 250); fill-opacity: 0.5; stroke: rgb(147, 112, 219); stroke-opacity: 1;\"/><path class=\"point\" transform=\"translate(60,154.95)\" d=\"M3,0A3,3 0 1,1 0,-3A3,3 0 0,1 3,0Z\" style=\"opacity: 1; stroke-width: 1px; fill: rgb(135, 206, 250); fill-opacity: 0.5; stroke: rgb(147, 112, 219); stroke-opacity: 1;\"/><path class=\"point\" transform=\"translate(120,277.89)\" d=\"M3,0A3,3 0 1,1 0,-3A3,3 0 0,1 3,0Z\" style=\"opacity: 1; stroke-width: 1px; fill: rgb(135, 206, 250); fill-opacity: 0.5; stroke: rgb(147, 112, 219); stroke-opacity: 1;\"/><path class=\"point\" transform=\"translate(540,277.15)\" d=\"M3,0A3,3 0 1,1 0,-3A3,3 0 0,1 3,0Z\" style=\"opacity: 1; stroke-width: 1px; fill: rgb(135, 206, 250); fill-opacity: 0.5; stroke: rgb(147, 112, 219); stroke-opacity: 1;\"/><path class=\"point\" transform=\"translate(720,290.39)\" d=\"M3,0A3,3 0 1,1 0,-3A3,3 0 0,1 3,0Z\" style=\"opacity: 1; stroke-width: 1px; fill: rgb(135, 206, 250); fill-opacity: 0.5; stroke: rgb(147, 112, 219); stroke-opacity: 1;\"/><path class=\"point\" transform=\"translate(60,235.79)\" d=\"M3,0A3,3 0 1,1 0,-3A3,3 0 0,1 3,0Z\" style=\"opacity: 1; stroke-width: 1px; fill: rgb(135, 206, 250); fill-opacity: 0.5; stroke: rgb(147, 112, 219); stroke-opacity: 1;\"/><path class=\"point\" transform=\"translate(360,231.3)\" d=\"M3,0A3,3 0 1,1 0,-3A3,3 0 0,1 3,0Z\" style=\"opacity: 1; stroke-width: 1px; fill: rgb(135, 206, 250); fill-opacity: 0.5; stroke: rgb(147, 112, 219); stroke-opacity: 1;\"/><path class=\"point\" transform=\"translate(60,291.37)\" d=\"M3,0A3,3 0 1,1 0,-3A3,3 0 0,1 3,0Z\" style=\"opacity: 1; stroke-width: 1px; fill: rgb(135, 206, 250); fill-opacity: 0.5; stroke: rgb(147, 112, 219); stroke-opacity: 1;\"/><path class=\"point\" transform=\"translate(360,179.65)\" d=\"M3,0A3,3 0 1,1 0,-3A3,3 0 0,1 3,0Z\" style=\"opacity: 1; stroke-width: 1px; fill: rgb(135, 206, 250); fill-opacity: 0.5; stroke: rgb(147, 112, 219); stroke-opacity: 1;\"/><path class=\"point\" transform=\"translate(60,117.89)\" d=\"M3,0A3,3 0 1,1 0,-3A3,3 0 0,1 3,0Z\" style=\"opacity: 1; stroke-width: 1px; fill: rgb(135, 206, 250); fill-opacity: 0.5; stroke: rgb(147, 112, 219); stroke-opacity: 1;\"/><path class=\"point\" transform=\"translate(60,77.47)\" d=\"M3,0A3,3 0 1,1 0,-3A3,3 0 0,1 3,0Z\" style=\"opacity: 1; stroke-width: 1px; fill: rgb(135, 206, 250); fill-opacity: 0.5; stroke: rgb(147, 112, 219); stroke-opacity: 1;\"/><path class=\"point\" transform=\"translate(60,79.16)\" d=\"M3,0A3,3 0 1,1 0,-3A3,3 0 0,1 3,0Z\" style=\"opacity: 1; stroke-width: 1px; fill: rgb(135, 206, 250); fill-opacity: 0.5; stroke: rgb(147, 112, 219); stroke-opacity: 1;\"/><path class=\"point\" transform=\"translate(60,311.58)\" d=\"M3,0A3,3 0 1,1 0,-3A3,3 0 0,1 3,0Z\" style=\"opacity: 1; stroke-width: 1px; fill: rgb(135, 206, 250); fill-opacity: 0.5; stroke: rgb(147, 112, 219); stroke-opacity: 1;\"/><path class=\"point\" transform=\"translate(60,210.53)\" d=\"M3,0A3,3 0 1,1 0,-3A3,3 0 0,1 3,0Z\" style=\"opacity: 1; stroke-width: 1px; fill: rgb(135, 206, 250); fill-opacity: 0.5; stroke: rgb(147, 112, 219); stroke-opacity: 1;\"/><path class=\"point\" transform=\"translate(60,320)\" d=\"M3,0A3,3 0 1,1 0,-3A3,3 0 0,1 3,0Z\" style=\"opacity: 1; stroke-width: 1px; fill: rgb(135, 206, 250); fill-opacity: 0.5; stroke: rgb(147, 112, 219); stroke-opacity: 1;\"/><path class=\"point\" transform=\"translate(600,67.37)\" d=\"M3,0A3,3 0 1,1 0,-3A3,3 0 0,1 3,0Z\" style=\"opacity: 1; stroke-width: 1px; fill: rgb(135, 206, 250); fill-opacity: 0.5; stroke: rgb(147, 112, 219); stroke-opacity: 1;\"/><path class=\"point\" transform=\"translate(60,259.37)\" d=\"M3,0A3,3 0 1,1 0,-3A3,3 0 0,1 3,0Z\" style=\"opacity: 1; stroke-width: 1px; fill: rgb(135, 206, 250); fill-opacity: 0.5; stroke: rgb(147, 112, 219); stroke-opacity: 1;\"/><path class=\"point\" transform=\"translate(60,168.42)\" d=\"M3,0A3,3 0 1,1 0,-3A3,3 0 0,1 3,0Z\" style=\"opacity: 1; stroke-width: 1px; fill: rgb(135, 206, 250); fill-opacity: 0.5; stroke: rgb(147, 112, 219); stroke-opacity: 1;\"/><path class=\"point\" transform=\"translate(60,299.79)\" d=\"M3,0A3,3 0 1,1 0,-3A3,3 0 0,1 3,0Z\" style=\"opacity: 1; stroke-width: 1px; fill: rgb(135, 206, 250); fill-opacity: 0.5; stroke: rgb(147, 112, 219); stroke-opacity: 1;\"/><path class=\"point\" transform=\"translate(240,92.63)\" d=\"M3,0A3,3 0 1,1 0,-3A3,3 0 0,1 3,0Z\" style=\"opacity: 1; stroke-width: 1px; fill: rgb(135, 206, 250); fill-opacity: 0.5; stroke: rgb(147, 112, 219); stroke-opacity: 1;\"/><path class=\"point\" transform=\"translate(60,117.89)\" d=\"M3,0A3,3 0 1,1 0,-3A3,3 0 0,1 3,0Z\" style=\"opacity: 1; stroke-width: 1px; fill: rgb(135, 206, 250); fill-opacity: 0.5; stroke: rgb(147, 112, 219); stroke-opacity: 1;\"/><path class=\"point\" transform=\"translate(240,115.37)\" d=\"M3,0A3,3 0 1,1 0,-3A3,3 0 0,1 3,0Z\" style=\"opacity: 1; stroke-width: 1px; fill: rgb(135, 206, 250); fill-opacity: 0.5; stroke: rgb(147, 112, 219); stroke-opacity: 1;\"/><path class=\"point\" transform=\"translate(60,154.95)\" d=\"M3,0A3,3 0 1,1 0,-3A3,3 0 0,1 3,0Z\" style=\"opacity: 1; stroke-width: 1px; fill: rgb(135, 206, 250); fill-opacity: 0.5; stroke: rgb(147, 112, 219); stroke-opacity: 1;\"/><path class=\"point\" transform=\"translate(180,104.98)\" d=\"M3,0A3,3 0 1,1 0,-3A3,3 0 0,1 3,0Z\" style=\"opacity: 1; stroke-width: 1px; fill: rgb(135, 206, 250); fill-opacity: 0.5; stroke: rgb(147, 112, 219); stroke-opacity: 1;\"/><path class=\"point\" transform=\"translate(60,185.26)\" d=\"M3,0A3,3 0 1,1 0,-3A3,3 0 0,1 3,0Z\" style=\"opacity: 1; stroke-width: 1px; fill: rgb(135, 206, 250); fill-opacity: 0.5; stroke: rgb(147, 112, 219); stroke-opacity: 1;\"/><path class=\"point\" transform=\"translate(360,290.53)\" d=\"M3,0A3,3 0 1,1 0,-3A3,3 0 0,1 3,0Z\" style=\"opacity: 1; stroke-width: 1px; fill: rgb(135, 206, 250); fill-opacity: 0.5; stroke: rgb(147, 112, 219); stroke-opacity: 1;\"/><path class=\"point\" transform=\"translate(60,252.63)\" d=\"M3,0A3,3 0 1,1 0,-3A3,3 0 0,1 3,0Z\" style=\"opacity: 1; stroke-width: 1px; fill: rgb(135, 206, 250); fill-opacity: 0.5; stroke: rgb(147, 112, 219); stroke-opacity: 1;\"/><path class=\"point\" transform=\"translate(300,275.2)\" d=\"M3,0A3,3 0 1,1 0,-3A3,3 0 0,1 3,0Z\" style=\"opacity: 1; stroke-width: 1px; fill: rgb(135, 206, 250); fill-opacity: 0.5; stroke: rgb(147, 112, 219); stroke-opacity: 1;\"/><path class=\"point\" transform=\"translate(360,133.61)\" d=\"M3,0A3,3 0 1,1 0,-3A3,3 0 0,1 3,0Z\" style=\"opacity: 1; stroke-width: 1px; fill: rgb(135, 206, 250); fill-opacity: 0.5; stroke: rgb(147, 112, 219); stroke-opacity: 1;\"/><path class=\"point\" transform=\"translate(180,162.81)\" d=\"M3,0A3,3 0 1,1 0,-3A3,3 0 0,1 3,0Z\" style=\"opacity: 1; stroke-width: 1px; fill: rgb(135, 206, 250); fill-opacity: 0.5; stroke: rgb(147, 112, 219); stroke-opacity: 1;\"/><path class=\"point\" transform=\"translate(60,250.95)\" d=\"M3,0A3,3 0 1,1 0,-3A3,3 0 0,1 3,0Z\" style=\"opacity: 1; stroke-width: 1px; fill: rgb(135, 206, 250); fill-opacity: 0.5; stroke: rgb(147, 112, 219); stroke-opacity: 1;\"/><path class=\"point\" transform=\"translate(60,244.21)\" d=\"M3,0A3,3 0 1,1 0,-3A3,3 0 0,1 3,0Z\" style=\"opacity: 1; stroke-width: 1px; fill: rgb(135, 206, 250); fill-opacity: 0.5; stroke: rgb(147, 112, 219); stroke-opacity: 1;\"/><path class=\"point\" transform=\"translate(60,185.26)\" d=\"M3,0A3,3 0 1,1 0,-3A3,3 0 0,1 3,0Z\" style=\"opacity: 1; stroke-width: 1px; fill: rgb(135, 206, 250); fill-opacity: 0.5; stroke: rgb(147, 112, 219); stroke-opacity: 1;\"/><path class=\"point\" transform=\"translate(420,255.76)\" d=\"M3,0A3,3 0 1,1 0,-3A3,3 0 0,1 3,0Z\" style=\"opacity: 1; stroke-width: 1px; fill: rgb(135, 206, 250); fill-opacity: 0.5; stroke: rgb(147, 112, 219); stroke-opacity: 1;\"/><path class=\"point\" transform=\"translate(600,125.64)\" d=\"M3,0A3,3 0 1,1 0,-3A3,3 0 0,1 3,0Z\" style=\"opacity: 1; stroke-width: 1px; fill: rgb(135, 206, 250); fill-opacity: 0.5; stroke: rgb(147, 112, 219); stroke-opacity: 1;\"/><path class=\"point\" transform=\"translate(60,308.21)\" d=\"M3,0A3,3 0 1,1 0,-3A3,3 0 0,1 3,0Z\" style=\"opacity: 1; stroke-width: 1px; fill: rgb(135, 206, 250); fill-opacity: 0.5; stroke: rgb(147, 112, 219); stroke-opacity: 1;\"/><path class=\"point\" transform=\"translate(2940,265.18)\" d=\"M3,0A3,3 0 1,1 0,-3A3,3 0 0,1 3,0Z\" style=\"opacity: 1; stroke-width: 1px; fill: rgb(135, 206, 250); fill-opacity: 0.5; stroke: rgb(147, 112, 219); stroke-opacity: 1;\"/><path class=\"point\" transform=\"translate(60,202.11)\" d=\"M3,0A3,3 0 1,1 0,-3A3,3 0 0,1 3,0Z\" style=\"opacity: 1; stroke-width: 1px; fill: rgb(135, 206, 250); fill-opacity: 0.5; stroke: rgb(147, 112, 219); stroke-opacity: 1;\"/><path class=\"point\" transform=\"translate(5400,289.1)\" d=\"M3,0A3,3 0 1,1 0,-3A3,3 0 0,1 3,0Z\" style=\"opacity: 1; stroke-width: 1px; fill: rgb(135, 206, 250); fill-opacity: 0.5; stroke: rgb(147, 112, 219); stroke-opacity: 1;\"/><path class=\"point\" transform=\"translate(60,313.26)\" d=\"M3,0A3,3 0 1,1 0,-3A3,3 0 0,1 3,0Z\" style=\"opacity: 1; stroke-width: 1px; fill: rgb(135, 206, 250); fill-opacity: 0.5; stroke: rgb(147, 112, 219); stroke-opacity: 1;\"/><path class=\"point\" transform=\"translate(120,202.11)\" d=\"M3,0A3,3 0 1,1 0,-3A3,3 0 0,1 3,0Z\" style=\"opacity: 1; stroke-width: 1px; fill: rgb(135, 206, 250); fill-opacity: 0.5; stroke: rgb(147, 112, 219); stroke-opacity: 1;\"/><path class=\"point\" transform=\"translate(120,134.74)\" d=\"M3,0A3,3 0 1,1 0,-3A3,3 0 0,1 3,0Z\" style=\"opacity: 1; stroke-width: 1px; fill: rgb(135, 206, 250); fill-opacity: 0.5; stroke: rgb(147, 112, 219); stroke-opacity: 1;\"/><path class=\"point\" transform=\"translate(120,112.84)\" d=\"M3,0A3,3 0 1,1 0,-3A3,3 0 0,1 3,0Z\" style=\"opacity: 1; stroke-width: 1px; fill: rgb(135, 206, 250); fill-opacity: 0.5; stroke: rgb(147, 112, 219); stroke-opacity: 1;\"/><path class=\"point\" transform=\"translate(300,206.15)\" d=\"M3,0A3,3 0 1,1 0,-3A3,3 0 0,1 3,0Z\" style=\"opacity: 1; stroke-width: 1px; fill: rgb(135, 206, 250); fill-opacity: 0.5; stroke: rgb(147, 112, 219); stroke-opacity: 1;\"/><path class=\"point\" transform=\"translate(120,154.95)\" d=\"M3,0A3,3 0 1,1 0,-3A3,3 0 0,1 3,0Z\" style=\"opacity: 1; stroke-width: 1px; fill: rgb(135, 206, 250); fill-opacity: 0.5; stroke: rgb(147, 112, 219); stroke-opacity: 1;\"/><path class=\"point\" transform=\"translate(60,252.63)\" d=\"M3,0A3,3 0 1,1 0,-3A3,3 0 0,1 3,0Z\" style=\"opacity: 1; stroke-width: 1px; fill: rgb(135, 206, 250); fill-opacity: 0.5; stroke: rgb(147, 112, 219); stroke-opacity: 1;\"/><path class=\"point\" transform=\"translate(60,303.16)\" d=\"M3,0A3,3 0 1,1 0,-3A3,3 0 0,1 3,0Z\" style=\"opacity: 1; stroke-width: 1px; fill: rgb(135, 206, 250); fill-opacity: 0.5; stroke: rgb(147, 112, 219); stroke-opacity: 1;\"/><path class=\"point\" transform=\"translate(60,316.63)\" d=\"M3,0A3,3 0 1,1 0,-3A3,3 0 0,1 3,0Z\" style=\"opacity: 1; stroke-width: 1px; fill: rgb(135, 206, 250); fill-opacity: 0.5; stroke: rgb(147, 112, 219); stroke-opacity: 1;\"/><path class=\"point\" transform=\"translate(120,286.32)\" d=\"M3,0A3,3 0 1,1 0,-3A3,3 0 0,1 3,0Z\" style=\"opacity: 1; stroke-width: 1px; fill: rgb(135, 206, 250); fill-opacity: 0.5; stroke: rgb(147, 112, 219); stroke-opacity: 1;\"/><path class=\"point\" transform=\"translate(60,303.16)\" d=\"M3,0A3,3 0 1,1 0,-3A3,3 0 0,1 3,0Z\" style=\"opacity: 1; stroke-width: 1px; fill: rgb(135, 206, 250); fill-opacity: 0.5; stroke: rgb(147, 112, 219); stroke-opacity: 1;\"/><path class=\"point\" transform=\"translate(60,286.32)\" d=\"M3,0A3,3 0 1,1 0,-3A3,3 0 0,1 3,0Z\" style=\"opacity: 1; stroke-width: 1px; fill: rgb(135, 206, 250); fill-opacity: 0.5; stroke: rgb(147, 112, 219); stroke-opacity: 1;\"/><path class=\"point\" transform=\"translate(60,320)\" d=\"M3,0A3,3 0 1,1 0,-3A3,3 0 0,1 3,0Z\" style=\"opacity: 1; stroke-width: 1px; fill: rgb(135, 206, 250); fill-opacity: 0.5; stroke: rgb(147, 112, 219); stroke-opacity: 1;\"/><path class=\"point\" transform=\"translate(60,320)\" d=\"M3,0A3,3 0 1,1 0,-3A3,3 0 0,1 3,0Z\" style=\"opacity: 1; stroke-width: 1px; fill: rgb(135, 206, 250); fill-opacity: 0.5; stroke: rgb(147, 112, 219); stroke-opacity: 1;\"/><path class=\"point\" transform=\"translate(60,303.16)\" d=\"M3,0A3,3 0 1,1 0,-3A3,3 0 0,1 3,0Z\" style=\"opacity: 1; stroke-width: 1px; fill: rgb(135, 206, 250); fill-opacity: 0.5; stroke: rgb(147, 112, 219); stroke-opacity: 1;\"/><path class=\"point\" transform=\"translate(120,198.74)\" d=\"M3,0A3,3 0 1,1 0,-3A3,3 0 0,1 3,0Z\" style=\"opacity: 1; stroke-width: 1px; fill: rgb(135, 206, 250); fill-opacity: 0.5; stroke: rgb(147, 112, 219); stroke-opacity: 1;\"/><path class=\"point\" transform=\"translate(240,63.58)\" d=\"M3,0A3,3 0 1,1 0,-3A3,3 0 0,1 3,0Z\" style=\"opacity: 1; stroke-width: 1px; fill: rgb(135, 206, 250); fill-opacity: 0.5; stroke: rgb(147, 112, 219); stroke-opacity: 1;\"/><path class=\"point\" transform=\"translate(60,218.95)\" d=\"M3,0A3,3 0 1,1 0,-3A3,3 0 0,1 3,0Z\" style=\"opacity: 1; stroke-width: 1px; fill: rgb(135, 206, 250); fill-opacity: 0.5; stroke: rgb(147, 112, 219); stroke-opacity: 1;\"/><path class=\"point\" transform=\"translate(120,290.53)\" d=\"M3,0A3,3 0 1,1 0,-3A3,3 0 0,1 3,0Z\" style=\"opacity: 1; stroke-width: 1px; fill: rgb(135, 206, 250); fill-opacity: 0.5; stroke: rgb(147, 112, 219); stroke-opacity: 1;\"/><path class=\"point\" transform=\"translate(60,261.05)\" d=\"M3,0A3,3 0 1,1 0,-3A3,3 0 0,1 3,0Z\" style=\"opacity: 1; stroke-width: 1px; fill: rgb(135, 206, 250); fill-opacity: 0.5; stroke: rgb(147, 112, 219); stroke-opacity: 1;\"/><path class=\"point\" transform=\"translate(1500,116.08)\" d=\"M3,0A3,3 0 1,1 0,-3A3,3 0 0,1 3,0Z\" style=\"opacity: 1; stroke-width: 1px; fill: rgb(135, 206, 250); fill-opacity: 0.5; stroke: rgb(147, 112, 219); stroke-opacity: 1;\"/><path class=\"point\" transform=\"translate(540,141.47)\" d=\"M3,0A3,3 0 1,1 0,-3A3,3 0 0,1 3,0Z\" style=\"opacity: 1; stroke-width: 1px; fill: rgb(135, 206, 250); fill-opacity: 0.5; stroke: rgb(147, 112, 219); stroke-opacity: 1;\"/><path class=\"point\" transform=\"translate(120,153.26)\" d=\"M3,0A3,3 0 1,1 0,-3A3,3 0 0,1 3,0Z\" style=\"opacity: 1; stroke-width: 1px; fill: rgb(135, 206, 250); fill-opacity: 0.5; stroke: rgb(147, 112, 219); stroke-opacity: 1;\"/><path class=\"point\" transform=\"translate(180,131.93)\" d=\"M3,0A3,3 0 1,1 0,-3A3,3 0 0,1 3,0Z\" style=\"opacity: 1; stroke-width: 1px; fill: rgb(135, 206, 250); fill-opacity: 0.5; stroke: rgb(147, 112, 219); stroke-opacity: 1;\"/><path class=\"point\" transform=\"translate(120,161.68)\" d=\"M3,0A3,3 0 1,1 0,-3A3,3 0 0,1 3,0Z\" style=\"opacity: 1; stroke-width: 1px; fill: rgb(135, 206, 250); fill-opacity: 0.5; stroke: rgb(147, 112, 219); stroke-opacity: 1;\"/><path class=\"point\" transform=\"translate(120,161.68)\" d=\"M3,0A3,3 0 1,1 0,-3A3,3 0 0,1 3,0Z\" style=\"opacity: 1; stroke-width: 1px; fill: rgb(135, 206, 250); fill-opacity: 0.5; stroke: rgb(147, 112, 219); stroke-opacity: 1;\"/><path class=\"point\" transform=\"translate(180,191.44)\" d=\"M3,0A3,3 0 1,1 0,-3A3,3 0 0,1 3,0Z\" style=\"opacity: 1; stroke-width: 1px; fill: rgb(135, 206, 250); fill-opacity: 0.5; stroke: rgb(147, 112, 219); stroke-opacity: 1;\"/><path class=\"point\" transform=\"translate(60,266.11)\" d=\"M3,0A3,3 0 1,1 0,-3A3,3 0 0,1 3,0Z\" style=\"opacity: 1; stroke-width: 1px; fill: rgb(135, 206, 250); fill-opacity: 0.5; stroke: rgb(147, 112, 219); stroke-opacity: 1;\"/><path class=\"point\" transform=\"translate(60,244.21)\" d=\"M3,0A3,3 0 1,1 0,-3A3,3 0 0,1 3,0Z\" style=\"opacity: 1; stroke-width: 1px; fill: rgb(135, 206, 250); fill-opacity: 0.5; stroke: rgb(147, 112, 219); stroke-opacity: 1;\"/><path class=\"point\" transform=\"translate(60,218.95)\" d=\"M3,0A3,3 0 1,1 0,-3A3,3 0 0,1 3,0Z\" style=\"opacity: 1; stroke-width: 1px; fill: rgb(135, 206, 250); fill-opacity: 0.5; stroke: rgb(147, 112, 219); stroke-opacity: 1;\"/><path class=\"point\" transform=\"translate(60,282.95)\" d=\"M3,0A3,3 0 1,1 0,-3A3,3 0 0,1 3,0Z\" style=\"opacity: 1; stroke-width: 1px; fill: rgb(135, 206, 250); fill-opacity: 0.5; stroke: rgb(147, 112, 219); stroke-opacity: 1;\"/><path class=\"point\" transform=\"translate(60,269.47)\" d=\"M3,0A3,3 0 1,1 0,-3A3,3 0 0,1 3,0Z\" style=\"opacity: 1; stroke-width: 1px; fill: rgb(135, 206, 250); fill-opacity: 0.5; stroke: rgb(147, 112, 219); stroke-opacity: 1;\"/><path class=\"point\" transform=\"translate(60,252.63)\" d=\"M3,0A3,3 0 1,1 0,-3A3,3 0 0,1 3,0Z\" style=\"opacity: 1; stroke-width: 1px; fill: rgb(135, 206, 250); fill-opacity: 0.5; stroke: rgb(147, 112, 219); stroke-opacity: 1;\"/><path class=\"point\" transform=\"translate(60,252.63)\" d=\"M3,0A3,3 0 1,1 0,-3A3,3 0 0,1 3,0Z\" style=\"opacity: 1; stroke-width: 1px; fill: rgb(135, 206, 250); fill-opacity: 0.5; stroke: rgb(147, 112, 219); stroke-opacity: 1;\"/><path class=\"point\" transform=\"translate(60,304.84)\" d=\"M3,0A3,3 0 1,1 0,-3A3,3 0 0,1 3,0Z\" style=\"opacity: 1; stroke-width: 1px; fill: rgb(135, 206, 250); fill-opacity: 0.5; stroke: rgb(147, 112, 219); stroke-opacity: 1;\"/><path class=\"point\" transform=\"translate(60,252.63)\" d=\"M3,0A3,3 0 1,1 0,-3A3,3 0 0,1 3,0Z\" style=\"opacity: 1; stroke-width: 1px; fill: rgb(135, 206, 250); fill-opacity: 0.5; stroke: rgb(147, 112, 219); stroke-opacity: 1;\"/><path class=\"point\" transform=\"translate(60,281.26)\" d=\"M3,0A3,3 0 1,1 0,-3A3,3 0 0,1 3,0Z\" style=\"opacity: 1; stroke-width: 1px; fill: rgb(135, 206, 250); fill-opacity: 0.5; stroke: rgb(147, 112, 219); stroke-opacity: 1;\"/><path class=\"point\" transform=\"translate(60,299.79)\" d=\"M3,0A3,3 0 1,1 0,-3A3,3 0 0,1 3,0Z\" style=\"opacity: 1; stroke-width: 1px; fill: rgb(135, 206, 250); fill-opacity: 0.5; stroke: rgb(147, 112, 219); stroke-opacity: 1;\"/><path class=\"point\" transform=\"translate(60,288)\" d=\"M3,0A3,3 0 1,1 0,-3A3,3 0 0,1 3,0Z\" style=\"opacity: 1; stroke-width: 1px; fill: rgb(135, 206, 250); fill-opacity: 0.5; stroke: rgb(147, 112, 219); stroke-opacity: 1;\"/><path class=\"point\" transform=\"translate(120,285.47)\" d=\"M3,0A3,3 0 1,1 0,-3A3,3 0 0,1 3,0Z\" style=\"opacity: 1; stroke-width: 1px; fill: rgb(135, 206, 250); fill-opacity: 0.5; stroke: rgb(147, 112, 219); stroke-opacity: 1;\"/><path class=\"point\" transform=\"translate(660,226.91)\" d=\"M3,0A3,3 0 1,1 0,-3A3,3 0 0,1 3,0Z\" style=\"opacity: 1; stroke-width: 1px; fill: rgb(135, 206, 250); fill-opacity: 0.5; stroke: rgb(147, 112, 219); stroke-opacity: 1;\"/><path class=\"point\" transform=\"translate(60,316.63)\" d=\"M3,0A3,3 0 1,1 0,-3A3,3 0 0,1 3,0Z\" style=\"opacity: 1; stroke-width: 1px; fill: rgb(135, 206, 250); fill-opacity: 0.5; stroke: rgb(147, 112, 219); stroke-opacity: 1;\"/><path class=\"point\" transform=\"translate(120,276.21)\" d=\"M3,0A3,3 0 1,1 0,-3A3,3 0 0,1 3,0Z\" style=\"opacity: 1; stroke-width: 1px; fill: rgb(135, 206, 250); fill-opacity: 0.5; stroke: rgb(147, 112, 219); stroke-opacity: 1;\"/><path class=\"point\" transform=\"translate(60,252.63)\" d=\"M3,0A3,3 0 1,1 0,-3A3,3 0 0,1 3,0Z\" style=\"opacity: 1; stroke-width: 1px; fill: rgb(135, 206, 250); fill-opacity: 0.5; stroke: rgb(147, 112, 219); stroke-opacity: 1;\"/><path class=\"point\" transform=\"translate(180,267.79)\" d=\"M3,0A3,3 0 1,1 0,-3A3,3 0 0,1 3,0Z\" style=\"opacity: 1; stroke-width: 1px; fill: rgb(135, 206, 250); fill-opacity: 0.5; stroke: rgb(147, 112, 219); stroke-opacity: 1;\"/><path class=\"point\" transform=\"translate(360,142.32)\" d=\"M3,0A3,3 0 1,1 0,-3A3,3 0 0,1 3,0Z\" style=\"opacity: 1; stroke-width: 1px; fill: rgb(135, 206, 250); fill-opacity: 0.5; stroke: rgb(147, 112, 219); stroke-opacity: 1;\"/><path class=\"point\" transform=\"translate(120,307.37)\" d=\"M3,0A3,3 0 1,1 0,-3A3,3 0 0,1 3,0Z\" style=\"opacity: 1; stroke-width: 1px; fill: rgb(135, 206, 250); fill-opacity: 0.5; stroke: rgb(147, 112, 219); stroke-opacity: 1;\"/><path class=\"point\" transform=\"translate(180,249.26)\" d=\"M3,0A3,3 0 1,1 0,-3A3,3 0 0,1 3,0Z\" style=\"opacity: 1; stroke-width: 1px; fill: rgb(135, 206, 250); fill-opacity: 0.5; stroke: rgb(147, 112, 219); stroke-opacity: 1;\"/><path class=\"point\" transform=\"translate(60,154.95)\" d=\"M3,0A3,3 0 1,1 0,-3A3,3 0 0,1 3,0Z\" style=\"opacity: 1; stroke-width: 1px; fill: rgb(135, 206, 250); fill-opacity: 0.5; stroke: rgb(147, 112, 219); stroke-opacity: 1;\"/><path class=\"point\" transform=\"translate(60,185.26)\" d=\"M3,0A3,3 0 1,1 0,-3A3,3 0 0,1 3,0Z\" style=\"opacity: 1; stroke-width: 1px; fill: rgb(135, 206, 250); fill-opacity: 0.5; stroke: rgb(147, 112, 219); stroke-opacity: 1;\"/><path class=\"point\" transform=\"translate(120,273.68)\" d=\"M3,0A3,3 0 1,1 0,-3A3,3 0 0,1 3,0Z\" style=\"opacity: 1; stroke-width: 1px; fill: rgb(135, 206, 250); fill-opacity: 0.5; stroke: rgb(147, 112, 219); stroke-opacity: 1;\"/><path class=\"point\" transform=\"translate(60,303.16)\" d=\"M3,0A3,3 0 1,1 0,-3A3,3 0 0,1 3,0Z\" style=\"opacity: 1; stroke-width: 1px; fill: rgb(135, 206, 250); fill-opacity: 0.5; stroke: rgb(147, 112, 219); stroke-opacity: 1;\"/><path class=\"point\" transform=\"translate(60,218.95)\" d=\"M3,0A3,3 0 1,1 0,-3A3,3 0 0,1 3,0Z\" style=\"opacity: 1; stroke-width: 1px; fill: rgb(135, 206, 250); fill-opacity: 0.5; stroke: rgb(147, 112, 219); stroke-opacity: 1;\"/><path class=\"point\" transform=\"translate(60,193.68)\" d=\"M3,0A3,3 0 1,1 0,-3A3,3 0 0,1 3,0Z\" style=\"opacity: 1; stroke-width: 1px; fill: rgb(135, 206, 250); fill-opacity: 0.5; stroke: rgb(147, 112, 219); stroke-opacity: 1;\"/><path class=\"point\" transform=\"translate(60,218.95)\" d=\"M3,0A3,3 0 1,1 0,-3A3,3 0 0,1 3,0Z\" style=\"opacity: 1; stroke-width: 1px; fill: rgb(135, 206, 250); fill-opacity: 0.5; stroke: rgb(147, 112, 219); stroke-opacity: 1;\"/><path class=\"point\" transform=\"translate(120,288.84)\" d=\"M3,0A3,3 0 1,1 0,-3A3,3 0 0,1 3,0Z\" style=\"opacity: 1; stroke-width: 1px; fill: rgb(135, 206, 250); fill-opacity: 0.5; stroke: rgb(147, 112, 219); stroke-opacity: 1;\"/><path class=\"point\" transform=\"translate(240,-6.74)\" d=\"M3,0A3,3 0 1,1 0,-3A3,3 0 0,1 3,0Z\" style=\"opacity: 1; stroke-width: 1px; fill: rgb(135, 206, 250); fill-opacity: 0.5; stroke: rgb(147, 112, 219); stroke-opacity: 1;\"/><path class=\"point\" transform=\"translate(60,303.16)\" d=\"M3,0A3,3 0 1,1 0,-3A3,3 0 0,1 3,0Z\" style=\"opacity: 1; stroke-width: 1px; fill: rgb(135, 206, 250); fill-opacity: 0.5; stroke: rgb(147, 112, 219); stroke-opacity: 1;\"/><path class=\"point\" transform=\"translate(60,289.68)\" d=\"M3,0A3,3 0 1,1 0,-3A3,3 0 0,1 3,0Z\" style=\"opacity: 1; stroke-width: 1px; fill: rgb(135, 206, 250); fill-opacity: 0.5; stroke: rgb(147, 112, 219); stroke-opacity: 1;\"/><path class=\"point\" transform=\"translate(300,256.34)\" d=\"M3,0A3,3 0 1,1 0,-3A3,3 0 0,1 3,0Z\" style=\"opacity: 1; stroke-width: 1px; fill: rgb(135, 206, 250); fill-opacity: 0.5; stroke: rgb(147, 112, 219); stroke-opacity: 1;\"/><path class=\"point\" transform=\"translate(60,252.63)\" d=\"M3,0A3,3 0 1,1 0,-3A3,3 0 0,1 3,0Z\" style=\"opacity: 1; stroke-width: 1px; fill: rgb(135, 206, 250); fill-opacity: 0.5; stroke: rgb(147, 112, 219); stroke-opacity: 1;\"/><path class=\"point\" transform=\"translate(60,218.95)\" d=\"M3,0A3,3 0 1,1 0,-3A3,3 0 0,1 3,0Z\" style=\"opacity: 1; stroke-width: 1px; fill: rgb(135, 206, 250); fill-opacity: 0.5; stroke: rgb(147, 112, 219); stroke-opacity: 1;\"/><path class=\"point\" transform=\"translate(60,42.11)\" d=\"M3,0A3,3 0 1,1 0,-3A3,3 0 0,1 3,0Z\" style=\"opacity: 1; stroke-width: 1px; fill: rgb(135, 206, 250); fill-opacity: 0.5; stroke: rgb(147, 112, 219); stroke-opacity: 1;\"/><path class=\"point\" transform=\"translate(360,22.46)\" d=\"M3,0A3,3 0 1,1 0,-3A3,3 0 0,1 3,0Z\" style=\"opacity: 1; stroke-width: 1px; fill: rgb(135, 206, 250); fill-opacity: 0.5; stroke: rgb(147, 112, 219); stroke-opacity: 1;\"/><path class=\"point\" transform=\"translate(180,208.84)\" d=\"M3,0A3,3 0 1,1 0,-3A3,3 0 0,1 3,0Z\" style=\"opacity: 1; stroke-width: 1px; fill: rgb(135, 206, 250); fill-opacity: 0.5; stroke: rgb(147, 112, 219); stroke-opacity: 1;\"/><path class=\"point\" transform=\"translate(120,289.68)\" d=\"M3,0A3,3 0 1,1 0,-3A3,3 0 0,1 3,0Z\" style=\"opacity: 1; stroke-width: 1px; fill: rgb(135, 206, 250); fill-opacity: 0.5; stroke: rgb(147, 112, 219); stroke-opacity: 1;\"/><path class=\"point\" transform=\"translate(120,282.95)\" d=\"M3,0A3,3 0 1,1 0,-3A3,3 0 0,1 3,0Z\" style=\"opacity: 1; stroke-width: 1px; fill: rgb(135, 206, 250); fill-opacity: 0.5; stroke: rgb(147, 112, 219); stroke-opacity: 1;\"/><path class=\"point\" transform=\"translate(180,280.7)\" d=\"M3,0A3,3 0 1,1 0,-3A3,3 0 0,1 3,0Z\" style=\"opacity: 1; stroke-width: 1px; fill: rgb(135, 206, 250); fill-opacity: 0.5; stroke: rgb(147, 112, 219); stroke-opacity: 1;\"/><path class=\"point\" transform=\"translate(60,314.95)\" d=\"M3,0A3,3 0 1,1 0,-3A3,3 0 0,1 3,0Z\" style=\"opacity: 1; stroke-width: 1px; fill: rgb(135, 206, 250); fill-opacity: 0.5; stroke: rgb(147, 112, 219); stroke-opacity: 1;\"/><path class=\"point\" transform=\"translate(60,235.79)\" d=\"M3,0A3,3 0 1,1 0,-3A3,3 0 0,1 3,0Z\" style=\"opacity: 1; stroke-width: 1px; fill: rgb(135, 206, 250); fill-opacity: 0.5; stroke: rgb(147, 112, 219); stroke-opacity: 1;\"/><path class=\"point\" transform=\"translate(120,290.53)\" d=\"M3,0A3,3 0 1,1 0,-3A3,3 0 0,1 3,0Z\" style=\"opacity: 1; stroke-width: 1px; fill: rgb(135, 206, 250); fill-opacity: 0.5; stroke: rgb(147, 112, 219); stroke-opacity: 1;\"/><path class=\"point\" transform=\"translate(60,168.42)\" d=\"M3,0A3,3 0 1,1 0,-3A3,3 0 0,1 3,0Z\" style=\"opacity: 1; stroke-width: 1px; fill: rgb(135, 206, 250); fill-opacity: 0.5; stroke: rgb(147, 112, 219); stroke-opacity: 1;\"/><path class=\"point\" transform=\"translate(240,237.47)\" d=\"M3,0A3,3 0 1,1 0,-3A3,3 0 0,1 3,0Z\" style=\"opacity: 1; stroke-width: 1px; fill: rgb(135, 206, 250); fill-opacity: 0.5; stroke: rgb(147, 112, 219); stroke-opacity: 1;\"/><path class=\"point\" transform=\"translate(60,294.74)\" d=\"M3,0A3,3 0 1,1 0,-3A3,3 0 0,1 3,0Z\" style=\"opacity: 1; stroke-width: 1px; fill: rgb(135, 206, 250); fill-opacity: 0.5; stroke: rgb(147, 112, 219); stroke-opacity: 1;\"/><path class=\"point\" transform=\"translate(60,293.05)\" d=\"M3,0A3,3 0 1,1 0,-3A3,3 0 0,1 3,0Z\" style=\"opacity: 1; stroke-width: 1px; fill: rgb(135, 206, 250); fill-opacity: 0.5; stroke: rgb(147, 112, 219); stroke-opacity: 1;\"/><path class=\"point\" transform=\"translate(60,308.21)\" d=\"M3,0A3,3 0 1,1 0,-3A3,3 0 0,1 3,0Z\" style=\"opacity: 1; stroke-width: 1px; fill: rgb(135, 206, 250); fill-opacity: 0.5; stroke: rgb(147, 112, 219); stroke-opacity: 1;\"/><path class=\"point\" transform=\"translate(60,67.37)\" d=\"M3,0A3,3 0 1,1 0,-3A3,3 0 0,1 3,0Z\" style=\"opacity: 1; stroke-width: 1px; fill: rgb(135, 206, 250); fill-opacity: 0.5; stroke: rgb(147, 112, 219); stroke-opacity: 1;\"/><path class=\"point\" transform=\"translate(60,202.11)\" d=\"M3,0A3,3 0 1,1 0,-3A3,3 0 0,1 3,0Z\" style=\"opacity: 1; stroke-width: 1px; fill: rgb(135, 206, 250); fill-opacity: 0.5; stroke: rgb(147, 112, 219); stroke-opacity: 1;\"/><path class=\"point\" transform=\"translate(540,253.57)\" d=\"M3,0A3,3 0 1,1 0,-3A3,3 0 0,1 3,0Z\" style=\"opacity: 1; stroke-width: 1px; fill: rgb(135, 206, 250); fill-opacity: 0.5; stroke: rgb(147, 112, 219); stroke-opacity: 1;\"/><path class=\"point\" transform=\"translate(120,92.63)\" d=\"M3,0A3,3 0 1,1 0,-3A3,3 0 0,1 3,0Z\" style=\"opacity: 1; stroke-width: 1px; fill: rgb(135, 206, 250); fill-opacity: 0.5; stroke: rgb(147, 112, 219); stroke-opacity: 1;\"/><path class=\"point\" transform=\"translate(60,185.26)\" d=\"M3,0A3,3 0 1,1 0,-3A3,3 0 0,1 3,0Z\" style=\"opacity: 1; stroke-width: 1px; fill: rgb(135, 206, 250); fill-opacity: 0.5; stroke: rgb(147, 112, 219); stroke-opacity: 1;\"/><path class=\"point\" transform=\"translate(60,235.79)\" d=\"M3,0A3,3 0 1,1 0,-3A3,3 0 0,1 3,0Z\" style=\"opacity: 1; stroke-width: 1px; fill: rgb(135, 206, 250); fill-opacity: 0.5; stroke: rgb(147, 112, 219); stroke-opacity: 1;\"/><path class=\"point\" transform=\"translate(180,232.98)\" d=\"M3,0A3,3 0 1,1 0,-3A3,3 0 0,1 3,0Z\" style=\"opacity: 1; stroke-width: 1px; fill: rgb(135, 206, 250); fill-opacity: 0.5; stroke: rgb(147, 112, 219); stroke-opacity: 1;\"/><path class=\"point\" transform=\"translate(60,256)\" d=\"M3,0A3,3 0 1,1 0,-3A3,3 0 0,1 3,0Z\" style=\"opacity: 1; stroke-width: 1px; fill: rgb(135, 206, 250); fill-opacity: 0.5; stroke: rgb(147, 112, 219); stroke-opacity: 1;\"/><path class=\"point\" transform=\"translate(60,148.21)\" d=\"M3,0A3,3 0 1,1 0,-3A3,3 0 0,1 3,0Z\" style=\"opacity: 1; stroke-width: 1px; fill: rgb(135, 206, 250); fill-opacity: 0.5; stroke: rgb(147, 112, 219); stroke-opacity: 1;\"/><path class=\"point\" transform=\"translate(960,222.74)\" d=\"M3,0A3,3 0 1,1 0,-3A3,3 0 0,1 3,0Z\" style=\"opacity: 1; stroke-width: 1px; fill: rgb(135, 206, 250); fill-opacity: 0.5; stroke: rgb(147, 112, 219); stroke-opacity: 1;\"/><path class=\"point\" transform=\"translate(180,282.39)\" d=\"M3,0A3,3 0 1,1 0,-3A3,3 0 0,1 3,0Z\" style=\"opacity: 1; stroke-width: 1px; fill: rgb(135, 206, 250); fill-opacity: 0.5; stroke: rgb(147, 112, 219); stroke-opacity: 1;\"/><path class=\"point\" transform=\"translate(360,130.53)\" d=\"M3,0A3,3 0 1,1 0,-3A3,3 0 0,1 3,0Z\" style=\"opacity: 1; stroke-width: 1px; fill: rgb(135, 206, 250); fill-opacity: 0.5; stroke: rgb(147, 112, 219); stroke-opacity: 1;\"/><path class=\"point\" transform=\"translate(120,176.84)\" d=\"M3,0A3,3 0 1,1 0,-3A3,3 0 0,1 3,0Z\" style=\"opacity: 1; stroke-width: 1px; fill: rgb(135, 206, 250); fill-opacity: 0.5; stroke: rgb(147, 112, 219); stroke-opacity: 1;\"/><path class=\"point\" transform=\"translate(60,-58.95)\" d=\"M3,0A3,3 0 1,1 0,-3A3,3 0 0,1 3,0Z\" style=\"opacity: 1; stroke-width: 1px; fill: rgb(135, 206, 250); fill-opacity: 0.5; stroke: rgb(147, 112, 219); stroke-opacity: 1;\"/><path class=\"point\" transform=\"translate(60,282.95)\" d=\"M3,0A3,3 0 1,1 0,-3A3,3 0 0,1 3,0Z\" style=\"opacity: 1; stroke-width: 1px; fill: rgb(135, 206, 250); fill-opacity: 0.5; stroke: rgb(147, 112, 219); stroke-opacity: 1;\"/><path class=\"point\" transform=\"translate(60,23.58)\" d=\"M3,0A3,3 0 1,1 0,-3A3,3 0 0,1 3,0Z\" style=\"opacity: 1; stroke-width: 1px; fill: rgb(135, 206, 250); fill-opacity: 0.5; stroke: rgb(147, 112, 219); stroke-opacity: 1;\"/><path class=\"point\" transform=\"translate(60,303.16)\" d=\"M3,0A3,3 0 1,1 0,-3A3,3 0 0,1 3,0Z\" style=\"opacity: 1; stroke-width: 1px; fill: rgb(135, 206, 250); fill-opacity: 0.5; stroke: rgb(147, 112, 219); stroke-opacity: 1;\"/><path class=\"point\" transform=\"translate(60,205.47)\" d=\"M3,0A3,3 0 1,1 0,-3A3,3 0 0,1 3,0Z\" style=\"opacity: 1; stroke-width: 1px; fill: rgb(135, 206, 250); fill-opacity: 0.5; stroke: rgb(147, 112, 219); stroke-opacity: 1;\"/><path class=\"point\" transform=\"translate(60,239.16)\" d=\"M3,0A3,3 0 1,1 0,-3A3,3 0 0,1 3,0Z\" style=\"opacity: 1; stroke-width: 1px; fill: rgb(135, 206, 250); fill-opacity: 0.5; stroke: rgb(147, 112, 219); stroke-opacity: 1;\"/><path class=\"point\" transform=\"translate(60,25.26)\" d=\"M3,0A3,3 0 1,1 0,-3A3,3 0 0,1 3,0Z\" style=\"opacity: 1; stroke-width: 1px; fill: rgb(135, 206, 250); fill-opacity: 0.5; stroke: rgb(147, 112, 219); stroke-opacity: 1;\"/><path class=\"point\" transform=\"translate(60,114.53)\" d=\"M3,0A3,3 0 1,1 0,-3A3,3 0 0,1 3,0Z\" style=\"opacity: 1; stroke-width: 1px; fill: rgb(135, 206, 250); fill-opacity: 0.5; stroke: rgb(147, 112, 219); stroke-opacity: 1;\"/><path class=\"point\" transform=\"translate(60,299.79)\" d=\"M3,0A3,3 0 1,1 0,-3A3,3 0 0,1 3,0Z\" style=\"opacity: 1; stroke-width: 1px; fill: rgb(135, 206, 250); fill-opacity: 0.5; stroke: rgb(147, 112, 219); stroke-opacity: 1;\"/><path class=\"point\" transform=\"translate(60,-185.26)\" d=\"M3,0A3,3 0 1,1 0,-3A3,3 0 0,1 3,0Z\" style=\"opacity: 1; stroke-width: 1px; fill: rgb(135, 206, 250); fill-opacity: 0.5; stroke: rgb(147, 112, 219); stroke-opacity: 1;\"/><path class=\"point\" transform=\"translate(60,193.68)\" d=\"M3,0A3,3 0 1,1 0,-3A3,3 0 0,1 3,0Z\" style=\"opacity: 1; stroke-width: 1px; fill: rgb(135, 206, 250); fill-opacity: 0.5; stroke: rgb(147, 112, 219); stroke-opacity: 1;\"/><path class=\"point\" transform=\"translate(60,185.26)\" d=\"M3,0A3,3 0 1,1 0,-3A3,3 0 0,1 3,0Z\" style=\"opacity: 1; stroke-width: 1px; fill: rgb(135, 206, 250); fill-opacity: 0.5; stroke: rgb(147, 112, 219); stroke-opacity: 1;\"/><path class=\"point\" transform=\"translate(60,293.05)\" d=\"M3,0A3,3 0 1,1 0,-3A3,3 0 0,1 3,0Z\" style=\"opacity: 1; stroke-width: 1px; fill: rgb(135, 206, 250); fill-opacity: 0.5; stroke: rgb(147, 112, 219); stroke-opacity: 1;\"/><path class=\"point\" transform=\"translate(60,299.79)\" d=\"M3,0A3,3 0 1,1 0,-3A3,3 0 0,1 3,0Z\" style=\"opacity: 1; stroke-width: 1px; fill: rgb(135, 206, 250); fill-opacity: 0.5; stroke: rgb(147, 112, 219); stroke-opacity: 1;\"/><path class=\"point\" transform=\"translate(60,313.26)\" d=\"M3,0A3,3 0 1,1 0,-3A3,3 0 0,1 3,0Z\" style=\"opacity: 1; stroke-width: 1px; fill: rgb(135, 206, 250); fill-opacity: 0.5; stroke: rgb(147, 112, 219); stroke-opacity: 1;\"/><path class=\"point\" transform=\"translate(60,291.37)\" d=\"M3,0A3,3 0 1,1 0,-3A3,3 0 0,1 3,0Z\" style=\"opacity: 1; stroke-width: 1px; fill: rgb(135, 206, 250); fill-opacity: 0.5; stroke: rgb(147, 112, 219); stroke-opacity: 1;\"/><path class=\"point\" transform=\"translate(180,-35.37)\" d=\"M3,0A3,3 0 1,1 0,-3A3,3 0 0,1 3,0Z\" style=\"opacity: 1; stroke-width: 1px; fill: rgb(135, 206, 250); fill-opacity: 0.5; stroke: rgb(147, 112, 219); stroke-opacity: 1;\"/><path class=\"point\" transform=\"translate(60,261.05)\" d=\"M3,0A3,3 0 1,1 0,-3A3,3 0 0,1 3,0Z\" style=\"opacity: 1; stroke-width: 1px; fill: rgb(135, 206, 250); fill-opacity: 0.5; stroke: rgb(147, 112, 219); stroke-opacity: 1;\"/><path class=\"point\" transform=\"translate(60,306.53)\" d=\"M3,0A3,3 0 1,1 0,-3A3,3 0 0,1 3,0Z\" style=\"opacity: 1; stroke-width: 1px; fill: rgb(135, 206, 250); fill-opacity: 0.5; stroke: rgb(147, 112, 219); stroke-opacity: 1;\"/><path class=\"point\" transform=\"translate(60,294.74)\" d=\"M3,0A3,3 0 1,1 0,-3A3,3 0 0,1 3,0Z\" style=\"opacity: 1; stroke-width: 1px; fill: rgb(135, 206, 250); fill-opacity: 0.5; stroke: rgb(147, 112, 219); stroke-opacity: 1;\"/><path class=\"point\" transform=\"translate(60,-58.95)\" d=\"M3,0A3,3 0 1,1 0,-3A3,3 0 0,1 3,0Z\" style=\"opacity: 1; stroke-width: 1px; fill: rgb(135, 206, 250); fill-opacity: 0.5; stroke: rgb(147, 112, 219); stroke-opacity: 1;\"/><path class=\"point\" transform=\"translate(60,168.42)\" d=\"M3,0A3,3 0 1,1 0,-3A3,3 0 0,1 3,0Z\" style=\"opacity: 1; stroke-width: 1px; fill: rgb(135, 206, 250); fill-opacity: 0.5; stroke: rgb(147, 112, 219); stroke-opacity: 1;\"/><path class=\"point\" transform=\"translate(60,294.74)\" d=\"M3,0A3,3 0 1,1 0,-3A3,3 0 0,1 3,0Z\" style=\"opacity: 1; stroke-width: 1px; fill: rgb(135, 206, 250); fill-opacity: 0.5; stroke: rgb(147, 112, 219); stroke-opacity: 1;\"/><path class=\"point\" transform=\"translate(60,151.58)\" d=\"M3,0A3,3 0 1,1 0,-3A3,3 0 0,1 3,0Z\" style=\"opacity: 1; stroke-width: 1px; fill: rgb(135, 206, 250); fill-opacity: 0.5; stroke: rgb(147, 112, 219); stroke-opacity: 1;\"/><path class=\"point\" transform=\"translate(60,178.53)\" d=\"M3,0A3,3 0 1,1 0,-3A3,3 0 0,1 3,0Z\" style=\"opacity: 1; stroke-width: 1px; fill: rgb(135, 206, 250); fill-opacity: 0.5; stroke: rgb(147, 112, 219); stroke-opacity: 1;\"/><path class=\"point\" transform=\"translate(60,314.95)\" d=\"M3,0A3,3 0 1,1 0,-3A3,3 0 0,1 3,0Z\" style=\"opacity: 1; stroke-width: 1px; fill: rgb(135, 206, 250); fill-opacity: 0.5; stroke: rgb(147, 112, 219); stroke-opacity: 1;\"/><path class=\"point\" transform=\"translate(60,173.47)\" d=\"M3,0A3,3 0 1,1 0,-3A3,3 0 0,1 3,0Z\" style=\"opacity: 1; stroke-width: 1px; fill: rgb(135, 206, 250); fill-opacity: 0.5; stroke: rgb(147, 112, 219); stroke-opacity: 1;\"/><path class=\"point\" transform=\"translate(120,261.05)\" d=\"M3,0A3,3 0 1,1 0,-3A3,3 0 0,1 3,0Z\" style=\"opacity: 1; stroke-width: 1px; fill: rgb(135, 206, 250); fill-opacity: 0.5; stroke: rgb(147, 112, 219); stroke-opacity: 1;\"/><path class=\"point\" transform=\"translate(300,287.66)\" d=\"M3,0A3,3 0 1,1 0,-3A3,3 0 0,1 3,0Z\" style=\"opacity: 1; stroke-width: 1px; fill: rgb(135, 206, 250); fill-opacity: 0.5; stroke: rgb(147, 112, 219); stroke-opacity: 1;\"/><path class=\"point\" transform=\"translate(420,64.48)\" d=\"M3,0A3,3 0 1,1 0,-3A3,3 0 0,1 3,0Z\" style=\"opacity: 1; stroke-width: 1px; fill: rgb(135, 206, 250); fill-opacity: 0.5; stroke: rgb(147, 112, 219); stroke-opacity: 1;\"/><path class=\"point\" transform=\"translate(60,289.68)\" d=\"M3,0A3,3 0 1,1 0,-3A3,3 0 0,1 3,0Z\" style=\"opacity: 1; stroke-width: 1px; fill: rgb(135, 206, 250); fill-opacity: 0.5; stroke: rgb(147, 112, 219); stroke-opacity: 1;\"/><path class=\"point\" transform=\"translate(120,256)\" d=\"M3,0A3,3 0 1,1 0,-3A3,3 0 0,1 3,0Z\" style=\"opacity: 1; stroke-width: 1px; fill: rgb(135, 206, 250); fill-opacity: 0.5; stroke: rgb(147, 112, 219); stroke-opacity: 1;\"/><path class=\"point\" transform=\"translate(120,247.58)\" d=\"M3,0A3,3 0 1,1 0,-3A3,3 0 0,1 3,0Z\" style=\"opacity: 1; stroke-width: 1px; fill: rgb(135, 206, 250); fill-opacity: 0.5; stroke: rgb(147, 112, 219); stroke-opacity: 1;\"/><path class=\"point\" transform=\"translate(60,235.79)\" d=\"M3,0A3,3 0 1,1 0,-3A3,3 0 0,1 3,0Z\" style=\"opacity: 1; stroke-width: 1px; fill: rgb(135, 206, 250); fill-opacity: 0.5; stroke: rgb(147, 112, 219); stroke-opacity: 1;\"/><path class=\"point\" transform=\"translate(540,109.66)\" d=\"M3,0A3,3 0 1,1 0,-3A3,3 0 0,1 3,0Z\" style=\"opacity: 1; stroke-width: 1px; fill: rgb(135, 206, 250); fill-opacity: 0.5; stroke: rgb(147, 112, 219); stroke-opacity: 1;\"/><path class=\"point\" transform=\"translate(180,47.16)\" d=\"M3,0A3,3 0 1,1 0,-3A3,3 0 0,1 3,0Z\" style=\"opacity: 1; stroke-width: 1px; fill: rgb(135, 206, 250); fill-opacity: 0.5; stroke: rgb(147, 112, 219); stroke-opacity: 1;\"/><path class=\"point\" transform=\"translate(60,286.32)\" d=\"M3,0A3,3 0 1,1 0,-3A3,3 0 0,1 3,0Z\" style=\"opacity: 1; stroke-width: 1px; fill: rgb(135, 206, 250); fill-opacity: 0.5; stroke: rgb(147, 112, 219); stroke-opacity: 1;\"/><path class=\"point\" transform=\"translate(60,316.63)\" d=\"M3,0A3,3 0 1,1 0,-3A3,3 0 0,1 3,0Z\" style=\"opacity: 1; stroke-width: 1px; fill: rgb(135, 206, 250); fill-opacity: 0.5; stroke: rgb(147, 112, 219); stroke-opacity: 1;\"/><path class=\"point\" transform=\"translate(2640,318.62)\" d=\"M3,0A3,3 0 1,1 0,-3A3,3 0 0,1 3,0Z\" style=\"opacity: 1; stroke-width: 1px; fill: rgb(135, 206, 250); fill-opacity: 0.5; stroke: rgb(147, 112, 219); stroke-opacity: 1;\"/><path class=\"point\" transform=\"translate(60,313.26)\" d=\"M3,0A3,3 0 1,1 0,-3A3,3 0 0,1 3,0Z\" style=\"opacity: 1; stroke-width: 1px; fill: rgb(135, 206, 250); fill-opacity: 0.5; stroke: rgb(147, 112, 219); stroke-opacity: 1;\"/><path class=\"point\" transform=\"translate(60,309.89)\" d=\"M3,0A3,3 0 1,1 0,-3A3,3 0 0,1 3,0Z\" style=\"opacity: 1; stroke-width: 1px; fill: rgb(135, 206, 250); fill-opacity: 0.5; stroke: rgb(147, 112, 219); stroke-opacity: 1;\"/><path class=\"point\" transform=\"translate(60,286.32)\" d=\"M3,0A3,3 0 1,1 0,-3A3,3 0 0,1 3,0Z\" style=\"opacity: 1; stroke-width: 1px; fill: rgb(135, 206, 250); fill-opacity: 0.5; stroke: rgb(147, 112, 219); stroke-opacity: 1;\"/><path class=\"point\" transform=\"translate(2040,224.64)\" d=\"M3,0A3,3 0 1,1 0,-3A3,3 0 0,1 3,0Z\" style=\"opacity: 1; stroke-width: 1px; fill: rgb(135, 206, 250); fill-opacity: 0.5; stroke: rgb(147, 112, 219); stroke-opacity: 1;\"/><path class=\"point\" transform=\"translate(60,101.05)\" d=\"M3,0A3,3 0 1,1 0,-3A3,3 0 0,1 3,0Z\" style=\"opacity: 1; stroke-width: 1px; fill: rgb(135, 206, 250); fill-opacity: 0.5; stroke: rgb(147, 112, 219); stroke-opacity: 1;\"/><path class=\"point\" transform=\"translate(120,229.05)\" d=\"M3,0A3,3 0 1,1 0,-3A3,3 0 0,1 3,0Z\" style=\"opacity: 1; stroke-width: 1px; fill: rgb(135, 206, 250); fill-opacity: 0.5; stroke: rgb(147, 112, 219); stroke-opacity: 1;\"/><path class=\"point\" transform=\"translate(180,250.95)\" d=\"M3,0A3,3 0 1,1 0,-3A3,3 0 0,1 3,0Z\" style=\"opacity: 1; stroke-width: 1px; fill: rgb(135, 206, 250); fill-opacity: 0.5; stroke: rgb(147, 112, 219); stroke-opacity: 1;\"/><path class=\"point\" transform=\"translate(180,192.56)\" d=\"M3,0A3,3 0 1,1 0,-3A3,3 0 0,1 3,0Z\" style=\"opacity: 1; stroke-width: 1px; fill: rgb(135, 206, 250); fill-opacity: 0.5; stroke: rgb(147, 112, 219); stroke-opacity: 1;\"/><path class=\"point\" transform=\"translate(60,235.79)\" d=\"M3,0A3,3 0 1,1 0,-3A3,3 0 0,1 3,0Z\" style=\"opacity: 1; stroke-width: 1px; fill: rgb(135, 206, 250); fill-opacity: 0.5; stroke: rgb(147, 112, 219); stroke-opacity: 1;\"/><path class=\"point\" transform=\"translate(60,303.16)\" d=\"M3,0A3,3 0 1,1 0,-3A3,3 0 0,1 3,0Z\" style=\"opacity: 1; stroke-width: 1px; fill: rgb(135, 206, 250); fill-opacity: 0.5; stroke: rgb(147, 112, 219); stroke-opacity: 1;\"/><path class=\"point\" transform=\"translate(60,252.63)\" d=\"M3,0A3,3 0 1,1 0,-3A3,3 0 0,1 3,0Z\" style=\"opacity: 1; stroke-width: 1px; fill: rgb(135, 206, 250); fill-opacity: 0.5; stroke: rgb(147, 112, 219); stroke-opacity: 1;\"/><path class=\"point\" transform=\"translate(120,282.95)\" d=\"M3,0A3,3 0 1,1 0,-3A3,3 0 0,1 3,0Z\" style=\"opacity: 1; stroke-width: 1px; fill: rgb(135, 206, 250); fill-opacity: 0.5; stroke: rgb(147, 112, 219); stroke-opacity: 1;\"/><path class=\"point\" transform=\"translate(60,281.26)\" d=\"M3,0A3,3 0 1,1 0,-3A3,3 0 0,1 3,0Z\" style=\"opacity: 1; stroke-width: 1px; fill: rgb(135, 206, 250); fill-opacity: 0.5; stroke: rgb(147, 112, 219); stroke-opacity: 1;\"/><path class=\"point\" transform=\"translate(60,249.26)\" d=\"M3,0A3,3 0 1,1 0,-3A3,3 0 0,1 3,0Z\" style=\"opacity: 1; stroke-width: 1px; fill: rgb(135, 206, 250); fill-opacity: 0.5; stroke: rgb(147, 112, 219); stroke-opacity: 1;\"/><path class=\"point\" transform=\"translate(360,224.56)\" d=\"M3,0A3,3 0 1,1 0,-3A3,3 0 0,1 3,0Z\" style=\"opacity: 1; stroke-width: 1px; fill: rgb(135, 206, 250); fill-opacity: 0.5; stroke: rgb(147, 112, 219); stroke-opacity: 1;\"/><path class=\"point\" transform=\"translate(60,168.42)\" d=\"M3,0A3,3 0 1,1 0,-3A3,3 0 0,1 3,0Z\" style=\"opacity: 1; stroke-width: 1px; fill: rgb(135, 206, 250); fill-opacity: 0.5; stroke: rgb(147, 112, 219); stroke-opacity: 1;\"/><path class=\"point\" transform=\"translate(240,177.68)\" d=\"M3,0A3,3 0 1,1 0,-3A3,3 0 0,1 3,0Z\" style=\"opacity: 1; stroke-width: 1px; fill: rgb(135, 206, 250); fill-opacity: 0.5; stroke: rgb(147, 112, 219); stroke-opacity: 1;\"/><path class=\"point\" transform=\"translate(900,210.98)\" d=\"M3,0A3,3 0 1,1 0,-3A3,3 0 0,1 3,0Z\" style=\"opacity: 1; stroke-width: 1px; fill: rgb(135, 206, 250); fill-opacity: 0.5; stroke: rgb(147, 112, 219); stroke-opacity: 1;\"/><path class=\"point\" transform=\"translate(60,210.53)\" d=\"M3,0A3,3 0 1,1 0,-3A3,3 0 0,1 3,0Z\" style=\"opacity: 1; stroke-width: 1px; fill: rgb(135, 206, 250); fill-opacity: 0.5; stroke: rgb(147, 112, 219); stroke-opacity: 1;\"/><path class=\"point\" transform=\"translate(180,294.74)\" d=\"M3,0A3,3 0 1,1 0,-3A3,3 0 0,1 3,0Z\" style=\"opacity: 1; stroke-width: 1px; fill: rgb(135, 206, 250); fill-opacity: 0.5; stroke: rgb(147, 112, 219); stroke-opacity: 1;\"/><path class=\"point\" transform=\"translate(120,269.47)\" d=\"M3,0A3,3 0 1,1 0,-3A3,3 0 0,1 3,0Z\" style=\"opacity: 1; stroke-width: 1px; fill: rgb(135, 206, 250); fill-opacity: 0.5; stroke: rgb(147, 112, 219); stroke-opacity: 1;\"/><path class=\"point\" transform=\"translate(60,176.84)\" d=\"M3,0A3,3 0 1,1 0,-3A3,3 0 0,1 3,0Z\" style=\"opacity: 1; stroke-width: 1px; fill: rgb(135, 206, 250); fill-opacity: 0.5; stroke: rgb(147, 112, 219); stroke-opacity: 1;\"/><path class=\"point\" transform=\"translate(120,246.74)\" d=\"M3,0A3,3 0 1,1 0,-3A3,3 0 0,1 3,0Z\" style=\"opacity: 1; stroke-width: 1px; fill: rgb(135, 206, 250); fill-opacity: 0.5; stroke: rgb(147, 112, 219); stroke-opacity: 1;\"/><path class=\"point\" transform=\"translate(5400,283.19)\" d=\"M3,0A3,3 0 1,1 0,-3A3,3 0 0,1 3,0Z\" style=\"opacity: 1; stroke-width: 1px; fill: rgb(135, 206, 250); fill-opacity: 0.5; stroke: rgb(147, 112, 219); stroke-opacity: 1;\"/><path class=\"point\" transform=\"translate(840,140.27)\" d=\"M3,0A3,3 0 1,1 0,-3A3,3 0 0,1 3,0Z\" style=\"opacity: 1; stroke-width: 1px; fill: rgb(135, 206, 250); fill-opacity: 0.5; stroke: rgb(147, 112, 219); stroke-opacity: 1;\"/><path class=\"point\" transform=\"translate(960,272.11)\" d=\"M3,0A3,3 0 1,1 0,-3A3,3 0 0,1 3,0Z\" style=\"opacity: 1; stroke-width: 1px; fill: rgb(135, 206, 250); fill-opacity: 0.5; stroke: rgb(147, 112, 219); stroke-opacity: 1;\"/><path class=\"point\" transform=\"translate(360,242.25)\" d=\"M3,0A3,3 0 1,1 0,-3A3,3 0 0,1 3,0Z\" style=\"opacity: 1; stroke-width: 1px; fill: rgb(135, 206, 250); fill-opacity: 0.5; stroke: rgb(147, 112, 219); stroke-opacity: 1;\"/><path class=\"point\" transform=\"translate(180,282.39)\" d=\"M3,0A3,3 0 1,1 0,-3A3,3 0 0,1 3,0Z\" style=\"opacity: 1; stroke-width: 1px; fill: rgb(135, 206, 250); fill-opacity: 0.5; stroke: rgb(147, 112, 219); stroke-opacity: 1;\"/><path class=\"point\" transform=\"translate(60,202.11)\" d=\"M3,0A3,3 0 1,1 0,-3A3,3 0 0,1 3,0Z\" style=\"opacity: 1; stroke-width: 1px; fill: rgb(135, 206, 250); fill-opacity: 0.5; stroke: rgb(147, 112, 219); stroke-opacity: 1;\"/><path class=\"point\" transform=\"translate(60,261.05)\" d=\"M3,0A3,3 0 1,1 0,-3A3,3 0 0,1 3,0Z\" style=\"opacity: 1; stroke-width: 1px; fill: rgb(135, 206, 250); fill-opacity: 0.5; stroke: rgb(147, 112, 219); stroke-opacity: 1;\"/><path class=\"point\" transform=\"translate(60,244.21)\" d=\"M3,0A3,3 0 1,1 0,-3A3,3 0 0,1 3,0Z\" style=\"opacity: 1; stroke-width: 1px; fill: rgb(135, 206, 250); fill-opacity: 0.5; stroke: rgb(147, 112, 219); stroke-opacity: 1;\"/><path class=\"point\" transform=\"translate(180,205.47)\" d=\"M3,0A3,3 0 1,1 0,-3A3,3 0 0,1 3,0Z\" style=\"opacity: 1; stroke-width: 1px; fill: rgb(135, 206, 250); fill-opacity: 0.5; stroke: rgb(147, 112, 219); stroke-opacity: 1;\"/><path class=\"point\" transform=\"translate(60,230.74)\" d=\"M3,0A3,3 0 1,1 0,-3A3,3 0 0,1 3,0Z\" style=\"opacity: 1; stroke-width: 1px; fill: rgb(135, 206, 250); fill-opacity: 0.5; stroke: rgb(147, 112, 219); stroke-opacity: 1;\"/><path class=\"point\" transform=\"translate(360,299.79)\" d=\"M3,0A3,3 0 1,1 0,-3A3,3 0 0,1 3,0Z\" style=\"opacity: 1; stroke-width: 1px; fill: rgb(135, 206, 250); fill-opacity: 0.5; stroke: rgb(147, 112, 219); stroke-opacity: 1;\"/><path class=\"point\" transform=\"translate(60,291.37)\" d=\"M3,0A3,3 0 1,1 0,-3A3,3 0 0,1 3,0Z\" style=\"opacity: 1; stroke-width: 1px; fill: rgb(135, 206, 250); fill-opacity: 0.5; stroke: rgb(147, 112, 219); stroke-opacity: 1;\"/><path class=\"point\" transform=\"translate(60,303.16)\" d=\"M3,0A3,3 0 1,1 0,-3A3,3 0 0,1 3,0Z\" style=\"opacity: 1; stroke-width: 1px; fill: rgb(135, 206, 250); fill-opacity: 0.5; stroke: rgb(147, 112, 219); stroke-opacity: 1;\"/><path class=\"point\" transform=\"translate(180,320)\" d=\"M3,0A3,3 0 1,1 0,-3A3,3 0 0,1 3,0Z\" style=\"opacity: 1; stroke-width: 1px; fill: rgb(135, 206, 250); fill-opacity: 0.5; stroke: rgb(147, 112, 219); stroke-opacity: 1;\"/><path class=\"point\" transform=\"translate(60,293.05)\" d=\"M3,0A3,3 0 1,1 0,-3A3,3 0 0,1 3,0Z\" style=\"opacity: 1; stroke-width: 1px; fill: rgb(135, 206, 250); fill-opacity: 0.5; stroke: rgb(147, 112, 219); stroke-opacity: 1;\"/><path class=\"point\" transform=\"translate(300,301.14)\" d=\"M3,0A3,3 0 1,1 0,-3A3,3 0 0,1 3,0Z\" style=\"opacity: 1; stroke-width: 1px; fill: rgb(135, 206, 250); fill-opacity: 0.5; stroke: rgb(147, 112, 219); stroke-opacity: 1;\"/><path class=\"point\" transform=\"translate(60,277.89)\" d=\"M3,0A3,3 0 1,1 0,-3A3,3 0 0,1 3,0Z\" style=\"opacity: 1; stroke-width: 1px; fill: rgb(135, 206, 250); fill-opacity: 0.5; stroke: rgb(147, 112, 219); stroke-opacity: 1;\"/><path class=\"point\" transform=\"translate(60,286.32)\" d=\"M3,0A3,3 0 1,1 0,-3A3,3 0 0,1 3,0Z\" style=\"opacity: 1; stroke-width: 1px; fill: rgb(135, 206, 250); fill-opacity: 0.5; stroke: rgb(147, 112, 219); stroke-opacity: 1;\"/><path class=\"point\" transform=\"translate(120,303.16)\" d=\"M3,0A3,3 0 1,1 0,-3A3,3 0 0,1 3,0Z\" style=\"opacity: 1; stroke-width: 1px; fill: rgb(135, 206, 250); fill-opacity: 0.5; stroke: rgb(147, 112, 219); stroke-opacity: 1;\"/><path class=\"point\" transform=\"translate(9000,172.29)\" d=\"M3,0A3,3 0 1,1 0,-3A3,3 0 0,1 3,0Z\" style=\"opacity: 1; stroke-width: 1px; fill: rgb(135, 206, 250); fill-opacity: 0.5; stroke: rgb(147, 112, 219); stroke-opacity: 1;\"/><path class=\"point\" transform=\"translate(360,198.18)\" d=\"M3,0A3,3 0 1,1 0,-3A3,3 0 0,1 3,0Z\" style=\"opacity: 1; stroke-width: 1px; fill: rgb(135, 206, 250); fill-opacity: 0.5; stroke: rgb(147, 112, 219); stroke-opacity: 1;\"/><path class=\"point\" transform=\"translate(60,193.68)\" d=\"M3,0A3,3 0 1,1 0,-3A3,3 0 0,1 3,0Z\" style=\"opacity: 1; stroke-width: 1px; fill: rgb(135, 206, 250); fill-opacity: 0.5; stroke: rgb(147, 112, 219); stroke-opacity: 1;\"/><path class=\"point\" transform=\"translate(60,33.68)\" d=\"M3,0A3,3 0 1,1 0,-3A3,3 0 0,1 3,0Z\" style=\"opacity: 1; stroke-width: 1px; fill: rgb(135, 206, 250); fill-opacity: 0.5; stroke: rgb(147, 112, 219); stroke-opacity: 1;\"/><path class=\"point\" transform=\"translate(60,286.32)\" d=\"M3,0A3,3 0 1,1 0,-3A3,3 0 0,1 3,0Z\" style=\"opacity: 1; stroke-width: 1px; fill: rgb(135, 206, 250); fill-opacity: 0.5; stroke: rgb(147, 112, 219); stroke-opacity: 1;\"/><path class=\"point\" transform=\"translate(360,215.58)\" d=\"M3,0A3,3 0 1,1 0,-3A3,3 0 0,1 3,0Z\" style=\"opacity: 1; stroke-width: 1px; fill: rgb(135, 206, 250); fill-opacity: 0.5; stroke: rgb(147, 112, 219); stroke-opacity: 1;\"/><path class=\"point\" transform=\"translate(60,185.26)\" d=\"M3,0A3,3 0 1,1 0,-3A3,3 0 0,1 3,0Z\" style=\"opacity: 1; stroke-width: 1px; fill: rgb(135, 206, 250); fill-opacity: 0.5; stroke: rgb(147, 112, 219); stroke-opacity: 1;\"/><path class=\"point\" transform=\"translate(120,244.21)\" d=\"M3,0A3,3 0 1,1 0,-3A3,3 0 0,1 3,0Z\" style=\"opacity: 1; stroke-width: 1px; fill: rgb(135, 206, 250); fill-opacity: 0.5; stroke: rgb(147, 112, 219); stroke-opacity: 1;\"/><path class=\"point\" transform=\"translate(60,286.32)\" d=\"M3,0A3,3 0 1,1 0,-3A3,3 0 0,1 3,0Z\" style=\"opacity: 1; stroke-width: 1px; fill: rgb(135, 206, 250); fill-opacity: 0.5; stroke: rgb(147, 112, 219); stroke-opacity: 1;\"/><path class=\"point\" transform=\"translate(4320,317.75)\" d=\"M3,0A3,3 0 1,1 0,-3A3,3 0 0,1 3,0Z\" style=\"opacity: 1; stroke-width: 1px; fill: rgb(135, 206, 250); fill-opacity: 0.5; stroke: rgb(147, 112, 219); stroke-opacity: 1;\"/><path class=\"point\" transform=\"translate(360,222.04)\" d=\"M3,0A3,3 0 1,1 0,-3A3,3 0 0,1 3,0Z\" style=\"opacity: 1; stroke-width: 1px; fill: rgb(135, 206, 250); fill-opacity: 0.5; stroke: rgb(147, 112, 219); stroke-opacity: 1;\"/><path class=\"point\" transform=\"translate(60,202.11)\" d=\"M3,0A3,3 0 1,1 0,-3A3,3 0 0,1 3,0Z\" style=\"opacity: 1; stroke-width: 1px; fill: rgb(135, 206, 250); fill-opacity: 0.5; stroke: rgb(147, 112, 219); stroke-opacity: 1;\"/><path class=\"point\" transform=\"translate(60,299.79)\" d=\"M3,0A3,3 0 1,1 0,-3A3,3 0 0,1 3,0Z\" style=\"opacity: 1; stroke-width: 1px; fill: rgb(135, 206, 250); fill-opacity: 0.5; stroke: rgb(147, 112, 219); stroke-opacity: 1;\"/><path class=\"point\" transform=\"translate(120,290.53)\" d=\"M3,0A3,3 0 1,1 0,-3A3,3 0 0,1 3,0Z\" style=\"opacity: 1; stroke-width: 1px; fill: rgb(135, 206, 250); fill-opacity: 0.5; stroke: rgb(147, 112, 219); stroke-opacity: 1;\"/><path class=\"point\" transform=\"translate(60,-101.05)\" d=\"M3,0A3,3 0 1,1 0,-3A3,3 0 0,1 3,0Z\" style=\"opacity: 1; stroke-width: 1px; fill: rgb(135, 206, 250); fill-opacity: 0.5; stroke: rgb(147, 112, 219); stroke-opacity: 1;\"/><path class=\"point\" transform=\"translate(60,202.11)\" d=\"M3,0A3,3 0 1,1 0,-3A3,3 0 0,1 3,0Z\" style=\"opacity: 1; stroke-width: 1px; fill: rgb(135, 206, 250); fill-opacity: 0.5; stroke: rgb(147, 112, 219); stroke-opacity: 1;\"/><path class=\"point\" transform=\"translate(300,235.79)\" d=\"M3,0A3,3 0 1,1 0,-3A3,3 0 0,1 3,0Z\" style=\"opacity: 1; stroke-width: 1px; fill: rgb(135, 206, 250); fill-opacity: 0.5; stroke: rgb(147, 112, 219); stroke-opacity: 1;\"/><path class=\"point\" transform=\"translate(60,202.11)\" d=\"M3,0A3,3 0 1,1 0,-3A3,3 0 0,1 3,0Z\" style=\"opacity: 1; stroke-width: 1px; fill: rgb(135, 206, 250); fill-opacity: 0.5; stroke: rgb(147, 112, 219); stroke-opacity: 1;\"/><path class=\"point\" transform=\"translate(1440,78.95)\" d=\"M3,0A3,3 0 1,1 0,-3A3,3 0 0,1 3,0Z\" style=\"opacity: 1; stroke-width: 1px; fill: rgb(135, 206, 250); fill-opacity: 0.5; stroke: rgb(147, 112, 219); stroke-opacity: 1;\"/><path class=\"point\" transform=\"translate(60,282.95)\" d=\"M3,0A3,3 0 1,1 0,-3A3,3 0 0,1 3,0Z\" style=\"opacity: 1; stroke-width: 1px; fill: rgb(135, 206, 250); fill-opacity: 0.5; stroke: rgb(147, 112, 219); stroke-opacity: 1;\"/><path class=\"point\" transform=\"translate(120,239.16)\" d=\"M3,0A3,3 0 1,1 0,-3A3,3 0 0,1 3,0Z\" style=\"opacity: 1; stroke-width: 1px; fill: rgb(135, 206, 250); fill-opacity: 0.5; stroke: rgb(147, 112, 219); stroke-opacity: 1;\"/><path class=\"point\" transform=\"translate(60,261.05)\" d=\"M3,0A3,3 0 1,1 0,-3A3,3 0 0,1 3,0Z\" style=\"opacity: 1; stroke-width: 1px; fill: rgb(135, 206, 250); fill-opacity: 0.5; stroke: rgb(147, 112, 219); stroke-opacity: 1;\"/><path class=\"point\" transform=\"translate(1440,238.32)\" d=\"M3,0A3,3 0 1,1 0,-3A3,3 0 0,1 3,0Z\" style=\"opacity: 1; stroke-width: 1px; fill: rgb(135, 206, 250); fill-opacity: 0.5; stroke: rgb(147, 112, 219); stroke-opacity: 1;\"/><path class=\"point\" transform=\"translate(60,252.63)\" d=\"M3,0A3,3 0 1,1 0,-3A3,3 0 0,1 3,0Z\" style=\"opacity: 1; stroke-width: 1px; fill: rgb(135, 206, 250); fill-opacity: 0.5; stroke: rgb(147, 112, 219); stroke-opacity: 1;\"/><path class=\"point\" transform=\"translate(60,239.16)\" d=\"M3,0A3,3 0 1,1 0,-3A3,3 0 0,1 3,0Z\" style=\"opacity: 1; stroke-width: 1px; fill: rgb(135, 206, 250); fill-opacity: 0.5; stroke: rgb(147, 112, 219); stroke-opacity: 1;\"/><path class=\"point\" transform=\"translate(60,239.16)\" d=\"M3,0A3,3 0 1,1 0,-3A3,3 0 0,1 3,0Z\" style=\"opacity: 1; stroke-width: 1px; fill: rgb(135, 206, 250); fill-opacity: 0.5; stroke: rgb(147, 112, 219); stroke-opacity: 1;\"/><path class=\"point\" transform=\"translate(60,218.95)\" d=\"M3,0A3,3 0 1,1 0,-3A3,3 0 0,1 3,0Z\" style=\"opacity: 1; stroke-width: 1px; fill: rgb(135, 206, 250); fill-opacity: 0.5; stroke: rgb(147, 112, 219); stroke-opacity: 1;\"/><path class=\"point\" transform=\"translate(360,187.79)\" d=\"M3,0A3,3 0 1,1 0,-3A3,3 0 0,1 3,0Z\" style=\"opacity: 1; stroke-width: 1px; fill: rgb(135, 206, 250); fill-opacity: 0.5; stroke: rgb(147, 112, 219); stroke-opacity: 1;\"/><path class=\"point\" transform=\"translate(60,153.26)\" d=\"M3,0A3,3 0 1,1 0,-3A3,3 0 0,1 3,0Z\" style=\"opacity: 1; stroke-width: 1px; fill: rgb(135, 206, 250); fill-opacity: 0.5; stroke: rgb(147, 112, 219); stroke-opacity: 1;\"/><path class=\"point\" transform=\"translate(60,-42.11)\" d=\"M3,0A3,3 0 1,1 0,-3A3,3 0 0,1 3,0Z\" style=\"opacity: 1; stroke-width: 1px; fill: rgb(135, 206, 250); fill-opacity: 0.5; stroke: rgb(147, 112, 219); stroke-opacity: 1;\"/><path class=\"point\" transform=\"translate(60,218.95)\" d=\"M3,0A3,3 0 1,1 0,-3A3,3 0 0,1 3,0Z\" style=\"opacity: 1; stroke-width: 1px; fill: rgb(135, 206, 250); fill-opacity: 0.5; stroke: rgb(147, 112, 219); stroke-opacity: 1;\"/><path class=\"point\" transform=\"translate(120,297.26)\" d=\"M3,0A3,3 0 1,1 0,-3A3,3 0 0,1 3,0Z\" style=\"opacity: 1; stroke-width: 1px; fill: rgb(135, 206, 250); fill-opacity: 0.5; stroke: rgb(147, 112, 219); stroke-opacity: 1;\"/><path class=\"point\" transform=\"translate(60,318.32)\" d=\"M3,0A3,3 0 1,1 0,-3A3,3 0 0,1 3,0Z\" style=\"opacity: 1; stroke-width: 1px; fill: rgb(135, 206, 250); fill-opacity: 0.5; stroke: rgb(147, 112, 219); stroke-opacity: 1;\"/><path class=\"point\" transform=\"translate(60,249.26)\" d=\"M3,0A3,3 0 1,1 0,-3A3,3 0 0,1 3,0Z\" style=\"opacity: 1; stroke-width: 1px; fill: rgb(135, 206, 250); fill-opacity: 0.5; stroke: rgb(147, 112, 219); stroke-opacity: 1;\"/><path class=\"point\" transform=\"translate(60,50.53)\" d=\"M3,0A3,3 0 1,1 0,-3A3,3 0 0,1 3,0Z\" style=\"opacity: 1; stroke-width: 1px; fill: rgb(135, 206, 250); fill-opacity: 0.5; stroke: rgb(147, 112, 219); stroke-opacity: 1;\"/><path class=\"point\" transform=\"translate(120,129.68)\" d=\"M3,0A3,3 0 1,1 0,-3A3,3 0 0,1 3,0Z\" style=\"opacity: 1; stroke-width: 1px; fill: rgb(135, 206, 250); fill-opacity: 0.5; stroke: rgb(147, 112, 219); stroke-opacity: 1;\"/><path class=\"point\" transform=\"translate(300,255.66)\" d=\"M3,0A3,3 0 1,1 0,-3A3,3 0 0,1 3,0Z\" style=\"opacity: 1; stroke-width: 1px; fill: rgb(135, 206, 250); fill-opacity: 0.5; stroke: rgb(147, 112, 219); stroke-opacity: 1;\"/><path class=\"point\" transform=\"translate(3060,282.88)\" d=\"M3,0A3,3 0 1,1 0,-3A3,3 0 0,1 3,0Z\" style=\"opacity: 1; stroke-width: 1px; fill: rgb(135, 206, 250); fill-opacity: 0.5; stroke: rgb(147, 112, 219); stroke-opacity: 1;\"/><path class=\"point\" transform=\"translate(60,218.95)\" d=\"M3,0A3,3 0 1,1 0,-3A3,3 0 0,1 3,0Z\" style=\"opacity: 1; stroke-width: 1px; fill: rgb(135, 206, 250); fill-opacity: 0.5; stroke: rgb(147, 112, 219); stroke-opacity: 1;\"/><path class=\"point\" transform=\"translate(60,252.63)\" d=\"M3,0A3,3 0 1,1 0,-3A3,3 0 0,1 3,0Z\" style=\"opacity: 1; stroke-width: 1px; fill: rgb(135, 206, 250); fill-opacity: 0.5; stroke: rgb(147, 112, 219); stroke-opacity: 1;\"/><path class=\"point\" transform=\"translate(60,218.95)\" d=\"M3,0A3,3 0 1,1 0,-3A3,3 0 0,1 3,0Z\" style=\"opacity: 1; stroke-width: 1px; fill: rgb(135, 206, 250); fill-opacity: 0.5; stroke: rgb(147, 112, 219); stroke-opacity: 1;\"/><path class=\"point\" transform=\"translate(60,218.95)\" d=\"M3,0A3,3 0 1,1 0,-3A3,3 0 0,1 3,0Z\" style=\"opacity: 1; stroke-width: 1px; fill: rgb(135, 206, 250); fill-opacity: 0.5; stroke: rgb(147, 112, 219); stroke-opacity: 1;\"/><path class=\"point\" transform=\"translate(60,318.32)\" d=\"M3,0A3,3 0 1,1 0,-3A3,3 0 0,1 3,0Z\" style=\"opacity: 1; stroke-width: 1px; fill: rgb(135, 206, 250); fill-opacity: 0.5; stroke: rgb(147, 112, 219); stroke-opacity: 1;\"/><path class=\"point\" transform=\"translate(180,188.07)\" d=\"M3,0A3,3 0 1,1 0,-3A3,3 0 0,1 3,0Z\" style=\"opacity: 1; stroke-width: 1px; fill: rgb(135, 206, 250); fill-opacity: 0.5; stroke: rgb(147, 112, 219); stroke-opacity: 1;\"/><path class=\"point\" transform=\"translate(60,299.79)\" d=\"M3,0A3,3 0 1,1 0,-3A3,3 0 0,1 3,0Z\" style=\"opacity: 1; stroke-width: 1px; fill: rgb(135, 206, 250); fill-opacity: 0.5; stroke: rgb(147, 112, 219); stroke-opacity: 1;\"/><path class=\"point\" transform=\"translate(120,-92.63)\" d=\"M3,0A3,3 0 1,1 0,-3A3,3 0 0,1 3,0Z\" style=\"opacity: 1; stroke-width: 1px; fill: rgb(135, 206, 250); fill-opacity: 0.5; stroke: rgb(147, 112, 219); stroke-opacity: 1;\"/><path class=\"point\" transform=\"translate(60,286.32)\" d=\"M3,0A3,3 0 1,1 0,-3A3,3 0 0,1 3,0Z\" style=\"opacity: 1; stroke-width: 1px; fill: rgb(135, 206, 250); fill-opacity: 0.5; stroke: rgb(147, 112, 219); stroke-opacity: 1;\"/><path class=\"point\" transform=\"translate(60,277.89)\" d=\"M3,0A3,3 0 1,1 0,-3A3,3 0 0,1 3,0Z\" style=\"opacity: 1; stroke-width: 1px; fill: rgb(135, 206, 250); fill-opacity: 0.5; stroke: rgb(147, 112, 219); stroke-opacity: 1;\"/><path class=\"point\" transform=\"translate(60,244.21)\" d=\"M3,0A3,3 0 1,1 0,-3A3,3 0 0,1 3,0Z\" style=\"opacity: 1; stroke-width: 1px; fill: rgb(135, 206, 250); fill-opacity: 0.5; stroke: rgb(147, 112, 219); stroke-opacity: 1;\"/><path class=\"point\" transform=\"translate(60,282.95)\" d=\"M3,0A3,3 0 1,1 0,-3A3,3 0 0,1 3,0Z\" style=\"opacity: 1; stroke-width: 1px; fill: rgb(135, 206, 250); fill-opacity: 0.5; stroke: rgb(147, 112, 219); stroke-opacity: 1;\"/><path class=\"point\" transform=\"translate(120,290.53)\" d=\"M3,0A3,3 0 1,1 0,-3A3,3 0 0,1 3,0Z\" style=\"opacity: 1; stroke-width: 1px; fill: rgb(135, 206, 250); fill-opacity: 0.5; stroke: rgb(147, 112, 219); stroke-opacity: 1;\"/><path class=\"point\" transform=\"translate(60,303.16)\" d=\"M3,0A3,3 0 1,1 0,-3A3,3 0 0,1 3,0Z\" style=\"opacity: 1; stroke-width: 1px; fill: rgb(135, 206, 250); fill-opacity: 0.5; stroke: rgb(147, 112, 219); stroke-opacity: 1;\"/><path class=\"point\" transform=\"translate(60,320)\" d=\"M3,0A3,3 0 1,1 0,-3A3,3 0 0,1 3,0Z\" style=\"opacity: 1; stroke-width: 1px; fill: rgb(135, 206, 250); fill-opacity: 0.5; stroke: rgb(147, 112, 219); stroke-opacity: 1;\"/><path class=\"point\" transform=\"translate(900,318.43)\" d=\"M3,0A3,3 0 1,1 0,-3A3,3 0 0,1 3,0Z\" style=\"opacity: 1; stroke-width: 1px; fill: rgb(135, 206, 250); fill-opacity: 0.5; stroke: rgb(147, 112, 219); stroke-opacity: 1;\"/><path class=\"point\" transform=\"translate(60,269.47)\" d=\"M3,0A3,3 0 1,1 0,-3A3,3 0 0,1 3,0Z\" style=\"opacity: 1; stroke-width: 1px; fill: rgb(135, 206, 250); fill-opacity: 0.5; stroke: rgb(147, 112, 219); stroke-opacity: 1;\"/><path class=\"point\" transform=\"translate(120,278.74)\" d=\"M3,0A3,3 0 1,1 0,-3A3,3 0 0,1 3,0Z\" style=\"opacity: 1; stroke-width: 1px; fill: rgb(135, 206, 250); fill-opacity: 0.5; stroke: rgb(147, 112, 219); stroke-opacity: 1;\"/><path class=\"point\" transform=\"translate(300,269.81)\" d=\"M3,0A3,3 0 1,1 0,-3A3,3 0 0,1 3,0Z\" style=\"opacity: 1; stroke-width: 1px; fill: rgb(135, 206, 250); fill-opacity: 0.5; stroke: rgb(147, 112, 219); stroke-opacity: 1;\"/><path class=\"point\" transform=\"translate(1080,285.19)\" d=\"M3,0A3,3 0 1,1 0,-3A3,3 0 0,1 3,0Z\" style=\"opacity: 1; stroke-width: 1px; fill: rgb(135, 206, 250); fill-opacity: 0.5; stroke: rgb(147, 112, 219); stroke-opacity: 1;\"/><path class=\"point\" transform=\"translate(540,252.63)\" d=\"M3,0A3,3 0 1,1 0,-3A3,3 0 0,1 3,0Z\" style=\"opacity: 1; stroke-width: 1px; fill: rgb(135, 206, 250); fill-opacity: 0.5; stroke: rgb(147, 112, 219); stroke-opacity: 1;\"/><path class=\"point\" transform=\"translate(60,247.58)\" d=\"M3,0A3,3 0 1,1 0,-3A3,3 0 0,1 3,0Z\" style=\"opacity: 1; stroke-width: 1px; fill: rgb(135, 206, 250); fill-opacity: 0.5; stroke: rgb(147, 112, 219); stroke-opacity: 1;\"/><path class=\"point\" transform=\"translate(240,264.42)\" d=\"M3,0A3,3 0 1,1 0,-3A3,3 0 0,1 3,0Z\" style=\"opacity: 1; stroke-width: 1px; fill: rgb(135, 206, 250); fill-opacity: 0.5; stroke: rgb(147, 112, 219); stroke-opacity: 1;\"/><path class=\"point\" transform=\"translate(300,294.4)\" d=\"M3,0A3,3 0 1,1 0,-3A3,3 0 0,1 3,0Z\" style=\"opacity: 1; stroke-width: 1px; fill: rgb(135, 206, 250); fill-opacity: 0.5; stroke: rgb(147, 112, 219); stroke-opacity: 1;\"/><path class=\"point\" transform=\"translate(600,279.07)\" d=\"M3,0A3,3 0 1,1 0,-3A3,3 0 0,1 3,0Z\" style=\"opacity: 1; stroke-width: 1px; fill: rgb(135, 206, 250); fill-opacity: 0.5; stroke: rgb(147, 112, 219); stroke-opacity: 1;\"/><path class=\"point\" transform=\"translate(60,320)\" d=\"M3,0A3,3 0 1,1 0,-3A3,3 0 0,1 3,0Z\" style=\"opacity: 1; stroke-width: 1px; fill: rgb(135, 206, 250); fill-opacity: 0.5; stroke: rgb(147, 112, 219); stroke-opacity: 1;\"/><path class=\"point\" transform=\"translate(60,252.63)\" d=\"M3,0A3,3 0 1,1 0,-3A3,3 0 0,1 3,0Z\" style=\"opacity: 1; stroke-width: 1px; fill: rgb(135, 206, 250); fill-opacity: 0.5; stroke: rgb(147, 112, 219); stroke-opacity: 1;\"/><path class=\"point\" transform=\"translate(60,272.84)\" d=\"M3,0A3,3 0 1,1 0,-3A3,3 0 0,1 3,0Z\" style=\"opacity: 1; stroke-width: 1px; fill: rgb(135, 206, 250); fill-opacity: 0.5; stroke: rgb(147, 112, 219); stroke-opacity: 1;\"/><path class=\"point\" transform=\"translate(120,280.42)\" d=\"M3,0A3,3 0 1,1 0,-3A3,3 0 0,1 3,0Z\" style=\"opacity: 1; stroke-width: 1px; fill: rgb(135, 206, 250); fill-opacity: 0.5; stroke: rgb(147, 112, 219); stroke-opacity: 1;\"/><path class=\"point\" transform=\"translate(60,185.26)\" d=\"M3,0A3,3 0 1,1 0,-3A3,3 0 0,1 3,0Z\" style=\"opacity: 1; stroke-width: 1px; fill: rgb(135, 206, 250); fill-opacity: 0.5; stroke: rgb(147, 112, 219); stroke-opacity: 1;\"/><path class=\"point\" transform=\"translate(120,265.26)\" d=\"M3,0A3,3 0 1,1 0,-3A3,3 0 0,1 3,0Z\" style=\"opacity: 1; stroke-width: 1px; fill: rgb(135, 206, 250); fill-opacity: 0.5; stroke: rgb(147, 112, 219); stroke-opacity: 1;\"/><path class=\"point\" transform=\"translate(180,190.88)\" d=\"M3,0A3,3 0 1,1 0,-3A3,3 0 0,1 3,0Z\" style=\"opacity: 1; stroke-width: 1px; fill: rgb(135, 206, 250); fill-opacity: 0.5; stroke: rgb(147, 112, 219); stroke-opacity: 1;\"/><path class=\"point\" transform=\"translate(180,276.21)\" d=\"M3,0A3,3 0 1,1 0,-3A3,3 0 0,1 3,0Z\" style=\"opacity: 1; stroke-width: 1px; fill: rgb(135, 206, 250); fill-opacity: 0.5; stroke: rgb(147, 112, 219); stroke-opacity: 1;\"/><path class=\"point\" transform=\"translate(60,272.84)\" d=\"M3,0A3,3 0 1,1 0,-3A3,3 0 0,1 3,0Z\" style=\"opacity: 1; stroke-width: 1px; fill: rgb(135, 206, 250); fill-opacity: 0.5; stroke: rgb(147, 112, 219); stroke-opacity: 1;\"/><path class=\"point\" transform=\"translate(60,320)\" d=\"M3,0A3,3 0 1,1 0,-3A3,3 0 0,1 3,0Z\" style=\"opacity: 1; stroke-width: 1px; fill: rgb(135, 206, 250); fill-opacity: 0.5; stroke: rgb(147, 112, 219); stroke-opacity: 1;\"/><path class=\"point\" transform=\"translate(180,184.7)\" d=\"M3,0A3,3 0 1,1 0,-3A3,3 0 0,1 3,0Z\" style=\"opacity: 1; stroke-width: 1px; fill: rgb(135, 206, 250); fill-opacity: 0.5; stroke: rgb(147, 112, 219); stroke-opacity: 1;\"/><path class=\"point\" transform=\"translate(360,313.54)\" d=\"M3,0A3,3 0 1,1 0,-3A3,3 0 0,1 3,0Z\" style=\"opacity: 1; stroke-width: 1px; fill: rgb(135, 206, 250); fill-opacity: 0.5; stroke: rgb(147, 112, 219); stroke-opacity: 1;\"/><path class=\"point\" transform=\"translate(60,-128)\" d=\"M3,0A3,3 0 1,1 0,-3A3,3 0 0,1 3,0Z\" style=\"opacity: 1; stroke-width: 1px; fill: rgb(135, 206, 250); fill-opacity: 0.5; stroke: rgb(147, 112, 219); stroke-opacity: 1;\"/><path class=\"point\" transform=\"translate(600,260.88)\" d=\"M3,0A3,3 0 1,1 0,-3A3,3 0 0,1 3,0Z\" style=\"opacity: 1; stroke-width: 1px; fill: rgb(135, 206, 250); fill-opacity: 0.5; stroke: rgb(147, 112, 219); stroke-opacity: 1;\"/><path class=\"point\" transform=\"translate(1560,257.49)\" d=\"M3,0A3,3 0 1,1 0,-3A3,3 0 0,1 3,0Z\" style=\"opacity: 1; stroke-width: 1px; fill: rgb(135, 206, 250); fill-opacity: 0.5; stroke: rgb(147, 112, 219); stroke-opacity: 1;\"/><path class=\"point\" transform=\"translate(60,309.89)\" d=\"M3,0A3,3 0 1,1 0,-3A3,3 0 0,1 3,0Z\" style=\"opacity: 1; stroke-width: 1px; fill: rgb(135, 206, 250); fill-opacity: 0.5; stroke: rgb(147, 112, 219); stroke-opacity: 1;\"/><path class=\"point\" transform=\"translate(420,268.75)\" d=\"M3,0A3,3 0 1,1 0,-3A3,3 0 0,1 3,0Z\" style=\"opacity: 1; stroke-width: 1px; fill: rgb(135, 206, 250); fill-opacity: 0.5; stroke: rgb(147, 112, 219); stroke-opacity: 1;\"/><path class=\"point\" transform=\"translate(60,286.32)\" d=\"M3,0A3,3 0 1,1 0,-3A3,3 0 0,1 3,0Z\" style=\"opacity: 1; stroke-width: 1px; fill: rgb(135, 206, 250); fill-opacity: 0.5; stroke: rgb(147, 112, 219); stroke-opacity: 1;\"/><path class=\"point\" transform=\"translate(60,252.63)\" d=\"M3,0A3,3 0 1,1 0,-3A3,3 0 0,1 3,0Z\" style=\"opacity: 1; stroke-width: 1px; fill: rgb(135, 206, 250); fill-opacity: 0.5; stroke: rgb(147, 112, 219); stroke-opacity: 1;\"/><path class=\"point\" transform=\"translate(60,303.16)\" d=\"M3,0A3,3 0 1,1 0,-3A3,3 0 0,1 3,0Z\" style=\"opacity: 1; stroke-width: 1px; fill: rgb(135, 206, 250); fill-opacity: 0.5; stroke: rgb(147, 112, 219); stroke-opacity: 1;\"/><path class=\"point\" transform=\"translate(120,256)\" d=\"M3,0A3,3 0 1,1 0,-3A3,3 0 0,1 3,0Z\" style=\"opacity: 1; stroke-width: 1px; fill: rgb(135, 206, 250); fill-opacity: 0.5; stroke: rgb(147, 112, 219); stroke-opacity: 1;\"/><path class=\"point\" transform=\"translate(60,279.58)\" d=\"M3,0A3,3 0 1,1 0,-3A3,3 0 0,1 3,0Z\" style=\"opacity: 1; stroke-width: 1px; fill: rgb(135, 206, 250); fill-opacity: 0.5; stroke: rgb(147, 112, 219); stroke-opacity: 1;\"/><path class=\"point\" transform=\"translate(300,255.66)\" d=\"M3,0A3,3 0 1,1 0,-3A3,3 0 0,1 3,0Z\" style=\"opacity: 1; stroke-width: 1px; fill: rgb(135, 206, 250); fill-opacity: 0.5; stroke: rgb(147, 112, 219); stroke-opacity: 1;\"/><path class=\"point\" transform=\"translate(60,320)\" d=\"M3,0A3,3 0 1,1 0,-3A3,3 0 0,1 3,0Z\" style=\"opacity: 1; stroke-width: 1px; fill: rgb(135, 206, 250); fill-opacity: 0.5; stroke: rgb(147, 112, 219); stroke-opacity: 1;\"/><path class=\"point\" transform=\"translate(60,279.58)\" d=\"M3,0A3,3 0 1,1 0,-3A3,3 0 0,1 3,0Z\" style=\"opacity: 1; stroke-width: 1px; fill: rgb(135, 206, 250); fill-opacity: 0.5; stroke: rgb(147, 112, 219); stroke-opacity: 1;\"/><path class=\"point\" transform=\"translate(60,293.05)\" d=\"M3,0A3,3 0 1,1 0,-3A3,3 0 0,1 3,0Z\" style=\"opacity: 1; stroke-width: 1px; fill: rgb(135, 206, 250); fill-opacity: 0.5; stroke: rgb(147, 112, 219); stroke-opacity: 1;\"/><path class=\"point\" transform=\"translate(60,286.32)\" d=\"M3,0A3,3 0 1,1 0,-3A3,3 0 0,1 3,0Z\" style=\"opacity: 1; stroke-width: 1px; fill: rgb(135, 206, 250); fill-opacity: 0.5; stroke: rgb(147, 112, 219); stroke-opacity: 1;\"/><path class=\"point\" transform=\"translate(360,239.72)\" d=\"M3,0A3,3 0 1,1 0,-3A3,3 0 0,1 3,0Z\" style=\"opacity: 1; stroke-width: 1px; fill: rgb(135, 206, 250); fill-opacity: 0.5; stroke: rgb(147, 112, 219); stroke-opacity: 1;\"/><path class=\"point\" transform=\"translate(180,320)\" d=\"M3,0A3,3 0 1,1 0,-3A3,3 0 0,1 3,0Z\" style=\"opacity: 1; stroke-width: 1px; fill: rgb(135, 206, 250); fill-opacity: 0.5; stroke: rgb(147, 112, 219); stroke-opacity: 1;\"/><path class=\"point\" transform=\"translate(60,286.32)\" d=\"M3,0A3,3 0 1,1 0,-3A3,3 0 0,1 3,0Z\" style=\"opacity: 1; stroke-width: 1px; fill: rgb(135, 206, 250); fill-opacity: 0.5; stroke: rgb(147, 112, 219); stroke-opacity: 1;\"/><path class=\"point\" transform=\"translate(120,249.26)\" d=\"M3,0A3,3 0 1,1 0,-3A3,3 0 0,1 3,0Z\" style=\"opacity: 1; stroke-width: 1px; fill: rgb(135, 206, 250); fill-opacity: 0.5; stroke: rgb(147, 112, 219); stroke-opacity: 1;\"/><path class=\"point\" transform=\"translate(60,293.05)\" d=\"M3,0A3,3 0 1,1 0,-3A3,3 0 0,1 3,0Z\" style=\"opacity: 1; stroke-width: 1px; fill: rgb(135, 206, 250); fill-opacity: 0.5; stroke: rgb(147, 112, 219); stroke-opacity: 1;\"/><path class=\"point\" transform=\"translate(180,218.39)\" d=\"M3,0A3,3 0 1,1 0,-3A3,3 0 0,1 3,0Z\" style=\"opacity: 1; stroke-width: 1px; fill: rgb(135, 206, 250); fill-opacity: 0.5; stroke: rgb(147, 112, 219); stroke-opacity: 1;\"/><path class=\"point\" transform=\"translate(240,122.11)\" d=\"M3,0A3,3 0 1,1 0,-3A3,3 0 0,1 3,0Z\" style=\"opacity: 1; stroke-width: 1px; fill: rgb(135, 206, 250); fill-opacity: 0.5; stroke: rgb(147, 112, 219); stroke-opacity: 1;\"/><path class=\"point\" transform=\"translate(180,218.95)\" d=\"M3,0A3,3 0 1,1 0,-3A3,3 0 0,1 3,0Z\" style=\"opacity: 1; stroke-width: 1px; fill: rgb(135, 206, 250); fill-opacity: 0.5; stroke: rgb(147, 112, 219); stroke-opacity: 1;\"/><path class=\"point\" transform=\"translate(60,303.16)\" d=\"M3,0A3,3 0 1,1 0,-3A3,3 0 0,1 3,0Z\" style=\"opacity: 1; stroke-width: 1px; fill: rgb(135, 206, 250); fill-opacity: 0.5; stroke: rgb(147, 112, 219); stroke-opacity: 1;\"/><path class=\"point\" transform=\"translate(60,160)\" d=\"M3,0A3,3 0 1,1 0,-3A3,3 0 0,1 3,0Z\" style=\"opacity: 1; stroke-width: 1px; fill: rgb(135, 206, 250); fill-opacity: 0.5; stroke: rgb(147, 112, 219); stroke-opacity: 1;\"/><path class=\"point\" transform=\"translate(120,213.89)\" d=\"M3,0A3,3 0 1,1 0,-3A3,3 0 0,1 3,0Z\" style=\"opacity: 1; stroke-width: 1px; fill: rgb(135, 206, 250); fill-opacity: 0.5; stroke: rgb(147, 112, 219); stroke-opacity: 1;\"/><path class=\"point\" transform=\"translate(120,85.89)\" d=\"M3,0A3,3 0 1,1 0,-3A3,3 0 0,1 3,0Z\" style=\"opacity: 1; stroke-width: 1px; fill: rgb(135, 206, 250); fill-opacity: 0.5; stroke: rgb(147, 112, 219); stroke-opacity: 1;\"/><path class=\"point\" transform=\"translate(180,126.88)\" d=\"M3,0A3,3 0 1,1 0,-3A3,3 0 0,1 3,0Z\" style=\"opacity: 1; stroke-width: 1px; fill: rgb(135, 206, 250); fill-opacity: 0.5; stroke: rgb(147, 112, 219); stroke-opacity: 1;\"/><path class=\"point\" transform=\"translate(120,261.05)\" d=\"M3,0A3,3 0 1,1 0,-3A3,3 0 0,1 3,0Z\" style=\"opacity: 1; stroke-width: 1px; fill: rgb(135, 206, 250); fill-opacity: 0.5; stroke: rgb(147, 112, 219); stroke-opacity: 1;\"/><path class=\"point\" transform=\"translate(60,154.95)\" d=\"M3,0A3,3 0 1,1 0,-3A3,3 0 0,1 3,0Z\" style=\"opacity: 1; stroke-width: 1px; fill: rgb(135, 206, 250); fill-opacity: 0.5; stroke: rgb(147, 112, 219); stroke-opacity: 1;\"/><path class=\"point\" transform=\"translate(60,117.89)\" d=\"M3,0A3,3 0 1,1 0,-3A3,3 0 0,1 3,0Z\" style=\"opacity: 1; stroke-width: 1px; fill: rgb(135, 206, 250); fill-opacity: 0.5; stroke: rgb(147, 112, 219); stroke-opacity: 1;\"/><path class=\"point\" transform=\"translate(60,151.58)\" d=\"M3,0A3,3 0 1,1 0,-3A3,3 0 0,1 3,0Z\" style=\"opacity: 1; stroke-width: 1px; fill: rgb(135, 206, 250); fill-opacity: 0.5; stroke: rgb(147, 112, 219); stroke-opacity: 1;\"/><path class=\"point\" transform=\"translate(120,115.37)\" d=\"M3,0A3,3 0 1,1 0,-3A3,3 0 0,1 3,0Z\" style=\"opacity: 1; stroke-width: 1px; fill: rgb(135, 206, 250); fill-opacity: 0.5; stroke: rgb(147, 112, 219); stroke-opacity: 1;\"/><path class=\"point\" transform=\"translate(60,286.32)\" d=\"M3,0A3,3 0 1,1 0,-3A3,3 0 0,1 3,0Z\" style=\"opacity: 1; stroke-width: 1px; fill: rgb(135, 206, 250); fill-opacity: 0.5; stroke: rgb(147, 112, 219); stroke-opacity: 1;\"/><path class=\"point\" transform=\"translate(60,160)\" d=\"M3,0A3,3 0 1,1 0,-3A3,3 0 0,1 3,0Z\" style=\"opacity: 1; stroke-width: 1px; fill: rgb(135, 206, 250); fill-opacity: 0.5; stroke: rgb(147, 112, 219); stroke-opacity: 1;\"/><path class=\"point\" transform=\"translate(300,60.63)\" d=\"M3,0A3,3 0 1,1 0,-3A3,3 0 0,1 3,0Z\" style=\"opacity: 1; stroke-width: 1px; fill: rgb(135, 206, 250); fill-opacity: 0.5; stroke: rgb(147, 112, 219); stroke-opacity: 1;\"/><path class=\"point\" transform=\"translate(60,158.32)\" d=\"M3,0A3,3 0 1,1 0,-3A3,3 0 0,1 3,0Z\" style=\"opacity: 1; stroke-width: 1px; fill: rgb(135, 206, 250); fill-opacity: 0.5; stroke: rgb(147, 112, 219); stroke-opacity: 1;\"/><path class=\"point\" transform=\"translate(60,117.89)\" d=\"M3,0A3,3 0 1,1 0,-3A3,3 0 0,1 3,0Z\" style=\"opacity: 1; stroke-width: 1px; fill: rgb(135, 206, 250); fill-opacity: 0.5; stroke: rgb(147, 112, 219); stroke-opacity: 1;\"/><path class=\"point\" transform=\"translate(120,197.89)\" d=\"M3,0A3,3 0 1,1 0,-3A3,3 0 0,1 3,0Z\" style=\"opacity: 1; stroke-width: 1px; fill: rgb(135, 206, 250); fill-opacity: 0.5; stroke: rgb(147, 112, 219); stroke-opacity: 1;\"/><path class=\"point\" transform=\"translate(120,109.47)\" d=\"M3,0A3,3 0 1,1 0,-3A3,3 0 0,1 3,0Z\" style=\"opacity: 1; stroke-width: 1px; fill: rgb(135, 206, 250); fill-opacity: 0.5; stroke: rgb(147, 112, 219); stroke-opacity: 1;\"/><path class=\"point\" transform=\"translate(480,80.84)\" d=\"M3,0A3,3 0 1,1 0,-3A3,3 0 0,1 3,0Z\" style=\"opacity: 1; stroke-width: 1px; fill: rgb(135, 206, 250); fill-opacity: 0.5; stroke: rgb(147, 112, 219); stroke-opacity: 1;\"/><path class=\"point\" transform=\"translate(60,218.95)\" d=\"M3,0A3,3 0 1,1 0,-3A3,3 0 0,1 3,0Z\" style=\"opacity: 1; stroke-width: 1px; fill: rgb(135, 206, 250); fill-opacity: 0.5; stroke: rgb(147, 112, 219); stroke-opacity: 1;\"/><path class=\"point\" transform=\"translate(60,266.11)\" d=\"M3,0A3,3 0 1,1 0,-3A3,3 0 0,1 3,0Z\" style=\"opacity: 1; stroke-width: 1px; fill: rgb(135, 206, 250); fill-opacity: 0.5; stroke: rgb(147, 112, 219); stroke-opacity: 1;\"/><path class=\"point\" transform=\"translate(180,117.89)\" d=\"M3,0A3,3 0 1,1 0,-3A3,3 0 0,1 3,0Z\" style=\"opacity: 1; stroke-width: 1px; fill: rgb(135, 206, 250); fill-opacity: 0.5; stroke: rgb(147, 112, 219); stroke-opacity: 1;\"/><path class=\"point\" transform=\"translate(60,165.05)\" d=\"M3,0A3,3 0 1,1 0,-3A3,3 0 0,1 3,0Z\" style=\"opacity: 1; stroke-width: 1px; fill: rgb(135, 206, 250); fill-opacity: 0.5; stroke: rgb(147, 112, 219); stroke-opacity: 1;\"/><path class=\"point\" transform=\"translate(660,134.28)\" d=\"M3,0A3,3 0 1,1 0,-3A3,3 0 0,1 3,0Z\" style=\"opacity: 1; stroke-width: 1px; fill: rgb(135, 206, 250); fill-opacity: 0.5; stroke: rgb(147, 112, 219); stroke-opacity: 1;\"/><path class=\"point\" transform=\"translate(60,92.63)\" d=\"M3,0A3,3 0 1,1 0,-3A3,3 0 0,1 3,0Z\" style=\"opacity: 1; stroke-width: 1px; fill: rgb(135, 206, 250); fill-opacity: 0.5; stroke: rgb(147, 112, 219); stroke-opacity: 1;\"/><path class=\"point\" transform=\"translate(60,286.32)\" d=\"M3,0A3,3 0 1,1 0,-3A3,3 0 0,1 3,0Z\" style=\"opacity: 1; stroke-width: 1px; fill: rgb(135, 206, 250); fill-opacity: 0.5; stroke: rgb(147, 112, 219); stroke-opacity: 1;\"/><path class=\"point\" transform=\"translate(120,170.11)\" d=\"M3,0A3,3 0 1,1 0,-3A3,3 0 0,1 3,0Z\" style=\"opacity: 1; stroke-width: 1px; fill: rgb(135, 206, 250); fill-opacity: 0.5; stroke: rgb(147, 112, 219); stroke-opacity: 1;\"/><path class=\"point\" transform=\"translate(180,11.23)\" d=\"M3,0A3,3 0 1,1 0,-3A3,3 0 0,1 3,0Z\" style=\"opacity: 1; stroke-width: 1px; fill: rgb(135, 206, 250); fill-opacity: 0.5; stroke: rgb(147, 112, 219); stroke-opacity: 1;\"/><path class=\"point\" transform=\"translate(60,218.95)\" d=\"M3,0A3,3 0 1,1 0,-3A3,3 0 0,1 3,0Z\" style=\"opacity: 1; stroke-width: 1px; fill: rgb(135, 206, 250); fill-opacity: 0.5; stroke: rgb(147, 112, 219); stroke-opacity: 1;\"/><path class=\"point\" transform=\"translate(60,-101.05)\" d=\"M3,0A3,3 0 1,1 0,-3A3,3 0 0,1 3,0Z\" style=\"opacity: 1; stroke-width: 1px; fill: rgb(135, 206, 250); fill-opacity: 0.5; stroke: rgb(147, 112, 219); stroke-opacity: 1;\"/><path class=\"point\" transform=\"translate(300,47.49)\" d=\"M3,0A3,3 0 1,1 0,-3A3,3 0 0,1 3,0Z\" style=\"opacity: 1; stroke-width: 1px; fill: rgb(135, 206, 250); fill-opacity: 0.5; stroke: rgb(147, 112, 219); stroke-opacity: 1;\"/><path class=\"point\" transform=\"translate(180,152.14)\" d=\"M3,0A3,3 0 1,1 0,-3A3,3 0 0,1 3,0Z\" style=\"opacity: 1; stroke-width: 1px; fill: rgb(135, 206, 250); fill-opacity: 0.5; stroke: rgb(147, 112, 219); stroke-opacity: 1;\"/><path class=\"point\" transform=\"translate(60,151.58)\" d=\"M3,0A3,3 0 1,1 0,-3A3,3 0 0,1 3,0Z\" style=\"opacity: 1; stroke-width: 1px; fill: rgb(135, 206, 250); fill-opacity: 0.5; stroke: rgb(147, 112, 219); stroke-opacity: 1;\"/><path class=\"point\" transform=\"translate(120,176.84)\" d=\"M3,0A3,3 0 1,1 0,-3A3,3 0 0,1 3,0Z\" style=\"opacity: 1; stroke-width: 1px; fill: rgb(135, 206, 250); fill-opacity: 0.5; stroke: rgb(147, 112, 219); stroke-opacity: 1;\"/><path class=\"point\" transform=\"translate(60,269.47)\" d=\"M3,0A3,3 0 1,1 0,-3A3,3 0 0,1 3,0Z\" style=\"opacity: 1; stroke-width: 1px; fill: rgb(135, 206, 250); fill-opacity: 0.5; stroke: rgb(147, 112, 219); stroke-opacity: 1;\"/><path class=\"point\" transform=\"translate(60,320)\" d=\"M3,0A3,3 0 1,1 0,-3A3,3 0 0,1 3,0Z\" style=\"opacity: 1; stroke-width: 1px; fill: rgb(135, 206, 250); fill-opacity: 0.5; stroke: rgb(147, 112, 219); stroke-opacity: 1;\"/><path class=\"point\" transform=\"translate(60,16.84)\" d=\"M3,0A3,3 0 1,1 0,-3A3,3 0 0,1 3,0Z\" style=\"opacity: 1; stroke-width: 1px; fill: rgb(135, 206, 250); fill-opacity: 0.5; stroke: rgb(147, 112, 219); stroke-opacity: 1;\"/><path class=\"point\" transform=\"translate(60,235.79)\" d=\"M3,0A3,3 0 1,1 0,-3A3,3 0 0,1 3,0Z\" style=\"opacity: 1; stroke-width: 1px; fill: rgb(135, 206, 250); fill-opacity: 0.5; stroke: rgb(147, 112, 219); stroke-opacity: 1;\"/><path class=\"point\" transform=\"translate(60,151.58)\" d=\"M3,0A3,3 0 1,1 0,-3A3,3 0 0,1 3,0Z\" style=\"opacity: 1; stroke-width: 1px; fill: rgb(135, 206, 250); fill-opacity: 0.5; stroke: rgb(147, 112, 219); stroke-opacity: 1;\"/><path class=\"point\" transform=\"translate(180,206.6)\" d=\"M3,0A3,3 0 1,1 0,-3A3,3 0 0,1 3,0Z\" style=\"opacity: 1; stroke-width: 1px; fill: rgb(135, 206, 250); fill-opacity: 0.5; stroke: rgb(147, 112, 219); stroke-opacity: 1;\"/><path class=\"point\" transform=\"translate(60,33.68)\" d=\"M3,0A3,3 0 1,1 0,-3A3,3 0 0,1 3,0Z\" style=\"opacity: 1; stroke-width: 1px; fill: rgb(135, 206, 250); fill-opacity: 0.5; stroke: rgb(147, 112, 219); stroke-opacity: 1;\"/><path class=\"point\" transform=\"translate(60,277.89)\" d=\"M3,0A3,3 0 1,1 0,-3A3,3 0 0,1 3,0Z\" style=\"opacity: 1; stroke-width: 1px; fill: rgb(135, 206, 250); fill-opacity: 0.5; stroke: rgb(147, 112, 219); stroke-opacity: 1;\"/><path class=\"point\" transform=\"translate(60,239.16)\" d=\"M3,0A3,3 0 1,1 0,-3A3,3 0 0,1 3,0Z\" style=\"opacity: 1; stroke-width: 1px; fill: rgb(135, 206, 250); fill-opacity: 0.5; stroke: rgb(147, 112, 219); stroke-opacity: 1;\"/><path class=\"point\" transform=\"translate(60,227.37)\" d=\"M3,0A3,3 0 1,1 0,-3A3,3 0 0,1 3,0Z\" style=\"opacity: 1; stroke-width: 1px; fill: rgb(135, 206, 250); fill-opacity: 0.5; stroke: rgb(147, 112, 219); stroke-opacity: 1;\"/><path class=\"point\" transform=\"translate(60,158.32)\" d=\"M3,0A3,3 0 1,1 0,-3A3,3 0 0,1 3,0Z\" style=\"opacity: 1; stroke-width: 1px; fill: rgb(135, 206, 250); fill-opacity: 0.5; stroke: rgb(147, 112, 219); stroke-opacity: 1;\"/><path class=\"point\" transform=\"translate(180,227.93)\" d=\"M3,0A3,3 0 1,1 0,-3A3,3 0 0,1 3,0Z\" style=\"opacity: 1; stroke-width: 1px; fill: rgb(135, 206, 250); fill-opacity: 0.5; stroke: rgb(147, 112, 219); stroke-opacity: 1;\"/><path class=\"point\" transform=\"translate(120,284.63)\" d=\"M3,0A3,3 0 1,1 0,-3A3,3 0 0,1 3,0Z\" style=\"opacity: 1; stroke-width: 1px; fill: rgb(135, 206, 250); fill-opacity: 0.5; stroke: rgb(147, 112, 219); stroke-opacity: 1;\"/><path class=\"point\" transform=\"translate(120,314.95)\" d=\"M3,0A3,3 0 1,1 0,-3A3,3 0 0,1 3,0Z\" style=\"opacity: 1; stroke-width: 1px; fill: rgb(135, 206, 250); fill-opacity: 0.5; stroke: rgb(147, 112, 219); stroke-opacity: 1;\"/><path class=\"point\" transform=\"translate(480,215.37)\" d=\"M3,0A3,3 0 1,1 0,-3A3,3 0 0,1 3,0Z\" style=\"opacity: 1; stroke-width: 1px; fill: rgb(135, 206, 250); fill-opacity: 0.5; stroke: rgb(147, 112, 219); stroke-opacity: 1;\"/><path class=\"point\" transform=\"translate(360,143.16)\" d=\"M3,0A3,3 0 1,1 0,-3A3,3 0 0,1 3,0Z\" style=\"opacity: 1; stroke-width: 1px; fill: rgb(135, 206, 250); fill-opacity: 0.5; stroke: rgb(147, 112, 219); stroke-opacity: 1;\"/><path class=\"point\" transform=\"translate(1140,291.72)\" d=\"M3,0A3,3 0 1,1 0,-3A3,3 0 0,1 3,0Z\" style=\"opacity: 1; stroke-width: 1px; fill: rgb(135, 206, 250); fill-opacity: 0.5; stroke: rgb(147, 112, 219); stroke-opacity: 1;\"/><path class=\"point\" transform=\"translate(60,293.05)\" d=\"M3,0A3,3 0 1,1 0,-3A3,3 0 0,1 3,0Z\" style=\"opacity: 1; stroke-width: 1px; fill: rgb(135, 206, 250); fill-opacity: 0.5; stroke: rgb(147, 112, 219); stroke-opacity: 1;\"/><path class=\"point\" transform=\"translate(60,279.58)\" d=\"M3,0A3,3 0 1,1 0,-3A3,3 0 0,1 3,0Z\" style=\"opacity: 1; stroke-width: 1px; fill: rgb(135, 206, 250); fill-opacity: 0.5; stroke: rgb(147, 112, 219); stroke-opacity: 1;\"/><path class=\"point\" transform=\"translate(120,289.68)\" d=\"M3,0A3,3 0 1,1 0,-3A3,3 0 0,1 3,0Z\" style=\"opacity: 1; stroke-width: 1px; fill: rgb(135, 206, 250); fill-opacity: 0.5; stroke: rgb(147, 112, 219); stroke-opacity: 1;\"/><path class=\"point\" transform=\"translate(180,92.63)\" d=\"M3,0A3,3 0 1,1 0,-3A3,3 0 0,1 3,0Z\" style=\"opacity: 1; stroke-width: 1px; fill: rgb(135, 206, 250); fill-opacity: 0.5; stroke: rgb(147, 112, 219); stroke-opacity: 1;\"/><path class=\"point\" transform=\"translate(60,185.26)\" d=\"M3,0A3,3 0 1,1 0,-3A3,3 0 0,1 3,0Z\" style=\"opacity: 1; stroke-width: 1px; fill: rgb(135, 206, 250); fill-opacity: 0.5; stroke: rgb(147, 112, 219); stroke-opacity: 1;\"/><path class=\"point\" transform=\"translate(60,154.95)\" d=\"M3,0A3,3 0 1,1 0,-3A3,3 0 0,1 3,0Z\" style=\"opacity: 1; stroke-width: 1px; fill: rgb(135, 206, 250); fill-opacity: 0.5; stroke: rgb(147, 112, 219); stroke-opacity: 1;\"/><path class=\"point\" transform=\"translate(60,185.26)\" d=\"M3,0A3,3 0 1,1 0,-3A3,3 0 0,1 3,0Z\" style=\"opacity: 1; stroke-width: 1px; fill: rgb(135, 206, 250); fill-opacity: 0.5; stroke: rgb(147, 112, 219); stroke-opacity: 1;\"/><path class=\"point\" transform=\"translate(60,306.53)\" d=\"M3,0A3,3 0 1,1 0,-3A3,3 0 0,1 3,0Z\" style=\"opacity: 1; stroke-width: 1px; fill: rgb(135, 206, 250); fill-opacity: 0.5; stroke: rgb(147, 112, 219); stroke-opacity: 1;\"/><path class=\"point\" transform=\"translate(60,239.16)\" d=\"M3,0A3,3 0 1,1 0,-3A3,3 0 0,1 3,0Z\" style=\"opacity: 1; stroke-width: 1px; fill: rgb(135, 206, 250); fill-opacity: 0.5; stroke: rgb(147, 112, 219); stroke-opacity: 1;\"/><path class=\"point\" transform=\"translate(360,293.89)\" d=\"M3,0A3,3 0 1,1 0,-3A3,3 0 0,1 3,0Z\" style=\"opacity: 1; stroke-width: 1px; fill: rgb(135, 206, 250); fill-opacity: 0.5; stroke: rgb(147, 112, 219); stroke-opacity: 1;\"/><path class=\"point\" transform=\"translate(60,-16.84)\" d=\"M3,0A3,3 0 1,1 0,-3A3,3 0 0,1 3,0Z\" style=\"opacity: 1; stroke-width: 1px; fill: rgb(135, 206, 250); fill-opacity: 0.5; stroke: rgb(147, 112, 219); stroke-opacity: 1;\"/><path class=\"point\" transform=\"translate(60,181.89)\" d=\"M3,0A3,3 0 1,1 0,-3A3,3 0 0,1 3,0Z\" style=\"opacity: 1; stroke-width: 1px; fill: rgb(135, 206, 250); fill-opacity: 0.5; stroke: rgb(147, 112, 219); stroke-opacity: 1;\"/><path class=\"point\" transform=\"translate(60,261.05)\" d=\"M3,0A3,3 0 1,1 0,-3A3,3 0 0,1 3,0Z\" style=\"opacity: 1; stroke-width: 1px; fill: rgb(135, 206, 250); fill-opacity: 0.5; stroke: rgb(147, 112, 219); stroke-opacity: 1;\"/><path class=\"point\" transform=\"translate(60,202.11)\" d=\"M3,0A3,3 0 1,1 0,-3A3,3 0 0,1 3,0Z\" style=\"opacity: 1; stroke-width: 1px; fill: rgb(135, 206, 250); fill-opacity: 0.5; stroke: rgb(147, 112, 219); stroke-opacity: 1;\"/><path class=\"point\" transform=\"translate(60,67.37)\" d=\"M3,0A3,3 0 1,1 0,-3A3,3 0 0,1 3,0Z\" style=\"opacity: 1; stroke-width: 1px; fill: rgb(135, 206, 250); fill-opacity: 0.5; stroke: rgb(147, 112, 219); stroke-opacity: 1;\"/><path class=\"point\" transform=\"translate(1260,248.46)\" d=\"M3,0A3,3 0 1,1 0,-3A3,3 0 0,1 3,0Z\" style=\"opacity: 1; stroke-width: 1px; fill: rgb(135, 206, 250); fill-opacity: 0.5; stroke: rgb(147, 112, 219); stroke-opacity: 1;\"/><path class=\"point\" transform=\"translate(180,245.89)\" d=\"M3,0A3,3 0 1,1 0,-3A3,3 0 0,1 3,0Z\" style=\"opacity: 1; stroke-width: 1px; fill: rgb(135, 206, 250); fill-opacity: 0.5; stroke: rgb(147, 112, 219); stroke-opacity: 1;\"/><path class=\"point\" transform=\"translate(60,235.79)\" d=\"M3,0A3,3 0 1,1 0,-3A3,3 0 0,1 3,0Z\" style=\"opacity: 1; stroke-width: 1px; fill: rgb(135, 206, 250); fill-opacity: 0.5; stroke: rgb(147, 112, 219); stroke-opacity: 1;\"/><path class=\"point\" transform=\"translate(840,318.8)\" d=\"M3,0A3,3 0 1,1 0,-3A3,3 0 0,1 3,0Z\" style=\"opacity: 1; stroke-width: 1px; fill: rgb(135, 206, 250); fill-opacity: 0.5; stroke: rgb(147, 112, 219); stroke-opacity: 1;\"/><path class=\"point\" transform=\"translate(60,303.16)\" d=\"M3,0A3,3 0 1,1 0,-3A3,3 0 0,1 3,0Z\" style=\"opacity: 1; stroke-width: 1px; fill: rgb(135, 206, 250); fill-opacity: 0.5; stroke: rgb(147, 112, 219); stroke-opacity: 1;\"/><path class=\"point\" transform=\"translate(60,320)\" d=\"M3,0A3,3 0 1,1 0,-3A3,3 0 0,1 3,0Z\" style=\"opacity: 1; stroke-width: 1px; fill: rgb(135, 206, 250); fill-opacity: 0.5; stroke: rgb(147, 112, 219); stroke-opacity: 1;\"/><path class=\"point\" transform=\"translate(60,-151.58)\" d=\"M3,0A3,3 0 1,1 0,-3A3,3 0 0,1 3,0Z\" style=\"opacity: 1; stroke-width: 1px; fill: rgb(135, 206, 250); fill-opacity: 0.5; stroke: rgb(147, 112, 219); stroke-opacity: 1;\"/><path class=\"point\" transform=\"translate(120,-42.11)\" d=\"M3,0A3,3 0 1,1 0,-3A3,3 0 0,1 3,0Z\" style=\"opacity: 1; stroke-width: 1px; fill: rgb(135, 206, 250); fill-opacity: 0.5; stroke: rgb(147, 112, 219); stroke-opacity: 1;\"/><path class=\"point\" transform=\"translate(60,185.26)\" d=\"M3,0A3,3 0 1,1 0,-3A3,3 0 0,1 3,0Z\" style=\"opacity: 1; stroke-width: 1px; fill: rgb(135, 206, 250); fill-opacity: 0.5; stroke: rgb(147, 112, 219); stroke-opacity: 1;\"/><path class=\"point\" transform=\"translate(60,117.89)\" d=\"M3,0A3,3 0 1,1 0,-3A3,3 0 0,1 3,0Z\" style=\"opacity: 1; stroke-width: 1px; fill: rgb(135, 206, 250); fill-opacity: 0.5; stroke: rgb(147, 112, 219); stroke-opacity: 1;\"/><path class=\"point\" transform=\"translate(60,261.05)\" d=\"M3,0A3,3 0 1,1 0,-3A3,3 0 0,1 3,0Z\" style=\"opacity: 1; stroke-width: 1px; fill: rgb(135, 206, 250); fill-opacity: 0.5; stroke: rgb(147, 112, 219); stroke-opacity: 1;\"/><path class=\"point\" transform=\"translate(120,237.47)\" d=\"M3,0A3,3 0 1,1 0,-3A3,3 0 0,1 3,0Z\" style=\"opacity: 1; stroke-width: 1px; fill: rgb(135, 206, 250); fill-opacity: 0.5; stroke: rgb(147, 112, 219); stroke-opacity: 1;\"/><path class=\"point\" transform=\"translate(4320,308.7)\" d=\"M3,0A3,3 0 1,1 0,-3A3,3 0 0,1 3,0Z\" style=\"opacity: 1; stroke-width: 1px; fill: rgb(135, 206, 250); fill-opacity: 0.5; stroke: rgb(147, 112, 219); stroke-opacity: 1;\"/><path class=\"point\" transform=\"translate(60,313.26)\" d=\"M3,0A3,3 0 1,1 0,-3A3,3 0 0,1 3,0Z\" style=\"opacity: 1; stroke-width: 1px; fill: rgb(135, 206, 250); fill-opacity: 0.5; stroke: rgb(147, 112, 219); stroke-opacity: 1;\"/><path class=\"point\" transform=\"translate(60,282.95)\" d=\"M3,0A3,3 0 1,1 0,-3A3,3 0 0,1 3,0Z\" style=\"opacity: 1; stroke-width: 1px; fill: rgb(135, 206, 250); fill-opacity: 0.5; stroke: rgb(147, 112, 219); stroke-opacity: 1;\"/><path class=\"point\" transform=\"translate(780,309.51)\" d=\"M3,0A3,3 0 1,1 0,-3A3,3 0 0,1 3,0Z\" style=\"opacity: 1; stroke-width: 1px; fill: rgb(135, 206, 250); fill-opacity: 0.5; stroke: rgb(147, 112, 219); stroke-opacity: 1;\"/><path class=\"point\" transform=\"translate(780,306.66)\" d=\"M3,0A3,3 0 1,1 0,-3A3,3 0 0,1 3,0Z\" style=\"opacity: 1; stroke-width: 1px; fill: rgb(135, 206, 250); fill-opacity: 0.5; stroke: rgb(147, 112, 219); stroke-opacity: 1;\"/><path class=\"point\" transform=\"translate(120,303.16)\" d=\"M3,0A3,3 0 1,1 0,-3A3,3 0 0,1 3,0Z\" style=\"opacity: 1; stroke-width: 1px; fill: rgb(135, 206, 250); fill-opacity: 0.5; stroke: rgb(147, 112, 219); stroke-opacity: 1;\"/><path class=\"point\" transform=\"translate(60,286.32)\" d=\"M3,0A3,3 0 1,1 0,-3A3,3 0 0,1 3,0Z\" style=\"opacity: 1; stroke-width: 1px; fill: rgb(135, 206, 250); fill-opacity: 0.5; stroke: rgb(147, 112, 219); stroke-opacity: 1;\"/><path class=\"point\" transform=\"translate(180,291.93)\" d=\"M3,0A3,3 0 1,1 0,-3A3,3 0 0,1 3,0Z\" style=\"opacity: 1; stroke-width: 1px; fill: rgb(135, 206, 250); fill-opacity: 0.5; stroke: rgb(147, 112, 219); stroke-opacity: 1;\"/><path class=\"point\" transform=\"translate(900,306.41)\" d=\"M3,0A3,3 0 1,1 0,-3A3,3 0 0,1 3,0Z\" style=\"opacity: 1; stroke-width: 1px; fill: rgb(135, 206, 250); fill-opacity: 0.5; stroke: rgb(147, 112, 219); stroke-opacity: 1;\"/><path class=\"point\" transform=\"translate(120,240)\" d=\"M3,0A3,3 0 1,1 0,-3A3,3 0 0,1 3,0Z\" style=\"opacity: 1; stroke-width: 1px; fill: rgb(135, 206, 250); fill-opacity: 0.5; stroke: rgb(147, 112, 219); stroke-opacity: 1;\"/><path class=\"point\" transform=\"translate(60,239.16)\" d=\"M3,0A3,3 0 1,1 0,-3A3,3 0 0,1 3,0Z\" style=\"opacity: 1; stroke-width: 1px; fill: rgb(135, 206, 250); fill-opacity: 0.5; stroke: rgb(147, 112, 219); stroke-opacity: 1;\"/><path class=\"point\" transform=\"translate(60,306.53)\" d=\"M3,0A3,3 0 1,1 0,-3A3,3 0 0,1 3,0Z\" style=\"opacity: 1; stroke-width: 1px; fill: rgb(135, 206, 250); fill-opacity: 0.5; stroke: rgb(147, 112, 219); stroke-opacity: 1;\"/><path class=\"point\" transform=\"translate(1920,128.21)\" d=\"M3,0A3,3 0 1,1 0,-3A3,3 0 0,1 3,0Z\" style=\"opacity: 1; stroke-width: 1px; fill: rgb(135, 206, 250); fill-opacity: 0.5; stroke: rgb(147, 112, 219); stroke-opacity: 1;\"/><path class=\"point\" transform=\"translate(120,179.37)\" d=\"M3,0A3,3 0 1,1 0,-3A3,3 0 0,1 3,0Z\" style=\"opacity: 1; stroke-width: 1px; fill: rgb(135, 206, 250); fill-opacity: 0.5; stroke: rgb(147, 112, 219); stroke-opacity: 1;\"/><path class=\"point\" transform=\"translate(420,284.63)\" d=\"M3,0A3,3 0 1,1 0,-3A3,3 0 0,1 3,0Z\" style=\"opacity: 1; stroke-width: 1px; fill: rgb(135, 206, 250); fill-opacity: 0.5; stroke: rgb(147, 112, 219); stroke-opacity: 1;\"/><path class=\"point\" transform=\"translate(180,-44.91)\" d=\"M3,0A3,3 0 1,1 0,-3A3,3 0 0,1 3,0Z\" style=\"opacity: 1; stroke-width: 1px; fill: rgb(135, 206, 250); fill-opacity: 0.5; stroke: rgb(147, 112, 219); stroke-opacity: 1;\"/><path class=\"point\" transform=\"translate(5640,276.87)\" d=\"M3,0A3,3 0 1,1 0,-3A3,3 0 0,1 3,0Z\" style=\"opacity: 1; stroke-width: 1px; fill: rgb(135, 206, 250); fill-opacity: 0.5; stroke: rgb(147, 112, 219); stroke-opacity: 1;\"/><path class=\"point\" transform=\"translate(60,235.79)\" d=\"M3,0A3,3 0 1,1 0,-3A3,3 0 0,1 3,0Z\" style=\"opacity: 1; stroke-width: 1px; fill: rgb(135, 206, 250); fill-opacity: 0.5; stroke: rgb(147, 112, 219); stroke-opacity: 1;\"/><path class=\"point\" transform=\"translate(60,299.79)\" d=\"M3,0A3,3 0 1,1 0,-3A3,3 0 0,1 3,0Z\" style=\"opacity: 1; stroke-width: 1px; fill: rgb(135, 206, 250); fill-opacity: 0.5; stroke: rgb(147, 112, 219); stroke-opacity: 1;\"/><path class=\"point\" transform=\"translate(240,176.84)\" d=\"M3,0A3,3 0 1,1 0,-3A3,3 0 0,1 3,0Z\" style=\"opacity: 1; stroke-width: 1px; fill: rgb(135, 206, 250); fill-opacity: 0.5; stroke: rgb(147, 112, 219); stroke-opacity: 1;\"/><path class=\"point\" transform=\"translate(60,202.11)\" d=\"M3,0A3,3 0 1,1 0,-3A3,3 0 0,1 3,0Z\" style=\"opacity: 1; stroke-width: 1px; fill: rgb(135, 206, 250); fill-opacity: 0.5; stroke: rgb(147, 112, 219); stroke-opacity: 1;\"/><path class=\"point\" transform=\"translate(60,-16.84)\" d=\"M3,0A3,3 0 1,1 0,-3A3,3 0 0,1 3,0Z\" style=\"opacity: 1; stroke-width: 1px; fill: rgb(135, 206, 250); fill-opacity: 0.5; stroke: rgb(147, 112, 219); stroke-opacity: 1;\"/><path class=\"point\" transform=\"translate(360,289.12)\" d=\"M3,0A3,3 0 1,1 0,-3A3,3 0 0,1 3,0Z\" style=\"opacity: 1; stroke-width: 1px; fill: rgb(135, 206, 250); fill-opacity: 0.5; stroke: rgb(147, 112, 219); stroke-opacity: 1;\"/><path class=\"point\" transform=\"translate(540,127.25)\" d=\"M3,0A3,3 0 1,1 0,-3A3,3 0 0,1 3,0Z\" style=\"opacity: 1; stroke-width: 1px; fill: rgb(135, 206, 250); fill-opacity: 0.5; stroke: rgb(147, 112, 219); stroke-opacity: 1;\"/><path class=\"point\" transform=\"translate(60,16.84)\" d=\"M3,0A3,3 0 1,1 0,-3A3,3 0 0,1 3,0Z\" style=\"opacity: 1; stroke-width: 1px; fill: rgb(135, 206, 250); fill-opacity: 0.5; stroke: rgb(147, 112, 219); stroke-opacity: 1;\"/><path class=\"point\" transform=\"translate(120,320)\" d=\"M3,0A3,3 0 1,1 0,-3A3,3 0 0,1 3,0Z\" style=\"opacity: 1; stroke-width: 1px; fill: rgb(135, 206, 250); fill-opacity: 0.5; stroke: rgb(147, 112, 219); stroke-opacity: 1;\"/><path class=\"point\" transform=\"translate(60,168.42)\" d=\"M3,0A3,3 0 1,1 0,-3A3,3 0 0,1 3,0Z\" style=\"opacity: 1; stroke-width: 1px; fill: rgb(135, 206, 250); fill-opacity: 0.5; stroke: rgb(147, 112, 219); stroke-opacity: 1;\"/><path class=\"point\" transform=\"translate(60,158.32)\" d=\"M3,0A3,3 0 1,1 0,-3A3,3 0 0,1 3,0Z\" style=\"opacity: 1; stroke-width: 1px; fill: rgb(135, 206, 250); fill-opacity: 0.5; stroke: rgb(147, 112, 219); stroke-opacity: 1;\"/><path class=\"point\" transform=\"translate(60,252.63)\" d=\"M3,0A3,3 0 1,1 0,-3A3,3 0 0,1 3,0Z\" style=\"opacity: 1; stroke-width: 1px; fill: rgb(135, 206, 250); fill-opacity: 0.5; stroke: rgb(147, 112, 219); stroke-opacity: 1;\"/><path class=\"point\" transform=\"translate(420,51.49)\" d=\"M3,0A3,3 0 1,1 0,-3A3,3 0 0,1 3,0Z\" style=\"opacity: 1; stroke-width: 1px; fill: rgb(135, 206, 250); fill-opacity: 0.5; stroke: rgb(147, 112, 219); stroke-opacity: 1;\"/><path class=\"point\" transform=\"translate(60,153.26)\" d=\"M3,0A3,3 0 1,1 0,-3A3,3 0 0,1 3,0Z\" style=\"opacity: 1; stroke-width: 1px; fill: rgb(135, 206, 250); fill-opacity: 0.5; stroke: rgb(147, 112, 219); stroke-opacity: 1;\"/><path class=\"point\" transform=\"translate(60,244.21)\" d=\"M3,0A3,3 0 1,1 0,-3A3,3 0 0,1 3,0Z\" style=\"opacity: 1; stroke-width: 1px; fill: rgb(135, 206, 250); fill-opacity: 0.5; stroke: rgb(147, 112, 219); stroke-opacity: 1;\"/><path class=\"point\" transform=\"translate(60,277.89)\" d=\"M3,0A3,3 0 1,1 0,-3A3,3 0 0,1 3,0Z\" style=\"opacity: 1; stroke-width: 1px; fill: rgb(135, 206, 250); fill-opacity: 0.5; stroke: rgb(147, 112, 219); stroke-opacity: 1;\"/><path class=\"point\" transform=\"translate(540,287.63)\" d=\"M3,0A3,3 0 1,1 0,-3A3,3 0 0,1 3,0Z\" style=\"opacity: 1; stroke-width: 1px; fill: rgb(135, 206, 250); fill-opacity: 0.5; stroke: rgb(147, 112, 219); stroke-opacity: 1;\"/><path class=\"point\" transform=\"translate(180,151.58)\" d=\"M3,0A3,3 0 1,1 0,-3A3,3 0 0,1 3,0Z\" style=\"opacity: 1; stroke-width: 1px; fill: rgb(135, 206, 250); fill-opacity: 0.5; stroke: rgb(147, 112, 219); stroke-opacity: 1;\"/><path class=\"point\" transform=\"translate(60,101.05)\" d=\"M3,0A3,3 0 1,1 0,-3A3,3 0 0,1 3,0Z\" style=\"opacity: 1; stroke-width: 1px; fill: rgb(135, 206, 250); fill-opacity: 0.5; stroke: rgb(147, 112, 219); stroke-opacity: 1;\"/><path class=\"point\" transform=\"translate(120,155.79)\" d=\"M3,0A3,3 0 1,1 0,-3A3,3 0 0,1 3,0Z\" style=\"opacity: 1; stroke-width: 1px; fill: rgb(135, 206, 250); fill-opacity: 0.5; stroke: rgb(147, 112, 219); stroke-opacity: 1;\"/><path class=\"point\" transform=\"translate(2280,231.67)\" d=\"M3,0A3,3 0 1,1 0,-3A3,3 0 0,1 3,0Z\" style=\"opacity: 1; stroke-width: 1px; fill: rgb(135, 206, 250); fill-opacity: 0.5; stroke: rgb(147, 112, 219); stroke-opacity: 1;\"/><path class=\"point\" transform=\"translate(60,213.89)\" d=\"M3,0A3,3 0 1,1 0,-3A3,3 0 0,1 3,0Z\" style=\"opacity: 1; stroke-width: 1px; fill: rgb(135, 206, 250); fill-opacity: 0.5; stroke: rgb(147, 112, 219); stroke-opacity: 1;\"/><path class=\"point\" transform=\"translate(60,269.47)\" d=\"M3,0A3,3 0 1,1 0,-3A3,3 0 0,1 3,0Z\" style=\"opacity: 1; stroke-width: 1px; fill: rgb(135, 206, 250); fill-opacity: 0.5; stroke: rgb(147, 112, 219); stroke-opacity: 1;\"/><path class=\"point\" transform=\"translate(240,235.79)\" d=\"M3,0A3,3 0 1,1 0,-3A3,3 0 0,1 3,0Z\" style=\"opacity: 1; stroke-width: 1px; fill: rgb(135, 206, 250); fill-opacity: 0.5; stroke: rgb(147, 112, 219); stroke-opacity: 1;\"/><path class=\"point\" transform=\"translate(1920,249.37)\" d=\"M3,0A3,3 0 1,1 0,-3A3,3 0 0,1 3,0Z\" style=\"opacity: 1; stroke-width: 1px; fill: rgb(135, 206, 250); fill-opacity: 0.5; stroke: rgb(147, 112, 219); stroke-opacity: 1;\"/><path class=\"point\" transform=\"translate(120,292.21)\" d=\"M3,0A3,3 0 1,1 0,-3A3,3 0 0,1 3,0Z\" style=\"opacity: 1; stroke-width: 1px; fill: rgb(135, 206, 250); fill-opacity: 0.5; stroke: rgb(147, 112, 219); stroke-opacity: 1;\"/><path class=\"point\" transform=\"translate(120,301.47)\" d=\"M3,0A3,3 0 1,1 0,-3A3,3 0 0,1 3,0Z\" style=\"opacity: 1; stroke-width: 1px; fill: rgb(135, 206, 250); fill-opacity: 0.5; stroke: rgb(147, 112, 219); stroke-opacity: 1;\"/><path class=\"point\" transform=\"translate(60,252.63)\" d=\"M3,0A3,3 0 1,1 0,-3A3,3 0 0,1 3,0Z\" style=\"opacity: 1; stroke-width: 1px; fill: rgb(135, 206, 250); fill-opacity: 0.5; stroke: rgb(147, 112, 219); stroke-opacity: 1;\"/><path class=\"point\" transform=\"translate(2580,69.37)\" d=\"M3,0A3,3 0 1,1 0,-3A3,3 0 0,1 3,0Z\" style=\"opacity: 1; stroke-width: 1px; fill: rgb(135, 206, 250); fill-opacity: 0.5; stroke: rgb(147, 112, 219); stroke-opacity: 1;\"/><path class=\"point\" transform=\"translate(60,67.37)\" d=\"M3,0A3,3 0 1,1 0,-3A3,3 0 0,1 3,0Z\" style=\"opacity: 1; stroke-width: 1px; fill: rgb(135, 206, 250); fill-opacity: 0.5; stroke: rgb(147, 112, 219); stroke-opacity: 1;\"/><path class=\"point\" transform=\"translate(360,243.09)\" d=\"M3,0A3,3 0 1,1 0,-3A3,3 0 0,1 3,0Z\" style=\"opacity: 1; stroke-width: 1px; fill: rgb(135, 206, 250); fill-opacity: 0.5; stroke: rgb(147, 112, 219); stroke-opacity: 1;\"/><path class=\"point\" transform=\"translate(60,-195.37)\" d=\"M3,0A3,3 0 1,1 0,-3A3,3 0 0,1 3,0Z\" style=\"opacity: 1; stroke-width: 1px; fill: rgb(135, 206, 250); fill-opacity: 0.5; stroke: rgb(147, 112, 219); stroke-opacity: 1;\"/><path class=\"point\" transform=\"translate(60,69.05)\" d=\"M3,0A3,3 0 1,1 0,-3A3,3 0 0,1 3,0Z\" style=\"opacity: 1; stroke-width: 1px; fill: rgb(135, 206, 250); fill-opacity: 0.5; stroke: rgb(147, 112, 219); stroke-opacity: 1;\"/><path class=\"point\" transform=\"translate(60,185.26)\" d=\"M3,0A3,3 0 1,1 0,-3A3,3 0 0,1 3,0Z\" style=\"opacity: 1; stroke-width: 1px; fill: rgb(135, 206, 250); fill-opacity: 0.5; stroke: rgb(147, 112, 219); stroke-opacity: 1;\"/><path class=\"point\" transform=\"translate(60,286.32)\" d=\"M3,0A3,3 0 1,1 0,-3A3,3 0 0,1 3,0Z\" style=\"opacity: 1; stroke-width: 1px; fill: rgb(135, 206, 250); fill-opacity: 0.5; stroke: rgb(147, 112, 219); stroke-opacity: 1;\"/><path class=\"point\" transform=\"translate(360,288.56)\" d=\"M3,0A3,3 0 1,1 0,-3A3,3 0 0,1 3,0Z\" style=\"opacity: 1; stroke-width: 1px; fill: rgb(135, 206, 250); fill-opacity: 0.5; stroke: rgb(147, 112, 219); stroke-opacity: 1;\"/><path class=\"point\" transform=\"translate(60,266.11)\" d=\"M3,0A3,3 0 1,1 0,-3A3,3 0 0,1 3,0Z\" style=\"opacity: 1; stroke-width: 1px; fill: rgb(135, 206, 250); fill-opacity: 0.5; stroke: rgb(147, 112, 219); stroke-opacity: 1;\"/><path class=\"point\" transform=\"translate(60,202.11)\" d=\"M3,0A3,3 0 1,1 0,-3A3,3 0 0,1 3,0Z\" style=\"opacity: 1; stroke-width: 1px; fill: rgb(135, 206, 250); fill-opacity: 0.5; stroke: rgb(147, 112, 219); stroke-opacity: 1;\"/><path class=\"point\" transform=\"translate(60,176.84)\" d=\"M3,0A3,3 0 1,1 0,-3A3,3 0 0,1 3,0Z\" style=\"opacity: 1; stroke-width: 1px; fill: rgb(135, 206, 250); fill-opacity: 0.5; stroke: rgb(147, 112, 219); stroke-opacity: 1;\"/><path class=\"point\" transform=\"translate(60,301.47)\" d=\"M3,0A3,3 0 1,1 0,-3A3,3 0 0,1 3,0Z\" style=\"opacity: 1; stroke-width: 1px; fill: rgb(135, 206, 250); fill-opacity: 0.5; stroke: rgb(147, 112, 219); stroke-opacity: 1;\"/><path class=\"point\" transform=\"translate(60,235.79)\" d=\"M3,0A3,3 0 1,1 0,-3A3,3 0 0,1 3,0Z\" style=\"opacity: 1; stroke-width: 1px; fill: rgb(135, 206, 250); fill-opacity: 0.5; stroke: rgb(147, 112, 219); stroke-opacity: 1;\"/><path class=\"point\" transform=\"translate(9420,223.69)\" d=\"M3,0A3,3 0 1,1 0,-3A3,3 0 0,1 3,0Z\" style=\"opacity: 1; stroke-width: 1px; fill: rgb(135, 206, 250); fill-opacity: 0.5; stroke: rgb(147, 112, 219); stroke-opacity: 1;\"/><path class=\"point\" transform=\"translate(60,218.95)\" d=\"M3,0A3,3 0 1,1 0,-3A3,3 0 0,1 3,0Z\" style=\"opacity: 1; stroke-width: 1px; fill: rgb(135, 206, 250); fill-opacity: 0.5; stroke: rgb(147, 112, 219); stroke-opacity: 1;\"/><path class=\"point\" transform=\"translate(60,277.89)\" d=\"M3,0A3,3 0 1,1 0,-3A3,3 0 0,1 3,0Z\" style=\"opacity: 1; stroke-width: 1px; fill: rgb(135, 206, 250); fill-opacity: 0.5; stroke: rgb(147, 112, 219); stroke-opacity: 1;\"/><path class=\"point\" transform=\"translate(60,239.16)\" d=\"M3,0A3,3 0 1,1 0,-3A3,3 0 0,1 3,0Z\" style=\"opacity: 1; stroke-width: 1px; fill: rgb(135, 206, 250); fill-opacity: 0.5; stroke: rgb(147, 112, 219); stroke-opacity: 1;\"/><path class=\"point\" transform=\"translate(780,269.34)\" d=\"M3,0A3,3 0 1,1 0,-3A3,3 0 0,1 3,0Z\" style=\"opacity: 1; stroke-width: 1px; fill: rgb(135, 206, 250); fill-opacity: 0.5; stroke: rgb(147, 112, 219); stroke-opacity: 1;\"/><path class=\"point\" transform=\"translate(60,239.16)\" d=\"M3,0A3,3 0 1,1 0,-3A3,3 0 0,1 3,0Z\" style=\"opacity: 1; stroke-width: 1px; fill: rgb(135, 206, 250); fill-opacity: 0.5; stroke: rgb(147, 112, 219); stroke-opacity: 1;\"/><path class=\"point\" transform=\"translate(2280,122.68)\" d=\"M3,0A3,3 0 1,1 0,-3A3,3 0 0,1 3,0Z\" style=\"opacity: 1; stroke-width: 1px; fill: rgb(135, 206, 250); fill-opacity: 0.5; stroke: rgb(147, 112, 219); stroke-opacity: 1;\"/><path class=\"point\" transform=\"translate(60,153.26)\" d=\"M3,0A3,3 0 1,1 0,-3A3,3 0 0,1 3,0Z\" style=\"opacity: 1; stroke-width: 1px; fill: rgb(135, 206, 250); fill-opacity: 0.5; stroke: rgb(147, 112, 219); stroke-opacity: 1;\"/><path class=\"point\" transform=\"translate(60,-154.95)\" d=\"M3,0A3,3 0 1,1 0,-3A3,3 0 0,1 3,0Z\" style=\"opacity: 1; stroke-width: 1px; fill: rgb(135, 206, 250); fill-opacity: 0.5; stroke: rgb(147, 112, 219); stroke-opacity: 1;\"/><path class=\"point\" transform=\"translate(60,316.63)\" d=\"M3,0A3,3 0 1,1 0,-3A3,3 0 0,1 3,0Z\" style=\"opacity: 1; stroke-width: 1px; fill: rgb(135, 206, 250); fill-opacity: 0.5; stroke: rgb(147, 112, 219); stroke-opacity: 1;\"/><path class=\"point\" transform=\"translate(60,-185.26)\" d=\"M3,0A3,3 0 1,1 0,-3A3,3 0 0,1 3,0Z\" style=\"opacity: 1; stroke-width: 1px; fill: rgb(135, 206, 250); fill-opacity: 0.5; stroke: rgb(147, 112, 219); stroke-opacity: 1;\"/><path class=\"point\" transform=\"translate(60,58.95)\" d=\"M3,0A3,3 0 1,1 0,-3A3,3 0 0,1 3,0Z\" style=\"opacity: 1; stroke-width: 1px; fill: rgb(135, 206, 250); fill-opacity: 0.5; stroke: rgb(147, 112, 219); stroke-opacity: 1;\"/><path class=\"point\" transform=\"translate(120,143.16)\" d=\"M3,0A3,3 0 1,1 0,-3A3,3 0 0,1 3,0Z\" style=\"opacity: 1; stroke-width: 1px; fill: rgb(135, 206, 250); fill-opacity: 0.5; stroke: rgb(147, 112, 219); stroke-opacity: 1;\"/></g><g class=\"text\"/></g></g></g><g class=\"overplot\"/><path class=\"xlines-above crisp\" style=\"fill: none;\" d=\"M0,0\"/><path class=\"ylines-above crisp\" style=\"fill: none;\" d=\"M0,0\"/><g class=\"overlines-above\"/><g class=\"xaxislayer-above\"><g class=\"xtick\"><text text-anchor=\"middle\" x=\"0\" y=\"433\" transform=\"translate(80,0)\" style=\"font-family: 'Open Sans', verdana, arial, sans-serif; font-size: 12px; fill: rgb(42, 63, 95); fill-opacity: 1; white-space: pre; opacity: 1;\">0</text></g><g class=\"xtick\"><text text-anchor=\"middle\" x=\"0\" y=\"433\" style=\"font-family: 'Open Sans', verdana, arial, sans-serif; font-size: 12px; fill: rgb(42, 63, 95); fill-opacity: 1; white-space: pre; opacity: 1;\" transform=\"translate(200,0)\">2</text></g><g class=\"xtick\"><text text-anchor=\"middle\" x=\"0\" y=\"433\" style=\"font-family: 'Open Sans', verdana, arial, sans-serif; font-size: 12px; fill: rgb(42, 63, 95); fill-opacity: 1; white-space: pre; opacity: 1;\" transform=\"translate(320,0)\">4</text></g><g class=\"xtick\"><text text-anchor=\"middle\" x=\"0\" y=\"433\" style=\"font-family: 'Open Sans', verdana, arial, sans-serif; font-size: 12px; fill: rgb(42, 63, 95); fill-opacity: 1; white-space: pre; opacity: 1;\" transform=\"translate(440,0)\">6</text></g><g class=\"xtick\"><text text-anchor=\"middle\" x=\"0\" y=\"433\" style=\"font-family: 'Open Sans', verdana, arial, sans-serif; font-size: 12px; fill: rgb(42, 63, 95); fill-opacity: 1; white-space: pre; opacity: 1;\" transform=\"translate(560,0)\">8</text></g></g><g class=\"yaxislayer-above\"><g class=\"ytick\"><text text-anchor=\"end\" x=\"79\" y=\"4.199999999999999\" transform=\"translate(0,420)\" style=\"font-family: 'Open Sans', verdana, arial, sans-serif; font-size: 12px; fill: rgb(42, 63, 95); fill-opacity: 1; white-space: pre; opacity: 1;\">0</text></g><g class=\"ytick\"><text text-anchor=\"end\" x=\"79\" y=\"4.199999999999999\" style=\"font-family: 'Open Sans', verdana, arial, sans-serif; font-size: 12px; fill: rgb(42, 63, 95); fill-opacity: 1; white-space: pre; opacity: 1;\" transform=\"translate(0,335.78999999999996)\">50</text></g><g class=\"ytick\"><text text-anchor=\"end\" x=\"79\" y=\"4.199999999999999\" style=\"font-family: 'Open Sans', verdana, arial, sans-serif; font-size: 12px; fill: rgb(42, 63, 95); fill-opacity: 1; white-space: pre; opacity: 1;\" transform=\"translate(0,251.58)\">100</text></g><g class=\"ytick\"><text text-anchor=\"end\" x=\"79\" y=\"4.199999999999999\" style=\"font-family: 'Open Sans', verdana, arial, sans-serif; font-size: 12px; fill: rgb(42, 63, 95); fill-opacity: 1; white-space: pre; opacity: 1;\" transform=\"translate(0,167.37)\">150</text></g></g><g class=\"overaxes-above\"/></g></g><g class=\"polarlayer\"/><g class=\"ternarylayer\"/><g class=\"geolayer\"/><g class=\"funnelarealayer\"/><g class=\"pielayer\"/><g class=\"iciclelayer\"/><g class=\"treemaplayer\"/><g class=\"sunburstlayer\"/><g class=\"glimages\"/><defs id=\"topdefs-551527\"><g class=\"clips\"/></defs><g class=\"layer-above\"><g class=\"imagelayer\"/><g class=\"shapelayer\"><path data-index=\"0\" fill-rule=\"evenodd\" d=\"M80,320.41999999999996L620,320.41999999999996\" clip-path=\"url(#clip551527y)\" style=\"opacity: 1; stroke: rgb(128, 128, 128); stroke-opacity: 1; fill: rgb(0, 0, 0); fill-opacity: 0; stroke-width: 0.7px;\"/><path data-index=\"1\" fill-rule=\"evenodd\" d=\"M388.21,420L388.21,100\" clip-path=\"url(#clip551527x)\" style=\"opacity: 1; stroke: rgb(128, 128, 128); stroke-opacity: 1; fill: rgb(0, 0, 0); fill-opacity: 0; stroke-width: 0.7px;\"/></g></g><g class=\"infolayer\"><g class=\"g-gtitle\"><text class=\"gtitle\" x=\"35\" y=\"50\" text-anchor=\"start\" dy=\"0em\" style=\"font-family: 'Open Sans', verdana, arial, sans-serif; font-size: 17px; fill: rgb(42, 63, 95); opacity: 1; font-weight: normal; white-space: pre;\">Совместное распределение количества посадочных мест и количества сетевых заведений</text></g><g class=\"g-xtitle\"><text class=\"xtitle\" x=\"350\" y=\"460.8\" text-anchor=\"middle\" style=\"font-family: 'Open Sans', verdana, arial, sans-serif; font-size: 14px; fill: rgb(42, 63, 95); opacity: 1; font-weight: normal; white-space: pre;\">Количество заведений в сети</text></g><g class=\"g-ytitle\"><text class=\"ytitle\" transform=\"rotate(-90,31.309375000000003,260)\" x=\"31.309375000000003\" y=\"260\" text-anchor=\"middle\" style=\"font-family: 'Open Sans', verdana, arial, sans-serif; font-size: 14px; fill: rgb(42, 63, 95); opacity: 1; font-weight: normal; white-space: pre;\">Количество посадочных мест</text></g><g class=\"annotation\" data-index=\"0\" style=\"opacity: 1;\"><g class=\"annotation-text-g\" transform=\"rotate(0,520,290.41999999999996)\"><g class=\"cursor-pointer\" transform=\"translate(416,281)\"><rect class=\"bg\" x=\"0.5\" y=\"0.5\" width=\"208\" height=\"18\" style=\"stroke-width: 1px; stroke: rgb(0, 0, 0); stroke-opacity: 0; fill: rgb(0, 0, 0); fill-opacity: 0;\"/><text class=\"annotation-text\" text-anchor=\"middle\" x=\"103.9375\" y=\"14\" style=\"font-family: 'Open Sans', verdana, arial, sans-serif; font-size: 12px; fill: rgb(42, 63, 95); fill-opacity: 1; white-space: pre;\">Среднее число посадочных мест</text></g></g><g class=\"annotation-arrow-g\" style=\"opacity: 1;\"><path d=\"M523,299.41999999999996L530,320.41999999999996\" style=\"stroke-width: 1px; stroke: rgb(42, 63, 95); stroke-opacity: 1; stroke-dasharray: 0px, 0px, 21.5359px, 22.1359px;\"/><path d=\"M-2.4,-3V3L0.6,0Z\" transform=\"translate(529.8102416992188,319.8507995605469)rotate(71.57058005668189)\" style=\"fill: rgb(42, 63, 95); stroke-width: 0;\"/></g></g><g class=\"annotation\" data-index=\"1\" style=\"opacity: 1;\"><g class=\"annotation-text-g\" transform=\"rotate(0,378.21,187.89)\"><g class=\"cursor-pointer\" transform=\"translate(274,178)\"><rect class=\"bg\" x=\"0.5\" y=\"0.5\" width=\"208\" height=\"18\" style=\"stroke-width: 1px; stroke: rgb(0, 0, 0); stroke-opacity: 0; fill: rgb(0, 0, 0); fill-opacity: 0;\"/><text class=\"annotation-text\" text-anchor=\"middle\" x=\"104.5625\" y=\"14\" style=\"font-family: 'Open Sans', verdana, arial, sans-serif; font-size: 12px; fill: rgb(42, 63, 95); fill-opacity: 1; white-space: pre;\">Среднее число заведений в сети</text></g></g><g class=\"annotation-arrow-g\" style=\"opacity: 1;\"><path d=\"M381.21,196.89L388.21,217.89\" style=\"stroke-width: 1px; stroke: rgb(42, 63, 95); stroke-opacity: 1; stroke-dasharray: 0px, 0px, 21.5359px, 22.1359px;\"/><path d=\"M-2.4,-3V3L0.6,0Z\" transform=\"translate(388.020263671875,217.32078552246094)rotate(71.56781601708516)\" style=\"fill: rgb(42, 63, 95); stroke-width: 0;\"/></g></g></g></svg>"
      ]
     },
     "metadata": {},
     "output_type": "display_data"
    }
   ],
   "source": [
    "fig = px.scatter(df, x='object_count', y='number',\n",
    "                title='Совместное распределение количества посадочных мест и количества сетевых заведений')\n",
    "\n",
    "fig.update_layout(\n",
    "    xaxis_title='Количество заведений в сети',\n",
    "    yaxis_title='Количество посадочных мест',\n",
    "    xaxis_range=[0,9],\n",
    "    yaxis_range=[0, (df['number'].quantile(.75) - df['number'].quantile(.25)) * 3]\n",
    ")\n",
    "\n",
    "fig.update_traces(\n",
    "    marker=dict(\n",
    "            color='rgba(135, 206, 250, 0.5)',\n",
    "            line=dict(\n",
    "                color='MediumPurple',\n",
    "                width=1\n",
    "            )\n",
    "        )\n",
    ")\n",
    "\n",
    "fig.add_hline(y=df['number'].mean(), line_width=0.7, line_color='grey')\n",
    "fig.add_vline(x=df['object_count'].mean(), line_width=0.7, line_color='grey')\n",
    "\n",
    "fig.add_annotation(x=7.5, y=df['number'].mean(),\n",
    "            text='Среднее число посадочных мест',\n",
    "            showarrow=True,\n",
    "            arrowhead=1)\n",
    "\n",
    "fig.add_annotation(x=df['object_count'].mean(), y=120,\n",
    "            text='Среднее число заведений в сети',\n",
    "            showarrow=True,\n",
    "            arrowhead=1)\n",
    "\n",
    "fig.show()"
   ]
  },
  {
   "cell_type": "markdown",
   "metadata": {
    "id": "i97dvV8RoqcA"
   },
   "source": [
    "Выходит, если взять случайное сетевое заведение, то вероятнее всего это будет сеть с малым числом заведений в сети и небольшим числом посадочных мест."
   ]
  },
  {
   "cell_type": "markdown",
   "metadata": {
    "id": "GCTZDHBAGfXy"
   },
   "source": [
    "### Для каждого вида объекта общественного питания опишем среднее количество посадочных мест. Какой вид предоставляет в среднем самое большое количество посадочных мест?\n"
   ]
  },
  {
   "cell_type": "code",
   "execution_count": 25,
   "metadata": {
    "colab": {
     "base_uri": "https://localhost:8080/",
     "height": 542
    },
    "executionInfo": {
     "elapsed": 863,
     "status": "ok",
     "timestamp": 1627829474722,
     "user": {
      "displayName": "Арсен",
      "photoUrl": "https://lh3.googleusercontent.com/a-/AOh14GjPCG8vWVVB43Ax1wpE_vEPLjGP-XH0UWc12vB7wg=s64",
      "userId": "17661651445996378067"
     },
     "user_tz": -180
    },
    "id": "U3VMnjQd-FNH",
    "outputId": "3097d59f-df87-4c4b-cb85-bee8cae1a0b0"
   },
   "outputs": [
    {
     "data": {
      "image/svg+xml": [
       "<svg class=\"main-svg\" xmlns=\"http://www.w3.org/2000/svg\" xmlns:xlink=\"http://www.w3.org/1999/xlink\" width=\"700\" height=\"500\" style=\"\" viewBox=\"0 0 700 500\"><rect x=\"0\" y=\"0\" width=\"700\" height=\"500\" style=\"fill: rgb(255, 255, 255); fill-opacity: 1;\"/><defs id=\"defs-323764\"><g class=\"clips\"><clipPath id=\"clip323764xyplot\" class=\"plotclip\"><rect width=\"347\" height=\"320\"/></clipPath><clipPath class=\"axesclip\" id=\"clip323764x\"><rect x=\"273\" y=\"0\" width=\"347\" height=\"500\"/></clipPath><clipPath class=\"axesclip\" id=\"clip323764y\"><rect x=\"0\" y=\"100\" width=\"700\" height=\"320\"/></clipPath><clipPath class=\"axesclip\" id=\"clip323764xy\"><rect x=\"273\" y=\"100\" width=\"347\" height=\"320\"/></clipPath></g><g class=\"gradients\"/><g class=\"patterns\"/></defs><g class=\"bglayer\"><rect class=\"bg\" x=\"273\" y=\"100\" width=\"347\" height=\"320\" style=\"fill: rgb(229, 236, 246); fill-opacity: 1; stroke-width: 0;\"/></g><g class=\"layer-below\"><g class=\"imagelayer\"/><g class=\"shapelayer\"/></g><g class=\"cartesianlayer\"><g class=\"subplot xy\"><g class=\"layer-subplot\"><g class=\"shapelayer\"/><g class=\"imagelayer\"/></g><g class=\"gridlayer\"><g class=\"x\"><path class=\"xgrid crisp\" transform=\"translate(351.35,0)\" d=\"M0,100v320\" style=\"stroke: rgb(255, 255, 255); stroke-opacity: 1; stroke-width: 1px;\"/><path class=\"xgrid crisp\" transform=\"translate(425.98,0)\" d=\"M0,100v320\" style=\"stroke: rgb(255, 255, 255); stroke-opacity: 1; stroke-width: 1px;\"/><path class=\"xgrid crisp\" transform=\"translate(500.6,0)\" d=\"M0,100v320\" style=\"stroke: rgb(255, 255, 255); stroke-opacity: 1; stroke-width: 1px;\"/><path class=\"xgrid crisp\" transform=\"translate(575.23,0)\" d=\"M0,100v320\" style=\"stroke: rgb(255, 255, 255); stroke-opacity: 1; stroke-width: 1px;\"/></g><g class=\"y\"/></g><g class=\"zerolinelayer\"><path class=\"xzl zl crisp\" transform=\"translate(276.73,0)\" d=\"M0,100v320\" style=\"stroke: rgb(255, 255, 255); stroke-opacity: 1; stroke-width: 2px;\"/></g><path class=\"xlines-below\"/><path class=\"ylines-below\"/><g class=\"overlines-below\"/><g class=\"xaxislayer-below\"/><g class=\"yaxislayer-below\"/><g class=\"overaxes-below\"/><g class=\"plot\" transform=\"translate(273,100)\" clip-path=\"url(#clip323764xyplot)\"><g class=\"boxlayer mlayer\"><g class=\"trace boxes\" style=\"opacity: 1;\"><path class=\"box\" d=\"M26.12,310.93V293.51M14.92,310.93V293.51H41.04V310.93ZM14.92,302.22H3.73M41.04,302.22H79.85M3.73,306.58V297.87M79.85,306.58V297.87\" style=\"vector-effect: non-scaling-stroke; stroke-width: 2px; stroke: rgb(99, 110, 250); stroke-opacity: 1; fill: rgb(99, 110, 250); fill-opacity: 0.5;\"/><path class=\"box\" d=\"M80.59,275.38V257.96M41.79,275.38V257.96H152.98V275.38ZM41.79,266.67H3.73M152.98,266.67H298.49M3.73,271.02V262.31M298.49,271.02V262.31\" style=\"vector-effect: non-scaling-stroke; stroke-width: 2px; stroke: rgb(99, 110, 250); stroke-opacity: 1; fill: rgb(99, 110, 250); fill-opacity: 0.5;\"/><path class=\"box\" d=\"M4.73,239.82V222.4M3.73,239.82V222.4H11.19V239.82ZM3.73,231.11H3.73M11.19,231.11H22.39M3.73,235.47V226.76M22.39,235.47V226.76\" style=\"vector-effect: non-scaling-stroke; stroke-width: 2px; stroke: rgb(99, 110, 250); stroke-opacity: 1; fill: rgb(99, 110, 250); fill-opacity: 0.5;\"/><path class=\"box\" d=\"M8.21,204.27V186.84M3.73,204.27V186.84H22.39V204.27ZM3.73,195.56H3.73M22.39,195.56H50M3.73,199.91V191.2M50,199.91V191.2\" style=\"vector-effect: non-scaling-stroke; stroke-width: 2px; stroke: rgb(99, 110, 250); stroke-opacity: 1; fill: rgb(99, 110, 250); fill-opacity: 0.5;\"/><path class=\"box\" d=\"M63.43,168.71V151.29M38.06,168.71V151.29H88.8V168.71ZM38.06,160H3.73M88.8,160H164.92M3.73,164.36V155.64M164.92,164.36V155.64\" style=\"vector-effect: non-scaling-stroke; stroke-width: 2px; stroke: rgb(99, 110, 250); stroke-opacity: 1; fill: rgb(99, 110, 250); fill-opacity: 0.5;\"/><path class=\"box\" d=\"M8.21,133.16V115.73M3.73,133.16V115.73H12.69V133.16ZM3.73,124.44H3.73M12.69,124.44H26.12M3.73,128.8V120.09M26.12,128.8V120.09\" style=\"vector-effect: non-scaling-stroke; stroke-width: 2px; stroke: rgb(99, 110, 250); stroke-opacity: 1; fill: rgb(99, 110, 250); fill-opacity: 0.5;\"/><path class=\"box\" d=\"M27.61,97.6V80.18M14.92,97.6V80.18H63.43V97.6ZM14.92,88.89H3.73M63.43,88.89H130.59M3.73,93.24V84.53M130.59,93.24V84.53\" style=\"vector-effect: non-scaling-stroke; stroke-width: 2px; stroke: rgb(99, 110, 250); stroke-opacity: 1; fill: rgb(99, 110, 250); fill-opacity: 0.5;\"/><path class=\"box\" d=\"M29.85,62.04V44.62M18.66,62.04V44.62H41.04V62.04ZM18.66,53.33H3.73M41.04,53.33H74.62M3.73,57.69V48.98M74.62,57.69V48.98\" style=\"vector-effect: non-scaling-stroke; stroke-width: 2px; stroke: rgb(99, 110, 250); stroke-opacity: 1; fill: rgb(99, 110, 250); fill-opacity: 0.5;\"/><path class=\"box\" d=\"M4.73,26.49V9.07M3.73,26.49V9.07H9.7V26.49ZM3.73,17.78H3.73M9.7,17.78H18.66M3.73,22.13V13.42M18.66,22.13V13.42\" style=\"vector-effect: non-scaling-stroke; stroke-width: 2px; stroke: rgb(99, 110, 250); stroke-opacity: 1; fill: rgb(99, 110, 250); fill-opacity: 0.5;\"/><g class=\"points\"><path class=\"point\" transform=\"translate(81.34,302.22)\" d=\"M3,0A3,3 0 1,1 0,-3A3,3 0 0,1 3,0Z\" style=\"opacity: 1; stroke-width: 0px; fill: rgb(99, 110, 250); fill-opacity: 1;\"/><path class=\"point\" transform=\"translate(81.34,302.22)\" d=\"M3,0A3,3 0 1,1 0,-3A3,3 0 0,1 3,0Z\" style=\"opacity: 1; stroke-width: 0px; fill: rgb(99, 110, 250); fill-opacity: 1;\"/><path class=\"point\" transform=\"translate(81.34,302.22)\" d=\"M3,0A3,3 0 1,1 0,-3A3,3 0 0,1 3,0Z\" style=\"opacity: 1; stroke-width: 0px; fill: rgb(99, 110, 250); fill-opacity: 1;\"/><path class=\"point\" transform=\"translate(82.83,302.22)\" d=\"M3,0A3,3 0 1,1 0,-3A3,3 0 0,1 3,0Z\" style=\"opacity: 1; stroke-width: 0px; fill: rgb(99, 110, 250); fill-opacity: 1;\"/><path class=\"point\" transform=\"translate(82.83,302.22)\" d=\"M3,0A3,3 0 1,1 0,-3A3,3 0 0,1 3,0Z\" style=\"opacity: 1; stroke-width: 0px; fill: rgb(99, 110, 250); fill-opacity: 1;\"/><path class=\"point\" transform=\"translate(82.83,302.22)\" d=\"M3,0A3,3 0 1,1 0,-3A3,3 0 0,1 3,0Z\" style=\"opacity: 1; stroke-width: 0px; fill: rgb(99, 110, 250); fill-opacity: 1;\"/><path class=\"point\" transform=\"translate(85.07,302.22)\" d=\"M3,0A3,3 0 1,1 0,-3A3,3 0 0,1 3,0Z\" style=\"opacity: 1; stroke-width: 0px; fill: rgb(99, 110, 250); fill-opacity: 1;\"/><path class=\"point\" transform=\"translate(85.07,302.22)\" d=\"M3,0A3,3 0 1,1 0,-3A3,3 0 0,1 3,0Z\" style=\"opacity: 1; stroke-width: 0px; fill: rgb(99, 110, 250); fill-opacity: 1;\"/><path class=\"point\" transform=\"translate(85.82,302.22)\" d=\"M3,0A3,3 0 1,1 0,-3A3,3 0 0,1 3,0Z\" style=\"opacity: 1; stroke-width: 0px; fill: rgb(99, 110, 250); fill-opacity: 1;\"/><path class=\"point\" transform=\"translate(85.82,302.22)\" d=\"M3,0A3,3 0 1,1 0,-3A3,3 0 0,1 3,0Z\" style=\"opacity: 1; stroke-width: 0px; fill: rgb(99, 110, 250); fill-opacity: 1;\"/><path class=\"point\" transform=\"translate(85.82,302.22)\" d=\"M3,0A3,3 0 1,1 0,-3A3,3 0 0,1 3,0Z\" style=\"opacity: 1; stroke-width: 0px; fill: rgb(99, 110, 250); fill-opacity: 1;\"/><path class=\"point\" transform=\"translate(85.82,302.22)\" d=\"M3,0A3,3 0 1,1 0,-3A3,3 0 0,1 3,0Z\" style=\"opacity: 1; stroke-width: 0px; fill: rgb(99, 110, 250); fill-opacity: 1;\"/><path class=\"point\" transform=\"translate(85.82,302.22)\" d=\"M3,0A3,3 0 1,1 0,-3A3,3 0 0,1 3,0Z\" style=\"opacity: 1; stroke-width: 0px; fill: rgb(99, 110, 250); fill-opacity: 1;\"/><path class=\"point\" transform=\"translate(85.82,302.22)\" d=\"M3,0A3,3 0 1,1 0,-3A3,3 0 0,1 3,0Z\" style=\"opacity: 1; stroke-width: 0px; fill: rgb(99, 110, 250); fill-opacity: 1;\"/><path class=\"point\" transform=\"translate(85.82,302.22)\" d=\"M3,0A3,3 0 1,1 0,-3A3,3 0 0,1 3,0Z\" style=\"opacity: 1; stroke-width: 0px; fill: rgb(99, 110, 250); fill-opacity: 1;\"/><path class=\"point\" transform=\"translate(85.82,302.22)\" d=\"M3,0A3,3 0 1,1 0,-3A3,3 0 0,1 3,0Z\" style=\"opacity: 1; stroke-width: 0px; fill: rgb(99, 110, 250); fill-opacity: 1;\"/><path class=\"point\" transform=\"translate(85.82,302.22)\" d=\"M3,0A3,3 0 1,1 0,-3A3,3 0 0,1 3,0Z\" style=\"opacity: 1; stroke-width: 0px; fill: rgb(99, 110, 250); fill-opacity: 1;\"/><path class=\"point\" transform=\"translate(85.82,302.22)\" d=\"M3,0A3,3 0 1,1 0,-3A3,3 0 0,1 3,0Z\" style=\"opacity: 1; stroke-width: 0px; fill: rgb(99, 110, 250); fill-opacity: 1;\"/><path class=\"point\" transform=\"translate(85.82,302.22)\" d=\"M3,0A3,3 0 1,1 0,-3A3,3 0 0,1 3,0Z\" style=\"opacity: 1; stroke-width: 0px; fill: rgb(99, 110, 250); fill-opacity: 1;\"/><path class=\"point\" transform=\"translate(85.82,302.22)\" d=\"M3,0A3,3 0 1,1 0,-3A3,3 0 0,1 3,0Z\" style=\"opacity: 1; stroke-width: 0px; fill: rgb(99, 110, 250); fill-opacity: 1;\"/><path class=\"point\" transform=\"translate(85.82,302.22)\" d=\"M3,0A3,3 0 1,1 0,-3A3,3 0 0,1 3,0Z\" style=\"opacity: 1; stroke-width: 0px; fill: rgb(99, 110, 250); fill-opacity: 1;\"/><path class=\"point\" transform=\"translate(85.82,302.22)\" d=\"M3,0A3,3 0 1,1 0,-3A3,3 0 0,1 3,0Z\" style=\"opacity: 1; stroke-width: 0px; fill: rgb(99, 110, 250); fill-opacity: 1;\"/><path class=\"point\" transform=\"translate(85.82,302.22)\" d=\"M3,0A3,3 0 1,1 0,-3A3,3 0 0,1 3,0Z\" style=\"opacity: 1; stroke-width: 0px; fill: rgb(99, 110, 250); fill-opacity: 1;\"/><path class=\"point\" transform=\"translate(85.82,302.22)\" d=\"M3,0A3,3 0 1,1 0,-3A3,3 0 0,1 3,0Z\" style=\"opacity: 1; stroke-width: 0px; fill: rgb(99, 110, 250); fill-opacity: 1;\"/><path class=\"point\" transform=\"translate(85.82,302.22)\" d=\"M3,0A3,3 0 1,1 0,-3A3,3 0 0,1 3,0Z\" style=\"opacity: 1; stroke-width: 0px; fill: rgb(99, 110, 250); fill-opacity: 1;\"/><path class=\"point\" transform=\"translate(85.82,302.22)\" d=\"M3,0A3,3 0 1,1 0,-3A3,3 0 0,1 3,0Z\" style=\"opacity: 1; stroke-width: 0px; fill: rgb(99, 110, 250); fill-opacity: 1;\"/><path class=\"point\" transform=\"translate(85.82,302.22)\" d=\"M3,0A3,3 0 1,1 0,-3A3,3 0 0,1 3,0Z\" style=\"opacity: 1; stroke-width: 0px; fill: rgb(99, 110, 250); fill-opacity: 1;\"/><path class=\"point\" transform=\"translate(85.82,302.22)\" d=\"M3,0A3,3 0 1,1 0,-3A3,3 0 0,1 3,0Z\" style=\"opacity: 1; stroke-width: 0px; fill: rgb(99, 110, 250); fill-opacity: 1;\"/><path class=\"point\" transform=\"translate(87.31,302.22)\" d=\"M3,0A3,3 0 1,1 0,-3A3,3 0 0,1 3,0Z\" style=\"opacity: 1; stroke-width: 0px; fill: rgb(99, 110, 250); fill-opacity: 1;\"/><path class=\"point\" transform=\"translate(88.8,302.22)\" d=\"M3,0A3,3 0 1,1 0,-3A3,3 0 0,1 3,0Z\" style=\"opacity: 1; stroke-width: 0px; fill: rgb(99, 110, 250); fill-opacity: 1;\"/><path class=\"point\" transform=\"translate(89.55,302.22)\" d=\"M3,0A3,3 0 1,1 0,-3A3,3 0 0,1 3,0Z\" style=\"opacity: 1; stroke-width: 0px; fill: rgb(99, 110, 250); fill-opacity: 1;\"/><path class=\"point\" transform=\"translate(91.79,302.22)\" d=\"M3,0A3,3 0 1,1 0,-3A3,3 0 0,1 3,0Z\" style=\"opacity: 1; stroke-width: 0px; fill: rgb(99, 110, 250); fill-opacity: 1;\"/><path class=\"point\" transform=\"translate(93.28,302.22)\" d=\"M3,0A3,3 0 1,1 0,-3A3,3 0 0,1 3,0Z\" style=\"opacity: 1; stroke-width: 0px; fill: rgb(99, 110, 250); fill-opacity: 1;\"/><path class=\"point\" transform=\"translate(93.28,302.22)\" d=\"M3,0A3,3 0 1,1 0,-3A3,3 0 0,1 3,0Z\" style=\"opacity: 1; stroke-width: 0px; fill: rgb(99, 110, 250); fill-opacity: 1;\"/><path class=\"point\" transform=\"translate(93.28,302.22)\" d=\"M3,0A3,3 0 1,1 0,-3A3,3 0 0,1 3,0Z\" style=\"opacity: 1; stroke-width: 0px; fill: rgb(99, 110, 250); fill-opacity: 1;\"/><path class=\"point\" transform=\"translate(93.28,302.22)\" d=\"M3,0A3,3 0 1,1 0,-3A3,3 0 0,1 3,0Z\" style=\"opacity: 1; stroke-width: 0px; fill: rgb(99, 110, 250); fill-opacity: 1;\"/><path class=\"point\" transform=\"translate(93.28,302.22)\" d=\"M3,0A3,3 0 1,1 0,-3A3,3 0 0,1 3,0Z\" style=\"opacity: 1; stroke-width: 0px; fill: rgb(99, 110, 250); fill-opacity: 1;\"/><path class=\"point\" transform=\"translate(93.28,302.22)\" d=\"M3,0A3,3 0 1,1 0,-3A3,3 0 0,1 3,0Z\" style=\"opacity: 1; stroke-width: 0px; fill: rgb(99, 110, 250); fill-opacity: 1;\"/><path class=\"point\" transform=\"translate(93.28,302.22)\" d=\"M3,0A3,3 0 1,1 0,-3A3,3 0 0,1 3,0Z\" style=\"opacity: 1; stroke-width: 0px; fill: rgb(99, 110, 250); fill-opacity: 1;\"/><path class=\"point\" transform=\"translate(93.28,302.22)\" d=\"M3,0A3,3 0 1,1 0,-3A3,3 0 0,1 3,0Z\" style=\"opacity: 1; stroke-width: 0px; fill: rgb(99, 110, 250); fill-opacity: 1;\"/><path class=\"point\" transform=\"translate(93.28,302.22)\" d=\"M3,0A3,3 0 1,1 0,-3A3,3 0 0,1 3,0Z\" style=\"opacity: 1; stroke-width: 0px; fill: rgb(99, 110, 250); fill-opacity: 1;\"/><path class=\"point\" transform=\"translate(93.28,302.22)\" d=\"M3,0A3,3 0 1,1 0,-3A3,3 0 0,1 3,0Z\" style=\"opacity: 1; stroke-width: 0px; fill: rgb(99, 110, 250); fill-opacity: 1;\"/><path class=\"point\" transform=\"translate(93.28,302.22)\" d=\"M3,0A3,3 0 1,1 0,-3A3,3 0 0,1 3,0Z\" style=\"opacity: 1; stroke-width: 0px; fill: rgb(99, 110, 250); fill-opacity: 1;\"/><path class=\"point\" transform=\"translate(93.28,302.22)\" d=\"M3,0A3,3 0 1,1 0,-3A3,3 0 0,1 3,0Z\" style=\"opacity: 1; stroke-width: 0px; fill: rgb(99, 110, 250); fill-opacity: 1;\"/><path class=\"point\" transform=\"translate(93.28,302.22)\" d=\"M3,0A3,3 0 1,1 0,-3A3,3 0 0,1 3,0Z\" style=\"opacity: 1; stroke-width: 0px; fill: rgb(99, 110, 250); fill-opacity: 1;\"/><path class=\"point\" transform=\"translate(93.28,302.22)\" d=\"M3,0A3,3 0 1,1 0,-3A3,3 0 0,1 3,0Z\" style=\"opacity: 1; stroke-width: 0px; fill: rgb(99, 110, 250); fill-opacity: 1;\"/><path class=\"point\" transform=\"translate(93.28,302.22)\" d=\"M3,0A3,3 0 1,1 0,-3A3,3 0 0,1 3,0Z\" style=\"opacity: 1; stroke-width: 0px; fill: rgb(99, 110, 250); fill-opacity: 1;\"/><path class=\"point\" transform=\"translate(93.28,302.22)\" d=\"M3,0A3,3 0 1,1 0,-3A3,3 0 0,1 3,0Z\" style=\"opacity: 1; stroke-width: 0px; fill: rgb(99, 110, 250); fill-opacity: 1;\"/><path class=\"point\" transform=\"translate(93.28,302.22)\" d=\"M3,0A3,3 0 1,1 0,-3A3,3 0 0,1 3,0Z\" style=\"opacity: 1; stroke-width: 0px; fill: rgb(99, 110, 250); fill-opacity: 1;\"/><path class=\"point\" transform=\"translate(93.28,302.22)\" d=\"M3,0A3,3 0 1,1 0,-3A3,3 0 0,1 3,0Z\" style=\"opacity: 1; stroke-width: 0px; fill: rgb(99, 110, 250); fill-opacity: 1;\"/><path class=\"point\" transform=\"translate(93.28,302.22)\" d=\"M3,0A3,3 0 1,1 0,-3A3,3 0 0,1 3,0Z\" style=\"opacity: 1; stroke-width: 0px; fill: rgb(99, 110, 250); fill-opacity: 1;\"/><path class=\"point\" transform=\"translate(93.28,302.22)\" d=\"M3,0A3,3 0 1,1 0,-3A3,3 0 0,1 3,0Z\" style=\"opacity: 1; stroke-width: 0px; fill: rgb(99, 110, 250); fill-opacity: 1;\"/><path class=\"point\" transform=\"translate(93.28,302.22)\" d=\"M3,0A3,3 0 1,1 0,-3A3,3 0 0,1 3,0Z\" style=\"opacity: 1; stroke-width: 0px; fill: rgb(99, 110, 250); fill-opacity: 1;\"/><path class=\"point\" transform=\"translate(93.28,302.22)\" d=\"M3,0A3,3 0 1,1 0,-3A3,3 0 0,1 3,0Z\" style=\"opacity: 1; stroke-width: 0px; fill: rgb(99, 110, 250); fill-opacity: 1;\"/><path class=\"point\" transform=\"translate(93.28,302.22)\" d=\"M3,0A3,3 0 1,1 0,-3A3,3 0 0,1 3,0Z\" style=\"opacity: 1; stroke-width: 0px; fill: rgb(99, 110, 250); fill-opacity: 1;\"/><path class=\"point\" transform=\"translate(93.28,302.22)\" d=\"M3,0A3,3 0 1,1 0,-3A3,3 0 0,1 3,0Z\" style=\"opacity: 1; stroke-width: 0px; fill: rgb(99, 110, 250); fill-opacity: 1;\"/><path class=\"point\" transform=\"translate(93.28,302.22)\" d=\"M3,0A3,3 0 1,1 0,-3A3,3 0 0,1 3,0Z\" style=\"opacity: 1; stroke-width: 0px; fill: rgb(99, 110, 250); fill-opacity: 1;\"/><path class=\"point\" transform=\"translate(93.28,302.22)\" d=\"M3,0A3,3 0 1,1 0,-3A3,3 0 0,1 3,0Z\" style=\"opacity: 1; stroke-width: 0px; fill: rgb(99, 110, 250); fill-opacity: 1;\"/><path class=\"point\" transform=\"translate(93.28,302.22)\" d=\"M3,0A3,3 0 1,1 0,-3A3,3 0 0,1 3,0Z\" style=\"opacity: 1; stroke-width: 0px; fill: rgb(99, 110, 250); fill-opacity: 1;\"/><path class=\"point\" transform=\"translate(93.28,302.22)\" d=\"M3,0A3,3 0 1,1 0,-3A3,3 0 0,1 3,0Z\" style=\"opacity: 1; stroke-width: 0px; fill: rgb(99, 110, 250); fill-opacity: 1;\"/><path class=\"point\" transform=\"translate(93.28,302.22)\" d=\"M3,0A3,3 0 1,1 0,-3A3,3 0 0,1 3,0Z\" style=\"opacity: 1; stroke-width: 0px; fill: rgb(99, 110, 250); fill-opacity: 1;\"/><path class=\"point\" transform=\"translate(93.28,302.22)\" d=\"M3,0A3,3 0 1,1 0,-3A3,3 0 0,1 3,0Z\" style=\"opacity: 1; stroke-width: 0px; fill: rgb(99, 110, 250); fill-opacity: 1;\"/><path class=\"point\" transform=\"translate(93.28,302.22)\" d=\"M3,0A3,3 0 1,1 0,-3A3,3 0 0,1 3,0Z\" style=\"opacity: 1; stroke-width: 0px; fill: rgb(99, 110, 250); fill-opacity: 1;\"/><path class=\"point\" transform=\"translate(93.28,302.22)\" d=\"M3,0A3,3 0 1,1 0,-3A3,3 0 0,1 3,0Z\" style=\"opacity: 1; stroke-width: 0px; fill: rgb(99, 110, 250); fill-opacity: 1;\"/><path class=\"point\" transform=\"translate(93.28,302.22)\" d=\"M3,0A3,3 0 1,1 0,-3A3,3 0 0,1 3,0Z\" style=\"opacity: 1; stroke-width: 0px; fill: rgb(99, 110, 250); fill-opacity: 1;\"/><path class=\"point\" transform=\"translate(93.28,302.22)\" d=\"M3,0A3,3 0 1,1 0,-3A3,3 0 0,1 3,0Z\" style=\"opacity: 1; stroke-width: 0px; fill: rgb(99, 110, 250); fill-opacity: 1;\"/><path class=\"point\" transform=\"translate(93.28,302.22)\" d=\"M3,0A3,3 0 1,1 0,-3A3,3 0 0,1 3,0Z\" style=\"opacity: 1; stroke-width: 0px; fill: rgb(99, 110, 250); fill-opacity: 1;\"/><path class=\"point\" transform=\"translate(93.28,302.22)\" d=\"M3,0A3,3 0 1,1 0,-3A3,3 0 0,1 3,0Z\" style=\"opacity: 1; stroke-width: 0px; fill: rgb(99, 110, 250); fill-opacity: 1;\"/><path class=\"point\" transform=\"translate(93.28,302.22)\" d=\"M3,0A3,3 0 1,1 0,-3A3,3 0 0,1 3,0Z\" style=\"opacity: 1; stroke-width: 0px; fill: rgb(99, 110, 250); fill-opacity: 1;\"/><path class=\"point\" transform=\"translate(93.28,302.22)\" d=\"M3,0A3,3 0 1,1 0,-3A3,3 0 0,1 3,0Z\" style=\"opacity: 1; stroke-width: 0px; fill: rgb(99, 110, 250); fill-opacity: 1;\"/><path class=\"point\" transform=\"translate(93.28,302.22)\" d=\"M3,0A3,3 0 1,1 0,-3A3,3 0 0,1 3,0Z\" style=\"opacity: 1; stroke-width: 0px; fill: rgb(99, 110, 250); fill-opacity: 1;\"/><path class=\"point\" transform=\"translate(93.28,302.22)\" d=\"M3,0A3,3 0 1,1 0,-3A3,3 0 0,1 3,0Z\" style=\"opacity: 1; stroke-width: 0px; fill: rgb(99, 110, 250); fill-opacity: 1;\"/><path class=\"point\" transform=\"translate(93.28,302.22)\" d=\"M3,0A3,3 0 1,1 0,-3A3,3 0 0,1 3,0Z\" style=\"opacity: 1; stroke-width: 0px; fill: rgb(99, 110, 250); fill-opacity: 1;\"/><path class=\"point\" transform=\"translate(93.28,302.22)\" d=\"M3,0A3,3 0 1,1 0,-3A3,3 0 0,1 3,0Z\" style=\"opacity: 1; stroke-width: 0px; fill: rgb(99, 110, 250); fill-opacity: 1;\"/><path class=\"point\" transform=\"translate(93.28,302.22)\" d=\"M3,0A3,3 0 1,1 0,-3A3,3 0 0,1 3,0Z\" style=\"opacity: 1; stroke-width: 0px; fill: rgb(99, 110, 250); fill-opacity: 1;\"/><path class=\"point\" transform=\"translate(95.52,302.22)\" d=\"M3,0A3,3 0 1,1 0,-3A3,3 0 0,1 3,0Z\" style=\"opacity: 1; stroke-width: 0px; fill: rgb(99, 110, 250); fill-opacity: 1;\"/><path class=\"point\" transform=\"translate(96.26,302.22)\" d=\"M3,0A3,3 0 1,1 0,-3A3,3 0 0,1 3,0Z\" style=\"opacity: 1; stroke-width: 0px; fill: rgb(99, 110, 250); fill-opacity: 1;\"/><path class=\"point\" transform=\"translate(96.26,302.22)\" d=\"M3,0A3,3 0 1,1 0,-3A3,3 0 0,1 3,0Z\" style=\"opacity: 1; stroke-width: 0px; fill: rgb(99, 110, 250); fill-opacity: 1;\"/><path class=\"point\" transform=\"translate(97.01,302.22)\" d=\"M3,0A3,3 0 1,1 0,-3A3,3 0 0,1 3,0Z\" style=\"opacity: 1; stroke-width: 0px; fill: rgb(99, 110, 250); fill-opacity: 1;\"/><path class=\"point\" transform=\"translate(97.01,302.22)\" d=\"M3,0A3,3 0 1,1 0,-3A3,3 0 0,1 3,0Z\" style=\"opacity: 1; stroke-width: 0px; fill: rgb(99, 110, 250); fill-opacity: 1;\"/><path class=\"point\" transform=\"translate(97.01,302.22)\" d=\"M3,0A3,3 0 1,1 0,-3A3,3 0 0,1 3,0Z\" style=\"opacity: 1; stroke-width: 0px; fill: rgb(99, 110, 250); fill-opacity: 1;\"/><path class=\"point\" transform=\"translate(97.01,302.22)\" d=\"M3,0A3,3 0 1,1 0,-3A3,3 0 0,1 3,0Z\" style=\"opacity: 1; stroke-width: 0px; fill: rgb(99, 110, 250); fill-opacity: 1;\"/><path class=\"point\" transform=\"translate(97.76,302.22)\" d=\"M3,0A3,3 0 1,1 0,-3A3,3 0 0,1 3,0Z\" style=\"opacity: 1; stroke-width: 0px; fill: rgb(99, 110, 250); fill-opacity: 1;\"/><path class=\"point\" transform=\"translate(98.5,302.22)\" d=\"M3,0A3,3 0 1,1 0,-3A3,3 0 0,1 3,0Z\" style=\"opacity: 1; stroke-width: 0px; fill: rgb(99, 110, 250); fill-opacity: 1;\"/><path class=\"point\" transform=\"translate(99.25,302.22)\" d=\"M3,0A3,3 0 1,1 0,-3A3,3 0 0,1 3,0Z\" style=\"opacity: 1; stroke-width: 0px; fill: rgb(99, 110, 250); fill-opacity: 1;\"/><path class=\"point\" transform=\"translate(99.25,302.22)\" d=\"M3,0A3,3 0 1,1 0,-3A3,3 0 0,1 3,0Z\" style=\"opacity: 1; stroke-width: 0px; fill: rgb(99, 110, 250); fill-opacity: 1;\"/><path class=\"point\" transform=\"translate(99.25,302.22)\" d=\"M3,0A3,3 0 1,1 0,-3A3,3 0 0,1 3,0Z\" style=\"opacity: 1; stroke-width: 0px; fill: rgb(99, 110, 250); fill-opacity: 1;\"/><path class=\"point\" transform=\"translate(100.74,302.22)\" d=\"M3,0A3,3 0 1,1 0,-3A3,3 0 0,1 3,0Z\" style=\"opacity: 1; stroke-width: 0px; fill: rgb(99, 110, 250); fill-opacity: 1;\"/><path class=\"point\" transform=\"translate(100.74,302.22)\" d=\"M3,0A3,3 0 1,1 0,-3A3,3 0 0,1 3,0Z\" style=\"opacity: 1; stroke-width: 0px; fill: rgb(99, 110, 250); fill-opacity: 1;\"/><path class=\"point\" transform=\"translate(100.74,302.22)\" d=\"M3,0A3,3 0 1,1 0,-3A3,3 0 0,1 3,0Z\" style=\"opacity: 1; stroke-width: 0px; fill: rgb(99, 110, 250); fill-opacity: 1;\"/><path class=\"point\" transform=\"translate(100.74,302.22)\" d=\"M3,0A3,3 0 1,1 0,-3A3,3 0 0,1 3,0Z\" style=\"opacity: 1; stroke-width: 0px; fill: rgb(99, 110, 250); fill-opacity: 1;\"/><path class=\"point\" transform=\"translate(100.74,302.22)\" d=\"M3,0A3,3 0 1,1 0,-3A3,3 0 0,1 3,0Z\" style=\"opacity: 1; stroke-width: 0px; fill: rgb(99, 110, 250); fill-opacity: 1;\"/><path class=\"point\" transform=\"translate(100.74,302.22)\" d=\"M3,0A3,3 0 1,1 0,-3A3,3 0 0,1 3,0Z\" style=\"opacity: 1; stroke-width: 0px; fill: rgb(99, 110, 250); fill-opacity: 1;\"/><path class=\"point\" transform=\"translate(100.74,302.22)\" d=\"M3,0A3,3 0 1,1 0,-3A3,3 0 0,1 3,0Z\" style=\"opacity: 1; stroke-width: 0px; fill: rgb(99, 110, 250); fill-opacity: 1;\"/><path class=\"point\" transform=\"translate(100.74,302.22)\" d=\"M3,0A3,3 0 1,1 0,-3A3,3 0 0,1 3,0Z\" style=\"opacity: 1; stroke-width: 0px; fill: rgb(99, 110, 250); fill-opacity: 1;\"/><path class=\"point\" transform=\"translate(100.74,302.22)\" d=\"M3,0A3,3 0 1,1 0,-3A3,3 0 0,1 3,0Z\" style=\"opacity: 1; stroke-width: 0px; fill: rgb(99, 110, 250); fill-opacity: 1;\"/><path class=\"point\" transform=\"translate(100.74,302.22)\" d=\"M3,0A3,3 0 1,1 0,-3A3,3 0 0,1 3,0Z\" style=\"opacity: 1; stroke-width: 0px; fill: rgb(99, 110, 250); fill-opacity: 1;\"/><path class=\"point\" transform=\"translate(100.74,302.22)\" d=\"M3,0A3,3 0 1,1 0,-3A3,3 0 0,1 3,0Z\" style=\"opacity: 1; stroke-width: 0px; fill: rgb(99, 110, 250); fill-opacity: 1;\"/><path class=\"point\" transform=\"translate(100.74,302.22)\" d=\"M3,0A3,3 0 1,1 0,-3A3,3 0 0,1 3,0Z\" style=\"opacity: 1; stroke-width: 0px; fill: rgb(99, 110, 250); fill-opacity: 1;\"/><path class=\"point\" transform=\"translate(100.74,302.22)\" d=\"M3,0A3,3 0 1,1 0,-3A3,3 0 0,1 3,0Z\" style=\"opacity: 1; stroke-width: 0px; fill: rgb(99, 110, 250); fill-opacity: 1;\"/><path class=\"point\" transform=\"translate(100.74,302.22)\" d=\"M3,0A3,3 0 1,1 0,-3A3,3 0 0,1 3,0Z\" style=\"opacity: 1; stroke-width: 0px; fill: rgb(99, 110, 250); fill-opacity: 1;\"/><path class=\"point\" transform=\"translate(100.74,302.22)\" d=\"M3,0A3,3 0 1,1 0,-3A3,3 0 0,1 3,0Z\" style=\"opacity: 1; stroke-width: 0px; fill: rgb(99, 110, 250); fill-opacity: 1;\"/><path class=\"point\" transform=\"translate(100.74,302.22)\" d=\"M3,0A3,3 0 1,1 0,-3A3,3 0 0,1 3,0Z\" style=\"opacity: 1; stroke-width: 0px; fill: rgb(99, 110, 250); fill-opacity: 1;\"/><path class=\"point\" transform=\"translate(101.49,302.22)\" d=\"M3,0A3,3 0 1,1 0,-3A3,3 0 0,1 3,0Z\" style=\"opacity: 1; stroke-width: 0px; fill: rgb(99, 110, 250); fill-opacity: 1;\"/><path class=\"point\" transform=\"translate(102.23,302.22)\" d=\"M3,0A3,3 0 1,1 0,-3A3,3 0 0,1 3,0Z\" style=\"opacity: 1; stroke-width: 0px; fill: rgb(99, 110, 250); fill-opacity: 1;\"/><path class=\"point\" transform=\"translate(102.23,302.22)\" d=\"M3,0A3,3 0 1,1 0,-3A3,3 0 0,1 3,0Z\" style=\"opacity: 1; stroke-width: 0px; fill: rgb(99, 110, 250); fill-opacity: 1;\"/><path class=\"point\" transform=\"translate(102.23,302.22)\" d=\"M3,0A3,3 0 1,1 0,-3A3,3 0 0,1 3,0Z\" style=\"opacity: 1; stroke-width: 0px; fill: rgb(99, 110, 250); fill-opacity: 1;\"/><path class=\"point\" transform=\"translate(104.47,302.22)\" d=\"M3,0A3,3 0 1,1 0,-3A3,3 0 0,1 3,0Z\" style=\"opacity: 1; stroke-width: 0px; fill: rgb(99, 110, 250); fill-opacity: 1;\"/><path class=\"point\" transform=\"translate(104.47,302.22)\" d=\"M3,0A3,3 0 1,1 0,-3A3,3 0 0,1 3,0Z\" style=\"opacity: 1; stroke-width: 0px; fill: rgb(99, 110, 250); fill-opacity: 1;\"/><path class=\"point\" transform=\"translate(105.22,302.22)\" d=\"M3,0A3,3 0 1,1 0,-3A3,3 0 0,1 3,0Z\" style=\"opacity: 1; stroke-width: 0px; fill: rgb(99, 110, 250); fill-opacity: 1;\"/><path class=\"point\" transform=\"translate(105.22,302.22)\" d=\"M3,0A3,3 0 1,1 0,-3A3,3 0 0,1 3,0Z\" style=\"opacity: 1; stroke-width: 0px; fill: rgb(99, 110, 250); fill-opacity: 1;\"/><path class=\"point\" transform=\"translate(106.71,302.22)\" d=\"M3,0A3,3 0 1,1 0,-3A3,3 0 0,1 3,0Z\" style=\"opacity: 1; stroke-width: 0px; fill: rgb(99, 110, 250); fill-opacity: 1;\"/><path class=\"point\" transform=\"translate(108.2,302.22)\" d=\"M3,0A3,3 0 1,1 0,-3A3,3 0 0,1 3,0Z\" style=\"opacity: 1; stroke-width: 0px; fill: rgb(99, 110, 250); fill-opacity: 1;\"/><path class=\"point\" transform=\"translate(108.2,302.22)\" d=\"M3,0A3,3 0 1,1 0,-3A3,3 0 0,1 3,0Z\" style=\"opacity: 1; stroke-width: 0px; fill: rgb(99, 110, 250); fill-opacity: 1;\"/><path class=\"point\" transform=\"translate(108.2,302.22)\" d=\"M3,0A3,3 0 1,1 0,-3A3,3 0 0,1 3,0Z\" style=\"opacity: 1; stroke-width: 0px; fill: rgb(99, 110, 250); fill-opacity: 1;\"/><path class=\"point\" transform=\"translate(108.2,302.22)\" d=\"M3,0A3,3 0 1,1 0,-3A3,3 0 0,1 3,0Z\" style=\"opacity: 1; stroke-width: 0px; fill: rgb(99, 110, 250); fill-opacity: 1;\"/><path class=\"point\" transform=\"translate(108.2,302.22)\" d=\"M3,0A3,3 0 1,1 0,-3A3,3 0 0,1 3,0Z\" style=\"opacity: 1; stroke-width: 0px; fill: rgb(99, 110, 250); fill-opacity: 1;\"/><path class=\"point\" transform=\"translate(108.2,302.22)\" d=\"M3,0A3,3 0 1,1 0,-3A3,3 0 0,1 3,0Z\" style=\"opacity: 1; stroke-width: 0px; fill: rgb(99, 110, 250); fill-opacity: 1;\"/><path class=\"point\" transform=\"translate(108.2,302.22)\" d=\"M3,0A3,3 0 1,1 0,-3A3,3 0 0,1 3,0Z\" style=\"opacity: 1; stroke-width: 0px; fill: rgb(99, 110, 250); fill-opacity: 1;\"/><path class=\"point\" transform=\"translate(108.2,302.22)\" d=\"M3,0A3,3 0 1,1 0,-3A3,3 0 0,1 3,0Z\" style=\"opacity: 1; stroke-width: 0px; fill: rgb(99, 110, 250); fill-opacity: 1;\"/><path class=\"point\" transform=\"translate(108.2,302.22)\" d=\"M3,0A3,3 0 1,1 0,-3A3,3 0 0,1 3,0Z\" style=\"opacity: 1; stroke-width: 0px; fill: rgb(99, 110, 250); fill-opacity: 1;\"/><path class=\"point\" transform=\"translate(108.2,302.22)\" d=\"M3,0A3,3 0 1,1 0,-3A3,3 0 0,1 3,0Z\" style=\"opacity: 1; stroke-width: 0px; fill: rgb(99, 110, 250); fill-opacity: 1;\"/><path class=\"point\" transform=\"translate(110.44,302.22)\" d=\"M3,0A3,3 0 1,1 0,-3A3,3 0 0,1 3,0Z\" style=\"opacity: 1; stroke-width: 0px; fill: rgb(99, 110, 250); fill-opacity: 1;\"/><path class=\"point\" transform=\"translate(110.44,302.22)\" d=\"M3,0A3,3 0 1,1 0,-3A3,3 0 0,1 3,0Z\" style=\"opacity: 1; stroke-width: 0px; fill: rgb(99, 110, 250); fill-opacity: 1;\"/><path class=\"point\" transform=\"translate(111.19,302.22)\" d=\"M3,0A3,3 0 1,1 0,-3A3,3 0 0,1 3,0Z\" style=\"opacity: 1; stroke-width: 0px; fill: rgb(99, 110, 250); fill-opacity: 1;\"/><path class=\"point\" transform=\"translate(112.68,302.22)\" d=\"M3,0A3,3 0 1,1 0,-3A3,3 0 0,1 3,0Z\" style=\"opacity: 1; stroke-width: 0px; fill: rgb(99, 110, 250); fill-opacity: 1;\"/><path class=\"point\" transform=\"translate(112.68,302.22)\" d=\"M3,0A3,3 0 1,1 0,-3A3,3 0 0,1 3,0Z\" style=\"opacity: 1; stroke-width: 0px; fill: rgb(99, 110, 250); fill-opacity: 1;\"/><path class=\"point\" transform=\"translate(113.43,302.22)\" d=\"M3,0A3,3 0 1,1 0,-3A3,3 0 0,1 3,0Z\" style=\"opacity: 1; stroke-width: 0px; fill: rgb(99, 110, 250); fill-opacity: 1;\"/><path class=\"point\" transform=\"translate(114.17,302.22)\" d=\"M3,0A3,3 0 1,1 0,-3A3,3 0 0,1 3,0Z\" style=\"opacity: 1; stroke-width: 0px; fill: rgb(99, 110, 250); fill-opacity: 1;\"/><path class=\"point\" transform=\"translate(114.92,302.22)\" d=\"M3,0A3,3 0 1,1 0,-3A3,3 0 0,1 3,0Z\" style=\"opacity: 1; stroke-width: 0px; fill: rgb(99, 110, 250); fill-opacity: 1;\"/><path class=\"point\" transform=\"translate(115.67,302.22)\" d=\"M3,0A3,3 0 1,1 0,-3A3,3 0 0,1 3,0Z\" style=\"opacity: 1; stroke-width: 0px; fill: rgb(99, 110, 250); fill-opacity: 1;\"/><path class=\"point\" transform=\"translate(115.67,302.22)\" d=\"M3,0A3,3 0 1,1 0,-3A3,3 0 0,1 3,0Z\" style=\"opacity: 1; stroke-width: 0px; fill: rgb(99, 110, 250); fill-opacity: 1;\"/><path class=\"point\" transform=\"translate(115.67,302.22)\" d=\"M3,0A3,3 0 1,1 0,-3A3,3 0 0,1 3,0Z\" style=\"opacity: 1; stroke-width: 0px; fill: rgb(99, 110, 250); fill-opacity: 1;\"/><path class=\"point\" transform=\"translate(115.67,302.22)\" d=\"M3,0A3,3 0 1,1 0,-3A3,3 0 0,1 3,0Z\" style=\"opacity: 1; stroke-width: 0px; fill: rgb(99, 110, 250); fill-opacity: 1;\"/><path class=\"point\" transform=\"translate(115.67,302.22)\" d=\"M3,0A3,3 0 1,1 0,-3A3,3 0 0,1 3,0Z\" style=\"opacity: 1; stroke-width: 0px; fill: rgb(99, 110, 250); fill-opacity: 1;\"/><path class=\"point\" transform=\"translate(115.67,302.22)\" d=\"M3,0A3,3 0 1,1 0,-3A3,3 0 0,1 3,0Z\" style=\"opacity: 1; stroke-width: 0px; fill: rgb(99, 110, 250); fill-opacity: 1;\"/><path class=\"point\" transform=\"translate(115.67,302.22)\" d=\"M3,0A3,3 0 1,1 0,-3A3,3 0 0,1 3,0Z\" style=\"opacity: 1; stroke-width: 0px; fill: rgb(99, 110, 250); fill-opacity: 1;\"/><path class=\"point\" transform=\"translate(115.67,302.22)\" d=\"M3,0A3,3 0 1,1 0,-3A3,3 0 0,1 3,0Z\" style=\"opacity: 1; stroke-width: 0px; fill: rgb(99, 110, 250); fill-opacity: 1;\"/><path class=\"point\" transform=\"translate(115.67,302.22)\" d=\"M3,0A3,3 0 1,1 0,-3A3,3 0 0,1 3,0Z\" style=\"opacity: 1; stroke-width: 0px; fill: rgb(99, 110, 250); fill-opacity: 1;\"/><path class=\"point\" transform=\"translate(115.67,302.22)\" d=\"M3,0A3,3 0 1,1 0,-3A3,3 0 0,1 3,0Z\" style=\"opacity: 1; stroke-width: 0px; fill: rgb(99, 110, 250); fill-opacity: 1;\"/><path class=\"point\" transform=\"translate(115.67,302.22)\" d=\"M3,0A3,3 0 1,1 0,-3A3,3 0 0,1 3,0Z\" style=\"opacity: 1; stroke-width: 0px; fill: rgb(99, 110, 250); fill-opacity: 1;\"/><path class=\"point\" transform=\"translate(115.67,302.22)\" d=\"M3,0A3,3 0 1,1 0,-3A3,3 0 0,1 3,0Z\" style=\"opacity: 1; stroke-width: 0px; fill: rgb(99, 110, 250); fill-opacity: 1;\"/><path class=\"point\" transform=\"translate(115.67,302.22)\" d=\"M3,0A3,3 0 1,1 0,-3A3,3 0 0,1 3,0Z\" style=\"opacity: 1; stroke-width: 0px; fill: rgb(99, 110, 250); fill-opacity: 1;\"/><path class=\"point\" transform=\"translate(115.67,302.22)\" d=\"M3,0A3,3 0 1,1 0,-3A3,3 0 0,1 3,0Z\" style=\"opacity: 1; stroke-width: 0px; fill: rgb(99, 110, 250); fill-opacity: 1;\"/><path class=\"point\" transform=\"translate(115.67,302.22)\" d=\"M3,0A3,3 0 1,1 0,-3A3,3 0 0,1 3,0Z\" style=\"opacity: 1; stroke-width: 0px; fill: rgb(99, 110, 250); fill-opacity: 1;\"/><path class=\"point\" transform=\"translate(115.67,302.22)\" d=\"M3,0A3,3 0 1,1 0,-3A3,3 0 0,1 3,0Z\" style=\"opacity: 1; stroke-width: 0px; fill: rgb(99, 110, 250); fill-opacity: 1;\"/><path class=\"point\" transform=\"translate(115.67,302.22)\" d=\"M3,0A3,3 0 1,1 0,-3A3,3 0 0,1 3,0Z\" style=\"opacity: 1; stroke-width: 0px; fill: rgb(99, 110, 250); fill-opacity: 1;\"/><path class=\"point\" transform=\"translate(115.67,302.22)\" d=\"M3,0A3,3 0 1,1 0,-3A3,3 0 0,1 3,0Z\" style=\"opacity: 1; stroke-width: 0px; fill: rgb(99, 110, 250); fill-opacity: 1;\"/><path class=\"point\" transform=\"translate(115.67,302.22)\" d=\"M3,0A3,3 0 1,1 0,-3A3,3 0 0,1 3,0Z\" style=\"opacity: 1; stroke-width: 0px; fill: rgb(99, 110, 250); fill-opacity: 1;\"/><path class=\"point\" transform=\"translate(115.67,302.22)\" d=\"M3,0A3,3 0 1,1 0,-3A3,3 0 0,1 3,0Z\" style=\"opacity: 1; stroke-width: 0px; fill: rgb(99, 110, 250); fill-opacity: 1;\"/><path class=\"point\" transform=\"translate(115.67,302.22)\" d=\"M3,0A3,3 0 1,1 0,-3A3,3 0 0,1 3,0Z\" style=\"opacity: 1; stroke-width: 0px; fill: rgb(99, 110, 250); fill-opacity: 1;\"/><path class=\"point\" transform=\"translate(115.67,302.22)\" d=\"M3,0A3,3 0 1,1 0,-3A3,3 0 0,1 3,0Z\" style=\"opacity: 1; stroke-width: 0px; fill: rgb(99, 110, 250); fill-opacity: 1;\"/><path class=\"point\" transform=\"translate(115.67,302.22)\" d=\"M3,0A3,3 0 1,1 0,-3A3,3 0 0,1 3,0Z\" style=\"opacity: 1; stroke-width: 0px; fill: rgb(99, 110, 250); fill-opacity: 1;\"/><path class=\"point\" transform=\"translate(115.67,302.22)\" d=\"M3,0A3,3 0 1,1 0,-3A3,3 0 0,1 3,0Z\" style=\"opacity: 1; stroke-width: 0px; fill: rgb(99, 110, 250); fill-opacity: 1;\"/><path class=\"point\" transform=\"translate(115.67,302.22)\" d=\"M3,0A3,3 0 1,1 0,-3A3,3 0 0,1 3,0Z\" style=\"opacity: 1; stroke-width: 0px; fill: rgb(99, 110, 250); fill-opacity: 1;\"/><path class=\"point\" transform=\"translate(115.67,302.22)\" d=\"M3,0A3,3 0 1,1 0,-3A3,3 0 0,1 3,0Z\" style=\"opacity: 1; stroke-width: 0px; fill: rgb(99, 110, 250); fill-opacity: 1;\"/><path class=\"point\" transform=\"translate(115.67,302.22)\" d=\"M3,0A3,3 0 1,1 0,-3A3,3 0 0,1 3,0Z\" style=\"opacity: 1; stroke-width: 0px; fill: rgb(99, 110, 250); fill-opacity: 1;\"/><path class=\"point\" transform=\"translate(115.67,302.22)\" d=\"M3,0A3,3 0 1,1 0,-3A3,3 0 0,1 3,0Z\" style=\"opacity: 1; stroke-width: 0px; fill: rgb(99, 110, 250); fill-opacity: 1;\"/><path class=\"point\" transform=\"translate(115.67,302.22)\" d=\"M3,0A3,3 0 1,1 0,-3A3,3 0 0,1 3,0Z\" style=\"opacity: 1; stroke-width: 0px; fill: rgb(99, 110, 250); fill-opacity: 1;\"/><path class=\"point\" transform=\"translate(115.67,302.22)\" d=\"M3,0A3,3 0 1,1 0,-3A3,3 0 0,1 3,0Z\" style=\"opacity: 1; stroke-width: 0px; fill: rgb(99, 110, 250); fill-opacity: 1;\"/><path class=\"point\" transform=\"translate(115.67,302.22)\" d=\"M3,0A3,3 0 1,1 0,-3A3,3 0 0,1 3,0Z\" style=\"opacity: 1; stroke-width: 0px; fill: rgb(99, 110, 250); fill-opacity: 1;\"/><path class=\"point\" transform=\"translate(115.67,302.22)\" d=\"M3,0A3,3 0 1,1 0,-3A3,3 0 0,1 3,0Z\" style=\"opacity: 1; stroke-width: 0px; fill: rgb(99, 110, 250); fill-opacity: 1;\"/><path class=\"point\" transform=\"translate(115.67,302.22)\" d=\"M3,0A3,3 0 1,1 0,-3A3,3 0 0,1 3,0Z\" style=\"opacity: 1; stroke-width: 0px; fill: rgb(99, 110, 250); fill-opacity: 1;\"/><path class=\"point\" transform=\"translate(115.67,302.22)\" d=\"M3,0A3,3 0 1,1 0,-3A3,3 0 0,1 3,0Z\" style=\"opacity: 1; stroke-width: 0px; fill: rgb(99, 110, 250); fill-opacity: 1;\"/><path class=\"point\" transform=\"translate(115.67,302.22)\" d=\"M3,0A3,3 0 1,1 0,-3A3,3 0 0,1 3,0Z\" style=\"opacity: 1; stroke-width: 0px; fill: rgb(99, 110, 250); fill-opacity: 1;\"/><path class=\"point\" transform=\"translate(117.16,302.22)\" d=\"M3,0A3,3 0 1,1 0,-3A3,3 0 0,1 3,0Z\" style=\"opacity: 1; stroke-width: 0px; fill: rgb(99, 110, 250); fill-opacity: 1;\"/><path class=\"point\" transform=\"translate(118.65,302.22)\" d=\"M3,0A3,3 0 1,1 0,-3A3,3 0 0,1 3,0Z\" style=\"opacity: 1; stroke-width: 0px; fill: rgb(99, 110, 250); fill-opacity: 1;\"/><path class=\"point\" transform=\"translate(119.4,302.22)\" d=\"M3,0A3,3 0 1,1 0,-3A3,3 0 0,1 3,0Z\" style=\"opacity: 1; stroke-width: 0px; fill: rgb(99, 110, 250); fill-opacity: 1;\"/><path class=\"point\" transform=\"translate(119.4,302.22)\" d=\"M3,0A3,3 0 1,1 0,-3A3,3 0 0,1 3,0Z\" style=\"opacity: 1; stroke-width: 0px; fill: rgb(99, 110, 250); fill-opacity: 1;\"/><path class=\"point\" transform=\"translate(121.64,302.22)\" d=\"M3,0A3,3 0 1,1 0,-3A3,3 0 0,1 3,0Z\" style=\"opacity: 1; stroke-width: 0px; fill: rgb(99, 110, 250); fill-opacity: 1;\"/><path class=\"point\" transform=\"translate(121.64,302.22)\" d=\"M3,0A3,3 0 1,1 0,-3A3,3 0 0,1 3,0Z\" style=\"opacity: 1; stroke-width: 0px; fill: rgb(99, 110, 250); fill-opacity: 1;\"/><path class=\"point\" transform=\"translate(121.64,302.22)\" d=\"M3,0A3,3 0 1,1 0,-3A3,3 0 0,1 3,0Z\" style=\"opacity: 1; stroke-width: 0px; fill: rgb(99, 110, 250); fill-opacity: 1;\"/><path class=\"point\" transform=\"translate(123.13,302.22)\" d=\"M3,0A3,3 0 1,1 0,-3A3,3 0 0,1 3,0Z\" style=\"opacity: 1; stroke-width: 0px; fill: rgb(99, 110, 250); fill-opacity: 1;\"/><path class=\"point\" transform=\"translate(123.13,302.22)\" d=\"M3,0A3,3 0 1,1 0,-3A3,3 0 0,1 3,0Z\" style=\"opacity: 1; stroke-width: 0px; fill: rgb(99, 110, 250); fill-opacity: 1;\"/><path class=\"point\" transform=\"translate(123.13,302.22)\" d=\"M3,0A3,3 0 1,1 0,-3A3,3 0 0,1 3,0Z\" style=\"opacity: 1; stroke-width: 0px; fill: rgb(99, 110, 250); fill-opacity: 1;\"/><path class=\"point\" transform=\"translate(123.13,302.22)\" d=\"M3,0A3,3 0 1,1 0,-3A3,3 0 0,1 3,0Z\" style=\"opacity: 1; stroke-width: 0px; fill: rgb(99, 110, 250); fill-opacity: 1;\"/><path class=\"point\" transform=\"translate(123.13,302.22)\" d=\"M3,0A3,3 0 1,1 0,-3A3,3 0 0,1 3,0Z\" style=\"opacity: 1; stroke-width: 0px; fill: rgb(99, 110, 250); fill-opacity: 1;\"/><path class=\"point\" transform=\"translate(126.86,302.22)\" d=\"M3,0A3,3 0 1,1 0,-3A3,3 0 0,1 3,0Z\" style=\"opacity: 1; stroke-width: 0px; fill: rgb(99, 110, 250); fill-opacity: 1;\"/><path class=\"point\" transform=\"translate(126.86,302.22)\" d=\"M3,0A3,3 0 1,1 0,-3A3,3 0 0,1 3,0Z\" style=\"opacity: 1; stroke-width: 0px; fill: rgb(99, 110, 250); fill-opacity: 1;\"/><path class=\"point\" transform=\"translate(127.61,302.22)\" d=\"M3,0A3,3 0 1,1 0,-3A3,3 0 0,1 3,0Z\" style=\"opacity: 1; stroke-width: 0px; fill: rgb(99, 110, 250); fill-opacity: 1;\"/><path class=\"point\" transform=\"translate(130.59,302.22)\" d=\"M3,0A3,3 0 1,1 0,-3A3,3 0 0,1 3,0Z\" style=\"opacity: 1; stroke-width: 0px; fill: rgb(99, 110, 250); fill-opacity: 1;\"/><path class=\"point\" transform=\"translate(130.59,302.22)\" d=\"M3,0A3,3 0 1,1 0,-3A3,3 0 0,1 3,0Z\" style=\"opacity: 1; stroke-width: 0px; fill: rgb(99, 110, 250); fill-opacity: 1;\"/><path class=\"point\" transform=\"translate(130.59,302.22)\" d=\"M3,0A3,3 0 1,1 0,-3A3,3 0 0,1 3,0Z\" style=\"opacity: 1; stroke-width: 0px; fill: rgb(99, 110, 250); fill-opacity: 1;\"/><path class=\"point\" transform=\"translate(132.83,302.22)\" d=\"M3,0A3,3 0 1,1 0,-3A3,3 0 0,1 3,0Z\" style=\"opacity: 1; stroke-width: 0px; fill: rgb(99, 110, 250); fill-opacity: 1;\"/><path class=\"point\" transform=\"translate(132.83,302.22)\" d=\"M3,0A3,3 0 1,1 0,-3A3,3 0 0,1 3,0Z\" style=\"opacity: 1; stroke-width: 0px; fill: rgb(99, 110, 250); fill-opacity: 1;\"/><path class=\"point\" transform=\"translate(134.32,302.22)\" d=\"M3,0A3,3 0 1,1 0,-3A3,3 0 0,1 3,0Z\" style=\"opacity: 1; stroke-width: 0px; fill: rgb(99, 110, 250); fill-opacity: 1;\"/><path class=\"point\" transform=\"translate(135.07,302.22)\" d=\"M3,0A3,3 0 1,1 0,-3A3,3 0 0,1 3,0Z\" style=\"opacity: 1; stroke-width: 0px; fill: rgb(99, 110, 250); fill-opacity: 1;\"/><path class=\"point\" transform=\"translate(138.05,302.22)\" d=\"M3,0A3,3 0 1,1 0,-3A3,3 0 0,1 3,0Z\" style=\"opacity: 1; stroke-width: 0px; fill: rgb(99, 110, 250); fill-opacity: 1;\"/><path class=\"point\" transform=\"translate(138.05,302.22)\" d=\"M3,0A3,3 0 1,1 0,-3A3,3 0 0,1 3,0Z\" style=\"opacity: 1; stroke-width: 0px; fill: rgb(99, 110, 250); fill-opacity: 1;\"/><path class=\"point\" transform=\"translate(138.05,302.22)\" d=\"M3,0A3,3 0 1,1 0,-3A3,3 0 0,1 3,0Z\" style=\"opacity: 1; stroke-width: 0px; fill: rgb(99, 110, 250); fill-opacity: 1;\"/><path class=\"point\" transform=\"translate(138.05,302.22)\" d=\"M3,0A3,3 0 1,1 0,-3A3,3 0 0,1 3,0Z\" style=\"opacity: 1; stroke-width: 0px; fill: rgb(99, 110, 250); fill-opacity: 1;\"/><path class=\"point\" transform=\"translate(141.04,302.22)\" d=\"M3,0A3,3 0 1,1 0,-3A3,3 0 0,1 3,0Z\" style=\"opacity: 1; stroke-width: 0px; fill: rgb(99, 110, 250); fill-opacity: 1;\"/><path class=\"point\" transform=\"translate(142.53,302.22)\" d=\"M3,0A3,3 0 1,1 0,-3A3,3 0 0,1 3,0Z\" style=\"opacity: 1; stroke-width: 0px; fill: rgb(99, 110, 250); fill-opacity: 1;\"/><path class=\"point\" transform=\"translate(144.02,302.22)\" d=\"M3,0A3,3 0 1,1 0,-3A3,3 0 0,1 3,0Z\" style=\"opacity: 1; stroke-width: 0px; fill: rgb(99, 110, 250); fill-opacity: 1;\"/><path class=\"point\" transform=\"translate(145.52,302.22)\" d=\"M3,0A3,3 0 1,1 0,-3A3,3 0 0,1 3,0Z\" style=\"opacity: 1; stroke-width: 0px; fill: rgb(99, 110, 250); fill-opacity: 1;\"/><path class=\"point\" transform=\"translate(145.52,302.22)\" d=\"M3,0A3,3 0 1,1 0,-3A3,3 0 0,1 3,0Z\" style=\"opacity: 1; stroke-width: 0px; fill: rgb(99, 110, 250); fill-opacity: 1;\"/><path class=\"point\" transform=\"translate(145.52,302.22)\" d=\"M3,0A3,3 0 1,1 0,-3A3,3 0 0,1 3,0Z\" style=\"opacity: 1; stroke-width: 0px; fill: rgb(99, 110, 250); fill-opacity: 1;\"/><path class=\"point\" transform=\"translate(145.52,302.22)\" d=\"M3,0A3,3 0 1,1 0,-3A3,3 0 0,1 3,0Z\" style=\"opacity: 1; stroke-width: 0px; fill: rgb(99, 110, 250); fill-opacity: 1;\"/><path class=\"point\" transform=\"translate(145.52,302.22)\" d=\"M3,0A3,3 0 1,1 0,-3A3,3 0 0,1 3,0Z\" style=\"opacity: 1; stroke-width: 0px; fill: rgb(99, 110, 250); fill-opacity: 1;\"/><path class=\"point\" transform=\"translate(148.5,302.22)\" d=\"M3,0A3,3 0 1,1 0,-3A3,3 0 0,1 3,0Z\" style=\"opacity: 1; stroke-width: 0px; fill: rgb(99, 110, 250); fill-opacity: 1;\"/><path class=\"point\" transform=\"translate(149.25,302.22)\" d=\"M3,0A3,3 0 1,1 0,-3A3,3 0 0,1 3,0Z\" style=\"opacity: 1; stroke-width: 0px; fill: rgb(99, 110, 250); fill-opacity: 1;\"/><path class=\"point\" transform=\"translate(151.49,302.22)\" d=\"M3,0A3,3 0 1,1 0,-3A3,3 0 0,1 3,0Z\" style=\"opacity: 1; stroke-width: 0px; fill: rgb(99, 110, 250); fill-opacity: 1;\"/><path class=\"point\" transform=\"translate(151.49,302.22)\" d=\"M3,0A3,3 0 1,1 0,-3A3,3 0 0,1 3,0Z\" style=\"opacity: 1; stroke-width: 0px; fill: rgb(99, 110, 250); fill-opacity: 1;\"/><path class=\"point\" transform=\"translate(151.49,302.22)\" d=\"M3,0A3,3 0 1,1 0,-3A3,3 0 0,1 3,0Z\" style=\"opacity: 1; stroke-width: 0px; fill: rgb(99, 110, 250); fill-opacity: 1;\"/><path class=\"point\" transform=\"translate(152.98,302.22)\" d=\"M3,0A3,3 0 1,1 0,-3A3,3 0 0,1 3,0Z\" style=\"opacity: 1; stroke-width: 0px; fill: rgb(99, 110, 250); fill-opacity: 1;\"/><path class=\"point\" transform=\"translate(152.98,302.22)\" d=\"M3,0A3,3 0 1,1 0,-3A3,3 0 0,1 3,0Z\" style=\"opacity: 1; stroke-width: 0px; fill: rgb(99, 110, 250); fill-opacity: 1;\"/><path class=\"point\" transform=\"translate(152.98,302.22)\" d=\"M3,0A3,3 0 1,1 0,-3A3,3 0 0,1 3,0Z\" style=\"opacity: 1; stroke-width: 0px; fill: rgb(99, 110, 250); fill-opacity: 1;\"/><path class=\"point\" transform=\"translate(152.98,302.22)\" d=\"M3,0A3,3 0 1,1 0,-3A3,3 0 0,1 3,0Z\" style=\"opacity: 1; stroke-width: 0px; fill: rgb(99, 110, 250); fill-opacity: 1;\"/><path class=\"point\" transform=\"translate(152.98,302.22)\" d=\"M3,0A3,3 0 1,1 0,-3A3,3 0 0,1 3,0Z\" style=\"opacity: 1; stroke-width: 0px; fill: rgb(99, 110, 250); fill-opacity: 1;\"/><path class=\"point\" transform=\"translate(152.98,302.22)\" d=\"M3,0A3,3 0 1,1 0,-3A3,3 0 0,1 3,0Z\" style=\"opacity: 1; stroke-width: 0px; fill: rgb(99, 110, 250); fill-opacity: 1;\"/><path class=\"point\" transform=\"translate(152.98,302.22)\" d=\"M3,0A3,3 0 1,1 0,-3A3,3 0 0,1 3,0Z\" style=\"opacity: 1; stroke-width: 0px; fill: rgb(99, 110, 250); fill-opacity: 1;\"/><path class=\"point\" transform=\"translate(152.98,302.22)\" d=\"M3,0A3,3 0 1,1 0,-3A3,3 0 0,1 3,0Z\" style=\"opacity: 1; stroke-width: 0px; fill: rgb(99, 110, 250); fill-opacity: 1;\"/><path class=\"point\" transform=\"translate(152.98,302.22)\" d=\"M3,0A3,3 0 1,1 0,-3A3,3 0 0,1 3,0Z\" style=\"opacity: 1; stroke-width: 0px; fill: rgb(99, 110, 250); fill-opacity: 1;\"/><path class=\"point\" transform=\"translate(152.98,302.22)\" d=\"M3,0A3,3 0 1,1 0,-3A3,3 0 0,1 3,0Z\" style=\"opacity: 1; stroke-width: 0px; fill: rgb(99, 110, 250); fill-opacity: 1;\"/><path class=\"point\" transform=\"translate(152.98,302.22)\" d=\"M3,0A3,3 0 1,1 0,-3A3,3 0 0,1 3,0Z\" style=\"opacity: 1; stroke-width: 0px; fill: rgb(99, 110, 250); fill-opacity: 1;\"/><path class=\"point\" transform=\"translate(154.47,302.22)\" d=\"M3,0A3,3 0 1,1 0,-3A3,3 0 0,1 3,0Z\" style=\"opacity: 1; stroke-width: 0px; fill: rgb(99, 110, 250); fill-opacity: 1;\"/><path class=\"point\" transform=\"translate(154.47,302.22)\" d=\"M3,0A3,3 0 1,1 0,-3A3,3 0 0,1 3,0Z\" style=\"opacity: 1; stroke-width: 0px; fill: rgb(99, 110, 250); fill-opacity: 1;\"/><path class=\"point\" transform=\"translate(154.47,302.22)\" d=\"M3,0A3,3 0 1,1 0,-3A3,3 0 0,1 3,0Z\" style=\"opacity: 1; stroke-width: 0px; fill: rgb(99, 110, 250); fill-opacity: 1;\"/><path class=\"point\" transform=\"translate(164.92,302.22)\" d=\"M3,0A3,3 0 1,1 0,-3A3,3 0 0,1 3,0Z\" style=\"opacity: 1; stroke-width: 0px; fill: rgb(99, 110, 250); fill-opacity: 1;\"/><path class=\"point\" transform=\"translate(167.9,302.22)\" d=\"M3,0A3,3 0 1,1 0,-3A3,3 0 0,1 3,0Z\" style=\"opacity: 1; stroke-width: 0px; fill: rgb(99, 110, 250); fill-opacity: 1;\"/><path class=\"point\" transform=\"translate(167.9,302.22)\" d=\"M3,0A3,3 0 1,1 0,-3A3,3 0 0,1 3,0Z\" style=\"opacity: 1; stroke-width: 0px; fill: rgb(99, 110, 250); fill-opacity: 1;\"/><path class=\"point\" transform=\"translate(167.9,302.22)\" d=\"M3,0A3,3 0 1,1 0,-3A3,3 0 0,1 3,0Z\" style=\"opacity: 1; stroke-width: 0px; fill: rgb(99, 110, 250); fill-opacity: 1;\"/><path class=\"point\" transform=\"translate(167.9,302.22)\" d=\"M3,0A3,3 0 1,1 0,-3A3,3 0 0,1 3,0Z\" style=\"opacity: 1; stroke-width: 0px; fill: rgb(99, 110, 250); fill-opacity: 1;\"/><path class=\"point\" transform=\"translate(167.9,302.22)\" d=\"M3,0A3,3 0 1,1 0,-3A3,3 0 0,1 3,0Z\" style=\"opacity: 1; stroke-width: 0px; fill: rgb(99, 110, 250); fill-opacity: 1;\"/><path class=\"point\" transform=\"translate(167.9,302.22)\" d=\"M3,0A3,3 0 1,1 0,-3A3,3 0 0,1 3,0Z\" style=\"opacity: 1; stroke-width: 0px; fill: rgb(99, 110, 250); fill-opacity: 1;\"/><path class=\"point\" transform=\"translate(167.9,302.22)\" d=\"M3,0A3,3 0 1,1 0,-3A3,3 0 0,1 3,0Z\" style=\"opacity: 1; stroke-width: 0px; fill: rgb(99, 110, 250); fill-opacity: 1;\"/><path class=\"point\" transform=\"translate(167.9,302.22)\" d=\"M3,0A3,3 0 1,1 0,-3A3,3 0 0,1 3,0Z\" style=\"opacity: 1; stroke-width: 0px; fill: rgb(99, 110, 250); fill-opacity: 1;\"/><path class=\"point\" transform=\"translate(169.4,302.22)\" d=\"M3,0A3,3 0 1,1 0,-3A3,3 0 0,1 3,0Z\" style=\"opacity: 1; stroke-width: 0px; fill: rgb(99, 110, 250); fill-opacity: 1;\"/><path class=\"point\" transform=\"translate(171.63,302.22)\" d=\"M3,0A3,3 0 1,1 0,-3A3,3 0 0,1 3,0Z\" style=\"opacity: 1; stroke-width: 0px; fill: rgb(99, 110, 250); fill-opacity: 1;\"/><path class=\"point\" transform=\"translate(171.63,302.22)\" d=\"M3,0A3,3 0 1,1 0,-3A3,3 0 0,1 3,0Z\" style=\"opacity: 1; stroke-width: 0px; fill: rgb(99, 110, 250); fill-opacity: 1;\"/><path class=\"point\" transform=\"translate(174.62,302.22)\" d=\"M3,0A3,3 0 1,1 0,-3A3,3 0 0,1 3,0Z\" style=\"opacity: 1; stroke-width: 0px; fill: rgb(99, 110, 250); fill-opacity: 1;\"/><path class=\"point\" transform=\"translate(175.37,302.22)\" d=\"M3,0A3,3 0 1,1 0,-3A3,3 0 0,1 3,0Z\" style=\"opacity: 1; stroke-width: 0px; fill: rgb(99, 110, 250); fill-opacity: 1;\"/><path class=\"point\" transform=\"translate(175.37,302.22)\" d=\"M3,0A3,3 0 1,1 0,-3A3,3 0 0,1 3,0Z\" style=\"opacity: 1; stroke-width: 0px; fill: rgb(99, 110, 250); fill-opacity: 1;\"/><path class=\"point\" transform=\"translate(175.37,302.22)\" d=\"M3,0A3,3 0 1,1 0,-3A3,3 0 0,1 3,0Z\" style=\"opacity: 1; stroke-width: 0px; fill: rgb(99, 110, 250); fill-opacity: 1;\"/><path class=\"point\" transform=\"translate(182.83,302.22)\" d=\"M3,0A3,3 0 1,1 0,-3A3,3 0 0,1 3,0Z\" style=\"opacity: 1; stroke-width: 0px; fill: rgb(99, 110, 250); fill-opacity: 1;\"/><path class=\"point\" transform=\"translate(182.83,302.22)\" d=\"M3,0A3,3 0 1,1 0,-3A3,3 0 0,1 3,0Z\" style=\"opacity: 1; stroke-width: 0px; fill: rgb(99, 110, 250); fill-opacity: 1;\"/><path class=\"point\" transform=\"translate(190.29,302.22)\" d=\"M3,0A3,3 0 1,1 0,-3A3,3 0 0,1 3,0Z\" style=\"opacity: 1; stroke-width: 0px; fill: rgb(99, 110, 250); fill-opacity: 1;\"/><path class=\"point\" transform=\"translate(190.29,302.22)\" d=\"M3,0A3,3 0 1,1 0,-3A3,3 0 0,1 3,0Z\" style=\"opacity: 1; stroke-width: 0px; fill: rgb(99, 110, 250); fill-opacity: 1;\"/><path class=\"point\" transform=\"translate(190.29,302.22)\" d=\"M3,0A3,3 0 1,1 0,-3A3,3 0 0,1 3,0Z\" style=\"opacity: 1; stroke-width: 0px; fill: rgb(99, 110, 250); fill-opacity: 1;\"/><path class=\"point\" transform=\"translate(190.29,302.22)\" d=\"M3,0A3,3 0 1,1 0,-3A3,3 0 0,1 3,0Z\" style=\"opacity: 1; stroke-width: 0px; fill: rgb(99, 110, 250); fill-opacity: 1;\"/><path class=\"point\" transform=\"translate(190.29,302.22)\" d=\"M3,0A3,3 0 1,1 0,-3A3,3 0 0,1 3,0Z\" style=\"opacity: 1; stroke-width: 0px; fill: rgb(99, 110, 250); fill-opacity: 1;\"/><path class=\"point\" transform=\"translate(190.29,302.22)\" d=\"M3,0A3,3 0 1,1 0,-3A3,3 0 0,1 3,0Z\" style=\"opacity: 1; stroke-width: 0px; fill: rgb(99, 110, 250); fill-opacity: 1;\"/><path class=\"point\" transform=\"translate(205.22,302.22)\" d=\"M3,0A3,3 0 1,1 0,-3A3,3 0 0,1 3,0Z\" style=\"opacity: 1; stroke-width: 0px; fill: rgb(99, 110, 250); fill-opacity: 1;\"/><path class=\"point\" transform=\"translate(205.22,302.22)\" d=\"M3,0A3,3 0 1,1 0,-3A3,3 0 0,1 3,0Z\" style=\"opacity: 1; stroke-width: 0px; fill: rgb(99, 110, 250); fill-opacity: 1;\"/><path class=\"point\" transform=\"translate(207.45,302.22)\" d=\"M3,0A3,3 0 1,1 0,-3A3,3 0 0,1 3,0Z\" style=\"opacity: 1; stroke-width: 0px; fill: rgb(99, 110, 250); fill-opacity: 1;\"/><path class=\"point\" transform=\"translate(209.69,302.22)\" d=\"M3,0A3,3 0 1,1 0,-3A3,3 0 0,1 3,0Z\" style=\"opacity: 1; stroke-width: 0px; fill: rgb(99, 110, 250); fill-opacity: 1;\"/><path class=\"point\" transform=\"translate(212.68,302.22)\" d=\"M3,0A3,3 0 1,1 0,-3A3,3 0 0,1 3,0Z\" style=\"opacity: 1; stroke-width: 0px; fill: rgb(99, 110, 250); fill-opacity: 1;\"/><path class=\"point\" transform=\"translate(212.68,302.22)\" d=\"M3,0A3,3 0 1,1 0,-3A3,3 0 0,1 3,0Z\" style=\"opacity: 1; stroke-width: 0px; fill: rgb(99, 110, 250); fill-opacity: 1;\"/><path class=\"point\" transform=\"translate(223.87,302.22)\" d=\"M3,0A3,3 0 1,1 0,-3A3,3 0 0,1 3,0Z\" style=\"opacity: 1; stroke-width: 0px; fill: rgb(99, 110, 250); fill-opacity: 1;\"/><path class=\"point\" transform=\"translate(227.6,302.22)\" d=\"M3,0A3,3 0 1,1 0,-3A3,3 0 0,1 3,0Z\" style=\"opacity: 1; stroke-width: 0px; fill: rgb(99, 110, 250); fill-opacity: 1;\"/><path class=\"point\" transform=\"translate(227.6,302.22)\" d=\"M3,0A3,3 0 1,1 0,-3A3,3 0 0,1 3,0Z\" style=\"opacity: 1; stroke-width: 0px; fill: rgb(99, 110, 250); fill-opacity: 1;\"/><path class=\"point\" transform=\"translate(227.6,302.22)\" d=\"M3,0A3,3 0 1,1 0,-3A3,3 0 0,1 3,0Z\" style=\"opacity: 1; stroke-width: 0px; fill: rgb(99, 110, 250); fill-opacity: 1;\"/><path class=\"point\" transform=\"translate(231.33,302.22)\" d=\"M3,0A3,3 0 1,1 0,-3A3,3 0 0,1 3,0Z\" style=\"opacity: 1; stroke-width: 0px; fill: rgb(99, 110, 250); fill-opacity: 1;\"/><path class=\"point\" transform=\"translate(232.83,302.22)\" d=\"M3,0A3,3 0 1,1 0,-3A3,3 0 0,1 3,0Z\" style=\"opacity: 1; stroke-width: 0px; fill: rgb(99, 110, 250); fill-opacity: 1;\"/><path class=\"point\" transform=\"translate(269.39,302.22)\" d=\"M3,0A3,3 0 1,1 0,-3A3,3 0 0,1 3,0Z\" style=\"opacity: 1; stroke-width: 0px; fill: rgb(99, 110, 250); fill-opacity: 1;\"/><path class=\"point\" transform=\"translate(302.23,302.22)\" d=\"M3,0A3,3 0 1,1 0,-3A3,3 0 0,1 3,0Z\" style=\"opacity: 1; stroke-width: 0px; fill: rgb(99, 110, 250); fill-opacity: 1;\"/><path class=\"point\" transform=\"translate(323.12,302.22)\" d=\"M3,0A3,3 0 1,1 0,-3A3,3 0 0,1 3,0Z\" style=\"opacity: 1; stroke-width: 0px; fill: rgb(99, 110, 250); fill-opacity: 1;\"/><path class=\"point\" transform=\"translate(344.02,302.22)\" d=\"M3,0A3,3 0 1,1 0,-3A3,3 0 0,1 3,0Z\" style=\"opacity: 1; stroke-width: 0px; fill: rgb(99, 110, 250); fill-opacity: 1;\"/><path class=\"point\" transform=\"translate(401.48,302.22)\" d=\"M3,0A3,3 0 1,1 0,-3A3,3 0 0,1 3,0Z\" style=\"opacity: 1; stroke-width: 0px; fill: rgb(99, 110, 250); fill-opacity: 1;\"/></g><g class=\"points\"><path class=\"point\" transform=\"translate(339.54,266.67)\" d=\"M3,0A3,3 0 1,1 0,-3A3,3 0 0,1 3,0Z\" style=\"opacity: 1; stroke-width: 0px; fill: rgb(99, 110, 250); fill-opacity: 1;\"/><path class=\"point\" transform=\"translate(364.16,266.67)\" d=\"M3,0A3,3 0 1,1 0,-3A3,3 0 0,1 3,0Z\" style=\"opacity: 1; stroke-width: 0px; fill: rgb(99, 110, 250); fill-opacity: 1;\"/><path class=\"point\" transform=\"translate(369.39,266.67)\" d=\"M3,0A3,3 0 1,1 0,-3A3,3 0 0,1 3,0Z\" style=\"opacity: 1; stroke-width: 0px; fill: rgb(99, 110, 250); fill-opacity: 1;\"/><path class=\"point\" transform=\"translate(370.13,266.67)\" d=\"M3,0A3,3 0 1,1 0,-3A3,3 0 0,1 3,0Z\" style=\"opacity: 1; stroke-width: 0px; fill: rgb(99, 110, 250); fill-opacity: 1;\"/><path class=\"point\" transform=\"translate(376.85,266.67)\" d=\"M3,0A3,3 0 1,1 0,-3A3,3 0 0,1 3,0Z\" style=\"opacity: 1; stroke-width: 0px; fill: rgb(99, 110, 250); fill-opacity: 1;\"/><path class=\"point\" transform=\"translate(376.85,266.67)\" d=\"M3,0A3,3 0 1,1 0,-3A3,3 0 0,1 3,0Z\" style=\"opacity: 1; stroke-width: 0px; fill: rgb(99, 110, 250); fill-opacity: 1;\"/><path class=\"point\" transform=\"translate(376.85,266.67)\" d=\"M3,0A3,3 0 1,1 0,-3A3,3 0 0,1 3,0Z\" style=\"opacity: 1; stroke-width: 0px; fill: rgb(99, 110, 250); fill-opacity: 1;\"/><path class=\"point\" transform=\"translate(391.77,266.67)\" d=\"M3,0A3,3 0 1,1 0,-3A3,3 0 0,1 3,0Z\" style=\"opacity: 1; stroke-width: 0px; fill: rgb(99, 110, 250); fill-opacity: 1;\"/><path class=\"point\" transform=\"translate(451.47,266.67)\" d=\"M3,0A3,3 0 1,1 0,-3A3,3 0 0,1 3,0Z\" style=\"opacity: 1; stroke-width: 0px; fill: rgb(99, 110, 250); fill-opacity: 1;\"/><path class=\"point\" transform=\"translate(484.31,266.67)\" d=\"M3,0A3,3 0 1,1 0,-3A3,3 0 0,1 3,0Z\" style=\"opacity: 1; stroke-width: 0px; fill: rgb(99, 110, 250); fill-opacity: 1;\"/><path class=\"point\" transform=\"translate(511.17,266.67)\" d=\"M3,0A3,3 0 1,1 0,-3A3,3 0 0,1 3,0Z\" style=\"opacity: 1; stroke-width: 0px; fill: rgb(99, 110, 250); fill-opacity: 1;\"/><path class=\"point\" transform=\"translate(570.87,266.67)\" d=\"M3,0A3,3 0 1,1 0,-3A3,3 0 0,1 3,0Z\" style=\"opacity: 1; stroke-width: 0px; fill: rgb(99, 110, 250); fill-opacity: 1;\"/><path class=\"point\" transform=\"translate(964.88,266.67)\" d=\"M3,0A3,3 0 1,1 0,-3A3,3 0 0,1 3,0Z\" style=\"opacity: 1; stroke-width: 0px; fill: rgb(99, 110, 250); fill-opacity: 1;\"/><path class=\"point\" transform=\"translate(1048.46,266.67)\" d=\"M3,0A3,3 0 1,1 0,-3A3,3 0 0,1 3,0Z\" style=\"opacity: 1; stroke-width: 0px; fill: rgb(99, 110, 250); fill-opacity: 1;\"/></g><g class=\"points\"><path class=\"point\" transform=\"translate(23.13,231.11)\" d=\"M3,0A3,3 0 1,1 0,-3A3,3 0 0,1 3,0Z\" style=\"opacity: 1; stroke-width: 0px; fill: rgb(99, 110, 250); fill-opacity: 1;\"/><path class=\"point\" transform=\"translate(26.12,231.11)\" d=\"M3,0A3,3 0 1,1 0,-3A3,3 0 0,1 3,0Z\" style=\"opacity: 1; stroke-width: 0px; fill: rgb(99, 110, 250); fill-opacity: 1;\"/><path class=\"point\" transform=\"translate(26.12,231.11)\" d=\"M3,0A3,3 0 1,1 0,-3A3,3 0 0,1 3,0Z\" style=\"opacity: 1; stroke-width: 0px; fill: rgb(99, 110, 250); fill-opacity: 1;\"/><path class=\"point\" transform=\"translate(26.12,231.11)\" d=\"M3,0A3,3 0 1,1 0,-3A3,3 0 0,1 3,0Z\" style=\"opacity: 1; stroke-width: 0px; fill: rgb(99, 110, 250); fill-opacity: 1;\"/><path class=\"point\" transform=\"translate(27.61,231.11)\" d=\"M3,0A3,3 0 1,1 0,-3A3,3 0 0,1 3,0Z\" style=\"opacity: 1; stroke-width: 0px; fill: rgb(99, 110, 250); fill-opacity: 1;\"/><path class=\"point\" transform=\"translate(29.1,231.11)\" d=\"M3,0A3,3 0 1,1 0,-3A3,3 0 0,1 3,0Z\" style=\"opacity: 1; stroke-width: 0px; fill: rgb(99, 110, 250); fill-opacity: 1;\"/><path class=\"point\" transform=\"translate(29.1,231.11)\" d=\"M3,0A3,3 0 1,1 0,-3A3,3 0 0,1 3,0Z\" style=\"opacity: 1; stroke-width: 0px; fill: rgb(99, 110, 250); fill-opacity: 1;\"/><path class=\"point\" transform=\"translate(29.85,231.11)\" d=\"M3,0A3,3 0 1,1 0,-3A3,3 0 0,1 3,0Z\" style=\"opacity: 1; stroke-width: 0px; fill: rgb(99, 110, 250); fill-opacity: 1;\"/><path class=\"point\" transform=\"translate(29.85,231.11)\" d=\"M3,0A3,3 0 1,1 0,-3A3,3 0 0,1 3,0Z\" style=\"opacity: 1; stroke-width: 0px; fill: rgb(99, 110, 250); fill-opacity: 1;\"/><path class=\"point\" transform=\"translate(29.85,231.11)\" d=\"M3,0A3,3 0 1,1 0,-3A3,3 0 0,1 3,0Z\" style=\"opacity: 1; stroke-width: 0px; fill: rgb(99, 110, 250); fill-opacity: 1;\"/><path class=\"point\" transform=\"translate(29.85,231.11)\" d=\"M3,0A3,3 0 1,1 0,-3A3,3 0 0,1 3,0Z\" style=\"opacity: 1; stroke-width: 0px; fill: rgb(99, 110, 250); fill-opacity: 1;\"/><path class=\"point\" transform=\"translate(29.85,231.11)\" d=\"M3,0A3,3 0 1,1 0,-3A3,3 0 0,1 3,0Z\" style=\"opacity: 1; stroke-width: 0px; fill: rgb(99, 110, 250); fill-opacity: 1;\"/><path class=\"point\" transform=\"translate(31.34,231.11)\" d=\"M3,0A3,3 0 1,1 0,-3A3,3 0 0,1 3,0Z\" style=\"opacity: 1; stroke-width: 0px; fill: rgb(99, 110, 250); fill-opacity: 1;\"/><path class=\"point\" transform=\"translate(32.09,231.11)\" d=\"M3,0A3,3 0 1,1 0,-3A3,3 0 0,1 3,0Z\" style=\"opacity: 1; stroke-width: 0px; fill: rgb(99, 110, 250); fill-opacity: 1;\"/><path class=\"point\" transform=\"translate(33.58,231.11)\" d=\"M3,0A3,3 0 1,1 0,-3A3,3 0 0,1 3,0Z\" style=\"opacity: 1; stroke-width: 0px; fill: rgb(99, 110, 250); fill-opacity: 1;\"/><path class=\"point\" transform=\"translate(33.58,231.11)\" d=\"M3,0A3,3 0 1,1 0,-3A3,3 0 0,1 3,0Z\" style=\"opacity: 1; stroke-width: 0px; fill: rgb(99, 110, 250); fill-opacity: 1;\"/><path class=\"point\" transform=\"translate(33.58,231.11)\" d=\"M3,0A3,3 0 1,1 0,-3A3,3 0 0,1 3,0Z\" style=\"opacity: 1; stroke-width: 0px; fill: rgb(99, 110, 250); fill-opacity: 1;\"/><path class=\"point\" transform=\"translate(35.07,231.11)\" d=\"M3,0A3,3 0 1,1 0,-3A3,3 0 0,1 3,0Z\" style=\"opacity: 1; stroke-width: 0px; fill: rgb(99, 110, 250); fill-opacity: 1;\"/><path class=\"point\" transform=\"translate(36.57,231.11)\" d=\"M3,0A3,3 0 1,1 0,-3A3,3 0 0,1 3,0Z\" style=\"opacity: 1; stroke-width: 0px; fill: rgb(99, 110, 250); fill-opacity: 1;\"/><path class=\"point\" transform=\"translate(37.31,231.11)\" d=\"M3,0A3,3 0 1,1 0,-3A3,3 0 0,1 3,0Z\" style=\"opacity: 1; stroke-width: 0px; fill: rgb(99, 110, 250); fill-opacity: 1;\"/><path class=\"point\" transform=\"translate(40.3,231.11)\" d=\"M3,0A3,3 0 1,1 0,-3A3,3 0 0,1 3,0Z\" style=\"opacity: 1; stroke-width: 0px; fill: rgb(99, 110, 250); fill-opacity: 1;\"/><path class=\"point\" transform=\"translate(41.04,231.11)\" d=\"M3,0A3,3 0 1,1 0,-3A3,3 0 0,1 3,0Z\" style=\"opacity: 1; stroke-width: 0px; fill: rgb(99, 110, 250); fill-opacity: 1;\"/><path class=\"point\" transform=\"translate(45.52,231.11)\" d=\"M3,0A3,3 0 1,1 0,-3A3,3 0 0,1 3,0Z\" style=\"opacity: 1; stroke-width: 0px; fill: rgb(99, 110, 250); fill-opacity: 1;\"/><path class=\"point\" transform=\"translate(48.51,231.11)\" d=\"M3,0A3,3 0 1,1 0,-3A3,3 0 0,1 3,0Z\" style=\"opacity: 1; stroke-width: 0px; fill: rgb(99, 110, 250); fill-opacity: 1;\"/><path class=\"point\" transform=\"translate(48.51,231.11)\" d=\"M3,0A3,3 0 1,1 0,-3A3,3 0 0,1 3,0Z\" style=\"opacity: 1; stroke-width: 0px; fill: rgb(99, 110, 250); fill-opacity: 1;\"/><path class=\"point\" transform=\"translate(51.49,231.11)\" d=\"M3,0A3,3 0 1,1 0,-3A3,3 0 0,1 3,0Z\" style=\"opacity: 1; stroke-width: 0px; fill: rgb(99, 110, 250); fill-opacity: 1;\"/><path class=\"point\" transform=\"translate(71.64,231.11)\" d=\"M3,0A3,3 0 1,1 0,-3A3,3 0 0,1 3,0Z\" style=\"opacity: 1; stroke-width: 0px; fill: rgb(99, 110, 250); fill-opacity: 1;\"/><path class=\"point\" transform=\"translate(164.92,231.11)\" d=\"M3,0A3,3 0 1,1 0,-3A3,3 0 0,1 3,0Z\" style=\"opacity: 1; stroke-width: 0px; fill: rgb(99, 110, 250); fill-opacity: 1;\"/></g><g class=\"points\"><path class=\"point\" transform=\"translate(51.49,195.56)\" d=\"M3,0A3,3 0 1,1 0,-3A3,3 0 0,1 3,0Z\" style=\"opacity: 1; stroke-width: 0px; fill: rgb(99, 110, 250); fill-opacity: 1;\"/><path class=\"point\" transform=\"translate(51.49,195.56)\" d=\"M3,0A3,3 0 1,1 0,-3A3,3 0 0,1 3,0Z\" style=\"opacity: 1; stroke-width: 0px; fill: rgb(99, 110, 250); fill-opacity: 1;\"/><path class=\"point\" transform=\"translate(53.73,195.56)\" d=\"M3,0A3,3 0 1,1 0,-3A3,3 0 0,1 3,0Z\" style=\"opacity: 1; stroke-width: 0px; fill: rgb(99, 110, 250); fill-opacity: 1;\"/><path class=\"point\" transform=\"translate(54.48,195.56)\" d=\"M3,0A3,3 0 1,1 0,-3A3,3 0 0,1 3,0Z\" style=\"opacity: 1; stroke-width: 0px; fill: rgb(99, 110, 250); fill-opacity: 1;\"/><path class=\"point\" transform=\"translate(55.22,195.56)\" d=\"M3,0A3,3 0 1,1 0,-3A3,3 0 0,1 3,0Z\" style=\"opacity: 1; stroke-width: 0px; fill: rgb(99, 110, 250); fill-opacity: 1;\"/><path class=\"point\" transform=\"translate(55.22,195.56)\" d=\"M3,0A3,3 0 1,1 0,-3A3,3 0 0,1 3,0Z\" style=\"opacity: 1; stroke-width: 0px; fill: rgb(99, 110, 250); fill-opacity: 1;\"/><path class=\"point\" transform=\"translate(55.97,195.56)\" d=\"M3,0A3,3 0 1,1 0,-3A3,3 0 0,1 3,0Z\" style=\"opacity: 1; stroke-width: 0px; fill: rgb(99, 110, 250); fill-opacity: 1;\"/><path class=\"point\" transform=\"translate(55.97,195.56)\" d=\"M3,0A3,3 0 1,1 0,-3A3,3 0 0,1 3,0Z\" style=\"opacity: 1; stroke-width: 0px; fill: rgb(99, 110, 250); fill-opacity: 1;\"/><path class=\"point\" transform=\"translate(55.97,195.56)\" d=\"M3,0A3,3 0 1,1 0,-3A3,3 0 0,1 3,0Z\" style=\"opacity: 1; stroke-width: 0px; fill: rgb(99, 110, 250); fill-opacity: 1;\"/><path class=\"point\" transform=\"translate(55.97,195.56)\" d=\"M3,0A3,3 0 1,1 0,-3A3,3 0 0,1 3,0Z\" style=\"opacity: 1; stroke-width: 0px; fill: rgb(99, 110, 250); fill-opacity: 1;\"/><path class=\"point\" transform=\"translate(55.97,195.56)\" d=\"M3,0A3,3 0 1,1 0,-3A3,3 0 0,1 3,0Z\" style=\"opacity: 1; stroke-width: 0px; fill: rgb(99, 110, 250); fill-opacity: 1;\"/><path class=\"point\" transform=\"translate(55.97,195.56)\" d=\"M3,0A3,3 0 1,1 0,-3A3,3 0 0,1 3,0Z\" style=\"opacity: 1; stroke-width: 0px; fill: rgb(99, 110, 250); fill-opacity: 1;\"/><path class=\"point\" transform=\"translate(55.97,195.56)\" d=\"M3,0A3,3 0 1,1 0,-3A3,3 0 0,1 3,0Z\" style=\"opacity: 1; stroke-width: 0px; fill: rgb(99, 110, 250); fill-opacity: 1;\"/><path class=\"point\" transform=\"translate(55.97,195.56)\" d=\"M3,0A3,3 0 1,1 0,-3A3,3 0 0,1 3,0Z\" style=\"opacity: 1; stroke-width: 0px; fill: rgb(99, 110, 250); fill-opacity: 1;\"/><path class=\"point\" transform=\"translate(55.97,195.56)\" d=\"M3,0A3,3 0 1,1 0,-3A3,3 0 0,1 3,0Z\" style=\"opacity: 1; stroke-width: 0px; fill: rgb(99, 110, 250); fill-opacity: 1;\"/><path class=\"point\" transform=\"translate(55.97,195.56)\" d=\"M3,0A3,3 0 1,1 0,-3A3,3 0 0,1 3,0Z\" style=\"opacity: 1; stroke-width: 0px; fill: rgb(99, 110, 250); fill-opacity: 1;\"/><path class=\"point\" transform=\"translate(57.46,195.56)\" d=\"M3,0A3,3 0 1,1 0,-3A3,3 0 0,1 3,0Z\" style=\"opacity: 1; stroke-width: 0px; fill: rgb(99, 110, 250); fill-opacity: 1;\"/><path class=\"point\" transform=\"translate(57.46,195.56)\" d=\"M3,0A3,3 0 1,1 0,-3A3,3 0 0,1 3,0Z\" style=\"opacity: 1; stroke-width: 0px; fill: rgb(99, 110, 250); fill-opacity: 1;\"/><path class=\"point\" transform=\"translate(58.21,195.56)\" d=\"M3,0A3,3 0 1,1 0,-3A3,3 0 0,1 3,0Z\" style=\"opacity: 1; stroke-width: 0px; fill: rgb(99, 110, 250); fill-opacity: 1;\"/><path class=\"point\" transform=\"translate(59.7,195.56)\" d=\"M3,0A3,3 0 1,1 0,-3A3,3 0 0,1 3,0Z\" style=\"opacity: 1; stroke-width: 0px; fill: rgb(99, 110, 250); fill-opacity: 1;\"/><path class=\"point\" transform=\"translate(59.7,195.56)\" d=\"M3,0A3,3 0 1,1 0,-3A3,3 0 0,1 3,0Z\" style=\"opacity: 1; stroke-width: 0px; fill: rgb(99, 110, 250); fill-opacity: 1;\"/><path class=\"point\" transform=\"translate(59.7,195.56)\" d=\"M3,0A3,3 0 1,1 0,-3A3,3 0 0,1 3,0Z\" style=\"opacity: 1; stroke-width: 0px; fill: rgb(99, 110, 250); fill-opacity: 1;\"/><path class=\"point\" transform=\"translate(59.7,195.56)\" d=\"M3,0A3,3 0 1,1 0,-3A3,3 0 0,1 3,0Z\" style=\"opacity: 1; stroke-width: 0px; fill: rgb(99, 110, 250); fill-opacity: 1;\"/><path class=\"point\" transform=\"translate(59.7,195.56)\" d=\"M3,0A3,3 0 1,1 0,-3A3,3 0 0,1 3,0Z\" style=\"opacity: 1; stroke-width: 0px; fill: rgb(99, 110, 250); fill-opacity: 1;\"/><path class=\"point\" transform=\"translate(59.7,195.56)\" d=\"M3,0A3,3 0 1,1 0,-3A3,3 0 0,1 3,0Z\" style=\"opacity: 1; stroke-width: 0px; fill: rgb(99, 110, 250); fill-opacity: 1;\"/><path class=\"point\" transform=\"translate(59.7,195.56)\" d=\"M3,0A3,3 0 1,1 0,-3A3,3 0 0,1 3,0Z\" style=\"opacity: 1; stroke-width: 0px; fill: rgb(99, 110, 250); fill-opacity: 1;\"/><path class=\"point\" transform=\"translate(60.45,195.56)\" d=\"M3,0A3,3 0 1,1 0,-3A3,3 0 0,1 3,0Z\" style=\"opacity: 1; stroke-width: 0px; fill: rgb(99, 110, 250); fill-opacity: 1;\"/><path class=\"point\" transform=\"translate(60.45,195.56)\" d=\"M3,0A3,3 0 1,1 0,-3A3,3 0 0,1 3,0Z\" style=\"opacity: 1; stroke-width: 0px; fill: rgb(99, 110, 250); fill-opacity: 1;\"/><path class=\"point\" transform=\"translate(61.94,195.56)\" d=\"M3,0A3,3 0 1,1 0,-3A3,3 0 0,1 3,0Z\" style=\"opacity: 1; stroke-width: 0px; fill: rgb(99, 110, 250); fill-opacity: 1;\"/><path class=\"point\" transform=\"translate(63.43,195.56)\" d=\"M3,0A3,3 0 1,1 0,-3A3,3 0 0,1 3,0Z\" style=\"opacity: 1; stroke-width: 0px; fill: rgb(99, 110, 250); fill-opacity: 1;\"/><path class=\"point\" transform=\"translate(63.43,195.56)\" d=\"M3,0A3,3 0 1,1 0,-3A3,3 0 0,1 3,0Z\" style=\"opacity: 1; stroke-width: 0px; fill: rgb(99, 110, 250); fill-opacity: 1;\"/><path class=\"point\" transform=\"translate(63.43,195.56)\" d=\"M3,0A3,3 0 1,1 0,-3A3,3 0 0,1 3,0Z\" style=\"opacity: 1; stroke-width: 0px; fill: rgb(99, 110, 250); fill-opacity: 1;\"/><path class=\"point\" transform=\"translate(63.43,195.56)\" d=\"M3,0A3,3 0 1,1 0,-3A3,3 0 0,1 3,0Z\" style=\"opacity: 1; stroke-width: 0px; fill: rgb(99, 110, 250); fill-opacity: 1;\"/><path class=\"point\" transform=\"translate(63.43,195.56)\" d=\"M3,0A3,3 0 1,1 0,-3A3,3 0 0,1 3,0Z\" style=\"opacity: 1; stroke-width: 0px; fill: rgb(99, 110, 250); fill-opacity: 1;\"/><path class=\"point\" transform=\"translate(63.43,195.56)\" d=\"M3,0A3,3 0 1,1 0,-3A3,3 0 0,1 3,0Z\" style=\"opacity: 1; stroke-width: 0px; fill: rgb(99, 110, 250); fill-opacity: 1;\"/><path class=\"point\" transform=\"translate(63.43,195.56)\" d=\"M3,0A3,3 0 1,1 0,-3A3,3 0 0,1 3,0Z\" style=\"opacity: 1; stroke-width: 0px; fill: rgb(99, 110, 250); fill-opacity: 1;\"/><path class=\"point\" transform=\"translate(63.43,195.56)\" d=\"M3,0A3,3 0 1,1 0,-3A3,3 0 0,1 3,0Z\" style=\"opacity: 1; stroke-width: 0px; fill: rgb(99, 110, 250); fill-opacity: 1;\"/><path class=\"point\" transform=\"translate(63.43,195.56)\" d=\"M3,0A3,3 0 1,1 0,-3A3,3 0 0,1 3,0Z\" style=\"opacity: 1; stroke-width: 0px; fill: rgb(99, 110, 250); fill-opacity: 1;\"/><path class=\"point\" transform=\"translate(64.92,195.56)\" d=\"M3,0A3,3 0 1,1 0,-3A3,3 0 0,1 3,0Z\" style=\"opacity: 1; stroke-width: 0px; fill: rgb(99, 110, 250); fill-opacity: 1;\"/><path class=\"point\" transform=\"translate(66.42,195.56)\" d=\"M3,0A3,3 0 1,1 0,-3A3,3 0 0,1 3,0Z\" style=\"opacity: 1; stroke-width: 0px; fill: rgb(99, 110, 250); fill-opacity: 1;\"/><path class=\"point\" transform=\"translate(66.42,195.56)\" d=\"M3,0A3,3 0 1,1 0,-3A3,3 0 0,1 3,0Z\" style=\"opacity: 1; stroke-width: 0px; fill: rgb(99, 110, 250); fill-opacity: 1;\"/><path class=\"point\" transform=\"translate(67.16,195.56)\" d=\"M3,0A3,3 0 1,1 0,-3A3,3 0 0,1 3,0Z\" style=\"opacity: 1; stroke-width: 0px; fill: rgb(99, 110, 250); fill-opacity: 1;\"/><path class=\"point\" transform=\"translate(67.16,195.56)\" d=\"M3,0A3,3 0 1,1 0,-3A3,3 0 0,1 3,0Z\" style=\"opacity: 1; stroke-width: 0px; fill: rgb(99, 110, 250); fill-opacity: 1;\"/><path class=\"point\" transform=\"translate(67.91,195.56)\" d=\"M3,0A3,3 0 1,1 0,-3A3,3 0 0,1 3,0Z\" style=\"opacity: 1; stroke-width: 0px; fill: rgb(99, 110, 250); fill-opacity: 1;\"/><path class=\"point\" transform=\"translate(67.91,195.56)\" d=\"M3,0A3,3 0 1,1 0,-3A3,3 0 0,1 3,0Z\" style=\"opacity: 1; stroke-width: 0px; fill: rgb(99, 110, 250); fill-opacity: 1;\"/><path class=\"point\" transform=\"translate(67.91,195.56)\" d=\"M3,0A3,3 0 1,1 0,-3A3,3 0 0,1 3,0Z\" style=\"opacity: 1; stroke-width: 0px; fill: rgb(99, 110, 250); fill-opacity: 1;\"/><path class=\"point\" transform=\"translate(67.91,195.56)\" d=\"M3,0A3,3 0 1,1 0,-3A3,3 0 0,1 3,0Z\" style=\"opacity: 1; stroke-width: 0px; fill: rgb(99, 110, 250); fill-opacity: 1;\"/><path class=\"point\" transform=\"translate(67.91,195.56)\" d=\"M3,0A3,3 0 1,1 0,-3A3,3 0 0,1 3,0Z\" style=\"opacity: 1; stroke-width: 0px; fill: rgb(99, 110, 250); fill-opacity: 1;\"/><path class=\"point\" transform=\"translate(67.91,195.56)\" d=\"M3,0A3,3 0 1,1 0,-3A3,3 0 0,1 3,0Z\" style=\"opacity: 1; stroke-width: 0px; fill: rgb(99, 110, 250); fill-opacity: 1;\"/><path class=\"point\" transform=\"translate(67.91,195.56)\" d=\"M3,0A3,3 0 1,1 0,-3A3,3 0 0,1 3,0Z\" style=\"opacity: 1; stroke-width: 0px; fill: rgb(99, 110, 250); fill-opacity: 1;\"/><path class=\"point\" transform=\"translate(68.65,195.56)\" d=\"M3,0A3,3 0 1,1 0,-3A3,3 0 0,1 3,0Z\" style=\"opacity: 1; stroke-width: 0px; fill: rgb(99, 110, 250); fill-opacity: 1;\"/><path class=\"point\" transform=\"translate(68.65,195.56)\" d=\"M3,0A3,3 0 1,1 0,-3A3,3 0 0,1 3,0Z\" style=\"opacity: 1; stroke-width: 0px; fill: rgb(99, 110, 250); fill-opacity: 1;\"/><path class=\"point\" transform=\"translate(68.65,195.56)\" d=\"M3,0A3,3 0 1,1 0,-3A3,3 0 0,1 3,0Z\" style=\"opacity: 1; stroke-width: 0px; fill: rgb(99, 110, 250); fill-opacity: 1;\"/><path class=\"point\" transform=\"translate(68.65,195.56)\" d=\"M3,0A3,3 0 1,1 0,-3A3,3 0 0,1 3,0Z\" style=\"opacity: 1; stroke-width: 0px; fill: rgb(99, 110, 250); fill-opacity: 1;\"/><path class=\"point\" transform=\"translate(68.65,195.56)\" d=\"M3,0A3,3 0 1,1 0,-3A3,3 0 0,1 3,0Z\" style=\"opacity: 1; stroke-width: 0px; fill: rgb(99, 110, 250); fill-opacity: 1;\"/><path class=\"point\" transform=\"translate(69.4,195.56)\" d=\"M3,0A3,3 0 1,1 0,-3A3,3 0 0,1 3,0Z\" style=\"opacity: 1; stroke-width: 0px; fill: rgb(99, 110, 250); fill-opacity: 1;\"/><path class=\"point\" transform=\"translate(69.4,195.56)\" d=\"M3,0A3,3 0 1,1 0,-3A3,3 0 0,1 3,0Z\" style=\"opacity: 1; stroke-width: 0px; fill: rgb(99, 110, 250); fill-opacity: 1;\"/><path class=\"point\" transform=\"translate(70.15,195.56)\" d=\"M3,0A3,3 0 1,1 0,-3A3,3 0 0,1 3,0Z\" style=\"opacity: 1; stroke-width: 0px; fill: rgb(99, 110, 250); fill-opacity: 1;\"/><path class=\"point\" transform=\"translate(70.15,195.56)\" d=\"M3,0A3,3 0 1,1 0,-3A3,3 0 0,1 3,0Z\" style=\"opacity: 1; stroke-width: 0px; fill: rgb(99, 110, 250); fill-opacity: 1;\"/><path class=\"point\" transform=\"translate(70.15,195.56)\" d=\"M3,0A3,3 0 1,1 0,-3A3,3 0 0,1 3,0Z\" style=\"opacity: 1; stroke-width: 0px; fill: rgb(99, 110, 250); fill-opacity: 1;\"/><path class=\"point\" transform=\"translate(70.89,195.56)\" d=\"M3,0A3,3 0 1,1 0,-3A3,3 0 0,1 3,0Z\" style=\"opacity: 1; stroke-width: 0px; fill: rgb(99, 110, 250); fill-opacity: 1;\"/><path class=\"point\" transform=\"translate(70.89,195.56)\" d=\"M3,0A3,3 0 1,1 0,-3A3,3 0 0,1 3,0Z\" style=\"opacity: 1; stroke-width: 0px; fill: rgb(99, 110, 250); fill-opacity: 1;\"/><path class=\"point\" transform=\"translate(70.89,195.56)\" d=\"M3,0A3,3 0 1,1 0,-3A3,3 0 0,1 3,0Z\" style=\"opacity: 1; stroke-width: 0px; fill: rgb(99, 110, 250); fill-opacity: 1;\"/><path class=\"point\" transform=\"translate(70.89,195.56)\" d=\"M3,0A3,3 0 1,1 0,-3A3,3 0 0,1 3,0Z\" style=\"opacity: 1; stroke-width: 0px; fill: rgb(99, 110, 250); fill-opacity: 1;\"/><path class=\"point\" transform=\"translate(70.89,195.56)\" d=\"M3,0A3,3 0 1,1 0,-3A3,3 0 0,1 3,0Z\" style=\"opacity: 1; stroke-width: 0px; fill: rgb(99, 110, 250); fill-opacity: 1;\"/><path class=\"point\" transform=\"translate(70.89,195.56)\" d=\"M3,0A3,3 0 1,1 0,-3A3,3 0 0,1 3,0Z\" style=\"opacity: 1; stroke-width: 0px; fill: rgb(99, 110, 250); fill-opacity: 1;\"/><path class=\"point\" transform=\"translate(70.89,195.56)\" d=\"M3,0A3,3 0 1,1 0,-3A3,3 0 0,1 3,0Z\" style=\"opacity: 1; stroke-width: 0px; fill: rgb(99, 110, 250); fill-opacity: 1;\"/><path class=\"point\" transform=\"translate(70.89,195.56)\" d=\"M3,0A3,3 0 1,1 0,-3A3,3 0 0,1 3,0Z\" style=\"opacity: 1; stroke-width: 0px; fill: rgb(99, 110, 250); fill-opacity: 1;\"/><path class=\"point\" transform=\"translate(70.89,195.56)\" d=\"M3,0A3,3 0 1,1 0,-3A3,3 0 0,1 3,0Z\" style=\"opacity: 1; stroke-width: 0px; fill: rgb(99, 110, 250); fill-opacity: 1;\"/><path class=\"point\" transform=\"translate(72.38,195.56)\" d=\"M3,0A3,3 0 1,1 0,-3A3,3 0 0,1 3,0Z\" style=\"opacity: 1; stroke-width: 0px; fill: rgb(99, 110, 250); fill-opacity: 1;\"/><path class=\"point\" transform=\"translate(72.38,195.56)\" d=\"M3,0A3,3 0 1,1 0,-3A3,3 0 0,1 3,0Z\" style=\"opacity: 1; stroke-width: 0px; fill: rgb(99, 110, 250); fill-opacity: 1;\"/><path class=\"point\" transform=\"translate(72.38,195.56)\" d=\"M3,0A3,3 0 1,1 0,-3A3,3 0 0,1 3,0Z\" style=\"opacity: 1; stroke-width: 0px; fill: rgb(99, 110, 250); fill-opacity: 1;\"/><path class=\"point\" transform=\"translate(73.13,195.56)\" d=\"M3,0A3,3 0 1,1 0,-3A3,3 0 0,1 3,0Z\" style=\"opacity: 1; stroke-width: 0px; fill: rgb(99, 110, 250); fill-opacity: 1;\"/><path class=\"point\" transform=\"translate(73.13,195.56)\" d=\"M3,0A3,3 0 1,1 0,-3A3,3 0 0,1 3,0Z\" style=\"opacity: 1; stroke-width: 0px; fill: rgb(99, 110, 250); fill-opacity: 1;\"/><path class=\"point\" transform=\"translate(73.13,195.56)\" d=\"M3,0A3,3 0 1,1 0,-3A3,3 0 0,1 3,0Z\" style=\"opacity: 1; stroke-width: 0px; fill: rgb(99, 110, 250); fill-opacity: 1;\"/><path class=\"point\" transform=\"translate(73.88,195.56)\" d=\"M3,0A3,3 0 1,1 0,-3A3,3 0 0,1 3,0Z\" style=\"opacity: 1; stroke-width: 0px; fill: rgb(99, 110, 250); fill-opacity: 1;\"/><path class=\"point\" transform=\"translate(74.62,195.56)\" d=\"M3,0A3,3 0 1,1 0,-3A3,3 0 0,1 3,0Z\" style=\"opacity: 1; stroke-width: 0px; fill: rgb(99, 110, 250); fill-opacity: 1;\"/><path class=\"point\" transform=\"translate(74.62,195.56)\" d=\"M3,0A3,3 0 1,1 0,-3A3,3 0 0,1 3,0Z\" style=\"opacity: 1; stroke-width: 0px; fill: rgb(99, 110, 250); fill-opacity: 1;\"/><path class=\"point\" transform=\"translate(74.62,195.56)\" d=\"M3,0A3,3 0 1,1 0,-3A3,3 0 0,1 3,0Z\" style=\"opacity: 1; stroke-width: 0px; fill: rgb(99, 110, 250); fill-opacity: 1;\"/><path class=\"point\" transform=\"translate(74.62,195.56)\" d=\"M3,0A3,3 0 1,1 0,-3A3,3 0 0,1 3,0Z\" style=\"opacity: 1; stroke-width: 0px; fill: rgb(99, 110, 250); fill-opacity: 1;\"/><path class=\"point\" transform=\"translate(74.62,195.56)\" d=\"M3,0A3,3 0 1,1 0,-3A3,3 0 0,1 3,0Z\" style=\"opacity: 1; stroke-width: 0px; fill: rgb(99, 110, 250); fill-opacity: 1;\"/><path class=\"point\" transform=\"translate(74.62,195.56)\" d=\"M3,0A3,3 0 1,1 0,-3A3,3 0 0,1 3,0Z\" style=\"opacity: 1; stroke-width: 0px; fill: rgb(99, 110, 250); fill-opacity: 1;\"/><path class=\"point\" transform=\"translate(75.37,195.56)\" d=\"M3,0A3,3 0 1,1 0,-3A3,3 0 0,1 3,0Z\" style=\"opacity: 1; stroke-width: 0px; fill: rgb(99, 110, 250); fill-opacity: 1;\"/><path class=\"point\" transform=\"translate(75.37,195.56)\" d=\"M3,0A3,3 0 1,1 0,-3A3,3 0 0,1 3,0Z\" style=\"opacity: 1; stroke-width: 0px; fill: rgb(99, 110, 250); fill-opacity: 1;\"/><path class=\"point\" transform=\"translate(75.37,195.56)\" d=\"M3,0A3,3 0 1,1 0,-3A3,3 0 0,1 3,0Z\" style=\"opacity: 1; stroke-width: 0px; fill: rgb(99, 110, 250); fill-opacity: 1;\"/><path class=\"point\" transform=\"translate(75.37,195.56)\" d=\"M3,0A3,3 0 1,1 0,-3A3,3 0 0,1 3,0Z\" style=\"opacity: 1; stroke-width: 0px; fill: rgb(99, 110, 250); fill-opacity: 1;\"/><path class=\"point\" transform=\"translate(76.86,195.56)\" d=\"M3,0A3,3 0 1,1 0,-3A3,3 0 0,1 3,0Z\" style=\"opacity: 1; stroke-width: 0px; fill: rgb(99, 110, 250); fill-opacity: 1;\"/><path class=\"point\" transform=\"translate(76.86,195.56)\" d=\"M3,0A3,3 0 1,1 0,-3A3,3 0 0,1 3,0Z\" style=\"opacity: 1; stroke-width: 0px; fill: rgb(99, 110, 250); fill-opacity: 1;\"/><path class=\"point\" transform=\"translate(76.86,195.56)\" d=\"M3,0A3,3 0 1,1 0,-3A3,3 0 0,1 3,0Z\" style=\"opacity: 1; stroke-width: 0px; fill: rgb(99, 110, 250); fill-opacity: 1;\"/><path class=\"point\" transform=\"translate(76.86,195.56)\" d=\"M3,0A3,3 0 1,1 0,-3A3,3 0 0,1 3,0Z\" style=\"opacity: 1; stroke-width: 0px; fill: rgb(99, 110, 250); fill-opacity: 1;\"/><path class=\"point\" transform=\"translate(76.86,195.56)\" d=\"M3,0A3,3 0 1,1 0,-3A3,3 0 0,1 3,0Z\" style=\"opacity: 1; stroke-width: 0px; fill: rgb(99, 110, 250); fill-opacity: 1;\"/><path class=\"point\" transform=\"translate(76.86,195.56)\" d=\"M3,0A3,3 0 1,1 0,-3A3,3 0 0,1 3,0Z\" style=\"opacity: 1; stroke-width: 0px; fill: rgb(99, 110, 250); fill-opacity: 1;\"/><path class=\"point\" transform=\"translate(78.35,195.56)\" d=\"M3,0A3,3 0 1,1 0,-3A3,3 0 0,1 3,0Z\" style=\"opacity: 1; stroke-width: 0px; fill: rgb(99, 110, 250); fill-opacity: 1;\"/><path class=\"point\" transform=\"translate(78.35,195.56)\" d=\"M3,0A3,3 0 1,1 0,-3A3,3 0 0,1 3,0Z\" style=\"opacity: 1; stroke-width: 0px; fill: rgb(99, 110, 250); fill-opacity: 1;\"/><path class=\"point\" transform=\"translate(78.35,195.56)\" d=\"M3,0A3,3 0 1,1 0,-3A3,3 0 0,1 3,0Z\" style=\"opacity: 1; stroke-width: 0px; fill: rgb(99, 110, 250); fill-opacity: 1;\"/><path class=\"point\" transform=\"translate(78.35,195.56)\" d=\"M3,0A3,3 0 1,1 0,-3A3,3 0 0,1 3,0Z\" style=\"opacity: 1; stroke-width: 0px; fill: rgb(99, 110, 250); fill-opacity: 1;\"/><path class=\"point\" transform=\"translate(78.35,195.56)\" d=\"M3,0A3,3 0 1,1 0,-3A3,3 0 0,1 3,0Z\" style=\"opacity: 1; stroke-width: 0px; fill: rgb(99, 110, 250); fill-opacity: 1;\"/><path class=\"point\" transform=\"translate(78.35,195.56)\" d=\"M3,0A3,3 0 1,1 0,-3A3,3 0 0,1 3,0Z\" style=\"opacity: 1; stroke-width: 0px; fill: rgb(99, 110, 250); fill-opacity: 1;\"/><path class=\"point\" transform=\"translate(78.35,195.56)\" d=\"M3,0A3,3 0 1,1 0,-3A3,3 0 0,1 3,0Z\" style=\"opacity: 1; stroke-width: 0px; fill: rgb(99, 110, 250); fill-opacity: 1;\"/><path class=\"point\" transform=\"translate(78.35,195.56)\" d=\"M3,0A3,3 0 1,1 0,-3A3,3 0 0,1 3,0Z\" style=\"opacity: 1; stroke-width: 0px; fill: rgb(99, 110, 250); fill-opacity: 1;\"/><path class=\"point\" transform=\"translate(78.35,195.56)\" d=\"M3,0A3,3 0 1,1 0,-3A3,3 0 0,1 3,0Z\" style=\"opacity: 1; stroke-width: 0px; fill: rgb(99, 110, 250); fill-opacity: 1;\"/><path class=\"point\" transform=\"translate(78.35,195.56)\" d=\"M3,0A3,3 0 1,1 0,-3A3,3 0 0,1 3,0Z\" style=\"opacity: 1; stroke-width: 0px; fill: rgb(99, 110, 250); fill-opacity: 1;\"/><path class=\"point\" transform=\"translate(78.35,195.56)\" d=\"M3,0A3,3 0 1,1 0,-3A3,3 0 0,1 3,0Z\" style=\"opacity: 1; stroke-width: 0px; fill: rgb(99, 110, 250); fill-opacity: 1;\"/><path class=\"point\" transform=\"translate(79.1,195.56)\" d=\"M3,0A3,3 0 1,1 0,-3A3,3 0 0,1 3,0Z\" style=\"opacity: 1; stroke-width: 0px; fill: rgb(99, 110, 250); fill-opacity: 1;\"/><path class=\"point\" transform=\"translate(79.85,195.56)\" d=\"M3,0A3,3 0 1,1 0,-3A3,3 0 0,1 3,0Z\" style=\"opacity: 1; stroke-width: 0px; fill: rgb(99, 110, 250); fill-opacity: 1;\"/><path class=\"point\" transform=\"translate(79.85,195.56)\" d=\"M3,0A3,3 0 1,1 0,-3A3,3 0 0,1 3,0Z\" style=\"opacity: 1; stroke-width: 0px; fill: rgb(99, 110, 250); fill-opacity: 1;\"/><path class=\"point\" transform=\"translate(81.34,195.56)\" d=\"M3,0A3,3 0 1,1 0,-3A3,3 0 0,1 3,0Z\" style=\"opacity: 1; stroke-width: 0px; fill: rgb(99, 110, 250); fill-opacity: 1;\"/><path class=\"point\" transform=\"translate(81.34,195.56)\" d=\"M3,0A3,3 0 1,1 0,-3A3,3 0 0,1 3,0Z\" style=\"opacity: 1; stroke-width: 0px; fill: rgb(99, 110, 250); fill-opacity: 1;\"/><path class=\"point\" transform=\"translate(83.58,195.56)\" d=\"M3,0A3,3 0 1,1 0,-3A3,3 0 0,1 3,0Z\" style=\"opacity: 1; stroke-width: 0px; fill: rgb(99, 110, 250); fill-opacity: 1;\"/><path class=\"point\" transform=\"translate(84.32,195.56)\" d=\"M3,0A3,3 0 1,1 0,-3A3,3 0 0,1 3,0Z\" style=\"opacity: 1; stroke-width: 0px; fill: rgb(99, 110, 250); fill-opacity: 1;\"/><path class=\"point\" transform=\"translate(85.82,195.56)\" d=\"M3,0A3,3 0 1,1 0,-3A3,3 0 0,1 3,0Z\" style=\"opacity: 1; stroke-width: 0px; fill: rgb(99, 110, 250); fill-opacity: 1;\"/><path class=\"point\" transform=\"translate(85.82,195.56)\" d=\"M3,0A3,3 0 1,1 0,-3A3,3 0 0,1 3,0Z\" style=\"opacity: 1; stroke-width: 0px; fill: rgb(99, 110, 250); fill-opacity: 1;\"/><path class=\"point\" transform=\"translate(85.82,195.56)\" d=\"M3,0A3,3 0 1,1 0,-3A3,3 0 0,1 3,0Z\" style=\"opacity: 1; stroke-width: 0px; fill: rgb(99, 110, 250); fill-opacity: 1;\"/><path class=\"point\" transform=\"translate(85.82,195.56)\" d=\"M3,0A3,3 0 1,1 0,-3A3,3 0 0,1 3,0Z\" style=\"opacity: 1; stroke-width: 0px; fill: rgb(99, 110, 250); fill-opacity: 1;\"/><path class=\"point\" transform=\"translate(88.8,195.56)\" d=\"M3,0A3,3 0 1,1 0,-3A3,3 0 0,1 3,0Z\" style=\"opacity: 1; stroke-width: 0px; fill: rgb(99, 110, 250); fill-opacity: 1;\"/><path class=\"point\" transform=\"translate(89.55,195.56)\" d=\"M3,0A3,3 0 1,1 0,-3A3,3 0 0,1 3,0Z\" style=\"opacity: 1; stroke-width: 0px; fill: rgb(99, 110, 250); fill-opacity: 1;\"/><path class=\"point\" transform=\"translate(90.29,195.56)\" d=\"M3,0A3,3 0 1,1 0,-3A3,3 0 0,1 3,0Z\" style=\"opacity: 1; stroke-width: 0px; fill: rgb(99, 110, 250); fill-opacity: 1;\"/><path class=\"point\" transform=\"translate(91.79,195.56)\" d=\"M3,0A3,3 0 1,1 0,-3A3,3 0 0,1 3,0Z\" style=\"opacity: 1; stroke-width: 0px; fill: rgb(99, 110, 250); fill-opacity: 1;\"/><path class=\"point\" transform=\"translate(93.28,195.56)\" d=\"M3,0A3,3 0 1,1 0,-3A3,3 0 0,1 3,0Z\" style=\"opacity: 1; stroke-width: 0px; fill: rgb(99, 110, 250); fill-opacity: 1;\"/><path class=\"point\" transform=\"translate(93.28,195.56)\" d=\"M3,0A3,3 0 1,1 0,-3A3,3 0 0,1 3,0Z\" style=\"opacity: 1; stroke-width: 0px; fill: rgb(99, 110, 250); fill-opacity: 1;\"/><path class=\"point\" transform=\"translate(93.28,195.56)\" d=\"M3,0A3,3 0 1,1 0,-3A3,3 0 0,1 3,0Z\" style=\"opacity: 1; stroke-width: 0px; fill: rgb(99, 110, 250); fill-opacity: 1;\"/><path class=\"point\" transform=\"translate(93.28,195.56)\" d=\"M3,0A3,3 0 1,1 0,-3A3,3 0 0,1 3,0Z\" style=\"opacity: 1; stroke-width: 0px; fill: rgb(99, 110, 250); fill-opacity: 1;\"/><path class=\"point\" transform=\"translate(93.28,195.56)\" d=\"M3,0A3,3 0 1,1 0,-3A3,3 0 0,1 3,0Z\" style=\"opacity: 1; stroke-width: 0px; fill: rgb(99, 110, 250); fill-opacity: 1;\"/><path class=\"point\" transform=\"translate(93.28,195.56)\" d=\"M3,0A3,3 0 1,1 0,-3A3,3 0 0,1 3,0Z\" style=\"opacity: 1; stroke-width: 0px; fill: rgb(99, 110, 250); fill-opacity: 1;\"/><path class=\"point\" transform=\"translate(93.28,195.56)\" d=\"M3,0A3,3 0 1,1 0,-3A3,3 0 0,1 3,0Z\" style=\"opacity: 1; stroke-width: 0px; fill: rgb(99, 110, 250); fill-opacity: 1;\"/><path class=\"point\" transform=\"translate(93.28,195.56)\" d=\"M3,0A3,3 0 1,1 0,-3A3,3 0 0,1 3,0Z\" style=\"opacity: 1; stroke-width: 0px; fill: rgb(99, 110, 250); fill-opacity: 1;\"/><path class=\"point\" transform=\"translate(93.28,195.56)\" d=\"M3,0A3,3 0 1,1 0,-3A3,3 0 0,1 3,0Z\" style=\"opacity: 1; stroke-width: 0px; fill: rgb(99, 110, 250); fill-opacity: 1;\"/><path class=\"point\" transform=\"translate(94.77,195.56)\" d=\"M3,0A3,3 0 1,1 0,-3A3,3 0 0,1 3,0Z\" style=\"opacity: 1; stroke-width: 0px; fill: rgb(99, 110, 250); fill-opacity: 1;\"/><path class=\"point\" transform=\"translate(96.26,195.56)\" d=\"M3,0A3,3 0 1,1 0,-3A3,3 0 0,1 3,0Z\" style=\"opacity: 1; stroke-width: 0px; fill: rgb(99, 110, 250); fill-opacity: 1;\"/><path class=\"point\" transform=\"translate(99.25,195.56)\" d=\"M3,0A3,3 0 1,1 0,-3A3,3 0 0,1 3,0Z\" style=\"opacity: 1; stroke-width: 0px; fill: rgb(99, 110, 250); fill-opacity: 1;\"/><path class=\"point\" transform=\"translate(100.74,195.56)\" d=\"M3,0A3,3 0 1,1 0,-3A3,3 0 0,1 3,0Z\" style=\"opacity: 1; stroke-width: 0px; fill: rgb(99, 110, 250); fill-opacity: 1;\"/><path class=\"point\" transform=\"translate(102.98,195.56)\" d=\"M3,0A3,3 0 1,1 0,-3A3,3 0 0,1 3,0Z\" style=\"opacity: 1; stroke-width: 0px; fill: rgb(99, 110, 250); fill-opacity: 1;\"/><path class=\"point\" transform=\"translate(106.71,195.56)\" d=\"M3,0A3,3 0 1,1 0,-3A3,3 0 0,1 3,0Z\" style=\"opacity: 1; stroke-width: 0px; fill: rgb(99, 110, 250); fill-opacity: 1;\"/><path class=\"point\" transform=\"translate(106.71,195.56)\" d=\"M3,0A3,3 0 1,1 0,-3A3,3 0 0,1 3,0Z\" style=\"opacity: 1; stroke-width: 0px; fill: rgb(99, 110, 250); fill-opacity: 1;\"/><path class=\"point\" transform=\"translate(110.44,195.56)\" d=\"M3,0A3,3 0 1,1 0,-3A3,3 0 0,1 3,0Z\" style=\"opacity: 1; stroke-width: 0px; fill: rgb(99, 110, 250); fill-opacity: 1;\"/><path class=\"point\" transform=\"translate(111.19,195.56)\" d=\"M3,0A3,3 0 1,1 0,-3A3,3 0 0,1 3,0Z\" style=\"opacity: 1; stroke-width: 0px; fill: rgb(99, 110, 250); fill-opacity: 1;\"/><path class=\"point\" transform=\"translate(111.19,195.56)\" d=\"M3,0A3,3 0 1,1 0,-3A3,3 0 0,1 3,0Z\" style=\"opacity: 1; stroke-width: 0px; fill: rgb(99, 110, 250); fill-opacity: 1;\"/><path class=\"point\" transform=\"translate(112.68,195.56)\" d=\"M3,0A3,3 0 1,1 0,-3A3,3 0 0,1 3,0Z\" style=\"opacity: 1; stroke-width: 0px; fill: rgb(99, 110, 250); fill-opacity: 1;\"/><path class=\"point\" transform=\"translate(112.68,195.56)\" d=\"M3,0A3,3 0 1,1 0,-3A3,3 0 0,1 3,0Z\" style=\"opacity: 1; stroke-width: 0px; fill: rgb(99, 110, 250); fill-opacity: 1;\"/><path class=\"point\" transform=\"translate(114.17,195.56)\" d=\"M3,0A3,3 0 1,1 0,-3A3,3 0 0,1 3,0Z\" style=\"opacity: 1; stroke-width: 0px; fill: rgb(99, 110, 250); fill-opacity: 1;\"/><path class=\"point\" transform=\"translate(115.67,195.56)\" d=\"M3,0A3,3 0 1,1 0,-3A3,3 0 0,1 3,0Z\" style=\"opacity: 1; stroke-width: 0px; fill: rgb(99, 110, 250); fill-opacity: 1;\"/><path class=\"point\" transform=\"translate(115.67,195.56)\" d=\"M3,0A3,3 0 1,1 0,-3A3,3 0 0,1 3,0Z\" style=\"opacity: 1; stroke-width: 0px; fill: rgb(99, 110, 250); fill-opacity: 1;\"/><path class=\"point\" transform=\"translate(115.67,195.56)\" d=\"M3,0A3,3 0 1,1 0,-3A3,3 0 0,1 3,0Z\" style=\"opacity: 1; stroke-width: 0px; fill: rgb(99, 110, 250); fill-opacity: 1;\"/><path class=\"point\" transform=\"translate(115.67,195.56)\" d=\"M3,0A3,3 0 1,1 0,-3A3,3 0 0,1 3,0Z\" style=\"opacity: 1; stroke-width: 0px; fill: rgb(99, 110, 250); fill-opacity: 1;\"/><path class=\"point\" transform=\"translate(115.67,195.56)\" d=\"M3,0A3,3 0 1,1 0,-3A3,3 0 0,1 3,0Z\" style=\"opacity: 1; stroke-width: 0px; fill: rgb(99, 110, 250); fill-opacity: 1;\"/><path class=\"point\" transform=\"translate(122.38,195.56)\" d=\"M3,0A3,3 0 1,1 0,-3A3,3 0 0,1 3,0Z\" style=\"opacity: 1; stroke-width: 0px; fill: rgb(99, 110, 250); fill-opacity: 1;\"/><path class=\"point\" transform=\"translate(126.11,195.56)\" d=\"M3,0A3,3 0 1,1 0,-3A3,3 0 0,1 3,0Z\" style=\"opacity: 1; stroke-width: 0px; fill: rgb(99, 110, 250); fill-opacity: 1;\"/><path class=\"point\" transform=\"translate(130.59,195.56)\" d=\"M3,0A3,3 0 1,1 0,-3A3,3 0 0,1 3,0Z\" style=\"opacity: 1; stroke-width: 0px; fill: rgb(99, 110, 250); fill-opacity: 1;\"/><path class=\"point\" transform=\"translate(132.83,195.56)\" d=\"M3,0A3,3 0 1,1 0,-3A3,3 0 0,1 3,0Z\" style=\"opacity: 1; stroke-width: 0px; fill: rgb(99, 110, 250); fill-opacity: 1;\"/><path class=\"point\" transform=\"translate(136.56,195.56)\" d=\"M3,0A3,3 0 1,1 0,-3A3,3 0 0,1 3,0Z\" style=\"opacity: 1; stroke-width: 0px; fill: rgb(99, 110, 250); fill-opacity: 1;\"/><path class=\"point\" transform=\"translate(138.05,195.56)\" d=\"M3,0A3,3 0 1,1 0,-3A3,3 0 0,1 3,0Z\" style=\"opacity: 1; stroke-width: 0px; fill: rgb(99, 110, 250); fill-opacity: 1;\"/><path class=\"point\" transform=\"translate(144.77,195.56)\" d=\"M3,0A3,3 0 1,1 0,-3A3,3 0 0,1 3,0Z\" style=\"opacity: 1; stroke-width: 0px; fill: rgb(99, 110, 250); fill-opacity: 1;\"/><path class=\"point\" transform=\"translate(145.52,195.56)\" d=\"M3,0A3,3 0 1,1 0,-3A3,3 0 0,1 3,0Z\" style=\"opacity: 1; stroke-width: 0px; fill: rgb(99, 110, 250); fill-opacity: 1;\"/><path class=\"point\" transform=\"translate(151.49,195.56)\" d=\"M3,0A3,3 0 1,1 0,-3A3,3 0 0,1 3,0Z\" style=\"opacity: 1; stroke-width: 0px; fill: rgb(99, 110, 250); fill-opacity: 1;\"/><path class=\"point\" transform=\"translate(152.98,195.56)\" d=\"M3,0A3,3 0 1,1 0,-3A3,3 0 0,1 3,0Z\" style=\"opacity: 1; stroke-width: 0px; fill: rgb(99, 110, 250); fill-opacity: 1;\"/><path class=\"point\" transform=\"translate(152.98,195.56)\" d=\"M3,0A3,3 0 1,1 0,-3A3,3 0 0,1 3,0Z\" style=\"opacity: 1; stroke-width: 0px; fill: rgb(99, 110, 250); fill-opacity: 1;\"/><path class=\"point\" transform=\"translate(152.98,195.56)\" d=\"M3,0A3,3 0 1,1 0,-3A3,3 0 0,1 3,0Z\" style=\"opacity: 1; stroke-width: 0px; fill: rgb(99, 110, 250); fill-opacity: 1;\"/><path class=\"point\" transform=\"translate(160.44,195.56)\" d=\"M3,0A3,3 0 1,1 0,-3A3,3 0 0,1 3,0Z\" style=\"opacity: 1; stroke-width: 0px; fill: rgb(99, 110, 250); fill-opacity: 1;\"/><path class=\"point\" transform=\"translate(165.66,195.56)\" d=\"M3,0A3,3 0 1,1 0,-3A3,3 0 0,1 3,0Z\" style=\"opacity: 1; stroke-width: 0px; fill: rgb(99, 110, 250); fill-opacity: 1;\"/><path class=\"point\" transform=\"translate(171.63,195.56)\" d=\"M3,0A3,3 0 1,1 0,-3A3,3 0 0,1 3,0Z\" style=\"opacity: 1; stroke-width: 0px; fill: rgb(99, 110, 250); fill-opacity: 1;\"/><path class=\"point\" transform=\"translate(175.37,195.56)\" d=\"M3,0A3,3 0 1,1 0,-3A3,3 0 0,1 3,0Z\" style=\"opacity: 1; stroke-width: 0px; fill: rgb(99, 110, 250); fill-opacity: 1;\"/><path class=\"point\" transform=\"translate(182.83,195.56)\" d=\"M3,0A3,3 0 1,1 0,-3A3,3 0 0,1 3,0Z\" style=\"opacity: 1; stroke-width: 0px; fill: rgb(99, 110, 250); fill-opacity: 1;\"/><path class=\"point\" transform=\"translate(190.29,195.56)\" d=\"M3,0A3,3 0 1,1 0,-3A3,3 0 0,1 3,0Z\" style=\"opacity: 1; stroke-width: 0px; fill: rgb(99, 110, 250); fill-opacity: 1;\"/><path class=\"point\" transform=\"translate(227.6,195.56)\" d=\"M3,0A3,3 0 1,1 0,-3A3,3 0 0,1 3,0Z\" style=\"opacity: 1; stroke-width: 0px; fill: rgb(99, 110, 250); fill-opacity: 1;\"/><path class=\"point\" transform=\"translate(302.23,195.56)\" d=\"M3,0A3,3 0 1,1 0,-3A3,3 0 0,1 3,0Z\" style=\"opacity: 1; stroke-width: 0px; fill: rgb(99, 110, 250); fill-opacity: 1;\"/><path class=\"point\" transform=\"translate(361.92,195.56)\" d=\"M3,0A3,3 0 1,1 0,-3A3,3 0 0,1 3,0Z\" style=\"opacity: 1; stroke-width: 0px; fill: rgb(99, 110, 250); fill-opacity: 1;\"/><path class=\"point\" transform=\"translate(436.55,195.56)\" d=\"M3,0A3,3 0 1,1 0,-3A3,3 0 0,1 3,0Z\" style=\"opacity: 1; stroke-width: 0px; fill: rgb(99, 110, 250); fill-opacity: 1;\"/></g><g class=\"points\"><path class=\"point\" transform=\"translate(166.41,160)\" d=\"M3,0A3,3 0 1,1 0,-3A3,3 0 0,1 3,0Z\" style=\"opacity: 1; stroke-width: 0px; fill: rgb(99, 110, 250); fill-opacity: 1;\"/><path class=\"point\" transform=\"translate(167.9,160)\" d=\"M3,0A3,3 0 1,1 0,-3A3,3 0 0,1 3,0Z\" style=\"opacity: 1; stroke-width: 0px; fill: rgb(99, 110, 250); fill-opacity: 1;\"/><path class=\"point\" transform=\"translate(167.9,160)\" d=\"M3,0A3,3 0 1,1 0,-3A3,3 0 0,1 3,0Z\" style=\"opacity: 1; stroke-width: 0px; fill: rgb(99, 110, 250); fill-opacity: 1;\"/><path class=\"point\" transform=\"translate(167.9,160)\" d=\"M3,0A3,3 0 1,1 0,-3A3,3 0 0,1 3,0Z\" style=\"opacity: 1; stroke-width: 0px; fill: rgb(99, 110, 250); fill-opacity: 1;\"/><path class=\"point\" transform=\"translate(167.9,160)\" d=\"M3,0A3,3 0 1,1 0,-3A3,3 0 0,1 3,0Z\" style=\"opacity: 1; stroke-width: 0px; fill: rgb(99, 110, 250); fill-opacity: 1;\"/><path class=\"point\" transform=\"translate(167.9,160)\" d=\"M3,0A3,3 0 1,1 0,-3A3,3 0 0,1 3,0Z\" style=\"opacity: 1; stroke-width: 0px; fill: rgb(99, 110, 250); fill-opacity: 1;\"/><path class=\"point\" transform=\"translate(167.9,160)\" d=\"M3,0A3,3 0 1,1 0,-3A3,3 0 0,1 3,0Z\" style=\"opacity: 1; stroke-width: 0px; fill: rgb(99, 110, 250); fill-opacity: 1;\"/><path class=\"point\" transform=\"translate(167.9,160)\" d=\"M3,0A3,3 0 1,1 0,-3A3,3 0 0,1 3,0Z\" style=\"opacity: 1; stroke-width: 0px; fill: rgb(99, 110, 250); fill-opacity: 1;\"/><path class=\"point\" transform=\"translate(167.9,160)\" d=\"M3,0A3,3 0 1,1 0,-3A3,3 0 0,1 3,0Z\" style=\"opacity: 1; stroke-width: 0px; fill: rgb(99, 110, 250); fill-opacity: 1;\"/><path class=\"point\" transform=\"translate(167.9,160)\" d=\"M3,0A3,3 0 1,1 0,-3A3,3 0 0,1 3,0Z\" style=\"opacity: 1; stroke-width: 0px; fill: rgb(99, 110, 250); fill-opacity: 1;\"/><path class=\"point\" transform=\"translate(170.89,160)\" d=\"M3,0A3,3 0 1,1 0,-3A3,3 0 0,1 3,0Z\" style=\"opacity: 1; stroke-width: 0px; fill: rgb(99, 110, 250); fill-opacity: 1;\"/><path class=\"point\" transform=\"translate(171.63,160)\" d=\"M3,0A3,3 0 1,1 0,-3A3,3 0 0,1 3,0Z\" style=\"opacity: 1; stroke-width: 0px; fill: rgb(99, 110, 250); fill-opacity: 1;\"/><path class=\"point\" transform=\"translate(173.87,160)\" d=\"M3,0A3,3 0 1,1 0,-3A3,3 0 0,1 3,0Z\" style=\"opacity: 1; stroke-width: 0px; fill: rgb(99, 110, 250); fill-opacity: 1;\"/><path class=\"point\" transform=\"translate(173.87,160)\" d=\"M3,0A3,3 0 1,1 0,-3A3,3 0 0,1 3,0Z\" style=\"opacity: 1; stroke-width: 0px; fill: rgb(99, 110, 250); fill-opacity: 1;\"/><path class=\"point\" transform=\"translate(175.37,160)\" d=\"M3,0A3,3 0 1,1 0,-3A3,3 0 0,1 3,0Z\" style=\"opacity: 1; stroke-width: 0px; fill: rgb(99, 110, 250); fill-opacity: 1;\"/><path class=\"point\" transform=\"translate(175.37,160)\" d=\"M3,0A3,3 0 1,1 0,-3A3,3 0 0,1 3,0Z\" style=\"opacity: 1; stroke-width: 0px; fill: rgb(99, 110, 250); fill-opacity: 1;\"/><path class=\"point\" transform=\"translate(175.37,160)\" d=\"M3,0A3,3 0 1,1 0,-3A3,3 0 0,1 3,0Z\" style=\"opacity: 1; stroke-width: 0px; fill: rgb(99, 110, 250); fill-opacity: 1;\"/><path class=\"point\" transform=\"translate(175.37,160)\" d=\"M3,0A3,3 0 1,1 0,-3A3,3 0 0,1 3,0Z\" style=\"opacity: 1; stroke-width: 0px; fill: rgb(99, 110, 250); fill-opacity: 1;\"/><path class=\"point\" transform=\"translate(175.37,160)\" d=\"M3,0A3,3 0 1,1 0,-3A3,3 0 0,1 3,0Z\" style=\"opacity: 1; stroke-width: 0px; fill: rgb(99, 110, 250); fill-opacity: 1;\"/><path class=\"point\" transform=\"translate(175.37,160)\" d=\"M3,0A3,3 0 1,1 0,-3A3,3 0 0,1 3,0Z\" style=\"opacity: 1; stroke-width: 0px; fill: rgb(99, 110, 250); fill-opacity: 1;\"/><path class=\"point\" transform=\"translate(182.83,160)\" d=\"M3,0A3,3 0 1,1 0,-3A3,3 0 0,1 3,0Z\" style=\"opacity: 1; stroke-width: 0px; fill: rgb(99, 110, 250); fill-opacity: 1;\"/><path class=\"point\" transform=\"translate(182.83,160)\" d=\"M3,0A3,3 0 1,1 0,-3A3,3 0 0,1 3,0Z\" style=\"opacity: 1; stroke-width: 0px; fill: rgb(99, 110, 250); fill-opacity: 1;\"/><path class=\"point\" transform=\"translate(182.83,160)\" d=\"M3,0A3,3 0 1,1 0,-3A3,3 0 0,1 3,0Z\" style=\"opacity: 1; stroke-width: 0px; fill: rgb(99, 110, 250); fill-opacity: 1;\"/><path class=\"point\" transform=\"translate(190.29,160)\" d=\"M3,0A3,3 0 1,1 0,-3A3,3 0 0,1 3,0Z\" style=\"opacity: 1; stroke-width: 0px; fill: rgb(99, 110, 250); fill-opacity: 1;\"/><path class=\"point\" transform=\"translate(190.29,160)\" d=\"M3,0A3,3 0 1,1 0,-3A3,3 0 0,1 3,0Z\" style=\"opacity: 1; stroke-width: 0px; fill: rgb(99, 110, 250); fill-opacity: 1;\"/><path class=\"point\" transform=\"translate(190.29,160)\" d=\"M3,0A3,3 0 1,1 0,-3A3,3 0 0,1 3,0Z\" style=\"opacity: 1; stroke-width: 0px; fill: rgb(99, 110, 250); fill-opacity: 1;\"/><path class=\"point\" transform=\"translate(190.29,160)\" d=\"M3,0A3,3 0 1,1 0,-3A3,3 0 0,1 3,0Z\" style=\"opacity: 1; stroke-width: 0px; fill: rgb(99, 110, 250); fill-opacity: 1;\"/><path class=\"point\" transform=\"translate(190.29,160)\" d=\"M3,0A3,3 0 1,1 0,-3A3,3 0 0,1 3,0Z\" style=\"opacity: 1; stroke-width: 0px; fill: rgb(99, 110, 250); fill-opacity: 1;\"/><path class=\"point\" transform=\"translate(190.29,160)\" d=\"M3,0A3,3 0 1,1 0,-3A3,3 0 0,1 3,0Z\" style=\"opacity: 1; stroke-width: 0px; fill: rgb(99, 110, 250); fill-opacity: 1;\"/><path class=\"point\" transform=\"translate(190.29,160)\" d=\"M3,0A3,3 0 1,1 0,-3A3,3 0 0,1 3,0Z\" style=\"opacity: 1; stroke-width: 0px; fill: rgb(99, 110, 250); fill-opacity: 1;\"/><path class=\"point\" transform=\"translate(190.29,160)\" d=\"M3,0A3,3 0 1,1 0,-3A3,3 0 0,1 3,0Z\" style=\"opacity: 1; stroke-width: 0px; fill: rgb(99, 110, 250); fill-opacity: 1;\"/><path class=\"point\" transform=\"translate(190.29,160)\" d=\"M3,0A3,3 0 1,1 0,-3A3,3 0 0,1 3,0Z\" style=\"opacity: 1; stroke-width: 0px; fill: rgb(99, 110, 250); fill-opacity: 1;\"/><path class=\"point\" transform=\"translate(190.29,160)\" d=\"M3,0A3,3 0 1,1 0,-3A3,3 0 0,1 3,0Z\" style=\"opacity: 1; stroke-width: 0px; fill: rgb(99, 110, 250); fill-opacity: 1;\"/><path class=\"point\" transform=\"translate(190.29,160)\" d=\"M3,0A3,3 0 1,1 0,-3A3,3 0 0,1 3,0Z\" style=\"opacity: 1; stroke-width: 0px; fill: rgb(99, 110, 250); fill-opacity: 1;\"/><path class=\"point\" transform=\"translate(190.29,160)\" d=\"M3,0A3,3 0 1,1 0,-3A3,3 0 0,1 3,0Z\" style=\"opacity: 1; stroke-width: 0px; fill: rgb(99, 110, 250); fill-opacity: 1;\"/><path class=\"point\" transform=\"translate(190.29,160)\" d=\"M3,0A3,3 0 1,1 0,-3A3,3 0 0,1 3,0Z\" style=\"opacity: 1; stroke-width: 0px; fill: rgb(99, 110, 250); fill-opacity: 1;\"/><path class=\"point\" transform=\"translate(190.29,160)\" d=\"M3,0A3,3 0 1,1 0,-3A3,3 0 0,1 3,0Z\" style=\"opacity: 1; stroke-width: 0px; fill: rgb(99, 110, 250); fill-opacity: 1;\"/><path class=\"point\" transform=\"translate(190.29,160)\" d=\"M3,0A3,3 0 1,1 0,-3A3,3 0 0,1 3,0Z\" style=\"opacity: 1; stroke-width: 0px; fill: rgb(99, 110, 250); fill-opacity: 1;\"/><path class=\"point\" transform=\"translate(190.29,160)\" d=\"M3,0A3,3 0 1,1 0,-3A3,3 0 0,1 3,0Z\" style=\"opacity: 1; stroke-width: 0px; fill: rgb(99, 110, 250); fill-opacity: 1;\"/><path class=\"point\" transform=\"translate(190.29,160)\" d=\"M3,0A3,3 0 1,1 0,-3A3,3 0 0,1 3,0Z\" style=\"opacity: 1; stroke-width: 0px; fill: rgb(99, 110, 250); fill-opacity: 1;\"/><path class=\"point\" transform=\"translate(190.29,160)\" d=\"M3,0A3,3 0 1,1 0,-3A3,3 0 0,1 3,0Z\" style=\"opacity: 1; stroke-width: 0px; fill: rgb(99, 110, 250); fill-opacity: 1;\"/><path class=\"point\" transform=\"translate(190.29,160)\" d=\"M3,0A3,3 0 1,1 0,-3A3,3 0 0,1 3,0Z\" style=\"opacity: 1; stroke-width: 0px; fill: rgb(99, 110, 250); fill-opacity: 1;\"/><path class=\"point\" transform=\"translate(190.29,160)\" d=\"M3,0A3,3 0 1,1 0,-3A3,3 0 0,1 3,0Z\" style=\"opacity: 1; stroke-width: 0px; fill: rgb(99, 110, 250); fill-opacity: 1;\"/><path class=\"point\" transform=\"translate(190.29,160)\" d=\"M3,0A3,3 0 1,1 0,-3A3,3 0 0,1 3,0Z\" style=\"opacity: 1; stroke-width: 0px; fill: rgb(99, 110, 250); fill-opacity: 1;\"/><path class=\"point\" transform=\"translate(190.29,160)\" d=\"M3,0A3,3 0 1,1 0,-3A3,3 0 0,1 3,0Z\" style=\"opacity: 1; stroke-width: 0px; fill: rgb(99, 110, 250); fill-opacity: 1;\"/><path class=\"point\" transform=\"translate(190.29,160)\" d=\"M3,0A3,3 0 1,1 0,-3A3,3 0 0,1 3,0Z\" style=\"opacity: 1; stroke-width: 0px; fill: rgb(99, 110, 250); fill-opacity: 1;\"/><path class=\"point\" transform=\"translate(190.29,160)\" d=\"M3,0A3,3 0 1,1 0,-3A3,3 0 0,1 3,0Z\" style=\"opacity: 1; stroke-width: 0px; fill: rgb(99, 110, 250); fill-opacity: 1;\"/><path class=\"point\" transform=\"translate(190.29,160)\" d=\"M3,0A3,3 0 1,1 0,-3A3,3 0 0,1 3,0Z\" style=\"opacity: 1; stroke-width: 0px; fill: rgb(99, 110, 250); fill-opacity: 1;\"/><path class=\"point\" transform=\"translate(190.29,160)\" d=\"M3,0A3,3 0 1,1 0,-3A3,3 0 0,1 3,0Z\" style=\"opacity: 1; stroke-width: 0px; fill: rgb(99, 110, 250); fill-opacity: 1;\"/><path class=\"point\" transform=\"translate(191.78,160)\" d=\"M3,0A3,3 0 1,1 0,-3A3,3 0 0,1 3,0Z\" style=\"opacity: 1; stroke-width: 0px; fill: rgb(99, 110, 250); fill-opacity: 1;\"/><path class=\"point\" transform=\"translate(194.02,160)\" d=\"M3,0A3,3 0 1,1 0,-3A3,3 0 0,1 3,0Z\" style=\"opacity: 1; stroke-width: 0px; fill: rgb(99, 110, 250); fill-opacity: 1;\"/><path class=\"point\" transform=\"translate(197.75,160)\" d=\"M3,0A3,3 0 1,1 0,-3A3,3 0 0,1 3,0Z\" style=\"opacity: 1; stroke-width: 0px; fill: rgb(99, 110, 250); fill-opacity: 1;\"/><path class=\"point\" transform=\"translate(202.23,160)\" d=\"M3,0A3,3 0 1,1 0,-3A3,3 0 0,1 3,0Z\" style=\"opacity: 1; stroke-width: 0px; fill: rgb(99, 110, 250); fill-opacity: 1;\"/><path class=\"point\" transform=\"translate(205.96,160)\" d=\"M3,0A3,3 0 1,1 0,-3A3,3 0 0,1 3,0Z\" style=\"opacity: 1; stroke-width: 0px; fill: rgb(99, 110, 250); fill-opacity: 1;\"/><path class=\"point\" transform=\"translate(206.71,160)\" d=\"M3,0A3,3 0 1,1 0,-3A3,3 0 0,1 3,0Z\" style=\"opacity: 1; stroke-width: 0px; fill: rgb(99, 110, 250); fill-opacity: 1;\"/><path class=\"point\" transform=\"translate(207.45,160)\" d=\"M3,0A3,3 0 1,1 0,-3A3,3 0 0,1 3,0Z\" style=\"opacity: 1; stroke-width: 0px; fill: rgb(99, 110, 250); fill-opacity: 1;\"/><path class=\"point\" transform=\"translate(208.95,160)\" d=\"M3,0A3,3 0 1,1 0,-3A3,3 0 0,1 3,0Z\" style=\"opacity: 1; stroke-width: 0px; fill: rgb(99, 110, 250); fill-opacity: 1;\"/><path class=\"point\" transform=\"translate(211.18,160)\" d=\"M3,0A3,3 0 1,1 0,-3A3,3 0 0,1 3,0Z\" style=\"opacity: 1; stroke-width: 0px; fill: rgb(99, 110, 250); fill-opacity: 1;\"/><path class=\"point\" transform=\"translate(212.68,160)\" d=\"M3,0A3,3 0 1,1 0,-3A3,3 0 0,1 3,0Z\" style=\"opacity: 1; stroke-width: 0px; fill: rgb(99, 110, 250); fill-opacity: 1;\"/><path class=\"point\" transform=\"translate(212.68,160)\" d=\"M3,0A3,3 0 1,1 0,-3A3,3 0 0,1 3,0Z\" style=\"opacity: 1; stroke-width: 0px; fill: rgb(99, 110, 250); fill-opacity: 1;\"/><path class=\"point\" transform=\"translate(214.17,160)\" d=\"M3,0A3,3 0 1,1 0,-3A3,3 0 0,1 3,0Z\" style=\"opacity: 1; stroke-width: 0px; fill: rgb(99, 110, 250); fill-opacity: 1;\"/><path class=\"point\" transform=\"translate(215.66,160)\" d=\"M3,0A3,3 0 1,1 0,-3A3,3 0 0,1 3,0Z\" style=\"opacity: 1; stroke-width: 0px; fill: rgb(99, 110, 250); fill-opacity: 1;\"/><path class=\"point\" transform=\"translate(217.15,160)\" d=\"M3,0A3,3 0 1,1 0,-3A3,3 0 0,1 3,0Z\" style=\"opacity: 1; stroke-width: 0px; fill: rgb(99, 110, 250); fill-opacity: 1;\"/><path class=\"point\" transform=\"translate(217.9,160)\" d=\"M3,0A3,3 0 1,1 0,-3A3,3 0 0,1 3,0Z\" style=\"opacity: 1; stroke-width: 0px; fill: rgb(99, 110, 250); fill-opacity: 1;\"/><path class=\"point\" transform=\"translate(227.6,160)\" d=\"M3,0A3,3 0 1,1 0,-3A3,3 0 0,1 3,0Z\" style=\"opacity: 1; stroke-width: 0px; fill: rgb(99, 110, 250); fill-opacity: 1;\"/><path class=\"point\" transform=\"translate(227.6,160)\" d=\"M3,0A3,3 0 1,1 0,-3A3,3 0 0,1 3,0Z\" style=\"opacity: 1; stroke-width: 0px; fill: rgb(99, 110, 250); fill-opacity: 1;\"/><path class=\"point\" transform=\"translate(227.6,160)\" d=\"M3,0A3,3 0 1,1 0,-3A3,3 0 0,1 3,0Z\" style=\"opacity: 1; stroke-width: 0px; fill: rgb(99, 110, 250); fill-opacity: 1;\"/><path class=\"point\" transform=\"translate(227.6,160)\" d=\"M3,0A3,3 0 1,1 0,-3A3,3 0 0,1 3,0Z\" style=\"opacity: 1; stroke-width: 0px; fill: rgb(99, 110, 250); fill-opacity: 1;\"/><path class=\"point\" transform=\"translate(227.6,160)\" d=\"M3,0A3,3 0 1,1 0,-3A3,3 0 0,1 3,0Z\" style=\"opacity: 1; stroke-width: 0px; fill: rgb(99, 110, 250); fill-opacity: 1;\"/><path class=\"point\" transform=\"translate(227.6,160)\" d=\"M3,0A3,3 0 1,1 0,-3A3,3 0 0,1 3,0Z\" style=\"opacity: 1; stroke-width: 0px; fill: rgb(99, 110, 250); fill-opacity: 1;\"/><path class=\"point\" transform=\"translate(227.6,160)\" d=\"M3,0A3,3 0 1,1 0,-3A3,3 0 0,1 3,0Z\" style=\"opacity: 1; stroke-width: 0px; fill: rgb(99, 110, 250); fill-opacity: 1;\"/><path class=\"point\" transform=\"translate(227.6,160)\" d=\"M3,0A3,3 0 1,1 0,-3A3,3 0 0,1 3,0Z\" style=\"opacity: 1; stroke-width: 0px; fill: rgb(99, 110, 250); fill-opacity: 1;\"/><path class=\"point\" transform=\"translate(227.6,160)\" d=\"M3,0A3,3 0 1,1 0,-3A3,3 0 0,1 3,0Z\" style=\"opacity: 1; stroke-width: 0px; fill: rgb(99, 110, 250); fill-opacity: 1;\"/><path class=\"point\" transform=\"translate(227.6,160)\" d=\"M3,0A3,3 0 1,1 0,-3A3,3 0 0,1 3,0Z\" style=\"opacity: 1; stroke-width: 0px; fill: rgb(99, 110, 250); fill-opacity: 1;\"/><path class=\"point\" transform=\"translate(227.6,160)\" d=\"M3,0A3,3 0 1,1 0,-3A3,3 0 0,1 3,0Z\" style=\"opacity: 1; stroke-width: 0px; fill: rgb(99, 110, 250); fill-opacity: 1;\"/><path class=\"point\" transform=\"translate(227.6,160)\" d=\"M3,0A3,3 0 1,1 0,-3A3,3 0 0,1 3,0Z\" style=\"opacity: 1; stroke-width: 0px; fill: rgb(99, 110, 250); fill-opacity: 1;\"/><path class=\"point\" transform=\"translate(227.6,160)\" d=\"M3,0A3,3 0 1,1 0,-3A3,3 0 0,1 3,0Z\" style=\"opacity: 1; stroke-width: 0px; fill: rgb(99, 110, 250); fill-opacity: 1;\"/><path class=\"point\" transform=\"translate(227.6,160)\" d=\"M3,0A3,3 0 1,1 0,-3A3,3 0 0,1 3,0Z\" style=\"opacity: 1; stroke-width: 0px; fill: rgb(99, 110, 250); fill-opacity: 1;\"/><path class=\"point\" transform=\"translate(232.08,160)\" d=\"M3,0A3,3 0 1,1 0,-3A3,3 0 0,1 3,0Z\" style=\"opacity: 1; stroke-width: 0px; fill: rgb(99, 110, 250); fill-opacity: 1;\"/><path class=\"point\" transform=\"translate(235.06,160)\" d=\"M3,0A3,3 0 1,1 0,-3A3,3 0 0,1 3,0Z\" style=\"opacity: 1; stroke-width: 0px; fill: rgb(99, 110, 250); fill-opacity: 1;\"/><path class=\"point\" transform=\"translate(235.06,160)\" d=\"M3,0A3,3 0 1,1 0,-3A3,3 0 0,1 3,0Z\" style=\"opacity: 1; stroke-width: 0px; fill: rgb(99, 110, 250); fill-opacity: 1;\"/><path class=\"point\" transform=\"translate(237.3,160)\" d=\"M3,0A3,3 0 1,1 0,-3A3,3 0 0,1 3,0Z\" style=\"opacity: 1; stroke-width: 0px; fill: rgb(99, 110, 250); fill-opacity: 1;\"/><path class=\"point\" transform=\"translate(242.53,160)\" d=\"M3,0A3,3 0 1,1 0,-3A3,3 0 0,1 3,0Z\" style=\"opacity: 1; stroke-width: 0px; fill: rgb(99, 110, 250); fill-opacity: 1;\"/><path class=\"point\" transform=\"translate(242.53,160)\" d=\"M3,0A3,3 0 1,1 0,-3A3,3 0 0,1 3,0Z\" style=\"opacity: 1; stroke-width: 0px; fill: rgb(99, 110, 250); fill-opacity: 1;\"/><path class=\"point\" transform=\"translate(242.53,160)\" d=\"M3,0A3,3 0 1,1 0,-3A3,3 0 0,1 3,0Z\" style=\"opacity: 1; stroke-width: 0px; fill: rgb(99, 110, 250); fill-opacity: 1;\"/><path class=\"point\" transform=\"translate(242.53,160)\" d=\"M3,0A3,3 0 1,1 0,-3A3,3 0 0,1 3,0Z\" style=\"opacity: 1; stroke-width: 0px; fill: rgb(99, 110, 250); fill-opacity: 1;\"/><path class=\"point\" transform=\"translate(247,160)\" d=\"M3,0A3,3 0 1,1 0,-3A3,3 0 0,1 3,0Z\" style=\"opacity: 1; stroke-width: 0px; fill: rgb(99, 110, 250); fill-opacity: 1;\"/><path class=\"point\" transform=\"translate(249.99,160)\" d=\"M3,0A3,3 0 1,1 0,-3A3,3 0 0,1 3,0Z\" style=\"opacity: 1; stroke-width: 0px; fill: rgb(99, 110, 250); fill-opacity: 1;\"/><path class=\"point\" transform=\"translate(259.69,160)\" d=\"M3,0A3,3 0 1,1 0,-3A3,3 0 0,1 3,0Z\" style=\"opacity: 1; stroke-width: 0px; fill: rgb(99, 110, 250); fill-opacity: 1;\"/><path class=\"point\" transform=\"translate(264.91,160)\" d=\"M3,0A3,3 0 1,1 0,-3A3,3 0 0,1 3,0Z\" style=\"opacity: 1; stroke-width: 0px; fill: rgb(99, 110, 250); fill-opacity: 1;\"/><path class=\"point\" transform=\"translate(264.91,160)\" d=\"M3,0A3,3 0 1,1 0,-3A3,3 0 0,1 3,0Z\" style=\"opacity: 1; stroke-width: 0px; fill: rgb(99, 110, 250); fill-opacity: 1;\"/><path class=\"point\" transform=\"translate(264.91,160)\" d=\"M3,0A3,3 0 1,1 0,-3A3,3 0 0,1 3,0Z\" style=\"opacity: 1; stroke-width: 0px; fill: rgb(99, 110, 250); fill-opacity: 1;\"/><path class=\"point\" transform=\"translate(264.91,160)\" d=\"M3,0A3,3 0 1,1 0,-3A3,3 0 0,1 3,0Z\" style=\"opacity: 1; stroke-width: 0px; fill: rgb(99, 110, 250); fill-opacity: 1;\"/><path class=\"point\" transform=\"translate(264.91,160)\" d=\"M3,0A3,3 0 1,1 0,-3A3,3 0 0,1 3,0Z\" style=\"opacity: 1; stroke-width: 0px; fill: rgb(99, 110, 250); fill-opacity: 1;\"/><path class=\"point\" transform=\"translate(264.91,160)\" d=\"M3,0A3,3 0 1,1 0,-3A3,3 0 0,1 3,0Z\" style=\"opacity: 1; stroke-width: 0px; fill: rgb(99, 110, 250); fill-opacity: 1;\"/><path class=\"point\" transform=\"translate(264.91,160)\" d=\"M3,0A3,3 0 1,1 0,-3A3,3 0 0,1 3,0Z\" style=\"opacity: 1; stroke-width: 0px; fill: rgb(99, 110, 250); fill-opacity: 1;\"/><path class=\"point\" transform=\"translate(264.91,160)\" d=\"M3,0A3,3 0 1,1 0,-3A3,3 0 0,1 3,0Z\" style=\"opacity: 1; stroke-width: 0px; fill: rgb(99, 110, 250); fill-opacity: 1;\"/><path class=\"point\" transform=\"translate(264.91,160)\" d=\"M3,0A3,3 0 1,1 0,-3A3,3 0 0,1 3,0Z\" style=\"opacity: 1; stroke-width: 0px; fill: rgb(99, 110, 250); fill-opacity: 1;\"/><path class=\"point\" transform=\"translate(264.91,160)\" d=\"M3,0A3,3 0 1,1 0,-3A3,3 0 0,1 3,0Z\" style=\"opacity: 1; stroke-width: 0px; fill: rgb(99, 110, 250); fill-opacity: 1;\"/><path class=\"point\" transform=\"translate(264.91,160)\" d=\"M3,0A3,3 0 1,1 0,-3A3,3 0 0,1 3,0Z\" style=\"opacity: 1; stroke-width: 0px; fill: rgb(99, 110, 250); fill-opacity: 1;\"/><path class=\"point\" transform=\"translate(264.91,160)\" d=\"M3,0A3,3 0 1,1 0,-3A3,3 0 0,1 3,0Z\" style=\"opacity: 1; stroke-width: 0px; fill: rgb(99, 110, 250); fill-opacity: 1;\"/><path class=\"point\" transform=\"translate(264.91,160)\" d=\"M3,0A3,3 0 1,1 0,-3A3,3 0 0,1 3,0Z\" style=\"opacity: 1; stroke-width: 0px; fill: rgb(99, 110, 250); fill-opacity: 1;\"/><path class=\"point\" transform=\"translate(272.38,160)\" d=\"M3,0A3,3 0 1,1 0,-3A3,3 0 0,1 3,0Z\" style=\"opacity: 1; stroke-width: 0px; fill: rgb(99, 110, 250); fill-opacity: 1;\"/><path class=\"point\" transform=\"translate(287.3,160)\" d=\"M3,0A3,3 0 1,1 0,-3A3,3 0 0,1 3,0Z\" style=\"opacity: 1; stroke-width: 0px; fill: rgb(99, 110, 250); fill-opacity: 1;\"/><path class=\"point\" transform=\"translate(287.3,160)\" d=\"M3,0A3,3 0 1,1 0,-3A3,3 0 0,1 3,0Z\" style=\"opacity: 1; stroke-width: 0px; fill: rgb(99, 110, 250); fill-opacity: 1;\"/><path class=\"point\" transform=\"translate(300.73,160)\" d=\"M3,0A3,3 0 1,1 0,-3A3,3 0 0,1 3,0Z\" style=\"opacity: 1; stroke-width: 0px; fill: rgb(99, 110, 250); fill-opacity: 1;\"/><path class=\"point\" transform=\"translate(302.23,160)\" d=\"M3,0A3,3 0 1,1 0,-3A3,3 0 0,1 3,0Z\" style=\"opacity: 1; stroke-width: 0px; fill: rgb(99, 110, 250); fill-opacity: 1;\"/><path class=\"point\" transform=\"translate(302.23,160)\" d=\"M3,0A3,3 0 1,1 0,-3A3,3 0 0,1 3,0Z\" style=\"opacity: 1; stroke-width: 0px; fill: rgb(99, 110, 250); fill-opacity: 1;\"/><path class=\"point\" transform=\"translate(302.23,160)\" d=\"M3,0A3,3 0 1,1 0,-3A3,3 0 0,1 3,0Z\" style=\"opacity: 1; stroke-width: 0px; fill: rgb(99, 110, 250); fill-opacity: 1;\"/><path class=\"point\" transform=\"translate(302.23,160)\" d=\"M3,0A3,3 0 1,1 0,-3A3,3 0 0,1 3,0Z\" style=\"opacity: 1; stroke-width: 0px; fill: rgb(99, 110, 250); fill-opacity: 1;\"/><path class=\"point\" transform=\"translate(302.23,160)\" d=\"M3,0A3,3 0 1,1 0,-3A3,3 0 0,1 3,0Z\" style=\"opacity: 1; stroke-width: 0px; fill: rgb(99, 110, 250); fill-opacity: 1;\"/><path class=\"point\" transform=\"translate(317.15,160)\" d=\"M3,0A3,3 0 1,1 0,-3A3,3 0 0,1 3,0Z\" style=\"opacity: 1; stroke-width: 0px; fill: rgb(99, 110, 250); fill-opacity: 1;\"/><path class=\"point\" transform=\"translate(317.15,160)\" d=\"M3,0A3,3 0 1,1 0,-3A3,3 0 0,1 3,0Z\" style=\"opacity: 1; stroke-width: 0px; fill: rgb(99, 110, 250); fill-opacity: 1;\"/><path class=\"point\" transform=\"translate(320.14,160)\" d=\"M3,0A3,3 0 1,1 0,-3A3,3 0 0,1 3,0Z\" style=\"opacity: 1; stroke-width: 0px; fill: rgb(99, 110, 250); fill-opacity: 1;\"/><path class=\"point\" transform=\"translate(324.61,160)\" d=\"M3,0A3,3 0 1,1 0,-3A3,3 0 0,1 3,0Z\" style=\"opacity: 1; stroke-width: 0px; fill: rgb(99, 110, 250); fill-opacity: 1;\"/><path class=\"point\" transform=\"translate(339.54,160)\" d=\"M3,0A3,3 0 1,1 0,-3A3,3 0 0,1 3,0Z\" style=\"opacity: 1; stroke-width: 0px; fill: rgb(99, 110, 250); fill-opacity: 1;\"/><path class=\"point\" transform=\"translate(343.27,160)\" d=\"M3,0A3,3 0 1,1 0,-3A3,3 0 0,1 3,0Z\" style=\"opacity: 1; stroke-width: 0px; fill: rgb(99, 110, 250); fill-opacity: 1;\"/><path class=\"point\" transform=\"translate(355.95,160)\" d=\"M3,0A3,3 0 1,1 0,-3A3,3 0 0,1 3,0Z\" style=\"opacity: 1; stroke-width: 0px; fill: rgb(99, 110, 250); fill-opacity: 1;\"/><path class=\"point\" transform=\"translate(360.43,160)\" d=\"M3,0A3,3 0 1,1 0,-3A3,3 0 0,1 3,0Z\" style=\"opacity: 1; stroke-width: 0px; fill: rgb(99, 110, 250); fill-opacity: 1;\"/><path class=\"point\" transform=\"translate(362.67,160)\" d=\"M3,0A3,3 0 1,1 0,-3A3,3 0 0,1 3,0Z\" style=\"opacity: 1; stroke-width: 0px; fill: rgb(99, 110, 250); fill-opacity: 1;\"/><path class=\"point\" transform=\"translate(373.12,160)\" d=\"M3,0A3,3 0 1,1 0,-3A3,3 0 0,1 3,0Z\" style=\"opacity: 1; stroke-width: 0px; fill: rgb(99, 110, 250); fill-opacity: 1;\"/><path class=\"point\" transform=\"translate(376.85,160)\" d=\"M3,0A3,3 0 1,1 0,-3A3,3 0 0,1 3,0Z\" style=\"opacity: 1; stroke-width: 0px; fill: rgb(99, 110, 250); fill-opacity: 1;\"/><path class=\"point\" transform=\"translate(376.85,160)\" d=\"M3,0A3,3 0 1,1 0,-3A3,3 0 0,1 3,0Z\" style=\"opacity: 1; stroke-width: 0px; fill: rgb(99, 110, 250); fill-opacity: 1;\"/><path class=\"point\" transform=\"translate(376.85,160)\" d=\"M3,0A3,3 0 1,1 0,-3A3,3 0 0,1 3,0Z\" style=\"opacity: 1; stroke-width: 0px; fill: rgb(99, 110, 250); fill-opacity: 1;\"/><path class=\"point\" transform=\"translate(376.85,160)\" d=\"M3,0A3,3 0 1,1 0,-3A3,3 0 0,1 3,0Z\" style=\"opacity: 1; stroke-width: 0px; fill: rgb(99, 110, 250); fill-opacity: 1;\"/><path class=\"point\" transform=\"translate(376.85,160)\" d=\"M3,0A3,3 0 1,1 0,-3A3,3 0 0,1 3,0Z\" style=\"opacity: 1; stroke-width: 0px; fill: rgb(99, 110, 250); fill-opacity: 1;\"/><path class=\"point\" transform=\"translate(376.85,160)\" d=\"M3,0A3,3 0 1,1 0,-3A3,3 0 0,1 3,0Z\" style=\"opacity: 1; stroke-width: 0px; fill: rgb(99, 110, 250); fill-opacity: 1;\"/><path class=\"point\" transform=\"translate(376.85,160)\" d=\"M3,0A3,3 0 1,1 0,-3A3,3 0 0,1 3,0Z\" style=\"opacity: 1; stroke-width: 0px; fill: rgb(99, 110, 250); fill-opacity: 1;\"/><path class=\"point\" transform=\"translate(408.19,160)\" d=\"M3,0A3,3 0 1,1 0,-3A3,3 0 0,1 3,0Z\" style=\"opacity: 1; stroke-width: 0px; fill: rgb(99, 110, 250); fill-opacity: 1;\"/><path class=\"point\" transform=\"translate(440.28,160)\" d=\"M3,0A3,3 0 1,1 0,-3A3,3 0 0,1 3,0Z\" style=\"opacity: 1; stroke-width: 0px; fill: rgb(99, 110, 250); fill-opacity: 1;\"/><path class=\"point\" transform=\"translate(451.47,160)\" d=\"M3,0A3,3 0 1,1 0,-3A3,3 0 0,1 3,0Z\" style=\"opacity: 1; stroke-width: 0px; fill: rgb(99, 110, 250); fill-opacity: 1;\"/><path class=\"point\" transform=\"translate(470.13,160)\" d=\"M3,0A3,3 0 1,1 0,-3A3,3 0 0,1 3,0Z\" style=\"opacity: 1; stroke-width: 0px; fill: rgb(99, 110, 250); fill-opacity: 1;\"/><path class=\"point\" transform=\"translate(488.78,160)\" d=\"M3,0A3,3 0 1,1 0,-3A3,3 0 0,1 3,0Z\" style=\"opacity: 1; stroke-width: 0px; fill: rgb(99, 110, 250); fill-opacity: 1;\"/><path class=\"point\" transform=\"translate(488.78,160)\" d=\"M3,0A3,3 0 1,1 0,-3A3,3 0 0,1 3,0Z\" style=\"opacity: 1; stroke-width: 0px; fill: rgb(99, 110, 250); fill-opacity: 1;\"/><path class=\"point\" transform=\"translate(496.25,160)\" d=\"M3,0A3,3 0 1,1 0,-3A3,3 0 0,1 3,0Z\" style=\"opacity: 1; stroke-width: 0px; fill: rgb(99, 110, 250); fill-opacity: 1;\"/><path class=\"point\" transform=\"translate(507.44,160)\" d=\"M3,0A3,3 0 1,1 0,-3A3,3 0 0,1 3,0Z\" style=\"opacity: 1; stroke-width: 0px; fill: rgb(99, 110, 250); fill-opacity: 1;\"/><path class=\"point\" transform=\"translate(526.1,160)\" d=\"M3,0A3,3 0 1,1 0,-3A3,3 0 0,1 3,0Z\" style=\"opacity: 1; stroke-width: 0px; fill: rgb(99, 110, 250); fill-opacity: 1;\"/><path class=\"point\" transform=\"translate(690.27,160)\" d=\"M3,0A3,3 0 1,1 0,-3A3,3 0 0,1 3,0Z\" style=\"opacity: 1; stroke-width: 0px; fill: rgb(99, 110, 250); fill-opacity: 1;\"/><path class=\"point\" transform=\"translate(779.82,160)\" d=\"M3,0A3,3 0 1,1 0,-3A3,3 0 0,1 3,0Z\" style=\"opacity: 1; stroke-width: 0px; fill: rgb(99, 110, 250); fill-opacity: 1;\"/><path class=\"point\" transform=\"translate(899.22,160)\" d=\"M3,0A3,3 0 1,1 0,-3A3,3 0 0,1 3,0Z\" style=\"opacity: 1; stroke-width: 0px; fill: rgb(99, 110, 250); fill-opacity: 1;\"/><path class=\"point\" transform=\"translate(899.22,160)\" d=\"M3,0A3,3 0 1,1 0,-3A3,3 0 0,1 3,0Z\" style=\"opacity: 1; stroke-width: 0px; fill: rgb(99, 110, 250); fill-opacity: 1;\"/><path class=\"point\" transform=\"translate(1123.09,160)\" d=\"M3,0A3,3 0 1,1 0,-3A3,3 0 0,1 3,0Z\" style=\"opacity: 1; stroke-width: 0px; fill: rgb(99, 110, 250); fill-opacity: 1;\"/></g><g class=\"points\"><path class=\"point\" transform=\"translate(29.85,124.44)\" d=\"M3,0A3,3 0 1,1 0,-3A3,3 0 0,1 3,0Z\" style=\"opacity: 1; stroke-width: 0px; fill: rgb(99, 110, 250); fill-opacity: 1;\"/><path class=\"point\" transform=\"translate(29.85,124.44)\" d=\"M3,0A3,3 0 1,1 0,-3A3,3 0 0,1 3,0Z\" style=\"opacity: 1; stroke-width: 0px; fill: rgb(99, 110, 250); fill-opacity: 1;\"/><path class=\"point\" transform=\"translate(29.85,124.44)\" d=\"M3,0A3,3 0 1,1 0,-3A3,3 0 0,1 3,0Z\" style=\"opacity: 1; stroke-width: 0px; fill: rgb(99, 110, 250); fill-opacity: 1;\"/><path class=\"point\" transform=\"translate(30.6,124.44)\" d=\"M3,0A3,3 0 1,1 0,-3A3,3 0 0,1 3,0Z\" style=\"opacity: 1; stroke-width: 0px; fill: rgb(99, 110, 250); fill-opacity: 1;\"/><path class=\"point\" transform=\"translate(32.09,124.44)\" d=\"M3,0A3,3 0 1,1 0,-3A3,3 0 0,1 3,0Z\" style=\"opacity: 1; stroke-width: 0px; fill: rgb(99, 110, 250); fill-opacity: 1;\"/><path class=\"point\" transform=\"translate(33.58,124.44)\" d=\"M3,0A3,3 0 1,1 0,-3A3,3 0 0,1 3,0Z\" style=\"opacity: 1; stroke-width: 0px; fill: rgb(99, 110, 250); fill-opacity: 1;\"/><path class=\"point\" transform=\"translate(33.58,124.44)\" d=\"M3,0A3,3 0 1,1 0,-3A3,3 0 0,1 3,0Z\" style=\"opacity: 1; stroke-width: 0px; fill: rgb(99, 110, 250); fill-opacity: 1;\"/><path class=\"point\" transform=\"translate(33.58,124.44)\" d=\"M3,0A3,3 0 1,1 0,-3A3,3 0 0,1 3,0Z\" style=\"opacity: 1; stroke-width: 0px; fill: rgb(99, 110, 250); fill-opacity: 1;\"/><path class=\"point\" transform=\"translate(33.58,124.44)\" d=\"M3,0A3,3 0 1,1 0,-3A3,3 0 0,1 3,0Z\" style=\"opacity: 1; stroke-width: 0px; fill: rgb(99, 110, 250); fill-opacity: 1;\"/><path class=\"point\" transform=\"translate(33.58,124.44)\" d=\"M3,0A3,3 0 1,1 0,-3A3,3 0 0,1 3,0Z\" style=\"opacity: 1; stroke-width: 0px; fill: rgb(99, 110, 250); fill-opacity: 1;\"/><path class=\"point\" transform=\"translate(35.82,124.44)\" d=\"M3,0A3,3 0 1,1 0,-3A3,3 0 0,1 3,0Z\" style=\"opacity: 1; stroke-width: 0px; fill: rgb(99, 110, 250); fill-opacity: 1;\"/><path class=\"point\" transform=\"translate(38.06,124.44)\" d=\"M3,0A3,3 0 1,1 0,-3A3,3 0 0,1 3,0Z\" style=\"opacity: 1; stroke-width: 0px; fill: rgb(99, 110, 250); fill-opacity: 1;\"/><path class=\"point\" transform=\"translate(41.04,124.44)\" d=\"M3,0A3,3 0 1,1 0,-3A3,3 0 0,1 3,0Z\" style=\"opacity: 1; stroke-width: 0px; fill: rgb(99, 110, 250); fill-opacity: 1;\"/><path class=\"point\" transform=\"translate(43.28,124.44)\" d=\"M3,0A3,3 0 1,1 0,-3A3,3 0 0,1 3,0Z\" style=\"opacity: 1; stroke-width: 0px; fill: rgb(99, 110, 250); fill-opacity: 1;\"/><path class=\"point\" transform=\"translate(51.49,124.44)\" d=\"M3,0A3,3 0 1,1 0,-3A3,3 0 0,1 3,0Z\" style=\"opacity: 1; stroke-width: 0px; fill: rgb(99, 110, 250); fill-opacity: 1;\"/><path class=\"point\" transform=\"translate(52.98,124.44)\" d=\"M3,0A3,3 0 1,1 0,-3A3,3 0 0,1 3,0Z\" style=\"opacity: 1; stroke-width: 0px; fill: rgb(99, 110, 250); fill-opacity: 1;\"/><path class=\"point\" transform=\"translate(67.16,124.44)\" d=\"M3,0A3,3 0 1,1 0,-3A3,3 0 0,1 3,0Z\" style=\"opacity: 1; stroke-width: 0px; fill: rgb(99, 110, 250); fill-opacity: 1;\"/><path class=\"point\" transform=\"translate(152.98,124.44)\" d=\"M3,0A3,3 0 1,1 0,-3A3,3 0 0,1 3,0Z\" style=\"opacity: 1; stroke-width: 0px; fill: rgb(99, 110, 250); fill-opacity: 1;\"/></g><g class=\"points\"><path class=\"point\" transform=\"translate(138.05,88.89)\" d=\"M3,0A3,3 0 1,1 0,-3A3,3 0 0,1 3,0Z\" style=\"opacity: 1; stroke-width: 0px; fill: rgb(99, 110, 250); fill-opacity: 1;\"/><path class=\"point\" transform=\"translate(138.05,88.89)\" d=\"M3,0A3,3 0 1,1 0,-3A3,3 0 0,1 3,0Z\" style=\"opacity: 1; stroke-width: 0px; fill: rgb(99, 110, 250); fill-opacity: 1;\"/><path class=\"point\" transform=\"translate(141.78,88.89)\" d=\"M3,0A3,3 0 1,1 0,-3A3,3 0 0,1 3,0Z\" style=\"opacity: 1; stroke-width: 0px; fill: rgb(99, 110, 250); fill-opacity: 1;\"/><path class=\"point\" transform=\"translate(145.52,88.89)\" d=\"M3,0A3,3 0 1,1 0,-3A3,3 0 0,1 3,0Z\" style=\"opacity: 1; stroke-width: 0px; fill: rgb(99, 110, 250); fill-opacity: 1;\"/><path class=\"point\" transform=\"translate(152.98,88.89)\" d=\"M3,0A3,3 0 1,1 0,-3A3,3 0 0,1 3,0Z\" style=\"opacity: 1; stroke-width: 0px; fill: rgb(99, 110, 250); fill-opacity: 1;\"/><path class=\"point\" transform=\"translate(152.98,88.89)\" d=\"M3,0A3,3 0 1,1 0,-3A3,3 0 0,1 3,0Z\" style=\"opacity: 1; stroke-width: 0px; fill: rgb(99, 110, 250); fill-opacity: 1;\"/><path class=\"point\" transform=\"translate(152.98,88.89)\" d=\"M3,0A3,3 0 1,1 0,-3A3,3 0 0,1 3,0Z\" style=\"opacity: 1; stroke-width: 0px; fill: rgb(99, 110, 250); fill-opacity: 1;\"/><path class=\"point\" transform=\"translate(152.98,88.89)\" d=\"M3,0A3,3 0 1,1 0,-3A3,3 0 0,1 3,0Z\" style=\"opacity: 1; stroke-width: 0px; fill: rgb(99, 110, 250); fill-opacity: 1;\"/><path class=\"point\" transform=\"translate(152.98,88.89)\" d=\"M3,0A3,3 0 1,1 0,-3A3,3 0 0,1 3,0Z\" style=\"opacity: 1; stroke-width: 0px; fill: rgb(99, 110, 250); fill-opacity: 1;\"/><path class=\"point\" transform=\"translate(152.98,88.89)\" d=\"M3,0A3,3 0 1,1 0,-3A3,3 0 0,1 3,0Z\" style=\"opacity: 1; stroke-width: 0px; fill: rgb(99, 110, 250); fill-opacity: 1;\"/><path class=\"point\" transform=\"translate(160.44,88.89)\" d=\"M3,0A3,3 0 1,1 0,-3A3,3 0 0,1 3,0Z\" style=\"opacity: 1; stroke-width: 0px; fill: rgb(99, 110, 250); fill-opacity: 1;\"/><path class=\"point\" transform=\"translate(160.44,88.89)\" d=\"M3,0A3,3 0 1,1 0,-3A3,3 0 0,1 3,0Z\" style=\"opacity: 1; stroke-width: 0px; fill: rgb(99, 110, 250); fill-opacity: 1;\"/><path class=\"point\" transform=\"translate(160.44,88.89)\" d=\"M3,0A3,3 0 1,1 0,-3A3,3 0 0,1 3,0Z\" style=\"opacity: 1; stroke-width: 0px; fill: rgb(99, 110, 250); fill-opacity: 1;\"/><path class=\"point\" transform=\"translate(173.87,88.89)\" d=\"M3,0A3,3 0 1,1 0,-3A3,3 0 0,1 3,0Z\" style=\"opacity: 1; stroke-width: 0px; fill: rgb(99, 110, 250); fill-opacity: 1;\"/><path class=\"point\" transform=\"translate(173.87,88.89)\" d=\"M3,0A3,3 0 1,1 0,-3A3,3 0 0,1 3,0Z\" style=\"opacity: 1; stroke-width: 0px; fill: rgb(99, 110, 250); fill-opacity: 1;\"/><path class=\"point\" transform=\"translate(180.59,88.89)\" d=\"M3,0A3,3 0 1,1 0,-3A3,3 0 0,1 3,0Z\" style=\"opacity: 1; stroke-width: 0px; fill: rgb(99, 110, 250); fill-opacity: 1;\"/><path class=\"point\" transform=\"translate(182.83,88.89)\" d=\"M3,0A3,3 0 1,1 0,-3A3,3 0 0,1 3,0Z\" style=\"opacity: 1; stroke-width: 0px; fill: rgb(99, 110, 250); fill-opacity: 1;\"/><path class=\"point\" transform=\"translate(182.83,88.89)\" d=\"M3,0A3,3 0 1,1 0,-3A3,3 0 0,1 3,0Z\" style=\"opacity: 1; stroke-width: 0px; fill: rgb(99, 110, 250); fill-opacity: 1;\"/><path class=\"point\" transform=\"translate(182.83,88.89)\" d=\"M3,0A3,3 0 1,1 0,-3A3,3 0 0,1 3,0Z\" style=\"opacity: 1; stroke-width: 0px; fill: rgb(99, 110, 250); fill-opacity: 1;\"/><path class=\"point\" transform=\"translate(182.83,88.89)\" d=\"M3,0A3,3 0 1,1 0,-3A3,3 0 0,1 3,0Z\" style=\"opacity: 1; stroke-width: 0px; fill: rgb(99, 110, 250); fill-opacity: 1;\"/><path class=\"point\" transform=\"translate(188.8,88.89)\" d=\"M3,0A3,3 0 1,1 0,-3A3,3 0 0,1 3,0Z\" style=\"opacity: 1; stroke-width: 0px; fill: rgb(99, 110, 250); fill-opacity: 1;\"/><path class=\"point\" transform=\"translate(190.29,88.89)\" d=\"M3,0A3,3 0 1,1 0,-3A3,3 0 0,1 3,0Z\" style=\"opacity: 1; stroke-width: 0px; fill: rgb(99, 110, 250); fill-opacity: 1;\"/><path class=\"point\" transform=\"translate(190.29,88.89)\" d=\"M3,0A3,3 0 1,1 0,-3A3,3 0 0,1 3,0Z\" style=\"opacity: 1; stroke-width: 0px; fill: rgb(99, 110, 250); fill-opacity: 1;\"/><path class=\"point\" transform=\"translate(190.29,88.89)\" d=\"M3,0A3,3 0 1,1 0,-3A3,3 0 0,1 3,0Z\" style=\"opacity: 1; stroke-width: 0px; fill: rgb(99, 110, 250); fill-opacity: 1;\"/><path class=\"point\" transform=\"translate(190.29,88.89)\" d=\"M3,0A3,3 0 1,1 0,-3A3,3 0 0,1 3,0Z\" style=\"opacity: 1; stroke-width: 0px; fill: rgb(99, 110, 250); fill-opacity: 1;\"/><path class=\"point\" transform=\"translate(220.14,88.89)\" d=\"M3,0A3,3 0 1,1 0,-3A3,3 0 0,1 3,0Z\" style=\"opacity: 1; stroke-width: 0px; fill: rgb(99, 110, 250); fill-opacity: 1;\"/><path class=\"point\" transform=\"translate(220.14,88.89)\" d=\"M3,0A3,3 0 1,1 0,-3A3,3 0 0,1 3,0Z\" style=\"opacity: 1; stroke-width: 0px; fill: rgb(99, 110, 250); fill-opacity: 1;\"/><path class=\"point\" transform=\"translate(227.6,88.89)\" d=\"M3,0A3,3 0 1,1 0,-3A3,3 0 0,1 3,0Z\" style=\"opacity: 1; stroke-width: 0px; fill: rgb(99, 110, 250); fill-opacity: 1;\"/><path class=\"point\" transform=\"translate(227.6,88.89)\" d=\"M3,0A3,3 0 1,1 0,-3A3,3 0 0,1 3,0Z\" style=\"opacity: 1; stroke-width: 0px; fill: rgb(99, 110, 250); fill-opacity: 1;\"/><path class=\"point\" transform=\"translate(242.53,88.89)\" d=\"M3,0A3,3 0 1,1 0,-3A3,3 0 0,1 3,0Z\" style=\"opacity: 1; stroke-width: 0px; fill: rgb(99, 110, 250); fill-opacity: 1;\"/></g><g class=\"points\"><path class=\"point\" transform=\"translate(76.86,53.33)\" d=\"M3,0A3,3 0 1,1 0,-3A3,3 0 0,1 3,0Z\" style=\"opacity: 1; stroke-width: 0px; fill: rgb(99, 110, 250); fill-opacity: 1;\"/><path class=\"point\" transform=\"translate(78.35,53.33)\" d=\"M3,0A3,3 0 1,1 0,-3A3,3 0 0,1 3,0Z\" style=\"opacity: 1; stroke-width: 0px; fill: rgb(99, 110, 250); fill-opacity: 1;\"/><path class=\"point\" transform=\"translate(78.35,53.33)\" d=\"M3,0A3,3 0 1,1 0,-3A3,3 0 0,1 3,0Z\" style=\"opacity: 1; stroke-width: 0px; fill: rgb(99, 110, 250); fill-opacity: 1;\"/><path class=\"point\" transform=\"translate(78.35,53.33)\" d=\"M3,0A3,3 0 1,1 0,-3A3,3 0 0,1 3,0Z\" style=\"opacity: 1; stroke-width: 0px; fill: rgb(99, 110, 250); fill-opacity: 1;\"/><path class=\"point\" transform=\"translate(78.35,53.33)\" d=\"M3,0A3,3 0 1,1 0,-3A3,3 0 0,1 3,0Z\" style=\"opacity: 1; stroke-width: 0px; fill: rgb(99, 110, 250); fill-opacity: 1;\"/><path class=\"point\" transform=\"translate(78.35,53.33)\" d=\"M3,0A3,3 0 1,1 0,-3A3,3 0 0,1 3,0Z\" style=\"opacity: 1; stroke-width: 0px; fill: rgb(99, 110, 250); fill-opacity: 1;\"/><path class=\"point\" transform=\"translate(78.35,53.33)\" d=\"M3,0A3,3 0 1,1 0,-3A3,3 0 0,1 3,0Z\" style=\"opacity: 1; stroke-width: 0px; fill: rgb(99, 110, 250); fill-opacity: 1;\"/><path class=\"point\" transform=\"translate(78.35,53.33)\" d=\"M3,0A3,3 0 1,1 0,-3A3,3 0 0,1 3,0Z\" style=\"opacity: 1; stroke-width: 0px; fill: rgb(99, 110, 250); fill-opacity: 1;\"/><path class=\"point\" transform=\"translate(78.35,53.33)\" d=\"M3,0A3,3 0 1,1 0,-3A3,3 0 0,1 3,0Z\" style=\"opacity: 1; stroke-width: 0px; fill: rgb(99, 110, 250); fill-opacity: 1;\"/><path class=\"point\" transform=\"translate(78.35,53.33)\" d=\"M3,0A3,3 0 1,1 0,-3A3,3 0 0,1 3,0Z\" style=\"opacity: 1; stroke-width: 0px; fill: rgb(99, 110, 250); fill-opacity: 1;\"/><path class=\"point\" transform=\"translate(78.35,53.33)\" d=\"M3,0A3,3 0 1,1 0,-3A3,3 0 0,1 3,0Z\" style=\"opacity: 1; stroke-width: 0px; fill: rgb(99, 110, 250); fill-opacity: 1;\"/><path class=\"point\" transform=\"translate(78.35,53.33)\" d=\"M3,0A3,3 0 1,1 0,-3A3,3 0 0,1 3,0Z\" style=\"opacity: 1; stroke-width: 0px; fill: rgb(99, 110, 250); fill-opacity: 1;\"/><path class=\"point\" transform=\"translate(78.35,53.33)\" d=\"M3,0A3,3 0 1,1 0,-3A3,3 0 0,1 3,0Z\" style=\"opacity: 1; stroke-width: 0px; fill: rgb(99, 110, 250); fill-opacity: 1;\"/><path class=\"point\" transform=\"translate(79.85,53.33)\" d=\"M3,0A3,3 0 1,1 0,-3A3,3 0 0,1 3,0Z\" style=\"opacity: 1; stroke-width: 0px; fill: rgb(99, 110, 250); fill-opacity: 1;\"/><path class=\"point\" transform=\"translate(79.85,53.33)\" d=\"M3,0A3,3 0 1,1 0,-3A3,3 0 0,1 3,0Z\" style=\"opacity: 1; stroke-width: 0px; fill: rgb(99, 110, 250); fill-opacity: 1;\"/><path class=\"point\" transform=\"translate(87.31,53.33)\" d=\"M3,0A3,3 0 1,1 0,-3A3,3 0 0,1 3,0Z\" style=\"opacity: 1; stroke-width: 0px; fill: rgb(99, 110, 250); fill-opacity: 1;\"/><path class=\"point\" transform=\"translate(89.55,53.33)\" d=\"M3,0A3,3 0 1,1 0,-3A3,3 0 0,1 3,0Z\" style=\"opacity: 1; stroke-width: 0px; fill: rgb(99, 110, 250); fill-opacity: 1;\"/><path class=\"point\" transform=\"translate(90.29,53.33)\" d=\"M3,0A3,3 0 1,1 0,-3A3,3 0 0,1 3,0Z\" style=\"opacity: 1; stroke-width: 0px; fill: rgb(99, 110, 250); fill-opacity: 1;\"/><path class=\"point\" transform=\"translate(93.28,53.33)\" d=\"M3,0A3,3 0 1,1 0,-3A3,3 0 0,1 3,0Z\" style=\"opacity: 1; stroke-width: 0px; fill: rgb(99, 110, 250); fill-opacity: 1;\"/><path class=\"point\" transform=\"translate(93.28,53.33)\" d=\"M3,0A3,3 0 1,1 0,-3A3,3 0 0,1 3,0Z\" style=\"opacity: 1; stroke-width: 0px; fill: rgb(99, 110, 250); fill-opacity: 1;\"/><path class=\"point\" transform=\"translate(93.28,53.33)\" d=\"M3,0A3,3 0 1,1 0,-3A3,3 0 0,1 3,0Z\" style=\"opacity: 1; stroke-width: 0px; fill: rgb(99, 110, 250); fill-opacity: 1;\"/><path class=\"point\" transform=\"translate(93.28,53.33)\" d=\"M3,0A3,3 0 1,1 0,-3A3,3 0 0,1 3,0Z\" style=\"opacity: 1; stroke-width: 0px; fill: rgb(99, 110, 250); fill-opacity: 1;\"/><path class=\"point\" transform=\"translate(93.28,53.33)\" d=\"M3,0A3,3 0 1,1 0,-3A3,3 0 0,1 3,0Z\" style=\"opacity: 1; stroke-width: 0px; fill: rgb(99, 110, 250); fill-opacity: 1;\"/><path class=\"point\" transform=\"translate(93.28,53.33)\" d=\"M3,0A3,3 0 1,1 0,-3A3,3 0 0,1 3,0Z\" style=\"opacity: 1; stroke-width: 0px; fill: rgb(99, 110, 250); fill-opacity: 1;\"/><path class=\"point\" transform=\"translate(93.28,53.33)\" d=\"M3,0A3,3 0 1,1 0,-3A3,3 0 0,1 3,0Z\" style=\"opacity: 1; stroke-width: 0px; fill: rgb(99, 110, 250); fill-opacity: 1;\"/><path class=\"point\" transform=\"translate(93.28,53.33)\" d=\"M3,0A3,3 0 1,1 0,-3A3,3 0 0,1 3,0Z\" style=\"opacity: 1; stroke-width: 0px; fill: rgb(99, 110, 250); fill-opacity: 1;\"/><path class=\"point\" transform=\"translate(93.28,53.33)\" d=\"M3,0A3,3 0 1,1 0,-3A3,3 0 0,1 3,0Z\" style=\"opacity: 1; stroke-width: 0px; fill: rgb(99, 110, 250); fill-opacity: 1;\"/><path class=\"point\" transform=\"translate(93.28,53.33)\" d=\"M3,0A3,3 0 1,1 0,-3A3,3 0 0,1 3,0Z\" style=\"opacity: 1; stroke-width: 0px; fill: rgb(99, 110, 250); fill-opacity: 1;\"/><path class=\"point\" transform=\"translate(93.28,53.33)\" d=\"M3,0A3,3 0 1,1 0,-3A3,3 0 0,1 3,0Z\" style=\"opacity: 1; stroke-width: 0px; fill: rgb(99, 110, 250); fill-opacity: 1;\"/><path class=\"point\" transform=\"translate(93.28,53.33)\" d=\"M3,0A3,3 0 1,1 0,-3A3,3 0 0,1 3,0Z\" style=\"opacity: 1; stroke-width: 0px; fill: rgb(99, 110, 250); fill-opacity: 1;\"/><path class=\"point\" transform=\"translate(97.01,53.33)\" d=\"M3,0A3,3 0 1,1 0,-3A3,3 0 0,1 3,0Z\" style=\"opacity: 1; stroke-width: 0px; fill: rgb(99, 110, 250); fill-opacity: 1;\"/><path class=\"point\" transform=\"translate(99.25,53.33)\" d=\"M3,0A3,3 0 1,1 0,-3A3,3 0 0,1 3,0Z\" style=\"opacity: 1; stroke-width: 0px; fill: rgb(99, 110, 250); fill-opacity: 1;\"/><path class=\"point\" transform=\"translate(100.74,53.33)\" d=\"M3,0A3,3 0 1,1 0,-3A3,3 0 0,1 3,0Z\" style=\"opacity: 1; stroke-width: 0px; fill: rgb(99, 110, 250); fill-opacity: 1;\"/><path class=\"point\" transform=\"translate(100.74,53.33)\" d=\"M3,0A3,3 0 1,1 0,-3A3,3 0 0,1 3,0Z\" style=\"opacity: 1; stroke-width: 0px; fill: rgb(99, 110, 250); fill-opacity: 1;\"/><path class=\"point\" transform=\"translate(100.74,53.33)\" d=\"M3,0A3,3 0 1,1 0,-3A3,3 0 0,1 3,0Z\" style=\"opacity: 1; stroke-width: 0px; fill: rgb(99, 110, 250); fill-opacity: 1;\"/><path class=\"point\" transform=\"translate(102.23,53.33)\" d=\"M3,0A3,3 0 1,1 0,-3A3,3 0 0,1 3,0Z\" style=\"opacity: 1; stroke-width: 0px; fill: rgb(99, 110, 250); fill-opacity: 1;\"/><path class=\"point\" transform=\"translate(114.17,53.33)\" d=\"M3,0A3,3 0 1,1 0,-3A3,3 0 0,1 3,0Z\" style=\"opacity: 1; stroke-width: 0px; fill: rgb(99, 110, 250); fill-opacity: 1;\"/><path class=\"point\" transform=\"translate(115.67,53.33)\" d=\"M3,0A3,3 0 1,1 0,-3A3,3 0 0,1 3,0Z\" style=\"opacity: 1; stroke-width: 0px; fill: rgb(99, 110, 250); fill-opacity: 1;\"/><path class=\"point\" transform=\"translate(115.67,53.33)\" d=\"M3,0A3,3 0 1,1 0,-3A3,3 0 0,1 3,0Z\" style=\"opacity: 1; stroke-width: 0px; fill: rgb(99, 110, 250); fill-opacity: 1;\"/><path class=\"point\" transform=\"translate(115.67,53.33)\" d=\"M3,0A3,3 0 1,1 0,-3A3,3 0 0,1 3,0Z\" style=\"opacity: 1; stroke-width: 0px; fill: rgb(99, 110, 250); fill-opacity: 1;\"/><path class=\"point\" transform=\"translate(115.67,53.33)\" d=\"M3,0A3,3 0 1,1 0,-3A3,3 0 0,1 3,0Z\" style=\"opacity: 1; stroke-width: 0px; fill: rgb(99, 110, 250); fill-opacity: 1;\"/><path class=\"point\" transform=\"translate(115.67,53.33)\" d=\"M3,0A3,3 0 1,1 0,-3A3,3 0 0,1 3,0Z\" style=\"opacity: 1; stroke-width: 0px; fill: rgb(99, 110, 250); fill-opacity: 1;\"/><path class=\"point\" transform=\"translate(115.67,53.33)\" d=\"M3,0A3,3 0 1,1 0,-3A3,3 0 0,1 3,0Z\" style=\"opacity: 1; stroke-width: 0px; fill: rgb(99, 110, 250); fill-opacity: 1;\"/><path class=\"point\" transform=\"translate(115.67,53.33)\" d=\"M3,0A3,3 0 1,1 0,-3A3,3 0 0,1 3,0Z\" style=\"opacity: 1; stroke-width: 0px; fill: rgb(99, 110, 250); fill-opacity: 1;\"/><path class=\"point\" transform=\"translate(115.67,53.33)\" d=\"M3,0A3,3 0 1,1 0,-3A3,3 0 0,1 3,0Z\" style=\"opacity: 1; stroke-width: 0px; fill: rgb(99, 110, 250); fill-opacity: 1;\"/><path class=\"point\" transform=\"translate(123.13,53.33)\" d=\"M3,0A3,3 0 1,1 0,-3A3,3 0 0,1 3,0Z\" style=\"opacity: 1; stroke-width: 0px; fill: rgb(99, 110, 250); fill-opacity: 1;\"/><path class=\"point\" transform=\"translate(136.56,53.33)\" d=\"M3,0A3,3 0 1,1 0,-3A3,3 0 0,1 3,0Z\" style=\"opacity: 1; stroke-width: 0px; fill: rgb(99, 110, 250); fill-opacity: 1;\"/><path class=\"point\" transform=\"translate(138.05,53.33)\" d=\"M3,0A3,3 0 1,1 0,-3A3,3 0 0,1 3,0Z\" style=\"opacity: 1; stroke-width: 0px; fill: rgb(99, 110, 250); fill-opacity: 1;\"/><path class=\"point\" transform=\"translate(152.98,53.33)\" d=\"M3,0A3,3 0 1,1 0,-3A3,3 0 0,1 3,0Z\" style=\"opacity: 1; stroke-width: 0px; fill: rgb(99, 110, 250); fill-opacity: 1;\"/><path class=\"point\" transform=\"translate(152.98,53.33)\" d=\"M3,0A3,3 0 1,1 0,-3A3,3 0 0,1 3,0Z\" style=\"opacity: 1; stroke-width: 0px; fill: rgb(99, 110, 250); fill-opacity: 1;\"/><path class=\"point\" transform=\"translate(167.9,53.33)\" d=\"M3,0A3,3 0 1,1 0,-3A3,3 0 0,1 3,0Z\" style=\"opacity: 1; stroke-width: 0px; fill: rgb(99, 110, 250); fill-opacity: 1;\"/><path class=\"point\" transform=\"translate(190.29,53.33)\" d=\"M3,0A3,3 0 1,1 0,-3A3,3 0 0,1 3,0Z\" style=\"opacity: 1; stroke-width: 0px; fill: rgb(99, 110, 250); fill-opacity: 1;\"/><path class=\"point\" transform=\"translate(190.29,53.33)\" d=\"M3,0A3,3 0 1,1 0,-3A3,3 0 0,1 3,0Z\" style=\"opacity: 1; stroke-width: 0px; fill: rgb(99, 110, 250); fill-opacity: 1;\"/><path class=\"point\" transform=\"translate(190.29,53.33)\" d=\"M3,0A3,3 0 1,1 0,-3A3,3 0 0,1 3,0Z\" style=\"opacity: 1; stroke-width: 0px; fill: rgb(99, 110, 250); fill-opacity: 1;\"/><path class=\"point\" transform=\"translate(195.51,53.33)\" d=\"M3,0A3,3 0 1,1 0,-3A3,3 0 0,1 3,0Z\" style=\"opacity: 1; stroke-width: 0px; fill: rgb(99, 110, 250); fill-opacity: 1;\"/><path class=\"point\" transform=\"translate(212.68,53.33)\" d=\"M3,0A3,3 0 1,1 0,-3A3,3 0 0,1 3,0Z\" style=\"opacity: 1; stroke-width: 0px; fill: rgb(99, 110, 250); fill-opacity: 1;\"/><path class=\"point\" transform=\"translate(1272.33,53.33)\" d=\"M3,0A3,3 0 1,1 0,-3A3,3 0 0,1 3,0Z\" style=\"opacity: 1; stroke-width: 0px; fill: rgb(99, 110, 250); fill-opacity: 1;\"/></g><g class=\"points\"><path class=\"point\" transform=\"translate(20.15,17.78)\" d=\"M3,0A3,3 0 1,1 0,-3A3,3 0 0,1 3,0Z\" style=\"opacity: 1; stroke-width: 0px; fill: rgb(99, 110, 250); fill-opacity: 1;\"/><path class=\"point\" transform=\"translate(20.89,17.78)\" d=\"M3,0A3,3 0 1,1 0,-3A3,3 0 0,1 3,0Z\" style=\"opacity: 1; stroke-width: 0px; fill: rgb(99, 110, 250); fill-opacity: 1;\"/><path class=\"point\" transform=\"translate(21.64,17.78)\" d=\"M3,0A3,3 0 1,1 0,-3A3,3 0 0,1 3,0Z\" style=\"opacity: 1; stroke-width: 0px; fill: rgb(99, 110, 250); fill-opacity: 1;\"/><path class=\"point\" transform=\"translate(21.64,17.78)\" d=\"M3,0A3,3 0 1,1 0,-3A3,3 0 0,1 3,0Z\" style=\"opacity: 1; stroke-width: 0px; fill: rgb(99, 110, 250); fill-opacity: 1;\"/><path class=\"point\" transform=\"translate(22.39,17.78)\" d=\"M3,0A3,3 0 1,1 0,-3A3,3 0 0,1 3,0Z\" style=\"opacity: 1; stroke-width: 0px; fill: rgb(99, 110, 250); fill-opacity: 1;\"/><path class=\"point\" transform=\"translate(22.39,17.78)\" d=\"M3,0A3,3 0 1,1 0,-3A3,3 0 0,1 3,0Z\" style=\"opacity: 1; stroke-width: 0px; fill: rgb(99, 110, 250); fill-opacity: 1;\"/><path class=\"point\" transform=\"translate(24.63,17.78)\" d=\"M3,0A3,3 0 1,1 0,-3A3,3 0 0,1 3,0Z\" style=\"opacity: 1; stroke-width: 0px; fill: rgb(99, 110, 250); fill-opacity: 1;\"/><path class=\"point\" transform=\"translate(24.63,17.78)\" d=\"M3,0A3,3 0 1,1 0,-3A3,3 0 0,1 3,0Z\" style=\"opacity: 1; stroke-width: 0px; fill: rgb(99, 110, 250); fill-opacity: 1;\"/><path class=\"point\" transform=\"translate(26.12,17.78)\" d=\"M3,0A3,3 0 1,1 0,-3A3,3 0 0,1 3,0Z\" style=\"opacity: 1; stroke-width: 0px; fill: rgb(99, 110, 250); fill-opacity: 1;\"/><path class=\"point\" transform=\"translate(26.12,17.78)\" d=\"M3,0A3,3 0 1,1 0,-3A3,3 0 0,1 3,0Z\" style=\"opacity: 1; stroke-width: 0px; fill: rgb(99, 110, 250); fill-opacity: 1;\"/><path class=\"point\" transform=\"translate(26.12,17.78)\" d=\"M3,0A3,3 0 1,1 0,-3A3,3 0 0,1 3,0Z\" style=\"opacity: 1; stroke-width: 0px; fill: rgb(99, 110, 250); fill-opacity: 1;\"/><path class=\"point\" transform=\"translate(26.12,17.78)\" d=\"M3,0A3,3 0 1,1 0,-3A3,3 0 0,1 3,0Z\" style=\"opacity: 1; stroke-width: 0px; fill: rgb(99, 110, 250); fill-opacity: 1;\"/><path class=\"point\" transform=\"translate(26.12,17.78)\" d=\"M3,0A3,3 0 1,1 0,-3A3,3 0 0,1 3,0Z\" style=\"opacity: 1; stroke-width: 0px; fill: rgb(99, 110, 250); fill-opacity: 1;\"/><path class=\"point\" transform=\"translate(29.85,17.78)\" d=\"M3,0A3,3 0 1,1 0,-3A3,3 0 0,1 3,0Z\" style=\"opacity: 1; stroke-width: 0px; fill: rgb(99, 110, 250); fill-opacity: 1;\"/><path class=\"point\" transform=\"translate(33.58,17.78)\" d=\"M3,0A3,3 0 1,1 0,-3A3,3 0 0,1 3,0Z\" style=\"opacity: 1; stroke-width: 0px; fill: rgb(99, 110, 250); fill-opacity: 1;\"/><path class=\"point\" transform=\"translate(33.58,17.78)\" d=\"M3,0A3,3 0 1,1 0,-3A3,3 0 0,1 3,0Z\" style=\"opacity: 1; stroke-width: 0px; fill: rgb(99, 110, 250); fill-opacity: 1;\"/><path class=\"point\" transform=\"translate(33.58,17.78)\" d=\"M3,0A3,3 0 1,1 0,-3A3,3 0 0,1 3,0Z\" style=\"opacity: 1; stroke-width: 0px; fill: rgb(99, 110, 250); fill-opacity: 1;\"/><path class=\"point\" transform=\"translate(37.31,17.78)\" d=\"M3,0A3,3 0 1,1 0,-3A3,3 0 0,1 3,0Z\" style=\"opacity: 1; stroke-width: 0px; fill: rgb(99, 110, 250); fill-opacity: 1;\"/><path class=\"point\" transform=\"translate(37.31,17.78)\" d=\"M3,0A3,3 0 1,1 0,-3A3,3 0 0,1 3,0Z\" style=\"opacity: 1; stroke-width: 0px; fill: rgb(99, 110, 250); fill-opacity: 1;\"/><path class=\"point\" transform=\"translate(37.31,17.78)\" d=\"M3,0A3,3 0 1,1 0,-3A3,3 0 0,1 3,0Z\" style=\"opacity: 1; stroke-width: 0px; fill: rgb(99, 110, 250); fill-opacity: 1;\"/><path class=\"point\" transform=\"translate(39.55,17.78)\" d=\"M3,0A3,3 0 1,1 0,-3A3,3 0 0,1 3,0Z\" style=\"opacity: 1; stroke-width: 0px; fill: rgb(99, 110, 250); fill-opacity: 1;\"/><path class=\"point\" transform=\"translate(41.04,17.78)\" d=\"M3,0A3,3 0 1,1 0,-3A3,3 0 0,1 3,0Z\" style=\"opacity: 1; stroke-width: 0px; fill: rgb(99, 110, 250); fill-opacity: 1;\"/></g></g></g></g><g class=\"overplot\"/><path class=\"xlines-above crisp\" d=\"M0,0\" style=\"fill: none;\"/><path class=\"ylines-above crisp\" d=\"M0,0\" style=\"fill: none;\"/><g class=\"overlines-above\"/><g class=\"xaxislayer-above\"><g class=\"xtick\"><text text-anchor=\"middle\" x=\"0\" y=\"433\" transform=\"translate(276.73,0)\" style=\"font-family: 'Open Sans', verdana, arial, sans-serif; font-size: 12px; fill: rgb(42, 63, 95); fill-opacity: 1; white-space: pre; opacity: 1;\">0</text></g><g class=\"xtick\"><text text-anchor=\"middle\" x=\"0\" y=\"433\" style=\"font-family: 'Open Sans', verdana, arial, sans-serif; font-size: 12px; fill: rgb(42, 63, 95); fill-opacity: 1; white-space: pre; opacity: 1;\" transform=\"translate(351.35,0)\">100</text></g><g class=\"xtick\"><text text-anchor=\"middle\" x=\"0\" y=\"433\" style=\"font-family: 'Open Sans', verdana, arial, sans-serif; font-size: 12px; fill: rgb(42, 63, 95); fill-opacity: 1; white-space: pre; opacity: 1;\" transform=\"translate(425.98,0)\">200</text></g><g class=\"xtick\"><text text-anchor=\"middle\" x=\"0\" y=\"433\" style=\"font-family: 'Open Sans', verdana, arial, sans-serif; font-size: 12px; fill: rgb(42, 63, 95); fill-opacity: 1; white-space: pre; opacity: 1;\" transform=\"translate(500.6,0)\">300</text></g><g class=\"xtick\"><text text-anchor=\"middle\" x=\"0\" y=\"433\" style=\"font-family: 'Open Sans', verdana, arial, sans-serif; font-size: 12px; fill: rgb(42, 63, 95); fill-opacity: 1; white-space: pre; opacity: 1;\" transform=\"translate(575.23,0)\">400</text></g></g><g class=\"yaxislayer-above\"><g class=\"ytick\"><text text-anchor=\"end\" x=\"272\" y=\"4.199999999999999\" transform=\"translate(0,402.22)\" style=\"font-family: 'Open Sans', verdana, arial, sans-serif; font-size: 12px; fill: rgb(42, 63, 95); fill-opacity: 1; white-space: pre; opacity: 1;\">кафе</text></g><g class=\"ytick\"><text text-anchor=\"end\" x=\"272\" y=\"4.199999999999999\" transform=\"translate(0,366.67)\" style=\"font-family: 'Open Sans', verdana, arial, sans-serif; font-size: 12px; fill: rgb(42, 63, 95); fill-opacity: 1; white-space: pre; opacity: 1;\">столовая</text></g><g class=\"ytick\"><text text-anchor=\"end\" x=\"272\" y=\"4.199999999999999\" transform=\"translate(0,331.11)\" style=\"font-family: 'Open Sans', verdana, arial, sans-serif; font-size: 12px; fill: rgb(42, 63, 95); fill-opacity: 1; white-space: pre; opacity: 1;\">закусочная</text></g><g class=\"ytick\"><text text-anchor=\"end\" x=\"272\" y=\"4.199999999999999\" transform=\"translate(0,295.56)\" style=\"font-family: 'Open Sans', verdana, arial, sans-serif; font-size: 12px; fill: rgb(42, 63, 95); fill-opacity: 1; white-space: pre; opacity: 1;\">предприятие быстрого обслуживания</text></g><g class=\"ytick\"><text text-anchor=\"end\" x=\"272\" y=\"4.199999999999999\" transform=\"translate(0,260)\" style=\"font-family: 'Open Sans', verdana, arial, sans-serif; font-size: 12px; fill: rgb(42, 63, 95); fill-opacity: 1; white-space: pre; opacity: 1;\">ресторан</text></g><g class=\"ytick\"><text text-anchor=\"end\" x=\"272\" y=\"4.199999999999999\" transform=\"translate(0,224.44)\" style=\"font-family: 'Open Sans', verdana, arial, sans-serif; font-size: 12px; fill: rgb(42, 63, 95); fill-opacity: 1; white-space: pre; opacity: 1;\">кафетерий</text></g><g class=\"ytick\"><text text-anchor=\"end\" x=\"272\" y=\"4.199999999999999\" transform=\"translate(0,188.89)\" style=\"font-family: 'Open Sans', verdana, arial, sans-serif; font-size: 12px; fill: rgb(42, 63, 95); fill-opacity: 1; white-space: pre; opacity: 1;\">буфет</text></g><g class=\"ytick\"><text text-anchor=\"end\" x=\"272\" y=\"4.199999999999999\" transform=\"translate(0,153.32999999999998)\" style=\"font-family: 'Open Sans', verdana, arial, sans-serif; font-size: 12px; fill: rgb(42, 63, 95); fill-opacity: 1; white-space: pre; opacity: 1;\">бар</text></g><g class=\"ytick\"><text text-anchor=\"end\" x=\"272\" y=\"4.199999999999999\" transform=\"translate(0,117.78)\" style=\"font-family: 'Open Sans', verdana, arial, sans-serif; font-size: 12px; fill: rgb(42, 63, 95); fill-opacity: 1; white-space: pre; opacity: 1;\">магазин (отдел кулинарии)</text></g></g><g class=\"overaxes-above\"/></g></g><g class=\"polarlayer\"/><g class=\"ternarylayer\"/><g class=\"geolayer\"/><g class=\"funnelarealayer\"/><g class=\"pielayer\"/><g class=\"iciclelayer\"/><g class=\"treemaplayer\"/><g class=\"sunburstlayer\"/><g class=\"glimages\"/><defs id=\"topdefs-323764\"><g class=\"clips\"/></defs><g class=\"layer-above\"><g class=\"imagelayer\"/><g class=\"shapelayer\"/></g><g class=\"infolayer\"><g class=\"g-gtitle\"><text class=\"gtitle\" x=\"35\" y=\"50\" text-anchor=\"start\" dy=\"0em\" style=\"font-family: 'Open Sans', verdana, arial, sans-serif; font-size: 17px; fill: rgb(42, 63, 95); opacity: 1; font-weight: normal; white-space: pre;\">Диаграмма размаха по видам объектов общественного питания</text></g><g class=\"g-xtitle\"><text class=\"xtitle\" x=\"446.5\" y=\"460.8\" text-anchor=\"middle\" style=\"font-family: 'Open Sans', verdana, arial, sans-serif; font-size: 14px; fill: rgb(42, 63, 95); opacity: 1; font-weight: normal; white-space: pre;\">number</text></g><g class=\"g-ytitle\" transform=\"translate(2.4560546875,0)\"><text class=\"ytitle\" transform=\"rotate(-90,11.543749999999989,260)\" x=\"11.543749999999989\" y=\"260\" text-anchor=\"middle\" style=\"font-family: 'Open Sans', verdana, arial, sans-serif; font-size: 14px; fill: rgb(42, 63, 95); opacity: 1; font-weight: normal; white-space: pre;\">object_type</text></g></g></svg>"
      ]
     },
     "metadata": {},
     "output_type": "display_data"
    }
   ],
   "source": [
    "fig = px.box(rest_data, x='number', y='object_type', orientation='h',\n",
    "             title='Диаграмма размаха по видам объектов общественного питания')\n",
    "\n",
    "fig.update_layout(\n",
    "    xaxis_range=[-5,460]\n",
    ")\n",
    "fig.show()"
   ]
  },
  {
   "cell_type": "markdown",
   "metadata": {
    "id": "E5vQs2pDBoqR"
   },
   "source": [
    "В среднем самое большое количество посадочных мест в столовых - 103 места. На 2 месте рестораны - 80 мест."
   ]
  },
  {
   "cell_type": "markdown",
   "metadata": {
    "id": "3wamNqBtGjLt"
   },
   "source": [
    "### Выделим в отдельный столбец информацию об улице из столбца address."
   ]
  },
  {
   "cell_type": "markdown",
   "metadata": {
    "id": "C9nhKwdVTcLM"
   },
   "source": [
    "Это можно легко сделать с помощью Dadata или Yandex decoder'а, но они платные, поэтому сделаю через регулярные выражения"
   ]
  },
  {
   "cell_type": "code",
   "execution_count": 26,
   "metadata": {
    "colab": {
     "base_uri": "https://localhost:8080/",
     "height": 419
    },
    "executionInfo": {
     "elapsed": 564,
     "status": "ok",
     "timestamp": 1627829484688,
     "user": {
      "displayName": "Арсен",
      "photoUrl": "https://lh3.googleusercontent.com/a-/AOh14GjPCG8vWVVB43Ax1wpE_vEPLjGP-XH0UWc12vB7wg=s64",
      "userId": "17661651445996378067"
     },
     "user_tz": -180
    },
    "id": "OhFs8m8jCFCz",
    "outputId": "125ae74f-d966-49fc-e291-4e72c94d8dcb"
   },
   "outputs": [
    {
     "data": {
      "text/html": [
       "<div>\n",
       "<style scoped>\n",
       "    .dataframe tbody tr th:only-of-type {\n",
       "        vertical-align: middle;\n",
       "    }\n",
       "\n",
       "    .dataframe tbody tr th {\n",
       "        vertical-align: top;\n",
       "    }\n",
       "\n",
       "    .dataframe thead th {\n",
       "        text-align: right;\n",
       "    }\n",
       "</style>\n",
       "<table border=\"1\" class=\"dataframe\">\n",
       "  <thead>\n",
       "    <tr style=\"text-align: right;\">\n",
       "      <th></th>\n",
       "      <th>id</th>\n",
       "      <th>object_name</th>\n",
       "      <th>chain</th>\n",
       "      <th>object_type</th>\n",
       "      <th>address</th>\n",
       "      <th>number</th>\n",
       "      <th>street</th>\n",
       "    </tr>\n",
       "  </thead>\n",
       "  <tbody>\n",
       "    <tr>\n",
       "      <th>0</th>\n",
       "      <td>151635</td>\n",
       "      <td>Сметана</td>\n",
       "      <td>нет</td>\n",
       "      <td>кафе</td>\n",
       "      <td>город Москва, улица Егора Абакумова, дом 9</td>\n",
       "      <td>48</td>\n",
       "      <td>улица Егора Абакумова</td>\n",
       "    </tr>\n",
       "    <tr>\n",
       "      <th>1</th>\n",
       "      <td>77874</td>\n",
       "      <td>Родник</td>\n",
       "      <td>нет</td>\n",
       "      <td>кафе</td>\n",
       "      <td>город Москва, улица Талалихина, дом 2/1, корпус 1</td>\n",
       "      <td>35</td>\n",
       "      <td>улица Талалихина</td>\n",
       "    </tr>\n",
       "    <tr>\n",
       "      <th>2</th>\n",
       "      <td>24309</td>\n",
       "      <td>Кафе «академия»</td>\n",
       "      <td>нет</td>\n",
       "      <td>кафе</td>\n",
       "      <td>город Москва, Абельмановская улица, дом 6</td>\n",
       "      <td>95</td>\n",
       "      <td>Абельмановская улица</td>\n",
       "    </tr>\n",
       "    <tr>\n",
       "      <th>3</th>\n",
       "      <td>21894</td>\n",
       "      <td>Пиццетория</td>\n",
       "      <td>да</td>\n",
       "      <td>кафе</td>\n",
       "      <td>город Москва, Абрамцевская улица, дом 1</td>\n",
       "      <td>40</td>\n",
       "      <td>Абрамцевская улица</td>\n",
       "    </tr>\n",
       "    <tr>\n",
       "      <th>4</th>\n",
       "      <td>119365</td>\n",
       "      <td>Кафе «вишневая метель»</td>\n",
       "      <td>нет</td>\n",
       "      <td>кафе</td>\n",
       "      <td>город Москва, Абрамцевская улица, дом 9, корпус 1</td>\n",
       "      <td>50</td>\n",
       "      <td>Абрамцевская улица</td>\n",
       "    </tr>\n",
       "    <tr>\n",
       "      <th>...</th>\n",
       "      <td>...</td>\n",
       "      <td>...</td>\n",
       "      <td>...</td>\n",
       "      <td>...</td>\n",
       "      <td>...</td>\n",
       "      <td>...</td>\n",
       "      <td>...</td>\n",
       "    </tr>\n",
       "    <tr>\n",
       "      <th>15361</th>\n",
       "      <td>208537</td>\n",
       "      <td>Шоколадница</td>\n",
       "      <td>да</td>\n",
       "      <td>кафе</td>\n",
       "      <td>город Москва, 3-й Крутицкий переулок, дом 18</td>\n",
       "      <td>50</td>\n",
       "      <td>3-й Крутицкий переулок</td>\n",
       "    </tr>\n",
       "    <tr>\n",
       "      <th>15362</th>\n",
       "      <td>209264</td>\n",
       "      <td>Шоколадница</td>\n",
       "      <td>да</td>\n",
       "      <td>кафе</td>\n",
       "      <td>город Москва, улица Земляной Вал, дом 33</td>\n",
       "      <td>10</td>\n",
       "      <td>улица Земляной Вал</td>\n",
       "    </tr>\n",
       "    <tr>\n",
       "      <th>15363</th>\n",
       "      <td>209186</td>\n",
       "      <td>Шоколадница</td>\n",
       "      <td>да</td>\n",
       "      <td>кафе</td>\n",
       "      <td>город Москва, улица Земляной Вал, дом 33</td>\n",
       "      <td>20</td>\n",
       "      <td>улица Земляной Вал</td>\n",
       "    </tr>\n",
       "    <tr>\n",
       "      <th>15364</th>\n",
       "      <td>221900</td>\n",
       "      <td>Шоколадница</td>\n",
       "      <td>да</td>\n",
       "      <td>кафе</td>\n",
       "      <td>город Москва, поселение Московский, Киевское ш...</td>\n",
       "      <td>36</td>\n",
       "      <td>22-й километр</td>\n",
       "    </tr>\n",
       "    <tr>\n",
       "      <th>15365</th>\n",
       "      <td>222535</td>\n",
       "      <td>Шоколадница</td>\n",
       "      <td>да</td>\n",
       "      <td>кафе</td>\n",
       "      <td>город Москва, Ходынский бульвар, дом 4</td>\n",
       "      <td>10</td>\n",
       "      <td>Ходынский бульвар</td>\n",
       "    </tr>\n",
       "  </tbody>\n",
       "</table>\n",
       "<p>15284 rows × 7 columns</p>\n",
       "</div>"
      ],
      "text/plain": [
       "           id             object_name chain object_type  \\\n",
       "0      151635                 Сметана   нет        кафе   \n",
       "1       77874                  Родник   нет        кафе   \n",
       "2       24309         Кафе «академия»   нет        кафе   \n",
       "3       21894              Пиццетория    да        кафе   \n",
       "4      119365  Кафе «вишневая метель»   нет        кафе   \n",
       "...       ...                     ...   ...         ...   \n",
       "15361  208537             Шоколадница    да        кафе   \n",
       "15362  209264             Шоколадница    да        кафе   \n",
       "15363  209186             Шоколадница    да        кафе   \n",
       "15364  221900             Шоколадница    да        кафе   \n",
       "15365  222535             Шоколадница    да        кафе   \n",
       "\n",
       "                                                 address  number  \\\n",
       "0             город Москва, улица Егора Абакумова, дом 9      48   \n",
       "1      город Москва, улица Талалихина, дом 2/1, корпус 1      35   \n",
       "2              город Москва, Абельмановская улица, дом 6      95   \n",
       "3                город Москва, Абрамцевская улица, дом 1      40   \n",
       "4      город Москва, Абрамцевская улица, дом 9, корпус 1      50   \n",
       "...                                                  ...     ...   \n",
       "15361       город Москва, 3-й Крутицкий переулок, дом 18      50   \n",
       "15362           город Москва, улица Земляной Вал, дом 33      10   \n",
       "15363           город Москва, улица Земляной Вал, дом 33      20   \n",
       "15364  город Москва, поселение Московский, Киевское ш...      36   \n",
       "15365             город Москва, Ходынский бульвар, дом 4      10   \n",
       "\n",
       "                       street  \n",
       "0       улица Егора Абакумова  \n",
       "1            улица Талалихина  \n",
       "2        Абельмановская улица  \n",
       "3          Абрамцевская улица  \n",
       "4          Абрамцевская улица  \n",
       "...                       ...  \n",
       "15361  3-й Крутицкий переулок  \n",
       "15362      улица Земляной Вал  \n",
       "15363      улица Земляной Вал  \n",
       "15364           22-й километр  \n",
       "15365       Ходынский бульвар  \n",
       "\n",
       "[15284 rows x 7 columns]"
      ]
     },
     "execution_count": 26,
     "metadata": {},
     "output_type": "execute_result"
    }
   ],
   "source": [
    "words = ['улица','ул', 'переулок','шоссе','проспект','площадь','проезд',\n",
    "         'село','аллея','бульвар','набережная','тупик','линия', 'микрорайон',\n",
    "         'квартал', 'деревня', 'посёлок', 'километр', 'территория', 'корпус']\n",
    "\n",
    "str_pat = r\".*,\\s*\\b([^,]*?(?:{})\\b[^,]*)[,$]+\".format(\"|\".join(words))\n",
    "\n",
    "rest_data['street'] = rest_data['address'].str.extract(str_pat, flags=re.I)\n",
    "rest_data"
   ]
  },
  {
   "cell_type": "markdown",
   "metadata": {
    "id": "swaLVNPDJM8M"
   },
   "source": [
    "Проверим пропуски"
   ]
  },
  {
   "cell_type": "code",
   "execution_count": 27,
   "metadata": {
    "colab": {
     "base_uri": "https://localhost:8080/",
     "height": 419
    },
    "executionInfo": {
     "elapsed": 226,
     "status": "ok",
     "timestamp": 1627829489268,
     "user": {
      "displayName": "Арсен",
      "photoUrl": "https://lh3.googleusercontent.com/a-/AOh14GjPCG8vWVVB43Ax1wpE_vEPLjGP-XH0UWc12vB7wg=s64",
      "userId": "17661651445996378067"
     },
     "user_tz": -180
    },
    "id": "qVpR1txGTX3t",
    "outputId": "121b8235-6136-485e-b8c5-cb1a44585fb0"
   },
   "outputs": [
    {
     "data": {
      "text/html": [
       "<div>\n",
       "<style scoped>\n",
       "    .dataframe tbody tr th:only-of-type {\n",
       "        vertical-align: middle;\n",
       "    }\n",
       "\n",
       "    .dataframe tbody tr th {\n",
       "        vertical-align: top;\n",
       "    }\n",
       "\n",
       "    .dataframe thead th {\n",
       "        text-align: right;\n",
       "    }\n",
       "</style>\n",
       "<table border=\"1\" class=\"dataframe\">\n",
       "  <thead>\n",
       "    <tr style=\"text-align: right;\">\n",
       "      <th></th>\n",
       "      <th>id</th>\n",
       "      <th>object_name</th>\n",
       "      <th>chain</th>\n",
       "      <th>object_type</th>\n",
       "      <th>address</th>\n",
       "      <th>number</th>\n",
       "      <th>street</th>\n",
       "    </tr>\n",
       "  </thead>\n",
       "  <tbody>\n",
       "    <tr>\n",
       "      <th>859</th>\n",
       "      <td>23601</td>\n",
       "      <td>Буфет - гбоу сош № 64</td>\n",
       "      <td>нет</td>\n",
       "      <td>буфет</td>\n",
       "      <td>Партизанская улица, дом 30</td>\n",
       "      <td>100</td>\n",
       "      <td>NaN</td>\n",
       "    </tr>\n",
       "    <tr>\n",
       "      <th>860</th>\n",
       "      <td>23604</td>\n",
       "      <td>Буфет - гбоу 60</td>\n",
       "      <td>нет</td>\n",
       "      <td>буфет</td>\n",
       "      <td>Партизанская улица, дом 30</td>\n",
       "      <td>100</td>\n",
       "      <td>NaN</td>\n",
       "    </tr>\n",
       "    <tr>\n",
       "      <th>1405</th>\n",
       "      <td>20199</td>\n",
       "      <td>Это</td>\n",
       "      <td>нет</td>\n",
       "      <td>кафе</td>\n",
       "      <td>город Москва, город Зеленоград, корпус 401</td>\n",
       "      <td>35</td>\n",
       "      <td>NaN</td>\n",
       "    </tr>\n",
       "    <tr>\n",
       "      <th>1406</th>\n",
       "      <td>68113</td>\n",
       "      <td>Френдс</td>\n",
       "      <td>нет</td>\n",
       "      <td>кафе</td>\n",
       "      <td>город Москва, город Зеленоград, корпус 435</td>\n",
       "      <td>34</td>\n",
       "      <td>NaN</td>\n",
       "    </tr>\n",
       "    <tr>\n",
       "      <th>1407</th>\n",
       "      <td>20105</td>\n",
       "      <td>Кафе «граф монте-кристо»</td>\n",
       "      <td>нет</td>\n",
       "      <td>кафе</td>\n",
       "      <td>город Москва, город Зеленоград, корпус 436</td>\n",
       "      <td>40</td>\n",
       "      <td>NaN</td>\n",
       "    </tr>\n",
       "    <tr>\n",
       "      <th>...</th>\n",
       "      <td>...</td>\n",
       "      <td>...</td>\n",
       "      <td>...</td>\n",
       "      <td>...</td>\n",
       "      <td>...</td>\n",
       "      <td>...</td>\n",
       "      <td>...</td>\n",
       "    </tr>\n",
       "    <tr>\n",
       "      <th>14468</th>\n",
       "      <td>205933</td>\n",
       "      <td>Кафе «империя бургеров»</td>\n",
       "      <td>нет</td>\n",
       "      <td>кафе</td>\n",
       "      <td>город Москва, город Зеленоград, корпус 1106Е</td>\n",
       "      <td>24</td>\n",
       "      <td>NaN</td>\n",
       "    </tr>\n",
       "    <tr>\n",
       "      <th>14470</th>\n",
       "      <td>220595</td>\n",
       "      <td>Пекарня № 1</td>\n",
       "      <td>нет</td>\n",
       "      <td>кафетерий</td>\n",
       "      <td>город Москва, город Зеленоград, корпус 1627</td>\n",
       "      <td>6</td>\n",
       "      <td>NaN</td>\n",
       "    </tr>\n",
       "    <tr>\n",
       "      <th>14473</th>\n",
       "      <td>220978</td>\n",
       "      <td>Бар суши takai</td>\n",
       "      <td>нет</td>\n",
       "      <td>кафе</td>\n",
       "      <td>город Москва, город Зеленоград, корпус 1602А</td>\n",
       "      <td>28</td>\n",
       "      <td>NaN</td>\n",
       "    </tr>\n",
       "    <tr>\n",
       "      <th>14478</th>\n",
       "      <td>211676</td>\n",
       "      <td>Никольский</td>\n",
       "      <td>нет</td>\n",
       "      <td>ресторан</td>\n",
       "      <td>город Москва, город Зеленоград, корпус 532</td>\n",
       "      <td>120</td>\n",
       "      <td>NaN</td>\n",
       "    </tr>\n",
       "    <tr>\n",
       "      <th>15184</th>\n",
       "      <td>220587</td>\n",
       "      <td>Пицца паоло</td>\n",
       "      <td>да</td>\n",
       "      <td>кафетерий</td>\n",
       "      <td>город Москва, город Зеленоград, корпус 1627</td>\n",
       "      <td>0</td>\n",
       "      <td>NaN</td>\n",
       "    </tr>\n",
       "  </tbody>\n",
       "</table>\n",
       "<p>188 rows × 7 columns</p>\n",
       "</div>"
      ],
      "text/plain": [
       "           id               object_name chain object_type  \\\n",
       "859     23601     Буфет - гбоу сош № 64   нет       буфет   \n",
       "860     23604           Буфет - гбоу 60   нет       буфет   \n",
       "1405    20199                       Это   нет        кафе   \n",
       "1406    68113                    Френдс   нет        кафе   \n",
       "1407    20105  Кафе «граф монте-кристо»   нет        кафе   \n",
       "...       ...                       ...   ...         ...   \n",
       "14468  205933   Кафе «империя бургеров»   нет        кафе   \n",
       "14470  220595               Пекарня № 1   нет   кафетерий   \n",
       "14473  220978            Бар суши takai   нет        кафе   \n",
       "14478  211676                Никольский   нет    ресторан   \n",
       "15184  220587               Пицца паоло    да   кафетерий   \n",
       "\n",
       "                                            address  number street  \n",
       "859                      Партизанская улица, дом 30     100    NaN  \n",
       "860                      Партизанская улица, дом 30     100    NaN  \n",
       "1405     город Москва, город Зеленоград, корпус 401      35    NaN  \n",
       "1406     город Москва, город Зеленоград, корпус 435      34    NaN  \n",
       "1407     город Москва, город Зеленоград, корпус 436      40    NaN  \n",
       "...                                             ...     ...    ...  \n",
       "14468  город Москва, город Зеленоград, корпус 1106Е      24    NaN  \n",
       "14470   город Москва, город Зеленоград, корпус 1627       6    NaN  \n",
       "14473  город Москва, город Зеленоград, корпус 1602А      28    NaN  \n",
       "14478    город Москва, город Зеленоград, корпус 532     120    NaN  \n",
       "15184   город Москва, город Зеленоград, корпус 1627       0    NaN  \n",
       "\n",
       "[188 rows x 7 columns]"
      ]
     },
     "execution_count": 27,
     "metadata": {},
     "output_type": "execute_result"
    }
   ],
   "source": [
    "rest_data.query('street != street')"
   ]
  },
  {
   "cell_type": "markdown",
   "metadata": {
    "id": "3yNLGIfoTqk_"
   },
   "source": [
    "Осталось 188 пропусков, это 1% от наших данных. Думаю, на дальнейшее исследование это не должно повлиять"
   ]
  },
  {
   "cell_type": "code",
   "execution_count": 28,
   "metadata": {
    "colab": {
     "base_uri": "https://localhost:8080/",
     "height": 419
    },
    "executionInfo": {
     "elapsed": 216,
     "status": "ok",
     "timestamp": 1627829499577,
     "user": {
      "displayName": "Арсен",
      "photoUrl": "https://lh3.googleusercontent.com/a-/AOh14GjPCG8vWVVB43Ax1wpE_vEPLjGP-XH0UWc12vB7wg=s64",
      "userId": "17661651445996378067"
     },
     "user_tz": -180
    },
    "id": "6zuDvac_UGZL",
    "outputId": "5cbd8131-996e-4931-e106-b1b01c2aa5dc"
   },
   "outputs": [
    {
     "data": {
      "text/html": [
       "<div>\n",
       "<style scoped>\n",
       "    .dataframe tbody tr th:only-of-type {\n",
       "        vertical-align: middle;\n",
       "    }\n",
       "\n",
       "    .dataframe tbody tr th {\n",
       "        vertical-align: top;\n",
       "    }\n",
       "\n",
       "    .dataframe thead th {\n",
       "        text-align: right;\n",
       "    }\n",
       "</style>\n",
       "<table border=\"1\" class=\"dataframe\">\n",
       "  <thead>\n",
       "    <tr style=\"text-align: right;\">\n",
       "      <th></th>\n",
       "      <th>id</th>\n",
       "      <th>object_name</th>\n",
       "      <th>chain</th>\n",
       "      <th>object_type</th>\n",
       "      <th>address</th>\n",
       "      <th>number</th>\n",
       "      <th>street</th>\n",
       "    </tr>\n",
       "  </thead>\n",
       "  <tbody>\n",
       "    <tr>\n",
       "      <th>0</th>\n",
       "      <td>151635</td>\n",
       "      <td>Сметана</td>\n",
       "      <td>нет</td>\n",
       "      <td>кафе</td>\n",
       "      <td>город Москва, улица Егора Абакумова, дом 9</td>\n",
       "      <td>48</td>\n",
       "      <td>улица Егора Абакумова</td>\n",
       "    </tr>\n",
       "    <tr>\n",
       "      <th>1</th>\n",
       "      <td>77874</td>\n",
       "      <td>Родник</td>\n",
       "      <td>нет</td>\n",
       "      <td>кафе</td>\n",
       "      <td>город Москва, улица Талалихина, дом 2/1, корпус 1</td>\n",
       "      <td>35</td>\n",
       "      <td>улица Талалихина</td>\n",
       "    </tr>\n",
       "    <tr>\n",
       "      <th>2</th>\n",
       "      <td>24309</td>\n",
       "      <td>Кафе «академия»</td>\n",
       "      <td>нет</td>\n",
       "      <td>кафе</td>\n",
       "      <td>город Москва, Абельмановская улица, дом 6</td>\n",
       "      <td>95</td>\n",
       "      <td>Абельмановская улица</td>\n",
       "    </tr>\n",
       "    <tr>\n",
       "      <th>3</th>\n",
       "      <td>21894</td>\n",
       "      <td>Пиццетория</td>\n",
       "      <td>да</td>\n",
       "      <td>кафе</td>\n",
       "      <td>город Москва, Абрамцевская улица, дом 1</td>\n",
       "      <td>40</td>\n",
       "      <td>Абрамцевская улица</td>\n",
       "    </tr>\n",
       "    <tr>\n",
       "      <th>4</th>\n",
       "      <td>119365</td>\n",
       "      <td>Кафе «вишневая метель»</td>\n",
       "      <td>нет</td>\n",
       "      <td>кафе</td>\n",
       "      <td>город Москва, Абрамцевская улица, дом 9, корпус 1</td>\n",
       "      <td>50</td>\n",
       "      <td>Абрамцевская улица</td>\n",
       "    </tr>\n",
       "    <tr>\n",
       "      <th>...</th>\n",
       "      <td>...</td>\n",
       "      <td>...</td>\n",
       "      <td>...</td>\n",
       "      <td>...</td>\n",
       "      <td>...</td>\n",
       "      <td>...</td>\n",
       "      <td>...</td>\n",
       "    </tr>\n",
       "    <tr>\n",
       "      <th>15361</th>\n",
       "      <td>208537</td>\n",
       "      <td>Шоколадница</td>\n",
       "      <td>да</td>\n",
       "      <td>кафе</td>\n",
       "      <td>город Москва, 3-й Крутицкий переулок, дом 18</td>\n",
       "      <td>50</td>\n",
       "      <td>3-й Крутицкий переулок</td>\n",
       "    </tr>\n",
       "    <tr>\n",
       "      <th>15362</th>\n",
       "      <td>209264</td>\n",
       "      <td>Шоколадница</td>\n",
       "      <td>да</td>\n",
       "      <td>кафе</td>\n",
       "      <td>город Москва, улица Земляной Вал, дом 33</td>\n",
       "      <td>10</td>\n",
       "      <td>улица Земляной Вал</td>\n",
       "    </tr>\n",
       "    <tr>\n",
       "      <th>15363</th>\n",
       "      <td>209186</td>\n",
       "      <td>Шоколадница</td>\n",
       "      <td>да</td>\n",
       "      <td>кафе</td>\n",
       "      <td>город Москва, улица Земляной Вал, дом 33</td>\n",
       "      <td>20</td>\n",
       "      <td>улица Земляной Вал</td>\n",
       "    </tr>\n",
       "    <tr>\n",
       "      <th>15364</th>\n",
       "      <td>221900</td>\n",
       "      <td>Шоколадница</td>\n",
       "      <td>да</td>\n",
       "      <td>кафе</td>\n",
       "      <td>город Москва, поселение Московский, Киевское ш...</td>\n",
       "      <td>36</td>\n",
       "      <td>22-й километр</td>\n",
       "    </tr>\n",
       "    <tr>\n",
       "      <th>15365</th>\n",
       "      <td>222535</td>\n",
       "      <td>Шоколадница</td>\n",
       "      <td>да</td>\n",
       "      <td>кафе</td>\n",
       "      <td>город Москва, Ходынский бульвар, дом 4</td>\n",
       "      <td>10</td>\n",
       "      <td>Ходынский бульвар</td>\n",
       "    </tr>\n",
       "  </tbody>\n",
       "</table>\n",
       "<p>15096 rows × 7 columns</p>\n",
       "</div>"
      ],
      "text/plain": [
       "           id             object_name chain object_type  \\\n",
       "0      151635                 Сметана   нет        кафе   \n",
       "1       77874                  Родник   нет        кафе   \n",
       "2       24309         Кафе «академия»   нет        кафе   \n",
       "3       21894              Пиццетория    да        кафе   \n",
       "4      119365  Кафе «вишневая метель»   нет        кафе   \n",
       "...       ...                     ...   ...         ...   \n",
       "15361  208537             Шоколадница    да        кафе   \n",
       "15362  209264             Шоколадница    да        кафе   \n",
       "15363  209186             Шоколадница    да        кафе   \n",
       "15364  221900             Шоколадница    да        кафе   \n",
       "15365  222535             Шоколадница    да        кафе   \n",
       "\n",
       "                                                 address  number  \\\n",
       "0             город Москва, улица Егора Абакумова, дом 9      48   \n",
       "1      город Москва, улица Талалихина, дом 2/1, корпус 1      35   \n",
       "2              город Москва, Абельмановская улица, дом 6      95   \n",
       "3                город Москва, Абрамцевская улица, дом 1      40   \n",
       "4      город Москва, Абрамцевская улица, дом 9, корпус 1      50   \n",
       "...                                                  ...     ...   \n",
       "15361       город Москва, 3-й Крутицкий переулок, дом 18      50   \n",
       "15362           город Москва, улица Земляной Вал, дом 33      10   \n",
       "15363           город Москва, улица Земляной Вал, дом 33      20   \n",
       "15364  город Москва, поселение Московский, Киевское ш...      36   \n",
       "15365             город Москва, Ходынский бульвар, дом 4      10   \n",
       "\n",
       "                       street  \n",
       "0       улица Егора Абакумова  \n",
       "1            улица Талалихина  \n",
       "2        Абельмановская улица  \n",
       "3          Абрамцевская улица  \n",
       "4          Абрамцевская улица  \n",
       "...                       ...  \n",
       "15361  3-й Крутицкий переулок  \n",
       "15362      улица Земляной Вал  \n",
       "15363      улица Земляной Вал  \n",
       "15364           22-й километр  \n",
       "15365       Ходынский бульвар  \n",
       "\n",
       "[15096 rows x 7 columns]"
      ]
     },
     "execution_count": 28,
     "metadata": {},
     "output_type": "execute_result"
    }
   ],
   "source": [
    "rest_data = rest_data.query('street == street')\n",
    "rest_data"
   ]
  },
  {
   "cell_type": "markdown",
   "metadata": {
    "id": "uatF18CAGnrr"
   },
   "source": [
    "### Построим график топ-10 улиц по количеству объектов общественного питания. Воспользуемся внешней информацией для ответа на вопрос — в каких районах Москвы находятся эти улицы?\n"
   ]
  },
  {
   "cell_type": "code",
   "execution_count": 29,
   "metadata": {
    "colab": {
     "base_uri": "https://localhost:8080/",
     "height": 359
    },
    "executionInfo": {
     "elapsed": 228,
     "status": "ok",
     "timestamp": 1627829574056,
     "user": {
      "displayName": "Арсен",
      "photoUrl": "https://lh3.googleusercontent.com/a-/AOh14GjPCG8vWVVB43Ax1wpE_vEPLjGP-XH0UWc12vB7wg=s64",
      "userId": "17661651445996378067"
     },
     "user_tz": -180
    },
    "id": "axQ2_KJ3UhLt",
    "outputId": "7de399ca-0389-4a91-8a2b-d07f11266671"
   },
   "outputs": [
    {
     "data": {
      "text/html": [
       "<div>\n",
       "<style scoped>\n",
       "    .dataframe tbody tr th:only-of-type {\n",
       "        vertical-align: middle;\n",
       "    }\n",
       "\n",
       "    .dataframe tbody tr th {\n",
       "        vertical-align: top;\n",
       "    }\n",
       "\n",
       "    .dataframe thead th {\n",
       "        text-align: right;\n",
       "    }\n",
       "</style>\n",
       "<table border=\"1\" class=\"dataframe\">\n",
       "  <thead>\n",
       "    <tr style=\"text-align: right;\">\n",
       "      <th></th>\n",
       "      <th>street</th>\n",
       "      <th>count</th>\n",
       "    </tr>\n",
       "  </thead>\n",
       "  <tbody>\n",
       "    <tr>\n",
       "      <th>1517</th>\n",
       "      <td>проспект Мира</td>\n",
       "      <td>204</td>\n",
       "    </tr>\n",
       "    <tr>\n",
       "      <th>1044</th>\n",
       "      <td>Профсоюзная улица</td>\n",
       "      <td>178</td>\n",
       "    </tr>\n",
       "    <tr>\n",
       "      <th>719</th>\n",
       "      <td>Ленинградский проспект</td>\n",
       "      <td>170</td>\n",
       "    </tr>\n",
       "    <tr>\n",
       "      <th>1029</th>\n",
       "      <td>Пресненская набережная</td>\n",
       "      <td>167</td>\n",
       "    </tr>\n",
       "    <tr>\n",
       "      <th>434</th>\n",
       "      <td>Варшавское шоссе</td>\n",
       "      <td>160</td>\n",
       "    </tr>\n",
       "    <tr>\n",
       "      <th>722</th>\n",
       "      <td>Ленинский проспект</td>\n",
       "      <td>146</td>\n",
       "    </tr>\n",
       "    <tr>\n",
       "      <th>1513</th>\n",
       "      <td>проспект Вернадского</td>\n",
       "      <td>126</td>\n",
       "    </tr>\n",
       "    <tr>\n",
       "      <th>709</th>\n",
       "      <td>Кутузовский проспект</td>\n",
       "      <td>114</td>\n",
       "    </tr>\n",
       "    <tr>\n",
       "      <th>639</th>\n",
       "      <td>Кировоградская улица</td>\n",
       "      <td>107</td>\n",
       "    </tr>\n",
       "    <tr>\n",
       "      <th>1313</th>\n",
       "      <td>Ходынский бульвар</td>\n",
       "      <td>102</td>\n",
       "    </tr>\n",
       "  </tbody>\n",
       "</table>\n",
       "</div>"
      ],
      "text/plain": [
       "                      street  count\n",
       "1517           проспект Мира    204\n",
       "1044       Профсоюзная улица    178\n",
       "719   Ленинградский проспект    170\n",
       "1029  Пресненская набережная    167\n",
       "434         Варшавское шоссе    160\n",
       "722       Ленинский проспект    146\n",
       "1513    проспект Вернадского    126\n",
       "709     Кутузовский проспект    114\n",
       "639     Кировоградская улица    107\n",
       "1313       Ходынский бульвар    102"
      ]
     },
     "execution_count": 29,
     "metadata": {},
     "output_type": "execute_result"
    }
   ],
   "source": [
    "top10_street = (\n",
    "    rest_data\n",
    "        .groupby('street', as_index=False)\n",
    "        .agg({'id':'count'})\n",
    "        .rename(columns={'id':'count'})\n",
    "        .sort_values(by='count', ascending=False)\n",
    "        .head(10)\n",
    ")\n",
    "\n",
    "top10_street"
   ]
  },
  {
   "cell_type": "code",
   "execution_count": 30,
   "metadata": {
    "colab": {
     "base_uri": "https://localhost:8080/",
     "height": 542
    },
    "executionInfo": {
     "elapsed": 226,
     "status": "ok",
     "timestamp": 1627829580362,
     "user": {
      "displayName": "Арсен",
      "photoUrl": "https://lh3.googleusercontent.com/a-/AOh14GjPCG8vWVVB43Ax1wpE_vEPLjGP-XH0UWc12vB7wg=s64",
      "userId": "17661651445996378067"
     },
     "user_tz": -180
    },
    "id": "lThhXrD2US-D",
    "outputId": "7b2553dd-cb9b-4bc9-d4c8-19e9c16b15a9"
   },
   "outputs": [
    {
     "data": {
      "image/svg+xml": [
       "<svg class=\"main-svg\" xmlns=\"http://www.w3.org/2000/svg\" xmlns:xlink=\"http://www.w3.org/1999/xlink\" width=\"700\" height=\"500\" style=\"\" viewBox=\"0 0 700 500\"><rect x=\"0\" y=\"0\" width=\"700\" height=\"500\" style=\"fill: rgb(255, 255, 255); fill-opacity: 1;\"/><defs id=\"defs-9ac495\"><g class=\"clips\"><clipPath id=\"clip9ac495xyplot\" class=\"plotclip\"><rect width=\"422\" height=\"320\"/></clipPath><clipPath class=\"axesclip\" id=\"clip9ac495x\"><rect x=\"198\" y=\"0\" width=\"422\" height=\"500\"/></clipPath><clipPath class=\"axesclip\" id=\"clip9ac495y\"><rect x=\"0\" y=\"100\" width=\"700\" height=\"320\"/></clipPath><clipPath class=\"axesclip\" id=\"clip9ac495xy\"><rect x=\"198\" y=\"100\" width=\"422\" height=\"320\"/></clipPath></g><g class=\"gradients\"/><g class=\"patterns\"/></defs><g class=\"bglayer\"><rect class=\"bg\" x=\"198\" y=\"100\" width=\"422\" height=\"320\" style=\"fill: rgb(229, 236, 246); fill-opacity: 1; stroke-width: 0;\"/></g><g class=\"layer-below\"><g class=\"imagelayer\"/><g class=\"shapelayer\"/></g><g class=\"cartesianlayer\"><g class=\"subplot xy\"><g class=\"layer-subplot\"><g class=\"shapelayer\"/><g class=\"imagelayer\"/></g><g class=\"gridlayer\"><g class=\"x\"><path class=\"xgrid crisp\" transform=\"translate(296.26,0)\" d=\"M0,100v320\" style=\"stroke: rgb(255, 255, 255); stroke-opacity: 1; stroke-width: 1px;\"/><path class=\"xgrid crisp\" transform=\"translate(394.52,0)\" d=\"M0,100v320\" style=\"stroke: rgb(255, 255, 255); stroke-opacity: 1; stroke-width: 1px;\"/><path class=\"xgrid crisp\" transform=\"translate(492.78,0)\" d=\"M0,100v320\" style=\"stroke: rgb(255, 255, 255); stroke-opacity: 1; stroke-width: 1px;\"/><path class=\"xgrid crisp\" transform=\"translate(591.04,0)\" d=\"M0,100v320\" style=\"stroke: rgb(255, 255, 255); stroke-opacity: 1; stroke-width: 1px;\"/></g><g class=\"y\"/></g><g class=\"zerolinelayer\"><path class=\"xzl zl crisp\" transform=\"translate(198,0)\" d=\"M0,100v320\" style=\"stroke: rgb(255, 255, 255); stroke-opacity: 1; stroke-width: 2px;\"/></g><path class=\"xlines-below\"/><path class=\"ylines-below\"/><g class=\"overlines-below\"/><g class=\"xaxislayer-below\"/><g class=\"yaxislayer-below\"/><g class=\"overaxes-below\"/><g class=\"plot\" transform=\"translate(198,100)\" clip-path=\"url(#clip9ac495xyplot)\"><g class=\"barlayer mlayer\"><g class=\"trace bars\" style=\"opacity: 1;\"><g class=\"points\"><g class=\"point\"><path d=\"M0,316.8V291.2H400.9V316.8Z\" style=\"vector-effect: non-scaling-stroke; opacity: 1; stroke-width: 0.5px; fill: rgb(99, 110, 250); fill-opacity: 1; stroke: rgb(229, 236, 246); stroke-opacity: 1;\"/></g><g class=\"point\"><path d=\"M0,284.8V259.2H349.8V284.8Z\" style=\"vector-effect: non-scaling-stroke; opacity: 1; stroke-width: 0.5px; fill: rgb(99, 110, 250); fill-opacity: 1; stroke: rgb(229, 236, 246); stroke-opacity: 1;\"/></g><g class=\"point\"><path d=\"M0,252.8V227.2H334.08V252.8Z\" style=\"vector-effect: non-scaling-stroke; opacity: 1; stroke-width: 0.5px; fill: rgb(99, 110, 250); fill-opacity: 1; stroke: rgb(229, 236, 246); stroke-opacity: 1;\"/></g><g class=\"point\"><path d=\"M0,220.8V195.2H328.19V220.8Z\" style=\"vector-effect: non-scaling-stroke; opacity: 1; stroke-width: 0.5px; fill: rgb(99, 110, 250); fill-opacity: 1; stroke: rgb(229, 236, 246); stroke-opacity: 1;\"/></g><g class=\"point\"><path d=\"M0,188.8V163.2H314.43V188.8Z\" style=\"vector-effect: non-scaling-stroke; opacity: 1; stroke-width: 0.5px; fill: rgb(99, 110, 250); fill-opacity: 1; stroke: rgb(229, 236, 246); stroke-opacity: 1;\"/></g><g class=\"point\"><path d=\"M0,156.8V131.2H286.92V156.8Z\" style=\"vector-effect: non-scaling-stroke; opacity: 1; stroke-width: 0.5px; fill: rgb(99, 110, 250); fill-opacity: 1; stroke: rgb(229, 236, 246); stroke-opacity: 1;\"/></g><g class=\"point\"><path d=\"M0,124.8V99.2H247.61V124.8Z\" style=\"vector-effect: non-scaling-stroke; opacity: 1; stroke-width: 0.5px; fill: rgb(99, 110, 250); fill-opacity: 1; stroke: rgb(229, 236, 246); stroke-opacity: 1;\"/></g><g class=\"point\"><path d=\"M0,92.8V67.2H224.03V92.8Z\" style=\"vector-effect: non-scaling-stroke; opacity: 1; stroke-width: 0.5px; fill: rgb(99, 110, 250); fill-opacity: 1; stroke: rgb(229, 236, 246); stroke-opacity: 1;\"/></g><g class=\"point\"><path d=\"M0,60.8V35.2H210.28V60.8Z\" style=\"vector-effect: non-scaling-stroke; opacity: 1; stroke-width: 0.5px; fill: rgb(99, 110, 250); fill-opacity: 1; stroke: rgb(229, 236, 246); stroke-opacity: 1;\"/></g><g class=\"point\"><path d=\"M0,28.8V3.2H200.45V28.8Z\" style=\"vector-effect: non-scaling-stroke; opacity: 1; stroke-width: 0.5px; fill: rgb(99, 110, 250); fill-opacity: 1; stroke: rgb(229, 236, 246); stroke-opacity: 1;\"/></g></g></g></g></g><g class=\"overplot\"/><path class=\"xlines-above crisp\" d=\"M0,0\" style=\"fill: none;\"/><path class=\"ylines-above crisp\" d=\"M0,0\" style=\"fill: none;\"/><g class=\"overlines-above\"/><g class=\"xaxislayer-above\"><g class=\"xtick\"><text text-anchor=\"middle\" x=\"0\" y=\"433\" transform=\"translate(198,0)\" style=\"font-family: 'Open Sans', verdana, arial, sans-serif; font-size: 12px; fill: rgb(42, 63, 95); fill-opacity: 1; white-space: pre; opacity: 1;\">0</text></g><g class=\"xtick\"><text text-anchor=\"middle\" x=\"0\" y=\"433\" style=\"font-family: 'Open Sans', verdana, arial, sans-serif; font-size: 12px; fill: rgb(42, 63, 95); fill-opacity: 1; white-space: pre; opacity: 1;\" transform=\"translate(296.26,0)\">50</text></g><g class=\"xtick\"><text text-anchor=\"middle\" x=\"0\" y=\"433\" style=\"font-family: 'Open Sans', verdana, arial, sans-serif; font-size: 12px; fill: rgb(42, 63, 95); fill-opacity: 1; white-space: pre; opacity: 1;\" transform=\"translate(394.52,0)\">100</text></g><g class=\"xtick\"><text text-anchor=\"middle\" x=\"0\" y=\"433\" style=\"font-family: 'Open Sans', verdana, arial, sans-serif; font-size: 12px; fill: rgb(42, 63, 95); fill-opacity: 1; white-space: pre; opacity: 1;\" transform=\"translate(492.78,0)\">150</text></g><g class=\"xtick\"><text text-anchor=\"middle\" x=\"0\" y=\"433\" style=\"font-family: 'Open Sans', verdana, arial, sans-serif; font-size: 12px; fill: rgb(42, 63, 95); fill-opacity: 1; white-space: pre; opacity: 1;\" transform=\"translate(591.04,0)\">200</text></g></g><g class=\"yaxislayer-above\"><g class=\"ytick\"><text text-anchor=\"end\" x=\"197\" y=\"4.199999999999999\" transform=\"translate(0,404)\" style=\"font-family: 'Open Sans', verdana, arial, sans-serif; font-size: 12px; fill: rgb(42, 63, 95); fill-opacity: 1; white-space: pre; opacity: 1;\">проспект Мира</text></g><g class=\"ytick\"><text text-anchor=\"end\" x=\"197\" y=\"4.199999999999999\" transform=\"translate(0,372)\" style=\"font-family: 'Open Sans', verdana, arial, sans-serif; font-size: 12px; fill: rgb(42, 63, 95); fill-opacity: 1; white-space: pre; opacity: 1;\">Профсоюзная улица</text></g><g class=\"ytick\"><text text-anchor=\"end\" x=\"197\" y=\"4.199999999999999\" transform=\"translate(0,340)\" style=\"font-family: 'Open Sans', verdana, arial, sans-serif; font-size: 12px; fill: rgb(42, 63, 95); fill-opacity: 1; white-space: pre; opacity: 1;\">Ленинградский проспект</text></g><g class=\"ytick\"><text text-anchor=\"end\" x=\"197\" y=\"4.199999999999999\" transform=\"translate(0,308)\" style=\"font-family: 'Open Sans', verdana, arial, sans-serif; font-size: 12px; fill: rgb(42, 63, 95); fill-opacity: 1; white-space: pre; opacity: 1;\">Пресненская набережная</text></g><g class=\"ytick\"><text text-anchor=\"end\" x=\"197\" y=\"4.199999999999999\" transform=\"translate(0,276)\" style=\"font-family: 'Open Sans', verdana, arial, sans-serif; font-size: 12px; fill: rgb(42, 63, 95); fill-opacity: 1; white-space: pre; opacity: 1;\">Варшавское шоссе</text></g><g class=\"ytick\"><text text-anchor=\"end\" x=\"197\" y=\"4.199999999999999\" transform=\"translate(0,244)\" style=\"font-family: 'Open Sans', verdana, arial, sans-serif; font-size: 12px; fill: rgb(42, 63, 95); fill-opacity: 1; white-space: pre; opacity: 1;\">Ленинский проспект</text></g><g class=\"ytick\"><text text-anchor=\"end\" x=\"197\" y=\"4.199999999999999\" transform=\"translate(0,212)\" style=\"font-family: 'Open Sans', verdana, arial, sans-serif; font-size: 12px; fill: rgb(42, 63, 95); fill-opacity: 1; white-space: pre; opacity: 1;\">проспект Вернадского</text></g><g class=\"ytick\"><text text-anchor=\"end\" x=\"197\" y=\"4.199999999999999\" transform=\"translate(0,180)\" style=\"font-family: 'Open Sans', verdana, arial, sans-serif; font-size: 12px; fill: rgb(42, 63, 95); fill-opacity: 1; white-space: pre; opacity: 1;\">Кутузовский проспект</text></g><g class=\"ytick\"><text text-anchor=\"end\" x=\"197\" y=\"4.199999999999999\" transform=\"translate(0,148)\" style=\"font-family: 'Open Sans', verdana, arial, sans-serif; font-size: 12px; fill: rgb(42, 63, 95); fill-opacity: 1; white-space: pre; opacity: 1;\">Кировоградская улица</text></g><g class=\"ytick\"><text text-anchor=\"end\" x=\"197\" y=\"4.199999999999999\" transform=\"translate(0,116)\" style=\"font-family: 'Open Sans', verdana, arial, sans-serif; font-size: 12px; fill: rgb(42, 63, 95); fill-opacity: 1; white-space: pre; opacity: 1;\">Ходынский бульвар</text></g></g><g class=\"overaxes-above\"/></g></g><g class=\"polarlayer\"/><g class=\"ternarylayer\"/><g class=\"geolayer\"/><g class=\"funnelarealayer\"/><g class=\"pielayer\"/><g class=\"iciclelayer\"/><g class=\"treemaplayer\"/><g class=\"sunburstlayer\"/><g class=\"glimages\"/><defs id=\"topdefs-9ac495\"><g class=\"clips\"/></defs><g class=\"layer-above\"><g class=\"imagelayer\"/><g class=\"shapelayer\"/></g><g class=\"infolayer\"><g class=\"g-gtitle\"><text class=\"gtitle\" x=\"35\" y=\"50\" text-anchor=\"start\" dy=\"0em\" style=\"font-family: 'Open Sans', verdana, arial, sans-serif; font-size: 17px; fill: rgb(42, 63, 95); opacity: 1; font-weight: normal; white-space: pre;\">Топ-10 улиц по количеству объектов общественного питания</text></g><g class=\"g-xtitle\"><text class=\"xtitle\" x=\"409\" y=\"460.8\" text-anchor=\"middle\" style=\"font-family: 'Open Sans', verdana, arial, sans-serif; font-size: 14px; fill: rgb(42, 63, 95); opacity: 1; font-weight: normal; white-space: pre;\">count</text></g><g class=\"g-ytitle\" transform=\"translate(2.0498046875,0)\"><text class=\"ytitle\" transform=\"rotate(-90,11.949999999999989,260)\" x=\"11.949999999999989\" y=\"260\" text-anchor=\"middle\" style=\"font-family: 'Open Sans', verdana, arial, sans-serif; font-size: 14px; fill: rgb(42, 63, 95); opacity: 1; font-weight: normal; white-space: pre;\">street</text></g></g></svg>"
      ]
     },
     "metadata": {},
     "output_type": "display_data"
    }
   ],
   "source": [
    "fig = px.bar(top10_street,\n",
    "             x='count', y='street', orientation='h',\n",
    "             title='Топ-10 улиц по количеству объектов общественного питания')\n",
    "\n",
    "fig.show()"
   ]
  },
  {
   "cell_type": "markdown",
   "metadata": {
    "id": "R1zI3F2pVzJE"
   },
   "source": [
    "А вот тут уже можно обратиться к Dadata. Функция возвращает нам район и координаты по улице"
   ]
  },
  {
   "cell_type": "markdown",
   "metadata": {
    "id": "nKSPdo6a0DDg"
   },
   "source": [
    "**Функция может не сработать, потому что лимит на количество бесплатных запросов. Поэтому отсюда запускать ничего не надо (да и не получится, токена нет)**\n",
    "\n",
    "**Я сохраню полученный мною df, выложу его на файлообменник и прочитаю ниже**"
   ]
  },
  {
   "cell_type": "code",
   "execution_count": null,
   "metadata": {
    "id": "qHPY6puP1VdW"
   },
   "outputs": [],
   "source": [
    "token = 'api'\n",
    "secret = 'secret-key'\n",
    "dadata = Dadata(token, secret)"
   ]
  },
  {
   "cell_type": "code",
   "execution_count": null,
   "metadata": {
    "id": "DnM0kxYLSb-h"
   },
   "outputs": [],
   "source": [
    "def get_district_dadata(row):\n",
    "    query = dadata.clean(\"address\", row['street'])\n",
    "  \n",
    "    try:\n",
    "        return pd.Series([query['city_district_with_type'], float(query['geo_lon']), float(query['geo_lat'])])\n",
    "    except:\n",
    "        return pd.Series([0, 0, 0])"
   ]
  },
  {
   "cell_type": "code",
   "execution_count": null,
   "metadata": {
    "id": "U8zh_ZVBX-0t"
   },
   "outputs": [],
   "source": [
    "tqdm.pandas()\n",
    "\n",
    "top10_street[['district', 'longitude', 'latitude']] = top10_street.progress_apply(get_district_dadata, axis=1)"
   ]
  },
  {
   "cell_type": "code",
   "execution_count": null,
   "metadata": {
    "id": "25QdFA20XcHX"
   },
   "outputs": [],
   "source": [
    "top10_street.to_csv('top10_street.csv', encoding='utf-8', index=False)"
   ]
  },
  {
   "cell_type": "markdown",
   "metadata": {
    "id": "PbDJYAhy04xU"
   },
   "source": [
    "**Отсюда можно запускать**"
   ]
  },
  {
   "cell_type": "code",
   "execution_count": 31,
   "metadata": {
    "id": "1WmZjblFxfx4"
   },
   "outputs": [],
   "source": [
    "url = 'https://drive.google.com/file/d/1no_ek_Yj0JNGXhdDss6oMVP6jLoUz8s5/view?usp=sharing'\n",
    "path = 'https://drive.google.com/uc?export=download&id='+url.split('/')[-2]\n",
    "top10_street = pd.read_csv(path)"
   ]
  },
  {
   "cell_type": "code",
   "execution_count": 32,
   "metadata": {
    "colab": {
     "base_uri": "https://localhost:8080/",
     "height": 359
    },
    "executionInfo": {
     "elapsed": 9,
     "status": "ok",
     "timestamp": 1627829595443,
     "user": {
      "displayName": "Арсен",
      "photoUrl": "https://lh3.googleusercontent.com/a-/AOh14GjPCG8vWVVB43Ax1wpE_vEPLjGP-XH0UWc12vB7wg=s64",
      "userId": "17661651445996378067"
     },
     "user_tz": -180
    },
    "id": "5MzpkcG600UJ",
    "outputId": "0e0da96d-915a-41a5-e449-bcba7cd800ed"
   },
   "outputs": [
    {
     "data": {
      "text/html": [
       "<div>\n",
       "<style scoped>\n",
       "    .dataframe tbody tr th:only-of-type {\n",
       "        vertical-align: middle;\n",
       "    }\n",
       "\n",
       "    .dataframe tbody tr th {\n",
       "        vertical-align: top;\n",
       "    }\n",
       "\n",
       "    .dataframe thead th {\n",
       "        text-align: right;\n",
       "    }\n",
       "</style>\n",
       "<table border=\"1\" class=\"dataframe\">\n",
       "  <thead>\n",
       "    <tr style=\"text-align: right;\">\n",
       "      <th></th>\n",
       "      <th>street</th>\n",
       "      <th>count</th>\n",
       "      <th>district</th>\n",
       "      <th>longitude</th>\n",
       "      <th>latitude</th>\n",
       "    </tr>\n",
       "  </thead>\n",
       "  <tbody>\n",
       "    <tr>\n",
       "      <th>0</th>\n",
       "      <td>проспект Мира</td>\n",
       "      <td>204</td>\n",
       "      <td>р-н Марьина роща</td>\n",
       "      <td>37.637937</td>\n",
       "      <td>55.812368</td>\n",
       "    </tr>\n",
       "    <tr>\n",
       "      <th>1</th>\n",
       "      <td>Профсоюзная улица</td>\n",
       "      <td>178</td>\n",
       "      <td>р-н Черемушки</td>\n",
       "      <td>37.532511</td>\n",
       "      <td>55.649520</td>\n",
       "    </tr>\n",
       "    <tr>\n",
       "      <th>2</th>\n",
       "      <td>Ленинградский проспект</td>\n",
       "      <td>170</td>\n",
       "      <td>р-н Сокол</td>\n",
       "      <td>37.545604</td>\n",
       "      <td>55.794196</td>\n",
       "    </tr>\n",
       "    <tr>\n",
       "      <th>3</th>\n",
       "      <td>Пресненская набережная</td>\n",
       "      <td>167</td>\n",
       "      <td>р-н Пресненский</td>\n",
       "      <td>37.541949</td>\n",
       "      <td>55.747144</td>\n",
       "    </tr>\n",
       "    <tr>\n",
       "      <th>4</th>\n",
       "      <td>Варшавское шоссе</td>\n",
       "      <td>160</td>\n",
       "      <td>р-н Чертаново Южное</td>\n",
       "      <td>37.604053</td>\n",
       "      <td>55.599992</td>\n",
       "    </tr>\n",
       "    <tr>\n",
       "      <th>5</th>\n",
       "      <td>Ленинский проспект</td>\n",
       "      <td>146</td>\n",
       "      <td>р-н Проспект Вернадского</td>\n",
       "      <td>37.537038</td>\n",
       "      <td>55.682601</td>\n",
       "    </tr>\n",
       "    <tr>\n",
       "      <th>6</th>\n",
       "      <td>проспект Вернадского</td>\n",
       "      <td>126</td>\n",
       "      <td>р-н Ломоносовский</td>\n",
       "      <td>37.515248</td>\n",
       "      <td>55.681664</td>\n",
       "    </tr>\n",
       "    <tr>\n",
       "      <th>7</th>\n",
       "      <td>Кутузовский проспект</td>\n",
       "      <td>114</td>\n",
       "      <td>р-н Дорогомилово</td>\n",
       "      <td>37.509035</td>\n",
       "      <td>55.735108</td>\n",
       "    </tr>\n",
       "    <tr>\n",
       "      <th>8</th>\n",
       "      <td>Кировоградская улица</td>\n",
       "      <td>107</td>\n",
       "      <td>р-н Чертаново Южное</td>\n",
       "      <td>37.604962</td>\n",
       "      <td>55.614296</td>\n",
       "    </tr>\n",
       "    <tr>\n",
       "      <th>9</th>\n",
       "      <td>Ходынский бульвар</td>\n",
       "      <td>102</td>\n",
       "      <td>р-н Хорошевский</td>\n",
       "      <td>37.535248</td>\n",
       "      <td>55.785717</td>\n",
       "    </tr>\n",
       "  </tbody>\n",
       "</table>\n",
       "</div>"
      ],
      "text/plain": [
       "                   street  count                  district  longitude  \\\n",
       "0           проспект Мира    204          р-н Марьина роща  37.637937   \n",
       "1       Профсоюзная улица    178             р-н Черемушки  37.532511   \n",
       "2  Ленинградский проспект    170                 р-н Сокол  37.545604   \n",
       "3  Пресненская набережная    167           р-н Пресненский  37.541949   \n",
       "4        Варшавское шоссе    160       р-н Чертаново Южное  37.604053   \n",
       "5      Ленинский проспект    146  р-н Проспект Вернадского  37.537038   \n",
       "6    проспект Вернадского    126         р-н Ломоносовский  37.515248   \n",
       "7    Кутузовский проспект    114          р-н Дорогомилово  37.509035   \n",
       "8    Кировоградская улица    107       р-н Чертаново Южное  37.604962   \n",
       "9       Ходынский бульвар    102           р-н Хорошевский  37.535248   \n",
       "\n",
       "    latitude  \n",
       "0  55.812368  \n",
       "1  55.649520  \n",
       "2  55.794196  \n",
       "3  55.747144  \n",
       "4  55.599992  \n",
       "5  55.682601  \n",
       "6  55.681664  \n",
       "7  55.735108  \n",
       "8  55.614296  \n",
       "9  55.785717  "
      ]
     },
     "execution_count": 32,
     "metadata": {},
     "output_type": "execute_result"
    }
   ],
   "source": [
    "top10_street"
   ]
  },
  {
   "cell_type": "code",
   "execution_count": 33,
   "metadata": {
    "colab": {
     "base_uri": "https://localhost:8080/"
    },
    "executionInfo": {
     "elapsed": 4,
     "status": "ok",
     "timestamp": 1627829598367,
     "user": {
      "displayName": "Арсен",
      "photoUrl": "https://lh3.googleusercontent.com/a-/AOh14GjPCG8vWVVB43Ax1wpE_vEPLjGP-XH0UWc12vB7wg=s64",
      "userId": "17661651445996378067"
     },
     "user_tz": -180
    },
    "id": "9EHJDoKzoqcH",
    "outputId": "4172f46b-1fa8-493f-cf43-63e49c4463b3"
   },
   "outputs": [
    {
     "data": {
      "text/plain": [
       "['проспект Мира',\n",
       " 'Профсоюзная улица',\n",
       " 'Ленинградский проспект',\n",
       " 'Пресненская набережная',\n",
       " 'Варшавское шоссе',\n",
       " 'Ленинский проспект',\n",
       " 'проспект Вернадского',\n",
       " 'Кутузовский проспект',\n",
       " 'Кировоградская улица',\n",
       " 'Ходынский бульвар']"
      ]
     },
     "execution_count": 33,
     "metadata": {},
     "output_type": "execute_result"
    }
   ],
   "source": [
    "top10_street_list = list(top10_street['street'])\n",
    "top10_street_list"
   ]
  },
  {
   "cell_type": "code",
   "execution_count": 34,
   "metadata": {
    "colab": {
     "base_uri": "https://localhost:8080/",
     "height": 419
    },
    "executionInfo": {
     "elapsed": 228,
     "status": "ok",
     "timestamp": 1627829664501,
     "user": {
      "displayName": "Арсен",
      "photoUrl": "https://lh3.googleusercontent.com/a-/AOh14GjPCG8vWVVB43Ax1wpE_vEPLjGP-XH0UWc12vB7wg=s64",
      "userId": "17661651445996378067"
     },
     "user_tz": -180
    },
    "id": "bZvePYeooqcH",
    "outputId": "32c0c1f0-911a-4ec4-bbd2-a84b4173baff"
   },
   "outputs": [
    {
     "data": {
      "text/html": [
       "<div>\n",
       "<style scoped>\n",
       "    .dataframe tbody tr th:only-of-type {\n",
       "        vertical-align: middle;\n",
       "    }\n",
       "\n",
       "    .dataframe tbody tr th {\n",
       "        vertical-align: top;\n",
       "    }\n",
       "\n",
       "    .dataframe thead th {\n",
       "        text-align: right;\n",
       "    }\n",
       "</style>\n",
       "<table border=\"1\" class=\"dataframe\">\n",
       "  <thead>\n",
       "    <tr style=\"text-align: right;\">\n",
       "      <th></th>\n",
       "      <th>street</th>\n",
       "      <th>count</th>\n",
       "    </tr>\n",
       "  </thead>\n",
       "  <tbody>\n",
       "    <tr>\n",
       "      <th>0</th>\n",
       "      <td>город Москва, Ходынский бульвар, дом 4</td>\n",
       "      <td>95</td>\n",
       "    </tr>\n",
       "    <tr>\n",
       "      <th>1</th>\n",
       "      <td>город Москва, Пресненская набережная, дом 2</td>\n",
       "      <td>63</td>\n",
       "    </tr>\n",
       "    <tr>\n",
       "      <th>2</th>\n",
       "      <td>город Москва, проспект Мира, дом 211, корпус 2</td>\n",
       "      <td>60</td>\n",
       "    </tr>\n",
       "    <tr>\n",
       "      <th>3</th>\n",
       "      <td>город Москва, Кировоградская улица, дом 13А</td>\n",
       "      <td>52</td>\n",
       "    </tr>\n",
       "    <tr>\n",
       "      <th>4</th>\n",
       "      <td>город Москва, Кутузовский проспект, дом 57</td>\n",
       "      <td>40</td>\n",
       "    </tr>\n",
       "    <tr>\n",
       "      <th>...</th>\n",
       "      <td>...</td>\n",
       "      <td>...</td>\n",
       "    </tr>\n",
       "    <tr>\n",
       "      <th>520</th>\n",
       "      <td>город Москва, проспект Вернадского, дом 13</td>\n",
       "      <td>1</td>\n",
       "    </tr>\n",
       "    <tr>\n",
       "      <th>521</th>\n",
       "      <td>город Москва, проспект Мира, дом 39А</td>\n",
       "      <td>1</td>\n",
       "    </tr>\n",
       "    <tr>\n",
       "      <th>522</th>\n",
       "      <td>город Москва, Варшавское шоссе, дом 132А</td>\n",
       "      <td>1</td>\n",
       "    </tr>\n",
       "    <tr>\n",
       "      <th>523</th>\n",
       "      <td>город Москва, Ленинградский проспект, дом 75, ...</td>\n",
       "      <td>1</td>\n",
       "    </tr>\n",
       "    <tr>\n",
       "      <th>524</th>\n",
       "      <td>город Москва, проспект Мира, дом 6</td>\n",
       "      <td>1</td>\n",
       "    </tr>\n",
       "  </tbody>\n",
       "</table>\n",
       "<p>525 rows × 2 columns</p>\n",
       "</div>"
      ],
      "text/plain": [
       "                                                street  count\n",
       "0               город Москва, Ходынский бульвар, дом 4     95\n",
       "1          город Москва, Пресненская набережная, дом 2     63\n",
       "2       город Москва, проспект Мира, дом 211, корпус 2     60\n",
       "3          город Москва, Кировоградская улица, дом 13А     52\n",
       "4           город Москва, Кутузовский проспект, дом 57     40\n",
       "..                                                 ...    ...\n",
       "520         город Москва, проспект Вернадского, дом 13      1\n",
       "521               город Москва, проспект Мира, дом 39А      1\n",
       "522           город Москва, Варшавское шоссе, дом 132А      1\n",
       "523  город Москва, Ленинградский проспект, дом 75, ...      1\n",
       "524                 город Москва, проспект Мира, дом 6      1\n",
       "\n",
       "[525 rows x 2 columns]"
      ]
     },
     "execution_count": 34,
     "metadata": {},
     "output_type": "execute_result"
    }
   ],
   "source": [
    "top10_address = (\n",
    "    rest_data\n",
    "        .query('street in @top10_street_list')['address']\n",
    "        .value_counts()\n",
    "        .reset_index()\n",
    "        .rename(columns={'index':'street',\n",
    "                         'address':'count'})\n",
    ")\n",
    "\n",
    "top10_address"
   ]
  },
  {
   "cell_type": "markdown",
   "metadata": {
    "id": "YN3QbU1MQUCS"
   },
   "source": [
    "**Здесь всё так же, как сверху. Запускать не надо, я дальше все сохранил.**"
   ]
  },
  {
   "cell_type": "markdown",
   "metadata": {
    "id": "63_W_UL1k0XJ"
   },
   "source": [
    "Строк много, Dadata исчерпчал свой лимит, будем теперь использовать Yandex Geocoder."
   ]
  },
  {
   "cell_type": "markdown",
   "metadata": {
    "id": "_NGf2EqFxKNv"
   },
   "source": [
    "Функция заменяет пробелы в названиях улиц на '+', вставляет в geocode url, далее получает json, парсит, вытаскивает координаты, преобразует в float, возвращает series с координатами, а мы их сохраням в соответствующие столбцы.\n",
    "\n",
    "Используем конструкцию try-except на случай, если url по улице не откроется"
   ]
  },
  {
   "cell_type": "code",
   "execution_count": null,
   "metadata": {
    "id": "aG-WYnJJVE13"
   },
   "outputs": [],
   "source": [
    "API = 'api-key'"
   ]
  },
  {
   "cell_type": "code",
   "execution_count": null,
   "metadata": {
    "id": "NbkaIG7P_vlg"
   },
   "outputs": [],
   "source": [
    "def get_pos_yandexgeo(row):\n",
    "    street = '+'.join(row['street'].split())\n",
    "\n",
    "    url = 'https://geocode-maps.yandex.ru/1.x'\n",
    "    params = {'geocode':'Москва,{}'.format(street),\n",
    "              'format':'json',\n",
    "              'apikey': API}\n",
    "\n",
    "    r = requests.get(url, params=params).json()\n",
    "    \n",
    "    try:\n",
    "        pos = r['response']['GeoObjectCollection']['featureMember'][0]['GeoObject']['Point']['pos']\n",
    "        return pd.Series([float(pos.split()[0]), float(pos.split()[1])])\n",
    "    except:\n",
    "        return pd.Series([0, 0])"
   ]
  },
  {
   "cell_type": "code",
   "execution_count": null,
   "metadata": {
    "colab": {
     "background_save": true
    },
    "id": "LenPtGP7oqcH"
   },
   "outputs": [],
   "source": [
    "tqdm.pandas()\n",
    "\n",
    "top10_address[['longitude', 'latitude']] = top10_address.progress_apply(get_pos_yandexgeo, axis=1)"
   ]
  },
  {
   "cell_type": "code",
   "execution_count": null,
   "metadata": {
    "colab": {
     "background_save": true
    },
    "id": "_w1f6WWEoqcH"
   },
   "outputs": [],
   "source": [
    "top10_address.to_csv('top10_address.csv', encoding='utf-8', index=False)"
   ]
  },
  {
   "cell_type": "markdown",
   "metadata": {
    "id": "sJDbTCBdqhkD"
   },
   "source": [
    "**отсюда**"
   ]
  },
  {
   "cell_type": "code",
   "execution_count": 35,
   "metadata": {
    "id": "XvqJhKFyx45Y"
   },
   "outputs": [],
   "source": [
    "url = 'https://drive.google.com/file/d/1ePupxlQX0F2R7UNTerNP0Z3e1JNGOMw8/view?usp=sharing'\n",
    "path = 'https://drive.google.com/uc?export=download&id='+url.split('/')[-2]\n",
    "top10_address = pd.read_csv(path)"
   ]
  },
  {
   "cell_type": "code",
   "execution_count": 36,
   "metadata": {
    "colab": {
     "base_uri": "https://localhost:8080/",
     "height": 419
    },
    "executionInfo": {
     "elapsed": 7,
     "status": "ok",
     "timestamp": 1627829674214,
     "user": {
      "displayName": "Арсен",
      "photoUrl": "https://lh3.googleusercontent.com/a-/AOh14GjPCG8vWVVB43Ax1wpE_vEPLjGP-XH0UWc12vB7wg=s64",
      "userId": "17661651445996378067"
     },
     "user_tz": -180
    },
    "id": "aW0y--pYoqcI",
    "outputId": "83da9795-9daf-4ef8-96ca-fe6c1241e85e"
   },
   "outputs": [
    {
     "data": {
      "text/html": [
       "<div>\n",
       "<style scoped>\n",
       "    .dataframe tbody tr th:only-of-type {\n",
       "        vertical-align: middle;\n",
       "    }\n",
       "\n",
       "    .dataframe tbody tr th {\n",
       "        vertical-align: top;\n",
       "    }\n",
       "\n",
       "    .dataframe thead th {\n",
       "        text-align: right;\n",
       "    }\n",
       "</style>\n",
       "<table border=\"1\" class=\"dataframe\">\n",
       "  <thead>\n",
       "    <tr style=\"text-align: right;\">\n",
       "      <th></th>\n",
       "      <th>street</th>\n",
       "      <th>count</th>\n",
       "      <th>longitude</th>\n",
       "      <th>latitude</th>\n",
       "    </tr>\n",
       "  </thead>\n",
       "  <tbody>\n",
       "    <tr>\n",
       "      <th>0</th>\n",
       "      <td>город Москва, Ходынский бульвар, дом 4</td>\n",
       "      <td>95</td>\n",
       "      <td>37.531289</td>\n",
       "      <td>55.790231</td>\n",
       "    </tr>\n",
       "    <tr>\n",
       "      <th>1</th>\n",
       "      <td>город Москва, Пресненская набережная, дом 2</td>\n",
       "      <td>63</td>\n",
       "      <td>37.539742</td>\n",
       "      <td>55.749162</td>\n",
       "    </tr>\n",
       "    <tr>\n",
       "      <th>2</th>\n",
       "      <td>город Москва, проспект Мира, дом 211, корпус 2</td>\n",
       "      <td>60</td>\n",
       "      <td>37.662093</td>\n",
       "      <td>55.845855</td>\n",
       "    </tr>\n",
       "    <tr>\n",
       "      <th>3</th>\n",
       "      <td>город Москва, Кировоградская улица, дом 13А</td>\n",
       "      <td>52</td>\n",
       "      <td>37.607035</td>\n",
       "      <td>55.612182</td>\n",
       "    </tr>\n",
       "    <tr>\n",
       "      <th>4</th>\n",
       "      <td>город Москва, Кутузовский проспект, дом 57</td>\n",
       "      <td>40</td>\n",
       "      <td>37.476169</td>\n",
       "      <td>55.727932</td>\n",
       "    </tr>\n",
       "    <tr>\n",
       "      <th>...</th>\n",
       "      <td>...</td>\n",
       "      <td>...</td>\n",
       "      <td>...</td>\n",
       "      <td>...</td>\n",
       "    </tr>\n",
       "    <tr>\n",
       "      <th>520</th>\n",
       "      <td>город Москва, Ленинградский проспект, дом 33, ...</td>\n",
       "      <td>1</td>\n",
       "      <td>37.560484</td>\n",
       "      <td>55.786460</td>\n",
       "    </tr>\n",
       "    <tr>\n",
       "      <th>521</th>\n",
       "      <td>город Москва, проспект Мира, дом 114Б</td>\n",
       "      <td>1</td>\n",
       "      <td>37.638359</td>\n",
       "      <td>55.808154</td>\n",
       "    </tr>\n",
       "    <tr>\n",
       "      <th>522</th>\n",
       "      <td>город Москва, Профсоюзная улица, дом 25, корпус 1</td>\n",
       "      <td>1</td>\n",
       "      <td>37.562667</td>\n",
       "      <td>55.674006</td>\n",
       "    </tr>\n",
       "    <tr>\n",
       "      <th>523</th>\n",
       "      <td>город Москва, Профсоюзная улица, дом 9</td>\n",
       "      <td>1</td>\n",
       "      <td>37.568875</td>\n",
       "      <td>55.682422</td>\n",
       "    </tr>\n",
       "    <tr>\n",
       "      <th>524</th>\n",
       "      <td>город Москва, Варшавское шоссе, дом 206</td>\n",
       "      <td>1</td>\n",
       "      <td>37.581721</td>\n",
       "      <td>55.537088</td>\n",
       "    </tr>\n",
       "  </tbody>\n",
       "</table>\n",
       "<p>525 rows × 4 columns</p>\n",
       "</div>"
      ],
      "text/plain": [
       "                                                street  count  longitude  \\\n",
       "0               город Москва, Ходынский бульвар, дом 4     95  37.531289   \n",
       "1          город Москва, Пресненская набережная, дом 2     63  37.539742   \n",
       "2       город Москва, проспект Мира, дом 211, корпус 2     60  37.662093   \n",
       "3          город Москва, Кировоградская улица, дом 13А     52  37.607035   \n",
       "4           город Москва, Кутузовский проспект, дом 57     40  37.476169   \n",
       "..                                                 ...    ...        ...   \n",
       "520  город Москва, Ленинградский проспект, дом 33, ...      1  37.560484   \n",
       "521              город Москва, проспект Мира, дом 114Б      1  37.638359   \n",
       "522  город Москва, Профсоюзная улица, дом 25, корпус 1      1  37.562667   \n",
       "523             город Москва, Профсоюзная улица, дом 9      1  37.568875   \n",
       "524            город Москва, Варшавское шоссе, дом 206      1  37.581721   \n",
       "\n",
       "      latitude  \n",
       "0    55.790231  \n",
       "1    55.749162  \n",
       "2    55.845855  \n",
       "3    55.612182  \n",
       "4    55.727932  \n",
       "..         ...  \n",
       "520  55.786460  \n",
       "521  55.808154  \n",
       "522  55.674006  \n",
       "523  55.682422  \n",
       "524  55.537088  \n",
       "\n",
       "[525 rows x 4 columns]"
      ]
     },
     "execution_count": 36,
     "metadata": {},
     "output_type": "execute_result"
    }
   ],
   "source": [
    "top10_address"
   ]
  },
  {
   "cell_type": "markdown",
   "metadata": {
    "id": "IlzdE-ndZQeU"
   },
   "source": [
    "С помощью folium визуализируем адреса заведений по нашим топ 10 улицам"
   ]
  },
  {
   "cell_type": "code",
   "execution_count": 37,
   "metadata": {
    "colab": {
     "base_uri": "https://localhost:8080/",
     "height": 915
    },
    "executionInfo": {
     "elapsed": 251,
     "status": "ok",
     "timestamp": 1627829677619,
     "user": {
      "displayName": "Арсен",
      "photoUrl": "https://lh3.googleusercontent.com/a-/AOh14GjPCG8vWVVB43Ax1wpE_vEPLjGP-XH0UWc12vB7wg=s64",
      "userId": "17661651445996378067"
     },
     "user_tz": -180
    },
    "id": "fD3OX_X5oqcI",
    "outputId": "0fd41d2d-0e37-44f4-abed-86f93b514494"
   },
   "outputs": [
    {
     "data": {
      "text/html": [
       "<div style=\"width:100%;\"><div style=\"position:relative;width:100%;height:0;padding-bottom:60%;\"><span style=\"color:#565656\">Make this Notebook Trusted to load map: File -> Trust Notebook</span><iframe src=\"about:blank\" style=\"position:absolute;width:100%;height:100%;left:0;top:0;border:none !important;\" data-html=%3C%21DOCTYPE%20html%3E%0A%3Chead%3E%20%20%20%20%0A%20%20%20%20%3Cmeta%20http-equiv%3D%22content-type%22%20content%3D%22text/html%3B%20charset%3DUTF-8%22%20/%3E%0A%20%20%20%20%0A%20%20%20%20%20%20%20%20%3Cscript%3E%0A%20%20%20%20%20%20%20%20%20%20%20%20L_NO_TOUCH%20%3D%20false%3B%0A%20%20%20%20%20%20%20%20%20%20%20%20L_DISABLE_3D%20%3D%20false%3B%0A%20%20%20%20%20%20%20%20%3C/script%3E%0A%20%20%20%20%0A%20%20%20%20%3Cstyle%3Ehtml%2C%20body%20%7Bwidth%3A%20100%25%3Bheight%3A%20100%25%3Bmargin%3A%200%3Bpadding%3A%200%3B%7D%3C/style%3E%0A%20%20%20%20%3Cstyle%3E%23map%20%7Bposition%3Aabsolute%3Btop%3A0%3Bbottom%3A0%3Bright%3A0%3Bleft%3A0%3B%7D%3C/style%3E%0A%20%20%20%20%3Cscript%20src%3D%22https%3A//cdn.jsdelivr.net/npm/leaflet%401.6.0/dist/leaflet.js%22%3E%3C/script%3E%0A%20%20%20%20%3Cscript%20src%3D%22https%3A//code.jquery.com/jquery-1.12.4.min.js%22%3E%3C/script%3E%0A%20%20%20%20%3Cscript%20src%3D%22https%3A//maxcdn.bootstrapcdn.com/bootstrap/3.2.0/js/bootstrap.min.js%22%3E%3C/script%3E%0A%20%20%20%20%3Cscript%20src%3D%22https%3A//cdnjs.cloudflare.com/ajax/libs/Leaflet.awesome-markers/2.0.2/leaflet.awesome-markers.js%22%3E%3C/script%3E%0A%20%20%20%20%3Clink%20rel%3D%22stylesheet%22%20href%3D%22https%3A//cdn.jsdelivr.net/npm/leaflet%401.6.0/dist/leaflet.css%22/%3E%0A%20%20%20%20%3Clink%20rel%3D%22stylesheet%22%20href%3D%22https%3A//maxcdn.bootstrapcdn.com/bootstrap/3.2.0/css/bootstrap.min.css%22/%3E%0A%20%20%20%20%3Clink%20rel%3D%22stylesheet%22%20href%3D%22https%3A//maxcdn.bootstrapcdn.com/bootstrap/3.2.0/css/bootstrap-theme.min.css%22/%3E%0A%20%20%20%20%3Clink%20rel%3D%22stylesheet%22%20href%3D%22https%3A//maxcdn.bootstrapcdn.com/font-awesome/4.6.3/css/font-awesome.min.css%22/%3E%0A%20%20%20%20%3Clink%20rel%3D%22stylesheet%22%20href%3D%22https%3A//cdnjs.cloudflare.com/ajax/libs/Leaflet.awesome-markers/2.0.2/leaflet.awesome-markers.css%22/%3E%0A%20%20%20%20%3Clink%20rel%3D%22stylesheet%22%20href%3D%22https%3A//cdn.jsdelivr.net/gh/python-visualization/folium/folium/templates/leaflet.awesome.rotate.min.css%22/%3E%0A%20%20%20%20%0A%20%20%20%20%20%20%20%20%20%20%20%20%3Cmeta%20name%3D%22viewport%22%20content%3D%22width%3Ddevice-width%2C%0A%20%20%20%20%20%20%20%20%20%20%20%20%20%20%20%20initial-scale%3D1.0%2C%20maximum-scale%3D1.0%2C%20user-scalable%3Dno%22%20/%3E%0A%20%20%20%20%20%20%20%20%20%20%20%20%3Cstyle%3E%0A%20%20%20%20%20%20%20%20%20%20%20%20%20%20%20%20%23map_0989916c67934c8dbc076e5f06c979d0%20%7B%0A%20%20%20%20%20%20%20%20%20%20%20%20%20%20%20%20%20%20%20%20position%3A%20relative%3B%0A%20%20%20%20%20%20%20%20%20%20%20%20%20%20%20%20%20%20%20%20width%3A%20100.0%25%3B%0A%20%20%20%20%20%20%20%20%20%20%20%20%20%20%20%20%20%20%20%20height%3A%20100.0%25%3B%0A%20%20%20%20%20%20%20%20%20%20%20%20%20%20%20%20%20%20%20%20left%3A%200.0%25%3B%0A%20%20%20%20%20%20%20%20%20%20%20%20%20%20%20%20%20%20%20%20top%3A%200.0%25%3B%0A%20%20%20%20%20%20%20%20%20%20%20%20%20%20%20%20%7D%0A%20%20%20%20%20%20%20%20%20%20%20%20%3C/style%3E%0A%20%20%20%20%20%20%20%20%0A%20%20%20%20%3Cscript%20src%3D%22https%3A//cdn.jsdelivr.net/gh/python-visualization/folium%40master/folium/templates/leaflet_heat.min.js%22%3E%3C/script%3E%0A%3C/head%3E%0A%3Cbody%3E%20%20%20%20%0A%20%20%20%20%0A%20%20%20%20%20%20%20%20%20%20%20%20%3Cdiv%20class%3D%22folium-map%22%20id%3D%22map_0989916c67934c8dbc076e5f06c979d0%22%20%3E%3C/div%3E%0A%20%20%20%20%20%20%20%20%0A%3C/body%3E%0A%3Cscript%3E%20%20%20%20%0A%20%20%20%20%0A%20%20%20%20%20%20%20%20%20%20%20%20var%20map_0989916c67934c8dbc076e5f06c979d0%20%3D%20L.map%28%0A%20%20%20%20%20%20%20%20%20%20%20%20%20%20%20%20%22map_0989916c67934c8dbc076e5f06c979d0%22%2C%0A%20%20%20%20%20%20%20%20%20%20%20%20%20%20%20%20%7B%0A%20%20%20%20%20%20%20%20%20%20%20%20%20%20%20%20%20%20%20%20center%3A%20%5B55.755819%2C%2037.617644%5D%2C%0A%20%20%20%20%20%20%20%20%20%20%20%20%20%20%20%20%20%20%20%20crs%3A%20L.CRS.EPSG3857%2C%0A%20%20%20%20%20%20%20%20%20%20%20%20%20%20%20%20%20%20%20%20zoom%3A%2011%2C%0A%20%20%20%20%20%20%20%20%20%20%20%20%20%20%20%20%20%20%20%20zoomControl%3A%20true%2C%0A%20%20%20%20%20%20%20%20%20%20%20%20%20%20%20%20%20%20%20%20preferCanvas%3A%20false%2C%0A%20%20%20%20%20%20%20%20%20%20%20%20%20%20%20%20%7D%0A%20%20%20%20%20%20%20%20%20%20%20%20%29%3B%0A%0A%20%20%20%20%20%20%20%20%20%20%20%20%0A%0A%20%20%20%20%20%20%20%20%0A%20%20%20%20%0A%20%20%20%20%20%20%20%20%20%20%20%20var%20tile_layer_06c03df1c5764d07892e96dd60c3ffa6%20%3D%20L.tileLayer%28%0A%20%20%20%20%20%20%20%20%20%20%20%20%20%20%20%20%22https%3A//%7Bs%7D.tile.openstreetmap.org/%7Bz%7D/%7Bx%7D/%7By%7D.png%22%2C%0A%20%20%20%20%20%20%20%20%20%20%20%20%20%20%20%20%7B%22attribution%22%3A%20%22Data%20by%20%5Cu0026copy%3B%20%5Cu003ca%20href%3D%5C%22http%3A//openstreetmap.org%5C%22%5Cu003eOpenStreetMap%5Cu003c/a%5Cu003e%2C%20under%20%5Cu003ca%20href%3D%5C%22http%3A//www.openstreetmap.org/copyright%5C%22%5Cu003eODbL%5Cu003c/a%5Cu003e.%22%2C%20%22detectRetina%22%3A%20false%2C%20%22maxNativeZoom%22%3A%2018%2C%20%22maxZoom%22%3A%2018%2C%20%22minZoom%22%3A%200%2C%20%22noWrap%22%3A%20false%2C%20%22opacity%22%3A%201%2C%20%22subdomains%22%3A%20%22abc%22%2C%20%22tms%22%3A%20false%7D%0A%20%20%20%20%20%20%20%20%20%20%20%20%29.addTo%28map_0989916c67934c8dbc076e5f06c979d0%29%3B%0A%20%20%20%20%20%20%20%20%0A%20%20%20%20%0A%20%20%20%20%20%20%20%20%20%20%20%20var%20heat_map_776bc73816034622a8a542987da1868b%20%3D%20L.heatLayer%28%0A%20%20%20%20%20%20%20%20%20%20%20%20%20%20%20%20%5B%5B55.790231%2C%2037.531289%5D%2C%20%5B55.749162%2C%2037.539742%5D%2C%20%5B55.845855%2C%2037.662093%5D%2C%20%5B55.612182%2C%2037.607035%5D%2C%20%5B55.727932%2C%2037.476169%5D%2C%20%5B55.691963%2C%2037.527965%5D%2C%20%5B55.749633%2C%2037.537434%5D%2C%20%5B55.656037%2C%2037.541512%5D%2C%20%5B55.670021%2C%2037.55248%5D%2C%20%5B55.663842%2C%2037.511445%5D%2C%20%5B55.746593%2C%2037.53738%5D%2C%20%5B55.747115%2C%2037.539087%5D%2C%20%5B55.663024%2C%2037.481001%5D%2C%20%5B55.748179%2C%2037.540245%5D%2C%20%5B55.61813%2C%2037.507484%5D%2C%20%5B55.822276%2C%2037.647037%5D%2C%20%5B55.747622%2C%2037.535071%5D%2C%20%5B55.791248%2C%2037.559388%5D%2C%20%5B55.748924%2C%2037.542949%5D%2C%20%5B55.78359%2C%2037.56017%5D%2C%20%5B55.752328%2C%2037.566773%5D%2C%20%5B55.622609%2C%2037.605939%5D%2C%20%5B55.653644%2C%2037.620698%5D%2C%20%5B55.750788%2C%2037.5592%5D%2C%20%5B55.63037%2C%2037.516853%5D%2C%20%5B55.651186%2C%2037.483104%5D%2C%20%5B55.64192%2C%2037.523465%5D%2C%20%5B55.731718%2C%2037.487362%5D%2C%20%5B55.777965%2C%2037.633077%5D%2C%20%5B55.703129%2C%2037.623313%5D%2C%20%5B55.632672%2C%2037.518587%5D%2C%20%5B55.800595%2C%2037.63668%5D%2C%20%5B55.681712%2C%2037.516449%5D%2C%20%5B55.801835%2C%2037.532107%5D%2C%20%5B55.61207%2C%2037.603127%5D%2C%20%5B55.582991%2C%2037.595249%5D%2C%20%5B55.609929%2C%2037.603415%5D%2C%20%5B55.687477%2C%2037.572378%5D%2C%20%5B55.683909%2C%2037.621552%5D%2C%20%5B55.640274%2C%2037.621947%5D%2C%20%5B55.657408%2C%2037.497656%5D%2C%20%5B55.679514%2C%2037.565335%5D%2C%20%5B55.807956%2C%2037.511508%5D%2C%20%5B55.700877%2C%2037.622405%5D%2C%20%5B55.799036%2C%2037.532601%5D%2C%20%5B55.636311%2C%2037.521138%5D%2C%20%5B55.633226%2C%2037.624256%5D%2C%20%5B55.751406%2C%2037.565713%5D%2C%20%5B55.689141%2C%2037.545833%5D%2C%20%5B55.805133%2C%2037.516952%5D%2C%20%5B55.677737%2C%2037.506891%5D%2C%20%5B55.700035%2C%2037.62369%5D%2C%20%5B55.699467%2C%2037.625594%5D%2C%20%5B55.615909%2C%2037.607924%5D%2C%20%5B55.729529%2C%2037.611392%5D%2C%20%5B55.820642%2C%2037.642042%5D%2C%20%5B55.657931%2C%2037.476052%5D%2C%20%5B55.806742%2C%2037.637551%5D%2C%20%5B55.727136%2C%2037.606909%5D%2C%20%5B55.643658%2C%2037.526241%5D%2C%20%5B55.661689%2C%2037.481469%5D%2C%20%5B55.688746%2C%2037.528891%5D%2C%20%5B55.66076%2C%2037.54356%5D%2C%20%5B55.802816%2C%2037.517716%5D%2C%20%5B55.709956%2C%2037.585691%5D%2C%20%5B55.79055%2C%2037.547387%5D%2C%20%5B55.806059%2C%2037.513305%5D%2C%20%5B55.630441%2C%2037.51529%5D%2C%20%5B55.82755%2C%2037.64242%5D%2C%20%5B55.803282%2C%2037.512766%5D%2C%20%5B55.594514%2C%2037.599166%5D%2C%20%5B55.720905%2C%2037.600729%5D%2C%20%5B55.680554%2C%2037.566467%5D%2C%20%5B55.78732%2C%2037.559829%5D%2C%20%5B55.673905%2C%2037.559541%5D%2C%20%5B55.802761%2C%2037.526007%5D%2C%20%5B55.750717%2C%2037.564913%5D%2C%20%5B55.780162%2C%2037.578855%5D%2C%20%5B55.660968%2C%2037.476088%5D%2C%20%5B55.749162%2C%2037.539742%5D%2C%20%5B55.588415%2C%2037.601807%5D%2C%20%5B55.581139%2C%2037.597998%5D%2C%20%5B55.808548%2C%2037.512398%5D%2C%20%5B55.805791%2C%2037.520348%5D%2C%20%5B55.691521%2C%2037.552741%5D%2C%20%5B55.796157%2C%2037.543488%5D%2C%20%5B55.69658%2C%2037.561553%5D%2C%20%5B55.666487%2C%2037.547414%5D%2C%20%5B55.809231%2C%2037.636392%5D%2C%20%5B55.810668%2C%2037.638305%5D%2C%20%5B55.79098%2C%2037.634182%5D%2C%20%5B55.790221%2C%2037.544638%5D%2C%20%5B55.621719%2C%2037.611742%5D%2C%20%5B55.80104%2C%2037.533391%5D%2C%20%5B55.625572%2C%2037.61229%5D%2C%20%5B55.579653%2C%2037.591072%5D%2C%20%5B55.687497%2C%2037.543327%5D%2C%20%5B55.657189%2C%2037.481909%5D%2C%20%5B55.794629%2C%2037.542842%5D%2C%20%5B55.785964%2C%2037.634488%5D%2C%20%5B55.727136%2C%2037.609901%5D%2C%20%5B55.601966%2C%2037.601789%5D%2C%20%5B55.808953%2C%2037.638%5D%2C%20%5B55.801566%2C%2037.636671%5D%2C%20%5B55.780319%2C%2037.632098%5D%2C%20%5B55.697914%2C%2037.560377%5D%2C%20%5B55.667158%2C%2037.491386%5D%2C%20%5B55.720134%2C%2037.599965%5D%2C%20%5B55.626904%2C%2037.511014%5D%2C%20%5B55.589203%2C%2037.602714%5D%2C%20%5B55.789942%2C%2037.634299%5D%2C%20%5B55.684275%2C%2037.568938%5D%2C%20%5B55.662882%2C%2037.48561%5D%2C%20%5B55.744531%2C%2037.545267%5D%2C%20%5B55.620316%2C%2037.608922%5D%2C%20%5B55.699949%2C%2037.619683%5D%2C%20%5B55.746922%2C%2037.556864%5D%2C%20%5B55.77874%2C%2037.582125%5D%2C%20%5B55.696022%2C%2037.619764%5D%2C%20%5B55.673976%2C%2037.525872%5D%2C%20%5B55.789122%2C%2037.52165%5D%2C%20%5B55.805837%2C%2037.515164%5D%2C%20%5B55.74148%2C%2037.535835%5D%2C%20%5B55.79303%2C%2037.552193%5D%2C%20%5B55.787001%2C%2037.560781%5D%2C%20%5B55.692232%2C%2037.55487%5D%2C%20%5B55.581373%2C%2037.595465%5D%2C%20%5B55.631773%2C%2037.618031%5D%2C%20%5B55.663811%2C%2037.484864%5D%2C%20%5B55.780233%2C%2037.633688%5D%2C%20%5B55.790357%2C%2037.55328%5D%2C%20%5B55.684503%2C%2037.621947%5D%2C%20%5B55.750636%2C%2037.557673%5D%2C%20%5B55.633922%2C%2037.617204%5D%2C%20%5B55.774644%2C%2037.632646%5D%2C%20%5B55.666167%2C%2037.619854%5D%2C%20%5B55.781545%2C%2037.572082%5D%2C%20%5B55.844041%2C%2037.66265%5D%2C%20%5B55.67995%2C%2037.625289%5D%2C%20%5B55.740026%2C%2037.526295%5D%2C%20%5B55.779808%2C%2037.63252%5D%2C%20%5B55.680311%2C%2037.623492%5D%2C%20%5B55.707451%2C%2037.582826%5D%2C%20%5B55.668635%2C%2037.518767%5D%2C%20%5B55.604102%2C%2037.607862%5D%2C%20%5B55.806945%2C%2037.516934%5D%2C%20%5B55.704793%2C%2037.576286%5D%2C%20%5B55.80525%2C%2037.519863%5D%2C%20%5B55.591259%2C%2037.598348%5D%2C%20%5B55.655823%2C%2037.62051%5D%2C%20%5B55.625532%2C%2037.618543%5D%2C%20%5B55.630985%2C%2037.515632%5D%2C%20%5B55.80823%2C%2037.638009%5D%2C%20%5B55.782552%2C%2037.573708%5D%2C%20%5B55.79056%2C%2037.539877%5D%2C%20%5B55.789396%2C%2037.536832%5D%2C%20%5B55.583953%2C%2037.599157%5D%2C%20%5B55.684498%2C%2037.624085%5D%2C%20%5B55.835008%2C%2037.658347%5D%2C%20%5B55.779246%2C%2037.633347%5D%2C%20%5B55.750515%2C%2037.556379%5D%2C%20%5B55.609563%2C%2037.605122%5D%2C%20%5B55.67194%2C%2037.557233%5D%2C%20%5B55.783559%2C%2037.574714%5D%2C%20%5B55.666883%2C%2037.551879%5D%2C%20%5B55.65178%2C%2037.618767%5D%2C%20%5B55.649886%2C%2037.520141%5D%2C%20%5B55.662359%2C%2037.48587%5D%2C%20%5B55.729671%2C%2037.610961%5D%2C%20%5B55.814148%2C%2037.634281%5D%2C%20%5B55.738743%2C%2037.526187%5D%2C%20%5B55.808002%2C%2037.635862%5D%2C%20%5B55.663674%2C%2037.486733%5D%2C%20%5B55.784622%2C%2037.56945%5D%2C%20%5B55.688553%2C%2037.547405%5D%2C%20%5B55.802341%2C%2037.52916%5D%2C%20%5B55.783494%2C%2037.633859%5D%2C%20%5B55.783165%2C%2037.569225%5D%2C%20%5B55.620926%2C%2037.609425%5D%2C%20%5B55.700486%2C%2037.621678%5D%2C%20%5B55.787376%2C%2037.566728%5D%2C%20%5B55.632901%2C%2037.519872%5D%2C%20%5B55.672372%2C%2037.479097%5D%2C%20%5B55.600125%2C%2037.600882%5D%2C%20%5B55.633013%2C%2037.521569%5D%2C%20%5B55.680834%2C%2037.535871%5D%2C%20%5B55.650246%2C%2037.618821%5D%2C%20%5B55.810693%2C%2037.63676%5D%2C%20%5B55.653101%2C%2037.483616%5D%2C%20%5B55.781818%2C%2037.634344%5D%2C%20%5B55.644094%2C%2037.482223%5D%2C%20%5B55.61934%2C%2037.609128%5D%2C%20%5B55.669361%2C%2037.552337%5D%2C%20%5B55.660272%2C%2037.482744%5D%2C%20%5B55.646233%2C%2037.618821%5D%2C%20%5B55.63131%2C%2037.520294%5D%2C%20%5B55.664299%2C%2037.49162%5D%2C%20%5B55.614561%2C%2037.606631%5D%2C%20%5B55.662557%2C%2037.544566%5D%2C%20%5B55.67559%2C%2037.506038%5D%2C%20%5B55.78198%2C%2037.574983%5D%2C%20%5B55.679138%2C%2037.630131%5D%2C%20%5B55.780416%2C%2037.573932%5D%2C%20%5B55.775069%2C%2037.631272%5D%2C%20%5B55.61327%2C%2037.60779%5D%2C%20%5B55.78978%2C%2037.634326%5D%2C%20%5B55.666675%2C%2037.510511%5D%2C%20%5B55.690374%2C%2037.550657%5D%2C%20%5B55.782547%2C%2037.633688%5D%2C%20%5B55.66076%2C%2037.480265%5D%2C%20%5B55.791263%2C%2037.635161%5D%2C%20%5B55.622416%2C%2037.619513%5D%2C%20%5B55.669407%2C%2037.550504%5D%2C%20%5B55.778644%2C%2037.582709%5D%2C%20%5B55.630116%2C%2037.504025%5D%2C%20%5B55.599275%2C%2037.594773%5D%2C%20%5B55.792108%2C%2037.540757%5D%2C%20%5B55.778527%2C%2037.631577%5D%2C%20%5B55.727592%2C%2037.605903%5D%2C%20%5B55.814345%2C%2037.639357%5D%2C%20%5B55.742889%2C%2037.526618%5D%2C%20%5B55.773322%2C%2037.631936%5D%2C%20%5B55.679818%2C%2037.564141%5D%2C%20%5B55.69488%2C%2037.622306%5D%2C%20%5B55.651288%2C%2037.620447%5D%2C%20%5B55.643713%2C%2037.480849%5D%2C%20%5B55.614378%2C%2037.614096%5D%2C%20%5B55.806793%2C%2037.517796%5D%2C%20%5B55.72416%2C%2037.605508%5D%2C%20%5B55.683696%2C%2037.56989%5D%2C%20%5B55.750732%2C%2037.562272%5D%2C%20%5B55.67127%2C%2037.523249%5D%2C%20%5B55.803646%2C%2037.635107%5D%2C%20%5B55.815858%2C%2037.639572%5D%2C%20%5B55.596335%2C%2037.602885%5D%2C%20%5B55.665142%2C%2037.478603%5D%2C%20%5B55.676149%2C%2037.526259%5D%2C%20%5B55.665309%2C%2037.513395%5D%2C%20%5B55.798515%2C%2037.537955%5D%2C%20%5B55.64985%2C%2037.525001%5D%2C%20%5B55.597607%2C%2037.597953%5D%2C%20%5B55.635533%2C%2037.52616%5D%2C%20%5B55.656839%2C%2037.618767%5D%2C%20%5B55.620901%2C%2037.610449%5D%2C%20%5B55.642332%2C%2037.479106%5D%2C%20%5B55.622497%2C%2037.621525%5D%2C%20%5B55.60102%2C%2037.602526%5D%2C%20%5B55.667264%2C%2037.477049%5D%2C%20%5B55.806894%2C%2037.635593%5D%2C%20%5B55.708612%2C%2037.58667%5D%2C%20%5B55.616747%2C%2037.61088%5D%2C%20%5B55.793784%2C%2037.539967%5D%2C%20%5B55.653705%2C%2037.485619%5D%2C%20%5B55.685782%2C%2037.543201%5D%2C%20%5B55.633709%2C%2037.518111%5D%2C%20%5B55.678747%2C%2037.51114%5D%2C%20%5B55.817861%2C%2037.640336%5D%2C%20%5B55.677935%2C%2037.531631%5D%2C%20%5B55.782982%2C%2037.63385%5D%2C%20%5B55.798935%2C%2037.531199%5D%2C%20%5B55.685731%2C%2037.572396%5D%2C%20%5B55.790782%2C%2037.523213%5D%2C%20%5B55.793186%2C%2037.546731%5D%2C%20%5B55.801369%2C%2037.525612%5D%2C%20%5B55.777267%2C%2037.63641%5D%2C%20%5B55.675306%2C%2037.558032%5D%2C%20%5B55.785392%2C%2037.636069%5D%2C%20%5B55.624896%2C%2037.614428%5D%2C%20%5B55.692064%2C%2037.557197%5D%2C%20%5B55.778026%2C%2037.632116%5D%2C%20%5B55.802791%2C%2037.636823%5D%2C%20%5B55.676651%2C%2037.529789%5D%2C%20%5B55.717295%2C%2037.595097%5D%2C%20%5B55.78116%2C%2037.631847%5D%2C%20%5B55.660496%2C%2037.474543%5D%2C%20%5B55.812044%2C%2037.635287%5D%2C%20%5B55.710575%2C%2037.577561%5D%2C%20%5B55.773429%2C%2037.632682%5D%2C%20%5B55.80399%2C%2037.516%5D%2C%20%5B55.787518%2C%2037.635826%5D%2C%20%5B55.667345%2C%2037.475603%5D%2C%20%5B55.692714%2C%2037.53393%5D%2C%20%5B55.672808%2C%2037.504483%5D%2C%20%5B55.577551%2C%2037.597172%5D%2C%20%5B55.652679%2C%2037.476411%5D%2C%20%5B55.69351%2C%2037.622082%5D%2C%20%5B55.623631%2C%2037.507017%5D%2C%20%5B55.675758%2C%2037.495455%5D%2C%20%5B55.662242%2C%2037.48031%5D%2C%20%5B55.656702%2C%2037.5425%5D%2C%20%5B55.799806%2C%2037.530822%5D%2C%20%5B55.805776%2C%2037.506091%5D%2C%20%5B55.706741%2C%2037.57484%5D%2C%20%5B55.777292%2C%2037.635763%5D%2C%20%5B55.713451%2C%2037.588575%5D%2C%20%5B55.599647%2C%2037.59339%5D%2C%20%5B55.73811%2C%2037.528855%5D%2C%20%5B55.653136%2C%2037.537973%5D%2C%20%5B55.677433%2C%2037.50946%5D%2C%20%5B55.791213%2C%2037.633823%5D%2C%20%5B55.802998%2C%2037.519467%5D%2C%20%5B55.812175%2C%2037.638782%5D%2C%20%5B55.83656%2C%2037.656353%5D%2C%20%5B55.738688%2C%2037.531038%5D%2C%20%5B55.603364%2C%2037.601061%5D%2C%20%5B55.728292%2C%2037.609461%5D%2C%20%5B55.793232%2C%2037.636365%5D%2C%20%5B55.61781%2C%2037.601268%5D%2C%20%5B55.791602%2C%2037.541251%5D%2C%20%5B55.62945%2C%2037.621723%5D%2C%20%5B55.782365%2C%2037.63456%5D%2C%20%5B55.741987%2C%2037.526726%5D%2C%20%5B55.682524%2C%2037.62122%5D%2C%20%5B55.790757%2C%2037.552453%5D%2C%20%5B55.666909%2C%2037.5092%5D%2C%20%5B55.786116%2C%2037.635539%5D%2C%20%5B55.780689%2C%2037.63376%5D%2C%20%5B55.804951%2C%2037.520842%5D%2C%20%5B55.781038%2C%2037.632368%5D%2C%20%5B55.837197%2C%2037.657682%5D%2C%20%5B55.650002%2C%2037.618776%5D%2C%20%5B55.688649%2C%2037.62342%5D%2C%20%5B55.631757%2C%2037.507789%5D%2C%20%5B55.580136%2C%2037.594063%5D%2C%20%5B55.723207%2C%2037.603945%5D%2C%20%5B55.647468%2C%2037.527831%5D%2C%20%5B55.662227%2C%2037.50867%5D%2C%20%5B55.805533%2C%2037.521336%5D%2C%20%5B55.743188%2C%2037.538781%5D%2C%20%5B55.692064%2C%2037.557197%5D%2C%20%5B55.651674%2C%2037.490551%5D%2C%20%5B55.668615%2C%2037.547117%5D%2C%20%5B55.649251%2C%2037.484406%5D%2C%20%5B55.529201%2C%2037.579789%5D%2C%20%5B55.682803%2C%2037.617941%5D%2C%20%5B55.811771%2C%2037.639339%5D%2C%20%5B55.68698%2C%2037.544997%5D%2C%20%5B55.629496%2C%2037.607502%5D%2C%20%5B55.706533%2C%2037.583697%5D%2C%20%5B55.784111%2C%2037.560727%5D%2C%20%5B55.78727%2C%2037.635817%5D%2C%20%5B55.651039%2C%2037.620339%5D%2C%20%5B55.790114%2C%2037.522558%5D%2C%20%5B55.724434%2C%2037.603451%5D%2C%20%5B55.633597%2C%2037.518587%5D%2C%20%5B55.651516%2C%2037.488727%5D%2C%20%5B55.792007%2C%2037.546605%5D%2C%20%5B55.631168%2C%2037.517383%5D%2C%20%5B55.615344%2C%2037.602553%5D%2C%20%5B55.654035%2C%2037.482304%5D%2C%20%5B55.788125%2C%2037.635269%5D%2C%20%5B55.728935%2C%2037.608643%5D%2C%20%5B55.69486%2C%2037.558517%5D%2C%20%5B55.655168%2C%2037.492949%5D%2C%20%5B55.824405%2C%2037.64604%5D%2C%20%5B55.803995%2C%2037.637048%5D%2C%20%5B55.591671%2C%2037.596336%5D%2C%20%5B55.665705%2C%2037.488556%5D%2C%20%5B55.745954%2C%2037.549273%5D%2C%20%5B55.780507%2C%2037.574624%5D%2C%20%5B55.622085%2C%2037.621444%5D%2C%20%5B55.678402%2C%2037.511751%5D%2C%20%5B55.637642%2C%2037.516656%5D%2C%20%5B55.803621%2C%2037.524327%5D%2C%20%5B55.613473%2C%2037.606379%5D%2C%20%5B55.781858%2C%2037.571929%5D%2C%20%5B55.795909%2C%2037.545159%5D%2C%20%5B55.815145%2C%2037.63747%5D%2C%20%5B55.749836%2C%2037.55778%5D%2C%20%5B55.812368%2C%2037.640102%5D%2C%20%5B55.777307%2C%2037.634416%5D%2C%20%5B55.661471%2C%2037.483714%5D%2C%20%5B55.651978%2C%2037.486005%5D%2C%20%5B55.600389%2C%2037.599004%5D%2C%20%5B55.702551%2C%2037.56671%5D%2C%20%5B55.78322%2C%2037.573771%5D%2C%20%5B55.697199%2C%2037.619665%5D%2C%20%5B55.808786%2C%2037.511086%5D%2C%20%5B55.806413%2C%2037.51688%5D%2C%20%5B55.796567%2C%2037.536931%5D%2C%20%5B55.802169%2C%2037.638611%5D%2C%20%5B55.69076%2C%2037.53252%5D%2C%20%5B55.74147%2C%2037.540784%5D%2C%20%5B55.829062%2C%2037.650909%5D%2C%20%5B55.805361%2C%2037.635287%5D%2C%20%5B55.676301%2C%2037.504555%5D%2C%20%5B55.661816%2C%2037.617572%5D%2C%20%5B55.678052%2C%2037.623995%5D%2C%20%5B55.695829%2C%2037.557682%5D%2C%20%5B55.661333%2C%2037.509352%5D%2C%20%5B55.790717%2C%2037.54215%5D%2C%20%5B55.578574%2C%2037.602579%5D%2C%20%5B55.782005%2C%2037.570779%5D%2C%20%5B55.774968%2C%2037.63305%5D%2C%20%5B55.588649%2C%2037.604448%5D%2C%20%5B55.749177%2C%2037.560547%5D%2C%20%5B55.686203%2C%2037.54427%5D%2C%20%5B55.685437%2C%2037.570123%5D%2C%20%5B55.680087%2C%2037.539329%5D%2C%20%5B55.740522%2C%2037.528972%5D%2C%20%5B55.783402%2C%2037.635107%5D%2C%20%5B55.587687%2C%2037.595168%5D%2C%20%5B55.794609%2C%2037.541207%5D%2C%20%5B55.649063%2C%2037.533966%5D%2C%20%5B55.794689%2C%2037.538269%5D%2C%20%5B55.670138%2C%2037.493641%5D%2C%20%5B55.793186%2C%2037.635754%5D%2C%20%5B55.631285%2C%2037.505319%5D%2C%20%5B55.686269%2C%2037.511472%5D%2C%20%5B55.659124%2C%2037.54065%5D%2C%20%5B55.629567%2C%2037.616521%5D%2C%20%5B55.780127%2C%2037.632601%5D%2C%20%5B55.779145%2C%2037.57793%5D%2C%20%5B55.704286%2C%2037.568614%5D%2C%20%5B55.666624%2C%2037.51573%5D%2C%20%5B55.81868%2C%2037.636778%5D%2C%20%5B55.680763%2C%2037.533499%5D%2C%20%5B55.624352%2C%2037.508292%5D%2C%20%5B55.744531%2C%2037.545267%5D%2C%20%5B55.777565%2C%2037.578424%5D%2C%20%5B55.80483%2C%2037.510502%5D%2C%20%5B55.617729%2C%2037.49347%5D%2C%20%5B55.799163%2C%2037.536544%5D%2C%20%5B55.674504%2C%2037.504564%5D%2C%20%5B55.678458%2C%2037.564257%5D%2C%20%5B55.777975%2C%2037.633499%5D%2C%20%5B55.717913%2C%2037.593318%5D%2C%20%5B55.674331%2C%2037.564994%5D%2C%20%5B55.693079%2C%2037.622801%5D%2C%20%5B55.618872%2C%2037.612829%5D%2C%20%5B55.655808%2C%2037.498177%5D%2C%20%5B55.646894%2C%2037.620707%5D%2C%20%5B55.675514%2C%2037.561284%5D%2C%20%5B55.599438%2C%2037.598357%5D%2C%20%5B55.624012%2C%2037.498995%5D%2C%20%5B55.725737%2C%2037.455408%5D%2C%20%5B55.785559%2C%2037.635646%5D%2C%20%5B55.785392%2C%2037.562146%5D%2C%20%5B55.663202%2C%2037.490371%5D%2C%20%5B55.737076%2C%2037.525863%5D%2C%20%5B55.822751%2C%2037.639752%5D%2C%20%5B55.781615%2C%2037.632637%5D%2C%20%5B55.679351%2C%2037.533751%5D%2C%20%5B55.79889%2C%2037.533858%5D%2C%20%5B55.789492%2C%2037.635224%5D%2C%20%5B55.791714%2C%2037.542329%5D%2C%20%5B55.804956%2C%2037.512344%5D%2C%20%5B55.663994%2C%2037.489715%5D%2C%20%5B55.626721%2C%2037.504295%5D%2C%20%5B55.784207%2C%2037.570231%5D%2C%20%5B55.644623%2C%2037.618965%5D%2C%20%5B55.726142%2C%2037.608185%5D%2C%20%5B55.687046%2C%2037.571857%5D%2C%20%5B55.675641%2C%2037.626951%5D%2C%20%5B55.655772%2C%2037.481397%5D%2C%20%5B55.671366%2C%2037.525163%5D%2C%20%5B55.787837%2C%2037.567392%5D%2C%20%5B55.727465%2C%2037.608086%5D%2C%20%5B55.67325%2C%2037.502292%5D%2C%20%5B55.714171%2C%2037.590865%5D%2C%20%5B55.80102%2C%2037.636778%5D%2C%20%5B55.621211%2C%2037.616396%5D%2C%20%5B55.656539%2C%2037.621202%5D%2C%20%5B55.681057%2C%2037.517455%5D%2C%20%5B55.655285%2C%2037.473168%5D%2C%20%5B55.779712%2C%2037.579933%5D%2C%20%5B55.725595%2C%2037.449677%5D%2C%20%5B55.784045%2C%2037.635341%5D%2C%20%5B55.784374%2C%2037.531711%5D%2C%20%5B55.746791%2C%2037.552184%5D%2C%20%5B55.750038%2C%2037.561257%5D%2C%20%5B55.654528%2C%2037.491296%5D%2C%20%5B55.623996%2C%2037.608715%5D%2C%20%5B55.67655%2C%2037.525872%5D%2C%20%5B55.667132%2C%2037.495141%5D%2C%20%5B55.724677%2C%2037.601304%5D%2C%20%5B55.701318%2C%2037.567159%5D%2C%20%5B55.774224%2C%2037.631927%5D%2C%20%5B55.741855%2C%2037.525396%5D%2C%20%5B55.645258%2C%2037.529699%5D%2C%20%5B55.686284%2C%2037.624022%5D%2C%20%5B55.663365%2C%2037.492671%5D%2C%20%5B55.652659%2C%2037.475513%5D%2C%20%5B55.627981%2C%2037.60673%5D%2C%20%5B55.802659%2C%2037.519764%5D%2C%20%5B55.661059%2C%2037.621489%5D%2C%20%5B55.838369%2C%2037.659245%5D%2C%20%5B55.728783%2C%2037.610988%5D%2C%20%5B55.680747%2C%2037.514563%5D%2C%20%5B55.647244%2C%2037.524004%5D%2C%20%5B55.79473%2C%2037.546803%5D%2C%20%5B55.581444%2C%2037.590542%5D%2C%20%5B55.805214%2C%2037.508185%5D%2C%20%5B55.830392%2C%2037.649606%5D%2C%20%5B55.781038%2C%2037.5736%5D%2C%20%5B55.707365%2C%2037.57775%5D%2C%20%5B55.722036%2C%2037.602085%5D%2C%20%5B55.692389%2C%2037.622738%5D%2C%20%5B55.789957%2C%2037.633733%5D%2C%20%5B55.727491%2C%2037.608886%5D%2C%20%5B55.79428%2C%2037.543533%5D%2C%20%5B55.611806%2C%2037.611464%5D%2C%20%5B55.674184%2C%2037.528163%5D%2C%20%5B55.739625%2C%2037.527417%5D%2C%20%5B55.799689%2C%2037.535359%5D%2C%20%5B55.837308%2C%2037.660314%5D%2C%20%5B55.691755%2C%2037.622378%5D%2C%20%5B55.744977%2C%2037.549866%5D%2C%20%5B55.608251%2C%2037.597432%5D%2C%20%5B55.807663%2C%2037.635045%5D%2C%20%5B55.844576%2C%2037.67016%5D%2C%20%5B55.655478%2C%2037.482035%5D%2C%20%5B55.723719%2C%2037.452103%5D%2C%20%5B55.663918%2C%2037.621579%5D%2C%20%5B55.630614%2C%2037.514715%5D%2C%20%5B55.807375%2C%2037.511409%5D%2C%20%5B55.583566%2C%2037.600118%5D%2C%20%5B55.672082%2C%2037.48817%5D%2C%20%5B55.678148%2C%2037.568426%5D%2C%20%5B55.687655%2C%2037.527678%5D%2C%20%5B55.78646%2C%2037.560484%5D%2C%20%5B55.808154%2C%2037.638359%5D%2C%20%5B55.674006%2C%2037.562667%5D%2C%20%5B55.682422%2C%2037.568875%5D%2C%20%5B55.537088%2C%2037.581721%5D%5D%2C%0A%20%20%20%20%20%20%20%20%20%20%20%20%20%20%20%20%7B%22blur%22%3A%2015%2C%20%22maxZoom%22%3A%2018%2C%20%22minOpacity%22%3A%200.5%2C%20%22radius%22%3A%2025%7D%0A%20%20%20%20%20%20%20%20%20%20%20%20%29.addTo%28map_0989916c67934c8dbc076e5f06c979d0%29%3B%0A%20%20%20%20%20%20%20%20%0A%3C/script%3E onload=\"this.contentDocument.open();this.contentDocument.write(    decodeURIComponent(this.getAttribute('data-html')));this.contentDocument.close();\" allowfullscreen webkitallowfullscreen mozallowfullscreen></iframe></div></div>"
      ],
      "text/plain": [
       "<folium.folium.Map at 0x28761ec90a0>"
      ]
     },
     "execution_count": 37,
     "metadata": {},
     "output_type": "execute_result"
    }
   ],
   "source": [
    "moscow = folium.Map(location = [55.755819, 37.617644], zoom_start = 11)\n",
    "\n",
    "coordinates = []\n",
    "\n",
    "latitudes = list(top10_address['latitude'])\n",
    "longitudes = list(top10_address['longitude'])\n",
    "\n",
    "for lat, lng in zip(latitudes, longitudes):\n",
    "    coordinates.append([lat, lng])\n",
    "\n",
    "moscow.add_child(plugins.HeatMap(coordinates))"
   ]
  },
  {
   "cell_type": "markdown",
   "metadata": {
    "id": "SSrUKY-qGu-E"
   },
   "source": [
    "### Найдем число улиц с одним объектом общественного питания. Воспользуемся внешней информацией для ответа на вопрос — в каких районах Москвы находятся эти улицы?\n"
   ]
  },
  {
   "cell_type": "code",
   "execution_count": 38,
   "metadata": {
    "colab": {
     "base_uri": "https://localhost:8080/",
     "height": 419
    },
    "executionInfo": {
     "elapsed": 6,
     "status": "ok",
     "timestamp": 1627829908896,
     "user": {
      "displayName": "Арсен",
      "photoUrl": "https://lh3.googleusercontent.com/a-/AOh14GjPCG8vWVVB43Ax1wpE_vEPLjGP-XH0UWc12vB7wg=s64",
      "userId": "17661651445996378067"
     },
     "user_tz": -180
    },
    "id": "QTFLZ378jjf0",
    "outputId": "059fc991-a785-4f92-d752-3f0e4333ce0a"
   },
   "outputs": [
    {
     "data": {
      "text/html": [
       "<div>\n",
       "<style scoped>\n",
       "    .dataframe tbody tr th:only-of-type {\n",
       "        vertical-align: middle;\n",
       "    }\n",
       "\n",
       "    .dataframe tbody tr th {\n",
       "        vertical-align: top;\n",
       "    }\n",
       "\n",
       "    .dataframe thead th {\n",
       "        text-align: right;\n",
       "    }\n",
       "</style>\n",
       "<table border=\"1\" class=\"dataframe\">\n",
       "  <thead>\n",
       "    <tr style=\"text-align: right;\">\n",
       "      <th></th>\n",
       "      <th>street</th>\n",
       "    </tr>\n",
       "  </thead>\n",
       "  <tbody>\n",
       "    <tr>\n",
       "      <th>0</th>\n",
       "      <td>1-й Балтийский переулок</td>\n",
       "    </tr>\n",
       "    <tr>\n",
       "      <th>1</th>\n",
       "      <td>1-й Басманный переулок</td>\n",
       "    </tr>\n",
       "    <tr>\n",
       "      <th>2</th>\n",
       "      <td>1-й Ботанический проезд</td>\n",
       "    </tr>\n",
       "    <tr>\n",
       "      <th>3</th>\n",
       "      <td>1-й Вешняковский проезд</td>\n",
       "    </tr>\n",
       "    <tr>\n",
       "      <th>4</th>\n",
       "      <td>1-й Голутвинский переулок</td>\n",
       "    </tr>\n",
       "    <tr>\n",
       "      <th>...</th>\n",
       "      <td>...</td>\n",
       "    </tr>\n",
       "    <tr>\n",
       "      <th>596</th>\n",
       "      <td>улица Шумилова</td>\n",
       "    </tr>\n",
       "    <tr>\n",
       "      <th>597</th>\n",
       "      <td>улица Шумкина</td>\n",
       "    </tr>\n",
       "    <tr>\n",
       "      <th>598</th>\n",
       "      <td>улица Щорса</td>\n",
       "    </tr>\n",
       "    <tr>\n",
       "      <th>599</th>\n",
       "      <td>улица Энгельса</td>\n",
       "    </tr>\n",
       "    <tr>\n",
       "      <th>600</th>\n",
       "      <td>шоссе Фрезер</td>\n",
       "    </tr>\n",
       "  </tbody>\n",
       "</table>\n",
       "<p>601 rows × 1 columns</p>\n",
       "</div>"
      ],
      "text/plain": [
       "                        street\n",
       "0      1-й Балтийский переулок\n",
       "1       1-й Басманный переулок\n",
       "2      1-й Ботанический проезд\n",
       "3      1-й Вешняковский проезд\n",
       "4    1-й Голутвинский переулок\n",
       "..                         ...\n",
       "596             улица Шумилова\n",
       "597              улица Шумкина\n",
       "598                улица Щорса\n",
       "599             улица Энгельса\n",
       "600               шоссе Фрезер\n",
       "\n",
       "[601 rows x 1 columns]"
      ]
     },
     "execution_count": 38,
     "metadata": {},
     "output_type": "execute_result"
    }
   ],
   "source": [
    "one_obj_street = (\n",
    "    rest_data\n",
    "        .groupby('street', as_index=False)\n",
    "        .agg({'id':'count'})\n",
    "        .query('id == 1')\n",
    "        .drop(columns='id')\n",
    "        .reset_index(drop=True)\n",
    ")\n",
    "\n",
    "one_obj_street"
   ]
  },
  {
   "cell_type": "markdown",
   "metadata": {
    "id": "rIgkrvT1BpD1"
   },
   "source": [
    "**Пропускаем**"
   ]
  },
  {
   "cell_type": "code",
   "execution_count": null,
   "metadata": {
    "id": "Yx-odMzslNZq"
   },
   "outputs": [],
   "source": [
    "def get_location_yandexgeo(row):\n",
    "    street = '+'.join(row['street'].split())\n",
    "\n",
    "    url = 'https://geocode-maps.yandex.ru/1.x'\n",
    "    params = {'geocode':'Москва,{}'.format(street),\n",
    "              'format':'json',\n",
    "              'apikey': API}\n",
    "\n",
    "    r = requests.get(url, params=params).json()\n",
    "\n",
    "    try:\n",
    "        for i in r['response']['GeoObjectCollection']['featureMember'][0]['GeoObject']['metaDataProperty']['GeocoderMetaData']['Address']['Components']:\n",
    "            if 'округ' in i['name']:\n",
    "                region = i['name']  \n",
    "    except:\n",
    "        region = ''      \n",
    "\n",
    "    try:\n",
    "        pos = r['response']['GeoObjectCollection']['featureMember'][0]['GeoObject']['Point']['pos']\n",
    "        return pd.Series([float(pos.split()[0]), float(pos.split()[1]), region])\n",
    "    except:\n",
    "        return pd.Series([0, 0, region])"
   ]
  },
  {
   "cell_type": "code",
   "execution_count": null,
   "metadata": {
    "colab": {
     "background_save": true
    },
    "id": "FeMcUvDccN3F"
   },
   "outputs": [],
   "source": [
    "tqdm.pandas()\n",
    "\n",
    "one_obj_street[['longitude', 'latitude', 'region']] = one_obj_street.progress_apply(get_location_yandexgeo, axis=1)"
   ]
  },
  {
   "cell_type": "markdown",
   "metadata": {
    "id": "tQC4eofqkZzw"
   },
   "source": [
    "Теперь, так как район можно получить только при обратном геокодировании, мы еще раз напишем функцию, которая будет нам искать район"
   ]
  },
  {
   "cell_type": "markdown",
   "metadata": {
    "id": "zlZGTMC1t4Ah"
   },
   "source": [
    "*У большинства улиц данные о районе находятся вот здесь ['response']['GeoObjectCollection']['featureMember'][1], но есть и такие ['response']['GeoObjectCollection']['featureMember'][0], поэтому в функции такой дикий цикл прописан))*"
   ]
  },
  {
   "cell_type": "code",
   "execution_count": null,
   "metadata": {
    "id": "gfZhrrLJCqza"
   },
   "outputs": [],
   "source": [
    "def get_district_yandexgeo(row):\n",
    "    url = 'https://geocode-maps.yandex.ru/1.x'\n",
    "    params = {'geocode':'{},{}'.format(row['longitude'], row['latitude']),\n",
    "              'format':'json',\n",
    "              'apikey': API}\n",
    "\n",
    "    r = requests.get(url, params=params).json()          \n",
    "  \n",
    "    try:\n",
    "        for i in r['response']['GeoObjectCollection']['featureMember'][1]['GeoObject']['metaDataProperty']['GeocoderMetaData']['Address']['Components']:\n",
    "            if 'район' in i['name']:\n",
    "                return i['name']\n",
    "        else:\n",
    "            for j in r['response']['GeoObjectCollection']['featureMember'][0]['GeoObject']['metaDataProperty']['GeocoderMetaData']['Address']['Components']:\n",
    "                if 'район' in j['name']:\n",
    "                    return j['name']\n",
    "    except:\n",
    "        return ''"
   ]
  },
  {
   "cell_type": "code",
   "execution_count": null,
   "metadata": {
    "colab": {
     "base_uri": "https://localhost:8080/",
     "height": 154,
     "referenced_widgets": [
      "4a73a9ce42434c29973195b2be17d267",
      "81a7741d60854e4dac0134e8bba9d69e",
      "40d8c5fedc55413380dd4add348a4d4b",
      "d307c4f97b074a629dc8b3d53983f322",
      "b7b26533af3a447a9c8365b9b45bf375",
      "b3e4213fcf194cbfa3fcb991acad3e49",
      "b75ad98ebb5f450da47de4f1ed131039",
      "7ea4cb35d05c4a2da16c5d6defda67be"
     ]
    },
    "executionInfo": {
     "elapsed": 351541,
     "status": "ok",
     "timestamp": 1627124606152,
     "user": {
      "displayName": "Арсен",
      "photoUrl": "https://lh3.googleusercontent.com/a-/AOh14GjPCG8vWVVB43Ax1wpE_vEPLjGP-XH0UWc12vB7wg=s64",
      "userId": "17661651445996378067"
     },
     "user_tz": -180
    },
    "id": "RsuK1MYRhzDR",
    "outputId": "b9536078-f3a7-4be4-b484-d0f602b9b056"
   },
   "outputs": [
    {
     "name": "stderr",
     "output_type": "stream",
     "text": [
      "/usr/local/lib/python3.7/dist-packages/tqdm/std.py:658: FutureWarning:\n",
      "\n",
      "The Panel class is removed from pandas. Accessing it from the top-level namespace will also be removed in the next version\n",
      "\n"
     ]
    },
    {
     "data": {
      "application/vnd.jupyter.widget-view+json": {
       "model_id": "4a73a9ce42434c29973195b2be17d267",
       "version_major": 2,
       "version_minor": 0
      },
      "text/plain": [
       "HBox(children=(FloatProgress(value=0.0, max=601.0), HTML(value='')))"
      ]
     },
     "metadata": {
      "tags": []
     },
     "output_type": "display_data"
    },
    {
     "name": "stdout",
     "output_type": "stream",
     "text": [
      "\n"
     ]
    }
   ],
   "source": [
    "tqdm.pandas()\n",
    "\n",
    "one_obj_street['district'] = one_obj_street.progress_apply(get_district_yandexgeo, axis=1)"
   ]
  },
  {
   "cell_type": "markdown",
   "metadata": {
    "id": "c1CcxNkd53F7"
   },
   "source": [
    "Лимит запросов в сутки 1000, но у меня выходит 1202..."
   ]
  },
  {
   "cell_type": "markdown",
   "metadata": {
    "id": "SPV8KEtN5SDO"
   },
   "source": [
    "![image.jpg](https://www.meme-arsenal.com/memes/00fef54d01d5d0393c437f94c49e76a1.jpg)"
   ]
  },
  {
   "cell_type": "code",
   "execution_count": null,
   "metadata": {
    "colab": {
     "background_save": true
    },
    "id": "JQmVLJs7Gfyd"
   },
   "outputs": [],
   "source": [
    "one_obj_street.to_csv('one_obj_street.csv', encoding='utf-8', index=False)"
   ]
  },
  {
   "cell_type": "markdown",
   "metadata": {
    "id": "jWbz4HJ7uXwW"
   },
   "source": [
    "**Вот отсюда можно запускать**"
   ]
  },
  {
   "cell_type": "code",
   "execution_count": 39,
   "metadata": {
    "id": "FKfcIjF5yCEu"
   },
   "outputs": [],
   "source": [
    "url = 'https://drive.google.com/file/d/1CSAtONviCnPMUp9RdC426HQe-fSR8fCr/view?usp=sharing'\n",
    "path = 'https://drive.google.com/uc?export=download&id='+url.split('/')[-2]\n",
    "one_obj_street = pd.read_csv(path)"
   ]
  },
  {
   "cell_type": "code",
   "execution_count": 40,
   "metadata": {
    "colab": {
     "base_uri": "https://localhost:8080/",
     "height": 204
    },
    "executionInfo": {
     "elapsed": 7,
     "status": "ok",
     "timestamp": 1627829920270,
     "user": {
      "displayName": "Арсен",
      "photoUrl": "https://lh3.googleusercontent.com/a-/AOh14GjPCG8vWVVB43Ax1wpE_vEPLjGP-XH0UWc12vB7wg=s64",
      "userId": "17661651445996378067"
     },
     "user_tz": -180
    },
    "id": "_AyDG09S0WSO",
    "outputId": "35862db4-2c4e-4538-d043-e749aeb7b3cf"
   },
   "outputs": [
    {
     "data": {
      "text/html": [
       "<div>\n",
       "<style scoped>\n",
       "    .dataframe tbody tr th:only-of-type {\n",
       "        vertical-align: middle;\n",
       "    }\n",
       "\n",
       "    .dataframe tbody tr th {\n",
       "        vertical-align: top;\n",
       "    }\n",
       "\n",
       "    .dataframe thead th {\n",
       "        text-align: right;\n",
       "    }\n",
       "</style>\n",
       "<table border=\"1\" class=\"dataframe\">\n",
       "  <thead>\n",
       "    <tr style=\"text-align: right;\">\n",
       "      <th></th>\n",
       "      <th>street</th>\n",
       "      <th>longitude</th>\n",
       "      <th>latitude</th>\n",
       "      <th>region</th>\n",
       "      <th>district</th>\n",
       "    </tr>\n",
       "  </thead>\n",
       "  <tbody>\n",
       "    <tr>\n",
       "      <th>0</th>\n",
       "      <td>1-й Балтийский переулок</td>\n",
       "      <td>37.518560</td>\n",
       "      <td>55.809762</td>\n",
       "      <td>Центральный федеральный округ</td>\n",
       "      <td>район Аэропорт</td>\n",
       "    </tr>\n",
       "    <tr>\n",
       "      <th>1</th>\n",
       "      <td>1-й Басманный переулок</td>\n",
       "      <td>37.663458</td>\n",
       "      <td>55.770978</td>\n",
       "      <td>Центральный федеральный округ</td>\n",
       "      <td>Басманный район</td>\n",
       "    </tr>\n",
       "    <tr>\n",
       "      <th>2</th>\n",
       "      <td>1-й Ботанический проезд</td>\n",
       "      <td>37.634218</td>\n",
       "      <td>55.849565</td>\n",
       "      <td>Центральный федеральный округ</td>\n",
       "      <td>район Свиблово</td>\n",
       "    </tr>\n",
       "    <tr>\n",
       "      <th>3</th>\n",
       "      <td>1-й Вешняковский проезд</td>\n",
       "      <td>37.788567</td>\n",
       "      <td>55.724631</td>\n",
       "      <td>Центральный федеральный округ</td>\n",
       "      <td>Рязанский район</td>\n",
       "    </tr>\n",
       "    <tr>\n",
       "      <th>4</th>\n",
       "      <td>1-й Голутвинский переулок</td>\n",
       "      <td>37.612326</td>\n",
       "      <td>55.738287</td>\n",
       "      <td>Центральный федеральный округ</td>\n",
       "      <td>район Якиманка</td>\n",
       "    </tr>\n",
       "  </tbody>\n",
       "</table>\n",
       "</div>"
      ],
      "text/plain": [
       "                      street  longitude   latitude  \\\n",
       "0    1-й Балтийский переулок  37.518560  55.809762   \n",
       "1     1-й Басманный переулок  37.663458  55.770978   \n",
       "2    1-й Ботанический проезд  37.634218  55.849565   \n",
       "3    1-й Вешняковский проезд  37.788567  55.724631   \n",
       "4  1-й Голутвинский переулок  37.612326  55.738287   \n",
       "\n",
       "                          region         district  \n",
       "0  Центральный федеральный округ   район Аэропорт  \n",
       "1  Центральный федеральный округ  Басманный район  \n",
       "2  Центральный федеральный округ   район Свиблово  \n",
       "3  Центральный федеральный округ  Рязанский район  \n",
       "4  Центральный федеральный округ   район Якиманка  "
      ]
     },
     "execution_count": 40,
     "metadata": {},
     "output_type": "execute_result"
    }
   ],
   "source": [
    "one_obj_street.head()"
   ]
  },
  {
   "cell_type": "markdown",
   "metadata": {
    "id": "PHq2jgBmRDeg"
   },
   "source": [
    "Теперь проверим хорошо ли всё подтянулось"
   ]
  },
  {
   "cell_type": "markdown",
   "metadata": {
    "id": "1w6RmF56oaoT"
   },
   "source": [
    "Проверим, есть ли пустые значения"
   ]
  },
  {
   "cell_type": "code",
   "execution_count": 41,
   "metadata": {
    "colab": {
     "base_uri": "https://localhost:8080/",
     "height": 80
    },
    "executionInfo": {
     "elapsed": 233,
     "status": "ok",
     "timestamp": 1627829923242,
     "user": {
      "displayName": "Арсен",
      "photoUrl": "https://lh3.googleusercontent.com/a-/AOh14GjPCG8vWVVB43Ax1wpE_vEPLjGP-XH0UWc12vB7wg=s64",
      "userId": "17661651445996378067"
     },
     "user_tz": -180
    },
    "id": "q_TASTsXoO66",
    "outputId": "f9727934-2d96-424e-a918-353b351120be"
   },
   "outputs": [
    {
     "data": {
      "text/html": [
       "<div>\n",
       "<style scoped>\n",
       "    .dataframe tbody tr th:only-of-type {\n",
       "        vertical-align: middle;\n",
       "    }\n",
       "\n",
       "    .dataframe tbody tr th {\n",
       "        vertical-align: top;\n",
       "    }\n",
       "\n",
       "    .dataframe thead th {\n",
       "        text-align: right;\n",
       "    }\n",
       "</style>\n",
       "<table border=\"1\" class=\"dataframe\">\n",
       "  <thead>\n",
       "    <tr style=\"text-align: right;\">\n",
       "      <th></th>\n",
       "      <th>street</th>\n",
       "      <th>longitude</th>\n",
       "      <th>latitude</th>\n",
       "      <th>region</th>\n",
       "      <th>district</th>\n",
       "    </tr>\n",
       "  </thead>\n",
       "  <tbody>\n",
       "    <tr>\n",
       "      <th>500</th>\n",
       "      <td>улица 1-й километр Объездной Дороги</td>\n",
       "      <td>0.0</td>\n",
       "      <td>0.0</td>\n",
       "      <td>NaN</td>\n",
       "      <td>NaN</td>\n",
       "    </tr>\n",
       "  </tbody>\n",
       "</table>\n",
       "</div>"
      ],
      "text/plain": [
       "                                  street  longitude  latitude region district\n",
       "500  улица 1-й километр Объездной Дороги        0.0       0.0    NaN      NaN"
      ]
     },
     "execution_count": 41,
     "metadata": {},
     "output_type": "execute_result"
    }
   ],
   "source": [
    "one_obj_street.query('longitude == 0')"
   ]
  },
  {
   "cell_type": "markdown",
   "metadata": {
    "id": "wYbdnTBJoggd"
   },
   "source": [
    "1 строка, заполню вручную"
   ]
  },
  {
   "cell_type": "code",
   "execution_count": 42,
   "metadata": {
    "id": "M_4Dp3QSoiyy"
   },
   "outputs": [],
   "source": [
    "one_obj_street.loc[one_obj_street['latitude'] == 0, ['longitude', 'latitude', 'region']] = 37.350458, 55.328965, 'Троицкий административный округ'"
   ]
  },
  {
   "cell_type": "code",
   "execution_count": 43,
   "metadata": {
    "colab": {
     "base_uri": "https://localhost:8080/",
     "height": 49
    },
    "executionInfo": {
     "elapsed": 5,
     "status": "ok",
     "timestamp": 1627829928634,
     "user": {
      "displayName": "Арсен",
      "photoUrl": "https://lh3.googleusercontent.com/a-/AOh14GjPCG8vWVVB43Ax1wpE_vEPLjGP-XH0UWc12vB7wg=s64",
      "userId": "17661651445996378067"
     },
     "user_tz": -180
    },
    "id": "o0RF1gswBiig",
    "outputId": "51a251a7-3e3f-41ad-8525-8227ef785c68"
   },
   "outputs": [
    {
     "data": {
      "text/html": [
       "<div>\n",
       "<style scoped>\n",
       "    .dataframe tbody tr th:only-of-type {\n",
       "        vertical-align: middle;\n",
       "    }\n",
       "\n",
       "    .dataframe tbody tr th {\n",
       "        vertical-align: top;\n",
       "    }\n",
       "\n",
       "    .dataframe thead th {\n",
       "        text-align: right;\n",
       "    }\n",
       "</style>\n",
       "<table border=\"1\" class=\"dataframe\">\n",
       "  <thead>\n",
       "    <tr style=\"text-align: right;\">\n",
       "      <th></th>\n",
       "      <th>street</th>\n",
       "      <th>longitude</th>\n",
       "      <th>latitude</th>\n",
       "      <th>region</th>\n",
       "      <th>district</th>\n",
       "    </tr>\n",
       "  </thead>\n",
       "  <tbody>\n",
       "  </tbody>\n",
       "</table>\n",
       "</div>"
      ],
      "text/plain": [
       "Empty DataFrame\n",
       "Columns: [street, longitude, latitude, region, district]\n",
       "Index: []"
      ]
     },
     "execution_count": 43,
     "metadata": {},
     "output_type": "execute_result"
    }
   ],
   "source": [
    "one_obj_street.query('region != region')"
   ]
  },
  {
   "cell_type": "code",
   "execution_count": 44,
   "metadata": {
    "colab": {
     "base_uri": "https://localhost:8080/",
     "height": 419
    },
    "executionInfo": {
     "elapsed": 230,
     "status": "ok",
     "timestamp": 1627829930859,
     "user": {
      "displayName": "Арсен",
      "photoUrl": "https://lh3.googleusercontent.com/a-/AOh14GjPCG8vWVVB43Ax1wpE_vEPLjGP-XH0UWc12vB7wg=s64",
      "userId": "17661651445996378067"
     },
     "user_tz": -180
    },
    "id": "fhmtw9q0vUDq",
    "outputId": "af602060-e702-4b0a-bb28-2d968f359da7"
   },
   "outputs": [
    {
     "data": {
      "text/html": [
       "<div>\n",
       "<style scoped>\n",
       "    .dataframe tbody tr th:only-of-type {\n",
       "        vertical-align: middle;\n",
       "    }\n",
       "\n",
       "    .dataframe tbody tr th {\n",
       "        vertical-align: top;\n",
       "    }\n",
       "\n",
       "    .dataframe thead th {\n",
       "        text-align: right;\n",
       "    }\n",
       "</style>\n",
       "<table border=\"1\" class=\"dataframe\">\n",
       "  <thead>\n",
       "    <tr style=\"text-align: right;\">\n",
       "      <th></th>\n",
       "      <th>street</th>\n",
       "      <th>longitude</th>\n",
       "      <th>latitude</th>\n",
       "      <th>region</th>\n",
       "      <th>district</th>\n",
       "    </tr>\n",
       "  </thead>\n",
       "  <tbody>\n",
       "    <tr>\n",
       "      <th>5</th>\n",
       "      <td>1-й Заречный переулок</td>\n",
       "      <td>36.958128</td>\n",
       "      <td>55.449450</td>\n",
       "      <td>Троицкий административный округ</td>\n",
       "      <td>NaN</td>\n",
       "    </tr>\n",
       "    <tr>\n",
       "      <th>31</th>\n",
       "      <td>1-я Ватутинская улица</td>\n",
       "      <td>37.326357</td>\n",
       "      <td>55.502115</td>\n",
       "      <td>Новомосковский административный округ</td>\n",
       "      <td>NaN</td>\n",
       "    </tr>\n",
       "    <tr>\n",
       "      <th>38</th>\n",
       "      <td>1-я линия Хорошёвского Серебряного Бора</td>\n",
       "      <td>37.440613</td>\n",
       "      <td>55.783428</td>\n",
       "      <td>Центральный федеральный округ</td>\n",
       "      <td>NaN</td>\n",
       "    </tr>\n",
       "    <tr>\n",
       "      <th>54</th>\n",
       "      <td>2-й Магистральный тупик</td>\n",
       "      <td>37.522953</td>\n",
       "      <td>55.768046</td>\n",
       "      <td>Центральный федеральный округ</td>\n",
       "      <td>NaN</td>\n",
       "    </tr>\n",
       "    <tr>\n",
       "      <th>66</th>\n",
       "      <td>2-я Барышевская улица</td>\n",
       "      <td>37.543911</td>\n",
       "      <td>55.496776</td>\n",
       "      <td>Новомосковский административный округ</td>\n",
       "      <td>NaN</td>\n",
       "    </tr>\n",
       "    <tr>\n",
       "      <th>...</th>\n",
       "      <td>...</td>\n",
       "      <td>...</td>\n",
       "      <td>...</td>\n",
       "      <td>...</td>\n",
       "      <td>...</td>\n",
       "    </tr>\n",
       "    <tr>\n",
       "      <th>572</th>\n",
       "      <td>улица Потаповская Роща</td>\n",
       "      <td>37.494647</td>\n",
       "      <td>55.548197</td>\n",
       "      <td>Новомосковский административный округ</td>\n",
       "      <td>NaN</td>\n",
       "    </tr>\n",
       "    <tr>\n",
       "      <th>575</th>\n",
       "      <td>улица Рассудовское Лесничество</td>\n",
       "      <td>36.931421</td>\n",
       "      <td>55.468714</td>\n",
       "      <td>Троицкий административный округ</td>\n",
       "      <td>NaN</td>\n",
       "    </tr>\n",
       "    <tr>\n",
       "      <th>587</th>\n",
       "      <td>улица Слобода</td>\n",
       "      <td>37.660341</td>\n",
       "      <td>55.664720</td>\n",
       "      <td>Центральный федеральный округ</td>\n",
       "      <td>NaN</td>\n",
       "    </tr>\n",
       "    <tr>\n",
       "      <th>589</th>\n",
       "      <td>улица Старые Кузьминки</td>\n",
       "      <td>37.790839</td>\n",
       "      <td>55.690095</td>\n",
       "      <td>Центральный федеральный округ</td>\n",
       "      <td>NaN</td>\n",
       "    </tr>\n",
       "    <tr>\n",
       "      <th>595</th>\n",
       "      <td>улица Школа-интернат</td>\n",
       "      <td>37.297134</td>\n",
       "      <td>55.424490</td>\n",
       "      <td>Троицкий административный округ</td>\n",
       "      <td>NaN</td>\n",
       "    </tr>\n",
       "  </tbody>\n",
       "</table>\n",
       "<p>64 rows × 5 columns</p>\n",
       "</div>"
      ],
      "text/plain": [
       "                                      street  longitude   latitude  \\\n",
       "5                      1-й Заречный переулок  36.958128  55.449450   \n",
       "31                     1-я Ватутинская улица  37.326357  55.502115   \n",
       "38   1-я линия Хорошёвского Серебряного Бора  37.440613  55.783428   \n",
       "54                   2-й Магистральный тупик  37.522953  55.768046   \n",
       "66                     2-я Барышевская улица  37.543911  55.496776   \n",
       "..                                       ...        ...        ...   \n",
       "572                   улица Потаповская Роща  37.494647  55.548197   \n",
       "575           улица Рассудовское Лесничество  36.931421  55.468714   \n",
       "587                            улица Слобода  37.660341  55.664720   \n",
       "589                   улица Старые Кузьминки  37.790839  55.690095   \n",
       "595                     улица Школа-интернат  37.297134  55.424490   \n",
       "\n",
       "                                    region district  \n",
       "5          Троицкий административный округ      NaN  \n",
       "31   Новомосковский административный округ      NaN  \n",
       "38           Центральный федеральный округ      NaN  \n",
       "54           Центральный федеральный округ      NaN  \n",
       "66   Новомосковский административный округ      NaN  \n",
       "..                                     ...      ...  \n",
       "572  Новомосковский административный округ      NaN  \n",
       "575        Троицкий административный округ      NaN  \n",
       "587          Центральный федеральный округ      NaN  \n",
       "589          Центральный федеральный округ      NaN  \n",
       "595        Троицкий административный округ      NaN  \n",
       "\n",
       "[64 rows x 5 columns]"
      ]
     },
     "execution_count": 44,
     "metadata": {},
     "output_type": "execute_result"
    }
   ],
   "source": [
    "one_obj_street.query('district != district')"
   ]
  },
  {
   "cell_type": "markdown",
   "metadata": {
    "id": "TrQUkML6vZ2G"
   },
   "source": [
    "64 пропуска - 10%. Вероятно, их можно было бы удалить, но я попробую заполнить их с помощью данных мос газа, где хранятся районы с привязкой к улице.\n",
    "\n",
    "*Можно было бы сразу использовать мосгаз без геокодера, но в мосгазе есть небольшой недостаток, внизу я написал о нем (где дубликаты)*"
   ]
  },
  {
   "cell_type": "code",
   "execution_count": 45,
   "metadata": {
    "id": "X1DmFvt8yObd"
   },
   "outputs": [],
   "source": [
    "url = 'https://drive.google.com/file/d/1kX0nEv4knDQ4mVWhtVnbqgJqSoZLUouD/view?usp=sharing'\n",
    "path = 'https://drive.google.com/uc?export=download&id='+url.split('/')[-2]\n",
    "mosgaz = pd.read_csv(path)"
   ]
  },
  {
   "cell_type": "code",
   "execution_count": 46,
   "metadata": {
    "colab": {
     "base_uri": "https://localhost:8080/",
     "height": 204
    },
    "executionInfo": {
     "elapsed": 8,
     "status": "ok",
     "timestamp": 1627829938854,
     "user": {
      "displayName": "Арсен",
      "photoUrl": "https://lh3.googleusercontent.com/a-/AOh14GjPCG8vWVVB43Ax1wpE_vEPLjGP-XH0UWc12vB7wg=s64",
      "userId": "17661651445996378067"
     },
     "user_tz": -180
    },
    "id": "_bfUTQIx0fkb",
    "outputId": "e800ad58-8109-416f-b373-323a2e55246d"
   },
   "outputs": [
    {
     "data": {
      "text/html": [
       "<div>\n",
       "<style scoped>\n",
       "    .dataframe tbody tr th:only-of-type {\n",
       "        vertical-align: middle;\n",
       "    }\n",
       "\n",
       "    .dataframe tbody tr th {\n",
       "        vertical-align: top;\n",
       "    }\n",
       "\n",
       "    .dataframe thead th {\n",
       "        text-align: right;\n",
       "    }\n",
       "</style>\n",
       "<table border=\"1\" class=\"dataframe\">\n",
       "  <thead>\n",
       "    <tr style=\"text-align: right;\">\n",
       "      <th></th>\n",
       "      <th>streetname</th>\n",
       "      <th>areaid</th>\n",
       "      <th>okrug</th>\n",
       "      <th>area</th>\n",
       "    </tr>\n",
       "  </thead>\n",
       "  <tbody>\n",
       "    <tr>\n",
       "      <th>0</th>\n",
       "      <td>Выставочный переулок</td>\n",
       "      <td>17</td>\n",
       "      <td>ЦАО</td>\n",
       "      <td>Пресненский район</td>\n",
       "    </tr>\n",
       "    <tr>\n",
       "      <th>1</th>\n",
       "      <td>улица Гашека</td>\n",
       "      <td>17</td>\n",
       "      <td>ЦАО</td>\n",
       "      <td>Пресненский район</td>\n",
       "    </tr>\n",
       "    <tr>\n",
       "      <th>2</th>\n",
       "      <td>Большая Никитская улица</td>\n",
       "      <td>17</td>\n",
       "      <td>ЦАО</td>\n",
       "      <td>Пресненский район</td>\n",
       "    </tr>\n",
       "    <tr>\n",
       "      <th>3</th>\n",
       "      <td>Глубокий переулок</td>\n",
       "      <td>17</td>\n",
       "      <td>ЦАО</td>\n",
       "      <td>Пресненский район</td>\n",
       "    </tr>\n",
       "    <tr>\n",
       "      <th>4</th>\n",
       "      <td>Большой Гнездниковский переулок</td>\n",
       "      <td>17</td>\n",
       "      <td>ЦАО</td>\n",
       "      <td>Пресненский район</td>\n",
       "    </tr>\n",
       "  </tbody>\n",
       "</table>\n",
       "</div>"
      ],
      "text/plain": [
       "                        streetname  areaid okrug               area\n",
       "0             Выставочный переулок      17   ЦАО  Пресненский район\n",
       "1                     улица Гашека      17   ЦАО  Пресненский район\n",
       "2          Большая Никитская улица      17   ЦАО  Пресненский район\n",
       "3                Глубокий переулок      17   ЦАО  Пресненский район\n",
       "4  Большой Гнездниковский переулок      17   ЦАО  Пресненский район"
      ]
     },
     "execution_count": 46,
     "metadata": {},
     "output_type": "execute_result"
    }
   ],
   "source": [
    "mosgaz.head()"
   ]
  },
  {
   "cell_type": "markdown",
   "metadata": {
    "id": "uC5_sPnF81og"
   },
   "source": [
    "Мерджим таблицы"
   ]
  },
  {
   "cell_type": "code",
   "execution_count": 47,
   "metadata": {
    "colab": {
     "base_uri": "https://localhost:8080/",
     "height": 419
    },
    "executionInfo": {
     "elapsed": 219,
     "status": "ok",
     "timestamp": 1627829947727,
     "user": {
      "displayName": "Арсен",
      "photoUrl": "https://lh3.googleusercontent.com/a-/AOh14GjPCG8vWVVB43Ax1wpE_vEPLjGP-XH0UWc12vB7wg=s64",
      "userId": "17661651445996378067"
     },
     "user_tz": -180
    },
    "id": "-KTQRAqF0XeL",
    "outputId": "e9039870-643e-433c-d1a9-9e59a0714c81"
   },
   "outputs": [
    {
     "data": {
      "text/html": [
       "<div>\n",
       "<style scoped>\n",
       "    .dataframe tbody tr th:only-of-type {\n",
       "        vertical-align: middle;\n",
       "    }\n",
       "\n",
       "    .dataframe tbody tr th {\n",
       "        vertical-align: top;\n",
       "    }\n",
       "\n",
       "    .dataframe thead th {\n",
       "        text-align: right;\n",
       "    }\n",
       "</style>\n",
       "<table border=\"1\" class=\"dataframe\">\n",
       "  <thead>\n",
       "    <tr style=\"text-align: right;\">\n",
       "      <th></th>\n",
       "      <th>street</th>\n",
       "      <th>longitude</th>\n",
       "      <th>latitude</th>\n",
       "      <th>region</th>\n",
       "      <th>district</th>\n",
       "      <th>area</th>\n",
       "    </tr>\n",
       "  </thead>\n",
       "  <tbody>\n",
       "    <tr>\n",
       "      <th>0</th>\n",
       "      <td>1-й Балтийский переулок</td>\n",
       "      <td>37.518560</td>\n",
       "      <td>55.809762</td>\n",
       "      <td>Центральный федеральный округ</td>\n",
       "      <td>район Аэропорт</td>\n",
       "      <td>Район Аэропорт</td>\n",
       "    </tr>\n",
       "    <tr>\n",
       "      <th>1</th>\n",
       "      <td>1-й Басманный переулок</td>\n",
       "      <td>37.663458</td>\n",
       "      <td>55.770978</td>\n",
       "      <td>Центральный федеральный округ</td>\n",
       "      <td>Басманный район</td>\n",
       "      <td>Басманный район</td>\n",
       "    </tr>\n",
       "    <tr>\n",
       "      <th>2</th>\n",
       "      <td>1-й Басманный переулок</td>\n",
       "      <td>37.663458</td>\n",
       "      <td>55.770978</td>\n",
       "      <td>Центральный федеральный округ</td>\n",
       "      <td>Басманный район</td>\n",
       "      <td>Красносельский район</td>\n",
       "    </tr>\n",
       "    <tr>\n",
       "      <th>3</th>\n",
       "      <td>1-й Ботанический проезд</td>\n",
       "      <td>37.634218</td>\n",
       "      <td>55.849565</td>\n",
       "      <td>Центральный федеральный округ</td>\n",
       "      <td>район Свиблово</td>\n",
       "      <td>Район Свиблово</td>\n",
       "    </tr>\n",
       "    <tr>\n",
       "      <th>4</th>\n",
       "      <td>1-й Вешняковский проезд</td>\n",
       "      <td>37.788567</td>\n",
       "      <td>55.724631</td>\n",
       "      <td>Центральный федеральный округ</td>\n",
       "      <td>Рязанский район</td>\n",
       "      <td>Рязанский район</td>\n",
       "    </tr>\n",
       "    <tr>\n",
       "      <th>...</th>\n",
       "      <td>...</td>\n",
       "      <td>...</td>\n",
       "      <td>...</td>\n",
       "      <td>...</td>\n",
       "      <td>...</td>\n",
       "      <td>...</td>\n",
       "    </tr>\n",
       "    <tr>\n",
       "      <th>643</th>\n",
       "      <td>улица Шумилова</td>\n",
       "      <td>37.774310</td>\n",
       "      <td>55.708394</td>\n",
       "      <td>Центральный федеральный округ</td>\n",
       "      <td>район Кузьминки</td>\n",
       "      <td>Район Кузьминки</td>\n",
       "    </tr>\n",
       "    <tr>\n",
       "      <th>644</th>\n",
       "      <td>улица Шумкина</td>\n",
       "      <td>37.669594</td>\n",
       "      <td>55.788216</td>\n",
       "      <td>Центральный федеральный округ</td>\n",
       "      <td>район Сокольники</td>\n",
       "      <td>Район Сокольники</td>\n",
       "    </tr>\n",
       "    <tr>\n",
       "      <th>645</th>\n",
       "      <td>улица Щорса</td>\n",
       "      <td>37.406064</td>\n",
       "      <td>55.645934</td>\n",
       "      <td>Центральный федеральный округ</td>\n",
       "      <td>район Солнцево</td>\n",
       "      <td>Район Солнцево</td>\n",
       "    </tr>\n",
       "    <tr>\n",
       "      <th>646</th>\n",
       "      <td>улица Энгельса</td>\n",
       "      <td>37.688081</td>\n",
       "      <td>55.775641</td>\n",
       "      <td>Центральный федеральный округ</td>\n",
       "      <td>Басманный район</td>\n",
       "      <td>NaN</td>\n",
       "    </tr>\n",
       "    <tr>\n",
       "      <th>647</th>\n",
       "      <td>шоссе Фрезер</td>\n",
       "      <td>37.735818</td>\n",
       "      <td>55.739134</td>\n",
       "      <td>Центральный федеральный округ</td>\n",
       "      <td>Нижегородский район</td>\n",
       "      <td>Нижегородский район</td>\n",
       "    </tr>\n",
       "  </tbody>\n",
       "</table>\n",
       "<p>648 rows × 6 columns</p>\n",
       "</div>"
      ],
      "text/plain": [
       "                      street  longitude   latitude  \\\n",
       "0    1-й Балтийский переулок  37.518560  55.809762   \n",
       "1     1-й Басманный переулок  37.663458  55.770978   \n",
       "2     1-й Басманный переулок  37.663458  55.770978   \n",
       "3    1-й Ботанический проезд  37.634218  55.849565   \n",
       "4    1-й Вешняковский проезд  37.788567  55.724631   \n",
       "..                       ...        ...        ...   \n",
       "643           улица Шумилова  37.774310  55.708394   \n",
       "644            улица Шумкина  37.669594  55.788216   \n",
       "645              улица Щорса  37.406064  55.645934   \n",
       "646           улица Энгельса  37.688081  55.775641   \n",
       "647             шоссе Фрезер  37.735818  55.739134   \n",
       "\n",
       "                            region             district                  area  \n",
       "0    Центральный федеральный округ       район Аэропорт        Район Аэропорт  \n",
       "1    Центральный федеральный округ      Басманный район       Басманный район  \n",
       "2    Центральный федеральный округ      Басманный район  Красносельский район  \n",
       "3    Центральный федеральный округ       район Свиблово        Район Свиблово  \n",
       "4    Центральный федеральный округ      Рязанский район       Рязанский район  \n",
       "..                             ...                  ...                   ...  \n",
       "643  Центральный федеральный округ      район Кузьминки       Район Кузьминки  \n",
       "644  Центральный федеральный округ     район Сокольники      Район Сокольники  \n",
       "645  Центральный федеральный округ       район Солнцево        Район Солнцево  \n",
       "646  Центральный федеральный округ      Басманный район                   NaN  \n",
       "647  Центральный федеральный округ  Нижегородский район   Нижегородский район  \n",
       "\n",
       "[648 rows x 6 columns]"
      ]
     },
     "execution_count": 47,
     "metadata": {},
     "output_type": "execute_result"
    }
   ],
   "source": [
    "one_obj_street = pd.merge(one_obj_street, mosgaz[['streetname', 'area']], left_on='street', right_on='streetname', how='left')\n",
    "one_obj_street.drop(columns='streetname', inplace=True)\n",
    "one_obj_street"
   ]
  },
  {
   "cell_type": "markdown",
   "metadata": {
    "id": "ba4JDxk7u3n7"
   },
   "source": [
    "Проверим, есть ли улицы, которых и мосгаз не спасет"
   ]
  },
  {
   "cell_type": "code",
   "execution_count": 48,
   "metadata": {
    "colab": {
     "base_uri": "https://localhost:8080/",
     "height": 1000
    },
    "executionInfo": {
     "elapsed": 235,
     "status": "ok",
     "timestamp": 1627829975596,
     "user": {
      "displayName": "Арсен",
      "photoUrl": "https://lh3.googleusercontent.com/a-/AOh14GjPCG8vWVVB43Ax1wpE_vEPLjGP-XH0UWc12vB7wg=s64",
      "userId": "17661651445996378067"
     },
     "user_tz": -180
    },
    "id": "Ff1V1BC60ltD",
    "outputId": "3f594fe1-e4ef-4417-ea8e-65cc3c81199a"
   },
   "outputs": [
    {
     "name": "stdout",
     "output_type": "stream",
     "text": [
      "(37, 6)\n"
     ]
    },
    {
     "data": {
      "text/html": [
       "<div>\n",
       "<style scoped>\n",
       "    .dataframe tbody tr th:only-of-type {\n",
       "        vertical-align: middle;\n",
       "    }\n",
       "\n",
       "    .dataframe tbody tr th {\n",
       "        vertical-align: top;\n",
       "    }\n",
       "\n",
       "    .dataframe thead th {\n",
       "        text-align: right;\n",
       "    }\n",
       "</style>\n",
       "<table border=\"1\" class=\"dataframe\">\n",
       "  <thead>\n",
       "    <tr style=\"text-align: right;\">\n",
       "      <th></th>\n",
       "      <th>street</th>\n",
       "      <th>longitude</th>\n",
       "      <th>latitude</th>\n",
       "      <th>region</th>\n",
       "      <th>district</th>\n",
       "      <th>area</th>\n",
       "    </tr>\n",
       "  </thead>\n",
       "  <tbody>\n",
       "    <tr>\n",
       "      <th>6</th>\n",
       "      <td>1-й Заречный переулок</td>\n",
       "      <td>36.958128</td>\n",
       "      <td>55.449450</td>\n",
       "      <td>Троицкий административный округ</td>\n",
       "      <td>NaN</td>\n",
       "      <td>NaN</td>\n",
       "    </tr>\n",
       "    <tr>\n",
       "      <th>33</th>\n",
       "      <td>1-я Ватутинская улица</td>\n",
       "      <td>37.326357</td>\n",
       "      <td>55.502115</td>\n",
       "      <td>Новомосковский административный округ</td>\n",
       "      <td>NaN</td>\n",
       "      <td>NaN</td>\n",
       "    </tr>\n",
       "    <tr>\n",
       "      <th>70</th>\n",
       "      <td>2-я Барышевская улица</td>\n",
       "      <td>37.543911</td>\n",
       "      <td>55.496776</td>\n",
       "      <td>Новомосковский административный округ</td>\n",
       "      <td>NaN</td>\n",
       "      <td>NaN</td>\n",
       "    </tr>\n",
       "    <tr>\n",
       "      <th>107</th>\n",
       "      <td>39-й километр Калужского шоссе</td>\n",
       "      <td>37.319889</td>\n",
       "      <td>55.480868</td>\n",
       "      <td>Троицкий административный округ</td>\n",
       "      <td>NaN</td>\n",
       "      <td>NaN</td>\n",
       "    </tr>\n",
       "    <tr>\n",
       "      <th>145</th>\n",
       "      <td>Армейская улица</td>\n",
       "      <td>37.371164</td>\n",
       "      <td>55.509426</td>\n",
       "      <td>Новомосковский административный округ</td>\n",
       "      <td>NaN</td>\n",
       "      <td>NaN</td>\n",
       "    </tr>\n",
       "    <tr>\n",
       "      <th>448</th>\n",
       "      <td>Физическая улица</td>\n",
       "      <td>37.292733</td>\n",
       "      <td>55.465310</td>\n",
       "      <td>Троицкий административный округ</td>\n",
       "      <td>NaN</td>\n",
       "      <td>NaN</td>\n",
       "    </tr>\n",
       "    <tr>\n",
       "      <th>450</th>\n",
       "      <td>Фитарёвская улица</td>\n",
       "      <td>37.480606</td>\n",
       "      <td>55.567107</td>\n",
       "      <td>Новомосковский административный округ</td>\n",
       "      <td>NaN</td>\n",
       "      <td>NaN</td>\n",
       "    </tr>\n",
       "    <tr>\n",
       "      <th>465</th>\n",
       "      <td>Цветочная улица</td>\n",
       "      <td>37.131988</td>\n",
       "      <td>55.517021</td>\n",
       "      <td>Троицкий административный округ</td>\n",
       "      <td>NaN</td>\n",
       "      <td>NaN</td>\n",
       "    </tr>\n",
       "    <tr>\n",
       "      <th>490</th>\n",
       "      <td>деревня Бабенки</td>\n",
       "      <td>37.187198</td>\n",
       "      <td>55.354993</td>\n",
       "      <td>Троицкий административный округ</td>\n",
       "      <td>NaN</td>\n",
       "      <td>NaN</td>\n",
       "    </tr>\n",
       "    <tr>\n",
       "      <th>491</th>\n",
       "      <td>деревня Бунчиха</td>\n",
       "      <td>37.036856</td>\n",
       "      <td>55.237761</td>\n",
       "      <td>Троицкий административный округ</td>\n",
       "      <td>NaN</td>\n",
       "      <td>NaN</td>\n",
       "    </tr>\n",
       "    <tr>\n",
       "      <th>492</th>\n",
       "      <td>деревня Верхнее Валуево</td>\n",
       "      <td>37.355121</td>\n",
       "      <td>55.578523</td>\n",
       "      <td>Новомосковский административный округ</td>\n",
       "      <td>NaN</td>\n",
       "      <td>NaN</td>\n",
       "    </tr>\n",
       "    <tr>\n",
       "      <th>493</th>\n",
       "      <td>деревня Внуково</td>\n",
       "      <td>37.266358</td>\n",
       "      <td>55.646563</td>\n",
       "      <td>Новомосковский административный округ</td>\n",
       "      <td>NaN</td>\n",
       "      <td>NaN</td>\n",
       "    </tr>\n",
       "    <tr>\n",
       "      <th>494</th>\n",
       "      <td>деревня Голохвастово</td>\n",
       "      <td>37.202461</td>\n",
       "      <td>55.370733</td>\n",
       "      <td>Троицкий административный округ</td>\n",
       "      <td>NaN</td>\n",
       "      <td>NaN</td>\n",
       "    </tr>\n",
       "    <tr>\n",
       "      <th>495</th>\n",
       "      <td>деревня Десна</td>\n",
       "      <td>37.370967</td>\n",
       "      <td>55.522225</td>\n",
       "      <td>Новомосковский административный округ</td>\n",
       "      <td>NaN</td>\n",
       "      <td>NaN</td>\n",
       "    </tr>\n",
       "    <tr>\n",
       "      <th>496</th>\n",
       "      <td>деревня Каменка</td>\n",
       "      <td>37.137324</td>\n",
       "      <td>55.496531</td>\n",
       "      <td>Троицкий административный округ</td>\n",
       "      <td>NaN</td>\n",
       "      <td>NaN</td>\n",
       "    </tr>\n",
       "    <tr>\n",
       "      <th>497</th>\n",
       "      <td>деревня Ликова</td>\n",
       "      <td>37.274775</td>\n",
       "      <td>55.620504</td>\n",
       "      <td>Новомосковский административный округ</td>\n",
       "      <td>NaN</td>\n",
       "      <td>NaN</td>\n",
       "    </tr>\n",
       "    <tr>\n",
       "      <th>498</th>\n",
       "      <td>деревня Пыхтино</td>\n",
       "      <td>37.298760</td>\n",
       "      <td>55.620855</td>\n",
       "      <td>Новомосковский административный округ</td>\n",
       "      <td>NaN</td>\n",
       "      <td>NaN</td>\n",
       "    </tr>\n",
       "    <tr>\n",
       "      <th>499</th>\n",
       "      <td>деревня Сенькино-Секерино</td>\n",
       "      <td>37.138887</td>\n",
       "      <td>55.431427</td>\n",
       "      <td>Троицкий административный округ</td>\n",
       "      <td>NaN</td>\n",
       "      <td>NaN</td>\n",
       "    </tr>\n",
       "    <tr>\n",
       "      <th>500</th>\n",
       "      <td>деревня Столбово</td>\n",
       "      <td>37.469808</td>\n",
       "      <td>55.562419</td>\n",
       "      <td>Новомосковский административный округ</td>\n",
       "      <td>NaN</td>\n",
       "      <td>NaN</td>\n",
       "    </tr>\n",
       "    <tr>\n",
       "      <th>501</th>\n",
       "      <td>деревня Шаганино</td>\n",
       "      <td>37.372575</td>\n",
       "      <td>55.431765</td>\n",
       "      <td>Троицкий административный округ</td>\n",
       "      <td>NaN</td>\n",
       "      <td>NaN</td>\n",
       "    </tr>\n",
       "    <tr>\n",
       "      <th>502</th>\n",
       "      <td>деревня Яковлевское</td>\n",
       "      <td>36.940386</td>\n",
       "      <td>55.465550</td>\n",
       "      <td>Троицкий административный округ</td>\n",
       "      <td>NaN</td>\n",
       "      <td>NaN</td>\n",
       "    </tr>\n",
       "    <tr>\n",
       "      <th>503</th>\n",
       "      <td>деревня Ясенки</td>\n",
       "      <td>37.214894</td>\n",
       "      <td>55.303043</td>\n",
       "      <td>Троицкий административный округ</td>\n",
       "      <td>NaN</td>\n",
       "      <td>NaN</td>\n",
       "    </tr>\n",
       "    <tr>\n",
       "      <th>504</th>\n",
       "      <td>квартал № 30</td>\n",
       "      <td>37.607080</td>\n",
       "      <td>55.748468</td>\n",
       "      <td>Центральный административный округ</td>\n",
       "      <td>NaN</td>\n",
       "      <td>NaN</td>\n",
       "    </tr>\n",
       "    <tr>\n",
       "      <th>511</th>\n",
       "      <td>корпус 4Г-Д</td>\n",
       "      <td>36.867344</td>\n",
       "      <td>55.428500</td>\n",
       "      <td>Троицкий административный округ</td>\n",
       "      <td>NaN</td>\n",
       "      <td>NaN</td>\n",
       "    </tr>\n",
       "    <tr>\n",
       "      <th>524</th>\n",
       "      <td>посёлок Газопровод</td>\n",
       "      <td>37.475513</td>\n",
       "      <td>55.581088</td>\n",
       "      <td>Новомосковский административный округ</td>\n",
       "      <td>NaN</td>\n",
       "      <td>NaN</td>\n",
       "    </tr>\n",
       "    <tr>\n",
       "      <th>525</th>\n",
       "      <td>посёлок Остафьево</td>\n",
       "      <td>37.485816</td>\n",
       "      <td>55.500279</td>\n",
       "      <td>Новомосковский административный округ</td>\n",
       "      <td>NaN</td>\n",
       "      <td>NaN</td>\n",
       "    </tr>\n",
       "    <tr>\n",
       "      <th>526</th>\n",
       "      <td>посёлок Рогово</td>\n",
       "      <td>37.076292</td>\n",
       "      <td>55.215832</td>\n",
       "      <td>Троицкий административный округ</td>\n",
       "      <td>NaN</td>\n",
       "      <td>NaN</td>\n",
       "    </tr>\n",
       "    <tr>\n",
       "      <th>535</th>\n",
       "      <td>село Былово</td>\n",
       "      <td>37.243972</td>\n",
       "      <td>55.445018</td>\n",
       "      <td>Троицкий административный округ</td>\n",
       "      <td>NaN</td>\n",
       "      <td>NaN</td>\n",
       "    </tr>\n",
       "    <tr>\n",
       "      <th>536</th>\n",
       "      <td>территория ТСЖ \"Лесная поляна-2\"</td>\n",
       "      <td>37.465488</td>\n",
       "      <td>55.589681</td>\n",
       "      <td>Новомосковский административный округ</td>\n",
       "      <td>NaN</td>\n",
       "      <td>NaN</td>\n",
       "    </tr>\n",
       "    <tr>\n",
       "      <th>537</th>\n",
       "      <td>улица 1-й километр Объездной Дороги</td>\n",
       "      <td>37.350458</td>\n",
       "      <td>55.328965</td>\n",
       "      <td>Троицкий административный округ</td>\n",
       "      <td>NaN</td>\n",
       "      <td>NaN</td>\n",
       "    </tr>\n",
       "    <tr>\n",
       "      <th>569</th>\n",
       "      <td>улица Дмитрия Рябинкина</td>\n",
       "      <td>37.331872</td>\n",
       "      <td>55.505643</td>\n",
       "      <td>Новомосковский административный округ</td>\n",
       "      <td>NaN</td>\n",
       "      <td>NaN</td>\n",
       "    </tr>\n",
       "    <tr>\n",
       "      <th>574</th>\n",
       "      <td>улица Евгения Родионова</td>\n",
       "      <td>37.343514</td>\n",
       "      <td>55.371362</td>\n",
       "      <td>Троицкий административный округ</td>\n",
       "      <td>NaN</td>\n",
       "      <td>NaN</td>\n",
       "    </tr>\n",
       "    <tr>\n",
       "      <th>615</th>\n",
       "      <td>улица Потаповская Роща</td>\n",
       "      <td>37.494647</td>\n",
       "      <td>55.548197</td>\n",
       "      <td>Новомосковский административный округ</td>\n",
       "      <td>NaN</td>\n",
       "      <td>NaN</td>\n",
       "    </tr>\n",
       "    <tr>\n",
       "      <th>618</th>\n",
       "      <td>улица Рассудовское Лесничество</td>\n",
       "      <td>36.931421</td>\n",
       "      <td>55.468714</td>\n",
       "      <td>Троицкий административный округ</td>\n",
       "      <td>NaN</td>\n",
       "      <td>NaN</td>\n",
       "    </tr>\n",
       "    <tr>\n",
       "      <th>631</th>\n",
       "      <td>улица Слобода</td>\n",
       "      <td>37.660341</td>\n",
       "      <td>55.664720</td>\n",
       "      <td>Центральный федеральный округ</td>\n",
       "      <td>NaN</td>\n",
       "      <td>NaN</td>\n",
       "    </tr>\n",
       "    <tr>\n",
       "      <th>634</th>\n",
       "      <td>улица Старые Кузьминки</td>\n",
       "      <td>37.790839</td>\n",
       "      <td>55.690095</td>\n",
       "      <td>Центральный федеральный округ</td>\n",
       "      <td>NaN</td>\n",
       "      <td>NaN</td>\n",
       "    </tr>\n",
       "    <tr>\n",
       "      <th>642</th>\n",
       "      <td>улица Школа-интернат</td>\n",
       "      <td>37.297134</td>\n",
       "      <td>55.424490</td>\n",
       "      <td>Троицкий административный округ</td>\n",
       "      <td>NaN</td>\n",
       "      <td>NaN</td>\n",
       "    </tr>\n",
       "  </tbody>\n",
       "</table>\n",
       "</div>"
      ],
      "text/plain": [
       "                                  street  longitude   latitude  \\\n",
       "6                  1-й Заречный переулок  36.958128  55.449450   \n",
       "33                 1-я Ватутинская улица  37.326357  55.502115   \n",
       "70                 2-я Барышевская улица  37.543911  55.496776   \n",
       "107       39-й километр Калужского шоссе  37.319889  55.480868   \n",
       "145                      Армейская улица  37.371164  55.509426   \n",
       "448                     Физическая улица  37.292733  55.465310   \n",
       "450                    Фитарёвская улица  37.480606  55.567107   \n",
       "465                      Цветочная улица  37.131988  55.517021   \n",
       "490                      деревня Бабенки  37.187198  55.354993   \n",
       "491                      деревня Бунчиха  37.036856  55.237761   \n",
       "492              деревня Верхнее Валуево  37.355121  55.578523   \n",
       "493                      деревня Внуково  37.266358  55.646563   \n",
       "494                 деревня Голохвастово  37.202461  55.370733   \n",
       "495                        деревня Десна  37.370967  55.522225   \n",
       "496                      деревня Каменка  37.137324  55.496531   \n",
       "497                       деревня Ликова  37.274775  55.620504   \n",
       "498                      деревня Пыхтино  37.298760  55.620855   \n",
       "499            деревня Сенькино-Секерино  37.138887  55.431427   \n",
       "500                     деревня Столбово  37.469808  55.562419   \n",
       "501                     деревня Шаганино  37.372575  55.431765   \n",
       "502                  деревня Яковлевское  36.940386  55.465550   \n",
       "503                       деревня Ясенки  37.214894  55.303043   \n",
       "504                         квартал № 30  37.607080  55.748468   \n",
       "511                          корпус 4Г-Д  36.867344  55.428500   \n",
       "524                   посёлок Газопровод  37.475513  55.581088   \n",
       "525                    посёлок Остафьево  37.485816  55.500279   \n",
       "526                       посёлок Рогово  37.076292  55.215832   \n",
       "535                          село Былово  37.243972  55.445018   \n",
       "536     территория ТСЖ \"Лесная поляна-2\"  37.465488  55.589681   \n",
       "537  улица 1-й километр Объездной Дороги  37.350458  55.328965   \n",
       "569              улица Дмитрия Рябинкина  37.331872  55.505643   \n",
       "574              улица Евгения Родионова  37.343514  55.371362   \n",
       "615               улица Потаповская Роща  37.494647  55.548197   \n",
       "618       улица Рассудовское Лесничество  36.931421  55.468714   \n",
       "631                        улица Слобода  37.660341  55.664720   \n",
       "634               улица Старые Кузьминки  37.790839  55.690095   \n",
       "642                 улица Школа-интернат  37.297134  55.424490   \n",
       "\n",
       "                                    region district area  \n",
       "6          Троицкий административный округ      NaN  NaN  \n",
       "33   Новомосковский административный округ      NaN  NaN  \n",
       "70   Новомосковский административный округ      NaN  NaN  \n",
       "107        Троицкий административный округ      NaN  NaN  \n",
       "145  Новомосковский административный округ      NaN  NaN  \n",
       "448        Троицкий административный округ      NaN  NaN  \n",
       "450  Новомосковский административный округ      NaN  NaN  \n",
       "465        Троицкий административный округ      NaN  NaN  \n",
       "490        Троицкий административный округ      NaN  NaN  \n",
       "491        Троицкий административный округ      NaN  NaN  \n",
       "492  Новомосковский административный округ      NaN  NaN  \n",
       "493  Новомосковский административный округ      NaN  NaN  \n",
       "494        Троицкий административный округ      NaN  NaN  \n",
       "495  Новомосковский административный округ      NaN  NaN  \n",
       "496        Троицкий административный округ      NaN  NaN  \n",
       "497  Новомосковский административный округ      NaN  NaN  \n",
       "498  Новомосковский административный округ      NaN  NaN  \n",
       "499        Троицкий административный округ      NaN  NaN  \n",
       "500  Новомосковский административный округ      NaN  NaN  \n",
       "501        Троицкий административный округ      NaN  NaN  \n",
       "502        Троицкий административный округ      NaN  NaN  \n",
       "503        Троицкий административный округ      NaN  NaN  \n",
       "504     Центральный административный округ      NaN  NaN  \n",
       "511        Троицкий административный округ      NaN  NaN  \n",
       "524  Новомосковский административный округ      NaN  NaN  \n",
       "525  Новомосковский административный округ      NaN  NaN  \n",
       "526        Троицкий административный округ      NaN  NaN  \n",
       "535        Троицкий административный округ      NaN  NaN  \n",
       "536  Новомосковский административный округ      NaN  NaN  \n",
       "537        Троицкий административный округ      NaN  NaN  \n",
       "569  Новомосковский административный округ      NaN  NaN  \n",
       "574        Троицкий административный округ      NaN  NaN  \n",
       "615  Новомосковский административный округ      NaN  NaN  \n",
       "618        Троицкий административный округ      NaN  NaN  \n",
       "631          Центральный федеральный округ      NaN  NaN  \n",
       "634          Центральный федеральный округ      NaN  NaN  \n",
       "642        Троицкий административный округ      NaN  NaN  "
      ]
     },
     "execution_count": 48,
     "metadata": {},
     "output_type": "execute_result"
    }
   ],
   "source": [
    "print(one_obj_street.query('district != district and area != area').shape)\n",
    "one_obj_street.query('district != district and area != area')"
   ]
  },
  {
   "cell_type": "markdown",
   "metadata": {
    "id": "MNSA2wbGxOtC"
   },
   "source": [
    "37 пропусков. Можно предположить, что эти пропуски у нас из-за того, что данные мосгаза за 2013 год. Тогда эти улицы считались Московской областью, а сейчас стали частью Москвы. Почти все пропуски находятся в Троицком и Новомосковском административных округах. С ними я уже ничего не сделаю, поэтому удалю их"
   ]
  },
  {
   "cell_type": "code",
   "execution_count": 49,
   "metadata": {
    "colab": {
     "base_uri": "https://localhost:8080/"
    },
    "executionInfo": {
     "elapsed": 228,
     "status": "ok",
     "timestamp": 1627829984606,
     "user": {
      "displayName": "Арсен",
      "photoUrl": "https://lh3.googleusercontent.com/a-/AOh14GjPCG8vWVVB43Ax1wpE_vEPLjGP-XH0UWc12vB7wg=s64",
      "userId": "17661651445996378067"
     },
     "user_tz": -180
    },
    "id": "iiXBHNHr37Q9",
    "outputId": "ea2c2caf-ebea-4a0d-c16f-faa697c1d6f4"
   },
   "outputs": [
    {
     "data": {
      "text/plain": [
       "[6,\n",
       " 33,\n",
       " 70,\n",
       " 107,\n",
       " 145,\n",
       " 448,\n",
       " 450,\n",
       " 465,\n",
       " 490,\n",
       " 491,\n",
       " 492,\n",
       " 493,\n",
       " 494,\n",
       " 495,\n",
       " 496,\n",
       " 497,\n",
       " 498,\n",
       " 499,\n",
       " 500,\n",
       " 501,\n",
       " 502,\n",
       " 503,\n",
       " 504,\n",
       " 511,\n",
       " 524,\n",
       " 525,\n",
       " 526,\n",
       " 535,\n",
       " 536,\n",
       " 537,\n",
       " 569,\n",
       " 574,\n",
       " 615,\n",
       " 618,\n",
       " 631,\n",
       " 634,\n",
       " 642]"
      ]
     },
     "execution_count": 49,
     "metadata": {},
     "output_type": "execute_result"
    }
   ],
   "source": [
    "die = list(one_obj_street.query('district != district and area != area').index)\n",
    "die"
   ]
  },
  {
   "cell_type": "code",
   "execution_count": 50,
   "metadata": {
    "colab": {
     "base_uri": "https://localhost:8080/",
     "height": 419
    },
    "executionInfo": {
     "elapsed": 5,
     "status": "ok",
     "timestamp": 1627829984821,
     "user": {
      "displayName": "Арсен",
      "photoUrl": "https://lh3.googleusercontent.com/a-/AOh14GjPCG8vWVVB43Ax1wpE_vEPLjGP-XH0UWc12vB7wg=s64",
      "userId": "17661651445996378067"
     },
     "user_tz": -180
    },
    "id": "9agcejgw4E-l",
    "outputId": "3016e291-d71a-418d-bb43-7b1e14c2613b"
   },
   "outputs": [
    {
     "data": {
      "text/html": [
       "<div>\n",
       "<style scoped>\n",
       "    .dataframe tbody tr th:only-of-type {\n",
       "        vertical-align: middle;\n",
       "    }\n",
       "\n",
       "    .dataframe tbody tr th {\n",
       "        vertical-align: top;\n",
       "    }\n",
       "\n",
       "    .dataframe thead th {\n",
       "        text-align: right;\n",
       "    }\n",
       "</style>\n",
       "<table border=\"1\" class=\"dataframe\">\n",
       "  <thead>\n",
       "    <tr style=\"text-align: right;\">\n",
       "      <th></th>\n",
       "      <th>street</th>\n",
       "      <th>longitude</th>\n",
       "      <th>latitude</th>\n",
       "      <th>region</th>\n",
       "      <th>district</th>\n",
       "      <th>area</th>\n",
       "    </tr>\n",
       "  </thead>\n",
       "  <tbody>\n",
       "    <tr>\n",
       "      <th>0</th>\n",
       "      <td>1-й Балтийский переулок</td>\n",
       "      <td>37.518560</td>\n",
       "      <td>55.809762</td>\n",
       "      <td>Центральный федеральный округ</td>\n",
       "      <td>район Аэропорт</td>\n",
       "      <td>Район Аэропорт</td>\n",
       "    </tr>\n",
       "    <tr>\n",
       "      <th>1</th>\n",
       "      <td>1-й Басманный переулок</td>\n",
       "      <td>37.663458</td>\n",
       "      <td>55.770978</td>\n",
       "      <td>Центральный федеральный округ</td>\n",
       "      <td>Басманный район</td>\n",
       "      <td>Басманный район</td>\n",
       "    </tr>\n",
       "    <tr>\n",
       "      <th>2</th>\n",
       "      <td>1-й Басманный переулок</td>\n",
       "      <td>37.663458</td>\n",
       "      <td>55.770978</td>\n",
       "      <td>Центральный федеральный округ</td>\n",
       "      <td>Басманный район</td>\n",
       "      <td>Красносельский район</td>\n",
       "    </tr>\n",
       "    <tr>\n",
       "      <th>3</th>\n",
       "      <td>1-й Ботанический проезд</td>\n",
       "      <td>37.634218</td>\n",
       "      <td>55.849565</td>\n",
       "      <td>Центральный федеральный округ</td>\n",
       "      <td>район Свиблово</td>\n",
       "      <td>Район Свиблово</td>\n",
       "    </tr>\n",
       "    <tr>\n",
       "      <th>4</th>\n",
       "      <td>1-й Вешняковский проезд</td>\n",
       "      <td>37.788567</td>\n",
       "      <td>55.724631</td>\n",
       "      <td>Центральный федеральный округ</td>\n",
       "      <td>Рязанский район</td>\n",
       "      <td>Рязанский район</td>\n",
       "    </tr>\n",
       "    <tr>\n",
       "      <th>...</th>\n",
       "      <td>...</td>\n",
       "      <td>...</td>\n",
       "      <td>...</td>\n",
       "      <td>...</td>\n",
       "      <td>...</td>\n",
       "      <td>...</td>\n",
       "    </tr>\n",
       "    <tr>\n",
       "      <th>643</th>\n",
       "      <td>улица Шумилова</td>\n",
       "      <td>37.774310</td>\n",
       "      <td>55.708394</td>\n",
       "      <td>Центральный федеральный округ</td>\n",
       "      <td>район Кузьминки</td>\n",
       "      <td>Район Кузьминки</td>\n",
       "    </tr>\n",
       "    <tr>\n",
       "      <th>644</th>\n",
       "      <td>улица Шумкина</td>\n",
       "      <td>37.669594</td>\n",
       "      <td>55.788216</td>\n",
       "      <td>Центральный федеральный округ</td>\n",
       "      <td>район Сокольники</td>\n",
       "      <td>Район Сокольники</td>\n",
       "    </tr>\n",
       "    <tr>\n",
       "      <th>645</th>\n",
       "      <td>улица Щорса</td>\n",
       "      <td>37.406064</td>\n",
       "      <td>55.645934</td>\n",
       "      <td>Центральный федеральный округ</td>\n",
       "      <td>район Солнцево</td>\n",
       "      <td>Район Солнцево</td>\n",
       "    </tr>\n",
       "    <tr>\n",
       "      <th>646</th>\n",
       "      <td>улица Энгельса</td>\n",
       "      <td>37.688081</td>\n",
       "      <td>55.775641</td>\n",
       "      <td>Центральный федеральный округ</td>\n",
       "      <td>Басманный район</td>\n",
       "      <td>NaN</td>\n",
       "    </tr>\n",
       "    <tr>\n",
       "      <th>647</th>\n",
       "      <td>шоссе Фрезер</td>\n",
       "      <td>37.735818</td>\n",
       "      <td>55.739134</td>\n",
       "      <td>Центральный федеральный округ</td>\n",
       "      <td>Нижегородский район</td>\n",
       "      <td>Нижегородский район</td>\n",
       "    </tr>\n",
       "  </tbody>\n",
       "</table>\n",
       "<p>611 rows × 6 columns</p>\n",
       "</div>"
      ],
      "text/plain": [
       "                      street  longitude   latitude  \\\n",
       "0    1-й Балтийский переулок  37.518560  55.809762   \n",
       "1     1-й Басманный переулок  37.663458  55.770978   \n",
       "2     1-й Басманный переулок  37.663458  55.770978   \n",
       "3    1-й Ботанический проезд  37.634218  55.849565   \n",
       "4    1-й Вешняковский проезд  37.788567  55.724631   \n",
       "..                       ...        ...        ...   \n",
       "643           улица Шумилова  37.774310  55.708394   \n",
       "644            улица Шумкина  37.669594  55.788216   \n",
       "645              улица Щорса  37.406064  55.645934   \n",
       "646           улица Энгельса  37.688081  55.775641   \n",
       "647             шоссе Фрезер  37.735818  55.739134   \n",
       "\n",
       "                            region             district                  area  \n",
       "0    Центральный федеральный округ       район Аэропорт        Район Аэропорт  \n",
       "1    Центральный федеральный округ      Басманный район       Басманный район  \n",
       "2    Центральный федеральный округ      Басманный район  Красносельский район  \n",
       "3    Центральный федеральный округ       район Свиблово        Район Свиблово  \n",
       "4    Центральный федеральный округ      Рязанский район       Рязанский район  \n",
       "..                             ...                  ...                   ...  \n",
       "643  Центральный федеральный округ      район Кузьминки       Район Кузьминки  \n",
       "644  Центральный федеральный округ     район Сокольники      Район Сокольники  \n",
       "645  Центральный федеральный округ       район Солнцево        Район Солнцево  \n",
       "646  Центральный федеральный округ      Басманный район                   NaN  \n",
       "647  Центральный федеральный округ  Нижегородский район   Нижегородский район  \n",
       "\n",
       "[611 rows x 6 columns]"
      ]
     },
     "execution_count": 50,
     "metadata": {},
     "output_type": "execute_result"
    }
   ],
   "source": [
    "one_obj_street = one_obj_street.query('index not in @die')\n",
    "one_obj_street"
   ]
  },
  {
   "cell_type": "code",
   "execution_count": 51,
   "metadata": {
    "colab": {
     "base_uri": "https://localhost:8080/",
     "height": 1000
    },
    "executionInfo": {
     "elapsed": 279,
     "status": "ok",
     "timestamp": 1627830003915,
     "user": {
      "displayName": "Арсен",
      "photoUrl": "https://lh3.googleusercontent.com/a-/AOh14GjPCG8vWVVB43Ax1wpE_vEPLjGP-XH0UWc12vB7wg=s64",
      "userId": "17661651445996378067"
     },
     "user_tz": -180
    },
    "id": "RDWtWLQK1jf1",
    "outputId": "fd53c2c2-7082-4c81-9712-34bb4a77b4c2"
   },
   "outputs": [
    {
     "name": "stdout",
     "output_type": "stream",
     "text": [
      "(33, 6)\n"
     ]
    },
    {
     "data": {
      "text/html": [
       "<div>\n",
       "<style scoped>\n",
       "    .dataframe tbody tr th:only-of-type {\n",
       "        vertical-align: middle;\n",
       "    }\n",
       "\n",
       "    .dataframe tbody tr th {\n",
       "        vertical-align: top;\n",
       "    }\n",
       "\n",
       "    .dataframe thead th {\n",
       "        text-align: right;\n",
       "    }\n",
       "</style>\n",
       "<table border=\"1\" class=\"dataframe\">\n",
       "  <thead>\n",
       "    <tr style=\"text-align: right;\">\n",
       "      <th></th>\n",
       "      <th>street</th>\n",
       "      <th>longitude</th>\n",
       "      <th>latitude</th>\n",
       "      <th>region</th>\n",
       "      <th>district</th>\n",
       "      <th>area</th>\n",
       "    </tr>\n",
       "  </thead>\n",
       "  <tbody>\n",
       "    <tr>\n",
       "      <th>40</th>\n",
       "      <td>1-я линия Хорошёвского Серебряного Бора</td>\n",
       "      <td>37.440613</td>\n",
       "      <td>55.783428</td>\n",
       "      <td>Центральный федеральный округ</td>\n",
       "      <td>NaN</td>\n",
       "      <td>Район Хорошево-Мневники</td>\n",
       "    </tr>\n",
       "    <tr>\n",
       "      <th>58</th>\n",
       "      <td>2-й Магистральный тупик</td>\n",
       "      <td>37.522953</td>\n",
       "      <td>55.768046</td>\n",
       "      <td>Центральный федеральный округ</td>\n",
       "      <td>NaN</td>\n",
       "      <td>Хорошевский район</td>\n",
       "    </tr>\n",
       "    <tr>\n",
       "      <th>125</th>\n",
       "      <td>6-я улица Лазенки</td>\n",
       "      <td>37.360466</td>\n",
       "      <td>55.660815</td>\n",
       "      <td>Центральный федеральный округ</td>\n",
       "      <td>NaN</td>\n",
       "      <td>Район Ново-Переделкино</td>\n",
       "    </tr>\n",
       "    <tr>\n",
       "      <th>141</th>\n",
       "      <td>Андроньевская площадь</td>\n",
       "      <td>37.669270</td>\n",
       "      <td>55.746557</td>\n",
       "      <td>Центральный федеральный округ</td>\n",
       "      <td>NaN</td>\n",
       "      <td>Таганский район</td>\n",
       "    </tr>\n",
       "    <tr>\n",
       "      <th>149</th>\n",
       "      <td>Аэрофлотская улица</td>\n",
       "      <td>37.289957</td>\n",
       "      <td>55.610641</td>\n",
       "      <td>Центральный федеральный округ</td>\n",
       "      <td>NaN</td>\n",
       "      <td>Район Внуково</td>\n",
       "    </tr>\n",
       "    <tr>\n",
       "      <th>164</th>\n",
       "      <td>Большая Внуковская улица</td>\n",
       "      <td>37.296793</td>\n",
       "      <td>55.610819</td>\n",
       "      <td>Центральный федеральный округ</td>\n",
       "      <td>NaN</td>\n",
       "      <td>Район Внуково</td>\n",
       "    </tr>\n",
       "    <tr>\n",
       "      <th>180</th>\n",
       "      <td>Большой Трёхсвятительский переулок</td>\n",
       "      <td>37.645438</td>\n",
       "      <td>55.755165</td>\n",
       "      <td>Центральный федеральный округ</td>\n",
       "      <td>NaN</td>\n",
       "      <td>Басманный район</td>\n",
       "    </tr>\n",
       "    <tr>\n",
       "      <th>219</th>\n",
       "      <td>Дивизионная улица</td>\n",
       "      <td>37.263394</td>\n",
       "      <td>55.609456</td>\n",
       "      <td>Центральный федеральный округ</td>\n",
       "      <td>NaN</td>\n",
       "      <td>Район Внуково</td>\n",
       "    </tr>\n",
       "    <tr>\n",
       "      <th>227</th>\n",
       "      <td>Жуков проезд</td>\n",
       "      <td>37.642429</td>\n",
       "      <td>55.722259</td>\n",
       "      <td>Центральный федеральный округ</td>\n",
       "      <td>NaN</td>\n",
       "      <td>Район Замоскворечье</td>\n",
       "    </tr>\n",
       "    <tr>\n",
       "      <th>228</th>\n",
       "      <td>Жуков проезд</td>\n",
       "      <td>37.642429</td>\n",
       "      <td>55.722259</td>\n",
       "      <td>Центральный федеральный округ</td>\n",
       "      <td>NaN</td>\n",
       "      <td>Даниловский район</td>\n",
       "    </tr>\n",
       "    <tr>\n",
       "      <th>234</th>\n",
       "      <td>Иваньковское шоссе</td>\n",
       "      <td>37.465317</td>\n",
       "      <td>55.822084</td>\n",
       "      <td>Центральный федеральный округ</td>\n",
       "      <td>NaN</td>\n",
       "      <td>Район Покровское-Стрешнево</td>\n",
       "    </tr>\n",
       "    <tr>\n",
       "      <th>242</th>\n",
       "      <td>Интернациональная улица</td>\n",
       "      <td>37.258049</td>\n",
       "      <td>55.611511</td>\n",
       "      <td>Центральный федеральный округ</td>\n",
       "      <td>NaN</td>\n",
       "      <td>Район Внуково</td>\n",
       "    </tr>\n",
       "    <tr>\n",
       "      <th>261</th>\n",
       "      <td>Кузьминская улица</td>\n",
       "      <td>37.790435</td>\n",
       "      <td>55.693789</td>\n",
       "      <td>Центральный федеральный округ</td>\n",
       "      <td>NaN</td>\n",
       "      <td>Район Кузьминки</td>\n",
       "    </tr>\n",
       "    <tr>\n",
       "      <th>262</th>\n",
       "      <td>Кузьминская улица</td>\n",
       "      <td>37.790435</td>\n",
       "      <td>55.693789</td>\n",
       "      <td>Центральный федеральный округ</td>\n",
       "      <td>NaN</td>\n",
       "      <td>Район Выхино-Жулебино</td>\n",
       "    </tr>\n",
       "    <tr>\n",
       "      <th>285</th>\n",
       "      <td>Малый Ивановский переулок</td>\n",
       "      <td>37.640938</td>\n",
       "      <td>55.753944</td>\n",
       "      <td>Центральный федеральный округ</td>\n",
       "      <td>NaN</td>\n",
       "      <td>Басманный район</td>\n",
       "    </tr>\n",
       "    <tr>\n",
       "      <th>319</th>\n",
       "      <td>Народный проспект</td>\n",
       "      <td>37.748151</td>\n",
       "      <td>55.781129</td>\n",
       "      <td>Центральный федеральный округ</td>\n",
       "      <td>NaN</td>\n",
       "      <td>Район Измайлово</td>\n",
       "    </tr>\n",
       "    <tr>\n",
       "      <th>330</th>\n",
       "      <td>Новолучанская улица</td>\n",
       "      <td>37.359073</td>\n",
       "      <td>55.790256</td>\n",
       "      <td>Центральный федеральный округ</td>\n",
       "      <td>NaN</td>\n",
       "      <td>Район Кунцево</td>\n",
       "    </tr>\n",
       "    <tr>\n",
       "      <th>333</th>\n",
       "      <td>Новорублёвская улица</td>\n",
       "      <td>37.360645</td>\n",
       "      <td>55.787250</td>\n",
       "      <td>Центральный федеральный округ</td>\n",
       "      <td>NaN</td>\n",
       "      <td>Район Кунцево</td>\n",
       "    </tr>\n",
       "    <tr>\n",
       "      <th>342</th>\n",
       "      <td>Парковая улица</td>\n",
       "      <td>37.360780</td>\n",
       "      <td>55.659272</td>\n",
       "      <td>Центральный федеральный округ</td>\n",
       "      <td>NaN</td>\n",
       "      <td>Район Ново-Переделкино</td>\n",
       "    </tr>\n",
       "    <tr>\n",
       "      <th>343</th>\n",
       "      <td>Парковая улица</td>\n",
       "      <td>37.360780</td>\n",
       "      <td>55.659272</td>\n",
       "      <td>Центральный федеральный округ</td>\n",
       "      <td>NaN</td>\n",
       "      <td>Район Митино</td>\n",
       "    </tr>\n",
       "    <tr>\n",
       "      <th>352</th>\n",
       "      <td>Петроверигский переулок</td>\n",
       "      <td>37.638054</td>\n",
       "      <td>55.756802</td>\n",
       "      <td>Центральный федеральный округ</td>\n",
       "      <td>NaN</td>\n",
       "      <td>Басманный район</td>\n",
       "    </tr>\n",
       "    <tr>\n",
       "      <th>361</th>\n",
       "      <td>Полевая улица</td>\n",
       "      <td>37.851206</td>\n",
       "      <td>55.715251</td>\n",
       "      <td>Центральный федеральный округ</td>\n",
       "      <td>NaN</td>\n",
       "      <td>Район Внуково</td>\n",
       "    </tr>\n",
       "    <tr>\n",
       "      <th>362</th>\n",
       "      <td>Полевая улица</td>\n",
       "      <td>37.851206</td>\n",
       "      <td>55.715251</td>\n",
       "      <td>Центральный федеральный округ</td>\n",
       "      <td>NaN</td>\n",
       "      <td>Район Крюково</td>\n",
       "    </tr>\n",
       "    <tr>\n",
       "      <th>363</th>\n",
       "      <td>Полевая улица</td>\n",
       "      <td>37.851206</td>\n",
       "      <td>55.715251</td>\n",
       "      <td>Центральный федеральный округ</td>\n",
       "      <td>NaN</td>\n",
       "      <td>Район Южное Бутово</td>\n",
       "    </tr>\n",
       "    <tr>\n",
       "      <th>398</th>\n",
       "      <td>Софийская набережная</td>\n",
       "      <td>37.617977</td>\n",
       "      <td>55.747875</td>\n",
       "      <td>Центральный федеральный округ</td>\n",
       "      <td>NaN</td>\n",
       "      <td>Район Якиманка</td>\n",
       "    </tr>\n",
       "    <tr>\n",
       "      <th>427</th>\n",
       "      <td>Тенистый проезд</td>\n",
       "      <td>37.638135</td>\n",
       "      <td>55.860757</td>\n",
       "      <td>Центральный федеральный округ</td>\n",
       "      <td>NaN</td>\n",
       "      <td>Район Свиблово</td>\n",
       "    </tr>\n",
       "    <tr>\n",
       "      <th>435</th>\n",
       "      <td>Триумфальная площадь</td>\n",
       "      <td>37.595303</td>\n",
       "      <td>55.769428</td>\n",
       "      <td>Центральный федеральный округ</td>\n",
       "      <td>NaN</td>\n",
       "      <td>Тверской район</td>\n",
       "    </tr>\n",
       "    <tr>\n",
       "      <th>439</th>\n",
       "      <td>Тургеневская площадь</td>\n",
       "      <td>37.637102</td>\n",
       "      <td>55.765660</td>\n",
       "      <td>Центральный федеральный округ</td>\n",
       "      <td>NaN</td>\n",
       "      <td>Красносельский район</td>\n",
       "    </tr>\n",
       "    <tr>\n",
       "      <th>459</th>\n",
       "      <td>Хитровский переулок</td>\n",
       "      <td>37.644648</td>\n",
       "      <td>55.753757</td>\n",
       "      <td>Центральный федеральный округ</td>\n",
       "      <td>NaN</td>\n",
       "      <td>Басманный район</td>\n",
       "    </tr>\n",
       "    <tr>\n",
       "      <th>464</th>\n",
       "      <td>Хохловский переулок</td>\n",
       "      <td>37.643695</td>\n",
       "      <td>55.756513</td>\n",
       "      <td>Центральный федеральный округ</td>\n",
       "      <td>NaN</td>\n",
       "      <td>Басманный район</td>\n",
       "    </tr>\n",
       "    <tr>\n",
       "      <th>488</th>\n",
       "      <td>Яузский бульвар</td>\n",
       "      <td>37.645267</td>\n",
       "      <td>55.751193</td>\n",
       "      <td>Центральный федеральный округ</td>\n",
       "      <td>NaN</td>\n",
       "      <td>Таганский район</td>\n",
       "    </tr>\n",
       "    <tr>\n",
       "      <th>521</th>\n",
       "      <td>площадь Журавлёва</td>\n",
       "      <td>37.703128</td>\n",
       "      <td>55.784440</td>\n",
       "      <td>Центральный федеральный округ</td>\n",
       "      <td>NaN</td>\n",
       "      <td>Район Преображенское</td>\n",
       "    </tr>\n",
       "    <tr>\n",
       "      <th>522</th>\n",
       "      <td>площадь Журавлёва</td>\n",
       "      <td>37.703128</td>\n",
       "      <td>55.784440</td>\n",
       "      <td>Центральный федеральный округ</td>\n",
       "      <td>NaN</td>\n",
       "      <td>Район Соколиная Гора</td>\n",
       "    </tr>\n",
       "  </tbody>\n",
       "</table>\n",
       "</div>"
      ],
      "text/plain": [
       "                                      street  longitude   latitude  \\\n",
       "40   1-я линия Хорошёвского Серебряного Бора  37.440613  55.783428   \n",
       "58                   2-й Магистральный тупик  37.522953  55.768046   \n",
       "125                        6-я улица Лазенки  37.360466  55.660815   \n",
       "141                    Андроньевская площадь  37.669270  55.746557   \n",
       "149                       Аэрофлотская улица  37.289957  55.610641   \n",
       "164                 Большая Внуковская улица  37.296793  55.610819   \n",
       "180       Большой Трёхсвятительский переулок  37.645438  55.755165   \n",
       "219                        Дивизионная улица  37.263394  55.609456   \n",
       "227                             Жуков проезд  37.642429  55.722259   \n",
       "228                             Жуков проезд  37.642429  55.722259   \n",
       "234                       Иваньковское шоссе  37.465317  55.822084   \n",
       "242                  Интернациональная улица  37.258049  55.611511   \n",
       "261                        Кузьминская улица  37.790435  55.693789   \n",
       "262                        Кузьминская улица  37.790435  55.693789   \n",
       "285                Малый Ивановский переулок  37.640938  55.753944   \n",
       "319                        Народный проспект  37.748151  55.781129   \n",
       "330                      Новолучанская улица  37.359073  55.790256   \n",
       "333                     Новорублёвская улица  37.360645  55.787250   \n",
       "342                           Парковая улица  37.360780  55.659272   \n",
       "343                           Парковая улица  37.360780  55.659272   \n",
       "352                  Петроверигский переулок  37.638054  55.756802   \n",
       "361                            Полевая улица  37.851206  55.715251   \n",
       "362                            Полевая улица  37.851206  55.715251   \n",
       "363                            Полевая улица  37.851206  55.715251   \n",
       "398                     Софийская набережная  37.617977  55.747875   \n",
       "427                          Тенистый проезд  37.638135  55.860757   \n",
       "435                     Триумфальная площадь  37.595303  55.769428   \n",
       "439                     Тургеневская площадь  37.637102  55.765660   \n",
       "459                      Хитровский переулок  37.644648  55.753757   \n",
       "464                      Хохловский переулок  37.643695  55.756513   \n",
       "488                          Яузский бульвар  37.645267  55.751193   \n",
       "521                        площадь Журавлёва  37.703128  55.784440   \n",
       "522                        площадь Журавлёва  37.703128  55.784440   \n",
       "\n",
       "                            region district                        area  \n",
       "40   Центральный федеральный округ      NaN     Район Хорошево-Мневники  \n",
       "58   Центральный федеральный округ      NaN           Хорошевский район  \n",
       "125  Центральный федеральный округ      NaN      Район Ново-Переделкино  \n",
       "141  Центральный федеральный округ      NaN             Таганский район  \n",
       "149  Центральный федеральный округ      NaN               Район Внуково  \n",
       "164  Центральный федеральный округ      NaN               Район Внуково  \n",
       "180  Центральный федеральный округ      NaN             Басманный район  \n",
       "219  Центральный федеральный округ      NaN               Район Внуково  \n",
       "227  Центральный федеральный округ      NaN         Район Замоскворечье  \n",
       "228  Центральный федеральный округ      NaN           Даниловский район  \n",
       "234  Центральный федеральный округ      NaN  Район Покровское-Стрешнево  \n",
       "242  Центральный федеральный округ      NaN               Район Внуково  \n",
       "261  Центральный федеральный округ      NaN             Район Кузьминки  \n",
       "262  Центральный федеральный округ      NaN       Район Выхино-Жулебино  \n",
       "285  Центральный федеральный округ      NaN             Басманный район  \n",
       "319  Центральный федеральный округ      NaN             Район Измайлово  \n",
       "330  Центральный федеральный округ      NaN               Район Кунцево  \n",
       "333  Центральный федеральный округ      NaN               Район Кунцево  \n",
       "342  Центральный федеральный округ      NaN      Район Ново-Переделкино  \n",
       "343  Центральный федеральный округ      NaN                Район Митино  \n",
       "352  Центральный федеральный округ      NaN             Басманный район  \n",
       "361  Центральный федеральный округ      NaN               Район Внуково  \n",
       "362  Центральный федеральный округ      NaN               Район Крюково  \n",
       "363  Центральный федеральный округ      NaN          Район Южное Бутово  \n",
       "398  Центральный федеральный округ      NaN              Район Якиманка  \n",
       "427  Центральный федеральный округ      NaN              Район Свиблово  \n",
       "435  Центральный федеральный округ      NaN              Тверской район  \n",
       "439  Центральный федеральный округ      NaN        Красносельский район  \n",
       "459  Центральный федеральный округ      NaN             Басманный район  \n",
       "464  Центральный федеральный округ      NaN             Басманный район  \n",
       "488  Центральный федеральный округ      NaN             Таганский район  \n",
       "521  Центральный федеральный округ      NaN        Район Преображенское  \n",
       "522  Центральный федеральный округ      NaN        Район Соколиная Гора  "
      ]
     },
     "execution_count": 51,
     "metadata": {},
     "output_type": "execute_result"
    }
   ],
   "source": [
    "print(one_obj_street.query('district != district').shape)\n",
    "one_obj_street.query('district != district')"
   ]
  },
  {
   "cell_type": "markdown",
   "metadata": {
    "id": "bPYMsGxW1pkB"
   },
   "source": [
    "33 пропуска можем заполнить"
   ]
  },
  {
   "cell_type": "code",
   "execution_count": 52,
   "metadata": {
    "id": "f8DBzC9y6cw-"
   },
   "outputs": [],
   "source": [
    "one_obj_street['district'].fillna(one_obj_street['area'], inplace=True)"
   ]
  },
  {
   "cell_type": "code",
   "execution_count": 53,
   "metadata": {
    "colab": {
     "base_uri": "https://localhost:8080/",
     "height": 49
    },
    "executionInfo": {
     "elapsed": 7,
     "status": "ok",
     "timestamp": 1627830011235,
     "user": {
      "displayName": "Арсен",
      "photoUrl": "https://lh3.googleusercontent.com/a-/AOh14GjPCG8vWVVB43Ax1wpE_vEPLjGP-XH0UWc12vB7wg=s64",
      "userId": "17661651445996378067"
     },
     "user_tz": -180
    },
    "id": "R3XYITRj7AWE",
    "outputId": "46ad5981-e602-4f94-bdc5-00cd5fbd8fcb"
   },
   "outputs": [
    {
     "data": {
      "text/html": [
       "<div>\n",
       "<style scoped>\n",
       "    .dataframe tbody tr th:only-of-type {\n",
       "        vertical-align: middle;\n",
       "    }\n",
       "\n",
       "    .dataframe tbody tr th {\n",
       "        vertical-align: top;\n",
       "    }\n",
       "\n",
       "    .dataframe thead th {\n",
       "        text-align: right;\n",
       "    }\n",
       "</style>\n",
       "<table border=\"1\" class=\"dataframe\">\n",
       "  <thead>\n",
       "    <tr style=\"text-align: right;\">\n",
       "      <th></th>\n",
       "      <th>street</th>\n",
       "      <th>longitude</th>\n",
       "      <th>latitude</th>\n",
       "      <th>region</th>\n",
       "      <th>district</th>\n",
       "      <th>area</th>\n",
       "    </tr>\n",
       "  </thead>\n",
       "  <tbody>\n",
       "  </tbody>\n",
       "</table>\n",
       "</div>"
      ],
      "text/plain": [
       "Empty DataFrame\n",
       "Columns: [street, longitude, latitude, region, district, area]\n",
       "Index: []"
      ]
     },
     "execution_count": 53,
     "metadata": {},
     "output_type": "execute_result"
    }
   ],
   "source": [
    "one_obj_street.query('district != district')"
   ]
  },
  {
   "cell_type": "code",
   "execution_count": 54,
   "metadata": {
    "colab": {
     "base_uri": "https://localhost:8080/"
    },
    "executionInfo": {
     "elapsed": 4,
     "status": "ok",
     "timestamp": 1627830011524,
     "user": {
      "displayName": "Арсен",
      "photoUrl": "https://lh3.googleusercontent.com/a-/AOh14GjPCG8vWVVB43Ax1wpE_vEPLjGP-XH0UWc12vB7wg=s64",
      "userId": "17661651445996378067"
     },
     "user_tz": -180
    },
    "id": "Yxh4-qv57Ozj",
    "outputId": "919aea94-a47d-41d9-c0d9-1de73409035b"
   },
   "outputs": [
    {
     "data": {
      "text/plain": [
       "(611, 6)"
      ]
     },
     "execution_count": 54,
     "metadata": {},
     "output_type": "execute_result"
    }
   ],
   "source": [
    "one_obj_street.shape"
   ]
  },
  {
   "cell_type": "markdown",
   "metadata": {
    "id": "Eknl3eWFvch_"
   },
   "source": [
    "Проверим дубликаты"
   ]
  },
  {
   "cell_type": "code",
   "execution_count": 55,
   "metadata": {
    "colab": {
     "base_uri": "https://localhost:8080/"
    },
    "executionInfo": {
     "elapsed": 4,
     "status": "ok",
     "timestamp": 1627830013658,
     "user": {
      "displayName": "Арсен",
      "photoUrl": "https://lh3.googleusercontent.com/a-/AOh14GjPCG8vWVVB43Ax1wpE_vEPLjGP-XH0UWc12vB7wg=s64",
      "userId": "17661651445996378067"
     },
     "user_tz": -180
    },
    "id": "qiniUTEE1YpY",
    "outputId": "81f1fb22-8bbe-438d-c8bd-712ccf151894"
   },
   "outputs": [
    {
     "data": {
      "text/plain": [
       "47"
      ]
     },
     "execution_count": 55,
     "metadata": {},
     "output_type": "execute_result"
    }
   ],
   "source": [
    "one_obj_street['street'].duplicated().sum()"
   ]
  },
  {
   "cell_type": "markdown",
   "metadata": {
    "id": "Imz_Tisiwzl9"
   },
   "source": [
    "Так как у нас только улицы (без номера дома), то в случаях, когда одна улица находится в нескольких районах, мы получаем дубликаты. Я считаю, это не особо важно, потому что районы находятся рядом, поэтому дубликаты можно удалить и оставить 1 любой район"
   ]
  },
  {
   "cell_type": "code",
   "execution_count": 56,
   "metadata": {
    "id": "ilYOkQP8xDqY"
   },
   "outputs": [],
   "source": [
    "one_obj_street.drop_duplicates(subset='street', inplace=True)"
   ]
  },
  {
   "cell_type": "code",
   "execution_count": 57,
   "metadata": {
    "colab": {
     "base_uri": "https://localhost:8080/"
    },
    "executionInfo": {
     "elapsed": 3,
     "status": "ok",
     "timestamp": 1627830017172,
     "user": {
      "displayName": "Арсен",
      "photoUrl": "https://lh3.googleusercontent.com/a-/AOh14GjPCG8vWVVB43Ax1wpE_vEPLjGP-XH0UWc12vB7wg=s64",
      "userId": "17661651445996378067"
     },
     "user_tz": -180
    },
    "id": "MOrq6MUgyN2j",
    "outputId": "92f825cf-0362-4a64-aa9a-a246c5068614"
   },
   "outputs": [
    {
     "data": {
      "text/plain": [
       "(564, 6)"
      ]
     },
     "execution_count": 57,
     "metadata": {},
     "output_type": "execute_result"
    }
   ],
   "source": [
    "one_obj_street.shape"
   ]
  },
  {
   "cell_type": "markdown",
   "metadata": {
    "id": "_FvbhOMNyqxt"
   },
   "source": [
    "Ну вот, почти половину пропусков получилось заполнить."
   ]
  },
  {
   "cell_type": "markdown",
   "metadata": {
    "id": "1DzLGkmJ8VaG"
   },
   "source": [
    "И удалим ненужный столбец"
   ]
  },
  {
   "cell_type": "code",
   "execution_count": 58,
   "metadata": {
    "colab": {
     "base_uri": "https://localhost:8080/",
     "height": 419
    },
    "executionInfo": {
     "elapsed": 431,
     "status": "ok",
     "timestamp": 1627830022185,
     "user": {
      "displayName": "Арсен",
      "photoUrl": "https://lh3.googleusercontent.com/a-/AOh14GjPCG8vWVVB43Ax1wpE_vEPLjGP-XH0UWc12vB7wg=s64",
      "userId": "17661651445996378067"
     },
     "user_tz": -180
    },
    "id": "O431p1yIzdbB",
    "outputId": "626aa411-b06b-45eb-83bf-4df95eb131bd"
   },
   "outputs": [
    {
     "data": {
      "text/html": [
       "<div>\n",
       "<style scoped>\n",
       "    .dataframe tbody tr th:only-of-type {\n",
       "        vertical-align: middle;\n",
       "    }\n",
       "\n",
       "    .dataframe tbody tr th {\n",
       "        vertical-align: top;\n",
       "    }\n",
       "\n",
       "    .dataframe thead th {\n",
       "        text-align: right;\n",
       "    }\n",
       "</style>\n",
       "<table border=\"1\" class=\"dataframe\">\n",
       "  <thead>\n",
       "    <tr style=\"text-align: right;\">\n",
       "      <th></th>\n",
       "      <th>street</th>\n",
       "      <th>longitude</th>\n",
       "      <th>latitude</th>\n",
       "      <th>region</th>\n",
       "      <th>district</th>\n",
       "    </tr>\n",
       "  </thead>\n",
       "  <tbody>\n",
       "    <tr>\n",
       "      <th>0</th>\n",
       "      <td>1-й Балтийский переулок</td>\n",
       "      <td>37.518560</td>\n",
       "      <td>55.809762</td>\n",
       "      <td>Центральный федеральный округ</td>\n",
       "      <td>район Аэропорт</td>\n",
       "    </tr>\n",
       "    <tr>\n",
       "      <th>1</th>\n",
       "      <td>1-й Басманный переулок</td>\n",
       "      <td>37.663458</td>\n",
       "      <td>55.770978</td>\n",
       "      <td>Центральный федеральный округ</td>\n",
       "      <td>Басманный район</td>\n",
       "    </tr>\n",
       "    <tr>\n",
       "      <th>3</th>\n",
       "      <td>1-й Ботанический проезд</td>\n",
       "      <td>37.634218</td>\n",
       "      <td>55.849565</td>\n",
       "      <td>Центральный федеральный округ</td>\n",
       "      <td>район Свиблово</td>\n",
       "    </tr>\n",
       "    <tr>\n",
       "      <th>4</th>\n",
       "      <td>1-й Вешняковский проезд</td>\n",
       "      <td>37.788567</td>\n",
       "      <td>55.724631</td>\n",
       "      <td>Центральный федеральный округ</td>\n",
       "      <td>Рязанский район</td>\n",
       "    </tr>\n",
       "    <tr>\n",
       "      <th>5</th>\n",
       "      <td>1-й Голутвинский переулок</td>\n",
       "      <td>37.612326</td>\n",
       "      <td>55.738287</td>\n",
       "      <td>Центральный федеральный округ</td>\n",
       "      <td>район Якиманка</td>\n",
       "    </tr>\n",
       "    <tr>\n",
       "      <th>...</th>\n",
       "      <td>...</td>\n",
       "      <td>...</td>\n",
       "      <td>...</td>\n",
       "      <td>...</td>\n",
       "      <td>...</td>\n",
       "    </tr>\n",
       "    <tr>\n",
       "      <th>643</th>\n",
       "      <td>улица Шумилова</td>\n",
       "      <td>37.774310</td>\n",
       "      <td>55.708394</td>\n",
       "      <td>Центральный федеральный округ</td>\n",
       "      <td>район Кузьминки</td>\n",
       "    </tr>\n",
       "    <tr>\n",
       "      <th>644</th>\n",
       "      <td>улица Шумкина</td>\n",
       "      <td>37.669594</td>\n",
       "      <td>55.788216</td>\n",
       "      <td>Центральный федеральный округ</td>\n",
       "      <td>район Сокольники</td>\n",
       "    </tr>\n",
       "    <tr>\n",
       "      <th>645</th>\n",
       "      <td>улица Щорса</td>\n",
       "      <td>37.406064</td>\n",
       "      <td>55.645934</td>\n",
       "      <td>Центральный федеральный округ</td>\n",
       "      <td>район Солнцево</td>\n",
       "    </tr>\n",
       "    <tr>\n",
       "      <th>646</th>\n",
       "      <td>улица Энгельса</td>\n",
       "      <td>37.688081</td>\n",
       "      <td>55.775641</td>\n",
       "      <td>Центральный федеральный округ</td>\n",
       "      <td>Басманный район</td>\n",
       "    </tr>\n",
       "    <tr>\n",
       "      <th>647</th>\n",
       "      <td>шоссе Фрезер</td>\n",
       "      <td>37.735818</td>\n",
       "      <td>55.739134</td>\n",
       "      <td>Центральный федеральный округ</td>\n",
       "      <td>Нижегородский район</td>\n",
       "    </tr>\n",
       "  </tbody>\n",
       "</table>\n",
       "<p>564 rows × 5 columns</p>\n",
       "</div>"
      ],
      "text/plain": [
       "                        street  longitude   latitude  \\\n",
       "0      1-й Балтийский переулок  37.518560  55.809762   \n",
       "1       1-й Басманный переулок  37.663458  55.770978   \n",
       "3      1-й Ботанический проезд  37.634218  55.849565   \n",
       "4      1-й Вешняковский проезд  37.788567  55.724631   \n",
       "5    1-й Голутвинский переулок  37.612326  55.738287   \n",
       "..                         ...        ...        ...   \n",
       "643             улица Шумилова  37.774310  55.708394   \n",
       "644              улица Шумкина  37.669594  55.788216   \n",
       "645                улица Щорса  37.406064  55.645934   \n",
       "646             улица Энгельса  37.688081  55.775641   \n",
       "647               шоссе Фрезер  37.735818  55.739134   \n",
       "\n",
       "                            region             district  \n",
       "0    Центральный федеральный округ       район Аэропорт  \n",
       "1    Центральный федеральный округ      Басманный район  \n",
       "3    Центральный федеральный округ       район Свиблово  \n",
       "4    Центральный федеральный округ      Рязанский район  \n",
       "5    Центральный федеральный округ       район Якиманка  \n",
       "..                             ...                  ...  \n",
       "643  Центральный федеральный округ      район Кузьминки  \n",
       "644  Центральный федеральный округ     район Сокольники  \n",
       "645  Центральный федеральный округ       район Солнцево  \n",
       "646  Центральный федеральный округ      Басманный район  \n",
       "647  Центральный федеральный округ  Нижегородский район  \n",
       "\n",
       "[564 rows x 5 columns]"
      ]
     },
     "execution_count": 58,
     "metadata": {},
     "output_type": "execute_result"
    }
   ],
   "source": [
    "one_obj_street.drop(columns='area', inplace=True)\n",
    "one_obj_street"
   ]
  },
  {
   "cell_type": "code",
   "execution_count": 59,
   "metadata": {
    "colab": {
     "base_uri": "https://localhost:8080/",
     "height": 145
    },
    "executionInfo": {
     "elapsed": 8,
     "status": "ok",
     "timestamp": 1627830022186,
     "user": {
      "displayName": "Арсен",
      "photoUrl": "https://lh3.googleusercontent.com/a-/AOh14GjPCG8vWVVB43Ax1wpE_vEPLjGP-XH0UWc12vB7wg=s64",
      "userId": "17661651445996378067"
     },
     "user_tz": -180
    },
    "id": "wVDSLfS_8hte",
    "outputId": "0f42ae1e-e024-4c30-9dfa-279e06268994"
   },
   "outputs": [
    {
     "data": {
      "text/html": [
       "<style  type=\"text/css\" >\n",
       "#T_1968f_row0_col0,#T_1968f_row1_col0,#T_1968f_row2_col0,#T_1968f_row3_col0,#T_1968f_row4_col0{\n",
       "            background-color:  #3b4cc0;\n",
       "            color:  #f1f1f1;\n",
       "        }</style><table id=\"T_1968f_\" ><thead>    <tr>        <th class=\"blank level0\" ></th>        <th class=\"col_heading level0 col0\" >0</th>    </tr></thead><tbody>\n",
       "                <tr>\n",
       "                        <th id=\"T_1968f_level0_row0\" class=\"row_heading level0 row0\" >street</th>\n",
       "                        <td id=\"T_1968f_row0_col0\" class=\"data row0 col0\" >0.000000</td>\n",
       "            </tr>\n",
       "            <tr>\n",
       "                        <th id=\"T_1968f_level0_row1\" class=\"row_heading level0 row1\" >longitude</th>\n",
       "                        <td id=\"T_1968f_row1_col0\" class=\"data row1 col0\" >0.000000</td>\n",
       "            </tr>\n",
       "            <tr>\n",
       "                        <th id=\"T_1968f_level0_row2\" class=\"row_heading level0 row2\" >latitude</th>\n",
       "                        <td id=\"T_1968f_row2_col0\" class=\"data row2 col0\" >0.000000</td>\n",
       "            </tr>\n",
       "            <tr>\n",
       "                        <th id=\"T_1968f_level0_row3\" class=\"row_heading level0 row3\" >region</th>\n",
       "                        <td id=\"T_1968f_row3_col0\" class=\"data row3 col0\" >0.000000</td>\n",
       "            </tr>\n",
       "            <tr>\n",
       "                        <th id=\"T_1968f_level0_row4\" class=\"row_heading level0 row4\" >district</th>\n",
       "                        <td id=\"T_1968f_row4_col0\" class=\"data row4 col0\" >0.000000</td>\n",
       "            </tr>\n",
       "    </tbody></table>"
      ],
      "text/plain": [
       "<pandas.io.formats.style.Styler at 0x28763309b20>"
      ]
     },
     "execution_count": 59,
     "metadata": {},
     "output_type": "execute_result"
    }
   ],
   "source": [
    "pd.DataFrame(round((one_obj_street.isna().mean()*100),2)).style.background_gradient('coolwarm')"
   ]
  },
  {
   "cell_type": "markdown",
   "metadata": {
    "id": "X7fb_yiN8ppu"
   },
   "source": [
    "0 пропусков - отлично"
   ]
  },
  {
   "cell_type": "markdown",
   "metadata": {
    "id": "qZ_YL4ZA9NXU"
   },
   "source": [
    "Наконец можем нарисовать тепловую карту"
   ]
  },
  {
   "cell_type": "code",
   "execution_count": 60,
   "metadata": {
    "colab": {
     "base_uri": "https://localhost:8080/",
     "height": 915
    },
    "executionInfo": {
     "elapsed": 369,
     "status": "ok",
     "timestamp": 1627830025989,
     "user": {
      "displayName": "Арсен",
      "photoUrl": "https://lh3.googleusercontent.com/a-/AOh14GjPCG8vWVVB43Ax1wpE_vEPLjGP-XH0UWc12vB7wg=s64",
      "userId": "17661651445996378067"
     },
     "user_tz": -180
    },
    "id": "si0uF412bCf_",
    "outputId": "308e0224-bc99-4a67-954d-5c9c050f0fc2"
   },
   "outputs": [
    {
     "data": {
      "text/html": [
       "<div style=\"width:100%;\"><div style=\"position:relative;width:100%;height:0;padding-bottom:60%;\"><span style=\"color:#565656\">Make this Notebook Trusted to load map: File -> Trust Notebook</span><iframe src=\"about:blank\" style=\"position:absolute;width:100%;height:100%;left:0;top:0;border:none !important;\" data-html=%3C%21DOCTYPE%20html%3E%0A%3Chead%3E%20%20%20%20%0A%20%20%20%20%3Cmeta%20http-equiv%3D%22content-type%22%20content%3D%22text/html%3B%20charset%3DUTF-8%22%20/%3E%0A%20%20%20%20%0A%20%20%20%20%20%20%20%20%3Cscript%3E%0A%20%20%20%20%20%20%20%20%20%20%20%20L_NO_TOUCH%20%3D%20false%3B%0A%20%20%20%20%20%20%20%20%20%20%20%20L_DISABLE_3D%20%3D%20false%3B%0A%20%20%20%20%20%20%20%20%3C/script%3E%0A%20%20%20%20%0A%20%20%20%20%3Cstyle%3Ehtml%2C%20body%20%7Bwidth%3A%20100%25%3Bheight%3A%20100%25%3Bmargin%3A%200%3Bpadding%3A%200%3B%7D%3C/style%3E%0A%20%20%20%20%3Cstyle%3E%23map%20%7Bposition%3Aabsolute%3Btop%3A0%3Bbottom%3A0%3Bright%3A0%3Bleft%3A0%3B%7D%3C/style%3E%0A%20%20%20%20%3Cscript%20src%3D%22https%3A//cdn.jsdelivr.net/npm/leaflet%401.6.0/dist/leaflet.js%22%3E%3C/script%3E%0A%20%20%20%20%3Cscript%20src%3D%22https%3A//code.jquery.com/jquery-1.12.4.min.js%22%3E%3C/script%3E%0A%20%20%20%20%3Cscript%20src%3D%22https%3A//maxcdn.bootstrapcdn.com/bootstrap/3.2.0/js/bootstrap.min.js%22%3E%3C/script%3E%0A%20%20%20%20%3Cscript%20src%3D%22https%3A//cdnjs.cloudflare.com/ajax/libs/Leaflet.awesome-markers/2.0.2/leaflet.awesome-markers.js%22%3E%3C/script%3E%0A%20%20%20%20%3Clink%20rel%3D%22stylesheet%22%20href%3D%22https%3A//cdn.jsdelivr.net/npm/leaflet%401.6.0/dist/leaflet.css%22/%3E%0A%20%20%20%20%3Clink%20rel%3D%22stylesheet%22%20href%3D%22https%3A//maxcdn.bootstrapcdn.com/bootstrap/3.2.0/css/bootstrap.min.css%22/%3E%0A%20%20%20%20%3Clink%20rel%3D%22stylesheet%22%20href%3D%22https%3A//maxcdn.bootstrapcdn.com/bootstrap/3.2.0/css/bootstrap-theme.min.css%22/%3E%0A%20%20%20%20%3Clink%20rel%3D%22stylesheet%22%20href%3D%22https%3A//maxcdn.bootstrapcdn.com/font-awesome/4.6.3/css/font-awesome.min.css%22/%3E%0A%20%20%20%20%3Clink%20rel%3D%22stylesheet%22%20href%3D%22https%3A//cdnjs.cloudflare.com/ajax/libs/Leaflet.awesome-markers/2.0.2/leaflet.awesome-markers.css%22/%3E%0A%20%20%20%20%3Clink%20rel%3D%22stylesheet%22%20href%3D%22https%3A//cdn.jsdelivr.net/gh/python-visualization/folium/folium/templates/leaflet.awesome.rotate.min.css%22/%3E%0A%20%20%20%20%0A%20%20%20%20%20%20%20%20%20%20%20%20%3Cmeta%20name%3D%22viewport%22%20content%3D%22width%3Ddevice-width%2C%0A%20%20%20%20%20%20%20%20%20%20%20%20%20%20%20%20initial-scale%3D1.0%2C%20maximum-scale%3D1.0%2C%20user-scalable%3Dno%22%20/%3E%0A%20%20%20%20%20%20%20%20%20%20%20%20%3Cstyle%3E%0A%20%20%20%20%20%20%20%20%20%20%20%20%20%20%20%20%23map_ca52079fe1ab41a8b5a086be6aba2871%20%7B%0A%20%20%20%20%20%20%20%20%20%20%20%20%20%20%20%20%20%20%20%20position%3A%20relative%3B%0A%20%20%20%20%20%20%20%20%20%20%20%20%20%20%20%20%20%20%20%20width%3A%20100.0%25%3B%0A%20%20%20%20%20%20%20%20%20%20%20%20%20%20%20%20%20%20%20%20height%3A%20100.0%25%3B%0A%20%20%20%20%20%20%20%20%20%20%20%20%20%20%20%20%20%20%20%20left%3A%200.0%25%3B%0A%20%20%20%20%20%20%20%20%20%20%20%20%20%20%20%20%20%20%20%20top%3A%200.0%25%3B%0A%20%20%20%20%20%20%20%20%20%20%20%20%20%20%20%20%7D%0A%20%20%20%20%20%20%20%20%20%20%20%20%3C/style%3E%0A%20%20%20%20%20%20%20%20%0A%20%20%20%20%3Cscript%20src%3D%22https%3A//cdn.jsdelivr.net/gh/python-visualization/folium%40master/folium/templates/leaflet_heat.min.js%22%3E%3C/script%3E%0A%3C/head%3E%0A%3Cbody%3E%20%20%20%20%0A%20%20%20%20%0A%20%20%20%20%20%20%20%20%20%20%20%20%3Cdiv%20class%3D%22folium-map%22%20id%3D%22map_ca52079fe1ab41a8b5a086be6aba2871%22%20%3E%3C/div%3E%0A%20%20%20%20%20%20%20%20%0A%3C/body%3E%0A%3Cscript%3E%20%20%20%20%0A%20%20%20%20%0A%20%20%20%20%20%20%20%20%20%20%20%20var%20map_ca52079fe1ab41a8b5a086be6aba2871%20%3D%20L.map%28%0A%20%20%20%20%20%20%20%20%20%20%20%20%20%20%20%20%22map_ca52079fe1ab41a8b5a086be6aba2871%22%2C%0A%20%20%20%20%20%20%20%20%20%20%20%20%20%20%20%20%7B%0A%20%20%20%20%20%20%20%20%20%20%20%20%20%20%20%20%20%20%20%20center%3A%20%5B55.755819%2C%2037.617644%5D%2C%0A%20%20%20%20%20%20%20%20%20%20%20%20%20%20%20%20%20%20%20%20crs%3A%20L.CRS.EPSG3857%2C%0A%20%20%20%20%20%20%20%20%20%20%20%20%20%20%20%20%20%20%20%20zoom%3A%2011%2C%0A%20%20%20%20%20%20%20%20%20%20%20%20%20%20%20%20%20%20%20%20zoomControl%3A%20true%2C%0A%20%20%20%20%20%20%20%20%20%20%20%20%20%20%20%20%20%20%20%20preferCanvas%3A%20false%2C%0A%20%20%20%20%20%20%20%20%20%20%20%20%20%20%20%20%7D%0A%20%20%20%20%20%20%20%20%20%20%20%20%29%3B%0A%0A%20%20%20%20%20%20%20%20%20%20%20%20%0A%0A%20%20%20%20%20%20%20%20%0A%20%20%20%20%0A%20%20%20%20%20%20%20%20%20%20%20%20var%20tile_layer_4afff9bb7c1541bcb28e6128b167d0b8%20%3D%20L.tileLayer%28%0A%20%20%20%20%20%20%20%20%20%20%20%20%20%20%20%20%22https%3A//%7Bs%7D.tile.openstreetmap.org/%7Bz%7D/%7Bx%7D/%7By%7D.png%22%2C%0A%20%20%20%20%20%20%20%20%20%20%20%20%20%20%20%20%7B%22attribution%22%3A%20%22Data%20by%20%5Cu0026copy%3B%20%5Cu003ca%20href%3D%5C%22http%3A//openstreetmap.org%5C%22%5Cu003eOpenStreetMap%5Cu003c/a%5Cu003e%2C%20under%20%5Cu003ca%20href%3D%5C%22http%3A//www.openstreetmap.org/copyright%5C%22%5Cu003eODbL%5Cu003c/a%5Cu003e.%22%2C%20%22detectRetina%22%3A%20false%2C%20%22maxNativeZoom%22%3A%2018%2C%20%22maxZoom%22%3A%2018%2C%20%22minZoom%22%3A%200%2C%20%22noWrap%22%3A%20false%2C%20%22opacity%22%3A%201%2C%20%22subdomains%22%3A%20%22abc%22%2C%20%22tms%22%3A%20false%7D%0A%20%20%20%20%20%20%20%20%20%20%20%20%29.addTo%28map_ca52079fe1ab41a8b5a086be6aba2871%29%3B%0A%20%20%20%20%20%20%20%20%0A%20%20%20%20%0A%20%20%20%20%20%20%20%20%20%20%20%20var%20heat_map_5471a8a282f84de488c1ecc7ab5373d2%20%3D%20L.heatLayer%28%0A%20%20%20%20%20%20%20%20%20%20%20%20%20%20%20%20%5B%5B55.809762%2C%2037.51856%5D%2C%20%5B55.770978%2C%2037.663458%5D%2C%20%5B55.849565%2C%2037.634218%5D%2C%20%5B55.724631%2C%2037.788567%5D%2C%20%5B55.738287%2C%2037.612326%5D%2C%20%5B55.739929%2C%2037.602364%5D%2C%20%5B55.776851%2C%2037.733599%5D%2C%20%5B55.726796%2C%2037.647136%5D%2C%20%5B55.706457%2C%2037.662201%5D%2C%20%5B55.774725%2C%2037.638171%5D%2C%20%5B55.744191%2C%2037.645672%5D%2C%20%5B55.760763%2C%2037.695941%5D%2C%20%5B55.656235%2C%2037.699993%5D%2C%20%5B55.727729%2C%2037.621597%5D%2C%20%5B55.766542%2C%2037.526977%5D%2C%20%5B55.845446%2C%2037.378692%5D%2C%20%5B55.732388%2C%2037.628226%5D%2C%20%5B55.748361%2C%2037.579349%5D%2C%20%5B55.734942%2C%2037.631568%5D%2C%20%5B55.743091%2C%2037.602633%5D%2C%20%5B55.80787%2C%2037.656308%5D%2C%20%5B55.711914%2C%2037.735566%5D%2C%20%5B55.832045%2C%2037.647369%5D%2C%20%5B55.731298%2C%2037.541997%5D%2C%20%5B55.763928%2C%2037.514868%5D%2C%20%5B55.733229%2C%2037.616243%5D%2C%20%5B55.833314%2C%2037.420033%5D%2C%20%5B55.794492%2C%2037.620312%5D%2C%20%5B55.80106%2C%2037.536194%5D%2C%20%5B55.79183%2C%2037.693282%5D%2C%20%5B55.809348%2C%2037.707278%5D%2C%20%5B55.736128%2C%2037.755706%5D%2C%20%5B55.779732%2C%2037.59551%5D%2C%20%5B55.878501%2C%2037.69092%5D%2C%20%5B55.79511%2C%2037.731542%5D%2C%20%5B55.655905%2C%2037.358229%5D%2C%20%5B55.783428%2C%2037.440613%5D%2C%20%5B55.820212%2C%2037.546462%5D%2C%20%5B55.799532%2C%2037.805302%5D%2C%20%5B55.804698%2C%2037.617905%5D%2C%20%5B55.791456%2C%2037.814833%5D%2C%20%5B55.808047%2C%2037.610961%5D%2C%20%5B55.808316%2C%2037.524031%5D%2C%20%5B55.781691%2C%2037.555005%5D%2C%20%5B55.709196%2C%2037.60346%5D%2C%20%5B55.791213%2C%2037.606972%5D%2C%20%5B55.815392%2C%2037.765992%5D%2C%20%5B55.747515%2C%2037.715471%5D%2C%20%5B55.743902%2C%2037.623088%5D%2C%20%5B55.769464%2C%2037.615183%5D%2C%20%5B55.782901%2C%2037.665974%5D%2C%20%5B55.65272%2C%2037.698304%5D%2C%20%5B55.768046%2C%2037.522953%5D%2C%20%5B55.739716%2C%2037.582574%5D%2C%20%5B55.733837%2C%2037.629951%5D%2C%20%5B55.818114%2C%2037.509757%5D%2C%20%5B55.742113%2C%2037.603307%5D%2C%20%5B55.791147%2C%2037.681074%5D%2C%20%5B55.705427%2C%2037.604223%5D%2C%20%5B55.833223%2C%2037.64374%5D%2C%20%5B55.730836%2C%2037.535835%5D%2C%20%5B55.797139%2C%2037.606676%5D%2C%20%5B55.80573%2C%2037.577085%5D%2C%20%5B55.778315%2C%2037.608796%5D%2C%20%5B55.81298%2C%2037.702337%5D%2C%20%5B55.727952%2C%2037.671319%5D%2C%20%5B55.794912%2C%2037.576196%5D%2C%20%5B55.878485%2C%2037.688719%5D%2C%20%5B55.795216%2C%2037.775811%5D%2C%20%5B55.786748%2C%2037.682476%5D%2C%20%5B55.737461%2C%2037.492015%5D%2C%20%5B55.794776%2C%2037.608436%5D%2C%20%5B55.798485%2C%2037.706542%5D%2C%20%5B55.796815%2C%2037.619073%5D%2C%20%5B55.749299%2C%2037.727427%5D%2C%20%5B55.610977%2C%2037.769684%5D%2C%20%5B55.820212%2C%2037.546462%5D%2C%20%5B55.578772%2C%2037.696085%5D%2C%20%5B55.572095%2C%2037.665264%5D%2C%20%5B55.601071%2C%2037.618884%5D%2C%20%5B55.742184%2C%2037.623708%5D%2C%20%5B55.708105%2C%2037.674292%5D%2C%20%5B55.849499%2C%2037.524471%5D%2C%20%5B55.71876%2C%2037.630894%5D%2C%20%5B55.770887%2C%2037.500935%5D%2C%20%5B55.796602%2C%2037.604951%5D%2C%20%5B55.713253%2C%2037.699481%5D%2C%20%5B55.818442%2C%2037.72104%5D%2C%20%5B55.521394%2C%2037.548797%5D%2C%20%5B55.81781%2C%2037.625675%5D%2C%20%5B55.792903%2C%2037.514554%5D%2C%20%5B55.940961%2C%2037.353701%5D%2C%20%5B55.942368%2C%2037.552534%5D%2C%20%5B55.75902%2C%2037.377147%5D%2C%20%5B55.820212%2C%2037.546462%5D%2C%20%5B55.820212%2C%2037.546462%5D%2C%20%5B55.820212%2C%2037.546462%5D%2C%20%5B55.588237%2C%2037.542222%5D%2C%20%5B55.820212%2C%2037.546462%5D%2C%20%5B55.719896%2C%2037.795421%5D%2C%20%5B55.800747%2C%2037.574804%5D%2C%20%5B55.725007%2C%2037.649247%5D%2C%20%5B55.705767%2C%2037.611069%5D%2C%20%5B55.809014%2C%2037.715462%5D%2C%20%5B55.741708%2C%2037.719154%5D%2C%20%5B55.820212%2C%2037.546462%5D%2C%20%5B55.624464%2C%2037.476222%5D%2C%20%5B55.624464%2C%2037.476222%5D%2C%20%5B55.632139%2C%2037.467688%5D%2C%20%5B55.741865%2C%2037.649157%5D%2C%20%5B55.732352%2C%2037.631981%5D%2C%20%5B55.709728%2C%2037.613503%5D%2C%20%5B55.798444%2C%2037.616117%5D%2C%20%5B55.818119%2C%2037.728712%5D%2C%20%5B55.820212%2C%2037.546462%5D%2C%20%5B55.706878%2C%2037.675684%5D%2C%20%5B55.660815%2C%2037.360466%5D%2C%20%5B55.648169%2C%2037.350117%5D%2C%20%5B55.820212%2C%2037.546462%5D%2C%20%5B55.820212%2C%2037.546462%5D%2C%20%5B55.742494%2C%2037.574615%5D%2C%20%5B55.939489%2C%2037.550801%5D%2C%20%5B55.657514%2C%2037.350845%5D%2C%20%5B55.820212%2C%2037.546462%5D%2C%20%5B55.800828%2C%2037.609667%5D%2C%20%5B55.768537%2C%2037.738504%5D%2C%20%5B55.820212%2C%2037.546462%5D%2C%20%5B55.800008%2C%2037.538943%5D%2C%20%5B55.730689%2C%2037.702571%5D%2C%20%5B55.805801%2C%2037.711114%5D%2C%20%5B55.814836%2C%2037.7108%5D%2C%20%5B55.746557%2C%2037.66927%5D%2C%20%5B55.804486%2C%2037.610027%5D%2C%20%5B55.802457%2C%2037.607871%5D%2C%20%5B55.674524%2C%2037.752571%5D%2C%20%5B55.762105%2C%2037.63853%5D%2C%20%5B55.812261%2C%2037.562254%5D%2C%20%5B55.767742%2C%2037.633544%5D%2C%20%5B55.610641%2C%2037.289957%5D%2C%20%5B55.789907%2C%2037.689465%5D%2C%20%5B55.615339%2C%2037.259549%5D%2C%20%5B55.8091%2C%2037.513952%5D%2C%20%5B55.786703%2C%2037.63182%5D%2C%20%5B55.783448%2C%2037.708096%5D%2C%20%5B55.738536%2C%2037.742142%5D%2C%20%5B55.749319%2C%2037.650648%5D%2C%20%5B55.863661%2C%2037.557484%5D%2C%20%5B55.87639%2C%2037.552804%5D%2C%20%5B55.744551%2C%2037.673439%5D%2C%20%5B55.75594%2C%2037.623905%5D%2C%20%5B55.786025%2C%2037.632215%5D%2C%20%5B55.543985%2C%2037.578927%5D%2C%20%5B55.610819%2C%2037.296793%5D%2C%20%5B55.489381%2C%2037.304518%5D%2C%20%5B55.808321%2C%2037.688306%5D%2C%20%5B55.648255%2C%2037.591997%5D%2C%20%5B55.748067%2C%2037.597261%5D%2C%20%5B55.748037%2C%2037.602499%5D%2C%20%5B55.760018%2C%2037.654619%5D%2C%20%5B55.764749%2C%2037.626636%5D%2C%20%5B55.750494%2C%2037.590452%5D%2C%20%5B55.752318%2C%2037.662803%5D%2C%20%5B55.760109%2C%2037.566629%5D%2C%20%5B55.727998%2C%2037.67281%5D%2C%20%5B55.727896%2C%2037.630778%5D%2C%20%5B55.755165%2C%2037.645438%5D%2C%20%5B55.770679%2C%2037.714968%5D%2C%20%5B55.654096%2C%2037.388053%5D%2C%20%5B55.778608%2C%2037.638422%5D%2C%20%5B55.736969%2C%2037.616611%5D%2C%20%5B55.736382%2C%2037.674202%5D%2C%20%5B55.830422%2C%2037.665093%5D%2C%20%5B55.835614%2C%2037.666872%5D%2C%20%5B55.738546%2C%2037.60231%5D%2C%20%5B55.899376%2C%2037.529609%5D%2C%20%5B55.7633%2C%2037.626106%5D%2C%20%5B55.825113%2C%2037.771535%5D%2C%20%5B55.750292%2C%2037.679862%5D%2C%20%5B55.778542%2C%2037.574175%5D%2C%20%5B55.699522%2C%2037.493901%5D%2C%20%5B55.835099%2C%2037.35027%5D%2C%20%5B55.770041%2C%2037.602023%5D%2C%20%5B55.813647%2C%2037.457457%5D%2C%20%5B55.779236%2C%2037.627642%5D%2C%20%5B55.706994%2C%2037.41202%5D%2C%20%5B55.728266%2C%2037.734758%5D%2C%20%5B55.759451%2C%2037.742465%5D%2C%20%5B55.723237%2C%2037.424093%5D%2C%20%5B55.7148%2C%2037.438026%5D%2C%20%5B55.74787%2C%2037.677939%5D%2C%20%5B55.743993%2C%2037.586158%5D%2C%20%5B55.813228%2C%2037.714986%5D%2C%20%5B55.787163%2C%2037.638979%5D%2C%20%5B55.76324%2C%2037.610242%5D%2C%20%5B55.77594%2C%2037.707377%5D%2C%20%5B55.739139%2C%2037.647055%5D%2C%20%5B55.770623%2C%2037.688997%5D%2C%20%5B55.759532%2C%2037.590982%5D%2C%20%5B55.718065%2C%2037.434433%5D%2C%20%5B55.768557%2C%2037.603145%5D%2C%20%5B55.776532%2C%2037.615749%5D%2C%20%5B55.744971%2C%2037.586769%5D%2C%20%5B55.609456%2C%2037.263394%5D%2C%20%5B55.76207%2C%2037.616171%5D%2C%20%5B55.773819%2C%2037.643731%5D%2C%20%5B55.670478%2C%2037.733653%5D%2C%20%5B55.772396%2C%2037.673475%5D%2C%20%5B55.703773%2C%2037.779566%5D%2C%20%5B55.776937%2C%2037.643713%5D%2C%20%5B55.70982%2C%2037.763351%5D%2C%20%5B55.722259%2C%2037.642429%5D%2C%20%5B55.789887%2C%2037.784767%5D%2C%20%5B55.729295%2C%2037.771445%5D%2C%20%5B55.764597%2C%2037.621741%5D%2C%20%5B55.811184%2C%2037.640138%5D%2C%20%5B55.666594%2C%2037.577948%5D%2C%20%5B55.822084%2C%2037.465317%5D%2C%20%5B55.88926%2C%2037.519692%5D%2C%20%5B55.612777%2C%2037.253368%5D%2C%20%5B55.744576%2C%2037.655805%5D%2C%20%5B55.793191%2C%2037.775856%5D%2C%20%5B55.885908%2C%2037.539931%5D%2C%20%5B55.785174%2C%2037.611464%5D%2C%20%5B55.724626%2C%2037.781497%5D%2C%20%5B55.611511%2C%2037.258049%5D%2C%20%5B55.809732%2C%2037.621067%5D%2C%20%5B55.748463%2C%2037.592141%5D%2C%20%5B55.700892%2C%2037.592734%5D%2C%20%5B55.895075%2C%2037.53561%5D%2C%20%5B55.707456%2C%2037.868418%5D%2C%20%5B55.777889%2C%2037.732045%5D%2C%20%5B55.730705%2C%2037.645106%5D%2C%20%5B55.764587%2C%2037.608742%5D%2C%20%5B55.751447%2C%2037.586571%5D%2C%20%5B55.845911%2C%2037.48216%5D%2C%20%5B55.770335%2C%2037.689743%5D%2C%20%5B55.723587%2C%2037.569953%5D%2C%20%5B55.831069%2C%2037.525154%5D%2C%20%5B55.74868%2C%2037.667034%5D%2C%20%5B55.761259%2C%2037.544117%5D%2C%20%5B55.753544%2C%2037.705455%5D%2C%20%5B55.748711%2C%2037.61697%5D%2C%20%5B55.747941%2C%2037.589859%5D%2C%20%5B55.693789%2C%2037.790435%5D%2C%20%5B55.804334%2C%2037.643686%5D%2C%20%5B55.730882%2C%2037.418335%5D%2C%20%5B55.829689%2C%2037.813818%5D%2C%20%5B55.803444%2C%2037.638638%5D%2C%20%5B55.885625%2C%2037.392499%5D%2C%20%5B55.699867%2C%2037.862615%5D%2C%20%5B55.77%2C%2037.67722%5D%2C%20%5B55.790251%2C%2037.737911%5D%2C%20%5B55.8417%2C%2037.57174%5D%2C%20%5B55.768365%2C%2037.711105%5D%2C%20%5B55.87697%2C%2037.715228%5D%2C%20%5B55.725067%2C%2037.558005%5D%2C%20%5B55.747637%2C%2037.654143%5D%2C%20%5B55.878718%2C%2037.685395%5D%2C%20%5B55.783377%2C%2037.711815%5D%2C%20%5B55.74337%2C%2037.673528%5D%2C%20%5B55.789927%2C%2037.637515%5D%2C%20%5B55.706447%2C%2037.61759%5D%2C%20%5B55.746091%2C%2037.593048%5D%2C%20%5B55.759233%2C%2037.634524%5D%2C%20%5B55.748255%2C%2037.605158%5D%2C%20%5B55.753944%2C%2037.640938%5D%2C%20%5B55.760955%2C%2037.654376%5D%2C%20%5B55.771216%2C%2037.613808%5D%2C%20%5B55.757997%2C%2037.579906%5D%2C%20%5B55.809024%2C%2037.531693%5D%2C%20%5B55.741617%2C%2037.590174%5D%2C%20%5B55.75053%2C%2037.592446%5D%2C%20%5B55.752465%2C%2037.660422%5D%2C%20%5B55.766491%2C%2037.608284%5D%2C%20%5B55.730725%2C%2037.560853%5D%2C%20%5B55.737826%2C%2037.632709%5D%2C%20%5B55.741982%2C%2037.619099%5D%2C%20%5B55.766344%2C%2037.59895%5D%2C%20%5B55.740031%2C%2037.59409%5D%2C%20%5B55.674763%2C%2037.742753%5D%2C%20%5B55.911285%2C%2037.381594%5D%2C%20%5B55.745022%2C%2037.685934%5D%2C%20%5B55.755479%2C%2037.598375%5D%2C%20%5B55.815782%2C%2037.697774%5D%2C%20%5B55.789517%2C%2037.602103%5D%2C%20%5B55.796709%2C%2037.563575%5D%2C%20%5B55.777251%2C%2037.593075%5D%2C%20%5B55.576676%2C%2037.668956%5D%2C%20%5B55.795408%2C%2037.563988%5D%2C%20%5B55.693591%2C%2037.547728%5D%2C%20%5B55.693591%2C%2037.547728%5D%2C%20%5B55.7571%2C%2037.666396%5D%2C%20%5B55.673006%2C%2037.595213%5D%2C%20%5B55.788221%2C%2037.631137%5D%2C%20%5B55.838622%2C%2037.503989%5D%2C%20%5B55.656641%2C%2037.388529%5D%2C%20%5B55.781129%2C%2037.748151%5D%2C%20%5B55.65724%2C%2037.548294%5D%2C%20%5B55.846219%2C%2037.439966%5D%2C%20%5B55.811245%2C%2037.39205%5D%2C%20%5B55.730482%2C%2037.584317%5D%2C%20%5B55.783686%2C%2037.706595%5D%2C%20%5B55.765189%2C%2037.621983%5D%2C%20%5B55.757176%2C%2037.610476%5D%2C%20%5B55.553442%2C%2037.559371%5D%2C%20%5B55.850257%2C%2037.585278%5D%2C%20%5B55.790256%2C%2037.359073%5D%2C%20%5B55.721417%2C%2037.676601%5D%2C%20%5B55.767028%2C%2037.574642%5D%2C%20%5B55.78725%2C%2037.360645%5D%2C%20%5B55.814775%2C%2037.820726%5D%2C%20%5B55.778188%2C%2037.495797%5D%2C%20%5B55.880985%2C%2037.695879%5D%2C%20%5B55.985811%2C%2037.227066%5D%2C%20%5B55.874299%2C%2037.659928%5D%2C%20%5B55.713177%2C%2037.860504%5D%2C%20%5B55.73144%2C%2037.749858%5D%2C%20%5B55.854951%2C%2037.608984%5D%2C%20%5B55.659272%2C%2037.36078%5D%2C%20%5B55.847154%2C%2037.450046%5D%2C%20%5B55.595766%2C%2037.66724%5D%2C%20%5B55.837535%2C%2037.357582%5D%2C%20%5B55.743801%2C%2037.70594%5D%2C%20%5B55.746071%2C%2037.659784%5D%2C%20%5B55.801845%2C%2037.512443%5D%2C%20%5B55.799214%2C%2037.510358%5D%2C%20%5B55.756802%2C%2037.638054%5D%2C%20%5B55.79267%2C%2037.562308%5D%2C%20%5B55.864242%2C%2037.665111%5D%2C%20%5B55.727247%2C%2037.634344%5D%2C%20%5B55.7445%2C%2037.55531%5D%2C%20%5B55.770198%2C%2037.675235%5D%2C%20%5B55.652486%2C%2037.709856%5D%2C%20%5B55.756979%2C%2037.652256%5D%2C%20%5B55.741156%2C%2037.602544%5D%2C%20%5B55.715251%2C%2037.851206%5D%2C%20%5B55.796182%2C%2037.573285%5D%2C%20%5B55.785118%2C%2037.696615%5D%2C%20%5B55.770157%2C%2037.681964%5D%2C%20%5B55.875602%2C%2037.469773%5D%2C%20%5B55.760089%2C%2037.518362%5D%2C%20%5B55.759912%2C%2037.836025%5D%2C%20%5B55.750413%2C%2037.579789%5D%2C%20%5B55.616661%2C%2037.671633%5D%2C%20%5B55.732311%2C%2037.585916%5D%2C%20%5B55.844597%2C%2037.48411%5D%2C%20%5B55.739205%2C%2037.622001%5D%2C%20%5B55.862818%2C%2037.541799%5D%2C%20%5B55.814902%2C%2037.661509%5D%2C%20%5B55.631635%2C%2037.394718%5D%2C%20%5B55.834376%2C%2037.661949%5D%2C%20%5B55.773307%2C%2037.691872%5D%2C%20%5B55.790808%2C%2037.702275%5D%2C%20%5B55.773505%2C%2037.62422%5D%2C%20%5B55.743466%2C%2037.632862%5D%2C%20%5B55.760241%2C%2037.639168%5D%2C%20%5B55.889669%2C%2037.679862%5D%2C%20%5B55.741075%2C%2037.595644%5D%2C%20%5B55.661298%2C%2037.601906%5D%2C%20%5B55.666157%2C%2037.616584%5D%2C%20%5B55.546272%2C%2037.575387%5D%2C%20%5B55.756173%2C%2037.593857%5D%2C%20%5B55.773039%2C%2037.641944%5D%2C%20%5B55.743451%2C%2037.604619%5D%2C%20%5B55.980709%2C%2037.194717%5D%2C%20%5B55.858877%2C%2037.522135%5D%2C%20%5B55.707126%2C%2037.80082%5D%2C%20%5B55.747875%2C%2037.617977%5D%2C%20%5B55.750038%2C%2037.811492%5D%2C%20%5B55.776082%2C%2037.681568%5D%2C%20%5B55.609736%2C%2037.668471%5D%2C%20%5B55.683442%2C%2037.753191%5D%2C%20%5B55.77153%2C%2037.579277%5D%2C%20%5B55.744774%2C%2037.631155%5D%2C%20%5B55.73475%2C%2037.691019%5D%2C%20%5B55.771125%2C%2037.634551%5D%2C%20%5B55.88302%2C%2037.578397%5D%2C%20%5B55.809995%2C%2037.642465%5D%2C%20%5B55.804152%2C%2037.612218%5D%2C%20%5B55.739848%2C%2037.618866%5D%2C%20%5B55.50807%2C%2037.539841%5D%2C%20%5B55.789178%2C%2037.671426%5D%2C%20%5B55.756741%2C%2037.594252%5D%2C%20%5B55.79598%2C%2037.602032%5D%2C%20%5B55.761001%2C%2037.539464%5D%2C%20%5B55.733716%2C%2037.674391%5D%2C%20%5B55.79225%2C%2037.694747%5D%2C%20%5B55.623651%2C%2037.605607%5D%2C%20%5B55.681326%2C%2037.755095%5D%2C%20%5B55.751639%2C%2037.68235%5D%2C%20%5B55.605765%2C%2037.532098%5D%2C%20%5B55.684879%2C%2037.859713%5D%2C%20%5B55.881823%2C%2037.700029%5D%2C%20%5B55.791785%2C%2037.557053%5D%2C%20%5B55.860757%2C%2037.638135%5D%2C%20%5B55.750575%2C%2037.649355%5D%2C%20%5B55.746552%2C%2037.534424%5D%2C%20%5B55.745569%2C%2037.651645%5D%2C%20%5B55.834441%2C%2037.551133%5D%2C%20%5B55.685198%2C%2037.743022%5D%2C%20%5B55.787255%2C%2037.597558%5D%2C%20%5B55.738323%2C%2037.664878%5D%2C%20%5B55.769428%2C%2037.595303%5D%2C%20%5B55.747971%2C%2037.584416%5D%2C%20%5B55.774963%2C%2037.625046%5D%2C%20%5B55.466795%2C%2037.28878%5D%2C%20%5B55.76566%2C%2037.637102%5D%2C%20%5B55.851581%2C%2037.659946%5D%2C%20%5B55.769312%2C%2037.60876%5D%2C%20%5B55.74788%2C%2037.79136%5D%2C%20%5B55.884383%2C%2037.536508%5D%2C%20%5B55.83251%2C%2037.515407%5D%2C%20%5B55.868789%2C%2037.702059%5D%2C%20%5B55.56336%2C%2037.580292%5D%2C%20%5B55.74904%2C%2037.598339%5D%2C%20%5B55.765422%2C%2037.635296%5D%2C%20%5B55.660257%2C%2037.612173%5D%2C%20%5B55.716093%2C%2037.613575%5D%2C%20%5B55.698061%2C%2037.850577%5D%2C%20%5B55.737932%2C%2037.598708%5D%2C%20%5B55.753757%2C%2037.644648%5D%2C%20%5B55.755424%2C%2037.594306%5D%2C%20%5B55.757617%2C%2037.602651%5D%2C%20%5B55.827201%2C%2037.621705%5D%2C%20%5B55.756513%2C%2037.643695%5D%2C%20%5B55.994214%2C%2037.21333%5D%2C%20%5B55.881879%2C%2037.704691%5D%2C%20%5B55.885039%2C%2037.631496%5D%2C%20%5B55.886988%2C%2037.634955%5D%2C%20%5B55.744277%2C%2037.625873%5D%2C%20%5B55.820784%2C%2037.789231%5D%2C%20%5B55.64541%2C%2037.60814%5D%2C%20%5B55.868647%2C%2037.651726%5D%2C%20%5B55.806515%2C%2037.558068%5D%2C%20%5B55.746112%2C%2037.702679%5D%2C%20%5B55.84683%2C%2037.446389%5D%2C%20%5B55.746471%2C%2037.578594%5D%2C%20%5B55.805918%2C%2037.778784%5D%2C%20%5B55.77157%2C%2037.576259%5D%2C%20%5B55.869531%2C%2037.621049%5D%2C%20%5B55.733107%2C%2037.610934%5D%2C%20%5B55.649495%2C%2037.61017%5D%2C%20%5B55.869738%2C%2037.684802%5D%2C%20%5B55.605256%2C%2037.534361%5D%2C%20%5B55.751193%2C%2037.645267%5D%2C%20%5B55.884171%2C%2037.539167%5D%2C%20%5B55.778932%2C%2037.484182%5D%2C%20%5B55.755819%2C%2037.617644%5D%2C%20%5B55.755819%2C%2037.617644%5D%2C%20%5B55.755819%2C%2037.617644%5D%2C%20%5B57.964195%2C%2049.106863%5D%2C%20%5B55.755819%2C%2037.617644%5D%2C%20%5B55.755819%2C%2037.617644%5D%2C%20%5B55.755819%2C%2037.617644%5D%2C%20%5B55.755819%2C%2037.617644%5D%2C%20%5B55.572899%2C%2037.486562%5D%2C%20%5B55.776492%2C%2037.626636%5D%2C%20%5B55.767929%2C%2037.585503%5D%2C%20%5B55.738277%2C%2037.658167%5D%2C%20%5B55.785675%2C%2037.574588%5D%2C%20%5B55.730416%2C%2037.578738%5D%2C%20%5B55.78444%2C%2037.703128%5D%2C%20%5B56.007121%2C%2037.795762%5D%2C%20%5B55.809859%2C%2037.597756%5D%2C%20%5B55.84349%2C%2037.420141%5D%2C%20%5B55.845567%2C%2037.457834%5D%2C%20%5B55.850646%2C%2037.652238%5D%2C%20%5B55.84255%2C%2037.532125%5D%2C%20%5B55.859605%2C%2037.610799%5D%2C%20%5B55.673468%2C%2037.438017%5D%2C%20%5B55.677504%2C%2037.745645%5D%2C%20%5B55.817431%2C%2037.867574%5D%2C%20%5B55.791552%2C%2037.53164%5D%2C%20%5B55.616137%2C%2037.539787%5D%2C%20%5B55.642733%2C%2037.512029%5D%2C%20%5B55.830012%2C%2037.593363%5D%2C%20%5B55.64604%2C%2037.503675%5D%2C%20%5B55.743978%2C%2037.400881%5D%2C%20%5B55.720342%2C%2037.604924%5D%2C%20%5B55.535998%2C%2037.499336%5D%2C%20%5B55.539609%2C%2037.493811%5D%2C%20%5B55.747713%2C%2037.812085%5D%2C%20%5B55.759714%2C%2037.552732%5D%2C%20%5B55.698767%2C%2037.738054%5D%2C%20%5B55.796967%2C%2037.70673%5D%2C%20%5B55.780426%2C%2037.728317%5D%2C%20%5B55.653573%2C%2037.395751%5D%2C%20%5B55.802508%2C%2037.70346%5D%2C%20%5B55.76994%2C%2037.734964%5D%2C%20%5B55.500392%2C%2037.587955%5D%2C%20%5B55.713365%2C%2037.751637%5D%2C%20%5B55.976171%2C%2037.170939%5D%2C%20%5B55.744338%2C%2037.651879%5D%2C%20%5B55.799198%2C%2037.46078%5D%2C%20%5B55.737421%2C%2037.515991%5D%2C%20%5B55.815382%2C%2037.587694%5D%2C%20%5B55.763923%2C%2037.606442%5D%2C%20%5B55.789132%2C%2037.711635%5D%2C%20%5B55.775915%2C%2037.488206%5D%2C%20%5B55.783402%2C%2037.609703%5D%2C%20%5B55.820152%2C%2037.563377%5D%2C%20%5B55.731805%2C%2037.429268%5D%2C%20%5B55.784546%2C%2037.682098%5D%2C%20%5B55.762981%2C%2037.646193%5D%2C%20%5B55.503461%2C%2037.574804%5D%2C%20%5B55.836554%2C%2037.345509%5D%2C%20%5B55.573164%2C%2037.571291%5D%2C%20%5B55.591747%2C%2037.546048%5D%2C%20%5B55.641199%2C%2037.80373%5D%2C%20%5B55.725498%2C%2037.45045%5D%2C%20%5B55.816935%2C%2037.655868%5D%2C%20%5B55.636453%2C%2037.329581%5D%2C%20%5B55.64034%2C%2037.671597%5D%2C%20%5B55.726279%2C%2037.436849%5D%2C%20%5B55.729569%2C%2037.664276%5D%2C%20%5B55.721067%2C%2037.407313%5D%2C%20%5B55.720885%2C%2037.415919%5D%2C%20%5B55.685132%2C%2037.724095%5D%2C%20%5B55.755728%2C%2037.711285%5D%2C%20%5B55.758635%2C%2037.700631%5D%2C%20%5B55.842605%2C%2037.565111%5D%2C%20%5B55.697437%2C%2037.923548%5D%2C%20%5B55.799036%2C%2037.468695%5D%2C%20%5B55.736316%2C%2037.625612%5D%2C%20%5B55.736949%2C%2037.653523%5D%2C%20%5B55.794406%2C%2037.488466%5D%2C%20%5B55.803666%2C%2037.464437%5D%2C%20%5B55.718623%2C%2037.887866%5D%2C%20%5B55.633394%2C%2037.678748%5D%2C%20%5B55.744044%2C%2037.556756%5D%2C%20%5B55.700299%2C%2037.931282%5D%2C%20%5B55.823479%2C%2037.567815%5D%2C%20%5B55.605831%2C%2037.363556%5D%2C%20%5B55.755687%2C%2037.568354%5D%2C%20%5B55.773768%2C%2037.698546%5D%2C%20%5B55.720935%2C%2037.622504%5D%2C%20%5B55.72055%2C%2037.788522%5D%2C%20%5B55.73441%2C%2037.477184%5D%2C%20%5B55.762125%2C%2037.536607%5D%2C%20%5B55.779216%2C%2037.532825%5D%2C%20%5B55.681082%2C%2037.454456%5D%2C%20%5B55.745174%2C%2037.552615%5D%2C%20%5B55.725204%2C%2037.440478%5D%2C%20%5B55.675712%2C%2037.602049%5D%2C%20%5B55.796076%2C%2037.459765%5D%2C%20%5B55.736883%2C%2037.701709%5D%2C%20%5B55.61056%2C%2037.550459%5D%2C%20%5B55.830928%2C%2037.35954%5D%2C%20%5B55.877379%2C%2037.724086%5D%2C%20%5B55.865126%2C%2037.679062%5D%2C%20%5B55.722796%2C%2037.563045%5D%2C%20%5B55.705006%2C%2037.667618%5D%2C%20%5B55.773737%2C%2037.465982%5D%2C%20%5B55.787467%2C%2037.616701%5D%2C%20%5B55.674412%2C%2037.812291%5D%2C%20%5B55.761674%2C%2037.745474%5D%2C%20%5B55.774745%2C%2037.598474%5D%2C%20%5B55.820834%2C%2037.587784%5D%2C%20%5B55.764273%2C%2037.509271%5D%2C%20%5B55.708394%2C%2037.77431%5D%2C%20%5B55.788216%2C%2037.669594%5D%2C%20%5B55.645934%2C%2037.406064%5D%2C%20%5B55.775641%2C%2037.688081%5D%2C%20%5B55.739134%2C%2037.735818%5D%5D%2C%0A%20%20%20%20%20%20%20%20%20%20%20%20%20%20%20%20%7B%22blur%22%3A%2015%2C%20%22maxZoom%22%3A%2018%2C%20%22minOpacity%22%3A%200.5%2C%20%22radius%22%3A%2025%7D%0A%20%20%20%20%20%20%20%20%20%20%20%20%29.addTo%28map_ca52079fe1ab41a8b5a086be6aba2871%29%3B%0A%20%20%20%20%20%20%20%20%0A%3C/script%3E onload=\"this.contentDocument.open();this.contentDocument.write(    decodeURIComponent(this.getAttribute('data-html')));this.contentDocument.close();\" allowfullscreen webkitallowfullscreen mozallowfullscreen></iframe></div></div>"
      ],
      "text/plain": [
       "<folium.folium.Map at 0x2876330bb20>"
      ]
     },
     "execution_count": 60,
     "metadata": {},
     "output_type": "execute_result"
    }
   ],
   "source": [
    "moscow = folium.Map(location = [55.755819, 37.617644], zoom_start = 11)\n",
    "\n",
    "coordinates = []\n",
    "\n",
    "latitudes = list(one_obj_street['latitude'])\n",
    "longitudes = list(one_obj_street['longitude'])\n",
    "\n",
    "for lat, lng in zip(latitudes, longitudes):\n",
    "    coordinates.append([lat, lng])\n",
    "\n",
    "moscow.add_child(plugins.HeatMap(coordinates))"
   ]
  },
  {
   "cell_type": "markdown",
   "metadata": {
    "id": "WghNyB3kvAJ-"
   },
   "source": [
    "Построим график топ-10 районов"
   ]
  },
  {
   "cell_type": "code",
   "execution_count": 61,
   "metadata": {
    "colab": {
     "base_uri": "https://localhost:8080/",
     "height": 542
    },
    "executionInfo": {
     "elapsed": 238,
     "status": "ok",
     "timestamp": 1627830429023,
     "user": {
      "displayName": "Арсен",
      "photoUrl": "https://lh3.googleusercontent.com/a-/AOh14GjPCG8vWVVB43Ax1wpE_vEPLjGP-XH0UWc12vB7wg=s64",
      "userId": "17661651445996378067"
     },
     "user_tz": -180
    },
    "id": "ZZiI2sV-Oyps",
    "outputId": "5e4f8f99-a1ca-491f-a9ea-da020516b002"
   },
   "outputs": [
    {
     "data": {
      "image/svg+xml": [
       "<svg class=\"main-svg\" xmlns=\"http://www.w3.org/2000/svg\" xmlns:xlink=\"http://www.w3.org/1999/xlink\" width=\"700\" height=\"500\" style=\"\" viewBox=\"0 0 700 500\"><rect x=\"0\" y=\"0\" width=\"700\" height=\"500\" style=\"fill: rgb(255, 255, 255); fill-opacity: 1;\"/><defs id=\"defs-d02402\"><g class=\"clips\"><clipPath id=\"clipd02402xyplot\" class=\"plotclip\"><rect width=\"444\" height=\"320\"/></clipPath><clipPath class=\"axesclip\" id=\"clipd02402x\"><rect x=\"176\" y=\"0\" width=\"444\" height=\"500\"/></clipPath><clipPath class=\"axesclip\" id=\"clipd02402y\"><rect x=\"0\" y=\"100\" width=\"700\" height=\"320\"/></clipPath><clipPath class=\"axesclip\" id=\"clipd02402xy\"><rect x=\"176\" y=\"100\" width=\"444\" height=\"320\"/></clipPath></g><g class=\"gradients\"/><g class=\"patterns\"/></defs><g class=\"bglayer\"><rect class=\"bg\" x=\"176\" y=\"100\" width=\"444\" height=\"320\" style=\"fill: rgb(229, 236, 246); fill-opacity: 1; stroke-width: 0;\"/></g><g class=\"layer-below\"><g class=\"imagelayer\"/><g class=\"shapelayer\"/></g><g class=\"cartesianlayer\"><g class=\"subplot xy\"><g class=\"layer-subplot\"><g class=\"shapelayer\"/><g class=\"imagelayer\"/></g><g class=\"gridlayer\"><g class=\"x\"><path class=\"xgrid crisp\" transform=\"translate(251.32,0)\" d=\"M0,100v320\" style=\"stroke: rgb(255, 255, 255); stroke-opacity: 1; stroke-width: 1px;\"/><path class=\"xgrid crisp\" transform=\"translate(326.64,0)\" d=\"M0,100v320\" style=\"stroke: rgb(255, 255, 255); stroke-opacity: 1; stroke-width: 1px;\"/><path class=\"xgrid crisp\" transform=\"translate(401.96000000000004,0)\" d=\"M0,100v320\" style=\"stroke: rgb(255, 255, 255); stroke-opacity: 1; stroke-width: 1px;\"/><path class=\"xgrid crisp\" transform=\"translate(477.29,0)\" d=\"M0,100v320\" style=\"stroke: rgb(255, 255, 255); stroke-opacity: 1; stroke-width: 1px;\"/><path class=\"xgrid crisp\" transform=\"translate(552.61,0)\" d=\"M0,100v320\" style=\"stroke: rgb(255, 255, 255); stroke-opacity: 1; stroke-width: 1px;\"/></g><g class=\"y\"/></g><g class=\"zerolinelayer\"><path class=\"xzl zl crisp\" transform=\"translate(176,0)\" d=\"M0,100v320\" style=\"stroke: rgb(255, 255, 255); stroke-opacity: 1; stroke-width: 2px;\"/></g><path class=\"xlines-below\"/><path class=\"ylines-below\"/><g class=\"overlines-below\"/><g class=\"xaxislayer-below\"/><g class=\"yaxislayer-below\"/><g class=\"overaxes-below\"/><g class=\"plot\" transform=\"translate(176,100)\" clip-path=\"url(#clipd02402xyplot)\"><g class=\"barlayer mlayer\"><g class=\"trace bars\" style=\"opacity: 1;\"><g class=\"points\"><g class=\"point\"><path d=\"M0,316.8V291.2H180.77V316.8Z\" style=\"vector-effect: non-scaling-stroke; opacity: 1; stroke-width: 0.5px; fill: rgb(99, 110, 250); fill-opacity: 1; stroke: rgb(229, 236, 246); stroke-opacity: 1;\"/></g><g class=\"point\"><path d=\"M0,284.8V259.2H210.9V284.8Z\" style=\"vector-effect: non-scaling-stroke; opacity: 1; stroke-width: 0.5px; fill: rgb(99, 110, 250); fill-opacity: 1; stroke: rgb(229, 236, 246); stroke-opacity: 1;\"/></g><g class=\"point\"><path d=\"M0,252.8V227.2H241.03V252.8Z\" style=\"vector-effect: non-scaling-stroke; opacity: 1; stroke-width: 0.5px; fill: rgb(99, 110, 250); fill-opacity: 1; stroke: rgb(229, 236, 246); stroke-opacity: 1;\"/></g><g class=\"point\"><path d=\"M0,220.8V195.2H256.09V220.8Z\" style=\"vector-effect: non-scaling-stroke; opacity: 1; stroke-width: 0.5px; fill: rgb(99, 110, 250); fill-opacity: 1; stroke: rgb(229, 236, 246); stroke-opacity: 1;\"/></g><g class=\"point\"><path d=\"M0,188.8V163.2H271.16V188.8Z\" style=\"vector-effect: non-scaling-stroke; opacity: 1; stroke-width: 0.5px; fill: rgb(99, 110, 250); fill-opacity: 1; stroke: rgb(229, 236, 246); stroke-opacity: 1;\"/></g><g class=\"point\"><path d=\"M0,156.8V131.2H286.22V156.8Z\" style=\"vector-effect: non-scaling-stroke; opacity: 1; stroke-width: 0.5px; fill: rgb(99, 110, 250); fill-opacity: 1; stroke: rgb(229, 236, 246); stroke-opacity: 1;\"/></g><g class=\"point\"><path d=\"M0,124.8V99.2H346.48V124.8Z\" style=\"vector-effect: non-scaling-stroke; opacity: 1; stroke-width: 0.5px; fill: rgb(99, 110, 250); fill-opacity: 1; stroke: rgb(229, 236, 246); stroke-opacity: 1;\"/></g><g class=\"point\"><path d=\"M0,92.8V67.2H376.61V92.8Z\" style=\"vector-effect: non-scaling-stroke; opacity: 1; stroke-width: 0.5px; fill: rgb(99, 110, 250); fill-opacity: 1; stroke: rgb(229, 236, 246); stroke-opacity: 1;\"/></g><g class=\"point\"><path d=\"M0,60.8V35.2H406.74V60.8Z\" style=\"vector-effect: non-scaling-stroke; opacity: 1; stroke-width: 0.5px; fill: rgb(99, 110, 250); fill-opacity: 1; stroke: rgb(229, 236, 246); stroke-opacity: 1;\"/></g><g class=\"point\"><path d=\"M0,28.8V3.2H421.8V28.8Z\" style=\"vector-effect: non-scaling-stroke; opacity: 1; stroke-width: 0.5px; fill: rgb(99, 110, 250); fill-opacity: 1; stroke: rgb(229, 236, 246); stroke-opacity: 1;\"/></g></g></g></g></g><g class=\"overplot\"/><path class=\"xlines-above crisp\" d=\"M0,0\" style=\"fill: none;\"/><path class=\"ylines-above crisp\" d=\"M0,0\" style=\"fill: none;\"/><g class=\"overlines-above\"/><g class=\"xaxislayer-above\"><g class=\"xtick\"><text text-anchor=\"middle\" x=\"0\" y=\"433\" transform=\"translate(176,0)\" style=\"font-family: 'Open Sans', verdana, arial, sans-serif; font-size: 12px; fill: rgb(42, 63, 95); fill-opacity: 1; white-space: pre; opacity: 1;\">0</text></g><g class=\"xtick\"><text text-anchor=\"middle\" x=\"0\" y=\"433\" style=\"font-family: 'Open Sans', verdana, arial, sans-serif; font-size: 12px; fill: rgb(42, 63, 95); fill-opacity: 1; white-space: pre; opacity: 1;\" transform=\"translate(251.32,0)\">5</text></g><g class=\"xtick\"><text text-anchor=\"middle\" x=\"0\" y=\"433\" style=\"font-family: 'Open Sans', verdana, arial, sans-serif; font-size: 12px; fill: rgb(42, 63, 95); fill-opacity: 1; white-space: pre; opacity: 1;\" transform=\"translate(326.64,0)\">10</text></g><g class=\"xtick\"><text text-anchor=\"middle\" x=\"0\" y=\"433\" style=\"font-family: 'Open Sans', verdana, arial, sans-serif; font-size: 12px; fill: rgb(42, 63, 95); fill-opacity: 1; white-space: pre; opacity: 1;\" transform=\"translate(401.96000000000004,0)\">15</text></g><g class=\"xtick\"><text text-anchor=\"middle\" x=\"0\" y=\"433\" style=\"font-family: 'Open Sans', verdana, arial, sans-serif; font-size: 12px; fill: rgb(42, 63, 95); fill-opacity: 1; white-space: pre; opacity: 1;\" transform=\"translate(477.29,0)\">20</text></g><g class=\"xtick\"><text text-anchor=\"middle\" x=\"0\" y=\"433\" style=\"font-family: 'Open Sans', verdana, arial, sans-serif; font-size: 12px; fill: rgb(42, 63, 95); fill-opacity: 1; white-space: pre; opacity: 1;\" transform=\"translate(552.61,0)\">25</text></g></g><g class=\"yaxislayer-above\"><g class=\"ytick\"><text text-anchor=\"end\" x=\"175\" y=\"4.199999999999999\" transform=\"translate(0,404)\" style=\"font-family: 'Open Sans', verdana, arial, sans-serif; font-size: 12px; fill: rgb(42, 63, 95); fill-opacity: 1; white-space: pre; opacity: 1;\">район Лефортово</text></g><g class=\"ytick\"><text text-anchor=\"end\" x=\"175\" y=\"4.199999999999999\" transform=\"translate(0,372)\" style=\"font-family: 'Open Sans', verdana, arial, sans-serif; font-size: 12px; fill: rgb(42, 63, 95); fill-opacity: 1; white-space: pre; opacity: 1;\">район Замоскворечье</text></g><g class=\"ytick\"><text text-anchor=\"end\" x=\"175\" y=\"4.199999999999999\" transform=\"translate(0,340)\" style=\"font-family: 'Open Sans', verdana, arial, sans-serif; font-size: 12px; fill: rgb(42, 63, 95); fill-opacity: 1; white-space: pre; opacity: 1;\">Мещанский район</text></g><g class=\"ytick\"><text text-anchor=\"end\" x=\"175\" y=\"4.199999999999999\" transform=\"translate(0,308)\" style=\"font-family: 'Open Sans', verdana, arial, sans-serif; font-size: 12px; fill: rgb(42, 63, 95); fill-opacity: 1; white-space: pre; opacity: 1;\">район Марьина Роща</text></g><g class=\"ytick\"><text text-anchor=\"end\" x=\"175\" y=\"4.199999999999999\" transform=\"translate(0,276)\" style=\"font-family: 'Open Sans', verdana, arial, sans-serif; font-size: 12px; fill: rgb(42, 63, 95); fill-opacity: 1; white-space: pre; opacity: 1;\">Пресненский район</text></g><g class=\"ytick\"><text text-anchor=\"end\" x=\"175\" y=\"4.199999999999999\" transform=\"translate(0,244)\" style=\"font-family: 'Open Sans', verdana, arial, sans-serif; font-size: 12px; fill: rgb(42, 63, 95); fill-opacity: 1; white-space: pre; opacity: 1;\">Тимирязевский район</text></g><g class=\"ytick\"><text text-anchor=\"end\" x=\"175\" y=\"4.199999999999999\" transform=\"translate(0,212)\" style=\"font-family: 'Open Sans', verdana, arial, sans-serif; font-size: 12px; fill: rgb(42, 63, 95); fill-opacity: 1; white-space: pre; opacity: 1;\">район Хамовники</text></g><g class=\"ytick\"><text text-anchor=\"end\" x=\"175\" y=\"4.199999999999999\" transform=\"translate(0,180)\" style=\"font-family: 'Open Sans', verdana, arial, sans-serif; font-size: 12px; fill: rgb(42, 63, 95); fill-opacity: 1; white-space: pre; opacity: 1;\">Басманный район</text></g><g class=\"ytick\"><text text-anchor=\"end\" x=\"175\" y=\"4.199999999999999\" transform=\"translate(0,148)\" style=\"font-family: 'Open Sans', verdana, arial, sans-serif; font-size: 12px; fill: rgb(42, 63, 95); fill-opacity: 1; white-space: pre; opacity: 1;\">Таганский район</text></g><g class=\"ytick\"><text text-anchor=\"end\" x=\"175\" y=\"4.199999999999999\" transform=\"translate(0,116)\" style=\"font-family: 'Open Sans', verdana, arial, sans-serif; font-size: 12px; fill: rgb(42, 63, 95); fill-opacity: 1; white-space: pre; opacity: 1;\">Тверской район</text></g></g><g class=\"overaxes-above\"/></g></g><g class=\"polarlayer\"/><g class=\"ternarylayer\"/><g class=\"geolayer\"/><g class=\"funnelarealayer\"/><g class=\"pielayer\"/><g class=\"iciclelayer\"/><g class=\"treemaplayer\"/><g class=\"sunburstlayer\"/><g class=\"glimages\"/><defs id=\"topdefs-d02402\"><g class=\"clips\"/></defs><g class=\"layer-above\"><g class=\"imagelayer\"/><g class=\"shapelayer\"/></g><g class=\"infolayer\"><g class=\"g-gtitle\"><text class=\"gtitle\" x=\"35\" y=\"50\" text-anchor=\"start\" dy=\"0em\" style=\"font-family: 'Open Sans', verdana, arial, sans-serif; font-size: 17px; fill: rgb(42, 63, 95); opacity: 1; font-weight: normal; white-space: pre;\">Топ-10 районов Москвы по количеству улиц с 1 заведением</text></g><g class=\"g-xtitle\"><text class=\"xtitle\" x=\"398\" y=\"460.8\" text-anchor=\"middle\" style=\"font-family: 'Open Sans', verdana, arial, sans-serif; font-size: 14px; fill: rgb(42, 63, 95); opacity: 1; font-weight: normal; white-space: pre;\">count</text></g><g class=\"g-ytitle\" transform=\"translate(1.5654296875,0)\"><text class=\"ytitle\" transform=\"rotate(-90,12.434374999999989,260)\" x=\"12.434374999999989\" y=\"260\" text-anchor=\"middle\" style=\"font-family: 'Open Sans', verdana, arial, sans-serif; font-size: 14px; fill: rgb(42, 63, 95); opacity: 1; font-weight: normal; white-space: pre;\">district</text></g></g></svg>"
      ]
     },
     "metadata": {},
     "output_type": "display_data"
    }
   ],
   "source": [
    "dr = (\n",
    "    one_obj_street\n",
    "        .groupby('district', as_index=False)\n",
    "        .agg({'street':'count'})\n",
    "        .sort_values(by='street')\n",
    "        .rename(columns={'street':'count'})\n",
    ")\n",
    "\n",
    "fig = px.bar(dr.tail(10), x='count', y='district', orientation='h',\n",
    "             title='Топ-10 районов Москвы по количеству улиц с 1 заведением')\n",
    "fig.show()"
   ]
  },
  {
   "cell_type": "markdown",
   "metadata": {
    "id": "l-g_6nAbtkjg"
   },
   "source": [
    "Тверской и таганский районы лидируют по количеству улиц с 1 заведением - 28 и 27 улиц соответственно."
   ]
  },
  {
   "cell_type": "markdown",
   "metadata": {
    "id": "Rx9FM5nTx9YL"
   },
   "source": [
    "Нагляднее будет на карте"
   ]
  },
  {
   "cell_type": "code",
   "execution_count": 62,
   "metadata": {
    "colab": {
     "base_uri": "https://localhost:8080/",
     "height": 359
    },
    "executionInfo": {
     "elapsed": 7,
     "status": "ok",
     "timestamp": 1627831342075,
     "user": {
      "displayName": "Арсен",
      "photoUrl": "https://lh3.googleusercontent.com/a-/AOh14GjPCG8vWVVB43Ax1wpE_vEPLjGP-XH0UWc12vB7wg=s64",
      "userId": "17661651445996378067"
     },
     "user_tz": -180
    },
    "id": "xyZrdQh8QBL9",
    "outputId": "fab4ccfe-8ab9-4643-cd2e-dc2b92062dd4"
   },
   "outputs": [
    {
     "data": {
      "text/html": [
       "<div>\n",
       "<style scoped>\n",
       "    .dataframe tbody tr th:only-of-type {\n",
       "        vertical-align: middle;\n",
       "    }\n",
       "\n",
       "    .dataframe tbody tr th {\n",
       "        vertical-align: top;\n",
       "    }\n",
       "\n",
       "    .dataframe thead th {\n",
       "        text-align: right;\n",
       "    }\n",
       "</style>\n",
       "<table border=\"1\" class=\"dataframe\">\n",
       "  <thead>\n",
       "    <tr style=\"text-align: right;\">\n",
       "      <th></th>\n",
       "      <th>district</th>\n",
       "      <th>count</th>\n",
       "    </tr>\n",
       "  </thead>\n",
       "  <tbody>\n",
       "    <tr>\n",
       "      <th>0</th>\n",
       "      <td>район Лефортово</td>\n",
       "      <td>12</td>\n",
       "    </tr>\n",
       "    <tr>\n",
       "      <th>1</th>\n",
       "      <td>район Замоскворечье</td>\n",
       "      <td>14</td>\n",
       "    </tr>\n",
       "    <tr>\n",
       "      <th>2</th>\n",
       "      <td>Мещанский район</td>\n",
       "      <td>16</td>\n",
       "    </tr>\n",
       "    <tr>\n",
       "      <th>3</th>\n",
       "      <td>район Марьина Роща</td>\n",
       "      <td>17</td>\n",
       "    </tr>\n",
       "    <tr>\n",
       "      <th>4</th>\n",
       "      <td>Пресненский район</td>\n",
       "      <td>18</td>\n",
       "    </tr>\n",
       "    <tr>\n",
       "      <th>5</th>\n",
       "      <td>Тимирязевский район</td>\n",
       "      <td>19</td>\n",
       "    </tr>\n",
       "    <tr>\n",
       "      <th>6</th>\n",
       "      <td>район Хамовники</td>\n",
       "      <td>23</td>\n",
       "    </tr>\n",
       "    <tr>\n",
       "      <th>7</th>\n",
       "      <td>Басманный район</td>\n",
       "      <td>25</td>\n",
       "    </tr>\n",
       "    <tr>\n",
       "      <th>8</th>\n",
       "      <td>Таганский район</td>\n",
       "      <td>27</td>\n",
       "    </tr>\n",
       "    <tr>\n",
       "      <th>9</th>\n",
       "      <td>Тверской район</td>\n",
       "      <td>28</td>\n",
       "    </tr>\n",
       "  </tbody>\n",
       "</table>\n",
       "</div>"
      ],
      "text/plain": [
       "              district  count\n",
       "0      район Лефортово     12\n",
       "1  район Замоскворечье     14\n",
       "2      Мещанский район     16\n",
       "3   район Марьина Роща     17\n",
       "4    Пресненский район     18\n",
       "5  Тимирязевский район     19\n",
       "6      район Хамовники     23\n",
       "7      Басманный район     25\n",
       "8      Таганский район     27\n",
       "9       Тверской район     28"
      ]
     },
     "execution_count": 62,
     "metadata": {},
     "output_type": "execute_result"
    }
   ],
   "source": [
    "top10_district_alone = dr.tail(10).reset_index(drop=True)\n",
    "top10_district_alone"
   ]
  },
  {
   "cell_type": "markdown",
   "metadata": {
    "id": "HpGEDphOUvgV"
   },
   "source": [
    "**не запускать**"
   ]
  },
  {
   "cell_type": "code",
   "execution_count": null,
   "metadata": {
    "id": "XGgLoiN2TWXT"
   },
   "outputs": [],
   "source": [
    "def get_location_yandexgeo1(row):\n",
    "    district = '+'.join(row['district'].split())\n",
    "\n",
    "    url = 'https://geocode-maps.yandex.ru/1.x'\n",
    "    params = {'geocode':'Москва,{}'.format(district),\n",
    "              'format':'json',\n",
    "              'apikey': API}\n",
    "\n",
    "    r = requests.get(url, params=params).json()     \n",
    "\n",
    "    try:\n",
    "        pos = r['response']['GeoObjectCollection']['featureMember'][0]['GeoObject']['Point']['pos']\n",
    "        return pd.Series([float(pos.split()[0]), float(pos.split()[1])])\n",
    "    except:\n",
    "        return pd.Series([0, 0])"
   ]
  },
  {
   "cell_type": "code",
   "execution_count": null,
   "metadata": {
    "colab": {
     "base_uri": "https://localhost:8080/"
    },
    "executionInfo": {
     "elapsed": 7086,
     "status": "ok",
     "timestamp": 1627831362854,
     "user": {
      "displayName": "Арсен",
      "photoUrl": "https://lh3.googleusercontent.com/a-/AOh14GjPCG8vWVVB43Ax1wpE_vEPLjGP-XH0UWc12vB7wg=s64",
      "userId": "17661651445996378067"
     },
     "user_tz": -180
    },
    "id": "YLesIOk5TWXU",
    "outputId": "998cdf7e-9065-4488-bf0f-f9481a99b066"
   },
   "outputs": [
    {
     "name": "stderr",
     "output_type": "stream",
     "text": [
      "/usr/local/lib/python3.7/dist-packages/tqdm/std.py:658: FutureWarning:\n",
      "\n",
      "The Panel class is removed from pandas. Accessing it from the top-level namespace will also be removed in the next version\n",
      "\n"
     ]
    }
   ],
   "source": [
    "tqdm.pandas()\n",
    "\n",
    "top10_district_alone[['longitude', 'latitude']] = top10_district_alone.progress_apply(get_location_yandexgeo1, axis=1)"
   ]
  },
  {
   "cell_type": "code",
   "execution_count": null,
   "metadata": {
    "id": "xNRza4qmR1IL"
   },
   "outputs": [],
   "source": [
    "top10_district_alone.to_csv('top10_district_alone.csv', encoding='utf-8', index=False)"
   ]
  },
  {
   "cell_type": "markdown",
   "metadata": {
    "id": "AjFFSWjHR1IL"
   },
   "source": [
    "**Отсюда можно запускать**"
   ]
  },
  {
   "cell_type": "code",
   "execution_count": 63,
   "metadata": {
    "id": "ubOhjNsXR1IL"
   },
   "outputs": [],
   "source": [
    "url = 'https://drive.google.com/file/d/1yZMcHCkZ4Q4yWIjE_ZeQ0ATQJGvH58xt/view?usp=sharing'\n",
    "path = 'https://drive.google.com/uc?export=download&id='+url.split('/')[-2]\n",
    "top10_district_alone = pd.read_csv(path)"
   ]
  },
  {
   "cell_type": "code",
   "execution_count": 64,
   "metadata": {
    "colab": {
     "base_uri": "https://localhost:8080/",
     "height": 359
    },
    "executionInfo": {
     "elapsed": 4,
     "status": "ok",
     "timestamp": 1627831676754,
     "user": {
      "displayName": "Арсен",
      "photoUrl": "https://lh3.googleusercontent.com/a-/AOh14GjPCG8vWVVB43Ax1wpE_vEPLjGP-XH0UWc12vB7wg=s64",
      "userId": "17661651445996378067"
     },
     "user_tz": -180
    },
    "id": "TkjueVLzUybo",
    "outputId": "cb295d0b-c44b-4e17-b250-a77ec5da2bd3"
   },
   "outputs": [
    {
     "data": {
      "text/html": [
       "<div>\n",
       "<style scoped>\n",
       "    .dataframe tbody tr th:only-of-type {\n",
       "        vertical-align: middle;\n",
       "    }\n",
       "\n",
       "    .dataframe tbody tr th {\n",
       "        vertical-align: top;\n",
       "    }\n",
       "\n",
       "    .dataframe thead th {\n",
       "        text-align: right;\n",
       "    }\n",
       "</style>\n",
       "<table border=\"1\" class=\"dataframe\">\n",
       "  <thead>\n",
       "    <tr style=\"text-align: right;\">\n",
       "      <th></th>\n",
       "      <th>district</th>\n",
       "      <th>count</th>\n",
       "      <th>longitude</th>\n",
       "      <th>latitude</th>\n",
       "    </tr>\n",
       "  </thead>\n",
       "  <tbody>\n",
       "    <tr>\n",
       "      <th>0</th>\n",
       "      <td>район Лефортово</td>\n",
       "      <td>12</td>\n",
       "      <td>37.704826</td>\n",
       "      <td>55.753635</td>\n",
       "    </tr>\n",
       "    <tr>\n",
       "      <th>1</th>\n",
       "      <td>район Замоскворечье</td>\n",
       "      <td>14</td>\n",
       "      <td>37.634290</td>\n",
       "      <td>55.734162</td>\n",
       "    </tr>\n",
       "    <tr>\n",
       "      <th>2</th>\n",
       "      <td>Мещанский район</td>\n",
       "      <td>16</td>\n",
       "      <td>37.628801</td>\n",
       "      <td>55.780071</td>\n",
       "    </tr>\n",
       "    <tr>\n",
       "      <th>3</th>\n",
       "      <td>район Марьина Роща</td>\n",
       "      <td>17</td>\n",
       "      <td>37.614383</td>\n",
       "      <td>55.796936</td>\n",
       "    </tr>\n",
       "    <tr>\n",
       "      <th>4</th>\n",
       "      <td>Пресненский район</td>\n",
       "      <td>18</td>\n",
       "      <td>37.562389</td>\n",
       "      <td>55.763437</td>\n",
       "    </tr>\n",
       "    <tr>\n",
       "      <th>5</th>\n",
       "      <td>Тимирязевский район</td>\n",
       "      <td>19</td>\n",
       "      <td>37.557071</td>\n",
       "      <td>55.825527</td>\n",
       "    </tr>\n",
       "    <tr>\n",
       "      <th>6</th>\n",
       "      <td>район Хамовники</td>\n",
       "      <td>23</td>\n",
       "      <td>37.574534</td>\n",
       "      <td>55.729199</td>\n",
       "    </tr>\n",
       "    <tr>\n",
       "      <th>7</th>\n",
       "      <td>Басманный район</td>\n",
       "      <td>25</td>\n",
       "      <td>37.671238</td>\n",
       "      <td>55.766572</td>\n",
       "    </tr>\n",
       "    <tr>\n",
       "      <th>8</th>\n",
       "      <td>Таганский район</td>\n",
       "      <td>27</td>\n",
       "      <td>37.666971</td>\n",
       "      <td>55.740010</td>\n",
       "    </tr>\n",
       "    <tr>\n",
       "      <th>9</th>\n",
       "      <td>Тверской район</td>\n",
       "      <td>28</td>\n",
       "      <td>37.606918</td>\n",
       "      <td>55.770132</td>\n",
       "    </tr>\n",
       "  </tbody>\n",
       "</table>\n",
       "</div>"
      ],
      "text/plain": [
       "              district  count  longitude   latitude\n",
       "0      район Лефортово     12  37.704826  55.753635\n",
       "1  район Замоскворечье     14  37.634290  55.734162\n",
       "2      Мещанский район     16  37.628801  55.780071\n",
       "3   район Марьина Роща     17  37.614383  55.796936\n",
       "4    Пресненский район     18  37.562389  55.763437\n",
       "5  Тимирязевский район     19  37.557071  55.825527\n",
       "6      район Хамовники     23  37.574534  55.729199\n",
       "7      Басманный район     25  37.671238  55.766572\n",
       "8      Таганский район     27  37.666971  55.740010\n",
       "9       Тверской район     28  37.606918  55.770132"
      ]
     },
     "execution_count": 64,
     "metadata": {},
     "output_type": "execute_result"
    }
   ],
   "source": [
    "top10_district_alone"
   ]
  },
  {
   "cell_type": "code",
   "execution_count": 65,
   "metadata": {
    "colab": {
     "base_uri": "https://localhost:8080/",
     "height": 915
    },
    "executionInfo": {
     "elapsed": 363,
     "status": "ok",
     "timestamp": 1627831855966,
     "user": {
      "displayName": "Арсен",
      "photoUrl": "https://lh3.googleusercontent.com/a-/AOh14GjPCG8vWVVB43Ax1wpE_vEPLjGP-XH0UWc12vB7wg=s64",
      "userId": "17661651445996378067"
     },
     "user_tz": -180
    },
    "id": "SZd-Brj2Vbgn",
    "outputId": "5b3a13f3-06a1-4cdb-c9e3-67c252250d80"
   },
   "outputs": [
    {
     "data": {
      "text/html": [
       "<div style=\"width:100%;\"><div style=\"position:relative;width:100%;height:0;padding-bottom:60%;\"><span style=\"color:#565656\">Make this Notebook Trusted to load map: File -> Trust Notebook</span><iframe src=\"about:blank\" style=\"position:absolute;width:100%;height:100%;left:0;top:0;border:none !important;\" data-html=%3C%21DOCTYPE%20html%3E%0A%3Chead%3E%20%20%20%20%0A%20%20%20%20%3Cmeta%20http-equiv%3D%22content-type%22%20content%3D%22text/html%3B%20charset%3DUTF-8%22%20/%3E%0A%20%20%20%20%0A%20%20%20%20%20%20%20%20%3Cscript%3E%0A%20%20%20%20%20%20%20%20%20%20%20%20L_NO_TOUCH%20%3D%20false%3B%0A%20%20%20%20%20%20%20%20%20%20%20%20L_DISABLE_3D%20%3D%20false%3B%0A%20%20%20%20%20%20%20%20%3C/script%3E%0A%20%20%20%20%0A%20%20%20%20%3Cstyle%3Ehtml%2C%20body%20%7Bwidth%3A%20100%25%3Bheight%3A%20100%25%3Bmargin%3A%200%3Bpadding%3A%200%3B%7D%3C/style%3E%0A%20%20%20%20%3Cstyle%3E%23map%20%7Bposition%3Aabsolute%3Btop%3A0%3Bbottom%3A0%3Bright%3A0%3Bleft%3A0%3B%7D%3C/style%3E%0A%20%20%20%20%3Cscript%20src%3D%22https%3A//cdn.jsdelivr.net/npm/leaflet%401.6.0/dist/leaflet.js%22%3E%3C/script%3E%0A%20%20%20%20%3Cscript%20src%3D%22https%3A//code.jquery.com/jquery-1.12.4.min.js%22%3E%3C/script%3E%0A%20%20%20%20%3Cscript%20src%3D%22https%3A//maxcdn.bootstrapcdn.com/bootstrap/3.2.0/js/bootstrap.min.js%22%3E%3C/script%3E%0A%20%20%20%20%3Cscript%20src%3D%22https%3A//cdnjs.cloudflare.com/ajax/libs/Leaflet.awesome-markers/2.0.2/leaflet.awesome-markers.js%22%3E%3C/script%3E%0A%20%20%20%20%3Clink%20rel%3D%22stylesheet%22%20href%3D%22https%3A//cdn.jsdelivr.net/npm/leaflet%401.6.0/dist/leaflet.css%22/%3E%0A%20%20%20%20%3Clink%20rel%3D%22stylesheet%22%20href%3D%22https%3A//maxcdn.bootstrapcdn.com/bootstrap/3.2.0/css/bootstrap.min.css%22/%3E%0A%20%20%20%20%3Clink%20rel%3D%22stylesheet%22%20href%3D%22https%3A//maxcdn.bootstrapcdn.com/bootstrap/3.2.0/css/bootstrap-theme.min.css%22/%3E%0A%20%20%20%20%3Clink%20rel%3D%22stylesheet%22%20href%3D%22https%3A//maxcdn.bootstrapcdn.com/font-awesome/4.6.3/css/font-awesome.min.css%22/%3E%0A%20%20%20%20%3Clink%20rel%3D%22stylesheet%22%20href%3D%22https%3A//cdnjs.cloudflare.com/ajax/libs/Leaflet.awesome-markers/2.0.2/leaflet.awesome-markers.css%22/%3E%0A%20%20%20%20%3Clink%20rel%3D%22stylesheet%22%20href%3D%22https%3A//cdn.jsdelivr.net/gh/python-visualization/folium/folium/templates/leaflet.awesome.rotate.min.css%22/%3E%0A%20%20%20%20%0A%20%20%20%20%20%20%20%20%20%20%20%20%3Cmeta%20name%3D%22viewport%22%20content%3D%22width%3Ddevice-width%2C%0A%20%20%20%20%20%20%20%20%20%20%20%20%20%20%20%20initial-scale%3D1.0%2C%20maximum-scale%3D1.0%2C%20user-scalable%3Dno%22%20/%3E%0A%20%20%20%20%20%20%20%20%20%20%20%20%3Cstyle%3E%0A%20%20%20%20%20%20%20%20%20%20%20%20%20%20%20%20%23map_410bdb59ebc0449b823b38dfcf283eb3%20%7B%0A%20%20%20%20%20%20%20%20%20%20%20%20%20%20%20%20%20%20%20%20position%3A%20relative%3B%0A%20%20%20%20%20%20%20%20%20%20%20%20%20%20%20%20%20%20%20%20width%3A%20100.0%25%3B%0A%20%20%20%20%20%20%20%20%20%20%20%20%20%20%20%20%20%20%20%20height%3A%20100.0%25%3B%0A%20%20%20%20%20%20%20%20%20%20%20%20%20%20%20%20%20%20%20%20left%3A%200.0%25%3B%0A%20%20%20%20%20%20%20%20%20%20%20%20%20%20%20%20%20%20%20%20top%3A%200.0%25%3B%0A%20%20%20%20%20%20%20%20%20%20%20%20%20%20%20%20%7D%0A%20%20%20%20%20%20%20%20%20%20%20%20%3C/style%3E%0A%20%20%20%20%20%20%20%20%0A%3C/head%3E%0A%3Cbody%3E%20%20%20%20%0A%20%20%20%20%0A%20%20%20%20%20%20%20%20%20%20%20%20%3Cdiv%20class%3D%22folium-map%22%20id%3D%22map_410bdb59ebc0449b823b38dfcf283eb3%22%20%3E%3C/div%3E%0A%20%20%20%20%20%20%20%20%0A%3C/body%3E%0A%3Cscript%3E%20%20%20%20%0A%20%20%20%20%0A%20%20%20%20%20%20%20%20%20%20%20%20var%20map_410bdb59ebc0449b823b38dfcf283eb3%20%3D%20L.map%28%0A%20%20%20%20%20%20%20%20%20%20%20%20%20%20%20%20%22map_410bdb59ebc0449b823b38dfcf283eb3%22%2C%0A%20%20%20%20%20%20%20%20%20%20%20%20%20%20%20%20%7B%0A%20%20%20%20%20%20%20%20%20%20%20%20%20%20%20%20%20%20%20%20center%3A%20%5B55.755819%2C%2037.617644%5D%2C%0A%20%20%20%20%20%20%20%20%20%20%20%20%20%20%20%20%20%20%20%20crs%3A%20L.CRS.EPSG3857%2C%0A%20%20%20%20%20%20%20%20%20%20%20%20%20%20%20%20%20%20%20%20zoom%3A%2011%2C%0A%20%20%20%20%20%20%20%20%20%20%20%20%20%20%20%20%20%20%20%20zoomControl%3A%20true%2C%0A%20%20%20%20%20%20%20%20%20%20%20%20%20%20%20%20%20%20%20%20preferCanvas%3A%20false%2C%0A%20%20%20%20%20%20%20%20%20%20%20%20%20%20%20%20%7D%0A%20%20%20%20%20%20%20%20%20%20%20%20%29%3B%0A%0A%20%20%20%20%20%20%20%20%20%20%20%20%0A%0A%20%20%20%20%20%20%20%20%0A%20%20%20%20%0A%20%20%20%20%20%20%20%20%20%20%20%20var%20tile_layer_5298560038bd4e6597bfcb870d94c111%20%3D%20L.tileLayer%28%0A%20%20%20%20%20%20%20%20%20%20%20%20%20%20%20%20%22https%3A//%7Bs%7D.tile.openstreetmap.org/%7Bz%7D/%7Bx%7D/%7By%7D.png%22%2C%0A%20%20%20%20%20%20%20%20%20%20%20%20%20%20%20%20%7B%22attribution%22%3A%20%22Data%20by%20%5Cu0026copy%3B%20%5Cu003ca%20href%3D%5C%22http%3A//openstreetmap.org%5C%22%5Cu003eOpenStreetMap%5Cu003c/a%5Cu003e%2C%20under%20%5Cu003ca%20href%3D%5C%22http%3A//www.openstreetmap.org/copyright%5C%22%5Cu003eODbL%5Cu003c/a%5Cu003e.%22%2C%20%22detectRetina%22%3A%20false%2C%20%22maxNativeZoom%22%3A%2018%2C%20%22maxZoom%22%3A%2018%2C%20%22minZoom%22%3A%200%2C%20%22noWrap%22%3A%20false%2C%20%22opacity%22%3A%201%2C%20%22subdomains%22%3A%20%22abc%22%2C%20%22tms%22%3A%20false%7D%0A%20%20%20%20%20%20%20%20%20%20%20%20%29.addTo%28map_410bdb59ebc0449b823b38dfcf283eb3%29%3B%0A%20%20%20%20%20%20%20%20%0A%20%20%20%20%0A%20%20%20%20%20%20%20%20%20%20%20%20var%20marker_e19cbee978a24abba6be46e0a1d839bb%20%3D%20L.marker%28%0A%20%20%20%20%20%20%20%20%20%20%20%20%20%20%20%20%5B55.753635%2C%2037.704826%5D%2C%0A%20%20%20%20%20%20%20%20%20%20%20%20%20%20%20%20%7B%7D%0A%20%20%20%20%20%20%20%20%20%20%20%20%29.addTo%28map_410bdb59ebc0449b823b38dfcf283eb3%29%3B%0A%20%20%20%20%20%20%20%20%0A%20%20%20%20%0A%20%20%20%20%20%20%20%20var%20popup_b441d126e0db45189aeaffa512540110%20%3D%20L.popup%28%7B%22maxWidth%22%3A%20%22100%25%22%7D%29%3B%0A%0A%20%20%20%20%20%20%20%20%0A%20%20%20%20%20%20%20%20%20%20%20%20var%20html_81d0efefec3b4efdbf7ea4641da36203%20%3D%20%24%28%60%3Cdiv%20id%3D%22html_81d0efefec3b4efdbf7ea4641da36203%22%20style%3D%22width%3A%20100.0%25%3B%20height%3A%20100.0%25%3B%22%3E%D1%80%D0%B0%D0%B9%D0%BE%D0%BD%20%D0%9B%D0%B5%D1%84%D0%BE%D1%80%D1%82%D0%BE%D0%B2%D0%BE%3C/div%3E%60%29%5B0%5D%3B%0A%20%20%20%20%20%20%20%20%20%20%20%20popup_b441d126e0db45189aeaffa512540110.setContent%28html_81d0efefec3b4efdbf7ea4641da36203%29%3B%0A%20%20%20%20%20%20%20%20%0A%0A%20%20%20%20%20%20%20%20marker_e19cbee978a24abba6be46e0a1d839bb.bindPopup%28popup_b441d126e0db45189aeaffa512540110%29%0A%20%20%20%20%20%20%20%20%3B%0A%0A%20%20%20%20%20%20%20%20%0A%20%20%20%20%0A%20%20%20%20%0A%20%20%20%20%20%20%20%20%20%20%20%20var%20marker_18ab0fe6badd4653b99ecda4a8371ebd%20%3D%20L.marker%28%0A%20%20%20%20%20%20%20%20%20%20%20%20%20%20%20%20%5B55.734162%2C%2037.63429%5D%2C%0A%20%20%20%20%20%20%20%20%20%20%20%20%20%20%20%20%7B%7D%0A%20%20%20%20%20%20%20%20%20%20%20%20%29.addTo%28map_410bdb59ebc0449b823b38dfcf283eb3%29%3B%0A%20%20%20%20%20%20%20%20%0A%20%20%20%20%0A%20%20%20%20%20%20%20%20var%20popup_c7902ca1598d40afa07c7f582646a4fe%20%3D%20L.popup%28%7B%22maxWidth%22%3A%20%22100%25%22%7D%29%3B%0A%0A%20%20%20%20%20%20%20%20%0A%20%20%20%20%20%20%20%20%20%20%20%20var%20html_b1488a96ba394f028af558adee645e12%20%3D%20%24%28%60%3Cdiv%20id%3D%22html_b1488a96ba394f028af558adee645e12%22%20style%3D%22width%3A%20100.0%25%3B%20height%3A%20100.0%25%3B%22%3E%D1%80%D0%B0%D0%B9%D0%BE%D0%BD%20%D0%97%D0%B0%D0%BC%D0%BE%D1%81%D0%BA%D0%B2%D0%BE%D1%80%D0%B5%D1%87%D1%8C%D0%B5%3C/div%3E%60%29%5B0%5D%3B%0A%20%20%20%20%20%20%20%20%20%20%20%20popup_c7902ca1598d40afa07c7f582646a4fe.setContent%28html_b1488a96ba394f028af558adee645e12%29%3B%0A%20%20%20%20%20%20%20%20%0A%0A%20%20%20%20%20%20%20%20marker_18ab0fe6badd4653b99ecda4a8371ebd.bindPopup%28popup_c7902ca1598d40afa07c7f582646a4fe%29%0A%20%20%20%20%20%20%20%20%3B%0A%0A%20%20%20%20%20%20%20%20%0A%20%20%20%20%0A%20%20%20%20%0A%20%20%20%20%20%20%20%20%20%20%20%20var%20marker_ea2f560387a14a609378a6e6dea08a3b%20%3D%20L.marker%28%0A%20%20%20%20%20%20%20%20%20%20%20%20%20%20%20%20%5B55.780071%2C%2037.628801%5D%2C%0A%20%20%20%20%20%20%20%20%20%20%20%20%20%20%20%20%7B%7D%0A%20%20%20%20%20%20%20%20%20%20%20%20%29.addTo%28map_410bdb59ebc0449b823b38dfcf283eb3%29%3B%0A%20%20%20%20%20%20%20%20%0A%20%20%20%20%0A%20%20%20%20%20%20%20%20var%20popup_b9b517a406704f4990f9b4f84c35dfb9%20%3D%20L.popup%28%7B%22maxWidth%22%3A%20%22100%25%22%7D%29%3B%0A%0A%20%20%20%20%20%20%20%20%0A%20%20%20%20%20%20%20%20%20%20%20%20var%20html_fdb65c3a9833422088f3ecb063e69616%20%3D%20%24%28%60%3Cdiv%20id%3D%22html_fdb65c3a9833422088f3ecb063e69616%22%20style%3D%22width%3A%20100.0%25%3B%20height%3A%20100.0%25%3B%22%3E%D0%9C%D0%B5%D1%89%D0%B0%D0%BD%D1%81%D0%BA%D0%B8%D0%B9%20%D1%80%D0%B0%D0%B9%D0%BE%D0%BD%3C/div%3E%60%29%5B0%5D%3B%0A%20%20%20%20%20%20%20%20%20%20%20%20popup_b9b517a406704f4990f9b4f84c35dfb9.setContent%28html_fdb65c3a9833422088f3ecb063e69616%29%3B%0A%20%20%20%20%20%20%20%20%0A%0A%20%20%20%20%20%20%20%20marker_ea2f560387a14a609378a6e6dea08a3b.bindPopup%28popup_b9b517a406704f4990f9b4f84c35dfb9%29%0A%20%20%20%20%20%20%20%20%3B%0A%0A%20%20%20%20%20%20%20%20%0A%20%20%20%20%0A%20%20%20%20%0A%20%20%20%20%20%20%20%20%20%20%20%20var%20marker_b4c17c50e7cd45b99263416da17a3436%20%3D%20L.marker%28%0A%20%20%20%20%20%20%20%20%20%20%20%20%20%20%20%20%5B55.796936%2C%2037.614383%5D%2C%0A%20%20%20%20%20%20%20%20%20%20%20%20%20%20%20%20%7B%7D%0A%20%20%20%20%20%20%20%20%20%20%20%20%29.addTo%28map_410bdb59ebc0449b823b38dfcf283eb3%29%3B%0A%20%20%20%20%20%20%20%20%0A%20%20%20%20%0A%20%20%20%20%20%20%20%20var%20popup_9bebd2e6a6d8409786f4db4755162278%20%3D%20L.popup%28%7B%22maxWidth%22%3A%20%22100%25%22%7D%29%3B%0A%0A%20%20%20%20%20%20%20%20%0A%20%20%20%20%20%20%20%20%20%20%20%20var%20html_0ef6339a31234457adefc5c56a6af947%20%3D%20%24%28%60%3Cdiv%20id%3D%22html_0ef6339a31234457adefc5c56a6af947%22%20style%3D%22width%3A%20100.0%25%3B%20height%3A%20100.0%25%3B%22%3E%D1%80%D0%B0%D0%B9%D0%BE%D0%BD%20%D0%9C%D0%B0%D1%80%D1%8C%D0%B8%D0%BD%D0%B0%20%D0%A0%D0%BE%D1%89%D0%B0%3C/div%3E%60%29%5B0%5D%3B%0A%20%20%20%20%20%20%20%20%20%20%20%20popup_9bebd2e6a6d8409786f4db4755162278.setContent%28html_0ef6339a31234457adefc5c56a6af947%29%3B%0A%20%20%20%20%20%20%20%20%0A%0A%20%20%20%20%20%20%20%20marker_b4c17c50e7cd45b99263416da17a3436.bindPopup%28popup_9bebd2e6a6d8409786f4db4755162278%29%0A%20%20%20%20%20%20%20%20%3B%0A%0A%20%20%20%20%20%20%20%20%0A%20%20%20%20%0A%20%20%20%20%0A%20%20%20%20%20%20%20%20%20%20%20%20var%20marker_ba94369ccd694d6e9947ad64f1416f74%20%3D%20L.marker%28%0A%20%20%20%20%20%20%20%20%20%20%20%20%20%20%20%20%5B55.763437%2C%2037.562389%5D%2C%0A%20%20%20%20%20%20%20%20%20%20%20%20%20%20%20%20%7B%7D%0A%20%20%20%20%20%20%20%20%20%20%20%20%29.addTo%28map_410bdb59ebc0449b823b38dfcf283eb3%29%3B%0A%20%20%20%20%20%20%20%20%0A%20%20%20%20%0A%20%20%20%20%20%20%20%20var%20popup_43e962b64ca14eb0bd043f8d3cefeea1%20%3D%20L.popup%28%7B%22maxWidth%22%3A%20%22100%25%22%7D%29%3B%0A%0A%20%20%20%20%20%20%20%20%0A%20%20%20%20%20%20%20%20%20%20%20%20var%20html_7970644e4f6543f0beb99df146044cd6%20%3D%20%24%28%60%3Cdiv%20id%3D%22html_7970644e4f6543f0beb99df146044cd6%22%20style%3D%22width%3A%20100.0%25%3B%20height%3A%20100.0%25%3B%22%3E%D0%9F%D1%80%D0%B5%D1%81%D0%BD%D0%B5%D0%BD%D1%81%D0%BA%D0%B8%D0%B9%20%D1%80%D0%B0%D0%B9%D0%BE%D0%BD%3C/div%3E%60%29%5B0%5D%3B%0A%20%20%20%20%20%20%20%20%20%20%20%20popup_43e962b64ca14eb0bd043f8d3cefeea1.setContent%28html_7970644e4f6543f0beb99df146044cd6%29%3B%0A%20%20%20%20%20%20%20%20%0A%0A%20%20%20%20%20%20%20%20marker_ba94369ccd694d6e9947ad64f1416f74.bindPopup%28popup_43e962b64ca14eb0bd043f8d3cefeea1%29%0A%20%20%20%20%20%20%20%20%3B%0A%0A%20%20%20%20%20%20%20%20%0A%20%20%20%20%0A%20%20%20%20%0A%20%20%20%20%20%20%20%20%20%20%20%20var%20marker_f422eafcc2094ee78778366266730192%20%3D%20L.marker%28%0A%20%20%20%20%20%20%20%20%20%20%20%20%20%20%20%20%5B55.825527%2C%2037.557071%5D%2C%0A%20%20%20%20%20%20%20%20%20%20%20%20%20%20%20%20%7B%7D%0A%20%20%20%20%20%20%20%20%20%20%20%20%29.addTo%28map_410bdb59ebc0449b823b38dfcf283eb3%29%3B%0A%20%20%20%20%20%20%20%20%0A%20%20%20%20%0A%20%20%20%20%20%20%20%20var%20popup_cee090ea4bcd4e818c87db8651bcd03b%20%3D%20L.popup%28%7B%22maxWidth%22%3A%20%22100%25%22%7D%29%3B%0A%0A%20%20%20%20%20%20%20%20%0A%20%20%20%20%20%20%20%20%20%20%20%20var%20html_262cb3c3c93a4ea0b29151afa32c399b%20%3D%20%24%28%60%3Cdiv%20id%3D%22html_262cb3c3c93a4ea0b29151afa32c399b%22%20style%3D%22width%3A%20100.0%25%3B%20height%3A%20100.0%25%3B%22%3E%D0%A2%D0%B8%D0%BC%D0%B8%D1%80%D1%8F%D0%B7%D0%B5%D0%B2%D1%81%D0%BA%D0%B8%D0%B9%20%D1%80%D0%B0%D0%B9%D0%BE%D0%BD%3C/div%3E%60%29%5B0%5D%3B%0A%20%20%20%20%20%20%20%20%20%20%20%20popup_cee090ea4bcd4e818c87db8651bcd03b.setContent%28html_262cb3c3c93a4ea0b29151afa32c399b%29%3B%0A%20%20%20%20%20%20%20%20%0A%0A%20%20%20%20%20%20%20%20marker_f422eafcc2094ee78778366266730192.bindPopup%28popup_cee090ea4bcd4e818c87db8651bcd03b%29%0A%20%20%20%20%20%20%20%20%3B%0A%0A%20%20%20%20%20%20%20%20%0A%20%20%20%20%0A%20%20%20%20%0A%20%20%20%20%20%20%20%20%20%20%20%20var%20marker_f5ec9d57282542ec908f61c0637599ac%20%3D%20L.marker%28%0A%20%20%20%20%20%20%20%20%20%20%20%20%20%20%20%20%5B55.729199%2C%2037.574534%5D%2C%0A%20%20%20%20%20%20%20%20%20%20%20%20%20%20%20%20%7B%7D%0A%20%20%20%20%20%20%20%20%20%20%20%20%29.addTo%28map_410bdb59ebc0449b823b38dfcf283eb3%29%3B%0A%20%20%20%20%20%20%20%20%0A%20%20%20%20%0A%20%20%20%20%20%20%20%20var%20popup_0a3ae13f755b449fa31858b8b79e165c%20%3D%20L.popup%28%7B%22maxWidth%22%3A%20%22100%25%22%7D%29%3B%0A%0A%20%20%20%20%20%20%20%20%0A%20%20%20%20%20%20%20%20%20%20%20%20var%20html_ca51681594934ec1a2bf4265650c24ed%20%3D%20%24%28%60%3Cdiv%20id%3D%22html_ca51681594934ec1a2bf4265650c24ed%22%20style%3D%22width%3A%20100.0%25%3B%20height%3A%20100.0%25%3B%22%3E%D1%80%D0%B0%D0%B9%D0%BE%D0%BD%20%D0%A5%D0%B0%D0%BC%D0%BE%D0%B2%D0%BD%D0%B8%D0%BA%D0%B8%3C/div%3E%60%29%5B0%5D%3B%0A%20%20%20%20%20%20%20%20%20%20%20%20popup_0a3ae13f755b449fa31858b8b79e165c.setContent%28html_ca51681594934ec1a2bf4265650c24ed%29%3B%0A%20%20%20%20%20%20%20%20%0A%0A%20%20%20%20%20%20%20%20marker_f5ec9d57282542ec908f61c0637599ac.bindPopup%28popup_0a3ae13f755b449fa31858b8b79e165c%29%0A%20%20%20%20%20%20%20%20%3B%0A%0A%20%20%20%20%20%20%20%20%0A%20%20%20%20%0A%20%20%20%20%0A%20%20%20%20%20%20%20%20%20%20%20%20var%20marker_896a584babe04e69a3f7808fa9f5023a%20%3D%20L.marker%28%0A%20%20%20%20%20%20%20%20%20%20%20%20%20%20%20%20%5B55.766572%2C%2037.671238%5D%2C%0A%20%20%20%20%20%20%20%20%20%20%20%20%20%20%20%20%7B%7D%0A%20%20%20%20%20%20%20%20%20%20%20%20%29.addTo%28map_410bdb59ebc0449b823b38dfcf283eb3%29%3B%0A%20%20%20%20%20%20%20%20%0A%20%20%20%20%0A%20%20%20%20%20%20%20%20var%20popup_80376896e4574d3194b95d77caf30823%20%3D%20L.popup%28%7B%22maxWidth%22%3A%20%22100%25%22%7D%29%3B%0A%0A%20%20%20%20%20%20%20%20%0A%20%20%20%20%20%20%20%20%20%20%20%20var%20html_a5f7087346694b5e8eef103c9887fc67%20%3D%20%24%28%60%3Cdiv%20id%3D%22html_a5f7087346694b5e8eef103c9887fc67%22%20style%3D%22width%3A%20100.0%25%3B%20height%3A%20100.0%25%3B%22%3E%D0%91%D0%B0%D1%81%D0%BC%D0%B0%D0%BD%D0%BD%D1%8B%D0%B9%20%D1%80%D0%B0%D0%B9%D0%BE%D0%BD%3C/div%3E%60%29%5B0%5D%3B%0A%20%20%20%20%20%20%20%20%20%20%20%20popup_80376896e4574d3194b95d77caf30823.setContent%28html_a5f7087346694b5e8eef103c9887fc67%29%3B%0A%20%20%20%20%20%20%20%20%0A%0A%20%20%20%20%20%20%20%20marker_896a584babe04e69a3f7808fa9f5023a.bindPopup%28popup_80376896e4574d3194b95d77caf30823%29%0A%20%20%20%20%20%20%20%20%3B%0A%0A%20%20%20%20%20%20%20%20%0A%20%20%20%20%0A%20%20%20%20%0A%20%20%20%20%20%20%20%20%20%20%20%20var%20marker_5a252d8d3c3f4401b45741e9e533dd1d%20%3D%20L.marker%28%0A%20%20%20%20%20%20%20%20%20%20%20%20%20%20%20%20%5B55.74001%2C%2037.666971%5D%2C%0A%20%20%20%20%20%20%20%20%20%20%20%20%20%20%20%20%7B%7D%0A%20%20%20%20%20%20%20%20%20%20%20%20%29.addTo%28map_410bdb59ebc0449b823b38dfcf283eb3%29%3B%0A%20%20%20%20%20%20%20%20%0A%20%20%20%20%0A%20%20%20%20%20%20%20%20var%20popup_61bdb1e9fbdd49eab211b98e8d330548%20%3D%20L.popup%28%7B%22maxWidth%22%3A%20%22100%25%22%7D%29%3B%0A%0A%20%20%20%20%20%20%20%20%0A%20%20%20%20%20%20%20%20%20%20%20%20var%20html_f7d62a8c04074a36829534876c229369%20%3D%20%24%28%60%3Cdiv%20id%3D%22html_f7d62a8c04074a36829534876c229369%22%20style%3D%22width%3A%20100.0%25%3B%20height%3A%20100.0%25%3B%22%3E%D0%A2%D0%B0%D0%B3%D0%B0%D0%BD%D1%81%D0%BA%D0%B8%D0%B9%20%D1%80%D0%B0%D0%B9%D0%BE%D0%BD%3C/div%3E%60%29%5B0%5D%3B%0A%20%20%20%20%20%20%20%20%20%20%20%20popup_61bdb1e9fbdd49eab211b98e8d330548.setContent%28html_f7d62a8c04074a36829534876c229369%29%3B%0A%20%20%20%20%20%20%20%20%0A%0A%20%20%20%20%20%20%20%20marker_5a252d8d3c3f4401b45741e9e533dd1d.bindPopup%28popup_61bdb1e9fbdd49eab211b98e8d330548%29%0A%20%20%20%20%20%20%20%20%3B%0A%0A%20%20%20%20%20%20%20%20%0A%20%20%20%20%0A%20%20%20%20%0A%20%20%20%20%20%20%20%20%20%20%20%20var%20marker_9a506745f98f4fef8da1093eec16cd30%20%3D%20L.marker%28%0A%20%20%20%20%20%20%20%20%20%20%20%20%20%20%20%20%5B55.770132%2C%2037.606918%5D%2C%0A%20%20%20%20%20%20%20%20%20%20%20%20%20%20%20%20%7B%7D%0A%20%20%20%20%20%20%20%20%20%20%20%20%29.addTo%28map_410bdb59ebc0449b823b38dfcf283eb3%29%3B%0A%20%20%20%20%20%20%20%20%0A%20%20%20%20%0A%20%20%20%20%20%20%20%20var%20popup_22fab03e14f94fc09ad6777c94b828d4%20%3D%20L.popup%28%7B%22maxWidth%22%3A%20%22100%25%22%7D%29%3B%0A%0A%20%20%20%20%20%20%20%20%0A%20%20%20%20%20%20%20%20%20%20%20%20var%20html_84bcd53c5a7f4d64804c879550adff1a%20%3D%20%24%28%60%3Cdiv%20id%3D%22html_84bcd53c5a7f4d64804c879550adff1a%22%20style%3D%22width%3A%20100.0%25%3B%20height%3A%20100.0%25%3B%22%3E%D0%A2%D0%B2%D0%B5%D1%80%D1%81%D0%BA%D0%BE%D0%B9%20%D1%80%D0%B0%D0%B9%D0%BE%D0%BD%3C/div%3E%60%29%5B0%5D%3B%0A%20%20%20%20%20%20%20%20%20%20%20%20popup_22fab03e14f94fc09ad6777c94b828d4.setContent%28html_84bcd53c5a7f4d64804c879550adff1a%29%3B%0A%20%20%20%20%20%20%20%20%0A%0A%20%20%20%20%20%20%20%20marker_9a506745f98f4fef8da1093eec16cd30.bindPopup%28popup_22fab03e14f94fc09ad6777c94b828d4%29%0A%20%20%20%20%20%20%20%20%3B%0A%0A%20%20%20%20%20%20%20%20%0A%20%20%20%20%0A%3C/script%3E onload=\"this.contentDocument.open();this.contentDocument.write(    decodeURIComponent(this.getAttribute('data-html')));this.contentDocument.close();\" allowfullscreen webkitallowfullscreen mozallowfullscreen></iframe></div></div>"
      ],
      "text/plain": [
       "<folium.folium.Map at 0x2876332c040>"
      ]
     },
     "execution_count": 65,
     "metadata": {},
     "output_type": "execute_result"
    }
   ],
   "source": [
    "moscow = folium.Map(location = [55.755819, 37.617644], zoom_start = 11)\n",
    "\n",
    "for indice, row in top10_district_alone.iterrows():\n",
    "    folium.Marker(\n",
    "        location=[row['latitude'], row['longitude']],\n",
    "        popup=row['district']\n",
    "    ).add_to(moscow)\n",
    "\n",
    "moscow"
   ]
  },
  {
   "cell_type": "markdown",
   "metadata": {
    "id": "1gmQa-dhxtLt"
   },
   "source": [
    "*Смотреть по округам смысла нет, т.к. там практически все заведения находятся в центральном округе*"
   ]
  },
  {
   "cell_type": "markdown",
   "metadata": {
    "id": "2sxdKUw3rHAp"
   },
   "source": [
    "Так же, так как наше заведение будет кафе, то отобразим на карте все кафе, что поможет нам выбрать хорошее место"
   ]
  },
  {
   "cell_type": "code",
   "execution_count": 66,
   "metadata": {
    "colab": {
     "base_uri": "https://localhost:8080/",
     "height": 419
    },
    "executionInfo": {
     "elapsed": 223,
     "status": "ok",
     "timestamp": 1627832010585,
     "user": {
      "displayName": "Арсен",
      "photoUrl": "https://lh3.googleusercontent.com/a-/AOh14GjPCG8vWVVB43Ax1wpE_vEPLjGP-XH0UWc12vB7wg=s64",
      "userId": "17661651445996378067"
     },
     "user_tz": -180
    },
    "id": "vhX8mLvsoqcS",
    "outputId": "709dc0b9-da0a-457b-94f6-dfebbc0a06a1"
   },
   "outputs": [
    {
     "data": {
      "text/html": [
       "<div>\n",
       "<style scoped>\n",
       "    .dataframe tbody tr th:only-of-type {\n",
       "        vertical-align: middle;\n",
       "    }\n",
       "\n",
       "    .dataframe tbody tr th {\n",
       "        vertical-align: top;\n",
       "    }\n",
       "\n",
       "    .dataframe thead th {\n",
       "        text-align: right;\n",
       "    }\n",
       "</style>\n",
       "<table border=\"1\" class=\"dataframe\">\n",
       "  <thead>\n",
       "    <tr style=\"text-align: right;\">\n",
       "      <th></th>\n",
       "      <th>street</th>\n",
       "      <th>id</th>\n",
       "    </tr>\n",
       "  </thead>\n",
       "  <tbody>\n",
       "    <tr>\n",
       "      <th>944</th>\n",
       "      <td>проспект Мира</td>\n",
       "      <td>103</td>\n",
       "    </tr>\n",
       "    <tr>\n",
       "      <th>625</th>\n",
       "      <td>Пресненская набережная</td>\n",
       "      <td>98</td>\n",
       "    </tr>\n",
       "    <tr>\n",
       "      <th>632</th>\n",
       "      <td>Профсоюзная улица</td>\n",
       "      <td>87</td>\n",
       "    </tr>\n",
       "    <tr>\n",
       "      <th>428</th>\n",
       "      <td>Ленинградский проспект</td>\n",
       "      <td>70</td>\n",
       "    </tr>\n",
       "    <tr>\n",
       "      <th>430</th>\n",
       "      <td>Ленинский проспект</td>\n",
       "      <td>64</td>\n",
       "    </tr>\n",
       "    <tr>\n",
       "      <th>...</th>\n",
       "      <td>...</td>\n",
       "      <td>...</td>\n",
       "    </tr>\n",
       "    <tr>\n",
       "      <th>99</th>\n",
       "      <td>3-я Подрезковская улица</td>\n",
       "      <td>1</td>\n",
       "    </tr>\n",
       "    <tr>\n",
       "      <th>710</th>\n",
       "      <td>Солнечная аллея</td>\n",
       "      <td>1</td>\n",
       "    </tr>\n",
       "    <tr>\n",
       "      <th>715</th>\n",
       "      <td>Сосновая улица</td>\n",
       "      <td>1</td>\n",
       "    </tr>\n",
       "    <tr>\n",
       "      <th>716</th>\n",
       "      <td>Софийская набережная</td>\n",
       "      <td>1</td>\n",
       "    </tr>\n",
       "    <tr>\n",
       "      <th>0</th>\n",
       "      <td>1-й Автозаводский проезд</td>\n",
       "      <td>1</td>\n",
       "    </tr>\n",
       "  </tbody>\n",
       "</table>\n",
       "<p>1279 rows × 2 columns</p>\n",
       "</div>"
      ],
      "text/plain": [
       "                       street   id\n",
       "944             проспект Мира  103\n",
       "625    Пресненская набережная   98\n",
       "632         Профсоюзная улица   87\n",
       "428    Ленинградский проспект   70\n",
       "430        Ленинский проспект   64\n",
       "..                        ...  ...\n",
       "99    3-я Подрезковская улица    1\n",
       "710           Солнечная аллея    1\n",
       "715            Сосновая улица    1\n",
       "716      Софийская набережная    1\n",
       "0    1-й Автозаводский проезд    1\n",
       "\n",
       "[1279 rows x 2 columns]"
      ]
     },
     "execution_count": 66,
     "metadata": {},
     "output_type": "execute_result"
    }
   ],
   "source": [
    "cafe_data = (\n",
    "    rest_data\n",
    "        .query('object_type == \"кафе\"')\n",
    "        .groupby('street', as_index=False)\n",
    "        .agg({'id':'count'})\n",
    "        .sort_values(by='id', ascending=False)\n",
    ")\n",
    "\n",
    "cafe_data"
   ]
  },
  {
   "cell_type": "markdown",
   "metadata": {
    "id": "FknpkWpjoqcS"
   },
   "source": [
    "Координаты многих улиц у нас уже есть в датафрейме one_obj_street"
   ]
  },
  {
   "cell_type": "code",
   "execution_count": 67,
   "metadata": {
    "colab": {
     "base_uri": "https://localhost:8080/",
     "height": 419
    },
    "executionInfo": {
     "elapsed": 223,
     "status": "ok",
     "timestamp": 1627831975686,
     "user": {
      "displayName": "Арсен",
      "photoUrl": "https://lh3.googleusercontent.com/a-/AOh14GjPCG8vWVVB43Ax1wpE_vEPLjGP-XH0UWc12vB7wg=s64",
      "userId": "17661651445996378067"
     },
     "user_tz": -180
    },
    "id": "VluK-Ee0oqcS",
    "outputId": "963e764f-45b9-4935-b75f-4613254bf513"
   },
   "outputs": [
    {
     "data": {
      "text/html": [
       "<div>\n",
       "<style scoped>\n",
       "    .dataframe tbody tr th:only-of-type {\n",
       "        vertical-align: middle;\n",
       "    }\n",
       "\n",
       "    .dataframe tbody tr th {\n",
       "        vertical-align: top;\n",
       "    }\n",
       "\n",
       "    .dataframe thead th {\n",
       "        text-align: right;\n",
       "    }\n",
       "</style>\n",
       "<table border=\"1\" class=\"dataframe\">\n",
       "  <thead>\n",
       "    <tr style=\"text-align: right;\">\n",
       "      <th></th>\n",
       "      <th>street</th>\n",
       "      <th>longitude</th>\n",
       "      <th>latitude</th>\n",
       "      <th>region</th>\n",
       "      <th>district</th>\n",
       "    </tr>\n",
       "  </thead>\n",
       "  <tbody>\n",
       "    <tr>\n",
       "      <th>0</th>\n",
       "      <td>1-й Балтийский переулок</td>\n",
       "      <td>37.518560</td>\n",
       "      <td>55.809762</td>\n",
       "      <td>Центральный федеральный округ</td>\n",
       "      <td>район Аэропорт</td>\n",
       "    </tr>\n",
       "    <tr>\n",
       "      <th>1</th>\n",
       "      <td>1-й Басманный переулок</td>\n",
       "      <td>37.663458</td>\n",
       "      <td>55.770978</td>\n",
       "      <td>Центральный федеральный округ</td>\n",
       "      <td>Басманный район</td>\n",
       "    </tr>\n",
       "    <tr>\n",
       "      <th>3</th>\n",
       "      <td>1-й Ботанический проезд</td>\n",
       "      <td>37.634218</td>\n",
       "      <td>55.849565</td>\n",
       "      <td>Центральный федеральный округ</td>\n",
       "      <td>район Свиблово</td>\n",
       "    </tr>\n",
       "    <tr>\n",
       "      <th>4</th>\n",
       "      <td>1-й Вешняковский проезд</td>\n",
       "      <td>37.788567</td>\n",
       "      <td>55.724631</td>\n",
       "      <td>Центральный федеральный округ</td>\n",
       "      <td>Рязанский район</td>\n",
       "    </tr>\n",
       "    <tr>\n",
       "      <th>5</th>\n",
       "      <td>1-й Голутвинский переулок</td>\n",
       "      <td>37.612326</td>\n",
       "      <td>55.738287</td>\n",
       "      <td>Центральный федеральный округ</td>\n",
       "      <td>район Якиманка</td>\n",
       "    </tr>\n",
       "    <tr>\n",
       "      <th>...</th>\n",
       "      <td>...</td>\n",
       "      <td>...</td>\n",
       "      <td>...</td>\n",
       "      <td>...</td>\n",
       "      <td>...</td>\n",
       "    </tr>\n",
       "    <tr>\n",
       "      <th>643</th>\n",
       "      <td>улица Шумилова</td>\n",
       "      <td>37.774310</td>\n",
       "      <td>55.708394</td>\n",
       "      <td>Центральный федеральный округ</td>\n",
       "      <td>район Кузьминки</td>\n",
       "    </tr>\n",
       "    <tr>\n",
       "      <th>644</th>\n",
       "      <td>улица Шумкина</td>\n",
       "      <td>37.669594</td>\n",
       "      <td>55.788216</td>\n",
       "      <td>Центральный федеральный округ</td>\n",
       "      <td>район Сокольники</td>\n",
       "    </tr>\n",
       "    <tr>\n",
       "      <th>645</th>\n",
       "      <td>улица Щорса</td>\n",
       "      <td>37.406064</td>\n",
       "      <td>55.645934</td>\n",
       "      <td>Центральный федеральный округ</td>\n",
       "      <td>район Солнцево</td>\n",
       "    </tr>\n",
       "    <tr>\n",
       "      <th>646</th>\n",
       "      <td>улица Энгельса</td>\n",
       "      <td>37.688081</td>\n",
       "      <td>55.775641</td>\n",
       "      <td>Центральный федеральный округ</td>\n",
       "      <td>Басманный район</td>\n",
       "    </tr>\n",
       "    <tr>\n",
       "      <th>647</th>\n",
       "      <td>шоссе Фрезер</td>\n",
       "      <td>37.735818</td>\n",
       "      <td>55.739134</td>\n",
       "      <td>Центральный федеральный округ</td>\n",
       "      <td>Нижегородский район</td>\n",
       "    </tr>\n",
       "  </tbody>\n",
       "</table>\n",
       "<p>564 rows × 5 columns</p>\n",
       "</div>"
      ],
      "text/plain": [
       "                        street  longitude   latitude  \\\n",
       "0      1-й Балтийский переулок  37.518560  55.809762   \n",
       "1       1-й Басманный переулок  37.663458  55.770978   \n",
       "3      1-й Ботанический проезд  37.634218  55.849565   \n",
       "4      1-й Вешняковский проезд  37.788567  55.724631   \n",
       "5    1-й Голутвинский переулок  37.612326  55.738287   \n",
       "..                         ...        ...        ...   \n",
       "643             улица Шумилова  37.774310  55.708394   \n",
       "644              улица Шумкина  37.669594  55.788216   \n",
       "645                улица Щорса  37.406064  55.645934   \n",
       "646             улица Энгельса  37.688081  55.775641   \n",
       "647               шоссе Фрезер  37.735818  55.739134   \n",
       "\n",
       "                            region             district  \n",
       "0    Центральный федеральный округ       район Аэропорт  \n",
       "1    Центральный федеральный округ      Басманный район  \n",
       "3    Центральный федеральный округ       район Свиблово  \n",
       "4    Центральный федеральный округ      Рязанский район  \n",
       "5    Центральный федеральный округ       район Якиманка  \n",
       "..                             ...                  ...  \n",
       "643  Центральный федеральный округ      район Кузьминки  \n",
       "644  Центральный федеральный округ     район Сокольники  \n",
       "645  Центральный федеральный округ       район Солнцево  \n",
       "646  Центральный федеральный округ      Басманный район  \n",
       "647  Центральный федеральный округ  Нижегородский район  \n",
       "\n",
       "[564 rows x 5 columns]"
      ]
     },
     "execution_count": 67,
     "metadata": {},
     "output_type": "execute_result"
    }
   ],
   "source": [
    "one_obj_street"
   ]
  },
  {
   "cell_type": "code",
   "execution_count": 68,
   "metadata": {
    "colab": {
     "base_uri": "https://localhost:8080/",
     "height": 419
    },
    "executionInfo": {
     "elapsed": 372,
     "status": "ok",
     "timestamp": 1627831979663,
     "user": {
      "displayName": "Арсен",
      "photoUrl": "https://lh3.googleusercontent.com/a-/AOh14GjPCG8vWVVB43Ax1wpE_vEPLjGP-XH0UWc12vB7wg=s64",
      "userId": "17661651445996378067"
     },
     "user_tz": -180
    },
    "id": "NCIk8hf0oqcS",
    "outputId": "e0121fb8-f4ab-4bac-cf17-4ea31f20ac90"
   },
   "outputs": [
    {
     "data": {
      "text/html": [
       "<div>\n",
       "<style scoped>\n",
       "    .dataframe tbody tr th:only-of-type {\n",
       "        vertical-align: middle;\n",
       "    }\n",
       "\n",
       "    .dataframe tbody tr th {\n",
       "        vertical-align: top;\n",
       "    }\n",
       "\n",
       "    .dataframe thead th {\n",
       "        text-align: right;\n",
       "    }\n",
       "</style>\n",
       "<table border=\"1\" class=\"dataframe\">\n",
       "  <thead>\n",
       "    <tr style=\"text-align: right;\">\n",
       "      <th></th>\n",
       "      <th>street</th>\n",
       "      <th>id</th>\n",
       "      <th>longitude</th>\n",
       "      <th>latitude</th>\n",
       "    </tr>\n",
       "  </thead>\n",
       "  <tbody>\n",
       "    <tr>\n",
       "      <th>0</th>\n",
       "      <td>проспект Мира</td>\n",
       "      <td>103</td>\n",
       "      <td>NaN</td>\n",
       "      <td>NaN</td>\n",
       "    </tr>\n",
       "    <tr>\n",
       "      <th>1</th>\n",
       "      <td>Пресненская набережная</td>\n",
       "      <td>98</td>\n",
       "      <td>NaN</td>\n",
       "      <td>NaN</td>\n",
       "    </tr>\n",
       "    <tr>\n",
       "      <th>2</th>\n",
       "      <td>Профсоюзная улица</td>\n",
       "      <td>87</td>\n",
       "      <td>NaN</td>\n",
       "      <td>NaN</td>\n",
       "    </tr>\n",
       "    <tr>\n",
       "      <th>3</th>\n",
       "      <td>Ленинградский проспект</td>\n",
       "      <td>70</td>\n",
       "      <td>NaN</td>\n",
       "      <td>NaN</td>\n",
       "    </tr>\n",
       "    <tr>\n",
       "      <th>4</th>\n",
       "      <td>Ленинский проспект</td>\n",
       "      <td>64</td>\n",
       "      <td>NaN</td>\n",
       "      <td>NaN</td>\n",
       "    </tr>\n",
       "    <tr>\n",
       "      <th>...</th>\n",
       "      <td>...</td>\n",
       "      <td>...</td>\n",
       "      <td>...</td>\n",
       "      <td>...</td>\n",
       "    </tr>\n",
       "    <tr>\n",
       "      <th>1274</th>\n",
       "      <td>3-я Подрезковская улица</td>\n",
       "      <td>1</td>\n",
       "      <td>37.353701</td>\n",
       "      <td>55.940961</td>\n",
       "    </tr>\n",
       "    <tr>\n",
       "      <th>1275</th>\n",
       "      <td>Солнечная аллея</td>\n",
       "      <td>1</td>\n",
       "      <td>37.194717</td>\n",
       "      <td>55.980709</td>\n",
       "    </tr>\n",
       "    <tr>\n",
       "      <th>1276</th>\n",
       "      <td>Сосновая улица</td>\n",
       "      <td>1</td>\n",
       "      <td>NaN</td>\n",
       "      <td>NaN</td>\n",
       "    </tr>\n",
       "    <tr>\n",
       "      <th>1277</th>\n",
       "      <td>Софийская набережная</td>\n",
       "      <td>1</td>\n",
       "      <td>37.617977</td>\n",
       "      <td>55.747875</td>\n",
       "    </tr>\n",
       "    <tr>\n",
       "      <th>1278</th>\n",
       "      <td>1-й Автозаводский проезд</td>\n",
       "      <td>1</td>\n",
       "      <td>NaN</td>\n",
       "      <td>NaN</td>\n",
       "    </tr>\n",
       "  </tbody>\n",
       "</table>\n",
       "<p>1279 rows × 4 columns</p>\n",
       "</div>"
      ],
      "text/plain": [
       "                        street   id  longitude   latitude\n",
       "0                проспект Мира  103        NaN        NaN\n",
       "1       Пресненская набережная   98        NaN        NaN\n",
       "2            Профсоюзная улица   87        NaN        NaN\n",
       "3       Ленинградский проспект   70        NaN        NaN\n",
       "4           Ленинский проспект   64        NaN        NaN\n",
       "...                        ...  ...        ...        ...\n",
       "1274   3-я Подрезковская улица    1  37.353701  55.940961\n",
       "1275           Солнечная аллея    1  37.194717  55.980709\n",
       "1276            Сосновая улица    1        NaN        NaN\n",
       "1277      Софийская набережная    1  37.617977  55.747875\n",
       "1278  1-й Автозаводский проезд    1        NaN        NaN\n",
       "\n",
       "[1279 rows x 4 columns]"
      ]
     },
     "execution_count": 68,
     "metadata": {},
     "output_type": "execute_result"
    }
   ],
   "source": [
    "cafe_data = pd.merge(cafe_data, one_obj_street[['street', 'longitude', 'latitude']], on='street', how='left')\n",
    "cafe_data"
   ]
  },
  {
   "cell_type": "code",
   "execution_count": 69,
   "metadata": {
    "colab": {
     "base_uri": "https://localhost:8080/",
     "height": 419
    },
    "executionInfo": {
     "elapsed": 9,
     "status": "ok",
     "timestamp": 1627831979664,
     "user": {
      "displayName": "Арсен",
      "photoUrl": "https://lh3.googleusercontent.com/a-/AOh14GjPCG8vWVVB43Ax1wpE_vEPLjGP-XH0UWc12vB7wg=s64",
      "userId": "17661651445996378067"
     },
     "user_tz": -180
    },
    "id": "Vshtnhm7oqcS",
    "outputId": "9a0488b9-a830-4ed7-b510-bfe6ecbbe91e"
   },
   "outputs": [
    {
     "data": {
      "text/html": [
       "<div>\n",
       "<style scoped>\n",
       "    .dataframe tbody tr th:only-of-type {\n",
       "        vertical-align: middle;\n",
       "    }\n",
       "\n",
       "    .dataframe tbody tr th {\n",
       "        vertical-align: top;\n",
       "    }\n",
       "\n",
       "    .dataframe thead th {\n",
       "        text-align: right;\n",
       "    }\n",
       "</style>\n",
       "<table border=\"1\" class=\"dataframe\">\n",
       "  <thead>\n",
       "    <tr style=\"text-align: right;\">\n",
       "      <th></th>\n",
       "      <th>street</th>\n",
       "      <th>id</th>\n",
       "      <th>longitude</th>\n",
       "      <th>latitude</th>\n",
       "    </tr>\n",
       "  </thead>\n",
       "  <tbody>\n",
       "    <tr>\n",
       "      <th>750</th>\n",
       "      <td>1-й Митинский переулок</td>\n",
       "      <td>1</td>\n",
       "      <td>37.378692</td>\n",
       "      <td>55.845446</td>\n",
       "    </tr>\n",
       "    <tr>\n",
       "      <th>756</th>\n",
       "      <td>проезд Досфлота</td>\n",
       "      <td>1</td>\n",
       "      <td>37.457834</td>\n",
       "      <td>55.845567</td>\n",
       "    </tr>\n",
       "    <tr>\n",
       "      <th>757</th>\n",
       "      <td>2-й Новоподмосковный переулок</td>\n",
       "      <td>1</td>\n",
       "      <td>37.509757</td>\n",
       "      <td>55.818114</td>\n",
       "    </tr>\n",
       "    <tr>\n",
       "      <th>764</th>\n",
       "      <td>1-я Боевская улица</td>\n",
       "      <td>1</td>\n",
       "      <td>37.693282</td>\n",
       "      <td>55.791830</td>\n",
       "    </tr>\n",
       "    <tr>\n",
       "      <th>765</th>\n",
       "      <td>улица Полины Осипенко</td>\n",
       "      <td>1</td>\n",
       "      <td>37.532825</td>\n",
       "      <td>55.779216</td>\n",
       "    </tr>\n",
       "    <tr>\n",
       "      <th>...</th>\n",
       "      <td>...</td>\n",
       "      <td>...</td>\n",
       "      <td>...</td>\n",
       "      <td>...</td>\n",
       "    </tr>\n",
       "    <tr>\n",
       "      <th>1269</th>\n",
       "      <td>Спортивная улица</td>\n",
       "      <td>1</td>\n",
       "      <td>37.668471</td>\n",
       "      <td>55.609736</td>\n",
       "    </tr>\n",
       "    <tr>\n",
       "      <th>1270</th>\n",
       "      <td>3-я Северная линия</td>\n",
       "      <td>1</td>\n",
       "      <td>37.552534</td>\n",
       "      <td>55.942368</td>\n",
       "    </tr>\n",
       "    <tr>\n",
       "      <th>1274</th>\n",
       "      <td>3-я Подрезковская улица</td>\n",
       "      <td>1</td>\n",
       "      <td>37.353701</td>\n",
       "      <td>55.940961</td>\n",
       "    </tr>\n",
       "    <tr>\n",
       "      <th>1275</th>\n",
       "      <td>Солнечная аллея</td>\n",
       "      <td>1</td>\n",
       "      <td>37.194717</td>\n",
       "      <td>55.980709</td>\n",
       "    </tr>\n",
       "    <tr>\n",
       "      <th>1277</th>\n",
       "      <td>Софийская набережная</td>\n",
       "      <td>1</td>\n",
       "      <td>37.617977</td>\n",
       "      <td>55.747875</td>\n",
       "    </tr>\n",
       "  </tbody>\n",
       "</table>\n",
       "<p>161 rows × 4 columns</p>\n",
       "</div>"
      ],
      "text/plain": [
       "                             street  id  longitude   latitude\n",
       "750          1-й Митинский переулок   1  37.378692  55.845446\n",
       "756                 проезд Досфлота   1  37.457834  55.845567\n",
       "757   2-й Новоподмосковный переулок   1  37.509757  55.818114\n",
       "764              1-я Боевская улица   1  37.693282  55.791830\n",
       "765           улица Полины Осипенко   1  37.532825  55.779216\n",
       "...                             ...  ..        ...        ...\n",
       "1269               Спортивная улица   1  37.668471  55.609736\n",
       "1270             3-я Северная линия   1  37.552534  55.942368\n",
       "1274        3-я Подрезковская улица   1  37.353701  55.940961\n",
       "1275                Солнечная аллея   1  37.194717  55.980709\n",
       "1277           Софийская набережная   1  37.617977  55.747875\n",
       "\n",
       "[161 rows x 4 columns]"
      ]
     },
     "execution_count": 69,
     "metadata": {},
     "output_type": "execute_result"
    }
   ],
   "source": [
    "cafe_data.query('longitude == longitude')"
   ]
  },
  {
   "cell_type": "markdown",
   "metadata": {
    "id": "LD0mXZVUoqcS"
   },
   "source": [
    "Ага, оказывается не так уж и много... \n",
    "\n",
    "Остальное тогда вытащу, используя api геокодера"
   ]
  },
  {
   "cell_type": "markdown",
   "metadata": {
    "id": "-aJnTimtoqcS"
   },
   "source": [
    "**запускать не нужно**"
   ]
  },
  {
   "cell_type": "code",
   "execution_count": null,
   "metadata": {
    "colab": {
     "background_save": true
    },
    "id": "HieCLKy-oqcT"
   },
   "outputs": [],
   "source": [
    "tqdm.pandas()\n",
    "\n",
    "cafe_data[['longitude', 'latitude']] = cafe_data.query('longitude != longitude').progress_apply(get_location_yandexgeo_2, axis=1)"
   ]
  },
  {
   "cell_type": "code",
   "execution_count": null,
   "metadata": {
    "colab": {
     "background_save": true
    },
    "id": "rzYFiC6_oqcT"
   },
   "outputs": [],
   "source": [
    "cafe_data.to_csv('cafe_data.csv', encoding='utf-8', index=False)"
   ]
  },
  {
   "cell_type": "markdown",
   "metadata": {
    "id": "0D21F35ooqcT"
   },
   "source": [
    "**вот отсюда**"
   ]
  },
  {
   "cell_type": "code",
   "execution_count": 70,
   "metadata": {
    "id": "aaRPgKpiydfE"
   },
   "outputs": [],
   "source": [
    "url = 'https://drive.google.com/file/d/18Hd2xlbBEkZH4cxXIAJJwNUVUrSJrBXp/view?usp=sharing'\n",
    "path = 'https://drive.google.com/uc?export=download&id='+url.split('/')[-2]\n",
    "cafe_data = pd.read_csv(path)"
   ]
  },
  {
   "cell_type": "code",
   "execution_count": 71,
   "metadata": {
    "colab": {
     "base_uri": "https://localhost:8080/",
     "height": 419
    },
    "executionInfo": {
     "elapsed": 12,
     "status": "ok",
     "timestamp": 1627832241983,
     "user": {
      "displayName": "Арсен",
      "photoUrl": "https://lh3.googleusercontent.com/a-/AOh14GjPCG8vWVVB43Ax1wpE_vEPLjGP-XH0UWc12vB7wg=s64",
      "userId": "17661651445996378067"
     },
     "user_tz": -180
    },
    "id": "Ob2KVJcIoqcT",
    "outputId": "b87fe993-931a-46c6-8c2a-e901d65e03cf"
   },
   "outputs": [
    {
     "data": {
      "text/html": [
       "<div>\n",
       "<style scoped>\n",
       "    .dataframe tbody tr th:only-of-type {\n",
       "        vertical-align: middle;\n",
       "    }\n",
       "\n",
       "    .dataframe tbody tr th {\n",
       "        vertical-align: top;\n",
       "    }\n",
       "\n",
       "    .dataframe thead th {\n",
       "        text-align: right;\n",
       "    }\n",
       "</style>\n",
       "<table border=\"1\" class=\"dataframe\">\n",
       "  <thead>\n",
       "    <tr style=\"text-align: right;\">\n",
       "      <th></th>\n",
       "      <th>street</th>\n",
       "      <th>id</th>\n",
       "      <th>longitude</th>\n",
       "      <th>latitude</th>\n",
       "    </tr>\n",
       "  </thead>\n",
       "  <tbody>\n",
       "    <tr>\n",
       "      <th>0</th>\n",
       "      <td>проспект Мира</td>\n",
       "      <td>103</td>\n",
       "      <td>37.637937</td>\n",
       "      <td>55.812368</td>\n",
       "    </tr>\n",
       "    <tr>\n",
       "      <th>1</th>\n",
       "      <td>Пресненская набережная</td>\n",
       "      <td>98</td>\n",
       "      <td>37.540991</td>\n",
       "      <td>55.746791</td>\n",
       "    </tr>\n",
       "    <tr>\n",
       "      <th>2</th>\n",
       "      <td>Профсоюзная улица</td>\n",
       "      <td>87</td>\n",
       "      <td>37.532511</td>\n",
       "      <td>55.649525</td>\n",
       "    </tr>\n",
       "    <tr>\n",
       "      <th>3</th>\n",
       "      <td>Ленинградский проспект</td>\n",
       "      <td>70</td>\n",
       "      <td>37.545635</td>\n",
       "      <td>55.794285</td>\n",
       "    </tr>\n",
       "    <tr>\n",
       "      <th>4</th>\n",
       "      <td>Ленинский проспект</td>\n",
       "      <td>64</td>\n",
       "      <td>37.537146</td>\n",
       "      <td>55.682630</td>\n",
       "    </tr>\n",
       "    <tr>\n",
       "      <th>...</th>\n",
       "      <td>...</td>\n",
       "      <td>...</td>\n",
       "      <td>...</td>\n",
       "      <td>...</td>\n",
       "    </tr>\n",
       "    <tr>\n",
       "      <th>1274</th>\n",
       "      <td>Фитарёвская улица</td>\n",
       "      <td>1</td>\n",
       "      <td>37.480606</td>\n",
       "      <td>55.567107</td>\n",
       "    </tr>\n",
       "    <tr>\n",
       "      <th>1275</th>\n",
       "      <td>Коптевский бульвар</td>\n",
       "      <td>1</td>\n",
       "      <td>NaN</td>\n",
       "      <td>NaN</td>\n",
       "    </tr>\n",
       "    <tr>\n",
       "      <th>1276</th>\n",
       "      <td>Флотская улица</td>\n",
       "      <td>1</td>\n",
       "      <td>37.498267</td>\n",
       "      <td>55.853026</td>\n",
       "    </tr>\n",
       "    <tr>\n",
       "      <th>1277</th>\n",
       "      <td>Конюшковская улица</td>\n",
       "      <td>1</td>\n",
       "      <td>37.577427</td>\n",
       "      <td>55.755996</td>\n",
       "    </tr>\n",
       "    <tr>\n",
       "      <th>1278</th>\n",
       "      <td>1-й Автозаводский проезд</td>\n",
       "      <td>1</td>\n",
       "      <td>37.656631</td>\n",
       "      <td>55.704915</td>\n",
       "    </tr>\n",
       "  </tbody>\n",
       "</table>\n",
       "<p>1279 rows × 4 columns</p>\n",
       "</div>"
      ],
      "text/plain": [
       "                        street   id  longitude   latitude\n",
       "0                проспект Мира  103  37.637937  55.812368\n",
       "1       Пресненская набережная   98  37.540991  55.746791\n",
       "2            Профсоюзная улица   87  37.532511  55.649525\n",
       "3       Ленинградский проспект   70  37.545635  55.794285\n",
       "4           Ленинский проспект   64  37.537146  55.682630\n",
       "...                        ...  ...        ...        ...\n",
       "1274         Фитарёвская улица    1  37.480606  55.567107\n",
       "1275        Коптевский бульвар    1        NaN        NaN\n",
       "1276            Флотская улица    1  37.498267  55.853026\n",
       "1277        Конюшковская улица    1  37.577427  55.755996\n",
       "1278  1-й Автозаводский проезд    1  37.656631  55.704915\n",
       "\n",
       "[1279 rows x 4 columns]"
      ]
     },
     "execution_count": 71,
     "metadata": {},
     "output_type": "execute_result"
    }
   ],
   "source": [
    "cafe_data"
   ]
  },
  {
   "cell_type": "markdown",
   "metadata": {
    "id": "eEdLhxvYoqcT"
   },
   "source": [
    "Функция значит заменила на NaN те 160 строк, что мы заполнили мерджем, так что опять замерджим"
   ]
  },
  {
   "cell_type": "code",
   "execution_count": 72,
   "metadata": {
    "colab": {
     "base_uri": "https://localhost:8080/",
     "height": 419
    },
    "executionInfo": {
     "elapsed": 7,
     "status": "ok",
     "timestamp": 1627832243310,
     "user": {
      "displayName": "Арсен",
      "photoUrl": "https://lh3.googleusercontent.com/a-/AOh14GjPCG8vWVVB43Ax1wpE_vEPLjGP-XH0UWc12vB7wg=s64",
      "userId": "17661651445996378067"
     },
     "user_tz": -180
    },
    "id": "fU6tSmP0oqcT",
    "outputId": "95635afd-f23a-4118-acc0-6287e9ad2b47"
   },
   "outputs": [
    {
     "data": {
      "text/html": [
       "<div>\n",
       "<style scoped>\n",
       "    .dataframe tbody tr th:only-of-type {\n",
       "        vertical-align: middle;\n",
       "    }\n",
       "\n",
       "    .dataframe tbody tr th {\n",
       "        vertical-align: top;\n",
       "    }\n",
       "\n",
       "    .dataframe thead th {\n",
       "        text-align: right;\n",
       "    }\n",
       "</style>\n",
       "<table border=\"1\" class=\"dataframe\">\n",
       "  <thead>\n",
       "    <tr style=\"text-align: right;\">\n",
       "      <th></th>\n",
       "      <th>street</th>\n",
       "      <th>id</th>\n",
       "      <th>longitude_x</th>\n",
       "      <th>latitude_x</th>\n",
       "      <th>longitude_y</th>\n",
       "      <th>latitude_y</th>\n",
       "    </tr>\n",
       "  </thead>\n",
       "  <tbody>\n",
       "    <tr>\n",
       "      <th>0</th>\n",
       "      <td>проспект Мира</td>\n",
       "      <td>103</td>\n",
       "      <td>37.637937</td>\n",
       "      <td>55.812368</td>\n",
       "      <td>NaN</td>\n",
       "      <td>NaN</td>\n",
       "    </tr>\n",
       "    <tr>\n",
       "      <th>1</th>\n",
       "      <td>Пресненская набережная</td>\n",
       "      <td>98</td>\n",
       "      <td>37.540991</td>\n",
       "      <td>55.746791</td>\n",
       "      <td>NaN</td>\n",
       "      <td>NaN</td>\n",
       "    </tr>\n",
       "    <tr>\n",
       "      <th>2</th>\n",
       "      <td>Профсоюзная улица</td>\n",
       "      <td>87</td>\n",
       "      <td>37.532511</td>\n",
       "      <td>55.649525</td>\n",
       "      <td>NaN</td>\n",
       "      <td>NaN</td>\n",
       "    </tr>\n",
       "    <tr>\n",
       "      <th>3</th>\n",
       "      <td>Ленинградский проспект</td>\n",
       "      <td>70</td>\n",
       "      <td>37.545635</td>\n",
       "      <td>55.794285</td>\n",
       "      <td>NaN</td>\n",
       "      <td>NaN</td>\n",
       "    </tr>\n",
       "    <tr>\n",
       "      <th>4</th>\n",
       "      <td>Ленинский проспект</td>\n",
       "      <td>64</td>\n",
       "      <td>37.537146</td>\n",
       "      <td>55.682630</td>\n",
       "      <td>NaN</td>\n",
       "      <td>NaN</td>\n",
       "    </tr>\n",
       "    <tr>\n",
       "      <th>...</th>\n",
       "      <td>...</td>\n",
       "      <td>...</td>\n",
       "      <td>...</td>\n",
       "      <td>...</td>\n",
       "      <td>...</td>\n",
       "      <td>...</td>\n",
       "    </tr>\n",
       "    <tr>\n",
       "      <th>1274</th>\n",
       "      <td>Фитарёвская улица</td>\n",
       "      <td>1</td>\n",
       "      <td>37.480606</td>\n",
       "      <td>55.567107</td>\n",
       "      <td>NaN</td>\n",
       "      <td>NaN</td>\n",
       "    </tr>\n",
       "    <tr>\n",
       "      <th>1275</th>\n",
       "      <td>Коптевский бульвар</td>\n",
       "      <td>1</td>\n",
       "      <td>NaN</td>\n",
       "      <td>NaN</td>\n",
       "      <td>37.525154</td>\n",
       "      <td>55.831069</td>\n",
       "    </tr>\n",
       "    <tr>\n",
       "      <th>1276</th>\n",
       "      <td>Флотская улица</td>\n",
       "      <td>1</td>\n",
       "      <td>37.498267</td>\n",
       "      <td>55.853026</td>\n",
       "      <td>NaN</td>\n",
       "      <td>NaN</td>\n",
       "    </tr>\n",
       "    <tr>\n",
       "      <th>1277</th>\n",
       "      <td>Конюшковская улица</td>\n",
       "      <td>1</td>\n",
       "      <td>37.577427</td>\n",
       "      <td>55.755996</td>\n",
       "      <td>NaN</td>\n",
       "      <td>NaN</td>\n",
       "    </tr>\n",
       "    <tr>\n",
       "      <th>1278</th>\n",
       "      <td>1-й Автозаводский проезд</td>\n",
       "      <td>1</td>\n",
       "      <td>37.656631</td>\n",
       "      <td>55.704915</td>\n",
       "      <td>NaN</td>\n",
       "      <td>NaN</td>\n",
       "    </tr>\n",
       "  </tbody>\n",
       "</table>\n",
       "<p>1279 rows × 6 columns</p>\n",
       "</div>"
      ],
      "text/plain": [
       "                        street   id  longitude_x  latitude_x  longitude_y  \\\n",
       "0                проспект Мира  103    37.637937   55.812368          NaN   \n",
       "1       Пресненская набережная   98    37.540991   55.746791          NaN   \n",
       "2            Профсоюзная улица   87    37.532511   55.649525          NaN   \n",
       "3       Ленинградский проспект   70    37.545635   55.794285          NaN   \n",
       "4           Ленинский проспект   64    37.537146   55.682630          NaN   \n",
       "...                        ...  ...          ...         ...          ...   \n",
       "1274         Фитарёвская улица    1    37.480606   55.567107          NaN   \n",
       "1275        Коптевский бульвар    1          NaN         NaN    37.525154   \n",
       "1276            Флотская улица    1    37.498267   55.853026          NaN   \n",
       "1277        Конюшковская улица    1    37.577427   55.755996          NaN   \n",
       "1278  1-й Автозаводский проезд    1    37.656631   55.704915          NaN   \n",
       "\n",
       "      latitude_y  \n",
       "0            NaN  \n",
       "1            NaN  \n",
       "2            NaN  \n",
       "3            NaN  \n",
       "4            NaN  \n",
       "...          ...  \n",
       "1274         NaN  \n",
       "1275   55.831069  \n",
       "1276         NaN  \n",
       "1277         NaN  \n",
       "1278         NaN  \n",
       "\n",
       "[1279 rows x 6 columns]"
      ]
     },
     "execution_count": 72,
     "metadata": {},
     "output_type": "execute_result"
    }
   ],
   "source": [
    "cafe_data = pd.merge(cafe_data, one_obj_street[['street', 'longitude', 'latitude']], on='street', how='left')\n",
    "cafe_data"
   ]
  },
  {
   "cell_type": "code",
   "execution_count": 73,
   "metadata": {
    "id": "ubJMjz-HWboc"
   },
   "outputs": [
    {
     "data": {
      "text/html": [
       "<div>\n",
       "<style scoped>\n",
       "    .dataframe tbody tr th:only-of-type {\n",
       "        vertical-align: middle;\n",
       "    }\n",
       "\n",
       "    .dataframe tbody tr th {\n",
       "        vertical-align: top;\n",
       "    }\n",
       "\n",
       "    .dataframe thead th {\n",
       "        text-align: right;\n",
       "    }\n",
       "</style>\n",
       "<table border=\"1\" class=\"dataframe\">\n",
       "  <thead>\n",
       "    <tr style=\"text-align: right;\">\n",
       "      <th></th>\n",
       "      <th>street</th>\n",
       "      <th>id</th>\n",
       "      <th>longitude</th>\n",
       "      <th>latitude</th>\n",
       "    </tr>\n",
       "  </thead>\n",
       "  <tbody>\n",
       "    <tr>\n",
       "      <th>0</th>\n",
       "      <td>проспект Мира</td>\n",
       "      <td>103</td>\n",
       "      <td>37.637937</td>\n",
       "      <td>55.812368</td>\n",
       "    </tr>\n",
       "    <tr>\n",
       "      <th>1</th>\n",
       "      <td>Пресненская набережная</td>\n",
       "      <td>98</td>\n",
       "      <td>37.540991</td>\n",
       "      <td>55.746791</td>\n",
       "    </tr>\n",
       "    <tr>\n",
       "      <th>2</th>\n",
       "      <td>Профсоюзная улица</td>\n",
       "      <td>87</td>\n",
       "      <td>37.532511</td>\n",
       "      <td>55.649525</td>\n",
       "    </tr>\n",
       "    <tr>\n",
       "      <th>3</th>\n",
       "      <td>Ленинградский проспект</td>\n",
       "      <td>70</td>\n",
       "      <td>37.545635</td>\n",
       "      <td>55.794285</td>\n",
       "    </tr>\n",
       "    <tr>\n",
       "      <th>4</th>\n",
       "      <td>Ленинский проспект</td>\n",
       "      <td>64</td>\n",
       "      <td>37.537146</td>\n",
       "      <td>55.682630</td>\n",
       "    </tr>\n",
       "    <tr>\n",
       "      <th>...</th>\n",
       "      <td>...</td>\n",
       "      <td>...</td>\n",
       "      <td>...</td>\n",
       "      <td>...</td>\n",
       "    </tr>\n",
       "    <tr>\n",
       "      <th>1274</th>\n",
       "      <td>Фитарёвская улица</td>\n",
       "      <td>1</td>\n",
       "      <td>37.480606</td>\n",
       "      <td>55.567107</td>\n",
       "    </tr>\n",
       "    <tr>\n",
       "      <th>1275</th>\n",
       "      <td>Коптевский бульвар</td>\n",
       "      <td>1</td>\n",
       "      <td>37.525154</td>\n",
       "      <td>55.831069</td>\n",
       "    </tr>\n",
       "    <tr>\n",
       "      <th>1276</th>\n",
       "      <td>Флотская улица</td>\n",
       "      <td>1</td>\n",
       "      <td>37.498267</td>\n",
       "      <td>55.853026</td>\n",
       "    </tr>\n",
       "    <tr>\n",
       "      <th>1277</th>\n",
       "      <td>Конюшковская улица</td>\n",
       "      <td>1</td>\n",
       "      <td>37.577427</td>\n",
       "      <td>55.755996</td>\n",
       "    </tr>\n",
       "    <tr>\n",
       "      <th>1278</th>\n",
       "      <td>1-й Автозаводский проезд</td>\n",
       "      <td>1</td>\n",
       "      <td>37.656631</td>\n",
       "      <td>55.704915</td>\n",
       "    </tr>\n",
       "  </tbody>\n",
       "</table>\n",
       "<p>1279 rows × 4 columns</p>\n",
       "</div>"
      ],
      "text/plain": [
       "                        street   id  longitude   latitude\n",
       "0                проспект Мира  103  37.637937  55.812368\n",
       "1       Пресненская набережная   98  37.540991  55.746791\n",
       "2            Профсоюзная улица   87  37.532511  55.649525\n",
       "3       Ленинградский проспект   70  37.545635  55.794285\n",
       "4           Ленинский проспект   64  37.537146  55.682630\n",
       "...                        ...  ...        ...        ...\n",
       "1274         Фитарёвская улица    1  37.480606  55.567107\n",
       "1275        Коптевский бульвар    1  37.525154  55.831069\n",
       "1276            Флотская улица    1  37.498267  55.853026\n",
       "1277        Конюшковская улица    1  37.577427  55.755996\n",
       "1278  1-й Автозаводский проезд    1  37.656631  55.704915\n",
       "\n",
       "[1279 rows x 4 columns]"
      ]
     },
     "execution_count": 73,
     "metadata": {},
     "output_type": "execute_result"
    }
   ],
   "source": [
    "cafe_data = (\n",
    "    cafe_data\n",
    "        .fillna(\n",
    "            {'longitude_x':cafe_data['longitude_y'],\n",
    "             'latitude_x':cafe_data['latitude_y']})\n",
    "        .drop(\n",
    "            columns=['longitude_y', 'latitude_y'])\n",
    "        .rename(columns={'longitude_x':'longitude',\n",
    "                         'latitude_x':'latitude'})\n",
    ")\n",
    "\n",
    "cafe_data"
   ]
  },
  {
   "cell_type": "markdown",
   "metadata": {
    "id": "RXR_XqUYoqcU"
   },
   "source": [
    "Датафрейм готов"
   ]
  },
  {
   "cell_type": "code",
   "execution_count": 74,
   "metadata": {
    "colab": {
     "base_uri": "https://localhost:8080/",
     "height": 915
    },
    "executionInfo": {
     "elapsed": 395,
     "status": "ok",
     "timestamp": 1627832367867,
     "user": {
      "displayName": "Арсен",
      "photoUrl": "https://lh3.googleusercontent.com/a-/AOh14GjPCG8vWVVB43Ax1wpE_vEPLjGP-XH0UWc12vB7wg=s64",
      "userId": "17661651445996378067"
     },
     "user_tz": -180
    },
    "id": "YAG3JiZ4oqcU",
    "outputId": "c1912f23-1e21-40e2-d4b9-f97a9d168b2a",
    "scrolled": false
   },
   "outputs": [
    {
     "data": {
      "text/html": [
       "<div style=\"width:100%;\"><div style=\"position:relative;width:100%;height:0;padding-bottom:60%;\"><span style=\"color:#565656\">Make this Notebook Trusted to load map: File -> Trust Notebook</span><iframe src=\"about:blank\" style=\"position:absolute;width:100%;height:100%;left:0;top:0;border:none !important;\" data-html=%3C%21DOCTYPE%20html%3E%0A%3Chead%3E%20%20%20%20%0A%20%20%20%20%3Cmeta%20http-equiv%3D%22content-type%22%20content%3D%22text/html%3B%20charset%3DUTF-8%22%20/%3E%0A%20%20%20%20%0A%20%20%20%20%20%20%20%20%3Cscript%3E%0A%20%20%20%20%20%20%20%20%20%20%20%20L_NO_TOUCH%20%3D%20false%3B%0A%20%20%20%20%20%20%20%20%20%20%20%20L_DISABLE_3D%20%3D%20false%3B%0A%20%20%20%20%20%20%20%20%3C/script%3E%0A%20%20%20%20%0A%20%20%20%20%3Cstyle%3Ehtml%2C%20body%20%7Bwidth%3A%20100%25%3Bheight%3A%20100%25%3Bmargin%3A%200%3Bpadding%3A%200%3B%7D%3C/style%3E%0A%20%20%20%20%3Cstyle%3E%23map%20%7Bposition%3Aabsolute%3Btop%3A0%3Bbottom%3A0%3Bright%3A0%3Bleft%3A0%3B%7D%3C/style%3E%0A%20%20%20%20%3Cscript%20src%3D%22https%3A//cdn.jsdelivr.net/npm/leaflet%401.6.0/dist/leaflet.js%22%3E%3C/script%3E%0A%20%20%20%20%3Cscript%20src%3D%22https%3A//code.jquery.com/jquery-1.12.4.min.js%22%3E%3C/script%3E%0A%20%20%20%20%3Cscript%20src%3D%22https%3A//maxcdn.bootstrapcdn.com/bootstrap/3.2.0/js/bootstrap.min.js%22%3E%3C/script%3E%0A%20%20%20%20%3Cscript%20src%3D%22https%3A//cdnjs.cloudflare.com/ajax/libs/Leaflet.awesome-markers/2.0.2/leaflet.awesome-markers.js%22%3E%3C/script%3E%0A%20%20%20%20%3Clink%20rel%3D%22stylesheet%22%20href%3D%22https%3A//cdn.jsdelivr.net/npm/leaflet%401.6.0/dist/leaflet.css%22/%3E%0A%20%20%20%20%3Clink%20rel%3D%22stylesheet%22%20href%3D%22https%3A//maxcdn.bootstrapcdn.com/bootstrap/3.2.0/css/bootstrap.min.css%22/%3E%0A%20%20%20%20%3Clink%20rel%3D%22stylesheet%22%20href%3D%22https%3A//maxcdn.bootstrapcdn.com/bootstrap/3.2.0/css/bootstrap-theme.min.css%22/%3E%0A%20%20%20%20%3Clink%20rel%3D%22stylesheet%22%20href%3D%22https%3A//maxcdn.bootstrapcdn.com/font-awesome/4.6.3/css/font-awesome.min.css%22/%3E%0A%20%20%20%20%3Clink%20rel%3D%22stylesheet%22%20href%3D%22https%3A//cdnjs.cloudflare.com/ajax/libs/Leaflet.awesome-markers/2.0.2/leaflet.awesome-markers.css%22/%3E%0A%20%20%20%20%3Clink%20rel%3D%22stylesheet%22%20href%3D%22https%3A//cdn.jsdelivr.net/gh/python-visualization/folium/folium/templates/leaflet.awesome.rotate.min.css%22/%3E%0A%20%20%20%20%0A%20%20%20%20%20%20%20%20%20%20%20%20%3Cmeta%20name%3D%22viewport%22%20content%3D%22width%3Ddevice-width%2C%0A%20%20%20%20%20%20%20%20%20%20%20%20%20%20%20%20initial-scale%3D1.0%2C%20maximum-scale%3D1.0%2C%20user-scalable%3Dno%22%20/%3E%0A%20%20%20%20%20%20%20%20%20%20%20%20%3Cstyle%3E%0A%20%20%20%20%20%20%20%20%20%20%20%20%20%20%20%20%23map_4966a31d27854343a1b400307f08582f%20%7B%0A%20%20%20%20%20%20%20%20%20%20%20%20%20%20%20%20%20%20%20%20position%3A%20relative%3B%0A%20%20%20%20%20%20%20%20%20%20%20%20%20%20%20%20%20%20%20%20width%3A%20100.0%25%3B%0A%20%20%20%20%20%20%20%20%20%20%20%20%20%20%20%20%20%20%20%20height%3A%20100.0%25%3B%0A%20%20%20%20%20%20%20%20%20%20%20%20%20%20%20%20%20%20%20%20left%3A%200.0%25%3B%0A%20%20%20%20%20%20%20%20%20%20%20%20%20%20%20%20%20%20%20%20top%3A%200.0%25%3B%0A%20%20%20%20%20%20%20%20%20%20%20%20%20%20%20%20%7D%0A%20%20%20%20%20%20%20%20%20%20%20%20%3C/style%3E%0A%20%20%20%20%20%20%20%20%0A%20%20%20%20%3Cscript%20src%3D%22https%3A//cdn.jsdelivr.net/gh/python-visualization/folium%40master/folium/templates/leaflet_heat.min.js%22%3E%3C/script%3E%0A%3C/head%3E%0A%3Cbody%3E%20%20%20%20%0A%20%20%20%20%0A%20%20%20%20%20%20%20%20%20%20%20%20%3Cdiv%20class%3D%22folium-map%22%20id%3D%22map_4966a31d27854343a1b400307f08582f%22%20%3E%3C/div%3E%0A%20%20%20%20%20%20%20%20%0A%3C/body%3E%0A%3Cscript%3E%20%20%20%20%0A%20%20%20%20%0A%20%20%20%20%20%20%20%20%20%20%20%20var%20map_4966a31d27854343a1b400307f08582f%20%3D%20L.map%28%0A%20%20%20%20%20%20%20%20%20%20%20%20%20%20%20%20%22map_4966a31d27854343a1b400307f08582f%22%2C%0A%20%20%20%20%20%20%20%20%20%20%20%20%20%20%20%20%7B%0A%20%20%20%20%20%20%20%20%20%20%20%20%20%20%20%20%20%20%20%20center%3A%20%5B55.755819%2C%2037.617644%5D%2C%0A%20%20%20%20%20%20%20%20%20%20%20%20%20%20%20%20%20%20%20%20crs%3A%20L.CRS.EPSG3857%2C%0A%20%20%20%20%20%20%20%20%20%20%20%20%20%20%20%20%20%20%20%20zoom%3A%2011%2C%0A%20%20%20%20%20%20%20%20%20%20%20%20%20%20%20%20%20%20%20%20zoomControl%3A%20true%2C%0A%20%20%20%20%20%20%20%20%20%20%20%20%20%20%20%20%20%20%20%20preferCanvas%3A%20false%2C%0A%20%20%20%20%20%20%20%20%20%20%20%20%20%20%20%20%7D%0A%20%20%20%20%20%20%20%20%20%20%20%20%29%3B%0A%0A%20%20%20%20%20%20%20%20%20%20%20%20%0A%0A%20%20%20%20%20%20%20%20%0A%20%20%20%20%0A%20%20%20%20%20%20%20%20%20%20%20%20var%20tile_layer_67daeabad02c451cbe5625908bf9a337%20%3D%20L.tileLayer%28%0A%20%20%20%20%20%20%20%20%20%20%20%20%20%20%20%20%22https%3A//%7Bs%7D.tile.openstreetmap.org/%7Bz%7D/%7Bx%7D/%7By%7D.png%22%2C%0A%20%20%20%20%20%20%20%20%20%20%20%20%20%20%20%20%7B%22attribution%22%3A%20%22Data%20by%20%5Cu0026copy%3B%20%5Cu003ca%20href%3D%5C%22http%3A//openstreetmap.org%5C%22%5Cu003eOpenStreetMap%5Cu003c/a%5Cu003e%2C%20under%20%5Cu003ca%20href%3D%5C%22http%3A//www.openstreetmap.org/copyright%5C%22%5Cu003eODbL%5Cu003c/a%5Cu003e.%22%2C%20%22detectRetina%22%3A%20false%2C%20%22maxNativeZoom%22%3A%2018%2C%20%22maxZoom%22%3A%2018%2C%20%22minZoom%22%3A%200%2C%20%22noWrap%22%3A%20false%2C%20%22opacity%22%3A%201%2C%20%22subdomains%22%3A%20%22abc%22%2C%20%22tms%22%3A%20false%7D%0A%20%20%20%20%20%20%20%20%20%20%20%20%29.addTo%28map_4966a31d27854343a1b400307f08582f%29%3B%0A%20%20%20%20%20%20%20%20%0A%20%20%20%20%0A%20%20%20%20%20%20%20%20%20%20%20%20var%20heat_map_c14e9c7ff7b8440b9d90a21d0f0256e9%20%3D%20L.heatLayer%28%0A%20%20%20%20%20%20%20%20%20%20%20%20%20%20%20%20%5B%5B55.812368%2C%2037.637937%5D%2C%20%5B55.746791%2C%2037.540991%5D%2C%20%5B55.649525%2C%2037.532511%5D%2C%20%5B55.794285%2C%2037.545635%5D%2C%20%5B55.68263%2C%2037.537146%5D%2C%20%5B55.599804%2C%2037.603963%5D%2C%20%5B55.70984%2C%2037.655769%5D%2C%20%5B55.753316%2C%2037.656236%5D%2C%20%5B55.785007%2C%2037.531541%5D%2C%20%5B55.883944%2C%2037.441925%5D%2C%20%5B55.792893%2C%2037.610395%5D%2C%20%5B55.681671%2C%2037.515353%5D%2C%20%5B55.645619%2C%2037.519%5D%2C%20%5B55.737841%2C%2037.628137%5D%2C%20%5B55.759664%2C%2037.647711%5D%2C%20%5B55.775905%2C%2037.671022%5D%2C%20%5B55.604778%2C%2037.758958%5D%2C%20%5B55.752658%2C%2037.587227%5D%2C%20%5B55.735013%2C%2037.50911%5D%2C%20%5B55.764658%2C%2037.636805%5D%2C%20%5B55.749486%2C%2037.591485%5D%2C%20%5B55.720798%2C%2037.617608%5D%2C%20%5B55.744303%2C%2037.507232%5D%2C%20%5B55.757642%2C%2037.635036%5D%2C%20%5B55.88149%2C%2037.58658%5D%2C%20%5B55.763923%2C%2037.606442%5D%2C%20%5B55.694114%2C%2037.565955%5D%2C%20%5B55.758949%2C%2037.620681%5D%2C%20%5B55.866101%2C%2037.703047%5D%2C%20%5B55.726827%2C%2037.568623%5D%2C%20%5B55.680224%2C%2037.738216%5D%2C%20%5B55.766638%2C%2037.626663%5D%2C%20%5B55.875935%2C%2037.547728%5D%2C%20%5B55.785741%2C%2037.594899%5D%2C%20%5B55.762363%2C%2037.61362%5D%2C%20%5B55.641249%2C%2037.683203%5D%2C%20%5B55.719419%2C%2037.609182%5D%2C%20%5B55.67659%2C%2037.663045%5D%2C%20%5B55.73923%2C%2037.413781%5D%2C%20%5B55.780147%2C%2037.590964%5D%2C%20%5B55.755819%2C%2037.617644%5D%2C%20%5B55.777474%2C%2037.526636%5D%2C%20%5B55.770476%2C%2037.622199%5D%2C%20%5B55.781129%2C%2037.74066%5D%2C%20%5B55.693043%2C%2037.49047%5D%2C%20%5B55.810081%2C%2037.795645%5D%2C%20%5B55.753757%2C%2037.558805%5D%2C%20%5B55.532829%2C%2037.532744%5D%2C%20%5B55.725544%2C%2037.580041%5D%2C%20%5B55.7617%2C%2037.570986%5D%2C%20%5B55.844581%2C%2037.502911%5D%2C%20%5B55.730867%2C%2037.638773%5D%2C%20%5B55.739737%2C%2037.664303%5D%2C%20%5B55.740715%2C%2037.502354%5D%2C%20%5B55.805948%2C%2037.587596%5D%2C%20%5B55.704098%2C%2037.651699%5D%2C%20%5B55.863752%2C%2037.606029%5D%2C%20%5B55.613163%2C%2037.731488%5D%2C%20%5B55.755758%2C%2037.61468%5D%2C%20%5B55.541601%2C%2037.489239%5D%2C%20%5B55.818645%2C%2037.745978%5D%2C%20%5B55.773641%2C%2037.589805%5D%2C%20%5B55.843641%2C%2037.439284%5D%2C%20%5B55.757536%2C%2037.598438%5D%2C%20%5B55.736154%2C%2037.700568%5D%2C%20%5B55.683625%2C%2037.590883%5D%2C%20%5B55.606716%2C%2037.530274%5D%2C%20%5B55.845375%2C%2037.363879%5D%2C%20%5B55.673311%2C%2037.463062%5D%2C%20%5B55.65887%2C%2037.573627%5D%2C%20%5B55.755819%2C%2037.617644%5D%2C%20%5B55.769666%2C%2037.632215%5D%2C%20%5B55.821618%2C%2037.444503%5D%2C%20%5B55.793116%2C%2037.792807%5D%2C%20%5B55.743988%2C%2037.567455%5D%2C%20%5B55.614455%2C%2037.605023%5D%2C%20%5B55.761907%2C%2037.62148%5D%2C%20%5B55.795995%2C%2037.488718%5D%2C%20%5B55.569026%2C%2037.489787%5D%2C%20%5B55.707644%2C%2037.749283%5D%2C%20%5B55.762632%2C%2037.641989%5D%2C%20%5B55.782167%2C%2037.601663%5D%2C%20%5B55.710022%2C%2037.595869%5D%2C%20%5B55.745164%2C%2037.636572%5D%2C%20%5B55.837879%2C%2037.636455%5D%2C%20%5B55.859357%2C%2037.484074%5D%2C%20%5B55.790393%2C%2037.679008%5D%2C%20%5B55.680818%2C%2037.56768%5D%2C%20%5B55.762642%2C%2037.595043%5D%2C%20%5B55.709485%2C%2037.675047%5D%2C%20%5B55.723288%2C%2037.626888%5D%2C%20%5B55.707375%2C%2037.621291%5D%2C%20%5B55.658667%2C%2037.759461%5D%2C%20%5B55.824359%2C%2037.618138%5D%2C%20%5B55.769509%2C%2037.58137%5D%2C%20%5B55.801141%2C%2037.585242%5D%2C%20%5B55.719353%2C%2037.781183%5D%2C%20%5B55.678103%2C%2037.776008%5D%2C%20%5B55.854694%2C%2037.451141%5D%2C%20%5B55.762981%2C%2037.623501%5D%2C%20%5B55.783149%2C%2037.662686%5D%2C%20%5B55.761447%2C%2037.662731%5D%2C%20%5B55.786617%2C%2037.579888%5D%2C%20%5B55.782086%2C%2037.709039%5D%2C%20%5B55.746968%2C%2037.417904%5D%2C%20%5B55.775317%2C%2037.655598%5D%2C%20%5B55.869733%2C%2037.664662%5D%2C%20%5B55.766364%2C%2037.609505%5D%2C%20%5B55.799887%2C%2037.582044%5D%2C%20%5B55.83935%2C%2037.493003%5D%2C%20%5B55.679143%2C%2037.644127%5D%2C%20%5B55.763088%2C%2037.620016%5D%2C%20%5B55.753402%2C%2037.583391%5D%2C%20%5B55.755794%2C%2037.635323%5D%2C%20%5B55.69729%2C%2037.529268%5D%2C%20%5B55.730497%2C%2037.63102%5D%2C%20%5B55.765012%2C%2037.616458%5D%2C%20%5B55.757106%2C%2037.565102%5D%2C%20%5B55.84863%2C%2037.370581%5D%2C%20%5B55.752541%2C%2037.639842%5D%2C%20%5B55.737715%2C%2037.66176%5D%2C%20%5B55.756229%2C%2037.506029%5D%2C%20%5B55.770654%2C%2037.679008%5D%2C%20%5B55.782309%2C%2037.58022%5D%2C%20%5B55.78118%2C%2037.62943%5D%2C%20%5B55.753605%2C%2037.621094%5D%2C%20%5B55.720474%2C%2037.622387%5D%2C%20%5B55.664543%2C%2037.473483%5D%2C%20%5B55.782542%2C%2037.719747%5D%2C%20%5B55.619442%2C%2037.59392%5D%2C%20%5B55.757192%2C%2037.622522%5D%2C%20%5B55.821674%2C%2037.607412%5D%2C%20%5B55.767398%2C%2037.59303%5D%2C%20%5B55.771525%2C%2037.683554%5D%2C%20%5B55.793465%2C%2037.692393%5D%2C%20%5B55.757992%2C%2037.407465%5D%2C%20%5B55.778558%2C%2037.663638%5D%2C%20%5B55.752592%2C%2037.753982%5D%2C%20%5B55.822018%2C%2037.648474%5D%2C%20%5B55.703916%2C%2037.702706%5D%2C%20%5B55.625465%2C%2037.306872%5D%2C%20%5B55.762844%2C%2037.774903%5D%2C%20%5B55.897902%2C%2037.604717%5D%2C%20%5B55.809252%2C%2037.527292%5D%2C%20%5B55.816212%2C%2037.798259%5D%2C%20%5B55.727567%2C%2037.631146%5D%2C%20%5B55.687112%2C%2037.576187%5D%2C%20%5B55.742113%2C%2037.86531%5D%2C%20%5B55.720443%2C%2037.65284%5D%2C%20%5B55.65462%2C%2037.393748%5D%2C%20%5B55.889073%2C%2037.596848%5D%2C%20%5B55.809934%2C%2037.703748%5D%2C%20%5B55.714926%2C%2037.5145%5D%2C%20%5B55.729731%2C%2037.645169%5D%2C%20%5B55.670727%2C%2037.58464%5D%2C%20%5B55.688152%2C%2037.851458%5D%2C%20%5B55.751634%2C%2037.717115%5D%2C%20%5B55.721747%2C%2037.648124%5D%2C%20%5B55.726056%2C%2037.644396%5D%2C%20%5B55.736235%2C%2037.659811%5D%2C%20%5B55.641671%2C%2037.655616%5D%2C%20%5B55.762637%2C%2037.587389%5D%2C%20%5B55.800134%2C%2037.583778%5D%2C%20%5B55.780684%2C%2037.607493%5D%2C%20%5B55.85241%2C%2037.646947%5D%2C%20%5B55.766491%2C%2037.663207%5D%2C%20%5B55.557526%2C%2037.435295%5D%2C%20%5B55.761761%2C%2037.55946%5D%2C%20%5B55.621079%2C%2037.724059%5D%2C%20%5B55.724733%2C%2037.827491%5D%2C%20%5B55.876637%2C%2037.557637%5D%2C%20%5B55.743664%2C%2037.651035%5D%2C%20%5B55.67761%2C%2037.723295%5D%2C%20%5B55.756366%2C%2037.540748%5D%2C%20%5B55.568878%2C%2037.587614%5D%2C%20%5B55.756959%2C%2037.631739%5D%2C%20%5B55.775641%2C%2037.688081%5D%2C%20%5B55.72125%2C%2037.672504%5D%2C%20%5B55.760155%2C%2037.554906%5D%2C%20%5B55.613636%2C%2037.720915%5D%2C%20%5B55.648875%2C%2037.536616%5D%2C%20%5B55.735697%2C%2037.61371%5D%2C%20%5B55.735626%2C%2037.632457%5D%2C%20%5B55.736169%2C%2037.619441%5D%2C%20%5B55.75556%2C%2037.599507%5D%2C%20%5B55.654056%2C%2037.757135%5D%2C%20%5B55.840745%2C%2037.523222%5D%2C%20%5B55.890719%2C%2037.528639%5D%2C%20%5B55.776001%2C%2037.442518%5D%2C%20%5B55.873839%2C%2037.547827%5D%2C%20%5B55.832677%2C%2037.491988%5D%2C%20%5B55.7629%2C%2037.592339%5D%2C%20%5B55.799947%2C%2037.799068%5D%2C%20%5B55.794447%2C%2037.562595%5D%2C%20%5B55.79847%2C%2037.729862%5D%2C%20%5B55.756862%2C%2037.700927%5D%2C%20%5B55.74864%2C%2037.600352%5D%2C%20%5B55.736493%2C%2037.591611%5D%2C%20%5B55.740791%2C%2037.628487%5D%2C%20%5B55.762601%2C%2037.613566%5D%2C%20%5B55.758762%2C%2037.582924%5D%2C%20%5B55.742494%2C%2037.652409%5D%2C%20%5B55.859569%2C%2037.491548%5D%2C%20%5B55.707349%2C%2037.812013%5D%2C%20%5B55.853147%2C%2037.421659%5D%2C%20%5B55.647305%2C%2037.728442%5D%2C%20%5B55.792225%2C%2037.613207%5D%2C%20%5B55.866334%2C%2037.495006%5D%2C%20%5B55.864677%2C%2037.436454%5D%2C%20%5B55.773722%2C%2037.616629%5D%2C%20%5B55.752967%2C%2037.669567%5D%2C%20%5B55.742939%2C%2037.629978%5D%2C%20%5B55.763133%2C%2037.551663%5D%2C%20%5B55.734952%2C%2037.588269%5D%2C%20%5B55.762672%2C%2037.664096%5D%2C%20%5B55.742818%2C%2037.676646%5D%2C%20%5B55.791597%2C%2037.5781%5D%2C%20%5B55.675895%2C%2037.484406%5D%2C%20%5B55.660242%2C%2037.752661%5D%2C%20%5B55.771013%2C%2037.568722%5D%2C%20%5B55.86207%2C%2037.674256%5D%2C%20%5B55.702896%2C%2037.672711%5D%2C%20%5B55.802108%2C%2037.61574%5D%2C%20%5B55.638429%2C%2037.652912%5D%2C%20%5B55.711377%2C%2037.613548%5D%2C%20%5B55.746902%2C%2037.675118%5D%2C%20%5B55.689649%2C%2037.848969%5D%2C%20%5B55.752774%2C%2037.605634%5D%2C%20%5B55.746466%2C%2037.606092%5D%2C%20%5B55.723546%2C%2037.587847%5D%2C%20%5B55.769428%2C%2037.605661%5D%2C%20%5B55.771682%2C%2037.409999%5D%2C%20%5B55.75319%2C%2037.796678%5D%2C%20%5B55.783777%2C%2037.586841%5D%2C%20%5B55.78283%2C%2037.733177%5D%2C%20%5B55.770046%2C%2037.625298%5D%2C%20%5B55.612294%2C%2037.594297%5D%2C%20%5B55.569306%2C%2037.576025%5D%2C%20%5B55.776148%2C%2037.603002%5D%2C%20%5B55.541046%2C%2037.508095%5D%2C%20%5B55.679209%2C%2037.501528%5D%2C%20%5B55.693257%2C%2037.535907%5D%2C%20%5B55.529624%2C%2037.445752%5D%2C%20%5B55.762672%2C%2037.600522%5D%2C%20%5B55.835968%2C%2037.537847%5D%2C%20%5B55.659703%2C%2037.590749%5D%2C%20%5B55.697945%2C%2037.577687%5D%2C%20%5B55.767757%2C%2037.730419%5D%2C%20%5B55.776963%2C%2037.688081%5D%2C%20%5B55.672905%2C%2037.547836%5D%2C%20%5B55.656829%2C%2037.471722%5D%2C%20%5B55.574213%2C%2037.566216%5D%2C%20%5B55.774051%2C%2037.579771%5D%2C%20%5B55.568929%2C%2037.59992%5D%2C%20%5B55.752891%2C%2037.497989%5D%2C%20%5B55.747176%2C%2037.657485%5D%2C%20%5B55.880889%2C%2037.695286%5D%2C%20%5B55.78565%2C%2037.675891%5D%2C%20%5B55.752344%2C%2037.541341%5D%2C%20%5B55.740897%2C%2037.598043%5D%2C%20%5B55.824177%2C%2037.506073%5D%2C%20%5B55.656306%2C%2037.536068%5D%2C%20%5B55.675819%2C%2037.452732%5D%2C%20%5B55.848508%2C%2037.586976%5D%2C%20%5B55.759051%2C%2037.607206%5D%2C%20%5B55.766597%2C%2037.652418%5D%2C%20%5B55.4775%2C%2037.298581%5D%2C%20%5B55.802573%2C%2037.794307%5D%2C%20%5B55.739559%2C%2037.633437%5D%2C%20%5B55.78398%2C%2037.623133%5D%2C%20%5B55.716448%2C%2037.627678%5D%2C%20%5B55.79808%2C%2037.603199%5D%2C%20%5B55.759846%2C%2037.581631%5D%2C%20%5B55.795742%2C%2037.712524%5D%2C%20%5B55.637677%2C%2037.50999%5D%2C%20%5B55.843464%2C%2037.355264%5D%2C%20%5B55.546878%2C%2037.550558%5D%2C%20%5B55.71985%2C%2037.634847%5D%2C%20%5B55.595705%2C%2037.591413%5D%2C%20%5B55.761735%2C%2037.635233%5D%2C%20%5B55.853541%2C%2037.636446%5D%2C%20%5B55.760945%2C%2037.601987%5D%2C%20%5B55.83113%2C%2037.662308%5D%2C%20%5B55.682559%2C%2037.680472%5D%2C%20%5B55.763837%2C%2037.567779%5D%2C%20%5B55.733989%2C%2037.58667%5D%2C%20%5B55.751107%2C%2037.607565%5D%2C%20%5B55.718349%2C%2037.415083%5D%2C%20%5B55.887847%2C%2037.654403%5D%2C%20%5B55.622792%2C%2037.666674%5D%2C%20%5B55.698543%2C%2037.761617%5D%2C%20%5B55.809408%2C%2037.396515%5D%2C%20%5B55.738961%2C%2037.778497%5D%2C%20%5B55.714298%2C%2037.691953%5D%2C%20%5B55.731749%2C%2037.606164%5D%2C%20%5B55.737841%2C%2037.6244%5D%2C%20%5B55.771945%2C%2037.588853%5D%2C%20%5B55.737547%2C%2037.654879%5D%2C%20%5B55.82179%2C%2037.514392%5D%2C%20%5B55.734456%2C%2037.635907%5D%2C%20%5B55.72782%2C%2037.42386%5D%2C%20%5B55.873016%2C%2037.601295%5D%2C%20%5B55.613041%2C%2037.53596%5D%2C%20%5B55.542003%2C%2037.55301%5D%2C%20%5B55.624495%2C%2037.66689%5D%2C%20%5B55.706254%2C%2037.557547%5D%2C%20%5B55.78237%2C%2037.632026%5D%2C%20%5B55.741728%2C%2037.593974%5D%2C%20%5B55.62301%2C%2037.70302%5D%2C%20%5B55.810036%2C%2037.403962%5D%2C%20%5B55.813238%2C%2037.646157%5D%2C%20%5B55.38617%2C%2037.415568%5D%2C%20%5B55.770649%2C%2037.628918%5D%2C%20%5B55.756184%2C%2037.552534%5D%2C%20%5B55.72744%2C%2037.494216%5D%2C%20%5B55.874496%2C%2037.669351%5D%2C%20%5B55.677864%2C%2037.601645%5D%2C%20%5B55.746517%2C%2037.681092%5D%2C%20%5B55.77195%2C%2037.673789%5D%2C%20%5B55.715347%2C%2037.474004%5D%2C%20%5B55.819343%2C%2037.463691%5D%2C%20%5B55.77231%2C%2037.633868%5D%2C%20%5B55.570395%2C%2037.475495%5D%2C%20%5B55.776082%2C%2037.643507%5D%2C%20%5B55.8209%2C%2037.560287%5D%2C%20%5B55.701552%2C%2037.687875%5D%2C%20%5B55.734374%2C%2037.678191%5D%2C%20%5B55.700588%2C%2037.762273%5D%2C%20%5B55.872875%2C%2037.68518%5D%2C%20%5B55.65339%2C%2037.609083%5D%2C%20%5B55.808569%2C%2037.474318%5D%2C%20%5B55.776077%2C%2037.649696%5D%2C%20%5B55.673108%2C%2037.615219%5D%2C%20%5B55.759684%2C%2037.707296%5D%2C%20%5B55.731009%2C%2037.661608%5D%2C%20%5B55.536191%2C%2037.529007%5D%2C%20%5B55.739656%2C%2037.606047%5D%2C%20%5B55.73925%2C%2037.549327%5D%2C%20%5B55.605754%2C%2037.734012%5D%2C%20%5B55.591228%2C%2037.457996%5D%2C%20%5B55.851328%2C%2037.446039%5D%2C%20%5B55.767777%2C%2037.587578%5D%2C%20%5B55.893278%2C%2037.398994%5D%2C%20%5B55.758043%2C%2037.576025%5D%2C%20%5B55.874733%2C%2037.526896%5D%2C%20%5B55.601971%2C%2037.622073%5D%2C%20%5B55.739493%2C%2037.644315%5D%2C%20%5B55.635879%2C%2037.738486%5D%2C%20%5B55.886887%2C%2037.595016%5D%2C%20%5B55.886074%2C%2037.534119%5D%2C%20%5B55.761315%2C%2037.592231%5D%2C%20%5B55.843171%2C%2037.577103%5D%2C%20%5B55.610748%2C%2037.740372%5D%2C%20%5B55.776036%2C%2037.6926%5D%2C%20%5B55.76403%2C%2037.712012%5D%2C%20%5B55.655%2C%2037.759102%5D%2C%20%5B55.607183%2C%2037.458858%5D%2C%20%5B55.81126%2C%2037.773268%5D%2C%20%5B55.668239%2C%2037.534433%5D%2C%20%5B55.598838%2C%2037.607197%5D%2C%20%5B55.653131%2C%2037.598627%5D%2C%20%5B55.804122%2C%2037.601888%5D%2C%20%5B55.757663%2C%2037.819612%5D%2C%20%5B55.772512%2C%2037.589814%5D%2C%20%5B55.59075%2C%2037.664132%5D%2C%20%5B55.687269%2C%2037.666989%5D%2C%20%5B55.867895%2C%2037.470779%5D%2C%20%5B55.706964%2C%2037.40354%5D%2C%20%5B55.7479%2C%2037.582718%5D%2C%20%5B55.815747%2C%2037.516593%5D%2C%20%5B55.769732%2C%2037.659811%5D%2C%20%5B55.648819%2C%2037.514203%5D%2C%20%5B55.743593%2C%2037.6615%5D%2C%20%5B55.678494%2C%2037.633032%5D%2C%20%5B55.772694%2C%2037.596893%5D%2C%20%5B55.671351%2C%2037.752481%5D%2C%20%5B55.893687%2C%2037.391511%5D%2C%20%5B55.754132%2C%2037.608293%5D%2C%20%5B55.676879%2C%2037.700101%5D%2C%20%5B55.797761%2C%2037.697334%5D%2C%20%5B55.765073%2C%2037.701825%5D%2C%20%5B55.833405%2C%2037.520231%5D%2C%20%5B55.594591%2C%2037.608706%5D%2C%20%5B55.713136%2C%2037.647504%5D%2C%20%5B55.771373%2C%2037.648537%5D%2C%20%5B55.776862%2C%2037.607008%5D%2C%20%5B55.6766%2C%2037.671633%5D%2C%20%5B55.751193%2C%2037.685943%5D%2C%20%5B55.617378%2C%2037.781811%5D%2C%20%5B55.758575%2C%2037.832216%5D%2C%20%5B55.748919%2C%2037.585197%5D%2C%20%5B55.785356%2C%2037.482502%5D%2C%20%5B55.801394%2C%2037.491871%5D%2C%20%5B55.659668%2C%2037.718597%5D%2C%20%5B55.755444%2C%2037.59136%5D%2C%20%5B55.676418%2C%2037.484487%5D%2C%20%5B55.89823%2C%2037.571965%5D%2C%20%5B55.659825%2C%2037.786761%5D%2C%20%5B55.852753%2C%2037.38684%5D%2C%20%5B55.720413%2C%2037.629691%5D%2C%20%5B55.799416%2C%2037.566755%5D%2C%20%5B55.645375%2C%2037.651843%5D%2C%20%5B55.954491%2C%2037.374003%5D%2C%20%5B55.859883%2C%2037.663925%5D%2C%20%5B55.599468%2C%2037.747379%5D%2C%20%5B55.771388%2C%2037.601034%5D%2C%20%5B55.640157%2C%2037.349901%5D%2C%20%5B55.734582%2C%2037.752383%5D%2C%20%5B55.639222%2C%2037.799248%5D%2C%20%5B55.751163%2C%2037.784578%5D%2C%20%5B55.826862%2C%2037.448267%5D%2C%20%5B55.893652%2C%2037.402453%5D%2C%20%5B55.725929%2C%2037.670465%5D%2C%20%5B55.76209%2C%2037.605652%5D%2C%20%5B55.723181%2C%2037.567222%5D%2C%20%5B55.985347%2C%2037.171613%5D%2C%20%5B55.88712%2C%2037.700622%5D%2C%20%5B55.796633%2C%2037.802859%5D%2C%20%5B55.76365%2C%2037.632008%5D%2C%20%5B55.547382%2C%2037.555391%5D%2C%20%5B55.733792%2C%2037.411005%5D%2C%20%5B55.886978%2C%2037.612245%5D%2C%20%5B55.745939%2C%2037.582053%5D%2C%20%5B55.708577%2C%2037.887166%5D%2C%20%5B55.649652%2C%2037.405417%5D%2C%20%5B55.611628%2C%2037.298104%5D%2C%20%5B55.804091%2C%2037.495428%5D%2C%20%5B55.599886%2C%2037.539832%5D%2C%20%5B55.78481%2C%2037.709955%5D%2C%20%5B55.728104%2C%2037.568111%5D%2C%20%5B55.744379%2C%2037.864807%5D%2C%20%5B55.713785%2C%2037.887875%5D%2C%20%5B55.980754%2C%2037.175062%5D%2C%20%5B55.769398%2C%2037.590892%5D%2C%20%5B55.788976%2C%2037.60991%5D%2C%20%5B55.898942%2C%2037.387855%5D%2C%20%5B55.753291%2C%2037.661841%5D%2C%20%5B55.788717%2C%2037.600334%5D%2C%20%5B55.815312%2C%2037.599633%5D%2C%20%5B55.739645%2C%2037.616009%5D%2C%20%5B55.758509%2C%2037.591503%5D%2C%20%5B55.701993%2C%2037.850398%5D%2C%20%5B55.676154%2C%2037.574094%5D%2C%20%5B55.867571%2C%2037.611509%5D%2C%20%5B55.773813%2C%2037.649094%5D%2C%20%5B55.772234%2C%2037.663503%5D%2C%20%5B55.720763%2C%2037.55929%5D%2C%20%5B55.683315%2C%2037.921077%5D%2C%20%5B55.769524%2C%2037.602211%5D%2C%20%5B55.820212%2C%2037.546462%5D%2C%20%5B55.641158%2C%2037.34505%5D%2C%20%5B55.888518%2C%2037.396542%5D%2C%20%5B55.785711%2C%2037.641135%5D%2C%20%5B55.796228%2C%2037.521722%5D%2C%20%5B55.732058%2C%2037.57157%5D%2C%20%5B55.737385%2C%2037.724696%5D%2C%20%5B56.001816%2C%2037.209989%5D%2C%20%5B55.843586%2C%2037.437433%5D%2C%20%5B55.806454%2C%2037.524228%5D%2C%20%5B55.754517%2C%2037.606245%5D%2C%20%5B55.734653%2C%2037.567734%5D%2C%20%5B55.624195%2C%2037.492635%5D%2C%20%5B55.759319%2C%2037.677014%5D%2C%20%5B55.636412%2C%2037.594926%5D%2C%20%5B55.740512%2C%2037.621705%5D%2C%20%5B55.740796%2C%2037.666459%5D%2C%20%5B55.625704%2C%2037.719675%5D%2C%20%5B55.83433%2C%2037.593776%5D%2C%20%5B55.773064%2C%2037.596112%5D%2C%20%5B55.771494%2C%2037.587667%5D%2C%20%5B55.621567%2C%2037.434496%5D%2C%20%5B55.672884%2C%2037.748762%5D%2C%20%5B55.705163%2C%2037.503343%5D%2C%20%5B55.59514%2C%2037.359163%5D%2C%20%5B55.742869%2C%2037.614329%5D%2C%20%5B55.82136%2C%2037.652723%5D%2C%20%5B55.503288%2C%2037.535484%5D%2C%20%5B55.900057%2C%2037.573914%5D%2C%20%5B55.848897%2C%2037.537254%5D%2C%20%5B55.806272%2C%2037.537452%5D%2C%20%5B55.871314%2C%2037.696103%5D%2C%20%5B55.747535%2C%2037.625747%5D%2C%20%5B55.775575%2C%2037.594809%5D%2C%20%5B55.81692%2C%2037.802778%5D%2C%20%5B55.621841%2C%2037.657125%5D%2C%20%5B55.824926%2C%2037.516386%5D%2C%20%5B55.799765%2C%2037.575729%5D%2C%20%5B56.008329%2C%2037.182294%5D%2C%20%5B55.803074%2C%2037.552876%5D%2C%20%5B55.780324%2C%2037.558715%5D%2C%20%5B55.734856%2C%2037.560484%5D%2C%20%5B55.724535%2C%2037.564203%5D%2C%20%5B55.74332%2C%2037.609416%5D%2C%20%5B55.741059%2C%2037.609946%5D%2C%20%5B55.43085%2C%2037.275179%5D%2C%20%5B55.812787%2C%2037.719962%5D%2C%20%5B55.729174%2C%2037.61874%5D%2C%20%5B55.754046%2C%2037.679888%5D%2C%20%5B55.763442%2C%2037.628927%5D%2C%20%5B55.889588%2C%2037.527319%5D%2C%20%5B55.716651%2C%2037.61379%5D%2C%20%5B55.785964%2C%2037.513089%5D%2C%20%5B55.814937%2C%2037.628765%5D%2C%20%5B55.765392%2C%2037.592204%5D%2C%20%5B55.791496%2C%2037.664572%5D%2C%20%5B55.647417%2C%2037.71292%5D%2C%20%5B55.705006%2C%2037.615866%5D%2C%20%5B55.755753%2C%2037.41493%5D%2C%20%5B55.712046%2C%2037.776799%5D%2C%20%5B55.602927%2C%2037.729565%5D%2C%20%5B55.799036%2C%2037.782144%5D%2C%20%5B55.772239%2C%2037.580822%5D%2C%20%5B55.742863%2C%2037.670932%5D%2C%20%5B55.730096%2C%2037.618048%5D%2C%20%5B55.754096%2C%2037.777329%5D%2C%20%5B55.503497%2C%2037.559604%5D%2C%20%5B55.616712%2C%2037.204006%5D%2C%20%5B55.792377%2C%2037.454555%5D%2C%20%5B55.752891%2C%2037.497989%5D%2C%20%5B55.644892%2C%2037.624885%5D%2C%20%5B55.799117%2C%2037.787992%5D%2C%20%5B55.732271%2C%2037.582843%5D%2C%20%5B55.745473%2C%2037.631496%5D%2C%20%5B55.662796%2C%2037.772577%5D%2C%20%5B55.659109%2C%2037.594019%5D%2C%20%5B55.757678%2C%2037.628433%5D%2C%20%5B55.76252%2C%2037.599516%5D%2C%20%5B55.718091%2C%2037.80868%5D%2C%20%5B55.787325%2C%2037.580265%5D%2C%20%5B55.797468%2C%2037.513377%5D%2C%20%5B55.637307%2C%2037.364221%5D%2C%20%5B55.874713%2C%2037.511517%5D%2C%20%5B55.698477%2C%2037.625999%5D%2C%20%5B55.789208%2C%2037.659515%5D%2C%20%5B55.607519%2C%2037.655769%5D%2C%20%5B55.757521%2C%2037.616369%5D%2C%20%5B55.654691%2C%2037.70311%5D%2C%20%5B55.715099%2C%2037.788594%5D%2C%20%5B55.514233%2C%2037.355552%5D%2C%20%5B55.896817%2C%2037.61485%5D%2C%20%5B55.62483%2C%2037.753272%5D%2C%20%5B55.61874%2C%2037.667779%5D%2C%20%5B55.891214%2C%2037.577516%5D%2C%20%5B55.820202%2C%2037.816262%5D%2C%20%5B55.745813%2C%2037.784318%5D%2C%20%5B55.711772%2C%2037.643354%5D%2C%20%5B55.794583%2C%2037.670789%5D%2C%20%5B55.767544%2C%2037.617743%5D%2C%20%5B55.820212%2C%2037.546462%5D%2C%20%5B55.681158%2C%2037.449372%5D%2C%20%5B55.810177%2C%2037.469485%5D%2C%20%5B55.819403%2C%2037.707907%5D%2C%20%5B55.756584%2C%2037.647531%5D%2C%20%5B55.79644%2C%2037.616593%5D%2C%20%5B55.882207%2C%2037.639833%5D%2C%20%5B55.837257%2C%2037.414805%5D%2C%20%5B55.784061%2C%2037.558194%5D%2C%20%5B55.735307%2C%2037.670286%5D%2C%20%5B55.658012%2C%2037.730958%5D%2C%20%5B55.877632%2C%2037.520653%5D%2C%20%5B55.788738%2C%2037.611491%5D%2C%20%5B55.852799%2C%2037.348078%5D%2C%20%5B55.745929%2C%2037.562021%5D%2C%20%5B55.79804%2C%2037.608275%5D%2C%20%5B55.769205%2C%2037.47695%5D%2C%20%5B55.520767%2C%2037.346829%5D%2C%20%5B55.642266%2C%2037.591818%5D%2C%20%5B55.853638%2C%2037.619315%5D%2C%20%5B55.866687%2C%2037.638449%5D%2C%20%5B55.76486%2C%2037.40469%5D%2C%20%5B55.87645%2C%2037.684919%5D%2C%20%5B55.759962%2C%2037.613674%5D%2C%20%5B55.741267%2C%2037.650711%5D%2C%20%5B55.990106%2C%2037.18489%5D%2C%20%5B55.637992%2C%2037.761294%5D%2C%20%5B55.816283%2C%2037.620204%5D%2C%20%5B55.758438%2C%2037.787902%5D%2C%20%5B55.766076%2C%2037.557825%5D%2C%20%5B55.716321%2C%2037.888352%5D%2C%20%5B55.784516%2C%2037.599274%5D%2C%20%5B55.788763%2C%2037.673798%5D%2C%20%5B55.83662%2C%2037.451267%5D%2C%20%5B55.842666%2C%2037.57545%5D%2C%20%5B55.76331%2C%2037.677831%5D%2C%20%5B55.813%2C%2037.592482%5D%2C%20%5B55.687984%2C%2037.344493%5D%2C%20%5B55.64729%2C%2037.342715%5D%2C%20%5B55.720124%2C%2037.401267%5D%2C%20%5B55.596%2C%2037.512523%5D%2C%20%5B55.788571%2C%2037.586131%5D%2C%20%5B55.580752%2C%2037.640758%5D%2C%20%5B55.461757%2C%2037.298275%5D%2C%20%5B55.418584%2C%2037.399452%5D%2C%20%5B55.800155%2C%2037.818858%5D%2C%20%5B55.617988%2C%2037.672828%5D%2C%20%5B55.676895%2C%2037.761554%5D%2C%20%5B55.754988%2C%2037.666019%5D%2C%20%5B55.594229%2C%2037.672675%5D%2C%20%5B55.800129%2C%2037.827033%5D%2C%20%5B55.82491%2C%2037.565407%5D%2C%20%5B55.757951%2C%2037.609227%5D%2C%20%5B55.715003%2C%2037.617626%5D%2C%20%5B55.845471%2C%2037.580616%5D%2C%20%5B55.620047%2C%2037.75285%5D%2C%20%5B55.742316%2C%2037.620537%5D%2C%20%5B55.772289%2C%2037.541036%5D%2C%20%5B55.608709%2C%2037.299129%5D%2C%20%5B55.820212%2C%2037.546462%5D%2C%20%5B55.755018%2C%2037.622082%5D%2C%20%5B55.712061%2C%2037.59445%5D%2C%20%5B55.778679%2C%2037.599705%5D%2C%20%5B55.754547%2C%2037.660629%5D%2C%20%5B55.794614%2C%2037.399964%5D%2C%20%5B55.787902%2C%2037.57298%5D%2C%20%5B55.773099%2C%2037.630023%5D%2C%20%5B55.636773%2C%2037.326797%5D%2C%20%5B55.715996%2C%2037.856291%5D%2C%20%5B55.807182%2C%2037.543515%5D%2C%20%5B55.685046%2C%2037.661392%5D%2C%20%5B55.771413%2C%2037.616288%5D%2C%20%5B55.709444%2C%2037.614788%5D%2C%20%5B55.744754%2C%2037.486032%5D%2C%20%5B55.750423%2C%2037.664276%5D%2C%20%5B55.721174%2C%2037.612793%5D%2C%20%5B55.744455%2C%2037.61397%5D%2C%20%5B55.754142%2C%2037.603909%5D%2C%20%5B55.730177%2C%2037.808033%5D%2C%20%5B55.773191%2C%2037.526609%5D%2C%20%5B55.767939%2C%2037.627948%5D%2C%20%5B55.683138%2C%2037.456981%5D%2C%20%5B55.56561%2C%2037.586778%5D%2C%20%5B55.682605%2C%2037.543677%5D%2C%20%5B55.756006%2C%2037.571085%5D%2C%20%5B55.740639%2C%2037.576852%5D%2C%20%5B55.574716%2C%2037.617339%5D%2C%20%5B55.798353%2C%2037.709506%5D%2C%20%5B55.781722%2C%2037.584119%5D%2C%20%5B55.75551%2C%2037.602526%5D%2C%20%5B55.764394%2C%2037.595833%5D%2C%20%5B55.791223%2C%2037.810333%5D%2C%20%5B55.719201%2C%2037.604565%5D%2C%20%5B55.820212%2C%2037.546462%5D%2C%20%5B55.681767%2C%2037.695277%5D%2C%20%5B55.792043%2C%2037.715336%5D%2C%20%5B55.79973%2C%2037.674642%5D%2C%20%5B55.702404%2C%2037.470725%5D%2C%20%5B55.705762%2C%2037.596669%5D%2C%20%5B55.743553%2C%2037.629897%5D%2C%20%5B55.723151%2C%2037.663512%5D%2C%20%5B55.714627%2C%2037.671768%5D%2C%20%5B55.78769%2C%2037.733015%5D%2C%20%5B55.831135%2C%2037.592527%5D%2C%20%5B55.816192%2C%2037.659416%5D%2C%20%5B55.708861%2C%2037.657556%5D%2C%20%5B55.804724%2C%2037.399605%5D%2C%20%5B55.745676%2C%2037.673816%5D%2C%20%5B55.797898%2C%2037.489329%5D%2C%20%5B55.78849%2C%2037.47695%5D%2C%20%5B55.75395%2C%2037.6342%5D%2C%20%5B55.77955%2C%2037.570249%5D%2C%20%5B55.827515%2C%2037.435807%5D%2C%20%5B55.882399%2C%2037.660341%5D%2C%20%5B55.813334%2C%2037.456558%5D%2C%20%5B55.831044%2C%2037.354698%5D%2C%20%5B55.749719%2C%2037.650406%5D%2C%20%5B55.755819%2C%2037.617644%5D%2C%20%5B55.684889%2C%2037.855285%5D%2C%20%5B55.742939%2C%2037.637308%5D%2C%20%5B55.763787%2C%2037.651744%5D%2C%20%5B55.42944%2C%2036.867111%5D%2C%20%5B55.868864%2C%2037.669639%5D%2C%20%5B55.634105%2C%2037.328459%5D%2C%20%5B55.763721%2C%2037.751071%5D%2C%20%5B55.767499%2C%2037.831506%5D%2C%20%5B55.618176%2C%2037.487335%5D%2C%20%5B55.755819%2C%2037.617644%5D%2C%20%5B55.720231%2C%2037.870403%5D%2C%20%5B55.781489%2C%2037.615686%5D%2C%20%5B55.791324%2C%2037.710701%5D%2C%20%5B55.795808%2C%2037.676493%5D%2C%20%5B55.605353%2C%2037.70355%5D%2C%20%5B55.856189%2C%2037.644351%5D%2C%20%5B55.802523%2C%2037.727023%5D%2C%20%5B55.536181%2C%2037.515003%5D%2C%20%5B55.81039%2C%2037.631999%5D%2C%20%5B55.762257%2C%2037.594306%5D%2C%20%5B55.776467%2C%2037.583562%5D%2C%20%5B55.654564%2C%2037.577795%5D%2C%20%5B55.811665%2C%2037.57263%5D%2C%20%5B55.836691%2C%2037.405777%5D%2C%20%5B55.766152%2C%2037.634703%5D%2C%20%5B55.682001%2C%2037.773107%5D%2C%20%5B55.71909%2C%2037.557843%5D%2C%20%5B55.409717%2C%2037.186866%5D%2C%20%5B55.417368%2C%2037.409325%5D%2C%20%5B55.707223%2C%2037.808851%5D%2C%20%5B55.823338%2C%2037.657251%5D%2C%20%5B55.771575%2C%2037.610296%5D%2C%20%5B55.87091%2C%2037.637964%5D%2C%20%5B55.798652%2C%2037.765866%5D%2C%20%5B55.576599%2C%2037.583679%5D%2C%20%5B55.651851%2C%2037.567869%5D%2C%20%5B55.82089%2C%2037.499156%5D%2C%20%5B55.684067%2C%2037.571076%5D%2C%20%5B55.753554%2C%2037.700658%5D%2C%20%5B55.747317%2C%2037.592509%5D%2C%20%5B55.760342%2C%2037.797595%5D%2C%20%5B55.48576%2C%2037.499318%5D%2C%20%5B55.320888%2C%2037.158425%5D%2C%20%5B55.814608%2C%2037.407843%5D%2C%20%5B55.629994%2C%2037.476375%5D%2C%20%5B55.658876%2C%2037.488808%5D%2C%20%5B55.534872%2C%2037.455067%5D%2C%20%5B55.731855%2C%2037.638907%5D%2C%20%5B55.592179%2C%2037.458103%5D%2C%20%5B55.663832%2C%2037.550244%5D%2C%20%5B55.83893%2C%2037.652777%5D%2C%20%5B55.710109%2C%2037.518021%5D%2C%20%5B55.676778%2C%2037.517563%5D%2C%20%5B55.742671%2C%2037.663126%5D%2C%20%5B55.848781%2C%2037.420976%5D%2C%20%5B55.652095%2C%2037.41423%5D%2C%20%5B55.768886%2C%2037.628433%5D%2C%20%5B55.767372%2C%2037.62219%5D%2C%20%5B55.63283%2C%2037.485394%5D%2C%20%5B55.436484%2C%2036.967408%5D%2C%20%5B55.494339%2C%2037.328818%5D%2C%20%5B55.723328%2C%2037.57139%5D%2C%20%5B55.762363%2C%2037.61362%5D%2C%20%5B55.629308%2C%2037.449875%5D%2C%20%5B55.748868%2C%2037.56432%5D%2C%20%5B55.706371%2C%2037.794199%5D%2C%20%5B55.73513%2C%2037.617096%5D%2C%20%5B55.741156%2C%2037.653748%5D%2C%20%5B55.6809%2C%2037.524318%5D%2C%20%5B55.784096%2C%2037.730464%5D%2C%20%5B55.78281%2C%2037.526789%5D%2C%20%5B55.788328%2C%2037.508274%5D%2C%20%5B55.772988%2C%2037.608454%5D%2C%20%5B55.541769%2C%2037.514706%5D%2C%20%5B55.772897%2C%2037.490416%5D%2C%20%5B55.99143%2C%2037.219313%5D%2C%20%5B55.734263%2C%2037.564132%5D%2C%20%5B55.770163%2C%2037.582709%5D%2C%20%5B55.621658%2C%2037.743049%5D%2C%20%5B55.786531%2C%2037.731622%5D%2C%20%5B55.748392%2C%2037.645618%5D%2C%20%5B55.615578%2C%2037.31767%5D%2C%20%5B55.549185%2C%2037.525881%5D%2C%20%5B55.791552%2C%2037.53164%5D%2C%20%5B55.787887%2C%2037.518695%5D%2C%20%5B55.857366%2C%2037.443506%5D%2C%20%5B55.738536%2C%2037.742142%5D%2C%20%5B55.762936%2C%2037.647819%5D%2C%20%5B55.878374%2C%2037.546534%5D%2C%20%5B55.637708%2C%2037.33719%5D%2C%20%5B55.706954%2C%2037.395868%5D%2C%20%5B55.70877%2C%2037.784012%5D%2C%20%5B55.667345%2C%2037.572387%5D%2C%20%5B55.879844%2C%2037.595294%5D%2C%20%5B55.544285%2C%2037.50416%5D%2C%20%5B55.774745%2C%2037.598474%5D%2C%20%5B55.589681%2C%2037.465488%5D%2C%20%5B55.89931%2C%2037.621651%5D%2C%20%5B55.766947%2C%2037.597612%5D%2C%20%5B55.765225%2C%2037.634694%5D%2C%20%5B55.75594%2C%2037.623905%5D%2C%20%5B55.636453%2C%2037.329581%5D%2C%20%5B55.845567%2C%2037.457834%5D%2C%20%5B55.769054%2C%2037.641629%5D%2C%20%5B55.677504%2C%2037.745645%5D%2C%20%5B55.685234%2C%2037.451905%5D%2C%20%5B55.677504%2C%2037.745645%5D%2C%20%5B55.858054%2C%2037.59568%5D%2C%20%5B55.850287%2C%2037.615614%5D%2C%20%5B55.736848%2C%2037.685323%5D%2C%20%5B55.602164%2C%2037.508697%5D%2C%20%5B55.445018%2C%2037.243972%5D%2C%20%5B55.970408%2C%2037.182887%5D%2C%20%5B55.47574%2C%2037.538359%5D%2C%20%5B55.782648%2C%2037.722451%5D%2C%20%5B55.697554%2C%2037.75391%5D%2C%20%5B55.65693%2C%2037.426043%5D%2C%20%5B55.799254%2C%2037.79366%5D%2C%20%5B55.748468%2C%2037.60708%5D%2C%20%5B55.711853%2C%2037.437972%5D%2C%20%5B55.755819%2C%2037.617644%5D%2C%20%5B55.708486%2C%2037.481567%5D%2C%20%5B55.755819%2C%2037.617644%5D%2C%20%5B55.755819%2C%2037.617644%5D%2C%20%5B55.755819%2C%2037.617644%5D%2C%20%5B55.7633%2C%2037.626106%5D%2C%20%5B57.964195%2C%2049.106863%5D%2C%20%5B55.868879%2C%2037.466844%5D%2C%20%5B55.738546%2C%2037.60231%5D%2C%20%5B55.778542%2C%2037.574175%5D%2C%20%5B55.431765%2C%2037.372575%5D%2C%20%5B55.602968%2C%2037.521516%5D%2C%20%5B55.699522%2C%2037.493901%5D%2C%20%5B55.831094%2C%2037.447027%5D%2C%20%5B55.759866%2C%2037.605921%5D%2C%20%5B55.371505%2C%2037.347054%5D%2C%20%5B55.728058%2C%2037.540371%5D%2C%20%5B55.496531%2C%2037.137324%5D%2C%20%5B55.714247%2C%2037.595141%5D%2C%20%5B55.770041%2C%2037.602023%5D%2C%20%5B55.779236%2C%2037.627642%5D%2C%20%5B55.740715%2C%2037.830222%5D%2C%20%5B55.744703%2C%2037.594531%5D%2C%20%5B55.522225%2C%2037.370967%5D%2C%20%5B55.707994%2C%2037.626609%5D%2C%20%5B55.970408%2C%2037.182887%5D%2C%20%5B55.761224%2C%2037.730895%5D%2C%20%5B55.584573%2C%2037.658059%5D%2C%20%5B55.620947%2C%2037.473815%5D%2C%20%5B55.743193%2C%2037.569504%5D%2C%20%5B55.785129%2C%2037.605876%5D%2C%20%5B55.764227%2C%2037.598762%5D%2C%20%5B55.74225%2C%2037.58809%5D%2C%20%5B55.773449%2C%2037.581819%5D%2C%20%5B55.767357%2C%2037.646822%5D%2C%20%5B55.763513%2C%2037.596174%5D%2C%20%5B55.78444%2C%2037.703128%5D%2C%20%5B55.755819%2C%2037.617644%5D%2C%20%5B55.758772%2C%2037.632323%5D%2C%20%5B55.744835%2C%2037.657808%5D%2C%20%5B55.763077%2C%2037.604942%5D%2C%20%5B55.748067%2C%2037.597261%5D%2C%20%5B55.718725%2C%2037.512128%5D%2C%20%5B55.983267%2C%2037.209674%5D%2C%20%5B55.684945%2C%2037.85382%5D%2C%20%5B55.766344%2C%2037.606532%5D%2C%20%5B55.727998%2C%2037.67281%5D%2C%20%5B55.738277%2C%2037.658167%5D%2C%20%5B55.709672%2C%2037.625469%5D%2C%20%5B55.572899%2C%2037.486562%5D%2C%20%5B55.769145%2C%2037.573151%5D%2C%20%5B55.611089%2C%2037.727382%5D%2C%20%5B55.469096%2C%2037.542815%5D%2C%20%5B55.765362%2C%2037.64736%5D%2C%20%5B55.757217%2C%2037.626322%5D%2C%20%5B55.694474%2C%2037.929665%5D%2C%20%5B55.654096%2C%2037.388053%5D%2C%20%5B55.755819%2C%2037.617644%5D%2C%20%5B55.634862%2C%2037.764097%5D%2C%20%5B55.760312%2C%2037.560987%5D%2C%20%5B57.968062%2C%2049.107007%5D%2C%20%5B55.8091%2C%2037.513952%5D%2C%20%5B55.844283%2C%2037.490811%5D%2C%20%5B55.64446%2C%2037.398482%5D%2C%20%5B55.645781%2C%2037.63429%5D%2C%20%5B55.747155%2C%2037.581262%5D%2C%20%5B55.791147%2C%2037.681074%5D%2C%20%5B55.713436%2C%2037.644468%5D%2C%20%5B55.818114%2C%2037.509757%5D%2C%20%5B55.739716%2C%2037.582574%5D%2C%20%5B55.675484%2C%2037.641315%5D%2C%20%5B55.726309%2C%2037.649633%5D%2C%20%5B55.774451%2C%2037.532664%5D%2C%20%5B55.791213%2C%2037.606972%5D%2C%20%5B55.816854%2C%2037.494764%5D%2C%20%5B55.858357%2C%2037.422602%5D%2C%20%5B55.808047%2C%2037.610961%5D%2C%20%5B55.858357%2C%2037.422602%5D%2C%20%5B55.654193%2C%2037.407411%5D%2C%20%5B55.797139%2C%2037.606676%5D%2C%20%5B55.778315%2C%2037.608796%5D%2C%20%5B55.889785%2C%2037.60735%5D%2C%20%5B55.687157%2C%2037.590066%5D%2C%20%5B55.610977%2C%2037.769684%5D%2C%20%5B55.862136%2C%2037.419907%5D%2C%20%5B55.796815%2C%2037.619073%5D%2C%20%5B55.761112%2C%2037.546632%5D%2C%20%5B55.72306%2C%2037.582206%5D%2C%20%5B55.737461%2C%2037.492015%5D%2C%20%5B55.753509%2C%2037.652265%5D%2C%20%5B55.784379%2C%2037.463359%5D%2C%20%5B55.804886%2C%2037.500055%5D%2C%20%5B55.794912%2C%2037.576196%5D%2C%20%5B55.811037%2C%2037.558059%5D%2C%20%5B55.749147%2C%2037.716118%5D%2C%20%5B55.800428%2C%2037.560844%5D%2C%20%5B55.744338%2C%2037.651879%5D%2C%20%5B55.723425%2C%2037.393703%5D%2C%20%5B55.820212%2C%2037.546462%5D%2C%20%5B55.771059%2C%2037.705059%5D%2C%20%5B55.845446%2C%2037.378692%5D%2C%20%5B55.775945%2C%2037.547603%5D%2C%20%5B55.762981%2C%2037.646193%5D%2C%20%5B55.733229%2C%2037.616243%5D%2C%20%5B55.734942%2C%2037.631568%5D%2C%20%5B55.740644%2C%2037.580732%5D%2C%20%5B55.729513%2C%2037.63137%5D%2C%20%5B55.647767%2C%2037.639608%5D%2C%20%5B55.565208%2C%2037.577822%5D%2C%20%5B55.726796%2C%2037.647136%5D%2C%20%5B55.739929%2C%2037.602364%5D%2C%20%5B56.009859%2C%2037.198203%5D%2C%20%5B55.61415%2C%2037.623259%5D%2C%20%5B55.784516%2C%2037.718004%5D%2C%20%5B55.738287%2C%2037.612326%5D%2C%20%5B55.878879%2C%2037.715588%5D%2C%20%5B55.738292%2C%2037.57422%5D%2C%20%5B55.751097%2C%2037.769522%5D%2C%20%5B55.79183%2C%2037.693282%5D%2C%20%5B55.873036%2C%2037.483175%5D%2C%20%5B55.502115%2C%2037.326357%5D%2C%20%5B55.861757%2C%2037.688566%5D%2C%20%5B55.793627%2C%2037.57802%5D%2C%20%5B55.813976%2C%2037.593911%5D%2C%20%5B55.769383%2C%2037.524246%5D%2C%20%5B55.817734%2C%2037.707458%5D%2C%20%5B55.516894%2C%2037.356729%5D%2C%20%5B55.755115%2C%2037.626241%5D%2C%20%5B55.79511%2C%2037.731542%5D%2C%20%5B55.796542%2C%2037.598726%5D%2C%20%5B55.684599%2C%2037.71742%5D%2C%20%5B55.726781%2C%2037.586859%5D%2C%20%5B55.775641%2C%2037.688081%5D%2C%20%5B55.796036%2C%2037.525693%5D%2C%20%5B55.820212%2C%2037.546462%5D%2C%20%5B55.669067%2C%2037.543246%5D%2C%20%5B55.693439%2C%2037.744567%5D%2C%20%5B55.585306%2C%2037.196667%5D%2C%20%5B55.729645%2C%2037.761743%5D%2C%20%5B55.759714%2C%2037.552732%5D%2C%20%5B55.772618%2C%2037.735907%5D%2C%20%5B55.725498%2C%2037.45045%5D%2C%20%5B55.820212%2C%2037.546462%5D%2C%20%5B55.842646%2C%2037.35354%5D%2C%20%5B55.703175%2C%2037.743902%5D%2C%20%5B55.820212%2C%2037.546462%5D%2C%20%5B55.820212%2C%2037.546462%5D%2C%20%5B55.797544%2C%2037.793813%5D%2C%20%5B55.788216%2C%2037.669594%5D%2C%20%5B55.820212%2C%2037.546462%5D%2C%20%5B55.801318%2C%2037.506397%5D%2C%20%5B55.7808%2C%2037.828506%5D%2C%20%5B55.661105%2C%2037.530786%5D%2C%20%5B55.48475%2C%2037.305623%5D%2C%20%5B55.640538%2C%2037.77016%5D%2C%20%5B55.667315%2C%2037.647639%5D%2C%20%5B55.816935%2C%2037.655868%5D%2C%20%5B55.708496%2C%2037.455346%5D%2C%20%5B55.804997%2C%2037.543075%5D%2C%20%5B55.804182%2C%2037.45875%5D%2C%20%5B55.616137%2C%2037.539787%5D%2C%20%5B55.649053%2C%2037.61326%5D%2C%20%5B55.762105%2C%2037.63853%5D%2C%20%5B55.779464%2C%2037.641162%5D%2C%20%5B55.610641%2C%2037.289957%5D%2C%20%5B55.546053%2C%2037.523941%5D%2C%20%5B55.615339%2C%2037.259549%5D%2C%20%5B55.648169%2C%2037.350117%5D%2C%20%5B55.820212%2C%2037.546462%5D%2C%20%5B55.578772%2C%2037.696085%5D%2C%20%5B55.713253%2C%2037.699481%5D%2C%20%5B55.790145%2C%2037.661455%5D%2C%20%5B55.940961%2C%2037.353701%5D%2C%20%5B55.824739%2C%2037.658257%5D%2C%20%5B55.806069%2C%2037.645016%5D%2C%20%5B55.713365%2C%2037.751637%5D%2C%20%5B55.721939%2C%2037.456513%5D%2C%20%5B55.779312%2C%2037.613189%5D%2C%20%5B55.627285%2C%2037.647378%5D%2C%20%5B55.641554%2C%2037.540227%5D%2C%20%5B55.846037%2C%2037.567392%5D%2C%20%5B55.847836%2C%2037.351222%5D%2C%20%5B55.742184%2C%2037.623708%5D%2C%20%5B55.820212%2C%2037.546462%5D%2C%20%5B55.860054%2C%2037.694603%5D%2C%20%5B55.942368%2C%2037.552534%5D%2C%20%5B55.774143%2C%2037.592285%5D%2C%20%5B55.721731%2C%2037.57696%5D%2C%20%5B55.782476%2C%2037.500818%5D%2C%20%5B55.738728%2C%2037.580993%5D%2C%20%5B55.588237%2C%2037.542222%5D%2C%20%5B55.820212%2C%2037.546462%5D%2C%20%5B55.636991%2C%2037.317679%5D%2C%20%5B55.779768%2C%2037.587353%5D%2C%20%5B55.773586%2C%2037.519306%5D%2C%20%5B55.8249%2C%2037.59825%5D%2C%20%5B55.803626%2C%2037.548483%5D%2C%20%5B55.753342%2C%2037.591827%5D%2C%20%5B55.815979%2C%2037.650037%5D%2C%20%5B55.705143%2C%2037.673537%5D%2C%20%5B55.814219%2C%2037.779727%5D%2C%20%5B55.602734%2C%2037.364616%5D%2C%20%5B55.76324%2C%2037.610242%5D%2C%20%5B55.746841%2C%2037.683051%5D%2C%20%5B55.690095%2C%2037.790839%5D%2C%20%5B55.758757%2C%2037.652265%5D%2C%20%5B55.846219%2C%2037.439966%5D%2C%20%5B55.806874%2C%2037.480265%5D%2C%20%5B55.73441%2C%2037.477184%5D%2C%20%5B55.74868%2C%2037.763207%5D%2C%20%5B55.65724%2C%2037.548294%5D%2C%20%5B55.747875%2C%2037.617977%5D%2C%20%5B55.781129%2C%2037.748151%5D%2C%20%5B55.737821%2C%2037.650621%5D%2C%20%5B55.673006%2C%2037.595213%5D%2C%20%5B55.681656%2C%2037.652041%5D%2C%20%5B55.609736%2C%2037.668471%5D%2C%20%5B55.744774%2C%2037.631155%5D%2C%20%5B55.795175%2C%2037.810719%5D%2C%20%5B55.768547%2C%2037.646606%5D%2C%20%5B55.606309%2C%2037.626843%5D%2C%20%5B55.76409%2C%2037.618543%5D%2C%20%5B55.783686%2C%2037.706595%5D%2C%20%5B55.707801%2C%2037.681595%5D%2C%20%5B55.670062%2C%2037.453504%5D%2C%20%5B55.518494%2C%2037.34868%5D%2C%20%5B55.809095%2C%2037.645151%5D%2C%20%5B55.685914%2C%2037.562056%5D%2C%20%5B55.736427%2C%2037.710287%5D%2C%20%5B55.745899%2C%2037.579367%5D%2C%20%5B55.742098%2C%2037.584532%5D%2C%20%5B55.722679%2C%2037.813495%5D%2C%20%5B55.980709%2C%2037.194717%5D%2C%20%5B55.585703%2C%2037.458705%5D%2C%20%5B55.757176%2C%2037.610476%5D%2C%20%5B55.665518%2C%2037.786788%5D%2C%20%5B55.801485%2C%2037.774822%5D%2C%20%5B55.833112%2C%2037.522854%5D%2C%20%5B55.791208%2C%2037.807126%5D%2C%20%5B55.678504%2C%2037.728218%5D%2C%20%5B55.753676%2C%2037.611751%5D%2C%20%5B55.779216%2C%2037.532825%5D%2C%20%5B55.893263%2C%2037.663%5D%2C%20%5B55.757997%2C%2037.579906%5D%2C%20%5B55.789198%2C%2037.387747%5D%2C%20%5B55.759233%2C%2037.634524%5D%2C%20%5B55.838374%2C%2037.42615%5D%2C%20%5B55.746091%2C%2037.593048%5D%2C%20%5B55.741247%2C%2037.545698%5D%2C%20%5B55.654208%2C%2037.593938%5D%2C%20%5B55.765179%2C%2037.602211%5D%2C%20%5B55.735844%2C%2037.464275%5D%2C%20%5B55.706447%2C%2037.61759%5D%2C%20%5B55.589977%2C%2037.626511%5D%2C%20%5B55.634563%2C%2037.605571%5D%2C%20%5B55.767033%2C%2037.572306%5D%2C%20%5B55.783377%2C%2037.711815%5D%2C%20%5B55.75053%2C%2037.592446%5D%2C%20%5B55.770385%2C%2037.623825%5D%2C%20%5B55.487984%2C%2037.298652%5D%2C%20%5B55.776072%2C%2037.627633%5D%2C%20%5B55.561232%2C%2037.555157%5D%2C%20%5B55.777251%2C%2037.593075%5D%2C%20%5B55.880399%2C%2037.490533%5D%2C%20%5B55.548197%2C%2037.494647%5D%2C%20%5B55.659708%2C%2037.538727%5D%2C%20%5B55.784283%2C%2037.471911%5D%2C%20%5B55.755479%2C%2037.598375%5D%2C%20%5B55.758569%2C%2037.626124%5D%2C%20%5B55.937346%2C%2037.404258%5D%2C%20%5B55.585321%2C%2037.646507%5D%2C%20%5B55.746856%2C%2037.595204%5D%2C%20%5B55.739848%2C%2037.618866%5D%2C%20%5B55.747515%2C%2037.398177%5D%2C%20%5B55.740031%2C%2037.59409%5D%2C%20%5B55.850257%2C%2037.585278%5D%2C%20%5B55.756016%2C%2037.796777%5D%2C%20%5B55.727166%2C%2037.469871%5D%2C%20%5B55.660003%2C%2037.574884%5D%2C%20%5B55.514157%2C%2037.574597%5D%2C%20%5B55.756802%2C%2037.638054%5D%2C%20%5B55.801845%2C%2037.512443%5D%2C%20%5B55.746071%2C%2037.659784%5D%2C%20%5B55.820182%2C%2037.580634%5D%2C%20%5B55.740892%2C%2037.687434%5D%2C%20%5B55.573276%2C%2037.580679%5D%2C%20%5B55.79267%2C%2037.562308%5D%2C%20%5B55.752024%2C%2037.642069%5D%2C%20%5B55.847154%2C%2037.450046%5D%2C%20%5B55.70494%2C%2037.92088%5D%2C%20%5B55.878192%2C%2037.636437%5D%2C%20%5B55.744044%2C%2037.556756%5D%2C%20%5B55.771798%2C%2037.63411%5D%2C%20%5B55.765665%2C%2037.613153%5D%2C%20%5B55.737862%2C%2037.512964%5D%2C%20%5B55.743249%2C%2037.580697%5D%2C%20%5B55.779965%2C%2037.638719%5D%2C%20%5B55.880692%2C%2037.452624%5D%2C%20%5B55.701618%2C%2037.845798%5D%2C%20%5B55.761426%2C%2037.64065%5D%2C%20%5B55.770157%2C%2037.681964%5D%2C%20%5B55.647051%2C%2037.760934%5D%2C%20%5B55.651404%2C%2037.388098%5D%2C%20%5B55.880904%2C%2037.570986%5D%2C%20%5B55.727247%2C%2037.634344%5D%2C%20%5B55.739985%2C%2037.706003%5D%2C%20%5B55.756979%2C%2037.652256%5D%2C%20%5B55.752673%2C%2037.642788%5D%2C%20%5B55.760717%2C%2037.623438%5D%2C%20%5B55.7445%2C%2037.55531%5D%2C%20%5B55.765412%2C%2037.605822%5D%2C%20%5B55.870213%2C%2037.702526%5D%2C%20%5B55.692333%2C%2037.42624%5D%2C%20%5B55.728768%2C%2037.558535%5D%2C%20%5B55.783691%2C%2037.714438%5D%2C%20%5B55.78691%2C%2037.603819%5D%2C%20%5B55.889669%2C%2037.679862%5D%2C%20%5B55.734086%2C%2037.653604%5D%2C%20%5B55.789259%2C%2037.693507%5D%2C%20%5B55.676072%2C%2037.758779%5D%2C%20%5B55.827393%2C%2037.522279%5D%2C%20%5B55.639878%2C%2037.370428%5D%2C%20%5B55.846734%2C%2037.403836%5D%2C%20%5B55.729148%2C%2037.624642%5D%2C%20%5B55.790256%2C%2037.359073%5D%2C%20%5B55.741075%2C%2037.595644%5D%2C%20%5B55.652385%2C%2037.605553%5D%2C%20%5B55.546272%2C%2037.575387%5D%2C%20%5B55.799694%2C%2037.526043%5D%2C%20%5B55.739544%2C%2037.487811%5D%2C%20%5B55.760241%2C%2037.639168%5D%2C%20%5B55.854951%2C%2037.608984%5D%2C%20%5B55.725427%2C%2037.773457%5D%2C%20%5B55.821224%2C%2037.761788%5D%2C%20%5B55.662618%2C%2037.525288%5D%2C%20%5B55.772401%2C%2037.60213%5D%2C%20%5B55.621201%2C%2037.730104%5D%2C%20%5B55.773768%2C%2037.698546%5D%2C%20%5B55.854284%2C%2037.515901%5D%2C%20%5B55.832586%2C%2037.450495%5D%2C%20%5B55.77753%2C%2037.618084%5D%2C%20%5B55.770289%2C%2037.644001%5D%2C%20%5B55.743466%2C%2037.632862%5D%2C%20%5B55.715023%2C%2037.766603%5D%2C%20%5B55.985811%2C%2037.227066%5D%2C%20%5B55.738161%2C%2037.63871%5D%2C%20%5B55.75709%2C%2037.679466%5D%2C%20%5B55.774684%2C%2037.827796%5D%2C%20%5B55.681082%2C%2037.454456%5D%2C%20%5B55.762465%2C%2037.839896%5D%2C%20%5B55.726401%2C%2037.529151%5D%2C%20%5B55.744576%2C%2037.655805%5D%2C%20%5B55.612777%2C%2037.253368%5D%2C%20%5B55.88926%2C%2037.519692%5D%2C%20%5B55.890108%2C%2037.513323%5D%2C%20%5B55.857609%2C%2037.643812%5D%2C%20%5B55.822084%2C%2037.465317%5D%2C%20%5B55.817643%2C%2037.724346%5D%2C%20%5B55.731348%2C%2037.647414%5D%2C%20%5B55.855209%2C%2037.493695%5D%2C%20%5B55.685132%2C%2037.724095%5D%2C%20%5B55.805918%2C%2037.778784%5D%2C%20%5B55.678407%2C%2037.685359%5D%2C%20%5B55.884969%2C%2037.657044%5D%2C%20%5B55.729295%2C%2037.771445%5D%2C%20%5B55.77157%2C%2037.576259%5D%2C%20%5B55.793191%2C%2037.775856%5D%2C%20%5B55.788145%2C%2037.784309%5D%2C%20%5B55.743791%2C%2037.773358%5D%2C%20%5B55.748463%2C%2037.592141%5D%2C%20%5B55.881879%2C%2037.704691%5D%2C%20%5B55.777611%2C%2037.829%5D%2C%20%5B55.700892%2C%2037.592734%5D%2C%20%5B55.828622%2C%2037.816477%5D%2C%20%5B55.820784%2C%2037.789231%5D%2C%20%5B55.610016%2C%2037.490083%5D%2C%20%5B55.76171%2C%2037.540371%5D%2C%20%5B55.842605%2C%2037.565111%5D%2C%20%5B55.744754%2C%2037.620869%5D%2C%20%5B55.628032%2C%2037.65134%5D%2C%20%5B55.785174%2C%2037.611464%5D%2C%20%5B55.716382%2C%2037.457546%5D%2C%20%5B55.879743%2C%2037.578532%5D%2C%20%5B55.705052%2C%2037.937965%5D%2C%20%5B55.695322%2C%2037.610278%5D%2C%20%5B55.789887%2C%2037.784767%5D%2C%20%5B55.78853%2C%2037.706407%5D%2C%20%5B55.578523%2C%2037.355121%5D%2C%20%5B55.76207%2C%2037.616171%5D%2C%20%5B55.237761%2C%2037.036856%5D%2C%20%5B55.766663%2C%2037.67493%5D%2C%20%5B55.768557%2C%2037.603145%5D%2C%20%5B55.708617%2C%2037.636347%5D%2C%20%5B55.770208%2C%2037.636814%5D%2C%20%5B55.803099%2C%2037.640632%5D%2C%20%5B55.622919%2C%2037.59931%5D%2C%20%5B55.759532%2C%2037.590982%5D%2C%20%5B55.646563%2C%2037.266358%5D%2C%20%5B55.651171%2C%2037.430372%5D%2C%20%5B55.765063%2C%2037.665291%5D%2C%20%5B55.370733%2C%2037.202461%5D%2C%20%5B55.598467%2C%2037.528235%5D%2C%20%5B55.564765%2C%2037.476941%5D%2C%20%5B55.618481%2C%2037.683302%5D%2C%20%5B55.66472%2C%2037.660341%5D%2C%20%5B55.733107%2C%2037.610934%5D%2C%20%5B55.722259%2C%2037.642429%5D%2C%20%5B55.507764%2C%2037.566413%5D%2C%20%5B55.879238%2C%2037.711473%5D%2C%20%5B55.869531%2C%2037.621049%5D%2C%20%5B55.652888%2C%2037.466089%5D%2C%20%5B55.740988%2C%2037.612946%5D%2C%20%5B55.746152%2C%2037.705221%5D%2C%20%5B55.608663%2C%2037.709587%5D%2C%20%5B55.649495%2C%2037.61017%5D%2C%20%5B55.811154%2C%2037.498043%5D%2C%20%5B55.751193%2C%2037.645267%5D%2C%20%5B55.884171%2C%2037.539167%5D%2C%20%5B55.548803%2C%2037.540704%5D%2C%20%5B55.91974%2C%2037.552211%5D%2C%20%5B55.59429%2C%2037.656254%5D%2C%20%5B55.670356%2C%2037.771705%5D%2C%20%5B55.71734%2C%2037.556658%5D%2C%20%5B55.766299%2C%2037.669881%5D%2C%20%5B55.758559%2C%2037.619342%5D%2C%20%5B55.680971%2C%2037.691081%5D%2C%20%5B55.750575%2C%2037.649355%5D%2C%20%5B55.746552%2C%2037.534424%5D%2C%20%5B55.567769%2C%2037.472351%5D%2C%20%5B55.61056%2C%2037.550459%5D%2C%20%5B55.829689%2C%2037.813818%5D%2C%20%5B55.791785%2C%2037.557053%5D%2C%20%5B55.735038%2C%2037.580625%5D%2C%20%5B55.753757%2C%2037.586634%5D%2C%20%5B55.736316%2C%2037.625612%5D%2C%20%5B55.736665%2C%2037.597612%5D%2C%20%5B55.732666%2C%2037.650729%5D%2C%20%5B55.762905%2C%2037.630445%5D%2C%20%5B55.468714%2C%2036.931421%5D%2C%20%5B55.881823%2C%2037.700029%5D%2C%20%5B55.884383%2C%2037.536508%5D%2C%20%5B55.799052%2C%2037.397701%5D%2C%20%5B55.747637%2C%2037.654143%5D%2C%20%5B55.717208%2C%2037.90003%5D%2C%20%5B55.768218%2C%2037.633751%5D%2C%20%5B55.884595%2C%2037.70249%5D%2C%20%5B55.725067%2C%2037.558005%5D%2C%20%5B55.711326%2C%2037.559227%5D%2C%20%5B55.756923%2C%2037.688944%5D%2C%20%5B55.701009%2C%2037.811528%5D%2C%20%5B55.605765%2C%2037.532098%5D%2C%20%5B55.826716%2C%2037.721094%5D%2C%20%5B55.745174%2C%2037.552615%5D%2C%20%5B55.684879%2C%2037.859713%5D%2C%20%5B55.734172%2C%2037.638252%5D%2C%20%5B55.690755%2C%2037.491512%5D%2C%20%5B55.823383%2C%2037.816423%5D%2C%20%5B55.756624%2C%2037.802949%5D%2C%20%5B55.517021%2C%2037.131988%5D%2C%20%5B55.634019%2C%2037.761851%5D%2C%20%5B55.587051%2C%2037.648196%5D%2C%20%5B55.861727%2C%2037.686329%5D%2C%20%5B55.753757%2C%2037.644648%5D%2C%20%5B55.755424%2C%2037.594306%5D%2C%20%5B55.741799%2C%2037.683158%5D%2C%20%5B55.668858%2C%2037.628819%5D%2C%20%5B55.867935%2C%2037.498052%5D%2C%20%5B55.751447%2C%2037.586571%5D%2C%20%5B55.827201%2C%2037.621705%5D%2C%20%5B55.680321%2C%2037.67643%5D%2C%20%5B55.708688%2C%2037.624498%5D%2C%20%5B55.856583%2C%2037.495896%5D%2C%20%5B55.744596%2C%2037.829027%5D%2C%20%5B55.653969%2C%2037.581954%5D%2C%20%5B55.678346%2C%2037.694702%5D%2C%20%5B55.861489%2C%2037.597926%5D%2C%20%5B55.795115%2C%2037.50822%5D%2C%20%5B55.643317%2C%2037.637506%5D%2C%20%5B55.680524%2C%2037.74931%5D%2C%20%5B55.799036%2C%2037.468695%5D%2C%20%5B55.761259%2C%2037.544117%5D%2C%20%5B55.773737%2C%2037.465982%5D%2C%20%5B55.696225%2C%2037.822119%5D%2C%20%5B55.761512%2C%2037.64754%5D%2C%20%5B55.46531%2C%2037.292733%5D%2C%20%5B55.514131%2C%2037.371389%5D%2C%20%5B55.74904%2C%2037.598339%5D%2C%20%5B55.763432%2C%2037.490874%5D%2C%20%5B55.567107%2C%2037.480606%5D%2C%20%5B55.831069%2C%2037.525154%5D%2C%20%5B55.853026%2C%2037.498267%5D%2C%20%5B55.755996%2C%2037.577427%5D%2C%20%5B55.704915%2C%2037.656631%5D%5D%2C%0A%20%20%20%20%20%20%20%20%20%20%20%20%20%20%20%20%7B%22blur%22%3A%2015%2C%20%22maxZoom%22%3A%2018%2C%20%22minOpacity%22%3A%200.5%2C%20%22radius%22%3A%2025%7D%0A%20%20%20%20%20%20%20%20%20%20%20%20%29.addTo%28map_4966a31d27854343a1b400307f08582f%29%3B%0A%20%20%20%20%20%20%20%20%0A%3C/script%3E onload=\"this.contentDocument.open();this.contentDocument.write(    decodeURIComponent(this.getAttribute('data-html')));this.contentDocument.close();\" allowfullscreen webkitallowfullscreen mozallowfullscreen></iframe></div></div>"
      ],
      "text/plain": [
       "<folium.folium.Map at 0x287631efc70>"
      ]
     },
     "execution_count": 74,
     "metadata": {},
     "output_type": "execute_result"
    }
   ],
   "source": [
    "moscow = folium.Map(location = [55.755819, 37.617644], zoom_start = 11)\n",
    "\n",
    "coordinates = []\n",
    "\n",
    "latitudes = list(cafe_data['latitude'])\n",
    "longitudes = list(cafe_data['longitude'])\n",
    "\n",
    "for lat, lng in zip(latitudes, longitudes):\n",
    "    coordinates.append([lat, lng])\n",
    "\n",
    "moscow.add_child(plugins.HeatMap(coordinates))"
   ]
  },
  {
   "cell_type": "markdown",
   "metadata": {
    "id": "4H1hQODRG2B1"
   },
   "source": [
    "### Посмотрим на распределение количества посадочных мест для улиц с большим количеством объектов общественного питания. Какие закономерности можно выявить?\n"
   ]
  },
  {
   "cell_type": "code",
   "execution_count": 75,
   "metadata": {
    "colab": {
     "base_uri": "https://localhost:8080/",
     "height": 390
    },
    "executionInfo": {
     "elapsed": 229,
     "status": "ok",
     "timestamp": 1627832490430,
     "user": {
      "displayName": "Арсен",
      "photoUrl": "https://lh3.googleusercontent.com/a-/AOh14GjPCG8vWVVB43Ax1wpE_vEPLjGP-XH0UWc12vB7wg=s64",
      "userId": "17661651445996378067"
     },
     "user_tz": -180
    },
    "id": "spB0LJ99PLsV",
    "outputId": "b863a20f-1e54-47e3-ecc4-fb48f5088e51"
   },
   "outputs": [
    {
     "data": {
      "text/html": [
       "<div>\n",
       "<style scoped>\n",
       "    .dataframe tbody tr th:only-of-type {\n",
       "        vertical-align: middle;\n",
       "    }\n",
       "\n",
       "    .dataframe tbody tr th {\n",
       "        vertical-align: top;\n",
       "    }\n",
       "\n",
       "    .dataframe thead th {\n",
       "        text-align: right;\n",
       "    }\n",
       "</style>\n",
       "<table border=\"1\" class=\"dataframe\">\n",
       "  <thead>\n",
       "    <tr style=\"text-align: right;\">\n",
       "      <th></th>\n",
       "      <th>count</th>\n",
       "      <th>sum</th>\n",
       "      <th>mean</th>\n",
       "    </tr>\n",
       "    <tr>\n",
       "      <th>street</th>\n",
       "      <th></th>\n",
       "      <th></th>\n",
       "      <th></th>\n",
       "    </tr>\n",
       "  </thead>\n",
       "  <tbody>\n",
       "    <tr>\n",
       "      <th>Варшавское шоссе</th>\n",
       "      <td>160</td>\n",
       "      <td>8456</td>\n",
       "      <td>53</td>\n",
       "    </tr>\n",
       "    <tr>\n",
       "      <th>Кировоградская улица</th>\n",
       "      <td>107</td>\n",
       "      <td>6409</td>\n",
       "      <td>60</td>\n",
       "    </tr>\n",
       "    <tr>\n",
       "      <th>Кутузовский проспект</th>\n",
       "      <td>114</td>\n",
       "      <td>9697</td>\n",
       "      <td>86</td>\n",
       "    </tr>\n",
       "    <tr>\n",
       "      <th>Ленинградский проспект</th>\n",
       "      <td>170</td>\n",
       "      <td>8970</td>\n",
       "      <td>53</td>\n",
       "    </tr>\n",
       "    <tr>\n",
       "      <th>Ленинский проспект</th>\n",
       "      <td>146</td>\n",
       "      <td>9080</td>\n",
       "      <td>63</td>\n",
       "    </tr>\n",
       "    <tr>\n",
       "      <th>Пресненская набережная</th>\n",
       "      <td>167</td>\n",
       "      <td>7656</td>\n",
       "      <td>46</td>\n",
       "    </tr>\n",
       "    <tr>\n",
       "      <th>Профсоюзная улица</th>\n",
       "      <td>178</td>\n",
       "      <td>8355</td>\n",
       "      <td>47</td>\n",
       "    </tr>\n",
       "    <tr>\n",
       "      <th>Ходынский бульвар</th>\n",
       "      <td>102</td>\n",
       "      <td>1933</td>\n",
       "      <td>19</td>\n",
       "    </tr>\n",
       "    <tr>\n",
       "      <th>проспект Вернадского</th>\n",
       "      <td>126</td>\n",
       "      <td>8612</td>\n",
       "      <td>69</td>\n",
       "    </tr>\n",
       "    <tr>\n",
       "      <th>проспект Мира</th>\n",
       "      <td>204</td>\n",
       "      <td>12790</td>\n",
       "      <td>63</td>\n",
       "    </tr>\n",
       "  </tbody>\n",
       "</table>\n",
       "</div>"
      ],
      "text/plain": [
       "                        count    sum  mean\n",
       "street                                    \n",
       "Варшавское шоссе          160   8456    53\n",
       "Кировоградская улица      107   6409    60\n",
       "Кутузовский проспект      114   9697    86\n",
       "Ленинградский проспект    170   8970    53\n",
       "Ленинский проспект        146   9080    63\n",
       "Пресненская набережная    167   7656    46\n",
       "Профсоюзная улица         178   8355    47\n",
       "Ходынский бульвар         102   1933    19\n",
       "проспект Вернадского      126   8612    69\n",
       "проспект Мира             204  12790    63"
      ]
     },
     "execution_count": 75,
     "metadata": {},
     "output_type": "execute_result"
    }
   ],
   "source": [
    "number_top10 = (\n",
    "    rest_data\n",
    "        .query('street in @top10_street.street')\n",
    "        .groupby('street')\n",
    "        ['number'].agg(['count', 'sum', 'mean'])\n",
    ")\n",
    "\n",
    "number_top10['mean'] = (np.ceil(number_top10['mean'])).astype('int')\n",
    "number_top10"
   ]
  },
  {
   "cell_type": "code",
   "execution_count": 76,
   "metadata": {
    "colab": {
     "base_uri": "https://localhost:8080/",
     "height": 542
    },
    "executionInfo": {
     "elapsed": 636,
     "status": "ok",
     "timestamp": 1627832514061,
     "user": {
      "displayName": "Арсен",
      "photoUrl": "https://lh3.googleusercontent.com/a-/AOh14GjPCG8vWVVB43Ax1wpE_vEPLjGP-XH0UWc12vB7wg=s64",
      "userId": "17661651445996378067"
     },
     "user_tz": -180
    },
    "id": "vzHuRNMvQdux",
    "outputId": "cbb23515-d838-445d-e037-bd1cbaf2e35d"
   },
   "outputs": [
    {
     "data": {
      "image/svg+xml": [
       "<svg class=\"main-svg\" xmlns=\"http://www.w3.org/2000/svg\" xmlns:xlink=\"http://www.w3.org/1999/xlink\" width=\"700\" height=\"500\" style=\"\" viewBox=\"0 0 700 500\"><rect x=\"0\" y=\"0\" width=\"700\" height=\"500\" style=\"fill: rgb(255, 255, 255); fill-opacity: 1;\"/><defs id=\"defs-dc79d3\"><g class=\"clips\"><clipPath id=\"clipdc79d3xyplot\" class=\"plotclip\"><rect width=\"422\" height=\"320\"/></clipPath><clipPath class=\"axesclip\" id=\"clipdc79d3x\"><rect x=\"198\" y=\"0\" width=\"422\" height=\"500\"/></clipPath><clipPath class=\"axesclip\" id=\"clipdc79d3y\"><rect x=\"0\" y=\"100\" width=\"700\" height=\"320\"/></clipPath><clipPath class=\"axesclip\" id=\"clipdc79d3xy\"><rect x=\"198\" y=\"100\" width=\"422\" height=\"320\"/></clipPath></g><g class=\"gradients\"/><g class=\"patterns\"/></defs><g class=\"bglayer\"><rect class=\"bg\" x=\"198\" y=\"100\" width=\"422\" height=\"320\" style=\"fill: rgb(229, 236, 246); fill-opacity: 1; stroke-width: 0;\"/></g><g class=\"layer-below\"><g class=\"imagelayer\"/><g class=\"shapelayer\"/></g><g class=\"cartesianlayer\"><g class=\"subplot xy\"><g class=\"layer-subplot\"><g class=\"shapelayer\"/><g class=\"imagelayer\"/></g><g class=\"gridlayer\"><g class=\"x\"><path class=\"xgrid crisp\" transform=\"translate(291.23,0)\" d=\"M0,100v320\" style=\"stroke: rgb(255, 255, 255); stroke-opacity: 1; stroke-width: 1px;\"/><path class=\"xgrid crisp\" transform=\"translate(384.47,0)\" d=\"M0,100v320\" style=\"stroke: rgb(255, 255, 255); stroke-opacity: 1; stroke-width: 1px;\"/><path class=\"xgrid crisp\" transform=\"translate(477.7,0)\" d=\"M0,100v320\" style=\"stroke: rgb(255, 255, 255); stroke-opacity: 1; stroke-width: 1px;\"/><path class=\"xgrid crisp\" transform=\"translate(570.9300000000001,0)\" d=\"M0,100v320\" style=\"stroke: rgb(255, 255, 255); stroke-opacity: 1; stroke-width: 1px;\"/></g><g class=\"y\"/></g><g class=\"zerolinelayer\"><path class=\"xzl zl crisp\" transform=\"translate(198,0)\" d=\"M0,100v320\" style=\"stroke: rgb(255, 255, 255); stroke-opacity: 1; stroke-width: 2px;\"/></g><path class=\"xlines-below\"/><path class=\"ylines-below\"/><g class=\"overlines-below\"/><g class=\"xaxislayer-below\"/><g class=\"yaxislayer-below\"/><g class=\"overaxes-below\"/><g class=\"plot\" transform=\"translate(198,100)\" clip-path=\"url(#clipdc79d3xyplot)\"><g class=\"barlayer mlayer\"><g class=\"trace bars\" style=\"opacity: 1;\"><g class=\"points\"><g class=\"point\"><path d=\"M0,316.8V291.2H247.07V316.8Z\" style=\"vector-effect: non-scaling-stroke; opacity: 1; stroke-width: 0.5px; fill: rgb(99, 110, 250); fill-opacity: 1; stroke: rgb(229, 236, 246); stroke-opacity: 1;\"/></g><g class=\"point\"><path d=\"M0,284.8V259.2H279.7V284.8Z\" style=\"vector-effect: non-scaling-stroke; opacity: 1; stroke-width: 0.5px; fill: rgb(99, 110, 250); fill-opacity: 1; stroke: rgb(229, 236, 246); stroke-opacity: 1;\"/></g><g class=\"point\"><path d=\"M0,252.8V227.2H400.9V252.8Z\" style=\"vector-effect: non-scaling-stroke; opacity: 1; stroke-width: 0.5px; fill: rgb(99, 110, 250); fill-opacity: 1; stroke: rgb(229, 236, 246); stroke-opacity: 1;\"/></g><g class=\"point\"><path d=\"M0,220.8V195.2H247.07V220.8Z\" style=\"vector-effect: non-scaling-stroke; opacity: 1; stroke-width: 0.5px; fill: rgb(99, 110, 250); fill-opacity: 1; stroke: rgb(229, 236, 246); stroke-opacity: 1;\"/></g><g class=\"point\"><path d=\"M0,188.8V163.2H293.68V188.8Z\" style=\"vector-effect: non-scaling-stroke; opacity: 1; stroke-width: 0.5px; fill: rgb(99, 110, 250); fill-opacity: 1; stroke: rgb(229, 236, 246); stroke-opacity: 1;\"/></g><g class=\"point\"><path d=\"M0,156.8V131.2H214.43V156.8Z\" style=\"vector-effect: non-scaling-stroke; opacity: 1; stroke-width: 0.5px; fill: rgb(99, 110, 250); fill-opacity: 1; stroke: rgb(229, 236, 246); stroke-opacity: 1;\"/></g><g class=\"point\"><path d=\"M0,124.8V99.2H219.1V124.8Z\" style=\"vector-effect: non-scaling-stroke; opacity: 1; stroke-width: 0.5px; fill: rgb(99, 110, 250); fill-opacity: 1; stroke: rgb(229, 236, 246); stroke-opacity: 1;\"/></g><g class=\"point\"><path d=\"M0,92.8V67.2H88.57V92.8Z\" style=\"vector-effect: non-scaling-stroke; opacity: 1; stroke-width: 0.5px; fill: rgb(99, 110, 250); fill-opacity: 1; stroke: rgb(229, 236, 246); stroke-opacity: 1;\"/></g><g class=\"point\"><path d=\"M0,60.8V35.2H321.65V60.8Z\" style=\"vector-effect: non-scaling-stroke; opacity: 1; stroke-width: 0.5px; fill: rgb(99, 110, 250); fill-opacity: 1; stroke: rgb(229, 236, 246); stroke-opacity: 1;\"/></g><g class=\"point\"><path d=\"M0,28.8V3.2H293.68V28.8Z\" style=\"vector-effect: non-scaling-stroke; opacity: 1; stroke-width: 0.5px; fill: rgb(99, 110, 250); fill-opacity: 1; stroke: rgb(229, 236, 246); stroke-opacity: 1;\"/></g></g></g></g></g><g class=\"overplot\"/><path class=\"xlines-above crisp\" d=\"M0,0\" style=\"fill: none;\"/><path class=\"ylines-above crisp\" d=\"M0,0\" style=\"fill: none;\"/><g class=\"overlines-above\"/><g class=\"xaxislayer-above\"><g class=\"xtick\"><text text-anchor=\"middle\" x=\"0\" y=\"433\" transform=\"translate(198,0)\" style=\"font-family: 'Open Sans', verdana, arial, sans-serif; font-size: 12px; fill: rgb(42, 63, 95); fill-opacity: 1; white-space: pre; opacity: 1;\">0</text></g><g class=\"xtick\"><text text-anchor=\"middle\" x=\"0\" y=\"433\" style=\"font-family: 'Open Sans', verdana, arial, sans-serif; font-size: 12px; fill: rgb(42, 63, 95); fill-opacity: 1; white-space: pre; opacity: 1;\" transform=\"translate(291.23,0)\">20</text></g><g class=\"xtick\"><text text-anchor=\"middle\" x=\"0\" y=\"433\" style=\"font-family: 'Open Sans', verdana, arial, sans-serif; font-size: 12px; fill: rgb(42, 63, 95); fill-opacity: 1; white-space: pre; opacity: 1;\" transform=\"translate(384.47,0)\">40</text></g><g class=\"xtick\"><text text-anchor=\"middle\" x=\"0\" y=\"433\" style=\"font-family: 'Open Sans', verdana, arial, sans-serif; font-size: 12px; fill: rgb(42, 63, 95); fill-opacity: 1; white-space: pre; opacity: 1;\" transform=\"translate(477.7,0)\">60</text></g><g class=\"xtick\"><text text-anchor=\"middle\" x=\"0\" y=\"433\" style=\"font-family: 'Open Sans', verdana, arial, sans-serif; font-size: 12px; fill: rgb(42, 63, 95); fill-opacity: 1; white-space: pre; opacity: 1;\" transform=\"translate(570.9300000000001,0)\">80</text></g></g><g class=\"yaxislayer-above\"><g class=\"ytick\"><text text-anchor=\"end\" x=\"197\" y=\"4.199999999999999\" transform=\"translate(0,404)\" style=\"font-family: 'Open Sans', verdana, arial, sans-serif; font-size: 12px; fill: rgb(42, 63, 95); fill-opacity: 1; white-space: pre; opacity: 1;\">Варшавское шоссе</text></g><g class=\"ytick\"><text text-anchor=\"end\" x=\"197\" y=\"4.199999999999999\" transform=\"translate(0,372)\" style=\"font-family: 'Open Sans', verdana, arial, sans-serif; font-size: 12px; fill: rgb(42, 63, 95); fill-opacity: 1; white-space: pre; opacity: 1;\">Кировоградская улица</text></g><g class=\"ytick\"><text text-anchor=\"end\" x=\"197\" y=\"4.199999999999999\" transform=\"translate(0,340)\" style=\"font-family: 'Open Sans', verdana, arial, sans-serif; font-size: 12px; fill: rgb(42, 63, 95); fill-opacity: 1; white-space: pre; opacity: 1;\">Кутузовский проспект</text></g><g class=\"ytick\"><text text-anchor=\"end\" x=\"197\" y=\"4.199999999999999\" transform=\"translate(0,308)\" style=\"font-family: 'Open Sans', verdana, arial, sans-serif; font-size: 12px; fill: rgb(42, 63, 95); fill-opacity: 1; white-space: pre; opacity: 1;\">Ленинградский проспект</text></g><g class=\"ytick\"><text text-anchor=\"end\" x=\"197\" y=\"4.199999999999999\" transform=\"translate(0,276)\" style=\"font-family: 'Open Sans', verdana, arial, sans-serif; font-size: 12px; fill: rgb(42, 63, 95); fill-opacity: 1; white-space: pre; opacity: 1;\">Ленинский проспект</text></g><g class=\"ytick\"><text text-anchor=\"end\" x=\"197\" y=\"4.199999999999999\" transform=\"translate(0,244)\" style=\"font-family: 'Open Sans', verdana, arial, sans-serif; font-size: 12px; fill: rgb(42, 63, 95); fill-opacity: 1; white-space: pre; opacity: 1;\">Пресненская набережная</text></g><g class=\"ytick\"><text text-anchor=\"end\" x=\"197\" y=\"4.199999999999999\" transform=\"translate(0,212)\" style=\"font-family: 'Open Sans', verdana, arial, sans-serif; font-size: 12px; fill: rgb(42, 63, 95); fill-opacity: 1; white-space: pre; opacity: 1;\">Профсоюзная улица</text></g><g class=\"ytick\"><text text-anchor=\"end\" x=\"197\" y=\"4.199999999999999\" transform=\"translate(0,180)\" style=\"font-family: 'Open Sans', verdana, arial, sans-serif; font-size: 12px; fill: rgb(42, 63, 95); fill-opacity: 1; white-space: pre; opacity: 1;\">Ходынский бульвар</text></g><g class=\"ytick\"><text text-anchor=\"end\" x=\"197\" y=\"4.199999999999999\" transform=\"translate(0,148)\" style=\"font-family: 'Open Sans', verdana, arial, sans-serif; font-size: 12px; fill: rgb(42, 63, 95); fill-opacity: 1; white-space: pre; opacity: 1;\">проспект Вернадского</text></g><g class=\"ytick\"><text text-anchor=\"end\" x=\"197\" y=\"4.199999999999999\" transform=\"translate(0,116)\" style=\"font-family: 'Open Sans', verdana, arial, sans-serif; font-size: 12px; fill: rgb(42, 63, 95); fill-opacity: 1; white-space: pre; opacity: 1;\">проспект Мира</text></g></g><g class=\"overaxes-above\"/></g></g><g class=\"polarlayer\"/><g class=\"ternarylayer\"/><g class=\"geolayer\"/><g class=\"funnelarealayer\"/><g class=\"pielayer\"/><g class=\"iciclelayer\"/><g class=\"treemaplayer\"/><g class=\"sunburstlayer\"/><g class=\"glimages\"/><defs id=\"topdefs-dc79d3\"><g class=\"clips\"/></defs><g class=\"layer-above\"><g class=\"imagelayer\"/><g class=\"shapelayer\"/></g><g class=\"infolayer\"><g class=\"g-gtitle\"><text class=\"gtitle\" x=\"35\" y=\"50\" text-anchor=\"start\" dy=\"0em\" style=\"font-family: 'Open Sans', verdana, arial, sans-serif; font-size: 17px; fill: rgb(42, 63, 95); opacity: 1; font-weight: normal; white-space: pre;\">Распределение посадочных мест для улиц с большим количеством заведений</text></g><g class=\"g-xtitle\"><text class=\"xtitle\" x=\"409\" y=\"460.8\" text-anchor=\"middle\" style=\"font-family: 'Open Sans', verdana, arial, sans-serif; font-size: 14px; fill: rgb(42, 63, 95); opacity: 1; font-weight: normal; white-space: pre;\">number</text></g><g class=\"g-ytitle\" transform=\"translate(2.0498046875,0)\"><text class=\"ytitle\" transform=\"rotate(-90,11.949999999999989,260)\" x=\"11.949999999999989\" y=\"260\" text-anchor=\"middle\" style=\"font-family: 'Open Sans', verdana, arial, sans-serif; font-size: 14px; fill: rgb(42, 63, 95); opacity: 1; font-weight: normal; white-space: pre;\">street</text></g></g></svg>"
      ]
     },
     "metadata": {},
     "output_type": "display_data"
    }
   ],
   "source": [
    "fig = px.bar(number_top10, orientation='h',\n",
    "             y=number_top10.index, x='mean',\n",
    "             title='Распределение посадочных мест для улиц с большим количеством заведений')\n",
    "\n",
    "fig.update_layout(\n",
    "    xaxis_title='number'\n",
    ")\n",
    "\n",
    "fig.show()"
   ]
  },
  {
   "cell_type": "code",
   "execution_count": 77,
   "metadata": {
    "colab": {
     "base_uri": "https://localhost:8080/"
    },
    "executionInfo": {
     "elapsed": 655,
     "status": "ok",
     "timestamp": 1627832520601,
     "user": {
      "displayName": "Арсен",
      "photoUrl": "https://lh3.googleusercontent.com/a-/AOh14GjPCG8vWVVB43Ax1wpE_vEPLjGP-XH0UWc12vB7wg=s64",
      "userId": "17661651445996378067"
     },
     "user_tz": -180
    },
    "id": "4ZjX5kDqRIPs",
    "outputId": "48baa6ef-2692-4bba-b5b1-e3d5d5d68838"
   },
   "outputs": [
    {
     "data": {
      "text/plain": [
       "56"
      ]
     },
     "execution_count": 77,
     "metadata": {},
     "output_type": "execute_result"
    }
   ],
   "source": [
    "int(np.ceil(number_top10['mean'].mean()))"
   ]
  },
  {
   "cell_type": "markdown",
   "metadata": {
    "id": "jKOKab39Q2oa"
   },
   "source": [
    "Для улиц с большим количество объектов характерны заведения с большим количеством посадочных мест (в среднем по 56 мест)."
   ]
  },
  {
   "cell_type": "markdown",
   "metadata": {
    "id": "YTbJQon_G57c"
   },
   "source": [
    "# Общий вывод и рекомендации"
   ]
  },
  {
   "cell_type": "markdown",
   "metadata": {
    "id": "vby-UX_63OFz"
   },
   "source": [
    "1. 40% всех заведений Москвы - это кафе. Сильная конкуренция для нас. Рестораны занимают 15%. В принципе можно и ресторан открыть, а не кафе.\n",
    "2. У кафе и ресторанов примерно одинаковое количество сетевых заведений - в районе 23%. Для нас несомненный плюс - сетевые заведения довольно серьезные конкуренты, и могли бы спокойно выдавить нас с рынка на начальном этапе.\n",
    "3. Лидер по сетевым заведениям - предприятия быстрого обслуживания. По сути они не наши прямые конкуренты, так что страшиться нам нечего.\n",
    "4. В среднем в кафе по 30 посадочных мест, в ресторанах - 80. Для нас эти цифры будет наглядным ориентиром. Больше 80 посадочных мест делать не нужно, но и меньше 30 определенно точно не стоит. 50 вполне приемлемо.\n",
    "5. Судя по тепловой карте топ-10 улиц по количеству заведений, кафе/ресторан нам открывать лучше на Юго-Востоке Москвы. Меньше заведений - меньше конкуренция.\n",
    "\n",
    "Итак, открываем кафе/ресторан на Юго-Востоке Москвы на 50 посадочных мест.\n",
    "\n"
   ]
  },
  {
   "cell_type": "markdown",
   "metadata": {
    "id": "lDRlffDe7Kua"
   },
   "source": [
    "Презентация: https://disk.yandex.ru/i/cy-t_LTgvWbFAg"
   ]
  }
 ],
 "metadata": {
  "ExecuteTimeLog": [
   {
    "duration": 1984,
    "start_time": "2021-06-24T19:52:59.271Z"
   },
   {
    "duration": 347,
    "start_time": "2021-06-24T19:53:01.258Z"
   },
   {
    "duration": 17,
    "start_time": "2021-06-24T19:53:01.608Z"
   },
   {
    "duration": 17,
    "start_time": "2021-06-24T19:53:01.629Z"
   },
   {
    "duration": 18,
    "start_time": "2021-06-24T19:53:01.649Z"
   },
   {
    "duration": 37,
    "start_time": "2021-06-24T19:53:01.670Z"
   },
   {
    "duration": 628,
    "start_time": "2021-06-24T19:53:01.710Z"
   },
   {
    "duration": 59,
    "start_time": "2021-06-24T19:53:02.342Z"
   },
   {
    "duration": 9,
    "start_time": "2021-06-24T19:53:02.405Z"
   },
   {
    "duration": 42,
    "start_time": "2021-06-24T19:53:02.417Z"
   },
   {
    "duration": 6,
    "start_time": "2021-06-24T19:53:02.462Z"
   },
   {
    "duration": 19,
    "start_time": "2021-06-24T19:53:02.502Z"
   },
   {
    "duration": 17,
    "start_time": "2021-06-24T19:53:02.523Z"
   },
   {
    "duration": 14,
    "start_time": "2021-06-24T19:53:02.543Z"
   },
   {
    "duration": 49,
    "start_time": "2021-06-24T19:53:02.559Z"
   },
   {
    "duration": 11,
    "start_time": "2021-06-24T19:53:02.610Z"
   },
   {
    "duration": 17,
    "start_time": "2021-06-24T19:53:02.624Z"
   },
   {
    "duration": 579,
    "start_time": "2021-06-24T19:53:02.644Z"
   },
   {
    "duration": 19,
    "start_time": "2021-06-24T19:53:03.225Z"
   },
   {
    "duration": 16,
    "start_time": "2021-06-24T19:53:03.246Z"
   },
   {
    "duration": 785,
    "start_time": "2021-06-24T19:53:03.265Z"
   },
   {
    "duration": 461,
    "start_time": "2021-06-24T19:53:04.052Z"
   },
   {
    "duration": 18,
    "start_time": "2021-06-24T19:53:04.518Z"
   },
   {
    "duration": 709,
    "start_time": "2021-06-24T19:53:04.541Z"
   },
   {
    "duration": -82,
    "start_time": "2021-06-24T19:53:05.335Z"
   },
   {
    "duration": -85,
    "start_time": "2021-06-24T19:53:05.339Z"
   },
   {
    "duration": -85,
    "start_time": "2021-06-24T19:53:05.341Z"
   },
   {
    "duration": -91,
    "start_time": "2021-06-24T19:53:05.349Z"
   },
   {
    "duration": -93,
    "start_time": "2021-06-24T19:53:05.352Z"
   },
   {
    "duration": -93,
    "start_time": "2021-06-24T19:53:05.354Z"
   },
   {
    "duration": -95,
    "start_time": "2021-06-24T19:53:05.357Z"
   },
   {
    "duration": -95,
    "start_time": "2021-06-24T19:53:05.359Z"
   },
   {
    "duration": -96,
    "start_time": "2021-06-24T19:53:05.361Z"
   },
   {
    "duration": -97,
    "start_time": "2021-06-24T19:53:05.364Z"
   },
   {
    "duration": -98,
    "start_time": "2021-06-24T19:53:05.367Z"
   },
   {
    "duration": -99,
    "start_time": "2021-06-24T19:53:05.369Z"
   },
   {
    "duration": -100,
    "start_time": "2021-06-24T19:53:05.371Z"
   },
   {
    "duration": -102,
    "start_time": "2021-06-24T19:53:05.374Z"
   },
   {
    "duration": -102,
    "start_time": "2021-06-24T19:53:05.376Z"
   },
   {
    "duration": -103,
    "start_time": "2021-06-24T19:53:05.378Z"
   },
   {
    "duration": -104,
    "start_time": "2021-06-24T19:53:05.380Z"
   },
   {
    "duration": -106,
    "start_time": "2021-06-24T19:53:05.383Z"
   },
   {
    "duration": -107,
    "start_time": "2021-06-24T19:53:05.385Z"
   },
   {
    "duration": -107,
    "start_time": "2021-06-24T19:53:05.387Z"
   },
   {
    "duration": 83,
    "start_time": "2021-06-24T19:53:54.478Z"
   },
   {
    "duration": 18856,
    "start_time": "2021-06-24T19:53:57.244Z"
   },
   {
    "duration": 1424,
    "start_time": "2021-06-24T19:54:26.841Z"
   },
   {
    "duration": 195,
    "start_time": "2021-06-24T19:54:28.268Z"
   },
   {
    "duration": 17,
    "start_time": "2021-06-24T19:54:28.465Z"
   },
   {
    "duration": 16,
    "start_time": "2021-06-24T19:54:28.485Z"
   },
   {
    "duration": 13,
    "start_time": "2021-06-24T19:54:28.504Z"
   },
   {
    "duration": 6,
    "start_time": "2021-06-24T19:54:28.520Z"
   },
   {
    "duration": 624,
    "start_time": "2021-06-24T19:54:28.528Z"
   },
   {
    "duration": 54,
    "start_time": "2021-06-24T19:54:29.157Z"
   },
   {
    "duration": 7,
    "start_time": "2021-06-24T19:54:29.213Z"
   },
   {
    "duration": 29,
    "start_time": "2021-06-24T19:54:29.223Z"
   },
   {
    "duration": 6,
    "start_time": "2021-06-24T19:54:29.254Z"
   },
   {
    "duration": 15,
    "start_time": "2021-06-24T19:54:29.300Z"
   },
   {
    "duration": 16,
    "start_time": "2021-06-24T19:54:29.318Z"
   },
   {
    "duration": 11,
    "start_time": "2021-06-24T19:54:29.337Z"
   },
   {
    "duration": 51,
    "start_time": "2021-06-24T19:54:29.350Z"
   },
   {
    "duration": 10,
    "start_time": "2021-06-24T19:54:29.403Z"
   },
   {
    "duration": 13,
    "start_time": "2021-06-24T19:54:29.415Z"
   },
   {
    "duration": 606,
    "start_time": "2021-06-24T19:54:29.431Z"
   },
   {
    "duration": 18,
    "start_time": "2021-06-24T19:54:30.040Z"
   },
   {
    "duration": 20,
    "start_time": "2021-06-24T19:54:30.060Z"
   },
   {
    "duration": 288,
    "start_time": "2021-06-24T19:54:30.082Z"
   },
   {
    "duration": 47,
    "start_time": "2021-06-24T19:54:30.373Z"
   },
   {
    "duration": 75,
    "start_time": "2021-06-24T19:54:30.426Z"
   },
   {
    "duration": 46,
    "start_time": "2021-06-24T19:54:30.504Z"
   },
   {
    "duration": 11,
    "start_time": "2021-06-24T19:54:30.601Z"
   },
   {
    "duration": 36,
    "start_time": "2021-06-24T19:54:30.615Z"
   },
   {
    "duration": 12,
    "start_time": "2021-06-24T19:54:30.701Z"
   },
   {
    "duration": 30,
    "start_time": "2021-06-24T19:54:30.716Z"
   },
   {
    "duration": 234,
    "start_time": "2021-06-24T19:54:30.749Z"
   },
   {
    "duration": 501,
    "start_time": "2021-06-24T19:54:30.986Z"
   },
   {
    "duration": 14,
    "start_time": "2021-06-24T19:54:31.489Z"
   },
   {
    "duration": 105,
    "start_time": "2021-06-24T19:54:31.505Z"
   },
   {
    "duration": 6,
    "start_time": "2021-06-24T19:54:31.612Z"
   },
   {
    "duration": 22,
    "start_time": "2021-06-24T19:54:31.620Z"
   },
   {
    "duration": 491,
    "start_time": "2021-06-24T19:54:31.645Z"
   },
   {
    "duration": 209,
    "start_time": "2021-06-24T19:54:32.139Z"
   },
   {
    "duration": 9,
    "start_time": "2021-06-24T19:54:32.350Z"
   },
   {
    "duration": 13,
    "start_time": "2021-06-24T19:54:32.361Z"
   },
   {
    "duration": 40,
    "start_time": "2021-06-24T19:54:32.376Z"
   },
   {
    "duration": 18,
    "start_time": "2021-06-24T19:54:32.419Z"
   },
   {
    "duration": 18,
    "start_time": "2021-06-24T19:54:32.440Z"
   },
   {
    "duration": 44,
    "start_time": "2021-06-24T19:54:32.461Z"
   },
   {
    "duration": 9,
    "start_time": "2021-06-24T19:54:32.508Z"
   },
   {
    "duration": 26,
    "start_time": "2021-06-24T19:54:32.519Z"
   },
   {
    "duration": 1932,
    "start_time": "2021-06-25T11:15:39.260Z"
   },
   {
    "duration": 596,
    "start_time": "2021-06-25T11:15:41.194Z"
   },
   {
    "duration": 14,
    "start_time": "2021-06-25T11:15:41.793Z"
   },
   {
    "duration": 20,
    "start_time": "2021-06-25T11:15:41.810Z"
   },
   {
    "duration": 18,
    "start_time": "2021-06-25T11:15:41.832Z"
   },
   {
    "duration": 7,
    "start_time": "2021-06-25T11:15:41.853Z"
   },
   {
    "duration": 799,
    "start_time": "2021-06-25T11:15:41.863Z"
   },
   {
    "duration": 36,
    "start_time": "2021-06-25T11:15:42.668Z"
   },
   {
    "duration": 7,
    "start_time": "2021-06-25T11:15:42.707Z"
   },
   {
    "duration": 63,
    "start_time": "2021-06-25T11:15:42.716Z"
   },
   {
    "duration": 6,
    "start_time": "2021-06-25T11:15:42.782Z"
   },
   {
    "duration": 19,
    "start_time": "2021-06-25T11:15:42.792Z"
   },
   {
    "duration": 55,
    "start_time": "2021-06-25T11:15:42.814Z"
   },
   {
    "duration": 17,
    "start_time": "2021-06-25T11:15:42.872Z"
   },
   {
    "duration": 11,
    "start_time": "2021-06-25T11:15:42.891Z"
   },
   {
    "duration": 9,
    "start_time": "2021-06-25T11:15:42.904Z"
   },
   {
    "duration": 45,
    "start_time": "2021-06-25T11:15:42.916Z"
   },
   {
    "duration": 594,
    "start_time": "2021-06-25T11:15:42.964Z"
   },
   {
    "duration": 19,
    "start_time": "2021-06-25T11:15:43.560Z"
   },
   {
    "duration": 15,
    "start_time": "2021-06-25T11:15:43.582Z"
   },
   {
    "duration": 777,
    "start_time": "2021-06-25T11:15:43.599Z"
   },
   {
    "duration": 427,
    "start_time": "2021-06-25T11:15:44.378Z"
   },
   {
    "duration": 17,
    "start_time": "2021-06-25T11:15:44.809Z"
   },
   {
    "duration": 1303,
    "start_time": "2021-06-25T11:15:44.829Z"
   },
   {
    "duration": 26695,
    "start_time": "2021-06-25T11:15:19.441Z"
   },
   {
    "duration": 26693,
    "start_time": "2021-06-25T11:15:19.445Z"
   },
   {
    "duration": 26690,
    "start_time": "2021-06-25T11:15:19.450Z"
   },
   {
    "duration": 26687,
    "start_time": "2021-06-25T11:15:19.455Z"
   },
   {
    "duration": 26680,
    "start_time": "2021-06-25T11:15:19.464Z"
   },
   {
    "duration": 26679,
    "start_time": "2021-06-25T11:15:19.468Z"
   },
   {
    "duration": 26676,
    "start_time": "2021-06-25T11:15:19.472Z"
   },
   {
    "duration": 26676,
    "start_time": "2021-06-25T11:15:19.475Z"
   },
   {
    "duration": 26674,
    "start_time": "2021-06-25T11:15:19.479Z"
   },
   {
    "duration": 26673,
    "start_time": "2021-06-25T11:15:19.482Z"
   },
   {
    "duration": 26670,
    "start_time": "2021-06-25T11:15:19.487Z"
   },
   {
    "duration": 26670,
    "start_time": "2021-06-25T11:15:19.490Z"
   },
   {
    "duration": 26668,
    "start_time": "2021-06-25T11:15:19.494Z"
   },
   {
    "duration": 26667,
    "start_time": "2021-06-25T11:15:19.497Z"
   },
   {
    "duration": 26666,
    "start_time": "2021-06-25T11:15:19.501Z"
   },
   {
    "duration": 26657,
    "start_time": "2021-06-25T11:15:19.512Z"
   },
   {
    "duration": 26655,
    "start_time": "2021-06-25T11:15:19.516Z"
   },
   {
    "duration": 26654,
    "start_time": "2021-06-25T11:15:19.519Z"
   },
   {
    "duration": 26652,
    "start_time": "2021-06-25T11:15:19.523Z"
   },
   {
    "duration": 26651,
    "start_time": "2021-06-25T11:15:19.527Z"
   },
   {
    "duration": 11,
    "start_time": "2021-06-25T11:16:11.846Z"
   },
   {
    "duration": 199,
    "start_time": "2021-06-25T11:16:12.420Z"
   },
   {
    "duration": 410,
    "start_time": "2021-06-25T11:16:17.276Z"
   },
   {
    "duration": 12,
    "start_time": "2021-06-25T11:16:35.606Z"
   },
   {
    "duration": 603,
    "start_time": "2021-06-25T11:16:36.229Z"
   },
   {
    "duration": 258,
    "start_time": "2021-06-25T11:16:39.429Z"
   },
   {
    "duration": 265,
    "start_time": "2021-06-25T11:16:41.421Z"
   },
   {
    "duration": 7,
    "start_time": "2021-06-25T11:16:47.150Z"
   },
   {
    "duration": 304,
    "start_time": "2021-06-25T11:16:49.229Z"
   },
   {
    "duration": 19118,
    "start_time": "2021-06-25T11:29:30.704Z"
   },
   {
    "duration": 7735,
    "start_time": "2021-06-25T11:31:38.457Z"
   },
   {
    "duration": 46326,
    "start_time": "2021-06-25T11:32:42.954Z"
   },
   {
    "duration": 1834,
    "start_time": "2021-06-25T11:34:41.068Z"
   },
   {
    "duration": 21226,
    "start_time": "2021-06-25T11:34:42.905Z"
   },
   {
    "duration": 370,
    "start_time": "2021-06-25T11:35:04.134Z"
   },
   {
    "duration": 19,
    "start_time": "2021-06-25T11:35:04.507Z"
   },
   {
    "duration": 12,
    "start_time": "2021-06-25T11:35:04.528Z"
   },
   {
    "duration": 11,
    "start_time": "2021-06-25T11:35:04.543Z"
   },
   {
    "duration": 6,
    "start_time": "2021-06-25T11:35:04.557Z"
   },
   {
    "duration": 692,
    "start_time": "2021-06-25T11:35:04.568Z"
   },
   {
    "duration": 61,
    "start_time": "2021-06-25T11:35:05.263Z"
   },
   {
    "duration": 8,
    "start_time": "2021-06-25T11:35:05.326Z"
   },
   {
    "duration": 46,
    "start_time": "2021-06-25T11:35:05.337Z"
   },
   {
    "duration": 39,
    "start_time": "2021-06-25T11:35:05.386Z"
   },
   {
    "duration": 20,
    "start_time": "2021-06-25T11:35:05.428Z"
   },
   {
    "duration": 21,
    "start_time": "2021-06-25T11:35:05.451Z"
   },
   {
    "duration": 51,
    "start_time": "2021-06-25T11:35:05.475Z"
   },
   {
    "duration": 13,
    "start_time": "2021-06-25T11:35:05.529Z"
   },
   {
    "duration": 18,
    "start_time": "2021-06-25T11:35:05.544Z"
   },
   {
    "duration": 20,
    "start_time": "2021-06-25T11:35:05.565Z"
   },
   {
    "duration": 541,
    "start_time": "2021-06-25T11:35:05.587Z"
   },
   {
    "duration": 19,
    "start_time": "2021-06-25T11:35:06.131Z"
   },
   {
    "duration": 16,
    "start_time": "2021-06-25T11:35:06.152Z"
   },
   {
    "duration": 307,
    "start_time": "2021-06-25T11:35:06.171Z"
   },
   {
    "duration": 53,
    "start_time": "2021-06-25T11:35:06.483Z"
   },
   {
    "duration": 25,
    "start_time": "2021-06-25T11:35:06.539Z"
   },
   {
    "duration": 217,
    "start_time": "2021-06-25T11:35:06.567Z"
   },
   {
    "duration": 11,
    "start_time": "2021-06-25T11:35:06.825Z"
   },
   {
    "duration": 26,
    "start_time": "2021-06-25T11:35:06.838Z"
   },
   {
    "duration": 12,
    "start_time": "2021-06-25T11:35:06.866Z"
   },
   {
    "duration": 60,
    "start_time": "2021-06-25T11:35:06.882Z"
   },
   {
    "duration": 318,
    "start_time": "2021-06-25T11:35:06.946Z"
   },
   {
    "duration": 343,
    "start_time": "2021-06-25T11:35:07.267Z"
   },
   {
    "duration": 15,
    "start_time": "2021-06-25T11:35:07.613Z"
   },
   {
    "duration": 109,
    "start_time": "2021-06-25T11:35:07.631Z"
   },
   {
    "duration": 7,
    "start_time": "2021-06-25T11:35:07.743Z"
   },
   {
    "duration": 16,
    "start_time": "2021-06-25T11:35:07.752Z"
   },
   {
    "duration": 468,
    "start_time": "2021-06-25T11:35:07.770Z"
   },
   {
    "duration": 323,
    "start_time": "2021-06-25T11:35:08.240Z"
   },
   {
    "duration": 10,
    "start_time": "2021-06-25T11:35:08.566Z"
   },
   {
    "duration": 49,
    "start_time": "2021-06-25T11:35:08.579Z"
   },
   {
    "duration": 20,
    "start_time": "2021-06-25T11:35:08.630Z"
   },
   {
    "duration": 20,
    "start_time": "2021-06-25T11:35:08.653Z"
   },
   {
    "duration": 52,
    "start_time": "2021-06-25T11:35:08.676Z"
   },
   {
    "duration": 14,
    "start_time": "2021-06-25T11:35:08.730Z"
   },
   {
    "duration": 30,
    "start_time": "2021-06-25T11:35:08.746Z"
   },
   {
    "duration": 49,
    "start_time": "2021-06-25T11:35:08.779Z"
   },
   {
    "duration": 1964,
    "start_time": "2021-06-25T12:10:07.322Z"
   },
   {
    "duration": 73160,
    "start_time": "2021-06-25T12:10:09.288Z"
   },
   {
    "duration": 275,
    "start_time": "2021-06-25T12:11:22.451Z"
   },
   {
    "duration": 19,
    "start_time": "2021-06-25T12:11:22.728Z"
   },
   {
    "duration": 11,
    "start_time": "2021-06-25T12:11:22.749Z"
   },
   {
    "duration": 14,
    "start_time": "2021-06-25T12:11:22.763Z"
   },
   {
    "duration": 6,
    "start_time": "2021-06-25T12:11:22.779Z"
   },
   {
    "duration": 993,
    "start_time": "2021-06-25T12:11:22.788Z"
   },
   {
    "duration": 41,
    "start_time": "2021-06-25T12:11:23.784Z"
   },
   {
    "duration": 711,
    "start_time": "2021-06-25T12:11:23.828Z"
   },
   {
    "duration": 760,
    "start_time": "2021-06-25T12:11:24.541Z"
   },
   {
    "duration": 5,
    "start_time": "2021-06-25T12:11:25.303Z"
   },
   {
    "duration": 23,
    "start_time": "2021-06-25T12:11:25.310Z"
   },
   {
    "duration": 24,
    "start_time": "2021-06-25T12:11:25.335Z"
   },
   {
    "duration": 14,
    "start_time": "2021-06-25T12:11:25.361Z"
   },
   {
    "duration": 13,
    "start_time": "2021-06-25T12:11:25.377Z"
   },
   {
    "duration": 12,
    "start_time": "2021-06-25T12:11:25.393Z"
   },
   {
    "duration": 21,
    "start_time": "2021-06-25T12:11:25.407Z"
   },
   {
    "duration": 636,
    "start_time": "2021-06-25T12:11:25.431Z"
   },
   {
    "duration": 21,
    "start_time": "2021-06-25T12:11:26.069Z"
   },
   {
    "duration": 14,
    "start_time": "2021-06-25T12:11:26.092Z"
   },
   {
    "duration": 1087,
    "start_time": "2021-06-25T12:11:26.109Z"
   },
   {
    "duration": 441,
    "start_time": "2021-06-25T12:11:27.200Z"
   },
   {
    "duration": 25,
    "start_time": "2021-06-25T12:11:27.644Z"
   },
   {
    "duration": 727,
    "start_time": "2021-06-25T12:11:27.672Z"
   },
   {
    "duration": 26798,
    "start_time": "2021-06-25T12:11:01.604Z"
   },
   {
    "duration": 26794,
    "start_time": "2021-06-25T12:11:01.609Z"
   },
   {
    "duration": 26791,
    "start_time": "2021-06-25T12:11:01.613Z"
   },
   {
    "duration": 26789,
    "start_time": "2021-06-25T12:11:01.617Z"
   },
   {
    "duration": 26786,
    "start_time": "2021-06-25T12:11:01.621Z"
   },
   {
    "duration": 26783,
    "start_time": "2021-06-25T12:11:01.625Z"
   },
   {
    "duration": 26781,
    "start_time": "2021-06-25T12:11:01.629Z"
   },
   {
    "duration": 26778,
    "start_time": "2021-06-25T12:11:01.633Z"
   },
   {
    "duration": 26775,
    "start_time": "2021-06-25T12:11:01.637Z"
   },
   {
    "duration": 26773,
    "start_time": "2021-06-25T12:11:01.640Z"
   },
   {
    "duration": 26763,
    "start_time": "2021-06-25T12:11:01.652Z"
   },
   {
    "duration": 26758,
    "start_time": "2021-06-25T12:11:01.658Z"
   },
   {
    "duration": 26755,
    "start_time": "2021-06-25T12:11:01.662Z"
   },
   {
    "duration": 26752,
    "start_time": "2021-06-25T12:11:01.666Z"
   },
   {
    "duration": 26749,
    "start_time": "2021-06-25T12:11:01.670Z"
   },
   {
    "duration": 26748,
    "start_time": "2021-06-25T12:11:01.673Z"
   },
   {
    "duration": 26746,
    "start_time": "2021-06-25T12:11:01.676Z"
   },
   {
    "duration": 26743,
    "start_time": "2021-06-25T12:11:01.680Z"
   },
   {
    "duration": 26740,
    "start_time": "2021-06-25T12:11:01.684Z"
   },
   {
    "duration": 26739,
    "start_time": "2021-06-25T12:11:01.687Z"
   },
   {
    "duration": 1980,
    "start_time": "2021-06-25T12:12:25.969Z"
   },
   {
    "duration": 23997,
    "start_time": "2021-06-25T12:12:27.952Z"
   },
   {
    "duration": 128,
    "start_time": "2021-06-25T12:12:51.952Z"
   },
   {
    "duration": 19,
    "start_time": "2021-06-25T12:12:52.083Z"
   },
   {
    "duration": 11,
    "start_time": "2021-06-25T12:12:52.105Z"
   },
   {
    "duration": 15,
    "start_time": "2021-06-25T12:12:52.119Z"
   },
   {
    "duration": 6,
    "start_time": "2021-06-25T12:12:52.137Z"
   },
   {
    "duration": 934,
    "start_time": "2021-06-25T12:12:52.167Z"
   },
   {
    "duration": 70,
    "start_time": "2021-06-25T12:12:53.104Z"
   },
   {
    "duration": 8,
    "start_time": "2021-06-25T12:12:53.177Z"
   },
   {
    "duration": 40,
    "start_time": "2021-06-25T12:12:53.188Z"
   },
   {
    "duration": 39,
    "start_time": "2021-06-25T12:12:53.230Z"
   },
   {
    "duration": 25,
    "start_time": "2021-06-25T12:12:53.272Z"
   },
   {
    "duration": 24,
    "start_time": "2021-06-25T12:12:53.300Z"
   },
   {
    "duration": 13,
    "start_time": "2021-06-25T12:12:53.326Z"
   },
   {
    "duration": 36,
    "start_time": "2021-06-25T12:12:53.341Z"
   },
   {
    "duration": 9,
    "start_time": "2021-06-25T12:12:53.380Z"
   },
   {
    "duration": 13,
    "start_time": "2021-06-25T12:12:53.391Z"
   },
   {
    "duration": 555,
    "start_time": "2021-06-25T12:12:53.406Z"
   },
   {
    "duration": 19,
    "start_time": "2021-06-25T12:12:53.963Z"
   },
   {
    "duration": 13,
    "start_time": "2021-06-25T12:12:53.985Z"
   },
   {
    "duration": 372,
    "start_time": "2021-06-25T12:12:54.000Z"
   },
   {
    "duration": 26,
    "start_time": "2021-06-25T12:12:54.377Z"
   },
   {
    "duration": 70,
    "start_time": "2021-06-25T12:12:54.406Z"
   },
   {
    "duration": 205,
    "start_time": "2021-06-25T12:12:54.478Z"
   },
   {
    "duration": 10,
    "start_time": "2021-06-25T12:12:54.685Z"
   },
   {
    "duration": 28,
    "start_time": "2021-06-25T12:12:54.698Z"
   },
   {
    "duration": 42,
    "start_time": "2021-06-25T12:12:54.728Z"
   },
   {
    "duration": 27,
    "start_time": "2021-06-25T12:12:54.772Z"
   },
   {
    "duration": 292,
    "start_time": "2021-06-25T12:12:54.801Z"
   },
   {
    "duration": 342,
    "start_time": "2021-06-25T12:12:55.096Z"
   },
   {
    "duration": 6,
    "start_time": "2021-06-25T12:12:55.440Z"
   },
   {
    "duration": 103,
    "start_time": "2021-06-25T12:12:55.449Z"
   },
   {
    "duration": 15,
    "start_time": "2021-06-25T12:12:55.555Z"
   },
   {
    "duration": 14,
    "start_time": "2021-06-25T12:12:55.573Z"
   },
   {
    "duration": 450,
    "start_time": "2021-06-25T12:12:55.590Z"
   },
   {
    "duration": 311,
    "start_time": "2021-06-25T12:12:56.043Z"
   },
   {
    "duration": 15,
    "start_time": "2021-06-25T12:12:56.357Z"
   },
   {
    "duration": 47,
    "start_time": "2021-06-25T12:12:56.374Z"
   },
   {
    "duration": 20,
    "start_time": "2021-06-25T12:12:56.423Z"
   },
   {
    "duration": 37,
    "start_time": "2021-06-25T12:12:56.446Z"
   },
   {
    "duration": 14,
    "start_time": "2021-06-25T12:12:56.486Z"
   },
   {
    "duration": 11,
    "start_time": "2021-06-25T12:12:56.503Z"
   },
   {
    "duration": 61,
    "start_time": "2021-06-25T12:12:56.516Z"
   },
   {
    "duration": 19,
    "start_time": "2021-06-25T12:12:56.580Z"
   },
   {
    "duration": 1581,
    "start_time": "2021-06-25T13:21:27.188Z"
   },
   {
    "duration": 25211,
    "start_time": "2021-06-25T13:21:28.771Z"
   },
   {
    "duration": 302,
    "start_time": "2021-06-25T13:21:53.986Z"
   },
   {
    "duration": 17,
    "start_time": "2021-06-25T13:21:54.291Z"
   },
   {
    "duration": 19,
    "start_time": "2021-06-25T13:21:54.311Z"
   },
   {
    "duration": 17,
    "start_time": "2021-06-25T13:21:54.332Z"
   },
   {
    "duration": 13,
    "start_time": "2021-06-25T13:21:54.351Z"
   },
   {
    "duration": 2664,
    "start_time": "2021-06-25T13:21:54.368Z"
   },
   {
    "duration": 58,
    "start_time": "2021-06-25T13:21:57.036Z"
   },
   {
    "duration": 7,
    "start_time": "2021-06-25T13:21:57.096Z"
   },
   {
    "duration": 71,
    "start_time": "2021-06-25T13:21:57.106Z"
   },
   {
    "duration": 5,
    "start_time": "2021-06-25T13:21:57.179Z"
   },
   {
    "duration": 24,
    "start_time": "2021-06-25T13:21:57.186Z"
   },
   {
    "duration": 25,
    "start_time": "2021-06-25T13:21:57.212Z"
   },
   {
    "duration": 33,
    "start_time": "2021-06-25T13:21:57.240Z"
   },
   {
    "duration": 18,
    "start_time": "2021-06-25T13:21:57.276Z"
   },
   {
    "duration": 16,
    "start_time": "2021-06-25T13:21:57.296Z"
   },
   {
    "duration": 16,
    "start_time": "2021-06-25T13:21:57.315Z"
   },
   {
    "duration": 536,
    "start_time": "2021-06-25T13:21:57.334Z"
   },
   {
    "duration": 21,
    "start_time": "2021-06-25T13:21:57.872Z"
   },
   {
    "duration": 34,
    "start_time": "2021-06-25T13:21:57.896Z"
   },
   {
    "duration": 374,
    "start_time": "2021-06-25T13:21:57.932Z"
   },
   {
    "duration": 61,
    "start_time": "2021-06-25T13:21:58.311Z"
   },
   {
    "duration": 26,
    "start_time": "2021-06-25T13:21:58.376Z"
   },
   {
    "duration": 91,
    "start_time": "2021-06-25T13:21:58.404Z"
   },
   {
    "duration": 69,
    "start_time": "2021-06-25T13:21:58.498Z"
   },
   {
    "duration": 45,
    "start_time": "2021-06-25T13:21:58.571Z"
   },
   {
    "duration": 16,
    "start_time": "2021-06-25T13:21:58.667Z"
   },
   {
    "duration": 30,
    "start_time": "2021-06-25T13:21:58.686Z"
   },
   {
    "duration": 377,
    "start_time": "2021-06-25T13:21:58.719Z"
   },
   {
    "duration": 430,
    "start_time": "2021-06-25T13:21:59.099Z"
   },
   {
    "duration": 7,
    "start_time": "2021-06-25T13:21:59.532Z"
   },
   {
    "duration": 108,
    "start_time": "2021-06-25T13:21:59.542Z"
   },
   {
    "duration": 7,
    "start_time": "2021-06-25T13:21:59.668Z"
   },
   {
    "duration": 22,
    "start_time": "2021-06-25T13:21:59.678Z"
   },
   {
    "duration": 425,
    "start_time": "2021-06-25T13:21:59.702Z"
   },
   {
    "duration": 345,
    "start_time": "2021-06-25T13:22:00.129Z"
   },
   {
    "duration": 10,
    "start_time": "2021-06-25T13:22:00.476Z"
   },
   {
    "duration": 42,
    "start_time": "2021-06-25T13:22:00.488Z"
   },
   {
    "duration": 39,
    "start_time": "2021-06-25T13:22:00.533Z"
   },
   {
    "duration": 20,
    "start_time": "2021-06-25T13:22:00.574Z"
   },
   {
    "duration": 21,
    "start_time": "2021-06-25T13:22:00.596Z"
   },
   {
    "duration": 32,
    "start_time": "2021-06-25T13:22:00.619Z"
   },
   {
    "duration": 44,
    "start_time": "2021-06-25T13:22:00.667Z"
   },
   {
    "duration": 51,
    "start_time": "2021-06-25T13:22:00.713Z"
   },
   {
    "duration": 9,
    "start_time": "2021-06-25T13:39:32.658Z"
   },
   {
    "duration": 6,
    "start_time": "2021-06-25T13:39:33.591Z"
   },
   {
    "duration": 1852,
    "start_time": "2021-06-25T13:45:15.462Z"
   },
   {
    "duration": 49,
    "start_time": "2021-06-25T13:45:41.587Z"
   },
   {
    "duration": 92,
    "start_time": "2021-06-25T13:45:44.144Z"
   },
   {
    "duration": 209,
    "start_time": "2021-06-25T13:47:44.800Z"
   },
   {
    "duration": 17,
    "start_time": "2021-06-25T13:47:47.769Z"
   },
   {
    "duration": 11,
    "start_time": "2021-06-25T13:47:47.960Z"
   },
   {
    "duration": 10,
    "start_time": "2021-06-25T13:47:48.584Z"
   },
   {
    "duration": 7,
    "start_time": "2021-06-25T13:48:08.694Z"
   },
   {
    "duration": 679,
    "start_time": "2021-06-25T13:48:15.163Z"
   },
   {
    "duration": 34,
    "start_time": "2021-06-25T13:48:19.247Z"
   },
   {
    "duration": 8,
    "start_time": "2021-06-25T13:48:20.689Z"
   },
   {
    "duration": 30,
    "start_time": "2021-06-25T13:48:20.875Z"
   },
   {
    "duration": 6,
    "start_time": "2021-06-25T13:48:22.421Z"
   },
   {
    "duration": 201,
    "start_time": "2021-06-25T13:50:37.068Z"
   },
   {
    "duration": 199,
    "start_time": "2021-06-25T13:51:09.195Z"
   },
   {
    "duration": 12,
    "start_time": "2021-06-25T13:51:12.568Z"
   },
   {
    "duration": 185,
    "start_time": "2021-06-25T13:51:20.863Z"
   },
   {
    "duration": 12,
    "start_time": "2021-06-25T13:51:21.190Z"
   },
   {
    "duration": 6,
    "start_time": "2021-06-25T13:51:33.628Z"
   },
   {
    "duration": 13,
    "start_time": "2021-06-25T13:51:40.060Z"
   },
   {
    "duration": 8,
    "start_time": "2021-06-25T13:52:05.356Z"
   },
   {
    "duration": 7,
    "start_time": "2021-06-25T13:52:09.826Z"
   },
   {
    "duration": 595,
    "start_time": "2021-06-25T13:52:54.228Z"
   },
   {
    "duration": 6893,
    "start_time": "2021-06-25T13:53:00.082Z"
   },
   {
    "duration": 7129,
    "start_time": "2021-06-25T13:53:22.291Z"
   },
   {
    "duration": 14,
    "start_time": "2021-06-25T13:53:33.016Z"
   },
   {
    "duration": 17,
    "start_time": "2021-06-25T13:53:46.253Z"
   },
   {
    "duration": 8,
    "start_time": "2021-06-25T13:54:02.988Z"
   },
   {
    "duration": 6,
    "start_time": "2021-06-25T13:54:06.112Z"
   },
   {
    "duration": 6,
    "start_time": "2021-06-25T13:54:20.855Z"
   },
   {
    "duration": 7,
    "start_time": "2021-06-25T13:54:27.569Z"
   },
   {
    "duration": 7,
    "start_time": "2021-06-25T13:54:36.768Z"
   },
   {
    "duration": 26,
    "start_time": "2021-06-25T13:54:43.308Z"
   },
   {
    "duration": 19,
    "start_time": "2021-06-25T13:54:48.381Z"
   },
   {
    "duration": 19,
    "start_time": "2021-06-25T13:54:53.566Z"
   },
   {
    "duration": 21,
    "start_time": "2021-06-25T13:55:06.126Z"
   },
   {
    "duration": 7,
    "start_time": "2021-06-25T13:55:34.233Z"
   },
   {
    "duration": 282,
    "start_time": "2021-06-25T13:55:44.127Z"
   },
   {
    "duration": 6,
    "start_time": "2021-06-25T13:55:45.930Z"
   },
   {
    "duration": 14,
    "start_time": "2021-06-25T13:56:26.212Z"
   },
   {
    "duration": 14,
    "start_time": "2021-06-25T13:56:26.599Z"
   },
   {
    "duration": 14,
    "start_time": "2021-06-25T13:56:50.811Z"
   },
   {
    "duration": 17,
    "start_time": "2021-06-25T13:57:03.529Z"
   },
   {
    "duration": 20,
    "start_time": "2021-06-25T14:05:55.053Z"
   },
   {
    "duration": 8,
    "start_time": "2021-06-25T14:06:02.697Z"
   },
   {
    "duration": 6,
    "start_time": "2021-06-25T14:06:09.561Z"
   },
   {
    "duration": 9,
    "start_time": "2021-06-25T14:06:18.570Z"
   },
   {
    "duration": 6,
    "start_time": "2021-06-25T14:06:23.712Z"
   },
   {
    "duration": 7,
    "start_time": "2021-06-25T14:06:28.904Z"
   },
   {
    "duration": 19,
    "start_time": "2021-06-25T14:06:58.052Z"
   },
   {
    "duration": 7,
    "start_time": "2021-06-25T14:07:10.102Z"
   },
   {
    "duration": 9,
    "start_time": "2021-06-25T14:07:27.169Z"
   },
   {
    "duration": 154,
    "start_time": "2021-06-25T14:08:01.609Z"
   },
   {
    "duration": 12,
    "start_time": "2021-06-25T14:08:12.646Z"
   },
   {
    "duration": 109,
    "start_time": "2021-06-25T14:08:35.168Z"
   },
   {
    "duration": 107,
    "start_time": "2021-06-25T14:09:16.144Z"
   },
   {
    "duration": 22,
    "start_time": "2021-06-25T14:09:21.110Z"
   },
   {
    "duration": 19,
    "start_time": "2021-06-25T14:11:52.847Z"
   },
   {
    "duration": 22,
    "start_time": "2021-06-25T14:12:16.221Z"
   },
   {
    "duration": 21,
    "start_time": "2021-06-25T14:12:32.045Z"
   },
   {
    "duration": 20,
    "start_time": "2021-06-25T14:13:50.422Z"
   },
   {
    "duration": 21,
    "start_time": "2021-06-25T14:14:07.523Z"
   },
   {
    "duration": 20,
    "start_time": "2021-06-25T14:14:26.086Z"
   },
   {
    "duration": 14,
    "start_time": "2021-06-25T14:14:45.974Z"
   },
   {
    "duration": 25,
    "start_time": "2021-06-25T14:28:47.509Z"
   },
   {
    "duration": 22,
    "start_time": "2021-06-25T14:28:59.481Z"
   },
   {
    "duration": 15,
    "start_time": "2021-06-25T14:29:41.406Z"
   },
   {
    "duration": 14,
    "start_time": "2021-06-25T14:34:23.882Z"
   },
   {
    "duration": 301,
    "start_time": "2021-06-25T14:34:30.611Z"
   },
   {
    "duration": 507,
    "start_time": "2021-06-25T14:34:35.135Z"
   },
   {
    "duration": 414,
    "start_time": "2021-06-25T14:34:45.854Z"
   },
   {
    "duration": 8,
    "start_time": "2021-06-25T14:34:47.247Z"
   },
   {
    "duration": 16,
    "start_time": "2021-06-25T14:35:05.104Z"
   },
   {
    "duration": 17,
    "start_time": "2021-06-25T14:35:19.378Z"
   },
   {
    "duration": 15,
    "start_time": "2021-06-25T14:35:38.908Z"
   },
   {
    "duration": 16,
    "start_time": "2021-06-25T14:36:35.776Z"
   },
   {
    "duration": 16,
    "start_time": "2021-06-25T14:36:55.143Z"
   },
   {
    "duration": 12,
    "start_time": "2021-06-25T14:37:18.907Z"
   },
   {
    "duration": 11,
    "start_time": "2021-06-25T14:37:27.724Z"
   },
   {
    "duration": 284,
    "start_time": "2021-06-25T14:39:16.308Z"
   },
   {
    "duration": 6,
    "start_time": "2021-06-25T14:39:31.967Z"
   },
   {
    "duration": 7284,
    "start_time": "2021-06-25T14:40:00.908Z"
   },
   {
    "duration": 279,
    "start_time": "2021-06-25T14:40:13.105Z"
   },
   {
    "duration": 9,
    "start_time": "2021-06-25T14:40:32.409Z"
   },
   {
    "duration": 8,
    "start_time": "2021-06-25T14:40:36.192Z"
   },
   {
    "duration": 1970,
    "start_time": "2021-06-26T08:05:56.354Z"
   },
   {
    "duration": 3,
    "start_time": "2021-06-26T08:05:58.327Z"
   },
   {
    "duration": 522,
    "start_time": "2021-06-26T08:05:58.332Z"
   },
   {
    "duration": 16,
    "start_time": "2021-06-26T08:05:58.857Z"
   },
   {
    "duration": 18,
    "start_time": "2021-06-26T08:05:58.876Z"
   },
   {
    "duration": 17,
    "start_time": "2021-06-26T08:05:58.896Z"
   },
   {
    "duration": 9,
    "start_time": "2021-06-26T08:05:58.916Z"
   },
   {
    "duration": 790,
    "start_time": "2021-06-26T08:05:58.929Z"
   },
   {
    "duration": 35,
    "start_time": "2021-06-26T08:05:59.723Z"
   },
   {
    "duration": 45,
    "start_time": "2021-06-26T08:05:59.761Z"
   },
   {
    "duration": 35,
    "start_time": "2021-06-26T08:05:59.809Z"
   },
   {
    "duration": 8,
    "start_time": "2021-06-26T08:05:59.847Z"
   },
   {
    "duration": 475,
    "start_time": "2021-06-26T08:08:48.664Z"
   },
   {
    "duration": 16,
    "start_time": "2021-06-26T08:08:55.818Z"
   },
   {
    "duration": 11,
    "start_time": "2021-06-26T08:09:05.791Z"
   },
   {
    "duration": 7,
    "start_time": "2021-06-26T08:09:13.434Z"
   },
   {
    "duration": 309,
    "start_time": "2021-06-26T08:09:18.711Z"
   },
   {
    "duration": 15,
    "start_time": "2021-06-26T08:10:53.929Z"
   },
   {
    "duration": 12,
    "start_time": "2021-06-26T08:11:16.663Z"
   },
   {
    "duration": 16,
    "start_time": "2021-06-26T08:11:19.227Z"
   },
   {
    "duration": 6,
    "start_time": "2021-06-26T08:11:32.490Z"
   },
   {
    "duration": 303,
    "start_time": "2021-06-26T08:11:45.098Z"
   },
   {
    "duration": 11,
    "start_time": "2021-06-26T08:11:50.209Z"
   },
   {
    "duration": 7,
    "start_time": "2021-06-26T08:11:50.577Z"
   },
   {
    "duration": 6,
    "start_time": "2021-06-26T08:12:07.803Z"
   },
   {
    "duration": 7,
    "start_time": "2021-06-26T08:13:56.199Z"
   },
   {
    "duration": 8,
    "start_time": "2021-06-26T08:14:06.794Z"
   },
   {
    "duration": 15,
    "start_time": "2021-06-26T08:14:21.699Z"
   },
   {
    "duration": 6,
    "start_time": "2021-06-26T08:15:48.367Z"
   },
   {
    "duration": 12,
    "start_time": "2021-06-26T08:16:03.328Z"
   },
   {
    "duration": 6,
    "start_time": "2021-06-26T08:16:03.666Z"
   },
   {
    "duration": 14,
    "start_time": "2021-06-26T08:16:08.115Z"
   },
   {
    "duration": 5,
    "start_time": "2021-06-26T08:16:15.143Z"
   },
   {
    "duration": 14,
    "start_time": "2021-06-26T08:16:22.227Z"
   },
   {
    "duration": 6,
    "start_time": "2021-06-26T08:16:22.551Z"
   },
   {
    "duration": 10,
    "start_time": "2021-06-26T08:17:48.984Z"
   },
   {
    "duration": 8,
    "start_time": "2021-06-26T08:17:49.508Z"
   },
   {
    "duration": 152,
    "start_time": "2021-06-26T08:18:01.241Z"
   },
   {
    "duration": 7,
    "start_time": "2021-06-26T08:18:09.520Z"
   },
   {
    "duration": 7,
    "start_time": "2021-06-26T08:18:24.969Z"
   },
   {
    "duration": 6,
    "start_time": "2021-06-26T08:18:35.959Z"
   },
   {
    "duration": 17,
    "start_time": "2021-06-26T08:19:09.167Z"
   },
   {
    "duration": 20,
    "start_time": "2021-06-26T08:19:23.872Z"
   },
   {
    "duration": 23,
    "start_time": "2021-06-26T08:19:31.270Z"
   },
   {
    "duration": 11,
    "start_time": "2021-06-26T08:20:16.029Z"
   },
   {
    "duration": 324,
    "start_time": "2021-06-26T08:20:16.655Z"
   },
   {
    "duration": 477,
    "start_time": "2021-06-26T08:20:23.905Z"
   },
   {
    "duration": 5,
    "start_time": "2021-06-26T08:20:32.331Z"
   },
   {
    "duration": 1819,
    "start_time": "2021-06-26T08:20:57.059Z"
   },
   {
    "duration": 3,
    "start_time": "2021-06-26T08:20:58.880Z"
   },
   {
    "duration": 533,
    "start_time": "2021-06-26T08:20:58.886Z"
   },
   {
    "duration": 15,
    "start_time": "2021-06-26T08:20:59.422Z"
   },
   {
    "duration": 14,
    "start_time": "2021-06-26T08:20:59.439Z"
   },
   {
    "duration": 12,
    "start_time": "2021-06-26T08:20:59.455Z"
   },
   {
    "duration": 6,
    "start_time": "2021-06-26T08:20:59.469Z"
   },
   {
    "duration": 668,
    "start_time": "2021-06-26T08:20:59.478Z"
   },
   {
    "duration": 56,
    "start_time": "2021-06-26T08:21:00.149Z"
   },
   {
    "duration": 10,
    "start_time": "2021-06-26T08:21:00.208Z"
   },
   {
    "duration": 41,
    "start_time": "2021-06-26T08:21:00.221Z"
   },
   {
    "duration": 5,
    "start_time": "2021-06-26T08:21:00.265Z"
   },
   {
    "duration": 45,
    "start_time": "2021-06-26T08:21:00.273Z"
   },
   {
    "duration": 10,
    "start_time": "2021-06-26T08:21:00.320Z"
   },
   {
    "duration": 48,
    "start_time": "2021-06-26T08:21:00.332Z"
   },
   {
    "duration": 26,
    "start_time": "2021-06-26T08:21:00.382Z"
   },
   {
    "duration": 24,
    "start_time": "2021-06-26T08:21:00.411Z"
   },
   {
    "duration": 20,
    "start_time": "2021-06-26T08:21:00.438Z"
   },
   {
    "duration": 28,
    "start_time": "2021-06-26T08:21:00.461Z"
   },
   {
    "duration": 27,
    "start_time": "2021-06-26T08:21:00.491Z"
   },
   {
    "duration": 28,
    "start_time": "2021-06-26T08:21:00.521Z"
   },
   {
    "duration": 619,
    "start_time": "2021-06-26T08:21:00.551Z"
   },
   {
    "duration": 32,
    "start_time": "2021-06-26T08:21:01.176Z"
   },
   {
    "duration": 17,
    "start_time": "2021-06-26T08:21:01.212Z"
   },
   {
    "duration": 846,
    "start_time": "2021-06-26T08:21:01.232Z"
   },
   {
    "duration": 493,
    "start_time": "2021-06-26T08:21:02.080Z"
   },
   {
    "duration": 27,
    "start_time": "2021-06-26T08:21:02.576Z"
   },
   {
    "duration": 760,
    "start_time": "2021-06-26T08:21:02.606Z"
   },
   {
    "duration": -75,
    "start_time": "2021-06-26T08:21:03.443Z"
   },
   {
    "duration": -78,
    "start_time": "2021-06-26T08:21:03.448Z"
   },
   {
    "duration": -81,
    "start_time": "2021-06-26T08:21:03.452Z"
   },
   {
    "duration": -82,
    "start_time": "2021-06-26T08:21:03.455Z"
   },
   {
    "duration": -85,
    "start_time": "2021-06-26T08:21:03.459Z"
   },
   {
    "duration": -87,
    "start_time": "2021-06-26T08:21:03.462Z"
   },
   {
    "duration": -89,
    "start_time": "2021-06-26T08:21:03.466Z"
   },
   {
    "duration": -116,
    "start_time": "2021-06-26T08:21:03.494Z"
   },
   {
    "duration": -122,
    "start_time": "2021-06-26T08:21:03.501Z"
   },
   {
    "duration": -129,
    "start_time": "2021-06-26T08:21:03.509Z"
   },
   {
    "duration": -137,
    "start_time": "2021-06-26T08:21:03.519Z"
   },
   {
    "duration": -140,
    "start_time": "2021-06-26T08:21:03.523Z"
   },
   {
    "duration": -143,
    "start_time": "2021-06-26T08:21:03.528Z"
   },
   {
    "duration": -153,
    "start_time": "2021-06-26T08:21:03.539Z"
   },
   {
    "duration": -157,
    "start_time": "2021-06-26T08:21:03.544Z"
   },
   {
    "duration": -158,
    "start_time": "2021-06-26T08:21:03.547Z"
   },
   {
    "duration": -162,
    "start_time": "2021-06-26T08:21:03.553Z"
   },
   {
    "duration": -177,
    "start_time": "2021-06-26T08:21:03.569Z"
   },
   {
    "duration": -181,
    "start_time": "2021-06-26T08:21:03.574Z"
   },
   {
    "duration": -183,
    "start_time": "2021-06-26T08:21:03.578Z"
   },
   {
    "duration": 7722,
    "start_time": "2021-06-26T08:21:45.278Z"
   },
   {
    "duration": 20660,
    "start_time": "2021-06-26T08:22:29.825Z"
   },
   {
    "duration": 1474,
    "start_time": "2021-06-26T08:23:05.993Z"
   },
   {
    "duration": 4,
    "start_time": "2021-06-26T08:23:07.470Z"
   },
   {
    "duration": 199,
    "start_time": "2021-06-26T08:23:07.477Z"
   },
   {
    "duration": 15,
    "start_time": "2021-06-26T08:23:07.679Z"
   },
   {
    "duration": 16,
    "start_time": "2021-06-26T08:23:07.696Z"
   },
   {
    "duration": 11,
    "start_time": "2021-06-26T08:23:07.714Z"
   },
   {
    "duration": 7,
    "start_time": "2021-06-26T08:23:07.727Z"
   },
   {
    "duration": 617,
    "start_time": "2021-06-26T08:23:07.738Z"
   },
   {
    "duration": 57,
    "start_time": "2021-06-26T08:23:08.359Z"
   },
   {
    "duration": 8,
    "start_time": "2021-06-26T08:23:08.418Z"
   },
   {
    "duration": 32,
    "start_time": "2021-06-26T08:23:08.429Z"
   },
   {
    "duration": 40,
    "start_time": "2021-06-26T08:23:08.464Z"
   },
   {
    "duration": 16,
    "start_time": "2021-06-26T08:23:08.507Z"
   },
   {
    "duration": 8,
    "start_time": "2021-06-26T08:23:08.525Z"
   },
   {
    "duration": 21,
    "start_time": "2021-06-26T08:23:08.536Z"
   },
   {
    "duration": 54,
    "start_time": "2021-06-26T08:23:08.559Z"
   },
   {
    "duration": 16,
    "start_time": "2021-06-26T08:23:08.616Z"
   },
   {
    "duration": 12,
    "start_time": "2021-06-26T08:23:08.634Z"
   },
   {
    "duration": 52,
    "start_time": "2021-06-26T08:23:08.649Z"
   },
   {
    "duration": 8,
    "start_time": "2021-06-26T08:23:08.703Z"
   },
   {
    "duration": 11,
    "start_time": "2021-06-26T08:23:08.714Z"
   },
   {
    "duration": 598,
    "start_time": "2021-06-26T08:23:08.727Z"
   },
   {
    "duration": 18,
    "start_time": "2021-06-26T08:23:09.330Z"
   },
   {
    "duration": 12,
    "start_time": "2021-06-26T08:23:09.351Z"
   },
   {
    "duration": 292,
    "start_time": "2021-06-26T08:23:09.366Z"
   },
   {
    "duration": 45,
    "start_time": "2021-06-26T08:23:09.661Z"
   },
   {
    "duration": 19,
    "start_time": "2021-06-26T08:23:09.708Z"
   },
   {
    "duration": 87,
    "start_time": "2021-06-26T08:23:09.729Z"
   },
   {
    "duration": 11,
    "start_time": "2021-06-26T08:23:09.818Z"
   },
   {
    "duration": 75,
    "start_time": "2021-06-26T08:23:09.832Z"
   },
   {
    "duration": 14,
    "start_time": "2021-06-26T08:23:09.910Z"
   },
   {
    "duration": 75,
    "start_time": "2021-06-26T08:23:09.926Z"
   },
   {
    "duration": 219,
    "start_time": "2021-06-26T08:23:10.003Z"
   },
   {
    "duration": 406,
    "start_time": "2021-06-26T08:23:10.225Z"
   },
   {
    "duration": 5,
    "start_time": "2021-06-26T08:23:10.633Z"
   },
   {
    "duration": 109,
    "start_time": "2021-06-26T08:23:10.641Z"
   },
   {
    "duration": 6,
    "start_time": "2021-06-26T08:23:10.753Z"
   },
   {
    "duration": 22,
    "start_time": "2021-06-26T08:23:10.761Z"
   },
   {
    "duration": 501,
    "start_time": "2021-06-26T08:23:10.801Z"
   },
   {
    "duration": 209,
    "start_time": "2021-06-26T08:23:11.304Z"
   },
   {
    "duration": 9,
    "start_time": "2021-06-26T08:23:11.515Z"
   },
   {
    "duration": 12,
    "start_time": "2021-06-26T08:23:11.526Z"
   },
   {
    "duration": 18,
    "start_time": "2021-06-26T08:23:11.540Z"
   },
   {
    "duration": 51,
    "start_time": "2021-06-26T08:23:11.561Z"
   },
   {
    "duration": 14,
    "start_time": "2021-06-26T08:23:11.615Z"
   },
   {
    "duration": 16,
    "start_time": "2021-06-26T08:23:11.632Z"
   },
   {
    "duration": 12,
    "start_time": "2021-06-26T08:23:11.651Z"
   },
   {
    "duration": 53,
    "start_time": "2021-06-26T08:23:11.666Z"
   },
   {
    "duration": 11,
    "start_time": "2021-06-26T08:26:18.868Z"
   },
   {
    "duration": 11,
    "start_time": "2021-06-26T08:26:24.495Z"
   },
   {
    "duration": 10,
    "start_time": "2021-06-26T08:26:27.076Z"
   },
   {
    "duration": 10,
    "start_time": "2021-06-26T08:26:28.944Z"
   },
   {
    "duration": 19,
    "start_time": "2021-06-26T08:27:27.001Z"
   },
   {
    "duration": 9,
    "start_time": "2021-06-26T08:28:00.839Z"
   },
   {
    "duration": 9,
    "start_time": "2021-06-26T08:28:15.469Z"
   },
   {
    "duration": 22,
    "start_time": "2021-06-26T08:29:01.400Z"
   },
   {
    "duration": 101,
    "start_time": "2021-06-26T08:34:39.075Z"
   },
   {
    "duration": 6,
    "start_time": "2021-06-26T08:48:29.178Z"
   },
   {
    "duration": 3,
    "start_time": "2021-06-26T08:49:33.679Z"
   },
   {
    "duration": 17,
    "start_time": "2021-06-26T08:49:34.380Z"
   },
   {
    "duration": 4,
    "start_time": "2021-06-26T08:49:37.465Z"
   },
   {
    "duration": 15,
    "start_time": "2021-06-26T08:49:37.663Z"
   },
   {
    "duration": 4,
    "start_time": "2021-06-26T08:49:42.582Z"
   },
   {
    "duration": 17,
    "start_time": "2021-06-26T08:49:42.791Z"
   },
   {
    "duration": 3,
    "start_time": "2021-06-26T08:49:44.616Z"
   },
   {
    "duration": 17,
    "start_time": "2021-06-26T08:49:44.786Z"
   },
   {
    "duration": 3,
    "start_time": "2021-06-26T08:49:46.568Z"
   },
   {
    "duration": 16,
    "start_time": "2021-06-26T08:49:46.741Z"
   },
   {
    "duration": 3,
    "start_time": "2021-06-26T08:49:49.753Z"
   },
   {
    "duration": 15,
    "start_time": "2021-06-26T08:49:50.021Z"
   },
   {
    "duration": 12,
    "start_time": "2021-06-26T08:50:04.375Z"
   },
   {
    "duration": 15,
    "start_time": "2021-06-26T08:53:02.969Z"
   },
   {
    "duration": 13,
    "start_time": "2021-06-26T08:53:43.080Z"
   },
   {
    "duration": 468,
    "start_time": "2021-06-26T09:00:49.508Z"
   },
   {
    "duration": 260,
    "start_time": "2021-06-26T09:00:51.421Z"
   },
   {
    "duration": 6,
    "start_time": "2021-06-26T09:00:55.732Z"
   },
   {
    "duration": 8,
    "start_time": "2021-06-26T09:01:04.262Z"
   },
   {
    "duration": 632,
    "start_time": "2021-06-26T09:03:55.740Z"
   },
   {
    "duration": 272,
    "start_time": "2021-06-26T09:04:40.707Z"
   },
   {
    "duration": 6,
    "start_time": "2021-06-26T09:05:16.085Z"
   },
   {
    "duration": 2024,
    "start_time": "2021-06-26T09:05:28.838Z"
   },
   {
    "duration": 6,
    "start_time": "2021-06-26T09:05:39.060Z"
   },
   {
    "duration": 1540,
    "start_time": "2021-06-26T09:06:17.239Z"
   },
   {
    "duration": 4,
    "start_time": "2021-06-26T09:06:18.781Z"
   },
   {
    "duration": 336,
    "start_time": "2021-06-26T09:06:18.788Z"
   },
   {
    "duration": 16,
    "start_time": "2021-06-26T09:06:19.128Z"
   },
   {
    "duration": 13,
    "start_time": "2021-06-26T09:06:19.147Z"
   },
   {
    "duration": 11,
    "start_time": "2021-06-26T09:06:19.163Z"
   },
   {
    "duration": 8,
    "start_time": "2021-06-26T09:06:19.176Z"
   },
   {
    "duration": 737,
    "start_time": "2021-06-26T09:06:19.200Z"
   },
   {
    "duration": 90,
    "start_time": "2021-06-26T09:06:19.941Z"
   },
   {
    "duration": 8,
    "start_time": "2021-06-26T09:06:20.034Z"
   },
   {
    "duration": 84,
    "start_time": "2021-06-26T09:06:20.044Z"
   },
   {
    "duration": 6,
    "start_time": "2021-06-26T09:06:20.130Z"
   },
   {
    "duration": 68,
    "start_time": "2021-06-26T09:06:20.138Z"
   },
   {
    "duration": 21,
    "start_time": "2021-06-26T09:06:20.209Z"
   },
   {
    "duration": 75,
    "start_time": "2021-06-26T09:06:20.232Z"
   },
   {
    "duration": 16,
    "start_time": "2021-06-26T09:06:20.310Z"
   },
   {
    "duration": 82,
    "start_time": "2021-06-26T09:06:20.329Z"
   },
   {
    "duration": 19,
    "start_time": "2021-06-26T09:06:20.414Z"
   },
   {
    "duration": 934,
    "start_time": "2021-06-26T09:06:20.437Z"
   },
   {
    "duration": -11,
    "start_time": "2021-06-26T09:06:21.386Z"
   },
   {
    "duration": -15,
    "start_time": "2021-06-26T09:06:21.391Z"
   },
   {
    "duration": -20,
    "start_time": "2021-06-26T09:06:21.398Z"
   },
   {
    "duration": -22,
    "start_time": "2021-06-26T09:06:21.402Z"
   },
   {
    "duration": -27,
    "start_time": "2021-06-26T09:06:21.408Z"
   },
   {
    "duration": -14,
    "start_time": "2021-06-26T09:06:21.414Z"
   },
   {
    "duration": -17,
    "start_time": "2021-06-26T09:06:21.419Z"
   },
   {
    "duration": -20,
    "start_time": "2021-06-26T09:06:21.423Z"
   },
   {
    "duration": -22,
    "start_time": "2021-06-26T09:06:21.427Z"
   },
   {
    "duration": -29,
    "start_time": "2021-06-26T09:06:21.435Z"
   },
   {
    "duration": -31,
    "start_time": "2021-06-26T09:06:21.439Z"
   },
   {
    "duration": -34,
    "start_time": "2021-06-26T09:06:21.443Z"
   },
   {
    "duration": -39,
    "start_time": "2021-06-26T09:06:21.450Z"
   },
   {
    "duration": -42,
    "start_time": "2021-06-26T09:06:21.454Z"
   },
   {
    "duration": -44,
    "start_time": "2021-06-26T09:06:21.458Z"
   },
   {
    "duration": -48,
    "start_time": "2021-06-26T09:06:21.464Z"
   },
   {
    "duration": -51,
    "start_time": "2021-06-26T09:06:21.468Z"
   },
   {
    "duration": -55,
    "start_time": "2021-06-26T09:06:21.473Z"
   },
   {
    "duration": -57,
    "start_time": "2021-06-26T09:06:21.477Z"
   },
   {
    "duration": -62,
    "start_time": "2021-06-26T09:06:21.484Z"
   },
   {
    "duration": -66,
    "start_time": "2021-06-26T09:06:21.489Z"
   },
   {
    "duration": -68,
    "start_time": "2021-06-26T09:06:21.493Z"
   },
   {
    "duration": -73,
    "start_time": "2021-06-26T09:06:21.499Z"
   },
   {
    "duration": -77,
    "start_time": "2021-06-26T09:06:21.505Z"
   },
   {
    "duration": -80,
    "start_time": "2021-06-26T09:06:21.509Z"
   },
   {
    "duration": -109,
    "start_time": "2021-06-26T09:06:21.540Z"
   },
   {
    "duration": -112,
    "start_time": "2021-06-26T09:06:21.545Z"
   },
   {
    "duration": -130,
    "start_time": "2021-06-26T09:06:21.564Z"
   },
   {
    "duration": -133,
    "start_time": "2021-06-26T09:06:21.569Z"
   },
   {
    "duration": 647,
    "start_time": "2021-06-26T09:06:32.542Z"
   },
   {
    "duration": 764,
    "start_time": "2021-06-26T09:06:48.115Z"
   },
   {
    "duration": 827,
    "start_time": "2021-06-26T09:07:43.899Z"
   },
   {
    "duration": 400,
    "start_time": "2021-06-26T09:08:14.242Z"
   },
   {
    "duration": 778,
    "start_time": "2021-06-26T09:09:31.165Z"
   },
   {
    "duration": 13,
    "start_time": "2021-06-26T09:13:25.849Z"
   },
   {
    "duration": 4,
    "start_time": "2021-06-26T09:14:43.230Z"
   },
   {
    "duration": 21,
    "start_time": "2021-06-26T09:14:51.909Z"
   },
   {
    "duration": 23,
    "start_time": "2021-06-26T09:15:24.626Z"
   },
   {
    "duration": 18,
    "start_time": "2021-06-26T09:15:31.611Z"
   },
   {
    "duration": 16,
    "start_time": "2021-06-26T09:15:42.218Z"
   },
   {
    "duration": 12,
    "start_time": "2021-06-26T09:15:58.614Z"
   },
   {
    "duration": 19,
    "start_time": "2021-06-26T09:17:07.280Z"
   },
   {
    "duration": 151,
    "start_time": "2021-06-26T09:19:26.508Z"
   },
   {
    "duration": 27,
    "start_time": "2021-06-26T09:19:32.617Z"
   },
   {
    "duration": 15,
    "start_time": "2021-06-26T09:20:01.673Z"
   },
   {
    "duration": 17,
    "start_time": "2021-06-26T09:20:08.696Z"
   },
   {
    "duration": 15,
    "start_time": "2021-06-26T09:20:10.885Z"
   },
   {
    "duration": 29,
    "start_time": "2021-06-26T09:20:15.625Z"
   },
   {
    "duration": 5,
    "start_time": "2021-06-26T09:21:13.764Z"
   },
   {
    "duration": 29,
    "start_time": "2021-06-26T09:22:07.144Z"
   },
   {
    "duration": 29,
    "start_time": "2021-06-26T09:22:21.580Z"
   },
   {
    "duration": 60,
    "start_time": "2021-06-26T09:25:26.001Z"
   },
   {
    "duration": 1381,
    "start_time": "2021-06-26T09:25:28.115Z"
   },
   {
    "duration": 342,
    "start_time": "2021-06-26T09:27:14.760Z"
   },
   {
    "duration": 346,
    "start_time": "2021-06-26T09:29:27.680Z"
   },
   {
    "duration": 67,
    "start_time": "2021-06-26T09:30:56.155Z"
   },
   {
    "duration": 60,
    "start_time": "2021-06-26T09:30:59.583Z"
   },
   {
    "duration": 55,
    "start_time": "2021-06-26T09:31:05.149Z"
   },
   {
    "duration": 2072,
    "start_time": "2021-06-26T09:31:10.892Z"
   },
   {
    "duration": 680,
    "start_time": "2021-06-26T09:31:19.037Z"
   },
   {
    "duration": 369,
    "start_time": "2021-06-26T09:31:38.922Z"
   },
   {
    "duration": 52,
    "start_time": "2021-06-26T09:32:09.919Z"
   },
   {
    "duration": 59,
    "start_time": "2021-06-26T09:32:12.954Z"
   },
   {
    "duration": 179,
    "start_time": "2021-06-26T09:32:25.734Z"
   },
   {
    "duration": 107,
    "start_time": "2021-06-26T09:32:27.786Z"
   },
   {
    "duration": 199,
    "start_time": "2021-06-26T09:32:29.852Z"
   },
   {
    "duration": 673,
    "start_time": "2021-06-26T09:33:10.075Z"
   },
   {
    "duration": 123,
    "start_time": "2021-06-26T09:33:35.196Z"
   },
   {
    "duration": 196,
    "start_time": "2021-06-26T09:33:54.573Z"
   },
   {
    "duration": 70,
    "start_time": "2021-06-26T09:33:57.204Z"
   },
   {
    "duration": 173,
    "start_time": "2021-06-26T09:34:00.516Z"
   },
   {
    "duration": 1956,
    "start_time": "2021-06-26T09:34:10.312Z"
   },
   {
    "duration": 4,
    "start_time": "2021-06-26T09:34:12.271Z"
   },
   {
    "duration": 197,
    "start_time": "2021-06-26T09:34:12.279Z"
   },
   {
    "duration": 18,
    "start_time": "2021-06-26T09:34:12.479Z"
   },
   {
    "duration": 13,
    "start_time": "2021-06-26T09:34:12.500Z"
   },
   {
    "duration": 15,
    "start_time": "2021-06-26T09:34:12.516Z"
   },
   {
    "duration": 10,
    "start_time": "2021-06-26T09:34:12.533Z"
   },
   {
    "duration": 634,
    "start_time": "2021-06-26T09:34:12.547Z"
   },
   {
    "duration": 53,
    "start_time": "2021-06-26T09:34:13.185Z"
   },
   {
    "duration": 8,
    "start_time": "2021-06-26T09:34:13.241Z"
   },
   {
    "duration": 68,
    "start_time": "2021-06-26T09:34:13.251Z"
   },
   {
    "duration": 5,
    "start_time": "2021-06-26T09:34:13.323Z"
   },
   {
    "duration": 38,
    "start_time": "2021-06-26T09:34:13.330Z"
   },
   {
    "duration": 14,
    "start_time": "2021-06-26T09:34:13.370Z"
   },
   {
    "duration": 32,
    "start_time": "2021-06-26T09:34:13.387Z"
   },
   {
    "duration": 24,
    "start_time": "2021-06-26T09:34:13.421Z"
   },
   {
    "duration": 36,
    "start_time": "2021-06-26T09:34:13.447Z"
   },
   {
    "duration": 57,
    "start_time": "2021-06-26T09:34:13.485Z"
   },
   {
    "duration": 20,
    "start_time": "2021-06-26T09:34:13.544Z"
   },
   {
    "duration": 27,
    "start_time": "2021-06-26T09:34:13.566Z"
   },
   {
    "duration": 28,
    "start_time": "2021-06-26T09:34:13.596Z"
   },
   {
    "duration": 46,
    "start_time": "2021-06-26T09:34:13.626Z"
   },
   {
    "duration": 555,
    "start_time": "2021-06-26T09:34:13.678Z"
   },
   {
    "duration": 19,
    "start_time": "2021-06-26T09:34:14.236Z"
   },
   {
    "duration": 32,
    "start_time": "2021-06-26T09:34:14.257Z"
   },
   {
    "duration": 289,
    "start_time": "2021-06-26T09:34:14.292Z"
   },
   {
    "duration": 221,
    "start_time": "2021-06-26T09:34:14.584Z"
   },
   {
    "duration": 24,
    "start_time": "2021-06-26T09:34:14.808Z"
   },
   {
    "duration": 55,
    "start_time": "2021-06-26T09:34:14.835Z"
   },
   {
    "duration": 33,
    "start_time": "2021-06-26T09:34:14.892Z"
   },
   {
    "duration": 44,
    "start_time": "2021-06-26T09:34:14.928Z"
   },
   {
    "duration": 52,
    "start_time": "2021-06-26T09:34:14.974Z"
   },
   {
    "duration": 52,
    "start_time": "2021-06-26T09:34:15.028Z"
   },
   {
    "duration": 197,
    "start_time": "2021-06-26T09:34:15.082Z"
   },
   {
    "duration": 319,
    "start_time": "2021-06-26T09:34:15.281Z"
   },
   {
    "duration": 5,
    "start_time": "2021-06-26T09:34:15.603Z"
   },
   {
    "duration": 109,
    "start_time": "2021-06-26T09:34:15.610Z"
   },
   {
    "duration": 6,
    "start_time": "2021-06-26T09:34:15.721Z"
   },
   {
    "duration": 474,
    "start_time": "2021-06-26T09:34:15.730Z"
   },
   {
    "duration": 236,
    "start_time": "2021-06-26T09:34:16.207Z"
   },
   {
    "duration": 9,
    "start_time": "2021-06-26T09:34:16.445Z"
   },
   {
    "duration": 13,
    "start_time": "2021-06-26T09:34:16.457Z"
   },
   {
    "duration": 43,
    "start_time": "2021-06-26T09:34:16.473Z"
   },
   {
    "duration": 14,
    "start_time": "2021-06-26T09:34:16.518Z"
   },
   {
    "duration": 19,
    "start_time": "2021-06-26T09:34:16.534Z"
   },
   {
    "duration": 11,
    "start_time": "2021-06-26T09:34:16.556Z"
   },
   {
    "duration": 50,
    "start_time": "2021-06-26T09:34:16.569Z"
   },
   {
    "duration": 1395,
    "start_time": "2021-06-26T23:02:35.633Z"
   },
   {
    "duration": 2,
    "start_time": "2021-06-26T23:02:37.030Z"
   },
   {
    "duration": 274,
    "start_time": "2021-06-26T23:02:37.036Z"
   },
   {
    "duration": 10,
    "start_time": "2021-06-26T23:02:37.312Z"
   },
   {
    "duration": 8,
    "start_time": "2021-06-26T23:02:37.324Z"
   },
   {
    "duration": 6,
    "start_time": "2021-06-26T23:02:37.334Z"
   },
   {
    "duration": 4,
    "start_time": "2021-06-26T23:02:37.342Z"
   },
   {
    "duration": 610,
    "start_time": "2021-06-26T23:02:37.348Z"
   },
   {
    "duration": 24,
    "start_time": "2021-06-26T23:02:37.960Z"
   },
   {
    "duration": 4,
    "start_time": "2021-06-26T23:02:37.986Z"
   },
   {
    "duration": 20,
    "start_time": "2021-06-26T23:02:37.992Z"
   },
   {
    "duration": 4,
    "start_time": "2021-06-26T23:02:38.013Z"
   },
   {
    "duration": 10,
    "start_time": "2021-06-26T23:02:38.019Z"
   },
   {
    "duration": 7,
    "start_time": "2021-06-26T23:02:38.030Z"
   },
   {
    "duration": 15,
    "start_time": "2021-06-26T23:02:38.038Z"
   },
   {
    "duration": 11,
    "start_time": "2021-06-26T23:02:38.085Z"
   },
   {
    "duration": 11,
    "start_time": "2021-06-26T23:02:38.097Z"
   },
   {
    "duration": 20,
    "start_time": "2021-06-26T23:02:38.110Z"
   },
   {
    "duration": 8,
    "start_time": "2021-06-26T23:02:38.132Z"
   },
   {
    "duration": 8,
    "start_time": "2021-06-26T23:02:38.141Z"
   },
   {
    "duration": 5,
    "start_time": "2021-06-26T23:02:38.185Z"
   },
   {
    "duration": 6,
    "start_time": "2021-06-26T23:02:38.194Z"
   },
   {
    "duration": 349,
    "start_time": "2021-06-26T23:02:38.202Z"
   },
   {
    "duration": 12,
    "start_time": "2021-06-26T23:02:38.553Z"
   },
   {
    "duration": 22,
    "start_time": "2021-06-26T23:02:38.567Z"
   },
   {
    "duration": 598,
    "start_time": "2021-06-26T23:02:38.590Z"
   },
   {
    "duration": 224,
    "start_time": "2021-06-26T23:02:39.190Z"
   },
   {
    "duration": 13,
    "start_time": "2021-06-26T23:02:39.416Z"
   },
   {
    "duration": 455,
    "start_time": "2021-06-26T23:02:39.431Z"
   },
   {
    "duration": 27456,
    "start_time": "2021-06-26T23:02:12.431Z"
   },
   {
    "duration": 27450,
    "start_time": "2021-06-26T23:02:12.438Z"
   },
   {
    "duration": 27446,
    "start_time": "2021-06-26T23:02:12.443Z"
   },
   {
    "duration": 27442,
    "start_time": "2021-06-26T23:02:12.448Z"
   },
   {
    "duration": 27438,
    "start_time": "2021-06-26T23:02:12.453Z"
   },
   {
    "duration": 27434,
    "start_time": "2021-06-26T23:02:12.458Z"
   },
   {
    "duration": 27429,
    "start_time": "2021-06-26T23:02:12.464Z"
   },
   {
    "duration": 27426,
    "start_time": "2021-06-26T23:02:12.468Z"
   },
   {
    "duration": 27422,
    "start_time": "2021-06-26T23:02:12.473Z"
   },
   {
    "duration": 27417,
    "start_time": "2021-06-26T23:02:12.479Z"
   },
   {
    "duration": 27414,
    "start_time": "2021-06-26T23:02:12.483Z"
   },
   {
    "duration": 27410,
    "start_time": "2021-06-26T23:02:12.488Z"
   },
   {
    "duration": 27406,
    "start_time": "2021-06-26T23:02:12.492Z"
   },
   {
    "duration": 27402,
    "start_time": "2021-06-26T23:02:12.497Z"
   },
   {
    "duration": 27399,
    "start_time": "2021-06-26T23:02:12.501Z"
   },
   {
    "duration": 27394,
    "start_time": "2021-06-26T23:02:12.507Z"
   },
   {
    "duration": 27391,
    "start_time": "2021-06-26T23:02:12.511Z"
   },
   {
    "duration": 27367,
    "start_time": "2021-06-26T23:02:12.536Z"
   },
   {
    "duration": 3149,
    "start_time": "2021-06-26T23:03:07.802Z"
   },
   {
    "duration": 59,
    "start_time": "2021-06-26T23:03:10.953Z"
   },
   {
    "duration": 27647,
    "start_time": "2021-06-26T23:02:43.368Z"
   },
   {
    "duration": 27641,
    "start_time": "2021-06-26T23:02:43.375Z"
   },
   {
    "duration": 27638,
    "start_time": "2021-06-26T23:02:43.379Z"
   },
   {
    "duration": 27620,
    "start_time": "2021-06-26T23:02:43.398Z"
   },
   {
    "duration": 27616,
    "start_time": "2021-06-26T23:02:43.402Z"
   },
   {
    "duration": 27612,
    "start_time": "2021-06-26T23:02:43.407Z"
   },
   {
    "duration": 27609,
    "start_time": "2021-06-26T23:02:43.411Z"
   },
   {
    "duration": 27606,
    "start_time": "2021-06-26T23:02:43.415Z"
   },
   {
    "duration": 27603,
    "start_time": "2021-06-26T23:02:43.419Z"
   },
   {
    "duration": 27599,
    "start_time": "2021-06-26T23:02:43.424Z"
   },
   {
    "duration": 27597,
    "start_time": "2021-06-26T23:02:43.427Z"
   },
   {
    "duration": 27593,
    "start_time": "2021-06-26T23:02:43.431Z"
   },
   {
    "duration": 27589,
    "start_time": "2021-06-26T23:02:43.436Z"
   },
   {
    "duration": 27585,
    "start_time": "2021-06-26T23:02:43.441Z"
   },
   {
    "duration": 27581,
    "start_time": "2021-06-26T23:02:43.446Z"
   },
   {
    "duration": 27578,
    "start_time": "2021-06-26T23:02:43.450Z"
   },
   {
    "duration": 27575,
    "start_time": "2021-06-26T23:02:43.454Z"
   },
   {
    "duration": 27566,
    "start_time": "2021-06-26T23:02:43.464Z"
   },
   {
    "duration": 27562,
    "start_time": "2021-06-26T23:02:43.468Z"
   },
   {
    "duration": 27559,
    "start_time": "2021-06-26T23:02:43.472Z"
   },
   {
    "duration": 27557,
    "start_time": "2021-06-26T23:02:43.476Z"
   },
   {
    "duration": 27554,
    "start_time": "2021-06-26T23:02:43.480Z"
   },
   {
    "duration": 27552,
    "start_time": "2021-06-26T23:02:43.483Z"
   },
   {
    "duration": 27548,
    "start_time": "2021-06-26T23:02:43.487Z"
   },
   {
    "duration": 27546,
    "start_time": "2021-06-26T23:02:43.490Z"
   },
   {
    "duration": 27543,
    "start_time": "2021-06-26T23:02:43.494Z"
   },
   {
    "duration": 27540,
    "start_time": "2021-06-26T23:02:43.498Z"
   },
   {
    "duration": 27537,
    "start_time": "2021-06-26T23:02:43.502Z"
   },
   {
    "duration": 27523,
    "start_time": "2021-06-26T23:02:43.517Z"
   },
   {
    "duration": 27520,
    "start_time": "2021-06-26T23:02:43.521Z"
   },
   {
    "duration": 27516,
    "start_time": "2021-06-26T23:02:43.525Z"
   },
   {
    "duration": 27513,
    "start_time": "2021-06-26T23:02:43.529Z"
   },
   {
    "duration": 27511,
    "start_time": "2021-06-26T23:02:43.532Z"
   },
   {
    "duration": 27508,
    "start_time": "2021-06-26T23:02:43.536Z"
   },
   {
    "duration": 27505,
    "start_time": "2021-06-26T23:02:43.540Z"
   },
   {
    "duration": 27502,
    "start_time": "2021-06-26T23:02:43.544Z"
   },
   {
    "duration": 27500,
    "start_time": "2021-06-26T23:02:43.547Z"
   },
   {
    "duration": 27497,
    "start_time": "2021-06-26T23:02:43.551Z"
   },
   {
    "duration": 27495,
    "start_time": "2021-06-26T23:02:43.555Z"
   },
   {
    "duration": 27492,
    "start_time": "2021-06-26T23:02:43.559Z"
   },
   {
    "duration": 27489,
    "start_time": "2021-06-26T23:02:43.562Z"
   },
   {
    "duration": 27479,
    "start_time": "2021-06-26T23:02:43.573Z"
   },
   {
    "duration": 27476,
    "start_time": "2021-06-26T23:02:43.577Z"
   },
   {
    "duration": 27503,
    "start_time": "2021-06-26T23:02:43.581Z"
   },
   {
    "duration": 27501,
    "start_time": "2021-06-26T23:02:43.584Z"
   },
   {
    "duration": 2488,
    "start_time": "2021-06-26T23:03:55.304Z"
   },
   {
    "duration": 68,
    "start_time": "2021-06-26T23:03:57.794Z"
   },
   {
    "duration": 27633,
    "start_time": "2021-06-26T23:03:30.232Z"
   },
   {
    "duration": 27628,
    "start_time": "2021-06-26T23:03:30.238Z"
   },
   {
    "duration": 27625,
    "start_time": "2021-06-26T23:03:30.242Z"
   },
   {
    "duration": 27621,
    "start_time": "2021-06-26T23:03:30.247Z"
   },
   {
    "duration": 27618,
    "start_time": "2021-06-26T23:03:30.251Z"
   },
   {
    "duration": 27615,
    "start_time": "2021-06-26T23:03:30.256Z"
   },
   {
    "duration": 27613,
    "start_time": "2021-06-26T23:03:30.259Z"
   },
   {
    "duration": 27610,
    "start_time": "2021-06-26T23:03:30.263Z"
   },
   {
    "duration": 27607,
    "start_time": "2021-06-26T23:03:30.267Z"
   },
   {
    "duration": 27604,
    "start_time": "2021-06-26T23:03:30.271Z"
   },
   {
    "duration": 27602,
    "start_time": "2021-06-26T23:03:30.274Z"
   },
   {
    "duration": 27599,
    "start_time": "2021-06-26T23:03:30.278Z"
   },
   {
    "duration": 27596,
    "start_time": "2021-06-26T23:03:30.282Z"
   },
   {
    "duration": 27593,
    "start_time": "2021-06-26T23:03:30.286Z"
   },
   {
    "duration": 27589,
    "start_time": "2021-06-26T23:03:30.291Z"
   },
   {
    "duration": 27586,
    "start_time": "2021-06-26T23:03:30.295Z"
   },
   {
    "duration": 27572,
    "start_time": "2021-06-26T23:03:30.310Z"
   },
   {
    "duration": 27569,
    "start_time": "2021-06-26T23:03:30.314Z"
   },
   {
    "duration": 27565,
    "start_time": "2021-06-26T23:03:30.319Z"
   },
   {
    "duration": 27555,
    "start_time": "2021-06-26T23:03:30.330Z"
   },
   {
    "duration": 27550,
    "start_time": "2021-06-26T23:03:30.336Z"
   },
   {
    "duration": 27540,
    "start_time": "2021-06-26T23:03:30.347Z"
   },
   {
    "duration": 27513,
    "start_time": "2021-06-26T23:03:30.375Z"
   },
   {
    "duration": 27504,
    "start_time": "2021-06-26T23:03:30.385Z"
   },
   {
    "duration": 27494,
    "start_time": "2021-06-26T23:03:30.396Z"
   },
   {
    "duration": 27492,
    "start_time": "2021-06-26T23:03:30.399Z"
   },
   {
    "duration": 27482,
    "start_time": "2021-06-26T23:03:30.410Z"
   },
   {
    "duration": 27479,
    "start_time": "2021-06-26T23:03:30.414Z"
   },
   {
    "duration": 27475,
    "start_time": "2021-06-26T23:03:30.418Z"
   },
   {
    "duration": 27466,
    "start_time": "2021-06-26T23:03:30.428Z"
   },
   {
    "duration": 27463,
    "start_time": "2021-06-26T23:03:30.432Z"
   },
   {
    "duration": 27459,
    "start_time": "2021-06-26T23:03:30.437Z"
   },
   {
    "duration": 27450,
    "start_time": "2021-06-26T23:03:30.447Z"
   },
   {
    "duration": 27445,
    "start_time": "2021-06-26T23:03:30.453Z"
   },
   {
    "duration": 27436,
    "start_time": "2021-06-26T23:03:30.463Z"
   },
   {
    "duration": 27432,
    "start_time": "2021-06-26T23:03:30.468Z"
   },
   {
    "duration": 27423,
    "start_time": "2021-06-26T23:03:30.478Z"
   },
   {
    "duration": 27420,
    "start_time": "2021-06-26T23:03:30.482Z"
   },
   {
    "duration": 27417,
    "start_time": "2021-06-26T23:03:30.486Z"
   },
   {
    "duration": 27408,
    "start_time": "2021-06-26T23:03:30.496Z"
   },
   {
    "duration": 27405,
    "start_time": "2021-06-26T23:03:30.500Z"
   },
   {
    "duration": 27402,
    "start_time": "2021-06-26T23:03:30.504Z"
   },
   {
    "duration": 27399,
    "start_time": "2021-06-26T23:03:30.508Z"
   },
   {
    "duration": 27396,
    "start_time": "2021-06-26T23:03:30.512Z"
   },
   {
    "duration": 27393,
    "start_time": "2021-06-26T23:03:30.516Z"
   },
   {
    "duration": 1360,
    "start_time": "2021-06-26T23:04:13.414Z"
   },
   {
    "duration": 48731,
    "start_time": "2021-06-26T23:04:14.776Z"
   },
   {
    "duration": 193,
    "start_time": "2021-06-26T23:05:03.512Z"
   },
   {
    "duration": 11,
    "start_time": "2021-06-26T23:05:03.707Z"
   },
   {
    "duration": 6,
    "start_time": "2021-06-26T23:05:03.719Z"
   },
   {
    "duration": 7,
    "start_time": "2021-06-26T23:05:03.727Z"
   },
   {
    "duration": 3,
    "start_time": "2021-06-26T23:05:03.737Z"
   },
   {
    "duration": 637,
    "start_time": "2021-06-26T23:05:03.742Z"
   },
   {
    "duration": 22,
    "start_time": "2021-06-26T23:05:04.381Z"
   },
   {
    "duration": 5,
    "start_time": "2021-06-26T23:05:04.405Z"
   },
   {
    "duration": 21,
    "start_time": "2021-06-26T23:05:04.411Z"
   },
   {
    "duration": 3,
    "start_time": "2021-06-26T23:05:04.433Z"
   },
   {
    "duration": 9,
    "start_time": "2021-06-26T23:05:04.437Z"
   },
   {
    "duration": 38,
    "start_time": "2021-06-26T23:05:04.448Z"
   },
   {
    "duration": 14,
    "start_time": "2021-06-26T23:05:04.488Z"
   },
   {
    "duration": 11,
    "start_time": "2021-06-26T23:05:04.503Z"
   },
   {
    "duration": 11,
    "start_time": "2021-06-26T23:05:04.516Z"
   },
   {
    "duration": 17,
    "start_time": "2021-06-26T23:05:04.529Z"
   },
   {
    "duration": 39,
    "start_time": "2021-06-26T23:05:04.547Z"
   },
   {
    "duration": 7,
    "start_time": "2021-06-26T23:05:04.587Z"
   },
   {
    "duration": 10,
    "start_time": "2021-06-26T23:05:04.595Z"
   },
   {
    "duration": 6,
    "start_time": "2021-06-26T23:05:04.609Z"
   },
   {
    "duration": 338,
    "start_time": "2021-06-26T23:05:04.617Z"
   },
   {
    "duration": 12,
    "start_time": "2021-06-26T23:05:04.956Z"
   },
   {
    "duration": 17,
    "start_time": "2021-06-26T23:05:04.970Z"
   },
   {
    "duration": 598,
    "start_time": "2021-06-26T23:05:04.989Z"
   },
   {
    "duration": 227,
    "start_time": "2021-06-26T23:05:05.588Z"
   },
   {
    "duration": 12,
    "start_time": "2021-06-26T23:05:05.816Z"
   },
   {
    "duration": 463,
    "start_time": "2021-06-26T23:05:05.830Z"
   },
   {
    "duration": 27171,
    "start_time": "2021-06-26T23:04:39.124Z"
   },
   {
    "duration": 27168,
    "start_time": "2021-06-26T23:04:39.128Z"
   },
   {
    "duration": 27162,
    "start_time": "2021-06-26T23:04:39.135Z"
   },
   {
    "duration": 27158,
    "start_time": "2021-06-26T23:04:39.140Z"
   },
   {
    "duration": 27153,
    "start_time": "2021-06-26T23:04:39.146Z"
   },
   {
    "duration": 27150,
    "start_time": "2021-06-26T23:04:39.150Z"
   },
   {
    "duration": 27146,
    "start_time": "2021-06-26T23:04:39.155Z"
   },
   {
    "duration": 27142,
    "start_time": "2021-06-26T23:04:39.160Z"
   },
   {
    "duration": 27139,
    "start_time": "2021-06-26T23:04:39.164Z"
   },
   {
    "duration": 27136,
    "start_time": "2021-06-26T23:04:39.168Z"
   },
   {
    "duration": 27133,
    "start_time": "2021-06-26T23:04:39.173Z"
   },
   {
    "duration": 27128,
    "start_time": "2021-06-26T23:04:39.179Z"
   },
   {
    "duration": 27125,
    "start_time": "2021-06-26T23:04:39.183Z"
   },
   {
    "duration": 27121,
    "start_time": "2021-06-26T23:04:39.188Z"
   },
   {
    "duration": 27118,
    "start_time": "2021-06-26T23:04:39.192Z"
   },
   {
    "duration": 27115,
    "start_time": "2021-06-26T23:04:39.196Z"
   },
   {
    "duration": 27111,
    "start_time": "2021-06-26T23:04:39.201Z"
   },
   {
    "duration": 27086,
    "start_time": "2021-06-26T23:04:39.227Z"
   },
   {
    "duration": 1350,
    "start_time": "2021-06-26T23:05:52.864Z"
   },
   {
    "duration": 16675,
    "start_time": "2021-06-26T23:05:54.216Z"
   },
   {
    "duration": 137,
    "start_time": "2021-06-26T23:06:10.896Z"
   },
   {
    "duration": 12,
    "start_time": "2021-06-26T23:06:11.035Z"
   },
   {
    "duration": 10,
    "start_time": "2021-06-26T23:06:11.048Z"
   },
   {
    "duration": 9,
    "start_time": "2021-06-26T23:06:11.059Z"
   },
   {
    "duration": 4,
    "start_time": "2021-06-26T23:06:11.070Z"
   },
   {
    "duration": 620,
    "start_time": "2021-06-26T23:06:11.075Z"
   },
   {
    "duration": 24,
    "start_time": "2021-06-26T23:06:11.696Z"
   },
   {
    "duration": 4,
    "start_time": "2021-06-26T23:06:11.722Z"
   },
   {
    "duration": 27,
    "start_time": "2021-06-26T23:06:11.727Z"
   },
   {
    "duration": 3,
    "start_time": "2021-06-26T23:06:11.785Z"
   },
   {
    "duration": 11,
    "start_time": "2021-06-26T23:06:11.789Z"
   },
   {
    "duration": 5,
    "start_time": "2021-06-26T23:06:11.802Z"
   },
   {
    "duration": 14,
    "start_time": "2021-06-26T23:06:11.809Z"
   },
   {
    "duration": 9,
    "start_time": "2021-06-26T23:06:11.825Z"
   },
   {
    "duration": 11,
    "start_time": "2021-06-26T23:06:11.835Z"
   },
   {
    "duration": 44,
    "start_time": "2021-06-26T23:06:11.848Z"
   },
   {
    "duration": 8,
    "start_time": "2021-06-26T23:06:11.893Z"
   },
   {
    "duration": 7,
    "start_time": "2021-06-26T23:06:11.903Z"
   },
   {
    "duration": 6,
    "start_time": "2021-06-26T23:06:11.912Z"
   },
   {
    "duration": 7,
    "start_time": "2021-06-26T23:06:11.922Z"
   },
   {
    "duration": 318,
    "start_time": "2021-06-26T23:06:11.931Z"
   },
   {
    "duration": 12,
    "start_time": "2021-06-26T23:06:12.251Z"
   },
   {
    "duration": 21,
    "start_time": "2021-06-26T23:06:12.265Z"
   },
   {
    "duration": 310,
    "start_time": "2021-06-26T23:06:12.287Z"
   },
   {
    "duration": 16,
    "start_time": "2021-06-26T23:06:12.599Z"
   },
   {
    "duration": 17,
    "start_time": "2021-06-26T23:06:12.616Z"
   },
   {
    "duration": 70,
    "start_time": "2021-06-26T23:06:12.634Z"
   },
   {
    "duration": 8,
    "start_time": "2021-06-26T23:06:12.705Z"
   },
   {
    "duration": 15,
    "start_time": "2021-06-26T23:06:12.715Z"
   },
   {
    "duration": 60,
    "start_time": "2021-06-26T23:06:12.731Z"
   },
   {
    "duration": 20,
    "start_time": "2021-06-26T23:06:12.792Z"
   },
   {
    "duration": 193,
    "start_time": "2021-06-26T23:06:12.814Z"
   },
   {
    "duration": 200,
    "start_time": "2021-06-26T23:06:13.009Z"
   },
   {
    "duration": 4,
    "start_time": "2021-06-26T23:06:13.210Z"
   },
   {
    "duration": 70,
    "start_time": "2021-06-26T23:06:13.215Z"
   },
   {
    "duration": 4,
    "start_time": "2021-06-26T23:06:13.286Z"
   },
   {
    "duration": 241,
    "start_time": "2021-06-26T23:06:13.292Z"
   },
   {
    "duration": 139,
    "start_time": "2021-06-26T23:06:13.535Z"
   },
   {
    "duration": 10,
    "start_time": "2021-06-26T23:06:13.676Z"
   },
   {
    "duration": 22,
    "start_time": "2021-06-26T23:06:13.687Z"
   },
   {
    "duration": 14,
    "start_time": "2021-06-26T23:06:13.710Z"
   },
   {
    "duration": 8,
    "start_time": "2021-06-26T23:06:13.725Z"
   },
   {
    "duration": 8,
    "start_time": "2021-06-26T23:06:13.735Z"
   },
   {
    "duration": 48,
    "start_time": "2021-06-26T23:06:13.745Z"
   },
   {
    "duration": 13,
    "start_time": "2021-06-26T23:06:13.795Z"
   },
   {
    "duration": 1187,
    "start_time": "2021-06-26T23:06:53.253Z"
   },
   {
    "duration": 16563,
    "start_time": "2021-06-26T23:06:54.442Z"
   },
   {
    "duration": 131,
    "start_time": "2021-06-26T23:07:11.007Z"
   },
   {
    "duration": 13,
    "start_time": "2021-06-26T23:07:11.139Z"
   },
   {
    "duration": 7,
    "start_time": "2021-06-26T23:07:11.154Z"
   },
   {
    "duration": 7,
    "start_time": "2021-06-26T23:07:11.163Z"
   },
   {
    "duration": 4,
    "start_time": "2021-06-26T23:07:11.171Z"
   },
   {
    "duration": 609,
    "start_time": "2021-06-26T23:07:11.177Z"
   },
   {
    "duration": 26,
    "start_time": "2021-06-26T23:07:11.788Z"
   },
   {
    "duration": 5,
    "start_time": "2021-06-26T23:07:11.815Z"
   },
   {
    "duration": 22,
    "start_time": "2021-06-26T23:07:11.822Z"
   },
   {
    "duration": 3,
    "start_time": "2021-06-26T23:07:11.845Z"
   },
   {
    "duration": 36,
    "start_time": "2021-06-26T23:07:11.850Z"
   },
   {
    "duration": 8,
    "start_time": "2021-06-26T23:07:11.888Z"
   },
   {
    "duration": 14,
    "start_time": "2021-06-26T23:07:11.898Z"
   },
   {
    "duration": 10,
    "start_time": "2021-06-26T23:07:11.913Z"
   },
   {
    "duration": 10,
    "start_time": "2021-06-26T23:07:11.925Z"
   },
   {
    "duration": 14,
    "start_time": "2021-06-26T23:07:11.937Z"
   },
   {
    "duration": 9,
    "start_time": "2021-06-26T23:07:11.984Z"
   },
   {
    "duration": 8,
    "start_time": "2021-06-26T23:07:11.994Z"
   },
   {
    "duration": 7,
    "start_time": "2021-06-26T23:07:12.003Z"
   },
   {
    "duration": 7,
    "start_time": "2021-06-26T23:07:12.011Z"
   },
   {
    "duration": 317,
    "start_time": "2021-06-26T23:07:12.021Z"
   },
   {
    "duration": 13,
    "start_time": "2021-06-26T23:07:12.340Z"
   },
   {
    "duration": 10,
    "start_time": "2021-06-26T23:07:12.354Z"
   },
   {
    "duration": 250,
    "start_time": "2021-06-26T23:07:12.365Z"
   },
   {
    "duration": 178,
    "start_time": "2021-06-26T23:07:12.617Z"
   },
   {
    "duration": 13,
    "start_time": "2021-06-26T23:07:12.796Z"
   },
   {
    "duration": 22,
    "start_time": "2021-06-26T23:07:12.810Z"
   },
   {
    "duration": 8,
    "start_time": "2021-06-26T23:07:12.835Z"
   },
   {
    "duration": 52,
    "start_time": "2021-06-26T23:07:12.845Z"
   },
   {
    "duration": 8,
    "start_time": "2021-06-26T23:07:12.899Z"
   },
   {
    "duration": 16,
    "start_time": "2021-06-26T23:07:12.908Z"
   },
   {
    "duration": 149,
    "start_time": "2021-06-26T23:07:12.926Z"
   },
   {
    "duration": 199,
    "start_time": "2021-06-26T23:07:13.077Z"
   },
   {
    "duration": 7,
    "start_time": "2021-06-26T23:07:13.277Z"
   },
   {
    "duration": 54,
    "start_time": "2021-06-26T23:07:13.286Z"
   },
   {
    "duration": 3,
    "start_time": "2021-06-26T23:07:13.342Z"
   },
   {
    "duration": 258,
    "start_time": "2021-06-26T23:07:13.347Z"
   },
   {
    "duration": 140,
    "start_time": "2021-06-26T23:07:13.606Z"
   },
   {
    "duration": 6,
    "start_time": "2021-06-26T23:07:13.747Z"
   },
   {
    "duration": 32,
    "start_time": "2021-06-26T23:07:13.755Z"
   },
   {
    "duration": 13,
    "start_time": "2021-06-26T23:07:13.788Z"
   },
   {
    "duration": 7,
    "start_time": "2021-06-26T23:07:13.803Z"
   },
   {
    "duration": 11,
    "start_time": "2021-06-26T23:07:13.811Z"
   },
   {
    "duration": 19,
    "start_time": "2021-06-26T23:07:13.823Z"
   },
   {
    "duration": 12,
    "start_time": "2021-06-26T23:07:13.843Z"
   },
   {
    "duration": 21615,
    "start_time": "2021-07-11T10:43:51.732Z"
   },
   {
    "duration": 8202,
    "start_time": "2021-07-11T10:44:13.350Z"
   },
   {
    "duration": 5543,
    "start_time": "2021-07-11T10:44:21.557Z"
   },
   {
    "duration": 3077,
    "start_time": "2021-07-11T10:44:27.103Z"
   },
   {
    "duration": 2575,
    "start_time": "2021-07-11T10:44:30.183Z"
   },
   {
    "duration": 310,
    "start_time": "2021-07-11T10:44:32.761Z"
   },
   {
    "duration": 693,
    "start_time": "2021-07-11T10:44:33.074Z"
   },
   {
    "duration": 1441,
    "start_time": "2021-07-11T10:44:33.770Z"
   },
   {
    "duration": 323,
    "start_time": "2021-07-11T10:44:35.216Z"
   },
   {
    "duration": 168,
    "start_time": "2021-07-11T10:44:35.543Z"
   },
   {
    "duration": 765,
    "start_time": "2021-07-11T10:44:35.713Z"
   },
   {
    "duration": 894,
    "start_time": "2021-07-11T10:44:36.481Z"
   },
   {
    "duration": 645,
    "start_time": "2021-07-11T10:44:37.378Z"
   },
   {
    "duration": 625,
    "start_time": "2021-07-11T10:44:38.026Z"
   },
   {
    "duration": 151,
    "start_time": "2021-07-11T10:44:38.654Z"
   },
   {
    "duration": 14,
    "start_time": "2021-07-11T10:44:38.808Z"
   },
   {
    "duration": 136,
    "start_time": "2021-07-11T10:44:38.824Z"
   },
   {
    "duration": 58,
    "start_time": "2021-07-11T10:44:38.962Z"
   },
   {
    "duration": 109,
    "start_time": "2021-07-11T10:44:39.023Z"
   },
   {
    "duration": 19,
    "start_time": "2021-07-11T10:44:39.135Z"
   },
   {
    "duration": 109,
    "start_time": "2021-07-11T10:44:39.157Z"
   },
   {
    "duration": 41,
    "start_time": "2021-07-11T10:44:39.269Z"
   },
   {
    "duration": 93,
    "start_time": "2021-07-11T10:44:39.313Z"
   },
   {
    "duration": 353,
    "start_time": "2021-07-11T10:44:39.410Z"
   },
   {
    "duration": 526,
    "start_time": "2021-07-11T10:44:39.765Z"
   },
   {
    "duration": 305,
    "start_time": "2021-07-11T10:44:40.301Z"
   },
   {
    "duration": 25,
    "start_time": "2021-07-11T10:44:40.612Z"
   },
   {
    "duration": 26,
    "start_time": "2021-07-11T10:44:40.641Z"
   },
   {
    "duration": 44,
    "start_time": "2021-07-11T10:44:40.669Z"
   },
   {
    "duration": 103,
    "start_time": "2021-07-11T10:44:40.715Z"
   },
   {
    "duration": 520,
    "start_time": "2021-07-11T10:44:40.820Z"
   },
   {
    "duration": -190,
    "start_time": "2021-07-11T10:44:41.533Z"
   },
   {
    "duration": -193,
    "start_time": "2021-07-11T10:44:41.538Z"
   },
   {
    "duration": -197,
    "start_time": "2021-07-11T10:44:41.543Z"
   },
   {
    "duration": -201,
    "start_time": "2021-07-11T10:44:41.549Z"
   },
   {
    "duration": -204,
    "start_time": "2021-07-11T10:44:41.554Z"
   },
   {
    "duration": -208,
    "start_time": "2021-07-11T10:44:41.559Z"
   },
   {
    "duration": -212,
    "start_time": "2021-07-11T10:44:41.565Z"
   },
   {
    "duration": -218,
    "start_time": "2021-07-11T10:44:41.572Z"
   },
   {
    "duration": -221,
    "start_time": "2021-07-11T10:44:41.577Z"
   },
   {
    "duration": -225,
    "start_time": "2021-07-11T10:44:41.583Z"
   },
   {
    "duration": -228,
    "start_time": "2021-07-11T10:44:41.588Z"
   },
   {
    "duration": -233,
    "start_time": "2021-07-11T10:44:41.594Z"
   },
   {
    "duration": -237,
    "start_time": "2021-07-11T10:44:41.599Z"
   },
   {
    "duration": -240,
    "start_time": "2021-07-11T10:44:41.604Z"
   },
   {
    "duration": -244,
    "start_time": "2021-07-11T10:44:41.609Z"
   },
   {
    "duration": -249,
    "start_time": "2021-07-11T10:44:41.615Z"
   },
   {
    "duration": -253,
    "start_time": "2021-07-11T10:44:41.620Z"
   },
   {
    "duration": -258,
    "start_time": "2021-07-11T10:44:41.626Z"
   },
   {
    "duration": -261,
    "start_time": "2021-07-11T10:44:41.631Z"
   },
   {
    "duration": -266,
    "start_time": "2021-07-11T10:44:41.637Z"
   },
   {
    "duration": -270,
    "start_time": "2021-07-11T10:44:41.642Z"
   },
   {
    "duration": -275,
    "start_time": "2021-07-11T10:44:41.648Z"
   },
   {
    "duration": -278,
    "start_time": "2021-07-11T10:44:41.652Z"
   },
   {
    "duration": -283,
    "start_time": "2021-07-11T10:44:41.658Z"
   },
   {
    "duration": -287,
    "start_time": "2021-07-11T10:44:41.663Z"
   },
   {
    "duration": -291,
    "start_time": "2021-07-11T10:44:41.668Z"
   },
   {
    "duration": -294,
    "start_time": "2021-07-11T10:44:41.672Z"
   },
   {
    "duration": -280,
    "start_time": "2021-07-11T10:44:41.679Z"
   },
   {
    "duration": -283,
    "start_time": "2021-07-11T10:44:41.684Z"
   },
   {
    "duration": -287,
    "start_time": "2021-07-11T10:44:41.690Z"
   },
   {
    "duration": -292,
    "start_time": "2021-07-11T10:44:41.696Z"
   },
   {
    "duration": -295,
    "start_time": "2021-07-11T10:44:41.701Z"
   },
   {
    "duration": -299,
    "start_time": "2021-07-11T10:44:41.706Z"
   },
   {
    "duration": -303,
    "start_time": "2021-07-11T10:44:41.712Z"
   },
   {
    "duration": -305,
    "start_time": "2021-07-11T10:44:41.716Z"
   },
   {
    "duration": -309,
    "start_time": "2021-07-11T10:44:41.721Z"
   },
   {
    "duration": -313,
    "start_time": "2021-07-11T10:44:41.727Z"
   },
   {
    "duration": -383,
    "start_time": "2021-07-11T10:44:41.798Z"
   },
   {
    "duration": -385,
    "start_time": "2021-07-11T10:44:41.802Z"
   },
   {
    "duration": -387,
    "start_time": "2021-07-11T10:44:41.806Z"
   },
   {
    "duration": -390,
    "start_time": "2021-07-11T10:44:41.810Z"
   },
   {
    "duration": -392,
    "start_time": "2021-07-11T10:44:41.814Z"
   },
   {
    "duration": 879,
    "start_time": "2021-07-11T10:47:33.536Z"
   },
   {
    "duration": 13,
    "start_time": "2021-07-11T10:47:35.668Z"
   },
   {
    "duration": 22,
    "start_time": "2021-07-11T10:47:38.005Z"
   },
   {
    "duration": 15,
    "start_time": "2021-07-11T10:47:40.703Z"
   },
   {
    "duration": 24,
    "start_time": "2021-07-11T10:47:50.575Z"
   },
   {
    "duration": 941,
    "start_time": "2021-07-11T10:49:22.777Z"
   },
   {
    "duration": 13,
    "start_time": "2021-07-11T10:49:24.399Z"
   },
   {
    "duration": 16,
    "start_time": "2021-07-11T10:49:31.788Z"
   },
   {
    "duration": 10,
    "start_time": "2021-07-11T10:49:32.613Z"
   },
   {
    "duration": 12,
    "start_time": "2021-07-11T10:49:33.690Z"
   },
   {
    "duration": 22,
    "start_time": "2021-07-11T10:49:34.047Z"
   },
   {
    "duration": 557,
    "start_time": "2021-07-11T10:49:36.488Z"
   },
   {
    "duration": 11,
    "start_time": "2021-07-11T10:49:41.216Z"
   },
   {
    "duration": 29,
    "start_time": "2021-07-11T10:49:43.588Z"
   },
   {
    "duration": 33,
    "start_time": "2021-07-11T10:49:44.792Z"
   },
   {
    "duration": 11,
    "start_time": "2021-07-11T10:49:49.000Z"
   },
   {
    "duration": 24,
    "start_time": "2021-07-11T10:49:49.139Z"
   },
   {
    "duration": 28,
    "start_time": "2021-07-11T10:49:49.292Z"
   },
   {
    "duration": 6,
    "start_time": "2021-07-11T10:49:51.138Z"
   },
   {
    "duration": 12,
    "start_time": "2021-07-11T10:49:51.275Z"
   },
   {
    "duration": 5,
    "start_time": "2021-07-11T10:49:51.425Z"
   },
   {
    "duration": 7,
    "start_time": "2021-07-11T10:49:57.767Z"
   },
   {
    "duration": 8,
    "start_time": "2021-07-11T10:49:59.145Z"
   },
   {
    "duration": 5,
    "start_time": "2021-07-11T10:49:59.686Z"
   },
   {
    "duration": 22,
    "start_time": "2021-07-11T10:50:02.009Z"
   },
   {
    "duration": 20,
    "start_time": "2021-07-11T10:50:02.151Z"
   },
   {
    "duration": 25,
    "start_time": "2021-07-11T10:50:04.960Z"
   },
   {
    "duration": 84,
    "start_time": "2021-07-11T10:50:09.995Z"
   },
   {
    "duration": 5,
    "start_time": "2021-07-11T10:50:15.618Z"
   },
   {
    "duration": 16,
    "start_time": "2021-07-11T10:50:16.429Z"
   },
   {
    "duration": 24,
    "start_time": "2021-07-11T10:50:22.010Z"
   },
   {
    "duration": 84,
    "start_time": "2021-07-11T10:50:22.212Z"
   },
   {
    "duration": 5,
    "start_time": "2021-07-11T10:50:22.523Z"
   },
   {
    "duration": 14631,
    "start_time": "2021-07-11T17:19:53.543Z"
   },
   {
    "duration": 5410,
    "start_time": "2021-07-11T17:20:08.176Z"
   },
   {
    "duration": 2998,
    "start_time": "2021-07-11T17:20:13.589Z"
   },
   {
    "duration": 1950,
    "start_time": "2021-07-11T17:20:16.589Z"
   },
   {
    "duration": 1384,
    "start_time": "2021-07-11T17:20:18.541Z"
   },
   {
    "duration": 193,
    "start_time": "2021-07-11T17:20:19.927Z"
   },
   {
    "duration": 11,
    "start_time": "2021-07-11T17:20:20.122Z"
   },
   {
    "duration": 8,
    "start_time": "2021-07-11T17:20:20.135Z"
   },
   {
    "duration": 80,
    "start_time": "2021-07-11T17:20:20.145Z"
   },
   {
    "duration": 24,
    "start_time": "2021-07-11T17:20:20.227Z"
   },
   {
    "duration": 13,
    "start_time": "2021-07-11T17:20:20.252Z"
   },
   {
    "duration": 22,
    "start_time": "2021-07-11T17:20:20.285Z"
   },
   {
    "duration": 11,
    "start_time": "2021-07-11T17:20:20.308Z"
   },
   {
    "duration": 472,
    "start_time": "2021-07-11T17:20:20.321Z"
   },
   {
    "duration": 91,
    "start_time": "2021-07-11T17:20:20.794Z"
   },
   {
    "duration": 10,
    "start_time": "2021-07-11T17:20:20.887Z"
   },
   {
    "duration": 94,
    "start_time": "2021-07-11T17:20:20.898Z"
   },
   {
    "duration": 16,
    "start_time": "2021-07-11T17:20:20.993Z"
   },
   {
    "duration": 80,
    "start_time": "2021-07-11T17:20:21.011Z"
   },
   {
    "duration": 13,
    "start_time": "2021-07-11T17:20:21.094Z"
   },
   {
    "duration": 50,
    "start_time": "2021-07-11T17:20:21.109Z"
   },
   {
    "duration": 40,
    "start_time": "2021-07-11T17:20:21.161Z"
   },
   {
    "duration": 49,
    "start_time": "2021-07-11T17:20:21.205Z"
   },
   {
    "duration": 200,
    "start_time": "2021-07-11T17:20:21.284Z"
   },
   {
    "duration": 267,
    "start_time": "2021-07-11T17:20:21.487Z"
   },
   {
    "duration": 17,
    "start_time": "2021-07-11T17:20:21.755Z"
   },
   {
    "duration": 24,
    "start_time": "2021-07-11T17:20:21.773Z"
   },
   {
    "duration": 14,
    "start_time": "2021-07-11T17:20:21.799Z"
   },
   {
    "duration": 51,
    "start_time": "2021-07-11T17:20:21.814Z"
   },
   {
    "duration": 350,
    "start_time": "2021-07-11T17:20:21.884Z"
   },
   {
    "duration": 17274,
    "start_time": "2021-07-11T17:20:04.963Z"
   },
   {
    "duration": 17271,
    "start_time": "2021-07-11T17:20:04.968Z"
   },
   {
    "duration": 17269,
    "start_time": "2021-07-11T17:20:04.971Z"
   },
   {
    "duration": 17267,
    "start_time": "2021-07-11T17:20:04.974Z"
   },
   {
    "duration": 17266,
    "start_time": "2021-07-11T17:20:04.977Z"
   },
   {
    "duration": 17240,
    "start_time": "2021-07-11T17:20:05.004Z"
   },
   {
    "duration": 17239,
    "start_time": "2021-07-11T17:20:05.007Z"
   },
   {
    "duration": 17237,
    "start_time": "2021-07-11T17:20:05.010Z"
   },
   {
    "duration": 17234,
    "start_time": "2021-07-11T17:20:05.014Z"
   },
   {
    "duration": 17231,
    "start_time": "2021-07-11T17:20:05.019Z"
   },
   {
    "duration": 17229,
    "start_time": "2021-07-11T17:20:05.022Z"
   },
   {
    "duration": 17228,
    "start_time": "2021-07-11T17:20:05.025Z"
   },
   {
    "duration": 17226,
    "start_time": "2021-07-11T17:20:05.028Z"
   },
   {
    "duration": 17224,
    "start_time": "2021-07-11T17:20:05.032Z"
   },
   {
    "duration": 17222,
    "start_time": "2021-07-11T17:20:05.035Z"
   },
   {
    "duration": 17220,
    "start_time": "2021-07-11T17:20:05.038Z"
   },
   {
    "duration": 17219,
    "start_time": "2021-07-11T17:20:05.041Z"
   },
   {
    "duration": 17217,
    "start_time": "2021-07-11T17:20:05.044Z"
   },
   {
    "duration": 17215,
    "start_time": "2021-07-11T17:20:05.047Z"
   },
   {
    "duration": 17213,
    "start_time": "2021-07-11T17:20:05.050Z"
   },
   {
    "duration": 17211,
    "start_time": "2021-07-11T17:20:05.053Z"
   },
   {
    "duration": 17208,
    "start_time": "2021-07-11T17:20:05.056Z"
   },
   {
    "duration": 17207,
    "start_time": "2021-07-11T17:20:05.059Z"
   },
   {
    "duration": 17205,
    "start_time": "2021-07-11T17:20:05.062Z"
   },
   {
    "duration": 17204,
    "start_time": "2021-07-11T17:20:05.064Z"
   },
   {
    "duration": 17202,
    "start_time": "2021-07-11T17:20:05.067Z"
   },
   {
    "duration": 17200,
    "start_time": "2021-07-11T17:20:05.070Z"
   },
   {
    "duration": 17198,
    "start_time": "2021-07-11T17:20:05.073Z"
   },
   {
    "duration": 17196,
    "start_time": "2021-07-11T17:20:05.076Z"
   },
   {
    "duration": 17192,
    "start_time": "2021-07-11T17:20:05.081Z"
   },
   {
    "duration": 17190,
    "start_time": "2021-07-11T17:20:05.084Z"
   },
   {
    "duration": 17187,
    "start_time": "2021-07-11T17:20:05.088Z"
   },
   {
    "duration": 17194,
    "start_time": "2021-07-11T17:20:05.090Z"
   },
   {
    "duration": 17191,
    "start_time": "2021-07-11T17:20:05.094Z"
   },
   {
    "duration": 17190,
    "start_time": "2021-07-11T17:20:05.096Z"
   },
   {
    "duration": 17188,
    "start_time": "2021-07-11T17:20:05.099Z"
   },
   {
    "duration": 17178,
    "start_time": "2021-07-11T17:20:05.110Z"
   },
   {
    "duration": 17175,
    "start_time": "2021-07-11T17:20:05.114Z"
   },
   {
    "duration": 17173,
    "start_time": "2021-07-11T17:20:05.117Z"
   },
   {
    "duration": 17171,
    "start_time": "2021-07-11T17:20:05.120Z"
   },
   {
    "duration": 17169,
    "start_time": "2021-07-11T17:20:05.123Z"
   },
   {
    "duration": 17166,
    "start_time": "2021-07-11T17:20:05.127Z"
   },
   {
    "duration": 2005,
    "start_time": "2021-07-11T17:21:03.405Z"
   },
   {
    "duration": 1934,
    "start_time": "2021-07-11T17:21:05.412Z"
   },
   {
    "duration": 1968,
    "start_time": "2021-07-11T17:21:07.348Z"
   },
   {
    "duration": 2063,
    "start_time": "2021-07-11T17:21:09.318Z"
   },
   {
    "duration": 3,
    "start_time": "2021-07-11T17:21:11.383Z"
   },
   {
    "duration": 182,
    "start_time": "2021-07-11T17:21:11.388Z"
   },
   {
    "duration": 8,
    "start_time": "2021-07-11T17:21:11.572Z"
   },
   {
    "duration": 17,
    "start_time": "2021-07-11T17:21:11.582Z"
   },
   {
    "duration": 52,
    "start_time": "2021-07-11T17:21:11.602Z"
   },
   {
    "duration": 22,
    "start_time": "2021-07-11T17:21:11.656Z"
   },
   {
    "duration": 13,
    "start_time": "2021-07-11T17:21:11.680Z"
   },
   {
    "duration": 21,
    "start_time": "2021-07-11T17:21:11.694Z"
   },
   {
    "duration": 9,
    "start_time": "2021-07-11T17:21:11.717Z"
   },
   {
    "duration": 151,
    "start_time": "2021-07-11T17:21:11.727Z"
   },
   {
    "duration": 39,
    "start_time": "2021-07-11T17:21:11.880Z"
   },
   {
    "duration": 10,
    "start_time": "2021-07-11T17:21:11.921Z"
   },
   {
    "duration": 62,
    "start_time": "2021-07-11T17:21:11.933Z"
   },
   {
    "duration": 13,
    "start_time": "2021-07-11T17:21:11.997Z"
   },
   {
    "duration": 49,
    "start_time": "2021-07-11T17:21:12.011Z"
   },
   {
    "duration": 34,
    "start_time": "2021-07-11T17:21:12.061Z"
   },
   {
    "duration": 51,
    "start_time": "2021-07-11T17:21:12.097Z"
   },
   {
    "duration": 40,
    "start_time": "2021-07-11T17:21:12.150Z"
   },
   {
    "duration": 49,
    "start_time": "2021-07-11T17:21:12.191Z"
   },
   {
    "duration": 208,
    "start_time": "2021-07-11T17:21:12.242Z"
   },
   {
    "duration": 205,
    "start_time": "2021-07-11T17:21:12.452Z"
   },
   {
    "duration": 17,
    "start_time": "2021-07-11T17:21:12.658Z"
   },
   {
    "duration": 16,
    "start_time": "2021-07-11T17:21:12.687Z"
   },
   {
    "duration": 13,
    "start_time": "2021-07-11T17:21:12.706Z"
   },
   {
    "duration": 67,
    "start_time": "2021-07-11T17:21:12.720Z"
   },
   {
    "duration": 2,
    "start_time": "2021-07-11T17:21:12.789Z"
   },
   {
    "duration": 4,
    "start_time": "2021-07-11T17:21:12.793Z"
   },
   {
    "duration": 370,
    "start_time": "2021-07-11T17:21:12.799Z"
   },
   {
    "duration": 20992,
    "start_time": "2021-07-11T17:20:52.178Z"
   },
   {
    "duration": 20988,
    "start_time": "2021-07-11T17:20:52.184Z"
   },
   {
    "duration": 20982,
    "start_time": "2021-07-11T17:20:52.191Z"
   },
   {
    "duration": 20978,
    "start_time": "2021-07-11T17:20:52.196Z"
   },
   {
    "duration": 20975,
    "start_time": "2021-07-11T17:20:52.200Z"
   },
   {
    "duration": 20969,
    "start_time": "2021-07-11T17:20:52.207Z"
   },
   {
    "duration": 20966,
    "start_time": "2021-07-11T17:20:52.211Z"
   },
   {
    "duration": 20963,
    "start_time": "2021-07-11T17:20:52.215Z"
   },
   {
    "duration": 20961,
    "start_time": "2021-07-11T17:20:52.218Z"
   },
   {
    "duration": 20958,
    "start_time": "2021-07-11T17:20:52.222Z"
   },
   {
    "duration": 20955,
    "start_time": "2021-07-11T17:20:52.226Z"
   },
   {
    "duration": 20953,
    "start_time": "2021-07-11T17:20:52.230Z"
   },
   {
    "duration": 20950,
    "start_time": "2021-07-11T17:20:52.234Z"
   },
   {
    "duration": 20945,
    "start_time": "2021-07-11T17:20:52.240Z"
   },
   {
    "duration": 20940,
    "start_time": "2021-07-11T17:20:52.246Z"
   },
   {
    "duration": 20937,
    "start_time": "2021-07-11T17:20:52.250Z"
   },
   {
    "duration": 20935,
    "start_time": "2021-07-11T17:20:52.253Z"
   },
   {
    "duration": 20930,
    "start_time": "2021-07-11T17:20:52.259Z"
   },
   {
    "duration": 20928,
    "start_time": "2021-07-11T17:20:52.263Z"
   },
   {
    "duration": 20926,
    "start_time": "2021-07-11T17:20:52.266Z"
   },
   {
    "duration": 20920,
    "start_time": "2021-07-11T17:20:52.273Z"
   },
   {
    "duration": 20916,
    "start_time": "2021-07-11T17:20:52.278Z"
   },
   {
    "duration": 20914,
    "start_time": "2021-07-11T17:20:52.281Z"
   },
   {
    "duration": 20911,
    "start_time": "2021-07-11T17:20:52.285Z"
   },
   {
    "duration": 20907,
    "start_time": "2021-07-11T17:20:52.290Z"
   },
   {
    "duration": 20904,
    "start_time": "2021-07-11T17:20:52.294Z"
   },
   {
    "duration": 20902,
    "start_time": "2021-07-11T17:20:52.297Z"
   },
   {
    "duration": 20900,
    "start_time": "2021-07-11T17:20:52.300Z"
   },
   {
    "duration": 20899,
    "start_time": "2021-07-11T17:20:52.303Z"
   },
   {
    "duration": 20894,
    "start_time": "2021-07-11T17:20:52.309Z"
   },
   {
    "duration": 20892,
    "start_time": "2021-07-11T17:20:52.312Z"
   },
   {
    "duration": 20889,
    "start_time": "2021-07-11T17:20:52.315Z"
   },
   {
    "duration": 20888,
    "start_time": "2021-07-11T17:20:52.318Z"
   },
   {
    "duration": 20884,
    "start_time": "2021-07-11T17:20:52.323Z"
   },
   {
    "duration": 20881,
    "start_time": "2021-07-11T17:20:52.327Z"
   },
   {
    "duration": 20878,
    "start_time": "2021-07-11T17:20:52.331Z"
   },
   {
    "duration": 20876,
    "start_time": "2021-07-11T17:20:52.334Z"
   },
   {
    "duration": 20871,
    "start_time": "2021-07-11T17:20:52.340Z"
   },
   {
    "duration": 20868,
    "start_time": "2021-07-11T17:20:52.344Z"
   },
   {
    "duration": 20864,
    "start_time": "2021-07-11T17:20:52.349Z"
   },
   {
    "duration": 1736,
    "start_time": "2021-07-11T17:35:26.962Z"
   },
   {
    "duration": 2024,
    "start_time": "2021-07-11T17:36:17.844Z"
   },
   {
    "duration": 1988,
    "start_time": "2021-07-11T17:36:19.870Z"
   },
   {
    "duration": 2019,
    "start_time": "2021-07-11T17:36:21.860Z"
   },
   {
    "duration": 1996,
    "start_time": "2021-07-11T17:36:23.882Z"
   },
   {
    "duration": 4,
    "start_time": "2021-07-11T17:36:25.880Z"
   },
   {
    "duration": 229,
    "start_time": "2021-07-11T17:36:25.885Z"
   },
   {
    "duration": 9,
    "start_time": "2021-07-11T17:36:26.116Z"
   },
   {
    "duration": 4,
    "start_time": "2021-07-11T17:36:26.128Z"
   },
   {
    "duration": 62,
    "start_time": "2021-07-11T17:36:26.134Z"
   },
   {
    "duration": 23,
    "start_time": "2021-07-11T17:36:26.197Z"
   },
   {
    "duration": 13,
    "start_time": "2021-07-11T17:36:26.222Z"
   },
   {
    "duration": 23,
    "start_time": "2021-07-11T17:36:26.236Z"
   },
   {
    "duration": 30,
    "start_time": "2021-07-11T17:36:26.261Z"
   },
   {
    "duration": 49,
    "start_time": "2021-07-11T17:36:26.293Z"
   },
   {
    "duration": 58,
    "start_time": "2021-07-11T17:36:26.344Z"
   },
   {
    "duration": 10,
    "start_time": "2021-07-11T17:36:26.403Z"
   },
   {
    "duration": 37,
    "start_time": "2021-07-11T17:36:26.415Z"
   },
   {
    "duration": 39,
    "start_time": "2021-07-11T17:36:26.453Z"
   },
   {
    "duration": 48,
    "start_time": "2021-07-11T17:36:26.494Z"
   },
   {
    "duration": 13,
    "start_time": "2021-07-11T17:36:26.543Z"
   },
   {
    "duration": 68,
    "start_time": "2021-07-11T17:36:26.557Z"
   },
   {
    "duration": 17,
    "start_time": "2021-07-11T17:36:26.626Z"
   },
   {
    "duration": 65,
    "start_time": "2021-07-11T17:36:26.647Z"
   },
   {
    "duration": 291,
    "start_time": "2021-07-11T17:36:26.714Z"
   },
   {
    "duration": 209,
    "start_time": "2021-07-11T17:36:27.006Z"
   },
   {
    "duration": 17,
    "start_time": "2021-07-11T17:36:27.217Z"
   },
   {
    "duration": 16,
    "start_time": "2021-07-11T17:36:27.235Z"
   },
   {
    "duration": 33,
    "start_time": "2021-07-11T17:36:27.253Z"
   },
   {
    "duration": 45,
    "start_time": "2021-07-11T17:36:27.288Z"
   },
   {
    "duration": 2,
    "start_time": "2021-07-11T17:36:27.335Z"
   },
   {
    "duration": 5,
    "start_time": "2021-07-11T17:36:27.338Z"
   },
   {
    "duration": 411,
    "start_time": "2021-07-11T17:36:27.345Z"
   },
   {
    "duration": 21002,
    "start_time": "2021-07-11T17:36:06.756Z"
   },
   {
    "duration": 20995,
    "start_time": "2021-07-11T17:36:06.764Z"
   },
   {
    "duration": 20991,
    "start_time": "2021-07-11T17:36:06.769Z"
   },
   {
    "duration": 20986,
    "start_time": "2021-07-11T17:36:06.775Z"
   },
   {
    "duration": 20979,
    "start_time": "2021-07-11T17:36:06.782Z"
   },
   {
    "duration": 20975,
    "start_time": "2021-07-11T17:36:06.787Z"
   },
   {
    "duration": 20970,
    "start_time": "2021-07-11T17:36:06.793Z"
   },
   {
    "duration": 20965,
    "start_time": "2021-07-11T17:36:06.799Z"
   },
   {
    "duration": 20961,
    "start_time": "2021-07-11T17:36:06.804Z"
   },
   {
    "duration": 20957,
    "start_time": "2021-07-11T17:36:06.809Z"
   },
   {
    "duration": 20951,
    "start_time": "2021-07-11T17:36:06.816Z"
   },
   {
    "duration": 20945,
    "start_time": "2021-07-11T17:36:06.823Z"
   },
   {
    "duration": 20941,
    "start_time": "2021-07-11T17:36:06.828Z"
   },
   {
    "duration": 20934,
    "start_time": "2021-07-11T17:36:06.836Z"
   },
   {
    "duration": 20929,
    "start_time": "2021-07-11T17:36:06.841Z"
   },
   {
    "duration": 20915,
    "start_time": "2021-07-11T17:36:06.856Z"
   },
   {
    "duration": 20911,
    "start_time": "2021-07-11T17:36:06.861Z"
   },
   {
    "duration": 20905,
    "start_time": "2021-07-11T17:36:06.868Z"
   },
   {
    "duration": 20902,
    "start_time": "2021-07-11T17:36:06.872Z"
   },
   {
    "duration": 20896,
    "start_time": "2021-07-11T17:36:06.879Z"
   },
   {
    "duration": 20891,
    "start_time": "2021-07-11T17:36:06.885Z"
   },
   {
    "duration": 20880,
    "start_time": "2021-07-11T17:36:06.897Z"
   },
   {
    "duration": 20869,
    "start_time": "2021-07-11T17:36:06.908Z"
   },
   {
    "duration": 20852,
    "start_time": "2021-07-11T17:36:06.926Z"
   },
   {
    "duration": 20842,
    "start_time": "2021-07-11T17:36:06.937Z"
   },
   {
    "duration": 20836,
    "start_time": "2021-07-11T17:36:06.944Z"
   },
   {
    "duration": 20832,
    "start_time": "2021-07-11T17:36:06.949Z"
   },
   {
    "duration": 20817,
    "start_time": "2021-07-11T17:36:06.965Z"
   },
   {
    "duration": 20811,
    "start_time": "2021-07-11T17:36:06.972Z"
   },
   {
    "duration": 20802,
    "start_time": "2021-07-11T17:36:06.981Z"
   },
   {
    "duration": 20798,
    "start_time": "2021-07-11T17:36:06.986Z"
   },
   {
    "duration": 20785,
    "start_time": "2021-07-11T17:36:07.000Z"
   },
   {
    "duration": 20782,
    "start_time": "2021-07-11T17:36:07.004Z"
   },
   {
    "duration": 20778,
    "start_time": "2021-07-11T17:36:07.009Z"
   },
   {
    "duration": 20776,
    "start_time": "2021-07-11T17:36:07.012Z"
   },
   {
    "duration": 20772,
    "start_time": "2021-07-11T17:36:07.017Z"
   },
   {
    "duration": 20769,
    "start_time": "2021-07-11T17:36:07.021Z"
   },
   {
    "duration": 20765,
    "start_time": "2021-07-11T17:36:07.025Z"
   },
   {
    "duration": 20762,
    "start_time": "2021-07-11T17:36:07.029Z"
   },
   {
    "duration": 20759,
    "start_time": "2021-07-11T17:36:07.033Z"
   },
   {
    "duration": 1983,
    "start_time": "2021-07-11T17:36:56.103Z"
   },
   {
    "duration": 1973,
    "start_time": "2021-07-11T17:36:58.089Z"
   },
   {
    "duration": 1962,
    "start_time": "2021-07-11T17:37:00.064Z"
   },
   {
    "duration": 1955,
    "start_time": "2021-07-11T17:37:02.029Z"
   },
   {
    "duration": 4,
    "start_time": "2021-07-11T17:37:03.986Z"
   },
   {
    "duration": 168,
    "start_time": "2021-07-11T17:37:03.992Z"
   },
   {
    "duration": 9,
    "start_time": "2021-07-11T17:37:04.162Z"
   },
   {
    "duration": 9,
    "start_time": "2021-07-11T17:37:04.172Z"
   },
   {
    "duration": 46,
    "start_time": "2021-07-11T17:37:04.183Z"
   },
   {
    "duration": 22,
    "start_time": "2021-07-11T17:37:04.231Z"
   },
   {
    "duration": 23,
    "start_time": "2021-07-11T17:37:04.255Z"
   },
   {
    "duration": 27,
    "start_time": "2021-07-11T17:37:04.279Z"
   },
   {
    "duration": 10,
    "start_time": "2021-07-11T17:37:04.307Z"
   },
   {
    "duration": 68,
    "start_time": "2021-07-11T17:37:04.319Z"
   },
   {
    "duration": 37,
    "start_time": "2021-07-11T17:37:04.389Z"
   },
   {
    "duration": 16,
    "start_time": "2021-07-11T17:37:04.427Z"
   },
   {
    "duration": 52,
    "start_time": "2021-07-11T17:37:04.445Z"
   },
   {
    "duration": 20,
    "start_time": "2021-07-11T17:37:04.498Z"
   },
   {
    "duration": 47,
    "start_time": "2021-07-11T17:37:04.519Z"
   },
   {
    "duration": 24,
    "start_time": "2021-07-11T17:37:04.568Z"
   },
   {
    "duration": 59,
    "start_time": "2021-07-11T17:37:04.593Z"
   },
   {
    "duration": 15,
    "start_time": "2021-07-11T17:37:04.654Z"
   },
   {
    "duration": 59,
    "start_time": "2021-07-11T17:37:04.671Z"
   },
   {
    "duration": 205,
    "start_time": "2021-07-11T17:37:04.732Z"
   },
   {
    "duration": 206,
    "start_time": "2021-07-11T17:37:04.938Z"
   },
   {
    "duration": 16,
    "start_time": "2021-07-11T17:37:05.146Z"
   },
   {
    "duration": 33,
    "start_time": "2021-07-11T17:37:05.166Z"
   },
   {
    "duration": 14,
    "start_time": "2021-07-11T17:37:05.201Z"
   },
   {
    "duration": 45,
    "start_time": "2021-07-11T17:37:05.217Z"
   },
   {
    "duration": 2,
    "start_time": "2021-07-11T17:37:05.285Z"
   },
   {
    "duration": 16,
    "start_time": "2021-07-11T17:37:05.288Z"
   },
   {
    "duration": 393,
    "start_time": "2021-07-11T17:37:05.305Z"
   },
   {
    "duration": 21043,
    "start_time": "2021-07-11T17:36:44.656Z"
   },
   {
    "duration": 21041,
    "start_time": "2021-07-11T17:36:44.659Z"
   },
   {
    "duration": 21035,
    "start_time": "2021-07-11T17:36:44.666Z"
   },
   {
    "duration": 21032,
    "start_time": "2021-07-11T17:36:44.670Z"
   },
   {
    "duration": 21028,
    "start_time": "2021-07-11T17:36:44.675Z"
   },
   {
    "duration": 21026,
    "start_time": "2021-07-11T17:36:44.678Z"
   },
   {
    "duration": 21021,
    "start_time": "2021-07-11T17:36:44.684Z"
   },
   {
    "duration": 20937,
    "start_time": "2021-07-11T17:36:44.769Z"
   },
   {
    "duration": 20933,
    "start_time": "2021-07-11T17:36:44.774Z"
   },
   {
    "duration": 20931,
    "start_time": "2021-07-11T17:36:44.777Z"
   },
   {
    "duration": 20928,
    "start_time": "2021-07-11T17:36:44.781Z"
   },
   {
    "duration": 20925,
    "start_time": "2021-07-11T17:36:44.785Z"
   },
   {
    "duration": 20920,
    "start_time": "2021-07-11T17:36:44.791Z"
   },
   {
    "duration": 20916,
    "start_time": "2021-07-11T17:36:44.796Z"
   },
   {
    "duration": 20912,
    "start_time": "2021-07-11T17:36:44.801Z"
   },
   {
    "duration": 20909,
    "start_time": "2021-07-11T17:36:44.805Z"
   },
   {
    "duration": 20905,
    "start_time": "2021-07-11T17:36:44.809Z"
   },
   {
    "duration": 20902,
    "start_time": "2021-07-11T17:36:44.813Z"
   },
   {
    "duration": 20900,
    "start_time": "2021-07-11T17:36:44.816Z"
   },
   {
    "duration": 20897,
    "start_time": "2021-07-11T17:36:44.820Z"
   },
   {
    "duration": 20894,
    "start_time": "2021-07-11T17:36:44.824Z"
   },
   {
    "duration": 20891,
    "start_time": "2021-07-11T17:36:44.828Z"
   },
   {
    "duration": 20888,
    "start_time": "2021-07-11T17:36:44.832Z"
   },
   {
    "duration": 20885,
    "start_time": "2021-07-11T17:36:44.836Z"
   },
   {
    "duration": 20882,
    "start_time": "2021-07-11T17:36:44.840Z"
   },
   {
    "duration": 20878,
    "start_time": "2021-07-11T17:36:44.845Z"
   },
   {
    "duration": 20875,
    "start_time": "2021-07-11T17:36:44.849Z"
   },
   {
    "duration": 20865,
    "start_time": "2021-07-11T17:36:44.860Z"
   },
   {
    "duration": 20862,
    "start_time": "2021-07-11T17:36:44.864Z"
   },
   {
    "duration": 20851,
    "start_time": "2021-07-11T17:36:44.876Z"
   },
   {
    "duration": 20848,
    "start_time": "2021-07-11T17:36:44.880Z"
   },
   {
    "duration": 20830,
    "start_time": "2021-07-11T17:36:44.899Z"
   },
   {
    "duration": 20827,
    "start_time": "2021-07-11T17:36:44.903Z"
   },
   {
    "duration": 20824,
    "start_time": "2021-07-11T17:36:44.907Z"
   },
   {
    "duration": 20817,
    "start_time": "2021-07-11T17:36:44.915Z"
   },
   {
    "duration": 20815,
    "start_time": "2021-07-11T17:36:44.918Z"
   },
   {
    "duration": 20812,
    "start_time": "2021-07-11T17:36:44.922Z"
   },
   {
    "duration": 20810,
    "start_time": "2021-07-11T17:36:44.925Z"
   },
   {
    "duration": 20808,
    "start_time": "2021-07-11T17:36:44.928Z"
   },
   {
    "duration": 20854,
    "start_time": "2021-07-11T17:36:44.931Z"
   },
   {
    "duration": 866,
    "start_time": "2021-07-11T17:37:14.700Z"
   },
   {
    "duration": 8,
    "start_time": "2021-07-11T17:37:15.568Z"
   },
   {
    "duration": 22,
    "start_time": "2021-07-11T17:37:15.578Z"
   },
   {
    "duration": 19,
    "start_time": "2021-07-11T17:37:15.602Z"
   },
   {
    "duration": 16,
    "start_time": "2021-07-11T17:37:15.623Z"
   },
   {
    "duration": 6,
    "start_time": "2021-07-11T17:37:15.641Z"
   },
   {
    "duration": 18,
    "start_time": "2021-07-11T17:37:15.648Z"
   },
   {
    "duration": 46332,
    "start_time": "2021-07-11T17:37:15.668Z"
   },
   {
    "duration": 63,
    "start_time": "2021-07-11T17:38:02.004Z"
   },
   {
    "duration": 23645,
    "start_time": "2021-07-11T17:37:38.425Z"
   },
   {
    "duration": 23572,
    "start_time": "2021-07-11T17:37:38.499Z"
   },
   {
    "duration": 23567,
    "start_time": "2021-07-11T17:37:38.506Z"
   },
   {
    "duration": 23564,
    "start_time": "2021-07-11T17:37:38.510Z"
   },
   {
    "duration": 23560,
    "start_time": "2021-07-11T17:37:38.514Z"
   },
   {
    "duration": 23558,
    "start_time": "2021-07-11T17:37:38.517Z"
   },
   {
    "duration": 23544,
    "start_time": "2021-07-11T17:37:38.532Z"
   },
   {
    "duration": 23541,
    "start_time": "2021-07-11T17:37:38.536Z"
   },
   {
    "duration": 23540,
    "start_time": "2021-07-11T17:37:38.538Z"
   },
   {
    "duration": 23538,
    "start_time": "2021-07-11T17:37:38.541Z"
   },
   {
    "duration": 23535,
    "start_time": "2021-07-11T17:37:38.545Z"
   },
   {
    "duration": 23531,
    "start_time": "2021-07-11T17:37:38.550Z"
   },
   {
    "duration": 23529,
    "start_time": "2021-07-11T17:37:38.553Z"
   },
   {
    "duration": 23527,
    "start_time": "2021-07-11T17:37:38.556Z"
   },
   {
    "duration": 23526,
    "start_time": "2021-07-11T17:37:38.558Z"
   },
   {
    "duration": 23517,
    "start_time": "2021-07-11T17:37:38.568Z"
   },
   {
    "duration": 23515,
    "start_time": "2021-07-11T17:37:38.571Z"
   },
   {
    "duration": 23506,
    "start_time": "2021-07-11T17:37:38.581Z"
   },
   {
    "duration": 23504,
    "start_time": "2021-07-11T17:37:38.584Z"
   },
   {
    "duration": 23502,
    "start_time": "2021-07-11T17:37:38.587Z"
   },
   {
    "duration": 23500,
    "start_time": "2021-07-11T17:37:38.590Z"
   },
   {
    "duration": 23497,
    "start_time": "2021-07-11T17:37:38.594Z"
   },
   {
    "duration": 23493,
    "start_time": "2021-07-11T17:37:38.599Z"
   },
   {
    "duration": 23491,
    "start_time": "2021-07-11T17:37:38.602Z"
   },
   {
    "duration": 23489,
    "start_time": "2021-07-11T17:37:38.605Z"
   },
   {
    "duration": 23486,
    "start_time": "2021-07-11T17:37:38.609Z"
   },
   {
    "duration": 23484,
    "start_time": "2021-07-11T17:37:38.612Z"
   },
   {
    "duration": 23482,
    "start_time": "2021-07-11T17:37:38.615Z"
   },
   {
    "duration": 23480,
    "start_time": "2021-07-11T17:37:38.618Z"
   },
   {
    "duration": 23477,
    "start_time": "2021-07-11T17:37:38.621Z"
   },
   {
    "duration": 52,
    "start_time": "2021-07-11T17:38:32.922Z"
   },
   {
    "duration": 1010,
    "start_time": "2021-07-11T17:45:57.429Z"
   },
   {
    "duration": 8,
    "start_time": "2021-07-11T17:45:58.441Z"
   },
   {
    "duration": 10,
    "start_time": "2021-07-11T17:45:58.451Z"
   },
   {
    "duration": 7,
    "start_time": "2021-07-11T17:45:58.463Z"
   },
   {
    "duration": 9,
    "start_time": "2021-07-11T17:45:58.471Z"
   },
   {
    "duration": 12,
    "start_time": "2021-07-11T17:45:58.482Z"
   },
   {
    "duration": 321,
    "start_time": "2021-07-11T17:45:58.495Z"
   },
   {
    "duration": 7,
    "start_time": "2021-07-11T17:45:58.818Z"
   },
   {
    "duration": 18,
    "start_time": "2021-07-11T17:45:58.827Z"
   },
   {
    "duration": 19,
    "start_time": "2021-07-11T17:45:58.847Z"
   },
   {
    "duration": 7,
    "start_time": "2021-07-11T17:45:58.867Z"
   },
   {
    "duration": 15,
    "start_time": "2021-07-11T17:45:58.884Z"
   },
   {
    "duration": 18,
    "start_time": "2021-07-11T17:45:58.901Z"
   },
   {
    "duration": 4,
    "start_time": "2021-07-11T17:45:58.920Z"
   },
   {
    "duration": 9,
    "start_time": "2021-07-11T17:45:58.925Z"
   },
   {
    "duration": 3,
    "start_time": "2021-07-11T17:45:58.936Z"
   },
   {
    "duration": 6,
    "start_time": "2021-07-11T17:45:58.941Z"
   },
   {
    "duration": 39,
    "start_time": "2021-07-11T17:45:58.949Z"
   },
   {
    "duration": 6,
    "start_time": "2021-07-11T17:45:58.989Z"
   },
   {
    "duration": 14,
    "start_time": "2021-07-11T17:45:58.996Z"
   },
   {
    "duration": 11,
    "start_time": "2021-07-11T17:45:59.011Z"
   },
   {
    "duration": 16,
    "start_time": "2021-07-11T17:45:59.023Z"
   },
   {
    "duration": 86,
    "start_time": "2021-07-11T17:45:59.042Z"
   },
   {
    "duration": 3,
    "start_time": "2021-07-11T17:45:59.130Z"
   },
   {
    "duration": 13,
    "start_time": "2021-07-11T17:45:59.134Z"
   },
   {
    "duration": 15,
    "start_time": "2021-07-11T17:45:59.148Z"
   },
   {
    "duration": 46,
    "start_time": "2021-07-11T17:45:59.184Z"
   },
   {
    "duration": 4,
    "start_time": "2021-07-11T17:45:59.231Z"
   },
   {
    "duration": 63,
    "start_time": "2021-07-11T17:48:13.305Z"
   },
   {
    "duration": 17783,
    "start_time": "2021-07-12T13:14:35.058Z"
   },
   {
    "duration": 1257,
    "start_time": "2021-07-12T13:17:29.396Z"
   },
   {
    "duration": 7022,
    "start_time": "2021-07-12T13:17:36.917Z"
   },
   {
    "duration": 3686,
    "start_time": "2021-07-12T13:17:43.941Z"
   },
   {
    "duration": 13496,
    "start_time": "2021-07-12T13:17:47.629Z"
   },
   {
    "duration": 835,
    "start_time": "2021-07-12T13:18:01.127Z"
   },
   {
    "duration": 267,
    "start_time": "2021-07-12T13:20:10.980Z"
   },
   {
    "duration": 4,
    "start_time": "2021-07-12T13:20:34.381Z"
   },
   {
    "duration": 257,
    "start_time": "2021-07-12T13:20:35.340Z"
   },
   {
    "duration": 4,
    "start_time": "2021-07-12T13:21:18.599Z"
   },
   {
    "duration": 254,
    "start_time": "2021-07-12T13:21:24.888Z"
   },
   {
    "duration": 265,
    "start_time": "2021-07-12T13:24:37.340Z"
   },
   {
    "duration": 83,
    "start_time": "2021-07-12T13:24:44.591Z"
   },
   {
    "duration": 318,
    "start_time": "2021-07-12T13:25:02.306Z"
   },
   {
    "duration": 318,
    "start_time": "2021-07-12T13:25:25.517Z"
   },
   {
    "duration": 96,
    "start_time": "2021-07-12T13:26:36.918Z"
   },
   {
    "duration": 42,
    "start_time": "2021-07-12T13:26:44.645Z"
   },
   {
    "duration": 14,
    "start_time": "2021-07-12T13:26:47.945Z"
   },
   {
    "duration": 41,
    "start_time": "2021-07-12T13:27:03.732Z"
   },
   {
    "duration": 11,
    "start_time": "2021-07-12T13:27:13.652Z"
   },
   {
    "duration": 2113,
    "start_time": "2021-07-12T13:32:39.844Z"
   },
   {
    "duration": 2179,
    "start_time": "2021-07-12T13:32:41.959Z"
   },
   {
    "duration": 2103,
    "start_time": "2021-07-12T13:32:44.141Z"
   },
   {
    "duration": 4,
    "start_time": "2021-07-12T13:32:46.246Z"
   },
   {
    "duration": 47,
    "start_time": "2021-07-12T13:32:46.252Z"
   },
   {
    "duration": 9,
    "start_time": "2021-07-12T13:32:46.301Z"
   },
   {
    "duration": 5,
    "start_time": "2021-07-12T13:32:46.311Z"
   },
   {
    "duration": 81,
    "start_time": "2021-07-12T13:32:46.318Z"
   },
   {
    "duration": 23,
    "start_time": "2021-07-12T13:32:46.401Z"
   },
   {
    "duration": 24,
    "start_time": "2021-07-12T13:32:46.426Z"
   },
   {
    "duration": 21,
    "start_time": "2021-07-12T13:32:46.452Z"
   },
   {
    "duration": 9,
    "start_time": "2021-07-12T13:32:46.475Z"
   },
   {
    "duration": 694,
    "start_time": "2021-07-12T13:32:46.486Z"
   },
   {
    "duration": 305,
    "start_time": "2021-07-12T13:32:47.182Z"
   },
   {
    "duration": -264,
    "start_time": "2021-07-12T13:32:47.753Z"
   },
   {
    "duration": -268,
    "start_time": "2021-07-12T13:32:47.758Z"
   },
   {
    "duration": -273,
    "start_time": "2021-07-12T13:32:47.764Z"
   },
   {
    "duration": -278,
    "start_time": "2021-07-12T13:32:47.770Z"
   },
   {
    "duration": -282,
    "start_time": "2021-07-12T13:32:47.775Z"
   },
   {
    "duration": -286,
    "start_time": "2021-07-12T13:32:47.780Z"
   },
   {
    "duration": -290,
    "start_time": "2021-07-12T13:32:47.785Z"
   },
   {
    "duration": -295,
    "start_time": "2021-07-12T13:32:47.790Z"
   },
   {
    "duration": -299,
    "start_time": "2021-07-12T13:32:47.795Z"
   },
   {
    "duration": -304,
    "start_time": "2021-07-12T13:32:47.801Z"
   },
   {
    "duration": -307,
    "start_time": "2021-07-12T13:32:47.805Z"
   },
   {
    "duration": -312,
    "start_time": "2021-07-12T13:32:47.811Z"
   },
   {
    "duration": -315,
    "start_time": "2021-07-12T13:32:47.815Z"
   },
   {
    "duration": -320,
    "start_time": "2021-07-12T13:32:47.820Z"
   },
   {
    "duration": -325,
    "start_time": "2021-07-12T13:32:47.826Z"
   },
   {
    "duration": -329,
    "start_time": "2021-07-12T13:32:47.831Z"
   },
   {
    "duration": -367,
    "start_time": "2021-07-12T13:32:47.870Z"
   },
   {
    "duration": -375,
    "start_time": "2021-07-12T13:32:47.879Z"
   },
   {
    "duration": -384,
    "start_time": "2021-07-12T13:32:47.888Z"
   },
   {
    "duration": -389,
    "start_time": "2021-07-12T13:32:47.894Z"
   },
   {
    "duration": -393,
    "start_time": "2021-07-12T13:32:47.899Z"
   },
   {
    "duration": -398,
    "start_time": "2021-07-12T13:32:47.905Z"
   },
   {
    "duration": -406,
    "start_time": "2021-07-12T13:32:47.914Z"
   },
   {
    "duration": -411,
    "start_time": "2021-07-12T13:32:47.919Z"
   },
   {
    "duration": -414,
    "start_time": "2021-07-12T13:32:47.923Z"
   },
   {
    "duration": -417,
    "start_time": "2021-07-12T13:32:47.927Z"
   },
   {
    "duration": -419,
    "start_time": "2021-07-12T13:32:47.930Z"
   },
   {
    "duration": -422,
    "start_time": "2021-07-12T13:32:47.934Z"
   },
   {
    "duration": -425,
    "start_time": "2021-07-12T13:32:47.938Z"
   },
   {
    "duration": -429,
    "start_time": "2021-07-12T13:32:47.942Z"
   },
   {
    "duration": -431,
    "start_time": "2021-07-12T13:32:47.945Z"
   },
   {
    "duration": -433,
    "start_time": "2021-07-12T13:32:47.948Z"
   },
   {
    "duration": -436,
    "start_time": "2021-07-12T13:32:47.952Z"
   },
   {
    "duration": -439,
    "start_time": "2021-07-12T13:32:47.956Z"
   },
   {
    "duration": -441,
    "start_time": "2021-07-12T13:32:47.958Z"
   },
   {
    "duration": -445,
    "start_time": "2021-07-12T13:32:47.963Z"
   },
   {
    "duration": -447,
    "start_time": "2021-07-12T13:32:47.966Z"
   },
   {
    "duration": -450,
    "start_time": "2021-07-12T13:32:47.970Z"
   },
   {
    "duration": -452,
    "start_time": "2021-07-12T13:32:47.973Z"
   },
   {
    "duration": -455,
    "start_time": "2021-07-12T13:32:47.976Z"
   },
   {
    "duration": -458,
    "start_time": "2021-07-12T13:32:47.980Z"
   },
   {
    "duration": -461,
    "start_time": "2021-07-12T13:32:47.984Z"
   },
   {
    "duration": -463,
    "start_time": "2021-07-12T13:32:47.987Z"
   },
   {
    "duration": -465,
    "start_time": "2021-07-12T13:32:47.990Z"
   },
   {
    "duration": -468,
    "start_time": "2021-07-12T13:32:47.993Z"
   },
   {
    "duration": -470,
    "start_time": "2021-07-12T13:32:47.996Z"
   },
   {
    "duration": -473,
    "start_time": "2021-07-12T13:32:48.000Z"
   },
   {
    "duration": -476,
    "start_time": "2021-07-12T13:32:48.004Z"
   },
   {
    "duration": -467,
    "start_time": "2021-07-12T13:32:48.007Z"
   },
   {
    "duration": -469,
    "start_time": "2021-07-12T13:32:48.010Z"
   },
   {
    "duration": -471,
    "start_time": "2021-07-12T13:32:48.013Z"
   },
   {
    "duration": -474,
    "start_time": "2021-07-12T13:32:48.017Z"
   },
   {
    "duration": -477,
    "start_time": "2021-07-12T13:32:48.021Z"
   },
   {
    "duration": -480,
    "start_time": "2021-07-12T13:32:48.025Z"
   },
   {
    "duration": -481,
    "start_time": "2021-07-12T13:32:48.027Z"
   },
   {
    "duration": -485,
    "start_time": "2021-07-12T13:32:48.031Z"
   },
   {
    "duration": -487,
    "start_time": "2021-07-12T13:32:48.034Z"
   },
   {
    "duration": 2211,
    "start_time": "2021-07-12T13:33:08.390Z"
   },
   {
    "duration": 250,
    "start_time": "2021-07-12T13:33:18.699Z"
   },
   {
    "duration": 2099,
    "start_time": "2021-07-12T13:33:38.468Z"
   },
   {
    "duration": 2053,
    "start_time": "2021-07-12T13:33:40.569Z"
   },
   {
    "duration": 1541,
    "start_time": "2021-07-12T13:34:24.133Z"
   },
   {
    "duration": 43,
    "start_time": "2021-07-12T13:34:25.676Z"
   },
   {
    "duration": 11,
    "start_time": "2021-07-12T13:34:25.721Z"
   },
   {
    "duration": 5,
    "start_time": "2021-07-12T13:34:25.734Z"
   },
   {
    "duration": 69,
    "start_time": "2021-07-12T13:34:25.741Z"
   },
   {
    "duration": 40,
    "start_time": "2021-07-12T13:34:25.812Z"
   },
   {
    "duration": 13,
    "start_time": "2021-07-12T13:34:25.853Z"
   },
   {
    "duration": 21,
    "start_time": "2021-07-12T13:34:25.868Z"
   },
   {
    "duration": 10,
    "start_time": "2021-07-12T13:34:25.891Z"
   },
   {
    "duration": 523,
    "start_time": "2021-07-12T13:34:25.902Z"
   },
   {
    "duration": 46,
    "start_time": "2021-07-12T13:34:26.426Z"
   },
   {
    "duration": 10,
    "start_time": "2021-07-12T13:34:33.519Z"
   },
   {
    "duration": 38,
    "start_time": "2021-07-12T13:34:34.319Z"
   },
   {
    "duration": 13,
    "start_time": "2021-07-12T13:34:36.849Z"
   },
   {
    "duration": 48,
    "start_time": "2021-07-12T13:34:37.028Z"
   },
   {
    "duration": 12,
    "start_time": "2021-07-12T13:34:39.852Z"
   },
   {
    "duration": 49,
    "start_time": "2021-07-12T13:34:40.117Z"
   },
   {
    "duration": 17,
    "start_time": "2021-07-12T13:34:43.077Z"
   },
   {
    "duration": 46,
    "start_time": "2021-07-12T13:34:43.226Z"
   },
   {
    "duration": 198,
    "start_time": "2021-07-12T13:48:50.253Z"
   },
   {
    "duration": 557,
    "start_time": "2021-07-12T13:50:29.343Z"
   },
   {
    "duration": 184,
    "start_time": "2021-07-12T13:50:47.487Z"
   },
   {
    "duration": 1098,
    "start_time": "2021-07-12T13:53:02.646Z"
   },
   {
    "duration": 8,
    "start_time": "2021-07-12T13:53:03.745Z"
   },
   {
    "duration": 4932,
    "start_time": "2021-07-12T13:59:02.524Z"
   },
   {
    "duration": 4869,
    "start_time": "2021-07-12T14:02:36.979Z"
   },
   {
    "duration": 259,
    "start_time": "2021-07-12T14:03:17.471Z"
   },
   {
    "duration": 4,
    "start_time": "2021-07-12T14:03:22.367Z"
   },
   {
    "duration": 7177,
    "start_time": "2021-07-12T14:04:06.642Z"
   },
   {
    "duration": 4529,
    "start_time": "2021-07-12T14:04:53.436Z"
   },
   {
    "duration": 511,
    "start_time": "2021-07-12T14:05:15.740Z"
   },
   {
    "duration": 423,
    "start_time": "2021-07-12T14:06:22.553Z"
   },
   {
    "duration": 4696,
    "start_time": "2021-07-12T14:06:28.227Z"
   },
   {
    "duration": 88,
    "start_time": "2021-07-12T14:06:33.851Z"
   },
   {
    "duration": 421,
    "start_time": "2021-07-12T14:06:36.165Z"
   },
   {
    "duration": 513,
    "start_time": "2021-07-12T14:09:23.776Z"
   },
   {
    "duration": 409,
    "start_time": "2021-07-12T14:09:34.869Z"
   },
   {
    "duration": 434,
    "start_time": "2021-07-12T14:09:39.984Z"
   },
   {
    "duration": 261,
    "start_time": "2021-07-12T14:10:34.270Z"
   },
   {
    "duration": 11,
    "start_time": "2021-07-12T14:10:49.927Z"
   },
   {
    "duration": 135,
    "start_time": "2021-07-12T14:11:05.589Z"
   },
   {
    "duration": 18,
    "start_time": "2021-07-12T14:11:06.712Z"
   },
   {
    "duration": 18,
    "start_time": "2021-07-12T14:11:07.253Z"
   },
   {
    "duration": 14,
    "start_time": "2021-07-12T14:11:07.547Z"
   },
   {
    "duration": 45,
    "start_time": "2021-07-12T14:11:07.697Z"
   },
   {
    "duration": 1001,
    "start_time": "2021-07-12T14:11:13.904Z"
   },
   {
    "duration": 9,
    "start_time": "2021-07-12T14:11:22.575Z"
   },
   {
    "duration": 10,
    "start_time": "2021-07-12T14:11:23.300Z"
   },
   {
    "duration": 11,
    "start_time": "2021-07-12T14:11:26.150Z"
   },
   {
    "duration": 16,
    "start_time": "2021-07-12T14:11:28.678Z"
   },
   {
    "duration": 852,
    "start_time": "2021-07-12T14:11:35.313Z"
   },
   {
    "duration": 9,
    "start_time": "2021-07-12T14:11:36.167Z"
   },
   {
    "duration": 12,
    "start_time": "2021-07-12T14:11:36.798Z"
   },
   {
    "duration": 6,
    "start_time": "2021-07-12T14:11:37.075Z"
   },
   {
    "duration": 10,
    "start_time": "2021-07-12T14:11:37.221Z"
   },
   {
    "duration": 14,
    "start_time": "2021-07-12T14:11:37.351Z"
   },
   {
    "duration": 457,
    "start_time": "2021-07-12T14:11:37.632Z"
   },
   {
    "duration": 461,
    "start_time": "2021-07-12T14:11:38.906Z"
   },
   {
    "duration": 7,
    "start_time": "2021-07-12T14:11:39.369Z"
   },
   {
    "duration": 27,
    "start_time": "2021-07-12T14:11:39.377Z"
   },
   {
    "duration": 20,
    "start_time": "2021-07-12T14:11:39.573Z"
   },
   {
    "duration": 7,
    "start_time": "2021-07-12T14:11:39.864Z"
   },
   {
    "duration": 14,
    "start_time": "2021-07-12T14:11:39.992Z"
   },
   {
    "duration": 17,
    "start_time": "2021-07-12T14:11:40.133Z"
   },
   {
    "duration": 4,
    "start_time": "2021-07-12T14:11:40.397Z"
   },
   {
    "duration": 9,
    "start_time": "2021-07-12T14:11:42.868Z"
   },
   {
    "duration": 4,
    "start_time": "2021-07-12T14:11:42.987Z"
   },
   {
    "duration": 6,
    "start_time": "2021-07-12T14:11:43.264Z"
   },
   {
    "duration": 5,
    "start_time": "2021-07-12T14:11:45.005Z"
   },
   {
    "duration": 4,
    "start_time": "2021-07-12T14:11:45.129Z"
   },
   {
    "duration": 13,
    "start_time": "2021-07-12T14:11:46.480Z"
   },
   {
    "duration": 13,
    "start_time": "2021-07-12T14:11:46.596Z"
   },
   {
    "duration": 16,
    "start_time": "2021-07-12T14:11:47.007Z"
   },
   {
    "duration": 52,
    "start_time": "2021-07-12T14:11:50.257Z"
   },
   {
    "duration": 4,
    "start_time": "2021-07-12T14:11:52.469Z"
   },
   {
    "duration": 10,
    "start_time": "2021-07-12T14:11:52.591Z"
   },
   {
    "duration": 14,
    "start_time": "2021-07-12T14:12:21.069Z"
   },
   {
    "duration": 11,
    "start_time": "2021-07-12T14:13:47.204Z"
   },
   {
    "duration": 17,
    "start_time": "2021-07-12T14:13:56.617Z"
   },
   {
    "duration": 15,
    "start_time": "2021-07-12T14:14:06.664Z"
   },
   {
    "duration": 15,
    "start_time": "2021-07-12T14:14:35.085Z"
   },
   {
    "duration": 12,
    "start_time": "2021-07-12T14:14:58.298Z"
   },
   {
    "duration": 16,
    "start_time": "2021-07-12T14:15:25.460Z"
   },
   {
    "duration": 7,
    "start_time": "2021-07-12T14:17:29.823Z"
   },
   {
    "duration": 6,
    "start_time": "2021-07-12T14:18:16.663Z"
   },
   {
    "duration": 271,
    "start_time": "2021-07-12T14:18:34.428Z"
   },
   {
    "duration": 249,
    "start_time": "2021-07-12T14:18:44.708Z"
   },
   {
    "duration": 253,
    "start_time": "2021-07-12T14:18:45.927Z"
   },
   {
    "duration": 12,
    "start_time": "2021-07-12T14:18:56.752Z"
   },
   {
    "duration": 16,
    "start_time": "2021-07-12T14:20:06.377Z"
   },
   {
    "duration": 13,
    "start_time": "2021-07-12T14:20:30.424Z"
   },
   {
    "duration": 3,
    "start_time": "2021-07-12T14:24:13.862Z"
   },
   {
    "duration": 249,
    "start_time": "2021-07-12T14:24:53.337Z"
   },
   {
    "duration": 1811,
    "start_time": "2021-07-12T14:25:04.280Z"
   },
   {
    "duration": 2087,
    "start_time": "2021-07-12T14:25:10.454Z"
   },
   {
    "duration": 2101,
    "start_time": "2021-07-12T14:25:43.544Z"
   },
   {
    "duration": 255,
    "start_time": "2021-07-12T14:25:58.218Z"
   },
   {
    "duration": 269,
    "start_time": "2021-07-12T14:26:10.348Z"
   },
   {
    "duration": 263,
    "start_time": "2021-07-12T14:26:12.687Z"
   },
   {
    "duration": 56,
    "start_time": "2021-07-12T14:26:48.111Z"
   },
   {
    "duration": 2504,
    "start_time": "2021-07-12T14:27:36.354Z"
   },
   {
    "duration": 2,
    "start_time": "2021-07-12T14:30:16.548Z"
   },
   {
    "duration": 502,
    "start_time": "2021-07-12T14:31:15.217Z"
   },
   {
    "duration": 3,
    "start_time": "2021-07-12T14:31:28.904Z"
   },
   {
    "duration": 353,
    "start_time": "2021-07-12T14:31:29.344Z"
   },
   {
    "duration": 360,
    "start_time": "2021-07-12T14:31:46.962Z"
   },
   {
    "duration": 3,
    "start_time": "2021-07-12T14:33:28.231Z"
   },
   {
    "duration": 333,
    "start_time": "2021-07-12T14:33:29.580Z"
   },
   {
    "duration": 465,
    "start_time": "2021-07-12T14:34:49.490Z"
   },
   {
    "duration": 4,
    "start_time": "2021-07-12T14:34:58.956Z"
   },
   {
    "duration": 4,
    "start_time": "2021-07-12T14:35:07.530Z"
   },
   {
    "duration": 535,
    "start_time": "2021-07-12T14:35:13.242Z"
   },
   {
    "duration": 475,
    "start_time": "2021-07-12T14:36:06.689Z"
   },
   {
    "duration": 541,
    "start_time": "2021-07-12T14:36:53.988Z"
   },
   {
    "duration": 3,
    "start_time": "2021-07-12T14:40:07.924Z"
   },
   {
    "duration": 417,
    "start_time": "2021-07-12T14:40:31.953Z"
   },
   {
    "duration": 367,
    "start_time": "2021-07-12T14:40:38.777Z"
   },
   {
    "duration": 2231,
    "start_time": "2021-07-12T14:41:56.501Z"
   },
   {
    "duration": 12,
    "start_time": "2021-07-12T14:42:06.498Z"
   },
   {
    "duration": 3,
    "start_time": "2021-07-12T14:42:21.424Z"
   },
   {
    "duration": 9,
    "start_time": "2021-07-12T14:42:26.357Z"
   },
   {
    "duration": 4,
    "start_time": "2021-07-12T14:42:40.357Z"
   },
   {
    "duration": 8,
    "start_time": "2021-07-12T14:43:07.695Z"
   },
   {
    "duration": 8,
    "start_time": "2021-07-12T14:43:11.318Z"
   },
   {
    "duration": 90,
    "start_time": "2021-07-12T14:43:16.502Z"
   },
   {
    "duration": 8,
    "start_time": "2021-07-12T14:43:18.065Z"
   },
   {
    "duration": 327,
    "start_time": "2021-07-12T14:52:43.947Z"
   },
   {
    "duration": 7,
    "start_time": "2021-07-12T14:52:53.882Z"
   },
   {
    "duration": 7,
    "start_time": "2021-07-12T14:53:00.644Z"
   },
   {
    "duration": 3,
    "start_time": "2021-07-12T14:55:52.818Z"
   },
   {
    "duration": 5,
    "start_time": "2021-07-12T14:56:37.372Z"
   },
   {
    "duration": 4,
    "start_time": "2021-07-12T14:59:59.952Z"
   },
   {
    "duration": 4,
    "start_time": "2021-07-12T15:00:33.030Z"
   },
   {
    "duration": 327,
    "start_time": "2021-07-12T15:01:20.594Z"
   },
   {
    "duration": 11,
    "start_time": "2021-07-12T15:01:26.066Z"
   },
   {
    "duration": 6,
    "start_time": "2021-07-12T15:01:31.801Z"
   },
   {
    "duration": 8,
    "start_time": "2021-07-12T15:01:43.780Z"
   },
   {
    "duration": 880,
    "start_time": "2021-07-12T15:01:45.575Z"
   },
   {
    "duration": 7,
    "start_time": "2021-07-12T15:01:50.140Z"
   },
   {
    "duration": 956,
    "start_time": "2021-07-12T15:02:08.265Z"
   },
   {
    "duration": 7,
    "start_time": "2021-07-12T15:02:10.241Z"
   },
   {
    "duration": 8,
    "start_time": "2021-07-12T15:02:45.146Z"
   },
   {
    "duration": 9,
    "start_time": "2021-07-12T15:02:54.789Z"
   },
   {
    "duration": 5,
    "start_time": "2021-07-12T15:02:57.755Z"
   },
   {
    "duration": 9,
    "start_time": "2021-07-12T15:02:59.028Z"
   },
   {
    "duration": 646,
    "start_time": "2021-07-12T15:03:28.098Z"
   },
   {
    "duration": 7,
    "start_time": "2021-07-12T15:03:32.558Z"
   },
   {
    "duration": 6,
    "start_time": "2021-07-12T15:04:14.229Z"
   },
   {
    "duration": 7,
    "start_time": "2021-07-12T15:04:14.418Z"
   },
   {
    "duration": 1467,
    "start_time": "2021-07-12T15:04:20.866Z"
   },
   {
    "duration": 7,
    "start_time": "2021-07-12T15:04:23.435Z"
   },
   {
    "duration": 186257,
    "start_time": "2021-07-12T15:05:26.950Z"
   },
   {
    "duration": 11,
    "start_time": "2021-07-12T15:08:36.573Z"
   },
   {
    "duration": 16,
    "start_time": "2021-07-12T15:09:58.618Z"
   },
   {
    "duration": 12,
    "start_time": "2021-07-12T15:11:09.852Z"
   },
   {
    "duration": 272,
    "start_time": "2021-07-12T15:11:40.676Z"
   },
   {
    "duration": 857,
    "start_time": "2021-07-12T15:13:56.980Z"
   },
   {
    "duration": 9,
    "start_time": "2021-07-12T15:14:02.883Z"
   },
   {
    "duration": 10,
    "start_time": "2021-07-12T15:16:33.594Z"
   },
   {
    "duration": 16,
    "start_time": "2021-07-12T15:16:51.863Z"
   },
   {
    "duration": 700,
    "start_time": "2021-07-12T15:17:32.109Z"
   },
   {
    "duration": 10,
    "start_time": "2021-07-12T15:17:33.364Z"
   },
   {
    "duration": 266,
    "start_time": "2021-07-12T15:17:40.125Z"
   },
   {
    "duration": 19,
    "start_time": "2021-07-12T15:17:57.070Z"
   },
   {
    "duration": 784,
    "start_time": "2021-07-12T15:18:06.982Z"
   },
   {
    "duration": 10,
    "start_time": "2021-07-12T15:18:07.768Z"
   },
   {
    "duration": 15,
    "start_time": "2021-07-12T15:18:16.170Z"
   },
   {
    "duration": 6,
    "start_time": "2021-07-12T15:18:37.740Z"
   },
   {
    "duration": 11,
    "start_time": "2021-07-12T15:18:56.686Z"
   },
   {
    "duration": 981,
    "start_time": "2021-07-12T15:19:48.032Z"
   },
   {
    "duration": 9,
    "start_time": "2021-07-12T15:19:49.014Z"
   },
   {
    "duration": 17,
    "start_time": "2021-07-12T15:19:53.148Z"
   },
   {
    "duration": 12,
    "start_time": "2021-07-12T15:20:28.041Z"
   },
   {
    "duration": 819,
    "start_time": "2021-07-12T15:20:30.852Z"
   },
   {
    "duration": 10,
    "start_time": "2021-07-12T15:20:31.673Z"
   },
   {
    "duration": 19,
    "start_time": "2021-07-12T15:20:33.772Z"
   },
   {
    "duration": 10,
    "start_time": "2021-07-12T15:21:11.688Z"
   },
   {
    "duration": 12,
    "start_time": "2021-07-12T15:21:16.484Z"
   },
   {
    "duration": 4,
    "start_time": "2021-07-12T15:22:04.338Z"
   },
   {
    "duration": 11,
    "start_time": "2021-07-12T15:22:04.914Z"
   },
   {
    "duration": 6,
    "start_time": "2021-07-12T15:22:57.656Z"
   },
   {
    "duration": 10,
    "start_time": "2021-07-12T15:22:58.272Z"
   },
   {
    "duration": 6,
    "start_time": "2021-07-12T15:23:05.434Z"
   },
   {
    "duration": 11,
    "start_time": "2021-07-12T15:23:08.172Z"
   },
   {
    "duration": 22,
    "start_time": "2021-07-12T15:24:11.938Z"
   },
   {
    "duration": 13,
    "start_time": "2021-07-12T15:46:10.351Z"
   },
   {
    "duration": 32,
    "start_time": "2021-07-12T15:48:48.610Z"
   },
   {
    "duration": 28,
    "start_time": "2021-07-12T15:49:00.014Z"
   },
   {
    "duration": 29,
    "start_time": "2021-07-12T15:49:07.968Z"
   },
   {
    "duration": 31,
    "start_time": "2021-07-12T15:49:31.422Z"
   },
   {
    "duration": 37,
    "start_time": "2021-07-12T15:49:54.687Z"
   },
   {
    "duration": 35,
    "start_time": "2021-07-12T15:50:02.075Z"
   },
   {
    "duration": 30,
    "start_time": "2021-07-12T15:50:45.956Z"
   },
   {
    "duration": 32,
    "start_time": "2021-07-12T15:51:31.395Z"
   },
   {
    "duration": 28,
    "start_time": "2021-07-12T15:52:07.930Z"
   },
   {
    "duration": 15,
    "start_time": "2021-07-12T15:56:05.020Z"
   },
   {
    "duration": 21,
    "start_time": "2021-07-12T15:56:23.257Z"
   },
   {
    "duration": 21,
    "start_time": "2021-07-12T15:56:30.188Z"
   },
   {
    "duration": 279,
    "start_time": "2021-07-12T15:56:36.745Z"
   },
   {
    "duration": 20,
    "start_time": "2021-07-12T15:56:39.679Z"
   },
   {
    "duration": 21,
    "start_time": "2021-07-12T15:56:46.237Z"
   },
   {
    "duration": 22,
    "start_time": "2021-07-12T15:56:47.010Z"
   },
   {
    "duration": 17,
    "start_time": "2021-07-12T15:58:46.159Z"
   },
   {
    "duration": 23,
    "start_time": "2021-07-12T16:03:47.783Z"
   },
   {
    "duration": 30,
    "start_time": "2021-07-12T16:04:49.894Z"
   },
   {
    "duration": 260,
    "start_time": "2021-07-12T16:05:32.609Z"
   },
   {
    "duration": 9,
    "start_time": "2021-07-12T16:05:34.327Z"
   },
   {
    "duration": 4,
    "start_time": "2021-07-12T16:06:15.031Z"
   },
   {
    "duration": 17,
    "start_time": "2021-07-12T16:06:45.945Z"
   },
   {
    "duration": 10,
    "start_time": "2021-07-12T16:07:07.510Z"
   },
   {
    "duration": 13,
    "start_time": "2021-07-12T16:07:23.020Z"
   },
   {
    "duration": 22,
    "start_time": "2021-07-12T16:08:46.773Z"
   },
   {
    "duration": 4,
    "start_time": "2021-07-12T16:09:34.604Z"
   },
   {
    "duration": 3,
    "start_time": "2021-07-12T16:12:04.360Z"
   },
   {
    "duration": 15,
    "start_time": "2021-07-12T16:13:01.817Z"
   },
   {
    "duration": 4,
    "start_time": "2021-07-12T16:13:10.299Z"
   },
   {
    "duration": 3,
    "start_time": "2021-07-12T16:14:11.616Z"
   },
   {
    "duration": 829,
    "start_time": "2021-07-12T16:14:16.298Z"
   },
   {
    "duration": 9,
    "start_time": "2021-07-12T16:14:20.761Z"
   },
   {
    "duration": 95640,
    "start_time": "2021-07-12T16:14:32.808Z"
   },
   {
    "duration": 12,
    "start_time": "2021-07-12T16:16:32.585Z"
   },
   {
    "duration": 16,
    "start_time": "2021-07-12T16:17:22.116Z"
   },
   {
    "duration": 291,
    "start_time": "2021-07-12T16:18:24.175Z"
   },
   {
    "duration": 25083,
    "start_time": "2021-07-13T08:22:57.456Z"
   },
   {
    "duration": 8544,
    "start_time": "2021-07-13T08:23:22.542Z"
   },
   {
    "duration": 4654,
    "start_time": "2021-07-13T08:23:31.089Z"
   },
   {
    "duration": 2071,
    "start_time": "2021-07-13T08:23:35.746Z"
   },
   {
    "duration": 58,
    "start_time": "2021-07-13T08:23:37.819Z"
   },
   {
    "duration": 17,
    "start_time": "2021-07-13T08:23:37.879Z"
   },
   {
    "duration": 7,
    "start_time": "2021-07-13T08:23:37.898Z"
   },
   {
    "duration": 117,
    "start_time": "2021-07-13T08:23:37.909Z"
   },
   {
    "duration": 51,
    "start_time": "2021-07-13T08:23:38.029Z"
   },
   {
    "duration": 19,
    "start_time": "2021-07-13T08:23:38.082Z"
   },
   {
    "duration": 58,
    "start_time": "2021-07-13T08:23:38.104Z"
   },
   {
    "duration": 15,
    "start_time": "2021-07-13T08:23:38.164Z"
   },
   {
    "duration": 647,
    "start_time": "2021-07-13T08:23:38.181Z"
   },
   {
    "duration": 141,
    "start_time": "2021-07-13T08:23:38.831Z"
   },
   {
    "duration": 14,
    "start_time": "2021-07-13T08:23:38.975Z"
   },
   {
    "duration": 110,
    "start_time": "2021-07-13T08:23:38.992Z"
   },
   {
    "duration": 19,
    "start_time": "2021-07-13T08:23:39.156Z"
   },
   {
    "duration": 105,
    "start_time": "2021-07-13T08:23:39.177Z"
   },
   {
    "duration": 20,
    "start_time": "2021-07-13T08:23:39.284Z"
   },
   {
    "duration": 103,
    "start_time": "2021-07-13T08:23:39.306Z"
   },
   {
    "duration": 25,
    "start_time": "2021-07-13T08:23:39.411Z"
   },
   {
    "duration": 80,
    "start_time": "2021-07-13T08:23:51.762Z"
   },
   {
    "duration": 71,
    "start_time": "2021-07-13T08:31:24.446Z"
   },
   {
    "duration": 77,
    "start_time": "2021-07-13T08:31:28.418Z"
   },
   {
    "duration": 481,
    "start_time": "2021-07-13T08:32:42.011Z"
   },
   {
    "duration": 97,
    "start_time": "2021-07-13T08:34:18.908Z"
   },
   {
    "duration": 28,
    "start_time": "2021-07-13T08:36:18.307Z"
   },
   {
    "duration": 79,
    "start_time": "2021-07-13T08:37:21.107Z"
   },
   {
    "duration": 325,
    "start_time": "2021-07-13T08:37:42.211Z"
   },
   {
    "duration": 85,
    "start_time": "2021-07-13T08:37:46.450Z"
   },
   {
    "duration": 82,
    "start_time": "2021-07-13T08:40:44.460Z"
   },
   {
    "duration": 86,
    "start_time": "2021-07-13T08:42:00.988Z"
   },
   {
    "duration": 87,
    "start_time": "2021-07-13T08:42:04.485Z"
   },
   {
    "duration": 91,
    "start_time": "2021-07-13T08:42:10.935Z"
   },
   {
    "duration": 91,
    "start_time": "2021-07-13T08:42:20.416Z"
   },
   {
    "duration": 90,
    "start_time": "2021-07-13T08:46:01.347Z"
   },
   {
    "duration": 364,
    "start_time": "2021-07-13T08:46:10.567Z"
   },
   {
    "duration": 348,
    "start_time": "2021-07-13T08:46:46.079Z"
   },
   {
    "duration": 94,
    "start_time": "2021-07-13T08:47:01.000Z"
   },
   {
    "duration": 35,
    "start_time": "2021-07-13T08:51:08.963Z"
   },
   {
    "duration": 19,
    "start_time": "2021-07-13T08:52:37.487Z"
   },
   {
    "duration": 20,
    "start_time": "2021-07-13T08:52:53.780Z"
   },
   {
    "duration": 99,
    "start_time": "2021-07-13T08:53:05.364Z"
   },
   {
    "duration": 22,
    "start_time": "2021-07-13T08:53:28.030Z"
   },
   {
    "duration": 22,
    "start_time": "2021-07-13T08:53:46.914Z"
   },
   {
    "duration": 156,
    "start_time": "2021-07-13T08:54:03.282Z"
   },
   {
    "duration": 22,
    "start_time": "2021-07-13T08:54:31.768Z"
   },
   {
    "duration": 95,
    "start_time": "2021-07-13T08:54:36.467Z"
   },
   {
    "duration": 12,
    "start_time": "2021-07-13T08:55:57.551Z"
   },
   {
    "duration": 21,
    "start_time": "2021-07-13T08:56:28.451Z"
   },
   {
    "duration": 275,
    "start_time": "2021-07-13T08:56:34.540Z"
   },
   {
    "duration": 93,
    "start_time": "2021-07-13T08:56:43.277Z"
   },
   {
    "duration": 7,
    "start_time": "2021-07-13T08:58:09.217Z"
   },
   {
    "duration": 6,
    "start_time": "2021-07-13T08:58:17.914Z"
   },
   {
    "duration": 7,
    "start_time": "2021-07-13T08:58:27.510Z"
   },
   {
    "duration": 6,
    "start_time": "2021-07-13T08:58:32.820Z"
   },
   {
    "duration": 94,
    "start_time": "2021-07-13T08:58:39.666Z"
   },
   {
    "duration": 6529,
    "start_time": "2021-07-13T09:16:04.482Z"
   },
   {
    "duration": 108,
    "start_time": "2021-07-13T09:16:36.808Z"
   },
   {
    "duration": 111,
    "start_time": "2021-07-13T09:17:37.366Z"
   },
   {
    "duration": 93,
    "start_time": "2021-07-13T09:17:44.721Z"
   },
   {
    "duration": 99,
    "start_time": "2021-07-13T09:20:06.290Z"
   },
   {
    "duration": 93,
    "start_time": "2021-07-13T09:20:21.103Z"
   },
   {
    "duration": 6,
    "start_time": "2021-07-13T09:21:42.662Z"
   },
   {
    "duration": 98,
    "start_time": "2021-07-13T09:22:19.926Z"
   },
   {
    "duration": 179,
    "start_time": "2021-07-13T09:23:14.412Z"
   },
   {
    "duration": 97,
    "start_time": "2021-07-13T09:26:19.072Z"
   },
   {
    "duration": 7,
    "start_time": "2021-07-13T09:27:30.033Z"
   },
   {
    "duration": 96,
    "start_time": "2021-07-13T09:27:59.331Z"
   },
   {
    "duration": 98,
    "start_time": "2021-07-13T09:29:08.178Z"
   },
   {
    "duration": 143,
    "start_time": "2021-07-13T09:32:22.803Z"
   },
   {
    "duration": 20629,
    "start_time": "2021-07-13T09:50:34.722Z"
   },
   {
    "duration": 9372,
    "start_time": "2021-07-13T09:50:55.353Z"
   },
   {
    "duration": 6689,
    "start_time": "2021-07-13T09:51:04.728Z"
   },
   {
    "duration": 2817,
    "start_time": "2021-07-13T09:51:11.420Z"
   },
   {
    "duration": 75,
    "start_time": "2021-07-13T09:51:14.240Z"
   },
   {
    "duration": 429,
    "start_time": "2021-07-13T09:51:14.318Z"
   },
   {
    "duration": 15,
    "start_time": "2021-07-13T09:51:14.751Z"
   },
   {
    "duration": 166,
    "start_time": "2021-07-13T09:51:14.772Z"
   },
   {
    "duration": 65,
    "start_time": "2021-07-13T09:51:14.943Z"
   },
   {
    "duration": 28,
    "start_time": "2021-07-13T09:51:15.011Z"
   },
   {
    "duration": 66,
    "start_time": "2021-07-13T09:51:15.042Z"
   },
   {
    "duration": 21,
    "start_time": "2021-07-13T09:51:15.112Z"
   },
   {
    "duration": 682,
    "start_time": "2021-07-13T09:51:15.163Z"
   },
   {
    "duration": 122,
    "start_time": "2021-07-13T09:51:15.847Z"
   },
   {
    "duration": 15,
    "start_time": "2021-07-13T09:51:15.971Z"
   },
   {
    "duration": 128,
    "start_time": "2021-07-13T09:51:15.988Z"
   },
   {
    "duration": 33,
    "start_time": "2021-07-13T09:51:16.118Z"
   },
   {
    "duration": 82,
    "start_time": "2021-07-13T09:51:16.154Z"
   },
   {
    "duration": 35,
    "start_time": "2021-07-13T09:51:16.238Z"
   },
   {
    "duration": 100,
    "start_time": "2021-07-13T09:51:16.275Z"
   },
   {
    "duration": 25,
    "start_time": "2021-07-13T09:51:16.378Z"
   },
   {
    "duration": 32,
    "start_time": "2021-07-13T09:51:16.405Z"
   },
   {
    "duration": 130,
    "start_time": "2021-07-13T09:51:16.443Z"
   },
   {
    "duration": 352,
    "start_time": "2021-07-13T09:51:16.577Z"
   },
   {
    "duration": 305,
    "start_time": "2021-07-13T09:51:16.931Z"
   },
   {
    "duration": 40,
    "start_time": "2021-07-13T09:51:17.238Z"
   },
   {
    "duration": 31,
    "start_time": "2021-07-13T09:51:17.281Z"
   },
   {
    "duration": 20,
    "start_time": "2021-07-13T09:51:17.314Z"
   },
   {
    "duration": 193,
    "start_time": "2021-07-13T09:51:17.336Z"
   },
   {
    "duration": 605,
    "start_time": "2021-07-13T09:51:17.532Z"
   },
   {
    "duration": 21930,
    "start_time": "2021-07-13T09:50:56.211Z"
   },
   {
    "duration": 21927,
    "start_time": "2021-07-13T09:50:56.215Z"
   },
   {
    "duration": 21924,
    "start_time": "2021-07-13T09:50:56.220Z"
   },
   {
    "duration": 21921,
    "start_time": "2021-07-13T09:50:56.224Z"
   },
   {
    "duration": 21918,
    "start_time": "2021-07-13T09:50:56.229Z"
   },
   {
    "duration": 21916,
    "start_time": "2021-07-13T09:50:56.233Z"
   },
   {
    "duration": 21912,
    "start_time": "2021-07-13T09:50:56.238Z"
   },
   {
    "duration": 21910,
    "start_time": "2021-07-13T09:50:56.241Z"
   },
   {
    "duration": 21907,
    "start_time": "2021-07-13T09:50:56.246Z"
   },
   {
    "duration": 21906,
    "start_time": "2021-07-13T09:50:56.249Z"
   },
   {
    "duration": 21902,
    "start_time": "2021-07-13T09:50:56.254Z"
   },
   {
    "duration": 21898,
    "start_time": "2021-07-13T09:50:56.259Z"
   },
   {
    "duration": 21889,
    "start_time": "2021-07-13T09:50:56.269Z"
   },
   {
    "duration": 21886,
    "start_time": "2021-07-13T09:50:56.274Z"
   },
   {
    "duration": 21884,
    "start_time": "2021-07-13T09:50:56.277Z"
   },
   {
    "duration": 21881,
    "start_time": "2021-07-13T09:50:56.281Z"
   },
   {
    "duration": 21879,
    "start_time": "2021-07-13T09:50:56.285Z"
   },
   {
    "duration": 21876,
    "start_time": "2021-07-13T09:50:56.289Z"
   },
   {
    "duration": 21874,
    "start_time": "2021-07-13T09:50:56.293Z"
   },
   {
    "duration": 21870,
    "start_time": "2021-07-13T09:50:56.298Z"
   },
   {
    "duration": 21860,
    "start_time": "2021-07-13T09:50:56.310Z"
   },
   {
    "duration": 21857,
    "start_time": "2021-07-13T09:50:56.314Z"
   },
   {
    "duration": 21853,
    "start_time": "2021-07-13T09:50:56.319Z"
   },
   {
    "duration": 21850,
    "start_time": "2021-07-13T09:50:56.324Z"
   },
   {
    "duration": 21847,
    "start_time": "2021-07-13T09:50:56.328Z"
   },
   {
    "duration": 21841,
    "start_time": "2021-07-13T09:50:56.335Z"
   },
   {
    "duration": 21836,
    "start_time": "2021-07-13T09:50:56.341Z"
   },
   {
    "duration": 21832,
    "start_time": "2021-07-13T09:50:56.347Z"
   },
   {
    "duration": 21828,
    "start_time": "2021-07-13T09:50:56.352Z"
   },
   {
    "duration": 21824,
    "start_time": "2021-07-13T09:50:56.357Z"
   },
   {
    "duration": 21821,
    "start_time": "2021-07-13T09:50:56.362Z"
   },
   {
    "duration": 21812,
    "start_time": "2021-07-13T09:50:56.372Z"
   },
   {
    "duration": 21809,
    "start_time": "2021-07-13T09:50:56.377Z"
   },
   {
    "duration": 21807,
    "start_time": "2021-07-13T09:50:56.380Z"
   },
   {
    "duration": 21805,
    "start_time": "2021-07-13T09:50:56.383Z"
   },
   {
    "duration": 21805,
    "start_time": "2021-07-13T09:50:56.385Z"
   },
   {
    "duration": 21802,
    "start_time": "2021-07-13T09:50:56.389Z"
   },
   {
    "duration": 21801,
    "start_time": "2021-07-13T09:50:56.392Z"
   },
   {
    "duration": 21799,
    "start_time": "2021-07-13T09:50:56.395Z"
   },
   {
    "duration": 21797,
    "start_time": "2021-07-13T09:50:56.398Z"
   },
   {
    "duration": 21796,
    "start_time": "2021-07-13T09:50:56.401Z"
   },
   {
    "duration": 21793,
    "start_time": "2021-07-13T09:50:56.405Z"
   },
   {
    "duration": 21783,
    "start_time": "2021-07-13T09:50:56.416Z"
   },
   {
    "duration": 21781,
    "start_time": "2021-07-13T09:50:56.420Z"
   },
   {
    "duration": 21836,
    "start_time": "2021-07-13T09:50:56.426Z"
   },
   {
    "duration": 21834,
    "start_time": "2021-07-13T09:50:56.429Z"
   },
   {
    "duration": 21833,
    "start_time": "2021-07-13T09:50:56.432Z"
   },
   {
    "duration": 21829,
    "start_time": "2021-07-13T09:50:56.437Z"
   },
   {
    "duration": 21827,
    "start_time": "2021-07-13T09:50:56.441Z"
   },
   {
    "duration": 21819,
    "start_time": "2021-07-13T09:50:56.450Z"
   },
   {
    "duration": 21816,
    "start_time": "2021-07-13T09:50:56.454Z"
   },
   {
    "duration": 21815,
    "start_time": "2021-07-13T09:50:56.457Z"
   },
   {
    "duration": 21812,
    "start_time": "2021-07-13T09:50:56.461Z"
   },
   {
    "duration": 21811,
    "start_time": "2021-07-13T09:50:56.463Z"
   },
   {
    "duration": 21808,
    "start_time": "2021-07-13T09:50:56.467Z"
   },
   {
    "duration": 21808,
    "start_time": "2021-07-13T09:50:56.469Z"
   },
   {
    "duration": 21803,
    "start_time": "2021-07-13T09:50:56.475Z"
   },
   {
    "duration": 21799,
    "start_time": "2021-07-13T09:50:56.480Z"
   },
   {
    "duration": 21797,
    "start_time": "2021-07-13T09:50:56.483Z"
   },
   {
    "duration": 21795,
    "start_time": "2021-07-13T09:50:56.487Z"
   },
   {
    "duration": 21793,
    "start_time": "2021-07-13T09:50:56.490Z"
   },
   {
    "duration": 21791,
    "start_time": "2021-07-13T09:50:56.493Z"
   },
   {
    "duration": 21790,
    "start_time": "2021-07-13T09:50:56.496Z"
   },
   {
    "duration": 104,
    "start_time": "2021-07-13T09:51:36.032Z"
   },
   {
    "duration": 928,
    "start_time": "2021-07-13T09:52:25.518Z"
   },
   {
    "duration": 13,
    "start_time": "2021-07-13T09:52:26.448Z"
   },
   {
    "duration": 29,
    "start_time": "2021-07-13T09:52:26.466Z"
   },
   {
    "duration": 19,
    "start_time": "2021-07-13T09:52:26.499Z"
   },
   {
    "duration": 15,
    "start_time": "2021-07-13T09:52:26.521Z"
   },
   {
    "duration": 31,
    "start_time": "2021-07-13T09:52:26.562Z"
   },
   {
    "duration": 6,
    "start_time": "2021-07-13T09:52:26.595Z"
   },
   {
    "duration": 738,
    "start_time": "2021-07-13T09:52:26.605Z"
   },
   {
    "duration": 26951,
    "start_time": "2021-07-13T09:52:00.396Z"
   },
   {
    "duration": 26948,
    "start_time": "2021-07-13T09:52:00.401Z"
   },
   {
    "duration": 26945,
    "start_time": "2021-07-13T09:52:00.405Z"
   },
   {
    "duration": 26935,
    "start_time": "2021-07-13T09:52:00.416Z"
   },
   {
    "duration": 26931,
    "start_time": "2021-07-13T09:52:00.422Z"
   },
   {
    "duration": 26928,
    "start_time": "2021-07-13T09:52:00.426Z"
   },
   {
    "duration": 26914,
    "start_time": "2021-07-13T09:52:00.441Z"
   },
   {
    "duration": 26909,
    "start_time": "2021-07-13T09:52:00.447Z"
   },
   {
    "duration": 26898,
    "start_time": "2021-07-13T09:52:00.460Z"
   },
   {
    "duration": 26894,
    "start_time": "2021-07-13T09:52:00.465Z"
   },
   {
    "duration": 26875,
    "start_time": "2021-07-13T09:52:00.485Z"
   },
   {
    "duration": 26866,
    "start_time": "2021-07-13T09:52:00.496Z"
   },
   {
    "duration": 26864,
    "start_time": "2021-07-13T09:52:00.499Z"
   },
   {
    "duration": 26854,
    "start_time": "2021-07-13T09:52:00.510Z"
   },
   {
    "duration": 26849,
    "start_time": "2021-07-13T09:52:00.516Z"
   },
   {
    "duration": 26841,
    "start_time": "2021-07-13T09:52:00.526Z"
   },
   {
    "duration": 26838,
    "start_time": "2021-07-13T09:52:00.530Z"
   },
   {
    "duration": 26835,
    "start_time": "2021-07-13T09:52:00.534Z"
   },
   {
    "duration": 26825,
    "start_time": "2021-07-13T09:52:00.545Z"
   },
   {
    "duration": 26823,
    "start_time": "2021-07-13T09:52:00.548Z"
   },
   {
    "duration": 26820,
    "start_time": "2021-07-13T09:52:00.553Z"
   },
   {
    "duration": 26810,
    "start_time": "2021-07-13T09:52:00.564Z"
   },
   {
    "duration": 26807,
    "start_time": "2021-07-13T09:52:00.570Z"
   },
   {
    "duration": 26798,
    "start_time": "2021-07-13T09:52:00.580Z"
   },
   {
    "duration": 26794,
    "start_time": "2021-07-13T09:52:00.585Z"
   },
   {
    "duration": 26785,
    "start_time": "2021-07-13T09:52:00.595Z"
   },
   {
    "duration": 26784,
    "start_time": "2021-07-13T09:52:00.598Z"
   },
   {
    "duration": 26780,
    "start_time": "2021-07-13T09:52:00.603Z"
   },
   {
    "duration": 26770,
    "start_time": "2021-07-13T09:52:00.614Z"
   },
   {
    "duration": 26732,
    "start_time": "2021-07-13T09:52:00.653Z"
   },
   {
    "duration": 26688,
    "start_time": "2021-07-13T09:52:00.698Z"
   },
   {
    "duration": 26686,
    "start_time": "2021-07-13T09:52:00.701Z"
   },
   {
    "duration": 26685,
    "start_time": "2021-07-13T09:52:00.704Z"
   },
   {
    "duration": 26674,
    "start_time": "2021-07-13T09:52:00.716Z"
   },
   {
    "duration": 26663,
    "start_time": "2021-07-13T09:52:00.728Z"
   },
   {
    "duration": 26661,
    "start_time": "2021-07-13T09:52:00.731Z"
   },
   {
    "duration": 26659,
    "start_time": "2021-07-13T09:52:00.735Z"
   },
   {
    "duration": 26649,
    "start_time": "2021-07-13T09:52:00.746Z"
   },
   {
    "duration": 26646,
    "start_time": "2021-07-13T09:52:00.751Z"
   },
   {
    "duration": 26636,
    "start_time": "2021-07-13T09:52:00.762Z"
   },
   {
    "duration": 26632,
    "start_time": "2021-07-13T09:52:00.767Z"
   },
   {
    "duration": 26621,
    "start_time": "2021-07-13T09:52:00.779Z"
   },
   {
    "duration": 26680,
    "start_time": "2021-07-13T09:52:00.782Z"
   },
   {
    "duration": 26662,
    "start_time": "2021-07-13T09:52:00.803Z"
   },
   {
    "duration": 26652,
    "start_time": "2021-07-13T09:52:00.814Z"
   },
   {
    "duration": 26649,
    "start_time": "2021-07-13T09:52:00.819Z"
   },
   {
    "duration": 26627,
    "start_time": "2021-07-13T09:52:00.843Z"
   },
   {
    "duration": 26624,
    "start_time": "2021-07-13T09:52:00.847Z"
   },
   {
    "duration": 26557,
    "start_time": "2021-07-13T09:52:00.915Z"
   },
   {
    "duration": 26554,
    "start_time": "2021-07-13T09:52:00.920Z"
   },
   {
    "duration": 26552,
    "start_time": "2021-07-13T09:52:00.923Z"
   },
   {
    "duration": 26550,
    "start_time": "2021-07-13T09:52:00.926Z"
   },
   {
    "duration": 498,
    "start_time": "2021-07-13T09:53:08.829Z"
   },
   {
    "duration": 807,
    "start_time": "2021-07-13T09:53:10.702Z"
   },
   {
    "duration": 17,
    "start_time": "2021-07-13T09:53:13.050Z"
   },
   {
    "duration": 26,
    "start_time": "2021-07-13T09:53:17.469Z"
   }
  ],
  "colab": {
   "collapsed_sections": [],
   "name": "project_8 - restaurant.ipynb",
   "provenance": [
    {
     "file_id": "1Jejz5Zbw8hY61kgkmNIBeTTS5VMweuGy",
     "timestamp": 1626175884698
    }
   ],
   "toc_visible": true
  },
  "kernelspec": {
   "display_name": "Python 3",
   "language": "python",
   "name": "python3"
  },
  "language_info": {
   "codemirror_mode": {
    "name": "ipython",
    "version": 3
   },
   "file_extension": ".py",
   "mimetype": "text/x-python",
   "name": "python",
   "nbconvert_exporter": "python",
   "pygments_lexer": "ipython3",
   "version": "3.8.8"
  },
  "toc": {
   "base_numbering": 1,
   "nav_menu": {},
   "number_sections": true,
   "sideBar": true,
   "skip_h1_title": true,
   "title_cell": "Содержание",
   "title_sidebar": "Contents",
   "toc_cell": true,
   "toc_position": {
    "height": "calc(100% - 180px)",
    "left": "10px",
    "top": "150px",
    "width": "270.391px"
   },
   "toc_section_display": true,
   "toc_window_display": true
  },
  "widgets": {
   "application/vnd.jupyter.widget-state+json": {
    "40d8c5fedc55413380dd4add348a4d4b": {
     "model_module": "@jupyter-widgets/controls",
     "model_module_version": "1.5.0",
     "model_name": "FloatProgressModel",
     "state": {
      "_dom_classes": [],
      "_model_module": "@jupyter-widgets/controls",
      "_model_module_version": "1.5.0",
      "_model_name": "FloatProgressModel",
      "_view_count": null,
      "_view_module": "@jupyter-widgets/controls",
      "_view_module_version": "1.5.0",
      "_view_name": "ProgressView",
      "bar_style": "success",
      "description": "100%",
      "description_tooltip": null,
      "layout": "IPY_MODEL_b3e4213fcf194cbfa3fcb991acad3e49",
      "max": 601,
      "min": 0,
      "orientation": "horizontal",
      "style": "IPY_MODEL_b7b26533af3a447a9c8365b9b45bf375",
      "value": 601
     }
    },
    "4a73a9ce42434c29973195b2be17d267": {
     "model_module": "@jupyter-widgets/controls",
     "model_module_version": "1.5.0",
     "model_name": "HBoxModel",
     "state": {
      "_dom_classes": [],
      "_model_module": "@jupyter-widgets/controls",
      "_model_module_version": "1.5.0",
      "_model_name": "HBoxModel",
      "_view_count": null,
      "_view_module": "@jupyter-widgets/controls",
      "_view_module_version": "1.5.0",
      "_view_name": "HBoxView",
      "box_style": "",
      "children": [
       "IPY_MODEL_40d8c5fedc55413380dd4add348a4d4b",
       "IPY_MODEL_d307c4f97b074a629dc8b3d53983f322"
      ],
      "layout": "IPY_MODEL_81a7741d60854e4dac0134e8bba9d69e"
     }
    },
    "7ea4cb35d05c4a2da16c5d6defda67be": {
     "model_module": "@jupyter-widgets/base",
     "model_module_version": "1.2.0",
     "model_name": "LayoutModel",
     "state": {
      "_model_module": "@jupyter-widgets/base",
      "_model_module_version": "1.2.0",
      "_model_name": "LayoutModel",
      "_view_count": null,
      "_view_module": "@jupyter-widgets/base",
      "_view_module_version": "1.2.0",
      "_view_name": "LayoutView",
      "align_content": null,
      "align_items": null,
      "align_self": null,
      "border": null,
      "bottom": null,
      "display": null,
      "flex": null,
      "flex_flow": null,
      "grid_area": null,
      "grid_auto_columns": null,
      "grid_auto_flow": null,
      "grid_auto_rows": null,
      "grid_column": null,
      "grid_gap": null,
      "grid_row": null,
      "grid_template_areas": null,
      "grid_template_columns": null,
      "grid_template_rows": null,
      "height": null,
      "justify_content": null,
      "justify_items": null,
      "left": null,
      "margin": null,
      "max_height": null,
      "max_width": null,
      "min_height": null,
      "min_width": null,
      "object_fit": null,
      "object_position": null,
      "order": null,
      "overflow": null,
      "overflow_x": null,
      "overflow_y": null,
      "padding": null,
      "right": null,
      "top": null,
      "visibility": null,
      "width": null
     }
    },
    "81a7741d60854e4dac0134e8bba9d69e": {
     "model_module": "@jupyter-widgets/base",
     "model_module_version": "1.2.0",
     "model_name": "LayoutModel",
     "state": {
      "_model_module": "@jupyter-widgets/base",
      "_model_module_version": "1.2.0",
      "_model_name": "LayoutModel",
      "_view_count": null,
      "_view_module": "@jupyter-widgets/base",
      "_view_module_version": "1.2.0",
      "_view_name": "LayoutView",
      "align_content": null,
      "align_items": null,
      "align_self": null,
      "border": null,
      "bottom": null,
      "display": null,
      "flex": null,
      "flex_flow": null,
      "grid_area": null,
      "grid_auto_columns": null,
      "grid_auto_flow": null,
      "grid_auto_rows": null,
      "grid_column": null,
      "grid_gap": null,
      "grid_row": null,
      "grid_template_areas": null,
      "grid_template_columns": null,
      "grid_template_rows": null,
      "height": null,
      "justify_content": null,
      "justify_items": null,
      "left": null,
      "margin": null,
      "max_height": null,
      "max_width": null,
      "min_height": null,
      "min_width": null,
      "object_fit": null,
      "object_position": null,
      "order": null,
      "overflow": null,
      "overflow_x": null,
      "overflow_y": null,
      "padding": null,
      "right": null,
      "top": null,
      "visibility": null,
      "width": null
     }
    },
    "b3e4213fcf194cbfa3fcb991acad3e49": {
     "model_module": "@jupyter-widgets/base",
     "model_module_version": "1.2.0",
     "model_name": "LayoutModel",
     "state": {
      "_model_module": "@jupyter-widgets/base",
      "_model_module_version": "1.2.0",
      "_model_name": "LayoutModel",
      "_view_count": null,
      "_view_module": "@jupyter-widgets/base",
      "_view_module_version": "1.2.0",
      "_view_name": "LayoutView",
      "align_content": null,
      "align_items": null,
      "align_self": null,
      "border": null,
      "bottom": null,
      "display": null,
      "flex": null,
      "flex_flow": null,
      "grid_area": null,
      "grid_auto_columns": null,
      "grid_auto_flow": null,
      "grid_auto_rows": null,
      "grid_column": null,
      "grid_gap": null,
      "grid_row": null,
      "grid_template_areas": null,
      "grid_template_columns": null,
      "grid_template_rows": null,
      "height": null,
      "justify_content": null,
      "justify_items": null,
      "left": null,
      "margin": null,
      "max_height": null,
      "max_width": null,
      "min_height": null,
      "min_width": null,
      "object_fit": null,
      "object_position": null,
      "order": null,
      "overflow": null,
      "overflow_x": null,
      "overflow_y": null,
      "padding": null,
      "right": null,
      "top": null,
      "visibility": null,
      "width": null
     }
    },
    "b75ad98ebb5f450da47de4f1ed131039": {
     "model_module": "@jupyter-widgets/controls",
     "model_module_version": "1.5.0",
     "model_name": "DescriptionStyleModel",
     "state": {
      "_model_module": "@jupyter-widgets/controls",
      "_model_module_version": "1.5.0",
      "_model_name": "DescriptionStyleModel",
      "_view_count": null,
      "_view_module": "@jupyter-widgets/base",
      "_view_module_version": "1.2.0",
      "_view_name": "StyleView",
      "description_width": ""
     }
    },
    "b7b26533af3a447a9c8365b9b45bf375": {
     "model_module": "@jupyter-widgets/controls",
     "model_module_version": "1.5.0",
     "model_name": "ProgressStyleModel",
     "state": {
      "_model_module": "@jupyter-widgets/controls",
      "_model_module_version": "1.5.0",
      "_model_name": "ProgressStyleModel",
      "_view_count": null,
      "_view_module": "@jupyter-widgets/base",
      "_view_module_version": "1.2.0",
      "_view_name": "StyleView",
      "bar_color": null,
      "description_width": "initial"
     }
    },
    "d307c4f97b074a629dc8b3d53983f322": {
     "model_module": "@jupyter-widgets/controls",
     "model_module_version": "1.5.0",
     "model_name": "HTMLModel",
     "state": {
      "_dom_classes": [],
      "_model_module": "@jupyter-widgets/controls",
      "_model_module_version": "1.5.0",
      "_model_name": "HTMLModel",
      "_view_count": null,
      "_view_module": "@jupyter-widgets/controls",
      "_view_module_version": "1.5.0",
      "_view_name": "HTMLView",
      "description": "",
      "description_tooltip": null,
      "layout": "IPY_MODEL_7ea4cb35d05c4a2da16c5d6defda67be",
      "placeholder": "​",
      "style": "IPY_MODEL_b75ad98ebb5f450da47de4f1ed131039",
      "value": " 601/601 [05:51&lt;00:00,  1.71it/s]"
     }
    }
   }
  }
 },
 "nbformat": 4,
 "nbformat_minor": 1
}
