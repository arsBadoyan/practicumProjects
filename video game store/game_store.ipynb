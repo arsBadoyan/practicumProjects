{
  "nbformat": 4,
  "nbformat_minor": 0,
  "metadata": {
    "kernelspec": {
      "display_name": "Python 3",
      "language": "python",
      "name": "python3"
    },
    "language_info": {
      "codemirror_mode": {
        "name": "ipython",
        "version": 3
      },
      "file_extension": ".py",
      "mimetype": "text/x-python",
      "name": "python",
      "nbconvert_exporter": "python",
      "pygments_lexer": "ipython3",
      "version": "3.7.8"
    },
    "toc": {
      "base_numbering": 1,
      "nav_menu": {},
      "number_sections": true,
      "sideBar": true,
      "skip_h1_title": true,
      "title_cell": "Содержание",
      "title_sidebar": "Contents",
      "toc_cell": true,
      "toc_position": {
        "height": "calc(100% - 180px)",
        "left": "10px",
        "top": "150px",
        "width": "270.391px"
      },
      "toc_section_display": true,
      "toc_window_display": false
    },
    "colab": {
      "name": "project_4 - games.ipynb",
      "provenance": [],
      "collapsed_sections": [],
      "toc_visible": true
    }
  },
  "cells": [
    {
      "cell_type": "markdown",
      "metadata": {
        "id": "hq7U231A6l0O"
      },
      "source": [
        "# Исследование продаж видеоигр в интернет-магазине \"Стримчик\"\n",
        "\n",
        "Из открытых источников доступны исторические данные о продажах игр, оценки пользователей и экспертов, жанры и платформы.\n",
        "\n",
        "**Цель** - выявить определяющие успешность игры закономерности. Это позволит сделать ставку на потенциально популярный продукт и спланировать рекламные кампании.\n",
        "\n",
        "Перед нами данные до 2016 года. Представим, что сейчас декабрь 2016 г., и мы планируем кампанию на 2017-й.\n",
        "\n",
        "Данные для исследования:\n",
        "* Name — название игры\n",
        "* Platform — платформа\n",
        "* Year_of_Release — год выпуска\n",
        "* Genre — жанр игры\n",
        "* NA_sales — продажи в Северной Америке (миллионы проданных копий)\n",
        "* EU_sales — продажи в Европе (миллионы проданных копий)\n",
        "* JP_sales — продажи в Японии (миллионы проданных копий)\n",
        "* Other_sales — продажи в других странах (миллионы проданных копий)\n",
        "* Critic_Score — оценка критиков (максимум 100)\n",
        "* User_Score — оценка пользователей (максимум 10)\n",
        "* Rating — рейтинг от организации ESRB (Entertainment Software Rating Board). Эта ассоциация определяет рейтинг компьютерных игр и присваивает им подходящую возрастную категорию.\n"
      ]
    },
    {
      "cell_type": "markdown",
      "metadata": {
        "id": "P-L7IyZV6l0P"
      },
      "source": [
        "## Изучение данных из файла"
      ]
    },
    {
      "cell_type": "code",
      "metadata": {
        "id": "pTkxrrZk6l0P"
      },
      "source": [
        "import pandas as pd\n",
        "import matplotlib.pyplot as plt\n",
        "import numpy as np\n",
        "import seaborn as sns\n",
        "import plotly.express as px\n",
        "import plotly.graph_objects as go\n",
        "\n",
        "import plotly.io as pio\n",
        "pio.renderers.default = 'notebook_connected'\n",
        "\n",
        "from scipy import stats as st\n",
        "from plotly.subplots import make_subplots"
      ],
      "execution_count": 1,
      "outputs": []
    },
    {
      "cell_type": "code",
      "metadata": {
        "id": "EyE8DejnUl4C"
      },
      "source": [
        "try:\n",
        "  df = pd.read_csv('https://code.s3.yandex.net/datasets/games.csv')\n",
        "except Exception as err:\n",
        "  print('Ошибка:', err)"
      ],
      "execution_count": 2,
      "outputs": []
    },
    {
      "cell_type": "code",
      "metadata": {
        "colab": {
          "base_uri": "https://localhost:8080/",
          "height": 510
        },
        "id": "asZgGY0p8d8E",
        "outputId": "c62f39c2-c27d-46c8-ca0d-622e9058c404"
      },
      "source": [
        "display(df.head())\n",
        "df.info()"
      ],
      "execution_count": 3,
      "outputs": [
        {
          "output_type": "display_data",
          "data": {
            "text/html": [
              "<div>\n",
              "<style scoped>\n",
              "    .dataframe tbody tr th:only-of-type {\n",
              "        vertical-align: middle;\n",
              "    }\n",
              "\n",
              "    .dataframe tbody tr th {\n",
              "        vertical-align: top;\n",
              "    }\n",
              "\n",
              "    .dataframe thead th {\n",
              "        text-align: right;\n",
              "    }\n",
              "</style>\n",
              "<table border=\"1\" class=\"dataframe\">\n",
              "  <thead>\n",
              "    <tr style=\"text-align: right;\">\n",
              "      <th></th>\n",
              "      <th>Name</th>\n",
              "      <th>Platform</th>\n",
              "      <th>Year_of_Release</th>\n",
              "      <th>Genre</th>\n",
              "      <th>NA_sales</th>\n",
              "      <th>EU_sales</th>\n",
              "      <th>JP_sales</th>\n",
              "      <th>Other_sales</th>\n",
              "      <th>Critic_Score</th>\n",
              "      <th>User_Score</th>\n",
              "      <th>Rating</th>\n",
              "    </tr>\n",
              "  </thead>\n",
              "  <tbody>\n",
              "    <tr>\n",
              "      <th>0</th>\n",
              "      <td>Wii Sports</td>\n",
              "      <td>Wii</td>\n",
              "      <td>2006.0</td>\n",
              "      <td>Sports</td>\n",
              "      <td>41.36</td>\n",
              "      <td>28.96</td>\n",
              "      <td>3.77</td>\n",
              "      <td>8.45</td>\n",
              "      <td>76.0</td>\n",
              "      <td>8</td>\n",
              "      <td>E</td>\n",
              "    </tr>\n",
              "    <tr>\n",
              "      <th>1</th>\n",
              "      <td>Super Mario Bros.</td>\n",
              "      <td>NES</td>\n",
              "      <td>1985.0</td>\n",
              "      <td>Platform</td>\n",
              "      <td>29.08</td>\n",
              "      <td>3.58</td>\n",
              "      <td>6.81</td>\n",
              "      <td>0.77</td>\n",
              "      <td>NaN</td>\n",
              "      <td>NaN</td>\n",
              "      <td>NaN</td>\n",
              "    </tr>\n",
              "    <tr>\n",
              "      <th>2</th>\n",
              "      <td>Mario Kart Wii</td>\n",
              "      <td>Wii</td>\n",
              "      <td>2008.0</td>\n",
              "      <td>Racing</td>\n",
              "      <td>15.68</td>\n",
              "      <td>12.76</td>\n",
              "      <td>3.79</td>\n",
              "      <td>3.29</td>\n",
              "      <td>82.0</td>\n",
              "      <td>8.3</td>\n",
              "      <td>E</td>\n",
              "    </tr>\n",
              "    <tr>\n",
              "      <th>3</th>\n",
              "      <td>Wii Sports Resort</td>\n",
              "      <td>Wii</td>\n",
              "      <td>2009.0</td>\n",
              "      <td>Sports</td>\n",
              "      <td>15.61</td>\n",
              "      <td>10.93</td>\n",
              "      <td>3.28</td>\n",
              "      <td>2.95</td>\n",
              "      <td>80.0</td>\n",
              "      <td>8</td>\n",
              "      <td>E</td>\n",
              "    </tr>\n",
              "    <tr>\n",
              "      <th>4</th>\n",
              "      <td>Pokemon Red/Pokemon Blue</td>\n",
              "      <td>GB</td>\n",
              "      <td>1996.0</td>\n",
              "      <td>Role-Playing</td>\n",
              "      <td>11.27</td>\n",
              "      <td>8.89</td>\n",
              "      <td>10.22</td>\n",
              "      <td>1.00</td>\n",
              "      <td>NaN</td>\n",
              "      <td>NaN</td>\n",
              "      <td>NaN</td>\n",
              "    </tr>\n",
              "  </tbody>\n",
              "</table>\n",
              "</div>"
            ],
            "text/plain": [
              "                       Name Platform  ...  User_Score Rating\n",
              "0                Wii Sports      Wii  ...           8      E\n",
              "1         Super Mario Bros.      NES  ...         NaN    NaN\n",
              "2            Mario Kart Wii      Wii  ...         8.3      E\n",
              "3         Wii Sports Resort      Wii  ...           8      E\n",
              "4  Pokemon Red/Pokemon Blue       GB  ...         NaN    NaN\n",
              "\n",
              "[5 rows x 11 columns]"
            ]
          },
          "metadata": {
            "tags": []
          }
        },
        {
          "output_type": "stream",
          "text": [
            "<class 'pandas.core.frame.DataFrame'>\n",
            "RangeIndex: 16715 entries, 0 to 16714\n",
            "Data columns (total 11 columns):\n",
            " #   Column           Non-Null Count  Dtype  \n",
            "---  ------           --------------  -----  \n",
            " 0   Name             16713 non-null  object \n",
            " 1   Platform         16715 non-null  object \n",
            " 2   Year_of_Release  16446 non-null  float64\n",
            " 3   Genre            16713 non-null  object \n",
            " 4   NA_sales         16715 non-null  float64\n",
            " 5   EU_sales         16715 non-null  float64\n",
            " 6   JP_sales         16715 non-null  float64\n",
            " 7   Other_sales      16715 non-null  float64\n",
            " 8   Critic_Score     8137 non-null   float64\n",
            " 9   User_Score       10014 non-null  object \n",
            " 10  Rating           9949 non-null   object \n",
            "dtypes: float64(6), object(5)\n",
            "memory usage: 1.4+ MB\n"
          ],
          "name": "stdout"
        }
      ]
    },
    {
      "cell_type": "markdown",
      "metadata": {
        "id": "A9pwWjfv6l0Q"
      },
      "source": [
        "### Вывод"
      ]
    },
    {
      "cell_type": "markdown",
      "metadata": {
        "id": "ReE6GOcL6l0Q"
      },
      "source": [
        "1. Есть пропущенные значения\n",
        "2. Неверные типы данных\n",
        "3. Столбцы нужны привести к нижнему регистру\n",
        "\n",
        "Данные прочитаны, приступим к предобработке данных"
      ]
    },
    {
      "cell_type": "markdown",
      "metadata": {
        "id": "gSxitGqP6l0R"
      },
      "source": [
        "## Предобработка данных\n"
      ]
    },
    {
      "cell_type": "markdown",
      "metadata": {
        "id": "1gQvjIMw9lIl"
      },
      "source": [
        "Для начала приведем названия столбцов к нижнему регистру."
      ]
    },
    {
      "cell_type": "code",
      "metadata": {
        "id": "uf7Jk_Um9pj1"
      },
      "source": [
        "df.columns = df.columns.str.lower()"
      ],
      "execution_count": 4,
      "outputs": []
    },
    {
      "cell_type": "markdown",
      "metadata": {
        "id": "OLwxcLW46l0S"
      },
      "source": [
        "### Обработка пропусков"
      ]
    },
    {
      "cell_type": "markdown",
      "metadata": {
        "id": "eHQL5GyY9GC9"
      },
      "source": [
        "Посмотрим, сколько у нас пропусков"
      ]
    },
    {
      "cell_type": "code",
      "metadata": {
        "colab": {
          "base_uri": "https://localhost:8080/",
          "height": 271
        },
        "id": "iIIDKUOF9OlC",
        "outputId": "334d8452-8352-4458-8919-54e31eba99c2"
      },
      "source": [
        "pd.DataFrame(round((df.isna().mean()*100),2)).style.background_gradient('coolwarm')"
      ],
      "execution_count": 5,
      "outputs": [
        {
          "output_type": "execute_result",
          "data": {
            "text/html": [
              "<style  type=\"text/css\" >\n",
              "#T_1f56b59c_fc44_11eb_8fa9_0242ac1c0002row0_col0,#T_1f56b59c_fc44_11eb_8fa9_0242ac1c0002row1_col0,#T_1f56b59c_fc44_11eb_8fa9_0242ac1c0002row3_col0,#T_1f56b59c_fc44_11eb_8fa9_0242ac1c0002row4_col0,#T_1f56b59c_fc44_11eb_8fa9_0242ac1c0002row5_col0,#T_1f56b59c_fc44_11eb_8fa9_0242ac1c0002row6_col0,#T_1f56b59c_fc44_11eb_8fa9_0242ac1c0002row7_col0{\n",
              "            background-color:  #3b4cc0;\n",
              "            color:  #f1f1f1;\n",
              "        }#T_1f56b59c_fc44_11eb_8fa9_0242ac1c0002row2_col0{\n",
              "            background-color:  #445acc;\n",
              "            color:  #f1f1f1;\n",
              "        }#T_1f56b59c_fc44_11eb_8fa9_0242ac1c0002row8_col0{\n",
              "            background-color:  #b40426;\n",
              "            color:  #f1f1f1;\n",
              "        }#T_1f56b59c_fc44_11eb_8fa9_0242ac1c0002row9_col0{\n",
              "            background-color:  #f18d6f;\n",
              "            color:  #000000;\n",
              "        }#T_1f56b59c_fc44_11eb_8fa9_0242ac1c0002row10_col0{\n",
              "            background-color:  #f08a6c;\n",
              "            color:  #000000;\n",
              "        }</style><table id=\"T_1f56b59c_fc44_11eb_8fa9_0242ac1c0002\" ><thead>    <tr>        <th class=\"blank level0\" ></th>        <th class=\"col_heading level0 col0\" >0</th>    </tr></thead><tbody>\n",
              "                <tr>\n",
              "                        <th id=\"T_1f56b59c_fc44_11eb_8fa9_0242ac1c0002level0_row0\" class=\"row_heading level0 row0\" >name</th>\n",
              "                        <td id=\"T_1f56b59c_fc44_11eb_8fa9_0242ac1c0002row0_col0\" class=\"data row0 col0\" >0.010000</td>\n",
              "            </tr>\n",
              "            <tr>\n",
              "                        <th id=\"T_1f56b59c_fc44_11eb_8fa9_0242ac1c0002level0_row1\" class=\"row_heading level0 row1\" >platform</th>\n",
              "                        <td id=\"T_1f56b59c_fc44_11eb_8fa9_0242ac1c0002row1_col0\" class=\"data row1 col0\" >0.000000</td>\n",
              "            </tr>\n",
              "            <tr>\n",
              "                        <th id=\"T_1f56b59c_fc44_11eb_8fa9_0242ac1c0002level0_row2\" class=\"row_heading level0 row2\" >year_of_release</th>\n",
              "                        <td id=\"T_1f56b59c_fc44_11eb_8fa9_0242ac1c0002row2_col0\" class=\"data row2 col0\" >1.610000</td>\n",
              "            </tr>\n",
              "            <tr>\n",
              "                        <th id=\"T_1f56b59c_fc44_11eb_8fa9_0242ac1c0002level0_row3\" class=\"row_heading level0 row3\" >genre</th>\n",
              "                        <td id=\"T_1f56b59c_fc44_11eb_8fa9_0242ac1c0002row3_col0\" class=\"data row3 col0\" >0.010000</td>\n",
              "            </tr>\n",
              "            <tr>\n",
              "                        <th id=\"T_1f56b59c_fc44_11eb_8fa9_0242ac1c0002level0_row4\" class=\"row_heading level0 row4\" >na_sales</th>\n",
              "                        <td id=\"T_1f56b59c_fc44_11eb_8fa9_0242ac1c0002row4_col0\" class=\"data row4 col0\" >0.000000</td>\n",
              "            </tr>\n",
              "            <tr>\n",
              "                        <th id=\"T_1f56b59c_fc44_11eb_8fa9_0242ac1c0002level0_row5\" class=\"row_heading level0 row5\" >eu_sales</th>\n",
              "                        <td id=\"T_1f56b59c_fc44_11eb_8fa9_0242ac1c0002row5_col0\" class=\"data row5 col0\" >0.000000</td>\n",
              "            </tr>\n",
              "            <tr>\n",
              "                        <th id=\"T_1f56b59c_fc44_11eb_8fa9_0242ac1c0002level0_row6\" class=\"row_heading level0 row6\" >jp_sales</th>\n",
              "                        <td id=\"T_1f56b59c_fc44_11eb_8fa9_0242ac1c0002row6_col0\" class=\"data row6 col0\" >0.000000</td>\n",
              "            </tr>\n",
              "            <tr>\n",
              "                        <th id=\"T_1f56b59c_fc44_11eb_8fa9_0242ac1c0002level0_row7\" class=\"row_heading level0 row7\" >other_sales</th>\n",
              "                        <td id=\"T_1f56b59c_fc44_11eb_8fa9_0242ac1c0002row7_col0\" class=\"data row7 col0\" >0.000000</td>\n",
              "            </tr>\n",
              "            <tr>\n",
              "                        <th id=\"T_1f56b59c_fc44_11eb_8fa9_0242ac1c0002level0_row8\" class=\"row_heading level0 row8\" >critic_score</th>\n",
              "                        <td id=\"T_1f56b59c_fc44_11eb_8fa9_0242ac1c0002row8_col0\" class=\"data row8 col0\" >51.320000</td>\n",
              "            </tr>\n",
              "            <tr>\n",
              "                        <th id=\"T_1f56b59c_fc44_11eb_8fa9_0242ac1c0002level0_row9\" class=\"row_heading level0 row9\" >user_score</th>\n",
              "                        <td id=\"T_1f56b59c_fc44_11eb_8fa9_0242ac1c0002row9_col0\" class=\"data row9 col0\" >40.090000</td>\n",
              "            </tr>\n",
              "            <tr>\n",
              "                        <th id=\"T_1f56b59c_fc44_11eb_8fa9_0242ac1c0002level0_row10\" class=\"row_heading level0 row10\" >rating</th>\n",
              "                        <td id=\"T_1f56b59c_fc44_11eb_8fa9_0242ac1c0002row10_col0\" class=\"data row10 col0\" >40.480000</td>\n",
              "            </tr>\n",
              "    </tbody></table>"
            ],
            "text/plain": [
              "<pandas.io.formats.style.Styler at 0x7fb25090d7d0>"
            ]
          },
          "metadata": {
            "tags": []
          },
          "execution_count": 5
        }
      ]
    },
    {
      "cell_type": "markdown",
      "metadata": {
        "id": "PJUTluNauXzW"
      },
      "source": [
        "Видим одинаковое количество пропусков в столбце с именем и жанром игры, посмотрим на строки и выясним, не к одной и той же строке относятся эти пропуски."
      ]
    },
    {
      "cell_type": "code",
      "metadata": {
        "colab": {
          "base_uri": "https://localhost:8080/",
          "height": 111
        },
        "id": "IqkMpMfzuRar",
        "outputId": "21f42e9d-bb9d-456e-e011-a370c5d715ac"
      },
      "source": [
        "df[df['name'].isna()]"
      ],
      "execution_count": 6,
      "outputs": [
        {
          "output_type": "execute_result",
          "data": {
            "text/html": [
              "<div>\n",
              "<style scoped>\n",
              "    .dataframe tbody tr th:only-of-type {\n",
              "        vertical-align: middle;\n",
              "    }\n",
              "\n",
              "    .dataframe tbody tr th {\n",
              "        vertical-align: top;\n",
              "    }\n",
              "\n",
              "    .dataframe thead th {\n",
              "        text-align: right;\n",
              "    }\n",
              "</style>\n",
              "<table border=\"1\" class=\"dataframe\">\n",
              "  <thead>\n",
              "    <tr style=\"text-align: right;\">\n",
              "      <th></th>\n",
              "      <th>name</th>\n",
              "      <th>platform</th>\n",
              "      <th>year_of_release</th>\n",
              "      <th>genre</th>\n",
              "      <th>na_sales</th>\n",
              "      <th>eu_sales</th>\n",
              "      <th>jp_sales</th>\n",
              "      <th>other_sales</th>\n",
              "      <th>critic_score</th>\n",
              "      <th>user_score</th>\n",
              "      <th>rating</th>\n",
              "    </tr>\n",
              "  </thead>\n",
              "  <tbody>\n",
              "    <tr>\n",
              "      <th>659</th>\n",
              "      <td>NaN</td>\n",
              "      <td>GEN</td>\n",
              "      <td>1993.0</td>\n",
              "      <td>NaN</td>\n",
              "      <td>1.78</td>\n",
              "      <td>0.53</td>\n",
              "      <td>0.00</td>\n",
              "      <td>0.08</td>\n",
              "      <td>NaN</td>\n",
              "      <td>NaN</td>\n",
              "      <td>NaN</td>\n",
              "    </tr>\n",
              "    <tr>\n",
              "      <th>14244</th>\n",
              "      <td>NaN</td>\n",
              "      <td>GEN</td>\n",
              "      <td>1993.0</td>\n",
              "      <td>NaN</td>\n",
              "      <td>0.00</td>\n",
              "      <td>0.00</td>\n",
              "      <td>0.03</td>\n",
              "      <td>0.00</td>\n",
              "      <td>NaN</td>\n",
              "      <td>NaN</td>\n",
              "      <td>NaN</td>\n",
              "    </tr>\n",
              "  </tbody>\n",
              "</table>\n",
              "</div>"
            ],
            "text/plain": [
              "      name platform  year_of_release  ... critic_score  user_score  rating\n",
              "659    NaN      GEN           1993.0  ...          NaN         NaN     NaN\n",
              "14244  NaN      GEN           1993.0  ...          NaN         NaN     NaN\n",
              "\n",
              "[2 rows x 11 columns]"
            ]
          },
          "metadata": {
            "tags": []
          },
          "execution_count": 6
        }
      ]
    },
    {
      "cell_type": "markdown",
      "metadata": {
        "id": "pOyFT2Tauo4i"
      },
      "source": [
        "Да, это одни и те же строки. 2 строки, где пропущены и названия, и жанр. Это всего 0.01% от датафрейма. Эти строки, я считаю, неинформативны для нас, и их можно спокойно удалить."
      ]
    },
    {
      "cell_type": "code",
      "metadata": {
        "id": "vWJh5pBBvFbS"
      },
      "source": [
        "df.dropna(subset=['name'], inplace=True)"
      ],
      "execution_count": 7,
      "outputs": []
    },
    {
      "cell_type": "markdown",
      "metadata": {
        "id": "d_G7e4fE60ZK"
      },
      "source": [
        "В столбце с годом выпуска игры 1.6% пропусков. Данных для адеватного заполнения у нас нет, поэтому просто заполним маркером -1. Главное - не использовать эти строки в дальнейшем анализе"
      ]
    },
    {
      "cell_type": "code",
      "metadata": {
        "id": "tPvtm0G67XYR"
      },
      "source": [
        "df['year_of_release'].fillna(-1, inplace=True)"
      ],
      "execution_count": 8,
      "outputs": []
    },
    {
      "cell_type": "markdown",
      "metadata": {
        "id": "AZOc3i9wFmz1"
      },
      "source": [
        "В столбце user_score есть значения tbd, посмотрим на них"
      ]
    },
    {
      "cell_type": "code",
      "metadata": {
        "colab": {
          "base_uri": "https://localhost:8080/",
          "height": 419
        },
        "id": "dGw2_q2OzscF",
        "outputId": "e39ae04a-e996-4005-89eb-fed1e53abba4"
      },
      "source": [
        "df.query('user_score == \"tbd\"')"
      ],
      "execution_count": 9,
      "outputs": [
        {
          "output_type": "execute_result",
          "data": {
            "text/html": [
              "<div>\n",
              "<style scoped>\n",
              "    .dataframe tbody tr th:only-of-type {\n",
              "        vertical-align: middle;\n",
              "    }\n",
              "\n",
              "    .dataframe tbody tr th {\n",
              "        vertical-align: top;\n",
              "    }\n",
              "\n",
              "    .dataframe thead th {\n",
              "        text-align: right;\n",
              "    }\n",
              "</style>\n",
              "<table border=\"1\" class=\"dataframe\">\n",
              "  <thead>\n",
              "    <tr style=\"text-align: right;\">\n",
              "      <th></th>\n",
              "      <th>name</th>\n",
              "      <th>platform</th>\n",
              "      <th>year_of_release</th>\n",
              "      <th>genre</th>\n",
              "      <th>na_sales</th>\n",
              "      <th>eu_sales</th>\n",
              "      <th>jp_sales</th>\n",
              "      <th>other_sales</th>\n",
              "      <th>critic_score</th>\n",
              "      <th>user_score</th>\n",
              "      <th>rating</th>\n",
              "    </tr>\n",
              "  </thead>\n",
              "  <tbody>\n",
              "    <tr>\n",
              "      <th>119</th>\n",
              "      <td>Zumba Fitness</td>\n",
              "      <td>Wii</td>\n",
              "      <td>2010.0</td>\n",
              "      <td>Sports</td>\n",
              "      <td>3.45</td>\n",
              "      <td>2.59</td>\n",
              "      <td>0.0</td>\n",
              "      <td>0.66</td>\n",
              "      <td>NaN</td>\n",
              "      <td>tbd</td>\n",
              "      <td>E</td>\n",
              "    </tr>\n",
              "    <tr>\n",
              "      <th>301</th>\n",
              "      <td>Namco Museum: 50th Anniversary</td>\n",
              "      <td>PS2</td>\n",
              "      <td>2005.0</td>\n",
              "      <td>Misc</td>\n",
              "      <td>2.08</td>\n",
              "      <td>1.35</td>\n",
              "      <td>0.0</td>\n",
              "      <td>0.54</td>\n",
              "      <td>61.0</td>\n",
              "      <td>tbd</td>\n",
              "      <td>E10+</td>\n",
              "    </tr>\n",
              "    <tr>\n",
              "      <th>520</th>\n",
              "      <td>Zumba Fitness 2</td>\n",
              "      <td>Wii</td>\n",
              "      <td>2011.0</td>\n",
              "      <td>Sports</td>\n",
              "      <td>1.51</td>\n",
              "      <td>1.03</td>\n",
              "      <td>0.0</td>\n",
              "      <td>0.27</td>\n",
              "      <td>NaN</td>\n",
              "      <td>tbd</td>\n",
              "      <td>T</td>\n",
              "    </tr>\n",
              "    <tr>\n",
              "      <th>645</th>\n",
              "      <td>uDraw Studio</td>\n",
              "      <td>Wii</td>\n",
              "      <td>2010.0</td>\n",
              "      <td>Misc</td>\n",
              "      <td>1.65</td>\n",
              "      <td>0.57</td>\n",
              "      <td>0.0</td>\n",
              "      <td>0.20</td>\n",
              "      <td>71.0</td>\n",
              "      <td>tbd</td>\n",
              "      <td>E</td>\n",
              "    </tr>\n",
              "    <tr>\n",
              "      <th>657</th>\n",
              "      <td>Frogger's Adventures: Temple of the Frog</td>\n",
              "      <td>GBA</td>\n",
              "      <td>-1.0</td>\n",
              "      <td>Adventure</td>\n",
              "      <td>2.15</td>\n",
              "      <td>0.18</td>\n",
              "      <td>0.0</td>\n",
              "      <td>0.07</td>\n",
              "      <td>73.0</td>\n",
              "      <td>tbd</td>\n",
              "      <td>E</td>\n",
              "    </tr>\n",
              "    <tr>\n",
              "      <th>...</th>\n",
              "      <td>...</td>\n",
              "      <td>...</td>\n",
              "      <td>...</td>\n",
              "      <td>...</td>\n",
              "      <td>...</td>\n",
              "      <td>...</td>\n",
              "      <td>...</td>\n",
              "      <td>...</td>\n",
              "      <td>...</td>\n",
              "      <td>...</td>\n",
              "      <td>...</td>\n",
              "    </tr>\n",
              "    <tr>\n",
              "      <th>16695</th>\n",
              "      <td>Planet Monsters</td>\n",
              "      <td>GBA</td>\n",
              "      <td>2001.0</td>\n",
              "      <td>Action</td>\n",
              "      <td>0.01</td>\n",
              "      <td>0.00</td>\n",
              "      <td>0.0</td>\n",
              "      <td>0.00</td>\n",
              "      <td>67.0</td>\n",
              "      <td>tbd</td>\n",
              "      <td>E</td>\n",
              "    </tr>\n",
              "    <tr>\n",
              "      <th>16697</th>\n",
              "      <td>Bust-A-Move 3000</td>\n",
              "      <td>GC</td>\n",
              "      <td>2003.0</td>\n",
              "      <td>Puzzle</td>\n",
              "      <td>0.01</td>\n",
              "      <td>0.00</td>\n",
              "      <td>0.0</td>\n",
              "      <td>0.00</td>\n",
              "      <td>53.0</td>\n",
              "      <td>tbd</td>\n",
              "      <td>E</td>\n",
              "    </tr>\n",
              "    <tr>\n",
              "      <th>16698</th>\n",
              "      <td>Mega Brain Boost</td>\n",
              "      <td>DS</td>\n",
              "      <td>2008.0</td>\n",
              "      <td>Puzzle</td>\n",
              "      <td>0.01</td>\n",
              "      <td>0.00</td>\n",
              "      <td>0.0</td>\n",
              "      <td>0.00</td>\n",
              "      <td>48.0</td>\n",
              "      <td>tbd</td>\n",
              "      <td>E</td>\n",
              "    </tr>\n",
              "    <tr>\n",
              "      <th>16704</th>\n",
              "      <td>Plushees</td>\n",
              "      <td>DS</td>\n",
              "      <td>2008.0</td>\n",
              "      <td>Simulation</td>\n",
              "      <td>0.01</td>\n",
              "      <td>0.00</td>\n",
              "      <td>0.0</td>\n",
              "      <td>0.00</td>\n",
              "      <td>NaN</td>\n",
              "      <td>tbd</td>\n",
              "      <td>E</td>\n",
              "    </tr>\n",
              "    <tr>\n",
              "      <th>16706</th>\n",
              "      <td>Men in Black II: Alien Escape</td>\n",
              "      <td>GC</td>\n",
              "      <td>2003.0</td>\n",
              "      <td>Shooter</td>\n",
              "      <td>0.01</td>\n",
              "      <td>0.00</td>\n",
              "      <td>0.0</td>\n",
              "      <td>0.00</td>\n",
              "      <td>NaN</td>\n",
              "      <td>tbd</td>\n",
              "      <td>T</td>\n",
              "    </tr>\n",
              "  </tbody>\n",
              "</table>\n",
              "<p>2424 rows × 11 columns</p>\n",
              "</div>"
            ],
            "text/plain": [
              "                                           name platform  ...  user_score rating\n",
              "119                               Zumba Fitness      Wii  ...         tbd      E\n",
              "301              Namco Museum: 50th Anniversary      PS2  ...         tbd   E10+\n",
              "520                             Zumba Fitness 2      Wii  ...         tbd      T\n",
              "645                                uDraw Studio      Wii  ...         tbd      E\n",
              "657    Frogger's Adventures: Temple of the Frog      GBA  ...         tbd      E\n",
              "...                                         ...      ...  ...         ...    ...\n",
              "16695                           Planet Monsters      GBA  ...         tbd      E\n",
              "16697                          Bust-A-Move 3000       GC  ...         tbd      E\n",
              "16698                          Mega Brain Boost       DS  ...         tbd      E\n",
              "16704                                  Plushees       DS  ...         tbd      E\n",
              "16706             Men in Black II: Alien Escape       GC  ...         tbd      T\n",
              "\n",
              "[2424 rows x 11 columns]"
            ]
          },
          "metadata": {
            "tags": []
          },
          "execution_count": 9
        }
      ]
    },
    {
      "cell_type": "markdown",
      "metadata": {
        "id": "sTFp8HjxyRtW"
      },
      "source": [
        "**Tbd** - to be determined - **будет определено позднее**, то есть у них рейтинг еще не сформировался. Нужно это обработать для приведения к численному типу данных. Заменим tbd на NaN"
      ]
    },
    {
      "cell_type": "code",
      "metadata": {
        "id": "l3-P75VvEHCo"
      },
      "source": [
        "df['user_score'].replace('tbd', np.NaN, inplace=True)\n",
        "df['user_score'] = df['user_score'].astype('float')"
      ],
      "execution_count": 10,
      "outputs": []
    },
    {
      "cell_type": "code",
      "metadata": {
        "colab": {
          "base_uri": "https://localhost:8080/",
          "height": 325
        },
        "id": "l0ye9Z3IF1KS",
        "outputId": "d0e0cae4-2f8c-4778-a7f1-a1c7a5d7ffe1"
      },
      "source": [
        "plt.subplots(figsize=(10,5))\n",
        "sns.heatmap(df.query('user_score == user_score').corr(), annot = True, fmt='.1g')\n",
        "plt.show()"
      ],
      "execution_count": 11,
      "outputs": [
        {
          "output_type": "display_data",
          "data": {
            "image/png": "[encoded data removed]",
            "text/plain": [
              "<Figure size 720x360 with 2 Axes>"
            ]
          },
          "metadata": {
            "tags": [],
            "needs_background": "light"
          }
        }
      ]
    },
    {
      "cell_type": "markdown",
      "metadata": {
        "id": "ilJAQ5DEw5UX"
      },
      "source": [
        "В critic score и rating пропущено очень много значений. Средним или медианой, я думаю, заполнять нельзя, исказим данные, поэтому оставим пропуски"
      ]
    },
    {
      "cell_type": "code",
      "metadata": {
        "colab": {
          "base_uri": "https://localhost:8080/",
          "height": 271
        },
        "id": "U9ByD67K9qfQ",
        "outputId": "b377af41-ef94-4016-abef-01898966f72c"
      },
      "source": [
        "pd.DataFrame(round((df.isna().mean()*100),2)).style.background_gradient('coolwarm')"
      ],
      "execution_count": 12,
      "outputs": [
        {
          "output_type": "execute_result",
          "data": {
            "text/html": [
              "<style  type=\"text/css\" >\n",
              "#T_1fc0b0b4_fc44_11eb_8fa9_0242ac1c0002row0_col0,#T_1fc0b0b4_fc44_11eb_8fa9_0242ac1c0002row1_col0,#T_1fc0b0b4_fc44_11eb_8fa9_0242ac1c0002row2_col0,#T_1fc0b0b4_fc44_11eb_8fa9_0242ac1c0002row3_col0,#T_1fc0b0b4_fc44_11eb_8fa9_0242ac1c0002row4_col0,#T_1fc0b0b4_fc44_11eb_8fa9_0242ac1c0002row5_col0,#T_1fc0b0b4_fc44_11eb_8fa9_0242ac1c0002row6_col0,#T_1fc0b0b4_fc44_11eb_8fa9_0242ac1c0002row7_col0{\n",
              "            background-color:  #3b4cc0;\n",
              "            color:  #f1f1f1;\n",
              "        }#T_1fc0b0b4_fc44_11eb_8fa9_0242ac1c0002row8_col0{\n",
              "            background-color:  #ca3b37;\n",
              "            color:  #f1f1f1;\n",
              "        }#T_1fc0b0b4_fc44_11eb_8fa9_0242ac1c0002row9_col0{\n",
              "            background-color:  #b40426;\n",
              "            color:  #f1f1f1;\n",
              "        }#T_1fc0b0b4_fc44_11eb_8fa9_0242ac1c0002row10_col0{\n",
              "            background-color:  #f59d7e;\n",
              "            color:  #000000;\n",
              "        }</style><table id=\"T_1fc0b0b4_fc44_11eb_8fa9_0242ac1c0002\" ><thead>    <tr>        <th class=\"blank level0\" ></th>        <th class=\"col_heading level0 col0\" >0</th>    </tr></thead><tbody>\n",
              "                <tr>\n",
              "                        <th id=\"T_1fc0b0b4_fc44_11eb_8fa9_0242ac1c0002level0_row0\" class=\"row_heading level0 row0\" >name</th>\n",
              "                        <td id=\"T_1fc0b0b4_fc44_11eb_8fa9_0242ac1c0002row0_col0\" class=\"data row0 col0\" >0.000000</td>\n",
              "            </tr>\n",
              "            <tr>\n",
              "                        <th id=\"T_1fc0b0b4_fc44_11eb_8fa9_0242ac1c0002level0_row1\" class=\"row_heading level0 row1\" >platform</th>\n",
              "                        <td id=\"T_1fc0b0b4_fc44_11eb_8fa9_0242ac1c0002row1_col0\" class=\"data row1 col0\" >0.000000</td>\n",
              "            </tr>\n",
              "            <tr>\n",
              "                        <th id=\"T_1fc0b0b4_fc44_11eb_8fa9_0242ac1c0002level0_row2\" class=\"row_heading level0 row2\" >year_of_release</th>\n",
              "                        <td id=\"T_1fc0b0b4_fc44_11eb_8fa9_0242ac1c0002row2_col0\" class=\"data row2 col0\" >0.000000</td>\n",
              "            </tr>\n",
              "            <tr>\n",
              "                        <th id=\"T_1fc0b0b4_fc44_11eb_8fa9_0242ac1c0002level0_row3\" class=\"row_heading level0 row3\" >genre</th>\n",
              "                        <td id=\"T_1fc0b0b4_fc44_11eb_8fa9_0242ac1c0002row3_col0\" class=\"data row3 col0\" >0.000000</td>\n",
              "            </tr>\n",
              "            <tr>\n",
              "                        <th id=\"T_1fc0b0b4_fc44_11eb_8fa9_0242ac1c0002level0_row4\" class=\"row_heading level0 row4\" >na_sales</th>\n",
              "                        <td id=\"T_1fc0b0b4_fc44_11eb_8fa9_0242ac1c0002row4_col0\" class=\"data row4 col0\" >0.000000</td>\n",
              "            </tr>\n",
              "            <tr>\n",
              "                        <th id=\"T_1fc0b0b4_fc44_11eb_8fa9_0242ac1c0002level0_row5\" class=\"row_heading level0 row5\" >eu_sales</th>\n",
              "                        <td id=\"T_1fc0b0b4_fc44_11eb_8fa9_0242ac1c0002row5_col0\" class=\"data row5 col0\" >0.000000</td>\n",
              "            </tr>\n",
              "            <tr>\n",
              "                        <th id=\"T_1fc0b0b4_fc44_11eb_8fa9_0242ac1c0002level0_row6\" class=\"row_heading level0 row6\" >jp_sales</th>\n",
              "                        <td id=\"T_1fc0b0b4_fc44_11eb_8fa9_0242ac1c0002row6_col0\" class=\"data row6 col0\" >0.000000</td>\n",
              "            </tr>\n",
              "            <tr>\n",
              "                        <th id=\"T_1fc0b0b4_fc44_11eb_8fa9_0242ac1c0002level0_row7\" class=\"row_heading level0 row7\" >other_sales</th>\n",
              "                        <td id=\"T_1fc0b0b4_fc44_11eb_8fa9_0242ac1c0002row7_col0\" class=\"data row7 col0\" >0.000000</td>\n",
              "            </tr>\n",
              "            <tr>\n",
              "                        <th id=\"T_1fc0b0b4_fc44_11eb_8fa9_0242ac1c0002level0_row8\" class=\"row_heading level0 row8\" >critic_score</th>\n",
              "                        <td id=\"T_1fc0b0b4_fc44_11eb_8fa9_0242ac1c0002row8_col0\" class=\"data row8 col0\" >51.310000</td>\n",
              "            </tr>\n",
              "            <tr>\n",
              "                        <th id=\"T_1fc0b0b4_fc44_11eb_8fa9_0242ac1c0002level0_row9\" class=\"row_heading level0 row9\" >user_score</th>\n",
              "                        <td id=\"T_1fc0b0b4_fc44_11eb_8fa9_0242ac1c0002row9_col0\" class=\"data row9 col0\" >54.590000</td>\n",
              "            </tr>\n",
              "            <tr>\n",
              "                        <th id=\"T_1fc0b0b4_fc44_11eb_8fa9_0242ac1c0002level0_row10\" class=\"row_heading level0 row10\" >rating</th>\n",
              "                        <td id=\"T_1fc0b0b4_fc44_11eb_8fa9_0242ac1c0002row10_col0\" class=\"data row10 col0\" >40.470000</td>\n",
              "            </tr>\n",
              "    </tbody></table>"
            ],
            "text/plain": [
              "<pandas.io.formats.style.Styler at 0x7fb245eb5710>"
            ]
          },
          "metadata": {
            "tags": []
          },
          "execution_count": 12
        }
      ]
    },
    {
      "cell_type": "markdown",
      "metadata": {
        "id": "QNG5eaat9rYN"
      },
      "source": [
        "Готово, перейдем к замене типа данных"
      ]
    },
    {
      "cell_type": "markdown",
      "metadata": {
        "id": "AOmhKuSG6l0X"
      },
      "source": [
        "### Замена типа данных"
      ]
    },
    {
      "cell_type": "code",
      "metadata": {
        "id": "uX_f1jnsAYm_",
        "colab": {
          "base_uri": "https://localhost:8080/"
        },
        "outputId": "2c9608f2-32f3-4e0e-90fd-cc8faa3fa499"
      },
      "source": [
        "df.dtypes"
      ],
      "execution_count": 13,
      "outputs": [
        {
          "output_type": "execute_result",
          "data": {
            "text/plain": [
              "name                object\n",
              "platform            object\n",
              "year_of_release    float64\n",
              "genre               object\n",
              "na_sales           float64\n",
              "eu_sales           float64\n",
              "jp_sales           float64\n",
              "other_sales        float64\n",
              "critic_score       float64\n",
              "user_score         float64\n",
              "rating              object\n",
              "dtype: object"
            ]
          },
          "metadata": {
            "tags": []
          },
          "execution_count": 13
        }
      ]
    },
    {
      "cell_type": "markdown",
      "metadata": {
        "id": "wAy6FSHC9wh9"
      },
      "source": [
        "Заменяем:\n",
        "* year_of_release на **int**, потому что год - целочисленный тип"
      ]
    },
    {
      "cell_type": "code",
      "metadata": {
        "id": "pZKdN2RC9wIF"
      },
      "source": [
        "df['year_of_release'] = df['year_of_release'].astype('int')"
      ],
      "execution_count": 14,
      "outputs": []
    },
    {
      "cell_type": "markdown",
      "metadata": {
        "id": "hkN-y425_hzl"
      },
      "source": [
        "### Расчеты"
      ]
    },
    {
      "cell_type": "markdown",
      "metadata": {
        "id": "cuqomtIA_khU"
      },
      "source": [
        "Добавим столбец с суммарными продажами игр"
      ]
    },
    {
      "cell_type": "code",
      "metadata": {
        "id": "Ac9yA-ojA4Ol"
      },
      "source": [
        "df['total_sales'] = df[['na_sales', 'eu_sales', 'jp_sales', 'other_sales']].sum(axis=1)"
      ],
      "execution_count": 15,
      "outputs": []
    },
    {
      "cell_type": "code",
      "metadata": {
        "colab": {
          "base_uri": "https://localhost:8080/",
          "height": 204
        },
        "id": "TYiMR5fbAWKh",
        "outputId": "29054589-8a5d-44c6-dd55-2501addb4584"
      },
      "source": [
        "df.head()"
      ],
      "execution_count": 16,
      "outputs": [
        {
          "output_type": "execute_result",
          "data": {
            "text/html": [
              "<div>\n",
              "<style scoped>\n",
              "    .dataframe tbody tr th:only-of-type {\n",
              "        vertical-align: middle;\n",
              "    }\n",
              "\n",
              "    .dataframe tbody tr th {\n",
              "        vertical-align: top;\n",
              "    }\n",
              "\n",
              "    .dataframe thead th {\n",
              "        text-align: right;\n",
              "    }\n",
              "</style>\n",
              "<table border=\"1\" class=\"dataframe\">\n",
              "  <thead>\n",
              "    <tr style=\"text-align: right;\">\n",
              "      <th></th>\n",
              "      <th>name</th>\n",
              "      <th>platform</th>\n",
              "      <th>year_of_release</th>\n",
              "      <th>genre</th>\n",
              "      <th>na_sales</th>\n",
              "      <th>eu_sales</th>\n",
              "      <th>jp_sales</th>\n",
              "      <th>other_sales</th>\n",
              "      <th>critic_score</th>\n",
              "      <th>user_score</th>\n",
              "      <th>rating</th>\n",
              "      <th>total_sales</th>\n",
              "    </tr>\n",
              "  </thead>\n",
              "  <tbody>\n",
              "    <tr>\n",
              "      <th>0</th>\n",
              "      <td>Wii Sports</td>\n",
              "      <td>Wii</td>\n",
              "      <td>2006</td>\n",
              "      <td>Sports</td>\n",
              "      <td>41.36</td>\n",
              "      <td>28.96</td>\n",
              "      <td>3.77</td>\n",
              "      <td>8.45</td>\n",
              "      <td>76.0</td>\n",
              "      <td>8.0</td>\n",
              "      <td>E</td>\n",
              "      <td>82.54</td>\n",
              "    </tr>\n",
              "    <tr>\n",
              "      <th>1</th>\n",
              "      <td>Super Mario Bros.</td>\n",
              "      <td>NES</td>\n",
              "      <td>1985</td>\n",
              "      <td>Platform</td>\n",
              "      <td>29.08</td>\n",
              "      <td>3.58</td>\n",
              "      <td>6.81</td>\n",
              "      <td>0.77</td>\n",
              "      <td>NaN</td>\n",
              "      <td>NaN</td>\n",
              "      <td>NaN</td>\n",
              "      <td>40.24</td>\n",
              "    </tr>\n",
              "    <tr>\n",
              "      <th>2</th>\n",
              "      <td>Mario Kart Wii</td>\n",
              "      <td>Wii</td>\n",
              "      <td>2008</td>\n",
              "      <td>Racing</td>\n",
              "      <td>15.68</td>\n",
              "      <td>12.76</td>\n",
              "      <td>3.79</td>\n",
              "      <td>3.29</td>\n",
              "      <td>82.0</td>\n",
              "      <td>8.3</td>\n",
              "      <td>E</td>\n",
              "      <td>35.52</td>\n",
              "    </tr>\n",
              "    <tr>\n",
              "      <th>3</th>\n",
              "      <td>Wii Sports Resort</td>\n",
              "      <td>Wii</td>\n",
              "      <td>2009</td>\n",
              "      <td>Sports</td>\n",
              "      <td>15.61</td>\n",
              "      <td>10.93</td>\n",
              "      <td>3.28</td>\n",
              "      <td>2.95</td>\n",
              "      <td>80.0</td>\n",
              "      <td>8.0</td>\n",
              "      <td>E</td>\n",
              "      <td>32.77</td>\n",
              "    </tr>\n",
              "    <tr>\n",
              "      <th>4</th>\n",
              "      <td>Pokemon Red/Pokemon Blue</td>\n",
              "      <td>GB</td>\n",
              "      <td>1996</td>\n",
              "      <td>Role-Playing</td>\n",
              "      <td>11.27</td>\n",
              "      <td>8.89</td>\n",
              "      <td>10.22</td>\n",
              "      <td>1.00</td>\n",
              "      <td>NaN</td>\n",
              "      <td>NaN</td>\n",
              "      <td>NaN</td>\n",
              "      <td>31.38</td>\n",
              "    </tr>\n",
              "  </tbody>\n",
              "</table>\n",
              "</div>"
            ],
            "text/plain": [
              "                       name platform  ...  rating total_sales\n",
              "0                Wii Sports      Wii  ...       E       82.54\n",
              "1         Super Mario Bros.      NES  ...     NaN       40.24\n",
              "2            Mario Kart Wii      Wii  ...       E       35.52\n",
              "3         Wii Sports Resort      Wii  ...       E       32.77\n",
              "4  Pokemon Red/Pokemon Blue       GB  ...     NaN       31.38\n",
              "\n",
              "[5 rows x 12 columns]"
            ]
          },
          "metadata": {
            "tags": []
          },
          "execution_count": 16
        }
      ]
    },
    {
      "cell_type": "markdown",
      "metadata": {
        "id": "rZ7fDQqZAY4L"
      },
      "source": [
        "### Вывод"
      ]
    },
    {
      "cell_type": "markdown",
      "metadata": {
        "id": "ch9byV7XAabA"
      },
      "source": [
        "* Обработали пропуски. Некоторые пропуски не были заполнены за неимением данных, к примеру, tbd - оценка еще не была сформирована. \n",
        "* Заменили тип данных.\n",
        "* Добавили столбец с суммарными продажами во всех регионах"
      ]
    },
    {
      "cell_type": "markdown",
      "metadata": {
        "id": "DekgLf-y-_r4"
      },
      "source": [
        "## Исследовательский анализ данных"
      ]
    },
    {
      "cell_type": "markdown",
      "metadata": {
        "id": "CMIYeXHSPxVM"
      },
      "source": [
        "### Посмотрим, сколько игр выпускалось в разные годы."
      ]
    },
    {
      "cell_type": "code",
      "metadata": {
        "colab": {
          "base_uri": "https://localhost:8080/",
          "height": 542
        },
        "id": "tCvBii-hHgmk",
        "outputId": "815f19b5-a144-4532-c7bc-72ad1c43d1db"
      },
      "source": [
        "dr = (\n",
        "    df\n",
        "        .query('year_of_release != -1')\n",
        "        .groupby('year_of_release', as_index=False)\n",
        "        .agg({'name':'count'})\n",
        "        .rename(columns={'name':'count'})\n",
        ")\n",
        "\n",
        "fig = px.bar(dr, x='year_of_release', y='count',\n",
        "             title='Количество выпущенных игр по годам')\n",
        "fig.show()"
      ],
      "execution_count": 17,
      "outputs": [
        {
          "output_type": "display_data",
          "data": {
            "text/html": [
              "        <script type=\"text/javascript\">\n",
              "        window.PlotlyConfig = {MathJaxConfig: 'local'};\n",
              "        if (window.MathJax) {MathJax.Hub.Config({SVG: {font: \"STIX-Web\"}});}\n",
              "        if (typeof require !== 'undefined') {\n",
              "        require.undef(\"plotly\");\n",
              "        requirejs.config({\n",
              "            paths: {\n",
              "                'plotly': ['https://cdn.plot.ly/plotly-latest.min']\n",
              "            }\n",
              "        });\n",
              "        require(['plotly'], function(Plotly) {\n",
              "            window._Plotly = Plotly;\n",
              "        });\n",
              "        }\n",
              "        </script>\n",
              "        "
            ]
          },
          "metadata": {
            "tags": []
          }
        },
        {
          "output_type": "display_data",
          "data": {
            "text/html": [
              "<div>\n",
              "        \n",
              "        \n",
              "            <div id=\"6068804f-5923-4ca1-9667-2a4ebd5ed5a1\" class=\"plotly-graph-div\" style=\"height:525px; width:100%;\"></div>\n",
              "            <script type=\"text/javascript\">\n",
              "                require([\"plotly\"], function(Plotly) {\n",
              "                    window.PLOTLYENV=window.PLOTLYENV || {};\n",
              "                    \n",
              "                if (document.getElementById(\"6068804f-5923-4ca1-9667-2a4ebd5ed5a1\")) {\n",
              "                    Plotly.newPlot(\n",
              "                        '6068804f-5923-4ca1-9667-2a4ebd5ed5a1',\n",
              "                        [{\"alignmentgroup\": \"True\", \"hoverlabel\": {\"namelength\": 0}, \"hovertemplate\": \"year_of_release=%{x}<br>count=%{y}\", \"legendgroup\": \"\", \"marker\": {\"color\": \"#636efa\"}, \"name\": \"\", \"offsetgroup\": \"\", \"orientation\": \"v\", \"showlegend\": false, \"textposition\": \"auto\", \"type\": \"bar\", \"x\": [1980, 1981, 1982, 1983, 1984, 1985, 1986, 1987, 1988, 1989, 1990, 1991, 1992, 1993, 1994, 1995, 1996, 1997, 1998, 1999, 2000, 2001, 2002, 2003, 2004, 2005, 2006, 2007, 2008, 2009, 2010, 2011, 2012, 2013, 2014, 2015, 2016], \"xaxis\": \"x\", \"y\": [9, 46, 36, 17, 14, 14, 21, 16, 15, 17, 16, 41, 43, 60, 121, 219, 263, 289, 379, 338, 350, 482, 829, 775, 762, 939, 1006, 1197, 1427, 1426, 1255, 1136, 653, 544, 581, 606, 502], \"yaxis\": \"y\"}],\n",
              "                        {\"barmode\": \"relative\", \"legend\": {\"tracegroupgap\": 0}, \"template\": {\"data\": {\"bar\": [{\"error_x\": {\"color\": \"#2a3f5f\"}, \"error_y\": {\"color\": \"#2a3f5f\"}, \"marker\": {\"line\": {\"color\": \"#E5ECF6\", \"width\": 0.5}}, \"type\": \"bar\"}], \"barpolar\": [{\"marker\": {\"line\": {\"color\": \"#E5ECF6\", \"width\": 0.5}}, \"type\": \"barpolar\"}], \"carpet\": [{\"aaxis\": {\"endlinecolor\": \"#2a3f5f\", \"gridcolor\": \"white\", \"linecolor\": \"white\", \"minorgridcolor\": \"white\", \"startlinecolor\": \"#2a3f5f\"}, \"baxis\": {\"endlinecolor\": \"#2a3f5f\", \"gridcolor\": \"white\", \"linecolor\": \"white\", \"minorgridcolor\": \"white\", \"startlinecolor\": \"#2a3f5f\"}, \"type\": \"carpet\"}], \"choropleth\": [{\"colorbar\": {\"outlinewidth\": 0, \"ticks\": \"\"}, \"type\": \"choropleth\"}], \"contour\": [{\"colorbar\": {\"outlinewidth\": 0, \"ticks\": \"\"}, \"colorscale\": [[0.0, \"#0d0887\"], [0.1111111111111111, \"#46039f\"], [0.2222222222222222, \"#7201a8\"], [0.3333333333333333, \"#9c179e\"], [0.4444444444444444, \"#bd3786\"], [0.5555555555555556, \"#d8576b\"], [0.6666666666666666, \"#ed7953\"], [0.7777777777777778, \"#fb9f3a\"], [0.8888888888888888, \"#fdca26\"], [1.0, \"#f0f921\"]], \"type\": \"contour\"}], \"contourcarpet\": [{\"colorbar\": {\"outlinewidth\": 0, \"ticks\": \"\"}, \"type\": \"contourcarpet\"}], \"heatmap\": [{\"colorbar\": {\"outlinewidth\": 0, \"ticks\": \"\"}, \"colorscale\": [[0.0, \"#0d0887\"], [0.1111111111111111, \"#46039f\"], [0.2222222222222222, \"#7201a8\"], [0.3333333333333333, \"#9c179e\"], [0.4444444444444444, \"#bd3786\"], [0.5555555555555556, \"#d8576b\"], [0.6666666666666666, \"#ed7953\"], [0.7777777777777778, \"#fb9f3a\"], [0.8888888888888888, \"#fdca26\"], [1.0, \"#f0f921\"]], \"type\": \"heatmap\"}], \"heatmapgl\": [{\"colorbar\": {\"outlinewidth\": 0, \"ticks\": \"\"}, \"colorscale\": [[0.0, \"#0d0887\"], [0.1111111111111111, \"#46039f\"], [0.2222222222222222, \"#7201a8\"], [0.3333333333333333, \"#9c179e\"], [0.4444444444444444, \"#bd3786\"], [0.5555555555555556, \"#d8576b\"], [0.6666666666666666, \"#ed7953\"], [0.7777777777777778, \"#fb9f3a\"], [0.8888888888888888, \"#fdca26\"], [1.0, \"#f0f921\"]], \"type\": \"heatmapgl\"}], \"histogram\": [{\"marker\": {\"colorbar\": {\"outlinewidth\": 0, \"ticks\": \"\"}}, \"type\": \"histogram\"}], \"histogram2d\": [{\"colorbar\": {\"outlinewidth\": 0, \"ticks\": \"\"}, \"colorscale\": [[0.0, \"#0d0887\"], [0.1111111111111111, \"#46039f\"], [0.2222222222222222, \"#7201a8\"], [0.3333333333333333, \"#9c179e\"], [0.4444444444444444, \"#bd3786\"], [0.5555555555555556, \"#d8576b\"], [0.6666666666666666, \"#ed7953\"], [0.7777777777777778, \"#fb9f3a\"], [0.8888888888888888, \"#fdca26\"], [1.0, \"#f0f921\"]], \"type\": \"histogram2d\"}], \"histogram2dcontour\": [{\"colorbar\": {\"outlinewidth\": 0, \"ticks\": \"\"}, \"colorscale\": [[0.0, \"#0d0887\"], [0.1111111111111111, \"#46039f\"], [0.2222222222222222, \"#7201a8\"], [0.3333333333333333, \"#9c179e\"], [0.4444444444444444, \"#bd3786\"], [0.5555555555555556, \"#d8576b\"], [0.6666666666666666, \"#ed7953\"], [0.7777777777777778, \"#fb9f3a\"], [0.8888888888888888, \"#fdca26\"], [1.0, \"#f0f921\"]], \"type\": \"histogram2dcontour\"}], \"mesh3d\": [{\"colorbar\": {\"outlinewidth\": 0, \"ticks\": \"\"}, \"type\": \"mesh3d\"}], \"parcoords\": [{\"line\": {\"colorbar\": {\"outlinewidth\": 0, \"ticks\": \"\"}}, \"type\": \"parcoords\"}], \"pie\": [{\"automargin\": true, \"type\": \"pie\"}], \"scatter\": [{\"marker\": {\"colorbar\": {\"outlinewidth\": 0, \"ticks\": \"\"}}, \"type\": \"scatter\"}], \"scatter3d\": [{\"line\": {\"colorbar\": {\"outlinewidth\": 0, \"ticks\": \"\"}}, \"marker\": {\"colorbar\": {\"outlinewidth\": 0, \"ticks\": \"\"}}, \"type\": \"scatter3d\"}], \"scattercarpet\": [{\"marker\": {\"colorbar\": {\"outlinewidth\": 0, \"ticks\": \"\"}}, \"type\": \"scattercarpet\"}], \"scattergeo\": [{\"marker\": {\"colorbar\": {\"outlinewidth\": 0, \"ticks\": \"\"}}, \"type\": \"scattergeo\"}], \"scattergl\": [{\"marker\": {\"colorbar\": {\"outlinewidth\": 0, \"ticks\": \"\"}}, \"type\": \"scattergl\"}], \"scattermapbox\": [{\"marker\": {\"colorbar\": {\"outlinewidth\": 0, \"ticks\": \"\"}}, \"type\": \"scattermapbox\"}], \"scatterpolar\": [{\"marker\": {\"colorbar\": {\"outlinewidth\": 0, \"ticks\": \"\"}}, \"type\": \"scatterpolar\"}], \"scatterpolargl\": [{\"marker\": {\"colorbar\": {\"outlinewidth\": 0, \"ticks\": \"\"}}, \"type\": \"scatterpolargl\"}], \"scatterternary\": [{\"marker\": {\"colorbar\": {\"outlinewidth\": 0, \"ticks\": \"\"}}, \"type\": \"scatterternary\"}], \"surface\": [{\"colorbar\": {\"outlinewidth\": 0, \"ticks\": \"\"}, \"colorscale\": [[0.0, \"#0d0887\"], [0.1111111111111111, \"#46039f\"], [0.2222222222222222, \"#7201a8\"], [0.3333333333333333, \"#9c179e\"], [0.4444444444444444, \"#bd3786\"], [0.5555555555555556, \"#d8576b\"], [0.6666666666666666, \"#ed7953\"], [0.7777777777777778, \"#fb9f3a\"], [0.8888888888888888, \"#fdca26\"], [1.0, \"#f0f921\"]], \"type\": \"surface\"}], \"table\": [{\"cells\": {\"fill\": {\"color\": \"#EBF0F8\"}, \"line\": {\"color\": \"white\"}}, \"header\": {\"fill\": {\"color\": \"#C8D4E3\"}, \"line\": {\"color\": \"white\"}}, \"type\": \"table\"}]}, \"layout\": {\"annotationdefaults\": {\"arrowcolor\": \"#2a3f5f\", \"arrowhead\": 0, \"arrowwidth\": 1}, \"coloraxis\": {\"colorbar\": {\"outlinewidth\": 0, \"ticks\": \"\"}}, \"colorscale\": {\"diverging\": [[0, \"#8e0152\"], [0.1, \"#c51b7d\"], [0.2, \"#de77ae\"], [0.3, \"#f1b6da\"], [0.4, \"#fde0ef\"], [0.5, \"#f7f7f7\"], [0.6, \"#e6f5d0\"], [0.7, \"#b8e186\"], [0.8, \"#7fbc41\"], [0.9, \"#4d9221\"], [1, \"#276419\"]], \"sequential\": [[0.0, \"#0d0887\"], [0.1111111111111111, \"#46039f\"], [0.2222222222222222, \"#7201a8\"], [0.3333333333333333, \"#9c179e\"], [0.4444444444444444, \"#bd3786\"], [0.5555555555555556, \"#d8576b\"], [0.6666666666666666, \"#ed7953\"], [0.7777777777777778, \"#fb9f3a\"], [0.8888888888888888, \"#fdca26\"], [1.0, \"#f0f921\"]], \"sequentialminus\": [[0.0, \"#0d0887\"], [0.1111111111111111, \"#46039f\"], [0.2222222222222222, \"#7201a8\"], [0.3333333333333333, \"#9c179e\"], [0.4444444444444444, \"#bd3786\"], [0.5555555555555556, \"#d8576b\"], [0.6666666666666666, \"#ed7953\"], [0.7777777777777778, \"#fb9f3a\"], [0.8888888888888888, \"#fdca26\"], [1.0, \"#f0f921\"]]}, \"colorway\": [\"#636efa\", \"#EF553B\", \"#00cc96\", \"#ab63fa\", \"#FFA15A\", \"#19d3f3\", \"#FF6692\", \"#B6E880\", \"#FF97FF\", \"#FECB52\"], \"font\": {\"color\": \"#2a3f5f\"}, \"geo\": {\"bgcolor\": \"white\", \"lakecolor\": \"white\", \"landcolor\": \"#E5ECF6\", \"showlakes\": true, \"showland\": true, \"subunitcolor\": \"white\"}, \"hoverlabel\": {\"align\": \"left\"}, \"hovermode\": \"closest\", \"mapbox\": {\"style\": \"light\"}, \"paper_bgcolor\": \"white\", \"plot_bgcolor\": \"#E5ECF6\", \"polar\": {\"angularaxis\": {\"gridcolor\": \"white\", \"linecolor\": \"white\", \"ticks\": \"\"}, \"bgcolor\": \"#E5ECF6\", \"radialaxis\": {\"gridcolor\": \"white\", \"linecolor\": \"white\", \"ticks\": \"\"}}, \"scene\": {\"xaxis\": {\"backgroundcolor\": \"#E5ECF6\", \"gridcolor\": \"white\", \"gridwidth\": 2, \"linecolor\": \"white\", \"showbackground\": true, \"ticks\": \"\", \"zerolinecolor\": \"white\"}, \"yaxis\": {\"backgroundcolor\": \"#E5ECF6\", \"gridcolor\": \"white\", \"gridwidth\": 2, \"linecolor\": \"white\", \"showbackground\": true, \"ticks\": \"\", \"zerolinecolor\": \"white\"}, \"zaxis\": {\"backgroundcolor\": \"#E5ECF6\", \"gridcolor\": \"white\", \"gridwidth\": 2, \"linecolor\": \"white\", \"showbackground\": true, \"ticks\": \"\", \"zerolinecolor\": \"white\"}}, \"shapedefaults\": {\"line\": {\"color\": \"#2a3f5f\"}}, \"ternary\": {\"aaxis\": {\"gridcolor\": \"white\", \"linecolor\": \"white\", \"ticks\": \"\"}, \"baxis\": {\"gridcolor\": \"white\", \"linecolor\": \"white\", \"ticks\": \"\"}, \"bgcolor\": \"#E5ECF6\", \"caxis\": {\"gridcolor\": \"white\", \"linecolor\": \"white\", \"ticks\": \"\"}}, \"title\": {\"x\": 0.05}, \"xaxis\": {\"automargin\": true, \"gridcolor\": \"white\", \"linecolor\": \"white\", \"ticks\": \"\", \"title\": {\"standoff\": 15}, \"zerolinecolor\": \"white\", \"zerolinewidth\": 2}, \"yaxis\": {\"automargin\": true, \"gridcolor\": \"white\", \"linecolor\": \"white\", \"ticks\": \"\", \"title\": {\"standoff\": 15}, \"zerolinecolor\": \"white\", \"zerolinewidth\": 2}}}, \"title\": {\"text\": \"\\u041a\\u043e\\u043b\\u0438\\u0447\\u0435\\u0441\\u0442\\u0432\\u043e \\u0432\\u044b\\u043f\\u0443\\u0449\\u0435\\u043d\\u043d\\u044b\\u0445 \\u0438\\u0433\\u0440 \\u043f\\u043e \\u0433\\u043e\\u0434\\u0430\\u043c\"}, \"xaxis\": {\"anchor\": \"y\", \"domain\": [0.0, 1.0], \"title\": {\"text\": \"year_of_release\"}}, \"yaxis\": {\"anchor\": \"x\", \"domain\": [0.0, 1.0], \"title\": {\"text\": \"count\"}}},\n",
              "                        {\"responsive\": true}\n",
              "                    ).then(function(){\n",
              "                            \n",
              "var gd = document.getElementById('6068804f-5923-4ca1-9667-2a4ebd5ed5a1');\n",
              "var x = new MutationObserver(function (mutations, observer) {{\n",
              "        var display = window.getComputedStyle(gd).display;\n",
              "        if (!display || display === 'none') {{\n",
              "            console.log([gd, 'removed!']);\n",
              "            Plotly.purge(gd);\n",
              "            observer.disconnect();\n",
              "        }}\n",
              "}});\n",
              "\n",
              "// Listen for the removal of the full notebook cells\n",
              "var notebookContainer = gd.closest('#notebook-container');\n",
              "if (notebookContainer) {{\n",
              "    x.observe(notebookContainer, {childList: true});\n",
              "}}\n",
              "\n",
              "// Listen for the clearing of the current output cell\n",
              "var outputEl = gd.closest('.output');\n",
              "if (outputEl) {{\n",
              "    x.observe(outputEl, {childList: true});\n",
              "}}\n",
              "\n",
              "                        })\n",
              "                };\n",
              "                });\n",
              "            </script>\n",
              "        </div>"
            ]
          },
          "metadata": {
            "tags": []
          }
        }
      ]
    },
    {
      "cell_type": "markdown",
      "metadata": {
        "id": "ABLxH0B4_S5C"
      },
      "source": [
        "Игры начали выпускать с 1980 года, но на протяжении 10 лет они почти не пользовались спросом. Для нашего исследования лучше взять года, когда видеоигры получили народное признание. Поэтому лучше всего будет взять данные, начиная с 1995 года, когда спрос на видеоигры начал стремительно расти."
      ]
    },
    {
      "cell_type": "markdown",
      "metadata": {
        "id": "xaK67ooR_cZQ"
      },
      "source": [
        "### Посмотрите, как менялись продажи по платформам. Выберите платформы с наибольшими суммарными продажами и постройте распределение по годам. За какой характерный срок появляются новые и исчезают старые платформы"
      ]
    },
    {
      "cell_type": "markdown",
      "metadata": {
        "id": "6dzd_Y-sI1hT"
      },
      "source": [
        "Найдем топ 10 платформ с наибольшими суммарными продажами"
      ]
    },
    {
      "cell_type": "code",
      "metadata": {
        "colab": {
          "base_uri": "https://localhost:8080/",
          "height": 390
        },
        "id": "LwsIScstIhIC",
        "outputId": "6293f4e2-99fe-441d-8adf-b33b7ef93619"
      },
      "source": [
        "top_platform = (\n",
        "    df\n",
        "        .groupby('platform')\n",
        "        .agg({'total_sales':'sum'})\n",
        "        .sort_values(by='total_sales', ascending=False)\n",
        "        .head(10)\n",
        ")\n",
        "top_platform"
      ],
      "execution_count": 18,
      "outputs": [
        {
          "output_type": "execute_result",
          "data": {
            "text/html": [
              "<div>\n",
              "<style scoped>\n",
              "    .dataframe tbody tr th:only-of-type {\n",
              "        vertical-align: middle;\n",
              "    }\n",
              "\n",
              "    .dataframe tbody tr th {\n",
              "        vertical-align: top;\n",
              "    }\n",
              "\n",
              "    .dataframe thead th {\n",
              "        text-align: right;\n",
              "    }\n",
              "</style>\n",
              "<table border=\"1\" class=\"dataframe\">\n",
              "  <thead>\n",
              "    <tr style=\"text-align: right;\">\n",
              "      <th></th>\n",
              "      <th>total_sales</th>\n",
              "    </tr>\n",
              "    <tr>\n",
              "      <th>platform</th>\n",
              "      <th></th>\n",
              "    </tr>\n",
              "  </thead>\n",
              "  <tbody>\n",
              "    <tr>\n",
              "      <th>PS2</th>\n",
              "      <td>1255.77</td>\n",
              "    </tr>\n",
              "    <tr>\n",
              "      <th>X360</th>\n",
              "      <td>971.42</td>\n",
              "    </tr>\n",
              "    <tr>\n",
              "      <th>PS3</th>\n",
              "      <td>939.65</td>\n",
              "    </tr>\n",
              "    <tr>\n",
              "      <th>Wii</th>\n",
              "      <td>907.51</td>\n",
              "    </tr>\n",
              "    <tr>\n",
              "      <th>DS</th>\n",
              "      <td>806.12</td>\n",
              "    </tr>\n",
              "    <tr>\n",
              "      <th>PS</th>\n",
              "      <td>730.86</td>\n",
              "    </tr>\n",
              "    <tr>\n",
              "      <th>GBA</th>\n",
              "      <td>317.85</td>\n",
              "    </tr>\n",
              "    <tr>\n",
              "      <th>PS4</th>\n",
              "      <td>314.14</td>\n",
              "    </tr>\n",
              "    <tr>\n",
              "      <th>PSP</th>\n",
              "      <td>294.05</td>\n",
              "    </tr>\n",
              "    <tr>\n",
              "      <th>PC</th>\n",
              "      <td>259.52</td>\n",
              "    </tr>\n",
              "  </tbody>\n",
              "</table>\n",
              "</div>"
            ],
            "text/plain": [
              "          total_sales\n",
              "platform             \n",
              "PS2           1255.77\n",
              "X360           971.42\n",
              "PS3            939.65\n",
              "Wii            907.51\n",
              "DS             806.12\n",
              "PS             730.86\n",
              "GBA            317.85\n",
              "PS4            314.14\n",
              "PSP            294.05\n",
              "PC             259.52"
            ]
          },
          "metadata": {
            "tags": []
          },
          "execution_count": 18
        }
      ]
    },
    {
      "cell_type": "code",
      "metadata": {
        "colab": {
          "base_uri": "https://localhost:8080/",
          "height": 762
        },
        "id": "HcfZbAefQVOL",
        "outputId": "33923bdc-24ff-44fc-d475-82b710172e0f"
      },
      "source": [
        "top_platform_year = (\n",
        "    df\n",
        "        .query('platform in @top_platform.index and year_of_release >= 1995')\n",
        "        .pivot_table(index='year_of_release',\n",
        "                     columns='platform',\n",
        "                     values='total_sales',\n",
        "                     aggfunc='sum')\n",
        "        .fillna(0)\n",
        ")\n",
        "top_platform_year"
      ],
      "execution_count": 19,
      "outputs": [
        {
          "output_type": "execute_result",
          "data": {
            "text/html": [
              "<div>\n",
              "<style scoped>\n",
              "    .dataframe tbody tr th:only-of-type {\n",
              "        vertical-align: middle;\n",
              "    }\n",
              "\n",
              "    .dataframe tbody tr th {\n",
              "        vertical-align: top;\n",
              "    }\n",
              "\n",
              "    .dataframe thead th {\n",
              "        text-align: right;\n",
              "    }\n",
              "</style>\n",
              "<table border=\"1\" class=\"dataframe\">\n",
              "  <thead>\n",
              "    <tr style=\"text-align: right;\">\n",
              "      <th>platform</th>\n",
              "      <th>DS</th>\n",
              "      <th>GBA</th>\n",
              "      <th>PC</th>\n",
              "      <th>PS</th>\n",
              "      <th>PS2</th>\n",
              "      <th>PS3</th>\n",
              "      <th>PS4</th>\n",
              "      <th>PSP</th>\n",
              "      <th>Wii</th>\n",
              "      <th>X360</th>\n",
              "    </tr>\n",
              "    <tr>\n",
              "      <th>year_of_release</th>\n",
              "      <th></th>\n",
              "      <th></th>\n",
              "      <th></th>\n",
              "      <th></th>\n",
              "      <th></th>\n",
              "      <th></th>\n",
              "      <th></th>\n",
              "      <th></th>\n",
              "      <th></th>\n",
              "      <th></th>\n",
              "    </tr>\n",
              "  </thead>\n",
              "  <tbody>\n",
              "    <tr>\n",
              "      <th>1995</th>\n",
              "      <td>0.00</td>\n",
              "      <td>0.00</td>\n",
              "      <td>4.22</td>\n",
              "      <td>35.96</td>\n",
              "      <td>0.00</td>\n",
              "      <td>0.00</td>\n",
              "      <td>0.00</td>\n",
              "      <td>0.00</td>\n",
              "      <td>0.00</td>\n",
              "      <td>0.00</td>\n",
              "    </tr>\n",
              "    <tr>\n",
              "      <th>1996</th>\n",
              "      <td>0.00</td>\n",
              "      <td>0.00</td>\n",
              "      <td>10.58</td>\n",
              "      <td>94.70</td>\n",
              "      <td>0.00</td>\n",
              "      <td>0.00</td>\n",
              "      <td>0.00</td>\n",
              "      <td>0.00</td>\n",
              "      <td>0.00</td>\n",
              "      <td>0.00</td>\n",
              "    </tr>\n",
              "    <tr>\n",
              "      <th>1997</th>\n",
              "      <td>0.00</td>\n",
              "      <td>0.00</td>\n",
              "      <td>11.27</td>\n",
              "      <td>136.17</td>\n",
              "      <td>0.00</td>\n",
              "      <td>0.00</td>\n",
              "      <td>0.00</td>\n",
              "      <td>0.00</td>\n",
              "      <td>0.00</td>\n",
              "      <td>0.00</td>\n",
              "    </tr>\n",
              "    <tr>\n",
              "      <th>1998</th>\n",
              "      <td>0.00</td>\n",
              "      <td>0.00</td>\n",
              "      <td>3.26</td>\n",
              "      <td>169.49</td>\n",
              "      <td>0.00</td>\n",
              "      <td>0.00</td>\n",
              "      <td>0.00</td>\n",
              "      <td>0.00</td>\n",
              "      <td>0.00</td>\n",
              "      <td>0.00</td>\n",
              "    </tr>\n",
              "    <tr>\n",
              "      <th>1999</th>\n",
              "      <td>0.00</td>\n",
              "      <td>0.00</td>\n",
              "      <td>4.74</td>\n",
              "      <td>144.53</td>\n",
              "      <td>0.00</td>\n",
              "      <td>0.00</td>\n",
              "      <td>0.00</td>\n",
              "      <td>0.00</td>\n",
              "      <td>0.00</td>\n",
              "      <td>0.00</td>\n",
              "    </tr>\n",
              "    <tr>\n",
              "      <th>2000</th>\n",
              "      <td>0.00</td>\n",
              "      <td>0.07</td>\n",
              "      <td>4.66</td>\n",
              "      <td>96.37</td>\n",
              "      <td>39.17</td>\n",
              "      <td>0.00</td>\n",
              "      <td>0.00</td>\n",
              "      <td>0.00</td>\n",
              "      <td>0.00</td>\n",
              "      <td>0.00</td>\n",
              "    </tr>\n",
              "    <tr>\n",
              "      <th>2001</th>\n",
              "      <td>0.00</td>\n",
              "      <td>61.53</td>\n",
              "      <td>5.47</td>\n",
              "      <td>35.59</td>\n",
              "      <td>166.43</td>\n",
              "      <td>0.00</td>\n",
              "      <td>0.00</td>\n",
              "      <td>0.00</td>\n",
              "      <td>0.00</td>\n",
              "      <td>0.00</td>\n",
              "    </tr>\n",
              "    <tr>\n",
              "      <th>2002</th>\n",
              "      <td>0.00</td>\n",
              "      <td>74.16</td>\n",
              "      <td>8.57</td>\n",
              "      <td>6.67</td>\n",
              "      <td>205.38</td>\n",
              "      <td>0.00</td>\n",
              "      <td>0.00</td>\n",
              "      <td>0.00</td>\n",
              "      <td>0.00</td>\n",
              "      <td>0.00</td>\n",
              "    </tr>\n",
              "    <tr>\n",
              "      <th>2003</th>\n",
              "      <td>0.00</td>\n",
              "      <td>56.67</td>\n",
              "      <td>8.84</td>\n",
              "      <td>2.07</td>\n",
              "      <td>184.31</td>\n",
              "      <td>0.00</td>\n",
              "      <td>0.00</td>\n",
              "      <td>0.00</td>\n",
              "      <td>0.00</td>\n",
              "      <td>0.00</td>\n",
              "    </tr>\n",
              "    <tr>\n",
              "      <th>2004</th>\n",
              "      <td>17.27</td>\n",
              "      <td>77.91</td>\n",
              "      <td>10.39</td>\n",
              "      <td>0.00</td>\n",
              "      <td>211.81</td>\n",
              "      <td>0.00</td>\n",
              "      <td>0.00</td>\n",
              "      <td>7.06</td>\n",
              "      <td>0.00</td>\n",
              "      <td>0.00</td>\n",
              "    </tr>\n",
              "    <tr>\n",
              "      <th>2005</th>\n",
              "      <td>130.14</td>\n",
              "      <td>33.86</td>\n",
              "      <td>4.37</td>\n",
              "      <td>0.00</td>\n",
              "      <td>160.66</td>\n",
              "      <td>0.00</td>\n",
              "      <td>0.00</td>\n",
              "      <td>43.84</td>\n",
              "      <td>0.00</td>\n",
              "      <td>8.25</td>\n",
              "    </tr>\n",
              "    <tr>\n",
              "      <th>2006</th>\n",
              "      <td>119.81</td>\n",
              "      <td>5.28</td>\n",
              "      <td>2.85</td>\n",
              "      <td>0.00</td>\n",
              "      <td>103.42</td>\n",
              "      <td>20.96</td>\n",
              "      <td>0.00</td>\n",
              "      <td>55.32</td>\n",
              "      <td>137.15</td>\n",
              "      <td>51.62</td>\n",
              "    </tr>\n",
              "    <tr>\n",
              "      <th>2007</th>\n",
              "      <td>146.94</td>\n",
              "      <td>3.40</td>\n",
              "      <td>9.28</td>\n",
              "      <td>0.00</td>\n",
              "      <td>75.99</td>\n",
              "      <td>73.19</td>\n",
              "      <td>0.00</td>\n",
              "      <td>46.93</td>\n",
              "      <td>152.77</td>\n",
              "      <td>95.41</td>\n",
              "    </tr>\n",
              "    <tr>\n",
              "      <th>2008</th>\n",
              "      <td>145.31</td>\n",
              "      <td>0.00</td>\n",
              "      <td>12.42</td>\n",
              "      <td>0.00</td>\n",
              "      <td>53.90</td>\n",
              "      <td>118.52</td>\n",
              "      <td>0.00</td>\n",
              "      <td>34.55</td>\n",
              "      <td>171.32</td>\n",
              "      <td>135.26</td>\n",
              "    </tr>\n",
              "    <tr>\n",
              "      <th>2009</th>\n",
              "      <td>119.54</td>\n",
              "      <td>0.00</td>\n",
              "      <td>16.91</td>\n",
              "      <td>0.00</td>\n",
              "      <td>26.40</td>\n",
              "      <td>130.93</td>\n",
              "      <td>0.00</td>\n",
              "      <td>37.78</td>\n",
              "      <td>206.97</td>\n",
              "      <td>120.29</td>\n",
              "    </tr>\n",
              "    <tr>\n",
              "      <th>2010</th>\n",
              "      <td>85.02</td>\n",
              "      <td>0.00</td>\n",
              "      <td>24.28</td>\n",
              "      <td>0.00</td>\n",
              "      <td>5.64</td>\n",
              "      <td>142.17</td>\n",
              "      <td>0.00</td>\n",
              "      <td>35.04</td>\n",
              "      <td>127.95</td>\n",
              "      <td>170.03</td>\n",
              "    </tr>\n",
              "    <tr>\n",
              "      <th>2011</th>\n",
              "      <td>26.18</td>\n",
              "      <td>0.00</td>\n",
              "      <td>35.03</td>\n",
              "      <td>0.00</td>\n",
              "      <td>0.45</td>\n",
              "      <td>156.78</td>\n",
              "      <td>0.00</td>\n",
              "      <td>17.82</td>\n",
              "      <td>59.65</td>\n",
              "      <td>143.84</td>\n",
              "    </tr>\n",
              "    <tr>\n",
              "      <th>2012</th>\n",
              "      <td>11.01</td>\n",
              "      <td>0.00</td>\n",
              "      <td>23.22</td>\n",
              "      <td>0.00</td>\n",
              "      <td>0.00</td>\n",
              "      <td>107.36</td>\n",
              "      <td>0.00</td>\n",
              "      <td>7.69</td>\n",
              "      <td>21.71</td>\n",
              "      <td>99.74</td>\n",
              "    </tr>\n",
              "    <tr>\n",
              "      <th>2013</th>\n",
              "      <td>1.54</td>\n",
              "      <td>0.00</td>\n",
              "      <td>12.38</td>\n",
              "      <td>0.00</td>\n",
              "      <td>0.00</td>\n",
              "      <td>113.25</td>\n",
              "      <td>25.99</td>\n",
              "      <td>3.14</td>\n",
              "      <td>8.59</td>\n",
              "      <td>88.58</td>\n",
              "    </tr>\n",
              "    <tr>\n",
              "      <th>2014</th>\n",
              "      <td>0.00</td>\n",
              "      <td>0.00</td>\n",
              "      <td>13.28</td>\n",
              "      <td>0.00</td>\n",
              "      <td>0.00</td>\n",
              "      <td>47.76</td>\n",
              "      <td>100.00</td>\n",
              "      <td>0.24</td>\n",
              "      <td>3.75</td>\n",
              "      <td>34.74</td>\n",
              "    </tr>\n",
              "    <tr>\n",
              "      <th>2015</th>\n",
              "      <td>0.00</td>\n",
              "      <td>0.00</td>\n",
              "      <td>8.52</td>\n",
              "      <td>0.00</td>\n",
              "      <td>0.00</td>\n",
              "      <td>16.82</td>\n",
              "      <td>118.90</td>\n",
              "      <td>0.12</td>\n",
              "      <td>1.14</td>\n",
              "      <td>11.96</td>\n",
              "    </tr>\n",
              "    <tr>\n",
              "      <th>2016</th>\n",
              "      <td>0.00</td>\n",
              "      <td>0.00</td>\n",
              "      <td>5.25</td>\n",
              "      <td>0.00</td>\n",
              "      <td>0.00</td>\n",
              "      <td>3.60</td>\n",
              "      <td>69.25</td>\n",
              "      <td>0.00</td>\n",
              "      <td>0.18</td>\n",
              "      <td>1.52</td>\n",
              "    </tr>\n",
              "  </tbody>\n",
              "</table>\n",
              "</div>"
            ],
            "text/plain": [
              "platform             DS    GBA     PC      PS  ...     PS4    PSP     Wii    X360\n",
              "year_of_release                                ...                               \n",
              "1995               0.00   0.00   4.22   35.96  ...    0.00   0.00    0.00    0.00\n",
              "1996               0.00   0.00  10.58   94.70  ...    0.00   0.00    0.00    0.00\n",
              "1997               0.00   0.00  11.27  136.17  ...    0.00   0.00    0.00    0.00\n",
              "1998               0.00   0.00   3.26  169.49  ...    0.00   0.00    0.00    0.00\n",
              "1999               0.00   0.00   4.74  144.53  ...    0.00   0.00    0.00    0.00\n",
              "2000               0.00   0.07   4.66   96.37  ...    0.00   0.00    0.00    0.00\n",
              "2001               0.00  61.53   5.47   35.59  ...    0.00   0.00    0.00    0.00\n",
              "2002               0.00  74.16   8.57    6.67  ...    0.00   0.00    0.00    0.00\n",
              "2003               0.00  56.67   8.84    2.07  ...    0.00   0.00    0.00    0.00\n",
              "2004              17.27  77.91  10.39    0.00  ...    0.00   7.06    0.00    0.00\n",
              "2005             130.14  33.86   4.37    0.00  ...    0.00  43.84    0.00    8.25\n",
              "2006             119.81   5.28   2.85    0.00  ...    0.00  55.32  137.15   51.62\n",
              "2007             146.94   3.40   9.28    0.00  ...    0.00  46.93  152.77   95.41\n",
              "2008             145.31   0.00  12.42    0.00  ...    0.00  34.55  171.32  135.26\n",
              "2009             119.54   0.00  16.91    0.00  ...    0.00  37.78  206.97  120.29\n",
              "2010              85.02   0.00  24.28    0.00  ...    0.00  35.04  127.95  170.03\n",
              "2011              26.18   0.00  35.03    0.00  ...    0.00  17.82   59.65  143.84\n",
              "2012              11.01   0.00  23.22    0.00  ...    0.00   7.69   21.71   99.74\n",
              "2013               1.54   0.00  12.38    0.00  ...   25.99   3.14    8.59   88.58\n",
              "2014               0.00   0.00  13.28    0.00  ...  100.00   0.24    3.75   34.74\n",
              "2015               0.00   0.00   8.52    0.00  ...  118.90   0.12    1.14   11.96\n",
              "2016               0.00   0.00   5.25    0.00  ...   69.25   0.00    0.18    1.52\n",
              "\n",
              "[22 rows x 10 columns]"
            ]
          },
          "metadata": {
            "tags": []
          },
          "execution_count": 19
        }
      ]
    },
    {
      "cell_type": "code",
      "metadata": {
        "colab": {
          "base_uri": "https://localhost:8080/",
          "height": 542
        },
        "id": "RgDA0vJ1MLFG",
        "outputId": "4c6a13bc-2d67-47f7-c7b0-ed4e2a946814"
      },
      "source": [
        "dr = (\n",
        "    df\n",
        "        .query('platform in @top_platform.index and year_of_release >= 1995')\n",
        "        .groupby(['year_of_release', 'platform'], as_index=False)\n",
        "        .agg({'total_sales':'sum'})\n",
        ")\n",
        "\n",
        "fig = px.bar(dr, x='year_of_release', y='total_sales', color='platform',\n",
        "             title='Продажи на разных платформах по годам, млн. копий')\n",
        "\n",
        "fig.show()"
      ],
      "execution_count": 20,
      "outputs": [
        {
          "output_type": "display_data",
          "data": {
            "text/html": [
              "<div>\n",
              "        \n",
              "        \n",
              "            <div id=\"45c4f49b-4342-4350-8f87-6f2f4f9ab007\" class=\"plotly-graph-div\" style=\"height:525px; width:100%;\"></div>\n",
              "            <script type=\"text/javascript\">\n",
              "                require([\"plotly\"], function(Plotly) {\n",
              "                    window.PLOTLYENV=window.PLOTLYENV || {};\n",
              "                    \n",
              "                if (document.getElementById(\"45c4f49b-4342-4350-8f87-6f2f4f9ab007\")) {\n",
              "                    Plotly.newPlot(\n",
              "                        '45c4f49b-4342-4350-8f87-6f2f4f9ab007',\n",
              "                        [{\"alignmentgroup\": \"True\", \"hoverlabel\": {\"namelength\": 0}, \"hovertemplate\": \"platform=PC<br>year_of_release=%{x}<br>total_sales=%{y}\", \"legendgroup\": \"platform=PC\", \"marker\": {\"color\": \"#636efa\"}, \"name\": \"platform=PC\", \"offsetgroup\": \"platform=PC\", \"orientation\": \"v\", \"showlegend\": true, \"textposition\": \"auto\", \"type\": \"bar\", \"x\": [1995, 1996, 1997, 1998, 1999, 2000, 2001, 2002, 2003, 2004, 2005, 2006, 2007, 2008, 2009, 2010, 2011, 2012, 2013, 2014, 2015, 2016], \"xaxis\": \"x\", \"y\": [4.22, 10.58, 11.27, 3.26, 4.739999999999999, 4.659999999999998, 5.469999999999999, 8.569999999999997, 8.839999999999991, 10.389999999999995, 4.369999999999995, 2.849999999999998, 9.279999999999987, 12.41999999999998, 16.910000000000025, 24.28000000000002, 35.03000000000001, 23.21999999999999, 12.379999999999997, 13.279999999999994, 8.51999999999999, 5.249999999999997], \"yaxis\": \"y\"}, {\"alignmentgroup\": \"True\", \"hoverlabel\": {\"namelength\": 0}, \"hovertemplate\": \"platform=PS<br>year_of_release=%{x}<br>total_sales=%{y}\", \"legendgroup\": \"platform=PS\", \"marker\": {\"color\": \"#EF553B\"}, \"name\": \"platform=PS\", \"offsetgroup\": \"platform=PS\", \"orientation\": \"v\", \"showlegend\": true, \"textposition\": \"auto\", \"type\": \"bar\", \"x\": [1995, 1996, 1997, 1998, 1999, 2000, 2001, 2002, 2003], \"xaxis\": \"x\", \"y\": [35.96, 94.69999999999989, 136.16999999999996, 169.49000000000004, 144.53000000000046, 96.36999999999993, 35.59000000000001, 6.669999999999998, 2.0700000000000003], \"yaxis\": \"y\"}, {\"alignmentgroup\": \"True\", \"hoverlabel\": {\"namelength\": 0}, \"hovertemplate\": \"platform=GBA<br>year_of_release=%{x}<br>total_sales=%{y}\", \"legendgroup\": \"platform=GBA\", \"marker\": {\"color\": \"#00cc96\"}, \"name\": \"platform=GBA\", \"offsetgroup\": \"platform=GBA\", \"orientation\": \"v\", \"showlegend\": true, \"textposition\": \"auto\", \"type\": \"bar\", \"x\": [2000, 2001, 2002, 2003, 2004, 2005, 2006, 2007], \"xaxis\": \"x\", \"y\": [0.07, 61.52999999999999, 74.16000000000012, 56.66999999999993, 77.91000000000005, 33.86000000000001, 5.280000000000001, 3.3999999999999995], \"yaxis\": \"y\"}, {\"alignmentgroup\": \"True\", \"hoverlabel\": {\"namelength\": 0}, \"hovertemplate\": \"platform=PS2<br>year_of_release=%{x}<br>total_sales=%{y}\", \"legendgroup\": \"platform=PS2\", \"marker\": {\"color\": \"#ab63fa\"}, \"name\": \"platform=PS2\", \"offsetgroup\": \"platform=PS2\", \"orientation\": \"v\", \"showlegend\": true, \"textposition\": \"auto\", \"type\": \"bar\", \"x\": [2000, 2001, 2002, 2003, 2004, 2005, 2006, 2007, 2008, 2009, 2010, 2011], \"xaxis\": \"x\", \"y\": [39.170000000000016, 166.43000000000012, 205.37999999999997, 184.30999999999986, 211.80999999999992, 160.6600000000002, 103.41999999999989, 75.99000000000001, 53.90000000000004, 26.400000000000006, 5.639999999999996, 0.45], \"yaxis\": \"y\"}, {\"alignmentgroup\": \"True\", \"hoverlabel\": {\"namelength\": 0}, \"hovertemplate\": \"platform=DS<br>year_of_release=%{x}<br>total_sales=%{y}\", \"legendgroup\": \"platform=DS\", \"marker\": {\"color\": \"#FFA15A\"}, \"name\": \"platform=DS\", \"offsetgroup\": \"platform=DS\", \"orientation\": \"v\", \"showlegend\": true, \"textposition\": \"auto\", \"type\": \"bar\", \"x\": [2004, 2005, 2006, 2007, 2008, 2009, 2010, 2011, 2012, 2013], \"xaxis\": \"x\", \"y\": [17.269999999999996, 130.14000000000013, 119.80999999999999, 146.9400000000003, 145.31000000000074, 119.54000000000009, 85.02, 26.179999999999996, 11.009999999999996, 1.54], \"yaxis\": \"y\"}, {\"alignmentgroup\": \"True\", \"hoverlabel\": {\"namelength\": 0}, \"hovertemplate\": \"platform=PSP<br>year_of_release=%{x}<br>total_sales=%{y}\", \"legendgroup\": \"platform=PSP\", \"marker\": {\"color\": \"#19d3f3\"}, \"name\": \"platform=PSP\", \"offsetgroup\": \"platform=PSP\", \"orientation\": \"v\", \"showlegend\": true, \"textposition\": \"auto\", \"type\": \"bar\", \"x\": [2004, 2005, 2006, 2007, 2008, 2009, 2010, 2011, 2012, 2013, 2014, 2015], \"xaxis\": \"x\", \"y\": [7.06, 43.83999999999999, 55.32000000000003, 46.930000000000014, 34.55000000000005, 37.780000000000044, 35.04000000000007, 17.820000000000014, 7.68999999999999, 3.139999999999996, 0.24000000000000005, 0.12000000000000001], \"yaxis\": \"y\"}, {\"alignmentgroup\": \"True\", \"hoverlabel\": {\"namelength\": 0}, \"hovertemplate\": \"platform=X360<br>year_of_release=%{x}<br>total_sales=%{y}\", \"legendgroup\": \"platform=X360\", \"marker\": {\"color\": \"#FF6692\"}, \"name\": \"platform=X360\", \"offsetgroup\": \"platform=X360\", \"orientation\": \"v\", \"showlegend\": true, \"textposition\": \"auto\", \"type\": \"bar\", \"x\": [2005, 2006, 2007, 2008, 2009, 2010, 2011, 2012, 2013, 2014, 2015, 2016], \"xaxis\": \"x\", \"y\": [8.25, 51.62, 95.41000000000001, 135.26000000000005, 120.29, 170.02999999999992, 143.8400000000003, 99.7400000000001, 88.58000000000008, 34.739999999999995, 11.959999999999997, 1.5200000000000002], \"yaxis\": \"y\"}, {\"alignmentgroup\": \"True\", \"hoverlabel\": {\"namelength\": 0}, \"hovertemplate\": \"platform=PS3<br>year_of_release=%{x}<br>total_sales=%{y}\", \"legendgroup\": \"platform=PS3\", \"marker\": {\"color\": \"#B6E880\"}, \"name\": \"platform=PS3\", \"offsetgroup\": \"platform=PS3\", \"orientation\": \"v\", \"showlegend\": true, \"textposition\": \"auto\", \"type\": \"bar\", \"x\": [2006, 2007, 2008, 2009, 2010, 2011, 2012, 2013, 2014, 2015, 2016], \"xaxis\": \"x\", \"y\": [20.960000000000004, 73.19000000000001, 118.52000000000001, 130.9300000000001, 142.17000000000004, 156.7800000000001, 107.36000000000001, 113.24999999999999, 47.76000000000002, 16.820000000000007, 3.5999999999999988], \"yaxis\": \"y\"}, {\"alignmentgroup\": \"True\", \"hoverlabel\": {\"namelength\": 0}, \"hovertemplate\": \"platform=Wii<br>year_of_release=%{x}<br>total_sales=%{y}\", \"legendgroup\": \"platform=Wii\", \"marker\": {\"color\": \"#FF97FF\"}, \"name\": \"platform=Wii\", \"offsetgroup\": \"platform=Wii\", \"orientation\": \"v\", \"showlegend\": true, \"textposition\": \"auto\", \"type\": \"bar\", \"x\": [2006, 2007, 2008, 2009, 2010, 2011, 2012, 2013, 2014, 2015, 2016], \"xaxis\": \"x\", \"y\": [137.14999999999992, 152.76999999999998, 171.31999999999996, 206.97000000000028, 127.95, 59.65000000000003, 21.710000000000008, 8.59, 3.75, 1.14, 0.18], \"yaxis\": \"y\"}, {\"alignmentgroup\": \"True\", \"hoverlabel\": {\"namelength\": 0}, \"hovertemplate\": \"platform=PS4<br>year_of_release=%{x}<br>total_sales=%{y}\", \"legendgroup\": \"platform=PS4\", \"marker\": {\"color\": \"#FECB52\"}, \"name\": \"platform=PS4\", \"offsetgroup\": \"platform=PS4\", \"orientation\": \"v\", \"showlegend\": true, \"textposition\": \"auto\", \"type\": \"bar\", \"x\": [2013, 2014, 2015, 2016], \"xaxis\": \"x\", \"y\": [25.990000000000002, 99.99999999999996, 118.90000000000008, 69.25000000000001], \"yaxis\": \"y\"}],\n",
              "                        {\"barmode\": \"relative\", \"legend\": {\"tracegroupgap\": 0}, \"template\": {\"data\": {\"bar\": [{\"error_x\": {\"color\": \"#2a3f5f\"}, \"error_y\": {\"color\": \"#2a3f5f\"}, \"marker\": {\"line\": {\"color\": \"#E5ECF6\", \"width\": 0.5}}, \"type\": \"bar\"}], \"barpolar\": [{\"marker\": {\"line\": {\"color\": \"#E5ECF6\", \"width\": 0.5}}, \"type\": \"barpolar\"}], \"carpet\": [{\"aaxis\": {\"endlinecolor\": \"#2a3f5f\", \"gridcolor\": \"white\", \"linecolor\": \"white\", \"minorgridcolor\": \"white\", \"startlinecolor\": \"#2a3f5f\"}, \"baxis\": {\"endlinecolor\": \"#2a3f5f\", \"gridcolor\": \"white\", \"linecolor\": \"white\", \"minorgridcolor\": \"white\", \"startlinecolor\": \"#2a3f5f\"}, \"type\": \"carpet\"}], \"choropleth\": [{\"colorbar\": {\"outlinewidth\": 0, \"ticks\": \"\"}, \"type\": \"choropleth\"}], \"contour\": [{\"colorbar\": {\"outlinewidth\": 0, \"ticks\": \"\"}, \"colorscale\": [[0.0, \"#0d0887\"], [0.1111111111111111, \"#46039f\"], [0.2222222222222222, \"#7201a8\"], [0.3333333333333333, \"#9c179e\"], [0.4444444444444444, \"#bd3786\"], [0.5555555555555556, \"#d8576b\"], [0.6666666666666666, \"#ed7953\"], [0.7777777777777778, \"#fb9f3a\"], [0.8888888888888888, \"#fdca26\"], [1.0, \"#f0f921\"]], \"type\": \"contour\"}], \"contourcarpet\": [{\"colorbar\": {\"outlinewidth\": 0, \"ticks\": \"\"}, \"type\": \"contourcarpet\"}], \"heatmap\": [{\"colorbar\": {\"outlinewidth\": 0, \"ticks\": \"\"}, \"colorscale\": [[0.0, \"#0d0887\"], [0.1111111111111111, \"#46039f\"], [0.2222222222222222, \"#7201a8\"], [0.3333333333333333, \"#9c179e\"], [0.4444444444444444, \"#bd3786\"], [0.5555555555555556, \"#d8576b\"], [0.6666666666666666, \"#ed7953\"], [0.7777777777777778, \"#fb9f3a\"], [0.8888888888888888, \"#fdca26\"], [1.0, \"#f0f921\"]], \"type\": \"heatmap\"}], \"heatmapgl\": [{\"colorbar\": {\"outlinewidth\": 0, \"ticks\": \"\"}, \"colorscale\": [[0.0, \"#0d0887\"], [0.1111111111111111, \"#46039f\"], [0.2222222222222222, \"#7201a8\"], [0.3333333333333333, \"#9c179e\"], [0.4444444444444444, \"#bd3786\"], [0.5555555555555556, \"#d8576b\"], [0.6666666666666666, \"#ed7953\"], [0.7777777777777778, \"#fb9f3a\"], [0.8888888888888888, \"#fdca26\"], [1.0, \"#f0f921\"]], \"type\": \"heatmapgl\"}], \"histogram\": [{\"marker\": {\"colorbar\": {\"outlinewidth\": 0, \"ticks\": \"\"}}, \"type\": \"histogram\"}], \"histogram2d\": [{\"colorbar\": {\"outlinewidth\": 0, \"ticks\": \"\"}, \"colorscale\": [[0.0, \"#0d0887\"], [0.1111111111111111, \"#46039f\"], [0.2222222222222222, \"#7201a8\"], [0.3333333333333333, \"#9c179e\"], [0.4444444444444444, \"#bd3786\"], [0.5555555555555556, \"#d8576b\"], [0.6666666666666666, \"#ed7953\"], [0.7777777777777778, \"#fb9f3a\"], [0.8888888888888888, \"#fdca26\"], [1.0, \"#f0f921\"]], \"type\": \"histogram2d\"}], \"histogram2dcontour\": [{\"colorbar\": {\"outlinewidth\": 0, \"ticks\": \"\"}, \"colorscale\": [[0.0, \"#0d0887\"], [0.1111111111111111, \"#46039f\"], [0.2222222222222222, \"#7201a8\"], [0.3333333333333333, \"#9c179e\"], [0.4444444444444444, \"#bd3786\"], [0.5555555555555556, \"#d8576b\"], [0.6666666666666666, \"#ed7953\"], [0.7777777777777778, \"#fb9f3a\"], [0.8888888888888888, \"#fdca26\"], [1.0, \"#f0f921\"]], \"type\": \"histogram2dcontour\"}], \"mesh3d\": [{\"colorbar\": {\"outlinewidth\": 0, \"ticks\": \"\"}, \"type\": \"mesh3d\"}], \"parcoords\": [{\"line\": {\"colorbar\": {\"outlinewidth\": 0, \"ticks\": \"\"}}, \"type\": \"parcoords\"}], \"pie\": [{\"automargin\": true, \"type\": \"pie\"}], \"scatter\": [{\"marker\": {\"colorbar\": {\"outlinewidth\": 0, \"ticks\": \"\"}}, \"type\": \"scatter\"}], \"scatter3d\": [{\"line\": {\"colorbar\": {\"outlinewidth\": 0, \"ticks\": \"\"}}, \"marker\": {\"colorbar\": {\"outlinewidth\": 0, \"ticks\": \"\"}}, \"type\": \"scatter3d\"}], \"scattercarpet\": [{\"marker\": {\"colorbar\": {\"outlinewidth\": 0, \"ticks\": \"\"}}, \"type\": \"scattercarpet\"}], \"scattergeo\": [{\"marker\": {\"colorbar\": {\"outlinewidth\": 0, \"ticks\": \"\"}}, \"type\": \"scattergeo\"}], \"scattergl\": [{\"marker\": {\"colorbar\": {\"outlinewidth\": 0, \"ticks\": \"\"}}, \"type\": \"scattergl\"}], \"scattermapbox\": [{\"marker\": {\"colorbar\": {\"outlinewidth\": 0, \"ticks\": \"\"}}, \"type\": \"scattermapbox\"}], \"scatterpolar\": [{\"marker\": {\"colorbar\": {\"outlinewidth\": 0, \"ticks\": \"\"}}, \"type\": \"scatterpolar\"}], \"scatterpolargl\": [{\"marker\": {\"colorbar\": {\"outlinewidth\": 0, \"ticks\": \"\"}}, \"type\": \"scatterpolargl\"}], \"scatterternary\": [{\"marker\": {\"colorbar\": {\"outlinewidth\": 0, \"ticks\": \"\"}}, \"type\": \"scatterternary\"}], \"surface\": [{\"colorbar\": {\"outlinewidth\": 0, \"ticks\": \"\"}, \"colorscale\": [[0.0, \"#0d0887\"], [0.1111111111111111, \"#46039f\"], [0.2222222222222222, \"#7201a8\"], [0.3333333333333333, \"#9c179e\"], [0.4444444444444444, \"#bd3786\"], [0.5555555555555556, \"#d8576b\"], [0.6666666666666666, \"#ed7953\"], [0.7777777777777778, \"#fb9f3a\"], [0.8888888888888888, \"#fdca26\"], [1.0, \"#f0f921\"]], \"type\": \"surface\"}], \"table\": [{\"cells\": {\"fill\": {\"color\": \"#EBF0F8\"}, \"line\": {\"color\": \"white\"}}, \"header\": {\"fill\": {\"color\": \"#C8D4E3\"}, \"line\": {\"color\": \"white\"}}, \"type\": \"table\"}]}, \"layout\": {\"annotationdefaults\": {\"arrowcolor\": \"#2a3f5f\", \"arrowhead\": 0, \"arrowwidth\": 1}, \"coloraxis\": {\"colorbar\": {\"outlinewidth\": 0, \"ticks\": \"\"}}, \"colorscale\": {\"diverging\": [[0, \"#8e0152\"], [0.1, \"#c51b7d\"], [0.2, \"#de77ae\"], [0.3, \"#f1b6da\"], [0.4, \"#fde0ef\"], [0.5, \"#f7f7f7\"], [0.6, \"#e6f5d0\"], [0.7, \"#b8e186\"], [0.8, \"#7fbc41\"], [0.9, \"#4d9221\"], [1, \"#276419\"]], \"sequential\": [[0.0, \"#0d0887\"], [0.1111111111111111, \"#46039f\"], [0.2222222222222222, \"#7201a8\"], [0.3333333333333333, \"#9c179e\"], [0.4444444444444444, \"#bd3786\"], [0.5555555555555556, \"#d8576b\"], [0.6666666666666666, \"#ed7953\"], [0.7777777777777778, \"#fb9f3a\"], [0.8888888888888888, \"#fdca26\"], [1.0, \"#f0f921\"]], \"sequentialminus\": [[0.0, \"#0d0887\"], [0.1111111111111111, \"#46039f\"], [0.2222222222222222, \"#7201a8\"], [0.3333333333333333, \"#9c179e\"], [0.4444444444444444, \"#bd3786\"], [0.5555555555555556, \"#d8576b\"], [0.6666666666666666, \"#ed7953\"], [0.7777777777777778, \"#fb9f3a\"], [0.8888888888888888, \"#fdca26\"], [1.0, \"#f0f921\"]]}, \"colorway\": [\"#636efa\", \"#EF553B\", \"#00cc96\", \"#ab63fa\", \"#FFA15A\", \"#19d3f3\", \"#FF6692\", \"#B6E880\", \"#FF97FF\", \"#FECB52\"], \"font\": {\"color\": \"#2a3f5f\"}, \"geo\": {\"bgcolor\": \"white\", \"lakecolor\": \"white\", \"landcolor\": \"#E5ECF6\", \"showlakes\": true, \"showland\": true, \"subunitcolor\": \"white\"}, \"hoverlabel\": {\"align\": \"left\"}, \"hovermode\": \"closest\", \"mapbox\": {\"style\": \"light\"}, \"paper_bgcolor\": \"white\", \"plot_bgcolor\": \"#E5ECF6\", \"polar\": {\"angularaxis\": {\"gridcolor\": \"white\", \"linecolor\": \"white\", \"ticks\": \"\"}, \"bgcolor\": \"#E5ECF6\", \"radialaxis\": {\"gridcolor\": \"white\", \"linecolor\": \"white\", \"ticks\": \"\"}}, \"scene\": {\"xaxis\": {\"backgroundcolor\": \"#E5ECF6\", \"gridcolor\": \"white\", \"gridwidth\": 2, \"linecolor\": \"white\", \"showbackground\": true, \"ticks\": \"\", \"zerolinecolor\": \"white\"}, \"yaxis\": {\"backgroundcolor\": \"#E5ECF6\", \"gridcolor\": \"white\", \"gridwidth\": 2, \"linecolor\": \"white\", \"showbackground\": true, \"ticks\": \"\", \"zerolinecolor\": \"white\"}, \"zaxis\": {\"backgroundcolor\": \"#E5ECF6\", \"gridcolor\": \"white\", \"gridwidth\": 2, \"linecolor\": \"white\", \"showbackground\": true, \"ticks\": \"\", \"zerolinecolor\": \"white\"}}, \"shapedefaults\": {\"line\": {\"color\": \"#2a3f5f\"}}, \"ternary\": {\"aaxis\": {\"gridcolor\": \"white\", \"linecolor\": \"white\", \"ticks\": \"\"}, \"baxis\": {\"gridcolor\": \"white\", \"linecolor\": \"white\", \"ticks\": \"\"}, \"bgcolor\": \"#E5ECF6\", \"caxis\": {\"gridcolor\": \"white\", \"linecolor\": \"white\", \"ticks\": \"\"}}, \"title\": {\"x\": 0.05}, \"xaxis\": {\"automargin\": true, \"gridcolor\": \"white\", \"linecolor\": \"white\", \"ticks\": \"\", \"title\": {\"standoff\": 15}, \"zerolinecolor\": \"white\", \"zerolinewidth\": 2}, \"yaxis\": {\"automargin\": true, \"gridcolor\": \"white\", \"linecolor\": \"white\", \"ticks\": \"\", \"title\": {\"standoff\": 15}, \"zerolinecolor\": \"white\", \"zerolinewidth\": 2}}}, \"title\": {\"text\": \"\\u041f\\u0440\\u043e\\u0434\\u0430\\u0436\\u0438 \\u043d\\u0430 \\u0440\\u0430\\u0437\\u043d\\u044b\\u0445 \\u043f\\u043b\\u0430\\u0442\\u0444\\u043e\\u0440\\u043c\\u0430\\u0445 \\u043f\\u043e \\u0433\\u043e\\u0434\\u0430\\u043c, \\u043c\\u043b\\u043d. \\u043a\\u043e\\u043f\\u0438\\u0439\"}, \"xaxis\": {\"anchor\": \"y\", \"domain\": [0.0, 1.0], \"title\": {\"text\": \"year_of_release\"}}, \"yaxis\": {\"anchor\": \"x\", \"domain\": [0.0, 1.0], \"title\": {\"text\": \"total_sales\"}}},\n",
              "                        {\"responsive\": true}\n",
              "                    ).then(function(){\n",
              "                            \n",
              "var gd = document.getElementById('45c4f49b-4342-4350-8f87-6f2f4f9ab007');\n",
              "var x = new MutationObserver(function (mutations, observer) {{\n",
              "        var display = window.getComputedStyle(gd).display;\n",
              "        if (!display || display === 'none') {{\n",
              "            console.log([gd, 'removed!']);\n",
              "            Plotly.purge(gd);\n",
              "            observer.disconnect();\n",
              "        }}\n",
              "}});\n",
              "\n",
              "// Listen for the removal of the full notebook cells\n",
              "var notebookContainer = gd.closest('#notebook-container');\n",
              "if (notebookContainer) {{\n",
              "    x.observe(notebookContainer, {childList: true});\n",
              "}}\n",
              "\n",
              "// Listen for the clearing of the current output cell\n",
              "var outputEl = gd.closest('.output');\n",
              "if (outputEl) {{\n",
              "    x.observe(outputEl, {childList: true});\n",
              "}}\n",
              "\n",
              "                        })\n",
              "                };\n",
              "                });\n",
              "            </script>\n",
              "        </div>"
            ]
          },
          "metadata": {
            "tags": []
          }
        }
      ]
    },
    {
      "cell_type": "markdown",
      "metadata": {
        "id": "9Sdtp3KJX_6X"
      },
      "source": [
        "Прекрасно видно, что в среднем платформа \"живет\" примерно 8 лет. \n",
        "\n",
        "Значит, по сути, для прогноза на 2017 год актуальным будет период с 2009 года. Но, если посмотреть на график, то мы увидим, что данные с 2009 года могут подпортить нам результаты, потому что, к примеру, платформы 'Wii', 'PS3', 'X360' к 2016 году уже \"прожили свое\", а 'PS4', который сейчас 'на высоте', появился только в 2013 году. Так что, считаю, что будет правильнее считать актуальным период с 2013 года.\n"
      ]
    },
    {
      "cell_type": "markdown",
      "metadata": {
        "id": "v2983ZFt_go2"
      },
      "source": [
        "### Возьмите данные за соответствующий актуальный период. Актуальный период определите самостоятельно в результате исследования предыдущих вопросов. Основной фактор — эти данные помогут построить прогноз на 2017 год."
      ]
    },
    {
      "cell_type": "markdown",
      "metadata": {
        "id": "5WomM6nebtGC"
      },
      "source": [
        "Мы решили, что актуальным для нас будет период с 2013 года"
      ]
    },
    {
      "cell_type": "code",
      "metadata": {
        "id": "hz64_3LF_jn3",
        "colab": {
          "base_uri": "https://localhost:8080/",
          "height": 204
        },
        "outputId": "ecbe6838-bcbb-4bd9-9e6c-24c0a8cf229b"
      },
      "source": [
        "df = df.query('year_of_release >= 2013').reset_index(drop=True)\n",
        "df.head()"
      ],
      "execution_count": 21,
      "outputs": [
        {
          "output_type": "execute_result",
          "data": {
            "text/html": [
              "<div>\n",
              "<style scoped>\n",
              "    .dataframe tbody tr th:only-of-type {\n",
              "        vertical-align: middle;\n",
              "    }\n",
              "\n",
              "    .dataframe tbody tr th {\n",
              "        vertical-align: top;\n",
              "    }\n",
              "\n",
              "    .dataframe thead th {\n",
              "        text-align: right;\n",
              "    }\n",
              "</style>\n",
              "<table border=\"1\" class=\"dataframe\">\n",
              "  <thead>\n",
              "    <tr style=\"text-align: right;\">\n",
              "      <th></th>\n",
              "      <th>name</th>\n",
              "      <th>platform</th>\n",
              "      <th>year_of_release</th>\n",
              "      <th>genre</th>\n",
              "      <th>na_sales</th>\n",
              "      <th>eu_sales</th>\n",
              "      <th>jp_sales</th>\n",
              "      <th>other_sales</th>\n",
              "      <th>critic_score</th>\n",
              "      <th>user_score</th>\n",
              "      <th>rating</th>\n",
              "      <th>total_sales</th>\n",
              "    </tr>\n",
              "  </thead>\n",
              "  <tbody>\n",
              "    <tr>\n",
              "      <th>0</th>\n",
              "      <td>Grand Theft Auto V</td>\n",
              "      <td>PS3</td>\n",
              "      <td>2013</td>\n",
              "      <td>Action</td>\n",
              "      <td>7.02</td>\n",
              "      <td>9.09</td>\n",
              "      <td>0.98</td>\n",
              "      <td>3.96</td>\n",
              "      <td>97.0</td>\n",
              "      <td>8.2</td>\n",
              "      <td>M</td>\n",
              "      <td>21.05</td>\n",
              "    </tr>\n",
              "    <tr>\n",
              "      <th>1</th>\n",
              "      <td>Grand Theft Auto V</td>\n",
              "      <td>X360</td>\n",
              "      <td>2013</td>\n",
              "      <td>Action</td>\n",
              "      <td>9.66</td>\n",
              "      <td>5.14</td>\n",
              "      <td>0.06</td>\n",
              "      <td>1.41</td>\n",
              "      <td>97.0</td>\n",
              "      <td>8.1</td>\n",
              "      <td>M</td>\n",
              "      <td>16.27</td>\n",
              "    </tr>\n",
              "    <tr>\n",
              "      <th>2</th>\n",
              "      <td>Call of Duty: Black Ops 3</td>\n",
              "      <td>PS4</td>\n",
              "      <td>2015</td>\n",
              "      <td>Shooter</td>\n",
              "      <td>6.03</td>\n",
              "      <td>5.86</td>\n",
              "      <td>0.36</td>\n",
              "      <td>2.38</td>\n",
              "      <td>NaN</td>\n",
              "      <td>NaN</td>\n",
              "      <td>NaN</td>\n",
              "      <td>14.63</td>\n",
              "    </tr>\n",
              "    <tr>\n",
              "      <th>3</th>\n",
              "      <td>Pokemon X/Pokemon Y</td>\n",
              "      <td>3DS</td>\n",
              "      <td>2013</td>\n",
              "      <td>Role-Playing</td>\n",
              "      <td>5.28</td>\n",
              "      <td>4.19</td>\n",
              "      <td>4.35</td>\n",
              "      <td>0.78</td>\n",
              "      <td>NaN</td>\n",
              "      <td>NaN</td>\n",
              "      <td>NaN</td>\n",
              "      <td>14.60</td>\n",
              "    </tr>\n",
              "    <tr>\n",
              "      <th>4</th>\n",
              "      <td>Grand Theft Auto V</td>\n",
              "      <td>PS4</td>\n",
              "      <td>2014</td>\n",
              "      <td>Action</td>\n",
              "      <td>3.96</td>\n",
              "      <td>6.31</td>\n",
              "      <td>0.38</td>\n",
              "      <td>1.97</td>\n",
              "      <td>97.0</td>\n",
              "      <td>8.3</td>\n",
              "      <td>M</td>\n",
              "      <td>12.62</td>\n",
              "    </tr>\n",
              "  </tbody>\n",
              "</table>\n",
              "</div>"
            ],
            "text/plain": [
              "                        name platform  ...  rating total_sales\n",
              "0         Grand Theft Auto V      PS3  ...       M       21.05\n",
              "1         Grand Theft Auto V     X360  ...       M       16.27\n",
              "2  Call of Duty: Black Ops 3      PS4  ...     NaN       14.63\n",
              "3        Pokemon X/Pokemon Y      3DS  ...     NaN       14.60\n",
              "4         Grand Theft Auto V      PS4  ...       M       12.62\n",
              "\n",
              "[5 rows x 12 columns]"
            ]
          },
          "metadata": {
            "tags": []
          },
          "execution_count": 21
        }
      ]
    },
    {
      "cell_type": "markdown",
      "metadata": {
        "id": "vL8Rd9eV_j-3"
      },
      "source": [
        "### Какие платформы лидируют по продажам, растут или падают? Выберите несколько потенциально прибыльных платформ."
      ]
    },
    {
      "cell_type": "markdown",
      "metadata": {
        "id": "7K6cpSB_biFv"
      },
      "source": [
        "Посмотрим на продажи по платформам"
      ]
    },
    {
      "cell_type": "code",
      "metadata": {
        "colab": {
          "base_uri": "https://localhost:8080/",
          "height": 542
        },
        "id": "rQvJX41ZNP0n",
        "outputId": "874fd17b-9b55-4e26-8c5a-8f0c83ec46e8"
      },
      "source": [
        "dr = (\n",
        "    df\n",
        "        .groupby('platform', as_index=False)\n",
        "        .agg({'total_sales':'sum'})\n",
        "        .sort_values(by='total_sales')\n",
        ")\n",
        "\n",
        "fig = px.bar(dr, x='platform', y='total_sales',\n",
        "             color='total_sales',\n",
        "             title='Продажи на разных платформах, млн. копий')\n",
        "fig.show()"
      ],
      "execution_count": 22,
      "outputs": [
        {
          "output_type": "display_data",
          "data": {
            "text/html": [
              "<div>\n",
              "        \n",
              "        \n",
              "            <div id=\"1a68a221-4095-418c-890a-63feaca6a36a\" class=\"plotly-graph-div\" style=\"height:525px; width:100%;\"></div>\n",
              "            <script type=\"text/javascript\">\n",
              "                require([\"plotly\"], function(Plotly) {\n",
              "                    window.PLOTLYENV=window.PLOTLYENV || {};\n",
              "                    \n",
              "                if (document.getElementById(\"1a68a221-4095-418c-890a-63feaca6a36a\")) {\n",
              "                    Plotly.newPlot(\n",
              "                        '1a68a221-4095-418c-890a-63feaca6a36a',\n",
              "                        [{\"alignmentgroup\": \"True\", \"hoverlabel\": {\"namelength\": 0}, \"hovertemplate\": \"platform=%{x}<br>total_sales=%{marker.color}\", \"legendgroup\": \"\", \"marker\": {\"color\": [1.54, 3.4999999999999947, 13.659999999999998, 32.99, 39.42999999999997, 64.63000000000002, 136.8, 143.25000000000003, 159.32, 181.4300000000003, 314.1399999999991], \"coloraxis\": \"coloraxis\"}, \"name\": \"\", \"offsetgroup\": \"\", \"orientation\": \"v\", \"showlegend\": false, \"textposition\": \"auto\", \"type\": \"bar\", \"x\": [\"DS\", \"PSP\", \"Wii\", \"PSV\", \"PC\", \"WiiU\", \"X360\", \"3DS\", \"XOne\", \"PS3\", \"PS4\"], \"xaxis\": \"x\", \"y\": [1.54, 3.4999999999999947, 13.659999999999998, 32.99, 39.42999999999997, 64.63000000000002, 136.8, 143.25000000000003, 159.32, 181.4300000000003, 314.1399999999991], \"yaxis\": \"y\"}],\n",
              "                        {\"barmode\": \"relative\", \"coloraxis\": {\"colorbar\": {\"title\": {\"text\": \"total_sales\"}}, \"colorscale\": [[0.0, \"#0d0887\"], [0.1111111111111111, \"#46039f\"], [0.2222222222222222, \"#7201a8\"], [0.3333333333333333, \"#9c179e\"], [0.4444444444444444, \"#bd3786\"], [0.5555555555555556, \"#d8576b\"], [0.6666666666666666, \"#ed7953\"], [0.7777777777777778, \"#fb9f3a\"], [0.8888888888888888, \"#fdca26\"], [1.0, \"#f0f921\"]]}, \"legend\": {\"tracegroupgap\": 0}, \"template\": {\"data\": {\"bar\": [{\"error_x\": {\"color\": \"#2a3f5f\"}, \"error_y\": {\"color\": \"#2a3f5f\"}, \"marker\": {\"line\": {\"color\": \"#E5ECF6\", \"width\": 0.5}}, \"type\": \"bar\"}], \"barpolar\": [{\"marker\": {\"line\": {\"color\": \"#E5ECF6\", \"width\": 0.5}}, \"type\": \"barpolar\"}], \"carpet\": [{\"aaxis\": {\"endlinecolor\": \"#2a3f5f\", \"gridcolor\": \"white\", \"linecolor\": \"white\", \"minorgridcolor\": \"white\", \"startlinecolor\": \"#2a3f5f\"}, \"baxis\": {\"endlinecolor\": \"#2a3f5f\", \"gridcolor\": \"white\", \"linecolor\": \"white\", \"minorgridcolor\": \"white\", \"startlinecolor\": \"#2a3f5f\"}, \"type\": \"carpet\"}], \"choropleth\": [{\"colorbar\": {\"outlinewidth\": 0, \"ticks\": \"\"}, \"type\": \"choropleth\"}], \"contour\": [{\"colorbar\": {\"outlinewidth\": 0, \"ticks\": \"\"}, \"colorscale\": [[0.0, \"#0d0887\"], [0.1111111111111111, \"#46039f\"], [0.2222222222222222, \"#7201a8\"], [0.3333333333333333, \"#9c179e\"], [0.4444444444444444, \"#bd3786\"], [0.5555555555555556, \"#d8576b\"], [0.6666666666666666, \"#ed7953\"], [0.7777777777777778, \"#fb9f3a\"], [0.8888888888888888, \"#fdca26\"], [1.0, \"#f0f921\"]], \"type\": \"contour\"}], \"contourcarpet\": [{\"colorbar\": {\"outlinewidth\": 0, \"ticks\": \"\"}, \"type\": \"contourcarpet\"}], \"heatmap\": [{\"colorbar\": {\"outlinewidth\": 0, \"ticks\": \"\"}, \"colorscale\": [[0.0, \"#0d0887\"], [0.1111111111111111, \"#46039f\"], [0.2222222222222222, \"#7201a8\"], [0.3333333333333333, \"#9c179e\"], [0.4444444444444444, \"#bd3786\"], [0.5555555555555556, \"#d8576b\"], [0.6666666666666666, \"#ed7953\"], [0.7777777777777778, \"#fb9f3a\"], [0.8888888888888888, \"#fdca26\"], [1.0, \"#f0f921\"]], \"type\": \"heatmap\"}], \"heatmapgl\": [{\"colorbar\": {\"outlinewidth\": 0, \"ticks\": \"\"}, \"colorscale\": [[0.0, \"#0d0887\"], [0.1111111111111111, \"#46039f\"], [0.2222222222222222, \"#7201a8\"], [0.3333333333333333, \"#9c179e\"], [0.4444444444444444, \"#bd3786\"], [0.5555555555555556, \"#d8576b\"], [0.6666666666666666, \"#ed7953\"], [0.7777777777777778, \"#fb9f3a\"], [0.8888888888888888, \"#fdca26\"], [1.0, \"#f0f921\"]], \"type\": \"heatmapgl\"}], \"histogram\": [{\"marker\": {\"colorbar\": {\"outlinewidth\": 0, \"ticks\": \"\"}}, \"type\": \"histogram\"}], \"histogram2d\": [{\"colorbar\": {\"outlinewidth\": 0, \"ticks\": \"\"}, \"colorscale\": [[0.0, \"#0d0887\"], [0.1111111111111111, \"#46039f\"], [0.2222222222222222, \"#7201a8\"], [0.3333333333333333, \"#9c179e\"], [0.4444444444444444, \"#bd3786\"], [0.5555555555555556, \"#d8576b\"], [0.6666666666666666, \"#ed7953\"], [0.7777777777777778, \"#fb9f3a\"], [0.8888888888888888, \"#fdca26\"], [1.0, \"#f0f921\"]], \"type\": \"histogram2d\"}], \"histogram2dcontour\": [{\"colorbar\": {\"outlinewidth\": 0, \"ticks\": \"\"}, \"colorscale\": [[0.0, \"#0d0887\"], [0.1111111111111111, \"#46039f\"], [0.2222222222222222, \"#7201a8\"], [0.3333333333333333, \"#9c179e\"], [0.4444444444444444, \"#bd3786\"], [0.5555555555555556, \"#d8576b\"], [0.6666666666666666, \"#ed7953\"], [0.7777777777777778, \"#fb9f3a\"], [0.8888888888888888, \"#fdca26\"], [1.0, \"#f0f921\"]], \"type\": \"histogram2dcontour\"}], \"mesh3d\": [{\"colorbar\": {\"outlinewidth\": 0, \"ticks\": \"\"}, \"type\": \"mesh3d\"}], \"parcoords\": [{\"line\": {\"colorbar\": {\"outlinewidth\": 0, \"ticks\": \"\"}}, \"type\": \"parcoords\"}], \"pie\": [{\"automargin\": true, \"type\": \"pie\"}], \"scatter\": [{\"marker\": {\"colorbar\": {\"outlinewidth\": 0, \"ticks\": \"\"}}, \"type\": \"scatter\"}], \"scatter3d\": [{\"line\": {\"colorbar\": {\"outlinewidth\": 0, \"ticks\": \"\"}}, \"marker\": {\"colorbar\": {\"outlinewidth\": 0, \"ticks\": \"\"}}, \"type\": \"scatter3d\"}], \"scattercarpet\": [{\"marker\": {\"colorbar\": {\"outlinewidth\": 0, \"ticks\": \"\"}}, \"type\": \"scattercarpet\"}], \"scattergeo\": [{\"marker\": {\"colorbar\": {\"outlinewidth\": 0, \"ticks\": \"\"}}, \"type\": \"scattergeo\"}], \"scattergl\": [{\"marker\": {\"colorbar\": {\"outlinewidth\": 0, \"ticks\": \"\"}}, \"type\": \"scattergl\"}], \"scattermapbox\": [{\"marker\": {\"colorbar\": {\"outlinewidth\": 0, \"ticks\": \"\"}}, \"type\": \"scattermapbox\"}], \"scatterpolar\": [{\"marker\": {\"colorbar\": {\"outlinewidth\": 0, \"ticks\": \"\"}}, \"type\": \"scatterpolar\"}], \"scatterpolargl\": [{\"marker\": {\"colorbar\": {\"outlinewidth\": 0, \"ticks\": \"\"}}, \"type\": \"scatterpolargl\"}], \"scatterternary\": [{\"marker\": {\"colorbar\": {\"outlinewidth\": 0, \"ticks\": \"\"}}, \"type\": \"scatterternary\"}], \"surface\": [{\"colorbar\": {\"outlinewidth\": 0, \"ticks\": \"\"}, \"colorscale\": [[0.0, \"#0d0887\"], [0.1111111111111111, \"#46039f\"], [0.2222222222222222, \"#7201a8\"], [0.3333333333333333, \"#9c179e\"], [0.4444444444444444, \"#bd3786\"], [0.5555555555555556, \"#d8576b\"], [0.6666666666666666, \"#ed7953\"], [0.7777777777777778, \"#fb9f3a\"], [0.8888888888888888, \"#fdca26\"], [1.0, \"#f0f921\"]], \"type\": \"surface\"}], \"table\": [{\"cells\": {\"fill\": {\"color\": \"#EBF0F8\"}, \"line\": {\"color\": \"white\"}}, \"header\": {\"fill\": {\"color\": \"#C8D4E3\"}, \"line\": {\"color\": \"white\"}}, \"type\": \"table\"}]}, \"layout\": {\"annotationdefaults\": {\"arrowcolor\": \"#2a3f5f\", \"arrowhead\": 0, \"arrowwidth\": 1}, \"coloraxis\": {\"colorbar\": {\"outlinewidth\": 0, \"ticks\": \"\"}}, \"colorscale\": {\"diverging\": [[0, \"#8e0152\"], [0.1, \"#c51b7d\"], [0.2, \"#de77ae\"], [0.3, \"#f1b6da\"], [0.4, \"#fde0ef\"], [0.5, \"#f7f7f7\"], [0.6, \"#e6f5d0\"], [0.7, \"#b8e186\"], [0.8, \"#7fbc41\"], [0.9, \"#4d9221\"], [1, \"#276419\"]], \"sequential\": [[0.0, \"#0d0887\"], [0.1111111111111111, \"#46039f\"], [0.2222222222222222, \"#7201a8\"], [0.3333333333333333, \"#9c179e\"], [0.4444444444444444, \"#bd3786\"], [0.5555555555555556, \"#d8576b\"], [0.6666666666666666, \"#ed7953\"], [0.7777777777777778, \"#fb9f3a\"], [0.8888888888888888, \"#fdca26\"], [1.0, \"#f0f921\"]], \"sequentialminus\": [[0.0, \"#0d0887\"], [0.1111111111111111, \"#46039f\"], [0.2222222222222222, \"#7201a8\"], [0.3333333333333333, \"#9c179e\"], [0.4444444444444444, \"#bd3786\"], [0.5555555555555556, \"#d8576b\"], [0.6666666666666666, \"#ed7953\"], [0.7777777777777778, \"#fb9f3a\"], [0.8888888888888888, \"#fdca26\"], [1.0, \"#f0f921\"]]}, \"colorway\": [\"#636efa\", \"#EF553B\", \"#00cc96\", \"#ab63fa\", \"#FFA15A\", \"#19d3f3\", \"#FF6692\", \"#B6E880\", \"#FF97FF\", \"#FECB52\"], \"font\": {\"color\": \"#2a3f5f\"}, \"geo\": {\"bgcolor\": \"white\", \"lakecolor\": \"white\", \"landcolor\": \"#E5ECF6\", \"showlakes\": true, \"showland\": true, \"subunitcolor\": \"white\"}, \"hoverlabel\": {\"align\": \"left\"}, \"hovermode\": \"closest\", \"mapbox\": {\"style\": \"light\"}, \"paper_bgcolor\": \"white\", \"plot_bgcolor\": \"#E5ECF6\", \"polar\": {\"angularaxis\": {\"gridcolor\": \"white\", \"linecolor\": \"white\", \"ticks\": \"\"}, \"bgcolor\": \"#E5ECF6\", \"radialaxis\": {\"gridcolor\": \"white\", \"linecolor\": \"white\", \"ticks\": \"\"}}, \"scene\": {\"xaxis\": {\"backgroundcolor\": \"#E5ECF6\", \"gridcolor\": \"white\", \"gridwidth\": 2, \"linecolor\": \"white\", \"showbackground\": true, \"ticks\": \"\", \"zerolinecolor\": \"white\"}, \"yaxis\": {\"backgroundcolor\": \"#E5ECF6\", \"gridcolor\": \"white\", \"gridwidth\": 2, \"linecolor\": \"white\", \"showbackground\": true, \"ticks\": \"\", \"zerolinecolor\": \"white\"}, \"zaxis\": {\"backgroundcolor\": \"#E5ECF6\", \"gridcolor\": \"white\", \"gridwidth\": 2, \"linecolor\": \"white\", \"showbackground\": true, \"ticks\": \"\", \"zerolinecolor\": \"white\"}}, \"shapedefaults\": {\"line\": {\"color\": \"#2a3f5f\"}}, \"ternary\": {\"aaxis\": {\"gridcolor\": \"white\", \"linecolor\": \"white\", \"ticks\": \"\"}, \"baxis\": {\"gridcolor\": \"white\", \"linecolor\": \"white\", \"ticks\": \"\"}, \"bgcolor\": \"#E5ECF6\", \"caxis\": {\"gridcolor\": \"white\", \"linecolor\": \"white\", \"ticks\": \"\"}}, \"title\": {\"x\": 0.05}, \"xaxis\": {\"automargin\": true, \"gridcolor\": \"white\", \"linecolor\": \"white\", \"ticks\": \"\", \"title\": {\"standoff\": 15}, \"zerolinecolor\": \"white\", \"zerolinewidth\": 2}, \"yaxis\": {\"automargin\": true, \"gridcolor\": \"white\", \"linecolor\": \"white\", \"ticks\": \"\", \"title\": {\"standoff\": 15}, \"zerolinecolor\": \"white\", \"zerolinewidth\": 2}}}, \"title\": {\"text\": \"\\u041f\\u0440\\u043e\\u0434\\u0430\\u0436\\u0438 \\u043d\\u0430 \\u0440\\u0430\\u0437\\u043d\\u044b\\u0445 \\u043f\\u043b\\u0430\\u0442\\u0444\\u043e\\u0440\\u043c\\u0430\\u0445, \\u043c\\u043b\\u043d. \\u043a\\u043e\\u043f\\u0438\\u0439\"}, \"xaxis\": {\"anchor\": \"y\", \"domain\": [0.0, 1.0], \"title\": {\"text\": \"platform\"}}, \"yaxis\": {\"anchor\": \"x\", \"domain\": [0.0, 1.0], \"title\": {\"text\": \"total_sales\"}}},\n",
              "                        {\"responsive\": true}\n",
              "                    ).then(function(){\n",
              "                            \n",
              "var gd = document.getElementById('1a68a221-4095-418c-890a-63feaca6a36a');\n",
              "var x = new MutationObserver(function (mutations, observer) {{\n",
              "        var display = window.getComputedStyle(gd).display;\n",
              "        if (!display || display === 'none') {{\n",
              "            console.log([gd, 'removed!']);\n",
              "            Plotly.purge(gd);\n",
              "            observer.disconnect();\n",
              "        }}\n",
              "}});\n",
              "\n",
              "// Listen for the removal of the full notebook cells\n",
              "var notebookContainer = gd.closest('#notebook-container');\n",
              "if (notebookContainer) {{\n",
              "    x.observe(notebookContainer, {childList: true});\n",
              "}}\n",
              "\n",
              "// Listen for the clearing of the current output cell\n",
              "var outputEl = gd.closest('.output');\n",
              "if (outputEl) {{\n",
              "    x.observe(outputEl, {childList: true});\n",
              "}}\n",
              "\n",
              "                        })\n",
              "                };\n",
              "                });\n",
              "            </script>\n",
              "        </div>"
            ]
          },
          "metadata": {
            "tags": []
          }
        }
      ]
    },
    {
      "cell_type": "markdown",
      "metadata": {
        "id": "d1u-nQ_tb6v0"
      },
      "source": [
        "Лидирует по продажам у нас 'PS4', 'PS3', 'XOne', '3DS' и 'X360' "
      ]
    },
    {
      "cell_type": "markdown",
      "metadata": {
        "id": "NSvgH80luOOF"
      },
      "source": [
        "Посмотрим каким платформы растут/падают"
      ]
    },
    {
      "cell_type": "code",
      "metadata": {
        "colab": {
          "base_uri": "https://localhost:8080/",
          "height": 542
        },
        "id": "fTRUTiPHOeo7",
        "outputId": "3faed77b-079e-4938-bd2e-66dc494d0067"
      },
      "source": [
        "dr = (\n",
        "    df\n",
        "        .groupby(['year_of_release', 'platform'], as_index=False)\n",
        "        .agg({'total_sales':'sum'})\n",
        ")\n",
        "\n",
        "fig = px.bar(dr, x='year_of_release', y='total_sales', color='platform', barmode='group',\n",
        "             title='Продажи на разных платформах по годам, млн. копий')\n",
        "\n",
        "fig.show()"
      ],
      "execution_count": 23,
      "outputs": [
        {
          "output_type": "display_data",
          "data": {
            "text/html": [
              "<div>\n",
              "        \n",
              "        \n",
              "            <div id=\"1e87fee4-c1c4-4b52-975f-6ca2360182e2\" class=\"plotly-graph-div\" style=\"height:525px; width:100%;\"></div>\n",
              "            <script type=\"text/javascript\">\n",
              "                require([\"plotly\"], function(Plotly) {\n",
              "                    window.PLOTLYENV=window.PLOTLYENV || {};\n",
              "                    \n",
              "                if (document.getElementById(\"1e87fee4-c1c4-4b52-975f-6ca2360182e2\")) {\n",
              "                    Plotly.newPlot(\n",
              "                        '1e87fee4-c1c4-4b52-975f-6ca2360182e2',\n",
              "                        [{\"alignmentgroup\": \"True\", \"hoverlabel\": {\"namelength\": 0}, \"hovertemplate\": \"platform=3DS<br>year_of_release=%{x}<br>total_sales=%{y}\", \"legendgroup\": \"platform=3DS\", \"marker\": {\"color\": \"#636efa\"}, \"name\": \"platform=3DS\", \"offsetgroup\": \"platform=3DS\", \"orientation\": \"v\", \"showlegend\": true, \"textposition\": \"auto\", \"type\": \"bar\", \"x\": [2013, 2014, 2015, 2016], \"xaxis\": \"x\", \"y\": [56.57, 43.76000000000003, 27.78, 15.13999999999999], \"yaxis\": \"y\"}, {\"alignmentgroup\": \"True\", \"hoverlabel\": {\"namelength\": 0}, \"hovertemplate\": \"platform=DS<br>year_of_release=%{x}<br>total_sales=%{y}\", \"legendgroup\": \"platform=DS\", \"marker\": {\"color\": \"#EF553B\"}, \"name\": \"platform=DS\", \"offsetgroup\": \"platform=DS\", \"orientation\": \"v\", \"showlegend\": true, \"textposition\": \"auto\", \"type\": \"bar\", \"x\": [2013], \"xaxis\": \"x\", \"y\": [1.54], \"yaxis\": \"y\"}, {\"alignmentgroup\": \"True\", \"hoverlabel\": {\"namelength\": 0}, \"hovertemplate\": \"platform=PC<br>year_of_release=%{x}<br>total_sales=%{y}\", \"legendgroup\": \"platform=PC\", \"marker\": {\"color\": \"#00cc96\"}, \"name\": \"platform=PC\", \"offsetgroup\": \"platform=PC\", \"orientation\": \"v\", \"showlegend\": true, \"textposition\": \"auto\", \"type\": \"bar\", \"x\": [2013, 2014, 2015, 2016], \"xaxis\": \"x\", \"y\": [12.379999999999997, 13.279999999999994, 8.51999999999999, 5.249999999999997], \"yaxis\": \"y\"}, {\"alignmentgroup\": \"True\", \"hoverlabel\": {\"namelength\": 0}, \"hovertemplate\": \"platform=PS3<br>year_of_release=%{x}<br>total_sales=%{y}\", \"legendgroup\": \"platform=PS3\", \"marker\": {\"color\": \"#ab63fa\"}, \"name\": \"platform=PS3\", \"offsetgroup\": \"platform=PS3\", \"orientation\": \"v\", \"showlegend\": true, \"textposition\": \"auto\", \"type\": \"bar\", \"x\": [2013, 2014, 2015, 2016], \"xaxis\": \"x\", \"y\": [113.24999999999999, 47.76000000000002, 16.820000000000007, 3.5999999999999988], \"yaxis\": \"y\"}, {\"alignmentgroup\": \"True\", \"hoverlabel\": {\"namelength\": 0}, \"hovertemplate\": \"platform=PS4<br>year_of_release=%{x}<br>total_sales=%{y}\", \"legendgroup\": \"platform=PS4\", \"marker\": {\"color\": \"#FFA15A\"}, \"name\": \"platform=PS4\", \"offsetgroup\": \"platform=PS4\", \"orientation\": \"v\", \"showlegend\": true, \"textposition\": \"auto\", \"type\": \"bar\", \"x\": [2013, 2014, 2015, 2016], \"xaxis\": \"x\", \"y\": [25.990000000000002, 99.99999999999996, 118.90000000000008, 69.25000000000001], \"yaxis\": \"y\"}, {\"alignmentgroup\": \"True\", \"hoverlabel\": {\"namelength\": 0}, \"hovertemplate\": \"platform=PSP<br>year_of_release=%{x}<br>total_sales=%{y}\", \"legendgroup\": \"platform=PSP\", \"marker\": {\"color\": \"#19d3f3\"}, \"name\": \"platform=PSP\", \"offsetgroup\": \"platform=PSP\", \"orientation\": \"v\", \"showlegend\": true, \"textposition\": \"auto\", \"type\": \"bar\", \"x\": [2013, 2014, 2015], \"xaxis\": \"x\", \"y\": [3.139999999999996, 0.24000000000000005, 0.12000000000000001], \"yaxis\": \"y\"}, {\"alignmentgroup\": \"True\", \"hoverlabel\": {\"namelength\": 0}, \"hovertemplate\": \"platform=PSV<br>year_of_release=%{x}<br>total_sales=%{y}\", \"legendgroup\": \"platform=PSV\", \"marker\": {\"color\": \"#FF6692\"}, \"name\": \"platform=PSV\", \"offsetgroup\": \"platform=PSV\", \"orientation\": \"v\", \"showlegend\": true, \"textposition\": \"auto\", \"type\": \"bar\", \"x\": [2013, 2014, 2015, 2016], \"xaxis\": \"x\", \"y\": [10.589999999999995, 11.899999999999988, 6.249999999999988, 4.249999999999992], \"yaxis\": \"y\"}, {\"alignmentgroup\": \"True\", \"hoverlabel\": {\"namelength\": 0}, \"hovertemplate\": \"platform=Wii<br>year_of_release=%{x}<br>total_sales=%{y}\", \"legendgroup\": \"platform=Wii\", \"marker\": {\"color\": \"#B6E880\"}, \"name\": \"platform=Wii\", \"offsetgroup\": \"platform=Wii\", \"orientation\": \"v\", \"showlegend\": true, \"textposition\": \"auto\", \"type\": \"bar\", \"x\": [2013, 2014, 2015, 2016], \"xaxis\": \"x\", \"y\": [8.59, 3.75, 1.14, 0.18], \"yaxis\": \"y\"}, {\"alignmentgroup\": \"True\", \"hoverlabel\": {\"namelength\": 0}, \"hovertemplate\": \"platform=WiiU<br>year_of_release=%{x}<br>total_sales=%{y}\", \"legendgroup\": \"platform=WiiU\", \"marker\": {\"color\": \"#FF97FF\"}, \"name\": \"platform=WiiU\", \"offsetgroup\": \"platform=WiiU\", \"orientation\": \"v\", \"showlegend\": true, \"textposition\": \"auto\", \"type\": \"bar\", \"x\": [2013, 2014, 2015, 2016], \"xaxis\": \"x\", \"y\": [21.65, 22.029999999999994, 16.35000000000001, 4.6000000000000005], \"yaxis\": \"y\"}, {\"alignmentgroup\": \"True\", \"hoverlabel\": {\"namelength\": 0}, \"hovertemplate\": \"platform=X360<br>year_of_release=%{x}<br>total_sales=%{y}\", \"legendgroup\": \"platform=X360\", \"marker\": {\"color\": \"#FECB52\"}, \"name\": \"platform=X360\", \"offsetgroup\": \"platform=X360\", \"orientation\": \"v\", \"showlegend\": true, \"textposition\": \"auto\", \"type\": \"bar\", \"x\": [2013, 2014, 2015, 2016], \"xaxis\": \"x\", \"y\": [88.58000000000008, 34.739999999999995, 11.959999999999997, 1.5200000000000002], \"yaxis\": \"y\"}, {\"alignmentgroup\": \"True\", \"hoverlabel\": {\"namelength\": 0}, \"hovertemplate\": \"platform=XOne<br>year_of_release=%{x}<br>total_sales=%{y}\", \"legendgroup\": \"platform=XOne\", \"marker\": {\"color\": \"#636efa\"}, \"name\": \"platform=XOne\", \"offsetgroup\": \"platform=XOne\", \"orientation\": \"v\", \"showlegend\": true, \"textposition\": \"auto\", \"type\": \"bar\", \"x\": [2013, 2014, 2015, 2016], \"xaxis\": \"x\", \"y\": [18.959999999999994, 54.06999999999999, 60.14000000000002, 26.15000000000002], \"yaxis\": \"y\"}],\n",
              "                        {\"barmode\": \"group\", \"legend\": {\"tracegroupgap\": 0}, \"template\": {\"data\": {\"bar\": [{\"error_x\": {\"color\": \"#2a3f5f\"}, \"error_y\": {\"color\": \"#2a3f5f\"}, \"marker\": {\"line\": {\"color\": \"#E5ECF6\", \"width\": 0.5}}, \"type\": \"bar\"}], \"barpolar\": [{\"marker\": {\"line\": {\"color\": \"#E5ECF6\", \"width\": 0.5}}, \"type\": \"barpolar\"}], \"carpet\": [{\"aaxis\": {\"endlinecolor\": \"#2a3f5f\", \"gridcolor\": \"white\", \"linecolor\": \"white\", \"minorgridcolor\": \"white\", \"startlinecolor\": \"#2a3f5f\"}, \"baxis\": {\"endlinecolor\": \"#2a3f5f\", \"gridcolor\": \"white\", \"linecolor\": \"white\", \"minorgridcolor\": \"white\", \"startlinecolor\": \"#2a3f5f\"}, \"type\": \"carpet\"}], \"choropleth\": [{\"colorbar\": {\"outlinewidth\": 0, \"ticks\": \"\"}, \"type\": \"choropleth\"}], \"contour\": [{\"colorbar\": {\"outlinewidth\": 0, \"ticks\": \"\"}, \"colorscale\": [[0.0, \"#0d0887\"], [0.1111111111111111, \"#46039f\"], [0.2222222222222222, \"#7201a8\"], [0.3333333333333333, \"#9c179e\"], [0.4444444444444444, \"#bd3786\"], [0.5555555555555556, \"#d8576b\"], [0.6666666666666666, \"#ed7953\"], [0.7777777777777778, \"#fb9f3a\"], [0.8888888888888888, \"#fdca26\"], [1.0, \"#f0f921\"]], \"type\": \"contour\"}], \"contourcarpet\": [{\"colorbar\": {\"outlinewidth\": 0, \"ticks\": \"\"}, \"type\": \"contourcarpet\"}], \"heatmap\": [{\"colorbar\": {\"outlinewidth\": 0, \"ticks\": \"\"}, \"colorscale\": [[0.0, \"#0d0887\"], [0.1111111111111111, \"#46039f\"], [0.2222222222222222, \"#7201a8\"], [0.3333333333333333, \"#9c179e\"], [0.4444444444444444, \"#bd3786\"], [0.5555555555555556, \"#d8576b\"], [0.6666666666666666, \"#ed7953\"], [0.7777777777777778, \"#fb9f3a\"], [0.8888888888888888, \"#fdca26\"], [1.0, \"#f0f921\"]], \"type\": \"heatmap\"}], \"heatmapgl\": [{\"colorbar\": {\"outlinewidth\": 0, \"ticks\": \"\"}, \"colorscale\": [[0.0, \"#0d0887\"], [0.1111111111111111, \"#46039f\"], [0.2222222222222222, \"#7201a8\"], [0.3333333333333333, \"#9c179e\"], [0.4444444444444444, \"#bd3786\"], [0.5555555555555556, \"#d8576b\"], [0.6666666666666666, \"#ed7953\"], [0.7777777777777778, \"#fb9f3a\"], [0.8888888888888888, \"#fdca26\"], [1.0, \"#f0f921\"]], \"type\": \"heatmapgl\"}], \"histogram\": [{\"marker\": {\"colorbar\": {\"outlinewidth\": 0, \"ticks\": \"\"}}, \"type\": \"histogram\"}], \"histogram2d\": [{\"colorbar\": {\"outlinewidth\": 0, \"ticks\": \"\"}, \"colorscale\": [[0.0, \"#0d0887\"], [0.1111111111111111, \"#46039f\"], [0.2222222222222222, \"#7201a8\"], [0.3333333333333333, \"#9c179e\"], [0.4444444444444444, \"#bd3786\"], [0.5555555555555556, \"#d8576b\"], [0.6666666666666666, \"#ed7953\"], [0.7777777777777778, \"#fb9f3a\"], [0.8888888888888888, \"#fdca26\"], [1.0, \"#f0f921\"]], \"type\": \"histogram2d\"}], \"histogram2dcontour\": [{\"colorbar\": {\"outlinewidth\": 0, \"ticks\": \"\"}, \"colorscale\": [[0.0, \"#0d0887\"], [0.1111111111111111, \"#46039f\"], [0.2222222222222222, \"#7201a8\"], [0.3333333333333333, \"#9c179e\"], [0.4444444444444444, \"#bd3786\"], [0.5555555555555556, \"#d8576b\"], [0.6666666666666666, \"#ed7953\"], [0.7777777777777778, \"#fb9f3a\"], [0.8888888888888888, \"#fdca26\"], [1.0, \"#f0f921\"]], \"type\": \"histogram2dcontour\"}], \"mesh3d\": [{\"colorbar\": {\"outlinewidth\": 0, \"ticks\": \"\"}, \"type\": \"mesh3d\"}], \"parcoords\": [{\"line\": {\"colorbar\": {\"outlinewidth\": 0, \"ticks\": \"\"}}, \"type\": \"parcoords\"}], \"pie\": [{\"automargin\": true, \"type\": \"pie\"}], \"scatter\": [{\"marker\": {\"colorbar\": {\"outlinewidth\": 0, \"ticks\": \"\"}}, \"type\": \"scatter\"}], \"scatter3d\": [{\"line\": {\"colorbar\": {\"outlinewidth\": 0, \"ticks\": \"\"}}, \"marker\": {\"colorbar\": {\"outlinewidth\": 0, \"ticks\": \"\"}}, \"type\": \"scatter3d\"}], \"scattercarpet\": [{\"marker\": {\"colorbar\": {\"outlinewidth\": 0, \"ticks\": \"\"}}, \"type\": \"scattercarpet\"}], \"scattergeo\": [{\"marker\": {\"colorbar\": {\"outlinewidth\": 0, \"ticks\": \"\"}}, \"type\": \"scattergeo\"}], \"scattergl\": [{\"marker\": {\"colorbar\": {\"outlinewidth\": 0, \"ticks\": \"\"}}, \"type\": \"scattergl\"}], \"scattermapbox\": [{\"marker\": {\"colorbar\": {\"outlinewidth\": 0, \"ticks\": \"\"}}, \"type\": \"scattermapbox\"}], \"scatterpolar\": [{\"marker\": {\"colorbar\": {\"outlinewidth\": 0, \"ticks\": \"\"}}, \"type\": \"scatterpolar\"}], \"scatterpolargl\": [{\"marker\": {\"colorbar\": {\"outlinewidth\": 0, \"ticks\": \"\"}}, \"type\": \"scatterpolargl\"}], \"scatterternary\": [{\"marker\": {\"colorbar\": {\"outlinewidth\": 0, \"ticks\": \"\"}}, \"type\": \"scatterternary\"}], \"surface\": [{\"colorbar\": {\"outlinewidth\": 0, \"ticks\": \"\"}, \"colorscale\": [[0.0, \"#0d0887\"], [0.1111111111111111, \"#46039f\"], [0.2222222222222222, \"#7201a8\"], [0.3333333333333333, \"#9c179e\"], [0.4444444444444444, \"#bd3786\"], [0.5555555555555556, \"#d8576b\"], [0.6666666666666666, \"#ed7953\"], [0.7777777777777778, \"#fb9f3a\"], [0.8888888888888888, \"#fdca26\"], [1.0, \"#f0f921\"]], \"type\": \"surface\"}], \"table\": [{\"cells\": {\"fill\": {\"color\": \"#EBF0F8\"}, \"line\": {\"color\": \"white\"}}, \"header\": {\"fill\": {\"color\": \"#C8D4E3\"}, \"line\": {\"color\": \"white\"}}, \"type\": \"table\"}]}, \"layout\": {\"annotationdefaults\": {\"arrowcolor\": \"#2a3f5f\", \"arrowhead\": 0, \"arrowwidth\": 1}, \"coloraxis\": {\"colorbar\": {\"outlinewidth\": 0, \"ticks\": \"\"}}, \"colorscale\": {\"diverging\": [[0, \"#8e0152\"], [0.1, \"#c51b7d\"], [0.2, \"#de77ae\"], [0.3, \"#f1b6da\"], [0.4, \"#fde0ef\"], [0.5, \"#f7f7f7\"], [0.6, \"#e6f5d0\"], [0.7, \"#b8e186\"], [0.8, \"#7fbc41\"], [0.9, \"#4d9221\"], [1, \"#276419\"]], \"sequential\": [[0.0, \"#0d0887\"], [0.1111111111111111, \"#46039f\"], [0.2222222222222222, \"#7201a8\"], [0.3333333333333333, \"#9c179e\"], [0.4444444444444444, \"#bd3786\"], [0.5555555555555556, \"#d8576b\"], [0.6666666666666666, \"#ed7953\"], [0.7777777777777778, \"#fb9f3a\"], [0.8888888888888888, \"#fdca26\"], [1.0, \"#f0f921\"]], \"sequentialminus\": [[0.0, \"#0d0887\"], [0.1111111111111111, \"#46039f\"], [0.2222222222222222, \"#7201a8\"], [0.3333333333333333, \"#9c179e\"], [0.4444444444444444, \"#bd3786\"], [0.5555555555555556, \"#d8576b\"], [0.6666666666666666, \"#ed7953\"], [0.7777777777777778, \"#fb9f3a\"], [0.8888888888888888, \"#fdca26\"], [1.0, \"#f0f921\"]]}, \"colorway\": [\"#636efa\", \"#EF553B\", \"#00cc96\", \"#ab63fa\", \"#FFA15A\", \"#19d3f3\", \"#FF6692\", \"#B6E880\", \"#FF97FF\", \"#FECB52\"], \"font\": {\"color\": \"#2a3f5f\"}, \"geo\": {\"bgcolor\": \"white\", \"lakecolor\": \"white\", \"landcolor\": \"#E5ECF6\", \"showlakes\": true, \"showland\": true, \"subunitcolor\": \"white\"}, \"hoverlabel\": {\"align\": \"left\"}, \"hovermode\": \"closest\", \"mapbox\": {\"style\": \"light\"}, \"paper_bgcolor\": \"white\", \"plot_bgcolor\": \"#E5ECF6\", \"polar\": {\"angularaxis\": {\"gridcolor\": \"white\", \"linecolor\": \"white\", \"ticks\": \"\"}, \"bgcolor\": \"#E5ECF6\", \"radialaxis\": {\"gridcolor\": \"white\", \"linecolor\": \"white\", \"ticks\": \"\"}}, \"scene\": {\"xaxis\": {\"backgroundcolor\": \"#E5ECF6\", \"gridcolor\": \"white\", \"gridwidth\": 2, \"linecolor\": \"white\", \"showbackground\": true, \"ticks\": \"\", \"zerolinecolor\": \"white\"}, \"yaxis\": {\"backgroundcolor\": \"#E5ECF6\", \"gridcolor\": \"white\", \"gridwidth\": 2, \"linecolor\": \"white\", \"showbackground\": true, \"ticks\": \"\", \"zerolinecolor\": \"white\"}, \"zaxis\": {\"backgroundcolor\": \"#E5ECF6\", \"gridcolor\": \"white\", \"gridwidth\": 2, \"linecolor\": \"white\", \"showbackground\": true, \"ticks\": \"\", \"zerolinecolor\": \"white\"}}, \"shapedefaults\": {\"line\": {\"color\": \"#2a3f5f\"}}, \"ternary\": {\"aaxis\": {\"gridcolor\": \"white\", \"linecolor\": \"white\", \"ticks\": \"\"}, \"baxis\": {\"gridcolor\": \"white\", \"linecolor\": \"white\", \"ticks\": \"\"}, \"bgcolor\": \"#E5ECF6\", \"caxis\": {\"gridcolor\": \"white\", \"linecolor\": \"white\", \"ticks\": \"\"}}, \"title\": {\"x\": 0.05}, \"xaxis\": {\"automargin\": true, \"gridcolor\": \"white\", \"linecolor\": \"white\", \"ticks\": \"\", \"title\": {\"standoff\": 15}, \"zerolinecolor\": \"white\", \"zerolinewidth\": 2}, \"yaxis\": {\"automargin\": true, \"gridcolor\": \"white\", \"linecolor\": \"white\", \"ticks\": \"\", \"title\": {\"standoff\": 15}, \"zerolinecolor\": \"white\", \"zerolinewidth\": 2}}}, \"title\": {\"text\": \"\\u041f\\u0440\\u043e\\u0434\\u0430\\u0436\\u0438 \\u043d\\u0430 \\u0440\\u0430\\u0437\\u043d\\u044b\\u0445 \\u043f\\u043b\\u0430\\u0442\\u0444\\u043e\\u0440\\u043c\\u0430\\u0445 \\u043f\\u043e \\u0433\\u043e\\u0434\\u0430\\u043c, \\u043c\\u043b\\u043d. \\u043a\\u043e\\u043f\\u0438\\u0439\"}, \"xaxis\": {\"anchor\": \"y\", \"domain\": [0.0, 1.0], \"title\": {\"text\": \"year_of_release\"}}, \"yaxis\": {\"anchor\": \"x\", \"domain\": [0.0, 1.0], \"title\": {\"text\": \"total_sales\"}}},\n",
              "                        {\"responsive\": true}\n",
              "                    ).then(function(){\n",
              "                            \n",
              "var gd = document.getElementById('1e87fee4-c1c4-4b52-975f-6ca2360182e2');\n",
              "var x = new MutationObserver(function (mutations, observer) {{\n",
              "        var display = window.getComputedStyle(gd).display;\n",
              "        if (!display || display === 'none') {{\n",
              "            console.log([gd, 'removed!']);\n",
              "            Plotly.purge(gd);\n",
              "            observer.disconnect();\n",
              "        }}\n",
              "}});\n",
              "\n",
              "// Listen for the removal of the full notebook cells\n",
              "var notebookContainer = gd.closest('#notebook-container');\n",
              "if (notebookContainer) {{\n",
              "    x.observe(notebookContainer, {childList: true});\n",
              "}}\n",
              "\n",
              "// Listen for the clearing of the current output cell\n",
              "var outputEl = gd.closest('.output');\n",
              "if (outputEl) {{\n",
              "    x.observe(outputEl, {childList: true});\n",
              "}}\n",
              "\n",
              "                        })\n",
              "                };\n",
              "                });\n",
              "            </script>\n",
              "        </div>"
            ]
          },
          "metadata": {
            "tags": []
          }
        }
      ]
    },
    {
      "cell_type": "markdown",
      "metadata": {
        "id": "WtgFwxX4uSJI"
      },
      "source": [
        "* Видно, что 3DS стремительно теряет популярность, DS уже в гробу\n",
        "* PC тоже медленно теряет продажи\n",
        "* PS4 заменяет PS3 и держит высокую планку\n",
        "* PSP ушел в мир иной, PSV, Wii, WiiU уже встали на его путь\n",
        "* XOne заменяет X360 и держит топ-2"
      ]
    },
    {
      "cell_type": "markdown",
      "metadata": {
        "id": "y1Hg5YLSv2z0"
      },
      "source": [
        "Потенциально прибыльные платформы - однозначно PS4, XOne, PC и 3DS в Японии"
      ]
    },
    {
      "cell_type": "markdown",
      "metadata": {
        "id": "d5p0n18l_ogc"
      },
      "source": [
        "### Постройте график «ящик с усами» по глобальным продажам игр в разбивке по платформам. Опишите результат."
      ]
    },
    {
      "cell_type": "code",
      "metadata": {
        "colab": {
          "base_uri": "https://localhost:8080/",
          "height": 542
        },
        "id": "ApICZ2crdEcP",
        "outputId": "288f0ed6-b5c0-432e-def6-d22ad0c923f8"
      },
      "source": [
        "fig = px.box(df, x='total_sales', y='platform', orientation='h')\n",
        "fig.update_xaxes(range=[0, 5])\n",
        "fig.show()"
      ],
      "execution_count": 24,
      "outputs": [
        {
          "output_type": "display_data",
          "data": {
            "text/html": [
              "<div>\n",
              "        \n",
              "        \n",
              "            <div id=\"b5923bea-5883-449b-821a-a0c691e68ca1\" class=\"plotly-graph-div\" style=\"height:525px; width:100%;\"></div>\n",
              "            <script type=\"text/javascript\">\n",
              "                require([\"plotly\"], function(Plotly) {\n",
              "                    window.PLOTLYENV=window.PLOTLYENV || {};\n",
              "                    \n",
              "                if (document.getElementById(\"b5923bea-5883-449b-821a-a0c691e68ca1\")) {\n",
              "                    Plotly.newPlot(\n",
              "                        'b5923bea-5883-449b-821a-a0c691e68ca1',\n",
              "                        [{\"alignmentgroup\": \"True\", \"hoverlabel\": {\"namelength\": 0}, \"hovertemplate\": \"total_sales=%{x}<br>platform=%{y}\", \"legendgroup\": \"\", \"marker\": {\"color\": \"#636efa\"}, \"name\": \"\", \"notched\": false, \"offsetgroup\": \"\", \"orientation\": \"h\", \"showlegend\": false, \"type\": \"box\", \"x\": [21.05, 16.27, 14.629999999999999, 14.6, 12.620000000000001, 11.68, 10.24, 9.36, 9.18, 8.58, 7.98, 7.66, 7.6000000000000005, 7.550000000000001, 7.389999999999999, 7.17, 7.14, 7.09, 6.460000000000001, 6.08, 5.86, 5.640000000000001, 5.47, 5.39, 5.26, 5.2700000000000005, 5.220000000000001, 4.87, 4.72, 4.62, 4.59, 4.49, 4.470000000000001, 4.4399999999999995, 4.36, 4.319999999999999, 4.32, 4.28, 4.28, 4.22, 4.22, 4.07, 4.05, 4.04, 3.9699999999999998, 3.96, 3.96, 3.89, 3.87, 3.8299999999999996, 3.8, 3.7099999999999995, 3.66, 3.58, 3.5799999999999996, 3.5, 3.4899999999999998, 3.49, 3.44, 3.4200000000000004, 3.3899999999999997, 3.37, 3.32, 3.3099999999999996, 3.28, 3.28, 3.25, 3.2399999999999998, 3.2299999999999995, 3.23, 3.21, 3.1, 3.05, 3.0500000000000003, 3.01, 2.96, 2.95, 2.92, 2.92, 2.86, 2.7899999999999996, 2.78, 2.7600000000000002, 2.6999999999999997, 2.6900000000000004, 2.68, 2.65, 2.52, 2.48, 2.4499999999999997, 2.42, 2.4200000000000004, 2.42, 2.42, 2.34, 2.34, 2.29, 2.29, 2.2600000000000002, 2.25, 2.25, 2.2300000000000004, 2.24, 2.23, 2.22, 2.21, 2.1999999999999997, 2.19, 2.18, 2.1700000000000004, 2.15, 2.14, 2.11, 2.11, 2.09, 2.08, 2.07, 2.07, 2.0500000000000003, 2.02, 2.01, 2.01, 1.98, 1.9600000000000002, 1.94, 1.9200000000000002, 1.92, 1.9200000000000002, 1.91, 1.9100000000000001, 1.88, 1.9, 1.88, 1.8800000000000001, 1.87, 1.85, 1.83, 1.83, 1.83, 1.81, 1.7999999999999998, 1.7900000000000003, 1.8000000000000003, 1.74, 1.75, 1.7500000000000002, 1.74, 1.7400000000000002, 1.7200000000000002, 1.73, 1.7200000000000002, 1.73, 1.7, 1.6900000000000002, 1.6900000000000002, 1.69, 1.6700000000000002, 1.67, 1.6600000000000001, 1.65, 1.6600000000000001, 1.6400000000000001, 1.6400000000000001, 1.6300000000000001, 1.62, 1.6100000000000003, 1.6, 1.58, 1.57, 1.5699999999999998, 1.5700000000000003, 1.5699999999999998, 1.56, 1.54, 1.54, 1.5299999999999998, 1.51, 1.4900000000000002, 1.49, 1.4700000000000002, 1.46, 1.4600000000000002, 1.44, 1.44, 1.42, 1.42, 1.4100000000000001, 1.4000000000000001, 1.4000000000000001, 1.3800000000000001, 1.3800000000000001, 1.3900000000000001, 1.38, 1.3800000000000001, 1.3599999999999999, 1.3599999999999999, 1.36, 1.3399999999999999, 1.3399999999999999, 1.34, 1.33, 1.3199999999999998, 1.3199999999999998, 1.3, 1.3, 1.2900000000000003, 1.29, 1.29, 1.2800000000000002, 1.28, 1.2800000000000002, 1.27, 1.2799999999999998, 1.2699999999999998, 1.27, 1.26, 1.25, 1.25, 1.25, 1.23, 1.23, 1.23, 1.21, 1.21, 1.1900000000000002, 1.1900000000000002, 1.2000000000000002, 1.19, 1.17, 1.1700000000000002, 1.1600000000000001, 1.15, 1.14, 1.1300000000000001, 1.14, 1.13, 1.1199999999999999, 1.11, 1.12, 1.11, 1.1, 1.1, 1.09, 1.0799999999999998, 1.08, 1.08, 1.08, 1.07, 1.07, 1.06, 1.05, 1.05, 1.03, 1.03, 1.02, 1.01, 1.02, 1.01, 0.99, 0.98, 0.98, 0.9800000000000001, 0.9799999999999999, 0.97, 0.9700000000000001, 0.9700000000000001, 0.9600000000000001, 0.9500000000000001, 0.95, 0.95, 0.95, 0.9400000000000001, 0.94, 0.9400000000000001, 0.9400000000000001, 0.9400000000000001, 0.93, 0.93, 0.93, 0.92, 0.93, 0.93, 0.93, 0.93, 0.9299999999999999, 0.92, 0.8999999999999999, 0.9, 0.91, 0.91, 0.9, 0.9, 0.9000000000000001, 0.91, 0.8900000000000001, 0.89, 0.89, 0.89, 0.89, 0.88, 0.88, 0.87, 0.87, 0.87, 0.86, 0.86, 0.85, 0.84, 0.8400000000000001, 0.8500000000000001, 0.84, 0.8200000000000001, 0.8, 0.8000000000000002, 0.8, 0.7899999999999999, 0.8, 0.79, 0.78, 0.79, 0.78, 0.7799999999999999, 0.78, 0.7699999999999999, 0.78, 0.77, 0.76, 0.76, 0.75, 0.76, 0.7500000000000001, 0.7600000000000001, 0.75, 0.75, 0.75, 0.75, 0.74, 0.7300000000000001, 0.74, 0.73, 0.75, 0.7300000000000001, 0.74, 0.74, 0.7300000000000001, 0.7300000000000001, 0.73, 0.73, 0.73, 0.73, 0.72, 0.7200000000000001, 0.72, 0.73, 0.73, 0.7200000000000001, 0.7, 0.7, 0.6900000000000001, 0.71, 0.6900000000000001, 0.6900000000000001, 0.6900000000000002, 0.69, 0.6799999999999999, 0.7, 0.6700000000000002, 0.6900000000000001, 0.6800000000000002, 0.6599999999999999, 0.67, 0.6799999999999999, 0.67, 0.67, 0.6599999999999999, 0.66, 0.6600000000000001, 0.6599999999999999, 0.66, 0.66, 0.6599999999999999, 0.65, 0.6599999999999999, 0.65, 0.6499999999999999, 0.65, 0.64, 0.64, 0.65, 0.6400000000000001, 0.6399999999999999, 0.6400000000000001, 0.63, 0.64, 0.6400000000000001, 0.6300000000000001, 0.64, 0.63, 0.63, 0.6200000000000001, 0.63, 0.6300000000000001, 0.63, 0.6200000000000001, 0.62, 0.6200000000000001, 0.61, 0.61, 0.6200000000000001, 0.62, 0.61, 0.61, 0.6, 0.61, 0.6100000000000001, 0.6000000000000001, 0.6100000000000001, 0.6000000000000001, 0.5900000000000001, 0.6, 0.6, 0.5900000000000001, 0.6, 0.59, 0.6, 0.5900000000000001, 0.5800000000000001, 0.5800000000000001, 0.5800000000000001, 0.5800000000000001, 0.5800000000000001, 0.5800000000000001, 0.5700000000000001, 0.5700000000000001, 0.5700000000000001, 0.5700000000000001, 0.5700000000000001, 0.56, 0.5700000000000001, 0.56, 0.56, 0.56, 0.56, 0.56, 0.56, 0.55, 0.54, 0.5599999999999999, 0.56, 0.55, 0.55, 0.5499999999999999, 0.54, 0.5499999999999999, 0.53, 0.54, 0.53, 0.54, 0.53, 0.53, 0.53, 0.53, 0.52, 0.53, 0.53, 0.53, 0.52, 0.51, 0.52, 0.51, 0.51, 0.51, 0.51, 0.51, 0.49999999999999994, 0.51, 0.51, 0.49, 0.48, 0.49000000000000005, 0.48000000000000004, 0.49, 0.48, 0.48000000000000004, 0.48000000000000004, 0.48, 0.4799999999999999, 0.4800000000000001, 0.49000000000000005, 0.48, 0.48, 0.48, 0.47, 0.47, 0.45999999999999996, 0.47000000000000003, 0.47, 0.46, 0.45, 0.46, 0.46, 0.45999999999999996, 0.44999999999999996, 0.4600000000000001, 0.45, 0.44999999999999996, 0.45, 0.45, 0.45999999999999996, 0.45, 0.44, 0.44999999999999996, 0.45, 0.44000000000000006, 0.44000000000000006, 0.44, 0.44, 0.44, 0.45, 0.43, 0.43, 0.43, 0.44000000000000006, 0.44, 0.43, 0.44, 0.43, 0.44, 0.43, 0.42999999999999994, 0.43, 0.43, 0.43000000000000005, 0.42, 0.43000000000000005, 0.43, 0.42000000000000004, 0.42, 0.42000000000000004, 0.42, 0.42000000000000004, 0.42, 0.42, 0.42, 0.41000000000000003, 0.41, 0.41, 0.41, 0.41, 0.41000000000000003, 0.41000000000000003, 0.41000000000000003, 0.41000000000000003, 0.41, 0.41, 0.4, 0.4, 0.41, 0.38999999999999996, 0.4, 0.4, 0.39999999999999997, 0.39, 0.39999999999999997, 0.4, 0.38999999999999996, 0.39999999999999997, 0.39, 0.38, 0.39, 0.37999999999999995, 0.39, 0.38, 0.38999999999999996, 0.38, 0.38, 0.38, 0.38, 0.38, 0.38, 0.38, 0.38, 0.38, 0.38, 0.37000000000000005, 0.38, 0.38000000000000006, 0.37, 0.37, 0.37, 0.37000000000000005, 0.37000000000000005, 0.38, 0.36000000000000004, 0.36000000000000004, 0.37, 0.36, 0.37, 0.36, 0.36, 0.37, 0.36, 0.36, 0.36000000000000004, 0.36, 0.36, 0.36, 0.34, 0.36000000000000004, 0.34, 0.35, 0.36, 0.36, 0.35, 0.35000000000000003, 0.36, 0.35000000000000003, 0.35, 0.35000000000000003, 0.35000000000000003, 0.35, 0.33999999999999997, 0.34, 0.33999999999999997, 0.34, 0.35, 0.34, 0.35, 0.33999999999999997, 0.33999999999999997, 0.33999999999999997, 0.33, 0.32999999999999996, 0.34, 0.33, 0.33999999999999997, 0.33, 0.33, 0.33, 0.33, 0.32000000000000006, 0.31999999999999995, 0.33, 0.31999999999999995, 0.32, 0.31000000000000005, 0.32000000000000006, 0.33, 0.32, 0.32, 0.31999999999999995, 0.31999999999999995, 0.31000000000000005, 0.31000000000000005, 0.31000000000000005, 0.32000000000000006, 0.31000000000000005, 0.31, 0.31000000000000005, 0.31000000000000005, 0.32, 0.31000000000000005, 0.3, 0.3, 0.3, 0.31000000000000005, 0.31000000000000005, 0.31000000000000005, 0.31, 0.31000000000000005, 0.31, 0.30000000000000004, 0.3, 0.3, 0.3, 0.29000000000000004, 0.29000000000000004, 0.30000000000000004, 0.3, 0.3, 0.29000000000000004, 0.29000000000000004, 0.28, 0.29000000000000004, 0.29000000000000004, 0.28, 0.29, 0.29, 0.29000000000000004, 0.28, 0.29000000000000004, 0.29000000000000004, 0.29000000000000004, 0.27999999999999997, 0.28, 0.29000000000000004, 0.27, 0.28, 0.27, 0.28, 0.27, 0.29000000000000004, 0.28, 0.29, 0.28, 0.27, 0.27, 0.27, 0.28, 0.26999999999999996, 0.27, 0.27, 0.27, 0.27, 0.26, 0.27, 0.26, 0.26, 0.26, 0.27, 0.26, 0.26, 0.26, 0.26, 0.26, 0.26, 0.26, 0.26, 0.26, 0.26, 0.26, 0.26, 0.26, 0.26, 0.26, 0.25, 0.25, 0.26, 0.25, 0.25, 0.25, 0.25, 0.26, 0.26, 0.25, 0.25, 0.25, 0.24999999999999997, 0.25, 0.24000000000000002, 0.24, 0.24000000000000002, 0.25, 0.24999999999999997, 0.25, 0.24000000000000002, 0.24, 0.25, 0.24, 0.24000000000000002, 0.24000000000000002, 0.24999999999999997, 0.24, 0.24000000000000002, 0.24, 0.23, 0.24000000000000002, 0.23, 0.24, 0.24000000000000002, 0.24000000000000002, 0.24000000000000002, 0.24000000000000002, 0.24, 0.24, 0.24, 0.23, 0.23, 0.24000000000000002, 0.23, 0.23, 0.23, 0.22999999999999998, 0.24, 0.23, 0.23, 0.23, 0.22000000000000003, 0.23, 0.23, 0.23, 0.23, 0.23, 0.22, 0.22999999999999998, 0.22, 0.23, 0.22, 0.22, 0.23, 0.22, 0.23, 0.22, 0.22, 0.22, 0.22, 0.22, 0.21000000000000002, 0.22, 0.22, 0.22, 0.22, 0.21000000000000002, 0.22, 0.22, 0.21, 0.21000000000000002, 0.21, 0.22, 0.21, 0.22, 0.21, 0.21, 0.21000000000000002, 0.21, 0.21, 0.2, 0.21000000000000002, 0.21, 0.21, 0.2, 0.19999999999999998, 0.19999999999999998, 0.2, 0.2, 0.21, 0.19999999999999998, 0.2, 0.2, 0.19999999999999998, 0.21, 0.2, 0.2, 0.19999999999999998, 0.2, 0.19999999999999998, 0.19999999999999998, 0.2, 0.2, 0.21, 0.2, 0.19999999999999998, 0.2, 0.19999999999999998, 0.19999999999999998, 0.2, 0.2, 0.19999999999999998, 0.19, 0.19, 0.18000000000000002, 0.19, 0.19999999999999998, 0.19999999999999998, 0.19, 0.18999999999999997, 0.19, 0.18000000000000002, 0.19, 0.18999999999999997, 0.18999999999999997, 0.19999999999999998, 0.19, 0.18000000000000002, 0.19, 0.19, 0.18, 0.19, 0.19, 0.18000000000000002, 0.19, 0.18000000000000002, 0.19, 0.19, 0.19, 0.18999999999999997, 0.18, 0.19999999999999998, 0.19, 0.18999999999999997, 0.19, 0.18000000000000002, 0.18000000000000002, 0.18, 0.18, 0.18, 0.18, 0.18, 0.18, 0.18, 0.18, 0.18, 0.18999999999999997, 0.18, 0.16999999999999998, 0.18000000000000002, 0.18, 0.18, 0.18, 0.18, 0.18, 0.18, 0.18000000000000002, 0.17, 0.17, 0.18, 0.17, 0.16999999999999998, 0.16, 0.18, 0.17, 0.17, 0.17, 0.17, 0.17, 0.17, 0.17, 0.16, 0.17, 0.16999999999999998, 0.17, 0.17, 0.16, 0.16000000000000003, 0.17, 0.17, 0.16999999999999998, 0.16999999999999998, 0.17, 0.17, 0.16, 0.16, 0.16, 0.15000000000000002, 0.16, 0.16, 0.16000000000000003, 0.16000000000000003, 0.17, 0.16, 0.16, 0.16999999999999998, 0.16, 0.15000000000000002, 0.16, 0.15000000000000002, 0.16, 0.16, 0.16000000000000003, 0.16, 0.15000000000000002, 0.16, 0.16, 0.15000000000000002, 0.15000000000000002, 0.15000000000000002, 0.15, 0.16, 0.16, 0.15, 0.15, 0.15, 0.14, 0.15, 0.14, 0.15, 0.15, 0.15000000000000002, 0.15000000000000002, 0.15000000000000002, 0.15, 0.15000000000000002, 0.13999999999999999, 0.15, 0.16, 0.15, 0.15, 0.15, 0.15000000000000002, 0.15000000000000002, 0.15, 0.14, 0.14, 0.14, 0.14, 0.15000000000000002, 0.15000000000000002, 0.14, 0.13, 0.14, 0.14, 0.13999999999999999, 0.14, 0.13999999999999999, 0.14, 0.14, 0.14, 0.15, 0.14, 0.14, 0.14, 0.14, 0.14, 0.14, 0.13999999999999999, 0.14, 0.14, 0.13, 0.13, 0.14, 0.13, 0.14, 0.14, 0.13, 0.13, 0.13, 0.13, 0.13, 0.13, 0.13, 0.13, 0.12, 0.13, 0.12000000000000001, 0.13, 0.13, 0.13, 0.13, 0.13, 0.13, 0.13, 0.13, 0.13, 0.12000000000000001, 0.13, 0.13, 0.12999999999999998, 0.13, 0.13, 0.13, 0.13, 0.13, 0.13, 0.13, 0.12000000000000001, 0.13, 0.13, 0.12000000000000001, 0.13, 0.12, 0.12, 0.12, 0.12, 0.13, 0.13, 0.12, 0.12, 0.12, 0.12, 0.12, 0.12, 0.12000000000000001, 0.11, 0.12, 0.11, 0.12, 0.12, 0.12000000000000001, 0.12000000000000001, 0.12, 0.11, 0.12, 0.12, 0.12, 0.12, 0.12, 0.12, 0.12, 0.12, 0.11, 0.12, 0.12, 0.12, 0.12000000000000001, 0.12, 0.12, 0.12, 0.11, 0.12, 0.12, 0.12, 0.10999999999999999, 0.12, 0.11000000000000001, 0.12000000000000001, 0.12, 0.12000000000000001, 0.12000000000000001, 0.11, 0.11, 0.11, 0.11, 0.12, 0.11, 0.11, 0.11, 0.12000000000000001, 0.11, 0.11, 0.12000000000000001, 0.11, 0.11, 0.11, 0.11, 0.12000000000000001, 0.11, 0.11, 0.11, 0.11, 0.12000000000000001, 0.11, 0.11, 0.11, 0.11, 0.10999999999999999, 0.11, 0.11, 0.09999999999999999, 0.11, 0.11, 0.11, 0.11, 0.11, 0.09999999999999999, 0.11, 0.09999999999999999, 0.11000000000000001, 0.11, 0.11, 0.1, 0.1, 0.1, 0.11, 0.09999999999999999, 0.11, 0.1, 0.1, 0.1, 0.11, 0.09999999999999999, 0.11, 0.11, 0.1, 0.1, 0.09999999999999999, 0.09999999999999999, 0.09999999999999999, 0.11, 0.1, 0.09999999999999999, 0.1, 0.1, 0.09999999999999999, 0.09999999999999999, 0.1, 0.1, 0.09, 0.1, 0.09999999999999999, 0.09, 0.1, 0.1, 0.1, 0.09999999999999999, 0.09999999999999999, 0.09999999999999999, 0.1, 0.1, 0.09999999999999999, 0.09999999999999999, 0.1, 0.09, 0.1, 0.1, 0.09999999999999999, 0.1, 0.09999999999999999, 0.09999999999999999, 0.09, 0.09000000000000001, 0.09, 0.09999999999999999, 0.1, 0.09999999999999999, 0.09, 0.09, 0.09, 0.09, 0.09, 0.1, 0.09, 0.09999999999999999, 0.09999999999999999, 0.09000000000000001, 0.09, 0.09, 0.09999999999999999, 0.08, 0.09, 0.09, 0.1, 0.09, 0.09, 0.1, 0.09, 0.1, 0.09, 0.09000000000000001, 0.09, 0.09, 0.09, 0.09, 0.09999999999999999, 0.09, 0.09, 0.09, 0.09, 0.08, 0.08, 0.09, 0.08, 0.09, 0.09, 0.08, 0.09, 0.09, 0.08, 0.09999999999999999, 0.09, 0.09, 0.09, 0.09, 0.09, 0.08, 0.09, 0.08, 0.08, 0.08, 0.09, 0.09, 0.08, 0.08, 0.08, 0.08, 0.09, 0.08, 0.08, 0.08, 0.08, 0.08, 0.06999999999999999, 0.08, 0.08, 0.09, 0.08, 0.08, 0.09, 0.09000000000000001, 0.08, 0.07, 0.08, 0.07999999999999999, 0.08, 0.07999999999999999, 0.08, 0.06999999999999999, 0.08, 0.08, 0.08, 0.08, 0.08, 0.08, 0.08, 0.08, 0.08, 0.08, 0.08, 0.06999999999999999, 0.08, 0.08, 0.08, 0.06999999999999999, 0.08, 0.08, 0.08, 0.08, 0.08, 0.09, 0.07999999999999999, 0.07, 0.09, 0.07, 0.08, 0.08, 0.08, 0.08, 0.08, 0.08, 0.08, 0.08, 0.08, 0.08, 0.07, 0.08, 0.07, 0.07, 0.08, 0.07, 0.07, 0.07, 0.07, 0.08, 0.07, 0.08, 0.07, 0.06999999999999999, 0.07, 0.07, 0.07, 0.060000000000000005, 0.07, 0.08, 0.07, 0.06999999999999999, 0.07, 0.08, 0.08, 0.07, 0.06999999999999999, 0.07, 0.06999999999999999, 0.06999999999999999, 0.07, 0.07, 0.06999999999999999, 0.07999999999999999, 0.06999999999999999, 0.06999999999999999, 0.07, 0.06999999999999999, 0.06999999999999999, 0.06999999999999999, 0.08, 0.08, 0.07, 0.07, 0.07, 0.06, 0.07, 0.060000000000000005, 0.06999999999999999, 0.07, 0.07, 0.07, 0.07, 0.06999999999999999, 0.060000000000000005, 0.07, 0.07, 0.06999999999999999, 0.06, 0.07, 0.06, 0.07, 0.07, 0.06999999999999999, 0.07, 0.06999999999999999, 0.06, 0.06, 0.06, 0.06999999999999999, 0.06999999999999999, 0.06, 0.06999999999999999, 0.06, 0.06, 0.06, 0.06999999999999999, 0.06, 0.06, 0.06, 0.060000000000000005, 0.06, 0.06, 0.06999999999999999, 0.06999999999999999, 0.06, 0.060000000000000005, 0.060000000000000005, 0.06, 0.06, 0.060000000000000005, 0.06999999999999999, 0.060000000000000005, 0.06, 0.06, 0.060000000000000005, 0.06, 0.06, 0.06, 0.06999999999999999, 0.06, 0.060000000000000005, 0.06999999999999999, 0.060000000000000005, 0.060000000000000005, 0.060000000000000005, 0.06999999999999999, 0.06, 0.06, 0.06, 0.05, 0.06, 0.06, 0.06, 0.060000000000000005, 0.07, 0.06, 0.06, 0.06, 0.06, 0.060000000000000005, 0.06, 0.06999999999999999, 0.06, 0.060000000000000005, 0.06, 0.06, 0.06, 0.06, 0.060000000000000005, 0.05, 0.06, 0.06999999999999999, 0.060000000000000005, 0.060000000000000005, 0.06, 0.06, 0.05, 0.05, 0.06, 0.060000000000000005, 0.05, 0.060000000000000005, 0.060000000000000005, 0.060000000000000005, 0.060000000000000005, 0.05, 0.06, 0.06, 0.06, 0.060000000000000005, 0.06, 0.060000000000000005, 0.06, 0.05, 0.060000000000000005, 0.06, 0.05, 0.05, 0.05, 0.05, 0.060000000000000005, 0.05, 0.05, 0.05, 0.05, 0.05, 0.060000000000000005, 0.05, 0.060000000000000005, 0.05, 0.05, 0.060000000000000005, 0.05, 0.05, 0.05, 0.05, 0.05, 0.05, 0.05, 0.05, 0.05, 0.04, 0.060000000000000005, 0.05, 0.05, 0.05, 0.05, 0.05, 0.05, 0.05, 0.05, 0.05, 0.05, 0.060000000000000005, 0.05, 0.05, 0.05, 0.05, 0.05, 0.060000000000000005, 0.05, 0.05, 0.05, 0.05, 0.05, 0.05, 0.05, 0.05, 0.05, 0.05, 0.05, 0.05, 0.04, 0.060000000000000005, 0.05, 0.05, 0.04, 0.05, 0.05, 0.05, 0.04, 0.05, 0.05, 0.05, 0.05, 0.05, 0.05, 0.05, 0.05, 0.05, 0.05, 0.04, 0.05, 0.05, 0.04, 0.05, 0.05, 0.04, 0.04, 0.04, 0.05, 0.05, 0.05, 0.05, 0.05, 0.05, 0.05, 0.05, 0.05, 0.04, 0.05, 0.05, 0.05, 0.04, 0.04, 0.05, 0.04, 0.04, 0.05, 0.04, 0.04, 0.04, 0.04, 0.04, 0.04, 0.04, 0.04, 0.04, 0.04, 0.04, 0.04, 0.04, 0.04, 0.04, 0.04, 0.04, 0.04, 0.04, 0.04, 0.04, 0.03, 0.04, 0.05, 0.04, 0.04, 0.03, 0.03, 0.04, 0.04, 0.04, 0.05, 0.04, 0.04, 0.04, 0.04, 0.04, 0.04, 0.04, 0.04, 0.04, 0.04, 0.04, 0.04, 0.04, 0.04, 0.04, 0.04, 0.03, 0.04, 0.05, 0.04, 0.04, 0.03, 0.04, 0.04, 0.04, 0.04, 0.04, 0.04, 0.04, 0.04, 0.04, 0.04, 0.04, 0.04, 0.03, 0.03, 0.04, 0.04, 0.04, 0.04, 0.04, 0.04, 0.04, 0.04, 0.04, 0.04, 0.04, 0.03, 0.03, 0.03, 0.04, 0.03, 0.03, 0.03, 0.04, 0.04, 0.04, 0.04, 0.03, 0.04, 0.03, 0.03, 0.03, 0.03, 0.03, 0.03, 0.03, 0.03, 0.03, 0.03, 0.03, 0.03, 0.03, 0.03, 0.04, 0.03, 0.03, 0.03, 0.03, 0.03, 0.03, 0.03, 0.03, 0.03, 0.03, 0.03, 0.03, 0.03, 0.03, 0.03, 0.04, 0.03, 0.03, 0.03, 0.03, 0.03, 0.03, 0.03, 0.04, 0.03, 0.03, 0.03, 0.03, 0.03, 0.03, 0.03, 0.03, 0.03, 0.03, 0.03, 0.03, 0.03, 0.03, 0.03, 0.03, 0.03, 0.03, 0.03, 0.03, 0.03, 0.03, 0.03, 0.03, 0.03, 0.04, 0.03, 0.02, 0.04, 0.03, 0.03, 0.03, 0.03, 0.03, 0.03, 0.03, 0.03, 0.03, 0.03, 0.03, 0.03, 0.03, 0.03, 0.03, 0.03, 0.03, 0.03, 0.03, 0.03, 0.03, 0.02, 0.03, 0.03, 0.03, 0.03, 0.03, 0.03, 0.03, 0.03, 0.03, 0.03, 0.03, 0.03, 0.03, 0.03, 0.03, 0.03, 0.03, 0.03, 0.03, 0.03, 0.03, 0.03, 0.03, 0.02, 0.03, 0.03, 0.03, 0.03, 0.03, 0.03, 0.02, 0.03, 0.02, 0.03, 0.03, 0.03, 0.03, 0.03, 0.03, 0.03, 0.03, 0.03, 0.02, 0.02, 0.03, 0.02, 0.03, 0.03, 0.03, 0.03, 0.03, 0.03, 0.02, 0.03, 0.03, 0.02, 0.03, 0.03, 0.03, 0.03, 0.03, 0.02, 0.02, 0.03, 0.02, 0.03, 0.03, 0.02, 0.03, 0.03, 0.02, 0.03, 0.02, 0.02, 0.03, 0.02, 0.02, 0.02, 0.03, 0.03, 0.03, 0.03, 0.03, 0.02, 0.02, 0.03, 0.02, 0.02, 0.02, 0.02, 0.02, 0.02, 0.02, 0.02, 0.02, 0.02, 0.02, 0.02, 0.02, 0.02, 0.02, 0.02, 0.02, 0.02, 0.02, 0.02, 0.02, 0.02, 0.02, 0.02, 0.02, 0.02, 0.02, 0.02, 0.02, 0.02, 0.02, 0.02, 0.02, 0.02, 0.02, 0.02, 0.02, 0.02, 0.02, 0.02, 0.02, 0.02, 0.02, 0.02, 0.02, 0.02, 0.02, 0.02, 0.02, 0.02, 0.02, 0.02, 0.02, 0.02, 0.02, 0.02, 0.02, 0.02, 0.02, 0.02, 0.02, 0.02, 0.02, 0.02, 0.02, 0.02, 0.02, 0.02, 0.02, 0.02, 0.02, 0.02, 0.02, 0.02, 0.02, 0.02, 0.02, 0.02, 0.02, 0.02, 0.02, 0.02, 0.02, 0.01, 0.02, 0.02, 0.02, 0.02, 0.02, 0.02, 0.02, 0.02, 0.02, 0.02, 0.02, 0.02, 0.02, 0.02, 0.02, 0.02, 0.02, 0.02, 0.02, 0.02, 0.02, 0.02, 0.02, 0.02, 0.02, 0.02, 0.02, 0.02, 0.01, 0.02, 0.02, 0.02, 0.01, 0.02, 0.02, 0.02, 0.02, 0.02, 0.02, 0.02, 0.02, 0.02, 0.02, 0.02, 0.02, 0.02, 0.02, 0.02, 0.02, 0.02, 0.02, 0.01, 0.02, 0.02, 0.02, 0.01, 0.02, 0.02, 0.02, 0.01, 0.02, 0.02, 0.02, 0.02, 0.02, 0.02, 0.02, 0.02, 0.01, 0.02, 0.02, 0.01, 0.02, 0.02, 0.02, 0.02, 0.02, 0.02, 0.01, 0.02, 0.02, 0.01, 0.01, 0.02, 0.02, 0.02, 0.02, 0.02, 0.02, 0.02, 0.02, 0.01, 0.02, 0.02, 0.02, 0.02, 0.02, 0.02, 0.01, 0.01, 0.02, 0.01, 0.02, 0.02, 0.02, 0.02, 0.02, 0.01, 0.01, 0.01, 0.02, 0.01, 0.01, 0.02, 0.02, 0.01, 0.01, 0.02, 0.02, 0.01, 0.01, 0.02, 0.01, 0.01, 0.01, 0.01, 0.01, 0.01, 0.02, 0.01, 0.01, 0.01, 0.01, 0.01, 0.01, 0.01, 0.01, 0.01, 0.01, 0.01, 0.01, 0.01, 0.01, 0.01, 0.01, 0.01, 0.01, 0.01, 0.01, 0.01, 0.01, 0.01, 0.01, 0.01, 0.01, 0.01, 0.01, 0.01, 0.01, 0.01, 0.01, 0.01, 0.01, 0.01, 0.01, 0.01, 0.01, 0.01, 0.01, 0.01, 0.01, 0.01, 0.01, 0.01, 0.01, 0.01, 0.01, 0.01, 0.01, 0.01, 0.01, 0.01, 0.01, 0.01, 0.01, 0.01, 0.01, 0.01, 0.01, 0.01, 0.01, 0.01, 0.01, 0.01, 0.01, 0.01, 0.01, 0.01, 0.01, 0.01, 0.01, 0.01, 0.01, 0.01, 0.01, 0.01, 0.01, 0.01, 0.01, 0.01, 0.01, 0.01, 0.01, 0.01, 0.01, 0.01, 0.01, 0.01, 0.01, 0.01, 0.01, 0.01, 0.01, 0.01, 0.01, 0.01, 0.01, 0.01, 0.01, 0.01, 0.01, 0.01, 0.01, 0.01, 0.01, 0.01, 0.01, 0.01, 0.01, 0.01, 0.01, 0.01, 0.01, 0.01, 0.01, 0.01, 0.01, 0.01, 0.01, 0.01, 0.01, 0.01, 0.01, 0.01, 0.01, 0.01, 0.01, 0.01, 0.01, 0.01, 0.01, 0.01, 0.01, 0.01, 0.01, 0.01, 0.01, 0.01, 0.01, 0.01, 0.01, 0.01, 0.01, 0.01, 0.01, 0.01, 0.01, 0.01, 0.01, 0.01, 0.01, 0.01, 0.01, 0.01, 0.01, 0.01, 0.01, 0.01, 0.01, 0.01, 0.01, 0.01, 0.01, 0.01, 0.01, 0.01, 0.01, 0.01, 0.01], \"x0\": \" \", \"xaxis\": \"x\", \"y\": [\"PS3\", \"X360\", \"PS4\", \"3DS\", \"PS4\", \"3DS\", \"X360\", \"PS3\", \"X360\", \"PS4\", \"PS4\", \"PS4\", \"PS4\", \"3DS\", \"XOne\", \"PS4\", \"3DS\", \"WiiU\", \"PS3\", \"PS4\", \"PS3\", \"PS4\", \"XOne\", \"PS4\", \"XOne\", \"PS3\", \"3DS\", \"WiiU\", \"PS4\", \"PS4\", \"3DS\", \"XOne\", \"PS4\", \"WiiU\", \"PS3\", \"WiiU\", \"PS4\", \"X360\", \"PS3\", \"XOne\", \"X360\", \"PS4\", \"PS4\", \"PS4\", \"PS4\", \"PS4\", \"PS4\", \"3DS\", \"PS4\", \"PS4\", \"PS4\", \"PS3\", \"XOne\", \"PS4\", \"Wii\", \"XOne\", \"PS3\", \"X360\", \"3DS\", \"PS4\", \"PS4\", \"XOne\", \"3DS\", \"X360\", \"3DS\", \"XOne\", \"XOne\", \"PS4\", \"PS3\", \"XOne\", \"WiiU\", \"3DS\", \"3DS\", \"PC\", \"PS4\", \"PS4\", \"XOne\", \"XOne\", \"X360\", \"PS4\", \"PS4\", \"PS4\", \"XOne\", \"PS3\", \"PS4\", \"3DS\", \"XOne\", \"X360\", \"PS4\", \"PS4\", \"PS4\", \"XOne\", \"XOne\", \"PS3\", \"3DS\", \"XOne\", \"PS3\", \"3DS\", \"PS4\", \"XOne\", \"PS3\", \"WiiU\", \"XOne\", \"X360\", \"X360\", \"PS4\", \"XOne\", \"PS4\", \"XOne\", \"XOne\", \"Wii\", \"PS4\", \"PS3\", \"PS4\", \"PS4\", \"3DS\", \"3DS\", \"PS4\", \"X360\", \"XOne\", \"Wii\", \"PS4\", \"PS4\", \"PSV\", \"X360\", \"PS4\", \"X360\", \"3DS\", \"PS3\", \"PS4\", \"X360\", \"3DS\", \"X360\", \"PS4\", \"PS3\", \"PS4\", \"PS3\", \"3DS\", \"PS4\", \"PS4\", \"XOne\", \"PS4\", \"WiiU\", \"PS4\", \"PS4\", \"WiiU\", \"PS3\", \"PS3\", \"PS4\", \"PS4\", \"PS4\", \"XOne\", \"X360\", \"PS4\", \"PS3\", \"PS3\", \"3DS\", \"PC\", \"PS4\", \"X360\", \"PS4\", \"XOne\", \"PS3\", \"X360\", \"PS4\", \"PS3\", \"Wii\", \"WiiU\", \"XOne\", \"X360\", \"XOne\", \"X360\", \"XOne\", \"PS4\", \"PS4\", \"WiiU\", \"3DS\", \"XOne\", \"PS4\", \"3DS\", \"3DS\", \"PS3\", \"PS4\", \"X360\", \"PC\", \"PS3\", \"X360\", \"PS4\", \"XOne\", \"X360\", \"3DS\", \"XOne\", \"XOne\", \"XOne\", \"X360\", \"XOne\", \"PC\", \"XOne\", \"XOne\", \"PS3\", \"3DS\", \"PS4\", \"X360\", \"XOne\", \"WiiU\", \"XOne\", \"PS3\", \"XOne\", \"PC\", \"PS3\", \"XOne\", \"X360\", \"PS3\", \"PS4\", \"PS3\", \"PS3\", \"PS3\", \"X360\", \"3DS\", \"XOne\", \"PS3\", \"WiiU\", \"PS4\", \"XOne\", \"PC\", \"WiiU\", \"XOne\", \"PS3\", \"PS4\", \"PC\", \"XOne\", \"PS4\", \"PS3\", \"XOne\", \"PS4\", \"PS4\", \"PS4\", \"3DS\", \"WiiU\", \"X360\", \"PS4\", \"WiiU\", \"X360\", \"PS4\", \"PS3\", \"XOne\", \"X360\", \"X360\", \"PS3\", \"XOne\", \"XOne\", \"PS4\", \"WiiU\", \"XOne\", \"PS3\", \"X360\", \"PS4\", \"WiiU\", \"X360\", \"PS4\", \"X360\", \"PS3\", \"X360\", \"X360\", \"PS3\", \"PS4\", \"PS3\", \"PS3\", \"PS3\", \"Wii\", \"Wii\", \"X360\", \"X360\", \"PS3\", \"PS4\", \"PS3\", \"PS4\", \"XOne\", \"3DS\", \"PS4\", \"PS3\", \"3DS\", \"PS4\", \"PS3\", \"X360\", \"PS4\", \"XOne\", \"PS4\", \"XOne\", \"X360\", \"X360\", \"PS4\", \"PC\", \"PS4\", \"3DS\", \"X360\", \"PS4\", \"X360\", \"X360\", \"XOne\", \"PS4\", \"3DS\", \"X360\", \"PS3\", \"3DS\", \"PS4\", \"PS3\", \"WiiU\", \"WiiU\", \"PS3\", \"PS3\", \"PS4\", \"XOne\", \"PSV\", \"PSV\", \"PS3\", \"X360\", \"3DS\", \"PS4\", \"XOne\", \"X360\", \"PS3\", \"X360\", \"PS3\", \"WiiU\", \"X360\", \"WiiU\", \"XOne\", \"3DS\", \"3DS\", \"3DS\", \"PS4\", \"XOne\", \"PS4\", \"PS4\", \"3DS\", \"X360\", \"PS4\", \"PS3\", \"PS4\", \"XOne\", \"PS3\", \"PS3\", \"WiiU\", \"PS3\", \"PS3\", \"PC\", \"PS4\", \"WiiU\", \"PS4\", \"PC\", \"3DS\", \"PS4\", \"X360\", \"PS4\", \"PC\", \"PS4\", \"WiiU\", \"PC\", \"PS4\", \"PS4\", \"PS3\", \"3DS\", \"XOne\", \"XOne\", \"XOne\", \"WiiU\", \"PS4\", \"XOne\", \"XOne\", \"PS4\", \"X360\", \"PS3\", \"PS4\", \"XOne\", \"PS4\", \"WiiU\", \"PC\", \"PS3\", \"PS3\", \"XOne\", \"PSV\", \"PC\", \"PS3\", \"WiiU\", \"PC\", \"PS4\", \"PSV\", \"PC\", \"WiiU\", \"PS3\", \"X360\", \"PC\", \"PS4\", \"XOne\", \"XOne\", \"PS3\", \"3DS\", \"PC\", \"X360\", \"PS4\", \"PC\", \"PS4\", \"3DS\", \"PS4\", \"XOne\", \"PS3\", \"PS4\", \"PSV\", \"PS3\", \"XOne\", \"PS4\", \"PS3\", \"PS3\", \"X360\", \"XOne\", \"PS3\", \"WiiU\", \"3DS\", \"PS4\", \"PS4\", \"WiiU\", \"PS4\", \"PS3\", \"PSV\", \"XOne\", \"PS3\", \"WiiU\", \"3DS\", \"PS3\", \"PS3\", \"PS3\", \"X360\", \"XOne\", \"XOne\", \"X360\", \"WiiU\", \"PS3\", \"3DS\", \"PC\", \"XOne\", \"3DS\", \"XOne\", \"PS3\", \"Wii\", \"XOne\", \"PS4\", \"PS3\", \"PS4\", \"PC\", \"PC\", \"PS3\", \"PS3\", \"PS3\", \"3DS\", \"X360\", \"WiiU\", \"PS3\", \"XOne\", \"XOne\", \"PC\", \"3DS\", \"PC\", \"X360\", \"X360\", \"PS3\", \"WiiU\", \"PS4\", \"PS4\", \"WiiU\", \"DS\", \"PSV\", \"PSV\", \"PS3\", \"XOne\", \"X360\", \"PS3\", \"PS3\", \"3DS\", \"PS4\", \"X360\", \"3DS\", \"3DS\", \"3DS\", \"XOne\", \"WiiU\", \"XOne\", \"3DS\", \"PS3\", \"X360\", \"X360\", \"XOne\", \"XOne\", \"PC\", \"XOne\", \"PS4\", \"PC\", \"X360\", \"XOne\", \"PS4\", \"PS3\", \"WiiU\", \"XOne\", \"3DS\", \"X360\", \"X360\", \"3DS\", \"PSV\", \"WiiU\", \"PS4\", \"PS3\", \"PC\", \"PS3\", \"PC\", \"WiiU\", \"PS3\", \"PS4\", \"XOne\", \"X360\", \"X360\", \"XOne\", \"PS4\", \"3DS\", \"PS3\", \"X360\", \"XOne\", \"PS3\", \"PS3\", \"X360\", \"3DS\", \"PS4\", \"X360\", \"X360\", \"X360\", \"PSV\", \"PS4\", \"3DS\", \"PS3\", \"WiiU\", \"3DS\", \"WiiU\", \"PS4\", \"XOne\", \"PS4\", \"PS3\", \"PS3\", \"XOne\", \"XOne\", \"PC\", \"PSV\", \"PS3\", \"PSV\", \"PC\", \"XOne\", \"WiiU\", \"PS4\", \"PS4\", \"PS3\", \"PS4\", \"WiiU\", \"PC\", \"PS3\", \"X360\", \"PS4\", \"PS4\", \"XOne\", \"PS4\", \"WiiU\", \"PS4\", \"PS3\", \"PS4\", \"PS4\", \"3DS\", \"X360\", \"Wii\", \"PS4\", \"X360\", \"3DS\", \"PC\", \"PS4\", \"X360\", \"PSV\", \"PS3\", \"DS\", \"PS3\", \"WiiU\", \"PS3\", \"PS4\", \"PS3\", \"PS4\", \"PS3\", \"PS4\", \"3DS\", \"PS4\", \"PS3\", \"PS3\", \"PS4\", \"XOne\", \"PC\", \"PS3\", \"WiiU\", \"PSV\", \"XOne\", \"PS4\", \"3DS\", \"XOne\", \"PSV\", \"PS3\", \"PS4\", \"PS3\", \"PC\", \"X360\", \"X360\", \"3DS\", \"PS4\", \"PS4\", \"PSV\", \"X360\", \"PC\", \"PS3\", \"X360\", \"XOne\", \"PS4\", \"XOne\", \"PS4\", \"WiiU\", \"WiiU\", \"PC\", \"XOne\", \"XOne\", \"PS4\", \"3DS\", \"3DS\", \"PS4\", \"PS4\", \"PS4\", \"PS3\", \"3DS\", \"PSV\", \"PS3\", \"3DS\", \"XOne\", \"PS3\", \"XOne\", \"3DS\", \"X360\", \"PC\", \"PSV\", \"PSV\", \"PS4\", \"X360\", \"X360\", \"XOne\", \"PC\", \"PS3\", \"PS3\", \"WiiU\", \"3DS\", \"WiiU\", \"XOne\", \"PS4\", \"3DS\", \"PS4\", \"PS3\", \"PS4\", \"PS3\", \"3DS\", \"XOne\", \"PS4\", \"X360\", \"PSV\", \"X360\", \"PS4\", \"PSV\", \"PSV\", \"XOne\", \"3DS\", \"PSV\", \"PS4\", \"PS4\", \"PS3\", \"PSV\", \"PC\", \"3DS\", \"PS3\", \"XOne\", \"3DS\", \"PS4\", \"WiiU\", \"PS4\", \"X360\", \"PC\", \"PS3\", \"PS4\", \"3DS\", \"PS4\", \"X360\", \"PS3\", \"WiiU\", \"3DS\", \"X360\", \"PS4\", \"X360\", \"PS3\", \"PS3\", \"3DS\", \"X360\", \"WiiU\", \"PC\", \"PS3\", \"PS4\", \"PS3\", \"XOne\", \"XOne\", \"X360\", \"3DS\", \"PS3\", \"3DS\", \"PS3\", \"PS4\", \"3DS\", \"Wii\", \"PS4\", \"3DS\", \"PS4\", \"PC\", \"PS3\", \"3DS\", \"XOne\", \"XOne\", \"PS3\", \"PS3\", \"PS3\", \"PS4\", \"X360\", \"X360\", \"PS3\", \"PS3\", \"XOne\", \"3DS\", \"PS3\", \"3DS\", \"PS4\", \"PC\", \"PS3\", \"PC\", \"PS3\", \"WiiU\", \"PS3\", \"PS3\", \"PC\", \"PS4\", \"PS4\", \"XOne\", \"PSV\", \"3DS\", \"XOne\", \"PS4\", \"3DS\", \"XOne\", \"PS4\", \"3DS\", \"PC\", \"XOne\", \"3DS\", \"X360\", \"PS4\", \"3DS\", \"3DS\", \"XOne\", \"PS3\", \"XOne\", \"PS4\", \"PSP\", \"WiiU\", \"X360\", \"3DS\", \"PSV\", \"PS4\", \"PS3\", \"PSV\", \"X360\", \"PC\", \"WiiU\", \"PC\", \"PS4\", \"PS4\", \"PSV\", \"XOne\", \"X360\", \"PS3\", \"PS3\", \"X360\", \"3DS\", \"PSV\", \"PSP\", \"Wii\", \"3DS\", \"WiiU\", \"PS4\", \"PSV\", \"PS4\", \"PSV\", \"PC\", \"XOne\", \"XOne\", \"XOne\", \"3DS\", \"X360\", \"X360\", \"PS4\", \"PC\", \"PS4\", \"3DS\", \"X360\", \"PS3\", \"3DS\", \"3DS\", \"X360\", \"PS3\", \"PC\", \"PSV\", \"PSV\", \"PS4\", \"XOne\", \"XOne\", \"PS3\", \"PSV\", \"3DS\", \"DS\", \"PC\", \"PS4\", \"PS3\", \"PS4\", \"PSV\", \"XOne\", \"X360\", \"PS4\", \"WiiU\", \"PS4\", \"PS3\", \"3DS\", \"PC\", \"X360\", \"PS4\", \"XOne\", \"XOne\", \"PS4\", \"PS3\", \"XOne\", \"PS3\", \"PC\", \"PSP\", \"XOne\", \"PS3\", \"PS3\", \"3DS\", \"PS4\", \"3DS\", \"PSV\", \"3DS\", \"PS3\", \"PC\", \"XOne\", \"PS3\", \"WiiU\", \"PS4\", \"PC\", \"PSV\", \"WiiU\", \"PC\", \"PC\", \"PSP\", \"WiiU\", \"PSV\", \"WiiU\", \"PS3\", \"PSV\", \"PS3\", \"PSV\", \"PS4\", \"PC\", \"3DS\", \"PSV\", \"3DS\", \"PC\", \"XOne\", \"PS4\", \"PS4\", \"PS3\", \"PS3\", \"Wii\", \"DS\", \"Wii\", \"XOne\", \"PSV\", \"X360\", \"PS3\", \"PS4\", \"PSV\", \"PS4\", \"3DS\", \"WiiU\", \"PSV\", \"PSV\", \"PS3\", \"3DS\", \"PC\", \"X360\", \"PSP\", \"XOne\", \"PS4\", \"PS4\", \"PS4\", \"PC\", \"XOne\", \"PS4\", \"PS4\", \"PS4\", \"X360\", \"X360\", \"PS4\", \"3DS\", \"PSV\", \"3DS\", \"PSP\", \"PSV\", \"XOne\", \"PSV\", \"PS4\", \"PC\", \"3DS\", \"PSV\", \"X360\", \"PSV\", \"3DS\", \"X360\", \"X360\", \"PSV\", \"PS3\", \"3DS\", \"PC\", \"PSV\", \"PS3\", \"PSP\", \"XOne\", \"3DS\", \"XOne\", \"PS3\", \"PC\", \"PS4\", \"XOne\", \"PS4\", \"XOne\", \"PS4\", \"XOne\", \"PS3\", \"X360\", \"PC\", \"3DS\", \"PSV\", \"PS3\", \"PS3\", \"XOne\", \"XOne\", \"X360\", \"3DS\", \"PSV\", \"PS3\", \"PSV\", \"PSV\", \"PS3\", \"PSV\", \"PSV\", \"3DS\", \"PS3\", \"PS4\", \"3DS\", \"XOne\", \"XOne\", \"PS4\", \"PSV\", \"PS4\", \"3DS\", \"PS3\", \"PS4\", \"3DS\", \"Wii\", \"WiiU\", \"X360\", \"PSP\", \"XOne\", \"3DS\", \"PS4\", \"3DS\", \"PC\", \"PC\", \"PS3\", \"PS3\", \"X360\", \"PSV\", \"PS4\", \"Wii\", \"PS4\", \"XOne\", \"PS3\", \"PC\", \"3DS\", \"X360\", \"XOne\", \"3DS\", \"PSV\", \"XOne\", \"PS3\", \"PS4\", \"PSV\", \"XOne\", \"PS4\", \"XOne\", \"PC\", \"PS4\", \"PS3\", \"PS3\", \"PS3\", \"PC\", \"PSV\", \"PS3\", \"PSV\", \"PSV\", \"XOne\", \"3DS\", \"PSV\", \"3DS\", \"PS4\", \"PSV\", \"PC\", \"PSV\", \"XOne\", \"PS3\", \"PC\", \"PS3\", \"PS4\", \"WiiU\", \"PSV\", \"3DS\", \"PSV\", \"PS3\", \"PSV\", \"PS3\", \"X360\", \"PSP\", \"3DS\", \"PSV\", \"3DS\", \"PS3\", \"PC\", \"XOne\", \"PSV\", \"XOne\", \"XOne\", \"PSV\", \"3DS\", \"3DS\", \"3DS\", \"3DS\", \"PSV\", \"DS\", \"PS3\", \"X360\", \"PS4\", \"PS4\", \"PS4\", \"PS4\", \"PC\", \"PSV\", \"XOne\", \"X360\", \"XOne\", \"PC\", \"X360\", \"3DS\", \"PS3\", \"PSP\", \"XOne\", \"WiiU\", \"PS3\", \"X360\", \"3DS\", \"3DS\", \"PS4\", \"PS3\", \"PSP\", \"PSV\", \"WiiU\", \"PS4\", \"PSV\", \"X360\", \"WiiU\", \"PC\", \"PS3\", \"PC\", \"X360\", \"PS3\", \"PS3\", \"PSV\", \"PS3\", \"PS3\", \"PS4\", \"WiiU\", \"3DS\", \"PS3\", \"PSV\", \"WiiU\", \"3DS\", \"WiiU\", \"PS3\", \"PSV\", \"3DS\", \"PS3\", \"PS3\", \"PSV\", \"XOne\", \"PS3\", \"PSV\", \"PS4\", \"3DS\", \"PSV\", \"PSV\", \"PSV\", \"PS4\", \"XOne\", \"PSP\", \"3DS\", \"PS4\", \"XOne\", \"WiiU\", \"XOne\", \"PS4\", \"PS3\", \"XOne\", \"PC\", \"PSV\", \"3DS\", \"X360\", \"PSV\", \"X360\", \"PS3\", \"PS4\", \"PSV\", \"PSV\", \"PS3\", \"3DS\", \"PS3\", \"PC\", \"PC\", \"3DS\", \"PS3\", \"3DS\", \"PSV\", \"XOne\", \"PS3\", \"PC\", \"PSV\", \"PSP\", \"WiiU\", \"PSV\", \"3DS\", \"PSV\", \"XOne\", \"PC\", \"PS4\", \"PS3\", \"X360\", \"PC\", \"PSV\", \"PSV\", \"PS4\", \"PS4\", \"X360\", \"PS4\", \"PSV\", \"PSV\", \"PS4\", \"X360\", \"PC\", \"WiiU\", \"PS4\", \"PSV\", \"WiiU\", \"PSV\", \"PSV\", \"PSV\", \"PS4\", \"3DS\", \"PS4\", \"3DS\", \"PSV\", \"XOne\", \"WiiU\", \"PSV\", \"PSV\", \"WiiU\", \"PS3\", \"3DS\", \"PS4\", \"PSV\", \"PS3\", \"PSV\", \"PS4\", \"PS4\", \"PSV\", \"Wii\", \"3DS\", \"PS4\", \"PC\", \"PSV\", \"PC\", \"PS4\", \"PSV\", \"PS3\", \"PS3\", \"3DS\", \"PSV\", \"PS3\", \"X360\", \"PS3\", \"3DS\", \"PS3\", \"3DS\", \"PS3\", \"PS4\", \"PSP\", \"X360\", \"X360\", \"PS4\", \"PSP\", \"PSV\", \"PC\", \"PC\", \"X360\", \"PS3\", \"PS3\", \"3DS\", \"PS3\", \"3DS\", \"WiiU\", \"PC\", \"XOne\", \"PS3\", \"PS4\", \"XOne\", \"PS4\", \"3DS\", \"3DS\", \"WiiU\", \"PS4\", \"WiiU\", \"PS4\", \"PSV\", \"3DS\", \"PS4\", \"PS4\", \"PS4\", \"3DS\", \"WiiU\", \"PSV\", \"X360\", \"PS4\", \"PS4\", \"X360\", \"PS4\", \"PSV\", \"PS3\", \"PC\", \"3DS\", \"3DS\", \"PS4\", \"PS4\", \"3DS\", \"3DS\", \"PS3\", \"X360\", \"PC\", \"X360\", \"3DS\", \"PS3\", \"PSP\", \"PC\", \"PS4\", \"PS3\", \"XOne\", \"3DS\", \"PSV\", \"X360\", \"3DS\", \"PS3\", \"PSV\", \"PS4\", \"PC\", \"PSP\", \"PC\", \"PS4\", \"PS4\", \"3DS\", \"X360\", \"XOne\", \"XOne\", \"X360\", \"WiiU\", \"PC\", \"X360\", \"PS4\", \"3DS\", \"PS4\", \"3DS\", \"XOne\", \"PS4\", \"3DS\", \"PSV\", \"3DS\", \"PSV\", \"PS4\", \"PS3\", \"XOne\", \"3DS\", \"3DS\", \"XOne\", \"3DS\", \"PSV\", \"PSV\", \"PSV\", \"PS3\", \"3DS\", \"3DS\", \"PSV\", \"PS4\", \"PS4\", \"3DS\", \"PC\", \"Wii\", \"3DS\", \"PSV\", \"XOne\", \"PS4\", \"3DS\", \"X360\", \"DS\", \"PSV\", \"PSV\", \"3DS\", \"3DS\", \"X360\", \"PSV\", \"PS3\", \"X360\", \"X360\", \"PSV\", \"PSV\", \"3DS\", \"PS3\", \"PSV\", \"XOne\", \"PS3\", \"PS3\", \"3DS\", \"3DS\", \"PS4\", \"PC\", \"PSV\", \"PS4\", \"PS4\", \"3DS\", \"PSV\", \"3DS\", \"PSV\", \"PS3\", \"X360\", \"PS4\", \"XOne\", \"WiiU\", \"PS3\", \"3DS\", \"3DS\", \"3DS\", \"X360\", \"PSV\", \"3DS\", \"PS4\", \"PSV\", \"X360\", \"PSV\", \"3DS\", \"PC\", \"WiiU\", \"PSV\", \"PSV\", \"PSV\", \"WiiU\", \"XOne\", \"3DS\", \"PSV\", \"PS3\", \"PC\", \"PSV\", \"PS3\", \"3DS\", \"PS3\", \"3DS\", \"PS4\", \"XOne\", \"XOne\", \"PC\", \"PSV\", \"X360\", \"PSV\", \"PS3\", \"3DS\", \"PS4\", \"PC\", \"3DS\", \"PC\", \"WiiU\", \"3DS\", \"X360\", \"PSV\", \"PS4\", \"WiiU\", \"PS4\", \"PS4\", \"PS3\", \"3DS\", \"PS3\", \"XOne\", \"PSV\", \"PSV\", \"PS4\", \"XOne\", \"X360\", \"PSV\", \"PSV\", \"3DS\", \"3DS\", \"PS3\", \"3DS\", \"WiiU\", \"PSV\", \"3DS\", \"3DS\", \"3DS\", \"3DS\", \"3DS\", \"XOne\", \"X360\", \"PS4\", \"PS3\", \"XOne\", \"PSV\", \"PSV\", \"PS4\", \"PC\", \"WiiU\", \"PS3\", \"PS4\", \"X360\", \"PS4\", \"PS4\", \"PS3\", \"PS3\", \"PC\", \"PSP\", \"PSV\", \"PSV\", \"PS4\", \"PSV\", \"X360\", \"PS4\", \"PC\", \"PS4\", \"PSV\", \"PSP\", \"XOne\", \"PSV\", \"PC\", \"PS3\", \"PS4\", \"PSV\", \"XOne\", \"PSV\", \"3DS\", \"PS3\", \"PC\", \"3DS\", \"PSV\", \"PS3\", \"PSV\", \"PSV\", \"PSV\", \"Wii\", \"3DS\", \"PS4\", \"PS4\", \"PS3\", \"PS4\", \"XOne\", \"WiiU\", \"PS4\", \"PC\", \"PSV\", \"PS3\", \"X360\", \"PS4\", \"WiiU\", \"PC\", \"PSV\", \"XOne\", \"X360\", \"XOne\", \"PS4\", \"WiiU\", \"PC\", \"PS4\", \"PSV\", \"XOne\", \"3DS\", \"PSV\", \"WiiU\", \"PS4\", \"PS3\", \"PS3\", \"PSV\", \"PS4\", \"PSV\", \"PC\", \"3DS\", \"PS4\", \"3DS\", \"PS3\", \"PC\", \"XOne\", \"PS4\", \"PS4\", \"PC\", \"PS4\", \"PC\", \"PS4\", \"PS4\", \"PC\", \"3DS\", \"PS3\", \"PSP\", \"PS3\", \"3DS\", \"PS3\", \"PSV\", \"PS3\", \"PSV\", \"PS3\", \"XOne\", \"PS3\", \"PSV\", \"X360\", \"XOne\", \"X360\", \"3DS\", \"PSV\", \"3DS\", \"PSV\", \"PS3\", \"PS4\", \"PSP\", \"PSV\", \"PSV\", \"XOne\", \"PS4\", \"PSV\", \"PS4\", \"3DS\", \"PSV\", \"PC\", \"3DS\", \"PS3\", \"PS4\", \"3DS\", \"PSV\", \"PC\", \"XOne\", \"PS3\", \"PSV\", \"Wii\", \"X360\", \"3DS\", \"3DS\", \"PS4\", \"X360\", \"PSV\", \"3DS\", \"PS3\", \"PS3\", \"PS3\", \"XOne\", \"PS3\", \"3DS\", \"PS3\", \"PS4\", \"PSV\", \"PSV\", \"PS3\", \"3DS\", \"3DS\", \"3DS\", \"PSV\", \"PC\", \"PSV\", \"PS4\", \"PS3\", \"PC\", \"X360\", \"PS4\", \"PS3\", \"XOne\", \"3DS\", \"3DS\", \"PSP\", \"PC\", \"PS3\", \"PS3\", \"PS3\", \"PSV\", \"PS4\", \"3DS\", \"X360\", \"PC\", \"PS3\", \"PS4\", \"PSV\", \"3DS\", \"3DS\", \"PS4\", \"PS4\", \"PSV\", \"XOne\", \"PC\", \"3DS\", \"PSV\", \"PC\", \"PS3\", \"XOne\", \"PC\", \"XOne\", \"3DS\", \"PSV\", \"PC\", \"PS4\", \"PS3\", \"PS4\", \"PSV\", \"PSV\", \"PSV\", \"PSP\", \"3DS\", \"PS3\", \"PC\", \"PC\", \"XOne\", \"X360\", \"PSV\", \"3DS\", \"X360\", \"PS4\", \"3DS\", \"PSV\", \"3DS\", \"WiiU\", \"PS3\", \"PSV\", \"3DS\", \"3DS\", \"PS3\", \"PSV\", \"PC\", \"3DS\", \"PS4\", \"PS4\", \"PS4\", \"PC\", \"PSV\", \"PC\", \"PSV\", \"PS4\", \"3DS\", \"3DS\", \"PS4\", \"3DS\", \"PC\", \"WiiU\", \"3DS\", \"PSP\", \"PS4\", \"PS3\", \"3DS\", \"3DS\", \"PC\", \"WiiU\", \"PS4\", \"PS4\", \"PS3\", \"PS3\", \"3DS\", \"3DS\", \"PS3\", \"3DS\", \"3DS\", \"PSV\", \"3DS\", \"PC\", \"PC\", \"PSV\", \"3DS\", \"DS\", \"XOne\", \"X360\", \"3DS\", \"PS4\", \"3DS\", \"PC\", \"PS4\", \"PSV\", \"PSV\", \"PC\", \"PC\", \"PS4\", \"PSV\", \"PSV\", \"PSV\", \"3DS\", \"PS3\", \"X360\", \"PSV\", \"PS3\", \"PS3\", \"X360\", \"PSV\", \"PSV\", \"PSP\", \"PSP\", \"PSV\", \"PSV\", \"PSV\", \"PSV\", \"PS3\", \"PS3\", \"PC\", \"XOne\", \"XOne\", \"PSV\", \"X360\", \"PS3\", \"PSP\", \"PSV\", \"PS4\", \"WiiU\", \"PSV\", \"3DS\", \"3DS\", \"X360\", \"PSV\", \"PC\", \"WiiU\", \"PSV\", \"XOne\", \"PS3\", \"PSV\", \"3DS\", \"PSV\", \"PSV\", \"PSV\", \"3DS\", \"PS3\", \"PSV\", \"3DS\", \"PC\", \"PSV\", \"3DS\", \"PSP\", \"XOne\", \"PSV\", \"Wii\", \"PS3\", \"PS4\", \"PSV\", \"PSV\", \"WiiU\", \"PC\", \"PSV\", \"PC\", \"PSV\", \"PS4\", \"3DS\", \"DS\", \"PSP\", \"PSV\", \"PC\", \"PSV\", \"PS3\", \"PC\", \"PSV\", \"WiiU\", \"X360\", \"PSV\", \"PS4\", \"PSV\", \"PSV\", \"PS3\", \"PS3\", \"PSV\", \"PSV\", \"PSV\", \"3DS\", \"PSV\", \"PS4\", \"PS3\", \"Wii\", \"PS3\", \"3DS\", \"3DS\", \"PS3\", \"XOne\", \"PSV\", \"XOne\", \"PS4\", \"PSV\", \"3DS\", \"PS4\", \"3DS\", \"3DS\", \"PSV\", \"PS4\", \"PS4\", \"PSV\", \"3DS\", \"PS4\", \"PS4\", \"PS3\", \"PSP\", \"PS3\", \"PSV\", \"PSV\", \"PS4\", \"XOne\", \"3DS\", \"PSV\", \"PC\", \"PSV\", \"PSV\", \"PS4\", \"PS3\", \"X360\", \"PS4\", \"PSP\", \"WiiU\", \"WiiU\", \"PSV\", \"PC\", \"PS4\", \"PS3\", \"PS3\", \"PSV\", \"PS4\", \"PS4\", \"PSV\", \"PSV\", \"PSV\", \"3DS\", \"PSP\", \"PS4\", \"X360\", \"X360\", \"PS3\", \"PS3\", \"X360\", \"PS3\", \"PS4\", \"PSV\", \"PSP\", \"PS4\", \"PS3\", \"PSP\", \"PSV\", \"3DS\", \"PSV\", \"3DS\", \"PSV\", \"PS4\", \"PS3\", \"WiiU\", \"PSV\", \"PSV\", \"XOne\", \"PS4\", \"PS3\", \"PC\", \"PS3\", \"PS3\", \"PSV\", \"PSV\", \"PSV\", \"PS3\", \"PSP\", \"PC\", \"PS4\", \"XOne\", \"PC\", \"X360\", \"WiiU\", \"PS4\", \"PS3\", \"XOne\", \"PSV\", \"PC\", \"PC\", \"PS3\", \"PS3\", \"PSP\", \"PC\", \"PSV\", \"PSV\", \"PSP\", \"PS3\", \"XOne\", \"PSV\", \"XOne\", \"PS3\", \"PC\", \"XOne\", \"PS4\", \"PC\", \"PC\", \"PS3\", \"PSP\", \"PSV\", \"WiiU\", \"PSP\", \"PSV\", \"PS3\", \"PSP\", \"3DS\", \"3DS\", \"3DS\", \"PS3\", \"PC\", \"PSV\", \"PS3\", \"PSV\", \"PS4\", \"PSP\", \"PSV\", \"XOne\", \"PSV\", \"PS3\", \"X360\", \"XOne\", \"PSP\", \"PSV\", \"PS4\", \"WiiU\", \"3DS\", \"PSV\", \"XOne\", \"PS3\", \"PSV\", \"PS3\", \"PSV\", \"PSV\", \"PS3\", \"PC\", \"PSV\", \"PC\", \"PSV\", \"3DS\", \"PC\", \"PSV\", \"PSP\", \"PSV\", \"PSV\", \"3DS\", \"PS4\", \"PS3\", \"PC\", \"XOne\", \"PS4\", \"PS3\", \"PSV\", \"PSV\", \"PS4\", \"PSV\", \"3DS\", \"PSP\", \"PS3\", \"PS4\", \"PSP\", \"PS4\", \"PSV\", \"X360\", \"PS3\", \"PSV\", \"PS4\", \"PSV\", \"WiiU\", \"PSV\", \"PC\", \"PSV\", \"XOne\", \"PS4\", \"PSV\", \"PSV\", \"PS3\", \"PS3\", \"PSV\", \"PSV\", \"WiiU\", \"PSV\", \"PS3\", \"PSV\", \"PSV\", \"PSV\", \"PS4\", \"PSP\", \"PS4\", \"3DS\", \"PSP\", \"PSV\", \"PSV\", \"PC\", \"PC\", \"PSV\", \"PSV\", \"PS4\", \"PS4\", \"PSP\", \"PSV\", \"PSV\", \"3DS\", \"XOne\", \"XOne\", \"PSV\", \"PC\", \"XOne\", \"PSV\", \"PSP\", \"Wii\", \"3DS\", \"PS3\", \"PSV\", \"PC\", \"XOne\", \"PSP\", \"PC\", \"PS4\", \"PC\", \"PSV\", \"PSV\", \"PC\", \"PS4\", \"3DS\", \"PC\", \"XOne\", \"PSP\", \"PS4\", \"PC\", \"XOne\", \"PSV\", \"3DS\", \"Wii\", \"PS3\", \"3DS\", \"PS4\", \"PSV\", \"PC\", \"PSV\", \"XOne\", \"XOne\", \"PS3\", \"PS3\", \"PSV\", \"XOne\", \"PC\", \"PSV\", \"PSV\", \"PSV\", \"X360\", \"PSV\", \"PSP\", \"PSV\", \"3DS\", \"PSP\", \"PC\", \"PS3\", \"PSP\", \"3DS\", \"PSP\", \"PSV\", \"PSV\", \"XOne\", \"WiiU\", \"PSV\", \"PSV\", \"PSV\", \"PSP\", \"PC\", \"PSP\", \"X360\", \"PSV\", \"WiiU\", \"X360\", \"Wii\", \"PSP\", \"XOne\", \"PSV\", \"XOne\", \"PSV\", \"PC\", \"PSV\", \"PC\", \"3DS\", \"PC\", \"PSV\", \"PSV\", \"PS3\", \"PS4\", \"PS3\", \"PSV\", \"PSV\", \"WiiU\", \"PSV\", \"PC\", \"XOne\", \"PS4\", \"PSV\", \"PSV\", \"WiiU\", \"PSP\", \"3DS\", \"WiiU\", \"PC\", \"PS4\", \"PSV\", \"PSP\", \"X360\", \"PC\", \"PSP\", \"PC\", \"3DS\", \"X360\", \"PC\", \"PC\", \"PS3\", \"PSV\", \"3DS\", \"PS4\", \"X360\", \"PS4\", \"PS3\", \"PS4\", \"PS4\", \"3DS\", \"PS4\", \"3DS\", \"XOne\", \"PC\", \"WiiU\", \"3DS\", \"PC\", \"PSV\", \"PS4\", \"PS4\", \"PSV\", \"XOne\", \"PSV\", \"PSP\", \"XOne\", \"PSV\", \"PS3\", \"PSV\", \"3DS\", \"PS3\", \"PSV\", \"3DS\", \"PSV\", \"PSV\", \"PSV\", \"PS4\", \"XOne\", \"3DS\", \"XOne\", \"XOne\", \"3DS\", \"PSP\", \"3DS\", \"PSP\", \"3DS\", \"PSP\", \"PC\", \"PSV\", \"PSV\", \"XOne\", \"PC\", \"PSP\", \"PS3\", \"XOne\", \"PSV\", \"XOne\", \"3DS\", \"WiiU\", \"X360\", \"PSV\", \"XOne\", \"PSV\", \"PSV\", \"3DS\", \"XOne\", \"PS3\", \"3DS\", \"PSV\", \"PSP\", \"PSV\", \"PS3\", \"PC\", \"PSV\", \"PSV\", \"PSV\", \"PS3\", \"PSV\", \"PSV\"], \"y0\": \" \", \"yaxis\": \"y\"}],\n",
              "                        {\"boxmode\": \"group\", \"legend\": {\"tracegroupgap\": 0}, \"margin\": {\"t\": 60}, \"template\": {\"data\": {\"bar\": [{\"error_x\": {\"color\": \"#2a3f5f\"}, \"error_y\": {\"color\": \"#2a3f5f\"}, \"marker\": {\"line\": {\"color\": \"#E5ECF6\", \"width\": 0.5}}, \"type\": \"bar\"}], \"barpolar\": [{\"marker\": {\"line\": {\"color\": \"#E5ECF6\", \"width\": 0.5}}, \"type\": \"barpolar\"}], \"carpet\": [{\"aaxis\": {\"endlinecolor\": \"#2a3f5f\", \"gridcolor\": \"white\", \"linecolor\": \"white\", \"minorgridcolor\": \"white\", \"startlinecolor\": \"#2a3f5f\"}, \"baxis\": {\"endlinecolor\": \"#2a3f5f\", \"gridcolor\": \"white\", \"linecolor\": \"white\", \"minorgridcolor\": \"white\", \"startlinecolor\": \"#2a3f5f\"}, \"type\": \"carpet\"}], \"choropleth\": [{\"colorbar\": {\"outlinewidth\": 0, \"ticks\": \"\"}, \"type\": \"choropleth\"}], \"contour\": [{\"colorbar\": {\"outlinewidth\": 0, \"ticks\": \"\"}, \"colorscale\": [[0.0, \"#0d0887\"], [0.1111111111111111, \"#46039f\"], [0.2222222222222222, \"#7201a8\"], [0.3333333333333333, \"#9c179e\"], [0.4444444444444444, \"#bd3786\"], [0.5555555555555556, \"#d8576b\"], [0.6666666666666666, \"#ed7953\"], [0.7777777777777778, \"#fb9f3a\"], [0.8888888888888888, \"#fdca26\"], [1.0, \"#f0f921\"]], \"type\": \"contour\"}], \"contourcarpet\": [{\"colorbar\": {\"outlinewidth\": 0, \"ticks\": \"\"}, \"type\": \"contourcarpet\"}], \"heatmap\": [{\"colorbar\": {\"outlinewidth\": 0, \"ticks\": \"\"}, \"colorscale\": [[0.0, \"#0d0887\"], [0.1111111111111111, \"#46039f\"], [0.2222222222222222, \"#7201a8\"], [0.3333333333333333, \"#9c179e\"], [0.4444444444444444, \"#bd3786\"], [0.5555555555555556, \"#d8576b\"], [0.6666666666666666, \"#ed7953\"], [0.7777777777777778, \"#fb9f3a\"], [0.8888888888888888, \"#fdca26\"], [1.0, \"#f0f921\"]], \"type\": \"heatmap\"}], \"heatmapgl\": [{\"colorbar\": {\"outlinewidth\": 0, \"ticks\": \"\"}, \"colorscale\": [[0.0, \"#0d0887\"], [0.1111111111111111, \"#46039f\"], [0.2222222222222222, \"#7201a8\"], [0.3333333333333333, \"#9c179e\"], [0.4444444444444444, \"#bd3786\"], [0.5555555555555556, \"#d8576b\"], [0.6666666666666666, \"#ed7953\"], [0.7777777777777778, \"#fb9f3a\"], [0.8888888888888888, \"#fdca26\"], [1.0, \"#f0f921\"]], \"type\": \"heatmapgl\"}], \"histogram\": [{\"marker\": {\"colorbar\": {\"outlinewidth\": 0, \"ticks\": \"\"}}, \"type\": \"histogram\"}], \"histogram2d\": [{\"colorbar\": {\"outlinewidth\": 0, \"ticks\": \"\"}, \"colorscale\": [[0.0, \"#0d0887\"], [0.1111111111111111, \"#46039f\"], [0.2222222222222222, \"#7201a8\"], [0.3333333333333333, \"#9c179e\"], [0.4444444444444444, \"#bd3786\"], [0.5555555555555556, \"#d8576b\"], [0.6666666666666666, \"#ed7953\"], [0.7777777777777778, \"#fb9f3a\"], [0.8888888888888888, \"#fdca26\"], [1.0, \"#f0f921\"]], \"type\": \"histogram2d\"}], \"histogram2dcontour\": [{\"colorbar\": {\"outlinewidth\": 0, \"ticks\": \"\"}, \"colorscale\": [[0.0, \"#0d0887\"], [0.1111111111111111, \"#46039f\"], [0.2222222222222222, \"#7201a8\"], [0.3333333333333333, \"#9c179e\"], [0.4444444444444444, \"#bd3786\"], [0.5555555555555556, \"#d8576b\"], [0.6666666666666666, \"#ed7953\"], [0.7777777777777778, \"#fb9f3a\"], [0.8888888888888888, \"#fdca26\"], [1.0, \"#f0f921\"]], \"type\": \"histogram2dcontour\"}], \"mesh3d\": [{\"colorbar\": {\"outlinewidth\": 0, \"ticks\": \"\"}, \"type\": \"mesh3d\"}], \"parcoords\": [{\"line\": {\"colorbar\": {\"outlinewidth\": 0, \"ticks\": \"\"}}, \"type\": \"parcoords\"}], \"pie\": [{\"automargin\": true, \"type\": \"pie\"}], \"scatter\": [{\"marker\": {\"colorbar\": {\"outlinewidth\": 0, \"ticks\": \"\"}}, \"type\": \"scatter\"}], \"scatter3d\": [{\"line\": {\"colorbar\": {\"outlinewidth\": 0, \"ticks\": \"\"}}, \"marker\": {\"colorbar\": {\"outlinewidth\": 0, \"ticks\": \"\"}}, \"type\": \"scatter3d\"}], \"scattercarpet\": [{\"marker\": {\"colorbar\": {\"outlinewidth\": 0, \"ticks\": \"\"}}, \"type\": \"scattercarpet\"}], \"scattergeo\": [{\"marker\": {\"colorbar\": {\"outlinewidth\": 0, \"ticks\": \"\"}}, \"type\": \"scattergeo\"}], \"scattergl\": [{\"marker\": {\"colorbar\": {\"outlinewidth\": 0, \"ticks\": \"\"}}, \"type\": \"scattergl\"}], \"scattermapbox\": [{\"marker\": {\"colorbar\": {\"outlinewidth\": 0, \"ticks\": \"\"}}, \"type\": \"scattermapbox\"}], \"scatterpolar\": [{\"marker\": {\"colorbar\": {\"outlinewidth\": 0, \"ticks\": \"\"}}, \"type\": \"scatterpolar\"}], \"scatterpolargl\": [{\"marker\": {\"colorbar\": {\"outlinewidth\": 0, \"ticks\": \"\"}}, \"type\": \"scatterpolargl\"}], \"scatterternary\": [{\"marker\": {\"colorbar\": {\"outlinewidth\": 0, \"ticks\": \"\"}}, \"type\": \"scatterternary\"}], \"surface\": [{\"colorbar\": {\"outlinewidth\": 0, \"ticks\": \"\"}, \"colorscale\": [[0.0, \"#0d0887\"], [0.1111111111111111, \"#46039f\"], [0.2222222222222222, \"#7201a8\"], [0.3333333333333333, \"#9c179e\"], [0.4444444444444444, \"#bd3786\"], [0.5555555555555556, \"#d8576b\"], [0.6666666666666666, \"#ed7953\"], [0.7777777777777778, \"#fb9f3a\"], [0.8888888888888888, \"#fdca26\"], [1.0, \"#f0f921\"]], \"type\": \"surface\"}], \"table\": [{\"cells\": {\"fill\": {\"color\": \"#EBF0F8\"}, \"line\": {\"color\": \"white\"}}, \"header\": {\"fill\": {\"color\": \"#C8D4E3\"}, \"line\": {\"color\": \"white\"}}, \"type\": \"table\"}]}, \"layout\": {\"annotationdefaults\": {\"arrowcolor\": \"#2a3f5f\", \"arrowhead\": 0, \"arrowwidth\": 1}, \"coloraxis\": {\"colorbar\": {\"outlinewidth\": 0, \"ticks\": \"\"}}, \"colorscale\": {\"diverging\": [[0, \"#8e0152\"], [0.1, \"#c51b7d\"], [0.2, \"#de77ae\"], [0.3, \"#f1b6da\"], [0.4, \"#fde0ef\"], [0.5, \"#f7f7f7\"], [0.6, \"#e6f5d0\"], [0.7, \"#b8e186\"], [0.8, \"#7fbc41\"], [0.9, \"#4d9221\"], [1, \"#276419\"]], \"sequential\": [[0.0, \"#0d0887\"], [0.1111111111111111, \"#46039f\"], [0.2222222222222222, \"#7201a8\"], [0.3333333333333333, \"#9c179e\"], [0.4444444444444444, \"#bd3786\"], [0.5555555555555556, \"#d8576b\"], [0.6666666666666666, \"#ed7953\"], [0.7777777777777778, \"#fb9f3a\"], [0.8888888888888888, \"#fdca26\"], [1.0, \"#f0f921\"]], \"sequentialminus\": [[0.0, \"#0d0887\"], [0.1111111111111111, \"#46039f\"], [0.2222222222222222, \"#7201a8\"], [0.3333333333333333, \"#9c179e\"], [0.4444444444444444, \"#bd3786\"], [0.5555555555555556, \"#d8576b\"], [0.6666666666666666, \"#ed7953\"], [0.7777777777777778, \"#fb9f3a\"], [0.8888888888888888, \"#fdca26\"], [1.0, \"#f0f921\"]]}, \"colorway\": [\"#636efa\", \"#EF553B\", \"#00cc96\", \"#ab63fa\", \"#FFA15A\", \"#19d3f3\", \"#FF6692\", \"#B6E880\", \"#FF97FF\", \"#FECB52\"], \"font\": {\"color\": \"#2a3f5f\"}, \"geo\": {\"bgcolor\": \"white\", \"lakecolor\": \"white\", \"landcolor\": \"#E5ECF6\", \"showlakes\": true, \"showland\": true, \"subunitcolor\": \"white\"}, \"hoverlabel\": {\"align\": \"left\"}, \"hovermode\": \"closest\", \"mapbox\": {\"style\": \"light\"}, \"paper_bgcolor\": \"white\", \"plot_bgcolor\": \"#E5ECF6\", \"polar\": {\"angularaxis\": {\"gridcolor\": \"white\", \"linecolor\": \"white\", \"ticks\": \"\"}, \"bgcolor\": \"#E5ECF6\", \"radialaxis\": {\"gridcolor\": \"white\", \"linecolor\": \"white\", \"ticks\": \"\"}}, \"scene\": {\"xaxis\": {\"backgroundcolor\": \"#E5ECF6\", \"gridcolor\": \"white\", \"gridwidth\": 2, \"linecolor\": \"white\", \"showbackground\": true, \"ticks\": \"\", \"zerolinecolor\": \"white\"}, \"yaxis\": {\"backgroundcolor\": \"#E5ECF6\", \"gridcolor\": \"white\", \"gridwidth\": 2, \"linecolor\": \"white\", \"showbackground\": true, \"ticks\": \"\", \"zerolinecolor\": \"white\"}, \"zaxis\": {\"backgroundcolor\": \"#E5ECF6\", \"gridcolor\": \"white\", \"gridwidth\": 2, \"linecolor\": \"white\", \"showbackground\": true, \"ticks\": \"\", \"zerolinecolor\": \"white\"}}, \"shapedefaults\": {\"line\": {\"color\": \"#2a3f5f\"}}, \"ternary\": {\"aaxis\": {\"gridcolor\": \"white\", \"linecolor\": \"white\", \"ticks\": \"\"}, \"baxis\": {\"gridcolor\": \"white\", \"linecolor\": \"white\", \"ticks\": \"\"}, \"bgcolor\": \"#E5ECF6\", \"caxis\": {\"gridcolor\": \"white\", \"linecolor\": \"white\", \"ticks\": \"\"}}, \"title\": {\"x\": 0.05}, \"xaxis\": {\"automargin\": true, \"gridcolor\": \"white\", \"linecolor\": \"white\", \"ticks\": \"\", \"title\": {\"standoff\": 15}, \"zerolinecolor\": \"white\", \"zerolinewidth\": 2}, \"yaxis\": {\"automargin\": true, \"gridcolor\": \"white\", \"linecolor\": \"white\", \"ticks\": \"\", \"title\": {\"standoff\": 15}, \"zerolinecolor\": \"white\", \"zerolinewidth\": 2}}}, \"xaxis\": {\"anchor\": \"y\", \"domain\": [0.0, 1.0], \"range\": [0, 5], \"title\": {\"text\": \"total_sales\"}}, \"yaxis\": {\"anchor\": \"x\", \"domain\": [0.0, 1.0], \"title\": {\"text\": \"platform\"}}},\n",
              "                        {\"responsive\": true}\n",
              "                    ).then(function(){\n",
              "                            \n",
              "var gd = document.getElementById('b5923bea-5883-449b-821a-a0c691e68ca1');\n",
              "var x = new MutationObserver(function (mutations, observer) {{\n",
              "        var display = window.getComputedStyle(gd).display;\n",
              "        if (!display || display === 'none') {{\n",
              "            console.log([gd, 'removed!']);\n",
              "            Plotly.purge(gd);\n",
              "            observer.disconnect();\n",
              "        }}\n",
              "}});\n",
              "\n",
              "// Listen for the removal of the full notebook cells\n",
              "var notebookContainer = gd.closest('#notebook-container');\n",
              "if (notebookContainer) {{\n",
              "    x.observe(notebookContainer, {childList: true});\n",
              "}}\n",
              "\n",
              "// Listen for the clearing of the current output cell\n",
              "var outputEl = gd.closest('.output');\n",
              "if (outputEl) {{\n",
              "    x.observe(outputEl, {childList: true});\n",
              "}}\n",
              "\n",
              "                        })\n",
              "                };\n",
              "                });\n",
              "            </script>\n",
              "        </div>"
            ]
          },
          "metadata": {
            "tags": []
          }
        }
      ]
    },
    {
      "cell_type": "markdown",
      "metadata": {
        "id": "ewTbX4G_XSzN"
      },
      "source": [
        "Больше всего продали игр для платформ X360, XOne, PS4 и Wii"
      ]
    },
    {
      "cell_type": "markdown",
      "metadata": {
        "id": "HQjHLE0T_rYu"
      },
      "source": [
        "### Посмотрите, как влияют на продажи внутри одной популярной платформы отзывы пользователей и критиков. Постройте диаграмму рассеяния и посчитайте корреляцию между отзывами и продажами. Сформулируйте выводы."
      ]
    },
    {
      "cell_type": "markdown",
      "metadata": {
        "id": "CHa38_hO2m6D"
      },
      "source": [
        "Будем исследовать самую популярную платформу - PS4"
      ]
    },
    {
      "cell_type": "code",
      "metadata": {
        "colab": {
          "base_uri": "https://localhost:8080/",
          "height": 542
        },
        "id": "k2XXQ05dPejO",
        "outputId": "36d2942a-ee05-4993-ac77-88e2b4226137"
      },
      "source": [
        "fig = make_subplots(rows=2, cols=1)\n",
        "\n",
        "fig.add_trace(\n",
        "    go.Scatter(x=df.query('platform == \"PS4\"')['critic_score'],\n",
        "               y=df.query('platform == \"PS4\"')['total_sales'],\n",
        "               name='Оценка критиков', mode='markers'), row=1, col=1)\n",
        "fig.add_trace(\n",
        "    go.Scatter(x=df.query('platform == \"PS4\"')['user_score'],\n",
        "               y=df.query('platform == \"PS4\"')['total_sales'],\n",
        "               name='Оценка пользователей', mode='markers'), row=2, col=1)\n",
        "\n",
        "fig.update_layout(title='Влияние отзывов критиков и пользователей на продажи')\n",
        "\n",
        "fig.show()"
      ],
      "execution_count": 25,
      "outputs": [
        {
          "output_type": "display_data",
          "data": {
            "text/html": [
              "<div>\n",
              "        \n",
              "        \n",
              "            <div id=\"f2a92850-feb6-4c0e-a0e4-801ef8596b97\" class=\"plotly-graph-div\" style=\"height:525px; width:100%;\"></div>\n",
              "            <script type=\"text/javascript\">\n",
              "                require([\"plotly\"], function(Plotly) {\n",
              "                    window.PLOTLYENV=window.PLOTLYENV || {};\n",
              "                    \n",
              "                if (document.getElementById(\"f2a92850-feb6-4c0e-a0e4-801ef8596b97\")) {\n",
              "                    Plotly.newPlot(\n",
              "                        'f2a92850-feb6-4c0e-a0e4-801ef8596b97',\n",
              "                        [{\"mode\": \"markers\", \"name\": \"\\u041e\\u0446\\u0435\\u043d\\u043a\\u0430 \\u043a\\u0440\\u0438\\u0442\\u0438\\u043a\\u043e\\u0432\", \"type\": \"scatter\", \"x\": [null, 97.0, 82.0, null, 83.0, 85.0, 87.0, 82.0, 76.0, 93.0, null, 86.0, 77.0, null, 88.0, 80.0, 85.0, 92.0, 70.0, 87.0, 87.0, 78.0, 80.0, 85.0, 93.0, 76.0, 83.0, 87.0, 84.0, 83.0, 80.0, 83.0, 73.0, 92.0, 83.0, null, 76.0, 73.0, 81.0, 90.0, 73.0, 74.0, 71.0, 89.0, 80.0, 86.0, 79.0, 88.0, 73.0, null, 68.0, 75.0, 82.0, null, 63.0, 54.0, 61.0, 71.0, 79.0, 89.0, 83.0, 79.0, null, null, 85.0, null, null, 75.0, 73.0, null, 62.0, 79.0, 83.0, 79.0, 69.0, 83.0, 70.0, 90.0, null, 76.0, null, 79.0, 73.0, 80.0, null, 77.0, 70.0, 74.0, null, 82.0, 80.0, null, 87.0, 89.0, 82.0, null, null, null, 71.0, 80.0, 83.0, null, 73.0, 78.0, null, 67.0, 71.0, 65.0, null, null, 88.0, null, 78.0, null, 75.0, null, 72.0, 69.0, 60.0, 75.0, null, 61.0, 68.0, 81.0, 74.0, null, 85.0, 78.0, null, 76.0, 79.0, 75.0, 69.0, null, 72.0, 85.0, null, null, 72.0, 79.0, null, 72.0, 78.0, 84.0, null, null, 84.0, 85.0, 85.0, 73.0, null, 48.0, 66.0, 69.0, 81.0, null, 77.0, 78.0, null, 59.0, 76.0, 81.0, null, 75.0, null, 60.0, 72.0, 80.0, null, null, null, null, null, 73.0, 81.0, null, 68.0, 59.0, null, 63.0, 57.0, 76.0, null, 43.0, 59.0, 77.0, null, null, 66.0, 47.0, null, 83.0, 32.0, 72.0, null, 62.0, null, 87.0, 53.0, 63.0, 47.0, 69.0, null, 59.0, 73.0, 67.0, null, 59.0, null, 66.0, 74.0, null, 58.0, null, null, 38.0, null, 79.0, 73.0, null, 80.0, 80.0, 88.0, 45.0, 63.0, 81.0, 80.0, 86.0, 76.0, 75.0, null, 65.0, null, 73.0, 19.0, 75.0, null, 79.0, 69.0, null, null, 71.0, 73.0, 73.0, 53.0, null, null, 71.0, null, null, null, 44.0, null, 67.0, 69.0, null, null, null, 74.0, null, null, 85.0, 66.0, 70.0, 90.0, null, 77.0, null, 60.0, 69.0, null, 75.0, null, null, 64.0, 62.0, 71.0, 78.0, 72.0, null, 63.0, 83.0, 72.0, 73.0, 67.0, null, 64.0, 60.0, null, null, null, 42.0, 25.0, null, null, null, null, null, 52.0, 43.0, null, null, 76.0, null, null, 81.0, null, null, 78.0, null, 64.0, 66.0, 82.0, 71.0, null, 71.0, 66.0, 80.0, 70.0, 64.0, 72.0, 78.0, null, null, null, 69.0, 69.0, null, null, 73.0, 53.0, 77.0, null, 61.0, 73.0, null, null, null, 80.0, 78.0, null, 88.0, null, 82.0, null, null, 59.0, 57.0, 67.0, null, 62.0, null, 67.0, 58.0, null, null, 62.0, null, 52.0, 31.0, null, 55.0, null, 79.0, null, null, 48.0, null, null, null, null, 49.0, null, null, null, null, null, null, 72.0, 66.0, null, null, null, null, 42.0, null, 70.0, 69.0, null, 61.0, 51.0, null], \"xaxis\": \"x\", \"y\": [14.629999999999999, 12.620000000000001, 8.58, 7.98, 7.66, 7.6000000000000005, 7.17, 6.08, 5.640000000000001, 5.39, 4.72, 4.62, 4.470000000000001, 4.32, 4.07, 4.05, 4.04, 3.9699999999999998, 3.96, 3.96, 3.87, 3.8299999999999996, 3.8, 3.58, 3.4200000000000004, 3.3899999999999997, 3.2399999999999998, 3.01, 2.96, 2.86, 2.7899999999999996, 2.78, 2.6900000000000004, 2.48, 2.4499999999999997, 2.42, 2.2600000000000002, 2.21, 2.19, 2.14, 2.11, 2.09, 2.07, 2.01, 1.98, 1.9200000000000002, 1.9100000000000001, 1.8800000000000001, 1.85, 1.83, 1.81, 1.7900000000000003, 1.74, 1.75, 1.7200000000000002, 1.73, 1.7200000000000002, 1.6900000000000002, 1.6600000000000001, 1.6600000000000001, 1.62, 1.54, 1.54, 1.49, 1.44, 1.4000000000000001, 1.3199999999999998, 1.2699999999999998, 1.21, 1.17, 1.15, 1.14, 1.13, 1.1199999999999999, 1.1, 1.0799999999999998, 1.05, 1.02, 0.98, 0.9700000000000001, 0.9400000000000001, 0.93, 0.92, 0.93, 0.92, 0.9, 0.9, 0.91, 0.89, 0.88, 0.86, 0.8200000000000001, 0.78, 0.7600000000000001, 0.75, 0.75, 0.7300000000000001, 0.73, 0.73, 0.73, 0.72, 0.73, 0.7, 0.71, 0.6900000000000001, 0.6900000000000001, 0.67, 0.67, 0.66, 0.64, 0.64, 0.63, 0.63, 0.62, 0.61, 0.61, 0.6, 0.6, 0.6, 0.54, 0.56, 0.51, 0.52, 0.49000000000000005, 0.47000000000000003, 0.46, 0.45, 0.44, 0.43, 0.43, 0.43, 0.42, 0.42, 0.4, 0.4, 0.38999999999999996, 0.39999999999999997, 0.4, 0.39999999999999997, 0.38, 0.37999999999999995, 0.39, 0.38, 0.38, 0.37, 0.37, 0.37000000000000005, 0.36000000000000004, 0.36, 0.36000000000000004, 0.36000000000000004, 0.35000000000000003, 0.36, 0.34, 0.34, 0.33999999999999997, 0.34, 0.33, 0.33999999999999997, 0.32, 0.32, 0.3, 0.3, 0.31, 0.3, 0.3, 0.3, 0.29, 0.28, 0.27999999999999997, 0.29000000000000004, 0.29000000000000004, 0.27, 0.27, 0.26, 0.26, 0.26, 0.26, 0.24000000000000002, 0.25, 0.25, 0.24000000000000002, 0.24000000000000002, 0.24000000000000002, 0.24000000000000002, 0.23, 0.23, 0.23, 0.23, 0.22, 0.21000000000000002, 0.21000000000000002, 0.19999999999999998, 0.2, 0.2, 0.19999999999999998, 0.2, 0.2, 0.19999999999999998, 0.19, 0.19, 0.19999999999999998, 0.19, 0.18, 0.18, 0.18, 0.18000000000000002, 0.17, 0.17, 0.16999999999999998, 0.16, 0.17, 0.16999999999999998, 0.16, 0.16, 0.16, 0.15, 0.15, 0.13999999999999999, 0.15, 0.14, 0.13999999999999999, 0.13999999999999999, 0.13999999999999999, 0.13, 0.13, 0.12000000000000001, 0.13, 0.12, 0.12, 0.12000000000000001, 0.11, 0.11, 0.12, 0.12000000000000001, 0.12000000000000001, 0.12000000000000001, 0.11, 0.09999999999999999, 0.11, 0.1, 0.09, 0.1, 0.09, 0.1, 0.1, 0.1, 0.09999999999999999, 0.09, 0.09, 0.1, 0.09000000000000001, 0.08, 0.09, 0.09, 0.09, 0.09, 0.08, 0.08, 0.08, 0.08, 0.08, 0.08, 0.08, 0.06999999999999999, 0.09, 0.09000000000000001, 0.08, 0.06999999999999999, 0.06999999999999999, 0.08, 0.07, 0.08, 0.08, 0.08, 0.06999999999999999, 0.07, 0.06999999999999999, 0.07, 0.060000000000000005, 0.06999999999999999, 0.07, 0.06999999999999999, 0.060000000000000005, 0.060000000000000005, 0.060000000000000005, 0.060000000000000005, 0.06999999999999999, 0.06, 0.06, 0.06, 0.060000000000000005, 0.060000000000000005, 0.060000000000000005, 0.060000000000000005, 0.06, 0.060000000000000005, 0.05, 0.05, 0.05, 0.05, 0.060000000000000005, 0.05, 0.05, 0.05, 0.05, 0.05, 0.05, 0.04, 0.05, 0.05, 0.05, 0.05, 0.05, 0.05, 0.05, 0.05, 0.04, 0.03, 0.05, 0.04, 0.04, 0.04, 0.04, 0.04, 0.04, 0.04, 0.04, 0.03, 0.03, 0.03, 0.04, 0.03, 0.03, 0.03, 0.04, 0.03, 0.03, 0.03, 0.03, 0.03, 0.02, 0.02, 0.02, 0.03, 0.03, 0.02, 0.02, 0.02, 0.02, 0.02, 0.02, 0.02, 0.02, 0.02, 0.02, 0.02, 0.02, 0.02, 0.02, 0.02, 0.02, 0.02, 0.02, 0.02, 0.02, 0.01, 0.01, 0.01, 0.02, 0.02, 0.01, 0.01, 0.01, 0.02, 0.02, 0.02, 0.01, 0.02, 0.01, 0.01, 0.01, 0.01, 0.01, 0.01, 0.01, 0.01, 0.01, 0.01, 0.01, 0.01, 0.01], \"yaxis\": \"y\"}, {\"mode\": \"markers\", \"name\": \"\\u041e\\u0446\\u0435\\u043d\\u043a\\u0430 \\u043f\\u043e\\u043b\\u044c\\u0437\\u043e\\u0432\\u0430\\u0442\\u0435\\u043b\\u0435\\u0439\", \"type\": \"scatter\", \"x\": [null, 8.3, 4.3, null, 5.7, 5.0, 6.5, 5.7, 6.1, 7.9, null, 8.1, 3.4, null, 8.4, 6.3, 7.7, 9.2, 4.9, 7.6, 6.7, 3.7, 7.0, 6.9, 8.2, 6.8, 5.9, 6.3, 8.1, 7.8, 7.9, 7.7, 6.8, 8.6, 7.0, null, 6.3, 7.3, 6.1, 6.1, 5.0, 7.9, 6.1, 7.4, 6.2, 6.0, 7.1, 6.7, 6.5, null, 5.1, 7.3, 4.9, null, 6.6, 6.5, 5.4, 4.5, 8.2, 8.8, 7.7, 8.1, null, null, 6.5, null, null, 6.2, 7.4, null, 5.1, 8.2, 7.8, 8.1, 7.7, 6.6, 6.1, 8.5, null, 4.3, null, 6.2, 7.1, 7.8, null, 3.4, 7.0, 5.2, null, 7.8, 6.2, null, 7.1, 8.4, 7.2, null, null, null, 7.0, 7.1, 7.7, null, 7.8, 7.5, null, 7.1, 7.1, 6.3, null, null, 7.7, null, 5.5, null, 7.6, null, 6.6, 6.9, 3.6, 7.7, null, 3.7, 6.6, 7.7, 7.4, null, 7.6, 5.6, null, 8.0, 7.2, 5.5, 8.7, null, 6.8, 8.6, null, null, 8.0, 5.2, null, 5.8, 6.3, 7.6, null, null, 8.5, 8.7, 8.1, 6.8, null, 3.8, 7.8, 4.7, 7.9, null, 8.3, 5.8, null, 6.9, 7.1, 3.3, null, 7.3, null, 5.7, 6.6, 8.1, null, null, null, null, null, 8.5, 8.1, null, 6.8, 7.1, null, 6.3, 6.5, 8.1, 8.1, 2.7, 5.6, 7.5, null, null, 7.0, 2.0, null, 8.4, 1.5, 7.4, null, 6.8, null, 8.2, 5.9, 7.5, 4.1, 7.7, null, 7.8, 6.4, 8.0, 7.1, 6.1, null, null, 7.6, null, 6.5, null, null, 2.9, null, 8.7, 8.1, null, 7.7, 5.5, 8.0, 5.9, 6.4, 8.6, 8.2, 7.6, 7.4, 8.1, null, 6.9, null, 7.3, 3.4, 8.5, null, 7.9, 8.0, null, null, 5.9, 6.3, 6.8, 6.0, null, null, 6.5, null, null, null, 5.5, null, 7.4, 6.6, null, null, 6.1, 6.7, null, null, 7.6, 6.3, 7.8, 7.6, null, 6.1, null, 6.7, 7.3, null, 8.0, null, null, 7.1, 7.7, 6.2, 8.1, 7.8, null, 8.6, 7.9, 7.2, 6.2, 7.6, null, 7.9, 6.7, null, null, null, 4.1, 1.9, null, 3.0, null, null, null, 3.5, 7.8, null, null, 8.0, null, null, 8.3, null, null, 7.4, null, 5.7, 3.8, 8.0, 8.0, null, 8.1, 7.0, 8.1, 6.9, 6.8, 8.3, 6.6, null, null, 7.8, 7.9, 6.4, null, null, 7.5, 5.1, 6.9, null, 7.4, null, null, null, null, 8.0, 7.6, null, 8.4, null, 6.6, null, null, 6.6, 7.8, 6.2, null, 6.4, null, null, 7.1, null, 7.6, 6.5, null, 7.9, 4.5, null, 4.7, 6.1, 8.5, null, null, 2.0, null, null, null, null, 6.0, 7.8, null, null, null, null, null, 5.8, 6.2, null, null, null, null, 2.3, null, 6.8, 7.5, null, 7.9, 5.5, null], \"xaxis\": \"x2\", \"y\": [14.629999999999999, 12.620000000000001, 8.58, 7.98, 7.66, 7.6000000000000005, 7.17, 6.08, 5.640000000000001, 5.39, 4.72, 4.62, 4.470000000000001, 4.32, 4.07, 4.05, 4.04, 3.9699999999999998, 3.96, 3.96, 3.87, 3.8299999999999996, 3.8, 3.58, 3.4200000000000004, 3.3899999999999997, 3.2399999999999998, 3.01, 2.96, 2.86, 2.7899999999999996, 2.78, 2.6900000000000004, 2.48, 2.4499999999999997, 2.42, 2.2600000000000002, 2.21, 2.19, 2.14, 2.11, 2.09, 2.07, 2.01, 1.98, 1.9200000000000002, 1.9100000000000001, 1.8800000000000001, 1.85, 1.83, 1.81, 1.7900000000000003, 1.74, 1.75, 1.7200000000000002, 1.73, 1.7200000000000002, 1.6900000000000002, 1.6600000000000001, 1.6600000000000001, 1.62, 1.54, 1.54, 1.49, 1.44, 1.4000000000000001, 1.3199999999999998, 1.2699999999999998, 1.21, 1.17, 1.15, 1.14, 1.13, 1.1199999999999999, 1.1, 1.0799999999999998, 1.05, 1.02, 0.98, 0.9700000000000001, 0.9400000000000001, 0.93, 0.92, 0.93, 0.92, 0.9, 0.9, 0.91, 0.89, 0.88, 0.86, 0.8200000000000001, 0.78, 0.7600000000000001, 0.75, 0.75, 0.7300000000000001, 0.73, 0.73, 0.73, 0.72, 0.73, 0.7, 0.71, 0.6900000000000001, 0.6900000000000001, 0.67, 0.67, 0.66, 0.64, 0.64, 0.63, 0.63, 0.62, 0.61, 0.61, 0.6, 0.6, 0.6, 0.54, 0.56, 0.51, 0.52, 0.49000000000000005, 0.47000000000000003, 0.46, 0.45, 0.44, 0.43, 0.43, 0.43, 0.42, 0.42, 0.4, 0.4, 0.38999999999999996, 0.39999999999999997, 0.4, 0.39999999999999997, 0.38, 0.37999999999999995, 0.39, 0.38, 0.38, 0.37, 0.37, 0.37000000000000005, 0.36000000000000004, 0.36, 0.36000000000000004, 0.36000000000000004, 0.35000000000000003, 0.36, 0.34, 0.34, 0.33999999999999997, 0.34, 0.33, 0.33999999999999997, 0.32, 0.32, 0.3, 0.3, 0.31, 0.3, 0.3, 0.3, 0.29, 0.28, 0.27999999999999997, 0.29000000000000004, 0.29000000000000004, 0.27, 0.27, 0.26, 0.26, 0.26, 0.26, 0.24000000000000002, 0.25, 0.25, 0.24000000000000002, 0.24000000000000002, 0.24000000000000002, 0.24000000000000002, 0.23, 0.23, 0.23, 0.23, 0.22, 0.21000000000000002, 0.21000000000000002, 0.19999999999999998, 0.2, 0.2, 0.19999999999999998, 0.2, 0.2, 0.19999999999999998, 0.19, 0.19, 0.19999999999999998, 0.19, 0.18, 0.18, 0.18, 0.18000000000000002, 0.17, 0.17, 0.16999999999999998, 0.16, 0.17, 0.16999999999999998, 0.16, 0.16, 0.16, 0.15, 0.15, 0.13999999999999999, 0.15, 0.14, 0.13999999999999999, 0.13999999999999999, 0.13999999999999999, 0.13, 0.13, 0.12000000000000001, 0.13, 0.12, 0.12, 0.12000000000000001, 0.11, 0.11, 0.12, 0.12000000000000001, 0.12000000000000001, 0.12000000000000001, 0.11, 0.09999999999999999, 0.11, 0.1, 0.09, 0.1, 0.09, 0.1, 0.1, 0.1, 0.09999999999999999, 0.09, 0.09, 0.1, 0.09000000000000001, 0.08, 0.09, 0.09, 0.09, 0.09, 0.08, 0.08, 0.08, 0.08, 0.08, 0.08, 0.08, 0.06999999999999999, 0.09, 0.09000000000000001, 0.08, 0.06999999999999999, 0.06999999999999999, 0.08, 0.07, 0.08, 0.08, 0.08, 0.06999999999999999, 0.07, 0.06999999999999999, 0.07, 0.060000000000000005, 0.06999999999999999, 0.07, 0.06999999999999999, 0.060000000000000005, 0.060000000000000005, 0.060000000000000005, 0.060000000000000005, 0.06999999999999999, 0.06, 0.06, 0.06, 0.060000000000000005, 0.060000000000000005, 0.060000000000000005, 0.060000000000000005, 0.06, 0.060000000000000005, 0.05, 0.05, 0.05, 0.05, 0.060000000000000005, 0.05, 0.05, 0.05, 0.05, 0.05, 0.05, 0.04, 0.05, 0.05, 0.05, 0.05, 0.05, 0.05, 0.05, 0.05, 0.04, 0.03, 0.05, 0.04, 0.04, 0.04, 0.04, 0.04, 0.04, 0.04, 0.04, 0.03, 0.03, 0.03, 0.04, 0.03, 0.03, 0.03, 0.04, 0.03, 0.03, 0.03, 0.03, 0.03, 0.02, 0.02, 0.02, 0.03, 0.03, 0.02, 0.02, 0.02, 0.02, 0.02, 0.02, 0.02, 0.02, 0.02, 0.02, 0.02, 0.02, 0.02, 0.02, 0.02, 0.02, 0.02, 0.02, 0.02, 0.02, 0.01, 0.01, 0.01, 0.02, 0.02, 0.01, 0.01, 0.01, 0.02, 0.02, 0.02, 0.01, 0.02, 0.01, 0.01, 0.01, 0.01, 0.01, 0.01, 0.01, 0.01, 0.01, 0.01, 0.01, 0.01, 0.01], \"yaxis\": \"y2\"}],\n",
              "                        {\"template\": {\"data\": {\"bar\": [{\"error_x\": {\"color\": \"#2a3f5f\"}, \"error_y\": {\"color\": \"#2a3f5f\"}, \"marker\": {\"line\": {\"color\": \"#E5ECF6\", \"width\": 0.5}}, \"type\": \"bar\"}], \"barpolar\": [{\"marker\": {\"line\": {\"color\": \"#E5ECF6\", \"width\": 0.5}}, \"type\": \"barpolar\"}], \"carpet\": [{\"aaxis\": {\"endlinecolor\": \"#2a3f5f\", \"gridcolor\": \"white\", \"linecolor\": \"white\", \"minorgridcolor\": \"white\", \"startlinecolor\": \"#2a3f5f\"}, \"baxis\": {\"endlinecolor\": \"#2a3f5f\", \"gridcolor\": \"white\", \"linecolor\": \"white\", \"minorgridcolor\": \"white\", \"startlinecolor\": \"#2a3f5f\"}, \"type\": \"carpet\"}], \"choropleth\": [{\"colorbar\": {\"outlinewidth\": 0, \"ticks\": \"\"}, \"type\": \"choropleth\"}], \"contour\": [{\"colorbar\": {\"outlinewidth\": 0, \"ticks\": \"\"}, \"colorscale\": [[0.0, \"#0d0887\"], [0.1111111111111111, \"#46039f\"], [0.2222222222222222, \"#7201a8\"], [0.3333333333333333, \"#9c179e\"], [0.4444444444444444, \"#bd3786\"], [0.5555555555555556, \"#d8576b\"], [0.6666666666666666, \"#ed7953\"], [0.7777777777777778, \"#fb9f3a\"], [0.8888888888888888, \"#fdca26\"], [1.0, \"#f0f921\"]], \"type\": \"contour\"}], \"contourcarpet\": [{\"colorbar\": {\"outlinewidth\": 0, \"ticks\": \"\"}, \"type\": \"contourcarpet\"}], \"heatmap\": [{\"colorbar\": {\"outlinewidth\": 0, \"ticks\": \"\"}, \"colorscale\": [[0.0, \"#0d0887\"], [0.1111111111111111, \"#46039f\"], [0.2222222222222222, \"#7201a8\"], [0.3333333333333333, \"#9c179e\"], [0.4444444444444444, \"#bd3786\"], [0.5555555555555556, \"#d8576b\"], [0.6666666666666666, \"#ed7953\"], [0.7777777777777778, \"#fb9f3a\"], [0.8888888888888888, \"#fdca26\"], [1.0, \"#f0f921\"]], \"type\": \"heatmap\"}], \"heatmapgl\": [{\"colorbar\": {\"outlinewidth\": 0, \"ticks\": \"\"}, \"colorscale\": [[0.0, \"#0d0887\"], [0.1111111111111111, \"#46039f\"], [0.2222222222222222, \"#7201a8\"], [0.3333333333333333, \"#9c179e\"], [0.4444444444444444, \"#bd3786\"], [0.5555555555555556, \"#d8576b\"], [0.6666666666666666, \"#ed7953\"], [0.7777777777777778, \"#fb9f3a\"], [0.8888888888888888, \"#fdca26\"], [1.0, \"#f0f921\"]], \"type\": \"heatmapgl\"}], \"histogram\": [{\"marker\": {\"colorbar\": {\"outlinewidth\": 0, \"ticks\": \"\"}}, \"type\": \"histogram\"}], \"histogram2d\": [{\"colorbar\": {\"outlinewidth\": 0, \"ticks\": \"\"}, \"colorscale\": [[0.0, \"#0d0887\"], [0.1111111111111111, \"#46039f\"], [0.2222222222222222, \"#7201a8\"], [0.3333333333333333, \"#9c179e\"], [0.4444444444444444, \"#bd3786\"], [0.5555555555555556, \"#d8576b\"], [0.6666666666666666, \"#ed7953\"], [0.7777777777777778, \"#fb9f3a\"], [0.8888888888888888, \"#fdca26\"], [1.0, \"#f0f921\"]], \"type\": \"histogram2d\"}], \"histogram2dcontour\": [{\"colorbar\": {\"outlinewidth\": 0, \"ticks\": \"\"}, \"colorscale\": [[0.0, \"#0d0887\"], [0.1111111111111111, \"#46039f\"], [0.2222222222222222, \"#7201a8\"], [0.3333333333333333, \"#9c179e\"], [0.4444444444444444, \"#bd3786\"], [0.5555555555555556, \"#d8576b\"], [0.6666666666666666, \"#ed7953\"], [0.7777777777777778, \"#fb9f3a\"], [0.8888888888888888, \"#fdca26\"], [1.0, \"#f0f921\"]], \"type\": \"histogram2dcontour\"}], \"mesh3d\": [{\"colorbar\": {\"outlinewidth\": 0, \"ticks\": \"\"}, \"type\": \"mesh3d\"}], \"parcoords\": [{\"line\": {\"colorbar\": {\"outlinewidth\": 0, \"ticks\": \"\"}}, \"type\": \"parcoords\"}], \"pie\": [{\"automargin\": true, \"type\": \"pie\"}], \"scatter\": [{\"marker\": {\"colorbar\": {\"outlinewidth\": 0, \"ticks\": \"\"}}, \"type\": \"scatter\"}], \"scatter3d\": [{\"line\": {\"colorbar\": {\"outlinewidth\": 0, \"ticks\": \"\"}}, \"marker\": {\"colorbar\": {\"outlinewidth\": 0, \"ticks\": \"\"}}, \"type\": \"scatter3d\"}], \"scattercarpet\": [{\"marker\": {\"colorbar\": {\"outlinewidth\": 0, \"ticks\": \"\"}}, \"type\": \"scattercarpet\"}], \"scattergeo\": [{\"marker\": {\"colorbar\": {\"outlinewidth\": 0, \"ticks\": \"\"}}, \"type\": \"scattergeo\"}], \"scattergl\": [{\"marker\": {\"colorbar\": {\"outlinewidth\": 0, \"ticks\": \"\"}}, \"type\": \"scattergl\"}], \"scattermapbox\": [{\"marker\": {\"colorbar\": {\"outlinewidth\": 0, \"ticks\": \"\"}}, \"type\": \"scattermapbox\"}], \"scatterpolar\": [{\"marker\": {\"colorbar\": {\"outlinewidth\": 0, \"ticks\": \"\"}}, \"type\": \"scatterpolar\"}], \"scatterpolargl\": [{\"marker\": {\"colorbar\": {\"outlinewidth\": 0, \"ticks\": \"\"}}, \"type\": \"scatterpolargl\"}], \"scatterternary\": [{\"marker\": {\"colorbar\": {\"outlinewidth\": 0, \"ticks\": \"\"}}, \"type\": \"scatterternary\"}], \"surface\": [{\"colorbar\": {\"outlinewidth\": 0, \"ticks\": \"\"}, \"colorscale\": [[0.0, \"#0d0887\"], [0.1111111111111111, \"#46039f\"], [0.2222222222222222, \"#7201a8\"], [0.3333333333333333, \"#9c179e\"], [0.4444444444444444, \"#bd3786\"], [0.5555555555555556, \"#d8576b\"], [0.6666666666666666, \"#ed7953\"], [0.7777777777777778, \"#fb9f3a\"], [0.8888888888888888, \"#fdca26\"], [1.0, \"#f0f921\"]], \"type\": \"surface\"}], \"table\": [{\"cells\": {\"fill\": {\"color\": \"#EBF0F8\"}, \"line\": {\"color\": \"white\"}}, \"header\": {\"fill\": {\"color\": \"#C8D4E3\"}, \"line\": {\"color\": \"white\"}}, \"type\": \"table\"}]}, \"layout\": {\"annotationdefaults\": {\"arrowcolor\": \"#2a3f5f\", \"arrowhead\": 0, \"arrowwidth\": 1}, \"coloraxis\": {\"colorbar\": {\"outlinewidth\": 0, \"ticks\": \"\"}}, \"colorscale\": {\"diverging\": [[0, \"#8e0152\"], [0.1, \"#c51b7d\"], [0.2, \"#de77ae\"], [0.3, \"#f1b6da\"], [0.4, \"#fde0ef\"], [0.5, \"#f7f7f7\"], [0.6, \"#e6f5d0\"], [0.7, \"#b8e186\"], [0.8, \"#7fbc41\"], [0.9, \"#4d9221\"], [1, \"#276419\"]], \"sequential\": [[0.0, \"#0d0887\"], [0.1111111111111111, \"#46039f\"], [0.2222222222222222, \"#7201a8\"], [0.3333333333333333, \"#9c179e\"], [0.4444444444444444, \"#bd3786\"], [0.5555555555555556, \"#d8576b\"], [0.6666666666666666, \"#ed7953\"], [0.7777777777777778, \"#fb9f3a\"], [0.8888888888888888, \"#fdca26\"], [1.0, \"#f0f921\"]], \"sequentialminus\": [[0.0, \"#0d0887\"], [0.1111111111111111, \"#46039f\"], [0.2222222222222222, \"#7201a8\"], [0.3333333333333333, \"#9c179e\"], [0.4444444444444444, \"#bd3786\"], [0.5555555555555556, \"#d8576b\"], [0.6666666666666666, \"#ed7953\"], [0.7777777777777778, \"#fb9f3a\"], [0.8888888888888888, \"#fdca26\"], [1.0, \"#f0f921\"]]}, \"colorway\": [\"#636efa\", \"#EF553B\", \"#00cc96\", \"#ab63fa\", \"#FFA15A\", \"#19d3f3\", \"#FF6692\", \"#B6E880\", \"#FF97FF\", \"#FECB52\"], \"font\": {\"color\": \"#2a3f5f\"}, \"geo\": {\"bgcolor\": \"white\", \"lakecolor\": \"white\", \"landcolor\": \"#E5ECF6\", \"showlakes\": true, \"showland\": true, \"subunitcolor\": \"white\"}, \"hoverlabel\": {\"align\": \"left\"}, \"hovermode\": \"closest\", \"mapbox\": {\"style\": \"light\"}, \"paper_bgcolor\": \"white\", \"plot_bgcolor\": \"#E5ECF6\", \"polar\": {\"angularaxis\": {\"gridcolor\": \"white\", \"linecolor\": \"white\", \"ticks\": \"\"}, \"bgcolor\": \"#E5ECF6\", \"radialaxis\": {\"gridcolor\": \"white\", \"linecolor\": \"white\", \"ticks\": \"\"}}, \"scene\": {\"xaxis\": {\"backgroundcolor\": \"#E5ECF6\", \"gridcolor\": \"white\", \"gridwidth\": 2, \"linecolor\": \"white\", \"showbackground\": true, \"ticks\": \"\", \"zerolinecolor\": \"white\"}, \"yaxis\": {\"backgroundcolor\": \"#E5ECF6\", \"gridcolor\": \"white\", \"gridwidth\": 2, \"linecolor\": \"white\", \"showbackground\": true, \"ticks\": \"\", \"zerolinecolor\": \"white\"}, \"zaxis\": {\"backgroundcolor\": \"#E5ECF6\", \"gridcolor\": \"white\", \"gridwidth\": 2, \"linecolor\": \"white\", \"showbackground\": true, \"ticks\": \"\", \"zerolinecolor\": \"white\"}}, \"shapedefaults\": {\"line\": {\"color\": \"#2a3f5f\"}}, \"ternary\": {\"aaxis\": {\"gridcolor\": \"white\", \"linecolor\": \"white\", \"ticks\": \"\"}, \"baxis\": {\"gridcolor\": \"white\", \"linecolor\": \"white\", \"ticks\": \"\"}, \"bgcolor\": \"#E5ECF6\", \"caxis\": {\"gridcolor\": \"white\", \"linecolor\": \"white\", \"ticks\": \"\"}}, \"title\": {\"x\": 0.05}, \"xaxis\": {\"automargin\": true, \"gridcolor\": \"white\", \"linecolor\": \"white\", \"ticks\": \"\", \"title\": {\"standoff\": 15}, \"zerolinecolor\": \"white\", \"zerolinewidth\": 2}, \"yaxis\": {\"automargin\": true, \"gridcolor\": \"white\", \"linecolor\": \"white\", \"ticks\": \"\", \"title\": {\"standoff\": 15}, \"zerolinecolor\": \"white\", \"zerolinewidth\": 2}}}, \"title\": {\"text\": \"\\u0412\\u043b\\u0438\\u044f\\u043d\\u0438\\u0435 \\u043e\\u0442\\u0437\\u044b\\u0432\\u043e\\u0432 \\u043a\\u0440\\u0438\\u0442\\u0438\\u043a\\u043e\\u0432 \\u0438 \\u043f\\u043e\\u043b\\u044c\\u0437\\u043e\\u0432\\u0430\\u0442\\u0435\\u043b\\u0435\\u0439 \\u043d\\u0430 \\u043f\\u0440\\u043e\\u0434\\u0430\\u0436\\u0438\"}, \"xaxis\": {\"anchor\": \"y\", \"domain\": [0.0, 1.0]}, \"xaxis2\": {\"anchor\": \"y2\", \"domain\": [0.0, 1.0]}, \"yaxis\": {\"anchor\": \"x\", \"domain\": [0.575, 1.0]}, \"yaxis2\": {\"anchor\": \"x2\", \"domain\": [0.0, 0.425]}},\n",
              "                        {\"responsive\": true}\n",
              "                    ).then(function(){\n",
              "                            \n",
              "var gd = document.getElementById('f2a92850-feb6-4c0e-a0e4-801ef8596b97');\n",
              "var x = new MutationObserver(function (mutations, observer) {{\n",
              "        var display = window.getComputedStyle(gd).display;\n",
              "        if (!display || display === 'none') {{\n",
              "            console.log([gd, 'removed!']);\n",
              "            Plotly.purge(gd);\n",
              "            observer.disconnect();\n",
              "        }}\n",
              "}});\n",
              "\n",
              "// Listen for the removal of the full notebook cells\n",
              "var notebookContainer = gd.closest('#notebook-container');\n",
              "if (notebookContainer) {{\n",
              "    x.observe(notebookContainer, {childList: true});\n",
              "}}\n",
              "\n",
              "// Listen for the clearing of the current output cell\n",
              "var outputEl = gd.closest('.output');\n",
              "if (outputEl) {{\n",
              "    x.observe(outputEl, {childList: true});\n",
              "}}\n",
              "\n",
              "                        })\n",
              "                };\n",
              "                });\n",
              "            </script>\n",
              "        </div>"
            ]
          },
          "metadata": {
            "tags": []
          }
        }
      ]
    },
    {
      "cell_type": "code",
      "metadata": {
        "colab": {
          "base_uri": "https://localhost:8080/",
          "height": 325
        },
        "id": "aMR-Vlqf22h5",
        "outputId": "ea157542-e162-46e9-9717-ce91bc74e7c2"
      },
      "source": [
        "plt.subplots(figsize=(10,5))\n",
        "sns.heatmap(df.query('platform == \"PS4\"')[['total_sales', 'user_score', 'critic_score']].corr(), annot = True, fmt='.1g')\n",
        "plt.show()"
      ],
      "execution_count": 26,
      "outputs": [
        {
          "output_type": "display_data",
          "data": {
            "image/png": "[encoded data removed]",
            "text/plain": [
              "<Figure size 720x360 with 2 Axes>"
            ]
          },
          "metadata": {
            "tags": [],
            "needs_background": "light"
          }
        }
      ]
    },
    {
      "cell_type": "markdown",
      "metadata": {
        "id": "KWdHI3XJCN0_"
      },
      "source": [
        "Судя по матрице корреляции, оценки пользователей никак не влияют на объем продаж, когда как отзывы критиков хоть и несильно, но могут повлиять на продажи - коэф. корреляции -0.03 и 0.4 соответственно"
      ]
    },
    {
      "cell_type": "markdown",
      "metadata": {
        "id": "ZVtfK0iT_vAf"
      },
      "source": [
        "### Соотнесите выводы с продажами игр на других платформах"
      ]
    },
    {
      "cell_type": "markdown",
      "metadata": {
        "id": "Of1DLRFbEPcv"
      },
      "source": [
        "Проверим выводу с продажим игр на других популярных и прибыльных платформах. Напомню, это PS4 (уже посмотрели), XOne и PC. И заодно посмотрим еще на PS3 и X360, чтоб наверняка"
      ]
    },
    {
      "cell_type": "code",
      "metadata": {
        "colab": {
          "base_uri": "https://localhost:8080/",
          "height": 608
        },
        "id": "DVof0Y3BSLlb",
        "outputId": "63de3f4d-3720-49e5-8c96-6f1b56f883a5"
      },
      "source": [
        "fig, ax = plt.subplots(2,2, figsize=(15, 10))\n",
        "\n",
        "sns.heatmap(df.query('platform == \"XOne\"')[['total_sales', 'user_score', 'critic_score']].corr(), annot = True, fmt='.1g', ax=ax[0,0])\n",
        "ax[0,0].set_title('XOne')\n",
        "\n",
        "sns.heatmap(df.query('platform == \"PC\"')[['total_sales', 'user_score', 'critic_score']].corr(), annot = True, fmt='.1g', ax=ax[0,1])\n",
        "ax[0,1].set_title('PC')\n",
        "\n",
        "sns.heatmap(df.query('platform == \"PS3\"')[['total_sales', 'user_score', 'critic_score']].corr(), annot = True, fmt='.1g', ax=ax[1,0])\n",
        "ax[1,0].set_title('PS3')\n",
        "\n",
        "sns.heatmap(df.query('platform == \"X360\"')[['total_sales', 'user_score', 'critic_score']].corr(), annot = True, fmt='.1g', ax=ax[1,1])\n",
        "ax[1,1].set_title('X360')\n",
        "\n",
        "plt.show()"
      ],
      "execution_count": 27,
      "outputs": [
        {
          "output_type": "display_data",
          "data": {
            "image/png": "[encoded data removed]",
            "text/plain": [
              "<Figure size 1080x720 with 8 Axes>"
            ]
          },
          "metadata": {
            "tags": [],
            "needs_background": "light"
          }
        }
      ]
    },
    {
      "cell_type": "markdown",
      "metadata": {
        "id": "11LgAnhfE2wI"
      },
      "source": [
        "Результат практически не отличается и на других платформах.\n",
        "\n",
        "Значит, можно сделать вывод - на объем продаж влияют только оценки критиков, отзывы пользователей роли не играют."
      ]
    },
    {
      "cell_type": "markdown",
      "metadata": {
        "id": "El6qon2b_xxH"
      },
      "source": [
        "### Посмотрите на общее распределение игр по жанрам. Что можно сказать о самых прибыльных жанрах? Выделяются ли жанры с высокими и низкими продажами?"
      ]
    },
    {
      "cell_type": "code",
      "metadata": {
        "colab": {
          "base_uri": "https://localhost:8080/",
          "height": 542
        },
        "id": "cNAFJAtmVs4A",
        "outputId": "7be391e4-4b59-45b4-eeff-0bd7135dfbfc"
      },
      "source": [
        "dr = (\n",
        "    df\n",
        "        .groupby('genre', as_index=False)\n",
        "        .agg({'total_sales':'sum'})\n",
        "        .sort_values(by='total_sales')\n",
        ")\n",
        "\n",
        "fig = px.bar(dr, x='genre', y='total_sales', color='total_sales',\n",
        "             title='Продажи игр по жанрам')\n",
        "fig.show()"
      ],
      "execution_count": 28,
      "outputs": [
        {
          "output_type": "display_data",
          "data": {
            "text/html": [
              "<div>\n",
              "        \n",
              "        \n",
              "            <div id=\"50ee3cc5-6fef-4dd4-bf26-53a1304384b7\" class=\"plotly-graph-div\" style=\"height:525px; width:100%;\"></div>\n",
              "            <script type=\"text/javascript\">\n",
              "                require([\"plotly\"], function(Plotly) {\n",
              "                    window.PLOTLYENV=window.PLOTLYENV || {};\n",
              "                    \n",
              "                if (document.getElementById(\"50ee3cc5-6fef-4dd4-bf26-53a1304384b7\")) {\n",
              "                    Plotly.newPlot(\n",
              "                        '50ee3cc5-6fef-4dd4-bf26-53a1304384b7',\n",
              "                        [{\"alignmentgroup\": \"True\", \"hoverlabel\": {\"namelength\": 0}, \"hovertemplate\": \"genre=%{x}<br>total_sales=%{marker.color}\", \"legendgroup\": \"\", \"marker\": {\"color\": [3.169999999999999, 10.079999999999997, 21.760000000000016, 23.640000000000086, 35.31000000000003, 39.889999999999986, 42.63, 62.820000000000036, 145.89000000000027, 150.64999999999986, 232.97999999999993, 321.86999999999694], \"coloraxis\": \"coloraxis\"}, \"name\": \"\", \"offsetgroup\": \"\", \"orientation\": \"v\", \"showlegend\": false, \"textposition\": \"auto\", \"type\": \"bar\", \"x\": [\"Puzzle\", \"Strategy\", \"Simulation\", \"Adventure\", \"Fighting\", \"Racing\", \"Platform\", \"Misc\", \"Role-Playing\", \"Sports\", \"Shooter\", \"Action\"], \"xaxis\": \"x\", \"y\": [3.169999999999999, 10.079999999999997, 21.760000000000016, 23.640000000000086, 35.31000000000003, 39.889999999999986, 42.63, 62.820000000000036, 145.89000000000027, 150.64999999999986, 232.97999999999993, 321.86999999999694], \"yaxis\": \"y\"}],\n",
              "                        {\"barmode\": \"relative\", \"coloraxis\": {\"colorbar\": {\"title\": {\"text\": \"total_sales\"}}, \"colorscale\": [[0.0, \"#0d0887\"], [0.1111111111111111, \"#46039f\"], [0.2222222222222222, \"#7201a8\"], [0.3333333333333333, \"#9c179e\"], [0.4444444444444444, \"#bd3786\"], [0.5555555555555556, \"#d8576b\"], [0.6666666666666666, \"#ed7953\"], [0.7777777777777778, \"#fb9f3a\"], [0.8888888888888888, \"#fdca26\"], [1.0, \"#f0f921\"]]}, \"legend\": {\"tracegroupgap\": 0}, \"template\": {\"data\": {\"bar\": [{\"error_x\": {\"color\": \"#2a3f5f\"}, \"error_y\": {\"color\": \"#2a3f5f\"}, \"marker\": {\"line\": {\"color\": \"#E5ECF6\", \"width\": 0.5}}, \"type\": \"bar\"}], \"barpolar\": [{\"marker\": {\"line\": {\"color\": \"#E5ECF6\", \"width\": 0.5}}, \"type\": \"barpolar\"}], \"carpet\": [{\"aaxis\": {\"endlinecolor\": \"#2a3f5f\", \"gridcolor\": \"white\", \"linecolor\": \"white\", \"minorgridcolor\": \"white\", \"startlinecolor\": \"#2a3f5f\"}, \"baxis\": {\"endlinecolor\": \"#2a3f5f\", \"gridcolor\": \"white\", \"linecolor\": \"white\", \"minorgridcolor\": \"white\", \"startlinecolor\": \"#2a3f5f\"}, \"type\": \"carpet\"}], \"choropleth\": [{\"colorbar\": {\"outlinewidth\": 0, \"ticks\": \"\"}, \"type\": \"choropleth\"}], \"contour\": [{\"colorbar\": {\"outlinewidth\": 0, \"ticks\": \"\"}, \"colorscale\": [[0.0, \"#0d0887\"], [0.1111111111111111, \"#46039f\"], [0.2222222222222222, \"#7201a8\"], [0.3333333333333333, \"#9c179e\"], [0.4444444444444444, \"#bd3786\"], [0.5555555555555556, \"#d8576b\"], [0.6666666666666666, \"#ed7953\"], [0.7777777777777778, \"#fb9f3a\"], [0.8888888888888888, \"#fdca26\"], [1.0, \"#f0f921\"]], \"type\": \"contour\"}], \"contourcarpet\": [{\"colorbar\": {\"outlinewidth\": 0, \"ticks\": \"\"}, \"type\": \"contourcarpet\"}], \"heatmap\": [{\"colorbar\": {\"outlinewidth\": 0, \"ticks\": \"\"}, \"colorscale\": [[0.0, \"#0d0887\"], [0.1111111111111111, \"#46039f\"], [0.2222222222222222, \"#7201a8\"], [0.3333333333333333, \"#9c179e\"], [0.4444444444444444, \"#bd3786\"], [0.5555555555555556, \"#d8576b\"], [0.6666666666666666, \"#ed7953\"], [0.7777777777777778, \"#fb9f3a\"], [0.8888888888888888, \"#fdca26\"], [1.0, \"#f0f921\"]], \"type\": \"heatmap\"}], \"heatmapgl\": [{\"colorbar\": {\"outlinewidth\": 0, \"ticks\": \"\"}, \"colorscale\": [[0.0, \"#0d0887\"], [0.1111111111111111, \"#46039f\"], [0.2222222222222222, \"#7201a8\"], [0.3333333333333333, \"#9c179e\"], [0.4444444444444444, \"#bd3786\"], [0.5555555555555556, \"#d8576b\"], [0.6666666666666666, \"#ed7953\"], [0.7777777777777778, \"#fb9f3a\"], [0.8888888888888888, \"#fdca26\"], [1.0, \"#f0f921\"]], \"type\": \"heatmapgl\"}], \"histogram\": [{\"marker\": {\"colorbar\": {\"outlinewidth\": 0, \"ticks\": \"\"}}, \"type\": \"histogram\"}], \"histogram2d\": [{\"colorbar\": {\"outlinewidth\": 0, \"ticks\": \"\"}, \"colorscale\": [[0.0, \"#0d0887\"], [0.1111111111111111, \"#46039f\"], [0.2222222222222222, \"#7201a8\"], [0.3333333333333333, \"#9c179e\"], [0.4444444444444444, \"#bd3786\"], [0.5555555555555556, \"#d8576b\"], [0.6666666666666666, \"#ed7953\"], [0.7777777777777778, \"#fb9f3a\"], [0.8888888888888888, \"#fdca26\"], [1.0, \"#f0f921\"]], \"type\": \"histogram2d\"}], \"histogram2dcontour\": [{\"colorbar\": {\"outlinewidth\": 0, \"ticks\": \"\"}, \"colorscale\": [[0.0, \"#0d0887\"], [0.1111111111111111, \"#46039f\"], [0.2222222222222222, \"#7201a8\"], [0.3333333333333333, \"#9c179e\"], [0.4444444444444444, \"#bd3786\"], [0.5555555555555556, \"#d8576b\"], [0.6666666666666666, \"#ed7953\"], [0.7777777777777778, \"#fb9f3a\"], [0.8888888888888888, \"#fdca26\"], [1.0, \"#f0f921\"]], \"type\": \"histogram2dcontour\"}], \"mesh3d\": [{\"colorbar\": {\"outlinewidth\": 0, \"ticks\": \"\"}, \"type\": \"mesh3d\"}], \"parcoords\": [{\"line\": {\"colorbar\": {\"outlinewidth\": 0, \"ticks\": \"\"}}, \"type\": \"parcoords\"}], \"pie\": [{\"automargin\": true, \"type\": \"pie\"}], \"scatter\": [{\"marker\": {\"colorbar\": {\"outlinewidth\": 0, \"ticks\": \"\"}}, \"type\": \"scatter\"}], \"scatter3d\": [{\"line\": {\"colorbar\": {\"outlinewidth\": 0, \"ticks\": \"\"}}, \"marker\": {\"colorbar\": {\"outlinewidth\": 0, \"ticks\": \"\"}}, \"type\": \"scatter3d\"}], \"scattercarpet\": [{\"marker\": {\"colorbar\": {\"outlinewidth\": 0, \"ticks\": \"\"}}, \"type\": \"scattercarpet\"}], \"scattergeo\": [{\"marker\": {\"colorbar\": {\"outlinewidth\": 0, \"ticks\": \"\"}}, \"type\": \"scattergeo\"}], \"scattergl\": [{\"marker\": {\"colorbar\": {\"outlinewidth\": 0, \"ticks\": \"\"}}, \"type\": \"scattergl\"}], \"scattermapbox\": [{\"marker\": {\"colorbar\": {\"outlinewidth\": 0, \"ticks\": \"\"}}, \"type\": \"scattermapbox\"}], \"scatterpolar\": [{\"marker\": {\"colorbar\": {\"outlinewidth\": 0, \"ticks\": \"\"}}, \"type\": \"scatterpolar\"}], \"scatterpolargl\": [{\"marker\": {\"colorbar\": {\"outlinewidth\": 0, \"ticks\": \"\"}}, \"type\": \"scatterpolargl\"}], \"scatterternary\": [{\"marker\": {\"colorbar\": {\"outlinewidth\": 0, \"ticks\": \"\"}}, \"type\": \"scatterternary\"}], \"surface\": [{\"colorbar\": {\"outlinewidth\": 0, \"ticks\": \"\"}, \"colorscale\": [[0.0, \"#0d0887\"], [0.1111111111111111, \"#46039f\"], [0.2222222222222222, \"#7201a8\"], [0.3333333333333333, \"#9c179e\"], [0.4444444444444444, \"#bd3786\"], [0.5555555555555556, \"#d8576b\"], [0.6666666666666666, \"#ed7953\"], [0.7777777777777778, \"#fb9f3a\"], [0.8888888888888888, \"#fdca26\"], [1.0, \"#f0f921\"]], \"type\": \"surface\"}], \"table\": [{\"cells\": {\"fill\": {\"color\": \"#EBF0F8\"}, \"line\": {\"color\": \"white\"}}, \"header\": {\"fill\": {\"color\": \"#C8D4E3\"}, \"line\": {\"color\": \"white\"}}, \"type\": \"table\"}]}, \"layout\": {\"annotationdefaults\": {\"arrowcolor\": \"#2a3f5f\", \"arrowhead\": 0, \"arrowwidth\": 1}, \"coloraxis\": {\"colorbar\": {\"outlinewidth\": 0, \"ticks\": \"\"}}, \"colorscale\": {\"diverging\": [[0, \"#8e0152\"], [0.1, \"#c51b7d\"], [0.2, \"#de77ae\"], [0.3, \"#f1b6da\"], [0.4, \"#fde0ef\"], [0.5, \"#f7f7f7\"], [0.6, \"#e6f5d0\"], [0.7, \"#b8e186\"], [0.8, \"#7fbc41\"], [0.9, \"#4d9221\"], [1, \"#276419\"]], \"sequential\": [[0.0, \"#0d0887\"], [0.1111111111111111, \"#46039f\"], [0.2222222222222222, \"#7201a8\"], [0.3333333333333333, \"#9c179e\"], [0.4444444444444444, \"#bd3786\"], [0.5555555555555556, \"#d8576b\"], [0.6666666666666666, \"#ed7953\"], [0.7777777777777778, \"#fb9f3a\"], [0.8888888888888888, \"#fdca26\"], [1.0, \"#f0f921\"]], \"sequentialminus\": [[0.0, \"#0d0887\"], [0.1111111111111111, \"#46039f\"], [0.2222222222222222, \"#7201a8\"], [0.3333333333333333, \"#9c179e\"], [0.4444444444444444, \"#bd3786\"], [0.5555555555555556, \"#d8576b\"], [0.6666666666666666, \"#ed7953\"], [0.7777777777777778, \"#fb9f3a\"], [0.8888888888888888, \"#fdca26\"], [1.0, \"#f0f921\"]]}, \"colorway\": [\"#636efa\", \"#EF553B\", \"#00cc96\", \"#ab63fa\", \"#FFA15A\", \"#19d3f3\", \"#FF6692\", \"#B6E880\", \"#FF97FF\", \"#FECB52\"], \"font\": {\"color\": \"#2a3f5f\"}, \"geo\": {\"bgcolor\": \"white\", \"lakecolor\": \"white\", \"landcolor\": \"#E5ECF6\", \"showlakes\": true, \"showland\": true, \"subunitcolor\": \"white\"}, \"hoverlabel\": {\"align\": \"left\"}, \"hovermode\": \"closest\", \"mapbox\": {\"style\": \"light\"}, \"paper_bgcolor\": \"white\", \"plot_bgcolor\": \"#E5ECF6\", \"polar\": {\"angularaxis\": {\"gridcolor\": \"white\", \"linecolor\": \"white\", \"ticks\": \"\"}, \"bgcolor\": \"#E5ECF6\", \"radialaxis\": {\"gridcolor\": \"white\", \"linecolor\": \"white\", \"ticks\": \"\"}}, \"scene\": {\"xaxis\": {\"backgroundcolor\": \"#E5ECF6\", \"gridcolor\": \"white\", \"gridwidth\": 2, \"linecolor\": \"white\", \"showbackground\": true, \"ticks\": \"\", \"zerolinecolor\": \"white\"}, \"yaxis\": {\"backgroundcolor\": \"#E5ECF6\", \"gridcolor\": \"white\", \"gridwidth\": 2, \"linecolor\": \"white\", \"showbackground\": true, \"ticks\": \"\", \"zerolinecolor\": \"white\"}, \"zaxis\": {\"backgroundcolor\": \"#E5ECF6\", \"gridcolor\": \"white\", \"gridwidth\": 2, \"linecolor\": \"white\", \"showbackground\": true, \"ticks\": \"\", \"zerolinecolor\": \"white\"}}, \"shapedefaults\": {\"line\": {\"color\": \"#2a3f5f\"}}, \"ternary\": {\"aaxis\": {\"gridcolor\": \"white\", \"linecolor\": \"white\", \"ticks\": \"\"}, \"baxis\": {\"gridcolor\": \"white\", \"linecolor\": \"white\", \"ticks\": \"\"}, \"bgcolor\": \"#E5ECF6\", \"caxis\": {\"gridcolor\": \"white\", \"linecolor\": \"white\", \"ticks\": \"\"}}, \"title\": {\"x\": 0.05}, \"xaxis\": {\"automargin\": true, \"gridcolor\": \"white\", \"linecolor\": \"white\", \"ticks\": \"\", \"title\": {\"standoff\": 15}, \"zerolinecolor\": \"white\", \"zerolinewidth\": 2}, \"yaxis\": {\"automargin\": true, \"gridcolor\": \"white\", \"linecolor\": \"white\", \"ticks\": \"\", \"title\": {\"standoff\": 15}, \"zerolinecolor\": \"white\", \"zerolinewidth\": 2}}}, \"title\": {\"text\": \"\\u041f\\u0440\\u043e\\u0434\\u0430\\u0436\\u0438 \\u0438\\u0433\\u0440 \\u043f\\u043e \\u0436\\u0430\\u043d\\u0440\\u0430\\u043c\"}, \"xaxis\": {\"anchor\": \"y\", \"domain\": [0.0, 1.0], \"title\": {\"text\": \"genre\"}}, \"yaxis\": {\"anchor\": \"x\", \"domain\": [0.0, 1.0], \"title\": {\"text\": \"total_sales\"}}},\n",
              "                        {\"responsive\": true}\n",
              "                    ).then(function(){\n",
              "                            \n",
              "var gd = document.getElementById('50ee3cc5-6fef-4dd4-bf26-53a1304384b7');\n",
              "var x = new MutationObserver(function (mutations, observer) {{\n",
              "        var display = window.getComputedStyle(gd).display;\n",
              "        if (!display || display === 'none') {{\n",
              "            console.log([gd, 'removed!']);\n",
              "            Plotly.purge(gd);\n",
              "            observer.disconnect();\n",
              "        }}\n",
              "}});\n",
              "\n",
              "// Listen for the removal of the full notebook cells\n",
              "var notebookContainer = gd.closest('#notebook-container');\n",
              "if (notebookContainer) {{\n",
              "    x.observe(notebookContainer, {childList: true});\n",
              "}}\n",
              "\n",
              "// Listen for the clearing of the current output cell\n",
              "var outputEl = gd.closest('.output');\n",
              "if (outputEl) {{\n",
              "    x.observe(outputEl, {childList: true});\n",
              "}}\n",
              "\n",
              "                        })\n",
              "                };\n",
              "                });\n",
              "            </script>\n",
              "        </div>"
            ]
          },
          "metadata": {
            "tags": []
          }
        }
      ]
    },
    {
      "cell_type": "markdown",
      "metadata": {
        "id": "D_HD6wggIzVn"
      },
      "source": [
        "Топ-3 по объему продаж - это жанры action, shooter и sports.\n",
        "\n",
        "А жанры - simulation, puzzle и strategy почти не пользуются спросом среди геймеров\n",
        "\n",
        "Посмотрим на средние показатели жанров"
      ]
    },
    {
      "cell_type": "code",
      "metadata": {
        "colab": {
          "base_uri": "https://localhost:8080/",
          "height": 542
        },
        "id": "q89K-f2PcB-E",
        "outputId": "68f4dea8-6400-4f47-e0bc-4ac9e052c680"
      },
      "source": [
        "fig = px.box(df, x='total_sales', y='genre', orientation='h')\n",
        "fig.update_xaxes(range=[0, 4], row=1, col=1)\n",
        "fig.show()"
      ],
      "execution_count": 29,
      "outputs": [
        {
          "output_type": "display_data",
          "data": {
            "text/html": [
              "<div>\n",
              "        \n",
              "        \n",
              "            <div id=\"0f1c6b0a-399e-4c43-a3dc-f7848bb66040\" class=\"plotly-graph-div\" style=\"height:525px; width:100%;\"></div>\n",
              "            <script type=\"text/javascript\">\n",
              "                require([\"plotly\"], function(Plotly) {\n",
              "                    window.PLOTLYENV=window.PLOTLYENV || {};\n",
              "                    \n",
              "                if (document.getElementById(\"0f1c6b0a-399e-4c43-a3dc-f7848bb66040\")) {\n",
              "                    Plotly.newPlot(\n",
              "                        '0f1c6b0a-399e-4c43-a3dc-f7848bb66040',\n",
              "                        [{\"alignmentgroup\": \"True\", \"hoverlabel\": {\"namelength\": 0}, \"hovertemplate\": \"total_sales=%{x}<br>genre=%{y}\", \"legendgroup\": \"\", \"marker\": {\"color\": \"#636efa\"}, \"name\": \"\", \"notched\": false, \"offsetgroup\": \"\", \"orientation\": \"h\", \"showlegend\": false, \"type\": \"box\", \"x\": [21.05, 16.27, 14.629999999999999, 14.6, 12.620000000000001, 11.68, 10.24, 9.36, 9.18, 8.58, 7.98, 7.66, 7.6000000000000005, 7.550000000000001, 7.389999999999999, 7.17, 7.14, 7.09, 6.460000000000001, 6.08, 5.86, 5.640000000000001, 5.47, 5.39, 5.26, 5.2700000000000005, 5.220000000000001, 4.87, 4.72, 4.62, 4.59, 4.49, 4.470000000000001, 4.4399999999999995, 4.36, 4.319999999999999, 4.32, 4.28, 4.28, 4.22, 4.22, 4.07, 4.05, 4.04, 3.9699999999999998, 3.96, 3.96, 3.89, 3.87, 3.8299999999999996, 3.8, 3.7099999999999995, 3.66, 3.58, 3.5799999999999996, 3.5, 3.4899999999999998, 3.49, 3.44, 3.4200000000000004, 3.3899999999999997, 3.37, 3.32, 3.3099999999999996, 3.28, 3.28, 3.25, 3.2399999999999998, 3.2299999999999995, 3.23, 3.21, 3.1, 3.05, 3.0500000000000003, 3.01, 2.96, 2.95, 2.92, 2.92, 2.86, 2.7899999999999996, 2.78, 2.7600000000000002, 2.6999999999999997, 2.6900000000000004, 2.68, 2.65, 2.52, 2.48, 2.4499999999999997, 2.42, 2.4200000000000004, 2.42, 2.42, 2.34, 2.34, 2.29, 2.29, 2.2600000000000002, 2.25, 2.25, 2.2300000000000004, 2.24, 2.23, 2.22, 2.21, 2.1999999999999997, 2.19, 2.18, 2.1700000000000004, 2.15, 2.14, 2.11, 2.11, 2.09, 2.08, 2.07, 2.07, 2.0500000000000003, 2.02, 2.01, 2.01, 1.98, 1.9600000000000002, 1.94, 1.9200000000000002, 1.92, 1.9200000000000002, 1.91, 1.9100000000000001, 1.88, 1.9, 1.88, 1.8800000000000001, 1.87, 1.85, 1.83, 1.83, 1.83, 1.81, 1.7999999999999998, 1.7900000000000003, 1.8000000000000003, 1.74, 1.75, 1.7500000000000002, 1.74, 1.7400000000000002, 1.7200000000000002, 1.73, 1.7200000000000002, 1.73, 1.7, 1.6900000000000002, 1.6900000000000002, 1.69, 1.6700000000000002, 1.67, 1.6600000000000001, 1.65, 1.6600000000000001, 1.6400000000000001, 1.6400000000000001, 1.6300000000000001, 1.62, 1.6100000000000003, 1.6, 1.58, 1.57, 1.5699999999999998, 1.5700000000000003, 1.5699999999999998, 1.56, 1.54, 1.54, 1.5299999999999998, 1.51, 1.4900000000000002, 1.49, 1.4700000000000002, 1.46, 1.4600000000000002, 1.44, 1.44, 1.42, 1.42, 1.4100000000000001, 1.4000000000000001, 1.4000000000000001, 1.3800000000000001, 1.3800000000000001, 1.3900000000000001, 1.38, 1.3800000000000001, 1.3599999999999999, 1.3599999999999999, 1.36, 1.3399999999999999, 1.3399999999999999, 1.34, 1.33, 1.3199999999999998, 1.3199999999999998, 1.3, 1.3, 1.2900000000000003, 1.29, 1.29, 1.2800000000000002, 1.28, 1.2800000000000002, 1.27, 1.2799999999999998, 1.2699999999999998, 1.27, 1.26, 1.25, 1.25, 1.25, 1.23, 1.23, 1.23, 1.21, 1.21, 1.1900000000000002, 1.1900000000000002, 1.2000000000000002, 1.19, 1.17, 1.1700000000000002, 1.1600000000000001, 1.15, 1.14, 1.1300000000000001, 1.14, 1.13, 1.1199999999999999, 1.11, 1.12, 1.11, 1.1, 1.1, 1.09, 1.0799999999999998, 1.08, 1.08, 1.08, 1.07, 1.07, 1.06, 1.05, 1.05, 1.03, 1.03, 1.02, 1.01, 1.02, 1.01, 0.99, 0.98, 0.98, 0.9800000000000001, 0.9799999999999999, 0.97, 0.9700000000000001, 0.9700000000000001, 0.9600000000000001, 0.9500000000000001, 0.95, 0.95, 0.95, 0.9400000000000001, 0.94, 0.9400000000000001, 0.9400000000000001, 0.9400000000000001, 0.93, 0.93, 0.93, 0.92, 0.93, 0.93, 0.93, 0.93, 0.9299999999999999, 0.92, 0.8999999999999999, 0.9, 0.91, 0.91, 0.9, 0.9, 0.9000000000000001, 0.91, 0.8900000000000001, 0.89, 0.89, 0.89, 0.89, 0.88, 0.88, 0.87, 0.87, 0.87, 0.86, 0.86, 0.85, 0.84, 0.8400000000000001, 0.8500000000000001, 0.84, 0.8200000000000001, 0.8, 0.8000000000000002, 0.8, 0.7899999999999999, 0.8, 0.79, 0.78, 0.79, 0.78, 0.7799999999999999, 0.78, 0.7699999999999999, 0.78, 0.77, 0.76, 0.76, 0.75, 0.76, 0.7500000000000001, 0.7600000000000001, 0.75, 0.75, 0.75, 0.75, 0.74, 0.7300000000000001, 0.74, 0.73, 0.75, 0.7300000000000001, 0.74, 0.74, 0.7300000000000001, 0.7300000000000001, 0.73, 0.73, 0.73, 0.73, 0.72, 0.7200000000000001, 0.72, 0.73, 0.73, 0.7200000000000001, 0.7, 0.7, 0.6900000000000001, 0.71, 0.6900000000000001, 0.6900000000000001, 0.6900000000000002, 0.69, 0.6799999999999999, 0.7, 0.6700000000000002, 0.6900000000000001, 0.6800000000000002, 0.6599999999999999, 0.67, 0.6799999999999999, 0.67, 0.67, 0.6599999999999999, 0.66, 0.6600000000000001, 0.6599999999999999, 0.66, 0.66, 0.6599999999999999, 0.65, 0.6599999999999999, 0.65, 0.6499999999999999, 0.65, 0.64, 0.64, 0.65, 0.6400000000000001, 0.6399999999999999, 0.6400000000000001, 0.63, 0.64, 0.6400000000000001, 0.6300000000000001, 0.64, 0.63, 0.63, 0.6200000000000001, 0.63, 0.6300000000000001, 0.63, 0.6200000000000001, 0.62, 0.6200000000000001, 0.61, 0.61, 0.6200000000000001, 0.62, 0.61, 0.61, 0.6, 0.61, 0.6100000000000001, 0.6000000000000001, 0.6100000000000001, 0.6000000000000001, 0.5900000000000001, 0.6, 0.6, 0.5900000000000001, 0.6, 0.59, 0.6, 0.5900000000000001, 0.5800000000000001, 0.5800000000000001, 0.5800000000000001, 0.5800000000000001, 0.5800000000000001, 0.5800000000000001, 0.5700000000000001, 0.5700000000000001, 0.5700000000000001, 0.5700000000000001, 0.5700000000000001, 0.56, 0.5700000000000001, 0.56, 0.56, 0.56, 0.56, 0.56, 0.56, 0.55, 0.54, 0.5599999999999999, 0.56, 0.55, 0.55, 0.5499999999999999, 0.54, 0.5499999999999999, 0.53, 0.54, 0.53, 0.54, 0.53, 0.53, 0.53, 0.53, 0.52, 0.53, 0.53, 0.53, 0.52, 0.51, 0.52, 0.51, 0.51, 0.51, 0.51, 0.51, 0.49999999999999994, 0.51, 0.51, 0.49, 0.48, 0.49000000000000005, 0.48000000000000004, 0.49, 0.48, 0.48000000000000004, 0.48000000000000004, 0.48, 0.4799999999999999, 0.4800000000000001, 0.49000000000000005, 0.48, 0.48, 0.48, 0.47, 0.47, 0.45999999999999996, 0.47000000000000003, 0.47, 0.46, 0.45, 0.46, 0.46, 0.45999999999999996, 0.44999999999999996, 0.4600000000000001, 0.45, 0.44999999999999996, 0.45, 0.45, 0.45999999999999996, 0.45, 0.44, 0.44999999999999996, 0.45, 0.44000000000000006, 0.44000000000000006, 0.44, 0.44, 0.44, 0.45, 0.43, 0.43, 0.43, 0.44000000000000006, 0.44, 0.43, 0.44, 0.43, 0.44, 0.43, 0.42999999999999994, 0.43, 0.43, 0.43000000000000005, 0.42, 0.43000000000000005, 0.43, 0.42000000000000004, 0.42, 0.42000000000000004, 0.42, 0.42000000000000004, 0.42, 0.42, 0.42, 0.41000000000000003, 0.41, 0.41, 0.41, 0.41, 0.41000000000000003, 0.41000000000000003, 0.41000000000000003, 0.41000000000000003, 0.41, 0.41, 0.4, 0.4, 0.41, 0.38999999999999996, 0.4, 0.4, 0.39999999999999997, 0.39, 0.39999999999999997, 0.4, 0.38999999999999996, 0.39999999999999997, 0.39, 0.38, 0.39, 0.37999999999999995, 0.39, 0.38, 0.38999999999999996, 0.38, 0.38, 0.38, 0.38, 0.38, 0.38, 0.38, 0.38, 0.38, 0.38, 0.37000000000000005, 0.38, 0.38000000000000006, 0.37, 0.37, 0.37, 0.37000000000000005, 0.37000000000000005, 0.38, 0.36000000000000004, 0.36000000000000004, 0.37, 0.36, 0.37, 0.36, 0.36, 0.37, 0.36, 0.36, 0.36000000000000004, 0.36, 0.36, 0.36, 0.34, 0.36000000000000004, 0.34, 0.35, 0.36, 0.36, 0.35, 0.35000000000000003, 0.36, 0.35000000000000003, 0.35, 0.35000000000000003, 0.35000000000000003, 0.35, 0.33999999999999997, 0.34, 0.33999999999999997, 0.34, 0.35, 0.34, 0.35, 0.33999999999999997, 0.33999999999999997, 0.33999999999999997, 0.33, 0.32999999999999996, 0.34, 0.33, 0.33999999999999997, 0.33, 0.33, 0.33, 0.33, 0.32000000000000006, 0.31999999999999995, 0.33, 0.31999999999999995, 0.32, 0.31000000000000005, 0.32000000000000006, 0.33, 0.32, 0.32, 0.31999999999999995, 0.31999999999999995, 0.31000000000000005, 0.31000000000000005, 0.31000000000000005, 0.32000000000000006, 0.31000000000000005, 0.31, 0.31000000000000005, 0.31000000000000005, 0.32, 0.31000000000000005, 0.3, 0.3, 0.3, 0.31000000000000005, 0.31000000000000005, 0.31000000000000005, 0.31, 0.31000000000000005, 0.31, 0.30000000000000004, 0.3, 0.3, 0.3, 0.29000000000000004, 0.29000000000000004, 0.30000000000000004, 0.3, 0.3, 0.29000000000000004, 0.29000000000000004, 0.28, 0.29000000000000004, 0.29000000000000004, 0.28, 0.29, 0.29, 0.29000000000000004, 0.28, 0.29000000000000004, 0.29000000000000004, 0.29000000000000004, 0.27999999999999997, 0.28, 0.29000000000000004, 0.27, 0.28, 0.27, 0.28, 0.27, 0.29000000000000004, 0.28, 0.29, 0.28, 0.27, 0.27, 0.27, 0.28, 0.26999999999999996, 0.27, 0.27, 0.27, 0.27, 0.26, 0.27, 0.26, 0.26, 0.26, 0.27, 0.26, 0.26, 0.26, 0.26, 0.26, 0.26, 0.26, 0.26, 0.26, 0.26, 0.26, 0.26, 0.26, 0.26, 0.26, 0.25, 0.25, 0.26, 0.25, 0.25, 0.25, 0.25, 0.26, 0.26, 0.25, 0.25, 0.25, 0.24999999999999997, 0.25, 0.24000000000000002, 0.24, 0.24000000000000002, 0.25, 0.24999999999999997, 0.25, 0.24000000000000002, 0.24, 0.25, 0.24, 0.24000000000000002, 0.24000000000000002, 0.24999999999999997, 0.24, 0.24000000000000002, 0.24, 0.23, 0.24000000000000002, 0.23, 0.24, 0.24000000000000002, 0.24000000000000002, 0.24000000000000002, 0.24000000000000002, 0.24, 0.24, 0.24, 0.23, 0.23, 0.24000000000000002, 0.23, 0.23, 0.23, 0.22999999999999998, 0.24, 0.23, 0.23, 0.23, 0.22000000000000003, 0.23, 0.23, 0.23, 0.23, 0.23, 0.22, 0.22999999999999998, 0.22, 0.23, 0.22, 0.22, 0.23, 0.22, 0.23, 0.22, 0.22, 0.22, 0.22, 0.22, 0.21000000000000002, 0.22, 0.22, 0.22, 0.22, 0.21000000000000002, 0.22, 0.22, 0.21, 0.21000000000000002, 0.21, 0.22, 0.21, 0.22, 0.21, 0.21, 0.21000000000000002, 0.21, 0.21, 0.2, 0.21000000000000002, 0.21, 0.21, 0.2, 0.19999999999999998, 0.19999999999999998, 0.2, 0.2, 0.21, 0.19999999999999998, 0.2, 0.2, 0.19999999999999998, 0.21, 0.2, 0.2, 0.19999999999999998, 0.2, 0.19999999999999998, 0.19999999999999998, 0.2, 0.2, 0.21, 0.2, 0.19999999999999998, 0.2, 0.19999999999999998, 0.19999999999999998, 0.2, 0.2, 0.19999999999999998, 0.19, 0.19, 0.18000000000000002, 0.19, 0.19999999999999998, 0.19999999999999998, 0.19, 0.18999999999999997, 0.19, 0.18000000000000002, 0.19, 0.18999999999999997, 0.18999999999999997, 0.19999999999999998, 0.19, 0.18000000000000002, 0.19, 0.19, 0.18, 0.19, 0.19, 0.18000000000000002, 0.19, 0.18000000000000002, 0.19, 0.19, 0.19, 0.18999999999999997, 0.18, 0.19999999999999998, 0.19, 0.18999999999999997, 0.19, 0.18000000000000002, 0.18000000000000002, 0.18, 0.18, 0.18, 0.18, 0.18, 0.18, 0.18, 0.18, 0.18, 0.18999999999999997, 0.18, 0.16999999999999998, 0.18000000000000002, 0.18, 0.18, 0.18, 0.18, 0.18, 0.18, 0.18000000000000002, 0.17, 0.17, 0.18, 0.17, 0.16999999999999998, 0.16, 0.18, 0.17, 0.17, 0.17, 0.17, 0.17, 0.17, 0.17, 0.16, 0.17, 0.16999999999999998, 0.17, 0.17, 0.16, 0.16000000000000003, 0.17, 0.17, 0.16999999999999998, 0.16999999999999998, 0.17, 0.17, 0.16, 0.16, 0.16, 0.15000000000000002, 0.16, 0.16, 0.16000000000000003, 0.16000000000000003, 0.17, 0.16, 0.16, 0.16999999999999998, 0.16, 0.15000000000000002, 0.16, 0.15000000000000002, 0.16, 0.16, 0.16000000000000003, 0.16, 0.15000000000000002, 0.16, 0.16, 0.15000000000000002, 0.15000000000000002, 0.15000000000000002, 0.15, 0.16, 0.16, 0.15, 0.15, 0.15, 0.14, 0.15, 0.14, 0.15, 0.15, 0.15000000000000002, 0.15000000000000002, 0.15000000000000002, 0.15, 0.15000000000000002, 0.13999999999999999, 0.15, 0.16, 0.15, 0.15, 0.15, 0.15000000000000002, 0.15000000000000002, 0.15, 0.14, 0.14, 0.14, 0.14, 0.15000000000000002, 0.15000000000000002, 0.14, 0.13, 0.14, 0.14, 0.13999999999999999, 0.14, 0.13999999999999999, 0.14, 0.14, 0.14, 0.15, 0.14, 0.14, 0.14, 0.14, 0.14, 0.14, 0.13999999999999999, 0.14, 0.14, 0.13, 0.13, 0.14, 0.13, 0.14, 0.14, 0.13, 0.13, 0.13, 0.13, 0.13, 0.13, 0.13, 0.13, 0.12, 0.13, 0.12000000000000001, 0.13, 0.13, 0.13, 0.13, 0.13, 0.13, 0.13, 0.13, 0.13, 0.12000000000000001, 0.13, 0.13, 0.12999999999999998, 0.13, 0.13, 0.13, 0.13, 0.13, 0.13, 0.13, 0.12000000000000001, 0.13, 0.13, 0.12000000000000001, 0.13, 0.12, 0.12, 0.12, 0.12, 0.13, 0.13, 0.12, 0.12, 0.12, 0.12, 0.12, 0.12, 0.12000000000000001, 0.11, 0.12, 0.11, 0.12, 0.12, 0.12000000000000001, 0.12000000000000001, 0.12, 0.11, 0.12, 0.12, 0.12, 0.12, 0.12, 0.12, 0.12, 0.12, 0.11, 0.12, 0.12, 0.12, 0.12000000000000001, 0.12, 0.12, 0.12, 0.11, 0.12, 0.12, 0.12, 0.10999999999999999, 0.12, 0.11000000000000001, 0.12000000000000001, 0.12, 0.12000000000000001, 0.12000000000000001, 0.11, 0.11, 0.11, 0.11, 0.12, 0.11, 0.11, 0.11, 0.12000000000000001, 0.11, 0.11, 0.12000000000000001, 0.11, 0.11, 0.11, 0.11, 0.12000000000000001, 0.11, 0.11, 0.11, 0.11, 0.12000000000000001, 0.11, 0.11, 0.11, 0.11, 0.10999999999999999, 0.11, 0.11, 0.09999999999999999, 0.11, 0.11, 0.11, 0.11, 0.11, 0.09999999999999999, 0.11, 0.09999999999999999, 0.11000000000000001, 0.11, 0.11, 0.1, 0.1, 0.1, 0.11, 0.09999999999999999, 0.11, 0.1, 0.1, 0.1, 0.11, 0.09999999999999999, 0.11, 0.11, 0.1, 0.1, 0.09999999999999999, 0.09999999999999999, 0.09999999999999999, 0.11, 0.1, 0.09999999999999999, 0.1, 0.1, 0.09999999999999999, 0.09999999999999999, 0.1, 0.1, 0.09, 0.1, 0.09999999999999999, 0.09, 0.1, 0.1, 0.1, 0.09999999999999999, 0.09999999999999999, 0.09999999999999999, 0.1, 0.1, 0.09999999999999999, 0.09999999999999999, 0.1, 0.09, 0.1, 0.1, 0.09999999999999999, 0.1, 0.09999999999999999, 0.09999999999999999, 0.09, 0.09000000000000001, 0.09, 0.09999999999999999, 0.1, 0.09999999999999999, 0.09, 0.09, 0.09, 0.09, 0.09, 0.1, 0.09, 0.09999999999999999, 0.09999999999999999, 0.09000000000000001, 0.09, 0.09, 0.09999999999999999, 0.08, 0.09, 0.09, 0.1, 0.09, 0.09, 0.1, 0.09, 0.1, 0.09, 0.09000000000000001, 0.09, 0.09, 0.09, 0.09, 0.09999999999999999, 0.09, 0.09, 0.09, 0.09, 0.08, 0.08, 0.09, 0.08, 0.09, 0.09, 0.08, 0.09, 0.09, 0.08, 0.09999999999999999, 0.09, 0.09, 0.09, 0.09, 0.09, 0.08, 0.09, 0.08, 0.08, 0.08, 0.09, 0.09, 0.08, 0.08, 0.08, 0.08, 0.09, 0.08, 0.08, 0.08, 0.08, 0.08, 0.06999999999999999, 0.08, 0.08, 0.09, 0.08, 0.08, 0.09, 0.09000000000000001, 0.08, 0.07, 0.08, 0.07999999999999999, 0.08, 0.07999999999999999, 0.08, 0.06999999999999999, 0.08, 0.08, 0.08, 0.08, 0.08, 0.08, 0.08, 0.08, 0.08, 0.08, 0.08, 0.06999999999999999, 0.08, 0.08, 0.08, 0.06999999999999999, 0.08, 0.08, 0.08, 0.08, 0.08, 0.09, 0.07999999999999999, 0.07, 0.09, 0.07, 0.08, 0.08, 0.08, 0.08, 0.08, 0.08, 0.08, 0.08, 0.08, 0.08, 0.07, 0.08, 0.07, 0.07, 0.08, 0.07, 0.07, 0.07, 0.07, 0.08, 0.07, 0.08, 0.07, 0.06999999999999999, 0.07, 0.07, 0.07, 0.060000000000000005, 0.07, 0.08, 0.07, 0.06999999999999999, 0.07, 0.08, 0.08, 0.07, 0.06999999999999999, 0.07, 0.06999999999999999, 0.06999999999999999, 0.07, 0.07, 0.06999999999999999, 0.07999999999999999, 0.06999999999999999, 0.06999999999999999, 0.07, 0.06999999999999999, 0.06999999999999999, 0.06999999999999999, 0.08, 0.08, 0.07, 0.07, 0.07, 0.06, 0.07, 0.060000000000000005, 0.06999999999999999, 0.07, 0.07, 0.07, 0.07, 0.06999999999999999, 0.060000000000000005, 0.07, 0.07, 0.06999999999999999, 0.06, 0.07, 0.06, 0.07, 0.07, 0.06999999999999999, 0.07, 0.06999999999999999, 0.06, 0.06, 0.06, 0.06999999999999999, 0.06999999999999999, 0.06, 0.06999999999999999, 0.06, 0.06, 0.06, 0.06999999999999999, 0.06, 0.06, 0.06, 0.060000000000000005, 0.06, 0.06, 0.06999999999999999, 0.06999999999999999, 0.06, 0.060000000000000005, 0.060000000000000005, 0.06, 0.06, 0.060000000000000005, 0.06999999999999999, 0.060000000000000005, 0.06, 0.06, 0.060000000000000005, 0.06, 0.06, 0.06, 0.06999999999999999, 0.06, 0.060000000000000005, 0.06999999999999999, 0.060000000000000005, 0.060000000000000005, 0.060000000000000005, 0.06999999999999999, 0.06, 0.06, 0.06, 0.05, 0.06, 0.06, 0.06, 0.060000000000000005, 0.07, 0.06, 0.06, 0.06, 0.06, 0.060000000000000005, 0.06, 0.06999999999999999, 0.06, 0.060000000000000005, 0.06, 0.06, 0.06, 0.06, 0.060000000000000005, 0.05, 0.06, 0.06999999999999999, 0.060000000000000005, 0.060000000000000005, 0.06, 0.06, 0.05, 0.05, 0.06, 0.060000000000000005, 0.05, 0.060000000000000005, 0.060000000000000005, 0.060000000000000005, 0.060000000000000005, 0.05, 0.06, 0.06, 0.06, 0.060000000000000005, 0.06, 0.060000000000000005, 0.06, 0.05, 0.060000000000000005, 0.06, 0.05, 0.05, 0.05, 0.05, 0.060000000000000005, 0.05, 0.05, 0.05, 0.05, 0.05, 0.060000000000000005, 0.05, 0.060000000000000005, 0.05, 0.05, 0.060000000000000005, 0.05, 0.05, 0.05, 0.05, 0.05, 0.05, 0.05, 0.05, 0.05, 0.04, 0.060000000000000005, 0.05, 0.05, 0.05, 0.05, 0.05, 0.05, 0.05, 0.05, 0.05, 0.05, 0.060000000000000005, 0.05, 0.05, 0.05, 0.05, 0.05, 0.060000000000000005, 0.05, 0.05, 0.05, 0.05, 0.05, 0.05, 0.05, 0.05, 0.05, 0.05, 0.05, 0.05, 0.04, 0.060000000000000005, 0.05, 0.05, 0.04, 0.05, 0.05, 0.05, 0.04, 0.05, 0.05, 0.05, 0.05, 0.05, 0.05, 0.05, 0.05, 0.05, 0.05, 0.04, 0.05, 0.05, 0.04, 0.05, 0.05, 0.04, 0.04, 0.04, 0.05, 0.05, 0.05, 0.05, 0.05, 0.05, 0.05, 0.05, 0.05, 0.04, 0.05, 0.05, 0.05, 0.04, 0.04, 0.05, 0.04, 0.04, 0.05, 0.04, 0.04, 0.04, 0.04, 0.04, 0.04, 0.04, 0.04, 0.04, 0.04, 0.04, 0.04, 0.04, 0.04, 0.04, 0.04, 0.04, 0.04, 0.04, 0.04, 0.04, 0.03, 0.04, 0.05, 0.04, 0.04, 0.03, 0.03, 0.04, 0.04, 0.04, 0.05, 0.04, 0.04, 0.04, 0.04, 0.04, 0.04, 0.04, 0.04, 0.04, 0.04, 0.04, 0.04, 0.04, 0.04, 0.04, 0.04, 0.03, 0.04, 0.05, 0.04, 0.04, 0.03, 0.04, 0.04, 0.04, 0.04, 0.04, 0.04, 0.04, 0.04, 0.04, 0.04, 0.04, 0.04, 0.03, 0.03, 0.04, 0.04, 0.04, 0.04, 0.04, 0.04, 0.04, 0.04, 0.04, 0.04, 0.04, 0.03, 0.03, 0.03, 0.04, 0.03, 0.03, 0.03, 0.04, 0.04, 0.04, 0.04, 0.03, 0.04, 0.03, 0.03, 0.03, 0.03, 0.03, 0.03, 0.03, 0.03, 0.03, 0.03, 0.03, 0.03, 0.03, 0.03, 0.04, 0.03, 0.03, 0.03, 0.03, 0.03, 0.03, 0.03, 0.03, 0.03, 0.03, 0.03, 0.03, 0.03, 0.03, 0.03, 0.04, 0.03, 0.03, 0.03, 0.03, 0.03, 0.03, 0.03, 0.04, 0.03, 0.03, 0.03, 0.03, 0.03, 0.03, 0.03, 0.03, 0.03, 0.03, 0.03, 0.03, 0.03, 0.03, 0.03, 0.03, 0.03, 0.03, 0.03, 0.03, 0.03, 0.03, 0.03, 0.03, 0.03, 0.04, 0.03, 0.02, 0.04, 0.03, 0.03, 0.03, 0.03, 0.03, 0.03, 0.03, 0.03, 0.03, 0.03, 0.03, 0.03, 0.03, 0.03, 0.03, 0.03, 0.03, 0.03, 0.03, 0.03, 0.03, 0.02, 0.03, 0.03, 0.03, 0.03, 0.03, 0.03, 0.03, 0.03, 0.03, 0.03, 0.03, 0.03, 0.03, 0.03, 0.03, 0.03, 0.03, 0.03, 0.03, 0.03, 0.03, 0.03, 0.03, 0.02, 0.03, 0.03, 0.03, 0.03, 0.03, 0.03, 0.02, 0.03, 0.02, 0.03, 0.03, 0.03, 0.03, 0.03, 0.03, 0.03, 0.03, 0.03, 0.02, 0.02, 0.03, 0.02, 0.03, 0.03, 0.03, 0.03, 0.03, 0.03, 0.02, 0.03, 0.03, 0.02, 0.03, 0.03, 0.03, 0.03, 0.03, 0.02, 0.02, 0.03, 0.02, 0.03, 0.03, 0.02, 0.03, 0.03, 0.02, 0.03, 0.02, 0.02, 0.03, 0.02, 0.02, 0.02, 0.03, 0.03, 0.03, 0.03, 0.03, 0.02, 0.02, 0.03, 0.02, 0.02, 0.02, 0.02, 0.02, 0.02, 0.02, 0.02, 0.02, 0.02, 0.02, 0.02, 0.02, 0.02, 0.02, 0.02, 0.02, 0.02, 0.02, 0.02, 0.02, 0.02, 0.02, 0.02, 0.02, 0.02, 0.02, 0.02, 0.02, 0.02, 0.02, 0.02, 0.02, 0.02, 0.02, 0.02, 0.02, 0.02, 0.02, 0.02, 0.02, 0.02, 0.02, 0.02, 0.02, 0.02, 0.02, 0.02, 0.02, 0.02, 0.02, 0.02, 0.02, 0.02, 0.02, 0.02, 0.02, 0.02, 0.02, 0.02, 0.02, 0.02, 0.02, 0.02, 0.02, 0.02, 0.02, 0.02, 0.02, 0.02, 0.02, 0.02, 0.02, 0.02, 0.02, 0.02, 0.02, 0.02, 0.02, 0.02, 0.02, 0.02, 0.02, 0.01, 0.02, 0.02, 0.02, 0.02, 0.02, 0.02, 0.02, 0.02, 0.02, 0.02, 0.02, 0.02, 0.02, 0.02, 0.02, 0.02, 0.02, 0.02, 0.02, 0.02, 0.02, 0.02, 0.02, 0.02, 0.02, 0.02, 0.02, 0.02, 0.01, 0.02, 0.02, 0.02, 0.01, 0.02, 0.02, 0.02, 0.02, 0.02, 0.02, 0.02, 0.02, 0.02, 0.02, 0.02, 0.02, 0.02, 0.02, 0.02, 0.02, 0.02, 0.02, 0.01, 0.02, 0.02, 0.02, 0.01, 0.02, 0.02, 0.02, 0.01, 0.02, 0.02, 0.02, 0.02, 0.02, 0.02, 0.02, 0.02, 0.01, 0.02, 0.02, 0.01, 0.02, 0.02, 0.02, 0.02, 0.02, 0.02, 0.01, 0.02, 0.02, 0.01, 0.01, 0.02, 0.02, 0.02, 0.02, 0.02, 0.02, 0.02, 0.02, 0.01, 0.02, 0.02, 0.02, 0.02, 0.02, 0.02, 0.01, 0.01, 0.02, 0.01, 0.02, 0.02, 0.02, 0.02, 0.02, 0.01, 0.01, 0.01, 0.02, 0.01, 0.01, 0.02, 0.02, 0.01, 0.01, 0.02, 0.02, 0.01, 0.01, 0.02, 0.01, 0.01, 0.01, 0.01, 0.01, 0.01, 0.02, 0.01, 0.01, 0.01, 0.01, 0.01, 0.01, 0.01, 0.01, 0.01, 0.01, 0.01, 0.01, 0.01, 0.01, 0.01, 0.01, 0.01, 0.01, 0.01, 0.01, 0.01, 0.01, 0.01, 0.01, 0.01, 0.01, 0.01, 0.01, 0.01, 0.01, 0.01, 0.01, 0.01, 0.01, 0.01, 0.01, 0.01, 0.01, 0.01, 0.01, 0.01, 0.01, 0.01, 0.01, 0.01, 0.01, 0.01, 0.01, 0.01, 0.01, 0.01, 0.01, 0.01, 0.01, 0.01, 0.01, 0.01, 0.01, 0.01, 0.01, 0.01, 0.01, 0.01, 0.01, 0.01, 0.01, 0.01, 0.01, 0.01, 0.01, 0.01, 0.01, 0.01, 0.01, 0.01, 0.01, 0.01, 0.01, 0.01, 0.01, 0.01, 0.01, 0.01, 0.01, 0.01, 0.01, 0.01, 0.01, 0.01, 0.01, 0.01, 0.01, 0.01, 0.01, 0.01, 0.01, 0.01, 0.01, 0.01, 0.01, 0.01, 0.01, 0.01, 0.01, 0.01, 0.01, 0.01, 0.01, 0.01, 0.01, 0.01, 0.01, 0.01, 0.01, 0.01, 0.01, 0.01, 0.01, 0.01, 0.01, 0.01, 0.01, 0.01, 0.01, 0.01, 0.01, 0.01, 0.01, 0.01, 0.01, 0.01, 0.01, 0.01, 0.01, 0.01, 0.01, 0.01, 0.01, 0.01, 0.01, 0.01, 0.01, 0.01, 0.01, 0.01, 0.01, 0.01, 0.01, 0.01, 0.01, 0.01, 0.01, 0.01, 0.01, 0.01, 0.01, 0.01, 0.01, 0.01, 0.01, 0.01, 0.01, 0.01, 0.01, 0.01, 0.01, 0.01, 0.01, 0.01, 0.01], \"x0\": \" \", \"xaxis\": \"x\", \"y\": [\"Action\", \"Action\", \"Shooter\", \"Role-Playing\", \"Action\", \"Role-Playing\", \"Shooter\", \"Shooter\", \"Misc\", \"Sports\", \"Shooter\", \"Shooter\", \"Sports\", \"Fighting\", \"Shooter\", \"Role-Playing\", \"Role-Playing\", \"Racing\", \"Sports\", \"Sports\", \"Action\", \"Shooter\", \"Action\", \"Shooter\", \"Shooter\", \"Misc\", \"Simulation\", \"Fighting\", \"Action\", \"Action\", \"Action\", \"Shooter\", \"Shooter\", \"Shooter\", \"Shooter\", \"Platform\", \"Misc\", \"Shooter\", \"Sports\", \"Role-Playing\", \"Sports\", \"Shooter\", \"Action\", \"Shooter\", \"Role-Playing\", \"Action\", \"Action\", \"Role-Playing\", \"Sports\", \"Shooter\", \"Shooter\", \"Action\", \"Shooter\", \"Shooter\", \"Misc\", \"Action\", \"Shooter\", \"Shooter\", \"Role-Playing\", \"Action\", \"Action\", \"Shooter\", \"Action\", \"Action\", \"Role-Playing\", \"Shooter\", \"Sports\", \"Sports\", \"Racing\", \"Shooter\", \"Platform\", \"Action\", \"Simulation\", \"Simulation\", \"Sports\", \"Action\", \"Shooter\", \"Shooter\", \"Sports\", \"Action\", \"Action\", \"Fighting\", \"Misc\", \"Sports\", \"Shooter\", \"Role-Playing\", \"Sports\", \"Sports\", \"Action\", \"Sports\", \"Racing\", \"Shooter\", \"Sports\", \"Action\", \"Action\", \"Sports\", \"Action\", \"Action\", \"Action\", \"Shooter\", \"Action\", \"Platform\", \"Action\", \"Sports\", \"Action\", \"Shooter\", \"Racing\", \"Sports\", \"Sports\", \"Shooter\", \"Platform\", \"Shooter\", \"Sports\", \"Shooter\", \"Action\", \"Role-Playing\", \"Role-Playing\", \"Racing\", \"Sports\", \"Shooter\", \"Misc\", \"Role-Playing\", \"Racing\", \"Misc\", \"Shooter\", \"Shooter\", \"Shooter\", \"Misc\", \"Role-Playing\", \"Platform\", \"Action\", \"Platform\", \"Action\", \"Sports\", \"Sports\", \"Action\", \"Action\", \"Platform\", \"Role-Playing\", \"Action\", \"Racing\", \"Action\", \"Action\", \"Sports\", \"Role-Playing\", \"Misc\", \"Role-Playing\", \"Action\", \"Shooter\", \"Platform\", \"Racing\", \"Sports\", \"Shooter\", \"Action\", \"Shooter\", \"Shooter\", \"Role-Playing\", \"Strategy\", \"Adventure\", \"Action\", \"Role-Playing\", \"Shooter\", \"Adventure\", \"Sports\", \"Action\", \"Shooter\", \"Action\", \"Misc\", \"Action\", \"Shooter\", \"Action\", \"Sports\", \"Sports\", \"Shooter\", \"Platform\", \"Platform\", \"Role-Playing\", \"Action\", \"Shooter\", \"Platform\", \"Role-Playing\", \"Sports\", \"Sports\", \"Action\", \"Simulation\", \"Action\", \"Role-Playing\", \"Action\", \"Racing\", \"Fighting\", \"Platform\", \"Action\", \"Fighting\", \"Adventure\", \"Shooter\", \"Action\", \"Shooter\", \"Shooter\", \"Shooter\", \"Sports\", \"Action\", \"Role-Playing\", \"Platform\", \"Role-Playing\", \"Platform\", \"Action\", \"Shooter\", \"Action\", \"Role-Playing\", \"Action\", \"Role-Playing\", \"Action\", \"Role-Playing\", \"Action\", \"Role-Playing\", \"Racing\", \"Action\", \"Action\", \"Role-Playing\", \"Sports\", \"Role-Playing\", \"Action\", \"Sports\", \"Shooter\", \"Simulation\", \"Puzzle\", \"Shooter\", \"Fighting\", \"Action\", \"Action\", \"Sports\", \"Sports\", \"Sports\", \"Shooter\", \"Fighting\", \"Action\", \"Shooter\", \"Action\", \"Strategy\", \"Sports\", \"Fighting\", \"Platform\", \"Sports\", \"Racing\", \"Role-Playing\", \"Racing\", \"Action\", \"Shooter\", \"Role-Playing\", \"Shooter\", \"Action\", \"Sports\", \"Action\", \"Sports\", \"Platform\", \"Action\", \"Platform\", \"Fighting\", \"Misc\", \"Role-Playing\", \"Action\", \"Misc\", \"Action\", \"Sports\", \"Action\", \"Shooter\", \"Action\", \"Action\", \"Action\", \"Misc\", \"Action\", \"Sports\", \"Misc\", \"Action\", \"Adventure\", \"Fighting\", \"Sports\", \"Role-Playing\", \"Action\", \"Action\", \"Action\", \"Adventure\", \"Sports\", \"Role-Playing\", \"Role-Playing\", \"Fighting\", \"Sports\", \"Fighting\", \"Action\", \"Shooter\", \"Shooter\", \"Action\", \"Role-Playing\", \"Sports\", \"Action\", \"Action\", \"Action\", \"Action\", \"Adventure\", \"Action\", \"Shooter\", \"Action\", \"Action\", \"Shooter\", \"Role-Playing\", \"Misc\", \"Action\", \"Sports\", \"Role-Playing\", \"Action\", \"Sports\", \"Action\", \"Sports\", \"Shooter\", \"Role-Playing\", \"Action\", \"Racing\", \"Role-Playing\", \"Sports\", \"Misc\", \"Racing\", \"Sports\", \"Action\", \"Sports\", \"Sports\", \"Shooter\", \"Action\", \"Shooter\", \"Role-Playing\", \"Puzzle\", \"Misc\", \"Shooter\", \"Action\", \"Sports\", \"Role-Playing\", \"Misc\", \"Role-Playing\", \"Role-Playing\", \"Action\", \"Action\", \"Role-Playing\", \"Action\", \"Sports\", \"Action\", \"Sports\", \"Sports\", \"Role-Playing\", \"Action\", \"Misc\", \"Action\", \"Strategy\", \"Role-Playing\", \"Sports\", \"Shooter\", \"Action\", \"Role-Playing\", \"Action\", \"Action\", \"Shooter\", \"Action\", \"Adventure\", \"Adventure\", \"Action\", \"Racing\", \"Shooter\", \"Racing\", \"Misc\", \"Shooter\", \"Shooter\", \"Action\", \"Action\", \"Action\", \"Action\", \"Racing\", \"Role-Playing\", \"Action\", \"Platform\", \"Shooter\", \"Shooter\", \"Action\", \"Action\", \"Role-Playing\", \"Misc\", \"Shooter\", \"Action\", \"Simulation\", \"Action\", \"Shooter\", \"Action\", \"Action\", \"Action\", \"Sports\", \"Sports\", \"Action\", \"Racing\", \"Shooter\", \"Platform\", \"Role-Playing\", \"Shooter\", \"Shooter\", \"Misc\", \"Shooter\", \"Sports\", \"Action\", \"Action\", \"Action\", \"Sports\", \"Shooter\", \"Adventure\", \"Shooter\", \"Action\", \"Role-Playing\", \"Shooter\", \"Action\", \"Misc\", \"Sports\", \"Action\", \"Action\", \"Platform\", \"Action\", \"Sports\", \"Misc\", \"Sports\", \"Role-Playing\", \"Sports\", \"Sports\", \"Action\", \"Platform\", \"Role-Playing\", \"Fighting\", \"Platform\", \"Sports\", \"Shooter\", \"Shooter\", \"Sports\", \"Shooter\", \"Misc\", \"Role-Playing\", \"Role-Playing\", \"Shooter\", \"Adventure\", \"Action\", \"Action\", \"Action\", \"Sports\", \"Misc\", \"Action\", \"Action\", \"Action\", \"Action\", \"Shooter\", \"Platform\", \"Sports\", \"Racing\", \"Role-Playing\", \"Sports\", \"Action\", \"Role-Playing\", \"Misc\", \"Action\", \"Shooter\", \"Action\", \"Strategy\", \"Action\", \"Role-Playing\", \"Role-Playing\", \"Action\", \"Action\", \"Role-Playing\", \"Platform\", \"Platform\", \"Action\", \"Role-Playing\", \"Shooter\", \"Shooter\", \"Fighting\", \"Sports\", \"Action\", \"Platform\", \"Shooter\", \"Action\", \"Misc\", \"Role-Playing\", \"Puzzle\", \"Action\", \"Action\", \"Shooter\", \"Sports\", \"Fighting\", \"Action\", \"Sports\", \"Sports\", \"Misc\", \"Action\", \"Sports\", \"Action\", \"Simulation\", \"Action\", \"Action\", \"Adventure\", \"Action\", \"Action\", \"Misc\", \"Sports\", \"Action\", \"Sports\", \"Action\", \"Role-Playing\", \"Action\", \"Sports\", \"Action\", \"Shooter\", \"Action\", \"Action\", \"Sports\", \"Shooter\", \"Action\", \"Action\", \"Role-Playing\", \"Action\", \"Shooter\", \"Action\", \"Action\", \"Fighting\", \"Action\", \"Action\", \"Sports\", \"Shooter\", \"Sports\", \"Role-Playing\", \"Action\", \"Platform\", \"Sports\", \"Action\", \"Action\", \"Racing\", \"Simulation\", \"Action\", \"Role-Playing\", \"Action\", \"Misc\", \"Misc\", \"Sports\", \"Simulation\", \"Shooter\", \"Action\", \"Action\", \"Sports\", \"Shooter\", \"Sports\", \"Racing\", \"Role-Playing\", \"Shooter\", \"Misc\", \"Role-Playing\", \"Role-Playing\", \"Role-Playing\", \"Adventure\", \"Adventure\", \"Action\", \"Sports\", \"Sports\", \"Action\", \"Action\", \"Action\", \"Role-Playing\", \"Adventure\", \"Platform\", \"Platform\", \"Sports\", \"Racing\", \"Misc\", \"Action\", \"Simulation\", \"Sports\", \"Misc\", \"Shooter\", \"Adventure\", \"Shooter\", \"Role-Playing\", \"Sports\", \"Role-Playing\", \"Fighting\", \"Action\", \"Misc\", \"Sports\", \"Racing\", \"Action\", \"Simulation\", \"Role-Playing\", \"Sports\", \"Shooter\", \"Misc\", \"Sports\", \"Shooter\", \"Action\", \"Racing\", \"Action\", \"Strategy\", \"Sports\", \"Shooter\", \"Role-Playing\", \"Simulation\", \"Misc\", \"Role-Playing\", \"Action\", \"Role-Playing\", \"Action\", \"Simulation\", \"Shooter\", \"Action\", \"Simulation\", \"Sports\", \"Action\", \"Shooter\", \"Fighting\", \"Action\", \"Action\", \"Simulation\", \"Shooter\", \"Shooter\", \"Action\", \"Platform\", \"Shooter\", \"Action\", \"Shooter\", \"Action\", \"Strategy\", \"Platform\", \"Action\", \"Fighting\", \"Action\", \"Strategy\", \"Role-Playing\", \"Sports\", \"Role-Playing\", \"Shooter\", \"Fighting\", \"Misc\", \"Shooter\", \"Misc\", \"Misc\", \"Action\", \"Fighting\", \"Strategy\", \"Misc\", \"Role-Playing\", \"Misc\", \"Misc\", \"Action\", \"Adventure\", \"Action\", \"Platform\", \"Action\", \"Role-Playing\", \"Fighting\", \"Action\", \"Action\", \"Action\", \"Action\", \"Simulation\", \"Adventure\", \"Action\", \"Fighting\", \"Action\", \"Fighting\", \"Misc\", \"Fighting\", \"Action\", \"Shooter\", \"Action\", \"Racing\", \"Action\", \"Role-Playing\", \"Role-Playing\", \"Action\", \"Action\", \"Action\", \"Action\", \"Sports\", \"Action\", \"Fighting\", \"Shooter\", \"Action\", \"Strategy\", \"Action\", \"Misc\", \"Role-Playing\", \"Action\", \"Action\", \"Shooter\", \"Sports\", \"Misc\", \"Role-Playing\", \"Action\", \"Shooter\", \"Shooter\", \"Shooter\", \"Action\", \"Action\", \"Action\", \"Action\", \"Strategy\", \"Action\", \"Shooter\", \"Adventure\", \"Racing\", \"Racing\", \"Action\", \"Misc\", \"Adventure\", \"Action\", \"Action\", \"Action\", \"Role-Playing\", \"Action\", \"Action\", \"Action\", \"Action\", \"Action\", \"Action\", \"Strategy\", \"Platform\", \"Sports\", \"Fighting\", \"Shooter\", \"Sports\", \"Role-Playing\", \"Sports\", \"Racing\", \"Action\", \"Action\", \"Action\", \"Shooter\", \"Action\", \"Shooter\", \"Platform\", \"Action\", \"Role-Playing\", \"Adventure\", \"Misc\", \"Role-Playing\", \"Misc\", \"Strategy\", \"Misc\", \"Racing\", \"Shooter\", \"Role-Playing\", \"Action\", \"Adventure\", \"Strategy\", \"Adventure\", \"Role-Playing\", \"Racing\", \"Platform\", \"Role-Playing\", \"Racing\", \"Action\", \"Platform\", \"Action\", \"Action\", \"Platform\", \"Strategy\", \"Sports\", \"Action\", \"Fighting\", \"Shooter\", \"Sports\", \"Role-Playing\", \"Misc\", \"Action\", \"Sports\", \"Sports\", \"Role-Playing\", \"Action\", \"Action\", \"Action\", \"Action\", \"Sports\", \"Action\", \"Role-Playing\", \"Action\", \"Strategy\", \"Misc\", \"Shooter\", \"Action\", \"Role-Playing\", \"Action\", \"Role-Playing\", \"Misc\", \"Role-Playing\", \"Action\", \"Racing\", \"Action\", \"Action\", \"Role-Playing\", \"Misc\", \"Action\", \"Action\", \"Action\", \"Action\", \"Racing\", \"Role-Playing\", \"Simulation\", \"Action\", \"Role-Playing\", \"Action\", \"Action\", \"Fighting\", \"Racing\", \"Strategy\", \"Shooter\", \"Action\", \"Strategy\", \"Shooter\", \"Role-Playing\", \"Action\", \"Role-Playing\", \"Action\", \"Role-Playing\", \"Action\", \"Role-Playing\", \"Action\", \"Adventure\", \"Strategy\", \"Sports\", \"Action\", \"Fighting\", \"Platform\", \"Simulation\", \"Shooter\", \"Sports\", \"Shooter\", \"Action\", \"Action\", \"Action\", \"Shooter\", \"Role-Playing\", \"Simulation\", \"Shooter\", \"Role-Playing\", \"Simulation\", \"Sports\", \"Adventure\", \"Action\", \"Sports\", \"Action\", \"Role-Playing\", \"Role-Playing\", \"Action\", \"Sports\", \"Action\", \"Sports\", \"Simulation\", \"Action\", \"Action\", \"Role-Playing\", \"Role-Playing\", \"Action\", \"Action\", \"Action\", \"Misc\", \"Action\", \"Fighting\", \"Action\", \"Misc\", \"Action\", \"Role-Playing\", \"Action\", \"Fighting\", \"Action\", \"Shooter\", \"Sports\", \"Action\", \"Action\", \"Misc\", \"Adventure\", \"Role-Playing\", \"Strategy\", \"Role-Playing\", \"Misc\", \"Action\", \"Misc\", \"Role-Playing\", \"Action\", \"Action\", \"Misc\", \"Role-Playing\", \"Action\", \"Role-Playing\", \"Fighting\", \"Adventure\", \"Platform\", \"Misc\", \"Misc\", \"Sports\", \"Action\", \"Role-Playing\", \"Fighting\", \"Adventure\", \"Racing\", \"Role-Playing\", \"Platform\", \"Role-Playing\", \"Action\", \"Racing\", \"Misc\", \"Shooter\", \"Action\", \"Action\", \"Shooter\", \"Action\", \"Adventure\", \"Sports\", \"Role-Playing\", \"Misc\", \"Action\", \"Racing\", \"Action\", \"Sports\", \"Action\", \"Sports\", \"Misc\", \"Misc\", \"Role-Playing\", \"Sports\", \"Role-Playing\", \"Role-Playing\", \"Role-Playing\", \"Action\", \"Action\", \"Action\", \"Role-Playing\", \"Adventure\", \"Action\", \"Role-Playing\", \"Racing\", \"Sports\", \"Action\", \"Sports\", \"Role-Playing\", \"Action\", \"Role-Playing\", \"Fighting\", \"Action\", \"Platform\", \"Simulation\", \"Action\", \"Action\", \"Racing\", \"Fighting\", \"Strategy\", \"Adventure\", \"Shooter\", \"Platform\", \"Adventure\", \"Role-Playing\", \"Action\", \"Role-Playing\", \"Simulation\", \"Action\", \"Action\", \"Sports\", \"Misc\", \"Action\", \"Action\", \"Misc\", \"Role-Playing\", \"Role-Playing\", \"Action\", \"Role-Playing\", \"Action\", \"Action\", \"Role-Playing\", \"Action\", \"Action\", \"Action\", \"Action\", \"Action\", \"Shooter\", \"Fighting\", \"Role-Playing\", \"Action\", \"Action\", \"Role-Playing\", \"Action\", \"Action\", \"Action\", \"Action\", \"Shooter\", \"Role-Playing\", \"Action\", \"Sports\", \"Action\", \"Sports\", \"Shooter\", \"Action\", \"Action\", \"Simulation\", \"Action\", \"Adventure\", \"Platform\", \"Simulation\", \"Strategy\", \"Sports\", \"Sports\", \"Simulation\", \"Platform\", \"Sports\", \"Adventure\", \"Action\", \"Role-Playing\", \"Shooter\", \"Sports\", \"Action\", \"Platform\", \"Action\", \"Action\", \"Action\", \"Shooter\", \"Adventure\", \"Action\", \"Role-Playing\", \"Fighting\", \"Shooter\", \"Action\", \"Action\", \"Action\", \"Role-Playing\", \"Adventure\", \"Adventure\", \"Fighting\", \"Action\", \"Action\", \"Fighting\", \"Strategy\", \"Adventure\", \"Misc\", \"Misc\", \"Action\", \"Sports\", \"Action\", \"Action\", \"Action\", \"Action\", \"Action\", \"Fighting\", \"Role-Playing\", \"Sports\", \"Shooter\", \"Role-Playing\", \"Adventure\", \"Action\", \"Strategy\", \"Sports\", \"Racing\", \"Action\", \"Action\", \"Racing\", \"Racing\", \"Action\", \"Misc\", \"Role-Playing\", \"Role-Playing\", \"Action\", \"Action\", \"Action\", \"Action\", \"Action\", \"Sports\", \"Role-Playing\", \"Role-Playing\", \"Action\", \"Adventure\", \"Misc\", \"Shooter\", \"Action\", \"Simulation\", \"Action\", \"Platform\", \"Role-Playing\", \"Role-Playing\", \"Action\", \"Sports\", \"Action\", \"Adventure\", \"Sports\", \"Action\", \"Fighting\", \"Action\", \"Role-Playing\", \"Action\", \"Sports\", \"Action\", \"Action\", \"Misc\", \"Shooter\", \"Action\", \"Simulation\", \"Sports\", \"Sports\", \"Misc\", \"Simulation\", \"Sports\", \"Action\", \"Action\", \"Shooter\", \"Sports\", \"Misc\", \"Action\", \"Role-Playing\", \"Action\", \"Shooter\", \"Puzzle\", \"Action\", \"Action\", \"Sports\", \"Action\", \"Action\", \"Racing\", \"Action\", \"Action\", \"Action\", \"Action\", \"Role-Playing\", \"Misc\", \"Action\", \"Action\", \"Adventure\", \"Role-Playing\", \"Action\", \"Role-Playing\", \"Puzzle\", \"Action\", \"Sports\", \"Shooter\", \"Shooter\", \"Role-Playing\", \"Racing\", \"Sports\", \"Shooter\", \"Sports\", \"Role-Playing\", \"Sports\", \"Fighting\", \"Adventure\", \"Platform\", \"Action\", \"Role-Playing\", \"Action\", \"Action\", \"Action\", \"Role-Playing\", \"Role-Playing\", \"Action\", \"Role-Playing\", \"Shooter\", \"Role-Playing\", \"Role-Playing\", \"Racing\", \"Adventure\", \"Simulation\", \"Sports\", \"Role-Playing\", \"Puzzle\", \"Action\", \"Puzzle\", \"Action\", \"Action\", \"Action\", \"Action\", \"Role-Playing\", \"Action\", \"Sports\", \"Adventure\", \"Adventure\", \"Fighting\", \"Shooter\", \"Adventure\", \"Action\", \"Adventure\", \"Adventure\", \"Role-Playing\", \"Sports\", \"Racing\", \"Strategy\", \"Simulation\", \"Sports\", \"Platform\", \"Role-Playing\", \"Action\", \"Role-Playing\", \"Action\", \"Role-Playing\", \"Action\", \"Sports\", \"Action\", \"Platform\", \"Action\", \"Fighting\", \"Action\", \"Misc\", \"Adventure\", \"Action\", \"Misc\", \"Action\", \"Action\", \"Role-Playing\", \"Action\", \"Action\", \"Action\", \"Platform\", \"Platform\", \"Action\", \"Adventure\", \"Adventure\", \"Simulation\", \"Racing\", \"Misc\", \"Misc\", \"Fighting\", \"Platform\", \"Fighting\", \"Action\", \"Action\", \"Platform\", \"Misc\", \"Adventure\", \"Action\", \"Sports\", \"Racing\", \"Adventure\", \"Platform\", \"Platform\", \"Action\", \"Sports\", \"Action\", \"Strategy\", \"Action\", \"Racing\", \"Action\", \"Action\", \"Action\", \"Sports\", \"Role-Playing\", \"Action\", \"Role-Playing\", \"Fighting\", \"Action\", \"Adventure\", \"Sports\", \"Role-Playing\", \"Action\", \"Role-Playing\", \"Misc\", \"Action\", \"Platform\", \"Action\", \"Strategy\", \"Action\", \"Action\", \"Strategy\", \"Fighting\", \"Adventure\", \"Adventure\", \"Strategy\", \"Action\", \"Sports\", \"Action\", \"Racing\", \"Platform\", \"Action\", \"Action\", \"Shooter\", \"Action\", \"Misc\", \"Fighting\", \"Platform\", \"Fighting\", \"Action\", \"Role-Playing\", \"Action\", \"Shooter\", \"Fighting\", \"Misc\", \"Platform\", \"Action\", \"Shooter\", \"Sports\", \"Adventure\", \"Adventure\", \"Misc\", \"Action\", \"Platform\", \"Adventure\", \"Sports\", \"Role-Playing\", \"Shooter\", \"Action\", \"Role-Playing\", \"Simulation\", \"Action\", \"Role-Playing\", \"Role-Playing\", \"Action\", \"Action\", \"Action\", \"Simulation\", \"Action\", \"Action\", \"Action\", \"Racing\", \"Action\", \"Role-Playing\", \"Misc\", \"Adventure\", \"Action\", \"Adventure\", \"Role-Playing\", \"Misc\", \"Role-Playing\", \"Strategy\", \"Role-Playing\", \"Fighting\", \"Fighting\", \"Role-Playing\", \"Role-Playing\", \"Adventure\", \"Adventure\", \"Action\", \"Sports\", \"Action\", \"Role-Playing\", \"Simulation\", \"Adventure\", \"Action\", \"Role-Playing\", \"Misc\", \"Role-Playing\", \"Misc\", \"Misc\", \"Action\", \"Action\", \"Role-Playing\", \"Role-Playing\", \"Action\", \"Misc\", \"Role-Playing\", \"Role-Playing\", \"Adventure\", \"Puzzle\", \"Action\", \"Misc\", \"Strategy\", \"Sports\", \"Misc\", \"Fighting\", \"Role-Playing\", \"Action\", \"Fighting\", \"Action\", \"Action\", \"Role-Playing\", \"Fighting\", \"Action\", \"Action\", \"Adventure\", \"Adventure\", \"Sports\", \"Action\", \"Adventure\", \"Action\", \"Action\", \"Role-Playing\", \"Role-Playing\", \"Adventure\", \"Fighting\", \"Action\", \"Action\", \"Adventure\", \"Role-Playing\", \"Strategy\", \"Action\", \"Adventure\", \"Action\", \"Role-Playing\", \"Misc\", \"Adventure\", \"Role-Playing\", \"Role-Playing\", \"Strategy\", \"Action\", \"Racing\", \"Misc\", \"Role-Playing\", \"Action\", \"Action\", \"Action\", \"Action\", \"Puzzle\", \"Misc\", \"Adventure\", \"Platform\", \"Sports\", \"Misc\", \"Action\", \"Role-Playing\", \"Action\", \"Racing\", \"Fighting\", \"Action\", \"Sports\", \"Adventure\", \"Action\", \"Action\", \"Action\", \"Action\", \"Action\", \"Action\", \"Simulation\", \"Action\", \"Action\", \"Adventure\", \"Racing\", \"Role-Playing\", \"Role-Playing\", \"Action\", \"Shooter\", \"Role-Playing\", \"Action\", \"Action\", \"Strategy\", \"Action\", \"Action\", \"Role-Playing\", \"Role-Playing\", \"Action\", \"Fighting\", \"Role-Playing\", \"Role-Playing\", \"Action\", \"Role-Playing\", \"Sports\", \"Strategy\", \"Action\", \"Adventure\", \"Adventure\", \"Role-Playing\", \"Shooter\", \"Role-Playing\", \"Role-Playing\", \"Racing\", \"Action\", \"Adventure\", \"Fighting\", \"Action\", \"Role-Playing\", \"Role-Playing\", \"Action\", \"Fighting\", \"Action\", \"Action\", \"Sports\", \"Simulation\", \"Sports\", \"Action\", \"Sports\", \"Role-Playing\", \"Action\", \"Action\", \"Misc\", \"Role-Playing\", \"Sports\", \"Action\", \"Racing\", \"Strategy\", \"Sports\", \"Misc\", \"Misc\", \"Adventure\", \"Action\", \"Adventure\", \"Strategy\", \"Shooter\", \"Action\", \"Action\", \"Action\", \"Action\", \"Action\", \"Adventure\", \"Action\", \"Adventure\", \"Role-Playing\", \"Racing\", \"Role-Playing\", \"Role-Playing\", \"Strategy\", \"Misc\", \"Action\", \"Platform\", \"Sports\", \"Racing\", \"Role-Playing\", \"Action\", \"Platform\", \"Sports\", \"Racing\", \"Action\", \"Action\", \"Adventure\", \"Shooter\", \"Action\", \"Fighting\", \"Adventure\", \"Action\", \"Role-Playing\", \"Role-Playing\", \"Adventure\", \"Action\", \"Shooter\", \"Misc\", \"Action\", \"Sports\", \"Action\", \"Role-Playing\", \"Shooter\", \"Adventure\", \"Sports\", \"Racing\", \"Role-Playing\", \"Action\", \"Action\", \"Adventure\", \"Role-Playing\", \"Role-Playing\", \"Action\", \"Role-Playing\", \"Shooter\", \"Action\", \"Misc\", \"Shooter\", \"Strategy\", \"Action\", \"Shooter\", \"Racing\", \"Role-Playing\", \"Action\", \"Adventure\", \"Adventure\", \"Misc\", \"Action\", \"Action\", \"Adventure\", \"Racing\", \"Action\", \"Adventure\", \"Action\", \"Sports\", \"Role-Playing\", \"Puzzle\", \"Shooter\", \"Strategy\", \"Action\", \"Role-Playing\", \"Action\", \"Adventure\", \"Role-Playing\", \"Misc\", \"Racing\", \"Action\", \"Adventure\", \"Adventure\", \"Shooter\", \"Action\", \"Role-Playing\", \"Racing\", \"Action\", \"Action\", \"Adventure\", \"Simulation\", \"Action\", \"Action\", \"Misc\", \"Action\", \"Sports\", \"Action\", \"Puzzle\", \"Action\", \"Action\", \"Shooter\", \"Platform\", \"Action\", \"Strategy\", \"Action\", \"Adventure\", \"Action\", \"Simulation\", \"Fighting\", \"Role-Playing\", \"Adventure\", \"Action\", \"Action\", \"Fighting\", \"Fighting\", \"Adventure\", \"Fighting\", \"Racing\", \"Action\", \"Action\", \"Action\", \"Action\", \"Strategy\", \"Misc\", \"Sports\", \"Action\", \"Strategy\", \"Shooter\", \"Adventure\", \"Action\", \"Action\", \"Adventure\", \"Adventure\", \"Sports\", \"Action\", \"Adventure\", \"Shooter\", \"Action\", \"Action\", \"Action\", \"Misc\", \"Action\", \"Simulation\", \"Adventure\", \"Role-Playing\", \"Role-Playing\", \"Platform\", \"Adventure\", \"Action\", \"Action\", \"Action\", \"Sports\", \"Action\", \"Action\", \"Misc\", \"Simulation\", \"Adventure\", \"Action\", \"Shooter\", \"Racing\", \"Action\", \"Role-Playing\", \"Action\", \"Role-Playing\", \"Role-Playing\", \"Action\", \"Role-Playing\", \"Racing\", \"Role-Playing\", \"Adventure\", \"Strategy\", \"Misc\", \"Simulation\", \"Shooter\", \"Misc\", \"Misc\", \"Role-Playing\", \"Misc\", \"Sports\", \"Action\", \"Misc\", \"Action\", \"Action\", \"Action\", \"Adventure\", \"Role-Playing\", \"Simulation\", \"Action\", \"Action\", \"Sports\", \"Sports\", \"Action\", \"Action\", \"Action\", \"Sports\", \"Adventure\", \"Action\", \"Racing\", \"Fighting\", \"Shooter\", \"Puzzle\", \"Role-Playing\", \"Role-Playing\", \"Strategy\", \"Action\", \"Action\", \"Action\", \"Adventure\", \"Fighting\", \"Action\", \"Role-Playing\", \"Platform\", \"Role-Playing\", \"Misc\", \"Misc\", \"Action\", \"Role-Playing\", \"Role-Playing\", \"Simulation\", \"Role-Playing\", \"Role-Playing\", \"Role-Playing\", \"Action\", \"Sports\", \"Simulation\", \"Racing\", \"Role-Playing\", \"Strategy\", \"Misc\", \"Sports\", \"Adventure\", \"Adventure\", \"Action\", \"Action\", \"Action\", \"Action\", \"Role-Playing\", \"Platform\", \"Action\", \"Racing\", \"Racing\", \"Action\", \"Role-Playing\", \"Action\", \"Role-Playing\", \"Action\", \"Fighting\", \"Sports\", \"Role-Playing\", \"Shooter\", \"Sports\", \"Adventure\", \"Action\", \"Adventure\", \"Adventure\", \"Adventure\", \"Action\", \"Adventure\", \"Sports\", \"Adventure\", \"Role-Playing\", \"Fighting\", \"Action\", \"Racing\", \"Sports\", \"Action\", \"Action\", \"Action\", \"Adventure\", \"Adventure\", \"Action\", \"Misc\", \"Adventure\", \"Action\", \"Action\", \"Sports\", \"Action\", \"Adventure\", \"Action\", \"Role-Playing\", \"Racing\", \"Simulation\", \"Action\", \"Role-Playing\", \"Action\", \"Action\", \"Role-Playing\", \"Strategy\", \"Action\", \"Adventure\", \"Action\", \"Role-Playing\", \"Role-Playing\", \"Misc\", \"Misc\", \"Adventure\", \"Adventure\", \"Action\", \"Sports\", \"Action\", \"Role-Playing\", \"Adventure\", \"Platform\", \"Adventure\", \"Action\", \"Action\", \"Role-Playing\", \"Puzzle\", \"Action\", \"Adventure\", \"Adventure\", \"Action\", \"Racing\", \"Adventure\", \"Action\", \"Simulation\", \"Adventure\", \"Misc\", \"Shooter\", \"Role-Playing\", \"Adventure\", \"Role-Playing\", \"Role-Playing\", \"Racing\", \"Action\", \"Adventure\", \"Simulation\", \"Adventure\", \"Misc\", \"Platform\", \"Action\", \"Adventure\", \"Action\", \"Adventure\", \"Action\", \"Fighting\", \"Sports\", \"Sports\", \"Adventure\", \"Role-Playing\", \"Action\", \"Action\", \"Simulation\", \"Misc\", \"Fighting\", \"Strategy\", \"Misc\", \"Action\", \"Action\", \"Action\", \"Simulation\", \"Adventure\", \"Misc\", \"Misc\", \"Adventure\", \"Misc\", \"Adventure\", \"Action\", \"Action\", \"Shooter\", \"Role-Playing\", \"Role-Playing\", \"Racing\", \"Role-Playing\", \"Adventure\", \"Fighting\", \"Adventure\", \"Action\", \"Shooter\", \"Action\", \"Sports\", \"Action\", \"Adventure\", \"Action\", \"Role-Playing\", \"Action\", \"Action\", \"Action\", \"Misc\", \"Action\", \"Action\", \"Action\", \"Action\", \"Adventure\", \"Adventure\", \"Adventure\", \"Action\", \"Adventure\", \"Action\", \"Fighting\", \"Sports\", \"Action\", \"Action\", \"Adventure\", \"Adventure\", \"Action\", \"Misc\", \"Misc\", \"Adventure\", \"Action\", \"Role-Playing\", \"Adventure\", \"Action\", \"Sports\", \"Action\", \"Action\", \"Action\", \"Misc\", \"Sports\", \"Role-Playing\", \"Role-Playing\", \"Shooter\", \"Shooter\", \"Simulation\", \"Adventure\", \"Adventure\", \"Action\", \"Adventure\", \"Adventure\", \"Action\", \"Shooter\", \"Misc\", \"Action\", \"Adventure\", \"Shooter\", \"Action\", \"Role-Playing\", \"Misc\", \"Adventure\", \"Role-Playing\", \"Sports\", \"Role-Playing\", \"Adventure\", \"Adventure\", \"Misc\", \"Adventure\", \"Action\", \"Adventure\", \"Misc\", \"Action\", \"Strategy\", \"Shooter\", \"Action\", \"Simulation\", \"Action\", \"Action\", \"Adventure\", \"Action\", \"Role-Playing\", \"Adventure\", \"Action\", \"Fighting\", \"Adventure\", \"Action\", \"Adventure\", \"Adventure\", \"Action\", \"Strategy\", \"Action\", \"Role-Playing\", \"Simulation\", \"Action\", \"Action\", \"Action\", \"Action\", \"Fighting\", \"Adventure\", \"Action\", \"Adventure\", \"Action\", \"Action\", \"Platform\", \"Adventure\", \"Action\", \"Simulation\", \"Action\", \"Misc\", \"Action\", \"Action\", \"Misc\", \"Action\", \"Action\", \"Action\", \"Action\", \"Action\", \"Misc\", \"Adventure\", \"Action\", \"Misc\", \"Action\", \"Role-Playing\", \"Adventure\", \"Misc\", \"Adventure\", \"Adventure\", \"Action\", \"Action\", \"Action\", \"Adventure\", \"Adventure\", \"Misc\", \"Action\", \"Adventure\", \"Adventure\", \"Action\", \"Action\", \"Action\", \"Strategy\", \"Action\", \"Fighting\", \"Adventure\", \"Action\", \"Adventure\", \"Shooter\", \"Action\", \"Action\", \"Sports\", \"Adventure\", \"Shooter\", \"Adventure\", \"Role-Playing\", \"Adventure\", \"Adventure\", \"Misc\", \"Adventure\", \"Action\", \"Sports\", \"Action\", \"Sports\", \"Action\", \"Puzzle\", \"Action\", \"Adventure\", \"Adventure\", \"Role-Playing\", \"Adventure\", \"Action\", \"Misc\", \"Action\", \"Action\", \"Adventure\", \"Adventure\", \"Adventure\", \"Action\", \"Simulation\", \"Adventure\", \"Sports\", \"Action\", \"Misc\", \"Action\", \"Action\", \"Action\", \"Adventure\", \"Action\", \"Sports\", \"Strategy\", \"Action\", \"Action\", \"Adventure\", \"Action\", \"Sports\", \"Sports\", \"Adventure\", \"Action\", \"Action\", \"Racing\", \"Action\", \"Misc\", \"Adventure\", \"Platform\", \"Platform\", \"Action\", \"Racing\", \"Action\", \"Simulation\", \"Sports\", \"Sports\", \"Adventure\", \"Shooter\", \"Strategy\", \"Action\", \"Sports\", \"Action\", \"Action\", \"Sports\", \"Action\", \"Role-Playing\", \"Adventure\", \"Strategy\", \"Action\", \"Adventure\", \"Misc\", \"Action\", \"Role-Playing\", \"Adventure\", \"Action\", \"Role-Playing\", \"Adventure\", \"Action\", \"Adventure\", \"Shooter\", \"Action\", \"Adventure\", \"Action\", \"Action\", \"Misc\", \"Simulation\", \"Sports\", \"Adventure\", \"Action\", \"Adventure\", \"Adventure\", \"Platform\", \"Action\", \"Adventure\", \"Action\", \"Adventure\", \"Adventure\", \"Misc\", \"Adventure\", \"Adventure\", \"Adventure\", \"Adventure\", \"Action\", \"Shooter\", \"Action\", \"Action\", \"Action\", \"Adventure\", \"Adventure\", \"Action\", \"Racing\", \"Action\", \"Strategy\", \"Role-Playing\", \"Action\", \"Puzzle\", \"Action\", \"Platform\", \"Action\", \"Fighting\", \"Adventure\", \"Adventure\", \"Role-Playing\", \"Action\", \"Racing\", \"Simulation\", \"Adventure\", \"Action\", \"Adventure\", \"Action\", \"Adventure\", \"Adventure\", \"Puzzle\", \"Simulation\", \"Sports\", \"Adventure\", \"Adventure\", \"Sports\", \"Strategy\", \"Adventure\", \"Action\", \"Action\", \"Action\", \"Action\", \"Action\", \"Adventure\", \"Adventure\", \"Action\", \"Action\", \"Racing\", \"Action\", \"Fighting\", \"Adventure\", \"Adventure\", \"Action\", \"Adventure\", \"Action\", \"Racing\", \"Racing\", \"Misc\", \"Adventure\", \"Sports\", \"Adventure\", \"Role-Playing\", \"Action\", \"Adventure\", \"Action\", \"Adventure\", \"Adventure\", \"Action\", \"Racing\", \"Adventure\", \"Simulation\", \"Action\", \"Action\", \"Misc\", \"Role-Playing\", \"Action\", \"Action\", \"Adventure\", \"Simulation\", \"Action\", \"Action\", \"Misc\", \"Action\", \"Puzzle\", \"Adventure\", \"Misc\", \"Adventure\", \"Adventure\", \"Misc\", \"Strategy\", \"Adventure\", \"Action\", \"Racing\", \"Action\", \"Adventure\", \"Sports\", \"Sports\", \"Action\", \"Action\", \"Action\", \"Action\", \"Action\", \"Adventure\", \"Action\", \"Action\", \"Adventure\", \"Action\", \"Action\", \"Action\", \"Action\", \"Action\", \"Adventure\", \"Adventure\", \"Action\", \"Action\", \"Action\", \"Adventure\", \"Misc\", \"Action\", \"Adventure\", \"Simulation\"], \"y0\": \" \", \"yaxis\": \"y\"}],\n",
              "                        {\"boxmode\": \"group\", \"legend\": {\"tracegroupgap\": 0}, \"margin\": {\"t\": 60}, \"template\": {\"data\": {\"bar\": [{\"error_x\": {\"color\": \"#2a3f5f\"}, \"error_y\": {\"color\": \"#2a3f5f\"}, \"marker\": {\"line\": {\"color\": \"#E5ECF6\", \"width\": 0.5}}, \"type\": \"bar\"}], \"barpolar\": [{\"marker\": {\"line\": {\"color\": \"#E5ECF6\", \"width\": 0.5}}, \"type\": \"barpolar\"}], \"carpet\": [{\"aaxis\": {\"endlinecolor\": \"#2a3f5f\", \"gridcolor\": \"white\", \"linecolor\": \"white\", \"minorgridcolor\": \"white\", \"startlinecolor\": \"#2a3f5f\"}, \"baxis\": {\"endlinecolor\": \"#2a3f5f\", \"gridcolor\": \"white\", \"linecolor\": \"white\", \"minorgridcolor\": \"white\", \"startlinecolor\": \"#2a3f5f\"}, \"type\": \"carpet\"}], \"choropleth\": [{\"colorbar\": {\"outlinewidth\": 0, \"ticks\": \"\"}, \"type\": \"choropleth\"}], \"contour\": [{\"colorbar\": {\"outlinewidth\": 0, \"ticks\": \"\"}, \"colorscale\": [[0.0, \"#0d0887\"], [0.1111111111111111, \"#46039f\"], [0.2222222222222222, \"#7201a8\"], [0.3333333333333333, \"#9c179e\"], [0.4444444444444444, \"#bd3786\"], [0.5555555555555556, \"#d8576b\"], [0.6666666666666666, \"#ed7953\"], [0.7777777777777778, \"#fb9f3a\"], [0.8888888888888888, \"#fdca26\"], [1.0, \"#f0f921\"]], \"type\": \"contour\"}], \"contourcarpet\": [{\"colorbar\": {\"outlinewidth\": 0, \"ticks\": \"\"}, \"type\": \"contourcarpet\"}], \"heatmap\": [{\"colorbar\": {\"outlinewidth\": 0, \"ticks\": \"\"}, \"colorscale\": [[0.0, \"#0d0887\"], [0.1111111111111111, \"#46039f\"], [0.2222222222222222, \"#7201a8\"], [0.3333333333333333, \"#9c179e\"], [0.4444444444444444, \"#bd3786\"], [0.5555555555555556, \"#d8576b\"], [0.6666666666666666, \"#ed7953\"], [0.7777777777777778, \"#fb9f3a\"], [0.8888888888888888, \"#fdca26\"], [1.0, \"#f0f921\"]], \"type\": \"heatmap\"}], \"heatmapgl\": [{\"colorbar\": {\"outlinewidth\": 0, \"ticks\": \"\"}, \"colorscale\": [[0.0, \"#0d0887\"], [0.1111111111111111, \"#46039f\"], [0.2222222222222222, \"#7201a8\"], [0.3333333333333333, \"#9c179e\"], [0.4444444444444444, \"#bd3786\"], [0.5555555555555556, \"#d8576b\"], [0.6666666666666666, \"#ed7953\"], [0.7777777777777778, \"#fb9f3a\"], [0.8888888888888888, \"#fdca26\"], [1.0, \"#f0f921\"]], \"type\": \"heatmapgl\"}], \"histogram\": [{\"marker\": {\"colorbar\": {\"outlinewidth\": 0, \"ticks\": \"\"}}, \"type\": \"histogram\"}], \"histogram2d\": [{\"colorbar\": {\"outlinewidth\": 0, \"ticks\": \"\"}, \"colorscale\": [[0.0, \"#0d0887\"], [0.1111111111111111, \"#46039f\"], [0.2222222222222222, \"#7201a8\"], [0.3333333333333333, \"#9c179e\"], [0.4444444444444444, \"#bd3786\"], [0.5555555555555556, \"#d8576b\"], [0.6666666666666666, \"#ed7953\"], [0.7777777777777778, \"#fb9f3a\"], [0.8888888888888888, \"#fdca26\"], [1.0, \"#f0f921\"]], \"type\": \"histogram2d\"}], \"histogram2dcontour\": [{\"colorbar\": {\"outlinewidth\": 0, \"ticks\": \"\"}, \"colorscale\": [[0.0, \"#0d0887\"], [0.1111111111111111, \"#46039f\"], [0.2222222222222222, \"#7201a8\"], [0.3333333333333333, \"#9c179e\"], [0.4444444444444444, \"#bd3786\"], [0.5555555555555556, \"#d8576b\"], [0.6666666666666666, \"#ed7953\"], [0.7777777777777778, \"#fb9f3a\"], [0.8888888888888888, \"#fdca26\"], [1.0, \"#f0f921\"]], \"type\": \"histogram2dcontour\"}], \"mesh3d\": [{\"colorbar\": {\"outlinewidth\": 0, \"ticks\": \"\"}, \"type\": \"mesh3d\"}], \"parcoords\": [{\"line\": {\"colorbar\": {\"outlinewidth\": 0, \"ticks\": \"\"}}, \"type\": \"parcoords\"}], \"pie\": [{\"automargin\": true, \"type\": \"pie\"}], \"scatter\": [{\"marker\": {\"colorbar\": {\"outlinewidth\": 0, \"ticks\": \"\"}}, \"type\": \"scatter\"}], \"scatter3d\": [{\"line\": {\"colorbar\": {\"outlinewidth\": 0, \"ticks\": \"\"}}, \"marker\": {\"colorbar\": {\"outlinewidth\": 0, \"ticks\": \"\"}}, \"type\": \"scatter3d\"}], \"scattercarpet\": [{\"marker\": {\"colorbar\": {\"outlinewidth\": 0, \"ticks\": \"\"}}, \"type\": \"scattercarpet\"}], \"scattergeo\": [{\"marker\": {\"colorbar\": {\"outlinewidth\": 0, \"ticks\": \"\"}}, \"type\": \"scattergeo\"}], \"scattergl\": [{\"marker\": {\"colorbar\": {\"outlinewidth\": 0, \"ticks\": \"\"}}, \"type\": \"scattergl\"}], \"scattermapbox\": [{\"marker\": {\"colorbar\": {\"outlinewidth\": 0, \"ticks\": \"\"}}, \"type\": \"scattermapbox\"}], \"scatterpolar\": [{\"marker\": {\"colorbar\": {\"outlinewidth\": 0, \"ticks\": \"\"}}, \"type\": \"scatterpolar\"}], \"scatterpolargl\": [{\"marker\": {\"colorbar\": {\"outlinewidth\": 0, \"ticks\": \"\"}}, \"type\": \"scatterpolargl\"}], \"scatterternary\": [{\"marker\": {\"colorbar\": {\"outlinewidth\": 0, \"ticks\": \"\"}}, \"type\": \"scatterternary\"}], \"surface\": [{\"colorbar\": {\"outlinewidth\": 0, \"ticks\": \"\"}, \"colorscale\": [[0.0, \"#0d0887\"], [0.1111111111111111, \"#46039f\"], [0.2222222222222222, \"#7201a8\"], [0.3333333333333333, \"#9c179e\"], [0.4444444444444444, \"#bd3786\"], [0.5555555555555556, \"#d8576b\"], [0.6666666666666666, \"#ed7953\"], [0.7777777777777778, \"#fb9f3a\"], [0.8888888888888888, \"#fdca26\"], [1.0, \"#f0f921\"]], \"type\": \"surface\"}], \"table\": [{\"cells\": {\"fill\": {\"color\": \"#EBF0F8\"}, \"line\": {\"color\": \"white\"}}, \"header\": {\"fill\": {\"color\": \"#C8D4E3\"}, \"line\": {\"color\": \"white\"}}, \"type\": \"table\"}]}, \"layout\": {\"annotationdefaults\": {\"arrowcolor\": \"#2a3f5f\", \"arrowhead\": 0, \"arrowwidth\": 1}, \"coloraxis\": {\"colorbar\": {\"outlinewidth\": 0, \"ticks\": \"\"}}, \"colorscale\": {\"diverging\": [[0, \"#8e0152\"], [0.1, \"#c51b7d\"], [0.2, \"#de77ae\"], [0.3, \"#f1b6da\"], [0.4, \"#fde0ef\"], [0.5, \"#f7f7f7\"], [0.6, \"#e6f5d0\"], [0.7, \"#b8e186\"], [0.8, \"#7fbc41\"], [0.9, \"#4d9221\"], [1, \"#276419\"]], \"sequential\": [[0.0, \"#0d0887\"], [0.1111111111111111, \"#46039f\"], [0.2222222222222222, \"#7201a8\"], [0.3333333333333333, \"#9c179e\"], [0.4444444444444444, \"#bd3786\"], [0.5555555555555556, \"#d8576b\"], [0.6666666666666666, \"#ed7953\"], [0.7777777777777778, \"#fb9f3a\"], [0.8888888888888888, \"#fdca26\"], [1.0, \"#f0f921\"]], \"sequentialminus\": [[0.0, \"#0d0887\"], [0.1111111111111111, \"#46039f\"], [0.2222222222222222, \"#7201a8\"], [0.3333333333333333, \"#9c179e\"], [0.4444444444444444, \"#bd3786\"], [0.5555555555555556, \"#d8576b\"], [0.6666666666666666, \"#ed7953\"], [0.7777777777777778, \"#fb9f3a\"], [0.8888888888888888, \"#fdca26\"], [1.0, \"#f0f921\"]]}, \"colorway\": [\"#636efa\", \"#EF553B\", \"#00cc96\", \"#ab63fa\", \"#FFA15A\", \"#19d3f3\", \"#FF6692\", \"#B6E880\", \"#FF97FF\", \"#FECB52\"], \"font\": {\"color\": \"#2a3f5f\"}, \"geo\": {\"bgcolor\": \"white\", \"lakecolor\": \"white\", \"landcolor\": \"#E5ECF6\", \"showlakes\": true, \"showland\": true, \"subunitcolor\": \"white\"}, \"hoverlabel\": {\"align\": \"left\"}, \"hovermode\": \"closest\", \"mapbox\": {\"style\": \"light\"}, \"paper_bgcolor\": \"white\", \"plot_bgcolor\": \"#E5ECF6\", \"polar\": {\"angularaxis\": {\"gridcolor\": \"white\", \"linecolor\": \"white\", \"ticks\": \"\"}, \"bgcolor\": \"#E5ECF6\", \"radialaxis\": {\"gridcolor\": \"white\", \"linecolor\": \"white\", \"ticks\": \"\"}}, \"scene\": {\"xaxis\": {\"backgroundcolor\": \"#E5ECF6\", \"gridcolor\": \"white\", \"gridwidth\": 2, \"linecolor\": \"white\", \"showbackground\": true, \"ticks\": \"\", \"zerolinecolor\": \"white\"}, \"yaxis\": {\"backgroundcolor\": \"#E5ECF6\", \"gridcolor\": \"white\", \"gridwidth\": 2, \"linecolor\": \"white\", \"showbackground\": true, \"ticks\": \"\", \"zerolinecolor\": \"white\"}, \"zaxis\": {\"backgroundcolor\": \"#E5ECF6\", \"gridcolor\": \"white\", \"gridwidth\": 2, \"linecolor\": \"white\", \"showbackground\": true, \"ticks\": \"\", \"zerolinecolor\": \"white\"}}, \"shapedefaults\": {\"line\": {\"color\": \"#2a3f5f\"}}, \"ternary\": {\"aaxis\": {\"gridcolor\": \"white\", \"linecolor\": \"white\", \"ticks\": \"\"}, \"baxis\": {\"gridcolor\": \"white\", \"linecolor\": \"white\", \"ticks\": \"\"}, \"bgcolor\": \"#E5ECF6\", \"caxis\": {\"gridcolor\": \"white\", \"linecolor\": \"white\", \"ticks\": \"\"}}, \"title\": {\"x\": 0.05}, \"xaxis\": {\"automargin\": true, \"gridcolor\": \"white\", \"linecolor\": \"white\", \"ticks\": \"\", \"title\": {\"standoff\": 15}, \"zerolinecolor\": \"white\", \"zerolinewidth\": 2}, \"yaxis\": {\"automargin\": true, \"gridcolor\": \"white\", \"linecolor\": \"white\", \"ticks\": \"\", \"title\": {\"standoff\": 15}, \"zerolinecolor\": \"white\", \"zerolinewidth\": 2}}}, \"xaxis\": {\"anchor\": \"y\", \"domain\": [0.0, 1.0], \"range\": [0, 4], \"title\": {\"text\": \"total_sales\"}}, \"yaxis\": {\"anchor\": \"x\", \"domain\": [0.0, 1.0], \"title\": {\"text\": \"genre\"}}},\n",
              "                        {\"responsive\": true}\n",
              "                    ).then(function(){\n",
              "                            \n",
              "var gd = document.getElementById('0f1c6b0a-399e-4c43-a3dc-f7848bb66040');\n",
              "var x = new MutationObserver(function (mutations, observer) {{\n",
              "        var display = window.getComputedStyle(gd).display;\n",
              "        if (!display || display === 'none') {{\n",
              "            console.log([gd, 'removed!']);\n",
              "            Plotly.purge(gd);\n",
              "            observer.disconnect();\n",
              "        }}\n",
              "}});\n",
              "\n",
              "// Listen for the removal of the full notebook cells\n",
              "var notebookContainer = gd.closest('#notebook-container');\n",
              "if (notebookContainer) {{\n",
              "    x.observe(notebookContainer, {childList: true});\n",
              "}}\n",
              "\n",
              "// Listen for the clearing of the current output cell\n",
              "var outputEl = gd.closest('.output');\n",
              "if (outputEl) {{\n",
              "    x.observe(outputEl, {childList: true});\n",
              "}}\n",
              "\n",
              "                        })\n",
              "                };\n",
              "                });\n",
              "            </script>\n",
              "        </div>"
            ]
          },
          "metadata": {
            "tags": []
          }
        }
      ]
    },
    {
      "cell_type": "markdown",
      "metadata": {
        "id": "om0dVlRpKQhV"
      },
      "source": [
        "Здесь картина чуть другая. Топ-3 по средним показателям - жанры shooter, sports и platform. "
      ]
    },
    {
      "cell_type": "markdown",
      "metadata": {
        "id": "dw6RT6n7_0fV"
      },
      "source": [
        "## Портрет пользователя каждого региона (NA, EU и JP)"
      ]
    },
    {
      "cell_type": "markdown",
      "metadata": {
        "id": "0N9Pb97yAB94"
      },
      "source": [
        "### Самые популярные платформы."
      ]
    },
    {
      "cell_type": "code",
      "metadata": {
        "colab": {
          "base_uri": "https://localhost:8080/",
          "height": 390
        },
        "id": "rGsQijUEaW_q",
        "outputId": "4d5921dd-b677-4da4-f833-fa2b5e02f4c7"
      },
      "source": [
        "dr = (\n",
        "    df\n",
        "        .groupby('platform', as_index=False)\n",
        "        .agg({'na_sales':'sum',\n",
        "              'eu_sales':'sum',\n",
        "              'jp_sales':'sum',\n",
        "              'total_sales':'sum'})\n",
        "        .sort_values(by='na_sales')\n",
        ")\n",
        "dr"
      ],
      "execution_count": 30,
      "outputs": [
        {
          "output_type": "execute_result",
          "data": {
            "text/html": [
              "<div>\n",
              "<style scoped>\n",
              "    .dataframe tbody tr th:only-of-type {\n",
              "        vertical-align: middle;\n",
              "    }\n",
              "\n",
              "    .dataframe tbody tr th {\n",
              "        vertical-align: top;\n",
              "    }\n",
              "\n",
              "    .dataframe thead th {\n",
              "        text-align: right;\n",
              "    }\n",
              "</style>\n",
              "<table border=\"1\" class=\"dataframe\">\n",
              "  <thead>\n",
              "    <tr style=\"text-align: right;\">\n",
              "      <th></th>\n",
              "      <th>platform</th>\n",
              "      <th>na_sales</th>\n",
              "      <th>eu_sales</th>\n",
              "      <th>jp_sales</th>\n",
              "      <th>total_sales</th>\n",
              "    </tr>\n",
              "  </thead>\n",
              "  <tbody>\n",
              "    <tr>\n",
              "      <th>5</th>\n",
              "      <td>PSP</td>\n",
              "      <td>0.00</td>\n",
              "      <td>0.17</td>\n",
              "      <td>3.29</td>\n",
              "      <td>3.50</td>\n",
              "    </tr>\n",
              "    <tr>\n",
              "      <th>1</th>\n",
              "      <td>DS</td>\n",
              "      <td>0.57</td>\n",
              "      <td>0.85</td>\n",
              "      <td>0.00</td>\n",
              "      <td>1.54</td>\n",
              "    </tr>\n",
              "    <tr>\n",
              "      <th>6</th>\n",
              "      <td>PSV</td>\n",
              "      <td>5.04</td>\n",
              "      <td>6.10</td>\n",
              "      <td>18.59</td>\n",
              "      <td>32.99</td>\n",
              "    </tr>\n",
              "    <tr>\n",
              "      <th>7</th>\n",
              "      <td>Wii</td>\n",
              "      <td>6.56</td>\n",
              "      <td>5.93</td>\n",
              "      <td>0.05</td>\n",
              "      <td>13.66</td>\n",
              "    </tr>\n",
              "    <tr>\n",
              "      <th>2</th>\n",
              "      <td>PC</td>\n",
              "      <td>11.11</td>\n",
              "      <td>25.36</td>\n",
              "      <td>0.00</td>\n",
              "      <td>39.43</td>\n",
              "    </tr>\n",
              "    <tr>\n",
              "      <th>8</th>\n",
              "      <td>WiiU</td>\n",
              "      <td>29.21</td>\n",
              "      <td>19.85</td>\n",
              "      <td>10.88</td>\n",
              "      <td>64.63</td>\n",
              "    </tr>\n",
              "    <tr>\n",
              "      <th>0</th>\n",
              "      <td>3DS</td>\n",
              "      <td>38.20</td>\n",
              "      <td>30.96</td>\n",
              "      <td>67.81</td>\n",
              "      <td>143.25</td>\n",
              "    </tr>\n",
              "    <tr>\n",
              "      <th>3</th>\n",
              "      <td>PS3</td>\n",
              "      <td>63.50</td>\n",
              "      <td>67.81</td>\n",
              "      <td>23.35</td>\n",
              "      <td>181.43</td>\n",
              "    </tr>\n",
              "    <tr>\n",
              "      <th>9</th>\n",
              "      <td>X360</td>\n",
              "      <td>81.66</td>\n",
              "      <td>42.52</td>\n",
              "      <td>0.51</td>\n",
              "      <td>136.80</td>\n",
              "    </tr>\n",
              "    <tr>\n",
              "      <th>10</th>\n",
              "      <td>XOne</td>\n",
              "      <td>93.12</td>\n",
              "      <td>51.59</td>\n",
              "      <td>0.34</td>\n",
              "      <td>159.32</td>\n",
              "    </tr>\n",
              "    <tr>\n",
              "      <th>4</th>\n",
              "      <td>PS4</td>\n",
              "      <td>108.74</td>\n",
              "      <td>141.09</td>\n",
              "      <td>15.96</td>\n",
              "      <td>314.14</td>\n",
              "    </tr>\n",
              "  </tbody>\n",
              "</table>\n",
              "</div>"
            ],
            "text/plain": [
              "   platform  na_sales  eu_sales  jp_sales  total_sales\n",
              "5       PSP      0.00      0.17      3.29         3.50\n",
              "1        DS      0.57      0.85      0.00         1.54\n",
              "6       PSV      5.04      6.10     18.59        32.99\n",
              "7       Wii      6.56      5.93      0.05        13.66\n",
              "2        PC     11.11     25.36      0.00        39.43\n",
              "8      WiiU     29.21     19.85     10.88        64.63\n",
              "0       3DS     38.20     30.96     67.81       143.25\n",
              "3       PS3     63.50     67.81     23.35       181.43\n",
              "9      X360     81.66     42.52      0.51       136.80\n",
              "10     XOne     93.12     51.59      0.34       159.32\n",
              "4       PS4    108.74    141.09     15.96       314.14"
            ]
          },
          "metadata": {
            "tags": []
          },
          "execution_count": 30
        }
      ]
    },
    {
      "cell_type": "code",
      "metadata": {
        "colab": {
          "base_uri": "https://localhost:8080/",
          "height": 542
        },
        "id": "ZfnFBmgpZwoI",
        "outputId": "0019d63e-d3f7-4f2e-9dc6-970c4b4872ab"
      },
      "source": [
        "fig = make_subplots(rows=3, cols=1)\n",
        "\n",
        "fig.add_trace(\n",
        "    go.Bar(x=dr['platform'], y=dr['na_sales'],\n",
        "           name='Северная Америка'), row=1, col=1)\n",
        "fig.add_trace(\n",
        "    go.Bar(x=dr['platform'], y=dr['eu_sales'],\n",
        "           name='Европа'), row=2, col=1)\n",
        "fig.add_trace(\n",
        "    go.Bar(x=dr['platform'], y=dr['jp_sales'],\n",
        "           name='Япония'), row=3, col=1)\n",
        "\n",
        "fig.update_layout(title='Суммарные продажи по платформам')\n",
        "\n",
        "fig.show()"
      ],
      "execution_count": 31,
      "outputs": [
        {
          "output_type": "display_data",
          "data": {
            "text/html": [
              "<div>\n",
              "        \n",
              "        \n",
              "            <div id=\"c4582975-0e2f-4e1b-b047-688646f9ff10\" class=\"plotly-graph-div\" style=\"height:525px; width:100%;\"></div>\n",
              "            <script type=\"text/javascript\">\n",
              "                require([\"plotly\"], function(Plotly) {\n",
              "                    window.PLOTLYENV=window.PLOTLYENV || {};\n",
              "                    \n",
              "                if (document.getElementById(\"c4582975-0e2f-4e1b-b047-688646f9ff10\")) {\n",
              "                    Plotly.newPlot(\n",
              "                        'c4582975-0e2f-4e1b-b047-688646f9ff10',\n",
              "                        [{\"name\": \"\\u0421\\u0435\\u0432\\u0435\\u0440\\u043d\\u0430\\u044f \\u0410\\u043c\\u0435\\u0440\\u0438\\u043a\\u0430\", \"type\": \"bar\", \"x\": [\"PSP\", \"DS\", \"PSV\", \"Wii\", \"PC\", \"WiiU\", \"3DS\", \"PS3\", \"X360\", \"XOne\", \"PS4\"], \"xaxis\": \"x\", \"y\": [0.0, 0.5700000000000001, 5.039999999999992, 6.5600000000000005, 11.109999999999989, 29.210000000000004, 38.19999999999999, 63.50000000000005, 81.66000000000001, 93.12000000000005, 108.7400000000001], \"yaxis\": \"y\"}, {\"name\": \"\\u0415\\u0432\\u0440\\u043e\\u043f\\u0430\", \"type\": \"bar\", \"x\": [\"PSP\", \"DS\", \"PSV\", \"Wii\", \"PC\", \"WiiU\", \"3DS\", \"PS3\", \"X360\", \"XOne\", \"PS4\"], \"xaxis\": \"x2\", \"y\": [0.16999999999999998, 0.8500000000000001, 6.099999999999987, 5.93, 25.360000000000024, 19.850000000000023, 30.960000000000026, 67.81000000000009, 42.519999999999996, 51.59, 141.09000000000032], \"yaxis\": \"y2\"}, {\"name\": \"\\u042f\\u043f\\u043e\\u043d\\u0438\\u044f\", \"type\": \"bar\", \"x\": [\"PSP\", \"DS\", \"PSV\", \"Wii\", \"PC\", \"WiiU\", \"3DS\", \"PS3\", \"X360\", \"XOne\", \"PS4\"], \"xaxis\": \"x3\", \"y\": [3.289999999999995, 0.0, 18.59000000000008, 0.05, 0.0, 10.879999999999992, 67.81000000000004, 23.350000000000016, 0.5100000000000001, 0.3400000000000001, 15.95999999999997], \"yaxis\": \"y3\"}],\n",
              "                        {\"template\": {\"data\": {\"bar\": [{\"error_x\": {\"color\": \"#2a3f5f\"}, \"error_y\": {\"color\": \"#2a3f5f\"}, \"marker\": {\"line\": {\"color\": \"#E5ECF6\", \"width\": 0.5}}, \"type\": \"bar\"}], \"barpolar\": [{\"marker\": {\"line\": {\"color\": \"#E5ECF6\", \"width\": 0.5}}, \"type\": \"barpolar\"}], \"carpet\": [{\"aaxis\": {\"endlinecolor\": \"#2a3f5f\", \"gridcolor\": \"white\", \"linecolor\": \"white\", \"minorgridcolor\": \"white\", \"startlinecolor\": \"#2a3f5f\"}, \"baxis\": {\"endlinecolor\": \"#2a3f5f\", \"gridcolor\": \"white\", \"linecolor\": \"white\", \"minorgridcolor\": \"white\", \"startlinecolor\": \"#2a3f5f\"}, \"type\": \"carpet\"}], \"choropleth\": [{\"colorbar\": {\"outlinewidth\": 0, \"ticks\": \"\"}, \"type\": \"choropleth\"}], \"contour\": [{\"colorbar\": {\"outlinewidth\": 0, \"ticks\": \"\"}, \"colorscale\": [[0.0, \"#0d0887\"], [0.1111111111111111, \"#46039f\"], [0.2222222222222222, \"#7201a8\"], [0.3333333333333333, \"#9c179e\"], [0.4444444444444444, \"#bd3786\"], [0.5555555555555556, \"#d8576b\"], [0.6666666666666666, \"#ed7953\"], [0.7777777777777778, \"#fb9f3a\"], [0.8888888888888888, \"#fdca26\"], [1.0, \"#f0f921\"]], \"type\": \"contour\"}], \"contourcarpet\": [{\"colorbar\": {\"outlinewidth\": 0, \"ticks\": \"\"}, \"type\": \"contourcarpet\"}], \"heatmap\": [{\"colorbar\": {\"outlinewidth\": 0, \"ticks\": \"\"}, \"colorscale\": [[0.0, \"#0d0887\"], [0.1111111111111111, \"#46039f\"], [0.2222222222222222, \"#7201a8\"], [0.3333333333333333, \"#9c179e\"], [0.4444444444444444, \"#bd3786\"], [0.5555555555555556, \"#d8576b\"], [0.6666666666666666, \"#ed7953\"], [0.7777777777777778, \"#fb9f3a\"], [0.8888888888888888, \"#fdca26\"], [1.0, \"#f0f921\"]], \"type\": \"heatmap\"}], \"heatmapgl\": [{\"colorbar\": {\"outlinewidth\": 0, \"ticks\": \"\"}, \"colorscale\": [[0.0, \"#0d0887\"], [0.1111111111111111, \"#46039f\"], [0.2222222222222222, \"#7201a8\"], [0.3333333333333333, \"#9c179e\"], [0.4444444444444444, \"#bd3786\"], [0.5555555555555556, \"#d8576b\"], [0.6666666666666666, \"#ed7953\"], [0.7777777777777778, \"#fb9f3a\"], [0.8888888888888888, \"#fdca26\"], [1.0, \"#f0f921\"]], \"type\": \"heatmapgl\"}], \"histogram\": [{\"marker\": {\"colorbar\": {\"outlinewidth\": 0, \"ticks\": \"\"}}, \"type\": \"histogram\"}], \"histogram2d\": [{\"colorbar\": {\"outlinewidth\": 0, \"ticks\": \"\"}, \"colorscale\": [[0.0, \"#0d0887\"], [0.1111111111111111, \"#46039f\"], [0.2222222222222222, \"#7201a8\"], [0.3333333333333333, \"#9c179e\"], [0.4444444444444444, \"#bd3786\"], [0.5555555555555556, \"#d8576b\"], [0.6666666666666666, \"#ed7953\"], [0.7777777777777778, \"#fb9f3a\"], [0.8888888888888888, \"#fdca26\"], [1.0, \"#f0f921\"]], \"type\": \"histogram2d\"}], \"histogram2dcontour\": [{\"colorbar\": {\"outlinewidth\": 0, \"ticks\": \"\"}, \"colorscale\": [[0.0, \"#0d0887\"], [0.1111111111111111, \"#46039f\"], [0.2222222222222222, \"#7201a8\"], [0.3333333333333333, \"#9c179e\"], [0.4444444444444444, \"#bd3786\"], [0.5555555555555556, \"#d8576b\"], [0.6666666666666666, \"#ed7953\"], [0.7777777777777778, \"#fb9f3a\"], [0.8888888888888888, \"#fdca26\"], [1.0, \"#f0f921\"]], \"type\": \"histogram2dcontour\"}], \"mesh3d\": [{\"colorbar\": {\"outlinewidth\": 0, \"ticks\": \"\"}, \"type\": \"mesh3d\"}], \"parcoords\": [{\"line\": {\"colorbar\": {\"outlinewidth\": 0, \"ticks\": \"\"}}, \"type\": \"parcoords\"}], \"pie\": [{\"automargin\": true, \"type\": \"pie\"}], \"scatter\": [{\"marker\": {\"colorbar\": {\"outlinewidth\": 0, \"ticks\": \"\"}}, \"type\": \"scatter\"}], \"scatter3d\": [{\"line\": {\"colorbar\": {\"outlinewidth\": 0, \"ticks\": \"\"}}, \"marker\": {\"colorbar\": {\"outlinewidth\": 0, \"ticks\": \"\"}}, \"type\": \"scatter3d\"}], \"scattercarpet\": [{\"marker\": {\"colorbar\": {\"outlinewidth\": 0, \"ticks\": \"\"}}, \"type\": \"scattercarpet\"}], \"scattergeo\": [{\"marker\": {\"colorbar\": {\"outlinewidth\": 0, \"ticks\": \"\"}}, \"type\": \"scattergeo\"}], \"scattergl\": [{\"marker\": {\"colorbar\": {\"outlinewidth\": 0, \"ticks\": \"\"}}, \"type\": \"scattergl\"}], \"scattermapbox\": [{\"marker\": {\"colorbar\": {\"outlinewidth\": 0, \"ticks\": \"\"}}, \"type\": \"scattermapbox\"}], \"scatterpolar\": [{\"marker\": {\"colorbar\": {\"outlinewidth\": 0, \"ticks\": \"\"}}, \"type\": \"scatterpolar\"}], \"scatterpolargl\": [{\"marker\": {\"colorbar\": {\"outlinewidth\": 0, \"ticks\": \"\"}}, \"type\": \"scatterpolargl\"}], \"scatterternary\": [{\"marker\": {\"colorbar\": {\"outlinewidth\": 0, \"ticks\": \"\"}}, \"type\": \"scatterternary\"}], \"surface\": [{\"colorbar\": {\"outlinewidth\": 0, \"ticks\": \"\"}, \"colorscale\": [[0.0, \"#0d0887\"], [0.1111111111111111, \"#46039f\"], [0.2222222222222222, \"#7201a8\"], [0.3333333333333333, \"#9c179e\"], [0.4444444444444444, \"#bd3786\"], [0.5555555555555556, \"#d8576b\"], [0.6666666666666666, \"#ed7953\"], [0.7777777777777778, \"#fb9f3a\"], [0.8888888888888888, \"#fdca26\"], [1.0, \"#f0f921\"]], \"type\": \"surface\"}], \"table\": [{\"cells\": {\"fill\": {\"color\": \"#EBF0F8\"}, \"line\": {\"color\": \"white\"}}, \"header\": {\"fill\": {\"color\": \"#C8D4E3\"}, \"line\": {\"color\": \"white\"}}, \"type\": \"table\"}]}, \"layout\": {\"annotationdefaults\": {\"arrowcolor\": \"#2a3f5f\", \"arrowhead\": 0, \"arrowwidth\": 1}, \"coloraxis\": {\"colorbar\": {\"outlinewidth\": 0, \"ticks\": \"\"}}, \"colorscale\": {\"diverging\": [[0, \"#8e0152\"], [0.1, \"#c51b7d\"], [0.2, \"#de77ae\"], [0.3, \"#f1b6da\"], [0.4, \"#fde0ef\"], [0.5, \"#f7f7f7\"], [0.6, \"#e6f5d0\"], [0.7, \"#b8e186\"], [0.8, \"#7fbc41\"], [0.9, \"#4d9221\"], [1, \"#276419\"]], \"sequential\": [[0.0, \"#0d0887\"], [0.1111111111111111, \"#46039f\"], [0.2222222222222222, \"#7201a8\"], [0.3333333333333333, \"#9c179e\"], [0.4444444444444444, \"#bd3786\"], [0.5555555555555556, \"#d8576b\"], [0.6666666666666666, \"#ed7953\"], [0.7777777777777778, \"#fb9f3a\"], [0.8888888888888888, \"#fdca26\"], [1.0, \"#f0f921\"]], \"sequentialminus\": [[0.0, \"#0d0887\"], [0.1111111111111111, \"#46039f\"], [0.2222222222222222, \"#7201a8\"], [0.3333333333333333, \"#9c179e\"], [0.4444444444444444, \"#bd3786\"], [0.5555555555555556, \"#d8576b\"], [0.6666666666666666, \"#ed7953\"], [0.7777777777777778, \"#fb9f3a\"], [0.8888888888888888, \"#fdca26\"], [1.0, \"#f0f921\"]]}, \"colorway\": [\"#636efa\", \"#EF553B\", \"#00cc96\", \"#ab63fa\", \"#FFA15A\", \"#19d3f3\", \"#FF6692\", \"#B6E880\", \"#FF97FF\", \"#FECB52\"], \"font\": {\"color\": \"#2a3f5f\"}, \"geo\": {\"bgcolor\": \"white\", \"lakecolor\": \"white\", \"landcolor\": \"#E5ECF6\", \"showlakes\": true, \"showland\": true, \"subunitcolor\": \"white\"}, \"hoverlabel\": {\"align\": \"left\"}, \"hovermode\": \"closest\", \"mapbox\": {\"style\": \"light\"}, \"paper_bgcolor\": \"white\", \"plot_bgcolor\": \"#E5ECF6\", \"polar\": {\"angularaxis\": {\"gridcolor\": \"white\", \"linecolor\": \"white\", \"ticks\": \"\"}, \"bgcolor\": \"#E5ECF6\", \"radialaxis\": {\"gridcolor\": \"white\", \"linecolor\": \"white\", \"ticks\": \"\"}}, \"scene\": {\"xaxis\": {\"backgroundcolor\": \"#E5ECF6\", \"gridcolor\": \"white\", \"gridwidth\": 2, \"linecolor\": \"white\", \"showbackground\": true, \"ticks\": \"\", \"zerolinecolor\": \"white\"}, \"yaxis\": {\"backgroundcolor\": \"#E5ECF6\", \"gridcolor\": \"white\", \"gridwidth\": 2, \"linecolor\": \"white\", \"showbackground\": true, \"ticks\": \"\", \"zerolinecolor\": \"white\"}, \"zaxis\": {\"backgroundcolor\": \"#E5ECF6\", \"gridcolor\": \"white\", \"gridwidth\": 2, \"linecolor\": \"white\", \"showbackground\": true, \"ticks\": \"\", \"zerolinecolor\": \"white\"}}, \"shapedefaults\": {\"line\": {\"color\": \"#2a3f5f\"}}, \"ternary\": {\"aaxis\": {\"gridcolor\": \"white\", \"linecolor\": \"white\", \"ticks\": \"\"}, \"baxis\": {\"gridcolor\": \"white\", \"linecolor\": \"white\", \"ticks\": \"\"}, \"bgcolor\": \"#E5ECF6\", \"caxis\": {\"gridcolor\": \"white\", \"linecolor\": \"white\", \"ticks\": \"\"}}, \"title\": {\"x\": 0.05}, \"xaxis\": {\"automargin\": true, \"gridcolor\": \"white\", \"linecolor\": \"white\", \"ticks\": \"\", \"title\": {\"standoff\": 15}, \"zerolinecolor\": \"white\", \"zerolinewidth\": 2}, \"yaxis\": {\"automargin\": true, \"gridcolor\": \"white\", \"linecolor\": \"white\", \"ticks\": \"\", \"title\": {\"standoff\": 15}, \"zerolinecolor\": \"white\", \"zerolinewidth\": 2}}}, \"title\": {\"text\": \"\\u0421\\u0443\\u043c\\u043c\\u0430\\u0440\\u043d\\u044b\\u0435 \\u043f\\u0440\\u043e\\u0434\\u0430\\u0436\\u0438 \\u043f\\u043e \\u043f\\u043b\\u0430\\u0442\\u0444\\u043e\\u0440\\u043c\\u0430\\u043c\"}, \"xaxis\": {\"anchor\": \"y\", \"domain\": [0.0, 1.0]}, \"xaxis2\": {\"anchor\": \"y2\", \"domain\": [0.0, 1.0]}, \"xaxis3\": {\"anchor\": \"y3\", \"domain\": [0.0, 1.0]}, \"yaxis\": {\"anchor\": \"x\", \"domain\": [0.7333333333333333, 1.0]}, \"yaxis2\": {\"anchor\": \"x2\", \"domain\": [0.36666666666666664, 0.6333333333333333]}, \"yaxis3\": {\"anchor\": \"x3\", \"domain\": [0.0, 0.26666666666666666]}},\n",
              "                        {\"responsive\": true}\n",
              "                    ).then(function(){\n",
              "                            \n",
              "var gd = document.getElementById('c4582975-0e2f-4e1b-b047-688646f9ff10');\n",
              "var x = new MutationObserver(function (mutations, observer) {{\n",
              "        var display = window.getComputedStyle(gd).display;\n",
              "        if (!display || display === 'none') {{\n",
              "            console.log([gd, 'removed!']);\n",
              "            Plotly.purge(gd);\n",
              "            observer.disconnect();\n",
              "        }}\n",
              "}});\n",
              "\n",
              "// Listen for the removal of the full notebook cells\n",
              "var notebookContainer = gd.closest('#notebook-container');\n",
              "if (notebookContainer) {{\n",
              "    x.observe(notebookContainer, {childList: true});\n",
              "}}\n",
              "\n",
              "// Listen for the clearing of the current output cell\n",
              "var outputEl = gd.closest('.output');\n",
              "if (outputEl) {{\n",
              "    x.observe(outputEl, {childList: true});\n",
              "}}\n",
              "\n",
              "                        })\n",
              "                };\n",
              "                });\n",
              "            </script>\n",
              "        </div>"
            ]
          },
          "metadata": {
            "tags": []
          }
        }
      ]
    },
    {
      "cell_type": "markdown",
      "metadata": {
        "id": "mW6S2w689US9"
      },
      "source": [
        "Посмотрим на доли продаж"
      ]
    },
    {
      "cell_type": "code",
      "metadata": {
        "colab": {
          "base_uri": "https://localhost:8080/",
          "height": 235
        },
        "id": "fI5fo76qf5Ry",
        "outputId": "2bdee439-e0bc-4e57-acb7-e7092b0ce59a"
      },
      "source": [
        "df_na = (\n",
        "    df\n",
        "        .groupby('platform')\n",
        "        .agg({'na_sales':'sum',\n",
        "              'total_sales':'sum'})\n",
        "        .sort_values(by='na_sales', ascending=False)\n",
        "        .head()\n",
        ")\n",
        "df_na['ratio'] = round(df_na['na_sales'] / df_na['total_sales'], 2)\n",
        "df_na"
      ],
      "execution_count": 32,
      "outputs": [
        {
          "output_type": "execute_result",
          "data": {
            "text/html": [
              "<div>\n",
              "<style scoped>\n",
              "    .dataframe tbody tr th:only-of-type {\n",
              "        vertical-align: middle;\n",
              "    }\n",
              "\n",
              "    .dataframe tbody tr th {\n",
              "        vertical-align: top;\n",
              "    }\n",
              "\n",
              "    .dataframe thead th {\n",
              "        text-align: right;\n",
              "    }\n",
              "</style>\n",
              "<table border=\"1\" class=\"dataframe\">\n",
              "  <thead>\n",
              "    <tr style=\"text-align: right;\">\n",
              "      <th></th>\n",
              "      <th>na_sales</th>\n",
              "      <th>total_sales</th>\n",
              "      <th>ratio</th>\n",
              "    </tr>\n",
              "    <tr>\n",
              "      <th>platform</th>\n",
              "      <th></th>\n",
              "      <th></th>\n",
              "      <th></th>\n",
              "    </tr>\n",
              "  </thead>\n",
              "  <tbody>\n",
              "    <tr>\n",
              "      <th>PS4</th>\n",
              "      <td>108.74</td>\n",
              "      <td>314.14</td>\n",
              "      <td>0.35</td>\n",
              "    </tr>\n",
              "    <tr>\n",
              "      <th>XOne</th>\n",
              "      <td>93.12</td>\n",
              "      <td>159.32</td>\n",
              "      <td>0.58</td>\n",
              "    </tr>\n",
              "    <tr>\n",
              "      <th>X360</th>\n",
              "      <td>81.66</td>\n",
              "      <td>136.80</td>\n",
              "      <td>0.60</td>\n",
              "    </tr>\n",
              "    <tr>\n",
              "      <th>PS3</th>\n",
              "      <td>63.50</td>\n",
              "      <td>181.43</td>\n",
              "      <td>0.35</td>\n",
              "    </tr>\n",
              "    <tr>\n",
              "      <th>3DS</th>\n",
              "      <td>38.20</td>\n",
              "      <td>143.25</td>\n",
              "      <td>0.27</td>\n",
              "    </tr>\n",
              "  </tbody>\n",
              "</table>\n",
              "</div>"
            ],
            "text/plain": [
              "          na_sales  total_sales  ratio\n",
              "platform                              \n",
              "PS4         108.74       314.14   0.35\n",
              "XOne         93.12       159.32   0.58\n",
              "X360         81.66       136.80   0.60\n",
              "PS3          63.50       181.43   0.35\n",
              "3DS          38.20       143.25   0.27"
            ]
          },
          "metadata": {
            "tags": []
          },
          "execution_count": 32
        }
      ]
    },
    {
      "cell_type": "code",
      "metadata": {
        "colab": {
          "base_uri": "https://localhost:8080/",
          "height": 235
        },
        "id": "j2bsf5qTgQFj",
        "outputId": "b8ea81f8-2d69-4a90-e6fb-4bcfaf7af5e3"
      },
      "source": [
        "df_eu = (\n",
        "    df\n",
        "        .groupby('platform')\n",
        "        .agg({'eu_sales':'sum',\n",
        "              'total_sales':'sum'})\n",
        "        .sort_values(by='eu_sales', ascending=False)\n",
        "        .head()\n",
        ")\n",
        "df_eu['ratio'] = round(df_eu['eu_sales'] / df_eu['total_sales'], 2)\n",
        "df_eu"
      ],
      "execution_count": 33,
      "outputs": [
        {
          "output_type": "execute_result",
          "data": {
            "text/html": [
              "<div>\n",
              "<style scoped>\n",
              "    .dataframe tbody tr th:only-of-type {\n",
              "        vertical-align: middle;\n",
              "    }\n",
              "\n",
              "    .dataframe tbody tr th {\n",
              "        vertical-align: top;\n",
              "    }\n",
              "\n",
              "    .dataframe thead th {\n",
              "        text-align: right;\n",
              "    }\n",
              "</style>\n",
              "<table border=\"1\" class=\"dataframe\">\n",
              "  <thead>\n",
              "    <tr style=\"text-align: right;\">\n",
              "      <th></th>\n",
              "      <th>eu_sales</th>\n",
              "      <th>total_sales</th>\n",
              "      <th>ratio</th>\n",
              "    </tr>\n",
              "    <tr>\n",
              "      <th>platform</th>\n",
              "      <th></th>\n",
              "      <th></th>\n",
              "      <th></th>\n",
              "    </tr>\n",
              "  </thead>\n",
              "  <tbody>\n",
              "    <tr>\n",
              "      <th>PS4</th>\n",
              "      <td>141.09</td>\n",
              "      <td>314.14</td>\n",
              "      <td>0.45</td>\n",
              "    </tr>\n",
              "    <tr>\n",
              "      <th>PS3</th>\n",
              "      <td>67.81</td>\n",
              "      <td>181.43</td>\n",
              "      <td>0.37</td>\n",
              "    </tr>\n",
              "    <tr>\n",
              "      <th>XOne</th>\n",
              "      <td>51.59</td>\n",
              "      <td>159.32</td>\n",
              "      <td>0.32</td>\n",
              "    </tr>\n",
              "    <tr>\n",
              "      <th>X360</th>\n",
              "      <td>42.52</td>\n",
              "      <td>136.80</td>\n",
              "      <td>0.31</td>\n",
              "    </tr>\n",
              "    <tr>\n",
              "      <th>3DS</th>\n",
              "      <td>30.96</td>\n",
              "      <td>143.25</td>\n",
              "      <td>0.22</td>\n",
              "    </tr>\n",
              "  </tbody>\n",
              "</table>\n",
              "</div>"
            ],
            "text/plain": [
              "          eu_sales  total_sales  ratio\n",
              "platform                              \n",
              "PS4         141.09       314.14   0.45\n",
              "PS3          67.81       181.43   0.37\n",
              "XOne         51.59       159.32   0.32\n",
              "X360         42.52       136.80   0.31\n",
              "3DS          30.96       143.25   0.22"
            ]
          },
          "metadata": {
            "tags": []
          },
          "execution_count": 33
        }
      ]
    },
    {
      "cell_type": "code",
      "metadata": {
        "colab": {
          "base_uri": "https://localhost:8080/",
          "height": 235
        },
        "id": "LLS4II9QgWty",
        "outputId": "2dd783de-fa90-482c-84f3-f2d5a66e731f"
      },
      "source": [
        "df_jp = (\n",
        "    df\n",
        "        .groupby('platform')\n",
        "        .agg({'jp_sales':'sum',\n",
        "              'total_sales':'sum'})\n",
        "        .sort_values(by='jp_sales', ascending=False)\n",
        "        .head()\n",
        ")\n",
        "df_jp['ratio'] = round(df_jp['jp_sales'] / df_jp['total_sales'], 2)\n",
        "df_jp"
      ],
      "execution_count": 34,
      "outputs": [
        {
          "output_type": "execute_result",
          "data": {
            "text/html": [
              "<div>\n",
              "<style scoped>\n",
              "    .dataframe tbody tr th:only-of-type {\n",
              "        vertical-align: middle;\n",
              "    }\n",
              "\n",
              "    .dataframe tbody tr th {\n",
              "        vertical-align: top;\n",
              "    }\n",
              "\n",
              "    .dataframe thead th {\n",
              "        text-align: right;\n",
              "    }\n",
              "</style>\n",
              "<table border=\"1\" class=\"dataframe\">\n",
              "  <thead>\n",
              "    <tr style=\"text-align: right;\">\n",
              "      <th></th>\n",
              "      <th>jp_sales</th>\n",
              "      <th>total_sales</th>\n",
              "      <th>ratio</th>\n",
              "    </tr>\n",
              "    <tr>\n",
              "      <th>platform</th>\n",
              "      <th></th>\n",
              "      <th></th>\n",
              "      <th></th>\n",
              "    </tr>\n",
              "  </thead>\n",
              "  <tbody>\n",
              "    <tr>\n",
              "      <th>3DS</th>\n",
              "      <td>67.81</td>\n",
              "      <td>143.25</td>\n",
              "      <td>0.47</td>\n",
              "    </tr>\n",
              "    <tr>\n",
              "      <th>PS3</th>\n",
              "      <td>23.35</td>\n",
              "      <td>181.43</td>\n",
              "      <td>0.13</td>\n",
              "    </tr>\n",
              "    <tr>\n",
              "      <th>PSV</th>\n",
              "      <td>18.59</td>\n",
              "      <td>32.99</td>\n",
              "      <td>0.56</td>\n",
              "    </tr>\n",
              "    <tr>\n",
              "      <th>PS4</th>\n",
              "      <td>15.96</td>\n",
              "      <td>314.14</td>\n",
              "      <td>0.05</td>\n",
              "    </tr>\n",
              "    <tr>\n",
              "      <th>WiiU</th>\n",
              "      <td>10.88</td>\n",
              "      <td>64.63</td>\n",
              "      <td>0.17</td>\n",
              "    </tr>\n",
              "  </tbody>\n",
              "</table>\n",
              "</div>"
            ],
            "text/plain": [
              "          jp_sales  total_sales  ratio\n",
              "platform                              \n",
              "3DS          67.81       143.25   0.47\n",
              "PS3          23.35       181.43   0.13\n",
              "PSV          18.59        32.99   0.56\n",
              "PS4          15.96       314.14   0.05\n",
              "WiiU         10.88        64.63   0.17"
            ]
          },
          "metadata": {
            "tags": []
          },
          "execution_count": 34
        }
      ]
    },
    {
      "cell_type": "markdown",
      "metadata": {
        "id": "7nq1R43-IvLw"
      },
      "source": [
        "* Почти 50% игр на PS4 продаются в Европе, 80% продаж приходится на Северную Америку и Европу. \n",
        "\n",
        "* Игры на X360 и XOne больше всего покупают в Северной Америке - 60% и 58% соответственно от всех продаж.\n",
        "\n",
        "* На Японию приходится 50% игр на 3DS и столько же на PSV. На PS4 и PS3 приходится всего 18% от мирового оборота. "
      ]
    },
    {
      "cell_type": "markdown",
      "metadata": {
        "id": "-mRXW2ugAEbm"
      },
      "source": [
        "### Самые популярные жанры."
      ]
    },
    {
      "cell_type": "code",
      "metadata": {
        "colab": {
          "base_uri": "https://localhost:8080/",
          "height": 542
        },
        "id": "LbuuiNbIaGNH",
        "outputId": "79dd164c-0055-4080-885c-7a8815a745d7"
      },
      "source": [
        "dr = df.groupby('genre', as_index=False)['na_sales'].sum().sort_values(by='na_sales').tail()\n",
        "\n",
        "fig = px.bar(dr, x='genre', y='na_sales',\n",
        "             title='Топ-5 жанров в Северной Америке')\n",
        "fig.show()"
      ],
      "execution_count": 35,
      "outputs": [
        {
          "output_type": "display_data",
          "data": {
            "text/html": [
              "<div>\n",
              "        \n",
              "        \n",
              "            <div id=\"6de94cd8-1564-40fa-88e9-7fef333ffafe\" class=\"plotly-graph-div\" style=\"height:525px; width:100%;\"></div>\n",
              "            <script type=\"text/javascript\">\n",
              "                require([\"plotly\"], function(Plotly) {\n",
              "                    window.PLOTLYENV=window.PLOTLYENV || {};\n",
              "                    \n",
              "                if (document.getElementById(\"6de94cd8-1564-40fa-88e9-7fef333ffafe\")) {\n",
              "                    Plotly.newPlot(\n",
              "                        '6de94cd8-1564-40fa-88e9-7fef333ffafe',\n",
              "                        [{\"alignmentgroup\": \"True\", \"hoverlabel\": {\"namelength\": 0}, \"hovertemplate\": \"genre=%{x}<br>na_sales=%{y}\", \"legendgroup\": \"\", \"marker\": {\"color\": \"#636efa\"}, \"name\": \"\", \"offsetgroup\": \"\", \"orientation\": \"v\", \"showlegend\": false, \"textposition\": \"auto\", \"type\": \"bar\", \"x\": [\"Misc\", \"Role-Playing\", \"Sports\", \"Shooter\", \"Action\"], \"xaxis\": \"x\", \"y\": [27.490000000000013, 46.400000000000006, 65.27000000000007, 109.74, 126.05000000000011], \"yaxis\": \"y\"}],\n",
              "                        {\"barmode\": \"relative\", \"legend\": {\"tracegroupgap\": 0}, \"template\": {\"data\": {\"bar\": [{\"error_x\": {\"color\": \"#2a3f5f\"}, \"error_y\": {\"color\": \"#2a3f5f\"}, \"marker\": {\"line\": {\"color\": \"#E5ECF6\", \"width\": 0.5}}, \"type\": \"bar\"}], \"barpolar\": [{\"marker\": {\"line\": {\"color\": \"#E5ECF6\", \"width\": 0.5}}, \"type\": \"barpolar\"}], \"carpet\": [{\"aaxis\": {\"endlinecolor\": \"#2a3f5f\", \"gridcolor\": \"white\", \"linecolor\": \"white\", \"minorgridcolor\": \"white\", \"startlinecolor\": \"#2a3f5f\"}, \"baxis\": {\"endlinecolor\": \"#2a3f5f\", \"gridcolor\": \"white\", \"linecolor\": \"white\", \"minorgridcolor\": \"white\", \"startlinecolor\": \"#2a3f5f\"}, \"type\": \"carpet\"}], \"choropleth\": [{\"colorbar\": {\"outlinewidth\": 0, \"ticks\": \"\"}, \"type\": \"choropleth\"}], \"contour\": [{\"colorbar\": {\"outlinewidth\": 0, \"ticks\": \"\"}, \"colorscale\": [[0.0, \"#0d0887\"], [0.1111111111111111, \"#46039f\"], [0.2222222222222222, \"#7201a8\"], [0.3333333333333333, \"#9c179e\"], [0.4444444444444444, \"#bd3786\"], [0.5555555555555556, \"#d8576b\"], [0.6666666666666666, \"#ed7953\"], [0.7777777777777778, \"#fb9f3a\"], [0.8888888888888888, \"#fdca26\"], [1.0, \"#f0f921\"]], \"type\": \"contour\"}], \"contourcarpet\": [{\"colorbar\": {\"outlinewidth\": 0, \"ticks\": \"\"}, \"type\": \"contourcarpet\"}], \"heatmap\": [{\"colorbar\": {\"outlinewidth\": 0, \"ticks\": \"\"}, \"colorscale\": [[0.0, \"#0d0887\"], [0.1111111111111111, \"#46039f\"], [0.2222222222222222, \"#7201a8\"], [0.3333333333333333, \"#9c179e\"], [0.4444444444444444, \"#bd3786\"], [0.5555555555555556, \"#d8576b\"], [0.6666666666666666, \"#ed7953\"], [0.7777777777777778, \"#fb9f3a\"], [0.8888888888888888, \"#fdca26\"], [1.0, \"#f0f921\"]], \"type\": \"heatmap\"}], \"heatmapgl\": [{\"colorbar\": {\"outlinewidth\": 0, \"ticks\": \"\"}, \"colorscale\": [[0.0, \"#0d0887\"], [0.1111111111111111, \"#46039f\"], [0.2222222222222222, \"#7201a8\"], [0.3333333333333333, \"#9c179e\"], [0.4444444444444444, \"#bd3786\"], [0.5555555555555556, \"#d8576b\"], [0.6666666666666666, \"#ed7953\"], [0.7777777777777778, \"#fb9f3a\"], [0.8888888888888888, \"#fdca26\"], [1.0, \"#f0f921\"]], \"type\": \"heatmapgl\"}], \"histogram\": [{\"marker\": {\"colorbar\": {\"outlinewidth\": 0, \"ticks\": \"\"}}, \"type\": \"histogram\"}], \"histogram2d\": [{\"colorbar\": {\"outlinewidth\": 0, \"ticks\": \"\"}, \"colorscale\": [[0.0, \"#0d0887\"], [0.1111111111111111, \"#46039f\"], [0.2222222222222222, \"#7201a8\"], [0.3333333333333333, \"#9c179e\"], [0.4444444444444444, \"#bd3786\"], [0.5555555555555556, \"#d8576b\"], [0.6666666666666666, \"#ed7953\"], [0.7777777777777778, \"#fb9f3a\"], [0.8888888888888888, \"#fdca26\"], [1.0, \"#f0f921\"]], \"type\": \"histogram2d\"}], \"histogram2dcontour\": [{\"colorbar\": {\"outlinewidth\": 0, \"ticks\": \"\"}, \"colorscale\": [[0.0, \"#0d0887\"], [0.1111111111111111, \"#46039f\"], [0.2222222222222222, \"#7201a8\"], [0.3333333333333333, \"#9c179e\"], [0.4444444444444444, \"#bd3786\"], [0.5555555555555556, \"#d8576b\"], [0.6666666666666666, \"#ed7953\"], [0.7777777777777778, \"#fb9f3a\"], [0.8888888888888888, \"#fdca26\"], [1.0, \"#f0f921\"]], \"type\": \"histogram2dcontour\"}], \"mesh3d\": [{\"colorbar\": {\"outlinewidth\": 0, \"ticks\": \"\"}, \"type\": \"mesh3d\"}], \"parcoords\": [{\"line\": {\"colorbar\": {\"outlinewidth\": 0, \"ticks\": \"\"}}, \"type\": \"parcoords\"}], \"pie\": [{\"automargin\": true, \"type\": \"pie\"}], \"scatter\": [{\"marker\": {\"colorbar\": {\"outlinewidth\": 0, \"ticks\": \"\"}}, \"type\": \"scatter\"}], \"scatter3d\": [{\"line\": {\"colorbar\": {\"outlinewidth\": 0, \"ticks\": \"\"}}, \"marker\": {\"colorbar\": {\"outlinewidth\": 0, \"ticks\": \"\"}}, \"type\": \"scatter3d\"}], \"scattercarpet\": [{\"marker\": {\"colorbar\": {\"outlinewidth\": 0, \"ticks\": \"\"}}, \"type\": \"scattercarpet\"}], \"scattergeo\": [{\"marker\": {\"colorbar\": {\"outlinewidth\": 0, \"ticks\": \"\"}}, \"type\": \"scattergeo\"}], \"scattergl\": [{\"marker\": {\"colorbar\": {\"outlinewidth\": 0, \"ticks\": \"\"}}, \"type\": \"scattergl\"}], \"scattermapbox\": [{\"marker\": {\"colorbar\": {\"outlinewidth\": 0, \"ticks\": \"\"}}, \"type\": \"scattermapbox\"}], \"scatterpolar\": [{\"marker\": {\"colorbar\": {\"outlinewidth\": 0, \"ticks\": \"\"}}, \"type\": \"scatterpolar\"}], \"scatterpolargl\": [{\"marker\": {\"colorbar\": {\"outlinewidth\": 0, \"ticks\": \"\"}}, \"type\": \"scatterpolargl\"}], \"scatterternary\": [{\"marker\": {\"colorbar\": {\"outlinewidth\": 0, \"ticks\": \"\"}}, \"type\": \"scatterternary\"}], \"surface\": [{\"colorbar\": {\"outlinewidth\": 0, \"ticks\": \"\"}, \"colorscale\": [[0.0, \"#0d0887\"], [0.1111111111111111, \"#46039f\"], [0.2222222222222222, \"#7201a8\"], [0.3333333333333333, \"#9c179e\"], [0.4444444444444444, \"#bd3786\"], [0.5555555555555556, \"#d8576b\"], [0.6666666666666666, \"#ed7953\"], [0.7777777777777778, \"#fb9f3a\"], [0.8888888888888888, \"#fdca26\"], [1.0, \"#f0f921\"]], \"type\": \"surface\"}], \"table\": [{\"cells\": {\"fill\": {\"color\": \"#EBF0F8\"}, \"line\": {\"color\": \"white\"}}, \"header\": {\"fill\": {\"color\": \"#C8D4E3\"}, \"line\": {\"color\": \"white\"}}, \"type\": \"table\"}]}, \"layout\": {\"annotationdefaults\": {\"arrowcolor\": \"#2a3f5f\", \"arrowhead\": 0, \"arrowwidth\": 1}, \"coloraxis\": {\"colorbar\": {\"outlinewidth\": 0, \"ticks\": \"\"}}, \"colorscale\": {\"diverging\": [[0, \"#8e0152\"], [0.1, \"#c51b7d\"], [0.2, \"#de77ae\"], [0.3, \"#f1b6da\"], [0.4, \"#fde0ef\"], [0.5, \"#f7f7f7\"], [0.6, \"#e6f5d0\"], [0.7, \"#b8e186\"], [0.8, \"#7fbc41\"], [0.9, \"#4d9221\"], [1, \"#276419\"]], \"sequential\": [[0.0, \"#0d0887\"], [0.1111111111111111, \"#46039f\"], [0.2222222222222222, \"#7201a8\"], [0.3333333333333333, \"#9c179e\"], [0.4444444444444444, \"#bd3786\"], [0.5555555555555556, \"#d8576b\"], [0.6666666666666666, \"#ed7953\"], [0.7777777777777778, \"#fb9f3a\"], [0.8888888888888888, \"#fdca26\"], [1.0, \"#f0f921\"]], \"sequentialminus\": [[0.0, \"#0d0887\"], [0.1111111111111111, \"#46039f\"], [0.2222222222222222, \"#7201a8\"], [0.3333333333333333, \"#9c179e\"], [0.4444444444444444, \"#bd3786\"], [0.5555555555555556, \"#d8576b\"], [0.6666666666666666, \"#ed7953\"], [0.7777777777777778, \"#fb9f3a\"], [0.8888888888888888, \"#fdca26\"], [1.0, \"#f0f921\"]]}, \"colorway\": [\"#636efa\", \"#EF553B\", \"#00cc96\", \"#ab63fa\", \"#FFA15A\", \"#19d3f3\", \"#FF6692\", \"#B6E880\", \"#FF97FF\", \"#FECB52\"], \"font\": {\"color\": \"#2a3f5f\"}, \"geo\": {\"bgcolor\": \"white\", \"lakecolor\": \"white\", \"landcolor\": \"#E5ECF6\", \"showlakes\": true, \"showland\": true, \"subunitcolor\": \"white\"}, \"hoverlabel\": {\"align\": \"left\"}, \"hovermode\": \"closest\", \"mapbox\": {\"style\": \"light\"}, \"paper_bgcolor\": \"white\", \"plot_bgcolor\": \"#E5ECF6\", \"polar\": {\"angularaxis\": {\"gridcolor\": \"white\", \"linecolor\": \"white\", \"ticks\": \"\"}, \"bgcolor\": \"#E5ECF6\", \"radialaxis\": {\"gridcolor\": \"white\", \"linecolor\": \"white\", \"ticks\": \"\"}}, \"scene\": {\"xaxis\": {\"backgroundcolor\": \"#E5ECF6\", \"gridcolor\": \"white\", \"gridwidth\": 2, \"linecolor\": \"white\", \"showbackground\": true, \"ticks\": \"\", \"zerolinecolor\": \"white\"}, \"yaxis\": {\"backgroundcolor\": \"#E5ECF6\", \"gridcolor\": \"white\", \"gridwidth\": 2, \"linecolor\": \"white\", \"showbackground\": true, \"ticks\": \"\", \"zerolinecolor\": \"white\"}, \"zaxis\": {\"backgroundcolor\": \"#E5ECF6\", \"gridcolor\": \"white\", \"gridwidth\": 2, \"linecolor\": \"white\", \"showbackground\": true, \"ticks\": \"\", \"zerolinecolor\": \"white\"}}, \"shapedefaults\": {\"line\": {\"color\": \"#2a3f5f\"}}, \"ternary\": {\"aaxis\": {\"gridcolor\": \"white\", \"linecolor\": \"white\", \"ticks\": \"\"}, \"baxis\": {\"gridcolor\": \"white\", \"linecolor\": \"white\", \"ticks\": \"\"}, \"bgcolor\": \"#E5ECF6\", \"caxis\": {\"gridcolor\": \"white\", \"linecolor\": \"white\", \"ticks\": \"\"}}, \"title\": {\"x\": 0.05}, \"xaxis\": {\"automargin\": true, \"gridcolor\": \"white\", \"linecolor\": \"white\", \"ticks\": \"\", \"title\": {\"standoff\": 15}, \"zerolinecolor\": \"white\", \"zerolinewidth\": 2}, \"yaxis\": {\"automargin\": true, \"gridcolor\": \"white\", \"linecolor\": \"white\", \"ticks\": \"\", \"title\": {\"standoff\": 15}, \"zerolinecolor\": \"white\", \"zerolinewidth\": 2}}}, \"title\": {\"text\": \"\\u0422\\u043e\\u043f-5 \\u0436\\u0430\\u043d\\u0440\\u043e\\u0432 \\u0432 \\u0421\\u0435\\u0432\\u0435\\u0440\\u043d\\u043e\\u0439 \\u0410\\u043c\\u0435\\u0440\\u0438\\u043a\\u0435\"}, \"xaxis\": {\"anchor\": \"y\", \"domain\": [0.0, 1.0], \"title\": {\"text\": \"genre\"}}, \"yaxis\": {\"anchor\": \"x\", \"domain\": [0.0, 1.0], \"title\": {\"text\": \"na_sales\"}}},\n",
              "                        {\"responsive\": true}\n",
              "                    ).then(function(){\n",
              "                            \n",
              "var gd = document.getElementById('6de94cd8-1564-40fa-88e9-7fef333ffafe');\n",
              "var x = new MutationObserver(function (mutations, observer) {{\n",
              "        var display = window.getComputedStyle(gd).display;\n",
              "        if (!display || display === 'none') {{\n",
              "            console.log([gd, 'removed!']);\n",
              "            Plotly.purge(gd);\n",
              "            observer.disconnect();\n",
              "        }}\n",
              "}});\n",
              "\n",
              "// Listen for the removal of the full notebook cells\n",
              "var notebookContainer = gd.closest('#notebook-container');\n",
              "if (notebookContainer) {{\n",
              "    x.observe(notebookContainer, {childList: true});\n",
              "}}\n",
              "\n",
              "// Listen for the clearing of the current output cell\n",
              "var outputEl = gd.closest('.output');\n",
              "if (outputEl) {{\n",
              "    x.observe(outputEl, {childList: true});\n",
              "}}\n",
              "\n",
              "                        })\n",
              "                };\n",
              "                });\n",
              "            </script>\n",
              "        </div>"
            ]
          },
          "metadata": {
            "tags": []
          }
        }
      ]
    },
    {
      "cell_type": "code",
      "metadata": {
        "colab": {
          "base_uri": "https://localhost:8080/",
          "height": 542
        },
        "id": "JBcaHSzzaTDi",
        "outputId": "82bf3347-c594-426a-e992-e144de2d0bc0"
      },
      "source": [
        "dr = df.groupby('genre', as_index=False)['eu_sales'].sum().sort_values(by='eu_sales').tail()\n",
        "\n",
        "fig = px.bar(dr, x='genre', y='eu_sales',\n",
        "             title='Топ-5 жанров в Европе')\n",
        "fig.show()"
      ],
      "execution_count": 36,
      "outputs": [
        {
          "output_type": "display_data",
          "data": {
            "text/html": [
              "<div>\n",
              "        \n",
              "        \n",
              "            <div id=\"9bed5937-0837-4562-838e-21749013a8ac\" class=\"plotly-graph-div\" style=\"height:525px; width:100%;\"></div>\n",
              "            <script type=\"text/javascript\">\n",
              "                require([\"plotly\"], function(Plotly) {\n",
              "                    window.PLOTLYENV=window.PLOTLYENV || {};\n",
              "                    \n",
              "                if (document.getElementById(\"9bed5937-0837-4562-838e-21749013a8ac\")) {\n",
              "                    Plotly.newPlot(\n",
              "                        '9bed5937-0837-4562-838e-21749013a8ac',\n",
              "                        [{\"alignmentgroup\": \"True\", \"hoverlabel\": {\"namelength\": 0}, \"hovertemplate\": \"genre=%{x}<br>eu_sales=%{y}\", \"legendgroup\": \"\", \"marker\": {\"color\": \"#636efa\"}, \"name\": \"\", \"offsetgroup\": \"\", \"orientation\": \"v\", \"showlegend\": false, \"textposition\": \"auto\", \"type\": \"bar\", \"x\": [\"Racing\", \"Role-Playing\", \"Sports\", \"Shooter\", \"Action\"], \"xaxis\": \"x\", \"y\": [20.19000000000002, 36.970000000000006, 60.52000000000001, 87.86, 118.13000000000012], \"yaxis\": \"y\"}],\n",
              "                        {\"barmode\": \"relative\", \"legend\": {\"tracegroupgap\": 0}, \"template\": {\"data\": {\"bar\": [{\"error_x\": {\"color\": \"#2a3f5f\"}, \"error_y\": {\"color\": \"#2a3f5f\"}, \"marker\": {\"line\": {\"color\": \"#E5ECF6\", \"width\": 0.5}}, \"type\": \"bar\"}], \"barpolar\": [{\"marker\": {\"line\": {\"color\": \"#E5ECF6\", \"width\": 0.5}}, \"type\": \"barpolar\"}], \"carpet\": [{\"aaxis\": {\"endlinecolor\": \"#2a3f5f\", \"gridcolor\": \"white\", \"linecolor\": \"white\", \"minorgridcolor\": \"white\", \"startlinecolor\": \"#2a3f5f\"}, \"baxis\": {\"endlinecolor\": \"#2a3f5f\", \"gridcolor\": \"white\", \"linecolor\": \"white\", \"minorgridcolor\": \"white\", \"startlinecolor\": \"#2a3f5f\"}, \"type\": \"carpet\"}], \"choropleth\": [{\"colorbar\": {\"outlinewidth\": 0, \"ticks\": \"\"}, \"type\": \"choropleth\"}], \"contour\": [{\"colorbar\": {\"outlinewidth\": 0, \"ticks\": \"\"}, \"colorscale\": [[0.0, \"#0d0887\"], [0.1111111111111111, \"#46039f\"], [0.2222222222222222, \"#7201a8\"], [0.3333333333333333, \"#9c179e\"], [0.4444444444444444, \"#bd3786\"], [0.5555555555555556, \"#d8576b\"], [0.6666666666666666, \"#ed7953\"], [0.7777777777777778, \"#fb9f3a\"], [0.8888888888888888, \"#fdca26\"], [1.0, \"#f0f921\"]], \"type\": \"contour\"}], \"contourcarpet\": [{\"colorbar\": {\"outlinewidth\": 0, \"ticks\": \"\"}, \"type\": \"contourcarpet\"}], \"heatmap\": [{\"colorbar\": {\"outlinewidth\": 0, \"ticks\": \"\"}, \"colorscale\": [[0.0, \"#0d0887\"], [0.1111111111111111, \"#46039f\"], [0.2222222222222222, \"#7201a8\"], [0.3333333333333333, \"#9c179e\"], [0.4444444444444444, \"#bd3786\"], [0.5555555555555556, \"#d8576b\"], [0.6666666666666666, \"#ed7953\"], [0.7777777777777778, \"#fb9f3a\"], [0.8888888888888888, \"#fdca26\"], [1.0, \"#f0f921\"]], \"type\": \"heatmap\"}], \"heatmapgl\": [{\"colorbar\": {\"outlinewidth\": 0, \"ticks\": \"\"}, \"colorscale\": [[0.0, \"#0d0887\"], [0.1111111111111111, \"#46039f\"], [0.2222222222222222, \"#7201a8\"], [0.3333333333333333, \"#9c179e\"], [0.4444444444444444, \"#bd3786\"], [0.5555555555555556, \"#d8576b\"], [0.6666666666666666, \"#ed7953\"], [0.7777777777777778, \"#fb9f3a\"], [0.8888888888888888, \"#fdca26\"], [1.0, \"#f0f921\"]], \"type\": \"heatmapgl\"}], \"histogram\": [{\"marker\": {\"colorbar\": {\"outlinewidth\": 0, \"ticks\": \"\"}}, \"type\": \"histogram\"}], \"histogram2d\": [{\"colorbar\": {\"outlinewidth\": 0, \"ticks\": \"\"}, \"colorscale\": [[0.0, \"#0d0887\"], [0.1111111111111111, \"#46039f\"], [0.2222222222222222, \"#7201a8\"], [0.3333333333333333, \"#9c179e\"], [0.4444444444444444, \"#bd3786\"], [0.5555555555555556, \"#d8576b\"], [0.6666666666666666, \"#ed7953\"], [0.7777777777777778, \"#fb9f3a\"], [0.8888888888888888, \"#fdca26\"], [1.0, \"#f0f921\"]], \"type\": \"histogram2d\"}], \"histogram2dcontour\": [{\"colorbar\": {\"outlinewidth\": 0, \"ticks\": \"\"}, \"colorscale\": [[0.0, \"#0d0887\"], [0.1111111111111111, \"#46039f\"], [0.2222222222222222, \"#7201a8\"], [0.3333333333333333, \"#9c179e\"], [0.4444444444444444, \"#bd3786\"], [0.5555555555555556, \"#d8576b\"], [0.6666666666666666, \"#ed7953\"], [0.7777777777777778, \"#fb9f3a\"], [0.8888888888888888, \"#fdca26\"], [1.0, \"#f0f921\"]], \"type\": \"histogram2dcontour\"}], \"mesh3d\": [{\"colorbar\": {\"outlinewidth\": 0, \"ticks\": \"\"}, \"type\": \"mesh3d\"}], \"parcoords\": [{\"line\": {\"colorbar\": {\"outlinewidth\": 0, \"ticks\": \"\"}}, \"type\": \"parcoords\"}], \"pie\": [{\"automargin\": true, \"type\": \"pie\"}], \"scatter\": [{\"marker\": {\"colorbar\": {\"outlinewidth\": 0, \"ticks\": \"\"}}, \"type\": \"scatter\"}], \"scatter3d\": [{\"line\": {\"colorbar\": {\"outlinewidth\": 0, \"ticks\": \"\"}}, \"marker\": {\"colorbar\": {\"outlinewidth\": 0, \"ticks\": \"\"}}, \"type\": \"scatter3d\"}], \"scattercarpet\": [{\"marker\": {\"colorbar\": {\"outlinewidth\": 0, \"ticks\": \"\"}}, \"type\": \"scattercarpet\"}], \"scattergeo\": [{\"marker\": {\"colorbar\": {\"outlinewidth\": 0, \"ticks\": \"\"}}, \"type\": \"scattergeo\"}], \"scattergl\": [{\"marker\": {\"colorbar\": {\"outlinewidth\": 0, \"ticks\": \"\"}}, \"type\": \"scattergl\"}], \"scattermapbox\": [{\"marker\": {\"colorbar\": {\"outlinewidth\": 0, \"ticks\": \"\"}}, \"type\": \"scattermapbox\"}], \"scatterpolar\": [{\"marker\": {\"colorbar\": {\"outlinewidth\": 0, \"ticks\": \"\"}}, \"type\": \"scatterpolar\"}], \"scatterpolargl\": [{\"marker\": {\"colorbar\": {\"outlinewidth\": 0, \"ticks\": \"\"}}, \"type\": \"scatterpolargl\"}], \"scatterternary\": [{\"marker\": {\"colorbar\": {\"outlinewidth\": 0, \"ticks\": \"\"}}, \"type\": \"scatterternary\"}], \"surface\": [{\"colorbar\": {\"outlinewidth\": 0, \"ticks\": \"\"}, \"colorscale\": [[0.0, \"#0d0887\"], [0.1111111111111111, \"#46039f\"], [0.2222222222222222, \"#7201a8\"], [0.3333333333333333, \"#9c179e\"], [0.4444444444444444, \"#bd3786\"], [0.5555555555555556, \"#d8576b\"], [0.6666666666666666, \"#ed7953\"], [0.7777777777777778, \"#fb9f3a\"], [0.8888888888888888, \"#fdca26\"], [1.0, \"#f0f921\"]], \"type\": \"surface\"}], \"table\": [{\"cells\": {\"fill\": {\"color\": \"#EBF0F8\"}, \"line\": {\"color\": \"white\"}}, \"header\": {\"fill\": {\"color\": \"#C8D4E3\"}, \"line\": {\"color\": \"white\"}}, \"type\": \"table\"}]}, \"layout\": {\"annotationdefaults\": {\"arrowcolor\": \"#2a3f5f\", \"arrowhead\": 0, \"arrowwidth\": 1}, \"coloraxis\": {\"colorbar\": {\"outlinewidth\": 0, \"ticks\": \"\"}}, \"colorscale\": {\"diverging\": [[0, \"#8e0152\"], [0.1, \"#c51b7d\"], [0.2, \"#de77ae\"], [0.3, \"#f1b6da\"], [0.4, \"#fde0ef\"], [0.5, \"#f7f7f7\"], [0.6, \"#e6f5d0\"], [0.7, \"#b8e186\"], [0.8, \"#7fbc41\"], [0.9, \"#4d9221\"], [1, \"#276419\"]], \"sequential\": [[0.0, \"#0d0887\"], [0.1111111111111111, \"#46039f\"], [0.2222222222222222, \"#7201a8\"], [0.3333333333333333, \"#9c179e\"], [0.4444444444444444, \"#bd3786\"], [0.5555555555555556, \"#d8576b\"], [0.6666666666666666, \"#ed7953\"], [0.7777777777777778, \"#fb9f3a\"], [0.8888888888888888, \"#fdca26\"], [1.0, \"#f0f921\"]], \"sequentialminus\": [[0.0, \"#0d0887\"], [0.1111111111111111, \"#46039f\"], [0.2222222222222222, \"#7201a8\"], [0.3333333333333333, \"#9c179e\"], [0.4444444444444444, \"#bd3786\"], [0.5555555555555556, \"#d8576b\"], [0.6666666666666666, \"#ed7953\"], [0.7777777777777778, \"#fb9f3a\"], [0.8888888888888888, \"#fdca26\"], [1.0, \"#f0f921\"]]}, \"colorway\": [\"#636efa\", \"#EF553B\", \"#00cc96\", \"#ab63fa\", \"#FFA15A\", \"#19d3f3\", \"#FF6692\", \"#B6E880\", \"#FF97FF\", \"#FECB52\"], \"font\": {\"color\": \"#2a3f5f\"}, \"geo\": {\"bgcolor\": \"white\", \"lakecolor\": \"white\", \"landcolor\": \"#E5ECF6\", \"showlakes\": true, \"showland\": true, \"subunitcolor\": \"white\"}, \"hoverlabel\": {\"align\": \"left\"}, \"hovermode\": \"closest\", \"mapbox\": {\"style\": \"light\"}, \"paper_bgcolor\": \"white\", \"plot_bgcolor\": \"#E5ECF6\", \"polar\": {\"angularaxis\": {\"gridcolor\": \"white\", \"linecolor\": \"white\", \"ticks\": \"\"}, \"bgcolor\": \"#E5ECF6\", \"radialaxis\": {\"gridcolor\": \"white\", \"linecolor\": \"white\", \"ticks\": \"\"}}, \"scene\": {\"xaxis\": {\"backgroundcolor\": \"#E5ECF6\", \"gridcolor\": \"white\", \"gridwidth\": 2, \"linecolor\": \"white\", \"showbackground\": true, \"ticks\": \"\", \"zerolinecolor\": \"white\"}, \"yaxis\": {\"backgroundcolor\": \"#E5ECF6\", \"gridcolor\": \"white\", \"gridwidth\": 2, \"linecolor\": \"white\", \"showbackground\": true, \"ticks\": \"\", \"zerolinecolor\": \"white\"}, \"zaxis\": {\"backgroundcolor\": \"#E5ECF6\", \"gridcolor\": \"white\", \"gridwidth\": 2, \"linecolor\": \"white\", \"showbackground\": true, \"ticks\": \"\", \"zerolinecolor\": \"white\"}}, \"shapedefaults\": {\"line\": {\"color\": \"#2a3f5f\"}}, \"ternary\": {\"aaxis\": {\"gridcolor\": \"white\", \"linecolor\": \"white\", \"ticks\": \"\"}, \"baxis\": {\"gridcolor\": \"white\", \"linecolor\": \"white\", \"ticks\": \"\"}, \"bgcolor\": \"#E5ECF6\", \"caxis\": {\"gridcolor\": \"white\", \"linecolor\": \"white\", \"ticks\": \"\"}}, \"title\": {\"x\": 0.05}, \"xaxis\": {\"automargin\": true, \"gridcolor\": \"white\", \"linecolor\": \"white\", \"ticks\": \"\", \"title\": {\"standoff\": 15}, \"zerolinecolor\": \"white\", \"zerolinewidth\": 2}, \"yaxis\": {\"automargin\": true, \"gridcolor\": \"white\", \"linecolor\": \"white\", \"ticks\": \"\", \"title\": {\"standoff\": 15}, \"zerolinecolor\": \"white\", \"zerolinewidth\": 2}}}, \"title\": {\"text\": \"\\u0422\\u043e\\u043f-5 \\u0436\\u0430\\u043d\\u0440\\u043e\\u0432 \\u0432 \\u0415\\u0432\\u0440\\u043e\\u043f\\u0435\"}, \"xaxis\": {\"anchor\": \"y\", \"domain\": [0.0, 1.0], \"title\": {\"text\": \"genre\"}}, \"yaxis\": {\"anchor\": \"x\", \"domain\": [0.0, 1.0], \"title\": {\"text\": \"eu_sales\"}}},\n",
              "                        {\"responsive\": true}\n",
              "                    ).then(function(){\n",
              "                            \n",
              "var gd = document.getElementById('9bed5937-0837-4562-838e-21749013a8ac');\n",
              "var x = new MutationObserver(function (mutations, observer) {{\n",
              "        var display = window.getComputedStyle(gd).display;\n",
              "        if (!display || display === 'none') {{\n",
              "            console.log([gd, 'removed!']);\n",
              "            Plotly.purge(gd);\n",
              "            observer.disconnect();\n",
              "        }}\n",
              "}});\n",
              "\n",
              "// Listen for the removal of the full notebook cells\n",
              "var notebookContainer = gd.closest('#notebook-container');\n",
              "if (notebookContainer) {{\n",
              "    x.observe(notebookContainer, {childList: true});\n",
              "}}\n",
              "\n",
              "// Listen for the clearing of the current output cell\n",
              "var outputEl = gd.closest('.output');\n",
              "if (outputEl) {{\n",
              "    x.observe(outputEl, {childList: true});\n",
              "}}\n",
              "\n",
              "                        })\n",
              "                };\n",
              "                });\n",
              "            </script>\n",
              "        </div>"
            ]
          },
          "metadata": {
            "tags": []
          }
        }
      ]
    },
    {
      "cell_type": "code",
      "metadata": {
        "colab": {
          "base_uri": "https://localhost:8080/",
          "height": 542
        },
        "id": "f28fw-DBaXSk",
        "outputId": "bb833717-2d19-4982-d8be-c9c156964e92"
      },
      "source": [
        "dr = df.groupby('genre', as_index=False)['jp_sales'].sum().sort_values(by='jp_sales').tail()\n",
        "\n",
        "fig = px.bar(dr, x='genre', y='jp_sales',\n",
        "             title='Топ-5 жанров в Японии')\n",
        "fig.show()"
      ],
      "execution_count": 37,
      "outputs": [
        {
          "output_type": "display_data",
          "data": {
            "text/html": [
              "<div>\n",
              "        \n",
              "        \n",
              "            <div id=\"5c044c6c-4a62-4c0c-96b9-01b1d18b93fa\" class=\"plotly-graph-div\" style=\"height:525px; width:100%;\"></div>\n",
              "            <script type=\"text/javascript\">\n",
              "                require([\"plotly\"], function(Plotly) {\n",
              "                    window.PLOTLYENV=window.PLOTLYENV || {};\n",
              "                    \n",
              "                if (document.getElementById(\"5c044c6c-4a62-4c0c-96b9-01b1d18b93fa\")) {\n",
              "                    Plotly.newPlot(\n",
              "                        '5c044c6c-4a62-4c0c-96b9-01b1d18b93fa',\n",
              "                        [{\"alignmentgroup\": \"True\", \"hoverlabel\": {\"namelength\": 0}, \"hovertemplate\": \"genre=%{x}<br>jp_sales=%{y}\", \"legendgroup\": \"\", \"marker\": {\"color\": \"#636efa\"}, \"name\": \"\", \"offsetgroup\": \"\", \"orientation\": \"v\", \"showlegend\": false, \"textposition\": \"auto\", \"type\": \"bar\", \"x\": [\"Shooter\", \"Fighting\", \"Misc\", \"Action\", \"Role-Playing\"], \"xaxis\": \"x\", \"y\": [6.609999999999996, 7.649999999999998, 9.19999999999999, 40.49000000000007, 51.040000000000035], \"yaxis\": \"y\"}],\n",
              "                        {\"barmode\": \"relative\", \"legend\": {\"tracegroupgap\": 0}, \"template\": {\"data\": {\"bar\": [{\"error_x\": {\"color\": \"#2a3f5f\"}, \"error_y\": {\"color\": \"#2a3f5f\"}, \"marker\": {\"line\": {\"color\": \"#E5ECF6\", \"width\": 0.5}}, \"type\": \"bar\"}], \"barpolar\": [{\"marker\": {\"line\": {\"color\": \"#E5ECF6\", \"width\": 0.5}}, \"type\": \"barpolar\"}], \"carpet\": [{\"aaxis\": {\"endlinecolor\": \"#2a3f5f\", \"gridcolor\": \"white\", \"linecolor\": \"white\", \"minorgridcolor\": \"white\", \"startlinecolor\": \"#2a3f5f\"}, \"baxis\": {\"endlinecolor\": \"#2a3f5f\", \"gridcolor\": \"white\", \"linecolor\": \"white\", \"minorgridcolor\": \"white\", \"startlinecolor\": \"#2a3f5f\"}, \"type\": \"carpet\"}], \"choropleth\": [{\"colorbar\": {\"outlinewidth\": 0, \"ticks\": \"\"}, \"type\": \"choropleth\"}], \"contour\": [{\"colorbar\": {\"outlinewidth\": 0, \"ticks\": \"\"}, \"colorscale\": [[0.0, \"#0d0887\"], [0.1111111111111111, \"#46039f\"], [0.2222222222222222, \"#7201a8\"], [0.3333333333333333, \"#9c179e\"], [0.4444444444444444, \"#bd3786\"], [0.5555555555555556, \"#d8576b\"], [0.6666666666666666, \"#ed7953\"], [0.7777777777777778, \"#fb9f3a\"], [0.8888888888888888, \"#fdca26\"], [1.0, \"#f0f921\"]], \"type\": \"contour\"}], \"contourcarpet\": [{\"colorbar\": {\"outlinewidth\": 0, \"ticks\": \"\"}, \"type\": \"contourcarpet\"}], \"heatmap\": [{\"colorbar\": {\"outlinewidth\": 0, \"ticks\": \"\"}, \"colorscale\": [[0.0, \"#0d0887\"], [0.1111111111111111, \"#46039f\"], [0.2222222222222222, \"#7201a8\"], [0.3333333333333333, \"#9c179e\"], [0.4444444444444444, \"#bd3786\"], [0.5555555555555556, \"#d8576b\"], [0.6666666666666666, \"#ed7953\"], [0.7777777777777778, \"#fb9f3a\"], [0.8888888888888888, \"#fdca26\"], [1.0, \"#f0f921\"]], \"type\": \"heatmap\"}], \"heatmapgl\": [{\"colorbar\": {\"outlinewidth\": 0, \"ticks\": \"\"}, \"colorscale\": [[0.0, \"#0d0887\"], [0.1111111111111111, \"#46039f\"], [0.2222222222222222, \"#7201a8\"], [0.3333333333333333, \"#9c179e\"], [0.4444444444444444, \"#bd3786\"], [0.5555555555555556, \"#d8576b\"], [0.6666666666666666, \"#ed7953\"], [0.7777777777777778, \"#fb9f3a\"], [0.8888888888888888, \"#fdca26\"], [1.0, \"#f0f921\"]], \"type\": \"heatmapgl\"}], \"histogram\": [{\"marker\": {\"colorbar\": {\"outlinewidth\": 0, \"ticks\": \"\"}}, \"type\": \"histogram\"}], \"histogram2d\": [{\"colorbar\": {\"outlinewidth\": 0, \"ticks\": \"\"}, \"colorscale\": [[0.0, \"#0d0887\"], [0.1111111111111111, \"#46039f\"], [0.2222222222222222, \"#7201a8\"], [0.3333333333333333, \"#9c179e\"], [0.4444444444444444, \"#bd3786\"], [0.5555555555555556, \"#d8576b\"], [0.6666666666666666, \"#ed7953\"], [0.7777777777777778, \"#fb9f3a\"], [0.8888888888888888, \"#fdca26\"], [1.0, \"#f0f921\"]], \"type\": \"histogram2d\"}], \"histogram2dcontour\": [{\"colorbar\": {\"outlinewidth\": 0, \"ticks\": \"\"}, \"colorscale\": [[0.0, \"#0d0887\"], [0.1111111111111111, \"#46039f\"], [0.2222222222222222, \"#7201a8\"], [0.3333333333333333, \"#9c179e\"], [0.4444444444444444, \"#bd3786\"], [0.5555555555555556, \"#d8576b\"], [0.6666666666666666, \"#ed7953\"], [0.7777777777777778, \"#fb9f3a\"], [0.8888888888888888, \"#fdca26\"], [1.0, \"#f0f921\"]], \"type\": \"histogram2dcontour\"}], \"mesh3d\": [{\"colorbar\": {\"outlinewidth\": 0, \"ticks\": \"\"}, \"type\": \"mesh3d\"}], \"parcoords\": [{\"line\": {\"colorbar\": {\"outlinewidth\": 0, \"ticks\": \"\"}}, \"type\": \"parcoords\"}], \"pie\": [{\"automargin\": true, \"type\": \"pie\"}], \"scatter\": [{\"marker\": {\"colorbar\": {\"outlinewidth\": 0, \"ticks\": \"\"}}, \"type\": \"scatter\"}], \"scatter3d\": [{\"line\": {\"colorbar\": {\"outlinewidth\": 0, \"ticks\": \"\"}}, \"marker\": {\"colorbar\": {\"outlinewidth\": 0, \"ticks\": \"\"}}, \"type\": \"scatter3d\"}], \"scattercarpet\": [{\"marker\": {\"colorbar\": {\"outlinewidth\": 0, \"ticks\": \"\"}}, \"type\": \"scattercarpet\"}], \"scattergeo\": [{\"marker\": {\"colorbar\": {\"outlinewidth\": 0, \"ticks\": \"\"}}, \"type\": \"scattergeo\"}], \"scattergl\": [{\"marker\": {\"colorbar\": {\"outlinewidth\": 0, \"ticks\": \"\"}}, \"type\": \"scattergl\"}], \"scattermapbox\": [{\"marker\": {\"colorbar\": {\"outlinewidth\": 0, \"ticks\": \"\"}}, \"type\": \"scattermapbox\"}], \"scatterpolar\": [{\"marker\": {\"colorbar\": {\"outlinewidth\": 0, \"ticks\": \"\"}}, \"type\": \"scatterpolar\"}], \"scatterpolargl\": [{\"marker\": {\"colorbar\": {\"outlinewidth\": 0, \"ticks\": \"\"}}, \"type\": \"scatterpolargl\"}], \"scatterternary\": [{\"marker\": {\"colorbar\": {\"outlinewidth\": 0, \"ticks\": \"\"}}, \"type\": \"scatterternary\"}], \"surface\": [{\"colorbar\": {\"outlinewidth\": 0, \"ticks\": \"\"}, \"colorscale\": [[0.0, \"#0d0887\"], [0.1111111111111111, \"#46039f\"], [0.2222222222222222, \"#7201a8\"], [0.3333333333333333, \"#9c179e\"], [0.4444444444444444, \"#bd3786\"], [0.5555555555555556, \"#d8576b\"], [0.6666666666666666, \"#ed7953\"], [0.7777777777777778, \"#fb9f3a\"], [0.8888888888888888, \"#fdca26\"], [1.0, \"#f0f921\"]], \"type\": \"surface\"}], \"table\": [{\"cells\": {\"fill\": {\"color\": \"#EBF0F8\"}, \"line\": {\"color\": \"white\"}}, \"header\": {\"fill\": {\"color\": \"#C8D4E3\"}, \"line\": {\"color\": \"white\"}}, \"type\": \"table\"}]}, \"layout\": {\"annotationdefaults\": {\"arrowcolor\": \"#2a3f5f\", \"arrowhead\": 0, \"arrowwidth\": 1}, \"coloraxis\": {\"colorbar\": {\"outlinewidth\": 0, \"ticks\": \"\"}}, \"colorscale\": {\"diverging\": [[0, \"#8e0152\"], [0.1, \"#c51b7d\"], [0.2, \"#de77ae\"], [0.3, \"#f1b6da\"], [0.4, \"#fde0ef\"], [0.5, \"#f7f7f7\"], [0.6, \"#e6f5d0\"], [0.7, \"#b8e186\"], [0.8, \"#7fbc41\"], [0.9, \"#4d9221\"], [1, \"#276419\"]], \"sequential\": [[0.0, \"#0d0887\"], [0.1111111111111111, \"#46039f\"], [0.2222222222222222, \"#7201a8\"], [0.3333333333333333, \"#9c179e\"], [0.4444444444444444, \"#bd3786\"], [0.5555555555555556, \"#d8576b\"], [0.6666666666666666, \"#ed7953\"], [0.7777777777777778, \"#fb9f3a\"], [0.8888888888888888, \"#fdca26\"], [1.0, \"#f0f921\"]], \"sequentialminus\": [[0.0, \"#0d0887\"], [0.1111111111111111, \"#46039f\"], [0.2222222222222222, \"#7201a8\"], [0.3333333333333333, \"#9c179e\"], [0.4444444444444444, \"#bd3786\"], [0.5555555555555556, \"#d8576b\"], [0.6666666666666666, \"#ed7953\"], [0.7777777777777778, \"#fb9f3a\"], [0.8888888888888888, \"#fdca26\"], [1.0, \"#f0f921\"]]}, \"colorway\": [\"#636efa\", \"#EF553B\", \"#00cc96\", \"#ab63fa\", \"#FFA15A\", \"#19d3f3\", \"#FF6692\", \"#B6E880\", \"#FF97FF\", \"#FECB52\"], \"font\": {\"color\": \"#2a3f5f\"}, \"geo\": {\"bgcolor\": \"white\", \"lakecolor\": \"white\", \"landcolor\": \"#E5ECF6\", \"showlakes\": true, \"showland\": true, \"subunitcolor\": \"white\"}, \"hoverlabel\": {\"align\": \"left\"}, \"hovermode\": \"closest\", \"mapbox\": {\"style\": \"light\"}, \"paper_bgcolor\": \"white\", \"plot_bgcolor\": \"#E5ECF6\", \"polar\": {\"angularaxis\": {\"gridcolor\": \"white\", \"linecolor\": \"white\", \"ticks\": \"\"}, \"bgcolor\": \"#E5ECF6\", \"radialaxis\": {\"gridcolor\": \"white\", \"linecolor\": \"white\", \"ticks\": \"\"}}, \"scene\": {\"xaxis\": {\"backgroundcolor\": \"#E5ECF6\", \"gridcolor\": \"white\", \"gridwidth\": 2, \"linecolor\": \"white\", \"showbackground\": true, \"ticks\": \"\", \"zerolinecolor\": \"white\"}, \"yaxis\": {\"backgroundcolor\": \"#E5ECF6\", \"gridcolor\": \"white\", \"gridwidth\": 2, \"linecolor\": \"white\", \"showbackground\": true, \"ticks\": \"\", \"zerolinecolor\": \"white\"}, \"zaxis\": {\"backgroundcolor\": \"#E5ECF6\", \"gridcolor\": \"white\", \"gridwidth\": 2, \"linecolor\": \"white\", \"showbackground\": true, \"ticks\": \"\", \"zerolinecolor\": \"white\"}}, \"shapedefaults\": {\"line\": {\"color\": \"#2a3f5f\"}}, \"ternary\": {\"aaxis\": {\"gridcolor\": \"white\", \"linecolor\": \"white\", \"ticks\": \"\"}, \"baxis\": {\"gridcolor\": \"white\", \"linecolor\": \"white\", \"ticks\": \"\"}, \"bgcolor\": \"#E5ECF6\", \"caxis\": {\"gridcolor\": \"white\", \"linecolor\": \"white\", \"ticks\": \"\"}}, \"title\": {\"x\": 0.05}, \"xaxis\": {\"automargin\": true, \"gridcolor\": \"white\", \"linecolor\": \"white\", \"ticks\": \"\", \"title\": {\"standoff\": 15}, \"zerolinecolor\": \"white\", \"zerolinewidth\": 2}, \"yaxis\": {\"automargin\": true, \"gridcolor\": \"white\", \"linecolor\": \"white\", \"ticks\": \"\", \"title\": {\"standoff\": 15}, \"zerolinecolor\": \"white\", \"zerolinewidth\": 2}}}, \"title\": {\"text\": \"\\u0422\\u043e\\u043f-5 \\u0436\\u0430\\u043d\\u0440\\u043e\\u0432 \\u0432 \\u042f\\u043f\\u043e\\u043d\\u0438\\u0438\"}, \"xaxis\": {\"anchor\": \"y\", \"domain\": [0.0, 1.0], \"title\": {\"text\": \"genre\"}}, \"yaxis\": {\"anchor\": \"x\", \"domain\": [0.0, 1.0], \"title\": {\"text\": \"jp_sales\"}}},\n",
              "                        {\"responsive\": true}\n",
              "                    ).then(function(){\n",
              "                            \n",
              "var gd = document.getElementById('5c044c6c-4a62-4c0c-96b9-01b1d18b93fa');\n",
              "var x = new MutationObserver(function (mutations, observer) {{\n",
              "        var display = window.getComputedStyle(gd).display;\n",
              "        if (!display || display === 'none') {{\n",
              "            console.log([gd, 'removed!']);\n",
              "            Plotly.purge(gd);\n",
              "            observer.disconnect();\n",
              "        }}\n",
              "}});\n",
              "\n",
              "// Listen for the removal of the full notebook cells\n",
              "var notebookContainer = gd.closest('#notebook-container');\n",
              "if (notebookContainer) {{\n",
              "    x.observe(notebookContainer, {childList: true});\n",
              "}}\n",
              "\n",
              "// Listen for the clearing of the current output cell\n",
              "var outputEl = gd.closest('.output');\n",
              "if (outputEl) {{\n",
              "    x.observe(outputEl, {childList: true});\n",
              "}}\n",
              "\n",
              "                        })\n",
              "                };\n",
              "                });\n",
              "            </script>\n",
              "        </div>"
            ]
          },
          "metadata": {
            "tags": []
          }
        }
      ]
    },
    {
      "cell_type": "markdown",
      "metadata": {
        "id": "CGQIIe_p38ha"
      },
      "source": [
        "В Европе и Северной Америке топ-5 жанров почти полностью совпадают - лидером является жанр Action, отличаются лишь 5 местом - в Европе это Racing, а в Америке - Misc\n",
        "\n",
        "Япония как всегда выделяется - на первом месте здесь жанр Role-Playing, чуть менее популярен лидирующий жанр в Европе и Америке - Action, далее ситуация схожа с остальными"
      ]
    },
    {
      "cell_type": "markdown",
      "metadata": {
        "id": "Q0DL9IbMAHNr"
      },
      "source": [
        "### Влияет ли рейтинг ESRB на продажи в отдельном регионе?"
      ]
    },
    {
      "cell_type": "code",
      "metadata": {
        "colab": {
          "base_uri": "https://localhost:8080/",
          "height": 542
        },
        "id": "eXVfJWz6ac6d",
        "outputId": "6fac27e8-4548-47b8-f905-e9c7fe02c04a"
      },
      "source": [
        "dr = df.groupby('rating', as_index=False)['na_sales'].sum().sort_values(by='na_sales')\n",
        "\n",
        "fig = px.bar(dr, x='rating', y='na_sales',\n",
        "             title='Зависимость продаж игр в Северной Америке от рейтинга ESRB')\n",
        "fig.show()"
      ],
      "execution_count": 38,
      "outputs": [
        {
          "output_type": "display_data",
          "data": {
            "text/html": [
              "<div>\n",
              "        \n",
              "        \n",
              "            <div id=\"e070f163-b1f8-495b-8a26-932360170ea7\" class=\"plotly-graph-div\" style=\"height:525px; width:100%;\"></div>\n",
              "            <script type=\"text/javascript\">\n",
              "                require([\"plotly\"], function(Plotly) {\n",
              "                    window.PLOTLYENV=window.PLOTLYENV || {};\n",
              "                    \n",
              "                if (document.getElementById(\"e070f163-b1f8-495b-8a26-932360170ea7\")) {\n",
              "                    Plotly.newPlot(\n",
              "                        'e070f163-b1f8-495b-8a26-932360170ea7',\n",
              "                        [{\"alignmentgroup\": \"True\", \"hoverlabel\": {\"namelength\": 0}, \"hovertemplate\": \"rating=%{x}<br>na_sales=%{y}\", \"legendgroup\": \"\", \"marker\": {\"color\": \"#636efa\"}, \"name\": \"\", \"offsetgroup\": \"\", \"orientation\": \"v\", \"showlegend\": false, \"textposition\": \"auto\", \"type\": \"bar\", \"x\": [\"T\", \"E10+\", \"E\", \"M\"], \"xaxis\": \"x\", \"y\": [49.79000000000001, 54.23999999999999, 79.05000000000007, 165.21000000000006], \"yaxis\": \"y\"}],\n",
              "                        {\"barmode\": \"relative\", \"legend\": {\"tracegroupgap\": 0}, \"template\": {\"data\": {\"bar\": [{\"error_x\": {\"color\": \"#2a3f5f\"}, \"error_y\": {\"color\": \"#2a3f5f\"}, \"marker\": {\"line\": {\"color\": \"#E5ECF6\", \"width\": 0.5}}, \"type\": \"bar\"}], \"barpolar\": [{\"marker\": {\"line\": {\"color\": \"#E5ECF6\", \"width\": 0.5}}, \"type\": \"barpolar\"}], \"carpet\": [{\"aaxis\": {\"endlinecolor\": \"#2a3f5f\", \"gridcolor\": \"white\", \"linecolor\": \"white\", \"minorgridcolor\": \"white\", \"startlinecolor\": \"#2a3f5f\"}, \"baxis\": {\"endlinecolor\": \"#2a3f5f\", \"gridcolor\": \"white\", \"linecolor\": \"white\", \"minorgridcolor\": \"white\", \"startlinecolor\": \"#2a3f5f\"}, \"type\": \"carpet\"}], \"choropleth\": [{\"colorbar\": {\"outlinewidth\": 0, \"ticks\": \"\"}, \"type\": \"choropleth\"}], \"contour\": [{\"colorbar\": {\"outlinewidth\": 0, \"ticks\": \"\"}, \"colorscale\": [[0.0, \"#0d0887\"], [0.1111111111111111, \"#46039f\"], [0.2222222222222222, \"#7201a8\"], [0.3333333333333333, \"#9c179e\"], [0.4444444444444444, \"#bd3786\"], [0.5555555555555556, \"#d8576b\"], [0.6666666666666666, \"#ed7953\"], [0.7777777777777778, \"#fb9f3a\"], [0.8888888888888888, \"#fdca26\"], [1.0, \"#f0f921\"]], \"type\": \"contour\"}], \"contourcarpet\": [{\"colorbar\": {\"outlinewidth\": 0, \"ticks\": \"\"}, \"type\": \"contourcarpet\"}], \"heatmap\": [{\"colorbar\": {\"outlinewidth\": 0, \"ticks\": \"\"}, \"colorscale\": [[0.0, \"#0d0887\"], [0.1111111111111111, \"#46039f\"], [0.2222222222222222, \"#7201a8\"], [0.3333333333333333, \"#9c179e\"], [0.4444444444444444, \"#bd3786\"], [0.5555555555555556, \"#d8576b\"], [0.6666666666666666, \"#ed7953\"], [0.7777777777777778, \"#fb9f3a\"], [0.8888888888888888, \"#fdca26\"], [1.0, \"#f0f921\"]], \"type\": \"heatmap\"}], \"heatmapgl\": [{\"colorbar\": {\"outlinewidth\": 0, \"ticks\": \"\"}, \"colorscale\": [[0.0, \"#0d0887\"], [0.1111111111111111, \"#46039f\"], [0.2222222222222222, \"#7201a8\"], [0.3333333333333333, \"#9c179e\"], [0.4444444444444444, \"#bd3786\"], [0.5555555555555556, \"#d8576b\"], [0.6666666666666666, \"#ed7953\"], [0.7777777777777778, \"#fb9f3a\"], [0.8888888888888888, \"#fdca26\"], [1.0, \"#f0f921\"]], \"type\": \"heatmapgl\"}], \"histogram\": [{\"marker\": {\"colorbar\": {\"outlinewidth\": 0, \"ticks\": \"\"}}, \"type\": \"histogram\"}], \"histogram2d\": [{\"colorbar\": {\"outlinewidth\": 0, \"ticks\": \"\"}, \"colorscale\": [[0.0, \"#0d0887\"], [0.1111111111111111, \"#46039f\"], [0.2222222222222222, \"#7201a8\"], [0.3333333333333333, \"#9c179e\"], [0.4444444444444444, \"#bd3786\"], [0.5555555555555556, \"#d8576b\"], [0.6666666666666666, \"#ed7953\"], [0.7777777777777778, \"#fb9f3a\"], [0.8888888888888888, \"#fdca26\"], [1.0, \"#f0f921\"]], \"type\": \"histogram2d\"}], \"histogram2dcontour\": [{\"colorbar\": {\"outlinewidth\": 0, \"ticks\": \"\"}, \"colorscale\": [[0.0, \"#0d0887\"], [0.1111111111111111, \"#46039f\"], [0.2222222222222222, \"#7201a8\"], [0.3333333333333333, \"#9c179e\"], [0.4444444444444444, \"#bd3786\"], [0.5555555555555556, \"#d8576b\"], [0.6666666666666666, \"#ed7953\"], [0.7777777777777778, \"#fb9f3a\"], [0.8888888888888888, \"#fdca26\"], [1.0, \"#f0f921\"]], \"type\": \"histogram2dcontour\"}], \"mesh3d\": [{\"colorbar\": {\"outlinewidth\": 0, \"ticks\": \"\"}, \"type\": \"mesh3d\"}], \"parcoords\": [{\"line\": {\"colorbar\": {\"outlinewidth\": 0, \"ticks\": \"\"}}, \"type\": \"parcoords\"}], \"pie\": [{\"automargin\": true, \"type\": \"pie\"}], \"scatter\": [{\"marker\": {\"colorbar\": {\"outlinewidth\": 0, \"ticks\": \"\"}}, \"type\": \"scatter\"}], \"scatter3d\": [{\"line\": {\"colorbar\": {\"outlinewidth\": 0, \"ticks\": \"\"}}, \"marker\": {\"colorbar\": {\"outlinewidth\": 0, \"ticks\": \"\"}}, \"type\": \"scatter3d\"}], \"scattercarpet\": [{\"marker\": {\"colorbar\": {\"outlinewidth\": 0, \"ticks\": \"\"}}, \"type\": \"scattercarpet\"}], \"scattergeo\": [{\"marker\": {\"colorbar\": {\"outlinewidth\": 0, \"ticks\": \"\"}}, \"type\": \"scattergeo\"}], \"scattergl\": [{\"marker\": {\"colorbar\": {\"outlinewidth\": 0, \"ticks\": \"\"}}, \"type\": \"scattergl\"}], \"scattermapbox\": [{\"marker\": {\"colorbar\": {\"outlinewidth\": 0, \"ticks\": \"\"}}, \"type\": \"scattermapbox\"}], \"scatterpolar\": [{\"marker\": {\"colorbar\": {\"outlinewidth\": 0, \"ticks\": \"\"}}, \"type\": \"scatterpolar\"}], \"scatterpolargl\": [{\"marker\": {\"colorbar\": {\"outlinewidth\": 0, \"ticks\": \"\"}}, \"type\": \"scatterpolargl\"}], \"scatterternary\": [{\"marker\": {\"colorbar\": {\"outlinewidth\": 0, \"ticks\": \"\"}}, \"type\": \"scatterternary\"}], \"surface\": [{\"colorbar\": {\"outlinewidth\": 0, \"ticks\": \"\"}, \"colorscale\": [[0.0, \"#0d0887\"], [0.1111111111111111, \"#46039f\"], [0.2222222222222222, \"#7201a8\"], [0.3333333333333333, \"#9c179e\"], [0.4444444444444444, \"#bd3786\"], [0.5555555555555556, \"#d8576b\"], [0.6666666666666666, \"#ed7953\"], [0.7777777777777778, \"#fb9f3a\"], [0.8888888888888888, \"#fdca26\"], [1.0, \"#f0f921\"]], \"type\": \"surface\"}], \"table\": [{\"cells\": {\"fill\": {\"color\": \"#EBF0F8\"}, \"line\": {\"color\": \"white\"}}, \"header\": {\"fill\": {\"color\": \"#C8D4E3\"}, \"line\": {\"color\": \"white\"}}, \"type\": \"table\"}]}, \"layout\": {\"annotationdefaults\": {\"arrowcolor\": \"#2a3f5f\", \"arrowhead\": 0, \"arrowwidth\": 1}, \"coloraxis\": {\"colorbar\": {\"outlinewidth\": 0, \"ticks\": \"\"}}, \"colorscale\": {\"diverging\": [[0, \"#8e0152\"], [0.1, \"#c51b7d\"], [0.2, \"#de77ae\"], [0.3, \"#f1b6da\"], [0.4, \"#fde0ef\"], [0.5, \"#f7f7f7\"], [0.6, \"#e6f5d0\"], [0.7, \"#b8e186\"], [0.8, \"#7fbc41\"], [0.9, \"#4d9221\"], [1, \"#276419\"]], \"sequential\": [[0.0, \"#0d0887\"], [0.1111111111111111, \"#46039f\"], [0.2222222222222222, \"#7201a8\"], [0.3333333333333333, \"#9c179e\"], [0.4444444444444444, \"#bd3786\"], [0.5555555555555556, \"#d8576b\"], [0.6666666666666666, \"#ed7953\"], [0.7777777777777778, \"#fb9f3a\"], [0.8888888888888888, \"#fdca26\"], [1.0, \"#f0f921\"]], \"sequentialminus\": [[0.0, \"#0d0887\"], [0.1111111111111111, \"#46039f\"], [0.2222222222222222, \"#7201a8\"], [0.3333333333333333, \"#9c179e\"], [0.4444444444444444, \"#bd3786\"], [0.5555555555555556, \"#d8576b\"], [0.6666666666666666, \"#ed7953\"], [0.7777777777777778, \"#fb9f3a\"], [0.8888888888888888, \"#fdca26\"], [1.0, \"#f0f921\"]]}, \"colorway\": [\"#636efa\", \"#EF553B\", \"#00cc96\", \"#ab63fa\", \"#FFA15A\", \"#19d3f3\", \"#FF6692\", \"#B6E880\", \"#FF97FF\", \"#FECB52\"], \"font\": {\"color\": \"#2a3f5f\"}, \"geo\": {\"bgcolor\": \"white\", \"lakecolor\": \"white\", \"landcolor\": \"#E5ECF6\", \"showlakes\": true, \"showland\": true, \"subunitcolor\": \"white\"}, \"hoverlabel\": {\"align\": \"left\"}, \"hovermode\": \"closest\", \"mapbox\": {\"style\": \"light\"}, \"paper_bgcolor\": \"white\", \"plot_bgcolor\": \"#E5ECF6\", \"polar\": {\"angularaxis\": {\"gridcolor\": \"white\", \"linecolor\": \"white\", \"ticks\": \"\"}, \"bgcolor\": \"#E5ECF6\", \"radialaxis\": {\"gridcolor\": \"white\", \"linecolor\": \"white\", \"ticks\": \"\"}}, \"scene\": {\"xaxis\": {\"backgroundcolor\": \"#E5ECF6\", \"gridcolor\": \"white\", \"gridwidth\": 2, \"linecolor\": \"white\", \"showbackground\": true, \"ticks\": \"\", \"zerolinecolor\": \"white\"}, \"yaxis\": {\"backgroundcolor\": \"#E5ECF6\", \"gridcolor\": \"white\", \"gridwidth\": 2, \"linecolor\": \"white\", \"showbackground\": true, \"ticks\": \"\", \"zerolinecolor\": \"white\"}, \"zaxis\": {\"backgroundcolor\": \"#E5ECF6\", \"gridcolor\": \"white\", \"gridwidth\": 2, \"linecolor\": \"white\", \"showbackground\": true, \"ticks\": \"\", \"zerolinecolor\": \"white\"}}, \"shapedefaults\": {\"line\": {\"color\": \"#2a3f5f\"}}, \"ternary\": {\"aaxis\": {\"gridcolor\": \"white\", \"linecolor\": \"white\", \"ticks\": \"\"}, \"baxis\": {\"gridcolor\": \"white\", \"linecolor\": \"white\", \"ticks\": \"\"}, \"bgcolor\": \"#E5ECF6\", \"caxis\": {\"gridcolor\": \"white\", \"linecolor\": \"white\", \"ticks\": \"\"}}, \"title\": {\"x\": 0.05}, \"xaxis\": {\"automargin\": true, \"gridcolor\": \"white\", \"linecolor\": \"white\", \"ticks\": \"\", \"title\": {\"standoff\": 15}, \"zerolinecolor\": \"white\", \"zerolinewidth\": 2}, \"yaxis\": {\"automargin\": true, \"gridcolor\": \"white\", \"linecolor\": \"white\", \"ticks\": \"\", \"title\": {\"standoff\": 15}, \"zerolinecolor\": \"white\", \"zerolinewidth\": 2}}}, \"title\": {\"text\": \"\\u0417\\u0430\\u0432\\u0438\\u0441\\u0438\\u043c\\u043e\\u0441\\u0442\\u044c \\u043f\\u0440\\u043e\\u0434\\u0430\\u0436 \\u0438\\u0433\\u0440 \\u0432 \\u0421\\u0435\\u0432\\u0435\\u0440\\u043d\\u043e\\u0439 \\u0410\\u043c\\u0435\\u0440\\u0438\\u043a\\u0435 \\u043e\\u0442 \\u0440\\u0435\\u0439\\u0442\\u0438\\u043d\\u0433\\u0430 ESRB\"}, \"xaxis\": {\"anchor\": \"y\", \"domain\": [0.0, 1.0], \"title\": {\"text\": \"rating\"}}, \"yaxis\": {\"anchor\": \"x\", \"domain\": [0.0, 1.0], \"title\": {\"text\": \"na_sales\"}}},\n",
              "                        {\"responsive\": true}\n",
              "                    ).then(function(){\n",
              "                            \n",
              "var gd = document.getElementById('e070f163-b1f8-495b-8a26-932360170ea7');\n",
              "var x = new MutationObserver(function (mutations, observer) {{\n",
              "        var display = window.getComputedStyle(gd).display;\n",
              "        if (!display || display === 'none') {{\n",
              "            console.log([gd, 'removed!']);\n",
              "            Plotly.purge(gd);\n",
              "            observer.disconnect();\n",
              "        }}\n",
              "}});\n",
              "\n",
              "// Listen for the removal of the full notebook cells\n",
              "var notebookContainer = gd.closest('#notebook-container');\n",
              "if (notebookContainer) {{\n",
              "    x.observe(notebookContainer, {childList: true});\n",
              "}}\n",
              "\n",
              "// Listen for the clearing of the current output cell\n",
              "var outputEl = gd.closest('.output');\n",
              "if (outputEl) {{\n",
              "    x.observe(outputEl, {childList: true});\n",
              "}}\n",
              "\n",
              "                        })\n",
              "                };\n",
              "                });\n",
              "            </script>\n",
              "        </div>"
            ]
          },
          "metadata": {
            "tags": []
          }
        }
      ]
    },
    {
      "cell_type": "code",
      "metadata": {
        "colab": {
          "base_uri": "https://localhost:8080/",
          "height": 542
        },
        "id": "lnSUvC8Ba1fu",
        "outputId": "ee112c2a-5eca-49ad-b62e-d9c681e1cb5d"
      },
      "source": [
        "dr = df.groupby('rating', as_index=False)['eu_sales'].sum().sort_values(by='eu_sales')\n",
        "\n",
        "fig = px.bar(dr, x='rating', y='eu_sales',\n",
        "             title='Зависимость продаж игр в Европе от рейтинга ESRB')\n",
        "fig.show()"
      ],
      "execution_count": 39,
      "outputs": [
        {
          "output_type": "display_data",
          "data": {
            "text/html": [
              "<div>\n",
              "        \n",
              "        \n",
              "            <div id=\"88f2794b-265a-4e25-bdc3-0ce561bb0ac4\" class=\"plotly-graph-div\" style=\"height:525px; width:100%;\"></div>\n",
              "            <script type=\"text/javascript\">\n",
              "                require([\"plotly\"], function(Plotly) {\n",
              "                    window.PLOTLYENV=window.PLOTLYENV || {};\n",
              "                    \n",
              "                if (document.getElementById(\"88f2794b-265a-4e25-bdc3-0ce561bb0ac4\")) {\n",
              "                    Plotly.newPlot(\n",
              "                        '88f2794b-265a-4e25-bdc3-0ce561bb0ac4',\n",
              "                        [{\"alignmentgroup\": \"True\", \"hoverlabel\": {\"namelength\": 0}, \"hovertemplate\": \"rating=%{x}<br>eu_sales=%{y}\", \"legendgroup\": \"\", \"marker\": {\"color\": \"#636efa\"}, \"name\": \"\", \"offsetgroup\": \"\", \"orientation\": \"v\", \"showlegend\": false, \"textposition\": \"auto\", \"type\": \"bar\", \"x\": [\"T\", \"E10+\", \"E\", \"M\"], \"xaxis\": \"x\", \"y\": [41.94999999999996, 42.69000000000003, 83.3600000000002, 145.3200000000002], \"yaxis\": \"y\"}],\n",
              "                        {\"barmode\": \"relative\", \"legend\": {\"tracegroupgap\": 0}, \"template\": {\"data\": {\"bar\": [{\"error_x\": {\"color\": \"#2a3f5f\"}, \"error_y\": {\"color\": \"#2a3f5f\"}, \"marker\": {\"line\": {\"color\": \"#E5ECF6\", \"width\": 0.5}}, \"type\": \"bar\"}], \"barpolar\": [{\"marker\": {\"line\": {\"color\": \"#E5ECF6\", \"width\": 0.5}}, \"type\": \"barpolar\"}], \"carpet\": [{\"aaxis\": {\"endlinecolor\": \"#2a3f5f\", \"gridcolor\": \"white\", \"linecolor\": \"white\", \"minorgridcolor\": \"white\", \"startlinecolor\": \"#2a3f5f\"}, \"baxis\": {\"endlinecolor\": \"#2a3f5f\", \"gridcolor\": \"white\", \"linecolor\": \"white\", \"minorgridcolor\": \"white\", \"startlinecolor\": \"#2a3f5f\"}, \"type\": \"carpet\"}], \"choropleth\": [{\"colorbar\": {\"outlinewidth\": 0, \"ticks\": \"\"}, \"type\": \"choropleth\"}], \"contour\": [{\"colorbar\": {\"outlinewidth\": 0, \"ticks\": \"\"}, \"colorscale\": [[0.0, \"#0d0887\"], [0.1111111111111111, \"#46039f\"], [0.2222222222222222, \"#7201a8\"], [0.3333333333333333, \"#9c179e\"], [0.4444444444444444, \"#bd3786\"], [0.5555555555555556, \"#d8576b\"], [0.6666666666666666, \"#ed7953\"], [0.7777777777777778, \"#fb9f3a\"], [0.8888888888888888, \"#fdca26\"], [1.0, \"#f0f921\"]], \"type\": \"contour\"}], \"contourcarpet\": [{\"colorbar\": {\"outlinewidth\": 0, \"ticks\": \"\"}, \"type\": \"contourcarpet\"}], \"heatmap\": [{\"colorbar\": {\"outlinewidth\": 0, \"ticks\": \"\"}, \"colorscale\": [[0.0, \"#0d0887\"], [0.1111111111111111, \"#46039f\"], [0.2222222222222222, \"#7201a8\"], [0.3333333333333333, \"#9c179e\"], [0.4444444444444444, \"#bd3786\"], [0.5555555555555556, \"#d8576b\"], [0.6666666666666666, \"#ed7953\"], [0.7777777777777778, \"#fb9f3a\"], [0.8888888888888888, \"#fdca26\"], [1.0, \"#f0f921\"]], \"type\": \"heatmap\"}], \"heatmapgl\": [{\"colorbar\": {\"outlinewidth\": 0, \"ticks\": \"\"}, \"colorscale\": [[0.0, \"#0d0887\"], [0.1111111111111111, \"#46039f\"], [0.2222222222222222, \"#7201a8\"], [0.3333333333333333, \"#9c179e\"], [0.4444444444444444, \"#bd3786\"], [0.5555555555555556, \"#d8576b\"], [0.6666666666666666, \"#ed7953\"], [0.7777777777777778, \"#fb9f3a\"], [0.8888888888888888, \"#fdca26\"], [1.0, \"#f0f921\"]], \"type\": \"heatmapgl\"}], \"histogram\": [{\"marker\": {\"colorbar\": {\"outlinewidth\": 0, \"ticks\": \"\"}}, \"type\": \"histogram\"}], \"histogram2d\": [{\"colorbar\": {\"outlinewidth\": 0, \"ticks\": \"\"}, \"colorscale\": [[0.0, \"#0d0887\"], [0.1111111111111111, \"#46039f\"], [0.2222222222222222, \"#7201a8\"], [0.3333333333333333, \"#9c179e\"], [0.4444444444444444, \"#bd3786\"], [0.5555555555555556, \"#d8576b\"], [0.6666666666666666, \"#ed7953\"], [0.7777777777777778, \"#fb9f3a\"], [0.8888888888888888, \"#fdca26\"], [1.0, \"#f0f921\"]], \"type\": \"histogram2d\"}], \"histogram2dcontour\": [{\"colorbar\": {\"outlinewidth\": 0, \"ticks\": \"\"}, \"colorscale\": [[0.0, \"#0d0887\"], [0.1111111111111111, \"#46039f\"], [0.2222222222222222, \"#7201a8\"], [0.3333333333333333, \"#9c179e\"], [0.4444444444444444, \"#bd3786\"], [0.5555555555555556, \"#d8576b\"], [0.6666666666666666, \"#ed7953\"], [0.7777777777777778, \"#fb9f3a\"], [0.8888888888888888, \"#fdca26\"], [1.0, \"#f0f921\"]], \"type\": \"histogram2dcontour\"}], \"mesh3d\": [{\"colorbar\": {\"outlinewidth\": 0, \"ticks\": \"\"}, \"type\": \"mesh3d\"}], \"parcoords\": [{\"line\": {\"colorbar\": {\"outlinewidth\": 0, \"ticks\": \"\"}}, \"type\": \"parcoords\"}], \"pie\": [{\"automargin\": true, \"type\": \"pie\"}], \"scatter\": [{\"marker\": {\"colorbar\": {\"outlinewidth\": 0, \"ticks\": \"\"}}, \"type\": \"scatter\"}], \"scatter3d\": [{\"line\": {\"colorbar\": {\"outlinewidth\": 0, \"ticks\": \"\"}}, \"marker\": {\"colorbar\": {\"outlinewidth\": 0, \"ticks\": \"\"}}, \"type\": \"scatter3d\"}], \"scattercarpet\": [{\"marker\": {\"colorbar\": {\"outlinewidth\": 0, \"ticks\": \"\"}}, \"type\": \"scattercarpet\"}], \"scattergeo\": [{\"marker\": {\"colorbar\": {\"outlinewidth\": 0, \"ticks\": \"\"}}, \"type\": \"scattergeo\"}], \"scattergl\": [{\"marker\": {\"colorbar\": {\"outlinewidth\": 0, \"ticks\": \"\"}}, \"type\": \"scattergl\"}], \"scattermapbox\": [{\"marker\": {\"colorbar\": {\"outlinewidth\": 0, \"ticks\": \"\"}}, \"type\": \"scattermapbox\"}], \"scatterpolar\": [{\"marker\": {\"colorbar\": {\"outlinewidth\": 0, \"ticks\": \"\"}}, \"type\": \"scatterpolar\"}], \"scatterpolargl\": [{\"marker\": {\"colorbar\": {\"outlinewidth\": 0, \"ticks\": \"\"}}, \"type\": \"scatterpolargl\"}], \"scatterternary\": [{\"marker\": {\"colorbar\": {\"outlinewidth\": 0, \"ticks\": \"\"}}, \"type\": \"scatterternary\"}], \"surface\": [{\"colorbar\": {\"outlinewidth\": 0, \"ticks\": \"\"}, \"colorscale\": [[0.0, \"#0d0887\"], [0.1111111111111111, \"#46039f\"], [0.2222222222222222, \"#7201a8\"], [0.3333333333333333, \"#9c179e\"], [0.4444444444444444, \"#bd3786\"], [0.5555555555555556, \"#d8576b\"], [0.6666666666666666, \"#ed7953\"], [0.7777777777777778, \"#fb9f3a\"], [0.8888888888888888, \"#fdca26\"], [1.0, \"#f0f921\"]], \"type\": \"surface\"}], \"table\": [{\"cells\": {\"fill\": {\"color\": \"#EBF0F8\"}, \"line\": {\"color\": \"white\"}}, \"header\": {\"fill\": {\"color\": \"#C8D4E3\"}, \"line\": {\"color\": \"white\"}}, \"type\": \"table\"}]}, \"layout\": {\"annotationdefaults\": {\"arrowcolor\": \"#2a3f5f\", \"arrowhead\": 0, \"arrowwidth\": 1}, \"coloraxis\": {\"colorbar\": {\"outlinewidth\": 0, \"ticks\": \"\"}}, \"colorscale\": {\"diverging\": [[0, \"#8e0152\"], [0.1, \"#c51b7d\"], [0.2, \"#de77ae\"], [0.3, \"#f1b6da\"], [0.4, \"#fde0ef\"], [0.5, \"#f7f7f7\"], [0.6, \"#e6f5d0\"], [0.7, \"#b8e186\"], [0.8, \"#7fbc41\"], [0.9, \"#4d9221\"], [1, \"#276419\"]], \"sequential\": [[0.0, \"#0d0887\"], [0.1111111111111111, \"#46039f\"], [0.2222222222222222, \"#7201a8\"], [0.3333333333333333, \"#9c179e\"], [0.4444444444444444, \"#bd3786\"], [0.5555555555555556, \"#d8576b\"], [0.6666666666666666, \"#ed7953\"], [0.7777777777777778, \"#fb9f3a\"], [0.8888888888888888, \"#fdca26\"], [1.0, \"#f0f921\"]], \"sequentialminus\": [[0.0, \"#0d0887\"], [0.1111111111111111, \"#46039f\"], [0.2222222222222222, \"#7201a8\"], [0.3333333333333333, \"#9c179e\"], [0.4444444444444444, \"#bd3786\"], [0.5555555555555556, \"#d8576b\"], [0.6666666666666666, \"#ed7953\"], [0.7777777777777778, \"#fb9f3a\"], [0.8888888888888888, \"#fdca26\"], [1.0, \"#f0f921\"]]}, \"colorway\": [\"#636efa\", \"#EF553B\", \"#00cc96\", \"#ab63fa\", \"#FFA15A\", \"#19d3f3\", \"#FF6692\", \"#B6E880\", \"#FF97FF\", \"#FECB52\"], \"font\": {\"color\": \"#2a3f5f\"}, \"geo\": {\"bgcolor\": \"white\", \"lakecolor\": \"white\", \"landcolor\": \"#E5ECF6\", \"showlakes\": true, \"showland\": true, \"subunitcolor\": \"white\"}, \"hoverlabel\": {\"align\": \"left\"}, \"hovermode\": \"closest\", \"mapbox\": {\"style\": \"light\"}, \"paper_bgcolor\": \"white\", \"plot_bgcolor\": \"#E5ECF6\", \"polar\": {\"angularaxis\": {\"gridcolor\": \"white\", \"linecolor\": \"white\", \"ticks\": \"\"}, \"bgcolor\": \"#E5ECF6\", \"radialaxis\": {\"gridcolor\": \"white\", \"linecolor\": \"white\", \"ticks\": \"\"}}, \"scene\": {\"xaxis\": {\"backgroundcolor\": \"#E5ECF6\", \"gridcolor\": \"white\", \"gridwidth\": 2, \"linecolor\": \"white\", \"showbackground\": true, \"ticks\": \"\", \"zerolinecolor\": \"white\"}, \"yaxis\": {\"backgroundcolor\": \"#E5ECF6\", \"gridcolor\": \"white\", \"gridwidth\": 2, \"linecolor\": \"white\", \"showbackground\": true, \"ticks\": \"\", \"zerolinecolor\": \"white\"}, \"zaxis\": {\"backgroundcolor\": \"#E5ECF6\", \"gridcolor\": \"white\", \"gridwidth\": 2, \"linecolor\": \"white\", \"showbackground\": true, \"ticks\": \"\", \"zerolinecolor\": \"white\"}}, \"shapedefaults\": {\"line\": {\"color\": \"#2a3f5f\"}}, \"ternary\": {\"aaxis\": {\"gridcolor\": \"white\", \"linecolor\": \"white\", \"ticks\": \"\"}, \"baxis\": {\"gridcolor\": \"white\", \"linecolor\": \"white\", \"ticks\": \"\"}, \"bgcolor\": \"#E5ECF6\", \"caxis\": {\"gridcolor\": \"white\", \"linecolor\": \"white\", \"ticks\": \"\"}}, \"title\": {\"x\": 0.05}, \"xaxis\": {\"automargin\": true, \"gridcolor\": \"white\", \"linecolor\": \"white\", \"ticks\": \"\", \"title\": {\"standoff\": 15}, \"zerolinecolor\": \"white\", \"zerolinewidth\": 2}, \"yaxis\": {\"automargin\": true, \"gridcolor\": \"white\", \"linecolor\": \"white\", \"ticks\": \"\", \"title\": {\"standoff\": 15}, \"zerolinecolor\": \"white\", \"zerolinewidth\": 2}}}, \"title\": {\"text\": \"\\u0417\\u0430\\u0432\\u0438\\u0441\\u0438\\u043c\\u043e\\u0441\\u0442\\u044c \\u043f\\u0440\\u043e\\u0434\\u0430\\u0436 \\u0438\\u0433\\u0440 \\u0432 \\u0415\\u0432\\u0440\\u043e\\u043f\\u0435 \\u043e\\u0442 \\u0440\\u0435\\u0439\\u0442\\u0438\\u043d\\u0433\\u0430 ESRB\"}, \"xaxis\": {\"anchor\": \"y\", \"domain\": [0.0, 1.0], \"title\": {\"text\": \"rating\"}}, \"yaxis\": {\"anchor\": \"x\", \"domain\": [0.0, 1.0], \"title\": {\"text\": \"eu_sales\"}}},\n",
              "                        {\"responsive\": true}\n",
              "                    ).then(function(){\n",
              "                            \n",
              "var gd = document.getElementById('88f2794b-265a-4e25-bdc3-0ce561bb0ac4');\n",
              "var x = new MutationObserver(function (mutations, observer) {{\n",
              "        var display = window.getComputedStyle(gd).display;\n",
              "        if (!display || display === 'none') {{\n",
              "            console.log([gd, 'removed!']);\n",
              "            Plotly.purge(gd);\n",
              "            observer.disconnect();\n",
              "        }}\n",
              "}});\n",
              "\n",
              "// Listen for the removal of the full notebook cells\n",
              "var notebookContainer = gd.closest('#notebook-container');\n",
              "if (notebookContainer) {{\n",
              "    x.observe(notebookContainer, {childList: true});\n",
              "}}\n",
              "\n",
              "// Listen for the clearing of the current output cell\n",
              "var outputEl = gd.closest('.output');\n",
              "if (outputEl) {{\n",
              "    x.observe(outputEl, {childList: true});\n",
              "}}\n",
              "\n",
              "                        })\n",
              "                };\n",
              "                });\n",
              "            </script>\n",
              "        </div>"
            ]
          },
          "metadata": {
            "tags": []
          }
        }
      ]
    },
    {
      "cell_type": "code",
      "metadata": {
        "colab": {
          "base_uri": "https://localhost:8080/",
          "height": 542
        },
        "id": "t4up0X3Ga65W",
        "outputId": "9343dfed-944d-4e3b-f90e-a1a529c2b230"
      },
      "source": [
        "dr = df.groupby('rating', as_index=False)['jp_sales'].sum().sort_values(by='jp_sales')\n",
        "\n",
        "fig = px.bar(dr, x='rating', y='jp_sales',\n",
        "             title='Зависимость продаж игр в Японии от рейтинга ESRB')\n",
        "fig.show()"
      ],
      "execution_count": 40,
      "outputs": [
        {
          "output_type": "display_data",
          "data": {
            "text/html": [
              "<div>\n",
              "        \n",
              "        \n",
              "            <div id=\"b996d618-a0d8-48e0-81c1-db8c8e21689d\" class=\"plotly-graph-div\" style=\"height:525px; width:100%;\"></div>\n",
              "            <script type=\"text/javascript\">\n",
              "                require([\"plotly\"], function(Plotly) {\n",
              "                    window.PLOTLYENV=window.PLOTLYENV || {};\n",
              "                    \n",
              "                if (document.getElementById(\"b996d618-a0d8-48e0-81c1-db8c8e21689d\")) {\n",
              "                    Plotly.newPlot(\n",
              "                        'b996d618-a0d8-48e0-81c1-db8c8e21689d',\n",
              "                        [{\"alignmentgroup\": \"True\", \"hoverlabel\": {\"namelength\": 0}, \"hovertemplate\": \"rating=%{x}<br>jp_sales=%{y}\", \"legendgroup\": \"\", \"marker\": {\"color\": \"#636efa\"}, \"name\": \"\", \"offsetgroup\": \"\", \"orientation\": \"v\", \"showlegend\": false, \"textposition\": \"auto\", \"type\": \"bar\", \"x\": [\"E10+\", \"M\", \"E\", \"T\"], \"xaxis\": \"x\", \"y\": [5.889999999999994, 14.10999999999998, 15.139999999999992, 20.58999999999999], \"yaxis\": \"y\"}],\n",
              "                        {\"barmode\": \"relative\", \"legend\": {\"tracegroupgap\": 0}, \"template\": {\"data\": {\"bar\": [{\"error_x\": {\"color\": \"#2a3f5f\"}, \"error_y\": {\"color\": \"#2a3f5f\"}, \"marker\": {\"line\": {\"color\": \"#E5ECF6\", \"width\": 0.5}}, \"type\": \"bar\"}], \"barpolar\": [{\"marker\": {\"line\": {\"color\": \"#E5ECF6\", \"width\": 0.5}}, \"type\": \"barpolar\"}], \"carpet\": [{\"aaxis\": {\"endlinecolor\": \"#2a3f5f\", \"gridcolor\": \"white\", \"linecolor\": \"white\", \"minorgridcolor\": \"white\", \"startlinecolor\": \"#2a3f5f\"}, \"baxis\": {\"endlinecolor\": \"#2a3f5f\", \"gridcolor\": \"white\", \"linecolor\": \"white\", \"minorgridcolor\": \"white\", \"startlinecolor\": \"#2a3f5f\"}, \"type\": \"carpet\"}], \"choropleth\": [{\"colorbar\": {\"outlinewidth\": 0, \"ticks\": \"\"}, \"type\": \"choropleth\"}], \"contour\": [{\"colorbar\": {\"outlinewidth\": 0, \"ticks\": \"\"}, \"colorscale\": [[0.0, \"#0d0887\"], [0.1111111111111111, \"#46039f\"], [0.2222222222222222, \"#7201a8\"], [0.3333333333333333, \"#9c179e\"], [0.4444444444444444, \"#bd3786\"], [0.5555555555555556, \"#d8576b\"], [0.6666666666666666, \"#ed7953\"], [0.7777777777777778, \"#fb9f3a\"], [0.8888888888888888, \"#fdca26\"], [1.0, \"#f0f921\"]], \"type\": \"contour\"}], \"contourcarpet\": [{\"colorbar\": {\"outlinewidth\": 0, \"ticks\": \"\"}, \"type\": \"contourcarpet\"}], \"heatmap\": [{\"colorbar\": {\"outlinewidth\": 0, \"ticks\": \"\"}, \"colorscale\": [[0.0, \"#0d0887\"], [0.1111111111111111, \"#46039f\"], [0.2222222222222222, \"#7201a8\"], [0.3333333333333333, \"#9c179e\"], [0.4444444444444444, \"#bd3786\"], [0.5555555555555556, \"#d8576b\"], [0.6666666666666666, \"#ed7953\"], [0.7777777777777778, \"#fb9f3a\"], [0.8888888888888888, \"#fdca26\"], [1.0, \"#f0f921\"]], \"type\": \"heatmap\"}], \"heatmapgl\": [{\"colorbar\": {\"outlinewidth\": 0, \"ticks\": \"\"}, \"colorscale\": [[0.0, \"#0d0887\"], [0.1111111111111111, \"#46039f\"], [0.2222222222222222, \"#7201a8\"], [0.3333333333333333, \"#9c179e\"], [0.4444444444444444, \"#bd3786\"], [0.5555555555555556, \"#d8576b\"], [0.6666666666666666, \"#ed7953\"], [0.7777777777777778, \"#fb9f3a\"], [0.8888888888888888, \"#fdca26\"], [1.0, \"#f0f921\"]], \"type\": \"heatmapgl\"}], \"histogram\": [{\"marker\": {\"colorbar\": {\"outlinewidth\": 0, \"ticks\": \"\"}}, \"type\": \"histogram\"}], \"histogram2d\": [{\"colorbar\": {\"outlinewidth\": 0, \"ticks\": \"\"}, \"colorscale\": [[0.0, \"#0d0887\"], [0.1111111111111111, \"#46039f\"], [0.2222222222222222, \"#7201a8\"], [0.3333333333333333, \"#9c179e\"], [0.4444444444444444, \"#bd3786\"], [0.5555555555555556, \"#d8576b\"], [0.6666666666666666, \"#ed7953\"], [0.7777777777777778, \"#fb9f3a\"], [0.8888888888888888, \"#fdca26\"], [1.0, \"#f0f921\"]], \"type\": \"histogram2d\"}], \"histogram2dcontour\": [{\"colorbar\": {\"outlinewidth\": 0, \"ticks\": \"\"}, \"colorscale\": [[0.0, \"#0d0887\"], [0.1111111111111111, \"#46039f\"], [0.2222222222222222, \"#7201a8\"], [0.3333333333333333, \"#9c179e\"], [0.4444444444444444, \"#bd3786\"], [0.5555555555555556, \"#d8576b\"], [0.6666666666666666, \"#ed7953\"], [0.7777777777777778, \"#fb9f3a\"], [0.8888888888888888, \"#fdca26\"], [1.0, \"#f0f921\"]], \"type\": \"histogram2dcontour\"}], \"mesh3d\": [{\"colorbar\": {\"outlinewidth\": 0, \"ticks\": \"\"}, \"type\": \"mesh3d\"}], \"parcoords\": [{\"line\": {\"colorbar\": {\"outlinewidth\": 0, \"ticks\": \"\"}}, \"type\": \"parcoords\"}], \"pie\": [{\"automargin\": true, \"type\": \"pie\"}], \"scatter\": [{\"marker\": {\"colorbar\": {\"outlinewidth\": 0, \"ticks\": \"\"}}, \"type\": \"scatter\"}], \"scatter3d\": [{\"line\": {\"colorbar\": {\"outlinewidth\": 0, \"ticks\": \"\"}}, \"marker\": {\"colorbar\": {\"outlinewidth\": 0, \"ticks\": \"\"}}, \"type\": \"scatter3d\"}], \"scattercarpet\": [{\"marker\": {\"colorbar\": {\"outlinewidth\": 0, \"ticks\": \"\"}}, \"type\": \"scattercarpet\"}], \"scattergeo\": [{\"marker\": {\"colorbar\": {\"outlinewidth\": 0, \"ticks\": \"\"}}, \"type\": \"scattergeo\"}], \"scattergl\": [{\"marker\": {\"colorbar\": {\"outlinewidth\": 0, \"ticks\": \"\"}}, \"type\": \"scattergl\"}], \"scattermapbox\": [{\"marker\": {\"colorbar\": {\"outlinewidth\": 0, \"ticks\": \"\"}}, \"type\": \"scattermapbox\"}], \"scatterpolar\": [{\"marker\": {\"colorbar\": {\"outlinewidth\": 0, \"ticks\": \"\"}}, \"type\": \"scatterpolar\"}], \"scatterpolargl\": [{\"marker\": {\"colorbar\": {\"outlinewidth\": 0, \"ticks\": \"\"}}, \"type\": \"scatterpolargl\"}], \"scatterternary\": [{\"marker\": {\"colorbar\": {\"outlinewidth\": 0, \"ticks\": \"\"}}, \"type\": \"scatterternary\"}], \"surface\": [{\"colorbar\": {\"outlinewidth\": 0, \"ticks\": \"\"}, \"colorscale\": [[0.0, \"#0d0887\"], [0.1111111111111111, \"#46039f\"], [0.2222222222222222, \"#7201a8\"], [0.3333333333333333, \"#9c179e\"], [0.4444444444444444, \"#bd3786\"], [0.5555555555555556, \"#d8576b\"], [0.6666666666666666, \"#ed7953\"], [0.7777777777777778, \"#fb9f3a\"], [0.8888888888888888, \"#fdca26\"], [1.0, \"#f0f921\"]], \"type\": \"surface\"}], \"table\": [{\"cells\": {\"fill\": {\"color\": \"#EBF0F8\"}, \"line\": {\"color\": \"white\"}}, \"header\": {\"fill\": {\"color\": \"#C8D4E3\"}, \"line\": {\"color\": \"white\"}}, \"type\": \"table\"}]}, \"layout\": {\"annotationdefaults\": {\"arrowcolor\": \"#2a3f5f\", \"arrowhead\": 0, \"arrowwidth\": 1}, \"coloraxis\": {\"colorbar\": {\"outlinewidth\": 0, \"ticks\": \"\"}}, \"colorscale\": {\"diverging\": [[0, \"#8e0152\"], [0.1, \"#c51b7d\"], [0.2, \"#de77ae\"], [0.3, \"#f1b6da\"], [0.4, \"#fde0ef\"], [0.5, \"#f7f7f7\"], [0.6, \"#e6f5d0\"], [0.7, \"#b8e186\"], [0.8, \"#7fbc41\"], [0.9, \"#4d9221\"], [1, \"#276419\"]], \"sequential\": [[0.0, \"#0d0887\"], [0.1111111111111111, \"#46039f\"], [0.2222222222222222, \"#7201a8\"], [0.3333333333333333, \"#9c179e\"], [0.4444444444444444, \"#bd3786\"], [0.5555555555555556, \"#d8576b\"], [0.6666666666666666, \"#ed7953\"], [0.7777777777777778, \"#fb9f3a\"], [0.8888888888888888, \"#fdca26\"], [1.0, \"#f0f921\"]], \"sequentialminus\": [[0.0, \"#0d0887\"], [0.1111111111111111, \"#46039f\"], [0.2222222222222222, \"#7201a8\"], [0.3333333333333333, \"#9c179e\"], [0.4444444444444444, \"#bd3786\"], [0.5555555555555556, \"#d8576b\"], [0.6666666666666666, \"#ed7953\"], [0.7777777777777778, \"#fb9f3a\"], [0.8888888888888888, \"#fdca26\"], [1.0, \"#f0f921\"]]}, \"colorway\": [\"#636efa\", \"#EF553B\", \"#00cc96\", \"#ab63fa\", \"#FFA15A\", \"#19d3f3\", \"#FF6692\", \"#B6E880\", \"#FF97FF\", \"#FECB52\"], \"font\": {\"color\": \"#2a3f5f\"}, \"geo\": {\"bgcolor\": \"white\", \"lakecolor\": \"white\", \"landcolor\": \"#E5ECF6\", \"showlakes\": true, \"showland\": true, \"subunitcolor\": \"white\"}, \"hoverlabel\": {\"align\": \"left\"}, \"hovermode\": \"closest\", \"mapbox\": {\"style\": \"light\"}, \"paper_bgcolor\": \"white\", \"plot_bgcolor\": \"#E5ECF6\", \"polar\": {\"angularaxis\": {\"gridcolor\": \"white\", \"linecolor\": \"white\", \"ticks\": \"\"}, \"bgcolor\": \"#E5ECF6\", \"radialaxis\": {\"gridcolor\": \"white\", \"linecolor\": \"white\", \"ticks\": \"\"}}, \"scene\": {\"xaxis\": {\"backgroundcolor\": \"#E5ECF6\", \"gridcolor\": \"white\", \"gridwidth\": 2, \"linecolor\": \"white\", \"showbackground\": true, \"ticks\": \"\", \"zerolinecolor\": \"white\"}, \"yaxis\": {\"backgroundcolor\": \"#E5ECF6\", \"gridcolor\": \"white\", \"gridwidth\": 2, \"linecolor\": \"white\", \"showbackground\": true, \"ticks\": \"\", \"zerolinecolor\": \"white\"}, \"zaxis\": {\"backgroundcolor\": \"#E5ECF6\", \"gridcolor\": \"white\", \"gridwidth\": 2, \"linecolor\": \"white\", \"showbackground\": true, \"ticks\": \"\", \"zerolinecolor\": \"white\"}}, \"shapedefaults\": {\"line\": {\"color\": \"#2a3f5f\"}}, \"ternary\": {\"aaxis\": {\"gridcolor\": \"white\", \"linecolor\": \"white\", \"ticks\": \"\"}, \"baxis\": {\"gridcolor\": \"white\", \"linecolor\": \"white\", \"ticks\": \"\"}, \"bgcolor\": \"#E5ECF6\", \"caxis\": {\"gridcolor\": \"white\", \"linecolor\": \"white\", \"ticks\": \"\"}}, \"title\": {\"x\": 0.05}, \"xaxis\": {\"automargin\": true, \"gridcolor\": \"white\", \"linecolor\": \"white\", \"ticks\": \"\", \"title\": {\"standoff\": 15}, \"zerolinecolor\": \"white\", \"zerolinewidth\": 2}, \"yaxis\": {\"automargin\": true, \"gridcolor\": \"white\", \"linecolor\": \"white\", \"ticks\": \"\", \"title\": {\"standoff\": 15}, \"zerolinecolor\": \"white\", \"zerolinewidth\": 2}}}, \"title\": {\"text\": \"\\u0417\\u0430\\u0432\\u0438\\u0441\\u0438\\u043c\\u043e\\u0441\\u0442\\u044c \\u043f\\u0440\\u043e\\u0434\\u0430\\u0436 \\u0438\\u0433\\u0440 \\u0432 \\u042f\\u043f\\u043e\\u043d\\u0438\\u0438 \\u043e\\u0442 \\u0440\\u0435\\u0439\\u0442\\u0438\\u043d\\u0433\\u0430 ESRB\"}, \"xaxis\": {\"anchor\": \"y\", \"domain\": [0.0, 1.0], \"title\": {\"text\": \"rating\"}}, \"yaxis\": {\"anchor\": \"x\", \"domain\": [0.0, 1.0], \"title\": {\"text\": \"jp_sales\"}}},\n",
              "                        {\"responsive\": true}\n",
              "                    ).then(function(){\n",
              "                            \n",
              "var gd = document.getElementById('b996d618-a0d8-48e0-81c1-db8c8e21689d');\n",
              "var x = new MutationObserver(function (mutations, observer) {{\n",
              "        var display = window.getComputedStyle(gd).display;\n",
              "        if (!display || display === 'none') {{\n",
              "            console.log([gd, 'removed!']);\n",
              "            Plotly.purge(gd);\n",
              "            observer.disconnect();\n",
              "        }}\n",
              "}});\n",
              "\n",
              "// Listen for the removal of the full notebook cells\n",
              "var notebookContainer = gd.closest('#notebook-container');\n",
              "if (notebookContainer) {{\n",
              "    x.observe(notebookContainer, {childList: true});\n",
              "}}\n",
              "\n",
              "// Listen for the clearing of the current output cell\n",
              "var outputEl = gd.closest('.output');\n",
              "if (outputEl) {{\n",
              "    x.observe(outputEl, {childList: true});\n",
              "}}\n",
              "\n",
              "                        })\n",
              "                };\n",
              "                });\n",
              "            </script>\n",
              "        </div>"
            ]
          },
          "metadata": {
            "tags": []
          }
        }
      ]
    },
    {
      "cell_type": "markdown",
      "metadata": {
        "id": "fUHIrhLJz9FN"
      },
      "source": [
        "Что в Северной Америке, что в Европе бОльшей популярностью пользуются игры с рейтингом M (17+). Минимальные продажи у игр с рейтингом T\n",
        "\n",
        "Картина в Японии противоположна - что в Европе и Америке наименее популярно, в Японии имеет успех - 20 млн. копий было продано игр с рейтингом T (13+)\n",
        "\n",
        "Стоить заметить, что многие проданные копии в Японии не имели рейтинга ESRB"
      ]
    },
    {
      "cell_type": "markdown",
      "metadata": {
        "id": "UggKldUl74g5"
      },
      "source": [
        "### Вывод"
      ]
    },
    {
      "cell_type": "markdown",
      "metadata": {
        "id": "ZnsK7Gbt77Re"
      },
      "source": [
        "Какой портрет получился:\n",
        "* Северная Америка - играет на PS4/XOne в Action/Shooter с рейтингом M (17+)\n",
        "* Европа - играет на PS4 в Action/Shooter с рейтингом M (17+)\n",
        "* Япония - играет на 3DS в Role-playing/Action с рейтингом T(13+)"
      ]
    },
    {
      "cell_type": "markdown",
      "metadata": {
        "id": "65_ka3q6w6lf"
      },
      "source": [
        "## Проверка гипотез"
      ]
    },
    {
      "cell_type": "markdown",
      "metadata": {
        "id": "qwNm_0xzw9Mu"
      },
      "source": [
        "### Средние пользовательские рейтинги платформ Xbox One и PC одинаковые"
      ]
    },
    {
      "cell_type": "markdown",
      "metadata": {
        "id": "er_SJgecL6UY"
      },
      "source": [
        "* Нулевой гипотезой (H0) будет гипотеза о том, что средние пользовательские рейтинги платформ Xbox One и PC **равны**.\n",
        "* Альтернативной гипотезой (H1) - средние **различаются**\n",
        "\n",
        "Будем использовать метод scipy.stats.ttest_ind(), так как мы берем независимые выборки из одной генеральной совокупности. Еще укажем параметр equal_var=False, потому что дисперсии наших выборок отличаются.\n",
        "\n",
        "Критический уровень значимости зададим 0.05."
      ]
    },
    {
      "cell_type": "code",
      "metadata": {
        "colab": {
          "base_uri": "https://localhost:8080/"
        },
        "id": "z-ng07ZSjRXB",
        "outputId": "3f5f52e1-1fce-4dcf-ae89-799daff6e506"
      },
      "source": [
        "rating_xone = df.query('platform == \"XOne\" and user_score == user_score')['user_score']\n",
        "rating_pc = df.query('platform == \"PC\" and user_score == user_score')['user_score']\n",
        "\n",
        "alpha = 0.05\n",
        "results = st.ttest_ind(rating_xone, rating_pc, equal_var = False)\n",
        "print('p-value:', results.pvalue)\n",
        "\n",
        "if (results.pvalue < alpha):\n",
        "    print(\"Отвергаем нулевую гипотезу\")\n",
        "else:\n",
        "    print('Не получилось отвергнуть нулевую гипотезу')"
      ],
      "execution_count": 41,
      "outputs": [
        {
          "output_type": "stream",
          "text": [
            "p-value: 0.14759594013430463\n",
            "Не получилось отвергнуть нулевую гипотезу\n"
          ],
          "name": "stdout"
        }
      ]
    },
    {
      "cell_type": "markdown",
      "metadata": {
        "id": "FbVu6UsXWNcD"
      },
      "source": [
        "**Вывод**\n",
        "\n",
        "P-value у нас 0.14, значит мы не можем отвергнуть нулевую гипотезу, из которой следует, что средние пользовательские рейтинги платформ Xbox One и PC равны\n",
        "\n",
        "Соответственно, альтернативную гипотезу мы отвергаем"
      ]
    },
    {
      "cell_type": "markdown",
      "metadata": {
        "id": "2Y5kuyhyxAM6"
      },
      "source": [
        "### Средние пользовательские рейтинги жанров Action и Sports разные"
      ]
    },
    {
      "cell_type": "markdown",
      "metadata": {
        "id": "uF-8YPNhO-Ev"
      },
      "source": [
        "* Нулевой гипотезой (H0) будет гипотеза о том, что средние пользовательские рейтинги жанров Action и Sports **равны**.\n",
        "* Альтернативной гипотезой (H1) - средние **различаются**\n",
        "\n",
        "Будем использовать метод scipy.stats.ttest_ind(), так как мы берем независимые выборки из одной генеральной совокупности. Еще укажем параметр equal_var=False, потому что дисперсии наших выборок отличаются.\n",
        "\n",
        "Критический уровень значимости зададим 0.05."
      ]
    },
    {
      "cell_type": "code",
      "metadata": {
        "colab": {
          "base_uri": "https://localhost:8080/"
        },
        "id": "tWuhPOpjPBla",
        "outputId": "988023b8-bf69-487d-bc0d-3bd670803c41"
      },
      "source": [
        "rating_action = df.query('genre == \"Action\" and user_score == user_score')['user_score']\n",
        "rating_sports = df.query('genre == \"Sports\" and user_score == user_score')['user_score']\n",
        "\n",
        "alpha = 0.05\n",
        "results = st.ttest_ind(rating_action, rating_sports, equal_var = False)\n",
        "print('p-value:', results.pvalue)\n",
        "\n",
        "if (results.pvalue < alpha):\n",
        "    print(\"Отвергаем нулевую гипотезу\")\n",
        "else:\n",
        "    print('Не получилось отвергнуть нулевую гипотезу')"
      ],
      "execution_count": 42,
      "outputs": [
        {
          "output_type": "stream",
          "text": [
            "p-value: 1.4460039700704315e-20\n",
            "Отвергаем нулевую гипотезу\n"
          ],
          "name": "stdout"
        }
      ]
    },
    {
      "cell_type": "markdown",
      "metadata": {
        "id": "jc0U4OFcV76a"
      },
      "source": [
        "**Вывод**\n",
        "\n",
        "Нулевой гипотезой была гипотеза о равенстве средних наших выборок, мы ее отвергнули, значит средние пользовательские рейтинги жанров Action и Sports неравны"
      ]
    },
    {
      "cell_type": "markdown",
      "metadata": {
        "id": "qfTrKkfj6l0s"
      },
      "source": [
        "# Общий вывод"
      ]
    },
    {
      "cell_type": "markdown",
      "metadata": {
        "id": "zkzaFNW76l0s"
      },
      "source": [
        "*Вам нужно выявить определяющие успешность игры закономерности. Это позволит сделать ставку на потенциально популярный продукт и спланировать рекламные кампании.*\n",
        "\n",
        "**Закономерности, определяющие успешность игры:**\n",
        "1. **Рейтинг**. Если собираемся выходить на Европейский или Северо-американский рынки, то выпускаем игру с рейтингом M (17+). В Японию - игра с рейтингом T (13+)\n",
        "2. **Платформа**. Европа/С.А. - однозначно PS4/XOne. Они сейчас (в 2016г.) в самом соку. PS3/X360 пока что тоже популярны, но уже стремильно стареют ввиду неактуальности, поэтому на них лучше не ориентироваться. Для Японии будем выпускать на 3DS\n",
        "3. **Жанр игры**. Action наиболее прибыльный жанр и с большой долей вероятности будет наиболее популярен - он в лидерах и в Европе, и в Северной Америке, и в Японии.\n",
        "4. **Оценка критиков**. Подкупаем критиков и получаем хорошие продажи, на пользовательский рейтинг можно не тратиться, он не влияет на продажи\n",
        "5. **Консоль**. Перспективные консоли на 2017 год - PS4, XOne, 3DS\n",
        "\n",
        "**Ход работы:**\n",
        "1. Прочитали и сохранили данные.\n",
        "2. Выполнили предобработку данных.\n",
        "3. Провели исследовательский анализ данных - изучили факторы, которые могут повлиять на успешность игры.\n",
        "4. Проверили наши гипотезы.\n",
        "5. Общий вывод."
      ]
    }
  ]
}